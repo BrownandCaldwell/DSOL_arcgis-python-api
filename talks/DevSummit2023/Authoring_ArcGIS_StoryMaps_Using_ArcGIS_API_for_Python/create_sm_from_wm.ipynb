{
 "cells": [
  {
   "cell_type": "code",
   "execution_count": null,
   "id": "386ce68e",
   "metadata": {},
   "outputs": [],
   "source": [
    "import os\n",
    "from pathlib import Path\n",
    "\n",
    "from arcgis.apps.storymap import StoryMap, Map, Image, Text, Gallery, Scales\n",
    "from arcgis.gis import GIS"
   ]
  },
  {
   "cell_type": "code",
   "execution_count": null,
   "id": "27da2795",
   "metadata": {},
   "outputs": [],
   "source": [
    "gis = GIS(profile=\"your_profile\")"
   ]
  },
  {
   "cell_type": "markdown",
   "id": "9a735ba9",
   "metadata": {},
   "source": [
    "### Initialize empty StoryMap object"
   ]
  },
  {
   "cell_type": "code",
   "execution_count": null,
   "id": "a112375e",
   "metadata": {},
   "outputs": [],
   "source": [
    "new_story = StoryMap()"
   ]
  },
  {
   "cell_type": "markdown",
   "id": "2607d92f",
   "metadata": {},
   "source": [
    "### Get Web Map item"
   ]
  },
  {
   "cell_type": "code",
   "execution_count": null,
   "id": "7b7e0f8b",
   "metadata": {},
   "outputs": [],
   "source": [
    "map_item = gis.content.get(\"your_webmap_id\")\n",
    "map_item"
   ]
  },
  {
   "cell_type": "markdown",
   "id": "595408c0",
   "metadata": {},
   "source": [
    "### Add Map node to StoryMap"
   ]
  },
  {
   "cell_type": "code",
   "execution_count": null,
   "id": "f5f8ff20",
   "metadata": {},
   "outputs": [],
   "source": [
    "map_sm_obj = Map(map_item)\n",
    "map_sm_obj"
   ]
  },
  {
   "cell_type": "code",
   "execution_count": null,
   "id": "31b081f8",
   "metadata": {},
   "outputs": [],
   "source": [
    "map_node = new_story.add(content=map_sm_obj, caption=f\"Map of terrain in CA.\")\n",
    "map_node"
   ]
  },
  {
   "cell_type": "markdown",
   "id": "931eb737",
   "metadata": {},
   "source": [
    "#### Set the extent for map"
   ]
  },
  {
   "cell_type": "code",
   "execution_count": null,
   "id": "b15f01f7",
   "metadata": {},
   "outputs": [],
   "source": [
    "ca_extent = {\"xmin\":-14098656.993144,\n",
    "             \"ymin\":3842522.853096,\n",
    "             \"xmax\":-12543010.593484,\n",
    "             \"ymax\":5256063.262545,\n",
    "             \"spatialReference\":{\"latestWkid\":3857, \"wkid\":102100}}\n",
    "\n",
    "map_sm_obj.set_viewpoint(extent=ca_extent, \n",
    "                         scale=Scales.STATE)"
   ]
  },
  {
   "cell_type": "markdown",
   "id": "73ebd67c",
   "metadata": {},
   "source": [
    "### Add Gallery node to StoryMap"
   ]
  },
  {
   "cell_type": "markdown",
   "id": "94e914dd",
   "metadata": {},
   "source": [
    "#### Assign variable to a directory of Images"
   ]
  },
  {
   "cell_type": "code",
   "execution_count": null,
   "id": "47bc8390",
   "metadata": {},
   "outputs": [],
   "source": [
    "img_dir = Path(r\"/path/to/your/images/\")"
   ]
  },
  {
   "cell_type": "markdown",
   "id": "9fc38e75",
   "metadata": {},
   "source": [
    "#### Intialize Empty gallery object and add it to StoryMap"
   ]
  },
  {
   "cell_type": "code",
   "execution_count": null,
   "id": "3e677afc",
   "metadata": {},
   "outputs": [],
   "source": [
    "img_gallery_obj = Gallery()\n",
    "new_story.add(content=img_gallery_obj, caption=\"Various images of California scenes\")"
   ]
  },
  {
   "cell_type": "markdown",
   "id": "93added1",
   "metadata": {},
   "source": [
    "#### Create a list of Image objects to add to gallery"
   ]
  },
  {
   "cell_type": "code",
   "execution_count": null,
   "id": "ae17acb0",
   "metadata": {},
   "outputs": [],
   "source": [
    "imgs_list = []\n",
    "for root, dirs, files in os.walk(img_dir):\n",
    "    for file in [f for f in files if not \"forest\" in f]:\n",
    "        img_node = Image(path=(os.path.join(img_dir, file)))\n",
    "        imgs_list.append(img_node)"
   ]
  },
  {
   "cell_type": "code",
   "execution_count": null,
   "id": "d887e2d9",
   "metadata": {},
   "outputs": [],
   "source": [
    "type(imgs_list[0])"
   ]
  },
  {
   "cell_type": "code",
   "execution_count": null,
   "id": "b1f6a438",
   "metadata": {},
   "outputs": [],
   "source": [
    "img_gallery_obj.add_images(images=imgs_list)"
   ]
  },
  {
   "cell_type": "markdown",
   "id": "35a0d623",
   "metadata": {},
   "source": [
    "### Add Text node to StoryMap"
   ]
  },
  {
   "cell_type": "code",
   "execution_count": null,
   "id": "ee7e9e1d",
   "metadata": {},
   "outputs": [],
   "source": [
    "story_text = Text(text=f\"Initial Text to demonstrate authoring a StoryMap with Python API.\",\n",
    "                  custom_color=\"355e3b\")"
   ]
  },
  {
   "cell_type": "code",
   "execution_count": null,
   "id": "3325c15f",
   "metadata": {},
   "outputs": [],
   "source": [
    "text_node = new_story.add(content=story_text, caption=f\"Text for California story map.\")\n",
    "text_node"
   ]
  },
  {
   "cell_type": "markdown",
   "id": "4a1ad9ba",
   "metadata": {},
   "source": [
    "###  Add Cover"
   ]
  },
  {
   "cell_type": "code",
   "execution_count": null,
   "id": "1e1a8fe8",
   "metadata": {},
   "outputs": [],
   "source": [
    "cover_img = \"/path/to/your/cover/image.jpg\"\n",
    "cover_img_node = Image(path=cover_img)"
   ]
  },
  {
   "cell_type": "code",
   "execution_count": null,
   "id": "dd37a440",
   "metadata": {},
   "outputs": [],
   "source": [
    "new_story.cover(title=\"California\",\n",
    "                summary=\"Interesting data about The Golden State.\",\n",
    "                image=cover_img_node)"
   ]
  },
  {
   "cell_type": "markdown",
   "id": "36161340",
   "metadata": {},
   "source": [
    "### Save StoryMap"
   ]
  },
  {
   "cell_type": "code",
   "execution_count": null,
   "id": "7c237e7a",
   "metadata": {},
   "outputs": [],
   "source": [
    "ns = new_story.save(title=f\"California Demo\",\n",
    "                    tags=f\"USA, CA, administrative boundary\",\n",
    "                    access=\"org\",\n",
    "                    publish=False)\n",
    "print(f\"......{ns.title} StoryMap item created\")"
   ]
  },
  {
   "cell_type": "markdown",
   "id": "691d7b8d",
   "metadata": {},
   "source": [
    "### Examine Item"
   ]
  },
  {
   "cell_type": "code",
   "execution_count": null,
   "id": "f2ad37ac",
   "metadata": {},
   "outputs": [],
   "source": [
    "ns"
   ]
  },
  {
   "cell_type": "code",
   "execution_count": null,
   "id": "1a5128a5",
   "metadata": {},
   "outputs": [],
   "source": []
  }
 ],
 "metadata": {
  "kernelspec": {
   "display_name": "Python 3 (ipykernel)",
   "language": "python",
   "name": "python3"
  },
  "language_info": {
   "codemirror_mode": {
    "name": "ipython",
    "version": 3
   },
   "file_extension": ".py",
   "mimetype": "text/x-python",
   "name": "python",
   "nbconvert_exporter": "python",
   "pygments_lexer": "ipython3",
   "version": "3.7.16"
  }
 },
 "nbformat": 4,
 "nbformat_minor": 5
}
