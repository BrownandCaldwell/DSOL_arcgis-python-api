{
 "cells": [
  {
   "cell_type": "markdown",
   "id": "ddf6607b",
   "metadata": {},
   "source": [
    "### Import Libraries"
   ]
  },
  {
   "cell_type": "code",
   "execution_count": 3,
   "id": "a91dba4e",
   "metadata": {},
   "outputs": [],
   "source": [
    "from pathlib import Path\n",
    "\n",
    "from arcgis.apps.storymap import StoryMap, Map, Image, Text, Scales\n",
    "from arcgis.gis import GIS"
   ]
  },
  {
   "cell_type": "markdown",
   "id": "af6acae9",
   "metadata": {},
   "source": [
    "### Connect to GIS"
   ]
  },
  {
   "cell_type": "code",
   "execution_count": 4,
   "id": "c84cd925",
   "metadata": {},
   "outputs": [],
   "source": [
    "gis = GIS(profile=\"your_profile\")"
   ]
  },
  {
   "cell_type": "markdown",
   "id": "af9be39e",
   "metadata": {},
   "source": [
    "### Find the Feature Layer Collection item\n",
    "A Feature Layer Collection of utility-scale wind turbines in the United States"
   ]
  },
  {
   "cell_type": "code",
   "execution_count": 5,
   "id": "b58c249f",
   "metadata": {},
   "outputs": [
    {
     "data": {
      "text/html": [
       "<div class=\"item_container\" style=\"height: auto; overflow: hidden; border: 1px solid #cfcfcf; border-radius: 2px; background: #f6fafa; line-height: 1.21429em; padding: 10px;\">\n",
       "                    <div class=\"item_left\" style=\"width: 210px; float: left;\">\n",
       "                       <a href='https://geosaurus.maps.arcgis.com/home/item.html?id=66b4006b2a9b467d8eb8524ef9b4ee70' target='_blank'>\n",
       "                        <img src='data:image/png;base64,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' width='200' height='133' class=\"itemThumbnail\">\n",
       "                       </a>\n",
       "                    </div>\n",
       "\n",
       "                    <div class=\"item_right\"     style=\"float: none; width: auto; overflow: hidden;\">\n",
       "                        <a href='https://geosaurus.maps.arcgis.com/home/item.html?id=66b4006b2a9b467d8eb8524ef9b4ee70' target='_blank'><b>US_Wind_Turbine_Locations</b>\n",
       "                        </a>\n",
       "                        <br/>The United States Wind Turbine Database (USWTDB) provides the locations of land-based and offshore wind turbines in the United States, corresponding wind project information, and turbine technical specifications. Wind turbine records are collected and compiled from various public and private sources, digitized and position-verified from aerial imagery, and quality checked.<img src='https://geosaurus.maps.arcgis.com/home/js/jsapi/esri/css/images/item_type_icons/featureshosted16.png' style=\"vertical-align:middle;\">Feature Layer Collection by jyaist_geosaurus\n",
       "                        <br/>Last Modified: February 28, 2023\n",
       "                        <br/>0 comments, 112 views\n",
       "                    </div>\n",
       "                </div>\n",
       "                "
      ],
      "text/plain": [
       "<Item title:\"US_Wind_Turbine_Locations\" type:Feature Layer Collection owner:jyaist_geosaurus>"
      ]
     },
     "execution_count": 5,
     "metadata": {},
     "output_type": "execute_result"
    }
   ],
   "source": [
    "wind_item = gis.content.search(\"Wind*\", \"Feature Layer\")[0]\n",
    "wind_item"
   ]
  },
  {
   "cell_type": "markdown",
   "id": "4bf81fa5",
   "metadata": {},
   "source": [
    "### Get the Feature Layer from the item "
   ]
  },
  {
   "cell_type": "code",
   "execution_count": 6,
   "id": "9d894e4d",
   "metadata": {},
   "outputs": [],
   "source": [
    "us_wind_layer = wind_item.layers[0]"
   ]
  },
  {
   "cell_type": "code",
   "execution_count": 7,
   "id": "f14ce260",
   "metadata": {},
   "outputs": [
    {
     "name": "stdout",
     "output_type": "stream",
     "text": [
      "The US_Wind_Turbine_Locations has 70808 features\n"
     ]
    }
   ],
   "source": [
    "print(f\"The {us_wind_layer.properties.name} has {us_wind_layer.query(return_count_only=True)} features\")"
   ]
  },
  {
   "cell_type": "markdown",
   "id": "d7684840",
   "metadata": {},
   "source": [
    "### Query the layer to get a DataFrame to retrieve a list of unique values in a field\n",
    "In this case, a list of the states in the United States that have utility scale wind turbines"
   ]
  },
  {
   "cell_type": "code",
   "execution_count": 8,
   "id": "bcab5b40",
   "metadata": {},
   "outputs": [],
   "source": [
    "us_wind_df = us_wind_layer.query(where=\"1=1\", as_df=True)"
   ]
  },
  {
   "cell_type": "code",
   "execution_count": 9,
   "id": "77a45558",
   "metadata": {},
   "outputs": [],
   "source": [
    "state_list = list(us_wind_df.t_state.unique())"
   ]
  },
  {
   "cell_type": "code",
   "execution_count": 10,
   "id": "d81a4fbc",
   "metadata": {},
   "outputs": [
    {
     "name": "stdout",
     "output_type": "stream",
     "text": [
      "CA   IA   MA   OH   MN   \n",
      "IL   NE   WY   KS   NC   \n",
      "PA   OK   ND   SD   TX   \n",
      "NM   NH   MI   NY   IN   \n",
      "NJ   WA   MT   OR   CO   \n",
      "WV   HI   PR   AK   AR   \n",
      "ME   WI   RI   MO   VT   \n",
      "UT   ID   TN   VA   MD   \n",
      "AZ   GU   CT   NV   DE   \n",
      "FL\n"
     ]
    }
   ],
   "source": [
    "for a,b,c,d,e in zip(state_list[::5], state_list[1::5], state_list[2::5],state_list[3::5],state_list[4::5]):\n",
    "    print(f\"{a:5}{b:5}{c:5}{d:5}{e:5}\")\n",
    "print(f\"{state_list[45]}\")"
   ]
  },
  {
   "cell_type": "markdown",
   "id": "14202e41",
   "metadata": {},
   "source": [
    "### Use the list of States to:\n",
    "* create a hosted feature layer item of turbines in that state\n",
    "* create a Web Map item with that layer\n",
    "* create a StoryMap about Wind Turbines in that state"
   ]
  },
  {
   "cell_type": "code",
   "execution_count": 11,
   "id": "c05d0d04",
   "metadata": {},
   "outputs": [
    {
     "name": "stdout",
     "output_type": "stream",
     "text": [
      "..CA_wind_turbines Feature Layer Collection item created\n",
      "....CA_wind_turbines Web map item created\n",
      "......Wind Turbines in CA StoryMap item created\n",
      "\n",
      "\n",
      "..IA_wind_turbines Feature Layer Collection item created\n",
      "....IA_wind_turbines Web map item created\n",
      "......Wind Turbines in IA StoryMap item created\n",
      "\n",
      "\n",
      "..MA_wind_turbines Feature Layer Collection item created\n",
      "....MA_wind_turbines Web map item created\n",
      "......Wind Turbines in MA StoryMap item created\n",
      "\n",
      "\n",
      "..OH_wind_turbines Feature Layer Collection item created\n",
      "....OH_wind_turbines Web map item created\n",
      "......Wind Turbines in OH StoryMap item created\n",
      "\n",
      "\n",
      "..MN_wind_turbines Feature Layer Collection item created\n",
      "....MN_wind_turbines Web map item created\n",
      "......Wind Turbines in MN StoryMap item created\n",
      "\n",
      "\n"
     ]
    }
   ],
   "source": [
    "# Assign a variable to a Path containing images for use as thumbnails\n",
    "img_dir = Path(r\"/path/to/your/image/directory\" # change this to a directory you will use that has images\n",
    "if not \"uswtb_data\" in [f[\"title\"] for f in gis.users.me.folders]:\n",
    "    gis.content.create_folder(\"uswtb_data\")\n",
    "else:\n",
    "    pass\n",
    "\n",
    "for st in state_list[:5]:\n",
    "    # create individual state wind turbine feature layer from entire US wind turbine feature layer\n",
    "    new_df = us_wind_layer.query(where=f\"t_state = '{st}'\", as_df=True)\n",
    "    st_flyr = new_df.spatial.to_featurelayer(title=f\"{st}_wind_turbines\",\n",
    "                                             tags=\"uswtb_db,wind,energy\",\n",
    "                                             folder=\"uswtb_data\",\n",
    "                                             service_name=f\"{st}_uswtb_data\")\n",
    "    print(f\"..{st_flyr.title} Feature Layer Collection item created\")\n",
    "    # create individual state web map of wind turbines\n",
    "    m = gis.map()\n",
    "    m.add_layer(st_flyr)\n",
    "    m.extent = st_flyr.extent\n",
    "    map_item = m.save(item_properties={\"title\":f\"{st}_wind_turbines\",\n",
    "                                       \"tags\":\"uswtb,wind energy,utility-scale\",\n",
    "                                       \"snippet\":f\"Wind turbines from the USWTB database in {st}\",\n",
    "                                       \"summary\":f\"Wind turbines from the USWTB database in {st}\",\n",
    "                                       \"description\":\"Downloaded from https://eerscmap.usgs.gov/uswtdb/data/\"},\n",
    "                      folder=\"uswtb_data\")\n",
    "    print(f\"....{map_item.title} Web map item created\")\n",
    "    # initialize brand new StoryMap object\n",
    "    new_story = StoryMap()\n",
    "    # initialize storymap module Map object\n",
    "    story_map = Map(map_item.id)\n",
    "    # assign variable for image name\n",
    "    img_name = f\"{st.lower()}_wtb.jpg\" #change this to match the name of your image\n",
    "    # initialize storymap module Image object\n",
    "    story_image = Image(path=str(img_dir / img_name))\n",
    "    # initialize storymap module Text object\n",
    "    story_text = Text(text=f\"Initial Text to demonstrate a StoryMap for {st} Wind Turbines.\",\n",
    "                      custom_color=\"355e3b\")\n",
    "    # add map node to storymap\n",
    "    map_node = new_story.add(content=story_map, caption=f\"Map of {st} wind turbines.\")\n",
    "    story_map.set_viewpoint(extent=st_flyr.extent, scale=Scales.STATE)\n",
    "    # add image node to storymap\n",
    "    img_node = new_story.add(content=story_image, caption=f\"Wind farm in {st}\")\n",
    "    # add text node to storymap\n",
    "    text_node = new_story.add(content=story_text, caption=f\"Text for {st} story map.\")\n",
    "    # assign variable for storymap cover image\n",
    "    cover_img_name = f\"{st.lower()}_windscapes.jpg\"\n",
    "    # add image as storymap cover\n",
    "    new_story.cover(title=f\"{st} Wind Turbines\",\n",
    "                    summary=\"States lead the way on alternative energy.\",\n",
    "                    image=Image(path=str(img_dir / cover_img_name)))\n",
    "    # save the storymap\n",
    "    ns = new_story.save(title=f\"Wind Turbines in {st}\",\n",
    "                        tags=f\"wind energy,uswtb database,USGS data,{st}\",\n",
    "                        access=\"org\",\n",
    "                        publish=False)\n",
    "    print(f\"......{ns.title} StoryMap item created\")\n",
    "    print(\"\\n\")"
   ]
  }
 ],
 "metadata": {
  "kernelspec": {
   "display_name": "Python 3 (ipykernel)",
   "language": "python",
   "name": "python3"
  },
  "language_info": {
   "codemirror_mode": {
    "name": "ipython",
    "version": 3
   },
   "file_extension": ".py",
   "mimetype": "text/x-python",
   "name": "python",
   "nbconvert_exporter": "python",
   "pygments_lexer": "ipython3",
   "version": "3.7.16"
  }
 },
 "nbformat": 4,
 "nbformat_minor": 5
}
