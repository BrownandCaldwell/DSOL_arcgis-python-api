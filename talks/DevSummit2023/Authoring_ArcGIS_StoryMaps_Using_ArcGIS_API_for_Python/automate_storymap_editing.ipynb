{
 "cells": [
  {
   "cell_type": "markdown",
   "id": "46cff3aa",
   "metadata": {},
   "source": [
    "# Automation StoryMap Editing"
   ]
  },
  {
   "cell_type": "markdown",
   "id": "1fe9a171",
   "metadata": {},
   "source": [
    "### Import Libraries"
   ]
  },
  {
   "cell_type": "code",
   "execution_count": null,
   "id": "6a2d9258",
   "metadata": {},
   "outputs": [],
   "source": [
    "from arcgis.gis import GIS\n",
    "from arcgis.apps.storymap import Image, StoryMap, Text, TextStyles\n",
    "from arcgis.apps.storymap.story_content import Scales"
   ]
  },
  {
   "cell_type": "code",
   "execution_count": null,
   "id": "504a5856",
   "metadata": {},
   "outputs": [],
   "source": [
    "import json\n",
    "import copy\n",
    "import numpy as np\n",
    "import pandas as pd"
   ]
  },
  {
   "cell_type": "code",
   "execution_count": null,
   "id": "89a94987",
   "metadata": {},
   "outputs": [],
   "source": [
    "gis = GIS(profile=\"your_online_portal\")\n",
    "gis"
   ]
  },
  {
   "cell_type": "code",
   "execution_count": null,
   "id": "3109e686",
   "metadata": {},
   "outputs": [],
   "source": [
    "file_path = r\"C:\\ipython_workfolder\\Content\""
   ]
  },
  {
   "cell_type": "markdown",
   "id": "60cd885d",
   "metadata": {},
   "source": [
    "## Get the template StoryMap"
   ]
  },
  {
   "cell_type": "code",
   "execution_count": null,
   "id": "b2442568",
   "metadata": {},
   "outputs": [],
   "source": [
    "california = StoryMap(\"3864da69d9654c7e9d87b9b47d18e891\")\n",
    "california"
   ]
  },
  {
   "cell_type": "markdown",
   "id": "4991a263",
   "metadata": {},
   "source": [
    "### Understanding Nodes"
   ]
  },
  {
   "cell_type": "code",
   "execution_count": null,
   "id": "a6949ffa",
   "metadata": {},
   "outputs": [],
   "source": [
    "california.nodes"
   ]
  },
  {
   "cell_type": "markdown",
   "id": "9f07a691",
   "metadata": {},
   "source": [
    "##### A storymap is composed of nodes. These nodes represent different content within your story.  \n",
    "##### We've encapsulated this within our methods so you can edit the content and created automated changes."
   ]
  },
  {
   "cell_type": "markdown",
   "id": "26e0da39",
   "metadata": {},
   "source": [
    "## Properties of nodes"
   ]
  },
  {
   "cell_type": "code",
   "execution_count": null,
   "id": "7abcb161",
   "metadata": {
    "scrolled": false
   },
   "outputs": [],
   "source": [
    "# Take a look at a simpler class\n",
    "content = california.get(\"n-znyJMA\")\n",
    "print(\"Properties of \" + str(content) + \": \")\n",
    "print(content.properties)"
   ]
  },
  {
   "cell_type": "code",
   "execution_count": null,
   "id": "954979ec",
   "metadata": {},
   "outputs": [],
   "source": [
    "# What about a more complicated class\n",
    "content = california.get(\"n-VLxymn\")\n",
    "print(\"Properties of \" + str(content) + \": \")\n",
    "print(content.properties)"
   ]
  },
  {
   "cell_type": "code",
   "execution_count": null,
   "id": "6875cffa",
   "metadata": {},
   "outputs": [],
   "source": [
    "# Look at the structure in a cleaner way\n",
    "for item in content.properties:\n",
    "    print(item)"
   ]
  },
  {
   "cell_type": "markdown",
   "id": "e246e67b",
   "metadata": {},
   "source": [
    "##### When you use a method to make changes, you are making changes to the underlying dictionary structure of the storymap."
   ]
  },
  {
   "cell_type": "markdown",
   "id": "94d9b6e0",
   "metadata": {},
   "source": [
    "## Reading and preparing our data"
   ]
  },
  {
   "cell_type": "code",
   "execution_count": null,
   "id": "62849e92",
   "metadata": {},
   "outputs": [],
   "source": [
    "state = \"Washington\""
   ]
  },
  {
   "cell_type": "code",
   "execution_count": null,
   "id": "cb41dcb7",
   "metadata": {
    "scrolled": true
   },
   "outputs": [],
   "source": [
    "# created a csv with all my data\n",
    "data = pd.read_csv(file_path + r\"\\Washington\\WashingtonData.csv\")\n",
    "data"
   ]
  },
  {
   "cell_type": "code",
   "execution_count": null,
   "id": "e9549b8a",
   "metadata": {
    "scrolled": true
   },
   "outputs": [],
   "source": [
    "# create class from content and add to the DataFrame\n",
    "classes = []\n",
    "\n",
    "for index, row in data.iterrows():\n",
    "    \n",
    "    trow = row[\"Type\"]\n",
    "    crow = row[\"Content\"]\n",
    "    \n",
    "    if trow == \"paragraph\":\n",
    "        content = Text(text = crow, style = TextStyles.PARAGRAPH)\n",
    "    elif trow == \"subheading\":\n",
    "        content = Text(text = crow, style = TextStyles.SUBHEADING)\n",
    "    elif trow == \"image\":\n",
    "        content = Image(crow)\n",
    "    else:\n",
    "        content = None\n",
    "    classes.append(content)\n",
    "\n",
    "data[\"Class\"] = classes"
   ]
  },
  {
   "cell_type": "code",
   "execution_count": null,
   "id": "7c9e4c10",
   "metadata": {
    "scrolled": true
   },
   "outputs": [],
   "source": [
    "data"
   ]
  },
  {
   "cell_type": "code",
   "execution_count": null,
   "id": "1f9f273e",
   "metadata": {},
   "outputs": [],
   "source": [
    "# Each value of the class column represents a story content instance\n",
    "data.iloc[0][\"Class\"]"
   ]
  },
  {
   "cell_type": "markdown",
   "id": "474d33a8",
   "metadata": {},
   "source": [
    "## Duplicating the template story"
   ]
  },
  {
   "cell_type": "code",
   "execution_count": null,
   "id": "55351cf1",
   "metadata": {},
   "outputs": [],
   "source": [
    "new_item = california.duplicate(title=state)\n",
    "new_item"
   ]
  },
  {
   "cell_type": "code",
   "execution_count": null,
   "id": "0aa0cafe",
   "metadata": {},
   "outputs": [],
   "source": [
    "type(new_item)"
   ]
  },
  {
   "cell_type": "code",
   "execution_count": null,
   "id": "74df44d7",
   "metadata": {},
   "outputs": [],
   "source": [
    "# convert to an instance of storymap\n",
    "story = StoryMap(new_item)\n",
    "story"
   ]
  },
  {
   "cell_type": "code",
   "execution_count": null,
   "id": "29a8733b",
   "metadata": {},
   "outputs": [],
   "source": [
    "# node ids have stayed the same\n",
    "story.nodes"
   ]
  },
  {
   "cell_type": "markdown",
   "id": "04902b49",
   "metadata": {},
   "source": [
    "## Begin Editing\n",
    "### First, the story cover"
   ]
  },
  {
   "cell_type": "code",
   "execution_count": null,
   "id": "92075b54",
   "metadata": {},
   "outputs": [],
   "source": [
    "cover_text = data.iloc[0][\"Content\"] #access the text in the first row of our dataframe\n",
    "cover_image = Image(data.iloc[1][\"Content\"]) #create an instance of Image to be passed in"
   ]
  },
  {
   "cell_type": "code",
   "execution_count": null,
   "id": "7cbe1f36",
   "metadata": {},
   "outputs": [],
   "source": [
    "# update the story cover\n",
    "story.cover(title=state, summary = cover_text, image= cover_image)"
   ]
  },
  {
   "cell_type": "markdown",
   "id": "d1afb27f",
   "metadata": {},
   "source": [
    "### Editing the WebMap extent"
   ]
  },
  {
   "cell_type": "code",
   "execution_count": null,
   "id": "4297877a",
   "metadata": {
    "scrolled": true
   },
   "outputs": [],
   "source": [
    "wmap = story.get(\"n-5TCKSm\")\n",
    "wmap.map"
   ]
  },
  {
   "cell_type": "code",
   "execution_count": null,
   "id": "28fa0b25",
   "metadata": {},
   "outputs": [],
   "source": [
    "wmap"
   ]
  },
  {
   "cell_type": "code",
   "execution_count": null,
   "id": "e494ac39",
   "metadata": {},
   "outputs": [],
   "source": [
    "# get the extent from our data\n",
    "for index, row in data.iterrows():\n",
    "    if row[\"Type\"] == \"extent\":\n",
    "        extent = json.loads(row[\"Content\"]) #turn string to dict\n",
    "\n",
    "extent"
   ]
  },
  {
   "cell_type": "code",
   "execution_count": null,
   "id": "347bf2bf",
   "metadata": {},
   "outputs": [],
   "source": [
    "# Use set_viewpoint method on the map instance\n",
    "wmap.set_viewpoint(extent)"
   ]
  },
  {
   "cell_type": "markdown",
   "id": "d9bd958d",
   "metadata": {},
   "source": [
    "### Save to see our progress so far"
   ]
  },
  {
   "cell_type": "code",
   "execution_count": null,
   "id": "d1faf40f",
   "metadata": {},
   "outputs": [],
   "source": [
    "story.save()"
   ]
  },
  {
   "cell_type": "markdown",
   "id": "05a2990d",
   "metadata": {},
   "source": [
    "### Update the timeline with our current data"
   ]
  },
  {
   "cell_type": "code",
   "execution_count": null,
   "id": "9bc95c77",
   "metadata": {},
   "outputs": [],
   "source": [
    "timeline = story.get(\"n-qiYJn0\")\n",
    "timeline"
   ]
  },
  {
   "cell_type": "code",
   "execution_count": null,
   "id": "e91f33ad",
   "metadata": {},
   "outputs": [],
   "source": [
    "# get the data for the timeline from the DataFrame\n",
    "timeline_data = data[data[\"For\"] == \"timeline\"]\n",
    "timeline_data"
   ]
  },
  {
   "cell_type": "code",
   "execution_count": null,
   "id": "c61308ed",
   "metadata": {},
   "outputs": [],
   "source": [
    "timeline.properties"
   ]
  },
  {
   "cell_type": "code",
   "execution_count": null,
   "id": "9fe5fd69",
   "metadata": {},
   "outputs": [],
   "source": [
    "# list of the events that will be edited\n",
    "events = np.repeat([1,2,3,4,5,6,7,8],2)\n",
    "idx = 0\n",
    "for event in events:\n",
    "    timeline.edit(content=timeline_data.iloc[idx][\"Class\"], event=event)\n",
    "    idx = idx + 1\n",
    "\n",
    "timeline.properties"
   ]
  },
  {
   "cell_type": "markdown",
   "id": "71adfa11",
   "metadata": {},
   "source": [
    "### Update the gallery with our current data"
   ]
  },
  {
   "cell_type": "code",
   "execution_count": null,
   "id": "77ef8c88",
   "metadata": {
    "scrolled": true
   },
   "outputs": [],
   "source": [
    "gallery_data = data[data[\"For\"] == \"gallery\"]\n",
    "gallery_data"
   ]
  },
  {
   "cell_type": "code",
   "execution_count": null,
   "id": "aaf6573b",
   "metadata": {},
   "outputs": [],
   "source": [
    "new_images = gallery_data[\"Class\"].tolist()\n",
    "new_images"
   ]
  },
  {
   "cell_type": "code",
   "execution_count": null,
   "id": "6e588623",
   "metadata": {},
   "outputs": [],
   "source": [
    "gallery = story.get(\"n-ddtT6K\")\n",
    "gallery.properties"
   ]
  },
  {
   "cell_type": "code",
   "execution_count": null,
   "id": "073cb71f",
   "metadata": {},
   "outputs": [],
   "source": [
    "# First, delete the current images so we only have the new ones once added\n",
    "current = copy.copy(gallery.images)\n",
    "\n",
    "for node in current:\n",
    "    gallery.delete_image(node)\n",
    "gallery.images"
   ]
  },
  {
   "cell_type": "code",
   "execution_count": null,
   "id": "0423df38",
   "metadata": {},
   "outputs": [],
   "source": [
    "gallery.add_images(new_images)\n",
    "gallery.images"
   ]
  },
  {
   "cell_type": "markdown",
   "id": "2d64387c",
   "metadata": {},
   "source": [
    "### Update the sidecar with our current data"
   ]
  },
  {
   "cell_type": "code",
   "execution_count": null,
   "id": "c56cfb5c",
   "metadata": {},
   "outputs": [],
   "source": [
    "sidecar_data = data[data[\"For\"] == \"sidecar\"]\n",
    "sidecar_data"
   ]
  },
  {
   "cell_type": "code",
   "execution_count": null,
   "id": "e8184f5d",
   "metadata": {},
   "outputs": [],
   "source": [
    "extent"
   ]
  },
  {
   "cell_type": "code",
   "execution_count": null,
   "id": "32750294",
   "metadata": {},
   "outputs": [],
   "source": [
    "texts = sidecar_data[\"Content\"].tolist()\n",
    "texts.pop(0) #remove extent\n",
    "for text in texts:\n",
    "    print(text)"
   ]
  },
  {
   "cell_type": "code",
   "execution_count": null,
   "id": "9dbd7cbb",
   "metadata": {},
   "outputs": [],
   "source": [
    "sidecar = story.get(\"n-VLxymn\")\n",
    "sidecar.properties"
   ]
  },
  {
   "cell_type": "code",
   "execution_count": null,
   "id": "66469e71",
   "metadata": {},
   "outputs": [],
   "source": [
    "sidecar.get(\"n-nC5ToS\")"
   ]
  },
  {
   "cell_type": "code",
   "execution_count": null,
   "id": "bae7cbcf",
   "metadata": {},
   "outputs": [],
   "source": [
    "idx = 0\n",
    "for slide_dict in sidecar.properties[1:]:\n",
    "    for slide in slide_dict:\n",
    "        # Getting the map content\n",
    "        wm_id = slide_dict[slide][\"media\"][\"webmap\"]\n",
    "        webmap = sidecar.get(wm_id)\n",
    "        # Change the extent\n",
    "        webmap.set_viewpoint(extent, Scales.STATE)\n",
    "\n",
    "        # Getting the text content\n",
    "        txt_id = slide_dict[slide][\"narrative_panel\"][\"children\"][\"text\"]\n",
    "        text = sidecar.get(txt_id)\n",
    "        # Change the text\n",
    "        text.text = texts[idx]\n",
    "        idx += 1\n",
    "\n",
    "sidecar.properties"
   ]
  },
  {
   "cell_type": "code",
   "execution_count": null,
   "id": "9f27fcef",
   "metadata": {},
   "outputs": [],
   "source": [
    "story.save()"
   ]
  }
 ],
 "metadata": {
  "kernelspec": {
   "display_name": "Python 3",
   "language": "python",
   "name": "python3"
  },
  "language_info": {
   "codemirror_mode": {
    "name": "ipython",
    "version": 3
   },
   "file_extension": ".py",
   "mimetype": "text/x-python",
   "name": "python",
   "nbconvert_exporter": "python",
   "pygments_lexer": "ipython3",
   "version": "3.9.11"
  }
 },
 "nbformat": 4,
 "nbformat_minor": 5
}
