{
 "cells": [
  {
   "cell_type": "markdown",
   "metadata": {},
   "source": [
    "# The Map Widget\n",
    "\n",
    "One of the coolest, most convenient things about the ArcGIS API for Python is the map widget. The map widget provides users an instant visual interface for their data by taking advantage of Jupyter's widget capabilities and rendering an interactive map viewer inline in your notebook. To make a map in a notebook, it's literally as easy as calling `gis.map()`- from there, you can add whatever layers you desire, and use the tool to see your data, publish maps, and aid in the process of cleaning data & analyzing features. We're going to be showing you a brief demo on how you can work the map widget into your data-oriented workflows.\n",
    "\n",
    "It's important to note that even though this Map Viewer object is generated via a method in the `GIS` class, it creates an instance of the `MapView` class- for those of you reading this notebook after-the-fact, we'll link the documentation for both of these below.\n",
    "\n",
    "`gis.map()` (scroll down to the function): https://developers.arcgis.com/python/api-reference/arcgis.gis.toc.html#gis#map\n",
    "\n",
    "`MapView`: https://developers.arcgis.com/python/api-reference/arcgis.widgets.html#arcgis.widgets.MapView"
   ]
  },
  {
   "cell_type": "markdown",
   "metadata": {},
   "source": [
    "First, we're just going to show how to call the widget in it's most basic state, and search your GIS for layers to add."
   ]
  },
  {
   "cell_type": "code",
   "execution_count": 1,
   "metadata": {},
   "outputs": [],
   "source": [
    "import arcgis\n",
    "from arcgis.gis import GIS\n",
    "# Create a GIS object\n",
    "gis = GIS(profile = \"your_online_profile\")"
   ]
  },
  {
   "cell_type": "markdown",
   "metadata": {},
   "source": [
    "Upon creation, we can set the focus of the map to a specific location. To the South we go!"
   ]
  },
  {
   "cell_type": "code",
   "execution_count": 2,
   "metadata": {
    "scrolled": false
   },
   "outputs": [
    {
     "data": {
      "application/vnd.jupyter.widget-view+json": {
       "model_id": "fbdaf3eb519f4afabc696750abff03d3",
       "version_major": 2,
       "version_minor": 0
      },
      "text/plain": [
       "MapView(layout=Layout(height='400px', width='100%'))"
      ]
     },
     "metadata": {},
     "output_type": "display_data"
    },
    {
     "data": {
      "text/html": [
       "<div class=\"map-static-img-preview-f53e84ba-a20c-4dc4-8dd8-48ee1acafd52\"><img src=\"\"></img></div>"
      ],
      "text/plain": [
       "<IPython.core.display.HTML object>"
      ]
     },
     "metadata": {},
     "output_type": "display_data"
    },
    {
     "data": {
      "text/html": [
       "<div class=\"map-html-embed-preview-f53e84ba-a20c-4dc4-8dd8-48ee1acafd52\"></div>"
      ],
      "text/plain": [
       "<IPython.core.display.HTML object>"
      ]
     },
     "metadata": {},
     "output_type": "display_data"
    }
   ],
   "source": [
    "# Create a map widget\n",
    "map1 = gis.map('Louisiana') # Passing a place name to the constructor\n",
    "                               # will initialize the extent of the map.\n",
    "map1"
   ]
  },
  {
   "cell_type": "markdown",
   "metadata": {},
   "source": [
    "### Adding layers to the map\n",
    "Adding a layer is super easy- just retrieve a layer object, and pass it in the `add_layer()` method. We'll find layers to add by searching our `GIS`. We'll take a look at some oil rigs in the Gulf of Mexico."
   ]
  },
  {
   "cell_type": "code",
   "execution_count": 3,
   "metadata": {},
   "outputs": [
    {
     "data": {
      "text/plain": [
       "[<Item title:\"USA Traffic Counts\" type:Feature Layer Collection owner:esri>,\n",
       " <Item title:\"USA Drilling Platforms (Mature Support)\" type:Feature Layer Collection owner:esri>,\n",
       " <Item title:\"World Exclusive Economic Zone Boundaries\" type:Feature Layer Collection owner:esri>,\n",
       " <Item title:\"Request Tracking\" type:Feature Layer Collection owner:esri>,\n",
       " <Item title:\"USA Submerged Lands Act Boundary (Mature Support)\" type:Feature Layer Collection owner:esri>]"
      ]
     },
     "execution_count": 3,
     "metadata": {},
     "output_type": "execute_result"
    }
   ],
   "source": [
    "flayer_search_result = gis.content.search(\"Points; owner:esri\",\"Feature Layer\", outside_org=True, max_items=40)\n",
    "flayer_search_result"
   ]
  },
  {
   "cell_type": "code",
   "execution_count": 4,
   "metadata": {},
   "outputs": [
    {
     "data": {
      "text/html": [
       "<div class=\"item_container\" style=\"height: auto; overflow: hidden; border: 1px solid #cfcfcf; border-radius: 2px; background: #f6fafa; line-height: 1.21429em; padding: 10px;\">\n",
       "                    <div class=\"item_left\" style=\"width: 210px; float: left;\">\n",
       "                       <a href='https://geosaurus.maps.arcgis.com/home/item.html?id=05911244c9674ec3a212bcb7092da561' target='_blank'>\n",
       "                        <img src='data:image/png;base64,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' width='200' height='133' class=\"itemThumbnail\">\n",
       "                       </a>\n",
       "                    </div>\n",
       "\n",
       "                    <div class=\"item_right\"     style=\"float: none; width: auto; overflow: hidden;\">\n",
       "                        <a href='https://geosaurus.maps.arcgis.com/home/item.html?id=05911244c9674ec3a212bcb7092da561' target='_blank'><b>USA Drilling Platforms (Mature Support)</b>\n",
       "                        </a>\n",
       "                        <br/>This item is in mature support. <img src='https://geosaurus.maps.arcgis.com/home/js/jsapi/esri/css/images/item_type_icons/featureshosted16.png' style=\"vertical-align:middle;\">Feature Layer Collection by esri\n",
       "                        <br/>Last Modified: October 27, 2021\n",
       "                        <br/>2 comments, 41129 views\n",
       "                    </div>\n",
       "                </div>\n",
       "                "
      ],
      "text/plain": [
       "<Item title:\"USA Drilling Platforms (Mature Support)\" type:Feature Layer Collection owner:esri>"
      ]
     },
     "execution_count": 4,
     "metadata": {},
     "output_type": "execute_result"
    }
   ],
   "source": [
    "flayer_search_result[1]"
   ]
  },
  {
   "cell_type": "code",
   "execution_count": 5,
   "metadata": {},
   "outputs": [],
   "source": [
    "map1.add_layer(flayer_search_result[1])"
   ]
  },
  {
   "cell_type": "markdown",
   "metadata": {},
   "source": [
    "#### Adding layer objects to the map\n",
    "You can add a number of different layer objects, such as `FeatureLayer`, `FeatureCollection`, `ImageryLayer`, `MapImageLayer`, to the map. We're going to pile on another `FeatureLayer` for the sake of a little visual contrast."
   ]
  },
  {
   "cell_type": "code",
   "execution_count": 6,
   "metadata": {},
   "outputs": [
    {
     "data": {
      "text/plain": [
       "<FeatureLayer url:\"https://services.arcgis.com/P3ePLMYs2RVChkJx/arcgis/rest/services/USA_States_analysis_trim/FeatureServer/0\">"
      ]
     },
     "execution_count": 6,
     "metadata": {},
     "output_type": "execute_result"
    }
   ],
   "source": [
    "us_states_item = gis.content.get('e26f2752e86d4a8dad52ea75501480f0')\n",
    "us_states_layer = us_states_item.layers[0]\n",
    "us_states_layer"
   ]
  },
  {
   "cell_type": "code",
   "execution_count": 7,
   "metadata": {},
   "outputs": [],
   "source": [
    "map1.add_layer(us_states_layer)"
   ]
  },
  {
   "cell_type": "code",
   "execution_count": 8,
   "metadata": {
    "scrolled": false
   },
   "outputs": [
    {
     "data": {
      "application/vnd.jupyter.widget-view+json": {
       "model_id": "fbdaf3eb519f4afabc696750abff03d3",
       "version_major": 2,
       "version_minor": 0
      },
      "text/plain": [
       "MapView(jupyter_target='notebook', layout=Layout(height='400px', width='100%'), ready=True)"
      ]
     },
     "metadata": {},
     "output_type": "display_data"
    },
    {
     "data": {
      "text/html": [
       "<div class=\"map-static-img-preview-f53e84ba-a20c-4dc4-8dd8-48ee1acafd52\"><img src=\"\"></img></div>"
      ],
      "text/plain": [
       "<IPython.core.display.HTML object>"
      ]
     },
     "metadata": {},
     "output_type": "display_data"
    },
    {
     "data": {
      "text/html": [
       "<div class=\"map-html-embed-preview-f53e84ba-a20c-4dc4-8dd8-48ee1acafd52\"></div>"
      ],
      "text/plain": [
       "<IPython.core.display.HTML object>"
      ]
     },
     "metadata": {},
     "output_type": "display_data"
    }
   ],
   "source": [
    "map1"
   ]
  },
  {
   "cell_type": "markdown",
   "metadata": {},
   "source": [
    "If you're adding a bunch of layers to your map, it's easy to keep track of them and view your new map's contents- just call `map.layers`."
   ]
  },
  {
   "cell_type": "code",
   "execution_count": null,
   "metadata": {},
   "outputs": [],
   "source": [
    "map1.layers"
   ]
  },
  {
   "cell_type": "markdown",
   "metadata": {},
   "source": [
    "### Custom Symbology & Methods\n",
    "\n",
    "We'd be remiss if we didn't touch upon the underlying structure of a map. As some of you might know, JavaScript does a lot of the heavy lifting for these maps, so the data is all stored in JSON dictionaries. In order to edit a map in the Python API, we have to change and add to these dictionaries.\n",
    "\n",
    "There are a couple ways our API approaches this- we have methods that take advantage of JSAPI methods, and we also have methods that manually construct these dictionaries and add them into the map so they get rendered. If you're really comfortable with the structure, you can put together these dictionaries yourself and add them to the map data. We'll briefly preview all of these methods, but you can read more up on them below.\n",
    "  \n",
    "https://developers.arcgis.com/python/guide/advanced-cartography-part1/"
   ]
  },
  {
   "cell_type": "code",
   "execution_count": 9,
   "metadata": {},
   "outputs": [
    {
     "data": {
      "application/vnd.jupyter.widget-view+json": {
       "model_id": "a700cf2b4334411ab2118e4ce19d1393",
       "version_major": 2,
       "version_minor": 0
      },
      "text/plain": [
       "MapView(layout=Layout(height='400px', width='100%'))"
      ]
     },
     "metadata": {},
     "output_type": "display_data"
    },
    {
     "data": {
      "text/html": [
       "<div class=\"map-static-img-preview-4b544856-0be0-4cf9-a5ff-e94d1ed77c36\"><img src=\"\"></img></div>"
      ],
      "text/plain": [
       "<IPython.core.display.HTML object>"
      ]
     },
     "metadata": {},
     "output_type": "display_data"
    },
    {
     "data": {
      "text/html": [
       "<div class=\"map-html-embed-preview-4b544856-0be0-4cf9-a5ff-e94d1ed77c36\"></div>"
      ],
      "text/plain": [
       "<IPython.core.display.HTML object>"
      ]
     },
     "metadata": {},
     "output_type": "display_data"
    }
   ],
   "source": [
    "map2 = gis.map(\"Louisiana\")\n",
    "map2"
   ]
  },
  {
   "cell_type": "markdown",
   "metadata": {},
   "source": [
    "First, we're going to take advantage of the JavaScript API by passing our method the name of a renderer that the JSAPI can produce for us. More info on these types of renderers can be found here: https://developers.arcgis.com/javascript/latest/api-reference/esri-renderers-Renderer.html"
   ]
  },
  {
   "cell_type": "code",
   "execution_count": 10,
   "metadata": {},
   "outputs": [],
   "source": [
    "# Assign a new renderer to the layer when adding\n",
    "map2.add_layer(flayer_search_result[1], {\"renderer\":\"ClassedColorRenderer\", \"field_name\": \"waterdepth\"})"
   ]
  },
  {
   "cell_type": "markdown",
   "metadata": {},
   "source": [
    "Now we can instantly get an idea of the water depth at each one of these oil rigs. The auto-generated renderer defined a number of bins to sort our data into."
   ]
  },
  {
   "cell_type": "markdown",
   "metadata": {},
   "source": [
    "Next, we'll show how we can access the data of a specific layer and edit it manually. First, we'll take a look at the data of our layer and figure out what we need to change."
   ]
  },
  {
   "cell_type": "code",
   "execution_count": 11,
   "metadata": {
    "scrolled": true
   },
   "outputs": [
    {
     "data": {
      "text/plain": [
       "{\n",
       "  \"currentVersion\": 11,\n",
       "  \"id\": 0,\n",
       "  \"name\": \"dtl_st_trim\",\n",
       "  \"type\": \"Feature Layer\",\n",
       "  \"serviceItemId\": \"e26f2752e86d4a8dad52ea75501480f0\",\n",
       "  \"cacheMaxAge\": 3600,\n",
       "  \"displayField\": \"\",\n",
       "  \"description\": \"\",\n",
       "  \"copyrightText\": \"\",\n",
       "  \"defaultVisibility\": true,\n",
       "  \"editingInfo\": {\n",
       "    \"lastEditDate\": 1630436151812,\n",
       "    \"schemaLastEditDate\": 1630436151812,\n",
       "    \"dataLastEditDate\": 1630436151812\n",
       "  },\n",
       "  \"multiScaleGeometryInfo\": {\n",
       "    \"levels\": [\n",
       "      1,\n",
       "      3,\n",
       "      5,\n",
       "      7,\n",
       "      9,\n",
       "      11,\n",
       "      13,\n",
       "      15\n",
       "    ],\n",
       "    \"generalizationType\": \"DP\"\n",
       "  },\n",
       "  \"relationships\": [],\n",
       "  \"isDataVersioned\": false,\n",
       "  \"hasContingentValuesDefinition\": false,\n",
       "  \"supportsAppend\": true,\n",
       "  \"supportsCalculate\": true,\n",
       "  \"supportsASyncCalculate\": true,\n",
       "  \"supportsTruncate\": true,\n",
       "  \"supportsAttachmentsByUploadId\": true,\n",
       "  \"supportsAttachmentsResizing\": true,\n",
       "  \"supportsRollbackOnFailureParameter\": true,\n",
       "  \"supportsStatistics\": true,\n",
       "  \"supportsExceedsLimitStatistics\": true,\n",
       "  \"supportsAdvancedQueries\": true,\n",
       "  \"supportsValidateSql\": true,\n",
       "  \"supportsCoordinatesQuantization\": true,\n",
       "  \"supportsLayerOverrides\": true,\n",
       "  \"supportsTilesAndBasicQueriesMode\": true,\n",
       "  \"supportsFieldDescriptionProperty\": true,\n",
       "  \"supportsQuantizationEditMode\": true,\n",
       "  \"supportsApplyEditsWithGlobalIds\": false,\n",
       "  \"supportsMultiScaleGeometry\": true,\n",
       "  \"supportsReturningQueryGeometry\": true,\n",
       "  \"hasGeometryProperties\": true,\n",
       "  \"geometryProperties\": {\n",
       "    \"shapeAreaFieldName\": \"Shape__Area\",\n",
       "    \"shapeLengthFieldName\": \"Shape__Length\",\n",
       "    \"units\": \"esriMeters\"\n",
       "  },\n",
       "  \"advancedQueryCapabilities\": {\n",
       "    \"supportsPagination\": true,\n",
       "    \"supportsQueryAttachmentsCountOnly\": true,\n",
       "    \"supportsPaginationOnAggregatedQueries\": true,\n",
       "    \"supportsQueryRelatedPagination\": true,\n",
       "    \"supportsQueryWithDistance\": true,\n",
       "    \"supportsReturningQueryExtent\": true,\n",
       "    \"supportsStatistics\": true,\n",
       "    \"supportsOrderBy\": true,\n",
       "    \"supportsDistinct\": true,\n",
       "    \"supportsQueryWithResultType\": true,\n",
       "    \"supportsSqlExpression\": true,\n",
       "    \"supportsAdvancedQueryRelated\": true,\n",
       "    \"supportsCountDistinct\": true,\n",
       "    \"supportsPercentileStatistics\": true,\n",
       "    \"supportsSpatialAggregationStatistics\": true,\n",
       "    \"supportedSpatialAggregationStatistics\": [\n",
       "      \"EnvelopeAggregate\",\n",
       "      \"CentroidAggregate\",\n",
       "      \"ConvexHullAggregate\"\n",
       "    ],\n",
       "    \"supportsLod\": true,\n",
       "    \"supportsQueryWithLodSR\": false,\n",
       "    \"supportedLodTypes\": [\n",
       "      \"geohash\"\n",
       "    ],\n",
       "    \"supportsReturningGeometryCentroid\": true,\n",
       "    \"supportsReturningGeometryProperties\": true,\n",
       "    \"supportsQueryWithDatumTransformation\": true,\n",
       "    \"supportsHavingClause\": true,\n",
       "    \"supportsOutFieldSQLExpression\": true,\n",
       "    \"supportsMaxRecordCountFactor\": true,\n",
       "    \"supportsTopFeaturesQuery\": true,\n",
       "    \"supportsDisjointSpatialRel\": true,\n",
       "    \"supportsQueryWithCacheHint\": true,\n",
       "    \"supportedOperationsWithCacheHint\": [\n",
       "      \"query\",\n",
       "      \"queryTopFilter\",\n",
       "      \"queryAnalytics\",\n",
       "      \"queryAttachments\",\n",
       "      \"queryRelated\"\n",
       "    ],\n",
       "    \"supportsQueryAnalytic\": true,\n",
       "    \"supportsDefaultSR\": true,\n",
       "    \"supportsFullTextSearch\": true\n",
       "  },\n",
       "  \"advancedQueryAnalyticCapabilities\": {\n",
       "    \"supportsLinearRegression\": true,\n",
       "    \"supportsAsync\": true,\n",
       "    \"supportsPercentileAnalytic\": true\n",
       "  },\n",
       "  \"advancedEditingCapabilities\": {\n",
       "    \"supportedSqlFormatsInCalculate\": [\n",
       "      \"standard\"\n",
       "    ],\n",
       "    \"supportsAsyncApplyEdits\": true,\n",
       "    \"supportsReturnEditResults\": true,\n",
       "    \"supportsApplyEditsbyUploadID\": true,\n",
       "    \"supportedApplyEditsUploadIDFormats\": \"JSON\"\n",
       "  },\n",
       "  \"infoInEstimates\": [\n",
       "    \"extent\",\n",
       "    \"count\"\n",
       "  ],\n",
       "  \"useStandardizedQueries\": true,\n",
       "  \"geometryType\": \"esriGeometryPolygon\",\n",
       "  \"minScale\": 0,\n",
       "  \"maxScale\": 0,\n",
       "  \"extent\": {\n",
       "    \"xmin\": -19942590.66576944,\n",
       "    \"ymin\": 2023652.7986267817,\n",
       "    \"xmax\": 20012847.17939635,\n",
       "    \"ymax\": 11537127.333547603,\n",
       "    \"spatialReference\": {\n",
       "      \"wkid\": 102100,\n",
       "      \"latestWkid\": 3857\n",
       "    }\n",
       "  },\n",
       "  \"drawingInfo\": {\n",
       "    \"renderer\": {\n",
       "      \"type\": \"simple\",\n",
       "      \"symbol\": {\n",
       "        \"color\": [\n",
       "          255,\n",
       "          235,\n",
       "          175,\n",
       "          118\n",
       "        ],\n",
       "        \"outline\": {\n",
       "          \"color\": [\n",
       "            0,\n",
       "            0,\n",
       "            0,\n",
       "            255\n",
       "          ],\n",
       "          \"width\": 0.75,\n",
       "          \"type\": \"esriSLS\",\n",
       "          \"style\": \"esriSLSSolid\"\n",
       "        },\n",
       "        \"type\": \"esriSFS\",\n",
       "        \"style\": \"esriSFSSolid\"\n",
       "      }\n",
       "    }\n",
       "  },\n",
       "  \"allowGeometryUpdates\": true,\n",
       "  \"hasAttachments\": false,\n",
       "  \"htmlPopupType\": \"esriServerHTMLPopupTypeNone\",\n",
       "  \"hasMetadata\": true,\n",
       "  \"hasM\": false,\n",
       "  \"hasZ\": false,\n",
       "  \"objectIdField\": \"OBJECTID\",\n",
       "  \"uniqueIdField\": {\n",
       "    \"name\": \"OBJECTID\",\n",
       "    \"isSystemMaintained\": true\n",
       "  },\n",
       "  \"globalIdField\": \"\",\n",
       "  \"typeIdField\": \"\",\n",
       "  \"fields\": [\n",
       "    {\n",
       "      \"name\": \"OBJECTID\",\n",
       "      \"type\": \"esriFieldTypeOID\",\n",
       "      \"alias\": \"OBJECTID\",\n",
       "      \"sqlType\": \"sqlTypeOther\",\n",
       "      \"nullable\": false,\n",
       "      \"editable\": false,\n",
       "      \"domain\": null,\n",
       "      \"defaultValue\": null\n",
       "    },\n",
       "    {\n",
       "      \"name\": \"FIPS\",\n",
       "      \"type\": \"esriFieldTypeString\",\n",
       "      \"alias\": \"FIPS\",\n",
       "      \"sqlType\": \"sqlTypeOther\",\n",
       "      \"length\": 2,\n",
       "      \"nullable\": true,\n",
       "      \"editable\": true,\n",
       "      \"domain\": null,\n",
       "      \"defaultValue\": null\n",
       "    },\n",
       "    {\n",
       "      \"name\": \"STATE\",\n",
       "      \"type\": \"esriFieldTypeString\",\n",
       "      \"alias\": \"STATE\",\n",
       "      \"sqlType\": \"sqlTypeOther\",\n",
       "      \"length\": 35,\n",
       "      \"nullable\": true,\n",
       "      \"editable\": true,\n",
       "      \"domain\": null,\n",
       "      \"defaultValue\": null\n",
       "    },\n",
       "    {\n",
       "      \"name\": \"ST_ABBREV\",\n",
       "      \"type\": \"esriFieldTypeString\",\n",
       "      \"alias\": \"ST_ABBREV\",\n",
       "      \"sqlType\": \"sqlTypeOther\",\n",
       "      \"length\": 2,\n",
       "      \"nullable\": true,\n",
       "      \"editable\": true,\n",
       "      \"domain\": null,\n",
       "      \"defaultValue\": null\n",
       "    },\n",
       "    {\n",
       "      \"name\": \"SQMI\",\n",
       "      \"type\": \"esriFieldTypeDouble\",\n",
       "      \"alias\": \"SQMI\",\n",
       "      \"sqlType\": \"sqlTypeOther\",\n",
       "      \"nullable\": true,\n",
       "      \"editable\": true,\n",
       "      \"domain\": null,\n",
       "      \"defaultValue\": null\n",
       "    },\n",
       "    {\n",
       "      \"name\": \"POPULATION\",\n",
       "      \"type\": \"esriFieldTypeInteger\",\n",
       "      \"alias\": \"POP2020\",\n",
       "      \"sqlType\": \"sqlTypeOther\",\n",
       "      \"nullable\": true,\n",
       "      \"editable\": true,\n",
       "      \"domain\": null,\n",
       "      \"defaultValue\": null\n",
       "    },\n",
       "    {\n",
       "      \"name\": \"Shape__Area\",\n",
       "      \"type\": \"esriFieldTypeDouble\",\n",
       "      \"alias\": \"Shape__Area\",\n",
       "      \"sqlType\": \"sqlTypeDouble\",\n",
       "      \"nullable\": true,\n",
       "      \"editable\": false,\n",
       "      \"domain\": null,\n",
       "      \"defaultValue\": null\n",
       "    },\n",
       "    {\n",
       "      \"name\": \"Shape__Length\",\n",
       "      \"type\": \"esriFieldTypeDouble\",\n",
       "      \"alias\": \"Shape__Length\",\n",
       "      \"sqlType\": \"sqlTypeDouble\",\n",
       "      \"nullable\": true,\n",
       "      \"editable\": false,\n",
       "      \"domain\": null,\n",
       "      \"defaultValue\": null\n",
       "    }\n",
       "  ],\n",
       "  \"indexes\": [\n",
       "    {\n",
       "      \"name\": \"Shape__Area_Index\",\n",
       "      \"fields\": \"Shape__Area\",\n",
       "      \"isAscending\": true,\n",
       "      \"isUnique\": false,\n",
       "      \"description\": \"\"\n",
       "    },\n",
       "    {\n",
       "      \"name\": \"Shape__Length_Index\",\n",
       "      \"fields\": \"Shape__Length\",\n",
       "      \"isAscending\": true,\n",
       "      \"isUnique\": false,\n",
       "      \"description\": \"\"\n",
       "    },\n",
       "    {\n",
       "      \"name\": \"PK__USA_STAT__F4B70D857F282DCF\",\n",
       "      \"fields\": \"OBJECTID\",\n",
       "      \"isAscending\": true,\n",
       "      \"isUnique\": true,\n",
       "      \"description\": \"clustered, unique, primary key\"\n",
       "    },\n",
       "    {\n",
       "      \"name\": \"user_256.USA_STATES_ANALYSIS_TRIM_DTL_ST_TRIM_Shape_sidx\",\n",
       "      \"fields\": \"Shape\",\n",
       "      \"isAscending\": false,\n",
       "      \"isUnique\": false,\n",
       "      \"description\": \"Shape Index\"\n",
       "    },\n",
       "    {\n",
       "      \"name\": \"insights_idx_482137c477dd343164f32a41311d1a60\",\n",
       "      \"fields\": \"STATE\",\n",
       "      \"isAscending\": false,\n",
       "      \"isUnique\": false,\n",
       "      \"description\": \"Insights new Index\"\n",
       "    },\n",
       "    {\n",
       "      \"name\": \"insights_idx_482137c477dd343164f32a41311d1a60\",\n",
       "      \"fields\": \"STATE\",\n",
       "      \"isAscending\": false,\n",
       "      \"isUnique\": false,\n",
       "      \"description\": \"Insights new Index\"\n",
       "    },\n",
       "    {\n",
       "      \"name\": \"insights_idx_30f0bc687c1f91529d0203d036adfbd1\",\n",
       "      \"fields\": \"FIPS\",\n",
       "      \"isAscending\": false,\n",
       "      \"isUnique\": false,\n",
       "      \"description\": \"Insights new Index\"\n",
       "    },\n",
       "    {\n",
       "      \"name\": \"insights_idx_30f0bc687c1f91529d0203d036adfbd1\",\n",
       "      \"fields\": \"FIPS\",\n",
       "      \"isAscending\": false,\n",
       "      \"isUnique\": false,\n",
       "      \"description\": \"Insights new Index\"\n",
       "    },\n",
       "    {\n",
       "      \"name\": \"insights_idx_ce29bed0ae9083d15e9fc28927498a21\",\n",
       "      \"fields\": \"ST_ABBREV\",\n",
       "      \"isAscending\": false,\n",
       "      \"isUnique\": false,\n",
       "      \"description\": \"Insights new Index\"\n",
       "    },\n",
       "    {\n",
       "      \"name\": \"insights_idx_ce29bed0ae9083d15e9fc28927498a21\",\n",
       "      \"fields\": \"ST_ABBREV\",\n",
       "      \"isAscending\": false,\n",
       "      \"isUnique\": false,\n",
       "      \"description\": \"Insights new Index\"\n",
       "    }\n",
       "  ],\n",
       "  \"dateFieldsTimeReference\": {\n",
       "    \"timeZone\": \"UTC\",\n",
       "    \"respectsDaylightSaving\": false\n",
       "  },\n",
       "  \"preferredTimeReference\": null,\n",
       "  \"types\": [],\n",
       "  \"templates\": [\n",
       "    {\n",
       "      \"name\": \"New Feature\",\n",
       "      \"description\": \"\",\n",
       "      \"drawingTool\": \"esriFeatureEditToolPolygon\",\n",
       "      \"prototype\": {\n",
       "        \"attributes\": {\n",
       "          \"FIPS\": null,\n",
       "          \"STATE\": null,\n",
       "          \"ST_ABBREV\": null,\n",
       "          \"SQMI\": null,\n",
       "          \"POPULATION\": null\n",
       "        }\n",
       "      }\n",
       "    }\n",
       "  ],\n",
       "  \"supportedQueryFormats\": \"JSON, geoJSON, PBF\",\n",
       "  \"supportedAppendFormats\": \"sqlite,geoPackage,shapefile,filegdb,featureCollection,geojson,csv,excel\",\n",
       "  \"supportedExportFormats\": \"csv,shapefile,sqlite,geoPackage,filegdb,featureCollection,geojson,excel\",\n",
       "  \"supportedSpatialRelationships\": [\n",
       "    \"esriSpatialRelIntersects\",\n",
       "    \"esriSpatialRelContains\",\n",
       "    \"esriSpatialRelCrosses\",\n",
       "    \"esriSpatialRelEnvelopeIntersects\",\n",
       "    \"esriSpatialRelIndexIntersects\",\n",
       "    \"esriSpatialRelOverlaps\",\n",
       "    \"esriSpatialRelTouches\",\n",
       "    \"esriSpatialRelWithin\",\n",
       "    \"esriSpatialRelDisjoint\",\n",
       "    \"esriSpatialRelRelation\"\n",
       "  ],\n",
       "  \"supportedContingentValuesFormats\": \"JSON, PBF\",\n",
       "  \"supportedSyncDataOptions\": 4,\n",
       "  \"hasStaticData\": true,\n",
       "  \"maxRecordCount\": 2000,\n",
       "  \"standardMaxRecordCount\": 4000,\n",
       "  \"standardMaxRecordCountNoGeometry\": 32000,\n",
       "  \"tileMaxRecordCount\": 4000,\n",
       "  \"maxRecordCountFactor\": 1,\n",
       "  \"capabilities\": \"Query\"\n",
       "}"
      ]
     },
     "execution_count": 11,
     "metadata": {},
     "output_type": "execute_result"
    }
   ],
   "source": [
    "us_states_layer.properties"
   ]
  },
  {
   "cell_type": "markdown",
   "metadata": {},
   "source": [
    "As you can see, the properties are all in JSON form. What we need to do is edit the renderer's symbol info, which is found under drawingInfo. Luckily, the Python API object for layers allows you to access the renderer property directly by calling `.renderer`. We'll change the color of the states below. Let's pick a color online and use the proper RGB + Alpha value to change it."
   ]
  },
  {
   "cell_type": "code",
   "execution_count": 12,
   "metadata": {},
   "outputs": [
    {
     "data": {
      "text/plain": [
       "{'type': 'simple', 'symbol': {'color': [255, 235, 175, 118], 'outline': {'color': [0, 0, 0, 255], 'width': 0.75, 'type': 'esriSLS', 'style': 'esriSLSSolid'}, 'type': 'esriSFS', 'style': 'esriSFSSolid'}}"
      ]
     },
     "execution_count": 12,
     "metadata": {},
     "output_type": "execute_result"
    }
   ],
   "source": [
    "us_states_layer.renderer"
   ]
  },
  {
   "cell_type": "code",
   "execution_count": 13,
   "metadata": {},
   "outputs": [],
   "source": [
    "# Change the renderer dictionary of the layer before adding\n",
    "renderer = us_states_layer.renderer\n",
    "renderer[\"symbol\"][\"color\"] = [111, 3, 252, 118]\n",
    "us_states_layer.renderer = renderer\n",
    "map2.add_layer(us_states_layer)"
   ]
  },
  {
   "cell_type": "code",
   "execution_count": 14,
   "metadata": {
    "scrolled": true
   },
   "outputs": [
    {
     "data": {
      "application/vnd.jupyter.widget-view+json": {
       "model_id": "a700cf2b4334411ab2118e4ce19d1393",
       "version_major": 2,
       "version_minor": 0
      },
      "text/plain": [
       "MapView(jupyter_target='notebook', layout=Layout(height='400px', width='100%'), ready=True)"
      ]
     },
     "metadata": {},
     "output_type": "display_data"
    },
    {
     "data": {
      "text/html": [
       "<div class=\"map-static-img-preview-4b544856-0be0-4cf9-a5ff-e94d1ed77c36\"><img src=\"\"></img></div>"
      ],
      "text/plain": [
       "<IPython.core.display.HTML object>"
      ]
     },
     "metadata": {},
     "output_type": "display_data"
    },
    {
     "data": {
      "text/html": [
       "<div class=\"map-html-embed-preview-4b544856-0be0-4cf9-a5ff-e94d1ed77c36\"></div>"
      ],
      "text/plain": [
       "<IPython.core.display.HTML object>"
      ]
     },
     "metadata": {},
     "output_type": "display_data"
    }
   ],
   "source": [
    "map2"
   ]
  },
  {
   "cell_type": "markdown",
   "metadata": {},
   "source": [
    "## Saving the map as a web map\n",
    "\n",
    "Now that we've shown how to put together these maps, we'll show you how you can save them as a web map in your `GIS`. This process persists all the basemaps, layers added with or without your custom symbology (including smart mapping), pop-ups, extent, and graphics drawn (with or without custom symbols) as layers in your web map.\n",
    "\n",
    "To save the map, call the `save()` method. This method creates and returns a new Web Map Item object. As parameters, you can specify all valid `Item` properties as shown below:"
   ]
  },
  {
   "cell_type": "code",
   "execution_count": 15,
   "metadata": {
    "scrolled": true
   },
   "outputs": [
    {
     "data": {
      "text/html": [
       "<div class=\"item_container\" style=\"height: auto; overflow: hidden; border: 1px solid #cfcfcf; border-radius: 2px; background: #f6fafa; line-height: 1.21429em; padding: 10px;\">\n",
       "                    <div class=\"item_left\" style=\"width: 210px; float: left;\">\n",
       "                       <a href='https://geosaurus.maps.arcgis.com/home/item.html?id=8f518a0439a145dca8fc6a1ba10c7227' target='_blank'>\n",
       "                        <img src='http://static.arcgis.com/images/desktopapp.png' class=\"itemThumbnail\">\n",
       "                       </a>\n",
       "                    </div>\n",
       "\n",
       "                    <div class=\"item_right\"     style=\"float: none; width: auto; overflow: hidden;\">\n",
       "                        <a href='https://geosaurus.maps.arcgis.com/home/item.html?id=8f518a0439a145dca8fc6a1ba10c7227' target='_blank'><b>USA WebMap</b>\n",
       "                        </a>\n",
       "                        <br/>Jupyter notebook widget saved as a web map<img src='https://geosaurus.maps.arcgis.com/home/js/jsapi/esri/css/images/item_type_icons/maps16.png' style=\"vertical-align:middle;\">Web Map by nparavicini_geosaurus\n",
       "                        <br/>Last Modified: March 08, 2023\n",
       "                        <br/>0 comments, 0 views\n",
       "                    </div>\n",
       "                </div>\n",
       "                "
      ],
      "text/plain": [
       "<Item title:\"USA WebMap\" type:Web Map owner:nparavicini_geosaurus>"
      ]
     },
     "execution_count": 15,
     "metadata": {},
     "output_type": "execute_result"
    }
   ],
   "source": [
    "webmap_properties = {'title':'USA WebMap',\n",
    "                    'snippet': 'Jupyter notebook widget saved as a web map',\n",
    "                    'tags':['automation', 'python']}\n",
    "\n",
    "webmap_item = map2.save(webmap_properties)\n",
    "webmap_item"
   ]
  },
  {
   "cell_type": "markdown",
   "metadata": {},
   "source": [
    "As you can see, now it can exist in your portal for generations upon generations. Map the Future!"
   ]
  },
  {
   "cell_type": "markdown",
   "metadata": {},
   "source": [
    "## Properties of the map widget\n",
    "\n",
    "Finally, we're going to look at few of the handy things you can adjust while you're using this widget.\n",
    "\n",
    "The map widget has several properties that you can query and set, such as its zoom level, basemap, height, extent, mode, heading, rotation, tilt, scale, and so on. We'll start by listing out all of the properties of a map, then show some of them in action."
   ]
  },
  {
   "cell_type": "code",
   "execution_count": null,
   "metadata": {},
   "outputs": [],
   "source": [
    "map2."
   ]
  },
  {
   "cell_type": "markdown",
   "metadata": {},
   "source": [
    "#### Zoom Level\n"
   ]
  },
  {
   "cell_type": "code",
   "execution_count": 16,
   "metadata": {
    "scrolled": false
   },
   "outputs": [
    {
     "data": {
      "application/vnd.jupyter.widget-view+json": {
       "model_id": "21aa5fc2f43f47adb3d47fe031decf0d",
       "version_major": 2,
       "version_minor": 0
      },
      "text/plain": [
       "MapView(layout=Layout(height='400px', width='100%'))"
      ]
     },
     "metadata": {},
     "output_type": "display_data"
    },
    {
     "data": {
      "text/html": [
       "<div class=\"map-static-img-preview-d0779bad-9262-4aee-b1dd-b62e933b36e8\"><img src=\"\"></img></div>"
      ],
      "text/plain": [
       "<IPython.core.display.HTML object>"
      ]
     },
     "metadata": {},
     "output_type": "display_data"
    },
    {
     "data": {
      "text/html": [
       "<div class=\"map-html-embed-preview-d0779bad-9262-4aee-b1dd-b62e933b36e8\"></div>"
      ],
      "text/plain": [
       "<IPython.core.display.HTML object>"
      ]
     },
     "metadata": {},
     "output_type": "display_data"
    }
   ],
   "source": [
    "# Create a map widget\n",
    "map3 = gis.map('Redlands, CA') # Passing a place name to the constructor\n",
    "                               # will initialize the extent of the map.\n",
    "map3"
   ]
  },
  {
   "cell_type": "code",
   "execution_count": 17,
   "metadata": {},
   "outputs": [
    {
     "data": {
      "text/plain": [
       "11.0"
      ]
     },
     "execution_count": 17,
     "metadata": {},
     "output_type": "execute_result"
    }
   ],
   "source": [
    "map3.zoom"
   ]
  },
  {
   "cell_type": "markdown",
   "metadata": {},
   "source": [
    "Assigning a value to the zoom property will update the widget, which is equivalent to manually clicking the \"zoom in\" button twice."
   ]
  },
  {
   "cell_type": "code",
   "execution_count": 18,
   "metadata": {},
   "outputs": [],
   "source": [
    "map3.zoom = 5"
   ]
  },
  {
   "cell_type": "code",
   "execution_count": null,
   "metadata": {},
   "outputs": [],
   "source": [
    "map3"
   ]
  },
  {
   "cell_type": "markdown",
   "metadata": {},
   "source": [
    "You can also set the rotation property for the 2D mode. This can similarly be achieved by right-clicking and dragging on the map. Let's get real whacky with it and flip the world on its head."
   ]
  },
  {
   "cell_type": "code",
   "execution_count": 19,
   "metadata": {},
   "outputs": [],
   "source": [
    "map3.rotation = 180"
   ]
  },
  {
   "cell_type": "markdown",
   "metadata": {},
   "source": [
    "\n",
    "#### Map Center\n",
    "\n",
    "The center property reveals the coordinates of the center of the map."
   ]
  },
  {
   "cell_type": "code",
   "execution_count": 20,
   "metadata": {},
   "outputs": [
    {
     "data": {
      "application/vnd.jupyter.widget-view+json": {
       "model_id": "cc4a92ce72d545cb924606f2744c4c58",
       "version_major": 2,
       "version_minor": 0
      },
      "text/plain": [
       "MapView(layout=Layout(height='400px', width='100%'))"
      ]
     },
     "metadata": {},
     "output_type": "display_data"
    },
    {
     "data": {
      "text/html": [
       "<div class=\"map-static-img-preview-662f9c13-9259-45c7-88d6-614f886c67aa\"><img src=\"\"></img></div>"
      ],
      "text/plain": [
       "<IPython.core.display.HTML object>"
      ]
     },
     "metadata": {},
     "output_type": "display_data"
    },
    {
     "data": {
      "text/html": [
       "<div class=\"map-html-embed-preview-662f9c13-9259-45c7-88d6-614f886c67aa\"></div>"
      ],
      "text/plain": [
       "<IPython.core.display.HTML object>"
      ]
     },
     "metadata": {},
     "output_type": "display_data"
    }
   ],
   "source": [
    "map4 = gis.map(\"Santa Fe\") # creating a map object with default parameters\n",
    "map4"
   ]
  },
  {
   "cell_type": "code",
   "execution_count": 21,
   "metadata": {},
   "outputs": [
    {
     "data": {
      "text/plain": [
       "{'spatialReference': {'latestWkid': 3857, 'wkid': 102100},\n",
       " 'x': -11792990.9323356,\n",
       " 'y': 4258299.619291896}"
      ]
     },
     "execution_count": 21,
     "metadata": {},
     "output_type": "execute_result"
    }
   ],
   "source": [
    "map4.center"
   ]
  },
  {
   "cell_type": "markdown",
   "metadata": {},
   "source": [
    "If you know the latitude and longitude of your place of interest, you can assign it to the center property. For instance, we can now set the center to be within California."
   ]
  },
  {
   "cell_type": "code",
   "execution_count": 22,
   "metadata": {},
   "outputs": [],
   "source": [
    "map4.center = {'spatialReference': {'latestWkid': 3857, 'wkid': 102100},\n",
    "               'x': -13044706.248636946,\n",
    "               'y': 4036244.856763349}"
   ]
  },
  {
   "cell_type": "markdown",
   "metadata": {},
   "source": [
    "#### Basemap\n",
    "\n",
    "Basemaps are layers on your map over which all other operational layers that you add are displayed. Basemaps typically span the full extent of the world and provide context to your `GIS` layers. It helps viewers understand where each feature is located as they pan and zoom to various extents.\n",
    "\n",
    "When you create a new map or scene, you can choose which basemap you want from the basemap gallery in the Map Viewer. \n",
    "\n",
    "When your `gis` connection is created anonymously, the `basemaps` and `gallery_basemaps` properties of the created `MapView` object displays the default themes. While signing onto your own organization, the two properties would display your own customized options if set.\n",
    "\n",
    "Your map can have a number of different basemaps. To see what basemaps are included with the widget, query the `basemaps` property:"
   ]
  },
  {
   "cell_type": "code",
   "execution_count": 23,
   "metadata": {},
   "outputs": [
    {
     "data": {
      "text/plain": [
       "'default'"
      ]
     },
     "execution_count": 23,
     "metadata": {},
     "output_type": "execute_result"
    }
   ],
   "source": [
    "map4.basemap # the current basemap being used"
   ]
  },
  {
   "cell_type": "code",
   "execution_count": 24,
   "metadata": {},
   "outputs": [
    {
     "data": {
      "text/plain": [
       "['dark-gray-vector',\n",
       " 'gray-vector',\n",
       " 'hybrid',\n",
       " 'oceans',\n",
       " 'osm',\n",
       " 'satellite',\n",
       " 'streets-navigation-vector',\n",
       " 'streets-night-vector',\n",
       " 'streets-relief-vector',\n",
       " 'streets-vector',\n",
       " 'terrain',\n",
       " 'topo-vector',\n",
       " 'arcgis-imagery',\n",
       " 'arcgis-imagery-standard',\n",
       " 'arcgis-imagery-labels',\n",
       " 'arcgis-light-gray',\n",
       " 'arcgis-dark-gray',\n",
       " 'arcgis-navigation',\n",
       " 'arcgis-navigation-night',\n",
       " 'arcgis-streets',\n",
       " 'arcgis-streets-night',\n",
       " 'arcgis-streets-relief',\n",
       " 'arcgis-topographic',\n",
       " 'arcgis-oceans',\n",
       " 'osm-standard',\n",
       " 'osm-standard-relief',\n",
       " 'osm-streets',\n",
       " 'osm-streets-relief',\n",
       " 'osm-light-gray',\n",
       " 'osm-dark-gray',\n",
       " 'arcgis-terrain',\n",
       " 'arcgis-community',\n",
       " 'arcgis-charted-territory',\n",
       " 'arcgis-colored-pencil',\n",
       " 'arcgis-nova',\n",
       " 'arcgis-modern-antique',\n",
       " 'arcgis-midcentury',\n",
       " 'arcgis-newspaper',\n",
       " 'arcgis-hillshade-light',\n",
       " 'arcgis-hillshade-dark',\n",
       " 'arcgis-human-geography',\n",
       " 'arcgis-human-geography-dark']"
      ]
     },
     "execution_count": 24,
     "metadata": {},
     "output_type": "execute_result"
    }
   ],
   "source": [
    "map4.basemaps # the basemap galleries"
   ]
  },
  {
   "cell_type": "markdown",
   "metadata": {},
   "source": [
    "You can assign any one of the supported basemaps to the `basemap` property to change the basemap. For instance, you can change the basemap to the `satellite` basemap as below:"
   ]
  },
  {
   "cell_type": "code",
   "execution_count": 25,
   "metadata": {},
   "outputs": [],
   "source": [
    "map4.basemap = 'arcgis-midcentury'"
   ]
  },
  {
   "cell_type": "code",
   "execution_count": 26,
   "metadata": {},
   "outputs": [
    {
     "data": {
      "application/vnd.jupyter.widget-view+json": {
       "model_id": "cc4a92ce72d545cb924606f2744c4c58",
       "version_major": 2,
       "version_minor": 0
      },
      "text/plain": [
       "MapView(jupyter_target='notebook', layout=Layout(height='400px', width='100%'), ready=True)"
      ]
     },
     "metadata": {},
     "output_type": "display_data"
    },
    {
     "data": {
      "text/html": [
       "<div class=\"map-static-img-preview-662f9c13-9259-45c7-88d6-614f886c67aa\"><img src=\"\"></img></div>"
      ],
      "text/plain": [
       "<IPython.core.display.HTML object>"
      ]
     },
     "metadata": {},
     "output_type": "display_data"
    },
    {
     "data": {
      "text/html": [
       "<div class=\"map-html-embed-preview-662f9c13-9259-45c7-88d6-614f886c67aa\"></div>"
      ],
      "text/plain": [
       "<IPython.core.display.HTML object>"
      ]
     },
     "metadata": {},
     "output_type": "display_data"
    }
   ],
   "source": [
    "map4"
   ]
  },
  {
   "cell_type": "code",
   "execution_count": 27,
   "metadata": {},
   "outputs": [
    {
     "data": {
      "text/plain": [
       "'arcgis-midcentury'"
      ]
     },
     "execution_count": 27,
     "metadata": {},
     "output_type": "execute_result"
    }
   ],
   "source": [
    "map4.basemap"
   ]
  },
  {
   "cell_type": "markdown",
   "metadata": {},
   "source": [
    "And there you have it! The quick and dirty of the map widget. We'll dive further into actually manipulating the data in the upcoming demos, but we wanted to start by showing how you could easily get temporary and permanent visual representation of your features, as that can often be helpful in a workflow."
   ]
  },
  {
   "cell_type": "code",
   "execution_count": null,
   "metadata": {},
   "outputs": [],
   "source": []
  }
 ],
 "metadata": {
  "kernelspec": {
   "display_name": "Python 3 (ipykernel)",
   "language": "python",
   "name": "python3"
  },
  "language_info": {
   "codemirror_mode": {
    "name": "ipython",
    "version": 3
   },
   "file_extension": ".py",
   "mimetype": "text/x-python",
   "name": "python",
   "nbconvert_exporter": "python",
   "pygments_lexer": "ipython3",
   "version": "3.9.16"
  },
  "toc": {
   "base_numbering": 1,
   "nav_menu": {},
   "number_sections": false,
   "sideBar": true,
   "skip_h1_title": true,
   "title_cell": "Table of Contents",
   "title_sidebar": "Contents",
   "toc_cell": true,
   "toc_position": {},
   "toc_section_display": true,
   "toc_window_display": false
  },
  "varInspector": {
   "cols": {
    "lenName": 16,
    "lenType": 16,
    "lenVar": 40
   },
   "kernels_config": {
    "python": {
     "delete_cmd_postfix": "",
     "delete_cmd_prefix": "del ",
     "library": "var_list.py",
     "varRefreshCmd": "print(var_dic_list())"
    },
    "r": {
     "delete_cmd_postfix": ") ",
     "delete_cmd_prefix": "rm(",
     "library": "var_list.r",
     "varRefreshCmd": "cat(var_dic_list()) "
    }
   },
   "types_to_exclude": [
    "module",
    "function",
    "builtin_function_or_method",
    "instance",
    "_Feature"
   ],
   "window_display": false
  }
 },
 "nbformat": 4,
 "nbformat_minor": 4
}
