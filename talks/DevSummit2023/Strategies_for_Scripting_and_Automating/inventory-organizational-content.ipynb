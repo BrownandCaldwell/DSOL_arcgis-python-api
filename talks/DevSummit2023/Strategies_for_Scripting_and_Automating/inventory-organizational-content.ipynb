{
 "cells": [
  {
   "cell_type": "markdown",
   "id": "63c4b10f",
   "metadata": {},
   "source": [
    "# Inventory Organizational Content"
   ]
  },
  {
   "cell_type": "markdown",
   "id": "42a813b1",
   "metadata": {},
   "source": [
    "Being able to retrieve, display, analyze, and export the content within an organization Portal are important tasks for any admin. Here we will leverage the [ContentManager](https://developers.arcgis.com/python/api-reference/arcgis.gis.toc.html#contentmanager) and [UserManager](https://developers.arcgis.com/python/api-reference/arcgis.gis.toc.html#usermanager) classes of the GIS module, as well as some functionality from the [Pandas](https://pandas.pydata.org/docs/index.html) library, to accomplish those tasks."
   ]
  },
  {
   "cell_type": "markdown",
   "id": "3d6229af",
   "metadata": {
    "toc": true
   },
   "source": [
    "<h1>Table of Contents<span class=\"tocSkip\"></span></h1>\n",
    "<div class=\"toc\"><ul class=\"toc-item\"><li><span><a href=\"#Inventory-Organizational-Content\" data-toc-modified-id=\"Inventory-Organizational-Content-1\"><span class=\"toc-item-num\">1&nbsp;&nbsp;</span>Inventory Organizational Content</a></span><ul class=\"toc-item\"><li><span><a href=\"#Import-Libraries\" data-toc-modified-id=\"Import-Libraries-1.1\"><span class=\"toc-item-num\">1.1&nbsp;&nbsp;</span>Import Libraries</a></span></li><li><span><a href=\"#Connect-to-ArcGIS-Online\" data-toc-modified-id=\"Connect-to-ArcGIS-Online-1.2\"><span class=\"toc-item-num\">1.2&nbsp;&nbsp;</span>Connect to ArcGIS Online</a></span></li><li><span><a href=\"#Querying-Content\" data-toc-modified-id=\"Querying-Content-1.3\"><span class=\"toc-item-num\">1.3&nbsp;&nbsp;</span>Querying Content</a></span><ul class=\"toc-item\"><li><span><a href=\"#Searching-for-Content\" data-toc-modified-id=\"Searching-for-Content-1.3.1\"><span class=\"toc-item-num\">1.3.1&nbsp;&nbsp;</span>Searching for Content</a></span></li><li><span><a href=\"#Displaying-Content\" data-toc-modified-id=\"Displaying-Content-1.3.2\"><span class=\"toc-item-num\">1.3.2&nbsp;&nbsp;</span>Displaying Content</a></span></li><li><span><a href=\"#Sorting-Content\" data-toc-modified-id=\"Sorting-Content-1.3.3\"><span class=\"toc-item-num\">1.3.3&nbsp;&nbsp;</span>Sorting Content</a></span></li></ul></li><li><span><a href=\"#Querying-Organization-Content\" data-toc-modified-id=\"Querying-Organization-Content-1.4\"><span class=\"toc-item-num\">1.4&nbsp;&nbsp;</span>Querying Organization Content</a></span><ul class=\"toc-item\"><li><span><a href=\"#Searching-for-Organization-Members\" data-toc-modified-id=\"Searching-for-Organization-Members-1.4.1\"><span class=\"toc-item-num\">1.4.1&nbsp;&nbsp;</span>Searching for Organization Members</a></span></li><li><span><a href=\"#Getting-Member-Content\" data-toc-modified-id=\"Getting-Member-Content-1.4.2\"><span class=\"toc-item-num\">1.4.2&nbsp;&nbsp;</span>Getting Member Content</a></span></li><li><span><a href=\"#Compiling-Organization-Content\" data-toc-modified-id=\"Compiling-Organization-Content-1.4.3\"><span class=\"toc-item-num\">1.4.3&nbsp;&nbsp;</span>Compiling Organization Content</a></span></li></ul></li><li><span><a href=\"#Analyzing-Organization-Content-with-Pandas\" data-toc-modified-id=\"Analyzing-Organization-Content-with-Pandas-1.5\"><span class=\"toc-item-num\">1.5&nbsp;&nbsp;</span>Analyzing Organization Content with Pandas</a></span><ul class=\"toc-item\"><li><span><a href=\"#Filtering-the-Dataset\" data-toc-modified-id=\"Filtering-the-Dataset-1.5.1\"><span class=\"toc-item-num\">1.5.1&nbsp;&nbsp;</span>Filtering the Dataset</a></span></li><li><span><a href=\"#Accessing-Content-by-ID\" data-toc-modified-id=\"Accessing-Content-by-ID-1.5.2\"><span class=\"toc-item-num\">1.5.2&nbsp;&nbsp;</span>Accessing Content by ID</a></span></li></ul></li><li><span><a href=\"#Exporting-Data\" data-toc-modified-id=\"Exporting-Data-1.6\"><span class=\"toc-item-num\">1.6&nbsp;&nbsp;</span>Exporting Data</a></span></li></ul></li></ul></div>"
   ]
  },
  {
   "cell_type": "markdown",
   "id": "f40f8dc9",
   "metadata": {},
   "source": [
    "## Import Libraries"
   ]
  },
  {
   "cell_type": "code",
   "execution_count": null,
   "id": "744116bd",
   "metadata": {},
   "outputs": [],
   "source": [
    "import pandas as pd\n",
    "from IPython.display import display\n",
    "\n",
    "import arcgis\n",
    "from arcgis.gis import GIS"
   ]
  },
  {
   "cell_type": "markdown",
   "id": "abca04ba",
   "metadata": {},
   "source": [
    "## Connect to ArcGIS Online"
   ]
  },
  {
   "cell_type": "code",
   "execution_count": null,
   "id": "381d4d51",
   "metadata": {},
   "outputs": [],
   "source": [
    "profile_name = \"your_profile_name\"\n",
    "\n",
    "gis = GIS(profile=profile_name)\n",
    "gis.users.me"
   ]
  },
  {
   "cell_type": "markdown",
   "id": "c8806f8b",
   "metadata": {},
   "source": [
    "## Querying Content"
   ]
  },
  {
   "cell_type": "markdown",
   "id": "4ae14d15",
   "metadata": {},
   "source": [
    "To search for content within our organization, we can access the [ContentManager](https://developers.arcgis.com/python/api-reference/arcgis.gis.toc.html#arcgis.gis.ContentManager) class via `gis.content()`. \n",
    "\n",
    "Using the [`advanced_search()`](https://developers.arcgis.com/python/api-reference/arcgis.gis.toc.html#arcgis.gis.ContentManager.advanced_search) method, we can query content belonging to a user by providing the string `\"owner: < username >\"`. By setting the `return_count` parameter of `advanced_search()` to `True`, we can simply return a single integer representing the number of items which that user owns.\n",
    "\n",
    "Let's return the number of items that belong to the user currently logged in:"
   ]
  },
  {
   "cell_type": "code",
   "execution_count": null,
   "id": "79af1155",
   "metadata": {},
   "outputs": [],
   "source": [
    "qe = f\"owner: {gis.users.me.username}\"\n",
    "my_content_count = gis.content.advanced_search(query=qe,return_count=True)\n",
    "print(my_content_count, 'items found for current user')"
   ]
  },
  {
   "cell_type": "markdown",
   "id": "fef3d52e",
   "metadata": {},
   "source": [
    "### Searching for Content"
   ]
  },
  {
   "cell_type": "markdown",
   "id": "55de05fb",
   "metadata": {},
   "source": [
    "If we leave the `return_count` parameter as its default value `False`, then we will receive a response dictionary containing metadata about the query as well as a list of returned items in the `results` field.\n",
    "\n",
    "By setting the `max_items` parameter, we can limit the number of items that are returned in the `results` field."
   ]
  },
  {
   "cell_type": "code",
   "execution_count": null,
   "id": "86ac5837",
   "metadata": {},
   "outputs": [],
   "source": [
    "max_items = 5\n",
    "user_content = gis.content.advanced_search(query=qe, max_items=max_items)\n",
    "user_content"
   ]
  },
  {
   "cell_type": "markdown",
   "id": "152ff064",
   "metadata": {},
   "source": [
    "### Displaying Content"
   ]
  },
  {
   "cell_type": "code",
   "execution_count": null,
   "id": "8404b157",
   "metadata": {},
   "outputs": [],
   "source": [
    "# Displaying the result items through IPython.display.display()\n",
    "\n",
    "for item in user_content['results']:\n",
    "    display(item)"
   ]
  },
  {
   "cell_type": "markdown",
   "id": "d5435bc3",
   "metadata": {},
   "source": [
    "It is also possible to have these items returned as dictionary objects by setting the `as_dict` parameter:"
   ]
  },
  {
   "cell_type": "code",
   "execution_count": null,
   "id": "d6da0012",
   "metadata": {},
   "outputs": [],
   "source": [
    "# return items as a dictionary with as_dict=True\n",
    "\n",
    "user_content_as_dict = gis.content.advanced_search(\n",
    "    query=qe, max_items=max_items,as_dict=True)\n",
    "user_content_as_dict['results']"
   ]
  },
  {
   "cell_type": "markdown",
   "id": "34d9e145",
   "metadata": {},
   "source": [
    "### Sorting Content"
   ]
  },
  {
   "cell_type": "markdown",
   "id": "339448aa",
   "metadata": {},
   "source": [
    "The `sort_field` and `sort_order` parameters of the [`advanced_search()`](https://developers.arcgis.com/python/api-reference/arcgis.gis.toc.html#arcgis.gis.ContentManager.advanced_search) method can be used to sort the returned content server side.\n",
    "\n",
    "Possible values for `sort_order` are `\"asc\"` for ascending or increasing order and `\"desc\"` for descending or decreasing order. Default values for the `sort_field` and `sort_order` parameters are `\"title\"` and `\"asc\"`, respectively.\n",
    "\n",
    "In this next example we'll search for the last 3 items that the current user modified by setting `sort_field=\"modified\"` and `sort_order=\"desc\"`:"
   ]
  },
  {
   "cell_type": "code",
   "execution_count": null,
   "id": "645015ab",
   "metadata": {},
   "outputs": [],
   "source": [
    "content_last_modified = gis.content.advanced_search(\n",
    "    query=qe, max_items=max_items, sort_field=\"modified\", sort_order=\"desc\")\n",
    "\n",
    "for item in content_last_modified['results']:\n",
    "    display(item)"
   ]
  },
  {
   "cell_type": "markdown",
   "id": "7ea4079f",
   "metadata": {},
   "source": [
    "Here we return the first 3 items that the user created by setting `sort_field=\"created\"` and `sort_order=\"asc\"`:"
   ]
  },
  {
   "cell_type": "code",
   "execution_count": null,
   "id": "112471bf",
   "metadata": {},
   "outputs": [],
   "source": [
    "content_first_created = gis.content.advanced_search(query=qe, max_items=max_items, sort_field=\"created\", sort_order=\"asc\")\n",
    "\n",
    "for item in content_first_created['results']:\n",
    "    display(item)"
   ]
  },
  {
   "cell_type": "markdown",
   "id": "43b0a554",
   "metadata": {},
   "source": [
    "## Querying Organization Content"
   ]
  },
  {
   "cell_type": "markdown",
   "id": "75cc805d",
   "metadata": {},
   "source": [
    "### Searching for Organization Members"
   ]
  },
  {
   "cell_type": "markdown",
   "id": "0dd43cbc",
   "metadata": {},
   "source": [
    "We can search for a list of the members within the organization by using the [UserManager](https://developers.arcgis.com/python/api-reference/arcgis.gis.server.html#arcgis.gis.server.UserManager) class within the GIS module. Here we access the UserManager by calling `gis.users`, and use the [`search()`](https://developers.arcgis.com/python/api-reference/arcgis.gis.toc.html#arcgis.gis.UserManager.search) method to return a list of organization members. The `search()` method will return all users in the organization if no parameters are provided:"
   ]
  },
  {
   "cell_type": "code",
   "execution_count": null,
   "id": "fe13e7c9",
   "metadata": {},
   "outputs": [],
   "source": [
    "# View UserManager object\n",
    "gis.users"
   ]
  },
  {
   "cell_type": "code",
   "execution_count": null,
   "id": "d006c443",
   "metadata": {},
   "outputs": [],
   "source": [
    "org_users = gis.users.search()\n",
    "print(f'{len(org_users)} users found')\n",
    "org_users[:5]"
   ]
  },
  {
   "cell_type": "code",
   "execution_count": null,
   "id": "7773c879",
   "metadata": {},
   "outputs": [],
   "source": [
    "# Display a misc member\n",
    "org_member = org_users[1]\n",
    "org_member"
   ]
  },
  {
   "cell_type": "markdown",
   "id": "3d07ba3b",
   "metadata": {},
   "source": [
    "### Getting Member Content"
   ]
  },
  {
   "cell_type": "markdown",
   "id": "ebb244c2",
   "metadata": {},
   "source": [
    "Similarly to above, we can set `return_count=True` and see how many items this user has:"
   ]
  },
  {
   "cell_type": "code",
   "execution_count": null,
   "id": "78af4b24",
   "metadata": {},
   "outputs": [],
   "source": [
    "# See the number of member items\n",
    "qe = \"owner: \" + org_member.username\n",
    "member_content_count = gis.content.advanced_search(\n",
    "    query=qe, max_items=-1, return_count=True)\n",
    "print(f\"Org member has {member_content_count} items\")"
   ]
  },
  {
   "cell_type": "code",
   "execution_count": null,
   "id": "44239cb7",
   "metadata": {},
   "outputs": [],
   "source": [
    "# Return <max_items> items from member\n",
    "max_items = 3\n",
    "\n",
    "member_content = gis.content.advanced_search(query=qe, max_items=max_items)\n",
    "member_content['results']"
   ]
  },
  {
   "cell_type": "markdown",
   "id": "60c942ef",
   "metadata": {},
   "source": [
    "### Compiling Organization Content"
   ]
  },
  {
   "cell_type": "markdown",
   "id": "ed6595ea",
   "metadata": {},
   "source": [
    "If we return all items for each user in the organization, we can compile those items into a single list representing all of the organizations content.\n",
    "\n",
    "We can remove the item limit for each query by setting `max_items=-1` in the `advanced_search()` function:"
   ]
  },
  {
   "cell_type": "code",
   "execution_count": null,
   "id": "a7c8d14e",
   "metadata": {},
   "outputs": [],
   "source": [
    "# return content for each user in org, compile into a single list\n",
    "\n",
    "org_content = []\n",
    "\n",
    "for user in org_users:\n",
    "    qe = f\"owner: {user.username}\"\n",
    "    user_content = gis.content.advanced_search(query=qe, max_items=-1)['results']\n",
    "    org_content += user_content\n",
    "    \n",
    "print(f\"{len(org_content)} items found in org\")"
   ]
  },
  {
   "cell_type": "markdown",
   "id": "850f4e7d",
   "metadata": {},
   "source": [
    "## Analyzing Organization Content with Pandas"
   ]
  },
  {
   "cell_type": "markdown",
   "id": "965c56ae",
   "metadata": {},
   "source": [
    "Let's put our compiled list into a pandas [DataFrame](https://pandas.pydata.org/docs/reference/api/pandas.DataFrame.html) to easily view and filter our data"
   ]
  },
  {
   "cell_type": "code",
   "execution_count": null,
   "id": "7fae7951",
   "metadata": {},
   "outputs": [],
   "source": [
    "# Create DataFrame\n",
    "\n",
    "content_df = pd.DataFrame(org_content)\n",
    "content_df.head()"
   ]
  },
  {
   "cell_type": "markdown",
   "id": "3e3cb9ac",
   "metadata": {},
   "source": [
    "We can use the pandas function [`value_counts()`](https://pandas.pydata.org/docs/reference/api/pandas.Series.value_counts.html#pandas.Series.value_counts) to see how many occurrences there are of each value for a particular column. Here we return the top 10 most frequently occurring item types and the number of instances they have:"
   ]
  },
  {
   "cell_type": "code",
   "execution_count": null,
   "id": "07d8e877",
   "metadata": {},
   "outputs": [],
   "source": [
    "# use value_counts() to see how many items you have with a particular key:value pair\n",
    "content_df.type.value_counts().head(10)"
   ]
  },
  {
   "cell_type": "markdown",
   "id": "25f3946f",
   "metadata": {},
   "source": [
    "Another [`value_counts()`](https://pandas.pydata.org/docs/reference/api/pandas.Series.value_counts.html#pandas.Series.value_counts) example where we see the distribution of access levels for each of the items in the organization:"
   ]
  },
  {
   "cell_type": "code",
   "execution_count": null,
   "id": "055ce1e0",
   "metadata": {},
   "outputs": [],
   "source": [
    "content_df.access.value_counts()"
   ]
  },
  {
   "cell_type": "markdown",
   "id": "afb7847c",
   "metadata": {},
   "source": [
    "Using the [`value_counts()`](https://pandas.pydata.org/docs/reference/api/pandas.Series.value_counts.html#pandas.Series.value_counts) function in conjunction with the [`groupby()`](https://pandas.pydata.org/docs/reference/api/pandas.DataFrame.groupby.html) operation allows for an additional level of analysis. Here we see the breakdown of item types that each user has created:"
   ]
  },
  {
   "cell_type": "code",
   "execution_count": null,
   "id": "55137546",
   "metadata": {},
   "outputs": [],
   "source": [
    "content_df.groupby('owner').type.value_counts().head(10)"
   ]
  },
  {
   "cell_type": "code",
   "execution_count": null,
   "id": "9555af52",
   "metadata": {},
   "outputs": [],
   "source": [
    "# Viewing the number item types per access level within the org\n",
    "content_df.groupby('type').access.value_counts().head(10)"
   ]
  },
  {
   "cell_type": "markdown",
   "id": "24bf807c",
   "metadata": {},
   "source": [
    "### Filtering the Dataset"
   ]
  },
  {
   "cell_type": "markdown",
   "id": "c1427876",
   "metadata": {},
   "source": [
    "We can choose which columns we'd like to view, and the order we'd like to view them in, by providing the DataFrame with a list of strings matching column names:"
   ]
  },
  {
   "cell_type": "code",
   "execution_count": null,
   "id": "c4402555",
   "metadata": {},
   "outputs": [],
   "source": [
    "view_columns = ['id','title','owner','type','access']\n",
    "content_df[view_columns].head()"
   ]
  },
  {
   "cell_type": "markdown",
   "id": "2d2c814c",
   "metadata": {},
   "source": [
    "Creating and applying Boolean masks is a very efficient way to the filter the rows of a DataFrame. By using standard operators such as `<`, `>`, `==` and `!=` on pandas Series objects (e.g. the columns of our DataFrame), we can create a new Series of `True` and `False` values, called a mask. When this mask is applied to the original DataFrame, a new DataFrame will be returned with only the rows corresponding to where the mask had a `True` value.\n",
    "\n",
    "Let's create a mask to represent all items with public level access:"
   ]
  },
  {
   "cell_type": "code",
   "execution_count": null,
   "id": "c2a4f290",
   "metadata": {},
   "outputs": [],
   "source": [
    "filter_value = 'public'\n",
    "filter_column = 'access'\n",
    "row_filter = content_df[filter_column]==filter_value\n",
    "row_filter.head()"
   ]
  },
  {
   "cell_type": "markdown",
   "id": "2fb3bef4",
   "metadata": {},
   "source": [
    "Applying this mask to our DataFrame, we return all fields for objects which have `access=='public'`:"
   ]
  },
  {
   "cell_type": "code",
   "execution_count": null,
   "id": "54534e8e",
   "metadata": {},
   "outputs": [],
   "source": [
    "print(len(content_df[row_filter]), 'objects in filtered DataFrame')\n",
    "content_df[row_filter].head()"
   ]
  },
  {
   "cell_type": "markdown",
   "id": "9faa69eb",
   "metadata": {},
   "source": [
    "We can apply both the column filter and Boolean mask at the same time to reduce the amount of information displayed:"
   ]
  },
  {
   "cell_type": "code",
   "execution_count": null,
   "id": "ae8d1fa4",
   "metadata": {},
   "outputs": [],
   "source": [
    "content_df[row_filter][view_columns].head()"
   ]
  },
  {
   "cell_type": "markdown",
   "id": "5a0345c2",
   "metadata": {},
   "source": [
    "Another example where we create a Boolean mask for all objects of type `\"Web Map\"`:"
   ]
  },
  {
   "cell_type": "code",
   "execution_count": null,
   "id": "8edd82c6",
   "metadata": {},
   "outputs": [],
   "source": [
    "filter_value = 'Web Map'\n",
    "filter_column = 'type'\n",
    "row_filter = content_df[filter_column]==filter_value\n",
    "content_df[row_filter][view_columns]"
   ]
  },
  {
   "cell_type": "markdown",
   "id": "9c85e358",
   "metadata": {},
   "source": [
    "Boolean masks can also be combined to represent multiple filters. Here we combine the Web Map and Public masks to return all items in our organization which are public web maps:"
   ]
  },
  {
   "cell_type": "code",
   "execution_count": null,
   "id": "299024e6",
   "metadata": {},
   "outputs": [],
   "source": [
    "# Combining masks\n",
    "web_map_filter = content_df.type=='Web Map'\n",
    "public_filter = content_df.access=='public'\n",
    "combined_mask = web_map_filter & public_filter\n",
    "\n",
    "content_df[combined_mask][view_columns]"
   ]
  },
  {
   "cell_type": "markdown",
   "id": "a893b341",
   "metadata": {},
   "source": [
    "The [`apply()`](https://pandas.pydata.org/docs/reference/api/pandas.Series.apply.html) method can also be used to generate masks that can't be created using the standard comparison operators. As long as the function called within the apply method has a Boolean output, then the result can be used as a mask to filter rows. Here we use a [lambda](https://www.w3schools.com/python/python_lambda.asp) function to return all items which have a type that ends with the word \"Service\"."
   ]
  },
  {
   "cell_type": "code",
   "execution_count": null,
   "id": "d4f4e4b2",
   "metadata": {},
   "outputs": [],
   "source": [
    "# Creating masks with .apply and lambda functions\n",
    "\n",
    "service_filter = content_df.type.apply(lambda x: x.endswith('Service'))\n",
    "content_df[service_filter][view_columns]"
   ]
  },
  {
   "cell_type": "markdown",
   "id": "0a409c06",
   "metadata": {},
   "source": [
    "### Accessing Content by ID"
   ]
  },
  {
   "cell_type": "markdown",
   "id": "736fa4d4",
   "metadata": {},
   "source": [
    "Once we've identified an item of interest in our DataFrame, we can return the content of that item by providing its ID to the [ContentManager](https://pandas.pydata.org/docs/reference/api/pandas.Series.apply.html) `get()` method. If we know the index of the object in the DataFrame (i.e. the leftmost value), then we can access that row's information using the `loc()` method. From there we can get the id of the item and provide it to the get method."
   ]
  },
  {
   "cell_type": "code",
   "execution_count": null,
   "id": "4d42d933",
   "metadata": {},
   "outputs": [],
   "source": [
    "# Return the index of the last item in the previous output\n",
    "# In this example the index column is labelled 'name'\n",
    "\n",
    "target_index = content_df[service_filter].iloc[-1].name\n",
    "print(\"Target index:\", target_index)"
   ]
  },
  {
   "cell_type": "code",
   "execution_count": null,
   "id": "8e7b6506",
   "metadata": {},
   "outputs": [],
   "source": [
    "# Accessing items with content.get()\n",
    "target_data = content_df.loc[target_index]\n",
    "print(target_data.id)\n",
    "target_content = gis.content.get(target_data.id)\n",
    "target_content"
   ]
  },
  {
   "cell_type": "markdown",
   "id": "7cef5753",
   "metadata": {},
   "source": [
    "For more information on using item ids, see this [community post](https://community.esri.com/t5/arcgis-online-blog/where-can-i-find-the-item-id-for-an-arcgis-online/ba-p/890284)."
   ]
  },
  {
   "cell_type": "markdown",
   "id": "cf9decc1",
   "metadata": {},
   "source": [
    "## Exporting Data"
   ]
  },
  {
   "cell_type": "markdown",
   "id": "548344fd",
   "metadata": {},
   "source": [
    "Pandas provides a convenient [`to_csv()`](https://pandas.pydata.org/docs/reference/api/pandas.DataFrame.to_csv.html) method which can be used to generate zipped and unzipped csv outputs. Simply provide your target path with the appropriate file extension and call the method on the DataFrame object you would like to export."
   ]
  },
  {
   "cell_type": "code",
   "execution_count": null,
   "id": "b10d9860",
   "metadata": {},
   "outputs": [],
   "source": [
    "import os\n",
    "os.getcwd()"
   ]
  },
  {
   "cell_type": "code",
   "execution_count": null,
   "id": "1bfcb80e",
   "metadata": {},
   "outputs": [],
   "source": [
    "# Exporting data to a csv\n",
    "target_path = \"org_content.csv\"\n",
    "content_df.to_csv(target_path)"
   ]
  },
  {
   "cell_type": "code",
   "execution_count": null,
   "id": "87557547",
   "metadata": {},
   "outputs": [],
   "source": [
    "# Exporting data to gzipped csv file\n",
    "target_path_gzip = \"org_content.csv.gz\"\n",
    "content_df.to_csv(target_path_gzip)"
   ]
  },
  {
   "cell_type": "code",
   "execution_count": null,
   "id": "fa20d094",
   "metadata": {},
   "outputs": [],
   "source": [
    "# Exporting data to zipped csv file\n",
    "target_path_zip = \"org_content.csv.zip\"\n",
    "content_df.to_csv(target_path_zip)"
   ]
  },
  {
   "cell_type": "markdown",
   "id": "47157c31",
   "metadata": {},
   "source": [
    "Pandas also provides additional methods for exporting the data as different file formats (e.g. [`to_json()`](https://pandas.pydata.org/docs/reference/api/pandas.DataFrame.to_json.html), [`to_pickle()`](https://pandas.pydata.org/docs/reference/api/pandas.DataFrame.to_pickle.html), [`to_excel()`](https://pandas.pydata.org/docs/reference/api/pandas.DataFrame.to_excel.html)) which behave similarly."
   ]
  }
 ],
 "metadata": {
  "kernelspec": {
   "display_name": "Python 3 (ipykernel)",
   "language": "python",
   "name": "python3"
  },
  "language_info": {
   "codemirror_mode": {
    "name": "ipython",
    "version": 3
   },
   "file_extension": ".py",
   "mimetype": "text/x-python",
   "name": "python",
   "nbconvert_exporter": "python",
   "pygments_lexer": "ipython3",
   "version": "3.7.16"
  },
  "toc": {
   "base_numbering": 1,
   "nav_menu": {},
   "number_sections": true,
   "sideBar": true,
   "skip_h1_title": false,
   "title_cell": "Table of Contents",
   "title_sidebar": "Contents",
   "toc_cell": true,
   "toc_position": {},
   "toc_section_display": true,
   "toc_window_display": true
  }
 },
 "nbformat": 4,
 "nbformat_minor": 5
}
