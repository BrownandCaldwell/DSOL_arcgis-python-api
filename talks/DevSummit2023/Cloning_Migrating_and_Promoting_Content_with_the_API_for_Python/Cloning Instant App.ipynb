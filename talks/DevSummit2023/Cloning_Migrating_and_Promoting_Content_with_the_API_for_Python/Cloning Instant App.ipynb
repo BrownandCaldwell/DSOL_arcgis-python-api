{
 "cells": [
  {
   "cell_type": "markdown",
   "id": "dc90d21f",
   "metadata": {},
   "source": [
    "### Import Libraries"
   ]
  },
  {
   "cell_type": "code",
   "execution_count": 1,
   "id": "fed28b02",
   "metadata": {},
   "outputs": [],
   "source": [
    "from arcgis.gis import GIS"
   ]
  },
  {
   "cell_type": "markdown",
   "id": "fab67254",
   "metadata": {},
   "source": [
    "### Connect to organizations"
   ]
  },
  {
   "cell_type": "code",
   "execution_count": 2,
   "id": "256c2f7e",
   "metadata": {},
   "outputs": [],
   "source": [
    "source = GIS(profile=\"your_source_profile\")\n",
    "target = GIS(profile=\"your_target_profile\")"
   ]
  },
  {
   "cell_type": "markdown",
   "id": "ca9eb2d4",
   "metadata": {},
   "source": [
    "### Get application item"
   ]
  },
  {
   "cell_type": "code",
   "execution_count": 3,
   "id": "8210b323",
   "metadata": {},
   "outputs": [
    {
     "data": {
      "text/html": [
       "<div class=\"item_container\" style=\"height: auto; overflow: hidden; border: 1px solid #cfcfcf; border-radius: 2px; background: #f6fafa; line-height: 1.21429em; padding: 10px;\">\n",
       "                    <div class=\"item_left\" style=\"width: 210px; float: left;\">\n",
       "                       <a href='https://geosaurus.maps.arcgis.com/home/item.html?id=3637f2630c06401b8c6fba85210a513c' target='_blank'>\n",
       "                        <img src='data:image/png;base64,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' width='200' height='133' class=\"itemThumbnail\">\n",
       "                       </a>\n",
       "                    </div>\n",
       "\n",
       "                    <div class=\"item_right\"     style=\"float: none; width: auto; overflow: hidden;\">\n",
       "                        <a href='https://geosaurus.maps.arcgis.com/home/item.html?id=3637f2630c06401b8c6fba85210a513c' target='_blank'><b>Allie Co-Worker Map</b>\n",
       "                        </a>\n",
       "                        <br/><img src='https://geosaurus.maps.arcgis.com/home/js/jsapi/esri/css/images/item_type_icons/layers16.png' style=\"vertical-align:middle;\">Web Mapping Application by NGiner_geosaurus\n",
       "                        <br/>Last Modified: March 01, 2023\n",
       "                        <br/>0 comments, 72 views\n",
       "                    </div>\n",
       "                </div>\n",
       "                "
      ],
      "text/plain": [
       "<Item title:\"Allie Co-Worker Map\" type:Web Mapping Application owner:NGiner_geosaurus>"
      ]
     },
     "execution_count": 3,
     "metadata": {},
     "output_type": "execute_result"
    }
   ],
   "source": [
    "instant_app = source.content.get(\"your_instantapp_item_id\")\n",
    "instant_app"
   ]
  },
  {
   "cell_type": "markdown",
   "id": "b0315e8a",
   "metadata": {},
   "source": [
    "### Inspect item properties"
   ]
  },
  {
   "cell_type": "code",
   "execution_count": 4,
   "id": "98a51dba",
   "metadata": {},
   "outputs": [
    {
     "data": {
      "text/plain": [
       "'Web Mapping Application'"
      ]
     },
     "execution_count": 4,
     "metadata": {},
     "output_type": "execute_result"
    }
   ],
   "source": [
    "instant_app.type"
   ]
  },
  {
   "cell_type": "code",
   "execution_count": 5,
   "id": "63c7472e",
   "metadata": {},
   "outputs": [
    {
     "data": {
      "text/plain": [
       "{'source': 'a3cbc26d59124dfd9b6b740937f37d10',\n",
       " 'folderId': 'root',\n",
       " 'values': {'webmap': '60aebdf6a4e2438a8fe6171312f338ff',\n",
       "  'type': 'webmap',\n",
       "  'searchConfiguration': {'allPlaceholder': 'Find address or place',\n",
       "   'sources': [{'url': 'https://geocode.arcgis.com/arcgis/rest/services/World/GeocodeServer',\n",
       "     'singleLineFieldName': None,\n",
       "     'name': 'ArcGIS World Geocoding Service',\n",
       "     'placeholder': 'Find address or place',\n",
       "     'maxResults': None,\n",
       "     'maxSuggestions': None,\n",
       "     'suggestionsEnabled': None,\n",
       "     'minSuggestCharacters': None,\n",
       "     'withinViewEnabled': False,\n",
       "     'countryCode': None,\n",
       "     'zoomScale': None},\n",
       "    {'url': 'https://geocode.arcgis.com/arcgis/rest/services/World/GeocodeServer',\n",
       "     'singleLineFieldName': None,\n",
       "     'name': 'ArcGIS World Geocoding Service',\n",
       "     'placeholder': 'Find address or place',\n",
       "     'maxResults': None,\n",
       "     'maxSuggestions': None,\n",
       "     'suggestionsEnabled': None,\n",
       "     'minSuggestCharacters': None,\n",
       "     'withinViewEnabled': False,\n",
       "     'countryCode': None,\n",
       "     'zoomScale': None}],\n",
       "   'activeSourceIndex': 0,\n",
       "   'includeDefaultSources': False},\n",
       "  'legend': False,\n",
       "  'theme': 'dark',\n",
       "  'datePublished': 1671551935959,\n",
       "  'fullAppSettings': False,\n",
       "  'draft': {'searchConfiguration': {'allPlaceholder': 'Find address or place',\n",
       "    'sources': [{'url': 'https://geocode.arcgis.com/arcgis/rest/services/World/GeocodeServer',\n",
       "      'singleLineFieldName': None,\n",
       "      'name': 'ArcGIS World Geocoding Service',\n",
       "      'placeholder': 'Find address or place',\n",
       "      'maxResults': None,\n",
       "      'maxSuggestions': None,\n",
       "      'suggestionsEnabled': None,\n",
       "      'minSuggestCharacters': None,\n",
       "      'withinViewEnabled': False,\n",
       "      'countryCode': None,\n",
       "      'zoomScale': None},\n",
       "     {'url': 'https://geocode.arcgis.com/arcgis/rest/services/World/GeocodeServer',\n",
       "      'singleLineFieldName': None,\n",
       "      'name': 'ArcGIS World Geocoding Service',\n",
       "      'placeholder': 'Find address or place',\n",
       "      'maxResults': None,\n",
       "      'maxSuggestions': None,\n",
       "      'suggestionsEnabled': None,\n",
       "      'minSuggestCharacters': None,\n",
       "      'withinViewEnabled': False,\n",
       "      'countryCode': None,\n",
       "      'zoomScale': None}],\n",
       "    'activeSourceIndex': 0},\n",
       "   'lastSavedDraftDate': 1677687220503}}}"
      ]
     },
     "execution_count": 5,
     "metadata": {},
     "output_type": "execute_result"
    }
   ],
   "source": [
    "app_definition = instant_app.get_data()\n",
    "app_definition"
   ]
  },
  {
   "cell_type": "code",
   "execution_count": 6,
   "id": "ead1f587",
   "metadata": {},
   "outputs": [
    {
     "data": {
      "text/plain": [
       "['source', 'folderId', 'values']"
      ]
     },
     "execution_count": 6,
     "metadata": {},
     "output_type": "execute_result"
    }
   ],
   "source": [
    "list(app_definition.keys())"
   ]
  },
  {
   "cell_type": "code",
   "execution_count": 7,
   "id": "1425cac2",
   "metadata": {},
   "outputs": [
    {
     "data": {
      "text/plain": [
       "8"
      ]
     },
     "execution_count": 7,
     "metadata": {},
     "output_type": "execute_result"
    }
   ],
   "source": [
    "len(app_definition[\"values\"])"
   ]
  },
  {
   "cell_type": "markdown",
   "id": "2be6edf8",
   "metadata": {},
   "source": [
    "### Clone application"
   ]
  },
  {
   "cell_type": "code",
   "execution_count": 8,
   "id": "14fca693",
   "metadata": {},
   "outputs": [
    {
     "data": {
      "text/plain": [
       "[<Item title:\"Allie_CoworkerMap\" type:Feature Layer Collection owner:johnyHack>,\n",
       " <Item title:\"Allie Co-Worker Map\" type:Web Map owner:johnyHack>,\n",
       " <Item title:\"Allie Co-Worker Map\" type:Web Mapping Application owner:johnyHack>]"
      ]
     },
     "execution_count": 8,
     "metadata": {},
     "output_type": "execute_result"
    }
   ],
   "source": [
    "clone_result = target.content.clone_items(items=[instant_app],\n",
    "                                          folder=\"instant_clone\")\n",
    "clone_result"
   ]
  },
  {
   "cell_type": "code",
   "execution_count": 9,
   "id": "7a243dfd",
   "metadata": {},
   "outputs": [],
   "source": [
    "cloned_app = clone_result[2]"
   ]
  },
  {
   "cell_type": "markdown",
   "id": "c8c0390e",
   "metadata": {},
   "source": [
    "### Compare results"
   ]
  },
  {
   "cell_type": "code",
   "execution_count": 10,
   "id": "c19cd4ba",
   "metadata": {},
   "outputs": [
    {
     "data": {
      "text/plain": [
       "{'source': 'a3cbc26d59124dfd9b6b740937f37d10',\n",
       " 'folderId': '9089c70643804655a841238cd84c7cec',\n",
       " 'values': {'webmap': 'd65b36c259ab49c6923847369b6d320c',\n",
       "  'type': 'webmap',\n",
       "  'searchConfiguration': {'allPlaceholder': 'Find address or place',\n",
       "   'sources': [{'url': 'https://geocode.arcgis.com/arcgis/rest/services/World/GeocodeServer',\n",
       "     'singleLineFieldName': None,\n",
       "     'name': 'ArcGIS World Geocoding Service',\n",
       "     'placeholder': 'Find address or place',\n",
       "     'maxResults': None,\n",
       "     'maxSuggestions': None,\n",
       "     'suggestionsEnabled': None,\n",
       "     'minSuggestCharacters': None,\n",
       "     'withinViewEnabled': False,\n",
       "     'countryCode': None,\n",
       "     'zoomScale': None},\n",
       "    {'url': 'https://geocode.arcgis.com/arcgis/rest/services/World/GeocodeServer',\n",
       "     'singleLineFieldName': None,\n",
       "     'name': 'ArcGIS World Geocoding Service',\n",
       "     'placeholder': 'Find address or place',\n",
       "     'maxResults': None,\n",
       "     'maxSuggestions': None,\n",
       "     'suggestionsEnabled': None,\n",
       "     'minSuggestCharacters': None,\n",
       "     'withinViewEnabled': False,\n",
       "     'countryCode': None,\n",
       "     'zoomScale': None}],\n",
       "   'activeSourceIndex': 0,\n",
       "   'includeDefaultSources': False},\n",
       "  'legend': False,\n",
       "  'theme': 'dark',\n",
       "  'datePublished': 1671551935959,\n",
       "  'fullAppSettings': False,\n",
       "  'draft': {'searchConfiguration': {'allPlaceholder': 'Find address or place',\n",
       "    'sources': [{'url': 'https://geocode.arcgis.com/arcgis/rest/services/World/GeocodeServer',\n",
       "      'singleLineFieldName': None,\n",
       "      'name': 'ArcGIS World Geocoding Service',\n",
       "      'placeholder': 'Find address or place',\n",
       "      'maxResults': None,\n",
       "      'maxSuggestions': None,\n",
       "      'suggestionsEnabled': None,\n",
       "      'minSuggestCharacters': None,\n",
       "      'withinViewEnabled': False,\n",
       "      'countryCode': None,\n",
       "      'zoomScale': None},\n",
       "     {'url': 'https://geocode.arcgis.com/arcgis/rest/services/World/GeocodeServer',\n",
       "      'singleLineFieldName': None,\n",
       "      'name': 'ArcGIS World Geocoding Service',\n",
       "      'placeholder': 'Find address or place',\n",
       "      'maxResults': None,\n",
       "      'maxSuggestions': None,\n",
       "      'suggestionsEnabled': None,\n",
       "      'minSuggestCharacters': None,\n",
       "      'withinViewEnabled': False,\n",
       "      'countryCode': None,\n",
       "      'zoomScale': None}],\n",
       "    'activeSourceIndex': 0},\n",
       "   'lastSavedDraftDate': 1677687220503}}}"
      ]
     },
     "execution_count": 10,
     "metadata": {},
     "output_type": "execute_result"
    }
   ],
   "source": [
    "cloned_app.get_data()"
   ]
  }
 ],
 "metadata": {
  "kernelspec": {
   "display_name": "Python 3 (ipykernel)",
   "language": "python",
   "name": "python3"
  },
  "language_info": {
   "codemirror_mode": {
    "name": "ipython",
    "version": 3
   },
   "file_extension": ".py",
   "mimetype": "text/x-python",
   "name": "python",
   "nbconvert_exporter": "python",
   "pygments_lexer": "ipython3",
   "version": "3.7.16"
  }
 },
 "nbformat": 4,
 "nbformat_minor": 5
}
