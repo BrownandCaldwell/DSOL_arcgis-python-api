{
 "cells": [
  {
   "cell_type": "markdown",
   "metadata": {},
   "source": [
    "#### Ignore"
   ]
  },
  {
   "cell_type": "code",
   "execution_count": 5,
   "metadata": {},
   "outputs": [],
   "source": [
    "import warnings\n",
    "warnings.filterwarnings(\"ignore\")"
   ]
  },
  {
   "cell_type": "markdown",
   "metadata": {},
   "source": [
    "## Import libraries"
   ]
  },
  {
   "cell_type": "code",
   "execution_count": 94,
   "metadata": {},
   "outputs": [],
   "source": [
    "from urllib.parse import urlparse\n",
    "from arcgis.gis import GIS, Item\n",
    "from arcgis.features import FeatureLayerCollection\n",
    "from arcgis.map import Map"
   ]
  },
  {
   "cell_type": "markdown",
   "metadata": {},
   "source": [
    "## Connect to _source_ and _target_ organizations"
   ]
  },
  {
   "cell_type": "code",
   "execution_count": 109,
   "metadata": {},
   "outputs": [],
   "source": [
    "target = GIS(profile=\"webapps_admin\")\n",
    "source = GIS(profile=\"your_online_admin_profile\")"
   ]
  },
  {
   "cell_type": "markdown",
   "metadata": {},
   "source": [
    "## Clone Webmap"
   ]
  },
  {
   "cell_type": "markdown",
   "metadata": {},
   "source": [
    "### Get a Webmap item from _source_"
   ]
  },
  {
   "cell_type": "code",
   "execution_count": 110,
   "metadata": {},
   "outputs": [
    {
     "data": {
      "text/html": [
       "<div class=\"item_container\" style=\"height: auto; overflow: hidden; border: 1px solid #cfcfcf; border-radius: 2px; background: #f6fafa; line-height: 1.21429em; padding: 10px;\">\n",
       "                    <div class=\"item_left\" style=\"width: 210px; float: left;\">\n",
       "                       <a href='https://geosaurus.maps.arcgis.com/home/item.html?id=6b1f7ea22e2543aa9849e34097d05570' target='_blank'>\n",
       "                        <img src='data:image/png;base64,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' width='200' height='133' class=\"itemThumbnail\">\n",
       "                       </a>\n",
       "                    </div>\n",
       "\n",
       "                    <div class=\"item_right\"     style=\"float: none; width: auto; overflow: hidden;\">\n",
       "                        <a href='https://geosaurus.maps.arcgis.com/home/item.html?id=6b1f7ea22e2543aa9849e34097d05570' target='_blank'><b>US Power Plant Data</b>\n",
       "                        </a>\n",
       "                        <br/>Web Map of US Power Plant Data.<br/><img src='https://geosaurus.maps.arcgis.com/home/js/jsapi/esri/css/images/item_type_icons/maps16.png' style=\"vertical-align:middle;\" width=16 height=16>Web Map by ArcGISPyAPIBot\n",
       "                        <br/>Last Modified: February 20, 2024\n",
       "                        <br/>0 comments, 28 views\n",
       "                    </div>\n",
       "                </div>\n",
       "                "
      ],
      "text/plain": [
       "<Item title:\"US Power Plant Data\" type:Web Map owner:ArcGISPyAPIBot>"
      ]
     },
     "execution_count": 110,
     "metadata": {},
     "output_type": "execute_result"
    }
   ],
   "source": [
    "college_uni_item = source.content.get(\"6b1f7ea22e2543aa9849e34097d05570\")\n",
    "college_uni_item"
   ]
  },
  {
   "cell_type": "markdown",
   "metadata": {},
   "source": [
    "#### Initialize `WebMap` object to inspect layers"
   ]
  },
  {
   "cell_type": "code",
   "execution_count": 111,
   "metadata": {},
   "outputs": [],
   "source": [
    "college_uni_wm = Map(college_uni_item)"
   ]
  },
  {
   "cell_type": "markdown",
   "metadata": {},
   "source": [
    "#### Print information about `Webmap` layers"
   ]
  },
  {
   "cell_type": "code",
   "execution_count": null,
   "metadata": {},
   "outputs": [],
   "source": [
    "for wm_lyr in college_uni_wm.content.layers:\n",
    "    print(wm_lyr.properties.name)\n",
    "    print(wm_lyr.properties.serviceItemId)\n",
    "    print(f\"{' '*4}{wm_lyr.url}\")"
   ]
  },
  {
   "cell_type": "markdown",
   "metadata": {},
   "source": [
    "### Clone Webmap"
   ]
  },
  {
   "cell_type": "code",
   "execution_count": null,
   "metadata": {},
   "outputs": [],
   "source": [
    "if not target.content.folders.get(\"college_uni_places\"):\n",
    "    target.content.folders.create(\"college_uni_places\")\n",
    "wm_clone = target.content.clone_items(items=[college_uni_item],\n",
    "                                      folder=\"college_uni_places\", search_existing_items=True)\n",
    "wm_clone"
   ]
  }
 ],
 "metadata": {
  "kernelspec": {
   "display_name": "Python 3 (ipykernel)",
   "language": "python",
   "name": "python3"
  },
  "language_info": {
   "codemirror_mode": {
    "name": "ipython",
    "version": 3
   },
   "file_extension": ".py",
   "mimetype": "text/x-python",
   "name": "python",
   "nbconvert_exporter": "python",
   "pygments_lexer": "ipython3",
   "version": "3.11.10"
  }
 },
 "nbformat": 4,
 "nbformat_minor": 4
}
