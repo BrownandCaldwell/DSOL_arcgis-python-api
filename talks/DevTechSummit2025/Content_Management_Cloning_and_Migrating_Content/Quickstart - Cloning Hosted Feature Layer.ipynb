{
 "cells": [
  {
   "cell_type": "markdown",
   "metadata": {
    "jp-MarkdownHeadingCollapsed": true
   },
   "source": [
    "##### Ignore"
   ]
  },
  {
   "cell_type": "code",
   "execution_count": 48,
   "metadata": {},
   "outputs": [],
   "source": [
    "import warnings\n",
    "warnings.filterwarnings(\"ignore\")"
   ]
  },
  {
   "cell_type": "markdown",
   "metadata": {},
   "source": [
    "## Import libraries"
   ]
  },
  {
   "cell_type": "code",
   "execution_count": 49,
   "metadata": {},
   "outputs": [],
   "source": [
    "from arcgis.gis import GIS\n",
    "from arcgis.map import Map"
   ]
  },
  {
   "cell_type": "markdown",
   "metadata": {},
   "source": [
    "## Connect to _source_ and _target_ GIS organizations"
   ]
  },
  {
   "cell_type": "code",
   "execution_count": 55,
   "metadata": {},
   "outputs": [],
   "source": [
    "target = GIS(profile=\"webapps_admin\")\n",
    "source = GIS(profile=\"your_online_admin_profile\")"
   ]
  },
  {
   "cell_type": "code",
   "execution_count": null,
   "metadata": {},
   "outputs": [],
   "source": [
    "print(source)"
   ]
  },
  {
   "cell_type": "code",
   "execution_count": null,
   "metadata": {},
   "outputs": [],
   "source": [
    "source.users.me.username"
   ]
  },
  {
   "cell_type": "code",
   "execution_count": null,
   "metadata": {},
   "outputs": [],
   "source": [
    "print(target)"
   ]
  },
  {
   "cell_type": "markdown",
   "metadata": {},
   "source": [
    "## Search for a _Feature Layer_ to clone"
   ]
  },
  {
   "cell_type": "code",
   "execution_count": 56,
   "metadata": {},
   "outputs": [
    {
     "data": {
      "text/plain": [
       "[<Item title:\"US Power Plants\" type:Feature Layer Collection owner:ArcGISPyAPIBot>]"
      ]
     },
     "execution_count": 56,
     "metadata": {},
     "output_type": "execute_result"
    }
   ],
   "source": [
    "hifld_pplant_items = source.content.search(query=f\"title: * Power Plants AND owner:{source.users.me.username}\", \n",
    "                                        item_type=\"Feature Layer\")\n",
    "hifld_pplant_items"
   ]
  },
  {
   "cell_type": "code",
   "execution_count": 57,
   "metadata": {},
   "outputs": [
    {
     "data": {
      "text/html": [
       "<div class=\"item_container\" style=\"height: auto; overflow: hidden; border: 1px solid #cfcfcf; border-radius: 2px; background: #f6fafa; line-height: 1.21429em; padding: 10px;\">\n",
       "                    <div class=\"item_left\" style=\"width: 210px; float: left;\">\n",
       "                       <a href='https://geosaurus.maps.arcgis.com/home/item.html?id=510f3339e276412e9462c0fc9dcdf205' target='_blank'>\n",
       "                        <img src='data:image/png;base64,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' width='200' height='133' class=\"itemThumbnail\">\n",
       "                       </a>\n",
       "                    </div>\n",
       "\n",
       "                    <div class=\"item_right\"     style=\"float: none; width: auto; overflow: hidden;\">\n",
       "                        <a href='https://geosaurus.maps.arcgis.com/home/item.html?id=510f3339e276412e9462c0fc9dcdf205' target='_blank'><b>US Power Plants</b>\n",
       "                        </a>\n",
       "                        <br/>This feature class/shapefile is for the Homeland Infrastructure Foundation Level Database (HIFLD) (https://gii.dhs.gov/HIFLD) as well as the Energy modelling and simulation community.<br/><img src='https://geosaurus.maps.arcgis.com/home/js/jsapi/esri/css/images/item_type_icons/featureshosted16.png' style=\"vertical-align:middle;\" width=16 height=16>Feature Layer Collection by ArcGISPyAPIBot\n",
       "                        <br/>Last Modified: February 20, 2024\n",
       "                        <br/>0 comments, 101 views\n",
       "                    </div>\n",
       "                </div>\n",
       "                "
      ],
      "text/plain": [
       "<Item title:\"US Power Plants\" type:Feature Layer Collection owner:ArcGISPyAPIBot>"
      ]
     },
     "execution_count": 57,
     "metadata": {},
     "output_type": "execute_result"
    }
   ],
   "source": [
    "hifld_pplant_item = hifld_pplant_items[0]\n",
    "hifld_pplant_item"
   ]
  },
  {
   "cell_type": "code",
   "execution_count": null,
   "metadata": {},
   "outputs": [],
   "source": [
    "hifld_pplant_item.id"
   ]
  },
  {
   "cell_type": "markdown",
   "metadata": {},
   "source": [
    "### Print information about the _Feature Layer_"
   ]
  },
  {
   "cell_type": "code",
   "execution_count": null,
   "metadata": {},
   "outputs": [],
   "source": [
    "hifld_pplant_item.layers"
   ]
  },
  {
   "cell_type": "code",
   "execution_count": null,
   "metadata": {},
   "outputs": [],
   "source": [
    "print(f\"{'Hosted Feature Layer:':35}{hifld_pplant_item.title}\\n{'-'*80}\")\n",
    "print(f\"{' '*2}{'item id:':20}{hifld_pplant_item.id}\")\n",
    "print(f\"{' '*2}individual layer urls:\")\n",
    "for flyr in hifld_pplant_item.layers:\n",
    "    print(f\"{' '*4}{flyr.url}\")"
   ]
  },
  {
   "cell_type": "code",
   "execution_count": 61,
   "metadata": {},
   "outputs": [
    {
     "data": {
      "text/plain": [
       "['ArcGIS Server',\n",
       " 'Data',\n",
       " 'Feature Access',\n",
       " 'Feature Service',\n",
       " 'Metadata',\n",
       " 'Service',\n",
       " 'Singlelayer',\n",
       " 'Hosted Service']"
      ]
     },
     "execution_count": 61,
     "metadata": {},
     "output_type": "execute_result"
    }
   ],
   "source": [
    "hifld_pplant_item.typeKeywords"
   ]
  },
  {
   "cell_type": "markdown",
   "metadata": {},
   "source": [
    "### Visualize the _Feature Layer_"
   ]
  },
  {
   "cell_type": "code",
   "execution_count": 62,
   "metadata": {},
   "outputs": [
    {
     "data": {
      "application/vnd.jupyter.widget-view+json": {
       "model_id": "f52b13a06f534e4cbed2cca887f6f3f7",
       "version_major": 2,
       "version_minor": 1
      },
      "text/plain": [
       "Map(center=[4778944.360468395, -11066784.785637997], extent={'xmin': -16196386.92139204, 'ymin': -745449.92509…"
      ]
     },
     "execution_count": 62,
     "metadata": {},
     "output_type": "execute_result"
    }
   ],
   "source": [
    "map1 = Map(\"United States\", gis=source)\n",
    "map1"
   ]
  },
  {
   "cell_type": "code",
   "execution_count": 63,
   "metadata": {},
   "outputs": [],
   "source": [
    "map1.content.add(hifld_pplant_item)"
   ]
  },
  {
   "cell_type": "markdown",
   "metadata": {},
   "source": [
    "## Clone the _Feature Layer_"
   ]
  },
  {
   "cell_type": "code",
   "execution_count": 65,
   "metadata": {},
   "outputs": [],
   "source": [
    "try:\n",
    "    if not target.content.folders.get(\"power_plant_data\"):\n",
    "        target.content.folders.create(\"power_plant_data\")\n",
    "    cloned_flyr_item = target.content.clone_items(items=[hifld_pplant_item],\n",
    "                                                  folder=\"power_plant_data\")[0]\n",
    "except Exception as e:\n",
    "    print(\"Failed to clone.\")\n",
    "    print(str(e))"
   ]
  },
  {
   "cell_type": "markdown",
   "metadata": {},
   "source": [
    "### Print information about the cloned _Feature Layer_"
   ]
  },
  {
   "cell_type": "code",
   "execution_count": 73,
   "metadata": {},
   "outputs": [
    {
     "data": {
      "text/html": [
       "<div class=\"item_container\" style=\"height: auto; overflow: hidden; border: 1px solid #cfcfcf; border-radius: 2px; background: #f6fafa; line-height: 1.21429em; padding: 10px;\">\n",
       "                    <div class=\"item_left\" style=\"width: 210px; float: left;\">\n",
       "                       <a href='https://pythonapi.maps.arcgis.com/home/item.html?id=dd3ac5e7e5aa4911829ece558cedd18d' target='_blank'>\n",
       "                        <img src='data:image/png;base64,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' width='200' height='133' class=\"itemThumbnail\">\n",
       "                       </a>\n",
       "                    </div>\n",
       "\n",
       "                    <div class=\"item_right\"     style=\"float: none; width: auto; overflow: hidden;\">\n",
       "                        <a href='https://pythonapi.maps.arcgis.com/home/item.html?id=dd3ac5e7e5aa4911829ece558cedd18d' target='_blank'><b>US Power Plants</b>\n",
       "                        </a>\n",
       "                        <br/>This feature class/shapefile is for the Homeland Infrastructure Foundation Level Database (HIFLD) (https://gii.dhs.gov/HIFLD) as well as the Energy modelling and simulation community.<br/><img src='https://pythonapi.maps.arcgis.com/home/js/jsapi/esri/css/images/item_type_icons/featureshosted16.png' style=\"vertical-align:middle;\" width=16 height=16>Feature Layer Collection by tkukreja_pythonapi\n",
       "                        <br/>Last Modified: March 13, 2025\n",
       "                        <br/>0 comments, 1 views\n",
       "                    </div>\n",
       "                </div>\n",
       "                "
      ],
      "text/plain": [
       "<Item title:\"US Power Plants\" type:Feature Layer Collection owner:tkukreja_pythonapi>"
      ]
     },
     "execution_count": 73,
     "metadata": {},
     "output_type": "execute_result"
    }
   ],
   "source": [
    "cloned_flyr_item"
   ]
  },
  {
   "cell_type": "code",
   "execution_count": null,
   "metadata": {},
   "outputs": [],
   "source": [
    "print(f\"{'Hosted Feature Layer:':35}{cloned_flyr_item.title}\\n{'-'*80}\")\n",
    "print(f\"{' '*2}{'item id:':20}{cloned_flyr_item.id}\")\n",
    "print(f\"{' '*2}individual layer urls:\")\n",
    "for flyr in cloned_flyr_item.layers:\n",
    "    print(f\"{' '*4}{flyr.url}\")"
   ]
  },
  {
   "cell_type": "code",
   "execution_count": 75,
   "metadata": {},
   "outputs": [
    {
     "data": {
      "text/plain": [
       "['ArcGIS Server',\n",
       " 'Data',\n",
       " 'Feature Access',\n",
       " 'Feature Service',\n",
       " 'Metadata',\n",
       " 'Service',\n",
       " 'Singlelayer',\n",
       " 'source-510f3339e276412e9462c0fc9dcdf205',\n",
       " 'Hosted Service']"
      ]
     },
     "execution_count": 75,
     "metadata": {},
     "output_type": "execute_result"
    }
   ],
   "source": [
    "cloned_flyr_item.typeKeywords"
   ]
  },
  {
   "cell_type": "markdown",
   "metadata": {},
   "source": [
    "### Visualize the cloned _Feature Layer_"
   ]
  },
  {
   "cell_type": "code",
   "execution_count": 76,
   "metadata": {},
   "outputs": [
    {
     "data": {
      "application/vnd.jupyter.widget-view+json": {
       "model_id": "af81539558ff4c1da6de3cc60e89524f",
       "version_major": 2,
       "version_minor": 1
      },
      "text/plain": [
       "Map(center=[4778944.360468395, -11066784.785637997], extent={'xmin': -16196386.92139204, 'ymin': -745449.92509…"
      ]
     },
     "execution_count": 76,
     "metadata": {},
     "output_type": "execute_result"
    }
   ],
   "source": [
    "map2 = Map(\"United States\", gis=target)\n",
    "map2.content.add(cloned_flyr_item)\n",
    "map2"
   ]
  }
 ],
 "metadata": {
  "kernelspec": {
   "display_name": "Python 3 (ipykernel)",
   "language": "python",
   "name": "python3"
  },
  "language_info": {
   "codemirror_mode": {
    "name": "ipython",
    "version": 3
   },
   "file_extension": ".py",
   "mimetype": "text/x-python",
   "name": "python",
   "nbconvert_exporter": "python",
   "pygments_lexer": "ipython3",
   "version": "3.11.10"
  }
 },
 "nbformat": 4,
 "nbformat_minor": 4
}
