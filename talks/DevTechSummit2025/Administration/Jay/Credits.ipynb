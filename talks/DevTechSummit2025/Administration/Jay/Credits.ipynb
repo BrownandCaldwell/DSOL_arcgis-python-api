{
 "cells": [
  {
   "cell_type": "code",
   "execution_count": 1,
   "id": "e1d0342b-3311-4576-8e3c-bb79f7a66145",
   "metadata": {},
   "outputs": [
    {
     "data": {
      "text/html": [
       "<div class=\"9item_container\" style=\"height: auto; overflow: hidden; border: 1px solid #cfcfcf; border-radius: 2px; background: #f6fafa; line-height: 1.21429em; padding: 10px;\">\n",
       "                    <div class=\"item_left\" style=\"width: 210px; float: left;\">\n",
       "                       <a href='https://geosaurus.maps.arcgis.com/home/user.html?user=ArcGISPyAPIBot' target='_blank'>\n",
       "                        <img src='data:image/png;base64,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' width='200' height='133' class=\"itemThumbnail\">\n",
       "                       </a>\n",
       "                    </div>\n",
       "\n",
       "                    <div class=\"item_right\" style=\"float: none; width: auto; overflow: hidden;\">\n",
       "                        <a href='https://geosaurus.maps.arcgis.com/home/user.html?user=ArcGISPyAPIBot' target='_blank'><b>ArcGIS PyAPIBot</b>\n",
       "                        </a>\n",
       "                        <br/><br/><b>Bio</b>: \n",
       "                        <br/><b>First Name</b>: ArcGIS\n",
       "                        <br/><b>Last Name</b>: PyAPIBot\n",
       "                        <br/><b>Username</b>: ArcGISPyAPIBot\n",
       "                        <br/><b>Joined</b>: February 20, 2018\n",
       "\n",
       "                    </div>\n",
       "                </div>\n",
       "                "
      ],
      "text/plain": [
       "<User username:ArcGISPyAPIBot>"
      ]
     },
     "execution_count": 1,
     "metadata": {},
     "output_type": "execute_result"
    }
   ],
   "source": [
    "import arcgis\n",
    "gis = arcgis.GIS(profile=\"your_online_admin_profile\")\n",
    "gis.users.me"
   ]
  },
  {
   "cell_type": "code",
   "execution_count": 2,
   "id": "3c530dd7-e4b7-47f0-b037-b159ed0a93b3",
   "metadata": {},
   "outputs": [
    {
     "data": {
      "text/plain": [
       "550"
      ]
     },
     "execution_count": 2,
     "metadata": {},
     "output_type": "execute_result"
    }
   ],
   "source": [
    "gis.admin.credits.default_limit"
   ]
  },
  {
   "cell_type": "code",
   "execution_count": 3,
   "id": "85cefd8b-51c3-43af-823c-57e47905da74",
   "metadata": {},
   "outputs": [],
   "source": [
    "gis.admin.credits.default_limit += 50 "
   ]
  },
  {
   "cell_type": "code",
   "execution_count": 4,
   "id": "8aac1034-4918-453e-a7b7-f9748dcaa70f",
   "metadata": {},
   "outputs": [
    {
     "data": {
      "text/plain": [
       "600"
      ]
     },
     "execution_count": 4,
     "metadata": {},
     "output_type": "execute_result"
    }
   ],
   "source": [
    "gis.admin.credits.default_limit"
   ]
  },
  {
   "cell_type": "code",
   "execution_count": 5,
   "id": "821ec7dd-0735-4537-8fee-5fa045321b01",
   "metadata": {},
   "outputs": [
    {
     "data": {
      "text/plain": [
       "-1.0"
      ]
     },
     "execution_count": 5,
     "metadata": {},
     "output_type": "execute_result"
    }
   ],
   "source": [
    "gis.users.me.assignedCredits"
   ]
  },
  {
   "cell_type": "code",
   "execution_count": null,
   "id": "62ad7aeb-1cca-42b9-a3e8-f9b193d1d82a",
   "metadata": {},
   "outputs": [],
   "source": [
    "# -1 is unlimited"
   ]
  },
  {
   "cell_type": "code",
   "execution_count": 6,
   "id": "940680bf-ccd7-486c-932a-2ebaa4779d42",
   "metadata": {},
   "outputs": [
    {
     "data": {
      "text/plain": [
       "1200"
      ]
     },
     "execution_count": 6,
     "metadata": {},
     "output_type": "execute_result"
    }
   ],
   "source": [
    "gis.users.me.assignedCredits = gis.admin.credits.default_limit * 2\n",
    "gis.users.me.assignedCredits"
   ]
  },
  {
   "cell_type": "code",
   "execution_count": null,
   "id": "bbea59e9-4160-412b-8cce-c5b5f57a9300",
   "metadata": {},
   "outputs": [],
   "source": []
  }
 ],
 "metadata": {
  "kernelspec": {
   "display_name": "Python 3 (ipykernel)",
   "language": "python",
   "name": "python3"
  },
  "language_info": {
   "codemirror_mode": {
    "name": "ipython",
    "version": 3
   },
   "file_extension": ".py",
   "mimetype": "text/x-python",
   "name": "python",
   "nbconvert_exporter": "python",
   "pygments_lexer": "ipython3",
   "version": "3.11.11"
  }
 },
 "nbformat": 4,
 "nbformat_minor": 5
}
