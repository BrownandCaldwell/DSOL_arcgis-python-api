{
 "cells": [
  {
   "cell_type": "markdown",
   "metadata": {},
   "source": [
    "# Continuing to Administer Portal and Server"
   ]
  },
  {
   "cell_type": "markdown",
   "metadata": {},
   "source": [
    "### Deep Dive into PortalAdmin API"
   ]
  },
  {
   "cell_type": "markdown",
   "metadata": {},
   "source": [
    "####  Inspecting the Portal's Machines\n",
    "\n",
    "- query the machines that power your portal\n",
    "\n"
   ]
  },
  {
   "cell_type": "code",
   "execution_count": 1,
   "metadata": {},
   "outputs": [],
   "source": [
    "from arcgis.gis import GIS\n",
    "gis = GIS(profile='your_enterprise_profile')"
   ]
  },
  {
   "cell_type": "code",
   "execution_count": 2,
   "metadata": {},
   "outputs": [
    {
     "data": {
      "text/plain": [
       "< Machines @ https://pythonapi.playground.esri.com/portal/portaladmin/machines >"
      ]
     },
     "execution_count": 2,
     "metadata": {},
     "output_type": "execute_result"
    }
   ],
   "source": [
    "machines = gis.admin.machines\n",
    "machines"
   ]
  },
  {
   "cell_type": "code",
   "execution_count": 3,
   "metadata": {},
   "outputs": [
    {
     "data": {
      "text/plain": [
       "[< Machine @ https://pythonapi.playground.esri.com/portal/portaladmin/machines >]"
      ]
     },
     "execution_count": 3,
     "metadata": {},
     "output_type": "execute_result"
    }
   ],
   "source": [
    "machines.list()"
   ]
  },
  {
   "cell_type": "markdown",
   "metadata": {},
   "source": [
    "**Check if Machine is Running**\n"
   ]
  },
  {
   "cell_type": "code",
   "execution_count": 5,
   "metadata": {},
   "outputs": [
    {
     "data": {
      "text/plain": [
       "{\n",
       "  \"machineName\": \"IP-172-31-37-58.US-EAST-2.COMPUTE.INTERNAL\",\n",
       "  \"adminURL\": \"https://ip-172-31-37-58.us-east-2.compute.internal:7443/arcgis\",\n",
       "  \"role\": \"\",\n",
       "  \"platform\": \"Linux-amd64-5.19.0-1025-aws\"\n",
       "}"
      ]
     },
     "execution_count": 5,
     "metadata": {},
     "output_type": "execute_result"
    }
   ],
   "source": [
    "machine = machines.list()[0]\n",
    "machine.properties"
   ]
  },
  {
   "cell_type": "markdown",
   "metadata": {},
   "source": [
    "**Check if Machine is Running**"
   ]
  },
  {
   "cell_type": "code",
   "execution_count": 6,
   "metadata": {},
   "outputs": [
    {
     "data": {
      "text/plain": [
       "True"
      ]
     },
     "execution_count": 6,
     "metadata": {},
     "output_type": "execute_result"
    }
   ],
   "source": [
    "machine = machines.list()[0]\n",
    "machine.status()"
   ]
  },
  {
   "cell_type": "markdown",
   "metadata": {},
   "source": [
    "#### System Directories\n",
    "\n",
    "- inspect the physical pathes where resources are stored"
   ]
  },
  {
   "cell_type": "code",
   "execution_count": 20,
   "metadata": {},
   "outputs": [
    {
     "data": {
      "text/plain": [
       "[< Directory @ https://rextapilnx02eb.esri.com/portal/portaladmin/system/directories/content >,\n",
       " < Directory @ https://rextapilnx02eb.esri.com/portal/portaladmin/system/directories/index >,\n",
       " < Directory @ https://rextapilnx02eb.esri.com/portal/portaladmin/system/directories/db >,\n",
       " < Directory @ https://rextapilnx02eb.esri.com/portal/portaladmin/system/directories/temp >]"
      ]
     },
     "execution_count": 20,
     "metadata": {},
     "output_type": "execute_result"
    }
   ],
   "source": [
    "directories = gis.admin.system.directories\n",
    "directories"
   ]
  },
  {
   "cell_type": "code",
   "execution_count": 21,
   "metadata": {},
   "outputs": [
    {
     "data": {
      "text/plain": [
       "{\n",
       "  \"name\": \"content\",\n",
       "  \"physicalPath\": \"{\\\"type\\\":\\\"fileStore\\\",\\\"provider\\\":\\\"FileSystem\\\",\\\"connectionString\\\":\\\"/data/arcgis/usr/arcgisportal/content\\\"}\",\n",
       "  \"directoryType\": \"CONTENT\",\n",
       "  \"description\": \"The content directory.\"\n",
       "}"
      ]
     },
     "execution_count": 21,
     "metadata": {},
     "output_type": "execute_result"
    }
   ],
   "source": [
    "d = directories[0]\n",
    "d.properties"
   ]
  },
  {
   "cell_type": "markdown",
   "metadata": {},
   "source": [
    "#### The System "
   ]
  },
  {
   "cell_type": "code",
   "execution_count": 22,
   "metadata": {},
   "outputs": [
    {
     "data": {
      "text/plain": [
       "< System @ https://rextapilnx02eb.esri.com/portal/portaladmin/system >"
      ]
     },
     "execution_count": 22,
     "metadata": {},
     "output_type": "execute_result"
    }
   ],
   "source": [
    "system = gis.admin.system\n",
    "system"
   ]
  },
  {
   "cell_type": "code",
   "execution_count": 23,
   "metadata": {},
   "outputs": [
    {
     "data": {
      "text/plain": [
       "{}"
      ]
     },
     "execution_count": 23,
     "metadata": {},
     "output_type": "execute_result"
    }
   ],
   "source": [
    "system.properties"
   ]
  },
  {
   "cell_type": "markdown",
   "metadata": {},
   "source": [
    "#### Re-indexing\n",
    "\n",
    "- Sometimes artifacts remain after deleting items\n",
    "- Forcing re-indexing can solved that problem"
   ]
  },
  {
   "cell_type": "code",
   "execution_count": 16,
   "metadata": {},
   "outputs": [
    {
     "data": {
      "text/plain": [
       "{'indexes': [{'name': 'users', 'databaseCount': 77, 'indexCount': 77},\n",
       "  {'name': 'groups', 'databaseCount': 456, 'indexCount': 456},\n",
       "  {'name': 'search', 'databaseCount': 15830, 'indexCount': 15830}],\n",
       " 'syncStatus': True}"
      ]
     },
     "execution_count": 16,
     "metadata": {},
     "output_type": "execute_result"
    }
   ],
   "source": [
    "system.index_status"
   ]
  },
  {
   "cell_type": "code",
   "execution_count": 17,
   "metadata": {},
   "outputs": [
    {
     "data": {
      "text/plain": [
       "True"
      ]
     },
     "execution_count": 17,
     "metadata": {},
     "output_type": "execute_result"
    }
   ],
   "source": [
    "system.reindex(mode=\"SEARCH_MODE\")"
   ]
  },
  {
   "cell_type": "code",
   "execution_count": 19,
   "metadata": {},
   "outputs": [
    {
     "data": {
      "text/plain": [
       "{'status': 'A reindex operation is in progress.  Portal content and search operations will be unavailable until the reindex is complete.  You can monitor the status by refreshing the page.'}"
      ]
     },
     "execution_count": 19,
     "metadata": {},
     "output_type": "execute_result"
    }
   ],
   "source": [
    "system.index_status"
   ]
  },
  {
   "cell_type": "markdown",
   "metadata": {},
   "source": [
    "## Managing ArcGIS Server"
   ]
  },
  {
   "cell_type": "markdown",
   "metadata": {},
   "source": [
    "### Managing Federated Servers"
   ]
  },
  {
   "cell_type": "markdown",
   "metadata": {},
   "source": [
    "- The `admin` property provides useful tools to manage ArcGIS Server instances"
   ]
  },
  {
   "cell_type": "code",
   "execution_count": 7,
   "metadata": {},
   "outputs": [
    {
     "name": "stderr",
     "output_type": "stream",
     "text": [
      "Setting `verify_cert` to False is a security risk, use at your own risk.\n"
     ]
    },
    {
     "data": {
      "text/plain": [
       "< ServerManager @ https://pythonapi.playground.esri.com/portal/portaladmin >"
      ]
     },
     "execution_count": 7,
     "metadata": {},
     "output_type": "execute_result"
    }
   ],
   "source": [
    "gis = GIS(verify_cert=False, profile='your_enterprise_profile')\n",
    "servers = gis.admin.servers\n",
    "servers"
   ]
  },
  {
   "cell_type": "markdown",
   "metadata": {},
   "source": [
    "#### Listing the Federated Servers\n"
   ]
  },
  {
   "cell_type": "code",
   "execution_count": 8,
   "metadata": {},
   "outputs": [
    {
     "data": {
      "text/plain": [
       "[< Server @ https://pythonapi.playground.esri.com/server/admin >,\n",
       " < Server @ https://pythonapi.playground.esri.com/ga/admin >,\n",
       " < Server @ https://pythonapi.playground.esri.com/ra/admin >,\n",
       " < NotebookServer @ https://pythonapi.playground.esri.com/dsx/admin >]"
      ]
     },
     "execution_count": 8,
     "metadata": {},
     "output_type": "execute_result"
    }
   ],
   "source": [
    "s = servers.list()\n",
    "s"
   ]
  },
  {
   "cell_type": "markdown",
   "metadata": {},
   "source": [
    "#### Lists Server Certificates"
   ]
  },
  {
   "cell_type": "code",
   "execution_count": 9,
   "metadata": {},
   "outputs": [],
   "source": [
    "machine = s[1].machines.list()[0]"
   ]
  },
  {
   "cell_type": "code",
   "execution_count": 10,
   "metadata": {},
   "outputs": [
    {
     "data": {
      "text/plain": [
       "{'certificates': ['selfsignedcertificate']}"
      ]
     },
     "execution_count": 10,
     "metadata": {},
     "output_type": "execute_result"
    }
   ],
   "source": [
    "machine.ssl_certificates"
   ]
  },
  {
   "cell_type": "markdown",
   "metadata": {},
   "source": [
    "#### Check if Servers are Working\n",
    "\n",
    "- validate ensures everything is federated and running correctly"
   ]
  },
  {
   "cell_type": "code",
   "execution_count": 11,
   "metadata": {},
   "outputs": [
    {
     "data": {
      "text/plain": [
       "True"
      ]
     },
     "execution_count": 11,
     "metadata": {},
     "output_type": "execute_result"
    }
   ],
   "source": [
    "servers.validate()"
   ]
  },
  {
   "cell_type": "markdown",
   "metadata": {},
   "source": [
    "### Connecting to a Server"
   ]
  },
  {
   "cell_type": "markdown",
   "metadata": {},
   "source": [
    "#### Accessing Single Server\n"
   ]
  },
  {
   "cell_type": "code",
   "execution_count": 14,
   "metadata": {},
   "outputs": [
    {
     "data": {
      "text/plain": [
       "< Server @ https://pythonapi.playground.esri.com/server/admin >"
      ]
     },
     "execution_count": 14,
     "metadata": {},
     "output_type": "execute_result"
    }
   ],
   "source": [
    "server = s[0]\n",
    "server"
   ]
  },
  {
   "cell_type": "code",
   "execution_count": 15,
   "metadata": {},
   "outputs": [
    {
     "data": {
      "text/plain": [
       "{\n",
       "  \"isServerLicensed\": \"true\",\n",
       "  \"resources\": [\n",
       "    \"machines\",\n",
       "    \"clusters\",\n",
       "    \"system\",\n",
       "    \"services\",\n",
       "    \"security\",\n",
       "    \"data\",\n",
       "    \"uploads\",\n",
       "    \"logs\",\n",
       "    \"mode\",\n",
       "    \"usagereports\",\n",
       "    \"webhooks\"\n",
       "  ],\n",
       "  \"currentVersion\": 11.1,\n",
       "  \"fullVersion\": \"11.1.0\",\n",
       "  \"acceptLanguage\": null\n",
       "}"
      ]
     },
     "execution_count": 15,
     "metadata": {},
     "output_type": "execute_result"
    }
   ],
   "source": [
    "server.properties"
   ]
  },
  {
   "cell_type": "markdown",
   "metadata": {},
   "source": [
    "#### Accessing Server Logs\n",
    "\n",
    "- Like the portal Logs, server provide a host of information"
   ]
  },
  {
   "cell_type": "code",
   "execution_count": 17,
   "metadata": {},
   "outputs": [
    {
     "data": {
      "text/plain": [
       "<LogManager at https://pythonapi.playground.esri.com/server/admin/logs>"
      ]
     },
     "execution_count": 17,
     "metadata": {},
     "output_type": "execute_result"
    }
   ],
   "source": [
    "logs = server.logs\n",
    "logs"
   ]
  },
  {
   "cell_type": "code",
   "execution_count": 18,
   "metadata": {},
   "outputs": [
    {
     "data": {
      "text/plain": [
       "{'logDir': '/data/arcgis/server/usr/logs/',\n",
       " 'logLevel': 'WARNING',\n",
       " 'maxErrorReportsCount': 10,\n",
       " 'maxLogFileAge': 90,\n",
       " 'usageMeteringEnabled': False,\n",
       " 'statisticsConfig': {'enabled': True,\n",
       "  'samplingInterval': 30,\n",
       "  'maxHistory': 0,\n",
       "  'statisticsDir': '/data/arcgis/arcgisserver/directories/arcgissystem'}}"
      ]
     },
     "execution_count": 18,
     "metadata": {},
     "output_type": "execute_result"
    }
   ],
   "source": [
    "logs.settings"
   ]
  },
  {
   "cell_type": "markdown",
   "metadata": {},
   "source": [
    "**Demo: Querying Logs**"
   ]
  },
  {
   "cell_type": "code",
   "execution_count": 19,
   "metadata": {},
   "outputs": [
    {
     "data": {
      "text/html": [
       "<div>\n",
       "<style scoped>\n",
       "    .dataframe tbody tr th:only-of-type {\n",
       "        vertical-align: middle;\n",
       "    }\n",
       "\n",
       "    .dataframe tbody tr th {\n",
       "        vertical-align: top;\n",
       "    }\n",
       "\n",
       "    .dataframe thead th {\n",
       "        text-align: right;\n",
       "    }\n",
       "</style>\n",
       "<table border=\"1\" class=\"dataframe\">\n",
       "  <thead>\n",
       "    <tr style=\"text-align: right;\">\n",
       "      <th></th>\n",
       "      <th>type</th>\n",
       "      <th>message</th>\n",
       "      <th>time</th>\n",
       "      <th>source</th>\n",
       "      <th>machine</th>\n",
       "      <th>user</th>\n",
       "      <th>code</th>\n",
       "      <th>elapsed</th>\n",
       "      <th>process</th>\n",
       "      <th>thread</th>\n",
       "      <th>methodName</th>\n",
       "      <th>requestID</th>\n",
       "    </tr>\n",
       "  </thead>\n",
       "  <tbody>\n",
       "    <tr>\n",
       "      <th>0</th>\n",
       "      <td>SEVERE</td>\n",
       "      <td>Error executing tool. Export Web Map Task : Fa...</td>\n",
       "      <td>1739475158626</td>\n",
       "      <td>Utilities/PrintingTools.GPServer</td>\n",
       "      <td>IP-172-31-44-255.US-EAST-2.COMPUTE.INTERNAL</td>\n",
       "      <td>nparavicini</td>\n",
       "      <td>20010</td>\n",
       "      <td></td>\n",
       "      <td>3762266</td>\n",
       "      <td>5336</td>\n",
       "      <td>GPServerSync.CheckMessages</td>\n",
       "      <td>cc3659d1-a3c5-4787-b238-d358b9e82dbb</td>\n",
       "    </tr>\n",
       "    <tr>\n",
       "      <th>1</th>\n",
       "      <td>SEVERE</td>\n",
       "      <td>ERROR: Unable to refresh item, Generic Server ...</td>\n",
       "      <td>1739252326075</td>\n",
       "      <td>System/PublishingTools.GPServer</td>\n",
       "      <td>IP-172-31-44-255.US-EAST-2.COMPUTE.INTERNAL</td>\n",
       "      <td>nparavicini</td>\n",
       "      <td>23836</td>\n",
       "      <td></td>\n",
       "      <td>2572927</td>\n",
       "      <td>408</td>\n",
       "      <td>SDMapServicePublisher::UpdatePortalServiceItem...</td>\n",
       "      <td>6dfdec54-e840-4f15-899e-cf36cb663cfc</td>\n",
       "    </tr>\n",
       "    <tr>\n",
       "      <th>2</th>\n",
       "      <td>WARNING</td>\n",
       "      <td>RefreshPortalItem failed. Service's item exten...</td>\n",
       "      <td>1739252326069</td>\n",
       "      <td>System/PublishingTools.GPServer</td>\n",
       "      <td>IP-172-31-44-255.US-EAST-2.COMPUTE.INTERNAL</td>\n",
       "      <td>nparavicini</td>\n",
       "      <td>23837</td>\n",
       "      <td></td>\n",
       "      <td>2572927</td>\n",
       "      <td>408</td>\n",
       "      <td>SDMapServicePublisher::UpdatePortalServiceItem...</td>\n",
       "      <td>6dfdec54-e840-4f15-899e-cf36cb663cfc</td>\n",
       "    </tr>\n",
       "    <tr>\n",
       "      <th>3</th>\n",
       "      <td>SEVERE</td>\n",
       "      <td>Error executing tool. Export Web Map Task : Fa...</td>\n",
       "      <td>1738846154429</td>\n",
       "      <td>Utilities/PrintingTools.GPServer</td>\n",
       "      <td>IP-172-31-44-255.US-EAST-2.COMPUTE.INTERNAL</td>\n",
       "      <td>naubry</td>\n",
       "      <td>20010</td>\n",
       "      <td></td>\n",
       "      <td>3762266</td>\n",
       "      <td>5336</td>\n",
       "      <td>GPServerSync.CheckMessages</td>\n",
       "      <td>2c72e783-6d23-4647-9462-6133f9678d06</td>\n",
       "    </tr>\n",
       "    <tr>\n",
       "      <th>4</th>\n",
       "      <td>SEVERE</td>\n",
       "      <td>Error executing tool. Export Web Map Task : Fa...</td>\n",
       "      <td>1738846153566</td>\n",
       "      <td>Utilities/PrintingTools.GPServer</td>\n",
       "      <td>IP-172-31-44-255.US-EAST-2.COMPUTE.INTERNAL</td>\n",
       "      <td>naubry</td>\n",
       "      <td>20010</td>\n",
       "      <td></td>\n",
       "      <td>3762266</td>\n",
       "      <td>5336</td>\n",
       "      <td>GPServerSync.CheckMessages</td>\n",
       "      <td>274487b9-760b-43dd-901f-95dc1e4ef562</td>\n",
       "    </tr>\n",
       "  </tbody>\n",
       "</table>\n",
       "</div>"
      ],
      "text/plain": [
       "      type                                            message           time  \\\n",
       "0   SEVERE  Error executing tool. Export Web Map Task : Fa...  1739475158626   \n",
       "1   SEVERE  ERROR: Unable to refresh item, Generic Server ...  1739252326075   \n",
       "2  WARNING  RefreshPortalItem failed. Service's item exten...  1739252326069   \n",
       "3   SEVERE  Error executing tool. Export Web Map Task : Fa...  1738846154429   \n",
       "4   SEVERE  Error executing tool. Export Web Map Task : Fa...  1738846153566   \n",
       "\n",
       "                             source  \\\n",
       "0  Utilities/PrintingTools.GPServer   \n",
       "1   System/PublishingTools.GPServer   \n",
       "2   System/PublishingTools.GPServer   \n",
       "3  Utilities/PrintingTools.GPServer   \n",
       "4  Utilities/PrintingTools.GPServer   \n",
       "\n",
       "                                       machine         user   code elapsed  \\\n",
       "0  IP-172-31-44-255.US-EAST-2.COMPUTE.INTERNAL  nparavicini  20010           \n",
       "1  IP-172-31-44-255.US-EAST-2.COMPUTE.INTERNAL  nparavicini  23836           \n",
       "2  IP-172-31-44-255.US-EAST-2.COMPUTE.INTERNAL  nparavicini  23837           \n",
       "3  IP-172-31-44-255.US-EAST-2.COMPUTE.INTERNAL       naubry  20010           \n",
       "4  IP-172-31-44-255.US-EAST-2.COMPUTE.INTERNAL       naubry  20010           \n",
       "\n",
       "   process thread                                         methodName  \\\n",
       "0  3762266   5336                         GPServerSync.CheckMessages   \n",
       "1  2572927    408  SDMapServicePublisher::UpdatePortalServiceItem...   \n",
       "2  2572927    408  SDMapServicePublisher::UpdatePortalServiceItem...   \n",
       "3  3762266   5336                         GPServerSync.CheckMessages   \n",
       "4  3762266   5336                         GPServerSync.CheckMessages   \n",
       "\n",
       "                              requestID  \n",
       "0  cc3659d1-a3c5-4787-b238-d358b9e82dbb  \n",
       "1  6dfdec54-e840-4f15-899e-cf36cb663cfc  \n",
       "2  6dfdec54-e840-4f15-899e-cf36cb663cfc  \n",
       "3  2c72e783-6d23-4647-9462-6133f9678d06  \n",
       "4  274487b9-760b-43dd-901f-95dc1e4ef562  "
      ]
     },
     "execution_count": 19,
     "metadata": {},
     "output_type": "execute_result"
    }
   ],
   "source": [
    "import pandas as pd\n",
    "import datetime as _dt\n",
    "msgs = logs.query(\n",
    "    start_time=_dt.datetime.now() - _dt.timedelta(days=10))['logMessages']\n",
    "pd.DataFrame(msgs).head()"
   ]
  },
  {
   "cell_type": "markdown",
   "metadata": {},
   "source": [
    "### Managing service folders"
   ]
  },
  {
   "cell_type": "markdown",
   "metadata": {},
   "source": [
    "**Creating a Folder** \n",
    "\n",
    "- use `create_folder`"
   ]
  },
  {
   "cell_type": "code",
   "execution_count": 22,
   "metadata": {},
   "outputs": [
    {
     "data": {
      "text/plain": [
       "True"
      ]
     },
     "execution_count": 22,
     "metadata": {},
     "output_type": "execute_result"
    }
   ],
   "source": [
    "server.services.create_folder(\"devsummit25\")"
   ]
  },
  {
   "cell_type": "markdown",
   "metadata": {},
   "source": [
    "**Delete a Folder** \n",
    "\n",
    "- use `delete_folder`"
   ]
  },
  {
   "cell_type": "code",
   "execution_count": 23,
   "metadata": {},
   "outputs": [
    {
     "data": {
      "text/plain": [
       "True"
      ]
     },
     "execution_count": 23,
     "metadata": {},
     "output_type": "execute_result"
    }
   ],
   "source": [
    "server.services.delete_folder('devsummit25')"
   ]
  },
  {
   "cell_type": "markdown",
   "metadata": {},
   "source": [
    "### Managing Services"
   ]
  },
  {
   "cell_type": "markdown",
   "metadata": {},
   "source": [
    "- Access service management from `services` property\n",
    "- Provides the ability start,stop, delete, and modify services"
   ]
  },
  {
   "cell_type": "code",
   "execution_count": 24,
   "metadata": {},
   "outputs": [
    {
     "data": {
      "text/plain": [
       "< ServiceManager @ https://pythonapi.playground.esri.com/server/admin/services >"
      ]
     },
     "execution_count": 24,
     "metadata": {},
     "output_type": "execute_result"
    }
   ],
   "source": [
    "services = server.services\n",
    "services"
   ]
  },
  {
   "cell_type": "markdown",
   "metadata": {},
   "source": [
    "#### Checking if Service Exists"
   ]
  },
  {
   "cell_type": "markdown",
   "metadata": {},
   "source": [
    "To check if a service exists on your server, call the `exists` method and specify the folder name, service name and type. You can also use this method to verify if a folder exists on the server."
   ]
  },
  {
   "cell_type": "code",
   "execution_count": 25,
   "metadata": {},
   "outputs": [
    {
     "data": {
      "text/plain": [
       "False"
      ]
     },
     "execution_count": 25,
     "metadata": {},
     "output_type": "execute_result"
    }
   ],
   "source": [
    "services.exists(folder_name='Hosted', name='Ports', service_type='FeatureServer')"
   ]
  },
  {
   "cell_type": "markdown",
   "metadata": {},
   "source": [
    "#### Demo: Listing all Services"
   ]
  },
  {
   "cell_type": "code",
   "execution_count": 26,
   "metadata": {},
   "outputs": [
    {
     "name": "stdout",
     "output_type": "stream",
     "text": [
      "<Service at https://pythonapi.playground.esri.com/server/admin/services/customgp/Model.GPServer>\n",
      "<Service at https://pythonapi.playground.esri.com/server/admin/services/Hosted/1Diffuse80VolumeContinousXYZ.SceneServer>\n",
      "<Service at https://pythonapi.playground.esri.com/server/admin/services/Hosted/20240508_kdt_service.FeatureServer>\n",
      "<Service at https://pythonapi.playground.esri.com/server/admin/services/Hosted/a89b39bb6d524298a2a67f61cc8618c7_da89c.FeatureServer>\n",
      "<Service at https://pythonapi.playground.esri.com/server/admin/services/Hosted/ac0b23c7d49d33e1.VectorTileServer>\n",
      "<Service at https://pythonapi.playground.esri.com/server/admin/services/Hosted/Active_California_Fires.FeatureServer>\n",
      "<Service at https://pythonapi.playground.esri.com/server/admin/services/Hosted/adb69d.FeatureServer>\n",
      "<Service at https://pythonapi.playground.esri.com/server/admin/services/Hosted/All.FeatureServer>\n",
      "<Service at https://pythonapi.playground.esri.com/server/admin/services/Hosted/all_attr_renamed.FeatureServer>\n",
      "<Service at https://pythonapi.playground.esri.com/server/admin/services/Hosted/ALS_Clinic_90minDriveTime.FeatureServer>\n",
      "<Service at https://pythonapi.playground.esri.com/server/admin/services/Hosted/ALS_Clinic_City_Candidates_CA.FeatureServer>\n",
      "<Service at https://pythonapi.playground.esri.com/server/admin/services/Hosted/ALS_Clinics_CA.FeatureServer>\n",
      "<Service at https://pythonapi.playground.esri.com/server/admin/services/Hosted/ALS_Patients_CA.FeatureServer>\n",
      "<Service at https://pythonapi.playground.esri.com/server/admin/services/Hosted/At_Risk_Infrastructure_2020_07_07_13_26_50.FeatureServer>\n",
      "<Service at https://pythonapi.playground.esri.com/server/admin/services/Hosted/At_Risk_Infrastructure_2024_03_22_04_35_44.FeatureServer>\n",
      "<Service at https://pythonapi.playground.esri.com/server/admin/services/Hosted/At_Risk_Infrastructure_2024_05_01_19_18_33.FeatureServer>\n",
      "<Service at https://pythonapi.playground.esri.com/server/admin/services/Hosted/At_Risk_Infrastructure_2024_05_07_18_41_36.FeatureServer>\n",
      "<Service at https://pythonapi.playground.esri.com/server/admin/services/Hosted/At_Risk_Infrastructure_2024_05_08_00_43_56.FeatureServer>\n",
      "<Service at https://pythonapi.playground.esri.com/server/admin/services/Hosted/At_Risk_Infrastructure_2024_05_08_12_25_46.FeatureServer>\n",
      "<Service at https://pythonapi.playground.esri.com/server/admin/services/Hosted/At_Risk_Infrastructure_2024_05_08_12_30_40.FeatureServer>\n",
      "<Service at https://pythonapi.playground.esri.com/server/admin/services/Hosted/At_Risk_Infrastructure_2025_02_24_20_45_58.FeatureServer>\n",
      "<Service at https://pythonapi.playground.esri.com/server/admin/services/Hosted/At_Risk_Infrastructure_2025_02_25_19_08_47.FeatureServer>\n",
      "<Service at https://pythonapi.playground.esri.com/server/admin/services/Hosted/BeaverCreek_Flowlines.FeatureServer>\n",
      "<Service at https://pythonapi.playground.esri.com/server/admin/services/Hosted/bfootprint_withstatus.FeatureServer>\n",
      "<Service at https://pythonapi.playground.esri.com/server/admin/services/Hosted/Buffers_around_ports.FeatureServer>\n",
      "<Service at https://pythonapi.playground.esri.com/server/admin/services/Hosted/Buffers_around_ports1.FeatureServer>\n",
      "<Service at https://pythonapi.playground.esri.com/server/admin/services/Hosted/Buildings_04032020.FeatureServer>\n",
      "<Service at https://pythonapi.playground.esri.com/server/admin/services/Hosted/buildings__woolsey.FeatureServer>\n",
      "<Service at https://pythonapi.playground.esri.com/server/admin/services/Hosted/buildings_buffer.FeatureServer>\n",
      "<Service at https://pythonapi.playground.esri.com/server/admin/services/Hosted/buildings_buffer193225.FeatureServer>\n",
      "<Service at https://pythonapi.playground.esri.com/server/admin/services/Hosted/buildings_buffer302523.FeatureServer>\n",
      "<Service at https://pythonapi.playground.esri.com/server/admin/services/Hosted/buildings_buffer632044.FeatureServer>\n",
      "<Service at https://pythonapi.playground.esri.com/server/admin/services/Hosted/buildings_woolsey.FeatureServer>\n",
      "<Service at https://pythonapi.playground.esri.com/server/admin/services/Hosted/C03677335_View1.FeatureServer>\n",
      "<Service at https://pythonapi.playground.esri.com/server/admin/services/Hosted/C03677335_View2.FeatureServer>\n",
      "<Service at https://pythonapi.playground.esri.com/server/admin/services/Hosted/C03677335_View3.FeatureServer>\n",
      "<Service at https://pythonapi.playground.esri.com/server/admin/services/Hosted/C03677335_View4.FeatureServer>\n",
      "<Service at https://pythonapi.playground.esri.com/server/admin/services/Hosted/C03677335_View5.FeatureServer>\n",
      "<Service at https://pythonapi.playground.esri.com/server/admin/services/Hosted/C03677335_View6.FeatureServer>\n",
      "<Service at https://pythonapi.playground.esri.com/server/admin/services/Hosted/CA_Cities.SceneServer>\n",
      "<Service at https://pythonapi.playground.esri.com/server/admin/services/Hosted/calgary_no_southland_solar.FeatureServer>\n",
      "<Service at https://pythonapi.playground.esri.com/server/admin/services/Hosted/Camera_Traps.FeatureServer>\n",
      "<Service at https://pythonapi.playground.esri.com/server/admin/services/Hosted/CameraTrapsSample.FeatureServer>\n",
      "<Service at https://pythonapi.playground.esri.com/server/admin/services/Hosted/CamerTraps.FeatureServer>\n",
      "<Service at https://pythonapi.playground.esri.com/server/admin/services/Hosted/Chennai_precipitation_FS.FeatureServer>\n",
      "<Service at https://pythonapi.playground.esri.com/server/admin/services/Hosted/classificationPointsSaharanpur.FeatureServer>\n",
      "<Service at https://pythonapi.playground.esri.com/server/admin/services/Hosted/collision_hexagon_hot_spots430844.FeatureServer>\n",
      "<Service at https://pythonapi.playground.esri.com/server/admin/services/Hosted/commercial_buffers_03_10_2024_00_08_20.FeatureServer>\n",
      "<Service at https://pythonapi.playground.esri.com/server/admin/services/Hosted/commercial_buffers_10_10_2024_13_01_43.FeatureServer>\n",
      "<Service at https://pythonapi.playground.esri.com/server/admin/services/Hosted/commercial_buffers_10_10_2024_13_23_32.FeatureServer>\n",
      "<Service at https://pythonapi.playground.esri.com/server/admin/services/Hosted/commercial_buffers_10_10_2024_14_39_26.FeatureServer>\n",
      "<Service at https://pythonapi.playground.esri.com/server/admin/services/Hosted/commercial_buffers_25_07_2024_22_02_18.FeatureServer>\n",
      "<Service at https://pythonapi.playground.esri.com/server/admin/services/Hosted/commercial_buffers_26_09_2024_07_27_06.FeatureServer>\n",
      "<Service at https://pythonapi.playground.esri.com/server/admin/services/Hosted/commercial_buffers_28_05_2021_09_36_44.FeatureServer>\n",
      "<Service at https://pythonapi.playground.esri.com/server/admin/services/Hosted/Cougar_Habitat_YOURINITIALS_3d668.FeatureServer>\n",
      "<Service at https://pythonapi.playground.esri.com/server/admin/services/Hosted/credit_report.FeatureServer>\n",
      "<Service at https://pythonapi.playground.esri.com/server/admin/services/Hosted/Critical_Infrastructure_in_Southern_California.FeatureServer>\n",
      "<Service at https://pythonapi.playground.esri.com/server/admin/services/Hosted/density_of_incidents199023.FeatureServer>\n",
      "<Service at https://pythonapi.playground.esri.com/server/admin/services/Hosted/diacritic_survey_test_a8366.FeatureServer>\n",
      "<Service at https://pythonapi.playground.esri.com/server/admin/services/Hosted/diacritic_survey_test_form.FeatureServer>\n",
      "<Service at https://pythonapi.playground.esri.com/server/admin/services/Hosted/diacritic_survey_test_results.FeatureServer>\n",
      "<Service at https://pythonapi.playground.esri.com/server/admin/services/Hosted/dls_ProjectData_793e16de11c347fc90c17686b4ea4a86.FeatureServer>\n",
      "<Service at https://pythonapi.playground.esri.com/server/admin/services/Hosted/dtcities4.FeatureServer>\n",
      "<Service at https://pythonapi.playground.esri.com/server/admin/services/Hosted/Ellipse_From_Restaurant.FeatureServer>\n",
      "<Service at https://pythonapi.playground.esri.com/server/admin/services/Hosted/ENVIRONMENTAL_StreetTrees_gdb.FeatureServer>\n",
      "<Service at https://pythonapi.playground.esri.com/server/admin/services/Hosted/ENVIRONMENTAL_StreetTrees_shp.FeatureServer>\n",
      "<Service at https://pythonapi.playground.esri.com/server/admin/services/Hosted/finalcsv.FeatureServer>\n",
      "<Service at https://pythonapi.playground.esri.com/server/admin/services/Hosted/Fire_Buffers_2024_03_22_04_35_44.FeatureServer>\n",
      "<Service at https://pythonapi.playground.esri.com/server/admin/services/Hosted/Fire_Buffers_2024_05_01_19_16_56.FeatureServer>\n",
      "<Service at https://pythonapi.playground.esri.com/server/admin/services/Hosted/Fire_Buffers_2024_05_01_19_18_33.FeatureServer>\n",
      "<Service at https://pythonapi.playground.esri.com/server/admin/services/Hosted/Fire_Buffers_2024_05_07_18_41_36.FeatureServer>\n",
      "<Service at https://pythonapi.playground.esri.com/server/admin/services/Hosted/Fire_Buffers_2024_05_08_00_43_56.FeatureServer>\n",
      "<Service at https://pythonapi.playground.esri.com/server/admin/services/Hosted/Fire_Buffers_2024_05_08_12_25_46.FeatureServer>\n",
      "<Service at https://pythonapi.playground.esri.com/server/admin/services/Hosted/Fire_Buffers_2024_05_08_12_30_40.FeatureServer>\n",
      "<Service at https://pythonapi.playground.esri.com/server/admin/services/Hosted/Fire_Buffers_2024_07_04_09_57_35.FeatureServer>\n",
      "<Service at https://pythonapi.playground.esri.com/server/admin/services/Hosted/Fire_Buffers_2025_02_24_20_45_58.FeatureServer>\n",
      "<Service at https://pythonapi.playground.esri.com/server/admin/services/Hosted/Fire_Buffers_2025_02_25_19_08_47.FeatureServer>\n",
      "<Service at https://pythonapi.playground.esri.com/server/admin/services/Hosted/flood_aoi_mask.FeatureServer>\n",
      "<Service at https://pythonapi.playground.esri.com/server/admin/services/Hosted/flood_label_2classes.FeatureServer>\n",
      "<Service at https://pythonapi.playground.esri.com/server/admin/services/Hosted/Fortune_10_Corporate_HQ_attachments.FeatureServer>\n",
      "<Service at https://pythonapi.playground.esri.com/server/admin/services/Hosted/granada_land_parcels.FeatureServer>\n",
      "<Service at https://pythonapi.playground.esri.com/server/admin/services/Hosted/Iceland_Open_Street_Map_Data_75908.FeatureServer>\n",
      "<Service at https://pythonapi.playground.esri.com/server/admin/services/Hosted/inferenced_layer_fc.FeatureServer>\n",
      "<Service at https://pythonapi.playground.esri.com/server/admin/services/Hosted/inferenced_results.MapServer>\n",
      "<Service at https://pythonapi.playground.esri.com/server/admin/services/Hosted/kent_county_parcels.FeatureServer>\n",
      "<Service at https://pythonapi.playground.esri.com/server/admin/services/Hosted/label_hyperion_lulc_6classes.FeatureServer>\n",
      "<Service at https://pythonapi.playground.esri.com/server/admin/services/Hosted/Land_parcels_model_e_02_corrected.FeatureServer>\n",
      "<Service at https://pythonapi.playground.esri.com/server/admin/services/Hosted/location_tracking.FeatureServer>\n",
      "<Service at https://pythonapi.playground.esri.com/server/admin/services/Hosted/Madison_Urban_Area_Boundary.FeatureServer>\n",
      "<Service at https://pythonapi.playground.esri.com/server/admin/services/Hosted/mask_polygon_hyperion.FeatureServer>\n",
      "<Service at https://pythonapi.playground.esri.com/server/admin/services/Hosted/mydata.FeatureServer>\n",
      "<Service at https://pythonapi.playground.esri.com/server/admin/services/Hosted/Parks_and_Open_Space.FeatureServer>\n",
      "<Service at https://pythonapi.playground.esri.com/server/admin/services/Hosted/PhotoPoints.FeatureServer>\n",
      "<Service at https://pythonapi.playground.esri.com/server/admin/services/Hosted/Pittsburgh_heart_attacks.FeatureServer>\n",
      "<Service at https://pythonapi.playground.esri.com/server/admin/services/Hosted/point_layer_view.FeatureServer>\n",
      "<Service at https://pythonapi.playground.esri.com/server/admin/services/Hosted/Point_Lines.FeatureServer>\n",
      "<Service at https://pythonapi.playground.esri.com/server/admin/services/Hosted/Ports_along_the_US_West_Coast.FeatureServer>\n",
      "<Service at https://pythonapi.playground.esri.com/server/admin/services/Hosted/Ports_in_the_Western_US.FeatureServer>\n",
      "<Service at https://pythonapi.playground.esri.com/server/admin/services/Hosted/Puget_Sound_Traffic_Stops_DG.FeatureServer>\n",
      "<Service at https://pythonapi.playground.esri.com/server/admin/services/Hosted/Puget_Sound_Traffic_Stops_DG2.FeatureServer>\n",
      "<Service at https://pythonapi.playground.esri.com/server/admin/services/Hosted/Puget_Sound_Traffic_Stops_DG3.FeatureServer>\n",
      "<Service at https://pythonapi.playground.esri.com/server/admin/services/Hosted/Python_Test_Survey_b2ce4.FeatureServer>\n",
      "<Service at https://pythonapi.playground.esri.com/server/admin/services/Hosted/Python_Test_Survey_form.FeatureServer>\n",
      "<Service at https://pythonapi.playground.esri.com/server/admin/services/Hosted/r32.FeatureServer>\n",
      "<Service at https://pythonapi.playground.esri.com/server/admin/services/Hosted/R7_nDSM_TestVal_DetectObj_circle_right_04032020_3dEnablePredictionMasks.SceneServer>\n",
      "<Service at https://pythonapi.playground.esri.com/server/admin/services/Hosted/RasterToFeature_GOGMJN.FeatureServer>\n",
      "<Service at https://pythonapi.playground.esri.com/server/admin/services/Hosted/restaurants_pittsburgh.FeatureServer>\n",
      "<Service at https://pythonapi.playground.esri.com/server/admin/services/Hosted/roads.FeatureServer>\n",
      "<Service at https://pythonapi.playground.esri.com/server/admin/services/Hosted/San_Diego_Parrot_Sightings_c2a16.FeatureServer>\n",
      "<Service at https://pythonapi.playground.esri.com/server/admin/services/Hosted/San_Diego_Parrot_Sightings_ebb64.FeatureServer>\n",
      "<Service at https://pythonapi.playground.esri.com/server/admin/services/Hosted/San_Diego_Parrot_Sightings_form.FeatureServer>\n",
      "<Service at https://pythonapi.playground.esri.com/server/admin/services/Hosted/San_Diego_Parrot_Sightings_form_c408b.FeatureServer>\n",
      "<Service at https://pythonapi.playground.esri.com/server/admin/services/Hosted/San_Diego_Parrot_Sightings_results.FeatureServer>\n",
      "<Service at https://pythonapi.playground.esri.com/server/admin/services/Hosted/San_Diego_Parrot_Sightings_results_5dd66.FeatureServer>\n",
      "<Service at https://pythonapi.playground.esri.com/server/admin/services/Hosted/schools.FeatureServer>\n",
      "<Service at https://pythonapi.playground.esri.com/server/admin/services/Hosted/schr_poly.FeatureServer>\n",
      "<Service at https://pythonapi.playground.esri.com/server/admin/services/Hosted/seabird_detections.FeatureServer>\n",
      "<Service at https://pythonapi.playground.esri.com/server/admin/services/Hosted/sf_custs_shp.FeatureServer>\n",
      "<Service at https://pythonapi.playground.esri.com/server/admin/services/Hosted/shapefile.FeatureServer>\n",
      "<Service at https://pythonapi.playground.esri.com/server/admin/services/Hosted/shapefile333.FeatureServer>\n",
      "<Service at https://pythonapi.playground.esri.com/server/admin/services/Hosted/SigPac.FeatureServer>\n",
      "<Service at https://pythonapi.playground.esri.com/server/admin/services/Hosted/StoweHydrograph.FeatureServer>\n",
      "<Service at https://pythonapi.playground.esri.com/server/admin/services/Hosted/Study_Area_Tahoe.FeatureServer>\n",
      "<Service at https://pythonapi.playground.esri.com/server/admin/services/Hosted/SwimmingPoolLabels.FeatureServer>\n",
      "<Service at https://pythonapi.playground.esri.com/server/admin/services/Hosted/test.FeatureServer>\n",
      "<Service at https://pythonapi.playground.esri.com/server/admin/services/Hosted/test1.FeatureServer>\n",
      "<Service at https://pythonapi.playground.esri.com/server/admin/services/Hosted/test2.FeatureServer>\n",
      "<Service at https://pythonapi.playground.esri.com/server/admin/services/Hosted/test3.FeatureServer>\n",
      "<Service at https://pythonapi.playground.esri.com/server/admin/services/Hosted/test_data_abc_9bb07.FeatureServer>\n",
      "<Service at https://pythonapi.playground.esri.com/server/admin/services/Hosted/test_grenanda_without_sharp_.FeatureServer>\n",
      "<Service at https://pythonapi.playground.esri.com/server/admin/services/Hosted/test_new_edit_features.FeatureServer>\n",
      "<Service at https://pythonapi.playground.esri.com/server/admin/services/Hosted/TN_Hospitals.FeatureServer>\n",
      "<Service at https://pythonapi.playground.esri.com/server/admin/services/Hosted/Traffic_Collisions.FeatureServer>\n",
      "<Service at https://pythonapi.playground.esri.com/server/admin/services/Hosted/Trailheads.FeatureServer>\n",
      "<Service at https://pythonapi.playground.esri.com/server/admin/services/Hosted/Trails.FeatureServer>\n",
      "<Service at https://pythonapi.playground.esri.com/server/admin/services/Hosted/training_samples.FeatureServer>\n",
      "<Service at https://pythonapi.playground.esri.com/server/admin/services/Hosted/USA_Capitals_spreadsheet_1733191642.FeatureServer>\n",
      "<Service at https://pythonapi.playground.esri.com/server/admin/services/Hosted/USA_counties_divorce_rate.MapServer>\n",
      "<Service at https://pythonapi.playground.esri.com/server/admin/services/Hosted/usaCounties.FeatureServer>\n",
      "<Service at https://pythonapi.playground.esri.com/server/admin/services/Hosted/Walktime_10m_Mumbai.FeatureServer>\n",
      "<Service at https://pythonapi.playground.esri.com/server/admin/services/Hosted/WebMap_Iceland_Boundary_d01d6.FeatureServer>\n",
      "<Service at https://pythonapi.playground.esri.com/server/admin/services/Hosted/Western_Ports.FeatureServer>\n",
      "<Service at https://pythonapi.playground.esri.com/server/admin/services/Hosted/workforce_fadf33c742814387ad5474202f202bee.FeatureServer>\n",
      "<Service at https://pythonapi.playground.esri.com/server/admin/services/Hosted/World_Countries_7cd73.FeatureServer>\n",
      "<Service at https://pythonapi.playground.esri.com/server/admin/services/Hosted/World_Countries_ded3d.FeatureServer>\n",
      "<Service at https://pythonapi.playground.esri.com/server/admin/services/Hosted/World_earthquakes_2000_2010.SceneServer>\n",
      "<Service at https://pythonapi.playground.esri.com/server/admin/services/Hosted/World_earthquakes_2010.VectorTileServer>\n",
      "<Service at https://pythonapi.playground.esri.com/server/admin/services/Hosted/WorldImagery_AOI_NewYork.MapServer>\n",
      "<Service at https://pythonapi.playground.esri.com/server/admin/services/System/CachingControllers.GPServer>\n",
      "<Service at https://pythonapi.playground.esri.com/server/admin/services/System/CachingTools.GPServer>\n",
      "<Service at https://pythonapi.playground.esri.com/server/admin/services/System/DistributedWorker.GPServer>\n",
      "<Service at https://pythonapi.playground.esri.com/server/admin/services/System/DynamicMappingHost.MapServer>\n",
      "<Service at https://pythonapi.playground.esri.com/server/admin/services/System/FeatureServiceTools.GPServer>\n",
      "<Service at https://pythonapi.playground.esri.com/server/admin/services/System/GeoAnalyticsManagement.GPServer>\n",
      "<Service at https://pythonapi.playground.esri.com/server/admin/services/System/GeoAnalyticsTools.GPServer>\n",
      "<Service at https://pythonapi.playground.esri.com/server/admin/services/System/LocationReferencingSystemTools.GPServer>\n",
      "<Service at https://pythonapi.playground.esri.com/server/admin/services/System/OrthomappingTools.GPServer>\n",
      "<Service at https://pythonapi.playground.esri.com/server/admin/services/System/ParcelFabricTools.GPServer>\n",
      "<Service at https://pythonapi.playground.esri.com/server/admin/services/System/PublishingTools.GPServer>\n",
      "<Service at https://pythonapi.playground.esri.com/server/admin/services/System/RasterAnalysisTools.GPServer>\n",
      "<Service at https://pythonapi.playground.esri.com/server/admin/services/System/RasterProcessing.ImageServer>\n",
      "<Service at https://pythonapi.playground.esri.com/server/admin/services/System/RasterProcessingGPU.ImageServer>\n",
      "<Service at https://pythonapi.playground.esri.com/server/admin/services/System/RasterRendering.ImageServer>\n",
      "<Service at https://pythonapi.playground.esri.com/server/admin/services/System/ReportingTools.GPServer>\n",
      "<Service at https://pythonapi.playground.esri.com/server/admin/services/System/SceneCachingControllers.GPServer>\n",
      "<Service at https://pythonapi.playground.esri.com/server/admin/services/System/SceneCachingTools.GPServer>\n",
      "<Service at https://pythonapi.playground.esri.com/server/admin/services/System/SpatialAnalysisTools.GPServer>\n",
      "<Service at https://pythonapi.playground.esri.com/server/admin/services/System/SyncTools.GPServer>\n",
      "<Service at https://pythonapi.playground.esri.com/server/admin/services/System/TopographicProductionSystemTools.GPServer>\n",
      "<Service at https://pythonapi.playground.esri.com/server/admin/services/System/UtilityNetworkTools.GPServer>\n",
      "<Service at https://pythonapi.playground.esri.com/server/admin/services/System/ValidationTools.GPServer>\n",
      "<Service at https://pythonapi.playground.esri.com/server/admin/services/System/VersionManagementTools.GPServer>\n",
      "<Service at https://pythonapi.playground.esri.com/server/admin/services/testext/WashingtonCounty.MapServer>\n",
      "<Service at https://pythonapi.playground.esri.com/server/admin/services/Utilities/GeocodingTools.GPServer>\n",
      "<Service at https://pythonapi.playground.esri.com/server/admin/services/Utilities/Geometry.GeometryServer>\n",
      "<Service at https://pythonapi.playground.esri.com/server/admin/services/Utilities/OfflinePackaging.GPServer>\n",
      "<Service at https://pythonapi.playground.esri.com/server/admin/services/Utilities/PrintingTools.GPServer>\n",
      "<Service at https://pythonapi.playground.esri.com/server/admin/services/Utilities/RasterUtilities.GPServer>\n",
      "<Service at https://pythonapi.playground.esri.com/server/admin/services/Utilities/Symbols.SymbolServer>\n",
      "<Service at https://pythonapi.playground.esri.com/server/admin/services/Auburn_Midstate_Drive.MapServer>\n",
      "<Service at https://pythonapi.playground.esri.com/server/admin/services/Berlin_Park_and_Ride.MapServer>\n",
      "<Service at https://pythonapi.playground.esri.com/server/admin/services/BUG000171384.MapServer>\n",
      "<Service at https://pythonapi.playground.esri.com/server/admin/services/edge_predicted_raster.MapServer>\n",
      "<Service at https://pythonapi.playground.esri.com/server/admin/services/inferenced_results_.MapServer>\n",
      "<Service at https://pythonapi.playground.esri.com/server/admin/services/MegaModel1.GPServer>\n",
      "<Service at https://pythonapi.playground.esri.com/server/admin/services/Millbury.MapServer>\n",
      "<Service at https://pythonapi.playground.esri.com/server/admin/services/Milton_Granite_Avenue.MapServer>\n",
      "<Service at https://pythonapi.playground.esri.com/server/admin/services/Milton_Granite_Avenue_I.MapServer>\n",
      "<Service at https://pythonapi.playground.esri.com/server/admin/services/Rockland_Rte_3__228.MapServer>\n",
      "<Service at https://pythonapi.playground.esri.com/server/admin/services/SampleWorldCities.MapServer>\n",
      "<Service at https://pythonapi.playground.esri.com/server/admin/services/settlement_polygons.MapServer>\n",
      "<Service at https://pythonapi.playground.esri.com/server/admin/services/shaded_Relief.MapServer>\n",
      "<Service at https://pythonapi.playground.esri.com/server/admin/services/shaded_Relief_ClassifyPixels_RBG_200e.MapServer>\n",
      "<Service at https://pythonapi.playground.esri.com/server/admin/services/shaded_Relief_DetectObject_MaskRCNN_t4_130e_pm.MapServer>\n",
      "<Service at https://pythonapi.playground.esri.com/server/admin/services/Shipwrecks_80e.MapServer>\n",
      "<Service at https://pythonapi.playground.esri.com/server/admin/services/TestWMS.MapServer>\n",
      "<Service at https://pythonapi.playground.esri.com/server/admin/services/training_data_wrecks.MapServer>\n",
      "<Service at https://pythonapi.playground.esri.com/server/admin/services/West_Bridgewater.MapServer>\n",
      "<Service at https://pythonapi.playground.esri.com/server/admin/services/West_Bridgewater_Rt.MapServer>\n"
     ]
    }
   ],
   "source": [
    "for folder in services.folders:\n",
    "    for s in services.list(folder):\n",
    "        print(s)"
   ]
  },
  {
   "cell_type": "markdown",
   "metadata": {},
   "source": [
    "#### Control a Service's State"
   ]
  },
  {
   "cell_type": "markdown",
   "metadata": {},
   "source": [
    "- `start`, `stop` and `restart` services"
   ]
  },
  {
   "cell_type": "code",
   "execution_count": 27,
   "metadata": {},
   "outputs": [
    {
     "data": {
      "text/plain": [
       "<Service at https://pythonapi.playground.esri.com/server/admin/services/SampleWorldCities.MapServer>"
      ]
     },
     "execution_count": 27,
     "metadata": {},
     "output_type": "execute_result"
    }
   ],
   "source": [
    "for service in services.list():\n",
    "    if service.properties.serviceName == 'SampleWorldCities':\n",
    "        break\n",
    "service"
   ]
  },
  {
   "cell_type": "markdown",
   "metadata": {},
   "source": [
    "**Check the Service Status**\n",
    "\n",
    "- Shows if the services is running or not"
   ]
  },
  {
   "cell_type": "code",
   "execution_count": 28,
   "metadata": {},
   "outputs": [
    {
     "data": {
      "text/plain": [
       "{'configuredState': 'STARTED', 'realTimeState': 'STARTED'}"
      ]
     },
     "execution_count": 28,
     "metadata": {},
     "output_type": "execute_result"
    }
   ],
   "source": [
    "service.status"
   ]
  },
  {
   "cell_type": "code",
   "execution_count": 29,
   "metadata": {},
   "outputs": [
    {
     "data": {
      "text/plain": [
       "True"
      ]
     },
     "execution_count": 29,
     "metadata": {},
     "output_type": "execute_result"
    }
   ],
   "source": [
    "service.stop()"
   ]
  },
  {
   "cell_type": "code",
   "execution_count": 30,
   "metadata": {},
   "outputs": [
    {
     "data": {
      "text/plain": [
       "{'configuredState': 'STOPPED', 'realTimeState': 'STOPPED'}"
      ]
     },
     "execution_count": 30,
     "metadata": {},
     "output_type": "execute_result"
    }
   ],
   "source": [
    "service.status"
   ]
  },
  {
   "cell_type": "code",
   "execution_count": 31,
   "metadata": {},
   "outputs": [
    {
     "data": {
      "text/plain": [
       "True"
      ]
     },
     "execution_count": 31,
     "metadata": {},
     "output_type": "execute_result"
    }
   ],
   "source": [
    "service.start()"
   ]
  },
  {
   "cell_type": "code",
   "execution_count": 32,
   "metadata": {},
   "outputs": [
    {
     "data": {
      "text/plain": [
       "{'configuredState': 'STARTED', 'realTimeState': 'STARTED'}"
      ]
     },
     "execution_count": 32,
     "metadata": {},
     "output_type": "execute_result"
    }
   ],
   "source": [
    "service.status"
   ]
  },
  {
   "cell_type": "markdown",
   "metadata": {},
   "source": [
    "### Modifying a Service"
   ]
  },
  {
   "cell_type": "markdown",
   "metadata": {},
   "source": [
    "- modify extensions, pooling, etc..."
   ]
  },
  {
   "cell_type": "code",
   "execution_count": 33,
   "metadata": {},
   "outputs": [
    {
     "data": {
      "text/plain": [
       "<Service at https://pythonapi.playground.esri.com/server/admin/services/SampleWorldCities.MapServer>"
      ]
     },
     "execution_count": 33,
     "metadata": {},
     "output_type": "execute_result"
    }
   ],
   "source": [
    "for service in services.list():\n",
    "    if service.properties.serviceName == 'SampleWorldCities':\n",
    "        break\n",
    "service"
   ]
  },
  {
   "cell_type": "code",
   "execution_count": 34,
   "metadata": {},
   "outputs": [
    {
     "data": {
      "text/plain": [
       "[('NAServer', False),\n",
       " ('OGCFeatureServer', True),\n",
       " ('WFSServer', True),\n",
       " ('WMSServer', True),\n",
       " ('NetworkDiagramServer', False),\n",
       " ('TopographicProductionServer', False),\n",
       " ('TraceNetworkServer', False),\n",
       " ('ValidationServer', False),\n",
       " ('WCSServer', False),\n",
       " ('LRServer', False),\n",
       " ('ParcelFabricServer', False),\n",
       " ('VersionManagementServer', False),\n",
       " ('KmlServer', True),\n",
       " ('UtilityNetworkServer', False),\n",
       " ('FeatureServer', False)]"
      ]
     },
     "execution_count": 34,
     "metadata": {},
     "output_type": "execute_result"
    }
   ],
   "source": [
    "for ext in service.extensions:\n",
    "    if ext.typeName == \"KmlServer\":\n",
    "        ext.enabled = True\n",
    "[(ext.typeName, ext.enabled) for ext in service.extensions]"
   ]
  },
  {
   "cell_type": "markdown",
   "metadata": {},
   "source": [
    "### Server Logs"
   ]
  },
  {
   "cell_type": "markdown",
   "metadata": {},
   "source": [
    "ArcGIS Server records events that occur, and any errors associated with those events, to logs. Logs are an important tool for monitoring and troubleshooting problems with your site. Information in the logs will help you identify errors and provide context on how to address problems"
   ]
  },
  {
   "cell_type": "code",
   "execution_count": 37,
   "metadata": {},
   "outputs": [
    {
     "data": {
      "text/plain": [
       "<LogManager at https://pythonapi.playground.esri.com/server/admin/logs>"
      ]
     },
     "execution_count": 37,
     "metadata": {},
     "output_type": "execute_result"
    }
   ],
   "source": [
    "logs = server.logs\n",
    "logs"
   ]
  },
  {
   "cell_type": "code",
   "execution_count": 38,
   "metadata": {},
   "outputs": [
    {
     "data": {
      "text/plain": [
       "{'logDir': '/data/arcgis/server/usr/logs/',\n",
       " 'logLevel': 'WARNING',\n",
       " 'maxErrorReportsCount': 10,\n",
       " 'maxLogFileAge': 90,\n",
       " 'usageMeteringEnabled': False,\n",
       " 'statisticsConfig': {'enabled': True,\n",
       "  'samplingInterval': 30,\n",
       "  'maxHistory': 0,\n",
       "  'statisticsDir': '/data/arcgis/arcgisserver/directories/arcgissystem'}}"
      ]
     },
     "execution_count": 38,
     "metadata": {},
     "output_type": "execute_result"
    }
   ],
   "source": [
    "logs.settings"
   ]
  },
  {
   "cell_type": "markdown",
   "metadata": {},
   "source": [
    "#### Filtering and querying server logs"
   ]
  },
  {
   "cell_type": "code",
   "execution_count": 39,
   "metadata": {},
   "outputs": [
    {
     "data": {
      "text/plain": [
       "datetime.datetime(2025, 2, 24, 13, 39, 24, 360875)"
      ]
     },
     "execution_count": 39,
     "metadata": {},
     "output_type": "execute_result"
    }
   ],
   "source": [
    "import datetime\n",
    "import pandas as pd\n",
    "now = datetime.datetime.now()\n",
    "start_time = now - datetime.timedelta(days=10)\n",
    "start_time"
   ]
  },
  {
   "cell_type": "code",
   "execution_count": 40,
   "metadata": {},
   "outputs": [
    {
     "data": {
      "text/html": [
       "<div>\n",
       "<style scoped>\n",
       "    .dataframe tbody tr th:only-of-type {\n",
       "        vertical-align: middle;\n",
       "    }\n",
       "\n",
       "    .dataframe tbody tr th {\n",
       "        vertical-align: top;\n",
       "    }\n",
       "\n",
       "    .dataframe thead th {\n",
       "        text-align: right;\n",
       "    }\n",
       "</style>\n",
       "<table border=\"1\" class=\"dataframe\">\n",
       "  <thead>\n",
       "    <tr style=\"text-align: right;\">\n",
       "      <th></th>\n",
       "      <th>type</th>\n",
       "      <th>message</th>\n",
       "      <th>time</th>\n",
       "      <th>source</th>\n",
       "      <th>machine</th>\n",
       "      <th>user</th>\n",
       "      <th>code</th>\n",
       "      <th>elapsed</th>\n",
       "      <th>process</th>\n",
       "      <th>thread</th>\n",
       "      <th>methodName</th>\n",
       "      <th>requestID</th>\n",
       "    </tr>\n",
       "  </thead>\n",
       "  <tbody>\n",
       "    <tr>\n",
       "      <th>0</th>\n",
       "      <td>SEVERE</td>\n",
       "      <td>Error executing tool. Export Web Map Task : Fa...</td>\n",
       "      <td>1739475158626</td>\n",
       "      <td>Utilities/PrintingTools.GPServer</td>\n",
       "      <td>IP-172-31-44-255.US-EAST-2.COMPUTE.INTERNAL</td>\n",
       "      <td>nparavicini</td>\n",
       "      <td>20010</td>\n",
       "      <td></td>\n",
       "      <td>3762266</td>\n",
       "      <td>5336</td>\n",
       "      <td>GPServerSync.CheckMessages</td>\n",
       "      <td>cc3659d1-a3c5-4787-b238-d358b9e82dbb</td>\n",
       "    </tr>\n",
       "    <tr>\n",
       "      <th>1</th>\n",
       "      <td>SEVERE</td>\n",
       "      <td>ERROR: Unable to refresh item, Generic Server ...</td>\n",
       "      <td>1739252326075</td>\n",
       "      <td>System/PublishingTools.GPServer</td>\n",
       "      <td>IP-172-31-44-255.US-EAST-2.COMPUTE.INTERNAL</td>\n",
       "      <td>nparavicini</td>\n",
       "      <td>23836</td>\n",
       "      <td></td>\n",
       "      <td>2572927</td>\n",
       "      <td>408</td>\n",
       "      <td>SDMapServicePublisher::UpdatePortalServiceItem...</td>\n",
       "      <td>6dfdec54-e840-4f15-899e-cf36cb663cfc</td>\n",
       "    </tr>\n",
       "    <tr>\n",
       "      <th>2</th>\n",
       "      <td>WARNING</td>\n",
       "      <td>RefreshPortalItem failed. Service's item exten...</td>\n",
       "      <td>1739252326069</td>\n",
       "      <td>System/PublishingTools.GPServer</td>\n",
       "      <td>IP-172-31-44-255.US-EAST-2.COMPUTE.INTERNAL</td>\n",
       "      <td>nparavicini</td>\n",
       "      <td>23837</td>\n",
       "      <td></td>\n",
       "      <td>2572927</td>\n",
       "      <td>408</td>\n",
       "      <td>SDMapServicePublisher::UpdatePortalServiceItem...</td>\n",
       "      <td>6dfdec54-e840-4f15-899e-cf36cb663cfc</td>\n",
       "    </tr>\n",
       "    <tr>\n",
       "      <th>3</th>\n",
       "      <td>SEVERE</td>\n",
       "      <td>Error executing tool. Export Web Map Task : Fa...</td>\n",
       "      <td>1738846154429</td>\n",
       "      <td>Utilities/PrintingTools.GPServer</td>\n",
       "      <td>IP-172-31-44-255.US-EAST-2.COMPUTE.INTERNAL</td>\n",
       "      <td>naubry</td>\n",
       "      <td>20010</td>\n",
       "      <td></td>\n",
       "      <td>3762266</td>\n",
       "      <td>5336</td>\n",
       "      <td>GPServerSync.CheckMessages</td>\n",
       "      <td>2c72e783-6d23-4647-9462-6133f9678d06</td>\n",
       "    </tr>\n",
       "    <tr>\n",
       "      <th>4</th>\n",
       "      <td>SEVERE</td>\n",
       "      <td>Error executing tool. Export Web Map Task : Fa...</td>\n",
       "      <td>1738846153566</td>\n",
       "      <td>Utilities/PrintingTools.GPServer</td>\n",
       "      <td>IP-172-31-44-255.US-EAST-2.COMPUTE.INTERNAL</td>\n",
       "      <td>naubry</td>\n",
       "      <td>20010</td>\n",
       "      <td></td>\n",
       "      <td>3762266</td>\n",
       "      <td>5336</td>\n",
       "      <td>GPServerSync.CheckMessages</td>\n",
       "      <td>274487b9-760b-43dd-901f-95dc1e4ef562</td>\n",
       "    </tr>\n",
       "  </tbody>\n",
       "</table>\n",
       "</div>"
      ],
      "text/plain": [
       "      type                                            message           time  \\\n",
       "0   SEVERE  Error executing tool. Export Web Map Task : Fa...  1739475158626   \n",
       "1   SEVERE  ERROR: Unable to refresh item, Generic Server ...  1739252326075   \n",
       "2  WARNING  RefreshPortalItem failed. Service's item exten...  1739252326069   \n",
       "3   SEVERE  Error executing tool. Export Web Map Task : Fa...  1738846154429   \n",
       "4   SEVERE  Error executing tool. Export Web Map Task : Fa...  1738846153566   \n",
       "\n",
       "                             source  \\\n",
       "0  Utilities/PrintingTools.GPServer   \n",
       "1   System/PublishingTools.GPServer   \n",
       "2   System/PublishingTools.GPServer   \n",
       "3  Utilities/PrintingTools.GPServer   \n",
       "4  Utilities/PrintingTools.GPServer   \n",
       "\n",
       "                                       machine         user   code elapsed  \\\n",
       "0  IP-172-31-44-255.US-EAST-2.COMPUTE.INTERNAL  nparavicini  20010           \n",
       "1  IP-172-31-44-255.US-EAST-2.COMPUTE.INTERNAL  nparavicini  23836           \n",
       "2  IP-172-31-44-255.US-EAST-2.COMPUTE.INTERNAL  nparavicini  23837           \n",
       "3  IP-172-31-44-255.US-EAST-2.COMPUTE.INTERNAL       naubry  20010           \n",
       "4  IP-172-31-44-255.US-EAST-2.COMPUTE.INTERNAL       naubry  20010           \n",
       "\n",
       "   process thread                                         methodName  \\\n",
       "0  3762266   5336                         GPServerSync.CheckMessages   \n",
       "1  2572927    408  SDMapServicePublisher::UpdatePortalServiceItem...   \n",
       "2  2572927    408  SDMapServicePublisher::UpdatePortalServiceItem...   \n",
       "3  3762266   5336                         GPServerSync.CheckMessages   \n",
       "4  3762266   5336                         GPServerSync.CheckMessages   \n",
       "\n",
       "                              requestID  \n",
       "0  cc3659d1-a3c5-4787-b238-d358b9e82dbb  \n",
       "1  6dfdec54-e840-4f15-899e-cf36cb663cfc  \n",
       "2  6dfdec54-e840-4f15-899e-cf36cb663cfc  \n",
       "3  2c72e783-6d23-4647-9462-6133f9678d06  \n",
       "4  274487b9-760b-43dd-901f-95dc1e4ef562  "
      ]
     },
     "execution_count": 40,
     "metadata": {},
     "output_type": "execute_result"
    }
   ],
   "source": [
    "recent_logs = logs.query(start_time = start_time)\n",
    "\n",
    "#print a message as a sample\n",
    "pd.DataFrame(recent_logs['logMessages']).head()"
   ]
  },
  {
   "cell_type": "markdown",
   "metadata": {},
   "source": [
    "### Monitoring Server Usage"
   ]
  },
  {
   "cell_type": "markdown",
   "metadata": {},
   "source": [
    "ArcGIS Server records various service statistics, such as total requests, average response time and timeouts. Administrators and publishers can use this information to monitor service activity to better understand how clients are using services. For example, monitoring server statistics help you answer questions such as:\n",
    "\n",
    "- What is the total number of requests that my ArcGIS Server site handled during the past week?\n",
    "- How was the service request load distributed during the past month?\n",
    "- How are my services performing on an hourly basis?\n",
    "- What was the maximum number of service instances used at any given time for a particular service?"
   ]
  },
  {
   "cell_type": "code",
   "execution_count": 35,
   "metadata": {},
   "outputs": [
    {
     "data": {
      "text/plain": [
       "<ReportManager at https://pythonapi.playground.esri.com/server/admin/usagereports>"
      ]
     },
     "execution_count": 35,
     "metadata": {},
     "output_type": "execute_result"
    }
   ],
   "source": [
    "usage = server.usage\n",
    "usage"
   ]
  },
  {
   "cell_type": "markdown",
   "metadata": {},
   "source": [
    "#### Using built-in report"
   ]
  },
  {
   "cell_type": "code",
   "execution_count": 36,
   "metadata": {},
   "outputs": [
    {
     "data": {
      "text/plain": [
       "[< Report @ https://pythonapi.playground.esri.com/server/admin/usagereports/Timed-out%20requests%20for%20the%20last%207%20days >,\n",
       " < Report @ https://pythonapi.playground.esri.com/server/admin/usagereports/Total%20requests%20for%20the%20last%207%20days >,\n",
       " < Report @ https://pythonapi.playground.esri.com/server/admin/usagereports/Max%20response%20times%20for%20the%20last%207%20days >]"
      ]
     },
     "execution_count": 36,
     "metadata": {},
     "output_type": "execute_result"
    }
   ],
   "source": [
    "reports = usage.list()\n",
    "reports"
   ]
  },
  {
   "cell_type": "code",
   "execution_count": 41,
   "metadata": {},
   "outputs": [
    {
     "name": "stdout",
     "output_type": "stream",
     "text": [
      "Timed-out requests for the last 7 days\n",
      "Total requests for the last 7 days\n",
      "Max response times for the last 7 days\n"
     ]
    }
   ],
   "source": [
    "for r in reports:\n",
    "    print(r.properties['reportname'])"
   ]
  },
  {
   "cell_type": "markdown",
   "metadata": {},
   "source": [
    "#### Querying maximum response times for the last 7 days"
   ]
  },
  {
   "cell_type": "code",
   "execution_count": 45,
   "metadata": {},
   "outputs": [],
   "source": [
    "data = reports[2].query()"
   ]
  },
  {
   "cell_type": "code",
   "execution_count": 46,
   "metadata": {},
   "outputs": [],
   "source": [
    "from datetime import datetime\n",
    "import numpy as np\n",
    "import matplotlib.pyplot as plt\n",
    "import matplotlib.ticker as ticker\n",
    "%matplotlib inline"
   ]
  },
  {
   "cell_type": "code",
   "execution_count": 47,
   "metadata": {},
   "outputs": [
    {
     "data": {
      "image/png": "[encoded data removed]",
      "text/plain": [
       "<Figure size 640x480 with 1 Axes>"
      ]
     },
     "metadata": {},
     "output_type": "display_data"
    }
   ],
   "source": [
    "#store reponse times in Y axis\n",
    "data_y = data['report']['report-data'][0][0]['data']\n",
    "\n",
    "#convert dates to readable dates and store in X axis\n",
    "data_x = [pd.to_datetime(datetime.fromtimestamp(d//1000)) \\\n",
    "          for d in data['report']['time-slices']]\n",
    "\n",
    "df = pd.DataFrame(list(zip(data_x, data_y)), columns=[\"date\", \"count\"])\n",
    "q = df['count'].isnull() # change NaN values to 0\n",
    "df.loc[q, 'count'] = 0\n",
    "df.index = df['date']\n",
    "df['count'] = df['count'] \n",
    "\n",
    "ax = df['count'].plot(kind='bar', x=df['date'])\n",
    "ticklabels = ['']*len(df.index)\n",
    "ticklabels[::4] = [item.strftime('%b %d') for item in df.index[::4]]\n",
    "ax.xaxis.set_major_formatter(ticker.FixedFormatter(ticklabels))\n",
    "ax.set_title('Maximum reponse time in the last 7 days')\n",
    "ax.set_ylabel('Time in seconds')\n",
    "plt.gcf().autofmt_xdate()\n",
    "plt.show()"
   ]
  },
  {
   "cell_type": "markdown",
   "metadata": {},
   "source": [
    "#### Creating Quick Reports\n",
    "\n",
    "- On the fly reporting\n",
    "- Data is not saved\n",
    "\n",
    "**Metrics Available**\n",
    "\n",
    "- RequestCount - the number of requests received\n",
    "- RequestsFailed - the number of requests that failed\n",
    "- RequestsTimedOut - the number of requests that timed out\n",
    "- RequestMaxResponseTime - the maximum response time\n",
    "- RequestAvgResponseTime - the average response time\n",
    "- ServiceActiveInstances - the maximum number of active (running) service instances sampled at 1 minute intervals, for a specified service\n"
   ]
  },
  {
   "cell_type": "code",
   "execution_count": 49,
   "metadata": {},
   "outputs": [
    {
     "data": {
      "text/plain": [
       "dict_keys(['report'])"
      ]
     },
     "execution_count": 49,
     "metadata": {},
     "output_type": "execute_result"
    }
   ],
   "source": [
    "data = usage.quick_report(since=\"LAST_MONTH\", metrics=\"RequestCount\")\n",
    "data.keys()"
   ]
  },
  {
   "cell_type": "code",
   "execution_count": 50,
   "metadata": {},
   "outputs": [
    {
     "data": {
      "text/plain": [
       "(list, 30)"
      ]
     },
     "execution_count": 50,
     "metadata": {},
     "output_type": "execute_result"
    }
   ],
   "source": [
    "type(data['report']['report-data']), len(data['report']['time-slices'])"
   ]
  },
  {
   "cell_type": "code",
   "execution_count": null,
   "metadata": {},
   "outputs": [],
   "source": [
    "import pandas as pd\n",
    "data_flat = {\n",
    "    'time_slices' : data['report']['time-slices']\n",
    "}\n",
    "for d in data['report']['report-data'][0]:\n",
    "    data_flat[d['metric-type']] = d['data']"
   ]
  },
  {
   "cell_type": "code",
   "execution_count": null,
   "metadata": {},
   "outputs": [
    {
     "ename": "NameError",
     "evalue": "name 'pd' is not defined",
     "output_type": "error",
     "traceback": [
      "\u001b[1;31m---------------------------------------------------------------------------\u001b[0m",
      "\u001b[1;31mNameError\u001b[0m                                 Traceback (most recent call last)",
      "Cell \u001b[1;32mIn[1], line 1\u001b[0m\n\u001b[1;32m----> 1\u001b[0m pd\u001b[38;5;241m.\u001b[39mDataFrame(data_flat)\u001b[38;5;241m.\u001b[39mplot()\n",
      "\u001b[1;31mNameError\u001b[0m: name 'pd' is not defined"
     ]
    }
   ],
   "source": [
    "pd.DataFrame(data_flat)"
   ]
  },
  {
   "cell_type": "markdown",
   "metadata": {},
   "source": [
    "## Questions?"
   ]
  }
 ],
 "metadata": {
  "kernelspec": {
   "display_name": "arcgis-pro-widget",
   "language": "python",
   "name": "python3"
  },
  "language_info": {
   "codemirror_mode": {
    "name": "ipython",
    "version": 3
   },
   "file_extension": ".py",
   "mimetype": "text/x-python",
   "name": "python",
   "nbconvert_exporter": "python",
   "pygments_lexer": "ipython3",
   "version": "3.11.11"
  }
 },
 "nbformat": 4,
 "nbformat_minor": 2
}
