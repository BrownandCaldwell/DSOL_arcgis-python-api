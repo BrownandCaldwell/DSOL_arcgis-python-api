{
 "cells": [
  {
   "cell_type": "markdown",
   "id": "2ac622d0-d1cd-4cac-833d-6b17a052beb3",
   "metadata": {},
   "source": [
    "# Creating Map"
   ]
  },
  {
   "cell_type": "markdown",
   "id": "288c9a98-59a9-4cee-9583-76634318a602",
   "metadata": {},
   "source": [
    "The `Map` and `Scene` classes can be used to create and edit WebMaps and WebScenes. They act as widgets that display each item interactively."
   ]
  },
  {
   "cell_type": "markdown",
   "id": "4dfd35fb-b39f-489d-bff3-bbb1d5e99bd5",
   "metadata": {},
   "source": [
    "## Import the necessary classes"
   ]
  },
  {
   "cell_type": "code",
   "execution_count": 1,
   "id": "363869aa-ebdb-4781-8724-d397dc08b90b",
   "metadata": {},
   "outputs": [
    {
     "data": {
      "text/html": [
       "GIS @ <a href=\"https://geosaurus.maps.arcgis.com\">https://geosaurus.maps.arcgis.com</a>"
      ],
      "text/plain": [
       "GIS @ https://geosaurus.maps.arcgis.com version:2025.1"
      ]
     },
     "execution_count": 1,
     "metadata": {},
     "output_type": "execute_result"
    }
   ],
   "source": [
    "from arcgis.gis import GIS\n",
    "from arcgis.map import Map, Scene\n",
    "\n",
    "# Connect to my online org\n",
    "gis = GIS(profile=\"geosaurus\")\n",
    "gis"
   ]
  },
  {
   "cell_type": "markdown",
   "id": "5d26e28e-5c75-48a6-a0fa-347a614f793e",
   "metadata": {},
   "source": [
    "## Create a new map"
   ]
  },
  {
   "cell_type": "code",
   "execution_count": 2,
   "id": "8560f7a6-edd2-4129-a7b6-ea821c29d1a5",
   "metadata": {},
   "outputs": [
    {
     "data": {
      "application/vnd.jupyter.widget-view+json": {
       "model_id": "70919042b0a04aa089677660ed6332d1",
       "version_major": 2,
       "version_minor": 1
      },
      "text/plain": [
       "Map(center=[4006038.4146084883, -12973935.249719448], extent={'xmin': -12989631.2979213, 'ymin': 3987158.77053…"
      ]
     },
     "execution_count": 2,
     "metadata": {},
     "output_type": "execute_result"
    }
   ],
   "source": [
    "m = Map(\"Palm Springs, CA\")\n",
    "m"
   ]
  },
  {
   "cell_type": "markdown",
   "id": "836bf942-8656-456f-904e-87e84bd80791",
   "metadata": {},
   "source": [
    "#### The widget is interactive and there are several properties you can set to customize it"
   ]
  },
  {
   "cell_type": "code",
   "execution_count": 3,
   "id": "0fabb170-4d2a-4a4b-8399-ba855e77a6d7",
   "metadata": {},
   "outputs": [
    {
     "data": {
      "text/plain": [
       "8.0"
      ]
     },
     "execution_count": 3,
     "metadata": {},
     "output_type": "execute_result"
    }
   ],
   "source": [
    "m.zoom"
   ]
  },
  {
   "cell_type": "code",
   "execution_count": 4,
   "id": "17637e65-aa52-4212-ba1d-c896a61d0057",
   "metadata": {},
   "outputs": [],
   "source": [
    "m.zoom = 6"
   ]
  },
  {
   "cell_type": "code",
   "execution_count": 5,
   "id": "2f958262-ffe8-4506-9bc8-ea64ca9f5582",
   "metadata": {},
   "outputs": [],
   "source": [
    "m.extent = {'spatialReference': {'latestWkid': 3857, 'wkid': 102100},\n",
    "             'xmin': -14037327.18722254,\n",
    "             'ymin': 4575968.479707722,\n",
    "             'xmax': -12448659.99134386,\n",
    "             'ymax': 5309763.9512452185\n",
    "           }"
   ]
  },
  {
   "cell_type": "markdown",
   "id": "fb7cb2ea-3153-4350-8c38-d5cd0ed6ba50",
   "metadata": {},
   "source": [
    "## New: Basemap Manager class"
   ]
  },
  {
   "cell_type": "code",
   "execution_count": 6,
   "id": "5f67c388-db51-4cde-8947-e3e93137d971",
   "metadata": {},
   "outputs": [
    {
     "data": {
      "text/plain": [
       "Basemap Manager"
      ]
     },
     "execution_count": 6,
     "metadata": {},
     "output_type": "execute_result"
    }
   ],
   "source": [
    "# We can use the Basemap Manager\n",
    "m.basemap"
   ]
  },
  {
   "cell_type": "code",
   "execution_count": null,
   "id": "13c7c54a-695f-4161-8a06-e1b8b0e30cb3",
   "metadata": {},
   "outputs": [],
   "source": [
    "# Use TAB to see the properties and methods\n",
    "m.basemap."
   ]
  },
  {
   "cell_type": "code",
   "execution_count": 7,
   "id": "5d201935-d284-4373-9e7a-cb4ac6d19bbe",
   "metadata": {},
   "outputs": [
    {
     "data": {
      "text/plain": [
       "{'baseMapLayers': [{'id': 'VectorTile_7665',\n",
       "   'itemId': '273bf8d5c8ac400183fc24e109d20bcf',\n",
       "   'layerType': 'VectorTileLayer',\n",
       "   'opacity': 1.0,\n",
       "   'styleUrl': 'https://www.arcgis.com/sharing/rest/content/items/273bf8d5c8ac400183fc24e109d20bcf/resources/styles/root.json',\n",
       "   'title': 'Community',\n",
       "   'visibility': True}],\n",
       " 'title': 'Community Map'}"
      ]
     },
     "execution_count": 7,
     "metadata": {},
     "output_type": "execute_result"
    }
   ],
   "source": [
    "# See the current basemap\n",
    "m.basemap.basemap"
   ]
  },
  {
   "cell_type": "code",
   "execution_count": 8,
   "id": "4ba35836-e4b7-4a6d-a901-9b4ea728b6fb",
   "metadata": {},
   "outputs": [
    {
     "data": {
      "text/plain": [
       "['satellite',\n",
       " 'hybrid',\n",
       " 'terrain',\n",
       " 'oceans',\n",
       " 'osm',\n",
       " 'dark-gray-vector',\n",
       " 'gray-vector',\n",
       " 'streets-vector',\n",
       " 'topo-vector',\n",
       " 'streets-night-vector',\n",
       " 'streets-relief-vector',\n",
       " 'streets-navigation-vector',\n",
       " 'arcgis-imagery',\n",
       " 'arcgis-imagery-standard',\n",
       " 'arcgis-imagery-labels',\n",
       " 'arcgis-light-gray',\n",
       " 'arcgis-dark-gray',\n",
       " 'arcgis-navigation',\n",
       " 'arcgis-navigation-night',\n",
       " 'arcgis-streets',\n",
       " 'arcgis-streets-night',\n",
       " 'arcgis-streets-relief',\n",
       " 'arcgis-topographic',\n",
       " 'arcgis-oceans',\n",
       " 'osm-standard',\n",
       " 'osm-standard-relief',\n",
       " 'osm-streets',\n",
       " 'osm-streets-relief',\n",
       " 'osm-light-gray',\n",
       " 'osm-dark-gray',\n",
       " 'arcgis-terrain',\n",
       " 'arcgis-community',\n",
       " 'arcgis-charted-territory',\n",
       " 'arcgis-colored-pencil',\n",
       " 'arcgis-nova',\n",
       " 'arcgis-modern-antique',\n",
       " 'arcgis-midcentury',\n",
       " 'arcgis-newspaper',\n",
       " 'arcgis-hillshade-light',\n",
       " 'arcgis-hillshade-dark',\n",
       " 'arcgis-human-geography',\n",
       " 'arcgis-human-geography-dark']"
      ]
     },
     "execution_count": 8,
     "metadata": {},
     "output_type": "execute_result"
    }
   ],
   "source": [
    "# List of available default basemaps\n",
    "m.basemap.basemaps"
   ]
  },
  {
   "cell_type": "code",
   "execution_count": 9,
   "id": "68a94a0d-a4df-4889-b984-3f22595cb984",
   "metadata": {},
   "outputs": [],
   "source": [
    "# Change the basemap by assigning it to the property\n",
    "m.basemap.basemap = \"arcgis-imagery\""
   ]
  },
  {
   "cell_type": "code",
   "execution_count": 10,
   "id": "00ecf9f0-2760-4a36-804a-71e0eef86c1a",
   "metadata": {},
   "outputs": [
    {
     "data": {
      "application/vnd.jupyter.widget-view+json": {
       "model_id": "70919042b0a04aa089677660ed6332d1",
       "version_major": 2,
       "version_minor": 1
      },
      "text/plain": [
       "Map(center=[-118.9638354874994, 40.52729759422819], extent={'spatialReference': {'latestWkid': 3857, 'wkid': 1…"
      ]
     },
     "execution_count": 10,
     "metadata": {},
     "output_type": "execute_result"
    }
   ],
   "source": [
    "m"
   ]
  },
  {
   "cell_type": "markdown",
   "id": "7c73e54c-35ff-47a5-bd07-bdb7b177bcf4",
   "metadata": {},
   "source": [
    "## New: Map Content class"
   ]
  },
  {
   "cell_type": "code",
   "execution_count": 11,
   "id": "e0265fc2-639a-4081-bbb7-da4c3ba6e67e",
   "metadata": {},
   "outputs": [
    {
     "data": {
      "text/plain": [
       "Map Content"
      ]
     },
     "execution_count": 11,
     "metadata": {},
     "output_type": "execute_result"
    }
   ],
   "source": [
    "m.content"
   ]
  },
  {
   "cell_type": "code",
   "execution_count": null,
   "id": "2e879cfd-f2ed-4c1c-ba1c-9c2c4b06a74a",
   "metadata": {},
   "outputs": [],
   "source": [
    "# Use TAB to see available methods and properties\n",
    "m.content."
   ]
  },
  {
   "cell_type": "code",
   "execution_count": 12,
   "id": "a55750a8-ed72-4596-bc9f-98e72b51560e",
   "metadata": {},
   "outputs": [
    {
     "data": {
      "text/plain": [
       "[<Item title:\"National Heritage List for England (NHLE)\" type:Feature Layer Collection owner:gis_historicengland>,\n",
       " <Item title:\"World Time Zones\" type:Feature Layer Collection owner:esri_dm>,\n",
       " <Item title:\"AGOL_VIEW_NEW_Yellow_Fever_Vaccination_Recommendations_2013-2019\" type:Feature Layer Collection owner:PAHO_PHE-HIM_GIS_Content>,\n",
       " <Item title:\"Flood Factor risk statistics (v2.0) - Full Dataset\" type:Feature Layer Collection owner:blewis_worldmap>,\n",
       " <Item title:\"RBA South Greenland\" type:Feature Layer Collection owner:KarlBrixZinglersen>,\n",
       " <Item title:\"Time Zone Routes_WFL1\" type:Feature Layer Collection owner:nasare>,\n",
       " <Item title:\"ACLED Ucrania\" type:Feature Layer Collection owner:MKT.javier.flores>,\n",
       " <Item title:\"Comparison Map AGOL_WFL1\" type:Feature Layer Collection owner:chayes07_TuftsGIS>,\n",
       " <Item title:\"2016 Kernel Density Analysis _ Qatar_WFL1\" type:Feature Layer Collection owner:chayes07_TuftsGIS>,\n",
       " <Item title:\"Life Below Water\" type:Feature Layer Collection owner:arobby1971>]"
      ]
     },
     "execution_count": 12,
     "metadata": {},
     "output_type": "execute_result"
    }
   ],
   "source": [
    "# Search the org for a layer\n",
    "items = gis.content.search(\"World Time Zones\", item_type=\"Feature Service\", outside_org=True)\n",
    "items"
   ]
  },
  {
   "cell_type": "code",
   "execution_count": 13,
   "id": "448e0137-7084-4a6d-939c-92ca104cde0e",
   "metadata": {},
   "outputs": [
    {
     "data": {
      "text/html": [
       "<div class=\"item_container\" style=\"height: auto; overflow: hidden; border: 1px solid #cfcfcf; border-radius: 2px; background: #f6fafa; line-height: 1.21429em; padding: 10px;\">\n",
       "                    <div class=\"item_left\" style=\"width: 210px; float: left;\">\n",
       "                       <a href='https://geosaurus.maps.arcgis.com/home/item.html?id=312cebfea2624e108e234220b04460b8' target='_blank'>\n",
       "                        <img src='data:image/png;base64,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' width='200' height='133' class=\"itemThumbnail\">\n",
       "                       </a>\n",
       "                    </div>\n",
       "\n",
       "                    <div class=\"item_right\"     style=\"float: none; width: auto; overflow: hidden;\">\n",
       "                        <a href='https://geosaurus.maps.arcgis.com/home/item.html?id=312cebfea2624e108e234220b04460b8' target='_blank'><b>World Time Zones</b>\n",
       "                        </a>\n",
       "                        <br/>World Time Zones provides time zones for countries and the cities within them. Note that daylight saving time (DST) is not shown.<br/><img src='https://geosaurus.maps.arcgis.com/home/js/jsapi/esri/css/images/item_type_icons/featureshosted16.png' style=\"vertical-align:middle;\" width=16 height=16>Feature Layer Collection by esri_dm\n",
       "                        <br/>Last Modified: March 07, 2025\n",
       "                        <br/>0 comments, 930,525 views\n",
       "                    </div>\n",
       "                </div>\n",
       "                "
      ],
      "text/plain": [
       "<Item title:\"World Time Zones\" type:Feature Layer Collection owner:esri_dm>"
      ]
     },
     "execution_count": 13,
     "metadata": {},
     "output_type": "execute_result"
    }
   ],
   "source": [
    "world_time_zones = items[1]\n",
    "world_time_zones"
   ]
  },
  {
   "cell_type": "code",
   "execution_count": 14,
   "id": "9e5c252a-86db-4bf0-afec-d6ea472cac1d",
   "metadata": {},
   "outputs": [],
   "source": [
    "m.content.add(world_time_zones)"
   ]
  },
  {
   "cell_type": "code",
   "execution_count": 15,
   "id": "82ed55c5-79bb-418a-b8c8-61f83a4bab36",
   "metadata": {},
   "outputs": [
    {
     "data": {
      "text/plain": [
       "[<FeatureLayer url:\"https://services.arcgis.com/P3ePLMYs2RVChkJx/arcgis/rest/services/World_Time_Zones/FeatureServer/0\">]"
      ]
     },
     "execution_count": 15,
     "metadata": {},
     "output_type": "execute_result"
    }
   ],
   "source": [
    "m.content.layers"
   ]
  },
  {
   "cell_type": "markdown",
   "id": "7aec41f3-4f4c-4201-ab47-4df46e6f7b9d",
   "metadata": {},
   "source": [
    "## New: Adding a Group Layer"
   ]
  },
  {
   "cell_type": "code",
   "execution_count": 16,
   "id": "2ac8199f-aa7e-46eb-9738-7da78d87cb3f",
   "metadata": {},
   "outputs": [
    {
     "data": {
      "text/html": [
       "<div class=\"item_container\" style=\"height: auto; overflow: hidden; border: 1px solid #cfcfcf; border-radius: 2px; background: #f6fafa; line-height: 1.21429em; padding: 10px;\">\n",
       "                    <div class=\"item_left\" style=\"width: 210px; float: left;\">\n",
       "                       <a href='https://geosaurus.maps.arcgis.com/home/item.html?id=2eb03d3d8106443ba54a6b8a7d1b0d11' target='_blank'>\n",
       "                        <img src='data:image/png;base64,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' width='200' height='133' class=\"itemThumbnail\">\n",
       "                       </a>\n",
       "                    </div>\n",
       "\n",
       "                    <div class=\"item_right\"     style=\"float: none; width: auto; overflow: hidden;\">\n",
       "                        <a href='https://geosaurus.maps.arcgis.com/home/item.html?id=2eb03d3d8106443ba54a6b8a7d1b0d11' target='_blank'><b>USA_Airports_by_scale</b>\n",
       "                        </a>\n",
       "                        <br/>The dataset provides users with information about airport locations and attributes and can be used for national and regional analysis applications.<br/><img src='https://geosaurus.maps.arcgis.com/home/js/jsapi/esri/css/images/item_type_icons/featureshosted16.png' style=\"vertical-align:middle;\" width=16 height=16>Feature Layer Collection by naubry_geosaurus\n",
       "                        <br/>Last Modified: October 09, 2024\n",
       "                        <br/>0 comments, 0 views\n",
       "                    </div>\n",
       "                </div>\n",
       "                "
      ],
      "text/plain": [
       "<Item title:\"USA_Airports_by_scale\" type:Feature Layer Collection owner:naubry_geosaurus>"
      ]
     },
     "execution_count": 16,
     "metadata": {},
     "output_type": "execute_result"
    }
   ],
   "source": [
    "airports_item = gis.content.get(\"2eb03d3d8106443ba54a6b8a7d1b0d11\")\n",
    "airports_item"
   ]
  },
  {
   "cell_type": "code",
   "execution_count": 17,
   "id": "06a45380-4349-4792-9d9a-da33d0bc7e88",
   "metadata": {},
   "outputs": [
    {
     "data": {
      "text/plain": [
       "[<FeatureLayer url:\"https://services.arcgis.com/P3ePLMYs2RVChkJx/arcgis/rest/services/USA_Airports_by_scale/FeatureServer/1\">,\n",
       " <FeatureLayer url:\"https://services.arcgis.com/P3ePLMYs2RVChkJx/arcgis/rest/services/USA_Airports_by_scale/FeatureServer/2\">,\n",
       " <FeatureLayer url:\"https://services.arcgis.com/P3ePLMYs2RVChkJx/arcgis/rest/services/USA_Airports_by_scale/FeatureServer/3\">,\n",
       " <FeatureLayer url:\"https://services.arcgis.com/P3ePLMYs2RVChkJx/arcgis/rest/services/USA_Airports_by_scale/FeatureServer/4\">,\n",
       " <FeatureLayer url:\"https://services.arcgis.com/P3ePLMYs2RVChkJx/arcgis/rest/services/USA_Airports_by_scale/FeatureServer/6\">,\n",
       " <FeatureLayer url:\"https://services.arcgis.com/P3ePLMYs2RVChkJx/arcgis/rest/services/USA_Airports_by_scale/FeatureServer/7\">,\n",
       " <FeatureLayer url:\"https://services.arcgis.com/P3ePLMYs2RVChkJx/arcgis/rest/services/USA_Airports_by_scale/FeatureServer/8\">,\n",
       " <FeatureLayer url:\"https://services.arcgis.com/P3ePLMYs2RVChkJx/arcgis/rest/services/USA_Airports_by_scale/FeatureServer/9\">,\n",
       " <FeatureLayer url:\"https://services.arcgis.com/P3ePLMYs2RVChkJx/arcgis/rest/services/USA_Airports_by_scale/FeatureServer/10\">]"
      ]
     },
     "execution_count": 17,
     "metadata": {},
     "output_type": "execute_result"
    }
   ],
   "source": [
    "airports_item.layers"
   ]
  },
  {
   "cell_type": "code",
   "execution_count": 18,
   "id": "7e4faf3c-4c1f-4449-99ed-7f1c875b82d3",
   "metadata": {},
   "outputs": [],
   "source": [
    "m.content.add(airports_item)"
   ]
  },
  {
   "cell_type": "code",
   "execution_count": 19,
   "id": "293e050a-c0ea-4609-8f72-a2f11a8a734e",
   "metadata": {},
   "outputs": [
    {
     "data": {
      "text/plain": [
       "[<FeatureLayer url:\"https://services.arcgis.com/P3ePLMYs2RVChkJx/arcgis/rest/services/World_Time_Zones/FeatureServer/0\">,\n",
       " Group Layer: USA_Airports_by_scale]"
      ]
     },
     "execution_count": 19,
     "metadata": {},
     "output_type": "execute_result"
    }
   ],
   "source": [
    "m.content.layers"
   ]
  },
  {
   "cell_type": "code",
   "execution_count": 20,
   "id": "e1bd1719-545e-4eba-bf0c-94670be3d437",
   "metadata": {},
   "outputs": [
    {
     "data": {
      "application/vnd.jupyter.widget-view+json": {
       "model_id": "70919042b0a04aa089677660ed6332d1",
       "version_major": 2,
       "version_minor": 1
      },
      "text/plain": [
       "Map(center=[-145.2651050187424, 45.30075108716435], extent={'spatialReference': {'latestWkid': 3857, 'wkid': 1…"
      ]
     },
     "execution_count": 20,
     "metadata": {},
     "output_type": "execute_result"
    }
   ],
   "source": [
    "m"
   ]
  },
  {
   "cell_type": "markdown",
   "id": "f1c5050d-adef-4227-ad04-1763c18cb44d",
   "metadata": {},
   "source": [
    "#### Working with a Group Layer"
   ]
  },
  {
   "cell_type": "code",
   "execution_count": 21,
   "id": "647a75f0-9141-4669-b860-0b0d053f87c0",
   "metadata": {},
   "outputs": [
    {
     "data": {
      "text/plain": [
       "Group Layer: USA_Airports_by_scale"
      ]
     },
     "execution_count": 21,
     "metadata": {},
     "output_type": "execute_result"
    }
   ],
   "source": [
    "group_layer = m.content.layers[1]\n",
    "group_layer"
   ]
  },
  {
   "cell_type": "code",
   "execution_count": 22,
   "id": "161ab601-e201-49ff-8eb8-ec1693d093c1",
   "metadata": {},
   "outputs": [
    {
     "data": {
      "text/plain": [
       "[<FeatureLayer url:\"https://services.arcgis.com/P3ePLMYs2RVChkJx/arcgis/rest/services/USA_Airports_by_scale/FeatureServer/1\">,\n",
       " <FeatureLayer url:\"https://services.arcgis.com/P3ePLMYs2RVChkJx/arcgis/rest/services/USA_Airports_by_scale/FeatureServer/2\">,\n",
       " <FeatureLayer url:\"https://services.arcgis.com/P3ePLMYs2RVChkJx/arcgis/rest/services/USA_Airports_by_scale/FeatureServer/3\">,\n",
       " <FeatureLayer url:\"https://services.arcgis.com/P3ePLMYs2RVChkJx/arcgis/rest/services/USA_Airports_by_scale/FeatureServer/4\">,\n",
       " <FeatureLayer url:\"https://services.arcgis.com/P3ePLMYs2RVChkJx/arcgis/rest/services/USA_Airports_by_scale/FeatureServer/6\">,\n",
       " <FeatureLayer url:\"https://services.arcgis.com/P3ePLMYs2RVChkJx/arcgis/rest/services/USA_Airports_by_scale/FeatureServer/7\">,\n",
       " <FeatureLayer url:\"https://services.arcgis.com/P3ePLMYs2RVChkJx/arcgis/rest/services/USA_Airports_by_scale/FeatureServer/8\">,\n",
       " <FeatureLayer url:\"https://services.arcgis.com/P3ePLMYs2RVChkJx/arcgis/rest/services/USA_Airports_by_scale/FeatureServer/9\">,\n",
       " <FeatureLayer url:\"https://services.arcgis.com/P3ePLMYs2RVChkJx/arcgis/rest/services/USA_Airports_by_scale/FeatureServer/10\">]"
      ]
     },
     "execution_count": 22,
     "metadata": {},
     "output_type": "execute_result"
    }
   ],
   "source": [
    "group_layer.layers"
   ]
  },
  {
   "cell_type": "markdown",
   "id": "3449e277-9690-459b-bdaa-1b9e9e97d342",
   "metadata": {},
   "source": [
    "## New: Popup Manager and Renderer Manager\n",
    "I can access same classes as from the Map Content class to edit my layers"
   ]
  },
  {
   "cell_type": "code",
   "execution_count": 23,
   "id": "3fc4132b-d24b-4d70-a900-fb2f43a7fb0c",
   "metadata": {},
   "outputs": [
    {
     "data": {
      "text/plain": [
       "PopupManager for: 1,000,000 or more"
      ]
     },
     "execution_count": 23,
     "metadata": {},
     "output_type": "execute_result"
    }
   ],
   "source": [
    "group_layer.popup(0)"
   ]
  },
  {
   "cell_type": "code",
   "execution_count": 24,
   "id": "05568436-d72e-495d-96cf-fd5335b6d308",
   "metadata": {},
   "outputs": [
    {
     "data": {
      "text/plain": [
       "Renderer for: 1,000,000 or more"
      ]
     },
     "execution_count": 24,
     "metadata": {},
     "output_type": "execute_result"
    }
   ],
   "source": [
    "group_layer.renderer(0)"
   ]
  },
  {
   "cell_type": "code",
   "execution_count": 25,
   "id": "965e0bc5-dd29-44d0-be05-91fe7c634f21",
   "metadata": {},
   "outputs": [
    {
     "data": {
      "text/plain": [
       "SimpleRenderer(authoring_info=None, description=None, label=None, rotation_expression=None, rotation_type=None, symbol=SimpleMarkerSymbolEsriSMS(angle=0.0, color=[77, 77, 77, 255], outline=SimpleLineSymbolEsriSLS(color=[255, 255, 255, 64], marker=None, style='esriSLSSolid', type='esriSLS', width=0.75), size=6, style='esriSMSCircle', type='esriSMS', xoffset=0, yoffset=0), type='simple', visual_variables=[SizeInfoVisualVariable(axis='all', field=None, legend_options=None, max_data_value=None, max_size=None, min_data_value=None, min_size=None, normalization_field=None, stops=[SizeStop(label=None, size=7.5, value=1155581.1085775), SizeStop(label=None, size=6.0, value=9244648.868618), SizeStop(label=None, size=3.0, value=73957190.9489445)], target=None, type='sizeInfo', use_symbol_value=None, value_expression='$view.scale', value_expression_title=None, value_representation=None, value_unit='unknown')])"
      ]
     },
     "execution_count": 25,
     "metadata": {},
     "output_type": "execute_result"
    }
   ],
   "source": [
    "group_layer.renderer(0).renderer"
   ]
  },
  {
   "cell_type": "code",
   "execution_count": 26,
   "id": "25400870-913b-4d44-9816-7e6e88976b72",
   "metadata": {},
   "outputs": [
    {
     "data": {
      "text/plain": [
       "arcgis.map.dataclasses.models.renderers.SimpleRenderer"
      ]
     },
     "execution_count": 26,
     "metadata": {},
     "output_type": "execute_result"
    }
   ],
   "source": [
    "type(group_layer.renderer(0).renderer)"
   ]
  },
  {
   "cell_type": "markdown",
   "id": "ca994dcf-0a41-4361-ac8c-e296dff9edae",
   "metadata": {},
   "source": [
    "## Creating a Scene"
   ]
  },
  {
   "cell_type": "code",
   "execution_count": 27,
   "id": "8ed66d5b-2de7-4c54-9204-f2c3211f03a8",
   "metadata": {},
   "outputs": [
    {
     "data": {
      "application/vnd.jupyter.widget-view+json": {
       "model_id": "ae7c0016715547ff8c5993d593507d0f",
       "version_major": 2,
       "version_minor": 1
      },
      "text/plain": [
       "Scene(camera={'heading': 0.0, 'position': {'spatialReference': {'latestWkid': 3857, 'wkid': 102100}, 'x': -137…"
      ]
     },
     "execution_count": 27,
     "metadata": {},
     "output_type": "execute_result"
    }
   ],
   "source": [
    "s = Scene()\n",
    "s"
   ]
  },
  {
   "cell_type": "code",
   "execution_count": 29,
   "id": "44d5e072-2fc0-432e-b8f3-bc563d90f8d4",
   "metadata": {},
   "outputs": [
    {
     "data": {
      "text/plain": [
       "{'heading': 359.6804470096394,\n",
       " 'position': {'spatialReference': {'latestWkid': 3857, 'wkid': 102100},\n",
       "  'x': -8041882.766939781,\n",
       "  'y': 4354010.142288619,\n",
       "  'z': 2227920.888123125},\n",
       " 'tilt': 0.3705587229874902}"
      ]
     },
     "execution_count": 29,
     "metadata": {},
     "output_type": "execute_result"
    }
   ],
   "source": [
    "s.camera"
   ]
  },
  {
   "cell_type": "markdown",
   "id": "ad77d0df-5242-4390-8552-a4d137e5227b",
   "metadata": {},
   "source": [
    "## New: Scene Content class"
   ]
  },
  {
   "cell_type": "code",
   "execution_count": 30,
   "id": "8f1fe3e5-f852-4f67-a97b-270993c87302",
   "metadata": {},
   "outputs": [
    {
     "data": {
      "text/plain": [
       "Scene Content"
      ]
     },
     "execution_count": 30,
     "metadata": {},
     "output_type": "execute_result"
    }
   ],
   "source": [
    "s.content"
   ]
  },
  {
   "cell_type": "code",
   "execution_count": 31,
   "id": "db5a232d-6781-414d-b64b-d245917bcfd0",
   "metadata": {},
   "outputs": [
    {
     "data": {
      "text/plain": [
       "Basemap Manager"
      ]
     },
     "execution_count": 31,
     "metadata": {},
     "output_type": "execute_result"
    }
   ],
   "source": [
    "s.basemap"
   ]
  },
  {
   "cell_type": "code",
   "execution_count": 32,
   "id": "77ac35d1-5144-4ff2-976e-3b3f2528a963",
   "metadata": {},
   "outputs": [
    {
     "data": {
      "text/plain": [
       "['topo-3d',\n",
       " 'navigation-3d',\n",
       " 'streets-3d',\n",
       " 'osm-3d',\n",
       " 'gray-3d',\n",
       " 'navigation-dark-3d',\n",
       " 'streets-dark-3d',\n",
       " 'dark-gray-3d']"
      ]
     },
     "execution_count": 32,
     "metadata": {},
     "output_type": "execute_result"
    }
   ],
   "source": [
    "s.basemap.basemaps3d"
   ]
  },
  {
   "cell_type": "code",
   "execution_count": 33,
   "id": "efa6fa65-1671-4976-a690-04d31a316078",
   "metadata": {},
   "outputs": [],
   "source": [
    "s.basemap.basemap = \"osm-3d\""
   ]
  }
 ],
 "metadata": {
  "kernelspec": {
   "display_name": "Python 3 (ipykernel)",
   "language": "python",
   "name": "python3"
  },
  "language_info": {
   "codemirror_mode": {
    "name": "ipython",
    "version": 3
   },
   "file_extension": ".py",
   "mimetype": "text/x-python",
   "name": "python",
   "nbconvert_exporter": "python",
   "pygments_lexer": "ipython3",
   "version": "3.11.10"
  }
 },
 "nbformat": 4,
 "nbformat_minor": 5
}
