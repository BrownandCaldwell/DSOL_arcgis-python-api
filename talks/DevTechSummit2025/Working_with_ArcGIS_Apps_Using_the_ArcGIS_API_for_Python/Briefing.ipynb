{
 "cells": [
  {
   "cell_type": "markdown",
   "id": "6839ad94-00df-4d68-aff1-60929e04483b",
   "metadata": {},
   "source": [
    "# Getting Briefings and Collections"
   ]
  },
  {
   "cell_type": "markdown",
   "id": "47c5c2be-b49b-4b8c-8c93-f98ae375bb90",
   "metadata": {},
   "source": [
    "A quick demo to show that Briefings and Collections follow a similar workflow to the StoryMap class. These classes contain content that can be viewed, edited, and saved to update your work."
   ]
  },
  {
   "cell_type": "code",
   "execution_count": 2,
   "id": "3825dced-54c6-42f3-9255-16835b7d300d",
   "metadata": {},
   "outputs": [],
   "source": [
    "from arcgis.gis import GIS\n",
    "from arcgis.apps.storymap import Briefing, Collection, Map\n",
    "import warnings\n",
    "warnings.filterwarnings(\"ignore\")\n",
    "\n",
    "gis = GIS(profile=\"geosaurus\")"
   ]
  },
  {
   "cell_type": "markdown",
   "id": "a1890525-bea9-48a0-939a-156918d00ae3",
   "metadata": {},
   "source": [
    "The ArcGIS StoryMaps team has put together a Collection of their favorite Briefings"
   ]
  },
  {
   "cell_type": "markdown",
   "id": "bdbaa014-337b-4a89-bb35-b4c5dc9dc59a",
   "metadata": {},
   "source": [
    "https://storymaps.arcgis.com/collections/43a987f6351d4ecbaf20a13e663c08c6"
   ]
  },
  {
   "cell_type": "markdown",
   "id": "458b9ccd-38be-4ca4-b14d-70b898de95b2",
   "metadata": {},
   "source": [
    "We can utilize the classes in the Python API to access this and pick out a Briefing."
   ]
  },
  {
   "cell_type": "markdown",
   "id": "8f05672b-5d86-49be-8e11-3bd97115c18f",
   "metadata": {},
   "source": [
    "## Grab the Collection with the item's id"
   ]
  },
  {
   "cell_type": "markdown",
   "id": "40810fcb-578d-40b4-b7a4-19cbae898840",
   "metadata": {},
   "source": [
    "Create an instance of the Collection class using the existing item."
   ]
  },
  {
   "cell_type": "code",
   "execution_count": 3,
   "id": "fabde5f9-ffb2-44c6-9bad-d0fe1d74f835",
   "metadata": {},
   "outputs": [],
   "source": [
    "collection = Collection(\"43a987f6351d4ecbaf20a13e663c08c6\")"
   ]
  },
  {
   "cell_type": "markdown",
   "id": "9b280a4e-2fdb-4c60-8872-d46e1de4d7e9",
   "metadata": {},
   "source": [
    "## Explore the Collection"
   ]
  },
  {
   "cell_type": "code",
   "execution_count": 4,
   "id": "d951e6c5-de9d-43aa-b2ca-bf4c386ee1e5",
   "metadata": {},
   "outputs": [
    {
     "data": {
      "text/plain": [
       "[Cover,\n",
       " Collection Navigation,\n",
       " Embed: https://storymaps.arcgis.com/briefings/f99a9cea4902441eba8c9683d24d8132,\n",
       " <Item title:\"Residential redevelopment in the West Don Lands\" type:StoryMap owner:wdavison_Story>,\n",
       " <Item title:\"The Power of Proximity \" type:StoryMap owner:andria.storymaps>,\n",
       " <Item title:\"Preparing for sea level rise\" type:StoryMap owner:andria.storymaps>,\n",
       " Embed: https://storymaps.arcgis.com/briefings/8d47c05eaea24c34a217ad7e340fb9e5,\n",
       " <Item title:\"U.S. Wildfire Snapshot \" type:StoryMap owner:michelle.storymaps>,\n",
       " Embed: https://storymaps.arcgis.com/briefings/3a77266dfb2b4f468e158b15ab70a309,\n",
       " <Item title:\"Redlining and its impact\" type:StoryMap owner:ashleynicoledu>,\n",
       " <Item title:\"Conserving our planet, one story at a time\" type:StoryMap owner:michelle.storymaps>,\n",
       " <Item title:\"Food and culture\" type:StoryMap owner:andria.storymaps>,\n",
       " Embed: https://storymaps.arcgis.com/briefings/1e1e70c3204d42229609cefe21f9b18c,\n",
       " <Item title:\"Homegrown South Bronx proposal: grow local\" type:StoryMap owner:skitchens.storymaps>]"
      ]
     },
     "execution_count": 4,
     "metadata": {},
     "output_type": "execute_result"
    }
   ],
   "source": [
    "collection.content"
   ]
  },
  {
   "cell_type": "markdown",
   "id": "29422e56-e53d-4afc-9996-fbf0f70310c0",
   "metadata": {},
   "source": [
    "## Grab a Briefing"
   ]
  },
  {
   "cell_type": "code",
   "execution_count": 5,
   "id": "7d6169d5-8049-49e0-afcd-e07bb783d782",
   "metadata": {},
   "outputs": [
    {
     "data": {
      "text/html": [
       "<div class=\"item_container\" style=\"height: auto; overflow: hidden; border: 1px solid #cfcfcf; border-radius: 2px; background: #f6fafa; line-height: 1.21429em; padding: 10px;\">\n",
       "                    <div class=\"item_left\" style=\"width: 210px; float: left;\">\n",
       "                       <a href='https://geosaurus.maps.arcgis.com/home/item.html?id=a08eefccf2cb4479adb35acedc8afd93' target='_blank'>\n",
       "                        <img src='data:image/png;base64,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' width='200' height='133' class=\"itemThumbnail\">\n",
       "                       </a>\n",
       "                    </div>\n",
       "\n",
       "                    <div class=\"item_right\"     style=\"float: none; width: auto; overflow: hidden;\">\n",
       "                        <a href='https://geosaurus.maps.arcgis.com/home/item.html?id=a08eefccf2cb4479adb35acedc8afd93' target='_blank'><b>Preparing for sea level rise</b>\n",
       "                        </a>\n",
       "                        <br/>Use GIS to help make decisions and take action<br/><img src='https://geosaurus.maps.arcgis.com/home/js/jsapi/esri/css/images/item_type_icons/layers16.png' style=\"vertical-align:middle;\" width=16 height=16>StoryMap by andria.storymaps\n",
       "                        <br/>Last Modified: October 08, 2024\n",
       "                        <br/>0 comments, 10573 views\n",
       "                    </div>\n",
       "                </div>\n",
       "                "
      ],
      "text/plain": [
       "<Item title:\"Preparing for sea level rise\" type:StoryMap owner:andria.storymaps>"
      ]
     },
     "execution_count": 5,
     "metadata": {},
     "output_type": "execute_result"
    }
   ],
   "source": [
    "briefing_item = collection.content[5]\n",
    "briefing_item"
   ]
  },
  {
   "cell_type": "code",
   "execution_count": 6,
   "id": "171739c4-1096-41ae-aea4-d944e3dc352b",
   "metadata": {},
   "outputs": [
    {
     "data": {
      "text/html": [
       "\n",
       "        <iframe\n",
       "            width=\"700\"\n",
       "            height=\"350\"\n",
       "            src=\"https://storymaps.arcgis.com/briefings/a08eefccf2cb4479adb35acedc8afd93?params=title%3DPreparing+for+sea+level+rise\"\n",
       "            frameborder=\"0\"\n",
       "            allowfullscreen\n",
       "            \n",
       "        ></iframe>\n",
       "        "
      ],
      "text/plain": [
       "<IPython.lib.display.IFrame at 0x19873391e20>"
      ]
     },
     "execution_count": 6,
     "metadata": {},
     "output_type": "execute_result"
    }
   ],
   "source": [
    "# Pass the item to the briefing class and see published briefing\n",
    "br = Briefing(briefing_item)\n",
    "br.show()"
   ]
  },
  {
   "cell_type": "markdown",
   "id": "fcf5ea98-5704-4fec-af70-23869749e5aa",
   "metadata": {},
   "source": [
    "### Explore through the classes available"
   ]
  },
  {
   "cell_type": "markdown",
   "id": "841690cd-bc6d-44d4-a4da-13f12710791a",
   "metadata": {},
   "source": [
    "A Briefing is composed of slides, we can go through each slide to see the content, similar to StoryMaps"
   ]
  },
  {
   "cell_type": "code",
   "execution_count": 7,
   "id": "95115815-fc98-4845-b345-a03a42c7456e",
   "metadata": {},
   "outputs": [
    {
     "data": {
      "text/plain": [
       "[Briefing Slide: cover,\n",
       " Briefing Slide: double,\n",
       " Briefing Slide: double,\n",
       " Briefing Slide: double,\n",
       " Briefing Slide: section-double,\n",
       " Briefing Slide: double,\n",
       " Briefing Slide: double,\n",
       " Briefing Slide: full,\n",
       " Briefing Slide: double,\n",
       " Briefing Slide: double,\n",
       " Briefing Slide: single]"
      ]
     },
     "execution_count": 7,
     "metadata": {},
     "output_type": "execute_result"
    }
   ],
   "source": [
    "# Display as classes\n",
    "br.slides"
   ]
  },
  {
   "cell_type": "markdown",
   "id": "b02f9e9f-3794-4907-a55e-c5c14c594fb9",
   "metadata": {},
   "source": [
    "Above we see all the slides of the Briefing and the type of display of the slide.  \n",
    "We can grab one slide to further see the contents."
   ]
  },
  {
   "cell_type": "code",
   "execution_count": 8,
   "id": "01c96fa1-df9b-49e5-9511-85496f6d2ca6",
   "metadata": {},
   "outputs": [
    {
     "data": {
      "text/plain": [
       "Briefing Slide: double"
      ]
     },
     "execution_count": 8,
     "metadata": {},
     "output_type": "execute_result"
    }
   ],
   "source": [
    "# See the 6th slide\n",
    "br.slides[5]"
   ]
  },
  {
   "cell_type": "code",
   "execution_count": 9,
   "id": "a588271c-2f1c-4e75-b90f-449caea19c74",
   "metadata": {},
   "outputs": [
    {
     "data": {
      "text/plain": [
       "[Left Block, Right Block]"
      ]
     },
     "execution_count": 9,
     "metadata": {},
     "output_type": "execute_result"
    }
   ],
   "source": [
    "# Slides are divided by blocks, because it is a double we have two blocks.\n",
    "br.slides[5].blocks"
   ]
  },
  {
   "cell_type": "code",
   "execution_count": 10,
   "id": "b2d8590d-582d-4806-b91a-36e10ea78033",
   "metadata": {},
   "outputs": [
    {
     "data": {
      "text/plain": [
       "[Text: paragraph,\n",
       " Text: paragraph,\n",
       " Text: paragraph,\n",
       " Text,\n",
       " Text,\n",
       " Text,\n",
       " Text,\n",
       " Text,\n",
       " Text,\n",
       " Text]"
      ]
     },
     "execution_count": 10,
     "metadata": {},
     "output_type": "execute_result"
    }
   ],
   "source": [
    "# Blocks are what hold the slide content\n",
    "br.slides[5].blocks[0].content"
   ]
  },
  {
   "cell_type": "code",
   "execution_count": 11,
   "id": "008e3a66-9822-4ecf-8568-1ce724042808",
   "metadata": {},
   "outputs": [
    {
     "data": {
      "text/plain": [
       "[Web Map]"
      ]
     },
     "execution_count": 11,
     "metadata": {},
     "output_type": "execute_result"
    }
   ],
   "source": [
    "br.slides[5].blocks[1].content"
   ]
  },
  {
   "cell_type": "code",
   "execution_count": 12,
   "id": "cf7b7338-581f-42a2-8793-e7ff47aa68c3",
   "metadata": {},
   "outputs": [
    {
     "data": {
      "text/html": [
       "<div class=\"item_container\" style=\"height: auto; overflow: hidden; border: 1px solid #cfcfcf; border-radius: 2px; background: #f6fafa; line-height: 1.21429em; padding: 10px;\">\n",
       "                    <div class=\"item_left\" style=\"width: 210px; float: left;\">\n",
       "                       <a href='https://geosaurus.maps.arcgis.com/home/item.html?id=70b7d2e2b117466d99aa6ad2a8e4d70c' target='_blank'>\n",
       "                        <img src='data:image/png;base64,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' width='200' height='133' class=\"itemThumbnail\">\n",
       "                       </a>\n",
       "                    </div>\n",
       "\n",
       "                    <div class=\"item_right\"     style=\"float: none; width: auto; overflow: hidden;\">\n",
       "                        <a href='https://geosaurus.maps.arcgis.com/home/item.html?id=70b7d2e2b117466d99aa6ad2a8e4d70c' target='_blank'><b>Sea level rise maps for briefing</b>\n",
       "                        </a>\n",
       "                        <br/><br/><img src='https://geosaurus.maps.arcgis.com/home/js/jsapi/esri/css/images/item_type_icons/maps16.png' style=\"vertical-align:middle;\" width=16 height=16>Web Map by andria.storymaps\n",
       "                        <br/>Last Modified: January 29, 2024\n",
       "                        <br/>0 comments, 8306 views\n",
       "                    </div>\n",
       "                </div>\n",
       "                "
      ],
      "text/plain": [
       "<Item title:\"Sea level rise maps for briefing\" type:Web Map owner:andria.storymaps>"
      ]
     },
     "execution_count": 12,
     "metadata": {},
     "output_type": "execute_result"
    }
   ],
   "source": [
    "# Since the content of each slide is are classes as well, we can further explore through their properties\n",
    "br.slides[5].blocks[1].content[0].map"
   ]
  },
  {
   "cell_type": "markdown",
   "id": "51b1012e-d0a0-487d-8413-402034073983",
   "metadata": {},
   "source": [
    "### Let's say I really like the map on slide 6 and I want to add this to a briefing of mine."
   ]
  },
  {
   "cell_type": "code",
   "execution_count": 10,
   "id": "9ccbd217-fa36-4b39-b3d8-afede8eaeb83",
   "metadata": {},
   "outputs": [
    {
     "data": {
      "text/html": [
       "<div class=\"item_container\" style=\"height: auto; overflow: hidden; border: 1px solid #cfcfcf; border-radius: 2px; background: #f6fafa; line-height: 1.21429em; padding: 10px;\">\n",
       "                    <div class=\"item_left\" style=\"width: 210px; float: left;\">\n",
       "                       <a href='https://geosaurus.maps.arcgis.com/home/item.html?id=be0683ea7fb84608b48afd0628df2f48' target='_blank'>\n",
       "                        <img src='http://static.arcgis.com/images/desktopapp.png' class=\"itemThumbnail\">\n",
       "                       </a>\n",
       "                    </div>\n",
       "\n",
       "                    <div class=\"item_right\"     style=\"float: none; width: auto; overflow: hidden;\">\n",
       "                        <a href='https://geosaurus.maps.arcgis.com/home/item.html?id=be0683ea7fb84608b48afd0628df2f48' target='_blank'><b>Briefing via Python 587c349f70</b>\n",
       "                        </a>\n",
       "                        <br/><br/><img src='https://geosaurus.maps.arcgis.com/home/js/jsapi/esri/css/images/item_type_icons/layers16.png' style=\"vertical-align:middle;\" width=16 height=16>StoryMap by naubry_geosaurus\n",
       "                        <br/>Last Modified: March 12, 2025\n",
       "                        <br/>0 comments, 0 views\n",
       "                    </div>\n",
       "                </div>\n",
       "                "
      ],
      "text/plain": [
       "https://storymaps.arcgis.com/briefings/be0683ea7fb84608b48afd0628df2f48"
      ]
     },
     "execution_count": 10,
     "metadata": {},
     "output_type": "execute_result"
    }
   ],
   "source": [
    "# Create a new briefing that will be saved in my account\n",
    "my_br = Briefing()\n",
    "my_br"
   ]
  },
  {
   "cell_type": "code",
   "execution_count": 11,
   "id": "c3bc4fbe-e3cb-4fff-8eb5-10eb808d705e",
   "metadata": {},
   "outputs": [
    {
     "data": {
      "text/plain": [
       "[Briefing Slide: cover]"
      ]
     },
     "execution_count": 11,
     "metadata": {},
     "output_type": "execute_result"
    }
   ],
   "source": [
    "# A new briefing only contains a cover slide\n",
    "my_br.slides"
   ]
  },
  {
   "cell_type": "code",
   "execution_count": 12,
   "id": "4d247c86-34bb-4fc8-870a-ca38f59f0796",
   "metadata": {},
   "outputs": [
    {
     "data": {
      "text/plain": [
       "Briefing Slide: single"
      ]
     },
     "execution_count": 12,
     "metadata": {},
     "output_type": "execute_result"
    }
   ],
   "source": [
    "# Add a new slide\n",
    "my_br.add(\"single\")"
   ]
  },
  {
   "cell_type": "code",
   "execution_count": 13,
   "id": "b6ca934e-5f8f-4940-8ebe-203ec3e566af",
   "metadata": {},
   "outputs": [
    {
     "data": {
      "text/plain": [
       "[Briefing Slide: cover, Briefing Slide: single]"
      ]
     },
     "execution_count": 13,
     "metadata": {},
     "output_type": "execute_result"
    }
   ],
   "source": [
    "# The new slide got added\n",
    "my_br.slides"
   ]
  },
  {
   "cell_type": "code",
   "execution_count": 14,
   "id": "e3dcaa59-e0b6-499d-8658-d3837cc75fd0",
   "metadata": {},
   "outputs": [],
   "source": [
    "# Get the map from the briefing\n",
    "map_item = br.slides[5].blocks[1].content[0].map"
   ]
  },
  {
   "cell_type": "code",
   "execution_count": 15,
   "id": "2b0360fa-43d4-405e-a433-36701c9dc305",
   "metadata": {},
   "outputs": [
    {
     "data": {
      "text/plain": [
       "[]"
      ]
     },
     "execution_count": 15,
     "metadata": {},
     "output_type": "execute_result"
    }
   ],
   "source": [
    "# Access our new slide and the block in the new slide\n",
    "new_slide = my_br.slides[1]\n",
    "# Add the map to the block\n",
    "block = new_slide.blocks[0]\n",
    "block.content #empty"
   ]
  },
  {
   "cell_type": "code",
   "execution_count": 16,
   "id": "6a135cfe-cb08-4474-9f1b-93d293bc1636",
   "metadata": {},
   "outputs": [
    {
     "data": {
      "text/plain": [
       "Web Map"
      ]
     },
     "execution_count": 16,
     "metadata": {},
     "output_type": "execute_result"
    }
   ],
   "source": [
    "# Add the map to the block\n",
    "block.add_content(Map(map_item))"
   ]
  },
  {
   "cell_type": "code",
   "execution_count": 17,
   "id": "7391ba05-95d5-4fd2-85f9-fbf98c0b3463",
   "metadata": {},
   "outputs": [
    {
     "data": {
      "text/plain": [
       "[Web Map]"
      ]
     },
     "execution_count": 17,
     "metadata": {},
     "output_type": "execute_result"
    }
   ],
   "source": [
    "block.content"
   ]
  },
  {
   "cell_type": "code",
   "execution_count": 18,
   "id": "3a7ac7ab-b758-4401-a34a-196e7f33ed69",
   "metadata": {},
   "outputs": [],
   "source": [
    "# Add a title to our new slide\n",
    "new_slide.title = \"Wow Look At This Map!\""
   ]
  },
  {
   "cell_type": "code",
   "execution_count": 19,
   "id": "57616a77-3879-43cc-82ff-bc0f10daf9b7",
   "metadata": {},
   "outputs": [
    {
     "data": {
      "text/html": [
       "<div class=\"item_container\" style=\"height: auto; overflow: hidden; border: 1px solid #cfcfcf; border-radius: 2px; background: #f6fafa; line-height: 1.21429em; padding: 10px;\">\n",
       "                    <div class=\"item_left\" style=\"width: 210px; float: left;\">\n",
       "                       <a href='https://geosaurus.maps.arcgis.com/home/item.html?id=be0683ea7fb84608b48afd0628df2f48' target='_blank'>\n",
       "                        <img src='http://static.arcgis.com/images/desktopapp.png' class=\"itemThumbnail\">\n",
       "                       </a>\n",
       "                    </div>\n",
       "\n",
       "                    <div class=\"item_right\"     style=\"float: none; width: auto; overflow: hidden;\">\n",
       "                        <a href='https://geosaurus.maps.arcgis.com/home/item.html?id=be0683ea7fb84608b48afd0628df2f48' target='_blank'><b>Test Briefing</b>\n",
       "                        </a>\n",
       "                        <br/><br/><img src='https://geosaurus.maps.arcgis.com/home/js/jsapi/esri/css/images/item_type_icons/layers16.png' style=\"vertical-align:middle;\" width=16 height=16>StoryMap by naubry_geosaurus\n",
       "                        <br/>Last Modified: March 12, 2025\n",
       "                        <br/>0 comments, 0 views\n",
       "                    </div>\n",
       "                </div>\n",
       "                "
      ],
      "text/plain": [
       "<Item title:\"Test Briefing\" type:StoryMap owner:naubry_geosaurus>"
      ]
     },
     "execution_count": 19,
     "metadata": {},
     "output_type": "execute_result"
    }
   ],
   "source": [
    "my_br.save(\"Test Briefing\")"
   ]
  }
 ],
 "metadata": {
  "kernelspec": {
   "display_name": "Python 3 (ipykernel)",
   "language": "python",
   "name": "python3"
  },
  "language_info": {
   "codemirror_mode": {
    "name": "ipython",
    "version": 3
   },
   "file_extension": ".py",
   "mimetype": "text/x-python",
   "name": "python",
   "nbconvert_exporter": "python",
   "pygments_lexer": "ipython3",
   "version": "3.11.10"
  }
 },
 "nbformat": 4,
 "nbformat_minor": 5
}
