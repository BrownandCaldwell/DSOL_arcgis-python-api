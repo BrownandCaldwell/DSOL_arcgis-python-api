{
 "cells": [
  {
   "cell_type": "markdown",
   "id": "2a05e9c6-b0ef-4450-91ca-2b3e1dcc7e9c",
   "metadata": {},
   "source": [
    "# Editing a StoryMap"
   ]
  },
  {
   "cell_type": "markdown",
   "id": "fe2317a6-76da-4594-b4cb-9ae583326525",
   "metadata": {},
   "source": [
    "First, import the necessary modules. The storymap module is held in the apps part of arcgis.  \n",
    "We can use a profile to sign into our ArcGIS Online organization."
   ]
  },
  {
   "cell_type": "code",
   "execution_count": 1,
   "id": "f70a7fe9-5c45-4951-90dd-69ff1a32d383",
   "metadata": {},
   "outputs": [],
   "source": [
    "import os\n",
    "from arcgis.gis import GIS\n",
    "from arcgis.apps.storymap import StoryMap, Image\n",
    "\n",
    "gis = GIS(profile=\"geosaurus\")"
   ]
  },
  {
   "cell_type": "markdown",
   "id": "d860ad86-2523-405f-8a7c-95b4cd6df319",
   "metadata": {},
   "source": [
    "### Set up variables\n",
    "These will be used later in the workflow."
   ]
  },
  {
   "cell_type": "code",
   "execution_count": 2,
   "id": "0f8be3ff-e79b-405d-b0c9-70a835f0d3e8",
   "metadata": {},
   "outputs": [],
   "source": [
    "palm_springs_extent = {'spatialReference': {'wkid': 102100},\n",
    "                     'xmin': -12987175.316045739,\n",
    "                     'ymin': 3999201.851020532,\n",
    "                     'xmax': -12960670.77648789,\n",
    "                     'ymax': 4010667.405263293}\n",
    "\n",
    "image_folder = r\"C:\\workspace\\Content\\DevSummit2025\\palm_springs\""
   ]
  },
  {
   "cell_type": "markdown",
   "id": "b48a089d-4f2a-4d23-a9dc-ec9a18fab206",
   "metadata": {},
   "source": [
    "## Get existing StoryMap\n",
    "Using the content manager we can get a storymap item with it's itemid."
   ]
  },
  {
   "cell_type": "code",
   "execution_count": 3,
   "id": "147721ca-143e-4662-9f78-15703ebdbb6e",
   "metadata": {},
   "outputs": [
    {
     "data": {
      "text/html": [
       "<div class=\"item_container\" style=\"height: auto; overflow: hidden; border: 1px solid #cfcfcf; border-radius: 2px; background: #f6fafa; line-height: 1.21429em; padding: 10px;\">\n",
       "                    <div class=\"item_left\" style=\"width: 210px; float: left;\">\n",
       "                       <a href='https://geosaurus.maps.arcgis.com/home/item.html?id=f138997fab454f358c86218ff1e07161' target='_blank'>\n",
       "                        <img src='data:image/png;base64,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' width='200' height='133' class=\"itemThumbnail\">\n",
       "                       </a>\n",
       "                    </div>\n",
       "\n",
       "                    <div class=\"item_right\"     style=\"float: none; width: auto; overflow: hidden;\">\n",
       "                        <a href='https://geosaurus.maps.arcgis.com/home/item.html?id=f138997fab454f358c86218ff1e07161' target='_blank'><b>Exploring San Diego</b>\n",
       "                        </a>\n",
       "                        <br/><br/><img src='https://geosaurus.maps.arcgis.com/home/js/jsapi/esri/css/images/item_type_icons/layers16.png' style=\"vertical-align:middle;\" width=16 height=16>StoryMap by naubry_geosaurus\n",
       "                        <br/>Last Modified: February 19, 2025\n",
       "                        <br/>0 comments, 0 views\n",
       "                    </div>\n",
       "                </div>\n",
       "                "
      ],
      "text/plain": [
       "<Item title:\"Exploring San Diego\" type:StoryMap owner:naubry_geosaurus>"
      ]
     },
     "execution_count": 3,
     "metadata": {},
     "output_type": "execute_result"
    }
   ],
   "source": [
    "item = gis.content.get(\"f138997fab454f358c86218ff1e07161\")\n",
    "item"
   ]
  },
  {
   "cell_type": "markdown",
   "id": "e7e21dd1-3edc-4634-8de6-0dd2449ddb9c",
   "metadata": {},
   "source": [
    "Pass the item to the StoryMap class. This reads in all the properties and will allow us to futher edit."
   ]
  },
  {
   "cell_type": "code",
   "execution_count": 4,
   "id": "274d3a6b-a9ba-43a7-85d6-24f27bed5f02",
   "metadata": {},
   "outputs": [
    {
     "data": {
      "text/plain": [
       "[Cover, Navigation, Text: paragraph, Image Gallery, Sidecar, 'Credits']"
      ]
     },
     "execution_count": 4,
     "metadata": {},
     "output_type": "execute_result"
    }
   ],
   "source": [
    "# Create an instance of storymap class\n",
    "storymap = StoryMap(item)\n",
    "\n",
    "# See list of content\n",
    "storymap.content_list"
   ]
  },
  {
   "cell_type": "markdown",
   "id": "41c28ebd-749b-44ce-9310-a1b32c4344a2",
   "metadata": {},
   "source": [
    "## Duplicate the StoryMap\n",
    "We want to make edits to this story but not the original. We can duplicate the story to create a new copy of it in our organization."
   ]
  },
  {
   "cell_type": "code",
   "execution_count": 5,
   "id": "b8783155-f1f5-4012-943c-b5324aab6743",
   "metadata": {},
   "outputs": [
    {
     "data": {
      "text/html": [
       "<div class=\"item_container\" style=\"height: auto; overflow: hidden; border: 1px solid #cfcfcf; border-radius: 2px; background: #f6fafa; line-height: 1.21429em; padding: 10px;\">\n",
       "                    <div class=\"item_left\" style=\"width: 210px; float: left;\">\n",
       "                       <a href='https://geosaurus.maps.arcgis.com/home/item.html?id=685da26519ce427e88257bd6348c78c3' target='_blank'>\n",
       "                        <img src='data:image/png;base64,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' width='200' height='133' class=\"itemThumbnail\">\n",
       "                       </a>\n",
       "                    </div>\n",
       "\n",
       "                    <div class=\"item_right\"     style=\"float: none; width: auto; overflow: hidden;\">\n",
       "                        <a href='https://geosaurus.maps.arcgis.com/home/item.html?id=685da26519ce427e88257bd6348c78c3' target='_blank'><b>Exploring Palm Springs</b>\n",
       "                        </a>\n",
       "                        <br/><br/><img src='https://geosaurus.maps.arcgis.com/home/js/jsapi/esri/css/images/item_type_icons/layers16.png' style=\"vertical-align:middle;\" width=16 height=16>StoryMap by naubry_geosaurus\n",
       "                        <br/>Last Modified: March 12, 2025\n",
       "                        <br/>0 comments, 0 views\n",
       "                    </div>\n",
       "                </div>\n",
       "                "
      ],
      "text/plain": [
       "<Item title:\"Exploring Palm Springs\" type:StoryMap owner:naubry_geosaurus>"
      ]
     },
     "execution_count": 5,
     "metadata": {},
     "output_type": "execute_result"
    }
   ],
   "source": [
    "new_story_item = storymap.duplicate(\"Exploring Palm Springs\")\n",
    "new_story_item"
   ]
  },
  {
   "cell_type": "markdown",
   "id": "f829e04c-0f74-4198-9a52-567b355552cc",
   "metadata": {},
   "source": [
    "A new storymap item was created, just like we did before, we can pass it into the StoryMap class."
   ]
  },
  {
   "cell_type": "code",
   "execution_count": 6,
   "id": "65770e6e-fab1-4f6d-809e-b666fc252049",
   "metadata": {},
   "outputs": [
    {
     "data": {
      "text/plain": [
       "[Cover, Navigation, Text: paragraph, Image Gallery, Sidecar, 'Credits']"
      ]
     },
     "execution_count": 6,
     "metadata": {},
     "output_type": "execute_result"
    }
   ],
   "source": [
    "new_story = StoryMap(new_story_item)\n",
    "new_story.content_list"
   ]
  },
  {
   "cell_type": "markdown",
   "id": "65125188-217d-4780-bb02-a617657b118f",
   "metadata": {},
   "source": [
    "## Let's go through each content and update as needed"
   ]
  },
  {
   "cell_type": "markdown",
   "id": "ddedcf4c-cd5f-4f72-bdeb-96fbea41773a",
   "metadata": {},
   "source": [
    "### Change the cover"
   ]
  },
  {
   "cell_type": "code",
   "execution_count": 7,
   "id": "5b0a52ee-b4c7-45bf-a6a6-dc7a0de5d353",
   "metadata": {},
   "outputs": [
    {
     "data": {
      "text/plain": [
       "arcgis.apps.storymap.story_content.Cover"
      ]
     },
     "execution_count": 7,
     "metadata": {},
     "output_type": "execute_result"
    }
   ],
   "source": [
    "# Assign content to a variable\n",
    "content = new_story.content_list\n",
    "\n",
    "# Start with cover\n",
    "cover = content[0]\n",
    "type(cover)"
   ]
  },
  {
   "cell_type": "markdown",
   "id": "6ba10e59-f015-45d3-8c37-f086edb7cb87",
   "metadata": {},
   "source": [
    "Cover is a class so it has properties and methods we can use for editing."
   ]
  },
  {
   "cell_type": "code",
   "execution_count": 8,
   "id": "9965535c-fbf6-489d-84a0-156946469a5c",
   "metadata": {},
   "outputs": [
    {
     "data": {
      "text/plain": [
       "'Exploring San Diego'"
      ]
     },
     "execution_count": 8,
     "metadata": {},
     "output_type": "execute_result"
    }
   ],
   "source": [
    "cover.title"
   ]
  },
  {
   "cell_type": "code",
   "execution_count": 9,
   "id": "f867841c-c1db-42c2-9e0b-ddf3b6eb1f61",
   "metadata": {},
   "outputs": [],
   "source": [
    "cover.title = \"Exploring Palm Springs\"\n",
    "cover.media = Image(fr\"{image_folder}\\photo1.jpeg\")"
   ]
  },
  {
   "cell_type": "markdown",
   "id": "64ad32c2-9d8e-4a35-b52f-87dbf9b5c82d",
   "metadata": {},
   "source": [
    "We see both these properties have been updated."
   ]
  },
  {
   "cell_type": "code",
   "execution_count": 10,
   "id": "ecb25716-a170-4a2e-a99d-a511ad72ba3c",
   "metadata": {},
   "outputs": [
    {
     "name": "stdout",
     "output_type": "stream",
     "text": [
      "Exploring Palm Springs\n",
      "photo1.jpeg\n"
     ]
    }
   ],
   "source": [
    "print(cover.title)\n",
    "print(cover.media.image)"
   ]
  },
  {
   "cell_type": "markdown",
   "id": "0050cdf1-c1b5-4c68-8972-15d349c14b4b",
   "metadata": {},
   "source": [
    "### Change the Text"
   ]
  },
  {
   "cell_type": "markdown",
   "id": "d3b09c97-3aae-44e5-9035-09c2ade8e9a4",
   "metadata": {},
   "source": [
    "The next content to change is the text."
   ]
  },
  {
   "cell_type": "code",
   "execution_count": 11,
   "id": "6d89467e-22ae-41e8-8d72-92db25320b53",
   "metadata": {},
   "outputs": [
    {
     "data": {
      "text/plain": [
       "Text: paragraph"
      ]
     },
     "execution_count": 11,
     "metadata": {},
     "output_type": "execute_result"
    }
   ],
   "source": [
    "text = content[2]\n",
    "text"
   ]
  },
  {
   "cell_type": "code",
   "execution_count": 12,
   "id": "1ead20b1-a7f7-4a32-8279-730bbf8be28d",
   "metadata": {},
   "outputs": [
    {
     "data": {
      "text/plain": [
       "'“From its origins as Kumeyaay land to its rise as a military and biotech hub, San Diego is a city shaped by geography, innovation, and diverse communities.”'"
      ]
     },
     "execution_count": 12,
     "metadata": {},
     "output_type": "execute_result"
    }
   ],
   "source": [
    "text.text"
   ]
  },
  {
   "cell_type": "code",
   "execution_count": 13,
   "id": "97b3db27-37d7-420e-9237-f54892536954",
   "metadata": {},
   "outputs": [],
   "source": [
    "text.text = '\"From its roots as Cahuilla land to its rise as a desert oasis for Hollywood, architecture, and innovation, Palm Springs is a city shaped by its landscape, culture, and timeless allure.\"'"
   ]
  },
  {
   "cell_type": "code",
   "execution_count": 14,
   "id": "f41100be-8786-4a4b-a417-fda40c7da16b",
   "metadata": {},
   "outputs": [
    {
     "data": {
      "text/plain": [
       "'\"From its roots as Cahuilla land to its rise as a desert oasis for Hollywood, architecture, and innovation, Palm Springs is a city shaped by its landscape, culture, and timeless allure.\"'"
      ]
     },
     "execution_count": 14,
     "metadata": {},
     "output_type": "execute_result"
    }
   ],
   "source": [
    "text.text"
   ]
  },
  {
   "cell_type": "markdown",
   "id": "2670d919-bc74-44a0-9ea6-792403906151",
   "metadata": {},
   "source": [
    "### Update Image Gallery"
   ]
  },
  {
   "cell_type": "code",
   "execution_count": 15,
   "id": "1a308b4d-51a5-4a9f-8310-22b88282d411",
   "metadata": {},
   "outputs": [
    {
     "data": {
      "text/plain": [
       "Image Gallery"
      ]
     },
     "execution_count": 15,
     "metadata": {},
     "output_type": "execute_result"
    }
   ],
   "source": [
    "gallery = content[3]\n",
    "gallery"
   ]
  },
  {
   "cell_type": "code",
   "execution_count": 16,
   "id": "2709882a-62e3-444b-b62c-a5a5089c05e1",
   "metadata": {},
   "outputs": [],
   "source": [
    "# First, we can delete all the images from the gallery\n",
    "current = gallery.images\n",
    "for im in current:\n",
    "    gallery.delete_image(im.node)"
   ]
  },
  {
   "cell_type": "code",
   "execution_count": 17,
   "id": "d2f1af2c-a862-43b1-8604-74239ac51351",
   "metadata": {},
   "outputs": [
    {
     "data": {
      "text/plain": [
       "[Image, Image, Image, Image, Image, Image, Image, Image]"
      ]
     },
     "execution_count": 17,
     "metadata": {},
     "output_type": "execute_result"
    }
   ],
   "source": [
    "# Get all .jpeg file paths in our folder\n",
    "image_paths = [os.path.join(image_folder, file) for file in os.listdir(image_folder) if file.endswith(\".jpeg\")]\n",
    "\n",
    "# Create image classes for each photo we are going to add\n",
    "new_images = [Image(path) for path in image_paths]\n",
    "new_images"
   ]
  },
  {
   "cell_type": "code",
   "execution_count": 18,
   "id": "96ebfaf9-022b-42f7-b008-c2d59d2f93f5",
   "metadata": {},
   "outputs": [
    {
     "data": {
      "text/plain": [
       "[Image, Image, Image, Image, Image, Image, Image, Image]"
      ]
     },
     "execution_count": 18,
     "metadata": {},
     "output_type": "execute_result"
    }
   ],
   "source": [
    "# Add the images to the gallery\n",
    "gallery.add_images(new_images)"
   ]
  },
  {
   "cell_type": "code",
   "execution_count": 19,
   "id": "74e2ff80-8b54-4c69-9c9c-48b7d8d6ade0",
   "metadata": {},
   "outputs": [
    {
     "data": {
      "text/plain": [
       "'photo1.jpeg'"
      ]
     },
     "execution_count": 19,
     "metadata": {},
     "output_type": "execute_result"
    }
   ],
   "source": [
    "new_images[0].image"
   ]
  },
  {
   "cell_type": "markdown",
   "id": "e64e0c73-8108-48e0-87ea-033a76023ddc",
   "metadata": {},
   "source": [
    "### Finally, update map extents"
   ]
  },
  {
   "cell_type": "markdown",
   "id": "79dddcfe-04ed-4c67-a6e3-d42d46dde977",
   "metadata": {},
   "source": [
    "Our last item is a Sidecar which consists of a map and a button. We can update the content that is held within the Sidecar."
   ]
  },
  {
   "cell_type": "code",
   "execution_count": 20,
   "id": "e1d7f3c4-e27c-4045-8a3f-37d04540bc48",
   "metadata": {},
   "outputs": [
    {
     "data": {
      "text/plain": [
       "Sidecar"
      ]
     },
     "execution_count": 20,
     "metadata": {},
     "output_type": "execute_result"
    }
   ],
   "source": [
    "sidecar = content[4]\n",
    "sidecar"
   ]
  },
  {
   "cell_type": "code",
   "execution_count": 21,
   "id": "7f5704b6-89a7-455a-af09-6bad42371da7",
   "metadata": {},
   "outputs": [
    {
     "data": {
      "text/plain": [
       "[[Text: paragraph, Web Map],\n",
       " [Text: paragraph, Web Map],\n",
       " [Text: paragraph, Web Map],\n",
       " [Text, Web Map],\n",
       " [Button: Population Information, Web Map]]"
      ]
     },
     "execution_count": 21,
     "metadata": {},
     "output_type": "execute_result"
    }
   ],
   "source": [
    "# we can see the content in sidecar in a similar way\n",
    "slides = sidecar.content_list\n",
    "slides"
   ]
  },
  {
   "cell_type": "markdown",
   "id": "9c4809d7-0507-45ff-a1ce-01ea8fff544d",
   "metadata": {},
   "source": [
    "We can access the content classes individually and view or update them."
   ]
  },
  {
   "cell_type": "code",
   "execution_count": 22,
   "id": "7021cfae-022c-41f2-81ab-9d32a26bd075",
   "metadata": {},
   "outputs": [
    {
     "data": {
      "text/html": [
       "<div class=\"item_container\" style=\"height: auto; overflow: hidden; border: 1px solid #cfcfcf; border-radius: 2px; background: #f6fafa; line-height: 1.21429em; padding: 10px;\">\n",
       "                    <div class=\"item_left\" style=\"width: 210px; float: left;\">\n",
       "                       <a href='https://geosaurus.maps.arcgis.com/home/item.html?id=4c2a5048bc054b298bdb74f6b99f8686' target='_blank'>\n",
       "                        <img src='data:image/png;base64,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' width='200' height='133' class=\"itemThumbnail\">\n",
       "                       </a>\n",
       "                    </div>\n",
       "\n",
       "                    <div class=\"item_right\"     style=\"float: none; width: auto; overflow: hidden;\">\n",
       "                        <a href='https://geosaurus.maps.arcgis.com/home/item.html?id=4c2a5048bc054b298bdb74f6b99f8686' target='_blank'><b>Colleges and Universities</b>\n",
       "                        </a>\n",
       "                        <br/><br/><img src='https://geosaurus.maps.arcgis.com/home/js/jsapi/esri/css/images/item_type_icons/maps16.png' style=\"vertical-align:middle;\" width=16 height=16>Web Map by naubry_geosaurus\n",
       "                        <br/>Last Modified: February 19, 2025\n",
       "                        <br/>0 comments, 31 views\n",
       "                    </div>\n",
       "                </div>\n",
       "                "
      ],
      "text/plain": [
       "<Item title:\"Colleges and Universities\" type:Web Map owner:naubry_geosaurus>"
      ]
     },
     "execution_count": 22,
     "metadata": {},
     "output_type": "execute_result"
    }
   ],
   "source": [
    "# look at the map in the first slide\n",
    "first_slide = slides[0]\n",
    "first_map = first_slide[1].map\n",
    "first_map"
   ]
  },
  {
   "cell_type": "markdown",
   "id": "05357240-1bbc-451c-bb2b-63c8fb1141c1",
   "metadata": {},
   "source": [
    "##### Iterate through and update the webmap extents"
   ]
  },
  {
   "cell_type": "code",
   "execution_count": 23,
   "id": "4a9a341d-d8ea-49a6-be43-61fe1000e9d9",
   "metadata": {},
   "outputs": [],
   "source": [
    "for slide in slides:\n",
    "    slide[1].set_viewpoint(palm_springs_extent)\n",
    "    slide[1].popup_docked=False"
   ]
  },
  {
   "cell_type": "markdown",
   "id": "d997f540-dd0d-431a-bf08-f233532c0081",
   "metadata": {},
   "source": [
    "##### We also have to update the Button"
   ]
  },
  {
   "cell_type": "code",
   "execution_count": 24,
   "id": "7764617b-8c23-4467-a29a-c8ba402a8637",
   "metadata": {},
   "outputs": [],
   "source": [
    "button = slides[4][0]\n",
    "button.link = \"https://censusreporter.org/profiles/16000US0655254-palm-springs-ca/\""
   ]
  },
  {
   "cell_type": "code",
   "execution_count": 25,
   "id": "d5f9d693-1c3a-438e-bc89-4f52ea8a1a05",
   "metadata": {},
   "outputs": [
    {
     "data": {
      "text/plain": [
       "'https://censusreporter.org/profiles/16000US0655254-palm-springs-ca/'"
      ]
     },
     "execution_count": 25,
     "metadata": {},
     "output_type": "execute_result"
    }
   ],
   "source": [
    "button.link"
   ]
  },
  {
   "cell_type": "markdown",
   "id": "cdce8d78-52ff-49ca-9763-7afcc587a244",
   "metadata": {},
   "source": [
    "### Save all changes"
   ]
  },
  {
   "cell_type": "code",
   "execution_count": 26,
   "id": "50f5fa9b-0b8c-41e3-8917-2a3b4d261c7b",
   "metadata": {},
   "outputs": [
    {
     "data": {
      "text/html": [
       "<div class=\"item_container\" style=\"height: auto; overflow: hidden; border: 1px solid #cfcfcf; border-radius: 2px; background: #f6fafa; line-height: 1.21429em; padding: 10px;\">\n",
       "                    <div class=\"item_left\" style=\"width: 210px; float: left;\">\n",
       "                       <a href='https://geosaurus.maps.arcgis.com/home/item.html?id=685da26519ce427e88257bd6348c78c3' target='_blank'>\n",
       "                        <img src='data:image/png;base64,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' width='200' height='133' class=\"itemThumbnail\">\n",
       "                       </a>\n",
       "                    </div>\n",
       "\n",
       "                    <div class=\"item_right\"     style=\"float: none; width: auto; overflow: hidden;\">\n",
       "                        <a href='https://geosaurus.maps.arcgis.com/home/item.html?id=685da26519ce427e88257bd6348c78c3' target='_blank'><b>Exploring Palm Springs</b>\n",
       "                        </a>\n",
       "                        <br/><br/><img src='https://geosaurus.maps.arcgis.com/home/js/jsapi/esri/css/images/item_type_icons/layers16.png' style=\"vertical-align:middle;\" width=16 height=16>StoryMap by naubry_geosaurus\n",
       "                        <br/>Last Modified: March 12, 2025\n",
       "                        <br/>0 comments, 0 views\n",
       "                    </div>\n",
       "                </div>\n",
       "                "
      ],
      "text/plain": [
       "<Item title:\"Exploring Palm Springs\" type:StoryMap owner:naubry_geosaurus>"
      ]
     },
     "execution_count": 26,
     "metadata": {},
     "output_type": "execute_result"
    }
   ],
   "source": [
    "new_story.save()"
   ]
  }
 ],
 "metadata": {
  "kernelspec": {
   "display_name": "Python 3 (ipykernel)",
   "language": "python",
   "name": "python3"
  },
  "language_info": {
   "codemirror_mode": {
    "name": "ipython",
    "version": 3
   },
   "file_extension": ".py",
   "mimetype": "text/x-python",
   "name": "python",
   "nbconvert_exporter": "python",
   "pygments_lexer": "ipython3",
   "version": "3.11.10"
  }
 },
 "nbformat": 4,
 "nbformat_minor": 5
}
