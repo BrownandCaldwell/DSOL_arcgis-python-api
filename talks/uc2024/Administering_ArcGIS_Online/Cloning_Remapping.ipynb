{
 "cells": [
  {
   "cell_type": "markdown",
   "id": "686e949c-317b-4b42-ac40-5e8b5ca76a19",
   "metadata": {},
   "source": [
    "# Cloning Items and Remapping Data\n",
    "\n",
    "Alright, so now we've got this super sweet time-enabled feature layer about the Gulf Stream, but what if we were only testing that out, and now want to bring it to a production org? Or, what if that notebook/feature layer was created on an Enterprise, and we want to bring it to Online and share it publicly for the whole world to see? Well, that's where the [`ContentManager`'s](https://developers.arcgis.com/python/api-reference/arcgis.gis.toc.html#contentmanager) `clone_items()` function comes in. `clone_items()` is one of the most frequently asked about parts of our API- it's a function that allows you to duplicate a given item in another organization, including with all of the internal items it may depend on. \n",
    "\n",
    "There are tons of different parameters the function can take that will allow for a user to customize their cloning experience; we're just going to go over some of the basics here to show how we can get our items to another organization and assure that they're pointing to the right internal items."
   ]
  },
  {
   "cell_type": "code",
   "execution_count": 3,
   "id": "e840881a-0a5b-41d9-93d3-c63f55d87e83",
   "metadata": {},
   "outputs": [
    {
     "name": "stderr",
     "output_type": "stream",
     "text": [
      "/opt/anaconda3/envs/uc2024/lib/python3.11/site-packages/dask/dataframe/__init__.py:42: FutureWarning: \n",
      "Dask dataframe query planning is disabled because dask-expr is not installed.\n",
      "\n",
      "You can install it with `pip install dask[dataframe]` or `conda install dask`.\n",
      "This will raise in a future version.\n",
      "\n",
      "  warnings.warn(msg, FutureWarning)\n"
     ]
    }
   ],
   "source": [
    "from arcgis.gis import GIS\n",
    "gis = GIS(profile=\"your_online_profile\")\n",
    "gis2 = GIS(profile=\"noah_oceans\")"
   ]
  },
  {
   "cell_type": "markdown",
   "id": "28ec7fb7-45a8-4c2d-9266-71ed9dd979e4",
   "metadata": {},
   "source": [
    "Let's grab our feature layer item- it'd be great to bring that over to our new org so we can add to it there."
   ]
  },
  {
   "cell_type": "code",
   "execution_count": 4,
   "id": "464fadb6-2788-4d92-b518-d80ad808a4c8",
   "metadata": {},
   "outputs": [
    {
     "data": {
      "text/html": [
       "<div class=\"item_container\" style=\"height: auto; overflow: hidden; border: 1px solid #cfcfcf; border-radius: 2px; background: #f6fafa; line-height: 1.21429em; padding: 10px;\">\n",
       "                    <div class=\"item_left\" style=\"width: 210px; float: left;\">\n",
       "                       <a href='https://geosaurus.maps.arcgis.com/home/item.html?id=cc1f8377231b4247b5085e89635dc537' target='_blank'>\n",
       "                        <img src='data:image/png;base64,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' width='200' height='133' class=\"itemThumbnail\">\n",
       "                       </a>\n",
       "                    </div>\n",
       "\n",
       "                    <div class=\"item_right\"     style=\"float: none; width: auto; overflow: hidden;\">\n",
       "                        <a href='https://geosaurus.maps.arcgis.com/home/item.html?id=cc1f8377231b4247b5085e89635dc537' target='_blank'><b>Time Enabled Gulf Stream Layer</b>\n",
       "                        </a>\n",
       "                        <br/><img src='https://geosaurus.maps.arcgis.com/home/js/jsapi/esri/css/images/item_type_icons/featureshosted16.png' style=\"vertical-align:middle;\" width=16 height=16>Feature Layer Collection by nparavicini_geosaurus\n",
       "                        <br/>Last Modified: July 18, 2024\n",
       "                        <br/>0 comments, 106 views\n",
       "                    </div>\n",
       "                </div>\n",
       "                "
      ],
      "text/plain": [
       "<Item title:\"Time Enabled Gulf Stream Layer\" type:Feature Layer Collection owner:nparavicini_geosaurus>"
      ]
     },
     "execution_count": 4,
     "metadata": {},
     "output_type": "execute_result"
    }
   ],
   "source": [
    "fl = gis.content.get(\"cc1f8377231b4247b5085e89635dc537\")\n",
    "fl"
   ]
  },
  {
   "cell_type": "code",
   "execution_count": 6,
   "id": "f46d164d-6755-40f1-87c5-c6dc16e842fe",
   "metadata": {},
   "outputs": [
    {
     "name": "stderr",
     "output_type": "stream",
     "text": [
      "/opt/anaconda3/envs/uc2024/lib/python3.11/tempfile.py:934: ResourceWarning: Implicitly cleaning up <TemporaryDirectory '/var/folders/dn/rybvglf95w710d__8w91yngc0000gn/T/tmp44ghq2w8'>\n",
      "  _warnings.warn(warn_message, ResourceWarning)\n",
      "/opt/anaconda3/envs/uc2024/lib/python3.11/tempfile.py:934: ResourceWarning: Implicitly cleaning up <TemporaryDirectory '/var/folders/dn/rybvglf95w710d__8w91yngc0000gn/T/tmpp8qsqk4k'>\n",
      "  _warnings.warn(warn_message, ResourceWarning)\n"
     ]
    },
    {
     "data": {
      "text/plain": [
       "[<Item title:\"Time Enabled Gulf Stream Layer\" type:Feature Layer Collection owner:Noah_Oceans>]"
      ]
     },
     "execution_count": 6,
     "metadata": {},
     "output_type": "execute_result"
    }
   ],
   "source": [
    "clone_list = gis2.content.clone_items([fl], search_existing_items = False)\n",
    "clone_list"
   ]
  },
  {
   "cell_type": "code",
   "execution_count": 5,
   "id": "110ae196-a01c-43d1-9d9a-17c4a9734265",
   "metadata": {},
   "outputs": [
    {
     "data": {
      "text/html": [
       "<div class=\"item_container\" style=\"height: auto; overflow: hidden; border: 1px solid #cfcfcf; border-radius: 2px; background: #f6fafa; line-height: 1.21429em; padding: 10px;\">\n",
       "                    <div class=\"item_left\" style=\"width: 210px; float: left;\">\n",
       "                       <a href='https://EsriOceans.maps.arcgis.com/home/item.html?id=02ecf488b7b348fca66d439b82c2c92d' target='_blank'>\n",
       "                        <img src='data:image/png;base64,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' width='200' height='133' class=\"itemThumbnail\">\n",
       "                       </a>\n",
       "                    </div>\n",
       "\n",
       "                    <div class=\"item_right\"     style=\"float: none; width: auto; overflow: hidden;\">\n",
       "                        <a href='https://EsriOceans.maps.arcgis.com/home/item.html?id=02ecf488b7b348fca66d439b82c2c92d' target='_blank'><b>Time Enabled Gulf Stream Layer</b>\n",
       "                        </a>\n",
       "                        <br/><img src='https://EsriOceans.maps.arcgis.com/home/js/jsapi/esri/css/images/item_type_icons/featureshosted16.png' style=\"vertical-align:middle;\" width=16 height=16>Feature Layer Collection by Noah_Oceans\n",
       "                        <br/>Last Modified: July 18, 2024\n",
       "                        <br/>0 comments, 0 views\n",
       "                    </div>\n",
       "                </div>\n",
       "                "
      ],
      "text/plain": [
       "<Item title:\"Time Enabled Gulf Stream Layer\" type:Feature Layer Collection owner:Noah_Oceans>"
      ]
     },
     "execution_count": 5,
     "metadata": {},
     "output_type": "execute_result"
    }
   ],
   "source": [
    "new_fl = clone_list[0]\n",
    "new_fl"
   ]
  },
  {
   "cell_type": "markdown",
   "id": "4bdf17f9-929a-4ae8-9e67-5be1dce7916d",
   "metadata": {},
   "source": [
    "One important thing to notice there is the `search_existing_items` argument- if `True`, it searches the target organization to see if the same item has already been cloned. If it has already been cloned, it won't get cloned again, and the already-existent clone will be used where necessary. If `False`, it will clone all the items passed into the function and their dependent items no matter what.\n",
    "\n",
    "Let's see what happens if we try to clone that same feature layer again, just with the argument set to `True`."
   ]
  },
  {
   "cell_type": "code",
   "execution_count": 5,
   "id": "96ea6d7d-54d4-41ec-80c3-9258c0488735",
   "metadata": {
    "scrolled": true
   },
   "outputs": [
    {
     "data": {
      "text/plain": [
       "[]"
      ]
     },
     "execution_count": 5,
     "metadata": {},
     "output_type": "execute_result"
    }
   ],
   "source": [
    "clone_list2 = gis2.content.clone_items([fl], search_existing_items = True)\n",
    "clone_list2"
   ]
  },
  {
   "cell_type": "markdown",
   "id": "2e80e7da-af12-47a3-b83a-109c525c1150",
   "metadata": {},
   "source": [
    "## Remapping Data\n",
    "\n",
    "What if we want to point our data to specific other things that already exist? We can use the `item_mapping` parameter, which allows you to specify item id's to be replaced. Just have a 1-to-1 key value mapping of id's. The value id's must exist in the target org."
   ]
  },
  {
   "cell_type": "code",
   "execution_count": null,
   "id": "eeda508a-20a8-47dc-9162-45f7b8768905",
   "metadata": {
    "scrolled": true
   },
   "outputs": [],
   "source": [
    "# exp = gis.content.get(\"b2136e64f7414d10b02b52b009d7c13b\")\n",
    "wm = gis.content.get(\"bf5a039b1947422190b5812fc34af717\")\n",
    "item_mapping = {\"d322ea73f27844228a2f235d9615854e\": \"f97da123d5684bd4b31842b94985635a\"}\n",
    "clone_exp = gis2.content.clone_items([wm], item_mapping = item_mapping, search_existing_items = False)"
   ]
  },
  {
   "cell_type": "code",
   "execution_count": 7,
   "id": "0904bb81-251e-43bf-b6c5-8ebecf8aa199",
   "metadata": {},
   "outputs": [
    {
     "data": {
      "text/plain": [
       "[<Item title:\"Ugly Map\" type:Web Map owner:Noah_Oceans>]"
      ]
     },
     "execution_count": 7,
     "metadata": {},
     "output_type": "execute_result"
    }
   ],
   "source": [
    "clone_exp"
   ]
  },
  {
   "cell_type": "code",
   "execution_count": 8,
   "id": "be84af64-fc26-4693-a43d-a91da0975c30",
   "metadata": {},
   "outputs": [
    {
     "data": {
      "text/html": [
       "<div class=\"item_container\" style=\"height: auto; overflow: hidden; border: 1px solid #cfcfcf; border-radius: 2px; background: #f6fafa; line-height: 1.21429em; padding: 10px;\">\n",
       "                    <div class=\"item_left\" style=\"width: 210px; float: left;\">\n",
       "                       <a href='https://geosaurus.maps.arcgis.com/home/item.html?id=bf5a039b1947422190b5812fc34af717' target='_blank'>\n",
       "                        <img src='data:image/png;base64,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' width='200' height='133' class=\"itemThumbnail\">\n",
       "                       </a>\n",
       "                    </div>\n",
       "\n",
       "                    <div class=\"item_right\"     style=\"float: none; width: auto; overflow: hidden;\">\n",
       "                        <a href='https://geosaurus.maps.arcgis.com/home/item.html?id=bf5a039b1947422190b5812fc34af717' target='_blank'><b>Ugly Map</b>\n",
       "                        </a>\n",
       "                        <br/><img src='https://geosaurus.maps.arcgis.com/home/js/jsapi/esri/css/images/item_type_icons/maps16.png' style=\"vertical-align:middle;\" width=16 height=16>Web Map by nparavicini_geosaurus\n",
       "                        <br/>Last Modified: July 08, 2024\n",
       "                        <br/>0 comments, 17 views\n",
       "                    </div>\n",
       "                </div>\n",
       "                "
      ],
      "text/plain": [
       "<Item title:\"Ugly Map\" type:Web Map owner:nparavicini_geosaurus>"
      ]
     },
     "execution_count": 8,
     "metadata": {},
     "output_type": "execute_result"
    }
   ],
   "source": [
    "wm = gis.content.get(\"bf5a039b1947422190b5812fc34af717\")\n",
    "wm"
   ]
  },
  {
   "cell_type": "code",
   "execution_count": 9,
   "id": "dcbdc0a3-4300-4d30-9920-da14feffe23d",
   "metadata": {},
   "outputs": [
    {
     "data": {
      "text/plain": [
       "[<Item title:\"Ugly Map\" type:Web Map owner:Noah_Oceans>]"
      ]
     },
     "execution_count": 9,
     "metadata": {},
     "output_type": "execute_result"
    }
   ],
   "source": [
    "clone_exp"
   ]
  },
  {
   "cell_type": "markdown",
   "id": "057ee46c-b972-453e-b221-a9cc823b1145",
   "metadata": {},
   "source": [
    "And there we go- as we can see, we got the stuff to clone over and take advantage of stuff that already existed in the target organization. We can confirm it by looking in the data of the items we cloned over."
   ]
  },
  {
   "cell_type": "code",
   "execution_count": 10,
   "id": "cca95a39-14a3-4503-89dc-4158cb9a906e",
   "metadata": {
    "scrolled": true
   },
   "outputs": [
    {
     "data": {
      "text/plain": [
       "{'operationalLayers': [{'id': '1890ec15ae5-layer-1',\n",
       "   'title': 'CA OR Airports - ad363a',\n",
       "   'url': 'https://services.arcgis.com/bDAhvQYMG4WL8O5o/arcgis/rest/services/a7998a_4ce24/FeatureServer/0',\n",
       "   'itemId': 'f97da123d5684bd4b31842b94985635a',\n",
       "   'layerType': 'ArcGISFeatureLayer',\n",
       "   'popupInfo': {'popupElements': [{'type': 'fields'},\n",
       "     {'type': 'attachments', 'displayType': 'auto'}],\n",
       "    'showAttachments': True,\n",
       "    'fieldInfos': [{'fieldName': 'FID',\n",
       "      'isEditable': False,\n",
       "      'label': 'FID',\n",
       "      'visible': False},\n",
       "     {'fieldName': 'airport',\n",
       "      'isEditable': True,\n",
       "      'label': 'AIRPORT',\n",
       "      'visible': True},\n",
       "     {'fieldName': 'city',\n",
       "      'isEditable': True,\n",
       "      'label': 'CITY',\n",
       "      'visible': True},\n",
       "     {'fieldName': 'country',\n",
       "      'isEditable': True,\n",
       "      'label': 'COUNTRY',\n",
       "      'visible': True},\n",
       "     {'fieldName': 'iata',\n",
       "      'isEditable': True,\n",
       "      'label': 'IATA',\n",
       "      'visible': True},\n",
       "     {'fieldName': 'latitude',\n",
       "      'format': {'digitSeparator': True, 'places': 2},\n",
       "      'isEditable': True,\n",
       "      'label': 'LATITUDE',\n",
       "      'visible': True},\n",
       "     {'fieldName': 'longitude',\n",
       "      'format': {'digitSeparator': True, 'places': 2},\n",
       "      'isEditable': True,\n",
       "      'label': 'LONGITUDE',\n",
       "      'visible': True},\n",
       "     {'fieldName': 'state',\n",
       "      'isEditable': True,\n",
       "      'label': 'STATE',\n",
       "      'visible': True}],\n",
       "    'title': 'CA OR Airports - ad363a'},\n",
       "   'layerDefinition': {'drawingInfo': {'renderer': {'type': 'simple',\n",
       "      'symbol': {'type': 'esriPMS',\n",
       "       'angle': 0,\n",
       "       'xoffset': 0,\n",
       "       'yoffset': 0,\n",
       "       'contentType': 'image/png',\n",
       "       'imageData': 'iVBORw0KGgoAAAANSUhEUgAAAEAAAABACAYAAACqaXHeAAAABGdBTUEAALGPC/xhBQAAACBjSFJNAAB6JgAAgIQAAPoAAACA6AAAdTAAAOpgAAA6mAAAF3CculE8AAAACXBIWXMAAA7DAAAOwwHHb6hkAAAAGXRFWHRTb2Z0d2FyZQBQYWludC5ORVQgdjMuNS4xTuc4+QAAB3VJREFUeF7tmPlTlEcexnve94U5mANQbgQSbgiHXHINlxpRIBpRI6wHorLERUmIisKCQWM8cqigESVQS1Kx1piNi4mW2YpbcZONrilE140RCTcy3DDAcL/zbJP8CYPDL+9Ufau7uqb7eZ7P+/a8PS8hwkcgIBAQCAgEBAICAYGAQEAgIBAQCAgEBAICAYGAQEAgIBAQCDx/AoowKXFMUhD3lQrioZaQRVRS+fxl51eBTZUTdZ41U1Rox13/0JF9csGJ05Qv4jSz/YPWohtvLmSKN5iTGGqTm1+rc6weICOBRbZs1UVnrv87T1PUeovxyNsUP9P6n5cpHtCxu24cbrmwKLdj+osWiqrVKhI0xzbmZ7m1SpJ+1pFpvE2DPvGTomOxAoNLLKGLscZYvB10cbYYjrJCb7A5mrxleOBqim+cWJRakZY0JfnD/LieI9V1MrKtwokbrAtU4Vm0A3TJnphJD4B+RxD0u0LA7w7FTE4oprOCMbklEGNrfdGf4IqnQTb4wc0MFTYibZqM7JgjO8ZdJkpMln/sKu16pHZGb7IfptIWg389DPp9kcChWODoMuDdBOhL1JgpisbUvghM7AqFbtNiaFP80RLnhbuBdqi0N+1dbUpWGde9gWpuhFi95yL7sS7BA93JAb+Fn8mh4QujgPeTgb9kAZf3Apd2A+fXQ38yHjOHozB1IAJjOSEY2RSIwVUv4dd4X9wJccGHNrJ7CYQ4GGjLeNNfM+dyvgpzQstKf3pbB2A6m97uBRE0/Ergcxr8hyqg7hrwn0vAtRIKIRX6Y2pMl0RhIj8co9nBGFrvh55l3ngU7YObng7IVnFvGS+BYUpmHziY/Ls2zgP9SX50by/G9N5w6I+ogYvpwK1SoOlHQNsGfWcd9Peqof88B/rTyzF9hAIopAByQzC0JQB9ST5oVnvhnt+LOGsprvUhxNIwa0aY7cGR6Cp7tr8+whkjawIxkRWC6YJI6N+lAKq3Qf/Tx+B77oGfaQc/8hB8w2Xwtw9Bf3kzZspXY/JIDEbfpAB2BKLvVV90Jvjgoac9vpRxE8kciTVCBMMkNirJ7k/tRHyjtxwjKV4Yp3t/6s+R4E+/DH3N6+BrS8E314Dvvg2+/Sb4hxfBf5sP/up2TF3ZhonK1zD6dhwGdwail26DzqgX8MRKiq9ZBpkSkmeYOyPM3m9Jjl+1Z9D8AgNtlAq6bZ70qsZi+q+bwV/7I/hbB8D/dAr8Axq89iz474p/G5++koHJy1sx/lkGdBc2YjA3HF0rHNHuboomuQj/5DgclIvOGCGCYRKFFuTMV7YUAD3VDQaLMfyqBcZORGPy01QKYSNm/rYV/Nd/Av9NHvgbueBrsjDzRQamKKDxT9Kgq1iLkbIUDOSHoiNcgnYHgnYZi+9ZExSbiSoMc2eE2flKcuJLa4KGRQz6/U0wlGaP0feiMH4uFpMXEjBVlYjp6lWY+SSZtim0kulYMiYuJEJXuhTDJ9UYPByOvoIwdCxfgE4bAo0Jh39xLAoVpMwIEQyTyFCQvGpLon9sJ0K3J4OBDDcMH1dj9FQsxkrjMPFRPCbOx2GyfLal9VEcxstioTulxjAFNfROJPqLl6Bnfyg6V7ugz5yBhuHwrZjBdiU5YJg7I8wOpifAKoVIW7uQ3rpOBH2b3ekVjYT2WCRG3o+mIGKgO0OrlIaebU/HYOQDNbQnojB4NJyGD0NPfjA0bwTRE6Q7hsUcWhkWN8yZqSQlWWGECAZLmJfJmbrvVSI8taK37xpbdB/wQW8xPee/8xIGjvlj8IQ/hk4G0JbWcX8MHPVDX4kveoq8ocn3xLM33NCZRcPHOGJYZIKfpQyq7JjHS6yJjcHujLHADgkpuC7h8F8zEVqXSNC2awE69lqhs8AamkO26HrbDt2H7dBVQov2NcW26CiwQtu+BWjdY4n2nZboTbfCmKcCnRyDO/YmyLPnDlHvjDH8G6zhS9/wlEnYR7X00fWrFYuWdVI0ZpuhcbcczW/R2qdAcz6t/bRov4mONeaaoYl+p22rHF0bVNAmKtBvweIXGxNcfFH8eNlC4m6wMWMusEnKpn5hyo48pj9gLe4SNG9QoGGLAk8z5XiaJUd99u8122/IpBA2K9BGg2vWWKAvRYVeLzEa7E1R422m2+MsSTem97nSYnfKyN6/mzATv7AUgqcMrUnmaFlLX3ysM0fj+t/b5lQLtK22QEfyAmiSLKFZpUJ7kBRPXKW4HqCYynWVHKSG2LkyZex1uO1mZM9lKem9Tx9jjY5iNEYo0bKMhn7ZAu0r6H5PpLXCAq0rKJClSjSGynE/QIkrQYqBPe6S2X+AJsY2Ped6iWZk6RlL0c2r5szofRsO9R5S1IfQLRCpQL1aifoYFerpsbkuTImaUJXuXIDiH6/Ys8vm3Mg8L2i20YqsO7fItKLcSXyn0kXccclVqv3MS6at9JU/Ox+ouns+SF6Z4cSupz7l8+z1ucs7LF1AQjOdxfGZzmx8Iu1TRcfnrioICAQEAgIBgYBAQCAgEBAICAQEAgIBgYBAQCAgEBAICAQEAv8H44b/6ZiGvGAAAAAASUVORK5CYII=',\n",
       "       'url': 'https://services7.arcgis.com/JEwYeAy2cc8qOe3o/arcgis/rest/services/ad363a_87e5a_9c45c/FeatureServer/0/images/RedSphere.png',\n",
       "       'height': 84,\n",
       "       'width': 84}}}}}],\n",
       " 'baseMap': {'baseMapLayers': [{'id': 'VectorTile_3324',\n",
       "    'opacity': 1,\n",
       "    'title': 'World Street Map',\n",
       "    'visibility': True,\n",
       "    'itemId': 'de26a3cf4cc9451298ea173c4b324736',\n",
       "    'layerType': 'VectorTileLayer',\n",
       "    'styleUrl': 'https://www.arcgis.com/sharing/rest/content/items/de26a3cf4cc9451298ea173c4b324736/resources/styles/root.json'}],\n",
       "  'title': 'Streets'},\n",
       " 'authoringApp': 'ArcGISMapViewer',\n",
       " 'authoringAppVersion': '2023.2',\n",
       " 'initialState': {'viewpoint': {'targetGeometry': {'spatialReference': {'latestWkid': 3857,\n",
       "     'wkid': 102100},\n",
       "    'xmin': -14844305.596733816,\n",
       "    'ymin': 3715996.617829325,\n",
       "    'xmax': -11852866.057765953,\n",
       "    'ymax': 5858679.3947188165}}},\n",
       " 'spatialReference': {'latestWkid': 3857, 'wkid': 102100},\n",
       " 'version': '2.28'}"
      ]
     },
     "execution_count": 10,
     "metadata": {},
     "output_type": "execute_result"
    }
   ],
   "source": [
    "clone_exp[0].get_data()"
   ]
  },
  {
   "cell_type": "markdown",
   "id": "d154a97c-e63d-41c5-9e6c-821b5810347a",
   "metadata": {},
   "source": [
    "So, as we can see, the item id of our new layer was added into there- but other things, like the title of the layer, were not changed. This is because this `item_mapping` parameter was added in with the intention of allowing users to explicitly specify their own versions of the same item. But what if the users have a need to replace something entirely? What if they want to remap the data to something completely new and have the associated info update accordingly? What if we have non-itemid parts of the structure we want to change? Or what if they already have an item in their new org that has bad data, and they don't want to clone it to go through the the remapping process?\n",
    "\n",
    "Well luckily, we're adding in a new function coming up called `remap_data()` that addresses these concerns- here's a sneak preview.\n",
    "\n",
    "We'll start with an already cloned version of our new Web Map (that hasn't been edited) and see what happens when we call `remap_data()` on it to replace the feature layer inside of it."
   ]
  },
  {
   "cell_type": "code",
   "execution_count": 11,
   "id": "dd57ea9f-ccdc-459b-8cf0-d9eea8a07905",
   "metadata": {},
   "outputs": [
    {
     "data": {
      "text/html": [
       "<div class=\"item_container\" style=\"height: auto; overflow: hidden; border: 1px solid #cfcfcf; border-radius: 2px; background: #f6fafa; line-height: 1.21429em; padding: 10px;\">\n",
       "                    <div class=\"item_left\" style=\"width: 210px; float: left;\">\n",
       "                       <a href='https://EsriOceans.maps.arcgis.com/home/item.html?id=065d73980eda4a3ba37b74bbc1a8bed7' target='_blank'>\n",
       "                        <img src='data:image/png;base64,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' width='200' height='133' class=\"itemThumbnail\">\n",
       "                       </a>\n",
       "                    </div>\n",
       "\n",
       "                    <div class=\"item_right\"     style=\"float: none; width: auto; overflow: hidden;\">\n",
       "                        <a href='https://EsriOceans.maps.arcgis.com/home/item.html?id=065d73980eda4a3ba37b74bbc1a8bed7' target='_blank'><b>Ugly Map</b>\n",
       "                        </a>\n",
       "                        <br/><img src='https://EsriOceans.maps.arcgis.com/home/js/jsapi/esri/css/images/item_type_icons/maps16.png' style=\"vertical-align:middle;\" width=16 height=16>Web Map by Noah_Oceans\n",
       "                        <br/>Last Modified: July 16, 2024\n",
       "                        <br/>0 comments, 25 views\n",
       "                    </div>\n",
       "                </div>\n",
       "                "
      ],
      "text/plain": [
       "<Item title:\"Ugly Map\" type:Web Map owner:Noah_Oceans>"
      ]
     },
     "execution_count": 11,
     "metadata": {},
     "output_type": "execute_result"
    }
   ],
   "source": [
    "bad_clone = gis2.content.get(\"065d73980eda4a3ba37b74bbc1a8bed7\")\n",
    "bad_clone"
   ]
  },
  {
   "cell_type": "code",
   "execution_count": 12,
   "id": "c4988fba-11fe-4a09-8f5e-0ed47f2fcfbd",
   "metadata": {
    "scrolled": true
   },
   "outputs": [
    {
     "data": {
      "text/plain": [
       "{'operationalLayers': [{'id': '1890ec15ae5-layer-1',\n",
       "   'title': 'Gulf Stream Yay!',\n",
       "   'url': 'https://services.arcgis.com/bDAhvQYMG4WL8O5o/arcgis/rest/services/a7998a_4ce24/FeatureServer/0',\n",
       "   'itemId': 'f97da123d5684bd4b31842b94985635a',\n",
       "   'layerType': 'ArcGISFeatureLayer',\n",
       "   'popupInfo': {'popupElements': [{'type': 'fields'},\n",
       "     {'type': 'attachments', 'displayType': 'auto'}],\n",
       "    'showAttachments': True,\n",
       "    'fieldInfos': [{'fieldName': 'fid0',\n",
       "      'isEditable': False,\n",
       "      'label': 'FID',\n",
       "      'visible': False},\n",
       "     {'fieldName': 'airport',\n",
       "      'isEditable': True,\n",
       "      'label': 'AIRPORT',\n",
       "      'visible': True},\n",
       "     {'fieldName': 'city',\n",
       "      'isEditable': True,\n",
       "      'label': 'CITY',\n",
       "      'visible': True},\n",
       "     {'fieldName': 'country',\n",
       "      'isEditable': True,\n",
       "      'label': 'COUNTRY',\n",
       "      'visible': True},\n",
       "     {'fieldName': 'iata',\n",
       "      'isEditable': True,\n",
       "      'label': 'IATA',\n",
       "      'visible': True},\n",
       "     {'fieldName': 'latitude',\n",
       "      'format': {'digitSeparator': True, 'places': 2},\n",
       "      'isEditable': True,\n",
       "      'label': 'LATITUDE',\n",
       "      'visible': True},\n",
       "     {'fieldName': 'longitude',\n",
       "      'format': {'digitSeparator': True, 'places': 2},\n",
       "      'isEditable': True,\n",
       "      'label': 'LONGITUDE',\n",
       "      'visible': True},\n",
       "     {'fieldName': 'state',\n",
       "      'isEditable': True,\n",
       "      'label': 'STATE',\n",
       "      'visible': True}],\n",
       "    'title': 'Gulf Stream Yay!'},\n",
       "   'layerDefinition': {'drawingInfo': {'renderer': {'type': 'simple',\n",
       "      'symbol': {'type': 'esriPMS',\n",
       "       'angle': 0,\n",
       "       'xoffset': 0,\n",
       "       'yoffset': 0,\n",
       "       'contentType': 'image/png',\n",
       "       'imageData': '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',\n",
       "       'url': 'https://services7.arcgis.com/JEwYeAy2cc8qOe3o/arcgis/rest/services/ad363a_87e5a_9c45c/FeatureServer/0/images/RedSphere.png',\n",
       "       'height': 84,\n",
       "       'width': 84}}}}}],\n",
       " 'baseMap': {'baseMapLayers': [{'id': 'VectorTile_3324',\n",
       "    'opacity': 1,\n",
       "    'title': 'World Street Map',\n",
       "    'visibility': True,\n",
       "    'itemId': 'de26a3cf4cc9451298ea173c4b324736',\n",
       "    'layerType': 'VectorTileLayer',\n",
       "    'styleUrl': 'https://www.arcgis.com/sharing/rest/content/items/de26a3cf4cc9451298ea173c4b324736/resources/styles/root.json'}],\n",
       "  'title': 'Streets'},\n",
       " 'authoringApp': 'ArcGISMapViewer',\n",
       " 'authoringAppVersion': '2023.2',\n",
       " 'initialState': {'viewpoint': {'targetGeometry': {'spatialReference': {'latestWkid': 3857,\n",
       "     'wkid': 102100},\n",
       "    'xmin': -14844305.596733816,\n",
       "    'ymin': 3715996.617829325,\n",
       "    'xmax': -11852866.057765953,\n",
       "    'ymax': 5858679.3947188165}}},\n",
       " 'spatialReference': {'latestWkid': 3857, 'wkid': 102100},\n",
       " 'version': '2.28'}"
      ]
     },
     "execution_count": 12,
     "metadata": {},
     "output_type": "execute_result"
    }
   ],
   "source": [
    "bad_clone.get_data()"
   ]
  },
  {
   "cell_type": "markdown",
   "id": "f0a5f326-7146-4c06-aba9-bf4af9fb7673",
   "metadata": {},
   "source": [
    "We'll define our mapping dict in the exact same way that we did earlier- item id key/value pairs."
   ]
  },
  {
   "cell_type": "code",
   "execution_count": 14,
   "id": "5a6dbb3f-78a6-4bce-90c0-ba2fbb163703",
   "metadata": {},
   "outputs": [],
   "source": [
    "new_mapping = {\"f97da123d5684bd4b31842b94985635a\" : \"d30eb25743c748e29d72880988a272d6\"}"
   ]
  },
  {
   "cell_type": "code",
   "execution_count": 15,
   "id": "54712fde-50e0-4d2d-92a5-4e57819d8b9e",
   "metadata": {},
   "outputs": [
    {
     "data": {
      "text/plain": [
       "True"
      ]
     },
     "execution_count": 15,
     "metadata": {},
     "output_type": "execute_result"
    }
   ],
   "source": [
    "bad_clone.remap_data(new_mapping)"
   ]
  },
  {
   "cell_type": "code",
   "execution_count": null,
   "id": "cc5ee0ad-1471-48ff-8772-8e32df835f2e",
   "metadata": {},
   "outputs": [],
   "source": [
    "bad_clone"
   ]
  },
  {
   "cell_type": "code",
   "execution_count": 16,
   "id": "52fd30e2-5fc2-4581-a9fc-90c9d2614855",
   "metadata": {
    "scrolled": true
   },
   "outputs": [
    {
     "data": {
      "text/plain": [
       "{'operationalLayers': [{'id': '1890ec15ae5-layer-1',\n",
       "   'title': 'Gulf Stream Yay!',\n",
       "   'url': 'https://services.arcgis.com/bDAhvQYMG4WL8O5o/arcgis/rest/services/ad363a_87e5a_9c45c_20fa3/FeatureServer/0',\n",
       "   'itemId': 'd30eb25743c748e29d72880988a272d6',\n",
       "   'layerType': 'ArcGISFeatureLayer',\n",
       "   'popupInfo': {'popupElements': [{'type': 'fields'},\n",
       "     {'type': 'attachments', 'displayType': 'auto'}],\n",
       "    'showAttachments': True,\n",
       "    'fieldInfos': [{'fieldName': 'fid0',\n",
       "      'isEditable': False,\n",
       "      'label': 'FID',\n",
       "      'visible': False},\n",
       "     {'fieldName': 'airport',\n",
       "      'isEditable': True,\n",
       "      'label': 'AIRPORT',\n",
       "      'visible': True},\n",
       "     {'fieldName': 'city',\n",
       "      'isEditable': True,\n",
       "      'label': 'CITY',\n",
       "      'visible': True},\n",
       "     {'fieldName': 'country',\n",
       "      'isEditable': True,\n",
       "      'label': 'COUNTRY',\n",
       "      'visible': True},\n",
       "     {'fieldName': 'iata',\n",
       "      'isEditable': True,\n",
       "      'label': 'IATA',\n",
       "      'visible': True},\n",
       "     {'fieldName': 'latitude',\n",
       "      'format': {'digitSeparator': True, 'places': 2},\n",
       "      'isEditable': True,\n",
       "      'label': 'LATITUDE',\n",
       "      'visible': True},\n",
       "     {'fieldName': 'longitude',\n",
       "      'format': {'digitSeparator': True, 'places': 2},\n",
       "      'isEditable': True,\n",
       "      'label': 'LONGITUDE',\n",
       "      'visible': True},\n",
       "     {'fieldName': 'state',\n",
       "      'isEditable': True,\n",
       "      'label': 'STATE',\n",
       "      'visible': True}],\n",
       "    'title': 'Gulf Stream Yay!'},\n",
       "   'layerDefinition': {'drawingInfo': {'renderer': {'type': 'simple',\n",
       "      'symbol': {'type': 'esriPMS',\n",
       "       'angle': 0,\n",
       "       'xoffset': 0,\n",
       "       'yoffset': 0,\n",
       "       'contentType': 'image/png',\n",
       "       'imageData': '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',\n",
       "       'url': 'https://services7.arcgis.com/JEwYeAy2cc8qOe3o/arcgis/rest/services/ad363a_87e5a_9c45c/FeatureServer/0/images/RedSphere.png',\n",
       "       'height': 84,\n",
       "       'width': 84}}}}}],\n",
       " 'baseMap': {'baseMapLayers': [{'id': 'VectorTile_3324',\n",
       "    'opacity': 1,\n",
       "    'title': 'World Street Map',\n",
       "    'visibility': True,\n",
       "    'itemId': 'de26a3cf4cc9451298ea173c4b324736',\n",
       "    'layerType': 'VectorTileLayer',\n",
       "    'styleUrl': 'https://www.arcgis.com/sharing/rest/content/items/de26a3cf4cc9451298ea173c4b324736/resources/styles/root.json'}],\n",
       "  'title': 'Streets'},\n",
       " 'authoringApp': 'ArcGISMapViewer',\n",
       " 'authoringAppVersion': '2023.2',\n",
       " 'initialState': {'viewpoint': {'targetGeometry': {'spatialReference': {'latestWkid': 3857,\n",
       "     'wkid': 102100},\n",
       "    'xmin': -14844305.596733816,\n",
       "    'ymin': 3715996.617829325,\n",
       "    'xmax': -11852866.057765953,\n",
       "    'ymax': 5858679.3947188165}}},\n",
       " 'spatialReference': {'latestWkid': 3857, 'wkid': 102100},\n",
       " 'version': '2.28'}"
      ]
     },
     "execution_count": 16,
     "metadata": {},
     "output_type": "execute_result"
    }
   ],
   "source": [
    "bad_clone.get_data()"
   ]
  },
  {
   "cell_type": "markdown",
   "id": "1f5c6fbe-ac40-4976-9a61-704ff450d43f",
   "metadata": {},
   "source": [
    "As we can see, it changed properly! It now uses our other feature layer.\n",
    "\n",
    "However, what if we also want to change other parts of the structure? Like the title of the layer? Well luckily, we can also use this item to do that. However, be warned, using force in this function will override any failsafes and is only recommended for users confident in their item structure."
   ]
  },
  {
   "cell_type": "code",
   "execution_count": 19,
   "id": "1193e5e4-fdf7-4fda-b909-57cd0dce1fc3",
   "metadata": {},
   "outputs": [
    {
     "data": {
      "text/plain": [
       "True"
      ]
     },
     "execution_count": 19,
     "metadata": {},
     "output_type": "execute_result"
    }
   ],
   "source": [
    "text_replace = {\"Gulf Stream Yay!\": \"CA OR Airports - ad363a\" }\n",
    "bad_clone.remap_data(text_replace, force = True)"
   ]
  },
  {
   "cell_type": "markdown",
   "id": "d7c47a7f-8ffe-4bf2-9d04-114321b846d2",
   "metadata": {},
   "source": [
    "Now, if we take a look, we should get one with the right name. Tada!!!"
   ]
  },
  {
   "cell_type": "code",
   "execution_count": 20,
   "id": "6fc4e827-32b5-442b-8f7c-b1659e5ee5d9",
   "metadata": {
    "scrolled": true
   },
   "outputs": [
    {
     "data": {
      "text/plain": [
       "{'operationalLayers': [{'id': '1890ec15ae5-layer-1',\n",
       "   'title': 'CA OR Airports - ad363a',\n",
       "   'url': 'https://services.arcgis.com/bDAhvQYMG4WL8O5o/arcgis/rest/services/ad363a_87e5a_9c45c_20fa3/FeatureServer/0',\n",
       "   'itemId': 'd30eb25743c748e29d72880988a272d6',\n",
       "   'layerType': 'ArcGISFeatureLayer',\n",
       "   'popupInfo': {'popupElements': [{'type': 'fields'},\n",
       "     {'type': 'attachments', 'displayType': 'auto'}],\n",
       "    'showAttachments': True,\n",
       "    'fieldInfos': [{'fieldName': 'fid0',\n",
       "      'isEditable': False,\n",
       "      'label': 'FID',\n",
       "      'visible': False},\n",
       "     {'fieldName': 'airport',\n",
       "      'isEditable': True,\n",
       "      'label': 'AIRPORT',\n",
       "      'visible': True},\n",
       "     {'fieldName': 'city',\n",
       "      'isEditable': True,\n",
       "      'label': 'CITY',\n",
       "      'visible': True},\n",
       "     {'fieldName': 'country',\n",
       "      'isEditable': True,\n",
       "      'label': 'COUNTRY',\n",
       "      'visible': True},\n",
       "     {'fieldName': 'iata',\n",
       "      'isEditable': True,\n",
       "      'label': 'IATA',\n",
       "      'visible': True},\n",
       "     {'fieldName': 'latitude',\n",
       "      'format': {'digitSeparator': True, 'places': 2},\n",
       "      'isEditable': True,\n",
       "      'label': 'LATITUDE',\n",
       "      'visible': True},\n",
       "     {'fieldName': 'longitude',\n",
       "      'format': {'digitSeparator': True, 'places': 2},\n",
       "      'isEditable': True,\n",
       "      'label': 'LONGITUDE',\n",
       "      'visible': True},\n",
       "     {'fieldName': 'state',\n",
       "      'isEditable': True,\n",
       "      'label': 'STATE',\n",
       "      'visible': True}],\n",
       "    'title': 'CA OR Airports - ad363a'},\n",
       "   'layerDefinition': {'drawingInfo': {'renderer': {'type': 'simple',\n",
       "      'symbol': {'type': 'esriPMS',\n",
       "       'angle': 0,\n",
       "       'xoffset': 0,\n",
       "       'yoffset': 0,\n",
       "       'contentType': 'image/png',\n",
       "       'imageData': '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',\n",
       "       'url': 'https://services7.arcgis.com/JEwYeAy2cc8qOe3o/arcgis/rest/services/ad363a_87e5a_9c45c/FeatureServer/0/images/RedSphere.png',\n",
       "       'height': 84,\n",
       "       'width': 84}}}}}],\n",
       " 'baseMap': {'baseMapLayers': [{'id': 'VectorTile_3324',\n",
       "    'opacity': 1,\n",
       "    'title': 'World Street Map',\n",
       "    'visibility': True,\n",
       "    'itemId': 'de26a3cf4cc9451298ea173c4b324736',\n",
       "    'layerType': 'VectorTileLayer',\n",
       "    'styleUrl': 'https://www.arcgis.com/sharing/rest/content/items/de26a3cf4cc9451298ea173c4b324736/resources/styles/root.json'}],\n",
       "  'title': 'Streets'},\n",
       " 'authoringApp': 'ArcGISMapViewer',\n",
       " 'authoringAppVersion': '2023.2',\n",
       " 'initialState': {'viewpoint': {'targetGeometry': {'spatialReference': {'latestWkid': 3857,\n",
       "     'wkid': 102100},\n",
       "    'xmin': -14844305.596733816,\n",
       "    'ymin': 3715996.617829325,\n",
       "    'xmax': -11852866.057765953,\n",
       "    'ymax': 5858679.3947188165}}},\n",
       " 'spatialReference': {'latestWkid': 3857, 'wkid': 102100},\n",
       " 'version': '2.28'}"
      ]
     },
     "execution_count": 20,
     "metadata": {},
     "output_type": "execute_result"
    }
   ],
   "source": [
    "bad_clone.get_data()"
   ]
  },
  {
   "cell_type": "code",
   "execution_count": null,
   "id": "885d284d-8724-445e-a2c7-550e430438fb",
   "metadata": {},
   "outputs": [],
   "source": []
  }
 ],
 "metadata": {
  "kernelspec": {
   "display_name": "Python 3 (ipykernel)",
   "language": "python",
   "name": "python3"
  },
  "language_info": {
   "codemirror_mode": {
    "name": "ipython",
    "version": 3
   },
   "file_extension": ".py",
   "mimetype": "text/x-python",
   "name": "python",
   "nbconvert_exporter": "python",
   "pygments_lexer": "ipython3",
   "version": "3.11.9"
  }
 },
 "nbformat": 4,
 "nbformat_minor": 5
}
