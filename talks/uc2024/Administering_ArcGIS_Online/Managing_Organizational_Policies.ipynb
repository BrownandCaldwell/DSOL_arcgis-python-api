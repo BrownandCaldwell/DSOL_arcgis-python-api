{
 "cells": [
  {
   "cell_type": "markdown",
   "id": "e40f34c8",
   "metadata": {},
   "source": [
    "# Metadata"
   ]
  },
  {
   "cell_type": "markdown",
   "id": "3fcad62c",
   "metadata": {},
   "source": [
    "<img src=\"./img/metadata.jpg\" />\n",
    "\n",
    "- administrators can enable/disable metadata on items"
   ]
  },
  {
   "cell_type": "markdown",
   "id": "16f36c06-eab8-474e-95e9-f5a5a3f5df51",
   "metadata": {},
   "source": [
    "### Setup and import"
   ]
  },
  {
   "cell_type": "code",
   "execution_count": 1,
   "id": "5e57d76c-aab0-479c-91c9-6aff1ac44f25",
   "metadata": {},
   "outputs": [],
   "source": [
    "import datetime as dt\n",
    "import pytz\n",
    "\n",
    "import warnings\n",
    "warnings.filterwarnings(\"ignore\", category=Warning)"
   ]
  },
  {
   "cell_type": "code",
   "execution_count": 35,
   "id": "3fde0caa-97ff-4011-83ad-88c63a153321",
   "metadata": {},
   "outputs": [],
   "source": [
    "from arcgis.gis import GIS"
   ]
  },
  {
   "cell_type": "markdown",
   "id": "02a463ce-cbd6-466b-a047-6456733b43ad",
   "metadata": {},
   "source": [
    "### Create Administrator Web GIS Connection"
   ]
  },
  {
   "cell_type": "code",
   "execution_count": 3,
   "id": "4729b439",
   "metadata": {
    "editable": true,
    "slideshow": {
     "slide_type": ""
    },
    "tags": []
   },
   "outputs": [],
   "source": [
    "gis = GIS(profile='your_online_admin_profile')"
   ]
  },
  {
   "cell_type": "code",
   "execution_count": 4,
   "id": "2335f59b",
   "metadata": {},
   "outputs": [],
   "source": [
    "am = gis.admin"
   ]
  },
  {
   "cell_type": "code",
   "execution_count": 5,
   "id": "682734b7",
   "metadata": {},
   "outputs": [],
   "source": [
    "metamgr = am.metadata"
   ]
  },
  {
   "cell_type": "code",
   "execution_count": 6,
   "id": "fcbd2a1e-44f9-4fc0-90ea-cfe8568bba5e",
   "metadata": {},
   "outputs": [
    {
     "data": {
      "text/plain": [
       "True"
      ]
     },
     "execution_count": 6,
     "metadata": {},
     "output_type": "execute_result"
    }
   ],
   "source": [
    "metamgr.is_enabled"
   ]
  },
  {
   "cell_type": "markdown",
   "id": "23299c01",
   "metadata": {},
   "source": [
    "##### Enable Metadata Support"
   ]
  },
  {
   "cell_type": "code",
   "execution_count": 7,
   "id": "549a2a00",
   "metadata": {},
   "outputs": [
    {
     "data": {
      "text/plain": [
       "True"
      ]
     },
     "execution_count": 7,
     "metadata": {},
     "output_type": "execute_result"
    }
   ],
   "source": [
    "metamgr.enable()"
   ]
  },
  {
   "cell_type": "code",
   "execution_count": 8,
   "id": "889a1df3",
   "metadata": {},
   "outputs": [
    {
     "data": {
      "text/plain": [
       "True"
      ]
     },
     "execution_count": 8,
     "metadata": {},
     "output_type": "execute_result"
    }
   ],
   "source": [
    "metamgr.is_enabled"
   ]
  },
  {
   "cell_type": "markdown",
   "id": "055dbbf8",
   "metadata": {},
   "source": [
    "##### Set the Metadata Format\n",
    "\n",
    "- Supported formats: inspire,iso19139-3.2,fgdc,iso19139,arcgis, or iso19115\n"
   ]
  },
  {
   "cell_type": "code",
   "execution_count": 9,
   "id": "fc4ee1cc",
   "metadata": {},
   "outputs": [
    {
     "data": {
      "text/plain": [
       "True"
      ]
     },
     "execution_count": 9,
     "metadata": {},
     "output_type": "execute_result"
    }
   ],
   "source": [
    "metamgr.update(\"arcgis\")"
   ]
  },
  {
   "cell_type": "markdown",
   "id": "18d6c65a",
   "metadata": {
    "editable": true,
    "slideshow": {
     "slide_type": ""
    },
    "tags": []
   },
   "source": [
    "# Login Policies\n",
    "\n",
    "<img src=\"./img/password-reset.jpg\" />"
   ]
  },
  {
   "cell_type": "code",
   "execution_count": 10,
   "id": "853ec6b7",
   "metadata": {},
   "outputs": [
    {
     "data": {
      "text/plain": [
       "< PasswordPolicy @ https://geosaurus.maps.arcgis.com/sharing/rest//portals/self/securityPolicy >"
      ]
     },
     "execution_count": 10,
     "metadata": {},
     "output_type": "execute_result"
    }
   ],
   "source": [
    "password_policy = gis.admin.password_policy\n",
    "password_policy"
   ]
  },
  {
   "cell_type": "code",
   "execution_count": 11,
   "id": "71d49742-18dd-4105-a666-18086297f64b",
   "metadata": {},
   "outputs": [
    {
     "data": {
      "text/plain": [
       "{\n",
       "  \"passwordPolicy\": {\n",
       "    \"type\": \"default\",\n",
       "    \"minLength\": 8,\n",
       "    \"minLetter\": 1,\n",
       "    \"minDigit\": 1,\n",
       "    \"created\": -1,\n",
       "    \"modified\": -1\n",
       "  },\n",
       "  \"lockoutLoginPolicy\": {\n",
       "    \"type\": \"custom\",\n",
       "    \"maxInvalidAttempt\": 2,\n",
       "    \"lockoutPeriodInSeconds\": 900,\n",
       "    \"created\": 1685447780000,\n",
       "    \"modified\": 1721090856000\n",
       "  }\n",
       "}"
      ]
     },
     "execution_count": 11,
     "metadata": {},
     "output_type": "execute_result"
    }
   ],
   "source": [
    "password_policy.properties"
   ]
  },
  {
   "cell_type": "markdown",
   "id": "9490ae7b",
   "metadata": {},
   "source": [
    "#### Password Policy"
   ]
  },
  {
   "cell_type": "markdown",
   "id": "3f1ec241",
   "metadata": {},
   "source": [
    "- Allows for administrators to set the minimum strength requirements for a password"
   ]
  },
  {
   "cell_type": "code",
   "execution_count": 12,
   "id": "b1df21f7",
   "metadata": {},
   "outputs": [
    {
     "data": {
      "text/plain": [
       "{'type': 'default',\n",
       " 'minLength': 8,\n",
       " 'minLetter': 1,\n",
       " 'minDigit': 1,\n",
       " 'created': -1,\n",
       " 'modified': -1}"
      ]
     },
     "execution_count": 12,
     "metadata": {},
     "output_type": "execute_result"
    }
   ],
   "source": [
    "password_policy.policy"
   ]
  },
  {
   "cell_type": "code",
   "execution_count": 13,
   "id": "ec0f8086",
   "metadata": {},
   "outputs": [],
   "source": [
    "password_policy.policy =    {\n",
    "    \"minLength\": 10,\n",
    "    \"minLetter\": 1,\n",
    "    \"minUpper\": 1,\n",
    "    #\"minLower\": 1, # Adds a lower case character requirement\n",
    "    #\"minDigit\": 1, # Adds a numeric character requirement\n",
    "    #\"minOther\": 1, # Adds a special character requirement\n",
    "    #\"expirationInDays\": 90, # Adds a password expiration policy\n",
    "    #\"historySize\": 2 # Adds a password history requirement\n",
    "    \n",
    "   }"
   ]
  },
  {
   "cell_type": "code",
   "execution_count": 14,
   "id": "7df99e5c",
   "metadata": {},
   "outputs": [
    {
     "data": {
      "text/plain": [
       "{'type': 'custom',\n",
       " 'minLength': 10,\n",
       " 'minUpper': 1,\n",
       " 'minLetter': 1,\n",
       " 'created': 1721161605000,\n",
       " 'modified': -1}"
      ]
     },
     "execution_count": 14,
     "metadata": {},
     "output_type": "execute_result"
    }
   ],
   "source": [
    "password_policy.policy"
   ]
  },
  {
   "cell_type": "markdown",
   "id": "43cac180",
   "metadata": {},
   "source": [
    "#### Reset the Password Policy to ArcGIS Default"
   ]
  },
  {
   "cell_type": "code",
   "execution_count": 15,
   "id": "fbc5620a",
   "metadata": {},
   "outputs": [
    {
     "data": {
      "text/plain": [
       "True"
      ]
     },
     "execution_count": 15,
     "metadata": {},
     "output_type": "execute_result"
    }
   ],
   "source": [
    "password_policy.reset()"
   ]
  },
  {
   "cell_type": "code",
   "execution_count": 16,
   "id": "0d959547",
   "metadata": {},
   "outputs": [
    {
     "data": {
      "text/plain": [
       "{'type': 'default',\n",
       " 'minLength': 8,\n",
       " 'minLetter': 1,\n",
       " 'minDigit': 1,\n",
       " 'created': -1,\n",
       " 'modified': -1}"
      ]
     },
     "execution_count": 16,
     "metadata": {},
     "output_type": "execute_result"
    }
   ],
   "source": [
    "password_policy.policy"
   ]
  },
  {
   "cell_type": "markdown",
   "id": "c43ebf70",
   "metadata": {},
   "source": [
    "#### Lockout Policy\n",
    "\n",
    "- when a user enters a wrong password, when does it lock the account?"
   ]
  },
  {
   "cell_type": "code",
   "execution_count": 17,
   "id": "d66e799f",
   "metadata": {},
   "outputs": [
    {
     "data": {
      "text/plain": [
       "{'type': 'custom',\n",
       " 'maxInvalidAttempt': 2,\n",
       " 'lockoutPeriodInSeconds': 900,\n",
       " 'created': 1685447780000,\n",
       " 'modified': 1721090856000}"
      ]
     },
     "execution_count": 17,
     "metadata": {},
     "output_type": "execute_result"
    }
   ],
   "source": [
    "password_policy.lockout_policy"
   ]
  },
  {
   "cell_type": "code",
   "execution_count": 18,
   "id": "df11739f",
   "metadata": {},
   "outputs": [],
   "source": [
    "password_policy.lockout_policy = {\n",
    "         'maxInvalidAttempt': 2,\n",
    "         'lockoutPeriodInSeconds': 900\n",
    "}"
   ]
  },
  {
   "cell_type": "code",
   "execution_count": 19,
   "id": "0f90f046",
   "metadata": {},
   "outputs": [
    {
     "data": {
      "text/plain": [
       "{'type': 'custom',\n",
       " 'maxInvalidAttempt': 2,\n",
       " 'lockoutPeriodInSeconds': 900,\n",
       " 'created': 1685447780000,\n",
       " 'modified': 1721161606000}"
      ]
     },
     "execution_count": 19,
     "metadata": {},
     "output_type": "execute_result"
    }
   ],
   "source": [
    "password_policy.lockout_policy"
   ]
  },
  {
   "cell_type": "markdown",
   "id": "3772ea25",
   "metadata": {},
   "source": [
    "## Credit Management"
   ]
  },
  {
   "cell_type": "markdown",
   "id": "425c6914",
   "metadata": {},
   "source": [
    "<img src=\"./img/credit.jpg\">\n",
    "\n",
    "- don't let users consume all your credits\n",
    "- enable credit management to ensure you limit "
   ]
  },
  {
   "cell_type": "code",
   "execution_count": 20,
   "id": "be52916c",
   "metadata": {},
   "outputs": [
    {
     "data": {
      "text/plain": [
       "<arcgis.gis.admin._creditmanagement.CreditManager at 0x1371b92d0>"
      ]
     },
     "execution_count": 20,
     "metadata": {},
     "output_type": "execute_result"
    }
   ],
   "source": [
    "credit_mgr = am.credits\n",
    "credit_mgr"
   ]
  },
  {
   "cell_type": "markdown",
   "id": "1e7cfd2e",
   "metadata": {},
   "source": [
    "#### Check if Enabled"
   ]
  },
  {
   "cell_type": "code",
   "execution_count": 21,
   "id": "81663413",
   "metadata": {},
   "outputs": [
    {
     "data": {
      "text/plain": [
       "True"
      ]
     },
     "execution_count": 21,
     "metadata": {},
     "output_type": "execute_result"
    }
   ],
   "source": [
    "credit_mgr.is_enabled"
   ]
  },
  {
   "cell_type": "markdown",
   "id": "bc508b66",
   "metadata": {},
   "source": [
    "### Check Available Credits\n",
    "\n",
    "<img src=\"./img/safe.jpg\"/>"
   ]
  },
  {
   "cell_type": "code",
   "execution_count": 22,
   "id": "7e23458d",
   "metadata": {},
   "outputs": [
    {
     "data": {
      "text/plain": [
       "290324.34"
      ]
     },
     "execution_count": 22,
     "metadata": {},
     "output_type": "execute_result"
    }
   ],
   "source": [
    "credit_mgr.credits"
   ]
  },
  {
   "cell_type": "markdown",
   "id": "6ab6de7b",
   "metadata": {},
   "source": [
    "### Credit Usage \n",
    "\n",
    "- allows administrators to view credit consumption over time."
   ]
  },
  {
   "cell_type": "markdown",
   "id": "7c980a42-1ca3-4e43-8b1c-c816bec08262",
   "metadata": {},
   "source": [
    "#### Select a time range"
   ]
  },
  {
   "cell_type": "code",
   "execution_count": 23,
   "id": "ec4d7ca3-e4bb-49f1-9752-b72d24cf343e",
   "metadata": {},
   "outputs": [],
   "source": [
    "jul15 = dt.datetime(2024, 7, 15, tzinfo=pytz.timezone(\"UTC\"))\n",
    "jul8 = dt.datetime(2024, 7, 8, tzinfo=pytz.timezone(\"UTC\"))"
   ]
  },
  {
   "cell_type": "code",
   "execution_count": 24,
   "id": "5941def1-bc09-42d8-85d9-3e1e96f8bf47",
   "metadata": {},
   "outputs": [],
   "source": [
    "week_usage = credit_mgr.credit_usage(\n",
    "    start_time=jul15,\n",
    "    end_time=jul8\n",
    ")"
   ]
  },
  {
   "cell_type": "code",
   "execution_count": 25,
   "id": "c5cc16c8-23bf-460e-9322-05dd775bbc35",
   "metadata": {},
   "outputs": [
    {
     "name": "stdout",
     "output_type": "stream",
     "text": [
      "intnotebks              16.250\n",
      "schdnotebks              1.350\n",
      "geocode                350.840\n",
      "features              1768.051\n",
      "imagery                  0.065\n",
      "notebooks                3.817\n",
      "portal                  53.893\n",
      "scene                    2.450\n",
      "tiles                    0.953\n",
      "vectortiles              0.048\n",
      "applogin                 0.000\n",
      "apploginprovider         0.000\n",
      "basemaps                 0.000\n",
      "elevanalysis             0.000\n",
      "geoenrich             1832.010\n",
      "landscapeimagery         0.000\n",
      "landscapemaps            0.000\n",
      "naservicearea          617.500\n",
      "nasimpleroute            0.005\n",
      "navrproute              10.000\n",
      "spanalysis               1.409\n",
      "wmts                     0.000\n"
     ]
    }
   ],
   "source": [
    "for prod,credits in week_usage.items():\n",
    "    print(f\"{prod:20}{credits:10.3f}\")"
   ]
  },
  {
   "cell_type": "code",
   "execution_count": 26,
   "id": "5ae0a632-ffc5-4002-b0f5-4ca9c682e718",
   "metadata": {},
   "outputs": [
    {
     "name": "stdout",
     "output_type": "stream",
     "text": [
      "geoenrich            1832.0099\n",
      "features             1768.0510\n",
      "naservicearea         617.5000\n",
      "geocode               350.8400\n",
      "portal                 53.8928\n",
      "intnotebks             16.2500\n",
      "navrproute             10.0000\n",
      "notebooks               3.8169\n",
      "scene                   2.4497\n",
      "spanalysis              1.4091\n",
      "schdnotebks             1.3500\n",
      "tiles                   0.9535\n",
      "imagery                 0.0652\n",
      "vectortiles             0.0485\n",
      "nasimpleroute           0.0050\n",
      "applogin                0.0000\n",
      "apploginprovider        0.0000\n",
      "basemaps                0.0000\n",
      "elevanalysis            0.0000\n",
      "landscapeimagery        0.0000\n",
      "landscapemaps           0.0000\n",
      "wmts                    0.0000\n"
     ]
    }
   ],
   "source": [
    "for prod_list in sorted(\n",
    "    week_usage.items(), \n",
    "    key=lambda x: x[1], \n",
    "    reverse=True\n",
    "):\n",
    "    print(f\"{prod_list[0]:20}{prod_list[1]:10.4f}\")"
   ]
  },
  {
   "cell_type": "markdown",
   "id": "b39ff89b-e313-4f4a-8ee5-544d46a4653b",
   "metadata": {},
   "source": [
    "#### Use preconfigured ranges"
   ]
  },
  {
   "cell_type": "code",
   "execution_count": 27,
   "id": "449db753-c57d-4fe8-9f2c-d4488ab75538",
   "metadata": {},
   "outputs": [],
   "source": [
    "month6_usage = credit_mgr.credit_usage(\n",
    "    time_frame=\"6months\"\n",
    ")"
   ]
  },
  {
   "cell_type": "code",
   "execution_count": 28,
   "id": "a79bc01d",
   "metadata": {},
   "outputs": [
    {
     "name": "stdout",
     "output_type": "stream",
     "text": [
      "intdatapipelines            73.3333\n",
      "intnotebks                 811.6000\n",
      "schddatapipelines           18.6667\n",
      "schdnotebks                 75.8250\n",
      "geocode                   5795.6401\n",
      "scene                       64.6801\n",
      "tiles                      753.6572\n",
      "vectortiles                  1.1185\n",
      "features                 47282.9578\n",
      "imagery                      1.7217\n",
      "notebooks                   97.8238\n",
      "portal                    1369.0437\n",
      "3dtiles                      0.0000\n",
      "applogin                     0.0000\n",
      "apploginprovider             0.0000\n",
      "basemaps                     0.0000\n",
      "demogmaps                    3.4100\n",
      "elevanalysis                 0.0000\n",
      "featurereport               10.5000\n",
      "geoenrich                25676.8506\n",
      "imganalysis                  8.2000\n",
      "landscapeimagery             0.0000\n",
      "landscapemaps                0.0000\n",
      "nacfroute                  151.0000\n",
      "nalademandpoint            302.8000\n",
      "naodresult                   0.2360\n",
      "naservicearea             7931.0000\n",
      "nasimpleroute                2.7300\n",
      "natsproute                   0.5000\n",
      "navrproute                 398.0000\n",
      "spanalysis                5104.0713\n",
      "wmts                         0.0000\n"
     ]
    }
   ],
   "source": [
    "for prod,credits in month6_usage.items():\n",
    "    print(f\"{prod:25}{credits:10.4f}\")"
   ]
  },
  {
   "cell_type": "code",
   "execution_count": 29,
   "id": "88a074eb-bd8f-48ff-a8d9-cb4fbb5df0e3",
   "metadata": {},
   "outputs": [
    {
     "name": "stdout",
     "output_type": "stream",
     "text": [
      "features            47282.9578\n",
      "geoenrich           25676.8506\n",
      "naservicearea        7931.0000\n",
      "geocode              5795.6401\n",
      "spanalysis           5104.0713\n",
      "portal               1369.0437\n",
      "intnotebks            811.6000\n",
      "tiles                 753.6572\n",
      "navrproute            398.0000\n",
      "nalademandpoint       302.8000\n",
      "nacfroute             151.0000\n",
      "notebooks              97.8238\n",
      "schdnotebks            75.8250\n",
      "intdatapipelines       73.3333\n",
      "scene                  64.6801\n",
      "schddatapipelines      18.6667\n",
      "featurereport          10.5000\n",
      "imganalysis             8.2000\n",
      "demogmaps               3.4100\n",
      "nasimpleroute           2.7300\n",
      "imagery                 1.7217\n",
      "vectortiles             1.1185\n",
      "natsproute              0.5000\n",
      "naodresult              0.2360\n",
      "3dtiles                 0.0000\n",
      "applogin                0.0000\n",
      "apploginprovider        0.0000\n",
      "basemaps                0.0000\n",
      "elevanalysis            0.0000\n",
      "landscapeimagery        0.0000\n",
      "landscapemaps           0.0000\n",
      "wmts                    0.0000\n"
     ]
    }
   ],
   "source": [
    "for prod_list2 in sorted(\n",
    "    month6_usage.items(), \n",
    "    key=lambda x: x[1], \n",
    "    reverse=True\n",
    "):\n",
    "    print(f\"{prod_list2[0]:20}{prod_list2[1]:10.4f}\")"
   ]
  },
  {
   "cell_type": "markdown",
   "id": "2926f244",
   "metadata": {},
   "source": [
    "### Allocating Credits"
   ]
  },
  {
   "cell_type": "code",
   "execution_count": 30,
   "id": "63b04576",
   "metadata": {},
   "outputs": [
    {
     "data": {
      "text/plain": [
       "<User username:tiles_publisher_12>"
      ]
     },
     "execution_count": 30,
     "metadata": {},
     "output_type": "execute_result"
    }
   ],
   "source": [
    "user = gis.users.get(\"tiles_publisher_12\")\n",
    "user"
   ]
  },
  {
   "cell_type": "markdown",
   "id": "725c0bc6",
   "metadata": {},
   "source": [
    "#### Check a User's Credits"
   ]
  },
  {
   "cell_type": "code",
   "execution_count": 31,
   "id": "8da1d8d0",
   "metadata": {},
   "outputs": [
    {
     "data": {
      "text/plain": [
       "500.0"
      ]
     },
     "execution_count": 31,
     "metadata": {},
     "output_type": "execute_result"
    }
   ],
   "source": [
    "user.assignedCredits"
   ]
  },
  {
   "cell_type": "markdown",
   "id": "ad8c3763",
   "metadata": {},
   "source": [
    "#### Setting and Managing Credit Limits"
   ]
  },
  {
   "cell_type": "markdown",
   "id": "72864d92",
   "metadata": {},
   "source": [
    "- setting credit limits ensures a given user won't consume all credits"
   ]
  },
  {
   "cell_type": "code",
   "execution_count": 32,
   "id": "d73ace9b",
   "metadata": {},
   "outputs": [
    {
     "data": {
      "text/plain": [
       "True"
      ]
     },
     "execution_count": 32,
     "metadata": {},
     "output_type": "execute_result"
    }
   ],
   "source": [
    "credit_mgr.allocate(user, 1500)"
   ]
  },
  {
   "cell_type": "code",
   "execution_count": 33,
   "id": "4efcce6f",
   "metadata": {},
   "outputs": [
    {
     "data": {
      "text/plain": [
       "1500.0"
      ]
     },
     "execution_count": 33,
     "metadata": {},
     "output_type": "execute_result"
    }
   ],
   "source": [
    "gis.users.get(\"tiles_publisher_12\").assignedCredits"
   ]
  },
  {
   "cell_type": "markdown",
   "id": "05297c5c",
   "metadata": {},
   "source": [
    "#### Setting a Default Credit Limit"
   ]
  },
  {
   "cell_type": "code",
   "execution_count": 34,
   "id": "b83d21bf",
   "metadata": {
    "editable": true,
    "slideshow": {
     "slide_type": ""
    },
    "tags": []
   },
   "outputs": [
    {
     "data": {
      "text/plain": [
       "500"
      ]
     },
     "execution_count": 34,
     "metadata": {},
     "output_type": "execute_result"
    }
   ],
   "source": [
    "credit_mgr.default_limit = 500\n",
    "credit_mgr.default_limit"
   ]
  }
 ],
 "metadata": {
  "kernelspec": {
   "display_name": "Python 3 (ipykernel)",
   "language": "python",
   "name": "python3"
  },
  "language_info": {
   "codemirror_mode": {
    "name": "ipython",
    "version": 3
   },
   "file_extension": ".py",
   "mimetype": "text/x-python",
   "name": "python",
   "nbconvert_exporter": "python",
   "pygments_lexer": "ipython3",
   "version": "3.11.0"
  }
 },
 "nbformat": 4,
 "nbformat_minor": 5
}
