{
 "cells": [
  {
   "cell_type": "markdown",
   "id": "5c244c19",
   "metadata": {},
   "source": [
    "# What are Scheduled Tasks?\n",
    "  \n",
    "A scheduled task is a process that can be set up to run at specified intervals or times. There are a few different types of scheduled tasks within the ArcGIS world- we're going to be examining one of the most common ones, which is scheduling a notebook to run at a certain time (this can be likened to automatically running a notebook or Python script using something like Windows Task Scheduler). However, there are numerous other cases where a scheduled task can come in handy, like the ones below."
   ]
  },
  {
   "cell_type": "markdown",
   "id": "65f59992",
   "metadata": {},
   "source": [
    "# Use cases:"
   ]
  },
  {
   "cell_type": "markdown",
   "id": "3c9e3bd5",
   "metadata": {},
   "source": [
    "> **Data Management**: Scheduled tasks enable you to automate data management processes within your organization. You can schedule tasks to regularly update, synchronize, or clean up data, ensuring that your datasets are accurate, up to date, and consistent.\n",
    "\n",
    "> **Workload Automation**: Scheduled tasks help streamline administrative workflows by automating routine tasks. This saves time and effort by eliminating the need for manual intervention in repetitive processes. For example, you can schedule tasks to automatically generate and deliver reports, update data sources, or perform data validation checks.\n",
    "\n",
    "> **Timely Updates**: Some workflows require regular updates or synchronization with external systems or data sources. Scheduled tasks ensure that these updates occur at specified intervals, guaranteeing that your organization's data is always current and aligned with the latest information.\n",
    "\n",
    "> **Resource Optimization**: By scheduling tasks during off-peak hours or non-business hours, you can optimize resource utilization within your ArcGIS Online organization. For example, you can schedule resource-intensive geoprocessing tasks to run overnight when server loads are lower, minimizing impact on performance during peak usage periods.\n",
    "\n",
    "> **Proactive Maintenance**: Scheduled tasks can be used for proactive maintenance and monitoring of your ArcGIS Online environment. You can schedule tasks to periodically check for system health, monitor usage patterns, or perform backup operations to ensure the stability and reliability of your organization's resources."
   ]
  },
  {
   "cell_type": "markdown",
   "id": "e0e59357",
   "metadata": {},
   "source": [
    "# Demo: Create a Task\n",
    "\n",
    "Let's go ahead and create a task for our notebook! First, we'll take a quick look at it to see exactly what we're doing. As we mentioned in the previous notebook, we're essentially grabbing the daily Gulf Stream shape data, appending it to a Spatially Enabled DataFrame containing the data from the past days, and then using that DataFrame to update the features in our layer. Since we have a webhook set up monitoring if the features are updated, we have a system in place to alert us if the notebook is/isn't running properly once we schedule it. Let's get to it!"
   ]
  },
  {
   "cell_type": "markdown",
   "id": "bc634b86",
   "metadata": {},
   "source": [
    "#### Establish a Connection"
   ]
  },
  {
   "cell_type": "code",
   "execution_count": 1,
   "id": "45e2fc51",
   "metadata": {},
   "outputs": [
    {
     "name": "stderr",
     "output_type": "stream",
     "text": [
      "/opt/anaconda3/envs/uc2024/lib/python3.11/site-packages/dask/dataframe/__init__.py:42: FutureWarning: \n",
      "Dask dataframe query planning is disabled because dask-expr is not installed.\n",
      "\n",
      "You can install it with `pip install dask[dataframe]` or `conda install dask`.\n",
      "This will raise in a future version.\n",
      "\n",
      "  warnings.warn(msg, FutureWarning)\n"
     ]
    }
   ],
   "source": [
    "from arcgis.gis import GIS\n",
    "\n",
    "gis = GIS(profile=\"your_online_profile\")"
   ]
  },
  {
   "cell_type": "markdown",
   "id": "bebf75b3",
   "metadata": {},
   "source": [
    "## Get Task Management Class\n",
    "\n",
    "This class will show all of the tasks that a given user has created- in this instance, this user happens to be me. Crazy."
   ]
  },
  {
   "cell_type": "code",
   "execution_count": 17,
   "id": "ec0f8118",
   "metadata": {},
   "outputs": [
    {
     "data": {
      "text/plain": [
       "<User nparavicini_geosaurus Tasks>"
      ]
     },
     "execution_count": 17,
     "metadata": {},
     "output_type": "execute_result"
    }
   ],
   "source": [
    "# The task manager can be called from a property on the user object\n",
    "task_manager = gis.users.me.tasks\n",
    "task_manager"
   ]
  },
  {
   "cell_type": "markdown",
   "id": "1ea8b73b",
   "metadata": {},
   "source": [
    "### See current tasks"
   ]
  },
  {
   "cell_type": "code",
   "execution_count": 3,
   "id": "5a46f47b",
   "metadata": {},
   "outputs": [
    {
     "name": "stdout",
     "output_type": "stream",
     "text": [
      "Workflow_Cleanup_2179bee069b3420686e4ce20e5e9fc2b\n",
      "updation\n",
      "My_UC2024_Task2\n",
      "My_UC2024_Task\n",
      "Workflow_Cleanup_896148a522c04cd6b03ca27f31303b0e\n"
     ]
    }
   ],
   "source": [
    "# get all tasks\n",
    "tasks = task_manager.all\n",
    "\n",
    "# print out task names\n",
    "for task in tasks:\n",
    "    print(task.properties[\"title\"])"
   ]
  },
  {
   "cell_type": "markdown",
   "id": "df51e0e7-9cb2-4409-bf04-a796f45e2e82",
   "metadata": {},
   "source": [
    "As you all can see, there are already some tasks running- I'm clearly doing really important stuff all the time that I just can't constantly monitor myself. The Workflow Manager tasks are a good example of other things that may be commonly automated in ArcGIS Online."
   ]
  },
  {
   "cell_type": "markdown",
   "id": "a31351ae",
   "metadata": {},
   "source": [
    "### Create a Task for the Notebook\n",
    "\n",
    "Now, we'll schedule a task for the notebook. Note we use the `ExecuteNotebook` task name. A full list of tasks can be found [here](https://developers.arcgis.com/python/api-reference/arcgis.gis.tasks.html)."
   ]
  },
  {
   "cell_type": "code",
   "execution_count": 4,
   "id": "928b0ec5",
   "metadata": {},
   "outputs": [
    {
     "data": {
      "text/html": [
       "<div class=\"item_container\" style=\"height: auto; overflow: hidden; border: 1px solid #cfcfcf; border-radius: 2px; background: #f6fafa; line-height: 1.21429em; padding: 10px;\">\n",
       "                    <div class=\"item_left\" style=\"width: 210px; float: left;\">\n",
       "                       <a href='https://geosaurus.maps.arcgis.com/home/item.html?id=dc96e6f66d7543409414ad1f0160d81f' target='_blank'>\n",
       "                        <img src='data:image/png;base64,iVBORw0KGgoAAAANSUhEUgAAAMgAAACFCAYAAAAenrcsAAAAGXRFWHRTb2Z0d2FyZQBBZG9iZSBJbWFnZVJlYWR5ccllPAAABPJJREFUeNrs3V+IFHUAwPHf7un987w7T7M/SGmpaJm9GGoqGD0UGUIlWqH9Owgi6qUICimNohd7KhAiQ9IwyoeKShIjQ0sziEQyeygzNTPFUu+f92/bnfXS9WbPM05xnc8HdJy7YWB/znd2ZnZ3NpXJZJYEIFYqG0jGMEC8tCEAgYBAQCAgEBAICAQEAgIBgQACAYGAQEAgIBAQCAgEBAICAYEAAoFzN8gQxNvX1G0QskbVJHsf6rY/RUx//1g07UxoJ4NOdrFlfq1nEHobVpGKptfUJnMPuueYZ1CB9MPyW4ck8nHf+dFx//kCOWV3kT3m7oTtScfUum4jkBj3r2uKph3d+VOyhsr8hjLv08I96eB0qmC5S0XP49q6oNbGIJDeGirzG8h1dWcOSVnB3C9Hu4osV9p6HhcC6dPrs6v7dWx+tuWcc1waHHCCQEAgIBAQCAgELn4u8xax/XBXyL0ycuWQVLisyn5EIBRY9HlTKC8LYc7o8tB4Q0W4eqhIBJJA3//VGTs/99rycKi1O3y1vyM0d2TCslnVthaBJM9D65uj6YiqVMH8joV1YeeRrvDMppbww+FOW4pAkumeseWxP//uYGfY39Qdcu9JrC93eCWQhFo6rSr255NWHw25LnIfmJpXJCIEkhhb/8wfRk27Ij8k88eVh9w7wMfVp8OC8QIRSMI9tbElmm67L/95iBemVhkUBNKj5yQdTufsEwQCAgGBgEDgIuEq1nm2cvOufi338MwJF8V6EcgF9ciyT/L/aGrre0PesPjc1rtkbd8L1FQKRCAlYFj+1qWNc6cM6GobH5jZ5+9XbPrJ2AukdLz16OwLuj6BOEkHgYBAQCAgEBAICAQQCAgEBAIDz1tNiljzc3tIpUIYXZv+704nCISTln7bGt2b98bhZaFrcmWYcZWhEkgCrdp1Inb+xalV4UBzd1i3pyMs39GWDaTG1iKQ5HllW/5zGvUVqYL5XQ/WhYMtmbBhb0f4IxsKAkmkl6bH3yBu5c4TUSDt2TZG1biWIZCEyt1iNM6Ed45G5yA3jSgLT0yutKUIJNlW/Jg/98h9WU50qHVLVXQVK/fFOVNGGiaBJNzbZwRyrzu6I5BT6ircm5fenH2CQEAgIBAQCAgEBAICAYFAAnkl/QJZ9OYXff5+1WO3Dej6EEhpONIUTVZ/sHVAAznb+kK195IJpAS89/zd52e9Ly8wuAIpfQumji2p9eIkHQQCAgGBgEBAIFBqXOYtYvGW1pBOhTC+Ph0WTqgwIALhdB//2h4GZ59fdwzN/pVJhYUTvTItkAR67uuW2PlVt9eEvce7wxvb28KH2VgEIpBE+uy3jmhaUZYqmH91RnV0iJX780+7e/MKJKHevSP+ru3Pbm4JR9oyobUzE26+3JGoQBJq0vCy2J+v/70jujfvXWPKQ+P1TtIFknBPb8qfe7w2qzqarsk+s+TuzTuyKh0aKt11USAJt/1QV8H8xIYyg4JAepTrgRheSQfPIPTXkxtbDIJAKOabA/nXgQanXZgQCL2snTPUIAiEYsbUOi0VSB8e/7J5QJdDIJeEv09koumhg119D9jJHezZliu5DcETR6xUJsswhLCvyRsSc3wnvECg3+wuQCAgEBAICAQEAgIBgYBAQCCAQEAgIBAQCAgEBAICAYGAQEAggEDgfxiUyWSWGgaI968AAwDtOR96K//xXwAAAABJRU5ErkJggg==' width='200' height='133' class=\"itemThumbnail\">\n",
       "                       </a>\n",
       "                    </div>\n",
       "\n",
       "                    <div class=\"item_right\"     style=\"float: none; width: auto; overflow: hidden;\">\n",
       "                        <a href='https://geosaurus.maps.arcgis.com/home/item.html?id=dc96e6f66d7543409414ad1f0160d81f' target='_blank'><b>Gulf Stream Updating Notebook</b>\n",
       "                        </a>\n",
       "                        <br/><img src='https://geosaurus.maps.arcgis.com/home/js/arcgisonline/img/item-types/notebook16.svg' style=\"vertical-align:middle;\" width=16 height=16>Notebook by nparavicini_geosaurus\n",
       "                        <br/>Last Modified: July 18, 2024\n",
       "                        <br/>0 comments, 53 views\n",
       "                    </div>\n",
       "                </div>\n",
       "                "
      ],
      "text/plain": [
       "<Item title:\"Gulf Stream Updating Notebook\" type:Notebook owner:nparavicini_geosaurus>"
      ]
     },
     "execution_count": 4,
     "metadata": {},
     "output_type": "execute_result"
    }
   ],
   "source": [
    "# Get a notebook\n",
    "notebook_item = gis.content.get(\"dc96e6f66d7543409414ad1f0160d81f\")\n",
    "notebook_item"
   ]
  },
  {
   "cell_type": "code",
   "execution_count": 5,
   "id": "36839775",
   "metadata": {},
   "outputs": [],
   "source": [
    "# Create a task for the notebook\n",
    "task = task_manager.create(\n",
    "    title=\"Task_test\",\n",
    "    task_type=\"ExecuteNotebook\",\n",
    "    item=notebook_item,\n",
    "    cron=\"2 2 2 2 ?\",\n",
    ")"
   ]
  },
  {
   "cell_type": "code",
   "execution_count": 6,
   "id": "e95097df",
   "metadata": {},
   "outputs": [
    {
     "data": {
      "text/plain": [
       "<Task @ eb9303c1552d46dda6e6dcf58a2b0e7f>"
      ]
     },
     "execution_count": 6,
     "metadata": {},
     "output_type": "execute_result"
    }
   ],
   "source": [
    "task"
   ]
  },
  {
   "cell_type": "code",
   "execution_count": 7,
   "id": "ec03098a",
   "metadata": {},
   "outputs": [
    {
     "data": {
      "text/plain": [
       "{'id': 'eb9303c1552d46dda6e6dcf58a2b0e7f', 'itemId': 'dc96e6f66d7543409414ad1f0160d81f', 'type': 'ExecuteNotebook', 'title': 'Task_test', 'userId': 'nparavicini_geosaurus', 'cronSchedule': {'minute': '2', 'hour': '2', 'dayOfMonth': '2', 'month': '2', 'dayOfWeek': '?'}, 'runIntervalSeconds': 0, 'nextStart': 1738461740000, 'maxOccurrences': 10, 'created': 1721340287000, 'updated': 1721340287000, 'active': True, 'taskState': 'active'}"
      ]
     },
     "execution_count": 7,
     "metadata": {},
     "output_type": "execute_result"
    }
   ],
   "source": [
    "task.properties"
   ]
  },
  {
   "cell_type": "markdown",
   "id": "b8d07460",
   "metadata": {},
   "source": [
    "## Update the Task\n",
    "\n",
    "Now we'll update the task to do specifically what we want it to- execute once a day at a certain time. `cron` is what's used for the day/time side of this business- the first number referes to the minute, second hour, third day of the month, fourth month, fifth day of the week. The * for month equates to every month, ? means the day of the week doesn't matter, and */1 means every day of the month but only once per day."
   ]
  },
  {
   "cell_type": "code",
   "execution_count": 8,
   "id": "5d4b2490",
   "metadata": {},
   "outputs": [
    {
     "data": {
      "text/plain": [
       "True"
      ]
     },
     "execution_count": 8,
     "metadata": {},
     "output_type": "execute_result"
    }
   ],
   "source": [
    "task.update(title=\"My_UC2024_Task3\", cron=\"07 22 */1 * ?\")"
   ]
  },
  {
   "cell_type": "code",
   "execution_count": 9,
   "id": "b531e075",
   "metadata": {},
   "outputs": [
    {
     "name": "stdout",
     "output_type": "stream",
     "text": [
      "My_UC2024_Task3\n",
      "{'minute': '07', 'hour': '22', 'dayOfMonth': '*/1', 'month': '*', 'dayOfWeek': '?'}\n"
     ]
    }
   ],
   "source": [
    "print(task.properties[\"title\"])\n",
    "print(task.properties[\"cronSchedule\"])"
   ]
  },
  {
   "cell_type": "code",
   "execution_count": 10,
   "id": "d60cc70b-1adc-4b31-97c1-3605d1102c87",
   "metadata": {},
   "outputs": [
    {
     "data": {
      "text/plain": [
       "[<Task @ 154188062c57430f8b1dc261f6c69103>,\n",
       " <Task @ 7616e1a83f504c8384db56fb8c2cca83>,\n",
       " <Task @ 898c0ce13a3d473c850f233921c17529>,\n",
       " <Task @ ef37a3da51c7462991e81e0c1745281d>,\n",
       " <Task @ f02cd8001ec14a4d9f805c88082e4e77>]"
      ]
     },
     "execution_count": 10,
     "metadata": {},
     "output_type": "execute_result"
    }
   ],
   "source": [
    "task_manager.all"
   ]
  },
  {
   "cell_type": "code",
   "execution_count": 18,
   "id": "8260dd4e-a092-4ec1-8f51-3b1818d8770e",
   "metadata": {},
   "outputs": [
    {
     "data": {
      "text/plain": [
       "{'id': 'eb9303c1552d46dda6e6dcf58a2b0e7f', 'itemId': 'dc96e6f66d7543409414ad1f0160d81f', 'type': 'ExecuteNotebook', 'title': 'My_UC2024_Task3', 'userId': 'nparavicini_geosaurus', 'cronSchedule': {'minute': '07', 'hour': '22', 'dayOfMonth': '*/1', 'month': '*', 'dayOfWeek': '?'}, 'runIntervalSeconds': 0, 'nextStart': 1721340420000, 'maxOccurrences': 10, 'created': 1721340287000, 'updated': 1721340347000, 'active': True, 'taskState': 'active'}"
      ]
     },
     "execution_count": 18,
     "metadata": {},
     "output_type": "execute_result"
    }
   ],
   "source": [
    "task_manager.all[3].properties"
   ]
  },
  {
   "cell_type": "markdown",
   "id": "bb5a9e45-6082-449c-9e54-946b052e56cb",
   "metadata": {},
   "source": [
    "Now that we have this in place, it should run here shortly without us doing anything- we can refer to either our webhook or the ArcGIS Online page for confirmation that it worked as expected."
   ]
  },
  {
   "cell_type": "markdown",
   "id": "9cf85f1b",
   "metadata": {},
   "source": [
    "### Clean up"
   ]
  },
  {
   "cell_type": "code",
   "execution_count": null,
   "id": "916f9c6a",
   "metadata": {},
   "outputs": [],
   "source": [
    "task.delete()"
   ]
  },
  {
   "cell_type": "markdown",
   "id": "ab7ea258-3ece-45b3-9c4e-dd9687abfb95",
   "metadata": {},
   "source": [
    "Poof!"
   ]
  },
  {
   "cell_type": "markdown",
   "id": "22e1b4d5",
   "metadata": {},
   "source": [
    "# Look at the Doc!\n",
    "https://developers.arcgis.com/python/api-reference/arcgis.gis.tasks.html#taskmanager"
   ]
  }
 ],
 "metadata": {
  "kernelspec": {
   "display_name": "Python 3 (ipykernel)",
   "language": "python",
   "name": "python3"
  },
  "language_info": {
   "codemirror_mode": {
    "name": "ipython",
    "version": 3
   },
   "file_extension": ".py",
   "mimetype": "text/x-python",
   "name": "python",
   "nbconvert_exporter": "python",
   "pygments_lexer": "ipython3",
   "version": "3.11.9"
  }
 },
 "nbformat": 4,
 "nbformat_minor": 5
}
