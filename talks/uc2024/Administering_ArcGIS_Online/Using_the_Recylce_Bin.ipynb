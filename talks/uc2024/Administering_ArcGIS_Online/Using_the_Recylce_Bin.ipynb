{
 "cells": [
  {
   "cell_type": "markdown",
   "id": "a1828e96-bfe7-48b1-873a-385d290e6023",
   "metadata": {},
   "source": [
    "# Using the Recycle Bin"
   ]
  },
  {
   "cell_type": "markdown",
   "id": "ee72da0d-e34c-42cd-a1d3-6c4f22233236",
   "metadata": {},
   "source": [
    "### Connect to your Web GIS"
   ]
  },
  {
   "cell_type": "code",
   "execution_count": 16,
   "id": "73c16380-4052-46b4-9c1e-18be30098d54",
   "metadata": {},
   "outputs": [],
   "source": [
    "import warnings\n",
    "warnings.filterwarnings(\"ignore\", category=Warning)\n",
    "\n",
    "from arcgis.gis import GIS\n",
    "from arcgis.gis import ItemTypeEnum"
   ]
  },
  {
   "cell_type": "code",
   "execution_count": 2,
   "id": "fce6c462-8064-4c81-9ec8-455705fed2f9",
   "metadata": {},
   "outputs": [],
   "source": [
    "gis = GIS(profile=\"content_admin\")"
   ]
  },
  {
   "cell_type": "code",
   "execution_count": 3,
   "id": "118e0307-7f02-48b4-a6f5-c05235e9dbc0",
   "metadata": {
    "editable": true,
    "slideshow": {
     "slide_type": ""
    },
    "tags": []
   },
   "outputs": [],
   "source": [
    "org_admin = gis.admin"
   ]
  },
  {
   "cell_type": "markdown",
   "id": "48782e7e-9d45-478c-8e31-1054202ee9ef",
   "metadata": {},
   "source": [
    "### Get a list of items to delete"
   ]
  },
  {
   "cell_type": "code",
   "execution_count": 4,
   "id": "b9fcc372-7760-427b-8c46-64e52b9bdcf5",
   "metadata": {},
   "outputs": [
    {
     "data": {
      "text/plain": [
       "[<Item title:\"AR Zip Codes\" type:Service Definition owner:jyaist_devgeosaurus>,\n",
       " <Item title:\"AR Zip Codes\" type:Feature Layer Collection owner:jyaist_devgeosaurus>,\n",
       " <Item title:\"AR_Boundaries\" type:Shapefile owner:jyaist_devgeosaurus>,\n",
       " <Item title:\"AR_Boundaries\" type:Feature Layer Collection owner:jyaist_devgeosaurus>]"
      ]
     },
     "execution_count": 4,
     "metadata": {},
     "output_type": "execute_result"
    }
   ],
   "source": [
    "item_list = gis.content.search(\"owner:jyaist* AND title:AR*\")\n",
    "item_list"
   ]
  },
  {
   "cell_type": "markdown",
   "id": "111c4419-5c58-4988-86fd-4f93604b65b5",
   "metadata": {},
   "source": [
    "### Inspect the Recycle Bin"
   ]
  },
  {
   "cell_type": "markdown",
   "id": "1736cb4a-1f7e-4f18-8538-0d24491b7d14",
   "metadata": {},
   "source": [
    "Administrators now have the ability to recover accidentally deleted items, ensuring that no valuable data is lost. Administrators can now restore items for the entire organization, as well as individual members, further enhancing data management capabilities.\n",
    "\n",
    "The _org_recyclebin_ property on the _AGOLAdminManager_ object will allow for restoring or permenently removing items."
   ]
  },
  {
   "cell_type": "code",
   "execution_count": 5,
   "id": "48c7e923-c234-4896-a582-3fb0c7580309",
   "metadata": {},
   "outputs": [
    {
     "data": {
      "text/plain": [
       "<arcgis.gis._impl._content_manager._recyclebin.OrgRecycleBin at 0x1383c1f50>"
      ]
     },
     "execution_count": 5,
     "metadata": {},
     "output_type": "execute_result"
    }
   ],
   "source": [
    "recycle_bin = org_admin.org_recyclebin\n",
    "recycle_bin"
   ]
  },
  {
   "cell_type": "markdown",
   "id": "2e06f1c6-bce5-4a72-82e1-23369228d54d",
   "metadata": {},
   "source": [
    "The _content()_ method allows for examining it's contents, whether all at once or according to specified criteria:"
   ]
  },
  {
   "cell_type": "code",
   "execution_count": 6,
   "id": "f7d73e1f-cb85-4416-b97d-65c243e9fe13",
   "metadata": {},
   "outputs": [
    {
     "name": "stdout",
     "output_type": "stream",
     "text": [
      "Salzburg_Infrastructure_msbm       Map Service\n",
      "Salzburg_Infrastructure_msbm       Service Definition\n",
      "Untitled Notebook                  Notebook\n",
      "World Earthquakes 2009             Map Service\n",
      "World Earthquakes 2009             Service Definition\n",
      "Capitals_charts2                   Feature Service\n",
      "Capitals_mycharts                  Feature Service\n",
      "dnk_cities                         Feature Service\n",
      "gha_cities                         Feature Service\n",
      "dnk_cities                         CSV\n",
      "Ghana Urban Population Centers     Web Map\n",
      "countires with imagery             Web Map\n",
      "countires with imagery             Web Map\n",
      "NYC Inspection Map Test            Web Map\n",
      "gha_cities                         CSV\n"
     ]
    }
   ],
   "source": [
    "for ritem in recycle_bin.content():\n",
    "    print(f\"{ritem.properties['title']:35}{ritem.properties['type']}\")"
   ]
  },
  {
   "cell_type": "markdown",
   "id": "03ec3706-277a-4fe4-8086-0b43704a5020",
   "metadata": {},
   "source": [
    "The method allows for specifying the types of _items_ returned and how they are returned:"
   ]
  },
  {
   "cell_type": "code",
   "execution_count": 7,
   "id": "fc75620e-7bfd-49f5-b9b4-0f4c3e9d3a8b",
   "metadata": {},
   "outputs": [],
   "source": [
    "rbin_gen = recycle_bin.content(\n",
    "    item_types=[\n",
    "        ItemTypeEnum.FEATURE_SERVICE, \n",
    "        ItemTypeEnum.WEB_MAP\n",
    "    ],\n",
    "    sort_order=\"desc\",\n",
    "    sort_field=\"size\"\n",
    ")"
   ]
  },
  {
   "cell_type": "code",
   "execution_count": 8,
   "id": "d5c7a513-6612-401d-bcab-5486b58d2674",
   "metadata": {},
   "outputs": [
    {
     "name": "stdout",
     "output_type": "stream",
     "text": [
      "Capitals_charts2                        Feature Service     73728\n",
      "Capitals_mycharts                       Feature Service     73728\n",
      "dnk_cities                              Feature Service     65536\n",
      "gha_cities                              Feature Service     32768\n",
      "Ghana Urban Population Centers          Web Map             3931\n",
      "countires with imagery                  Web Map             3632\n",
      "countires with imagery                  Web Map             3632\n",
      "NYC Inspection Map Test                 Web Map             2400\n"
     ]
    }
   ],
   "source": [
    "for r in rbin_gen:\n",
    "    print(f\"{r.properties['title']:40}{r.properties['type']:20}{r.properties['size']}\")"
   ]
  },
  {
   "cell_type": "markdown",
   "id": "6d6e5244-cea1-473d-8aeb-606d0fb38d0c",
   "metadata": {},
   "source": [
    "### Deleting Items: Recycle or Not"
   ]
  },
  {
   "cell_type": "code",
   "execution_count": 9,
   "id": "cdae8ecc-d36f-426b-a4fb-263566a3a780",
   "metadata": {},
   "outputs": [],
   "source": [
    "for item in item_list:\n",
    "    if \"Boundaries\" in item.title:\n",
    "        item.delete(permanent=True)\n",
    "    else:\n",
    "        item.delete()"
   ]
  },
  {
   "cell_type": "code",
   "execution_count": 10,
   "id": "90f2e64b-0eac-4a92-9c67-055f528501f9",
   "metadata": {},
   "outputs": [
    {
     "data": {
      "text/plain": [
       "[<Item title:\"Offline area for Poly India\" type:Map Area owner:cpeng_devgeosaurus>,\n",
       " <Item title:\"Equitable Property Value\" type:Hub Initiative owner:devandrew>,\n",
       " <Item title:\"Offline area for Poly India\" type:Map Area owner:cpeng_devgeosaurus>,\n",
       " <Item title:\"Offline area for Poly France\" type:Map Area owner:cpeng_devgeosaurus>,\n",
       " <Item title:\"Natural Disasters (FC only) Collection\" type:Web Map owner:devnparavicini>,\n",
       " <Item title:\"USA_counties_divorce_rate\" type:Tile Package owner:devandrew>,\n",
       " <Item title:\"USA_counties_divorce_rate\" type:Map Image Layer owner:devandrew>,\n",
       " <Item title:\"mytiles\" type:Map Image Layer owner:devandrew>,\n",
       " <Item title:\"countries\" type:Feature Layer Collection owner:cpeng_devgeosaurus>,\n",
       " <Item title:\"Offline area for Poly India\" type:Map Area owner:cpeng_devgeosaurus>]"
      ]
     },
     "execution_count": 10,
     "metadata": {},
     "output_type": "execute_result"
    }
   ],
   "source": [
    "gis.content.search(\"AR*\")"
   ]
  },
  {
   "cell_type": "code",
   "execution_count": 11,
   "id": "41f986c2-6c17-4d0e-ae19-b90d2c31a910",
   "metadata": {},
   "outputs": [
    {
     "name": "stdout",
     "output_type": "stream",
     "text": [
      "Salzburg_Infrastructure_msbm       Map Service\n",
      "Salzburg_Infrastructure_msbm       Service Definition\n",
      "AR Zip Codes                       Feature Service\n",
      "AR Zip Codes                       Service Definition\n",
      "Untitled Notebook                  Notebook\n",
      "World Earthquakes 2009             Service Definition\n",
      "World Earthquakes 2009             Map Service\n",
      "Capitals_mycharts                  Feature Service\n",
      "Capitals_charts2                   Feature Service\n",
      "dnk_cities                         Feature Service\n",
      "gha_cities                         Feature Service\n",
      "dnk_cities                         CSV\n",
      "Ghana Urban Population Centers     Web Map\n",
      "countires with imagery             Web Map\n",
      "countires with imagery             Web Map\n",
      "NYC Inspection Map Test            Web Map\n",
      "gha_cities                         CSV\n"
     ]
    }
   ],
   "source": [
    "for ritem in recycle_bin.content():\n",
    "    print(f\"{ritem.properties['title']:35}{ritem.properties['type']}\")"
   ]
  },
  {
   "cell_type": "markdown",
   "id": "15f5cb5f-0bea-4ea9-bff1-712ba8389630",
   "metadata": {},
   "source": [
    "### Restore item"
   ]
  },
  {
   "cell_type": "code",
   "execution_count": 12,
   "id": "ce403dfc-9662-45ac-932f-d0768277aa52",
   "metadata": {},
   "outputs": [],
   "source": [
    "restoring_items = [\n",
    "    ri \n",
    "    for ri in recycle_bin.content() \n",
    "    if \"AR\" in ri.properties['title']\n",
    "]"
   ]
  },
  {
   "cell_type": "code",
   "execution_count": 13,
   "id": "895a3286-9e74-4cfa-b7d1-fa58d5f7b7ce",
   "metadata": {},
   "outputs": [
    {
     "data": {
      "text/plain": [
       "[< RecycleItem: title:AR Zip Codes type:Feature Service >,\n",
       " < RecycleItem: title:AR Zip Codes type:Service Definition >]"
      ]
     },
     "execution_count": 13,
     "metadata": {},
     "output_type": "execute_result"
    }
   ],
   "source": [
    "restoring_items"
   ]
  },
  {
   "cell_type": "code",
   "execution_count": 14,
   "id": "cebe3dc3-2b10-4716-b5ad-78f5361ffe92",
   "metadata": {},
   "outputs": [],
   "source": [
    "for ar_item in restoring_items:\n",
    "    ar_item.restore()"
   ]
  },
  {
   "cell_type": "code",
   "execution_count": 15,
   "id": "c3e5ad30-9a43-4bf5-88f3-82e7ca3123c6",
   "metadata": {},
   "outputs": [
    {
     "data": {
      "text/plain": [
       "[<Item title:\"Offline area for Poly India\" type:Map Area owner:cpeng_devgeosaurus>,\n",
       " <Item title:\"AR Zip Codes\" type:Feature Layer Collection owner:jyaist_devgeosaurus>,\n",
       " <Item title:\"Equitable Property Value\" type:Hub Initiative owner:devandrew>,\n",
       " <Item title:\"Offline area for Poly India\" type:Map Area owner:cpeng_devgeosaurus>,\n",
       " <Item title:\"Offline area for Poly France\" type:Map Area owner:cpeng_devgeosaurus>,\n",
       " <Item title:\"Natural Disasters (FC only) Collection\" type:Web Map owner:devnparavicini>,\n",
       " <Item title:\"USA_counties_divorce_rate\" type:Tile Package owner:devandrew>,\n",
       " <Item title:\"USA_counties_divorce_rate\" type:Map Image Layer owner:devandrew>,\n",
       " <Item title:\"mytiles\" type:Map Image Layer owner:devandrew>,\n",
       " <Item title:\"countries\" type:Feature Layer Collection owner:cpeng_devgeosaurus>]"
      ]
     },
     "execution_count": 15,
     "metadata": {},
     "output_type": "execute_result"
    }
   ],
   "source": [
    "gis.content.search(\"AR*\")"
   ]
  }
 ],
 "metadata": {
  "kernelspec": {
   "display_name": "Python 3 (ipykernel)",
   "language": "python",
   "name": "python3"
  },
  "language_info": {
   "codemirror_mode": {
    "name": "ipython",
    "version": 3
   },
   "file_extension": ".py",
   "mimetype": "text/x-python",
   "name": "python",
   "nbconvert_exporter": "python",
   "pygments_lexer": "ipython3",
   "version": "3.11.0"
  }
 },
 "nbformat": 4,
 "nbformat_minor": 5
}
