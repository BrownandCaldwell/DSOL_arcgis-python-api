{
 "cells": [
  {
   "cell_type": "markdown",
   "id": "9b45648d",
   "metadata": {},
   "source": [
    "     "
   ]
  },
  {
   "cell_type": "markdown",
   "id": "ed38c886-9c78-4454-851c-575d168518c9",
   "metadata": {},
   "source": [
    "### Setup"
   ]
  },
  {
   "cell_type": "code",
   "execution_count": 1,
   "id": "85dd8de4",
   "metadata": {},
   "outputs": [
    {
     "data": {
      "text/html": [
       "<style>.container { width:90% !important; }</style>"
      ],
      "text/plain": [
       "<IPython.core.display.HTML object>"
      ]
     },
     "metadata": {},
     "output_type": "display_data"
    }
   ],
   "source": [
    "from IPython.display import display, HTML\n",
    "display(HTML(\"<style>.container { width:90% !important; }</style>\"))"
   ]
  },
  {
   "cell_type": "code",
   "execution_count": 48,
   "id": "5eaff073-51c8-4b8d-aa08-b293337db30f",
   "metadata": {},
   "outputs": [],
   "source": [
    "import pandas as pd\n",
    "\n",
    "pd.set_option(\"display.max_colwidth\", 100)\n",
    "pd.set_option(\"display.max_rows\", 999)\n",
    "pd.set_option(\"display.max_columns\", 500)\n",
    "pd.set_option(\"display.width\",200)"
   ]
  },
  {
   "cell_type": "markdown",
   "id": "1e36b4b1",
   "metadata": {},
   "source": [
    "### Connect to Web GIS "
   ]
  },
  {
   "cell_type": "markdown",
   "id": "fa2bc9c0",
   "metadata": {},
   "source": [
    "<img src=\"./img/licensing.jpg\" />"
   ]
  },
  {
   "cell_type": "code",
   "execution_count": 3,
   "id": "e7a9c5aa-92cd-4e88-b350-c421bf164c2c",
   "metadata": {},
   "outputs": [],
   "source": [
    "import warnings \n",
    "warnings.filterwarnings(\"ignore\", category=Warning)"
   ]
  },
  {
   "cell_type": "code",
   "execution_count": 4,
   "id": "2dcf0bae",
   "metadata": {
    "editable": true,
    "slideshow": {
     "slide_type": ""
    },
    "tags": []
   },
   "outputs": [],
   "source": [
    "from arcgis.gis import GIS\n",
    "gis = GIS(profile=\"your_online_admin_profile\")\n",
    "um = gis.users"
   ]
  },
  {
   "cell_type": "markdown",
   "id": "6bec9cbb",
   "metadata": {
    "editable": true,
    "slideshow": {
     "slide_type": ""
    },
    "tags": []
   },
   "source": [
    "## Managing Named User Licenses and Entitlements"
   ]
  },
  {
   "cell_type": "markdown",
   "id": "40038862",
   "metadata": {},
   "source": [
    "#### Use LicenseManager to list all organization licenses"
   ]
  },
  {
   "cell_type": "code",
   "execution_count": 5,
   "id": "496f726c",
   "metadata": {},
   "outputs": [
    {
     "data": {
      "text/plain": [
       "[<ArcGIS Survey123 License @ https://geosaurus.maps.arcgis.com/sharing/rest/ >,\n",
       " <ArcGIS Insights License @ https://geosaurus.maps.arcgis.com/sharing/rest/ >,\n",
       " <Esri Redistricting License @ https://geosaurus.maps.arcgis.com/sharing/rest/ >,\n",
       " <ArcGIS Pro License @ https://geosaurus.maps.arcgis.com/sharing/rest/ >,\n",
       " <ArcGIS Drone2Map License @ https://geosaurus.maps.arcgis.com/sharing/rest/ >,\n",
       " <ArcGIS Image Hosting License @ https://geosaurus.maps.arcgis.com/sharing/rest/ >,\n",
       " <ArcGIS GeoBIM License @ https://geosaurus.maps.arcgis.com/sharing/rest/ >,\n",
       " <ArcGIS for Power BI License @ https://geosaurus.maps.arcgis.com/sharing/rest/ >,\n",
       " <ArcGIS GeoPlanner License @ https://geosaurus.maps.arcgis.com/sharing/rest/ >,\n",
       " <ArcGIS AppStudio License @ https://geosaurus.maps.arcgis.com/sharing/rest/ >,\n",
       " <Workflow Manager License @ https://geosaurus.maps.arcgis.com/sharing/rest/ >,\n",
       " <ArcGIS Drone2Map License @ https://geosaurus.maps.arcgis.com/sharing/rest/ >,\n",
       " <ArcGIS Workforce License @ https://geosaurus.maps.arcgis.com/sharing/rest/ >,\n",
       " <ArcGIS Community Analyst License @ https://geosaurus.maps.arcgis.com/sharing/rest/ >,\n",
       " <Runtime Analysis  License @ https://geosaurus.maps.arcgis.com/sharing/rest/ >,\n",
       " <ArcGIS Navigator License @ https://geosaurus.maps.arcgis.com/sharing/rest/ >,\n",
       " <ArcGIS Field Maps License @ https://geosaurus.maps.arcgis.com/sharing/rest/ >,\n",
       " <ArcGIS Collector License @ https://geosaurus.maps.arcgis.com/sharing/rest/ >,\n",
       " <ArcGIS Tracker License @ https://geosaurus.maps.arcgis.com/sharing/rest/ >,\n",
       " <ArcGIS Location Sharing License @ https://geosaurus.maps.arcgis.com/sharing/rest/ >,\n",
       " <ArcGIS Business Analyst Web and Mobile Apps License @ https://geosaurus.maps.arcgis.com/sharing/rest/ >,\n",
       " <ArcGIS CityEngine License @ https://geosaurus.maps.arcgis.com/sharing/rest/ >]"
      ]
     },
     "execution_count": 5,
     "metadata": {},
     "output_type": "execute_result"
    }
   ],
   "source": [
    "%%capture --no-stdout --no-display\n",
    "\n",
    "license_list = gis.admin.license.all()\n",
    "license_list"
   ]
  },
  {
   "cell_type": "code",
   "execution_count": 6,
   "id": "d3220ad3-9ddd-4781-bb9a-10601b56a8f8",
   "metadata": {},
   "outputs": [
    {
     "data": {
      "text/plain": [
       "arcgis.gis.admin._license.License"
      ]
     },
     "execution_count": 6,
     "metadata": {},
     "output_type": "execute_result"
    }
   ],
   "source": [
    "type(license_list[0])"
   ]
  },
  {
   "cell_type": "code",
   "execution_count": 7,
   "id": "0765b8af-718d-4a60-ab26-3d58fe3b0ac6",
   "metadata": {},
   "outputs": [
    {
     "data": {
      "text/plain": [
       "['ArcGIS Survey123',\n",
       " 'ArcGIS Insights',\n",
       " 'Esri Redistricting',\n",
       " 'ArcGIS Pro',\n",
       " 'ArcGIS Drone2Map',\n",
       " 'ArcGIS Image Hosting',\n",
       " 'ArcGIS GeoBIM',\n",
       " 'ArcGIS for Power BI',\n",
       " 'ArcGIS GeoPlanner',\n",
       " 'ArcGIS AppStudio',\n",
       " 'Workflow Manager',\n",
       " 'ArcGIS Drone2Map',\n",
       " 'ArcGIS Workforce',\n",
       " 'ArcGIS Community Analyst',\n",
       " 'Runtime Analysis ',\n",
       " 'ArcGIS Navigator',\n",
       " 'ArcGIS Field Maps',\n",
       " 'ArcGIS Collector',\n",
       " 'ArcGIS Tracker',\n",
       " 'ArcGIS Location Sharing',\n",
       " 'ArcGIS Business Analyst Web and Mobile Apps',\n",
       " 'ArcGIS CityEngine']"
      ]
     },
     "execution_count": 7,
     "metadata": {},
     "output_type": "execute_result"
    }
   ],
   "source": [
    "[lic.properties.listing[\"title\"] for lic in license_list]"
   ]
  },
  {
   "cell_type": "markdown",
   "id": "d7812879",
   "metadata": {},
   "source": [
    "#### Get a Single License with get() method"
   ]
  },
  {
   "cell_type": "code",
   "execution_count": 8,
   "id": "fc211589",
   "metadata": {},
   "outputs": [
    {
     "data": {
      "text/plain": [
       "<ArcGIS Pro License @ https://geosaurus.maps.arcgis.com/sharing/rest/ >"
      ]
     },
     "execution_count": 8,
     "metadata": {},
     "output_type": "execute_result"
    }
   ],
   "source": [
    "%%capture --no-stdout --no-display\n",
    "\n",
    "pro_license = gis.admin.license.get(\"ArcGIS Pro\")\n",
    "pro_license"
   ]
  },
  {
   "cell_type": "markdown",
   "id": "120e7802",
   "metadata": {},
   "source": [
    "##### Investigate who has licenses"
   ]
  },
  {
   "cell_type": "markdown",
   "id": "b3598b80-6073-4493-b8f8-ad95b70aa94e",
   "metadata": {},
   "source": [
    "The _all()_ method returns all users in the organization assigned the license:"
   ]
  },
  {
   "cell_type": "code",
   "execution_count": 9,
   "id": "2de6ad6c-9de5-496c-9fab-869de43fd3f0",
   "metadata": {},
   "outputs": [
    {
     "data": {
      "text/plain": [
       "20"
      ]
     },
     "execution_count": 9,
     "metadata": {},
     "output_type": "execute_result"
    }
   ],
   "source": [
    "len(pro_license.all())"
   ]
  },
  {
   "cell_type": "markdown",
   "id": "8bf066cc-0bcb-4a92-b374-e0e2ea194e5f",
   "metadata": {},
   "source": [
    "Return a dictionary of properties for an individual user license:"
   ]
  },
  {
   "cell_type": "code",
   "execution_count": 10,
   "id": "9540c604",
   "metadata": {},
   "outputs": [
    {
     "data": {
      "text/plain": [
       "{'username': 'R_ArcGIS_UC2024',\n",
       " 'lastLogin': -1,\n",
       " 'disconnected': False,\n",
       " 'entitlements': ['3DAnalystN',\n",
       "  'desktopAdvN',\n",
       "  'geostatAnalystN',\n",
       "  'imageAnalystN',\n",
       "  'networkAnalystN',\n",
       "  'spatialAnalystN']}"
      ]
     },
     "execution_count": 10,
     "metadata": {},
     "output_type": "execute_result"
    }
   ],
   "source": [
    "pro_license.all()[14]"
   ]
  },
  {
   "cell_type": "markdown",
   "id": "d3eef341-9a58-4273-a346-01c706b49253",
   "metadata": {},
   "source": [
    "#### Inspect one user's Pro licensing"
   ]
  },
  {
   "cell_type": "markdown",
   "id": "0a5a337f-7a42-4881-b62d-2dba6cddead0",
   "metadata": {},
   "source": [
    "Get a list of _username_ values from the license list. Methods of the _license_ object can take _User_ objects or _username_ strings as input:"
   ]
  },
  {
   "cell_type": "code",
   "execution_count": 11,
   "id": "5b6c64b3",
   "metadata": {},
   "outputs": [
    {
     "data": {
      "text/plain": [
       "['amolina2023',\n",
       " 'andrew57',\n",
       " 'ArcGISPyAPIBot',\n",
       " 'arcgis_python',\n",
       " 'bmajor_geosaurus',\n",
       " 'dev_summit_24',\n",
       " 'jyaist_geosaurus',\n",
       " 'MMajumdar_geosaurus',\n",
       " 'naubry_geosaurus',\n",
       " 'NGiner_geosaurus',\n",
       " 'nparavicini_geosaurus',\n",
       " 'ptuteja_geosaurus',\n",
       " 'pythondemo',\n",
       " 'rsingh_geosaurus',\n",
       " 'R_ArcGIS_UC2024',\n",
       " 'sfoss_geosaurus',\n",
       " 'ssong_geosaurus',\n",
       " 'tiles_publisher_1',\n",
       " 'tkukreja_geosaurus',\n",
       " 'UC_2024_User']"
      ]
     },
     "execution_count": 11,
     "metadata": {},
     "output_type": "execute_result"
    }
   ],
   "source": [
    "[l[\"username\"] for l in pro_license.all()]"
   ]
  },
  {
   "cell_type": "markdown",
   "id": "6b5aae43-49a3-4946-84dd-d48374caacae",
   "metadata": {},
   "source": [
    "The _check()_ method returns the entitlements (extensions) of the license assigned to a user."
   ]
  },
  {
   "cell_type": "code",
   "execution_count": 12,
   "id": "4cb28302-a611-4853-83ea-a9b425b8aad2",
   "metadata": {},
   "outputs": [
    {
     "data": {
      "text/plain": [
       "['desktopBasicN',\n",
       " '3DAnalystN',\n",
       " 'desktopAdvN',\n",
       " 'spatialAnalystN',\n",
       " 'imageAnalystN']"
      ]
     },
     "execution_count": 12,
     "metadata": {},
     "output_type": "execute_result"
    }
   ],
   "source": [
    "pro_license.check(user=\"jyaist_geosaurus\")"
   ]
  },
  {
   "cell_type": "markdown",
   "id": "8b771cac-9f46-4a56-8084-160fa8115cf6",
   "metadata": {},
   "source": [
    "The _user_entitilements()_ method returns additional properties in addition to the list of entitlements assigned to a user:"
   ]
  },
  {
   "cell_type": "code",
   "execution_count": 13,
   "id": "11b08ac0-3410-4758-952d-5ee95b151588",
   "metadata": {},
   "outputs": [
    {
     "data": {
      "text/plain": [
       "{'username': 'jyaist_geosaurus',\n",
       " 'lastLogin': 1721161165000,\n",
       " 'disconnected': False,\n",
       " 'entitlements': ['3DAnalystN',\n",
       "  'desktopAdvN',\n",
       "  'desktopBasicN',\n",
       "  'imageAnalystN',\n",
       "  'spatialAnalystN']}"
      ]
     },
     "execution_count": 13,
     "metadata": {},
     "output_type": "execute_result"
    }
   ],
   "source": [
    "pro_license.user_entitlement(\"jyaist_geosaurus\")"
   ]
  },
  {
   "cell_type": "markdown",
   "id": "1dae739a",
   "metadata": {},
   "source": [
    "#### Revoke the License"
   ]
  },
  {
   "cell_type": "code",
   "execution_count": 14,
   "id": "d13d451a-7fe1-4ce6-bffa-fc0af74da13b",
   "metadata": {},
   "outputs": [
    {
     "data": {
      "text/plain": [
       "True"
      ]
     },
     "execution_count": 14,
     "metadata": {},
     "output_type": "execute_result"
    }
   ],
   "source": [
    "pro_license.revoke(\n",
    "    username=\"jyaist_geosaurus\",\n",
    "    entitlements=[\n",
    "        \"imageAnalystN\",\n",
    "        \"spatialAnalystN\",\n",
    "    ]\n",
    ")"
   ]
  },
  {
   "cell_type": "markdown",
   "id": "e259de62",
   "metadata": {},
   "source": [
    "#### Assign Licenses to a User"
   ]
  },
  {
   "cell_type": "code",
   "execution_count": 15,
   "id": "b5912713-ec11-4d8d-a22e-395e656fb4ed",
   "metadata": {},
   "outputs": [
    {
     "data": {
      "text/plain": [
       "['3DAnalystN', 'desktopAdvN', 'desktopBasicN']"
      ]
     },
     "execution_count": 15,
     "metadata": {},
     "output_type": "execute_result"
    }
   ],
   "source": [
    "current = pro_license.user_entitlement(\n",
    "    \"jyaist_geosaurus\"\n",
    ")[\"entitlements\"]\n",
    "current"
   ]
  },
  {
   "cell_type": "code",
   "execution_count": 16,
   "id": "3e995c1d",
   "metadata": {},
   "outputs": [
    {
     "data": {
      "text/plain": [
       "True"
      ]
     },
     "execution_count": 16,
     "metadata": {},
     "output_type": "execute_result"
    }
   ],
   "source": [
    "pro_license.assign(\n",
    "        username=\"jyaist_geosaurus\",\n",
    "        entitlements=current + [\n",
    "            \"imageAnalystN\",\n",
    "            \"spatialAnalystN\",\n",
    "            \"smpAsiaPacificN\",\n",
    "            \"smpEuropeN\",\n",
    "            \"smpLAmericaN\",\n",
    "            \"smpMidEAfricaN\",\n",
    "            \"smpNAmericaN\",\n",
    "        ],\n",
    "    )"
   ]
  },
  {
   "cell_type": "code",
   "execution_count": 17,
   "id": "f17d5ca4-adf4-4105-bf0c-04e4204442b2",
   "metadata": {},
   "outputs": [
    {
     "data": {
      "text/plain": [
       "{'username': 'jyaist_geosaurus',\n",
       " 'lastLogin': 1721161165000,\n",
       " 'disconnected': False,\n",
       " 'entitlements': ['3DAnalystN',\n",
       "  'desktopAdvN',\n",
       "  'desktopBasicN',\n",
       "  'imageAnalystN',\n",
       "  'smpAsiaPacificN',\n",
       "  'smpEuropeN',\n",
       "  'smpLAmericaN',\n",
       "  'smpMidEAfricaN',\n",
       "  'smpNAmericaN',\n",
       "  'spatialAnalystN']}"
      ]
     },
     "execution_count": 17,
     "metadata": {},
     "output_type": "execute_result"
    }
   ],
   "source": [
    "pro_license.user_entitlement(\"jyaist_geosaurus\")"
   ]
  },
  {
   "cell_type": "markdown",
   "id": "e901a831",
   "metadata": {},
   "source": [
    "#### Plotting and Reporting on Licenses"
   ]
  },
  {
   "cell_type": "markdown",
   "id": "49e4ccb8-59ce-42d4-a988-2ae31379ebac",
   "metadata": {},
   "source": [
    "The _plot()_ and _report()_ methods provide visualization and status reporting options."
   ]
  },
  {
   "cell_type": "code",
   "execution_count": 18,
   "id": "bef9cf45-3b89-4fb7-b9c1-84483c54e3fa",
   "metadata": {},
   "outputs": [
    {
     "data": {
      "text/plain": [
       "<matplotlib.legend.Legend at 0x13a302fd0>"
      ]
     },
     "execution_count": 18,
     "metadata": {},
     "output_type": "execute_result"
    },
    {
     "data": {
      "image/png": "[encoded data removed]",
      "text/plain": [
       "<Figure size 640x480 with 1 Axes>"
      ]
     },
     "metadata": {},
     "output_type": "display_data"
    }
   ],
   "source": [
    "pro_license.plot()"
   ]
  },
  {
   "cell_type": "code",
   "execution_count": 19,
   "id": "fd0999fb-3cb7-45c2-a556-be17ed874b55",
   "metadata": {},
   "outputs": [
    {
     "data": {
      "text/html": [
       "<div>\n",
       "<style scoped>\n",
       "    .dataframe tbody tr th:only-of-type {\n",
       "        vertical-align: middle;\n",
       "    }\n",
       "\n",
       "    .dataframe tbody tr th {\n",
       "        vertical-align: top;\n",
       "    }\n",
       "\n",
       "    .dataframe thead th {\n",
       "        text-align: right;\n",
       "    }\n",
       "</style>\n",
       "<table border=\"1\" class=\"dataframe\">\n",
       "  <thead>\n",
       "    <tr style=\"text-align: right;\">\n",
       "      <th></th>\n",
       "      <th>Entitlement</th>\n",
       "      <th>Total</th>\n",
       "      <th>Assigned</th>\n",
       "      <th>Remaining</th>\n",
       "      <th>Users</th>\n",
       "    </tr>\n",
       "  </thead>\n",
       "  <tbody>\n",
       "    <tr>\n",
       "      <th>0</th>\n",
       "      <td>3DAnalystN</td>\n",
       "      <td>220</td>\n",
       "      <td>11</td>\n",
       "      <td>209</td>\n",
       "      <td>[{'user': 'amolina2023', 'lastUsed': None}, {'user': 'arcgis_python', 'lastUsed': 'July 02, 2024...</td>\n",
       "    </tr>\n",
       "    <tr>\n",
       "      <th>1</th>\n",
       "      <td>airportsN</td>\n",
       "      <td>220</td>\n",
       "      <td>3</td>\n",
       "      <td>217</td>\n",
       "      <td>[{'user': 'ptuteja_geosaurus', 'lastUsed': None}, {'user': 'pythondemo', 'lastUsed': None}, {'us...</td>\n",
       "    </tr>\n",
       "    <tr>\n",
       "      <th>2</th>\n",
       "      <td>aviationN</td>\n",
       "      <td>220</td>\n",
       "      <td>3</td>\n",
       "      <td>217</td>\n",
       "      <td>[{'user': 'ptuteja_geosaurus', 'lastUsed': None}, {'user': 'pythondemo', 'lastUsed': None}, {'us...</td>\n",
       "    </tr>\n",
       "    <tr>\n",
       "      <th>3</th>\n",
       "      <td>bathymetryN</td>\n",
       "      <td>220</td>\n",
       "      <td>5</td>\n",
       "      <td>215</td>\n",
       "      <td>[{'user': 'amolina2023', 'lastUsed': None}, {'user': 'arcgis_python', 'lastUsed': 'July 02, 2024...</td>\n",
       "    </tr>\n",
       "    <tr>\n",
       "      <th>4</th>\n",
       "      <td>businessStdN</td>\n",
       "      <td>220</td>\n",
       "      <td>10</td>\n",
       "      <td>210</td>\n",
       "      <td>[{'user': 'amolina2023', 'lastUsed': None}, {'user': 'andrew57', 'lastUsed': 'April 18, 2024'}, ...</td>\n",
       "    </tr>\n",
       "    <tr>\n",
       "      <th>5</th>\n",
       "      <td>dataInteropN</td>\n",
       "      <td>220</td>\n",
       "      <td>7</td>\n",
       "      <td>213</td>\n",
       "      <td>[{'user': 'amolina2023', 'lastUsed': None}, {'user': 'arcgis_python', 'lastUsed': 'July 02, 2024...</td>\n",
       "    </tr>\n",
       "    <tr>\n",
       "      <th>6</th>\n",
       "      <td>dataReviewerN</td>\n",
       "      <td>220</td>\n",
       "      <td>7</td>\n",
       "      <td>213</td>\n",
       "      <td>[{'user': 'amolina2023', 'lastUsed': None}, {'user': 'arcgis_python', 'lastUsed': 'July 02, 2024...</td>\n",
       "    </tr>\n",
       "    <tr>\n",
       "      <th>7</th>\n",
       "      <td>defenseN</td>\n",
       "      <td>220</td>\n",
       "      <td>3</td>\n",
       "      <td>217</td>\n",
       "      <td>[{'user': 'ptuteja_geosaurus', 'lastUsed': None}, {'user': 'pythondemo', 'lastUsed': None}, {'us...</td>\n",
       "    </tr>\n",
       "    <tr>\n",
       "      <th>8</th>\n",
       "      <td>desktopAdvN</td>\n",
       "      <td>220</td>\n",
       "      <td>17</td>\n",
       "      <td>203</td>\n",
       "      <td>[{'user': 'amolina2023', 'lastUsed': None}, {'user': 'andrew57', 'lastUsed': 'April 18, 2024'}, ...</td>\n",
       "    </tr>\n",
       "    <tr>\n",
       "      <th>9</th>\n",
       "      <td>desktopBasicN</td>\n",
       "      <td>220</td>\n",
       "      <td>1</td>\n",
       "      <td>219</td>\n",
       "      <td>[{'user': 'jyaist_geosaurus', 'lastUsed': 'July 16, 2024'}]</td>\n",
       "    </tr>\n",
       "    <tr>\n",
       "      <th>10</th>\n",
       "      <td>desktopStdN</td>\n",
       "      <td>220</td>\n",
       "      <td>0</td>\n",
       "      <td>220</td>\n",
       "      <td>[]</td>\n",
       "    </tr>\n",
       "    <tr>\n",
       "      <th>11</th>\n",
       "      <td>geostatAnalystN</td>\n",
       "      <td>220</td>\n",
       "      <td>10</td>\n",
       "      <td>210</td>\n",
       "      <td>[{'user': 'amolina2023', 'lastUsed': None}, {'user': 'arcgis_python', 'lastUsed': 'July 02, 2024...</td>\n",
       "    </tr>\n",
       "    <tr>\n",
       "      <th>12</th>\n",
       "      <td>imageAnalystN</td>\n",
       "      <td>220</td>\n",
       "      <td>11</td>\n",
       "      <td>209</td>\n",
       "      <td>[{'user': 'amolina2023', 'lastUsed': None}, {'user': 'arcgis_python', 'lastUsed': 'July 02, 2024...</td>\n",
       "    </tr>\n",
       "    <tr>\n",
       "      <th>13</th>\n",
       "      <td>indoorsN</td>\n",
       "      <td>110</td>\n",
       "      <td>1</td>\n",
       "      <td>109</td>\n",
       "      <td>[{'user': 'ssong_geosaurus', 'lastUsed': 'March 21, 2024'}]</td>\n",
       "    </tr>\n",
       "    <tr>\n",
       "      <th>14</th>\n",
       "      <td>locateXTN</td>\n",
       "      <td>220</td>\n",
       "      <td>4</td>\n",
       "      <td>216</td>\n",
       "      <td>[{'user': 'NGiner_geosaurus', 'lastUsed': 'July 16, 2024'}, {'user': 'ptuteja_geosaurus', 'lastU...</td>\n",
       "    </tr>\n",
       "    <tr>\n",
       "      <th>15</th>\n",
       "      <td>LocRefDesktopN</td>\n",
       "      <td>220</td>\n",
       "      <td>3</td>\n",
       "      <td>217</td>\n",
       "      <td>[{'user': 'ptuteja_geosaurus', 'lastUsed': None}, {'user': 'pythondemo', 'lastUsed': None}, {'us...</td>\n",
       "    </tr>\n",
       "    <tr>\n",
       "      <th>16</th>\n",
       "      <td>maritimeN</td>\n",
       "      <td>220</td>\n",
       "      <td>3</td>\n",
       "      <td>217</td>\n",
       "      <td>[{'user': 'ptuteja_geosaurus', 'lastUsed': None}, {'user': 'pythondemo', 'lastUsed': None}, {'us...</td>\n",
       "    </tr>\n",
       "    <tr>\n",
       "      <th>17</th>\n",
       "      <td>networkAnalystN</td>\n",
       "      <td>220</td>\n",
       "      <td>10</td>\n",
       "      <td>210</td>\n",
       "      <td>[{'user': 'amolina2023', 'lastUsed': None}, {'user': 'arcgis_python', 'lastUsed': 'July 02, 2024...</td>\n",
       "    </tr>\n",
       "    <tr>\n",
       "      <th>18</th>\n",
       "      <td>productionMapN</td>\n",
       "      <td>220</td>\n",
       "      <td>4</td>\n",
       "      <td>216</td>\n",
       "      <td>[{'user': 'ptuteja_geosaurus', 'lastUsed': None}, {'user': 'pythondemo', 'lastUsed': None}, {'us...</td>\n",
       "    </tr>\n",
       "    <tr>\n",
       "      <th>19</th>\n",
       "      <td>publisherN</td>\n",
       "      <td>220</td>\n",
       "      <td>7</td>\n",
       "      <td>213</td>\n",
       "      <td>[{'user': 'amolina2023', 'lastUsed': None}, {'user': 'arcgis_python', 'lastUsed': 'July 02, 2024...</td>\n",
       "    </tr>\n",
       "    <tr>\n",
       "      <th>20</th>\n",
       "      <td>smpAsiaPacificN</td>\n",
       "      <td>220</td>\n",
       "      <td>6</td>\n",
       "      <td>214</td>\n",
       "      <td>[{'user': 'andrew57', 'lastUsed': 'April 18, 2024'}, {'user': 'bmajor_geosaurus', 'lastUsed': No...</td>\n",
       "    </tr>\n",
       "    <tr>\n",
       "      <th>21</th>\n",
       "      <td>smpEuropeN</td>\n",
       "      <td>220</td>\n",
       "      <td>6</td>\n",
       "      <td>214</td>\n",
       "      <td>[{'user': 'andrew57', 'lastUsed': 'April 18, 2024'}, {'user': 'bmajor_geosaurus', 'lastUsed': No...</td>\n",
       "    </tr>\n",
       "    <tr>\n",
       "      <th>22</th>\n",
       "      <td>smpLAmericaN</td>\n",
       "      <td>110</td>\n",
       "      <td>3</td>\n",
       "      <td>107</td>\n",
       "      <td>[{'user': 'andrew57', 'lastUsed': 'April 18, 2024'}, {'user': 'jyaist_geosaurus', 'lastUsed': 'J...</td>\n",
       "    </tr>\n",
       "    <tr>\n",
       "      <th>23</th>\n",
       "      <td>smpMidEAfricaN</td>\n",
       "      <td>220</td>\n",
       "      <td>6</td>\n",
       "      <td>214</td>\n",
       "      <td>[{'user': 'andrew57', 'lastUsed': 'April 18, 2024'}, {'user': 'bmajor_geosaurus', 'lastUsed': No...</td>\n",
       "    </tr>\n",
       "    <tr>\n",
       "      <th>24</th>\n",
       "      <td>smpNAmericaN</td>\n",
       "      <td>220</td>\n",
       "      <td>7</td>\n",
       "      <td>213</td>\n",
       "      <td>[{'user': 'andrew57', 'lastUsed': 'April 18, 2024'}, {'user': 'bmajor_geosaurus', 'lastUsed': No...</td>\n",
       "    </tr>\n",
       "    <tr>\n",
       "      <th>25</th>\n",
       "      <td>spatialAnalystN</td>\n",
       "      <td>220</td>\n",
       "      <td>11</td>\n",
       "      <td>209</td>\n",
       "      <td>[{'user': 'amolina2023', 'lastUsed': None}, {'user': 'arcgis_python', 'lastUsed': 'July 02, 2024...</td>\n",
       "    </tr>\n",
       "    <tr>\n",
       "      <th>26</th>\n",
       "      <td>workflowMgrN</td>\n",
       "      <td>220</td>\n",
       "      <td>5</td>\n",
       "      <td>215</td>\n",
       "      <td>[{'user': 'bmajor_geosaurus', 'lastUsed': None}, {'user': 'ptuteja_geosaurus', 'lastUsed': None}...</td>\n",
       "    </tr>\n",
       "  </tbody>\n",
       "</table>\n",
       "</div>"
      ],
      "text/plain": [
       "        Entitlement  Total  Assigned  Remaining                                                                                                Users\n",
       "0        3DAnalystN    220        11        209  [{'user': 'amolina2023', 'lastUsed': None}, {'user': 'arcgis_python', 'lastUsed': 'July 02, 2024...\n",
       "1         airportsN    220         3        217  [{'user': 'ptuteja_geosaurus', 'lastUsed': None}, {'user': 'pythondemo', 'lastUsed': None}, {'us...\n",
       "2         aviationN    220         3        217  [{'user': 'ptuteja_geosaurus', 'lastUsed': None}, {'user': 'pythondemo', 'lastUsed': None}, {'us...\n",
       "3       bathymetryN    220         5        215  [{'user': 'amolina2023', 'lastUsed': None}, {'user': 'arcgis_python', 'lastUsed': 'July 02, 2024...\n",
       "4      businessStdN    220        10        210  [{'user': 'amolina2023', 'lastUsed': None}, {'user': 'andrew57', 'lastUsed': 'April 18, 2024'}, ...\n",
       "5      dataInteropN    220         7        213  [{'user': 'amolina2023', 'lastUsed': None}, {'user': 'arcgis_python', 'lastUsed': 'July 02, 2024...\n",
       "6     dataReviewerN    220         7        213  [{'user': 'amolina2023', 'lastUsed': None}, {'user': 'arcgis_python', 'lastUsed': 'July 02, 2024...\n",
       "7          defenseN    220         3        217  [{'user': 'ptuteja_geosaurus', 'lastUsed': None}, {'user': 'pythondemo', 'lastUsed': None}, {'us...\n",
       "8       desktopAdvN    220        17        203  [{'user': 'amolina2023', 'lastUsed': None}, {'user': 'andrew57', 'lastUsed': 'April 18, 2024'}, ...\n",
       "9     desktopBasicN    220         1        219                                          [{'user': 'jyaist_geosaurus', 'lastUsed': 'July 16, 2024'}]\n",
       "10      desktopStdN    220         0        220                                                                                                   []\n",
       "11  geostatAnalystN    220        10        210  [{'user': 'amolina2023', 'lastUsed': None}, {'user': 'arcgis_python', 'lastUsed': 'July 02, 2024...\n",
       "12    imageAnalystN    220        11        209  [{'user': 'amolina2023', 'lastUsed': None}, {'user': 'arcgis_python', 'lastUsed': 'July 02, 2024...\n",
       "13         indoorsN    110         1        109                                          [{'user': 'ssong_geosaurus', 'lastUsed': 'March 21, 2024'}]\n",
       "14        locateXTN    220         4        216  [{'user': 'NGiner_geosaurus', 'lastUsed': 'July 16, 2024'}, {'user': 'ptuteja_geosaurus', 'lastU...\n",
       "15   LocRefDesktopN    220         3        217  [{'user': 'ptuteja_geosaurus', 'lastUsed': None}, {'user': 'pythondemo', 'lastUsed': None}, {'us...\n",
       "16        maritimeN    220         3        217  [{'user': 'ptuteja_geosaurus', 'lastUsed': None}, {'user': 'pythondemo', 'lastUsed': None}, {'us...\n",
       "17  networkAnalystN    220        10        210  [{'user': 'amolina2023', 'lastUsed': None}, {'user': 'arcgis_python', 'lastUsed': 'July 02, 2024...\n",
       "18   productionMapN    220         4        216  [{'user': 'ptuteja_geosaurus', 'lastUsed': None}, {'user': 'pythondemo', 'lastUsed': None}, {'us...\n",
       "19       publisherN    220         7        213  [{'user': 'amolina2023', 'lastUsed': None}, {'user': 'arcgis_python', 'lastUsed': 'July 02, 2024...\n",
       "20  smpAsiaPacificN    220         6        214  [{'user': 'andrew57', 'lastUsed': 'April 18, 2024'}, {'user': 'bmajor_geosaurus', 'lastUsed': No...\n",
       "21       smpEuropeN    220         6        214  [{'user': 'andrew57', 'lastUsed': 'April 18, 2024'}, {'user': 'bmajor_geosaurus', 'lastUsed': No...\n",
       "22     smpLAmericaN    110         3        107  [{'user': 'andrew57', 'lastUsed': 'April 18, 2024'}, {'user': 'jyaist_geosaurus', 'lastUsed': 'J...\n",
       "23   smpMidEAfricaN    220         6        214  [{'user': 'andrew57', 'lastUsed': 'April 18, 2024'}, {'user': 'bmajor_geosaurus', 'lastUsed': No...\n",
       "24     smpNAmericaN    220         7        213  [{'user': 'andrew57', 'lastUsed': 'April 18, 2024'}, {'user': 'bmajor_geosaurus', 'lastUsed': No...\n",
       "25  spatialAnalystN    220        11        209  [{'user': 'amolina2023', 'lastUsed': None}, {'user': 'arcgis_python', 'lastUsed': 'July 02, 2024...\n",
       "26     workflowMgrN    220         5        215  [{'user': 'bmajor_geosaurus', 'lastUsed': None}, {'user': 'ptuteja_geosaurus', 'lastUsed': None}..."
      ]
     },
     "execution_count": 19,
     "metadata": {},
     "output_type": "execute_result"
    }
   ],
   "source": [
    "%%capture --no-stdout --no-display\n",
    "\n",
    "pro_license.report"
   ]
  },
  {
   "cell_type": "code",
   "execution_count": 20,
   "id": "022f814e-d3e4-4688-a545-2f38085d78ae",
   "metadata": {},
   "outputs": [
    {
     "data": {
      "text/plain": [
       "Entitlement                                                                                            desktopAdvN\n",
       "Total                                                                                                          220\n",
       "Assigned                                                                                                        17\n",
       "Remaining                                                                                                      203\n",
       "Users          [{'user': 'amolina2023', 'lastUsed': None}, {'user': 'andrew57', 'lastUsed': 'April 18, 2024'}, ...\n",
       "Name: 8, dtype: object"
      ]
     },
     "execution_count": 20,
     "metadata": {},
     "output_type": "execute_result"
    }
   ],
   "source": [
    "# Desktop Advanced\n",
    "pro_license.report.loc[8]"
   ]
  },
  {
   "cell_type": "markdown",
   "id": "09161d4f",
   "metadata": {},
   "source": [
    "#### Removing Licenses for Stagnant Users"
   ]
  },
  {
   "cell_type": "code",
   "execution_count": 21,
   "id": "29d27fd5",
   "metadata": {},
   "outputs": [],
   "source": [
    "import datetime as dt\n",
    "days_back:int = 365 *2\n",
    "older_than = dt.datetime.now() - dt.timedelta(days=days_back)"
   ]
  },
  {
   "cell_type": "code",
   "execution_count": 22,
   "id": "86d9e029",
   "metadata": {},
   "outputs": [
    {
     "data": {
      "text/html": [
       "<div>\n",
       "<style scoped>\n",
       "    .dataframe tbody tr th:only-of-type {\n",
       "        vertical-align: middle;\n",
       "    }\n",
       "\n",
       "    .dataframe tbody tr th {\n",
       "        vertical-align: top;\n",
       "    }\n",
       "\n",
       "    .dataframe thead th {\n",
       "        text-align: right;\n",
       "    }\n",
       "</style>\n",
       "<table border=\"1\" class=\"dataframe\">\n",
       "  <thead>\n",
       "    <tr style=\"text-align: right;\">\n",
       "      <th></th>\n",
       "      <th>Entitlement</th>\n",
       "      <th>Total</th>\n",
       "      <th>Assigned</th>\n",
       "      <th>Remaining</th>\n",
       "      <th>Users</th>\n",
       "    </tr>\n",
       "  </thead>\n",
       "  <tbody>\n",
       "    <tr>\n",
       "      <th>0</th>\n",
       "      <td>3DAnalystN</td>\n",
       "      <td>220</td>\n",
       "      <td>11</td>\n",
       "      <td>209</td>\n",
       "      <td>[{'user': 'amolina2023', 'lastUsed': None}, {'user': 'arcgis_python', 'lastUsed': 'July 02, 2024...</td>\n",
       "    </tr>\n",
       "    <tr>\n",
       "      <th>1</th>\n",
       "      <td>airportsN</td>\n",
       "      <td>220</td>\n",
       "      <td>3</td>\n",
       "      <td>217</td>\n",
       "      <td>[{'user': 'ptuteja_geosaurus', 'lastUsed': None}, {'user': 'pythondemo', 'lastUsed': None}, {'us...</td>\n",
       "    </tr>\n",
       "    <tr>\n",
       "      <th>2</th>\n",
       "      <td>aviationN</td>\n",
       "      <td>220</td>\n",
       "      <td>3</td>\n",
       "      <td>217</td>\n",
       "      <td>[{'user': 'ptuteja_geosaurus', 'lastUsed': None}, {'user': 'pythondemo', 'lastUsed': None}, {'us...</td>\n",
       "    </tr>\n",
       "    <tr>\n",
       "      <th>3</th>\n",
       "      <td>bathymetryN</td>\n",
       "      <td>220</td>\n",
       "      <td>5</td>\n",
       "      <td>215</td>\n",
       "      <td>[{'user': 'amolina2023', 'lastUsed': None}, {'user': 'arcgis_python', 'lastUsed': 'July 02, 2024...</td>\n",
       "    </tr>\n",
       "    <tr>\n",
       "      <th>4</th>\n",
       "      <td>businessStdN</td>\n",
       "      <td>220</td>\n",
       "      <td>10</td>\n",
       "      <td>210</td>\n",
       "      <td>[{'user': 'amolina2023', 'lastUsed': None}, {'user': 'andrew57', 'lastUsed': 'April 18, 2024'}, ...</td>\n",
       "    </tr>\n",
       "    <tr>\n",
       "      <th>5</th>\n",
       "      <td>dataInteropN</td>\n",
       "      <td>220</td>\n",
       "      <td>7</td>\n",
       "      <td>213</td>\n",
       "      <td>[{'user': 'amolina2023', 'lastUsed': None}, {'user': 'arcgis_python', 'lastUsed': 'July 02, 2024...</td>\n",
       "    </tr>\n",
       "    <tr>\n",
       "      <th>6</th>\n",
       "      <td>dataReviewerN</td>\n",
       "      <td>220</td>\n",
       "      <td>7</td>\n",
       "      <td>213</td>\n",
       "      <td>[{'user': 'amolina2023', 'lastUsed': None}, {'user': 'arcgis_python', 'lastUsed': 'July 02, 2024...</td>\n",
       "    </tr>\n",
       "    <tr>\n",
       "      <th>7</th>\n",
       "      <td>defenseN</td>\n",
       "      <td>220</td>\n",
       "      <td>3</td>\n",
       "      <td>217</td>\n",
       "      <td>[{'user': 'ptuteja_geosaurus', 'lastUsed': None}, {'user': 'pythondemo', 'lastUsed': None}, {'us...</td>\n",
       "    </tr>\n",
       "    <tr>\n",
       "      <th>8</th>\n",
       "      <td>desktopAdvN</td>\n",
       "      <td>220</td>\n",
       "      <td>17</td>\n",
       "      <td>203</td>\n",
       "      <td>[{'user': 'amolina2023', 'lastUsed': None}, {'user': 'andrew57', 'lastUsed': 'April 18, 2024'}, ...</td>\n",
       "    </tr>\n",
       "    <tr>\n",
       "      <th>9</th>\n",
       "      <td>desktopBasicN</td>\n",
       "      <td>220</td>\n",
       "      <td>1</td>\n",
       "      <td>219</td>\n",
       "      <td>[{'user': 'jyaist_geosaurus', 'lastUsed': 'July 16, 2024'}]</td>\n",
       "    </tr>\n",
       "    <tr>\n",
       "      <th>10</th>\n",
       "      <td>desktopStdN</td>\n",
       "      <td>220</td>\n",
       "      <td>0</td>\n",
       "      <td>220</td>\n",
       "      <td>[]</td>\n",
       "    </tr>\n",
       "    <tr>\n",
       "      <th>11</th>\n",
       "      <td>geostatAnalystN</td>\n",
       "      <td>220</td>\n",
       "      <td>10</td>\n",
       "      <td>210</td>\n",
       "      <td>[{'user': 'amolina2023', 'lastUsed': None}, {'user': 'arcgis_python', 'lastUsed': 'July 02, 2024...</td>\n",
       "    </tr>\n",
       "    <tr>\n",
       "      <th>12</th>\n",
       "      <td>imageAnalystN</td>\n",
       "      <td>220</td>\n",
       "      <td>11</td>\n",
       "      <td>209</td>\n",
       "      <td>[{'user': 'amolina2023', 'lastUsed': None}, {'user': 'arcgis_python', 'lastUsed': 'July 02, 2024...</td>\n",
       "    </tr>\n",
       "    <tr>\n",
       "      <th>13</th>\n",
       "      <td>indoorsN</td>\n",
       "      <td>110</td>\n",
       "      <td>1</td>\n",
       "      <td>109</td>\n",
       "      <td>[{'user': 'ssong_geosaurus', 'lastUsed': 'March 21, 2024'}]</td>\n",
       "    </tr>\n",
       "    <tr>\n",
       "      <th>14</th>\n",
       "      <td>locateXTN</td>\n",
       "      <td>220</td>\n",
       "      <td>4</td>\n",
       "      <td>216</td>\n",
       "      <td>[{'user': 'NGiner_geosaurus', 'lastUsed': 'July 16, 2024'}, {'user': 'ptuteja_geosaurus', 'lastU...</td>\n",
       "    </tr>\n",
       "    <tr>\n",
       "      <th>15</th>\n",
       "      <td>LocRefDesktopN</td>\n",
       "      <td>220</td>\n",
       "      <td>3</td>\n",
       "      <td>217</td>\n",
       "      <td>[{'user': 'ptuteja_geosaurus', 'lastUsed': None}, {'user': 'pythondemo', 'lastUsed': None}, {'us...</td>\n",
       "    </tr>\n",
       "    <tr>\n",
       "      <th>16</th>\n",
       "      <td>maritimeN</td>\n",
       "      <td>220</td>\n",
       "      <td>3</td>\n",
       "      <td>217</td>\n",
       "      <td>[{'user': 'ptuteja_geosaurus', 'lastUsed': None}, {'user': 'pythondemo', 'lastUsed': None}, {'us...</td>\n",
       "    </tr>\n",
       "    <tr>\n",
       "      <th>17</th>\n",
       "      <td>networkAnalystN</td>\n",
       "      <td>220</td>\n",
       "      <td>10</td>\n",
       "      <td>210</td>\n",
       "      <td>[{'user': 'amolina2023', 'lastUsed': None}, {'user': 'arcgis_python', 'lastUsed': 'July 02, 2024...</td>\n",
       "    </tr>\n",
       "    <tr>\n",
       "      <th>18</th>\n",
       "      <td>productionMapN</td>\n",
       "      <td>220</td>\n",
       "      <td>4</td>\n",
       "      <td>216</td>\n",
       "      <td>[{'user': 'ptuteja_geosaurus', 'lastUsed': None}, {'user': 'pythondemo', 'lastUsed': None}, {'us...</td>\n",
       "    </tr>\n",
       "    <tr>\n",
       "      <th>19</th>\n",
       "      <td>publisherN</td>\n",
       "      <td>220</td>\n",
       "      <td>7</td>\n",
       "      <td>213</td>\n",
       "      <td>[{'user': 'amolina2023', 'lastUsed': None}, {'user': 'arcgis_python', 'lastUsed': 'July 02, 2024...</td>\n",
       "    </tr>\n",
       "    <tr>\n",
       "      <th>20</th>\n",
       "      <td>smpAsiaPacificN</td>\n",
       "      <td>220</td>\n",
       "      <td>6</td>\n",
       "      <td>214</td>\n",
       "      <td>[{'user': 'andrew57', 'lastUsed': 'April 18, 2024'}, {'user': 'bmajor_geosaurus', 'lastUsed': No...</td>\n",
       "    </tr>\n",
       "    <tr>\n",
       "      <th>21</th>\n",
       "      <td>smpEuropeN</td>\n",
       "      <td>220</td>\n",
       "      <td>6</td>\n",
       "      <td>214</td>\n",
       "      <td>[{'user': 'andrew57', 'lastUsed': 'April 18, 2024'}, {'user': 'bmajor_geosaurus', 'lastUsed': No...</td>\n",
       "    </tr>\n",
       "    <tr>\n",
       "      <th>22</th>\n",
       "      <td>smpLAmericaN</td>\n",
       "      <td>110</td>\n",
       "      <td>3</td>\n",
       "      <td>107</td>\n",
       "      <td>[{'user': 'andrew57', 'lastUsed': 'April 18, 2024'}, {'user': 'jyaist_geosaurus', 'lastUsed': 'J...</td>\n",
       "    </tr>\n",
       "    <tr>\n",
       "      <th>23</th>\n",
       "      <td>smpMidEAfricaN</td>\n",
       "      <td>220</td>\n",
       "      <td>6</td>\n",
       "      <td>214</td>\n",
       "      <td>[{'user': 'andrew57', 'lastUsed': 'April 18, 2024'}, {'user': 'bmajor_geosaurus', 'lastUsed': No...</td>\n",
       "    </tr>\n",
       "    <tr>\n",
       "      <th>24</th>\n",
       "      <td>smpNAmericaN</td>\n",
       "      <td>220</td>\n",
       "      <td>7</td>\n",
       "      <td>213</td>\n",
       "      <td>[{'user': 'andrew57', 'lastUsed': 'April 18, 2024'}, {'user': 'bmajor_geosaurus', 'lastUsed': No...</td>\n",
       "    </tr>\n",
       "    <tr>\n",
       "      <th>25</th>\n",
       "      <td>spatialAnalystN</td>\n",
       "      <td>220</td>\n",
       "      <td>11</td>\n",
       "      <td>209</td>\n",
       "      <td>[{'user': 'amolina2023', 'lastUsed': None}, {'user': 'arcgis_python', 'lastUsed': 'July 02, 2024...</td>\n",
       "    </tr>\n",
       "    <tr>\n",
       "      <th>26</th>\n",
       "      <td>workflowMgrN</td>\n",
       "      <td>220</td>\n",
       "      <td>5</td>\n",
       "      <td>215</td>\n",
       "      <td>[{'user': 'bmajor_geosaurus', 'lastUsed': None}, {'user': 'ptuteja_geosaurus', 'lastUsed': None}...</td>\n",
       "    </tr>\n",
       "  </tbody>\n",
       "</table>\n",
       "</div>"
      ],
      "text/plain": [
       "        Entitlement  Total  Assigned  Remaining                                                                                                Users\n",
       "0        3DAnalystN    220        11        209  [{'user': 'amolina2023', 'lastUsed': None}, {'user': 'arcgis_python', 'lastUsed': 'July 02, 2024...\n",
       "1         airportsN    220         3        217  [{'user': 'ptuteja_geosaurus', 'lastUsed': None}, {'user': 'pythondemo', 'lastUsed': None}, {'us...\n",
       "2         aviationN    220         3        217  [{'user': 'ptuteja_geosaurus', 'lastUsed': None}, {'user': 'pythondemo', 'lastUsed': None}, {'us...\n",
       "3       bathymetryN    220         5        215  [{'user': 'amolina2023', 'lastUsed': None}, {'user': 'arcgis_python', 'lastUsed': 'July 02, 2024...\n",
       "4      businessStdN    220        10        210  [{'user': 'amolina2023', 'lastUsed': None}, {'user': 'andrew57', 'lastUsed': 'April 18, 2024'}, ...\n",
       "5      dataInteropN    220         7        213  [{'user': 'amolina2023', 'lastUsed': None}, {'user': 'arcgis_python', 'lastUsed': 'July 02, 2024...\n",
       "6     dataReviewerN    220         7        213  [{'user': 'amolina2023', 'lastUsed': None}, {'user': 'arcgis_python', 'lastUsed': 'July 02, 2024...\n",
       "7          defenseN    220         3        217  [{'user': 'ptuteja_geosaurus', 'lastUsed': None}, {'user': 'pythondemo', 'lastUsed': None}, {'us...\n",
       "8       desktopAdvN    220        17        203  [{'user': 'amolina2023', 'lastUsed': None}, {'user': 'andrew57', 'lastUsed': 'April 18, 2024'}, ...\n",
       "9     desktopBasicN    220         1        219                                          [{'user': 'jyaist_geosaurus', 'lastUsed': 'July 16, 2024'}]\n",
       "10      desktopStdN    220         0        220                                                                                                   []\n",
       "11  geostatAnalystN    220        10        210  [{'user': 'amolina2023', 'lastUsed': None}, {'user': 'arcgis_python', 'lastUsed': 'July 02, 2024...\n",
       "12    imageAnalystN    220        11        209  [{'user': 'amolina2023', 'lastUsed': None}, {'user': 'arcgis_python', 'lastUsed': 'July 02, 2024...\n",
       "13         indoorsN    110         1        109                                          [{'user': 'ssong_geosaurus', 'lastUsed': 'March 21, 2024'}]\n",
       "14        locateXTN    220         4        216  [{'user': 'NGiner_geosaurus', 'lastUsed': 'July 16, 2024'}, {'user': 'ptuteja_geosaurus', 'lastU...\n",
       "15   LocRefDesktopN    220         3        217  [{'user': 'ptuteja_geosaurus', 'lastUsed': None}, {'user': 'pythondemo', 'lastUsed': None}, {'us...\n",
       "16        maritimeN    220         3        217  [{'user': 'ptuteja_geosaurus', 'lastUsed': None}, {'user': 'pythondemo', 'lastUsed': None}, {'us...\n",
       "17  networkAnalystN    220        10        210  [{'user': 'amolina2023', 'lastUsed': None}, {'user': 'arcgis_python', 'lastUsed': 'July 02, 2024...\n",
       "18   productionMapN    220         4        216  [{'user': 'ptuteja_geosaurus', 'lastUsed': None}, {'user': 'pythondemo', 'lastUsed': None}, {'us...\n",
       "19       publisherN    220         7        213  [{'user': 'amolina2023', 'lastUsed': None}, {'user': 'arcgis_python', 'lastUsed': 'July 02, 2024...\n",
       "20  smpAsiaPacificN    220         6        214  [{'user': 'andrew57', 'lastUsed': 'April 18, 2024'}, {'user': 'bmajor_geosaurus', 'lastUsed': No...\n",
       "21       smpEuropeN    220         6        214  [{'user': 'andrew57', 'lastUsed': 'April 18, 2024'}, {'user': 'bmajor_geosaurus', 'lastUsed': No...\n",
       "22     smpLAmericaN    110         3        107  [{'user': 'andrew57', 'lastUsed': 'April 18, 2024'}, {'user': 'jyaist_geosaurus', 'lastUsed': 'J...\n",
       "23   smpMidEAfricaN    220         6        214  [{'user': 'andrew57', 'lastUsed': 'April 18, 2024'}, {'user': 'bmajor_geosaurus', 'lastUsed': No...\n",
       "24     smpNAmericaN    220         7        213  [{'user': 'andrew57', 'lastUsed': 'April 18, 2024'}, {'user': 'bmajor_geosaurus', 'lastUsed': No...\n",
       "25  spatialAnalystN    220        11        209  [{'user': 'amolina2023', 'lastUsed': None}, {'user': 'arcgis_python', 'lastUsed': 'July 02, 2024...\n",
       "26     workflowMgrN    220         5        215  [{'user': 'bmajor_geosaurus', 'lastUsed': None}, {'user': 'ptuteja_geosaurus', 'lastUsed': None}..."
      ]
     },
     "execution_count": 22,
     "metadata": {},
     "output_type": "execute_result"
    }
   ],
   "source": [
    "pro_license.report"
   ]
  },
  {
   "cell_type": "code",
   "execution_count": 23,
   "id": "bb6cc604-b587-4eaa-b328-fd9dcab3e1a8",
   "metadata": {},
   "outputs": [],
   "source": [
    "users = pro_license.report.iloc[8][\"Users\"]"
   ]
  },
  {
   "cell_type": "code",
   "execution_count": 24,
   "id": "4b39d437",
   "metadata": {},
   "outputs": [
    {
     "name": "stdout",
     "output_type": "stream",
     "text": [
      "[ArcGISPyAPIBot       last used: 2022-04-23 00:00:00]\n",
      "[naubry_geosaurus     last used: 2022-07-14 00:00:00]\n"
     ]
    }
   ],
   "source": [
    "stale_users = []\n",
    "for user in users:\n",
    "    if user['lastUsed'] and (older_than > dt.datetime.strptime(user['lastUsed'], \"%B %d, %Y\")):\n",
    "        stale_users.append(user['user'])\n",
    "        print(f\"[{user['user']:20} last used: {dt.datetime.strptime(user['lastUsed'], '%B %d, %Y')}]\")\n",
    "    elif user['lastUsed'] is None:\n",
    "        stale_users.append(user['user'])"
   ]
  },
  {
   "cell_type": "code",
   "execution_count": 25,
   "id": "86ab8d28",
   "metadata": {},
   "outputs": [
    {
     "data": {
      "text/plain": [
       "['amolina2023',\n",
       " 'ArcGISPyAPIBot',\n",
       " 'bmajor_geosaurus',\n",
       " 'naubry_geosaurus',\n",
       " 'ptuteja_geosaurus',\n",
       " 'pythondemo',\n",
       " 'R_ArcGIS_UC2024',\n",
       " 'sfoss_geosaurus']"
      ]
     },
     "execution_count": 25,
     "metadata": {},
     "output_type": "execute_result"
    }
   ],
   "source": [
    "stale_users"
   ]
  },
  {
   "cell_type": "markdown",
   "id": "4b73a5a3",
   "metadata": {},
   "source": [
    "#### Querying and Assigning Named Licenses"
   ]
  },
  {
   "cell_type": "code",
   "execution_count": 26,
   "id": "029a3edf",
   "metadata": {},
   "outputs": [
    {
     "data": {
      "text/plain": [
       "{'username': 'pythondemo',\n",
       " 'lastLogin': -1,\n",
       " 'disconnected': False,\n",
       " 'entitlements': ['3DAnalystN',\n",
       "  'airportsN',\n",
       "  'aviationN',\n",
       "  'bathymetryN',\n",
       "  'businessStdN',\n",
       "  'dataInteropN',\n",
       "  'dataReviewerN',\n",
       "  'defenseN',\n",
       "  'desktopAdvN',\n",
       "  'geostatAnalystN',\n",
       "  'imageAnalystN',\n",
       "  'locateXTN',\n",
       "  'LocRefDesktopN',\n",
       "  'maritimeN',\n",
       "  'networkAnalystN',\n",
       "  'productionMapN',\n",
       "  'publisherN',\n",
       "  'smpAsiaPacificN',\n",
       "  'smpEuropeN',\n",
       "  'smpMidEAfricaN',\n",
       "  'smpNAmericaN',\n",
       "  'spatialAnalystN',\n",
       "  'workflowMgrN']}"
      ]
     },
     "execution_count": 26,
     "metadata": {},
     "output_type": "execute_result"
    }
   ],
   "source": [
    "pro_license.user_entitlement(\"pythondemo\")"
   ]
  },
  {
   "cell_type": "markdown",
   "id": "99a7ff0c",
   "metadata": {},
   "source": [
    "To revoke an app\"s license from a user, call the revoke() method from the corresponding License object."
   ]
  },
  {
   "cell_type": "code",
   "execution_count": 27,
   "id": "07a43e88",
   "metadata": {},
   "outputs": [
    {
     "data": {
      "text/plain": [
       "True"
      ]
     },
     "execution_count": 27,
     "metadata": {},
     "output_type": "execute_result"
    }
   ],
   "source": [
    "pro_license.revoke(\n",
    "    username=\"pythondemo\", \n",
    "    entitlements=[\n",
    "        \"LocRefDesktopN\",\n",
    "        \"maritimeN\"\n",
    "    ]\n",
    ")"
   ]
  },
  {
   "cell_type": "code",
   "execution_count": 28,
   "id": "3a3762bf",
   "metadata": {},
   "outputs": [
    {
     "data": {
      "text/plain": [
       "{'username': 'pythondemo',\n",
       " 'lastLogin': -1,\n",
       " 'disconnected': False,\n",
       " 'entitlements': ['3DAnalystN',\n",
       "  'airportsN',\n",
       "  'aviationN',\n",
       "  'bathymetryN',\n",
       "  'businessStdN',\n",
       "  'dataInteropN',\n",
       "  'dataReviewerN',\n",
       "  'defenseN',\n",
       "  'desktopAdvN',\n",
       "  'geostatAnalystN',\n",
       "  'imageAnalystN',\n",
       "  'locateXTN',\n",
       "  'networkAnalystN',\n",
       "  'productionMapN',\n",
       "  'publisherN',\n",
       "  'smpAsiaPacificN',\n",
       "  'smpEuropeN',\n",
       "  'smpMidEAfricaN',\n",
       "  'smpNAmericaN',\n",
       "  'spatialAnalystN',\n",
       "  'workflowMgrN']}"
      ]
     },
     "execution_count": 28,
     "metadata": {},
     "output_type": "execute_result"
    }
   ],
   "source": [
    "pro_license.user_entitlement(\"pythondemo\")"
   ]
  },
  {
   "cell_type": "markdown",
   "id": "cd1fd0b9",
   "metadata": {},
   "source": [
    "You can assign licenses to an application and its extensions using the assign() method."
   ]
  },
  {
   "cell_type": "code",
   "execution_count": 29,
   "id": "c2026d7c-ca63-4611-bda1-c6994267f714",
   "metadata": {},
   "outputs": [
    {
     "data": {
      "text/plain": [
       "['3DAnalystN',\n",
       " 'airportsN',\n",
       " 'aviationN',\n",
       " 'bathymetryN',\n",
       " 'businessStdN',\n",
       " 'dataInteropN',\n",
       " 'dataReviewerN',\n",
       " 'defenseN',\n",
       " 'desktopAdvN',\n",
       " 'geostatAnalystN',\n",
       " 'imageAnalystN',\n",
       " 'locateXTN',\n",
       " 'networkAnalystN',\n",
       " 'productionMapN',\n",
       " 'publisherN',\n",
       " 'smpAsiaPacificN',\n",
       " 'smpEuropeN',\n",
       " 'smpMidEAfricaN',\n",
       " 'smpNAmericaN',\n",
       " 'spatialAnalystN',\n",
       " 'workflowMgrN']"
      ]
     },
     "execution_count": 29,
     "metadata": {},
     "output_type": "execute_result"
    }
   ],
   "source": [
    "current = pro_license.user_entitlement(\"pythondemo\")[\"entitlements\"]\n",
    "current"
   ]
  },
  {
   "cell_type": "code",
   "execution_count": 30,
   "id": "f407713f",
   "metadata": {},
   "outputs": [
    {
     "data": {
      "text/plain": [
       "True"
      ]
     },
     "execution_count": 30,
     "metadata": {},
     "output_type": "execute_result"
    }
   ],
   "source": [
    "pro_license.assign(\n",
    "    username=\"pythondemo\", \n",
    "    entitlements= current + [\n",
    "        \"LocRefDesktopN\",\n",
    "        \"maritimeN\"\n",
    "    ]\n",
    ")"
   ]
  },
  {
   "cell_type": "code",
   "execution_count": 31,
   "id": "e48ce89a",
   "metadata": {},
   "outputs": [
    {
     "data": {
      "text/plain": [
       "{'username': 'pythondemo',\n",
       " 'lastLogin': -1,\n",
       " 'disconnected': False,\n",
       " 'entitlements': ['3DAnalystN',\n",
       "  'airportsN',\n",
       "  'aviationN',\n",
       "  'bathymetryN',\n",
       "  'businessStdN',\n",
       "  'dataInteropN',\n",
       "  'dataReviewerN',\n",
       "  'defenseN',\n",
       "  'desktopAdvN',\n",
       "  'geostatAnalystN',\n",
       "  'imageAnalystN',\n",
       "  'locateXTN',\n",
       "  'LocRefDesktopN',\n",
       "  'maritimeN',\n",
       "  'networkAnalystN',\n",
       "  'productionMapN',\n",
       "  'publisherN',\n",
       "  'smpAsiaPacificN',\n",
       "  'smpEuropeN',\n",
       "  'smpMidEAfricaN',\n",
       "  'smpNAmericaN',\n",
       "  'spatialAnalystN',\n",
       "  'workflowMgrN']}"
      ]
     },
     "execution_count": 31,
     "metadata": {},
     "output_type": "execute_result"
    }
   ],
   "source": [
    "pro_license.user_entitlement(\"pythondemo\")"
   ]
  },
  {
   "cell_type": "markdown",
   "id": "da6f7056",
   "metadata": {},
   "source": [
    "    "
   ]
  },
  {
   "cell_type": "markdown",
   "id": "bbcf7481",
   "metadata": {},
   "source": [
    "    "
   ]
  },
  {
   "cell_type": "markdown",
   "id": "8244a899",
   "metadata": {},
   "source": [
    "## Using Search Operations to Monitor Sites"
   ]
  },
  {
   "cell_type": "markdown",
   "id": "4cfb5a13",
   "metadata": {},
   "source": [
    "- The `search` and `advanced_search` operations allows administrators to query GIS systems easily to find out information about the system\n",
    "- The information can easily be parsed using other 3rd party libraries like pandas\n",
    "- This information can be done multiple time a day or hour"
   ]
  },
  {
   "cell_type": "markdown",
   "id": "5c4a765d",
   "metadata": {},
   "source": [
    "### Monitoring Content Using Searches"
   ]
  },
  {
   "cell_type": "markdown",
   "id": "b4ad765d",
   "metadata": {},
   "source": [
    "#### Content Searches\n",
    "\n",
    "Example: Finding Content Types Generated Using Searches\n",
    "\n",
    "Whole document on advanced searching: https://doc.arcgis.com/en/arcgis-online/reference/advanced-search.htm"
   ]
  },
  {
   "cell_type": "code",
   "execution_count": 32,
   "id": "81ec0c0e",
   "metadata": {},
   "outputs": [],
   "source": [
    "cm = gis.content"
   ]
  },
  {
   "cell_type": "code",
   "execution_count": 33,
   "id": "f74634b5",
   "metadata": {},
   "outputs": [],
   "source": [
    "now = dt.datetime.now()\n",
    "then = now - dt.timedelta(days=7)"
   ]
  },
  {
   "cell_type": "code",
   "execution_count": 34,
   "id": "f177343b-f57b-48d4-9ebb-4bf4938711d6",
   "metadata": {},
   "outputs": [],
   "source": [
    "search = cm.advanced_search(\n",
    "            f\"orgid: {gis.properties.id} AND created: [{int(then.timestamp()* 1000)} TO {int(now.timestamp()* 1000)}] AND accountid:{gis.properties.id}\", \n",
    "            max_items=-1, \n",
    "            as_dict=True\n",
    ")"
   ]
  },
  {
   "cell_type": "code",
   "execution_count": 35,
   "id": "f45a0679-6dfe-440b-b392-ea8fefe9471e",
   "metadata": {},
   "outputs": [],
   "source": [
    "items_created_in_last_week = pd.DataFrame(search[\"results\"])"
   ]
  },
  {
   "cell_type": "code",
   "execution_count": 36,
   "id": "c1f062ca-5fe1-4a29-b8dc-3aca25c46fa2",
   "metadata": {},
   "outputs": [
    {
     "name": "stdout",
     "output_type": "stream",
     "text": [
      "id                            owner                         created                       isOrgItem                     \n",
      "modified                      guid                          name                          title                         \n",
      "type                          typeKeywords                  description                   tags                          \n",
      "snippet                       thumbnail                     documentation                 extent                        \n",
      "categories                    spatialReference              accessInformation             classification                \n",
      "licenseInfo                   culture                       properties                    advancedSettings              \n",
      "url                           proxyFilter                   access                        size                          \n",
      "subInfo                       appCategories                 industries                    languages                     \n",
      "largeThumbnail                banner                        screenshots                   listed                        \n",
      "ownerFolder                   protected                     numComments                   numRatings                    \n",
      "avgRating                     numViews                      scoreCompleteness             groupDesignations             \n",
      "apiToken1ExpirationDate       apiToken2ExpirationDate       contentOrigin                 lastViewed                    \n"
     ]
    }
   ],
   "source": [
    "for a,b,c,d in zip(\n",
    "    list(items_created_in_last_week.columns)[::4],\n",
    "    list(items_created_in_last_week.columns)[1::4],\n",
    "    list(items_created_in_last_week.columns)[2::4],\n",
    "    list(items_created_in_last_week.columns)[3::4]):\n",
    "    print(f\"{a:30}{b:30}{c:30}{d:30}\")"
   ]
  },
  {
   "cell_type": "code",
   "execution_count": 37,
   "id": "832657fb-d602-4206-a770-dc2fbcf72f8c",
   "metadata": {},
   "outputs": [
    {
     "data": {
      "text/plain": [
       "owner\n",
       "arcgis_python            46\n",
       "andrew57                 31\n",
       "nparavicini_geosaurus    21\n",
       "api_data_owner           19\n",
       "NGiner_geosaurus         14\n",
       "ssong_geosaurus           6\n",
       "MMajumdar_geosaurus       4\n",
       "ArcGISPyAPIBot            2\n",
       "naubry_geosaurus          1\n",
       "Name: count, dtype: int64"
      ]
     },
     "execution_count": 37,
     "metadata": {},
     "output_type": "execute_result"
    }
   ],
   "source": [
    "items_created_in_last_week.owner.value_counts()"
   ]
  },
  {
   "cell_type": "markdown",
   "id": "567520eb",
   "metadata": {},
   "source": [
    "#### User Searches - User Login Activity"
   ]
  },
  {
   "cell_type": "code",
   "execution_count": 38,
   "id": "926e58c2-f6a7-406b-8bd1-d321d743df4e",
   "metadata": {},
   "outputs": [],
   "source": [
    "users = gis.users.advanced_search(\n",
    "    f\"accountid:{gis.properties.id}\", \n",
    "    max_users=-1\n",
    ")"
   ]
  },
  {
   "cell_type": "markdown",
   "id": "d135883b-97b7-403f-a7c6-ab37a4200133",
   "metadata": {},
   "source": [
    "##### Users who have never logged in"
   ]
  },
  {
   "cell_type": "code",
   "execution_count": 39,
   "id": "6a97f072-3dc6-4823-9b58-5c541c66567f",
   "metadata": {},
   "outputs": [],
   "source": [
    "never_logged_in = [user \n",
    "                   for user in users[\"results\"] \n",
    "                   if user[\"lastLogin\"] == -1\n",
    "                  ]"
   ]
  },
  {
   "cell_type": "code",
   "execution_count": 40,
   "id": "0fbd5cb9-c364-4100-a917-83126c74c9ce",
   "metadata": {},
   "outputs": [
    {
     "data": {
      "text/plain": [
       "[<User username:achapkowski_geosaurus>,\n",
       " <User username:achapkowski_geosaurus3>,\n",
       " <User username:janedoe123456>,\n",
       " <User username:sdf_geosaurus>,\n",
       " <User username:tarun00323>,\n",
       " <User username:tiles_publisher_1>,\n",
       " <User username:tiles_publisher_12>,\n",
       " <User username:user1_uc2024>,\n",
       " <User username:user3_uc2024>,\n",
       " <User username:user4_uc2024>,\n",
       " <User username:user5_uc2024>]"
      ]
     },
     "execution_count": 40,
     "metadata": {},
     "output_type": "execute_result"
    }
   ],
   "source": [
    "never_logged_in"
   ]
  },
  {
   "cell_type": "markdown",
   "id": "ae10510a",
   "metadata": {},
   "source": [
    "##### Users Haven't Logged in for 90+ Days"
   ]
  },
  {
   "cell_type": "code",
   "execution_count": 41,
   "id": "38f51482",
   "metadata": {},
   "outputs": [],
   "source": [
    "now = dt.datetime.now(dt.timezone.utc)"
   ]
  },
  {
   "cell_type": "code",
   "execution_count": 42,
   "id": "77bee357-636b-44b5-a12e-ec2e1481ca20",
   "metadata": {},
   "outputs": [],
   "source": [
    "greater_than90days = [user \n",
    "                      for user in users[\"results\"] \n",
    "                      if user[\"lastLogin\"] > -1 and \\\n",
    "                        (now - dt.datetime.fromtimestamp(user[\"lastLogin\"]/1000, dt.timezone.utc)).days >= 90\n",
    "                     ]"
   ]
  },
  {
   "cell_type": "markdown",
   "id": "0a563deb-2f07-4e1e-b95a-333ce1e828ba",
   "metadata": {},
   "source": [
    "Create list of usernames for printing."
   ]
  },
  {
   "cell_type": "code",
   "execution_count": 43,
   "id": "b6f570b0-9bbb-4853-af9d-99eeef4ed635",
   "metadata": {},
   "outputs": [],
   "source": [
    "greater_than90daysu = [u.username for u in greater_than90days]"
   ]
  },
  {
   "cell_type": "code",
   "execution_count": 44,
   "id": "2e1ab1d0-cd25-4d8f-85d0-14b87498c91b",
   "metadata": {},
   "outputs": [
    {
     "name": "stdout",
     "output_type": "stream",
     "text": [
      "amani_geosaurus               amolina2023                   arcgislearn_geosaurus         bmajor_geosaurus              \n",
      "bwhitney2023                  clonerator                    creatoraccount                cwhitmore_geosaurus           \n",
      "dave_crawford_geosaurus       DavidJVitale                  demo_user_10                  demo_user_37                  \n",
      "demofedgis2024                dev_summit_24                 fedgisadmin                   forest_publisher              \n",
      "geosaurus_hub                 githubaction                  headless_testing              imagery_geosaurus             \n",
      "JerseyRocker6a7d              jmccune_geosaurus             kjain_geosaurus               kjoyce2023                    \n",
      "KMathur_geosaurus             lirvin2023                    maggarwal_geosaurus           na_qaext01                    \n",
      "NBAdvanced                    noarcispro                    nshampur_geosaurus            oauthlogintest                \n",
      "ptuteja_geosaurus             pythondemo                    report_admin_account          rohitgeo                      \n",
      "sahuja_geosaurus              SAmbrose_geosaurus            sfoss_geosaurus               smathew_geosaurus             \n",
      "smcdaniel2023                 ux_admin                      viewerexporttester            yjiang_geosaurus              \n"
     ]
    }
   ],
   "source": [
    "for a,b,c,d in zip(\n",
    "    greater_than90daysu[::4],\n",
    "    greater_than90daysu[1::4],\n",
    "    greater_than90daysu[2::4],\n",
    "    greater_than90daysu[3::4]):\n",
    "    print(f\"{a:30}{b:30}{c:30}{d:30}\")"
   ]
  },
  {
   "cell_type": "code",
   "execution_count": 47,
   "id": "991ea695-0884-4e98-bec9-9a66b08ad00e",
   "metadata": {},
   "outputs": [],
   "source": [
    "#activity_item.delete()\n",
    "#monthly_item.delete()"
   ]
  },
  {
   "cell_type": "code",
   "execution_count": null,
   "id": "182e9a5a-ed95-46c0-8672-7fd5717e1921",
   "metadata": {},
   "outputs": [],
   "source": []
  }
 ],
 "metadata": {
  "kernelspec": {
   "display_name": "Python 3 (ipykernel)",
   "language": "python",
   "name": "python3"
  },
  "language_info": {
   "codemirror_mode": {
    "name": "ipython",
    "version": 3
   },
   "file_extension": ".py",
   "mimetype": "text/x-python",
   "name": "python",
   "nbconvert_exporter": "python",
   "pygments_lexer": "ipython3",
   "version": "3.11.0"
  }
 },
 "nbformat": 4,
 "nbformat_minor": 5
}
