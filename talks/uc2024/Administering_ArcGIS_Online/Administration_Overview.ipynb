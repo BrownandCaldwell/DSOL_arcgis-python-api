{
 "cells": [
  {
   "cell_type": "markdown",
   "id": "a5fe7648",
   "metadata": {
    "jp-MarkdownHeadingCollapsed": true
   },
   "source": [
    "#### Setup Environment"
   ]
  },
  {
   "cell_type": "code",
   "execution_count": 13,
   "id": "212348b1",
   "metadata": {},
   "outputs": [
    {
     "data": {
      "text/html": [
       "<style>.container { width:90% !important; }</style>"
      ],
      "text/plain": [
       "<IPython.core.display.HTML object>"
      ]
     },
     "metadata": {},
     "output_type": "display_data"
    }
   ],
   "source": [
    "from IPython.display import display, HTML\n",
    "display(HTML(\"<style>.container { width:90% !important; }</style>\"))"
   ]
  },
  {
   "cell_type": "markdown",
   "id": "f17c944f",
   "metadata": {},
   "source": [
    "# Administering Your GIS Organizations Using ArcGIS API for Python"
   ]
  },
  {
   "cell_type": "markdown",
   "id": "8e9d04ba",
   "metadata": {},
   "source": [
    "## Overview"
   ]
  },
  {
   "cell_type": "markdown",
   "id": "91cc79b4",
   "metadata": {},
   "source": [
    "<img src=\"./img/api_for_python.png\" width=150 />\n",
    "\n",
    "- The ArcGIS ecosystem is vast\n",
    "- Organizations can have multiple versions of any product or multiple products to manage\n",
    "- How do you manage this?"
   ]
  },
  {
   "cell_type": "markdown",
   "id": "fea199c0",
   "metadata": {},
   "source": [
    "## The Way of the Python"
   ]
  },
  {
   "cell_type": "markdown",
   "id": "5b9b5afd",
   "metadata": {},
   "source": [
    "<img class=\".imgA1\" src=\"./img/waysofscience.jpg\" width=175 />"
   ]
  },
  {
   "cell_type": "markdown",
   "id": "5451a992",
   "metadata": {},
   "source": [
    "- The Python API allows administrators to manage, update and control what happens on your server\n",
    "- Script from your favorite IDE or Notebook environment\n",
    "- Cross platform support"
   ]
  },
  {
   "cell_type": "markdown",
   "id": "48d8aae6",
   "metadata": {},
   "source": [
    "## What Can We Manage?"
   ]
  },
  {
   "cell_type": "markdown",
   "id": "1794a071",
   "metadata": {},
   "source": [
    "<table  style='font-family:\"Courier New\", Courier, monospace; font-size:180%' width=50%>\n",
    "  \n",
    "  <tr>\n",
    "    <td>Users</td>\n",
    "    <td><img src=\"./img/users.png\", width=60 /></td>\n",
    "  </tr>\n",
    "  <tr>\n",
    "    <td>Content</td>\n",
    "    <td><img src=\"./img/content.png\", width=60 /></td>\n",
    "  </tr>\n",
    "  <tr>\n",
    "    <td>Organization Policies/Licensing</td>\n",
    "    <td><img src=\"./img/infrastructure.png\", width=60 /></td>\n",
    "  </tr>\n",
    "  <tr>\n",
    "    <td>Groups</td>\n",
    "    <td><img src=\"./img/groups.png\" width=60 /></td>\n",
    "  </tr>\n",
    " \n",
    "</table>"
   ]
  },
  {
   "cell_type": "markdown",
   "id": "43f95b98",
   "metadata": {
    "jp-MarkdownHeadingCollapsed": true
   },
   "source": [
    "## Getting Started"
   ]
  },
  {
   "cell_type": "markdown",
   "id": "251a08e7",
   "metadata": {
    "editable": true,
    "slideshow": {
     "slide_type": ""
    },
    "tags": []
   },
   "source": [
    "## Understand the `GIS` Object"
   ]
  },
  {
   "cell_type": "markdown",
   "id": "6021c223",
   "metadata": {},
   "source": [
    "The `GIS` object is the way users connect to ArcGIS Online and/or Enterprise\n",
    "\n",
    "- It doesn't matter if you are an administrator or a user, we must start here."
   ]
  },
  {
   "cell_type": "markdown",
   "id": "7eed83e2",
   "metadata": {},
   "source": [
    "#### Connecting to your `GIS` "
   ]
  },
  {
   "cell_type": "markdown",
   "id": "80f12f97",
   "metadata": {},
   "source": [
    "The ArcGIS API for Python support multiple ways of connecting to your Web GIS deployment, whether it be ArcGIS Online, ArcGIS Enterprise or ArcGIS Enterprise for Kubernetes."
   ]
  },
  {
   "cell_type": "markdown",
   "id": "51c71f7f",
   "metadata": {},
   "source": [
    "##### Anonymously"
   ]
  },
  {
   "cell_type": "code",
   "execution_count": 14,
   "id": "4019d7fd",
   "metadata": {},
   "outputs": [],
   "source": [
    "import warnings\n",
    "import pandas as pd\n",
    "\n",
    "from arcgis.gis import GIS\n",
    "\n",
    "warnings.filterwarnings(\"ignore\", category=UserWarning)\n",
    "gis_anon = GIS() #anonymous connection"
   ]
  },
  {
   "cell_type": "code",
   "execution_count": 15,
   "id": "74e0bdce",
   "metadata": {},
   "outputs": [
    {
     "data": {
      "text/plain": [
       "[<Item title:\"Natural Environment Database Map in Taiwan\" type:Web Mapping Application owner:edchangtw>,\n",
       " <Item title:\"Green Infrastructure in the Willamette River Watershed\" type:StoryMap owner:crecor_pdxedu>,\n",
       " <Item title:\"Bureau of Labor Statistics Monthly Unemployment (latest 14 months)\" type:Feature Layer Collection owner:esri_demographics>,\n",
       " <Item title:\"Sentinel-2 10m Land Use/Land Cover Time Series\" type:Imagery Layer owner:esri_imagery>,\n",
       " <Item title:\"Housing with Mortgages\" type:Web Map owner:AtlasPublisher>,\n",
       " <Item title:\"Mardi Gras Pass - A new geographic feature on the coast of Louisiana\" type:Web Mapping Application owner:LDOTG1308>,\n",
       " <Item title:\"Suggested Sites for LA River Parks\" type:Web Mapping Application owner:fraanky3>,\n",
       " <Item title:\"Renmark Storymap from South Australia\" type:Web Mapping Application owner:Ritgisonline>,\n",
       " <Item title:\"Active Hurricanes, Cyclones and Typhoons\" type:Feature Layer Collection owner:esri_livefeeds2>,\n",
       " <Item title:\"National Wild and Scenic Rivers\" type:Web Map owner:gesTraining>]"
      ]
     },
     "execution_count": 15,
     "metadata": {},
     "output_type": "execute_result"
    }
   ],
   "source": [
    "gis_anon.content.search(\"rivers\")"
   ]
  },
  {
   "cell_type": "markdown",
   "id": "480039f1",
   "metadata": {},
   "source": [
    "##### Built-In"
   ]
  },
  {
   "cell_type": "markdown",
   "id": "31aa6b4c",
   "metadata": {},
   "source": [
    "- username/password login method\n",
    "- usersname are case sensitive "
   ]
  },
  {
   "cell_type": "markdown",
   "id": "1232e767",
   "metadata": {},
   "source": [
    "```python\n",
    "gis = GIS(username='fakeaccount', password='fakepassword')\n",
    "gis = GIS(url=\"https://www.mysite.com/portal\", username='fakeaccount', password='fakepassword')\n",
    "```"
   ]
  },
  {
   "cell_type": "markdown",
   "id": "c954509d",
   "metadata": {},
   "source": [
    "**Protecting Built-In Credentials**\n",
    "\n",
    "- using `profiles` will help protect username and passwords.  \n",
    "- prevents accidental sharing"
   ]
  },
  {
   "cell_type": "markdown",
   "id": "3a669195",
   "metadata": {},
   "source": [
    "1. Create a `GIS` object with the extra `profile` parameter\n",
    "\n",
    "```python\n",
    "gis = GIS(url=\"https://www.mysite.com/portal\", \n",
    "          username='fakeaccount', \n",
    "          password='fakepassword', \n",
    "          profile='portal_profile')\n",
    "```\n",
    "\n",
    "2. Now connect using the `profile`\n",
    "\n",
    "```python\n",
    "gis = GIS(profile='portal_profile')\n",
    "```\n",
    "\n",
    "**What Happened?**\n",
    "\n",
    "Instead of keeping your password in plain text, now we leverage the operating system's credential store for the logged in user.  The credentials never get passed on when you use profiles."
   ]
  },
  {
   "cell_type": "markdown",
   "id": "08bb16f3",
   "metadata": {},
   "source": [
    "##### Other Login Methods"
   ]
  },
  {
   "cell_type": "markdown",
   "id": "230589a3",
   "metadata": {},
   "source": [
    "- LDAP\n",
    "- IWA\n",
    "- PKI\n",
    "- OAuth 2.0.\n",
    "- API Key"
   ]
  },
  {
   "cell_type": "markdown",
   "id": "806e596b",
   "metadata": {},
   "source": [
    "## User Management"
   ]
  },
  {
   "cell_type": "markdown",
   "id": "1f733ba7",
   "metadata": {},
   "source": [
    "<img src=\"./img/usermanagement.jpg\" width=90 />\n",
    "\n",
    "\n",
    "Users fuel your system. As an administrator your job is to ensure they can put up there content and know the site is reliable and safe.  The Python API is a tool to do just that!"
   ]
  },
  {
   "cell_type": "markdown",
   "id": "30f4cd12-84c0-4bac-865b-7c69295c7a8d",
   "metadata": {},
   "source": [
    "### Connecting as an Administrator"
   ]
  },
  {
   "cell_type": "code",
   "execution_count": 16,
   "id": "b6770455",
   "metadata": {},
   "outputs": [
    {
     "name": "stderr",
     "output_type": "stream",
     "text": [
      "Setting `verify_cert` to False is a security risk, use at your own risk.\n"
     ]
    }
   ],
   "source": [
    "gis = GIS(\n",
    "    profile='your_online_admin_profile', \n",
    "    verify_cert=False\n",
    ")"
   ]
  },
  {
   "cell_type": "code",
   "execution_count": 17,
   "id": "9fd3efd0-0071-430a-a6b4-cb13a402a13c",
   "metadata": {},
   "outputs": [
    {
     "name": "stdout",
     "output_type": "stream",
     "text": [
      "You are connected as: Administrator.\n"
     ]
    }
   ],
   "source": [
    "if hasattr(gis, \"admin\"):\n",
    "    print(\"You are connected as: Administrator.\")\n",
    "else:\n",
    "    print(\"You are connected as: Non-Administrator.\")"
   ]
  },
  {
   "cell_type": "code",
   "execution_count": 18,
   "id": "f7b0ff1c-bbce-4bfe-9c07-e8b3ab328d8a",
   "metadata": {},
   "outputs": [
    {
     "data": {
      "text/html": [
       "GIS @ <a href=\"https://geosaurus.maps.arcgis.com\">https://geosaurus.maps.arcgis.com</a>"
      ],
      "text/plain": [
       "GIS @ https://geosaurus.maps.arcgis.com version:2024.2"
      ]
     },
     "execution_count": 18,
     "metadata": {},
     "output_type": "execute_result"
    }
   ],
   "source": [
    "# Check admin property by typing . then Tab key\n",
    "gis."
   ]
  },
  {
   "cell_type": "markdown",
   "id": "9cc1a242",
   "metadata": {},
   "source": [
    "### Working with Existing Users\n",
    "\n",
    "The UserManager class in the API provides capabilites for controlling members of the organization. An object of the class can be directly initialized from the _users_ property on the GIS object."
   ]
  },
  {
   "cell_type": "code",
   "execution_count": 19,
   "id": "4f4aeb9c",
   "metadata": {},
   "outputs": [
    {
     "data": {
      "text/plain": [
       "< UserManager at https://geosaurus.maps.arcgis.com >"
      ]
     },
     "execution_count": 19,
     "metadata": {},
     "output_type": "execute_result"
    }
   ],
   "source": [
    "umgr = gis.users\n",
    "umgr"
   ]
  },
  {
   "cell_type": "markdown",
   "id": "5700e78a",
   "metadata": {},
   "source": [
    "#### Search for Users"
   ]
  },
  {
   "cell_type": "code",
   "execution_count": 20,
   "id": "2a3e2a89",
   "metadata": {},
   "outputs": [
    {
     "data": {
      "text/plain": [
       "[<User username:achapkowski_geosaurus>,\n",
       " <User username:achapkowski_geosaurus3>,\n",
       " <User username:amani_geosaurus>,\n",
       " <User username:amolina2023>,\n",
       " <User username:andrew57>,\n",
       " <User username:api_data_owner>,\n",
       " <User username:arcgis_python>,\n",
       " <User username:arcgislearn_geosaurus>,\n",
       " <User username:ArcGISPyAPIBot>]"
      ]
     },
     "execution_count": 20,
     "metadata": {},
     "output_type": "execute_result"
    }
   ],
   "source": [
    "users = umgr.search(\"username:a*\")\n",
    "users"
   ]
  },
  {
   "cell_type": "markdown",
   "id": "5a91191f",
   "metadata": {},
   "source": [
    "#### List User's Groups"
   ]
  },
  {
   "cell_type": "markdown",
   "id": "42f794b4-9b2d-4b57-9807-8628d279d484",
   "metadata": {},
   "source": [
    "The _user_groups_ method is designed for reporting the the Group id value for each group a user is a member of, providing a management tool to administrators for handling group membership within the organization."
   ]
  },
  {
   "cell_type": "code",
   "execution_count": 21,
   "id": "a154fed1-60e8-4681-abab-036d046e8b8f",
   "metadata": {},
   "outputs": [
    {
     "data": {
      "text/plain": [
       "\u001b[0;31mSignature:\u001b[0m\n",
       "\u001b[0mumgr\u001b[0m\u001b[0;34m.\u001b[0m\u001b[0muser_groups\u001b[0m\u001b[0;34m(\u001b[0m\u001b[0;34m\u001b[0m\n",
       "\u001b[0;34m\u001b[0m    \u001b[0musers\u001b[0m\u001b[0;34m:\u001b[0m \u001b[0;34m'Union[list[str], list[User]]'\u001b[0m\u001b[0;34m,\u001b[0m\u001b[0;34m\u001b[0m\n",
       "\u001b[0;34m\u001b[0m    \u001b[0mmax_results\u001b[0m\u001b[0;34m:\u001b[0m \u001b[0;34m'int'\u001b[0m \u001b[0;34m=\u001b[0m \u001b[0;34m-\u001b[0m\u001b[0;36m1\u001b[0m\u001b[0;34m,\u001b[0m\u001b[0;34m\u001b[0m\n",
       "\u001b[0;34m\u001b[0m\u001b[0;34m)\u001b[0m\u001b[0;34m\u001b[0m\u001b[0;34m\u001b[0m\u001b[0m\n",
       "\u001b[0;31mDocstring:\u001b[0m\n",
       "Givens a List of Users, the ``user_groups`` method will report back all group ids\n",
       "that each :class:`~arcgis.gis.User` belongs to. ``user_groups`` is designed to be a reporting\n",
       "tool for administrators so they can easily manage a user or users groups.\n",
       "\n",
       "================  ========================================================\n",
       "**Parameter**      **Description**\n",
       "----------------  --------------------------------------------------------\n",
       "users             Required List. An array of User objects or usernames.\n",
       "----------------  --------------------------------------------------------\n",
       "max_results       Optional Integer. A limiter on the number of groups\n",
       "                  returned for each user.\n",
       "================  ========================================================\n",
       "\n",
       ":return:\n",
       "    List of dictionaries with each :class:`~arcgis.gis.User` object's group ids.\n",
       "\n",
       ".. code-block:: python\n",
       "\n",
       "    # Usage Example\n",
       "\n",
       "    >>> gis.users.user_groups([user1,user1234,user123, user1234], 50)\n",
       "\u001b[0;31mFile:\u001b[0m      ~/opt/anaconda3/envs/geosaurus_dev_env/lib/python3.11/site-packages/arcgis/gis/__init__.py\n",
       "\u001b[0;31mType:\u001b[0m      method"
      ]
     },
     "metadata": {},
     "output_type": "display_data"
    }
   ],
   "source": [
    "umgr.user_groups?"
   ]
  },
  {
   "cell_type": "code",
   "execution_count": 22,
   "id": "922c5b31",
   "metadata": {},
   "outputs": [
    {
     "name": "stdout",
     "output_type": "stream",
     "text": [
      "amani_geosaurus is a member of 5 group(s)\n",
      "-------------------------\n",
      "   Properties at risk -> owned by amani_geosaurus\n",
      "   2017 all hands -> owned by amani_geosaurus\n",
      "   Land_subsidence -> owned by amani_geosaurus\n",
      "   Demo Initiative1 Initiative Collaboration Group -> owned by amani_geosaurus\n",
      "   grp_2e31a1 -> owned by andrew57\n",
      "\n",
      "\n",
      "andrew57 is a member of 5 group(s)\n",
      "-------------------------\n",
      "   test group 6abe -> owned by andrew57\n",
      "   test group fc3d -> owned by andrew57\n",
      "   test group bf19 -> owned by andrew57\n",
      "   test group 1fed -> owned by andrew57\n",
      "   sdfgsdfgsdfh Content -> owned by andrew57\n",
      "\n",
      "\n",
      "arcgislearn_geosaurus is a member of 1 group(s)\n",
      "-------------------------\n",
      "   OSM Iceland Data -> owned by andrew57\n",
      "\n",
      "\n",
      "achapkowski_geosaurus is a member of 1 group(s)\n",
      "-------------------------\n",
      "   OSM Iceland Data -> owned by andrew57\n",
      "\n",
      "\n",
      "api_data_owner is a member of 5 group(s)\n",
      "-------------------------\n",
      "   ArcGIS API for Python \"Try it Live\" Samples -> owned by api_data_owner\n",
      "   grp_006bda -> owned by api_data_owner\n",
      "   Samples data for ArcGIS API for Python -> owned by api_data_owner\n",
      "   Deprecation Test -> owned by api_data_owner\n",
      "   Demo Initiative1 Initiative Collaboration Group -> owned by amani_geosaurus\n",
      "\n",
      "\n",
      "arcgis_python is a member of 5 group(s)\n",
      "-------------------------\n",
      "   Gallery -> owned by arcgis_python\n",
      "   Recreational geocaching 1 -> owned by demo_user_37\n",
      "   Agriculturey -> owned by arcgis_python\n",
      "   Network Operations -> owned by arcgis_python\n",
      "   test_30d69 -> owned by arcgis_python\n",
      "\n",
      "\n",
      "ArcGISPyAPIBot is a member of 5 group(s)\n",
      "-------------------------\n",
      "   test_porg_and_my_orgs -> owned by ArcGISPyAPIBot\n",
      "   Test New Content -> owned by ArcGISPyAPIBot\n",
      "   jy-rhinoceros-clone-site Content -> owned by ArcGISPyAPIBot\n",
      "   jy-rhinoceros-clone-site2 Content -> owned by ArcGISPyAPIBot\n",
      "   Storm_Group -> owned by ArcGISPyAPIBot\n",
      "\n",
      "\n",
      "amolina2023 is a member of 2 group(s)\n",
      "-------------------------\n",
      "   OSM Iceland Data -> owned by andrew57\n",
      "   new_user_group -> owned by ssong_geosaurus\n",
      "\n",
      "\n",
      "achapkowski_geosaurus3 is a member of 1 group(s)\n",
      "-------------------------\n",
      "   OSM Iceland Data -> owned by andrew57\n",
      "\n",
      "\n"
     ]
    }
   ],
   "source": [
    "for grpinfo in umgr.user_groups(users):\n",
    "    print(f\"{grpinfo['username']} is a member of {len(grpinfo['groups'])} group(s)\\n{'-' * 25}\")\n",
    "    for grp in grpinfo['groups']:\n",
    "        print(f\"{' ' * 3}{grp['title']} -> owned by {gis.groups.get(grp['id']).owner}\")\n",
    "    print(\"\\n\")"
   ]
  },
  {
   "cell_type": "markdown",
   "id": "158724ab",
   "metadata": {},
   "source": [
    "#### List a User's Items\n",
    "\n",
    "The _items()_ method on the _User_ class returns a list of items owned by the user, providing a _folder_ parameter to inspect each folder a user has created as well."
   ]
  },
  {
   "cell_type": "code",
   "execution_count": 23,
   "id": "c2e6e700-8a84-438c-98fb-e2cd85f49f57",
   "metadata": {},
   "outputs": [
    {
     "name": "stdout",
     "output_type": "stream",
     "text": [
      "assignedCredits               availableCredits              bundles                       categories                    clear                         \n",
      "copy                          created                       culture                       cultureFormat                 delete                        \n",
      "delete_thumbnail              description                   disable                       disabled                      download_thumbnail            \n",
      "email                         emailStatus                   enable                        esri_access                   expire_password               \n",
      "favGroupId                    firstName                     folders                       fromkeys                      fullName                      \n",
      "generate_direct_access_url    get                           get_thumbnail                 get_thumbnail_link            groups                        \n",
      "homepage                      id                            idpUsername                   invitations                   items                         \n",
      "keys                          landing_page                  lastLogin                     lastName                      level                         \n",
      "link_account                  linked_accounts               mfaEnabled                    mfaEnforcementExempt          modified                      \n",
      "notifications                 orgId                         pop                           popitem                       preferredView                 \n",
      "privileges                    provider                      provisions                    reassign_to                   recyclebin                    \n",
      "region                        report                        reset                         role                          roleId                        \n",
      "setdefault                    storageQuota                  storageUsage                  tags                          tasks                         \n",
      "thumbnail                     transfer_content              udn                           units                         unlink_account                \n",
      "update                        update_level                  update_license_type           update_role                   userLicenseTypeId             \n",
      "userType                      user_settings                 user_types                    username                      validateUserProfile           \n",
      "validateUserProfile           \n"
     ]
    }
   ],
   "source": [
    "u0 = users[0]\n",
    "uprops = [d for d in dir(u0) if not d.startswith(\"_\")]\n",
    "for a,b,c,d,e in zip(uprops[1::5], uprops[2::5], uprops[3::5], uprops[4::5], uprops[5::5]):\n",
    "    print(f\"{a:30}{b:30}{c:30}{d:30}{e:30}\")\n",
    "print(f\"{uprops[80]:30}\")"
   ]
  },
  {
   "cell_type": "code",
   "execution_count": 24,
   "id": "ee69a9da",
   "metadata": {},
   "outputs": [
    {
     "name": "stdout",
     "output_type": "stream",
     "text": [
      "achapkowski_wdp            \n",
      "--------------------\n",
      "        Root Folder                                       21\n",
      "\n",
      "\n",
      "achapkowski_wdp3           \n",
      "--------------------\n",
      "        Root Folder                                       0\n",
      "\n",
      "\n",
      "amani_wdp                  \n",
      "--------------------\n",
      "        Root Folder                                       2\n",
      "\n",
      "\n",
      "amolina2023                \n",
      "--------------------\n",
      "        Root Folder                                       0\n",
      "\n",
      "\n"
     ]
    }
   ],
   "source": [
    "for u in users[:4]:\n",
    "    print(f\"{u.username.replace('geosaurus','wdp'):27}\\n{'-' * 20}\")\n",
    "    for fldr in gis.content.folders.list(owner=u):\n",
    "        if fldr.properties.get(\"name\", None):\n",
    "            print(f\"{' ' * 8}{fldr.properties['name']:50}{len(list(fldr.list()))}\")\n",
    "        else:\n",
    "            print(f\"{' ' * 8}{fldr.properties['title']:50}{len(list(fldr.list()))}\")\n",
    "    print(\"\\n\")"
   ]
  },
  {
   "cell_type": "markdown",
   "id": "0b41090a-99bf-4a3d-af6a-3374b38939de",
   "metadata": {},
   "source": [
    "#### Update User Properties"
   ]
  },
  {
   "cell_type": "code",
   "execution_count": 25,
   "id": "b8b94cc0",
   "metadata": {},
   "outputs": [
    {
     "data": {
      "text/plain": [
       "<User username:arcgislearn_geosaurus>"
      ]
     },
     "execution_count": 25,
     "metadata": {},
     "output_type": "execute_result"
    }
   ],
   "source": [
    "user = gis.users.get(\"arcgislearn_geosaurus\")\n",
    "user"
   ]
  },
  {
   "cell_type": "code",
   "execution_count": 26,
   "id": "19917edb-c269-4bed-a524-aa1731b7e87e",
   "metadata": {},
   "outputs": [
    {
     "data": {
      "text/plain": [
       "'dino.png'"
      ]
     },
     "execution_count": 26,
     "metadata": {},
     "output_type": "execute_result"
    }
   ],
   "source": [
    "user.thumbnail"
   ]
  },
  {
   "cell_type": "code",
   "execution_count": 27,
   "id": "f806d3e0-57af-49de-9fbe-87e4783632f1",
   "metadata": {},
   "outputs": [
    {
     "data": {
      "text/plain": [
       "True"
      ]
     },
     "execution_count": 27,
     "metadata": {},
     "output_type": "execute_result"
    }
   ],
   "source": [
    "user.update(\n",
    "    thumbnail=r\"./img/dino.png\"\n",
    ")"
   ]
  },
  {
   "cell_type": "code",
   "execution_count": 28,
   "id": "76a012ad-36e0-4512-905e-febfcd88592e",
   "metadata": {},
   "outputs": [
    {
     "data": {
      "text/plain": [
       "'dino.png'"
      ]
     },
     "execution_count": 28,
     "metadata": {},
     "output_type": "execute_result"
    }
   ],
   "source": [
    "user.thumbnail"
   ]
  },
  {
   "cell_type": "markdown",
   "id": "c553db63",
   "metadata": {},
   "source": [
    "### Creating New Users"
   ]
  },
  {
   "cell_type": "markdown",
   "id": "48a88e10-daad-4133-a681-5e93f29d8fb5",
   "metadata": {},
   "source": [
    "#### Create user with New Member Default role and user type"
   ]
  },
  {
   "cell_type": "markdown",
   "id": "6250602d-5947-4e36-955f-1619216bbbef",
   "metadata": {},
   "source": [
    "An organization can set [New Member Defaults](https://doc.arcgis.com/en/arcgis-online/administer/configure-new-member-defaults.htm). Default administrators and those with the appropriate privileges can specify the user type, member role, number of credits, groups, and other member properties to assign by default when adding or inviting new members to the organization. Let's check whether any are set on our organization:"
   ]
  },
  {
   "cell_type": "code",
   "execution_count": 29,
   "id": "57f478c2-3cbc-42ff-9a31-d5897615678d",
   "metadata": {},
   "outputs": [
    {
     "data": {
      "text/plain": [
       "{'role': 'org_publisher',\n",
       " 'userLicenseType': 'creatorUT',\n",
       " 'groups': [],\n",
       " 'userType': 'arcgisonly',\n",
       " 'apps': [],\n",
       " 'appBundles': [],\n",
       " 'categories': []}"
      ]
     },
     "execution_count": 29,
     "metadata": {},
     "output_type": "execute_result"
    }
   ],
   "source": [
    "gis.users.user_settings"
   ]
  },
  {
   "cell_type": "code",
   "execution_count": 30,
   "id": "37d0ca21",
   "metadata": {},
   "outputs": [],
   "source": [
    "import uuid\n",
    "username = f\"RUser{uuid.uuid4().hex[:4]}\"\n",
    "password = f\"!{uuid.uuid4().hex[:8]}A\""
   ]
  },
  {
   "cell_type": "code",
   "execution_count": 31,
   "id": "431a75ba",
   "metadata": {},
   "outputs": [
    {
     "data": {
      "text/plain": [
       "<User username:RUser29c0>"
      ]
     },
     "execution_count": 31,
     "metadata": {},
     "output_type": "execute_result"
    }
   ],
   "source": [
    "new_user = umgr.create(\n",
    "    username=username, \n",
    "    password=password, \n",
    "    firstname=\"Demon\",\n",
    "    lastname=\"Stration\",\n",
    "    email='testsadf@esri.com'\n",
    ")\n",
    "\n",
    "new_user"
   ]
  },
  {
   "cell_type": "code",
   "execution_count": 32,
   "id": "3de01b17-e291-4cc3-b118-dd6434abb98a",
   "metadata": {},
   "outputs": [
    {
     "name": "stdout",
     "output_type": "stream",
     "text": [
      "RUser29c0   org_publisher  creatorUT\n"
     ]
    }
   ],
   "source": [
    "print(f\"{new_user.username:12}{new_user.role:15}{new_user.userLicenseTypeId}\")"
   ]
  },
  {
   "cell_type": "markdown",
   "id": "03b45fb3",
   "metadata": {
    "editable": true,
    "slideshow": {
     "slide_type": ""
    },
    "tags": []
   },
   "source": [
    "#### Handling Security and Password Resets\n",
    "\n",
    "<img src=\"./img/password-reset.jpg\" />"
   ]
  },
  {
   "cell_type": "code",
   "execution_count": 33,
   "id": "5e4b024f",
   "metadata": {},
   "outputs": [],
   "source": [
    "new_password = f\"!{uuid.uuid4().hex[:8]}A\""
   ]
  },
  {
   "cell_type": "code",
   "execution_count": 34,
   "id": "f79fe9d8",
   "metadata": {},
   "outputs": [
    {
     "data": {
      "text/plain": [
       "True"
      ]
     },
     "execution_count": 34,
     "metadata": {},
     "output_type": "execute_result"
    }
   ],
   "source": [
    "new_user.reset(\n",
    "    password=password,\n",
    "    new_password=new_password,\n",
    "    new_security_question=1,\n",
    "    new_security_answer=uuid.uuid4().hex[:10],\n",
    "    reset_by_email=False,\n",
    ")"
   ]
  },
  {
   "cell_type": "code",
   "execution_count": 35,
   "id": "cddab4ff",
   "metadata": {},
   "outputs": [
    {
     "name": "stderr",
     "output_type": "stream",
     "text": [
      "Setting `verify_cert` to False is a security risk, use at your own risk.\n"
     ]
    },
    {
     "data": {
      "text/plain": [
       "<User username:RUser29c0>"
      ]
     },
     "execution_count": 35,
     "metadata": {},
     "output_type": "execute_result"
    }
   ],
   "source": [
    "GIS(username=username, \n",
    "    password=new_password, \n",
    "    verify_cert=False).users.me"
   ]
  },
  {
   "cell_type": "markdown",
   "id": "6e5b648e",
   "metadata": {},
   "source": [
    "#### Deleting the User\n",
    "\n",
    "- user must not own items\n",
    "- user must not have licenses checked out\n",
    "\n",
    "See The _[Deleting user accounts](https://developers.arcgis.com/python/guide/accessing-and-managing-users/#deleting-user-accounts)_ section in the [Accessing and Managing Users Guide](https://developers.arcgis.com/python/guide/accessing-and-managing-users) for examples."
   ]
  },
  {
   "cell_type": "code",
   "execution_count": 36,
   "id": "6fa834f1",
   "metadata": {},
   "outputs": [
    {
     "data": {
      "text/plain": [
       "True"
      ]
     },
     "execution_count": 36,
     "metadata": {},
     "output_type": "execute_result"
    }
   ],
   "source": [
    "%%capture --no-stdout --no-display\n",
    "\n",
    "new_user.delete()"
   ]
  },
  {
   "cell_type": "markdown",
   "id": "07807da6-590e-48c5-9bc3-ce8ea481eb8a",
   "metadata": {},
   "source": [
    "#### Create additional users"
   ]
  },
  {
   "cell_type": "markdown",
   "id": "aa9b4b4a-bb42-4558-9b20-ca75b9528d80",
   "metadata": {},
   "source": [
    "Let's examine available _user_types_ and licenses available before we create new users. First let's examine the count of _user_types_ consumed in the organization."
   ]
  },
  {
   "cell_type": "markdown",
   "id": "07641ee4-5183-4d2c-b554-4778ea3b65a0",
   "metadata": {},
   "source": [
    "##### Establish inventory of available licenses"
   ]
  },
  {
   "cell_type": "code",
   "execution_count": 37,
   "id": "5b7d7a3e",
   "metadata": {},
   "outputs": [],
   "source": [
    "utype_counts = umgr.counts('user_type')"
   ]
  },
  {
   "cell_type": "code",
   "execution_count": 38,
   "id": "91ff30e0-d48b-4fbe-ab53-b97772c07053",
   "metadata": {},
   "outputs": [
    {
     "data": {
      "text/html": [
       "<div>\n",
       "<style scoped>\n",
       "    .dataframe tbody tr th:only-of-type {\n",
       "        vertical-align: middle;\n",
       "    }\n",
       "\n",
       "    .dataframe tbody tr th {\n",
       "        vertical-align: top;\n",
       "    }\n",
       "\n",
       "    .dataframe thead th {\n",
       "        text-align: right;\n",
       "    }\n",
       "</style>\n",
       "<table border=\"1\" class=\"dataframe\">\n",
       "  <thead>\n",
       "    <tr style=\"text-align: right;\">\n",
       "      <th></th>\n",
       "      <th>key</th>\n",
       "      <th>count</th>\n",
       "    </tr>\n",
       "  </thead>\n",
       "  <tbody>\n",
       "    <tr>\n",
       "      <th>0</th>\n",
       "      <td>advancedUT</td>\n",
       "      <td>25</td>\n",
       "    </tr>\n",
       "    <tr>\n",
       "      <th>1</th>\n",
       "      <td>creatorUT</td>\n",
       "      <td>46</td>\n",
       "    </tr>\n",
       "    <tr>\n",
       "      <th>2</th>\n",
       "      <td>GISProfessionalAdvUT</td>\n",
       "      <td>7</td>\n",
       "    </tr>\n",
       "  </tbody>\n",
       "</table>\n",
       "</div>"
      ],
      "text/plain": [
       "                    key  count\n",
       "0            advancedUT     25\n",
       "1             creatorUT     46\n",
       "2  GISProfessionalAdvUT      7"
      ]
     },
     "execution_count": 38,
     "metadata": {},
     "output_type": "execute_result"
    }
   ],
   "source": [
    "utype_counts"
   ]
  },
  {
   "cell_type": "code",
   "execution_count": 39,
   "id": "445471fe-7275-49c7-9396-318da4c058dd",
   "metadata": {},
   "outputs": [],
   "source": [
    "utype_counts.rename(columns={\"key\":\"userType\"}, inplace=True)"
   ]
  },
  {
   "cell_type": "code",
   "execution_count": 40,
   "id": "bb23a008-f47b-419f-a7ab-96ee06801168",
   "metadata": {},
   "outputs": [
    {
     "data": {
      "text/html": [
       "<div>\n",
       "<style scoped>\n",
       "    .dataframe tbody tr th:only-of-type {\n",
       "        vertical-align: middle;\n",
       "    }\n",
       "\n",
       "    .dataframe tbody tr th {\n",
       "        vertical-align: top;\n",
       "    }\n",
       "\n",
       "    .dataframe thead th {\n",
       "        text-align: right;\n",
       "    }\n",
       "</style>\n",
       "<table border=\"1\" class=\"dataframe\">\n",
       "  <thead>\n",
       "    <tr style=\"text-align: right;\">\n",
       "      <th></th>\n",
       "      <th>userType</th>\n",
       "      <th>count</th>\n",
       "    </tr>\n",
       "  </thead>\n",
       "  <tbody>\n",
       "    <tr>\n",
       "      <th>0</th>\n",
       "      <td>advancedUT</td>\n",
       "      <td>25</td>\n",
       "    </tr>\n",
       "    <tr>\n",
       "      <th>1</th>\n",
       "      <td>creatorUT</td>\n",
       "      <td>46</td>\n",
       "    </tr>\n",
       "    <tr>\n",
       "      <th>2</th>\n",
       "      <td>GISProfessionalAdvUT</td>\n",
       "      <td>7</td>\n",
       "    </tr>\n",
       "  </tbody>\n",
       "</table>\n",
       "</div>"
      ],
      "text/plain": [
       "               userType  count\n",
       "0            advancedUT     25\n",
       "1             creatorUT     46\n",
       "2  GISProfessionalAdvUT      7"
      ]
     },
     "execution_count": 40,
     "metadata": {},
     "output_type": "execute_result"
    }
   ],
   "source": [
    "utype_counts"
   ]
  },
  {
   "cell_type": "code",
   "execution_count": 41,
   "id": "68cfd8a4-0d2f-4350-8a56-8cc90938aeb6",
   "metadata": {},
   "outputs": [],
   "source": [
    "import pandas as pd"
   ]
  },
  {
   "cell_type": "code",
   "execution_count": 42,
   "id": "a5df2f76-6e25-4f8a-82d4-55e69a13d3ae",
   "metadata": {},
   "outputs": [],
   "source": [
    "import warnings\n",
    "\n",
    "warnings.filterwarnings(\"ignore\", category=Warning)\n",
    "\n",
    "utype_df = pd.DataFrame(\n",
    "    data=[(ut['id'],ut['name'],ut['maxUsers']) for ut in umgr.license_types],\n",
    "    columns=['userType', 'userType Name', 'Maximum']\n",
    ")"
   ]
  },
  {
   "cell_type": "code",
   "execution_count": 43,
   "id": "57d8ca41-910c-456a-b36b-c6c9c6855b85",
   "metadata": {},
   "outputs": [
    {
     "data": {
      "text/html": [
       "<div>\n",
       "<style scoped>\n",
       "    .dataframe tbody tr th:only-of-type {\n",
       "        vertical-align: middle;\n",
       "    }\n",
       "\n",
       "    .dataframe tbody tr th {\n",
       "        vertical-align: top;\n",
       "    }\n",
       "\n",
       "    .dataframe thead th {\n",
       "        text-align: right;\n",
       "    }\n",
       "</style>\n",
       "<table border=\"1\" class=\"dataframe\">\n",
       "  <thead>\n",
       "    <tr style=\"text-align: right;\">\n",
       "      <th></th>\n",
       "      <th>userType</th>\n",
       "      <th>userType Name</th>\n",
       "      <th>Maximum</th>\n",
       "    </tr>\n",
       "  </thead>\n",
       "  <tbody>\n",
       "    <tr>\n",
       "      <th>0</th>\n",
       "      <td>advancedUT</td>\n",
       "      <td>Advanced</td>\n",
       "      <td>110</td>\n",
       "    </tr>\n",
       "    <tr>\n",
       "      <th>1</th>\n",
       "      <td>basicUT</td>\n",
       "      <td>Basic</td>\n",
       "      <td>110</td>\n",
       "    </tr>\n",
       "    <tr>\n",
       "      <th>2</th>\n",
       "      <td>creatorUT</td>\n",
       "      <td>Creator</td>\n",
       "      <td>220</td>\n",
       "    </tr>\n",
       "    <tr>\n",
       "      <th>3</th>\n",
       "      <td>editorUT</td>\n",
       "      <td>Contributor</td>\n",
       "      <td>110</td>\n",
       "    </tr>\n",
       "    <tr>\n",
       "      <th>4</th>\n",
       "      <td>fieldWorkerUT</td>\n",
       "      <td>Mobile Worker</td>\n",
       "      <td>110</td>\n",
       "    </tr>\n",
       "    <tr>\n",
       "      <th>5</th>\n",
       "      <td>GISProfessionalAdvUT</td>\n",
       "      <td>Professional Plus</td>\n",
       "      <td>110</td>\n",
       "    </tr>\n",
       "    <tr>\n",
       "      <th>6</th>\n",
       "      <td>GISProfessionalBasicUT</td>\n",
       "      <td>GIS Professional Basic</td>\n",
       "      <td>0</td>\n",
       "    </tr>\n",
       "    <tr>\n",
       "      <th>7</th>\n",
       "      <td>GISProfessionalStdUT</td>\n",
       "      <td>Professional</td>\n",
       "      <td>110</td>\n",
       "    </tr>\n",
       "    <tr>\n",
       "      <th>8</th>\n",
       "      <td>IndoorsUserUT</td>\n",
       "      <td>Indoors User</td>\n",
       "      <td>110</td>\n",
       "    </tr>\n",
       "    <tr>\n",
       "      <th>9</th>\n",
       "      <td>insightsAnalystUT</td>\n",
       "      <td>Insights Analyst</td>\n",
       "      <td>0</td>\n",
       "    </tr>\n",
       "    <tr>\n",
       "      <th>10</th>\n",
       "      <td>liteUT</td>\n",
       "      <td>Lite</td>\n",
       "      <td>110</td>\n",
       "    </tr>\n",
       "    <tr>\n",
       "      <th>11</th>\n",
       "      <td>standardUT</td>\n",
       "      <td>Standard</td>\n",
       "      <td>110</td>\n",
       "    </tr>\n",
       "    <tr>\n",
       "      <th>12</th>\n",
       "      <td>storytellerUT</td>\n",
       "      <td>Storyteller</td>\n",
       "      <td>0</td>\n",
       "    </tr>\n",
       "    <tr>\n",
       "      <th>13</th>\n",
       "      <td>viewerUT</td>\n",
       "      <td>Viewer</td>\n",
       "      <td>110</td>\n",
       "    </tr>\n",
       "  </tbody>\n",
       "</table>\n",
       "</div>"
      ],
      "text/plain": [
       "                  userType           userType Name  Maximum\n",
       "0               advancedUT                Advanced      110\n",
       "1                  basicUT                   Basic      110\n",
       "2                creatorUT                 Creator      220\n",
       "3                 editorUT             Contributor      110\n",
       "4            fieldWorkerUT           Mobile Worker      110\n",
       "5     GISProfessionalAdvUT       Professional Plus      110\n",
       "6   GISProfessionalBasicUT  GIS Professional Basic        0\n",
       "7     GISProfessionalStdUT            Professional      110\n",
       "8            IndoorsUserUT            Indoors User      110\n",
       "9        insightsAnalystUT        Insights Analyst        0\n",
       "10                  liteUT                    Lite      110\n",
       "11              standardUT                Standard      110\n",
       "12           storytellerUT             Storyteller        0\n",
       "13                viewerUT                  Viewer      110"
      ]
     },
     "execution_count": 43,
     "metadata": {},
     "output_type": "execute_result"
    }
   ],
   "source": [
    "utype_df"
   ]
  },
  {
   "cell_type": "code",
   "execution_count": 44,
   "id": "f4441491-864d-4a3c-add3-2dac1a4c1af8",
   "metadata": {},
   "outputs": [],
   "source": [
    "org_utypes = pd.merge(\n",
    "    left=utype_df, \n",
    "    right=utype_counts,\n",
    "    how=\"left\",\n",
    "    left_on=\"userType\",\n",
    "    right_on=\"userType\"\n",
    ")"
   ]
  },
  {
   "cell_type": "code",
   "execution_count": 45,
   "id": "3f763ba5-5c35-422f-a18e-07b7b3fc58d9",
   "metadata": {},
   "outputs": [],
   "source": [
    "org_utypes.rename(columns={\"count\":\"Consumed\"}, inplace=True)\n",
    "org_utypes = org_utypes.fillna({'Consumed':0})"
   ]
  },
  {
   "cell_type": "code",
   "execution_count": 46,
   "id": "2533e10e-84bf-4721-b905-23a67810002c",
   "metadata": {},
   "outputs": [],
   "source": [
    "org_utypes['Remaining'] = org_utypes['Maximum'] - org_utypes['Consumed']"
   ]
  },
  {
   "cell_type": "code",
   "execution_count": 47,
   "id": "b5c82a15-73d5-40cd-9a4f-e3fca9338f89",
   "metadata": {},
   "outputs": [
    {
     "data": {
      "text/html": [
       "<div>\n",
       "<style scoped>\n",
       "    .dataframe tbody tr th:only-of-type {\n",
       "        vertical-align: middle;\n",
       "    }\n",
       "\n",
       "    .dataframe tbody tr th {\n",
       "        vertical-align: top;\n",
       "    }\n",
       "\n",
       "    .dataframe thead th {\n",
       "        text-align: right;\n",
       "    }\n",
       "</style>\n",
       "<table border=\"1\" class=\"dataframe\">\n",
       "  <thead>\n",
       "    <tr style=\"text-align: right;\">\n",
       "      <th></th>\n",
       "      <th>userType</th>\n",
       "      <th>userType Name</th>\n",
       "      <th>Maximum</th>\n",
       "      <th>Consumed</th>\n",
       "      <th>Remaining</th>\n",
       "    </tr>\n",
       "  </thead>\n",
       "  <tbody>\n",
       "    <tr>\n",
       "      <th>0</th>\n",
       "      <td>advancedUT</td>\n",
       "      <td>Advanced</td>\n",
       "      <td>110</td>\n",
       "      <td>25.0</td>\n",
       "      <td>85.0</td>\n",
       "    </tr>\n",
       "    <tr>\n",
       "      <th>1</th>\n",
       "      <td>basicUT</td>\n",
       "      <td>Basic</td>\n",
       "      <td>110</td>\n",
       "      <td>0.0</td>\n",
       "      <td>110.0</td>\n",
       "    </tr>\n",
       "    <tr>\n",
       "      <th>2</th>\n",
       "      <td>creatorUT</td>\n",
       "      <td>Creator</td>\n",
       "      <td>220</td>\n",
       "      <td>46.0</td>\n",
       "      <td>174.0</td>\n",
       "    </tr>\n",
       "    <tr>\n",
       "      <th>3</th>\n",
       "      <td>editorUT</td>\n",
       "      <td>Contributor</td>\n",
       "      <td>110</td>\n",
       "      <td>0.0</td>\n",
       "      <td>110.0</td>\n",
       "    </tr>\n",
       "    <tr>\n",
       "      <th>4</th>\n",
       "      <td>fieldWorkerUT</td>\n",
       "      <td>Mobile Worker</td>\n",
       "      <td>110</td>\n",
       "      <td>0.0</td>\n",
       "      <td>110.0</td>\n",
       "    </tr>\n",
       "    <tr>\n",
       "      <th>5</th>\n",
       "      <td>GISProfessionalAdvUT</td>\n",
       "      <td>Professional Plus</td>\n",
       "      <td>110</td>\n",
       "      <td>7.0</td>\n",
       "      <td>103.0</td>\n",
       "    </tr>\n",
       "    <tr>\n",
       "      <th>6</th>\n",
       "      <td>GISProfessionalBasicUT</td>\n",
       "      <td>GIS Professional Basic</td>\n",
       "      <td>0</td>\n",
       "      <td>0.0</td>\n",
       "      <td>0.0</td>\n",
       "    </tr>\n",
       "    <tr>\n",
       "      <th>7</th>\n",
       "      <td>GISProfessionalStdUT</td>\n",
       "      <td>Professional</td>\n",
       "      <td>110</td>\n",
       "      <td>0.0</td>\n",
       "      <td>110.0</td>\n",
       "    </tr>\n",
       "    <tr>\n",
       "      <th>8</th>\n",
       "      <td>IndoorsUserUT</td>\n",
       "      <td>Indoors User</td>\n",
       "      <td>110</td>\n",
       "      <td>0.0</td>\n",
       "      <td>110.0</td>\n",
       "    </tr>\n",
       "    <tr>\n",
       "      <th>9</th>\n",
       "      <td>insightsAnalystUT</td>\n",
       "      <td>Insights Analyst</td>\n",
       "      <td>0</td>\n",
       "      <td>0.0</td>\n",
       "      <td>0.0</td>\n",
       "    </tr>\n",
       "    <tr>\n",
       "      <th>10</th>\n",
       "      <td>liteUT</td>\n",
       "      <td>Lite</td>\n",
       "      <td>110</td>\n",
       "      <td>0.0</td>\n",
       "      <td>110.0</td>\n",
       "    </tr>\n",
       "    <tr>\n",
       "      <th>11</th>\n",
       "      <td>standardUT</td>\n",
       "      <td>Standard</td>\n",
       "      <td>110</td>\n",
       "      <td>0.0</td>\n",
       "      <td>110.0</td>\n",
       "    </tr>\n",
       "    <tr>\n",
       "      <th>12</th>\n",
       "      <td>storytellerUT</td>\n",
       "      <td>Storyteller</td>\n",
       "      <td>0</td>\n",
       "      <td>0.0</td>\n",
       "      <td>0.0</td>\n",
       "    </tr>\n",
       "    <tr>\n",
       "      <th>13</th>\n",
       "      <td>viewerUT</td>\n",
       "      <td>Viewer</td>\n",
       "      <td>110</td>\n",
       "      <td>0.0</td>\n",
       "      <td>110.0</td>\n",
       "    </tr>\n",
       "  </tbody>\n",
       "</table>\n",
       "</div>"
      ],
      "text/plain": [
       "                  userType           userType Name  Maximum  Consumed  \\\n",
       "0               advancedUT                Advanced      110      25.0   \n",
       "1                  basicUT                   Basic      110       0.0   \n",
       "2                creatorUT                 Creator      220      46.0   \n",
       "3                 editorUT             Contributor      110       0.0   \n",
       "4            fieldWorkerUT           Mobile Worker      110       0.0   \n",
       "5     GISProfessionalAdvUT       Professional Plus      110       7.0   \n",
       "6   GISProfessionalBasicUT  GIS Professional Basic        0       0.0   \n",
       "7     GISProfessionalStdUT            Professional      110       0.0   \n",
       "8            IndoorsUserUT            Indoors User      110       0.0   \n",
       "9        insightsAnalystUT        Insights Analyst        0       0.0   \n",
       "10                  liteUT                    Lite      110       0.0   \n",
       "11              standardUT                Standard      110       0.0   \n",
       "12           storytellerUT             Storyteller        0       0.0   \n",
       "13                viewerUT                  Viewer      110       0.0   \n",
       "\n",
       "    Remaining  \n",
       "0        85.0  \n",
       "1       110.0  \n",
       "2       174.0  \n",
       "3       110.0  \n",
       "4       110.0  \n",
       "5       103.0  \n",
       "6         0.0  \n",
       "7       110.0  \n",
       "8       110.0  \n",
       "9         0.0  \n",
       "10      110.0  \n",
       "11      110.0  \n",
       "12        0.0  \n",
       "13      110.0  "
      ]
     },
     "execution_count": 47,
     "metadata": {},
     "output_type": "execute_result"
    }
   ],
   "source": [
    "org_utypes"
   ]
  },
  {
   "cell_type": "markdown",
   "id": "0b8f34f0-c8c6-401b-be3b-f6fb54961610",
   "metadata": {},
   "source": [
    "##### Create user with default role"
   ]
  },
  {
   "cell_type": "code",
   "execution_count": 48,
   "id": "a9264101-fdf0-4439-b8fc-3d638ba035dc",
   "metadata": {},
   "outputs": [
    {
     "data": {
      "text/plain": [
       "<User username:unique_user_X43_pmj>"
      ]
     },
     "execution_count": 48,
     "metadata": {},
     "output_type": "execute_result"
    }
   ],
   "source": [
    "new_user_contrib = gis.users.create(\n",
    "    username=\"unique_user_X43_pmj\",\n",
    "    password=\"IL0V3MyCatB0b!Always2\",\n",
    "    firstname=\"Cynthia\",\n",
    "    lastname=\"Coleridge-Taylor\",\n",
    "    email=\"jyaist@esri.com\",\n",
    "    role=\"Data Editor\",\n",
    "    user_type=\"Contributor\"\n",
    ")\n",
    "\n",
    "new_user_contrib"
   ]
  },
  {
   "cell_type": "code",
   "execution_count": 49,
   "id": "2f33015e-b7a2-41da-abe6-5a0adb4d1c4c",
   "metadata": {},
   "outputs": [
    {
     "name": "stdout",
     "output_type": "stream",
     "text": [
      "unique_user_X43_pmj      org_user       editorUT\n"
     ]
    }
   ],
   "source": [
    "print(f\"{new_user_contrib.username:25}{new_user_contrib.role:15}{new_user_contrib.userLicenseTypeId}\")"
   ]
  },
  {
   "cell_type": "code",
   "execution_count": 50,
   "id": "1039dd00-fd86-44ea-a0cf-2c8969d1b28c",
   "metadata": {},
   "outputs": [
    {
     "data": {
      "text/plain": [
       "True"
      ]
     },
     "execution_count": 50,
     "metadata": {},
     "output_type": "execute_result"
    }
   ],
   "source": [
    "%%capture --no-stdout --no-display\n",
    "\n",
    "new_user_contrib.delete()"
   ]
  },
  {
   "cell_type": "markdown",
   "id": "b44fc944-22ea-4cf2-8797-aef10059a428",
   "metadata": {},
   "source": [
    "##### Create user with custom role"
   ]
  },
  {
   "cell_type": "code",
   "execution_count": 51,
   "id": "0fcdd0c6-58e2-44ce-ad74-3a07a1c87179",
   "metadata": {},
   "outputs": [],
   "source": [
    "default_roles = [\"org_admin\", \"org_publisher\", \"org_user\"]"
   ]
  },
  {
   "cell_type": "code",
   "execution_count": 52,
   "id": "7d372188-6413-4c09-9326-bdb6cfeb9915",
   "metadata": {},
   "outputs": [],
   "source": [
    "all_roles = [f\"{r.name:30}{r.role_id}\" for r in gis.users.roles.all()]"
   ]
  },
  {
   "cell_type": "code",
   "execution_count": 53,
   "id": "194c14c2-15d9-429a-8618-f263ea18525e",
   "metadata": {},
   "outputs": [
    {
     "data": {
      "text/plain": [
       "['Viewer                        iAAAAAAAAAAAAAAA',\n",
       " 'Data Editor                   iBBBBBBBBBBBBBBB',\n",
       " 'Facilitator                   iCCCCCCCCCCCCCCC',\n",
       " 'role_eeff8                    0mhibizUiLDIsyIY',\n",
       " 'Nick Test 2                   1ZhKk7faJzCAzUkb',\n",
       " 'role_84979                    3cDE784lBhmtkl7l',\n",
       " 'role_d4bf8                    3lELJQcVCWIBvPL5',\n",
       " 'Analyst                       53JTWAmyPz3MLgwl',\n",
       " 'role_6f33c                    8MueSvFrA35xyg5p',\n",
       " 'role_17509                    alKlv4u6OLgkNetV',\n",
       " 'role_db009                    aojoNT0iz86h4dSY',\n",
       " 'role_ea533                    BABSkINe0cyu4csO',\n",
       " 'role_fda43                    bJzLJoHoSHeQIv1h',\n",
       " 'AGOLImageryAnalysis           bl8ksdIBpwV4pa1N',\n",
       " 'role_25fbd                    ChLk6bCpcLQX44xt',\n",
       " 'AllNotebookPrivileges         cMH6sh9YL5RNFtat',\n",
       " 'UC2018_GEOG471                DmZ9fQYjofiNtJWn',\n",
       " 'custom_admin_role             FP3itjacJA49MYaB',\n",
       " 'role_8f788                    fu6R9aBkLdOapKwb',\n",
       " 'role_ddc57                    G9PulRADa2GJ7vFR',\n",
       " 'tiles_publisher               gBC4ANXsKok12Lm4',\n",
       " 'role_9350e                    Hd8EymBmG6SlvGnR',\n",
       " 'role_4e54b                    hthLb4L6pxlh8wy2',\n",
       " 'role_03fff                    iltdet2BKRogsext',\n",
       " 'role_f8902                    l1jl7DSN1vt1uIBz',\n",
       " 'role_0c274                    LigAZHFv1kRt2uFZ',\n",
       " 'test_role                     m5QqqAHrw0o9WSzC',\n",
       " 'role_94ba3                    MHJPwSG2vZBTA8UC',\n",
       " 'role_96320                    mhZKiRDUlZG0V5k4',\n",
       " 'guest_notebooks_basic         o4mDG5PEwU2y7tlv',\n",
       " 'role_2c6e3                    otv5BJ24SNfC2ksd',\n",
       " 'advanced notebooks            PAH6xJAmWgYuF2vX',\n",
       " 'role_538b4                    R2bUVbwzIGAPXdil',\n",
       " 'role_c697e                    T53bl82Y4SgXHPeB',\n",
       " 'role_eee9f                    uR76l3fzkdecTuQq',\n",
       " 'role_612b9                    V7wnwPHFCPlXNJEH',\n",
       " 'role_46491                    VBdHkrE3gaBrTBSQ',\n",
       " 'role_4c774                    x49K80PyleBvzB8K',\n",
       " 'role_187d9                    zLbCq2JaP4CrWc6m',\n",
       " 'role_826b9                    ZqTsJKf95qO1FIiA']"
      ]
     },
     "execution_count": 53,
     "metadata": {},
     "output_type": "execute_result"
    }
   ],
   "source": [
    "all_roles"
   ]
  },
  {
   "cell_type": "code",
   "execution_count": 54,
   "id": "aa8a8c3a-e95e-423a-b008-e3c5ccba2cd2",
   "metadata": {},
   "outputs": [],
   "source": [
    "new_user_tiles = gis.users.create(\n",
    "    username=\"unique_user_C98_xlM\",\n",
    "    password=\"IL0V3MyCatB0b!Always3\",\n",
    "    firstname=\"Abraham\",\n",
    "    lastname=\"Pressich\",\n",
    "    email=\"jyaist@esri.com\",\n",
    "    role=\"tiles_publisher\",\n",
    "    user_type=\"Professional\"\n",
    ")"
   ]
  },
  {
   "cell_type": "code",
   "execution_count": 55,
   "id": "da91d9f4-df98-4549-b27b-db2dd4a96ddb",
   "metadata": {},
   "outputs": [
    {
     "name": "stdout",
     "output_type": "stream",
     "text": [
      "unique_user_C98_xlM      gBC4ANXsKok12Lm4    GISProfessionalStdUT\n"
     ]
    }
   ],
   "source": [
    "print(f\"{new_user_tiles.username:25}{new_user_tiles.roleId:20}{new_user_tiles.userLicenseTypeId}\")"
   ]
  },
  {
   "cell_type": "markdown",
   "id": "c3dd4b62",
   "metadata": {},
   "source": [
    "### Working with Roles and User Types"
   ]
  },
  {
   "cell_type": "markdown",
   "id": "34e1c85c",
   "metadata": {},
   "source": [
    "<img src=\"./img/know_your_role.jpg\" width=100 />"
   ]
  },
  {
   "cell_type": "markdown",
   "id": "e684559c",
   "metadata": {
    "editable": true,
    "slideshow": {
     "slide_type": ""
    },
    "tags": []
   },
   "source": [
    "#### User types"
   ]
  },
  {
   "cell_type": "markdown",
   "id": "2a2c77a7",
   "metadata": {},
   "source": [
    "- User type determines the privileges that can be granted to the member through a default or custom role\n",
    "- Common Roles:\n",
    "  + viewer, creator and administrator"
   ]
  },
  {
   "cell_type": "markdown",
   "id": "b0e84239-423c-4f8a-ab91-ad86a6be7b88",
   "metadata": {},
   "source": [
    "##### Get a user and current _user_type_"
   ]
  },
  {
   "cell_type": "code",
   "execution_count": 56,
   "id": "e0f10515",
   "metadata": {},
   "outputs": [],
   "source": [
    "user = gis.users.search(new_user_tiles.username)[0]"
   ]
  },
  {
   "cell_type": "code",
   "execution_count": 57,
   "id": "9a5f0bf1",
   "metadata": {},
   "outputs": [
    {
     "data": {
      "text/plain": [
       "'GISProfessionalStdUT'"
      ]
     },
     "execution_count": 57,
     "metadata": {},
     "output_type": "execute_result"
    }
   ],
   "source": [
    "user.user_types()['id']"
   ]
  },
  {
   "cell_type": "markdown",
   "id": "5555f14b-7595-457f-ae7e-9f5e358b3589",
   "metadata": {},
   "source": [
    "##### Get the ArcGIS Pro license from the organization\n",
    "We can use the _check()_ method to inspect the user's current licensing for Pro."
   ]
  },
  {
   "cell_type": "code",
   "execution_count": 58,
   "id": "92c7fd85-bacb-4797-8146-76e5b3ce53fa",
   "metadata": {},
   "outputs": [
    {
     "data": {
      "text/plain": [
       "<ArcGIS Pro License @ https://geosaurus.maps.arcgis.com/sharing/rest/ >"
      ]
     },
     "execution_count": 58,
     "metadata": {},
     "output_type": "execute_result"
    }
   ],
   "source": [
    "%%capture --no-stdout --no-display\n",
    "\n",
    "pro = [pl for pl in gis.admin.license.all() if \"Pro\" in pl.properties.listing['title']][0]\n",
    "pro"
   ]
  },
  {
   "cell_type": "code",
   "execution_count": 59,
   "id": "2e1d8b5c-0991-4093-a57b-eea36cedcfd2",
   "metadata": {},
   "outputs": [
    {
     "data": {
      "text/plain": [
       "['desktopStdN']"
      ]
     },
     "execution_count": 59,
     "metadata": {},
     "output_type": "execute_result"
    }
   ],
   "source": [
    "pro.check(user=user.username)"
   ]
  },
  {
   "cell_type": "markdown",
   "id": "7d919ea4-33bc-4d87-92fa-1b1ff0dfbc34",
   "metadata": {},
   "source": [
    "##### Update the user type \n",
    "Use the _update_license_type()_ method to update the _user_type_ using the appropriate user type value."
   ]
  },
  {
   "cell_type": "code",
   "execution_count": 60,
   "id": "082fb454",
   "metadata": {},
   "outputs": [
    {
     "data": {
      "text/plain": [
       "'GISProfessionalAdvUT'"
      ]
     },
     "execution_count": 60,
     "metadata": {},
     "output_type": "execute_result"
    }
   ],
   "source": [
    "user.update_license_type(\"GISProfessionalAdvUT\")\n",
    "user.user_types()['id']"
   ]
  },
  {
   "cell_type": "code",
   "execution_count": 61,
   "id": "39ef8946-b98b-4730-a24e-2b24c3a505a9",
   "metadata": {},
   "outputs": [
    {
     "data": {
      "text/plain": [
       "['locateXTN',\n",
       " '3DAnalystN',\n",
       " 'workflowMgrN',\n",
       " 'desktopAdvN',\n",
       " 'geostatAnalystN',\n",
       " 'dataReviewerN',\n",
       " 'networkAnalystN',\n",
       " 'spatialAnalystN',\n",
       " 'imageAnalystN',\n",
       " 'publisherN']"
      ]
     },
     "execution_count": 61,
     "metadata": {},
     "output_type": "execute_result"
    }
   ],
   "source": [
    "pro.check(user=user.username)"
   ]
  },
  {
   "cell_type": "code",
   "execution_count": 62,
   "id": "b4aecdb3",
   "metadata": {},
   "outputs": [
    {
     "data": {
      "text/plain": [
       "'creatorUT'"
      ]
     },
     "execution_count": 62,
     "metadata": {},
     "output_type": "execute_result"
    }
   ],
   "source": [
    "user.update_license_type(\"creatorUT\")\n",
    "user.user_types()['id']"
   ]
  },
  {
   "cell_type": "code",
   "execution_count": 63,
   "id": "2868ebbc",
   "metadata": {},
   "outputs": [
    {
     "data": {
      "text/plain": [
       "['desktopBasicN']"
      ]
     },
     "execution_count": 63,
     "metadata": {},
     "output_type": "execute_result"
    }
   ],
   "source": [
    "pro.check(user=user.username)"
   ]
  },
  {
   "cell_type": "markdown",
   "id": "2ceb755a",
   "metadata": {},
   "source": [
    "#### Working with Roles"
   ]
  },
  {
   "cell_type": "markdown",
   "id": "2dc6bcfe",
   "metadata": {},
   "source": [
    "- A role defines the set of privileges assigned to a member"
   ]
  },
  {
   "cell_type": "markdown",
   "id": "c56371e1",
   "metadata": {},
   "source": [
    "##### **Accessing Role Manager**"
   ]
  },
  {
   "cell_type": "code",
   "execution_count": 64,
   "id": "ec629e62",
   "metadata": {},
   "outputs": [
    {
     "data": {
      "text/plain": [
       "<arcgis.gis.RoleManager at 0x137fea350>"
      ]
     },
     "execution_count": 64,
     "metadata": {},
     "output_type": "execute_result"
    }
   ],
   "source": [
    "rm = gis.users.roles\n",
    "rm"
   ]
  },
  {
   "cell_type": "markdown",
   "id": "0ab6a5e0",
   "metadata": {},
   "source": [
    "##### **Listing Roles**\n",
    "\n",
    "- notice that roles can have the same name!\n"
   ]
  },
  {
   "cell_type": "code",
   "execution_count": 65,
   "id": "f01334fa",
   "metadata": {},
   "outputs": [
    {
     "name": "stdout",
     "output_type": "stream",
     "text": [
      "Viewer                        iAAAAAAAAAAAAAAA              Viewer\n",
      "Data Editor                   iBBBBBBBBBBBBBBB              Data Editor\n",
      "Facilitator                   iCCCCCCCCCCCCCCC              Facilitator\n",
      "role_eeff8                    0mhibizUiLDIsyIY              description\n",
      "Nick Test 2                   1ZhKk7faJzCAzUkb              sdfsdf\n",
      "role_84979                    3cDE784lBhmtkl7l              description\n",
      "role_d4bf8                    3lELJQcVCWIBvPL5              description\n",
      "Analyst                       53JTWAmyPz3MLgwl              A role created from the default Analyst Template for testing of it's id value\n",
      "role_6f33c                    8MueSvFrA35xyg5p              description\n",
      "role_17509                    alKlv4u6OLgkNetV              description\n",
      "role_db009                    aojoNT0iz86h4dSY              description\n",
      "role_ea533                    BABSkINe0cyu4csO              description\n",
      "role_fda43                    bJzLJoHoSHeQIv1h              description\n",
      "AGOLImageryAnalysis           bl8ksdIBpwV4pa1N              AGOLImageryAnalysis\n",
      "role_25fbd                    ChLk6bCpcLQX44xt              description\n",
      "AllNotebookPrivileges         cMH6sh9YL5RNFtat              All Notebook Privileges\n",
      "UC2018_GEOG471                DmZ9fQYjofiNtJWn              Special Role for Students enrolled in GEOG471\n",
      "custom_admin_role             FP3itjacJA49MYaB              Custom role based on administrator role\n",
      "role_8f788                    fu6R9aBkLdOapKwb              description\n",
      "role_ddc57                    G9PulRADa2GJ7vFR              description\n",
      "tiles_publisher               gBC4ANXsKok12Lm4              User that can publish tile layers\n",
      "role_9350e                    Hd8EymBmG6SlvGnR              description\n",
      "role_4e54b                    hthLb4L6pxlh8wy2              description\n",
      "role_03fff                    iltdet2BKRogsext              description\n",
      "role_f8902                    l1jl7DSN1vt1uIBz              description\n",
      "role_0c274                    LigAZHFv1kRt2uFZ              description\n",
      "test_role                     m5QqqAHrw0o9WSzC              test\n",
      "role_94ba3                    MHJPwSG2vZBTA8UC              description\n",
      "role_96320                    mhZKiRDUlZG0V5k4              description\n",
      "guest_notebooks_basic         o4mDG5PEwU2y7tlv              does stuff.\n",
      "role_2c6e3                    otv5BJ24SNfC2ksd              description\n",
      "advanced notebooks            PAH6xJAmWgYuF2vX              advanced notebooks\n",
      "role_538b4                    R2bUVbwzIGAPXdil              description\n",
      "role_c697e                    T53bl82Y4SgXHPeB              description\n",
      "role_eee9f                    uR76l3fzkdecTuQq              description\n",
      "role_612b9                    V7wnwPHFCPlXNJEH              description\n",
      "role_46491                    VBdHkrE3gaBrTBSQ              description\n",
      "role_4c774                    x49K80PyleBvzB8K              description\n",
      "role_187d9                    zLbCq2JaP4CrWc6m              description\n",
      "role_826b9                    ZqTsJKf95qO1FIiA              description\n"
     ]
    }
   ],
   "source": [
    "for r in rm.all():\n",
    "    print(f\"{r.name:30}{r.role_id:30}{r.description}\")"
   ]
  },
  {
   "cell_type": "markdown",
   "id": "0194244b",
   "metadata": {},
   "source": [
    "##### **Check for Existence of a Role**\n",
    "You can look for roles by name:"
   ]
  },
  {
   "cell_type": "code",
   "execution_count": 66,
   "id": "be88e97f",
   "metadata": {},
   "outputs": [
    {
     "data": {
      "text/plain": [
       "False"
      ]
     },
     "execution_count": 66,
     "metadata": {},
     "output_type": "execute_result"
    }
   ],
   "source": [
    "rm.exists('DataEditorRole')"
   ]
  },
  {
   "cell_type": "markdown",
   "id": "42eba509-7074-41aa-9f35-6494dbbd6553",
   "metadata": {},
   "source": [
    "##### **Create a custom role**"
   ]
  },
  {
   "cell_type": "code",
   "execution_count": 67,
   "id": "9b04b4ae",
   "metadata": {},
   "outputs": [
    {
     "data": {
      "text/plain": [
       "<Role name: DataEditorRole, description: Allow to modify service data>"
      ]
     },
     "execution_count": 67,
     "metadata": {},
     "output_type": "execute_result"
    }
   ],
   "source": [
    "custom_role = rm.create(\n",
    "    name=\"DataEditorRole\", \n",
    "    description=\"Allow to modify service data\", \n",
    "    privileges=[\n",
    "        \"features:user:edit\",\n",
    "        \"features:user:fullEdit\",\n",
    "        \"opendata:user:designateGroup\",\n",
    "        \"portal:admin:viewUsers\",\n",
    "        \"portal:user:createGroup\"\n",
    "    ]\n",
    ")\n",
    "\n",
    "custom_role"
   ]
  },
  {
   "cell_type": "code",
   "execution_count": 68,
   "id": "3bdcc464-09a4-486c-9e4a-2081241532ac",
   "metadata": {},
   "outputs": [
    {
     "name": "stdout",
     "output_type": "stream",
     "text": [
      "DataEditorRole      CGINPJCTKwyDbwt4\n"
     ]
    }
   ],
   "source": [
    "print(f\"{custom_role.name:20}{custom_role.role_id}\")"
   ]
  },
  {
   "cell_type": "markdown",
   "id": "e82b79d9-c238-4d12-aae6-f3141d308b5f",
   "metadata": {},
   "source": [
    "##### **Create new user with defaults**"
   ]
  },
  {
   "cell_type": "code",
   "execution_count": 69,
   "id": "481d8174",
   "metadata": {},
   "outputs": [
    {
     "data": {
      "text/plain": [
       "<User username:RUserf32d>"
      ]
     },
     "execution_count": 69,
     "metadata": {},
     "output_type": "execute_result"
    }
   ],
   "source": [
    "username = f\"RUser{uuid.uuid4().hex[:4]}\"\n",
    "password = f\"!{uuid.uuid4().hex[:8]}A\"\n",
    "\n",
    "new_crole_user = umgr.create(\n",
    "    username=username, \n",
    "    password=password, \n",
    "    firstname=\"Ronald\", \n",
    "    lastname=\"Jasper\", \n",
    "    email='testsadf@esri.com')\n",
    "\n",
    "new_crole_user"
   ]
  },
  {
   "cell_type": "code",
   "execution_count": 70,
   "id": "17402cd2-a812-4a92-81ad-dfab290d427f",
   "metadata": {},
   "outputs": [
    {
     "name": "stdout",
     "output_type": "stream",
     "text": [
      "RUserf32d                org_publisher       creatorUT\n"
     ]
    }
   ],
   "source": [
    "print(f\"{new_crole_user.username:25}{new_crole_user.role:20}{new_crole_user.userLicenseTypeId}\")"
   ]
  },
  {
   "cell_type": "markdown",
   "id": "27beaffc-5dd2-4e42-83af-08846919a7a7",
   "metadata": {},
   "source": [
    "##### **Update the role**"
   ]
  },
  {
   "cell_type": "code",
   "execution_count": 71,
   "id": "edb82223",
   "metadata": {},
   "outputs": [
    {
     "data": {
      "text/plain": [
       "True"
      ]
     },
     "execution_count": 71,
     "metadata": {},
     "output_type": "execute_result"
    }
   ],
   "source": [
    "new_crole_user.update_role(custom_role)"
   ]
  },
  {
   "cell_type": "code",
   "execution_count": 72,
   "id": "d770f099",
   "metadata": {},
   "outputs": [
    {
     "data": {
      "text/plain": [
       "True"
      ]
     },
     "execution_count": 72,
     "metadata": {},
     "output_type": "execute_result"
    }
   ],
   "source": [
    "new_crole_user.roleId == custom_role.role_id"
   ]
  },
  {
   "cell_type": "markdown",
   "id": "e3a52c71",
   "metadata": {},
   "source": [
    "##### **Removing the new user and role**"
   ]
  },
  {
   "cell_type": "code",
   "execution_count": 73,
   "id": "1f276e2c",
   "metadata": {},
   "outputs": [
    {
     "data": {
      "text/plain": [
       "True"
      ]
     },
     "execution_count": 73,
     "metadata": {},
     "output_type": "execute_result"
    }
   ],
   "source": [
    "%%capture --no-stdout --no-display\n",
    "\n",
    "new_crole_user.delete()\n",
    "custom_role.delete()"
   ]
  },
  {
   "cell_type": "code",
   "execution_count": 74,
   "id": "21bff90f-d774-48d5-b574-4c8ad58b70b0",
   "metadata": {},
   "outputs": [
    {
     "data": {
      "text/plain": [
       "True"
      ]
     },
     "execution_count": 74,
     "metadata": {},
     "output_type": "execute_result"
    }
   ],
   "source": [
    "%%capture --no-stdout --no-display\n",
    "new_user_tiles.delete()"
   ]
  }
 ],
 "metadata": {
  "kernelspec": {
   "display_name": "Python 3 (ipykernel)",
   "language": "python",
   "name": "python3"
  },
  "language_info": {
   "codemirror_mode": {
    "name": "ipython",
    "version": 3
   },
   "file_extension": ".py",
   "mimetype": "text/x-python",
   "name": "python",
   "nbconvert_exporter": "python",
   "pygments_lexer": "ipython3",
   "version": "3.11.0"
  }
 },
 "nbformat": 4,
 "nbformat_minor": 5
}
