{
 "cells": [
  {
   "cell_type": "markdown",
   "id": "dc90d21f",
   "metadata": {},
   "source": [
    "### Import Libraries"
   ]
  },
  {
   "cell_type": "code",
   "execution_count": 48,
   "id": "fed28b02",
   "metadata": {},
   "outputs": [],
   "source": [
    "from arcgis.gis import GIS"
   ]
  },
  {
   "cell_type": "markdown",
   "id": "fab67254",
   "metadata": {},
   "source": [
    "### Connect to organizations"
   ]
  },
  {
   "cell_type": "code",
   "execution_count": null,
   "id": "256c2f7e",
   "metadata": {},
   "outputs": [],
   "source": [
    "source = GIS(profile=\"web_gis_user\")\n",
    "target = GIS(profile=\"another_gis_user\")"
   ]
  },
  {
   "cell_type": "markdown",
   "id": "ca9eb2d4",
   "metadata": {},
   "source": [
    "### Get application item"
   ]
  },
  {
   "cell_type": "code",
   "execution_count": 50,
   "id": "8210b323",
   "metadata": {},
   "outputs": [
    {
     "data": {
      "text/html": [
       "<div class=\"item_container\" style=\"height: auto; overflow: hidden; border: 1px solid #cfcfcf; border-radius: 2px; background: #f6fafa; line-height: 1.21429em; padding: 10px;\">\n",
       "                    <div class=\"item_left\" style=\"width: 210px; float: left;\">\n",
       "                       <a href='https://geosaurus.maps.arcgis.com/home/item.html?id=3647f2630c16402b8c6fba91210a513a' target='_blank'>\n",
       "                        <img src='data:image/png;base64,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' width='200' height='133' class=\"itemThumbnail\">\n",
       "                       </a>\n",
       "                    </div>\n",
       "\n",
       "                    <div class=\"item_right\"     style=\"float: none; width: auto; overflow: hidden;\">\n",
       "                        <a href='https://geosaurus.maps.arcgis.com/home/item.html?id=3647f2630c16402b8c6fba91210a513a' target='_blank'><b>Allie Co-Worker Map</b>\n",
       "                        </a>\n",
       "                        <br/><img src='https://geosaurus.maps.arcgis.com/home/js/arcgisonline/img/item-types/apps16.svg' style=\"vertical-align:middle;\" width=16 height=16>Web Mapping Application by web_gis_user\n",
       "                        <br/>Last Modified: March 01, 2023\n",
       "                        <br/>0 comments, 120 views\n",
       "                    </div>\n",
       "                </div>\n",
       "                "
      ],
      "text/plain": [
       "<Item title:\"Allie Co-Worker Map\" type:Web Mapping Application owner:web_gis_user>"
      ]
     },
     "execution_count": 50,
     "metadata": {},
     "output_type": "execute_result"
    }
   ],
   "source": [
    "instant_app = source.content.get(\"3647f2630c16402b8c6fba91210a513a\")\n",
    "instant_app"
   ]
  },
  {
   "cell_type": "markdown",
   "id": "b0315e8a",
   "metadata": {},
   "source": [
    "### Inspect item properties"
   ]
  },
  {
   "cell_type": "code",
   "execution_count": 51,
   "id": "98a51dba",
   "metadata": {},
   "outputs": [
    {
     "data": {
      "text/plain": [
       "'Web Mapping Application'"
      ]
     },
     "execution_count": 51,
     "metadata": {},
     "output_type": "execute_result"
    }
   ],
   "source": [
    "instant_app.type"
   ]
  },
  {
   "cell_type": "code",
   "execution_count": 52,
   "id": "63c7472e",
   "metadata": {},
   "outputs": [
    {
     "data": {
      "text/plain": [
       "{'source': 'a3cbc26d59124dfd9b6b740937f37d10',\n",
       " 'folderId': 'root',\n",
       " 'values': {'webmap': '50bebdf6a4e2438a8fa6149012f337ff',\n",
       "  'type': 'webmap',\n",
       "  'searchConfiguration': {'allPlaceholder': 'Find address or place',\n",
       "   'sources': [{'url': 'https://geocode.arcgis.com/arcgis/rest/services/World/GeocodeServer',\n",
       "     'singleLineFieldName': None,\n",
       "     'name': 'ArcGIS World Geocoding Service',\n",
       "     'placeholder': 'Find address or place',\n",
       "     'maxResults': None,\n",
       "     'maxSuggestions': None,\n",
       "     'suggestionsEnabled': None,\n",
       "     'minSuggestCharacters': None,\n",
       "     'withinViewEnabled': False,\n",
       "     'countryCode': None,\n",
       "     'zoomScale': None},\n",
       "    {'url': 'https://geocode.arcgis.com/arcgis/rest/services/World/GeocodeServer',\n",
       "     'singleLineFieldName': None,\n",
       "     'name': 'ArcGIS World Geocoding Service',\n",
       "     'placeholder': 'Find address or place',\n",
       "     'maxResults': None,\n",
       "     'maxSuggestions': None,\n",
       "     'suggestionsEnabled': None,\n",
       "     'minSuggestCharacters': None,\n",
       "     'withinViewEnabled': False,\n",
       "     'countryCode': None,\n",
       "     'zoomScale': None}],\n",
       "   'activeSourceIndex': 0,\n",
       "   'includeDefaultSources': False},\n",
       "  'legend': False,\n",
       "  'theme': 'dark',\n",
       "  'datePublished': 1671551935959,\n",
       "  'fullAppSettings': False,\n",
       "  'draft': {'searchConfiguration': {'allPlaceholder': 'Find address or place',\n",
       "    'sources': [{'url': 'https://geocode.arcgis.com/arcgis/rest/services/World/GeocodeServer',\n",
       "      'singleLineFieldName': None,\n",
       "      'name': 'ArcGIS World Geocoding Service',\n",
       "      'placeholder': 'Find address or place',\n",
       "      'maxResults': None,\n",
       "      'maxSuggestions': None,\n",
       "      'suggestionsEnabled': None,\n",
       "      'minSuggestCharacters': None,\n",
       "      'withinViewEnabled': False,\n",
       "      'countryCode': None,\n",
       "      'zoomScale': None},\n",
       "     {'url': 'https://geocode.arcgis.com/arcgis/rest/services/World/GeocodeServer',\n",
       "      'singleLineFieldName': None,\n",
       "      'name': 'ArcGIS World Geocoding Service',\n",
       "      'placeholder': 'Find address or place',\n",
       "      'maxResults': None,\n",
       "      'maxSuggestions': None,\n",
       "      'suggestionsEnabled': None,\n",
       "      'minSuggestCharacters': None,\n",
       "      'withinViewEnabled': False,\n",
       "      'countryCode': None,\n",
       "      'zoomScale': None}],\n",
       "    'activeSourceIndex': 0},\n",
       "   'lastSavedDraftDate': 1677687220503}}}"
      ]
     },
     "execution_count": 52,
     "metadata": {},
     "output_type": "execute_result"
    }
   ],
   "source": [
    "app_definition = instant_app.get_data()\n",
    "app_definition"
   ]
  },
  {
   "cell_type": "code",
   "execution_count": 53,
   "id": "4570b35d",
   "metadata": {},
   "outputs": [
    {
     "data": {
      "text/html": [
       "<div class=\"item_container\" style=\"height: auto; overflow: hidden; border: 1px solid #cfcfcf; border-radius: 2px; background: #f6fafa; line-height: 1.21429em; padding: 10px;\">\n",
       "                    <div class=\"item_left\" style=\"width: 210px; float: left;\">\n",
       "                       <a href='https://geosaurus.maps.arcgis.com/home/item.html?id=50bebdf6a4e2438a8fa6149012f337ff' target='_blank'>\n",
       "                        <img src='data:image/png;base64,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' width='200' height='133' class=\"itemThumbnail\">\n",
       "                       </a>\n",
       "                    </div>\n",
       "\n",
       "                    <div class=\"item_right\"     style=\"float: none; width: auto; overflow: hidden;\">\n",
       "                        <a href='https://geosaurus.maps.arcgis.com/home/item.html?id=50bebdf6a4e2438a8fa6149012f337ff' target='_blank'><b>Allie Co-Worker Map</b>\n",
       "                        </a>\n",
       "                        <br/><img src='https://geosaurus.maps.arcgis.com/home/js/jsapi/esri/css/images/item_type_icons/maps16.png' style=\"vertical-align:middle;\" width=16 height=16>Web Map by web_gis_user\n",
       "                        <br/>Last Modified: December 20, 2022\n",
       "                        <br/>0 comments, 88 views\n",
       "                    </div>\n",
       "                </div>\n",
       "                "
      ],
      "text/plain": [
       "<Item title:\"Allie Co-Worker Map\" type:Web Map owner:web_gis_user>"
      ]
     },
     "execution_count": 53,
     "metadata": {},
     "output_type": "execute_result"
    }
   ],
   "source": [
    "source.content.get(app_definition['values']['webmap'])"
   ]
  },
  {
   "cell_type": "markdown",
   "id": "2be6edf8",
   "metadata": {},
   "source": [
    "### Clone application"
   ]
  },
  {
   "cell_type": "code",
   "execution_count": null,
   "id": "14fca693",
   "metadata": {},
   "outputs": [],
   "source": [
    "try:\n",
    "    if not [f.name for f in list(target.content.folders.list())][0]:\n",
    "        target.content.folders.create(folder=\"instant_clone\")\n",
    "    clone_result = target.content.clone_items(items=[instant_app],\n",
    "                                              folder=\"instant_clone\")\n",
    "    clone_result\n",
    "except Exception as e:\n",
    "    print(f\"Cloning instant app {instant_app.title} failed.\")\n",
    "    print(f\"{str(e)}\")\n"
   ]
  },
  {
   "cell_type": "code",
   "execution_count": 55,
   "id": "cd0195d8",
   "metadata": {},
   "outputs": [
    {
     "data": {
      "text/plain": [
       "[<Item title:\"Allie_CoworkerMap\" type:Feature Layer Collection owner:another_gis_user>,\n",
       " <Item title:\"Allie Co-Worker Map\" type:Web Map owner:another_gis_user>,\n",
       " <Item title:\"Allie Co-Worker Map\" type:Web Mapping Application owner:another_gis_user>]"
      ]
     },
     "execution_count": 55,
     "metadata": {},
     "output_type": "execute_result"
    }
   ],
   "source": [
    "clone_result"
   ]
  },
  {
   "cell_type": "code",
   "execution_count": 56,
   "id": "7a243dfd",
   "metadata": {},
   "outputs": [],
   "source": [
    "cloned_app = clone_result[2]"
   ]
  },
  {
   "cell_type": "markdown",
   "id": "c8c0390e",
   "metadata": {},
   "source": [
    "### Compare results"
   ]
  },
  {
   "cell_type": "code",
   "execution_count": 57,
   "id": "c19cd4ba",
   "metadata": {},
   "outputs": [
    {
     "data": {
      "text/plain": [
       "{'source': 'a3cbc26d59124dfd9b6b740937f37d10',\n",
       " 'folderId': 'e049330840364d4c9bfb3863198c5f28',\n",
       " 'values': {'webmap': 'ae81f22bc7b84ea6bb5cd712321d062c',\n",
       "  'type': 'webmap',\n",
       "  'searchConfiguration': {'allPlaceholder': 'Find address or place',\n",
       "   'sources': [{'url': 'https://geocode.arcgis.com/arcgis/rest/services/World/GeocodeServer',\n",
       "     'singleLineFieldName': None,\n",
       "     'name': 'ArcGIS World Geocoding Service',\n",
       "     'placeholder': 'Find address or place',\n",
       "     'maxResults': None,\n",
       "     'maxSuggestions': None,\n",
       "     'suggestionsEnabled': None,\n",
       "     'minSuggestCharacters': None,\n",
       "     'withinViewEnabled': False,\n",
       "     'countryCode': None,\n",
       "     'zoomScale': None},\n",
       "    {'url': 'https://geocode.arcgis.com/arcgis/rest/services/World/GeocodeServer',\n",
       "     'singleLineFieldName': None,\n",
       "     'name': 'ArcGIS World Geocoding Service',\n",
       "     'placeholder': 'Find address or place',\n",
       "     'maxResults': None,\n",
       "     'maxSuggestions': None,\n",
       "     'suggestionsEnabled': None,\n",
       "     'minSuggestCharacters': None,\n",
       "     'withinViewEnabled': False,\n",
       "     'countryCode': None,\n",
       "     'zoomScale': None}],\n",
       "   'activeSourceIndex': 0,\n",
       "   'includeDefaultSources': False},\n",
       "  'legend': False,\n",
       "  'theme': 'dark',\n",
       "  'datePublished': 1671551935959,\n",
       "  'fullAppSettings': False,\n",
       "  'draft': {'searchConfiguration': {'allPlaceholder': 'Find address or place',\n",
       "    'sources': [{'url': 'https://geocode.arcgis.com/arcgis/rest/services/World/GeocodeServer',\n",
       "      'singleLineFieldName': None,\n",
       "      'name': 'ArcGIS World Geocoding Service',\n",
       "      'placeholder': 'Find address or place',\n",
       "      'maxResults': None,\n",
       "      'maxSuggestions': None,\n",
       "      'suggestionsEnabled': None,\n",
       "      'minSuggestCharacters': None,\n",
       "      'withinViewEnabled': False,\n",
       "      'countryCode': None,\n",
       "      'zoomScale': None},\n",
       "     {'url': 'https://geocode.arcgis.com/arcgis/rest/services/World/GeocodeServer',\n",
       "      'singleLineFieldName': None,\n",
       "      'name': 'ArcGIS World Geocoding Service',\n",
       "      'placeholder': 'Find address or place',\n",
       "      'maxResults': None,\n",
       "      'maxSuggestions': None,\n",
       "      'suggestionsEnabled': None,\n",
       "      'minSuggestCharacters': None,\n",
       "      'withinViewEnabled': False,\n",
       "      'countryCode': None,\n",
       "      'zoomScale': None}],\n",
       "    'activeSourceIndex': 0},\n",
       "   'lastSavedDraftDate': 1677687220503}}}"
      ]
     },
     "execution_count": 57,
     "metadata": {},
     "output_type": "execute_result"
    }
   ],
   "source": [
    "clone_app_definition = cloned_app.get_data()\n",
    "clone_app_definition"
   ]
  },
  {
   "cell_type": "code",
   "execution_count": 58,
   "id": "e7823338",
   "metadata": {},
   "outputs": [
    {
     "data": {
      "text/html": [
       "<div class=\"item_container\" style=\"height: auto; overflow: hidden; border: 1px solid #cfcfcf; border-radius: 2px; background: #f6fafa; line-height: 1.21429em; padding: 10px;\">\n",
       "                    <div class=\"item_left\" style=\"width: 210px; float: left;\">\n",
       "                       <a href='https://pythonapi.maps.arcgis.com/home/item.html?id=ae81f22bc7b84ea6bb5cd712321d062c' target='_blank'>\n",
       "                        <img src='data:image/png;base64,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' width='200' height='133' class=\"itemThumbnail\">\n",
       "                       </a>\n",
       "                    </div>\n",
       "\n",
       "                    <div class=\"item_right\"     style=\"float: none; width: auto; overflow: hidden;\">\n",
       "                        <a href='https://pythonapi.maps.arcgis.com/home/item.html?id=ae81f22bc7b84ea6bb5cd712321d062c' target='_blank'><b>Allie Co-Worker Map</b>\n",
       "                        </a>\n",
       "                        <br/><img src='https://pythonapi.maps.arcgis.com/home/js/jsapi/esri/css/images/item_type_icons/maps16.png' style=\"vertical-align:middle;\" width=16 height=16>Web Map by another_gis_user\n",
       "                        <br/>Last Modified: March 13, 2024\n",
       "                        <br/>0 comments, 0 views\n",
       "                    </div>\n",
       "                </div>\n",
       "                "
      ],
      "text/plain": [
       "<Item title:\"Allie Co-Worker Map\" type:Web Map owner:another_gis_user>"
      ]
     },
     "execution_count": 58,
     "metadata": {},
     "output_type": "execute_result"
    }
   ],
   "source": [
    "target.content.get(clone_app_definition['values']['webmap'])"
   ]
  }
 ],
 "metadata": {
  "kernelspec": {
   "display_name": "Python 3 (ipykernel)",
   "language": "python",
   "name": "python3"
  },
  "language_info": {
   "codemirror_mode": {
    "name": "ipython",
    "version": 3
   },
   "file_extension": ".py",
   "mimetype": "text/x-python",
   "name": "python",
   "nbconvert_exporter": "python",
   "pygments_lexer": "ipython3",
   "version": "3.9.17"
  }
 },
 "nbformat": 4,
 "nbformat_minor": 5
}
