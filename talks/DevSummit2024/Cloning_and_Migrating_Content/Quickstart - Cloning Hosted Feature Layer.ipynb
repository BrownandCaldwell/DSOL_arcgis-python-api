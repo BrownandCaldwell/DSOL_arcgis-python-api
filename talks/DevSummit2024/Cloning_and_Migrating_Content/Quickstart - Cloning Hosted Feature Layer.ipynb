{
 "cells": [
  {
   "cell_type": "markdown",
   "metadata": {},
   "source": [
    "## Import libraries"
   ]
  },
  {
   "cell_type": "code",
   "execution_count": null,
   "metadata": {
    "scrolled": false
   },
   "outputs": [],
   "source": [
    "from arcgis.gis import GIS"
   ]
  },
  {
   "cell_type": "markdown",
   "metadata": {},
   "source": [
    "## Connect to _source_ and _target_ GIS organizations"
   ]
  },
  {
   "cell_type": "code",
   "execution_count": null,
   "metadata": {
    "scrolled": false
   },
   "outputs": [],
   "source": [
    "source = GIS(profile=\"your_online_admin_profile\")\n",
    "target = GIS(profile=\"webapps_admin\")"
   ]
  },
  {
   "cell_type": "code",
   "execution_count": null,
   "metadata": {
    "scrolled": false
   },
   "outputs": [],
   "source": [
    "print(source)"
   ]
  },
  {
   "cell_type": "code",
   "execution_count": null,
   "metadata": {
    "scrolled": false
   },
   "outputs": [],
   "source": [
    "source.users.me.username"
   ]
  },
  {
   "cell_type": "code",
   "execution_count": null,
   "metadata": {
    "scrolled": false
   },
   "outputs": [],
   "source": [
    "print(target)"
   ]
  },
  {
   "cell_type": "code",
   "execution_count": null,
   "metadata": {
    "scrolled": false
   },
   "outputs": [],
   "source": [
    "target.users.me.username"
   ]
  },
  {
   "cell_type": "markdown",
   "metadata": {},
   "source": [
    "## Search for a _Feature Layer_ to clone"
   ]
  },
  {
   "cell_type": "code",
   "execution_count": null,
   "metadata": {
    "scrolled": false
   },
   "outputs": [],
   "source": [
    "hifld_pplant_items = source.content.search(query=f\"title: * Power Plants AND owner:{source.users.me.username}\", \n",
    "                                        item_type=\"Feature Layer\")\n",
    "hifld_pplant_items"
   ]
  },
  {
   "cell_type": "code",
   "execution_count": null,
   "metadata": {
    "scrolled": false
   },
   "outputs": [],
   "source": [
    "hifld_pplant_item = hifld_pplant_items[0]\n",
    "hifld_pplant_item"
   ]
  },
  {
   "cell_type": "code",
   "execution_count": null,
   "metadata": {},
   "outputs": [],
   "source": [
    "hifld_pplant_item.id"
   ]
  },
  {
   "cell_type": "markdown",
   "metadata": {},
   "source": [
    "### Print information about the _Feature Layer_"
   ]
  },
  {
   "cell_type": "code",
   "execution_count": null,
   "metadata": {
    "scrolled": false
   },
   "outputs": [],
   "source": [
    "print(f\"{'Hosted Feature Layer:':35}{hifld_pplant_item.title}\\n{'-'*80}\")\n",
    "print(f\"{' '*2}{'item id:':20}{hifld_pplant_item.id}\")\n",
    "print(f\"{' '*2}individual layer urls:\")\n",
    "for flyr in hifld_pplant_item.layers:\n",
    "    print(f\"{' '*4}{flyr.url}\")"
   ]
  },
  {
   "cell_type": "code",
   "execution_count": null,
   "metadata": {},
   "outputs": [],
   "source": [
    "hifld_pplant_item.typeKeywords"
   ]
  },
  {
   "cell_type": "markdown",
   "metadata": {},
   "source": [
    "### Visualize the _Feature Layer_"
   ]
  },
  {
   "cell_type": "code",
   "execution_count": null,
   "metadata": {
    "scrolled": false
   },
   "outputs": [],
   "source": [
    "map1 = source.map(\"United States\")\n",
    "map1.add_layer(hifld_pplant_item)\n",
    "map1"
   ]
  },
  {
   "cell_type": "code",
   "execution_count": null,
   "metadata": {},
   "outputs": [],
   "source": [
    "map1.center = [36, -98]\n",
    "map1.zoom = 1"
   ]
  },
  {
   "cell_type": "markdown",
   "metadata": {},
   "source": [
    "## Clone the _Feature Layer_"
   ]
  },
  {
   "cell_type": "code",
   "execution_count": null,
   "metadata": {
    "scrolled": false
   },
   "outputs": [],
   "source": [
    "try:\n",
    "    if not target.content.folders.get(\"power_plant_data\"):\n",
    "        target.content.folders.create(\"power_plant_data\")\n",
    "    cloned_flyr_item = target.content.clone_items(items=[hifld_pplant_item],\n",
    "                                                  folder=\"power_plant_data\")[0]\n",
    "except Exception as e:\n",
    "    print(\"Failed to clone.\")\n",
    "    print(str(e))"
   ]
  },
  {
   "cell_type": "markdown",
   "metadata": {},
   "source": [
    "### Print information about the cloned _Feature Layer_"
   ]
  },
  {
   "cell_type": "code",
   "execution_count": null,
   "metadata": {
    "scrolled": false
   },
   "outputs": [],
   "source": [
    "print(f\"{'Hosted Feature Layer:':35}{cloned_flyr_item.title}\\n{'-'*80}\")\n",
    "print(f\"{' '*2}{'item id:':20}{cloned_flyr_item.id}\")\n",
    "print(f\"{' '*2}individual layer urls:\")\n",
    "for flyr in cloned_flyr_item.layers:\n",
    "    print(f\"{' '*4}{flyr.url}\")"
   ]
  },
  {
   "cell_type": "code",
   "execution_count": null,
   "metadata": {},
   "outputs": [],
   "source": [
    "cloned_flyr_item.typeKeywords"
   ]
  },
  {
   "cell_type": "markdown",
   "metadata": {},
   "source": [
    "### Visualize the cloned _Feature Layer_"
   ]
  },
  {
   "cell_type": "code",
   "execution_count": null,
   "metadata": {
    "scrolled": false
   },
   "outputs": [],
   "source": [
    "map2 = target.map(\"United States\")\n",
    "map2.add_layer(cloned_flyr_item)\n",
    "map2"
   ]
  },
  {
   "cell_type": "code",
   "execution_count": null,
   "metadata": {},
   "outputs": [],
   "source": [
    "map2.zoom = 2\n",
    "map2.center = [36, -98]"
   ]
  }
 ],
 "metadata": {
  "kernelspec": {
   "display_name": "Python 3 (ipykernel)",
   "language": "python",
   "name": "python3"
  },
  "language_info": {
   "codemirror_mode": {
    "name": "ipython",
    "version": 3
   },
   "file_extension": ".py",
   "mimetype": "text/x-python",
   "name": "python",
   "nbconvert_exporter": "python",
   "pygments_lexer": "ipython3",
   "version": "3.9.17"
  }
 },
 "nbformat": 4,
 "nbformat_minor": 4
}
