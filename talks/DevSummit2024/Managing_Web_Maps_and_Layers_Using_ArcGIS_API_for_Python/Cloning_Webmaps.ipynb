{
 "cells": [
  {
   "cell_type": "code",
   "execution_count": 1,
   "id": "f611383b",
   "metadata": {
    "collapsed": true
   },
   "outputs": [
    {
     "name": "stdout",
     "output_type": "stream",
     "text": [
      "Intel MKL WARNING: Support of Intel(R) Streaming SIMD Extensions 4.2 (Intel(R) SSE4.2) enabled only processors has been deprecated. Intel oneAPI Math Kernel Library 2025.0 will require Intel(R) Advanced Vector Extensions (Intel(R) AVX) instructions.\n",
      "Intel MKL WARNING: Support of Intel(R) Streaming SIMD Extensions 4.2 (Intel(R) SSE4.2) enabled only processors has been deprecated. Intel oneAPI Math Kernel Library 2025.0 will require Intel(R) Advanced Vector Extensions (Intel(R) AVX) instructions.\n"
     ]
    }
   ],
   "source": [
    "from arcgis.gis import GIS\n",
    "from arcgis.mapping import WebMap"
   ]
  },
  {
   "cell_type": "markdown",
   "id": "b5c49e4f",
   "metadata": {},
   "source": [
    "# Cloning\n",
    "\n",
    "Well well well, if it isn't cloning, one of the most commonly asked things about in our API. Cloning items is pretty neat- it allows you to copy your content from one GIS organization to another, complete with dependent data items and all. Cloning has a ton of relevant uses, such as moving content from staging to production, creating backups, migrating your content to a new organization, and duplicating Web Maps used in Dev Summit demos. \n",
    "\n",
    "Web Maps give us a perfect example of how `clone_items()` works, due to the presence of various data sources within a single map. We'll take a look at the structure of the Web Maps, and what's retained versus what's changed when an item is cloned to a new GIS. Additionally, we'll look at what happens with the data sources contained in that Web Map, and how the function behaves differently depending on the presence of content in a target GIS.\n",
    "\n",
    "Firstly, for reference on the function, full doc can be found here: https://developers.arcgis.com/python/api-reference/arcgis.gis.toc.html#contentmanager\n",
    "\n",
    "\n",
    "### Location and syntax\n",
    "\n",
    "`clone_items()` is found under a GIS's `ContentManager` module. However, there are a couple caveats to this. Firstly, the `ContentManager` is rarely invoked by name; instead, it's usually called via `gis.content`. Furthermore, this isn't a function you call on the GIS you're accessing your data in- you have to call it from the GIS object of the organization you're hoping to clone into.\n",
    "\n",
    "So, the workflow goes something along the lines of:\n",
    "\n",
    "- instantiate your source GIS\n",
    "- find the portal items you want to clone\n",
    "    - make an `Item` instance out of each portal item, and add them to a list\n",
    "- instantiate your target GIS\n",
    "- call `clone_items()` with your target GIS, but pass in the list of items from your source GIS\n",
    "- profit wildly\n",
    "    \n",
    "It's not a particularly long workflow, but it's a super helpful one to remember. We'll begin, and take note of important stuff we find along the way."
   ]
  },
  {
   "cell_type": "code",
   "execution_count": 2,
   "id": "1e258cfa",
   "metadata": {},
   "outputs": [],
   "source": [
    "# first, define your source GIS. you can also define your target now if you want, it doesn't really matter.\n",
    "gis = GIS(profile=\"your_online_profile\")"
   ]
  },
  {
   "cell_type": "code",
   "execution_count": 3,
   "id": "82206260",
   "metadata": {},
   "outputs": [
    {
     "data": {
      "text/html": [
       "<div class=\"item_container\" style=\"height: auto; overflow: hidden; border: 1px solid #cfcfcf; border-radius: 2px; background: #f6fafa; line-height: 1.21429em; padding: 10px;\">\n",
       "                    <div class=\"item_left\" style=\"width: 210px; float: left;\">\n",
       "                       <a href='https://geosaurus.maps.arcgis.com/home/item.html?id=354a9f90920f454ca83aa8fbfbc7adfa' target='_blank'>\n",
       "                        <img src='data:image/png;base64,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' width='200' height='133' class=\"itemThumbnail\">\n",
       "                       </a>\n",
       "                    </div>\n",
       "\n",
       "                    <div class=\"item_right\"     style=\"float: none; width: auto; overflow: hidden;\">\n",
       "                        <a href='https://geosaurus.maps.arcgis.com/home/item.html?id=354a9f90920f454ca83aa8fbfbc7adfa' target='_blank'><b>I'm a map, clone me! Or don't.</b>\n",
       "                        </a>\n",
       "                        <br/>This web map provides a detailed vector basemap for the world featuring a neutral background style with minimal colors, labels, and features. <img src='https://geosaurus.maps.arcgis.com/home/js/jsapi/esri/css/images/item_type_icons/maps16.png' style=\"vertical-align:middle;\" width=16 height=16>Web Map by nparavicini_geosaurus\n",
       "                        <br/>Last Modified: May 02, 2023\n",
       "                        <br/>0 comments, 63 views\n",
       "                    </div>\n",
       "                </div>\n",
       "                "
      ],
      "text/plain": [
       "<Item title:\"I'm a map, clone me! Or don't.\" type:Web Map owner:nparavicini_geosaurus>"
      ]
     },
     "execution_count": 3,
     "metadata": {},
     "output_type": "execute_result"
    }
   ],
   "source": [
    "# let's go ahead and grab a couple items from our portal- a webmap and a feature layer\n",
    "webmap = gis.content.get(\"354a9f90920f454ca83aa8fbfbc7adfa\")\n",
    "webmap"
   ]
  },
  {
   "cell_type": "code",
   "execution_count": 4,
   "id": "fbcb6567",
   "metadata": {
    "scrolled": true
   },
   "outputs": [
    {
     "data": {
      "text/plain": [
       "[{\n",
       "   \"id\": \"186c77a0435-layer-2\",\n",
       "   \"title\": \"CA OR Airports - ad363a\",\n",
       "   \"url\": \"https://services7.arcgis.com/JEwYeAy2cc8qOe3o/arcgis/rest/services/ad363a/FeatureServer/0\",\n",
       "   \"itemId\": \"f1e3ea6b9b8f43f595ec2f4f88113069\",\n",
       "   \"layerType\": \"ArcGISFeatureLayer\",\n",
       "   \"popupInfo\": {\n",
       "     \"popupElements\": [\n",
       "       {\n",
       "         \"type\": \"fields\"\n",
       "       },\n",
       "       {\n",
       "         \"type\": \"attachments\",\n",
       "         \"displayType\": \"auto\"\n",
       "       }\n",
       "     ],\n",
       "     \"showAttachments\": true,\n",
       "     \"fieldInfos\": [\n",
       "       {\n",
       "         \"fieldName\": \"FID\",\n",
       "         \"label\": \"FID\",\n",
       "         \"visible\": false\n",
       "       },\n",
       "       {\n",
       "         \"fieldName\": \"AIRPORT\",\n",
       "         \"isEditable\": true,\n",
       "         \"label\": \"AIRPORT\",\n",
       "         \"visible\": true\n",
       "       },\n",
       "       {\n",
       "         \"fieldName\": \"CITY\",\n",
       "         \"isEditable\": true,\n",
       "         \"label\": \"CITY\",\n",
       "         \"visible\": true\n",
       "       },\n",
       "       {\n",
       "         \"fieldName\": \"COUNTRY\",\n",
       "         \"isEditable\": true,\n",
       "         \"label\": \"COUNTRY\",\n",
       "         \"visible\": true\n",
       "       },\n",
       "       {\n",
       "         \"fieldName\": \"IATA\",\n",
       "         \"isEditable\": true,\n",
       "         \"label\": \"IATA\",\n",
       "         \"visible\": true\n",
       "       },\n",
       "       {\n",
       "         \"fieldName\": \"LATITUDE\",\n",
       "         \"format\": {\n",
       "           \"digitSeparator\": true,\n",
       "           \"places\": 2\n",
       "         },\n",
       "         \"isEditable\": true,\n",
       "         \"label\": \"LATITUDE\",\n",
       "         \"visible\": true\n",
       "       },\n",
       "       {\n",
       "         \"fieldName\": \"LONGITUDE\",\n",
       "         \"format\": {\n",
       "           \"digitSeparator\": true,\n",
       "           \"places\": 2\n",
       "         },\n",
       "         \"isEditable\": true,\n",
       "         \"label\": \"LONGITUDE\",\n",
       "         \"visible\": true\n",
       "       },\n",
       "       {\n",
       "         \"fieldName\": \"STATE\",\n",
       "         \"isEditable\": true,\n",
       "         \"label\": \"STATE\",\n",
       "         \"visible\": true\n",
       "       }\n",
       "     ],\n",
       "     \"title\": \"CA OR Airports - ad363a\"\n",
       "   }\n",
       " }]"
      ]
     },
     "execution_count": 4,
     "metadata": {},
     "output_type": "execute_result"
    }
   ],
   "source": [
    "WebMap(webmap).layers"
   ]
  },
  {
   "cell_type": "code",
   "execution_count": 5,
   "id": "57f5cd94",
   "metadata": {},
   "outputs": [
    {
     "data": {
      "text/html": [
       "<div class=\"item_container\" style=\"height: auto; overflow: hidden; border: 1px solid #cfcfcf; border-radius: 2px; background: #f6fafa; line-height: 1.21429em; padding: 10px;\">\n",
       "                    <div class=\"item_left\" style=\"width: 210px; float: left;\">\n",
       "                       <a href='https://geosaurus.maps.arcgis.com/home/item.html?id=f1e3ea6b9b8f43f595ec2f4f88113069' target='_blank'>\n",
       "                        <img src='data:image/png;base64,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' width='200' height='133' class=\"itemThumbnail\">\n",
       "                       </a>\n",
       "                    </div>\n",
       "\n",
       "                    <div class=\"item_right\"     style=\"float: none; width: auto; overflow: hidden;\">\n",
       "                        <a href='https://geosaurus.maps.arcgis.com/home/item.html?id=f1e3ea6b9b8f43f595ec2f4f88113069' target='_blank'><b>CA/OR Airports</b>\n",
       "                        </a>\n",
       "                        <br/><img src='https://geosaurus.maps.arcgis.com/home/js/jsapi/esri/css/images/item_type_icons/featureshosted16.png' style=\"vertical-align:middle;\" width=16 height=16>Feature Layer Collection by nparavicini_geosaurus\n",
       "                        <br/>Last Modified: March 07, 2023\n",
       "                        <br/>0 comments, 56 views\n",
       "                    </div>\n",
       "                </div>\n",
       "                "
      ],
      "text/plain": [
       "<Item title:\"CA/OR Airports\" type:Feature Layer Collection owner:nparavicini_geosaurus>"
      ]
     },
     "execution_count": 5,
     "metadata": {},
     "output_type": "execute_result"
    }
   ],
   "source": [
    "flayer = gis.content.get(\"f1e3ea6b9b8f43f595ec2f4f88113069\")\n",
    "flayer"
   ]
  },
  {
   "cell_type": "code",
   "execution_count": 6,
   "id": "2f91196d",
   "metadata": {},
   "outputs": [],
   "source": [
    "# now, we'll define our target GIS\n",
    "target = GIS(profile=\"np_pypi\")"
   ]
  },
  {
   "cell_type": "code",
   "execution_count": 7,
   "id": "7c01c038",
   "metadata": {},
   "outputs": [],
   "source": [
    "# finally, the big step. in it's most basic form, all it needs is a list of items to clone\n",
    "# make sure to call on it on target\n",
    "cloned_item_list = target.content.clone_items([webmap], search_existing_items = False)"
   ]
  },
  {
   "cell_type": "code",
   "execution_count": 8,
   "id": "90592fdb",
   "metadata": {},
   "outputs": [
    {
     "data": {
      "text/plain": [
       "[<Item title:\"CA/OR Airports\" type:Feature Layer Collection owner:nparavicini_pythonapi>,\n",
       " <Item title:\"Light Gray Canvas Base\" type:Vector Tile Layer owner:nparavicini_pythonapi>,\n",
       " <Item title:\"Light Gray Canvas Reference\" type:Vector Tile Layer owner:nparavicini_pythonapi>,\n",
       " <Item title:\"I'm a map, clone me! Or don't.\" type:Web Map owner:nparavicini_pythonapi>]"
      ]
     },
     "execution_count": 8,
     "metadata": {},
     "output_type": "execute_result"
    }
   ],
   "source": [
    "cloned_item_list"
   ]
  },
  {
   "cell_type": "markdown",
   "id": "83cc0396",
   "metadata": {},
   "source": [
    "We now have a list of items that exist in the target organization. Notice how it also includes the data sources for the Web Map, so the new cloned item doesn't have to reference the items from the other organization. Let's compare the layers of the source vs. target webmap."
   ]
  },
  {
   "cell_type": "code",
   "execution_count": 9,
   "id": "3f24ccac",
   "metadata": {},
   "outputs": [
    {
     "data": {
      "text/html": [
       "<div class=\"item_container\" style=\"height: auto; overflow: hidden; border: 1px solid #cfcfcf; border-radius: 2px; background: #f6fafa; line-height: 1.21429em; padding: 10px;\">\n",
       "                    <div class=\"item_left\" style=\"width: 210px; float: left;\">\n",
       "                       <a href='https://pythonapi.maps.arcgis.com/home/item.html?id=5f7d22af295f4cebb69cc89b5aad7f5b' target='_blank'>\n",
       "                        <img src='data:image/png;base64,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' width='200' height='133' class=\"itemThumbnail\">\n",
       "                       </a>\n",
       "                    </div>\n",
       "\n",
       "                    <div class=\"item_right\"     style=\"float: none; width: auto; overflow: hidden;\">\n",
       "                        <a href='https://pythonapi.maps.arcgis.com/home/item.html?id=5f7d22af295f4cebb69cc89b5aad7f5b' target='_blank'><b>I'm a map, clone me! Or don't.</b>\n",
       "                        </a>\n",
       "                        <br/>This web map provides a detailed vector basemap for the world featuring a neutral background style with minimal colors, labels, and features. <img src='https://pythonapi.maps.arcgis.com/home/js/jsapi/esri/css/images/item_type_icons/maps16.png' style=\"vertical-align:middle;\" width=16 height=16>Web Map by nparavicini_pythonapi\n",
       "                        <br/>Last Modified: March 15, 2024\n",
       "                        <br/>0 comments, 0 views\n",
       "                    </div>\n",
       "                </div>\n",
       "                "
      ],
      "text/plain": [
       "<Item title:\"I'm a map, clone me! Or don't.\" type:Web Map owner:nparavicini_pythonapi>"
      ]
     },
     "execution_count": 9,
     "metadata": {},
     "output_type": "execute_result"
    }
   ],
   "source": [
    "cloned_map = cloned_item_list[3]\n",
    "cloned_map"
   ]
  },
  {
   "cell_type": "code",
   "execution_count": 10,
   "id": "242d19a5",
   "metadata": {
    "scrolled": true
   },
   "outputs": [
    {
     "data": {
      "text/plain": [
       "{\n",
       "  \"id\": \"186c77a0435-layer-2\",\n",
       "  \"title\": \"CA OR Airports - ad363a\",\n",
       "  \"url\": \"https://services8.arcgis.com/SZN16RkUszkfOcmq/arcgis/rest/services/ad363a/FeatureServer/0\",\n",
       "  \"itemId\": \"e80f9996bf7b4c5e9ae2129fe3aaa17c\",\n",
       "  \"layerType\": \"ArcGISFeatureLayer\",\n",
       "  \"popupInfo\": {\n",
       "    \"popupElements\": [\n",
       "      {\n",
       "        \"type\": \"fields\"\n",
       "      },\n",
       "      {\n",
       "        \"type\": \"attachments\",\n",
       "        \"displayType\": \"auto\"\n",
       "      }\n",
       "    ],\n",
       "    \"showAttachments\": true,\n",
       "    \"fieldInfos\": [\n",
       "      {\n",
       "        \"fieldName\": \"FID\",\n",
       "        \"label\": \"FID\",\n",
       "        \"visible\": false\n",
       "      },\n",
       "      {\n",
       "        \"fieldName\": \"AIRPORT\",\n",
       "        \"isEditable\": true,\n",
       "        \"label\": \"AIRPORT\",\n",
       "        \"visible\": true\n",
       "      },\n",
       "      {\n",
       "        \"fieldName\": \"CITY\",\n",
       "        \"isEditable\": true,\n",
       "        \"label\": \"CITY\",\n",
       "        \"visible\": true\n",
       "      },\n",
       "      {\n",
       "        \"fieldName\": \"COUNTRY\",\n",
       "        \"isEditable\": true,\n",
       "        \"label\": \"COUNTRY\",\n",
       "        \"visible\": true\n",
       "      },\n",
       "      {\n",
       "        \"fieldName\": \"IATA\",\n",
       "        \"isEditable\": true,\n",
       "        \"label\": \"IATA\",\n",
       "        \"visible\": true\n",
       "      },\n",
       "      {\n",
       "        \"fieldName\": \"LATITUDE\",\n",
       "        \"format\": {\n",
       "          \"digitSeparator\": true,\n",
       "          \"places\": 2\n",
       "        },\n",
       "        \"isEditable\": true,\n",
       "        \"label\": \"LATITUDE\",\n",
       "        \"visible\": true\n",
       "      },\n",
       "      {\n",
       "        \"fieldName\": \"LONGITUDE\",\n",
       "        \"format\": {\n",
       "          \"digitSeparator\": true,\n",
       "          \"places\": 2\n",
       "        },\n",
       "        \"isEditable\": true,\n",
       "        \"label\": \"LONGITUDE\",\n",
       "        \"visible\": true\n",
       "      },\n",
       "      {\n",
       "        \"fieldName\": \"STATE\",\n",
       "        \"isEditable\": true,\n",
       "        \"label\": \"STATE\",\n",
       "        \"visible\": true\n",
       "      }\n",
       "    ],\n",
       "    \"title\": \"CA OR Airports - ad363a\"\n",
       "  }\n",
       "}"
      ]
     },
     "execution_count": 10,
     "metadata": {},
     "output_type": "execute_result"
    }
   ],
   "source": [
    "WebMap(cloned_map).layers[0]"
   ]
  },
  {
   "cell_type": "markdown",
   "id": "c8567e84",
   "metadata": {},
   "source": [
    "As we can see, it automatically remaps to the items that were created, which is awesome. But what happens if those items already exist in the new portal? Will that affect anything? Let's delete our cloned Web Map (but not the other newly cloned items) and try running it again."
   ]
  },
  {
   "cell_type": "code",
   "execution_count": 11,
   "id": "f9aa17c2",
   "metadata": {},
   "outputs": [
    {
     "data": {
      "text/plain": [
       "True"
      ]
     },
     "execution_count": 11,
     "metadata": {},
     "output_type": "execute_result"
    }
   ],
   "source": [
    "cloned_map.delete()"
   ]
  },
  {
   "cell_type": "code",
   "execution_count": 12,
   "id": "ce30fd53",
   "metadata": {},
   "outputs": [],
   "source": [
    "new_clones = target.content.clone_items([webmap])"
   ]
  },
  {
   "cell_type": "code",
   "execution_count": 13,
   "id": "a078e8ca",
   "metadata": {},
   "outputs": [
    {
     "data": {
      "text/plain": [
       "[<Item title:\"I'm a map, clone me! Or don't.\" type:Web Map owner:nparavicini_pythonapi>]"
      ]
     },
     "execution_count": 13,
     "metadata": {},
     "output_type": "execute_result"
    }
   ],
   "source": [
    "new_clones"
   ]
  },
  {
   "cell_type": "code",
   "execution_count": 14,
   "id": "78982a8b",
   "metadata": {},
   "outputs": [],
   "source": [
    "cloned_map = new_clones[0]"
   ]
  },
  {
   "cell_type": "code",
   "execution_count": 15,
   "id": "a728dd81",
   "metadata": {},
   "outputs": [
    {
     "data": {
      "text/html": [
       "<div class=\"item_container\" style=\"height: auto; overflow: hidden; border: 1px solid #cfcfcf; border-radius: 2px; background: #f6fafa; line-height: 1.21429em; padding: 10px;\">\n",
       "                    <div class=\"item_left\" style=\"width: 210px; float: left;\">\n",
       "                       <a href='https://pythonapi.maps.arcgis.com/home/item.html?id=7a36fedeac3949e48514497a5ac41f34' target='_blank'>\n",
       "                        <img src='data:image/png;base64,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' width='200' height='133' class=\"itemThumbnail\">\n",
       "                       </a>\n",
       "                    </div>\n",
       "\n",
       "                    <div class=\"item_right\"     style=\"float: none; width: auto; overflow: hidden;\">\n",
       "                        <a href='https://pythonapi.maps.arcgis.com/home/item.html?id=7a36fedeac3949e48514497a5ac41f34' target='_blank'><b>I'm a map, clone me! Or don't.</b>\n",
       "                        </a>\n",
       "                        <br/>This web map provides a detailed vector basemap for the world featuring a neutral background style with minimal colors, labels, and features. <img src='https://pythonapi.maps.arcgis.com/home/js/jsapi/esri/css/images/item_type_icons/maps16.png' style=\"vertical-align:middle;\" width=16 height=16>Web Map by nparavicini_pythonapi\n",
       "                        <br/>Last Modified: March 15, 2024\n",
       "                        <br/>0 comments, 0 views\n",
       "                    </div>\n",
       "                </div>\n",
       "                "
      ],
      "text/plain": [
       "<Item title:\"I'm a map, clone me! Or don't.\" type:Web Map owner:nparavicini_pythonapi>"
      ]
     },
     "execution_count": 15,
     "metadata": {},
     "output_type": "execute_result"
    }
   ],
   "source": [
    "cloned_map"
   ]
  },
  {
   "cell_type": "code",
   "execution_count": 16,
   "id": "6cc846a6",
   "metadata": {},
   "outputs": [
    {
     "data": {
      "text/plain": [
       "{\n",
       "  \"id\": \"186c77a0435-layer-2\",\n",
       "  \"title\": \"CA OR Airports - ad363a\",\n",
       "  \"url\": \"https://services8.arcgis.com/SZN16RkUszkfOcmq/arcgis/rest/services/ad363a/FeatureServer/0\",\n",
       "  \"itemId\": \"e80f9996bf7b4c5e9ae2129fe3aaa17c\",\n",
       "  \"layerType\": \"ArcGISFeatureLayer\",\n",
       "  \"popupInfo\": {\n",
       "    \"popupElements\": [\n",
       "      {\n",
       "        \"type\": \"fields\"\n",
       "      },\n",
       "      {\n",
       "        \"type\": \"attachments\",\n",
       "        \"displayType\": \"auto\"\n",
       "      }\n",
       "    ],\n",
       "    \"showAttachments\": true,\n",
       "    \"fieldInfos\": [\n",
       "      {\n",
       "        \"fieldName\": \"FID\",\n",
       "        \"label\": \"FID\",\n",
       "        \"visible\": false\n",
       "      },\n",
       "      {\n",
       "        \"fieldName\": \"AIRPORT\",\n",
       "        \"isEditable\": true,\n",
       "        \"label\": \"AIRPORT\",\n",
       "        \"visible\": true\n",
       "      },\n",
       "      {\n",
       "        \"fieldName\": \"CITY\",\n",
       "        \"isEditable\": true,\n",
       "        \"label\": \"CITY\",\n",
       "        \"visible\": true\n",
       "      },\n",
       "      {\n",
       "        \"fieldName\": \"COUNTRY\",\n",
       "        \"isEditable\": true,\n",
       "        \"label\": \"COUNTRY\",\n",
       "        \"visible\": true\n",
       "      },\n",
       "      {\n",
       "        \"fieldName\": \"IATA\",\n",
       "        \"isEditable\": true,\n",
       "        \"label\": \"IATA\",\n",
       "        \"visible\": true\n",
       "      },\n",
       "      {\n",
       "        \"fieldName\": \"LATITUDE\",\n",
       "        \"format\": {\n",
       "          \"digitSeparator\": true,\n",
       "          \"places\": 2\n",
       "        },\n",
       "        \"isEditable\": true,\n",
       "        \"label\": \"LATITUDE\",\n",
       "        \"visible\": true\n",
       "      },\n",
       "      {\n",
       "        \"fieldName\": \"LONGITUDE\",\n",
       "        \"format\": {\n",
       "          \"digitSeparator\": true,\n",
       "          \"places\": 2\n",
       "        },\n",
       "        \"isEditable\": true,\n",
       "        \"label\": \"LONGITUDE\",\n",
       "        \"visible\": true\n",
       "      },\n",
       "      {\n",
       "        \"fieldName\": \"STATE\",\n",
       "        \"isEditable\": true,\n",
       "        \"label\": \"STATE\",\n",
       "        \"visible\": true\n",
       "      }\n",
       "    ],\n",
       "    \"title\": \"CA OR Airports - ad363a\"\n",
       "  }\n",
       "}"
      ]
     },
     "execution_count": 16,
     "metadata": {},
     "output_type": "execute_result"
    }
   ],
   "source": [
    "WebMap(cloned_map).layers[0]"
   ]
  },
  {
   "cell_type": "markdown",
   "id": "56701e03",
   "metadata": {},
   "source": [
    "Boom. Amazing. As we can see, every different situation we tried, it got cloned and remapped properly. "
   ]
  },
  {
   "cell_type": "code",
   "execution_count": null,
   "id": "b5c59a0d",
   "metadata": {},
   "outputs": [],
   "source": []
  }
 ],
 "metadata": {
  "kernelspec": {
   "display_name": "Python 3 (ipykernel)",
   "language": "python",
   "name": "python3"
  },
  "language_info": {
   "codemirror_mode": {
    "name": "ipython",
    "version": 3
   },
   "file_extension": ".py",
   "mimetype": "text/x-python",
   "name": "python",
   "nbconvert_exporter": "python",
   "pygments_lexer": "ipython3",
   "version": "3.10.13"
  }
 },
 "nbformat": 4,
 "nbformat_minor": 5
}
