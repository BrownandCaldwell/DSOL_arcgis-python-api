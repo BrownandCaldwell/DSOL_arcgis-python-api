{
 "cells": [
  {
   "cell_type": "markdown",
   "id": "566cc396",
   "metadata": {},
   "source": [
    "# Working with Survey123 in the ArcGIS API for Python\n",
    "\n",
    "#### Do you like asking people stuff? Do you also like mapping? And automating things? \n",
    "\n",
    "Then by golly, do we have the module for you. For any of you that aren't familiar, Survey123 is a very handy application that allows you to create surveys with spatial capabilities. The surveys are clean-looking, easy to design, and have a UX similar to other popular online form applications, except they're built to be compatible with the ArcGIS world. With them, you can do things such as collect spatial data (that gets fed directly to your AGOL/Enterprise portal), embed maps in questions, visualize results in charts and Dashboards, and much more.\n",
    "\n",
    "The ArcGIS API for Python provides a great tool for working with these surveys: the ability to manage them and their data without having to click through a portal or the GUI. This can save an immense amount of time for organizations that, for example, may be collecting mass amounts of data or deploying a ton of different Surveys. Let's jump in and take a look at what we can do.\n",
    "\n",
    "## The `SurveyManager` Module\n",
    "\n",
    "First off, before we jump into the actual `Survey` module, we'll take a look at the `SurveyManager` module. The `SurveyManager` module is a very basic module that allows you to quickly get all of your forms or return a `Survey` object of one specific form. Let's first take a look at a Survey in our portal, and then see how we can grab it using this module."
   ]
  },
  {
   "cell_type": "code",
   "execution_count": 1,
   "id": "eed96ce7",
   "metadata": {},
   "outputs": [
    {
     "name": "stdout",
     "output_type": "stream",
     "text": [
      "Intel MKL WARNING: Support of Intel(R) Streaming SIMD Extensions 4.2 (Intel(R) SSE4.2) enabled only processors has been deprecated. Intel oneAPI Math Kernel Library 2025.0 will require Intel(R) Advanced Vector Extensions (Intel(R) AVX) instructions.\n",
      "Intel MKL WARNING: Support of Intel(R) Streaming SIMD Extensions 4.2 (Intel(R) SSE4.2) enabled only processors has been deprecated. Intel oneAPI Math Kernel Library 2025.0 will require Intel(R) Advanced Vector Extensions (Intel(R) AVX) instructions.\n"
     ]
    }
   ],
   "source": [
    "# we'll start with importing everything and establishing a GIS connection\n",
    "from arcgis.gis import GIS\n",
    "from arcgis.apps.survey123 import SurveyManager\n",
    "gis = GIS(profile = \"your_online_profile\")"
   ]
  },
  {
   "cell_type": "code",
   "execution_count": 2,
   "id": "e0ef5030",
   "metadata": {},
   "outputs": [
    {
     "data": {
      "text/plain": [
       "< SurveyManager @ https://geosaurus.maps.arcgis.com >"
      ]
     },
     "execution_count": 2,
     "metadata": {},
     "output_type": "execute_result"
    }
   ],
   "source": [
    "sm = SurveyManager(gis)\n",
    "sm"
   ]
  },
  {
   "cell_type": "markdown",
   "id": "c39cb7ea",
   "metadata": {},
   "source": [
    "Calling `SurveyManager.surveys` will list all of the published forms owned by the user account that the `GIS` object connection uses. The list will be comprised of `Survey` objects.\n",
    "\n",
    "If you want to expand your search beyond the user account, you can use `gis.content.search()` and specify the item type `Form`. However, that list will be comprised of `Item` objects."
   ]
  },
  {
   "cell_type": "code",
   "execution_count": 3,
   "id": "792b26f4",
   "metadata": {},
   "outputs": [
    {
     "data": {
      "text/plain": [
       "[<Survey @ map q clone test>,\n",
       " <Survey @ Pre-course survey>,\n",
       " <Survey @ Special Event Permit>,\n",
       " <Survey @ San Diego Parrot Sightings>]"
      ]
     },
     "execution_count": 3,
     "metadata": {},
     "output_type": "execute_result"
    }
   ],
   "source": [
    "survey_list = sm.surveys\n",
    "survey_list"
   ]
  },
  {
   "cell_type": "markdown",
   "id": "2931f2b8",
   "metadata": {},
   "source": [
    "We can work directly with one of these objects, or we can use `SurveyManager.get()` with a specific item ID or `Item` to create a survey object. We'll get the item ID for the form we want to work with."
   ]
  },
  {
   "cell_type": "code",
   "execution_count": 4,
   "id": "20ffb395",
   "metadata": {
    "scrolled": true
   },
   "outputs": [
    {
     "data": {
      "text/plain": [
       "<Survey @ San Diego Parrot Sightings>"
      ]
     },
     "execution_count": 4,
     "metadata": {},
     "output_type": "execute_result"
    }
   ],
   "source": [
    "# we can work directly with one of these Survey objects\n",
    "parrot_form = sm.get(\"02d0702e1ef0468083f780791670c969\")\n",
    "parrot_form"
   ]
  },
  {
   "cell_type": "markdown",
   "id": "8df9f88c",
   "metadata": {},
   "source": [
    "Now that we have our `Survey` object, let's see what we can do with it."
   ]
  },
  {
   "cell_type": "markdown",
   "id": "c2f855b0",
   "metadata": {},
   "source": [
    "## The `Survey` Module\n",
    "\n",
    "Now, one of the best things about the ArcGIS API for Python is it makes working with data easier. And, the name of the game with Survey123 is collecting data- being able to quickly download, manipulate, and analyze this data is a huge plus for Survey123 workflows. There are more advanced Survey123 demos and guides available both at this conference and online, so we're just going to go over a couple basic ways to work with your form data through the Python API.\n",
    "\n",
    "We'll give a brief overview of the class's available functions first before diving in to some of the things we can do with the data."
   ]
  },
  {
   "cell_type": "code",
   "execution_count": 5,
   "id": "93f799f4",
   "metadata": {
    "scrolled": true
   },
   "outputs": [
    {
     "data": {
      "text/plain": [
       "{'id': '02d0702e1ef0468083f780791670c969',\n",
       " 'owner': 'nparavicini_geosaurus',\n",
       " 'orgId': 'JEwYeAy2cc8qOe3o',\n",
       " 'created': 1709758330000,\n",
       " 'isOrgItem': True,\n",
       " 'modified': 1710376420000,\n",
       " 'guid': None,\n",
       " 'name': '02d0702e1ef0468083f780791670c969.zip',\n",
       " 'title': 'San Diego Parrot Sightings',\n",
       " 'type': 'Form',\n",
       " 'typeKeywords': ['Form', 'Survey123', 'Survey123 Hub', 'xForm'],\n",
       " 'description': None,\n",
       " 'tags': ['Survey123',\n",
       "  'Natural Resources',\n",
       "  'Petroleum and Pipeline',\n",
       "  'Sustainable Development'],\n",
       " 'snippet': 'Use this form to report sightings of parrots in San Diego.',\n",
       " 'thumbnail': 'thumbnail/ago_downloaded.png',\n",
       " 'documentation': None,\n",
       " 'extent': [],\n",
       " 'categories': [],\n",
       " 'spatialReference': None,\n",
       " 'accessInformation': None,\n",
       " 'classification': None,\n",
       " 'licenseInfo': None,\n",
       " 'culture': 'en-us',\n",
       " 'properties': {'versionInfo': {'created': {'build': '3.19.225',\n",
       "    'timestamp': 1709758341117,\n",
       "    'env': 'prod'},\n",
       "   'saved': {'build': '3.19.225', 'timestamp': 1709790914618, 'env': 'prod'},\n",
       "   'published': {'build': '3.19.225',\n",
       "    'timestamp': 1709790913316,\n",
       "    'env': 'prod'}},\n",
       "  'websiteVersion': '3.19',\n",
       "  'isVersionLocked': True},\n",
       " 'advancedSettings': None,\n",
       " 'url': None,\n",
       " 'proxyFilter': None,\n",
       " 'access': 'public',\n",
       " 'size': 72719,\n",
       " 'subInfo': 0,\n",
       " 'appCategories': [],\n",
       " 'industries': [],\n",
       " 'languages': [],\n",
       " 'largeThumbnail': None,\n",
       " 'banner': None,\n",
       " 'screenshots': [],\n",
       " 'listed': False,\n",
       " 'ownerFolder': '9a77df0bb1c54903aeca1523fead027a',\n",
       " 'protected': False,\n",
       " 'commentsEnabled': True,\n",
       " 'numComments': 0,\n",
       " 'numRatings': 0,\n",
       " 'avgRating': 0,\n",
       " 'numViews': 30,\n",
       " 'itemControl': 'admin',\n",
       " 'scoreCompleteness': 66,\n",
       " 'groupDesignations': None,\n",
       " 'token1ExpirationDate': -1,\n",
       " 'token2ExpirationDate': -1,\n",
       " 'contentOrigin': 'self',\n",
       " 'lastViewed': 1710374400000}"
      ]
     },
     "execution_count": 5,
     "metadata": {},
     "output_type": "execute_result"
    }
   ],
   "source": [
    "parrot_form.properties"
   ]
  },
  {
   "cell_type": "markdown",
   "id": "4d7dd920",
   "metadata": {},
   "source": [
    "Let's take a look at how we can take a Survey123 and automate creation of a report for it. This is extremely helpful for organizations that may be creating numerous new Surveys and want a way to display their data, or have predefined report templates that they want to apply to newly created forms.\n",
    "\n",
    "Let's start from scratch- pretend we don't have any templates we want to use, and want to make a basic new one to display "
   ]
  },
  {
   "cell_type": "code",
   "execution_count": 6,
   "id": "6a8d0cf5",
   "metadata": {},
   "outputs": [
    {
     "data": {
      "text/plain": [
       "[]"
      ]
     },
     "execution_count": 6,
     "metadata": {},
     "output_type": "execute_result"
    }
   ],
   "source": [
    "# first, check for existent templates. None should be here\n",
    "parrot_form.report_templates"
   ]
  },
  {
   "cell_type": "code",
   "execution_count": 7,
   "id": "65d446ad",
   "metadata": {},
   "outputs": [
    {
     "data": {
      "text/plain": [
       "'/Users/cowboy/Workspace/DevSummit2024/ReportTemplates/summary_individual_temp.docx'"
      ]
     },
     "execution_count": 7,
     "metadata": {},
     "output_type": "execute_result"
    }
   ],
   "source": [
    "# let's create one template of each type\n",
    "template_folder = \"/Folders/DevSummit2024/ReportTemplates\"\n",
    "parrot_form.create_report_template(\"individual\", \"individual_temp\", template_folder)\n",
    "parrot_form.create_report_template(\"summary\", \"summary_temp\", template_folder)\n",
    "parrot_form.create_report_template(\"summaryIndividual\", \"summary_individual_temp\", template_folder)"
   ]
  },
  {
   "cell_type": "code",
   "execution_count": 8,
   "id": "2633991d",
   "metadata": {},
   "outputs": [],
   "source": [
    "# and now add these report templates to our form item\n",
    "temp_names = [\"individual_temp\", \"summary_temp\", \"summary_individual_temp\"]\n",
    "for name in temp_names:\n",
    "    temp_path = template_folder + \"/\" + name + \".docx\"\n",
    "    parrot_form.upload_report_template(temp_path, name)"
   ]
  },
  {
   "cell_type": "code",
   "execution_count": 9,
   "id": "8e9eff94",
   "metadata": {},
   "outputs": [
    {
     "data": {
      "text/plain": [
       "[<Item title:\"summary_individual_temp\" type:Microsoft Word owner:nparavicini_geosaurus>,\n",
       " <Item title:\"individual_temp\" type:Microsoft Word owner:nparavicini_geosaurus>,\n",
       " <Item title:\"summary_temp\" type:Microsoft Word owner:nparavicini_geosaurus>]"
      ]
     },
     "execution_count": 9,
     "metadata": {},
     "output_type": "execute_result"
    }
   ],
   "source": [
    "parrot_form.report_templates"
   ]
  },
  {
   "cell_type": "markdown",
   "id": "6cd7bbe8",
   "metadata": {},
   "source": [
    "Now that we've generated these report templates and uploaded them to our item, let's create a report and see what it looks like! We can generate these reports in a few different file formats and either download them to our local machine or store them in our portal. We're going to make a PDF one and store it in our AGOL organization for later use."
   ]
  },
  {
   "cell_type": "code",
   "execution_count": 10,
   "id": "56c8d50f",
   "metadata": {},
   "outputs": [],
   "source": [
    "template = parrot_form.report_templates[0]"
   ]
  },
  {
   "cell_type": "code",
   "execution_count": 11,
   "id": "68ddc1a9",
   "metadata": {},
   "outputs": [
    {
     "data": {
      "text/html": [
       "<div class=\"item_container\" style=\"height: auto; overflow: hidden; border: 1px solid #cfcfcf; border-radius: 2px; background: #f6fafa; line-height: 1.21429em; padding: 10px;\">\n",
       "                    <div class=\"item_left\" style=\"width: 210px; float: left;\">\n",
       "                       <a href='https://geosaurus.maps.arcgis.com/home/item.html?id=721fea25c1794918967a99fecc94d383' target='_blank'>\n",
       "                        <img src='data:image/png;base64,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' width='200' height='133' class=\"itemThumbnail\">\n",
       "                       </a>\n",
       "                    </div>\n",
       "\n",
       "                    <div class=\"item_right\"     style=\"float: none; width: auto; overflow: hidden;\">\n",
       "                        <a href='https://geosaurus.maps.arcgis.com/home/item.html?id=721fea25c1794918967a99fecc94d383' target='_blank'><b>Test Parrot Report_20240314010808</b>\n",
       "                        </a>\n",
       "                        <br/><img src='https://geosaurus.maps.arcgis.com/home/js/jsapi/esri/css/images/item_type_icons/layers16.png' style=\"vertical-align:middle;\" width=16 height=16>PDF by nparavicini_geosaurus\n",
       "                        <br/>Last Modified: March 13, 2024\n",
       "                        <br/>0 comments, 0 views\n",
       "                    </div>\n",
       "                </div>\n",
       "                "
      ],
      "text/plain": [
       "<Item title:\"Test Parrot Report_20240314010808\" type:PDF owner:nparavicini_geosaurus>"
      ]
     },
     "execution_count": 11,
     "metadata": {},
     "output_type": "execute_result"
    }
   ],
   "source": [
    "parrot_form.generate_report(report_template = template,\n",
    "                           report_title = \"Test Parrot Report\",\n",
    "                           output_format = \"pdf\",\n",
    "                           folder_id = \"9a77df0bb1c54903aeca1523fead027a\", \n",
    "                           merge_files = \"continuous\")"
   ]
  },
  {
   "cell_type": "markdown",
   "id": "4f908cff",
   "metadata": {},
   "source": [
    "Obviously, if you were somebody deploying in-depth Surveys and not just some kid in San Diego being bothered by parrots, then you'll probably make your reports a bit more specific than that. But, you get the point.\n",
    "\n",
    "Finally, we're going to take a look at how you can easily port your data to every Jupyter Notebook user's favorite data structure: a Pandas DataFrame. Doing this is an extremely useful workflow, as the ArcGIS API for Python has tons of ways to work with DataFrame data; we even have our own namespace for DataFrames that allows easy work with spatial data (look into the Spatially Enabled DataFrame, or SeDF, for more on that)."
   ]
  },
  {
   "cell_type": "code",
   "execution_count": 15,
   "id": "294caebb",
   "metadata": {},
   "outputs": [
    {
     "data": {
      "text/html": [
       "<div>\n",
       "<style scoped>\n",
       "    .dataframe tbody tr th:only-of-type {\n",
       "        vertical-align: middle;\n",
       "    }\n",
       "\n",
       "    .dataframe tbody tr th {\n",
       "        vertical-align: top;\n",
       "    }\n",
       "\n",
       "    .dataframe thead th {\n",
       "        text-align: right;\n",
       "    }\n",
       "</style>\n",
       "<table border=\"1\" class=\"dataframe\">\n",
       "  <thead>\n",
       "    <tr style=\"text-align: right;\">\n",
       "      <th></th>\n",
       "      <th>objectid</th>\n",
       "      <th>globalid</th>\n",
       "      <th>CreationDate</th>\n",
       "      <th>Creator</th>\n",
       "      <th>EditDate</th>\n",
       "      <th>Editor</th>\n",
       "      <th>date_and_time_of_the_report</th>\n",
       "      <th>quantity</th>\n",
       "      <th>behavior</th>\n",
       "      <th>name</th>\n",
       "      <th>email</th>\n",
       "      <th>phone_number</th>\n",
       "      <th>noise_level</th>\n",
       "      <th>SHAPE</th>\n",
       "    </tr>\n",
       "  </thead>\n",
       "  <tbody>\n",
       "    <tr>\n",
       "      <th>0</th>\n",
       "      <td>1</td>\n",
       "      <td>3113550c-bfb1-4a68-867a-4a11d75e13dd</td>\n",
       "      <td>2024-03-07 05:56:46.516999</td>\n",
       "      <td>nparavicini_geosaurus</td>\n",
       "      <td>2024-03-07 05:56:46.516999</td>\n",
       "      <td>nparavicini_geosaurus</td>\n",
       "      <td>2024-03-07 05:55:00</td>\n",
       "      <td>7.0</td>\n",
       "      <td>Chilling in a tree</td>\n",
       "      <td>&lt;NA&gt;</td>\n",
       "      <td>&lt;NA&gt;</td>\n",
       "      <td>&lt;NA&gt;</td>\n",
       "      <td>1.0</td>\n",
       "      <td>{\"x\": -117.24156071121246, \"y\": 32.75405974504...</td>\n",
       "    </tr>\n",
       "    <tr>\n",
       "      <th>1</th>\n",
       "      <td>2</td>\n",
       "      <td>c3b08bf2-6009-41f1-8f6e-e17962da0c3b</td>\n",
       "      <td>2024-03-07 05:58:38.479000</td>\n",
       "      <td>nparavicini_geosaurus</td>\n",
       "      <td>2024-03-07 05:58:38.479000</td>\n",
       "      <td>nparavicini_geosaurus</td>\n",
       "      <td>2024-03-05 14:32:00</td>\n",
       "      <td>3.0</td>\n",
       "      <td>Waking me up from a restful sleep</td>\n",
       "      <td>&lt;NA&gt;</td>\n",
       "      <td>&lt;NA&gt;</td>\n",
       "      <td>&lt;NA&gt;</td>\n",
       "      <td>10.0</td>\n",
       "      <td>{\"x\": -117.25398889432111, \"y\": 32.73623395320...</td>\n",
       "    </tr>\n",
       "    <tr>\n",
       "      <th>2</th>\n",
       "      <td>3</td>\n",
       "      <td>0394a43e-e418-4323-82db-14ca1e13aaf1</td>\n",
       "      <td>2024-03-07 05:59:32.191000</td>\n",
       "      <td>nparavicini_geosaurus</td>\n",
       "      <td>2024-03-07 05:59:32.191000</td>\n",
       "      <td>nparavicini_geosaurus</td>\n",
       "      <td>2024-03-04 18:58:00</td>\n",
       "      <td>5.0</td>\n",
       "      <td>Flying above the park</td>\n",
       "      <td>&lt;NA&gt;</td>\n",
       "      <td>&lt;NA&gt;</td>\n",
       "      <td>&lt;NA&gt;</td>\n",
       "      <td>5.0</td>\n",
       "      <td>{\"x\": -117.23384919265698, \"y\": 32.74793308655...</td>\n",
       "    </tr>\n",
       "    <tr>\n",
       "      <th>3</th>\n",
       "      <td>4</td>\n",
       "      <td>705c63df-cf4b-4048-8fd5-bd214cd36d58</td>\n",
       "      <td>2024-03-07 06:00:59.309999</td>\n",
       "      <td>nparavicini_geosaurus</td>\n",
       "      <td>2024-03-07 06:00:59.309999</td>\n",
       "      <td>nparavicini_geosaurus</td>\n",
       "      <td>2024-02-29 01:00:00</td>\n",
       "      <td>65.0</td>\n",
       "      <td>Flying in a squawking horde overheard</td>\n",
       "      <td>&lt;NA&gt;</td>\n",
       "      <td>&lt;NA&gt;</td>\n",
       "      <td>&lt;NA&gt;</td>\n",
       "      <td>8.0</td>\n",
       "      <td>{\"x\": -117.21971101748225, \"y\": 32.75440927825...</td>\n",
       "    </tr>\n",
       "    <tr>\n",
       "      <th>4</th>\n",
       "      <td>5</td>\n",
       "      <td>636f00b2-81f1-4e59-87fe-2f6af0893c4d</td>\n",
       "      <td>2024-03-14 01:04:41.895000</td>\n",
       "      <td>nparavicini_geosaurus</td>\n",
       "      <td>2024-03-14 01:04:41.895000</td>\n",
       "      <td>nparavicini_geosaurus</td>\n",
       "      <td>2024-03-12 13:35:00</td>\n",
       "      <td>3.0</td>\n",
       "      <td>Squawking like crazy</td>\n",
       "      <td>&lt;NA&gt;</td>\n",
       "      <td>&lt;NA&gt;</td>\n",
       "      <td>&lt;NA&gt;</td>\n",
       "      <td>8.0</td>\n",
       "      <td>{\"x\": -117.2362257660497, \"y\": 32.738747398239...</td>\n",
       "    </tr>\n",
       "  </tbody>\n",
       "</table>\n",
       "</div>"
      ],
      "text/plain": [
       "   objectid                              globalid               CreationDate   \n",
       "0         1  3113550c-bfb1-4a68-867a-4a11d75e13dd 2024-03-07 05:56:46.516999  \\\n",
       "1         2  c3b08bf2-6009-41f1-8f6e-e17962da0c3b 2024-03-07 05:58:38.479000   \n",
       "2         3  0394a43e-e418-4323-82db-14ca1e13aaf1 2024-03-07 05:59:32.191000   \n",
       "3         4  705c63df-cf4b-4048-8fd5-bd214cd36d58 2024-03-07 06:00:59.309999   \n",
       "4         5  636f00b2-81f1-4e59-87fe-2f6af0893c4d 2024-03-14 01:04:41.895000   \n",
       "\n",
       "                 Creator                   EditDate                 Editor   \n",
       "0  nparavicini_geosaurus 2024-03-07 05:56:46.516999  nparavicini_geosaurus  \\\n",
       "1  nparavicini_geosaurus 2024-03-07 05:58:38.479000  nparavicini_geosaurus   \n",
       "2  nparavicini_geosaurus 2024-03-07 05:59:32.191000  nparavicini_geosaurus   \n",
       "3  nparavicini_geosaurus 2024-03-07 06:00:59.309999  nparavicini_geosaurus   \n",
       "4  nparavicini_geosaurus 2024-03-14 01:04:41.895000  nparavicini_geosaurus   \n",
       "\n",
       "  date_and_time_of_the_report  quantity   \n",
       "0         2024-03-07 05:55:00       7.0  \\\n",
       "1         2024-03-05 14:32:00       3.0   \n",
       "2         2024-03-04 18:58:00       5.0   \n",
       "3         2024-02-29 01:00:00      65.0   \n",
       "4         2024-03-12 13:35:00       3.0   \n",
       "\n",
       "                                behavior  name email phone_number   \n",
       "0                     Chilling in a tree  <NA>  <NA>         <NA>  \\\n",
       "1      Waking me up from a restful sleep  <NA>  <NA>         <NA>   \n",
       "2                  Flying above the park  <NA>  <NA>         <NA>   \n",
       "3  Flying in a squawking horde overheard  <NA>  <NA>         <NA>   \n",
       "4                   Squawking like crazy  <NA>  <NA>         <NA>   \n",
       "\n",
       "   noise_level                                              SHAPE  \n",
       "0          1.0  {\"x\": -117.24156071121246, \"y\": 32.75405974504...  \n",
       "1         10.0  {\"x\": -117.25398889432111, \"y\": 32.73623395320...  \n",
       "2          5.0  {\"x\": -117.23384919265698, \"y\": 32.74793308655...  \n",
       "3          8.0  {\"x\": -117.21971101748225, \"y\": 32.75440927825...  \n",
       "4          8.0  {\"x\": -117.2362257660497, \"y\": 32.738747398239...  "
      ]
     },
     "execution_count": 15,
     "metadata": {},
     "output_type": "execute_result"
    }
   ],
   "source": [
    "df = parrot_form.download('DF')\n",
    "df"
   ]
  },
  {
   "cell_type": "code",
   "execution_count": 13,
   "id": "9e221b48",
   "metadata": {},
   "outputs": [
    {
     "data": {
      "text/plain": [
       "objectid                                Int64\n",
       "globalid                       string[python]\n",
       "CreationDate                   datetime64[us]\n",
       "Creator                        string[python]\n",
       "EditDate                       datetime64[us]\n",
       "Editor                         string[python]\n",
       "date_and_time_of_the_report    datetime64[us]\n",
       "quantity                              Float64\n",
       "behavior                       string[python]\n",
       "name                           string[python]\n",
       "email                          string[python]\n",
       "phone_number                   string[python]\n",
       "noise_level                           Float64\n",
       "SHAPE                                geometry\n",
       "dtype: object"
      ]
     },
     "execution_count": 13,
     "metadata": {},
     "output_type": "execute_result"
    }
   ],
   "source": [
    "df.dtypes"
   ]
  },
  {
   "cell_type": "markdown",
   "id": "f5e644a2",
   "metadata": {},
   "source": [
    "We can see that doing this put it directly into a Spatially Enabled DataFrame, meaning we have a `SHAPE` column containing the spatial data of each entry. This makes it extremely easy to do things such as run spatial analysis on or plot the data."
   ]
  },
  {
   "cell_type": "code",
   "execution_count": 17,
   "id": "d1d1c9ef",
   "metadata": {
    "scrolled": false
   },
   "outputs": [
    {
     "data": {
      "application/vnd.jupyter.widget-view+json": {
       "model_id": "ba51c7968e044fd787ecb84797a12ca2",
       "version_major": 2,
       "version_minor": 0
      },
      "text/plain": [
       "MapView(layout=Layout(height='400px', width='100%'))"
      ]
     },
     "metadata": {},
     "output_type": "display_data"
    },
    {
     "data": {
      "text/html": [
       "<div class=\"map-static-img-preview-aa49b032-1645-417a-8c65-fe9113c31543\"><img src=\"\"></img></div>"
      ],
      "text/plain": [
       "<IPython.core.display.HTML object>"
      ]
     },
     "metadata": {},
     "output_type": "display_data"
    },
    {
     "data": {
      "text/html": [
       "<div class=\"map-html-embed-preview-aa49b032-1645-417a-8c65-fe9113c31543\"></div>"
      ],
      "text/plain": [
       "<IPython.core.display.HTML object>"
      ]
     },
     "metadata": {},
     "output_type": "display_data"
    }
   ],
   "source": [
    "map1 = gis.map(\"Point Loma\")\n",
    "map1.zoom = 11\n",
    "map1"
   ]
  },
  {
   "cell_type": "code",
   "execution_count": 19,
   "id": "b031fb78",
   "metadata": {},
   "outputs": [
    {
     "data": {
      "text/plain": [
       "True"
      ]
     },
     "execution_count": 19,
     "metadata": {},
     "output_type": "execute_result"
    }
   ],
   "source": [
    "df.spatial.plot(\n",
    "    map_widget = map1,\n",
    "    colors = [92, 250, 113, 255],\n",
    "    renderer_type = \"s\",\n",
    "    marker_size=20,\n",
    "    line_width=0.4,\n",
    ")"
   ]
  },
  {
   "cell_type": "markdown",
   "id": "a338713f",
   "metadata": {},
   "source": [
    "And there we have it!"
   ]
  }
 ],
 "metadata": {
  "kernelspec": {
   "display_name": "Python 3 (ipykernel)",
   "language": "python",
   "name": "python3"
  },
  "language_info": {
   "codemirror_mode": {
    "name": "ipython",
    "version": 3
   },
   "file_extension": ".py",
   "mimetype": "text/x-python",
   "name": "python",
   "nbconvert_exporter": "python",
   "pygments_lexer": "ipython3",
   "version": "3.10.13"
  }
 },
 "nbformat": 4,
 "nbformat_minor": 5
}
