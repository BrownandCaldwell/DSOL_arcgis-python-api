{
 "cells": [
  {
   "cell_type": "markdown",
   "metadata": {},
   "source": [
    "## Fixing Your Mistakes by Updating and Overwriting Data"
   ]
  },
  {
   "cell_type": "markdown",
   "metadata": {},
   "source": [
    "### Setup the Environment"
   ]
  },
  {
   "cell_type": "code",
   "execution_count": 1,
   "metadata": {},
   "outputs": [],
   "source": [
    "import os\n",
    "import sys\n",
    "import tempfile\n",
    "import pandas as pd\n",
    "import arcgis\n",
    "from arcgis.gis import GIS\n",
    "from arcgis.features import FeatureLayerCollection"
   ]
  },
  {
   "cell_type": "markdown",
   "metadata": {},
   "source": [
    "### Connect to the GIS"
   ]
  },
  {
   "cell_type": "code",
   "execution_count": 2,
   "metadata": {},
   "outputs": [],
   "source": [
    "gis = GIS(profile='your_online_profile')"
   ]
  },
  {
   "cell_type": "markdown",
   "metadata": {},
   "source": [
    "## Load the Sample Data"
   ]
  },
  {
   "cell_type": "markdown",
   "metadata": {},
   "source": [
    "- in this tutorial the data used will be downloaded from the ArcGIS Open Data Site\n"
   ]
  },
  {
   "cell_type": "code",
   "execution_count": 3,
   "metadata": {},
   "outputs": [
    {
     "data": {
      "text/html": [
       "<div>\n",
       "<style scoped>\n",
       "    .dataframe tbody tr th:only-of-type {\n",
       "        vertical-align: middle;\n",
       "    }\n",
       "\n",
       "    .dataframe tbody tr th {\n",
       "        vertical-align: top;\n",
       "    }\n",
       "\n",
       "    .dataframe thead th {\n",
       "        text-align: right;\n",
       "    }\n",
       "</style>\n",
       "<table border=\"1\" class=\"dataframe\">\n",
       "  <thead>\n",
       "    <tr style=\"text-align: right;\">\n",
       "      <th></th>\n",
       "      <th>X</th>\n",
       "      <th>Y</th>\n",
       "      <th>CCN</th>\n",
       "      <th>REPORT_DAT</th>\n",
       "      <th>SHIFT</th>\n",
       "      <th>METHOD</th>\n",
       "      <th>OFFENSE</th>\n",
       "      <th>BLOCK</th>\n",
       "      <th>XBLOCK</th>\n",
       "      <th>YBLOCK</th>\n",
       "      <th>...</th>\n",
       "      <th>BLOCK_GROUP</th>\n",
       "      <th>CENSUS_TRACT</th>\n",
       "      <th>VOTING_PRECINCT</th>\n",
       "      <th>LATITUDE</th>\n",
       "      <th>LONGITUDE</th>\n",
       "      <th>BID</th>\n",
       "      <th>START_DATE</th>\n",
       "      <th>END_DATE</th>\n",
       "      <th>OBJECTID</th>\n",
       "      <th>OCTO_RECORD_ID</th>\n",
       "    </tr>\n",
       "  </thead>\n",
       "  <tbody>\n",
       "    <tr>\n",
       "      <th>0</th>\n",
       "      <td>-77.043471</td>\n",
       "      <td>38.897846</td>\n",
       "      <td>23006624</td>\n",
       "      <td>2023/01/13 05:25:22+00</td>\n",
       "      <td>MIDNIGHT</td>\n",
       "      <td>OTHERS</td>\n",
       "      <td>THEFT/OTHER</td>\n",
       "      <td>600 - 699 BLOCK OF 19TH STREET NW</td>\n",
       "      <td>396229.23</td>\n",
       "      <td>136666.18</td>\n",
       "      <td>...</td>\n",
       "      <td>010800 6</td>\n",
       "      <td>10800</td>\n",
       "      <td>Precinct 2</td>\n",
       "      <td>38.897838</td>\n",
       "      <td>-77.043469</td>\n",
       "      <td>NaN</td>\n",
       "      <td>2023/01/13 04:20:00+00</td>\n",
       "      <td>2023/01/14 04:30:00+00</td>\n",
       "      <td>284143890</td>\n",
       "      <td>NaN</td>\n",
       "    </tr>\n",
       "    <tr>\n",
       "      <th>1</th>\n",
       "      <td>-77.001312</td>\n",
       "      <td>38.889816</td>\n",
       "      <td>23006626</td>\n",
       "      <td>2023/01/13 10:19:27+00</td>\n",
       "      <td>MIDNIGHT</td>\n",
       "      <td>OTHERS</td>\n",
       "      <td>THEFT/OTHER</td>\n",
       "      <td>300 - 399 BLOCK OF EAST CAPITOL STREET</td>\n",
       "      <td>399886.38</td>\n",
       "      <td>135773.92</td>\n",
       "      <td>...</td>\n",
       "      <td>008200 2</td>\n",
       "      <td>8200</td>\n",
       "      <td>Precinct 89</td>\n",
       "      <td>38.889808</td>\n",
       "      <td>-77.001310</td>\n",
       "      <td>CAPITOL HILL</td>\n",
       "      <td>2023/01/13 04:36:00+00</td>\n",
       "      <td>2023/01/13 05:54:00+00</td>\n",
       "      <td>284143891</td>\n",
       "      <td>NaN</td>\n",
       "    </tr>\n",
       "    <tr>\n",
       "      <th>2</th>\n",
       "      <td>-77.021808</td>\n",
       "      <td>38.967941</td>\n",
       "      <td>23006627</td>\n",
       "      <td>2023/01/13 05:27:24+00</td>\n",
       "      <td>MIDNIGHT</td>\n",
       "      <td>OTHERS</td>\n",
       "      <td>THEFT/OTHER</td>\n",
       "      <td>600 - 699 BLOCK OF TEWKESBURY PLACE NW</td>\n",
       "      <td>398110.33</td>\n",
       "      <td>144446.71</td>\n",
       "      <td>...</td>\n",
       "      <td>001901 4</td>\n",
       "      <td>1901</td>\n",
       "      <td>Precinct 59</td>\n",
       "      <td>38.967933</td>\n",
       "      <td>-77.021805</td>\n",
       "      <td>NaN</td>\n",
       "      <td>2023/01/11 20:00:00+00</td>\n",
       "      <td>2023/01/14 04:00:00+00</td>\n",
       "      <td>284143892</td>\n",
       "      <td>NaN</td>\n",
       "    </tr>\n",
       "    <tr>\n",
       "      <th>3</th>\n",
       "      <td>-76.993083</td>\n",
       "      <td>38.924518</td>\n",
       "      <td>23006631</td>\n",
       "      <td>2023/01/13 05:31:50+00</td>\n",
       "      <td>MIDNIGHT</td>\n",
       "      <td>OTHERS</td>\n",
       "      <td>MOTOR VEHICLE THEFT</td>\n",
       "      <td>800 - 999 BLOCK OF EVARTS STREET NE</td>\n",
       "      <td>400600.00</td>\n",
       "      <td>139626.19</td>\n",
       "      <td>...</td>\n",
       "      <td>009302 1</td>\n",
       "      <td>9302</td>\n",
       "      <td>Precinct 74</td>\n",
       "      <td>38.924510</td>\n",
       "      <td>-76.993081</td>\n",
       "      <td>NaN</td>\n",
       "      <td>2023/01/13 05:13:00+00</td>\n",
       "      <td>2023/01/13 05:31:00+00</td>\n",
       "      <td>284143893</td>\n",
       "      <td>NaN</td>\n",
       "    </tr>\n",
       "    <tr>\n",
       "      <th>4</th>\n",
       "      <td>-77.004495</td>\n",
       "      <td>38.928807</td>\n",
       "      <td>23006636</td>\n",
       "      <td>2023/01/13 06:46:16+00</td>\n",
       "      <td>MIDNIGHT</td>\n",
       "      <td>GUN</td>\n",
       "      <td>ROBBERY</td>\n",
       "      <td>100 - 379 BLOCK OF MICHIGAN AVENUE NE</td>\n",
       "      <td>399610.40</td>\n",
       "      <td>140102.24</td>\n",
       "      <td>...</td>\n",
       "      <td>002302 2</td>\n",
       "      <td>2302</td>\n",
       "      <td>Precinct 44</td>\n",
       "      <td>38.928799</td>\n",
       "      <td>-77.004493</td>\n",
       "      <td>NaN</td>\n",
       "      <td>2023/01/13 05:01:00+00</td>\n",
       "      <td>2023/01/13 05:02:00+00</td>\n",
       "      <td>284143894</td>\n",
       "      <td>NaN</td>\n",
       "    </tr>\n",
       "  </tbody>\n",
       "</table>\n",
       "<p>5 rows × 25 columns</p>\n",
       "</div>"
      ],
      "text/plain": [
       "           X          Y       CCN              REPORT_DAT     SHIFT  METHOD  \\\n",
       "0 -77.043471  38.897846  23006624  2023/01/13 05:25:22+00  MIDNIGHT  OTHERS   \n",
       "1 -77.001312  38.889816  23006626  2023/01/13 10:19:27+00  MIDNIGHT  OTHERS   \n",
       "2 -77.021808  38.967941  23006627  2023/01/13 05:27:24+00  MIDNIGHT  OTHERS   \n",
       "3 -76.993083  38.924518  23006631  2023/01/13 05:31:50+00  MIDNIGHT  OTHERS   \n",
       "4 -77.004495  38.928807  23006636  2023/01/13 06:46:16+00  MIDNIGHT     GUN   \n",
       "\n",
       "               OFFENSE                                   BLOCK     XBLOCK  \\\n",
       "0          THEFT/OTHER       600 - 699 BLOCK OF 19TH STREET NW  396229.23   \n",
       "1          THEFT/OTHER  300 - 399 BLOCK OF EAST CAPITOL STREET  399886.38   \n",
       "2          THEFT/OTHER  600 - 699 BLOCK OF TEWKESBURY PLACE NW  398110.33   \n",
       "3  MOTOR VEHICLE THEFT     800 - 999 BLOCK OF EVARTS STREET NE  400600.00   \n",
       "4              ROBBERY   100 - 379 BLOCK OF MICHIGAN AVENUE NE  399610.40   \n",
       "\n",
       "      YBLOCK  ...  BLOCK_GROUP CENSUS_TRACT  VOTING_PRECINCT   LATITUDE  \\\n",
       "0  136666.18  ...     010800 6        10800       Precinct 2  38.897838   \n",
       "1  135773.92  ...     008200 2         8200      Precinct 89  38.889808   \n",
       "2  144446.71  ...     001901 4         1901      Precinct 59  38.967933   \n",
       "3  139626.19  ...     009302 1         9302      Precinct 74  38.924510   \n",
       "4  140102.24  ...     002302 2         2302      Precinct 44  38.928799   \n",
       "\n",
       "   LONGITUDE           BID              START_DATE                END_DATE  \\\n",
       "0 -77.043469           NaN  2023/01/13 04:20:00+00  2023/01/14 04:30:00+00   \n",
       "1 -77.001310  CAPITOL HILL  2023/01/13 04:36:00+00  2023/01/13 05:54:00+00   \n",
       "2 -77.021805           NaN  2023/01/11 20:00:00+00  2023/01/14 04:00:00+00   \n",
       "3 -76.993081           NaN  2023/01/13 05:13:00+00  2023/01/13 05:31:00+00   \n",
       "4 -77.004493           NaN  2023/01/13 05:01:00+00  2023/01/13 05:02:00+00   \n",
       "\n",
       "    OBJECTID  OCTO_RECORD_ID  \n",
       "0  284143890             NaN  \n",
       "1  284143891             NaN  \n",
       "2  284143892             NaN  \n",
       "3  284143893             NaN  \n",
       "4  284143894             NaN  \n",
       "\n",
       "[5 rows x 25 columns]"
      ]
     },
     "execution_count": 3,
     "metadata": {},
     "output_type": "execute_result"
    }
   ],
   "source": [
    "df = pd.read_csv(\"https://opendata.arcgis.com/datasets/dc3289eab3d2400ea49c154863312434_8.csv\")\n",
    "df.head()"
   ]
  },
  {
   "cell_type": "code",
   "execution_count": 4,
   "metadata": {},
   "outputs": [],
   "source": [
    "split_spot = len(df)//2\n",
    "half_df = df[:split_spot].copy()"
   ]
  },
  {
   "cell_type": "markdown",
   "metadata": {},
   "source": [
    "## Add the Sample Data to GIS "
   ]
  },
  {
   "cell_type": "code",
   "execution_count": 5,
   "metadata": {},
   "outputs": [],
   "source": [
    "half_df.to_csv(\"./myuploaddata.csv\")"
   ]
  },
  {
   "cell_type": "code",
   "execution_count": 6,
   "metadata": {},
   "outputs": [
    {
     "data": {
      "text/html": [
       "<div class=\"item_container\" style=\"height: auto; overflow: hidden; border: 1px solid #cfcfcf; border-radius: 2px; background: #f6fafa; line-height: 1.21429em; padding: 10px;\">\n",
       "                    <div class=\"item_left\" style=\"width: 210px; float: left;\">\n",
       "                       <a href='https://geosaurus.maps.arcgis.com/home/item.html?id=3ebdbdf197da488da38ccb15360ffa9b' target='_blank'>\n",
       "                        <img src='http://static.arcgis.com/images/desktopapp.png' class=\"itemThumbnail\">\n",
       "                       </a>\n",
       "                    </div>\n",
       "\n",
       "                    <div class=\"item_right\"     style=\"float: none; width: auto; overflow: hidden;\">\n",
       "                        <a href='https://geosaurus.maps.arcgis.com/home/item.html?id=3ebdbdf197da488da38ccb15360ffa9b' target='_blank'><b>overwrite_source</b>\n",
       "                        </a>\n",
       "                        <br/><img src='https://geosaurus.maps.arcgis.com/home/js/jsapi/esri/css/images/item_type_icons/layers16.png' style=\"vertical-align:middle;\">CSV by andrew57\n",
       "                        <br/>Last Modified: February 05, 2023\n",
       "                        <br/>0 comments, 0 views\n",
       "                    </div>\n",
       "                </div>\n",
       "                "
      ],
      "text/plain": [
       "<Item title:\"overwrite_source\" type:CSV owner:andrew57>"
      ]
     },
     "execution_count": 6,
     "metadata": {},
     "output_type": "execute_result"
    }
   ],
   "source": [
    "item = gis.content.add({\n",
    "    'title' : 'overwrite_source',\n",
    "    'type' : 'CSV',\n",
    "    'tags' : \"demo, data\"\n",
    "},\n",
    "data=\"./myuploaddata.csv\")\n",
    "item"
   ]
  },
  {
   "cell_type": "code",
   "execution_count": 7,
   "metadata": {},
   "outputs": [
    {
     "data": {
      "text/html": [
       "<div class=\"item_container\" style=\"height: auto; overflow: hidden; border: 1px solid #cfcfcf; border-radius: 2px; background: #f6fafa; line-height: 1.21429em; padding: 10px;\">\n",
       "                    <div class=\"item_left\" style=\"width: 210px; float: left;\">\n",
       "                       <a href='https://geosaurus.maps.arcgis.com/home/item.html?id=e70aac09f0824ef590f46df5e36d21cf' target='_blank'>\n",
       "                        <img src='http://static.arcgis.com/images/desktopapp.png' class=\"itemThumbnail\">\n",
       "                       </a>\n",
       "                    </div>\n",
       "\n",
       "                    <div class=\"item_right\"     style=\"float: none; width: auto; overflow: hidden;\">\n",
       "                        <a href='https://geosaurus.maps.arcgis.com/home/item.html?id=e70aac09f0824ef590f46df5e36d21cf' target='_blank'><b>overwrite_source</b>\n",
       "                        </a>\n",
       "                        <br/><img src='https://geosaurus.maps.arcgis.com/home/js/jsapi/esri/css/images/item_type_icons/featureshosted16.png' style=\"vertical-align:middle;\">Feature Layer Collection by andrew57\n",
       "                        <br/>Last Modified: February 05, 2023\n",
       "                        <br/>0 comments, 0 views\n",
       "                    </div>\n",
       "                </div>\n",
       "                "
      ],
      "text/plain": [
       "<Item title:\"overwrite_source\" type:Feature Layer Collection owner:andrew57>"
      ]
     },
     "execution_count": 7,
     "metadata": {},
     "output_type": "execute_result"
    }
   ],
   "source": [
    "crime_locations = item.publish()\n",
    "crime_locations"
   ]
  },
  {
   "cell_type": "markdown",
   "metadata": {},
   "source": [
    "### OH NO WE FORGOT HALF THE DATA"
   ]
  },
  {
   "cell_type": "markdown",
   "metadata": {},
   "source": [
    "<img src=\"./img/shame.jpg\"/>\n",
    "\n",
    "- how do we fix this?"
   ]
  },
  {
   "cell_type": "markdown",
   "metadata": {},
   "source": [
    "### Enter Overwriting Data\n",
    "\n",
    "- new data can be uploaded to the service and republished.  \n",
    "- the `overwrite` parameter needs to be set to `True`\n",
    "- the csv file needs to the same exact file name and same column names \n",
    "    + if you do not have this, you will fail "
   ]
  },
  {
   "cell_type": "code",
   "execution_count": 8,
   "metadata": {},
   "outputs": [],
   "source": [
    "import os\n",
    "with tempfile.TemporaryDirectory() as tmp:\n",
    "    fp = os.path.join(tmp, \"myuploaddata.csv\") # same name CHECK\n",
    "    df.to_csv(fp)\n",
    "    flc = FeatureLayerCollection.fromitem(crime_locations)\n",
    "    flc.manager.overwrite(fp)"
   ]
  },
  {
   "cell_type": "markdown",
   "metadata": {},
   "source": [
    "**What Happened Here?**\n",
    "\n",
    "1. Write the data to a temporary folder\n",
    "2. Access the item's `Feature Service`\n",
    "3. Access the manager (owners and admins only)\n",
    "4. Call `overwrite` and pass in the new dataset"
   ]
  },
  {
   "cell_type": "code",
   "execution_count": 10,
   "metadata": {},
   "outputs": [
    {
     "name": "stdout",
     "output_type": "stream",
     "text": [
      "2534 1267 True\n"
     ]
    }
   ],
   "source": [
    "new_count = crime_locations.layers[0].query(return_count_only=True) \n",
    "old_count = len(half_df)\n",
    "print(new_count, old_count, new_count > old_count)"
   ]
  },
  {
   "cell_type": "code",
   "execution_count": 11,
   "metadata": {},
   "outputs": [],
   "source": [
    "assert crime_locations.delete()\n",
    "assert item.delete()"
   ]
  },
  {
   "cell_type": "markdown",
   "metadata": {},
   "source": [
    "**Shame No More!**"
   ]
  }
 ],
 "metadata": {
  "kernelspec": {
   "display_name": "Python 3",
   "language": "python",
   "name": "python3"
  },
  "language_info": {
   "codemirror_mode": {
    "name": "ipython",
    "version": 3
   },
   "file_extension": ".py",
   "mimetype": "text/x-python",
   "name": "python",
   "nbconvert_exporter": "python",
   "pygments_lexer": "ipython3",
   "version": "3.9.11"
  }
 },
 "nbformat": 4,
 "nbformat_minor": 4
}
