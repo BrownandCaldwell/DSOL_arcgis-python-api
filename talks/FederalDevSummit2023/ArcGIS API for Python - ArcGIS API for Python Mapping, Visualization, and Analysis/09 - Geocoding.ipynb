{
 "cells": [
  {
   "cell_type": "markdown",
   "id": "e8a6b64a",
   "metadata": {},
   "source": [
    "## Geocoding"
   ]
  },
  {
   "cell_type": "markdown",
   "id": "34597f4c",
   "metadata": {},
   "source": [
    "<img src=\"./img/null-island-2.png\"/>\n",
    "\n",
    "\n",
    "- provide geographical coordinates corresponding to (a location)."
   ]
  },
  {
   "cell_type": "markdown",
   "id": "611d29a7",
   "metadata": {},
   "source": [
    "#### Connect to a GIS"
   ]
  },
  {
   "cell_type": "code",
   "execution_count": null,
   "id": "0bd481bc",
   "metadata": {},
   "outputs": [],
   "source": [
    "from arcgis.gis import GIS\n",
    "from arcgis.geocoding import geocode"
   ]
  },
  {
   "cell_type": "code",
   "execution_count": null,
   "id": "3467f74d",
   "metadata": {},
   "outputs": [],
   "source": [
    "gis = GIS(profile='your_online_profile')"
   ]
  },
  {
   "cell_type": "markdown",
   "id": "8aaba35a",
   "metadata": {},
   "source": [
    "#### Single Line Geocoding"
   ]
  },
  {
   "cell_type": "code",
   "execution_count": null,
   "id": "9bd363e6",
   "metadata": {},
   "outputs": [],
   "source": [
    "single_line_address = \"380 New York Street, Redlands, CA 92373\"\n",
    "geocode(single_line_address)"
   ]
  },
  {
   "cell_type": "markdown",
   "id": "aff94cf5",
   "metadata": {},
   "source": [
    "#### Geocoding by POI"
   ]
  },
  {
   "cell_type": "code",
   "execution_count": null,
   "id": "483672a7",
   "metadata": {},
   "outputs": [],
   "source": [
    "disney = geocode(\"Disney World\")\n",
    "for i in range(len(disney)):\n",
    "    if disney[i]['attributes']['Type']== \"Amusement Park\":\n",
    "        print(disney[i]['attributes']['LongLabel'])\n",
    "        print(\" - \",disney[i]['attributes']['Score'], \n",
    "              \" - \", disney[i]['attributes']['Addr_type'])"
   ]
  },
  {
   "cell_type": "markdown",
   "id": "3d27a008",
   "metadata": {},
   "source": [
    "#### Geocoding Results as FeatureSets"
   ]
  },
  {
   "cell_type": "code",
   "execution_count": null,
   "id": "77c78e3d",
   "metadata": {},
   "outputs": [],
   "source": [
    "esp_mfield_address = { \n",
    "                        \"Address\" : \"Sagrada Familia\",\n",
    "                        'Nbrhd': 'Sagrada Familia',\n",
    "                        'District': 'Barcelona',\n",
    "                        'City': 'Barcelona',\n",
    "                        'Region': 'Catalunya',\n",
    "                        \"Country\": \"ESP\"\n",
    "                      }\n",
    "fset = geocode(esp_mfield_address,\n",
    "                       as_featureset=True)\n",
    "fset"
   ]
  },
  {
   "cell_type": "code",
   "execution_count": null,
   "id": "59d6229f",
   "metadata": {},
   "outputs": [],
   "source": [
    "fset.sdf.convert_dtypes().spatial.plot()"
   ]
  },
  {
   "cell_type": "markdown",
   "id": "6b727f8c",
   "metadata": {},
   "source": [
    "#### Batch Geocoding"
   ]
  },
  {
   "cell_type": "code",
   "execution_count": null,
   "id": "358ab911",
   "metadata": {},
   "outputs": [],
   "source": [
    "from arcgis.geocoding import get_geocoders, batch_geocode\n",
    "addresses = [\"380 New York St, Redlands, CA\", \n",
    "             \"1 World Way, Los Angeles, CA\",\n",
    "             \"1200 Getty Center Drive, Los Angeles, CA\", \n",
    "             \"5905 Wilshire Boulevard, Los Angeles, CA\",\n",
    "             \"100 Universal City Plaza, Universal City, CA 91608\",\n",
    "             \"4800 Oak Grove Dr, Pasadena, CA 91109\"]\n",
    "results = batch_geocode(addresses)"
   ]
  },
  {
   "cell_type": "code",
   "execution_count": null,
   "id": "e532a494",
   "metadata": {},
   "outputs": [],
   "source": [
    "map0 = gis.map(\"Los Angeles\", 9)\n",
    "map0.basemap = 'streets'\n",
    "map0"
   ]
  },
  {
   "cell_type": "code",
   "execution_count": null,
   "id": "253ca716",
   "metadata": {},
   "outputs": [],
   "source": [
    "for address in results:\n",
    "    map0.draw(address['location'])"
   ]
  },
  {
   "cell_type": "markdown",
   "id": "fa9ad90c",
   "metadata": {},
   "source": [
    "#### Result"
   ]
  },
  {
   "cell_type": "markdown",
   "id": "fbb50509",
   "metadata": {},
   "source": [
    "<img src=\"./img/geocoding.jpg\"/>"
   ]
  }
 ],
 "metadata": {
  "kernelspec": {
   "display_name": "Python 3",
   "language": "python",
   "name": "python3"
  },
  "language_info": {
   "codemirror_mode": {
    "name": "ipython",
    "version": 3
   },
   "file_extension": ".py",
   "mimetype": "text/x-python",
   "name": "python",
   "nbconvert_exporter": "python",
   "pygments_lexer": "ipython3",
   "version": "3.9.11"
  }
 },
 "nbformat": 4,
 "nbformat_minor": 5
}
