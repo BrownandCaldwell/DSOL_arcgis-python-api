{
 "cells": [
  {
   "cell_type": "markdown",
   "metadata": {},
   "source": [
    "# Spatially Enabled Data Frames"
   ]
  },
  {
   "cell_type": "markdown",
   "metadata": {
    "heading_collapsed": true
   },
   "source": [
    "#### Setup Environment"
   ]
  },
  {
   "cell_type": "code",
   "execution_count": null,
   "metadata": {
    "hidden": true
   },
   "outputs": [],
   "source": [
    "%%html\n",
    "<style>\n",
    ".container {width: 90% !important; }\n",
    "#logo\n",
    "{\n",
    "    float: left;\n",
    "}\n",
    "#names\n",
    "{\n",
    "    float: right;\n",
    "    \n",
    "}\n",
    "#logo2\n",
    "{\n",
    "    float: right;\n",
    "    height=100;\n",
    "    width=100;\n",
    "    margin: 5px;\n",
    "}\n",
    "#top_menu\n",
    "{\n",
    "    margin: 20px auto 0;\n",
    "    \n",
    "    height:300px;\n",
    "    width: 400px;\n",
    "}\n",
    "</style>"
   ]
  },
  {
   "cell_type": "markdown",
   "metadata": {},
   "source": [
    "### Getting Started"
   ]
  },
  {
   "cell_type": "markdown",
   "metadata": {},
   "source": [
    "## Overview "
   ]
  },
  {
   "cell_type": "markdown",
   "metadata": {},
   "source": [
    "### Built on a Pandas\n",
    "   + Special `spatial` and `geom` namespaces\n",
    "   + Has a custom `Geometry` column type"
   ]
  },
  {
   "cell_type": "markdown",
   "metadata": {},
   "source": [
    "### Provides a different geospatial experience:\n",
    "   + In Memory\n",
    "   + Fast\n",
    "   + On the Fly Indexing\n",
    "   + Multi-platform"
   ]
  },
  {
   "cell_type": "markdown",
   "metadata": {},
   "source": [
    "### Custom Namespaces!\n",
    "\n",
    "   + `geom` on Series\n",
    "   \n",
    "   ```python\n",
    "   >>> df['SHAPE'].geom.area\n",
    "   ```\n",
    "    \n",
    "   + `spatial` on the the DataFrame\n",
    "    \n",
    "   ```python\n",
    "   >>> df.spatial.project_as(4326)\n",
    "   ```"
   ]
  },
  {
   "cell_type": "markdown",
   "metadata": {},
   "source": [
    "### Other Benefits\n",
    "\n",
    "- Cross platform spatial analysis\n",
    "    + Mac, Linux, and Windows\n",
    "\n",
    "- Multi-geometry engine support\n",
    "\n",
    "    + Esri Arcpy's Engine\n",
    "    + Shapely/Geos\n",
    "    \n",
    "- Read/write data\n",
    "\n",
    "    + Fiona, shapefile, and arcpy"
   ]
  },
  {
   "cell_type": "markdown",
   "metadata": {},
   "source": [
    "## Getting Started"
   ]
  },
  {
   "cell_type": "markdown",
   "metadata": {},
   "source": [
    "It starts with two imports"
   ]
  },
  {
   "cell_type": "code",
   "execution_count": null,
   "metadata": {},
   "outputs": [],
   "source": [
    "import pandas as pd\n",
    "from arcgis.features import GeoAccessor, GeoSeriesAccessor"
   ]
  },
  {
   "cell_type": "markdown",
   "metadata": {},
   "source": [
    "- Loads Pandas\n",
    "- The `GeoAccessor` and `GeoSeriesAccessor` load the namespaces into Pandas"
   ]
  },
  {
   "cell_type": "markdown",
   "metadata": {},
   "source": [
    "### Data I/O"
   ]
  },
  {
   "cell_type": "markdown",
   "metadata": {},
   "source": [
    "#### Consumption\n",
    "\n",
    "- Feature Layers\n",
    "- Data Frames\n",
    "- Feature classes"
   ]
  },
  {
   "cell_type": "markdown",
   "metadata": {},
   "source": [
    "```python\n",
    "\n",
    "    from arcgis.features import FeatureLayer\n",
    "    fl = FeatureLayer((\"https://services2.arcgis.com/zPFLSOZ5HzUzzTQb/arcgis\"\n",
    "                       \"/rest/services/CensusBlockGroup/FeatureServer/0\"))\n",
    "    sdf1 = pd.DataFrame.spatial.from_layer(fl)\n",
    "    sdf2 = pd.DataFrame.spatial.from_featureclass(\"./data/historic_traffic.shp\")\n",
    "    df_earthquakes = pd.read_csv(\"https://earthquake.usgs.gov/earthquakes/feed/v1.0/summary/all_hour.csv\")\n",
    "    sdf3 = pd.DataFrame.spatial.from_xy(df=df_earthquakes, \n",
    "                                        x_column=\"longitude\", \n",
    "                                        y_column=\"latitude\", \n",
    "                                        sr=4326)\n",
    "```"
   ]
  },
  {
   "cell_type": "markdown",
   "metadata": {},
   "source": [
    "#### Persistence of Data\n",
    "\n",
    "- Tables\n",
    "- Feature Classes\n",
    "- Services"
   ]
  },
  {
   "cell_type": "markdown",
   "metadata": {},
   "source": [
    "```python\n",
    "    item = gis.content.import_data(df=sdf1, title=\"CensusBlockGroup\")\n",
    "    sdf1.spatial.to_featureclass(location=\"./data/stage.gdb/census\")\n",
    "```"
   ]
  },
  {
   "cell_type": "markdown",
   "metadata": {},
   "source": [
    "## Working with the Series Namespace"
   ]
  },
  {
   "cell_type": "markdown",
   "metadata": {},
   "source": [
    "##### Recall:\n",
    "   - A series is a 1-D array of values\n",
    "    "
   ]
  },
  {
   "cell_type": "markdown",
   "metadata": {},
   "source": [
    "#### Reading a Feature Class"
   ]
  },
  {
   "cell_type": "code",
   "execution_count": null,
   "metadata": {},
   "outputs": [],
   "source": [
    "data = r\".\\sample_data.gdb/Zoning\"\n",
    "sdf = pd.DataFrame.spatial.from_featureclass(data)\n",
    "sdf.SHAPE.head()"
   ]
  },
  {
   "cell_type": "markdown",
   "metadata": {},
   "source": [
    "#### Adding Centroid to Table"
   ]
  },
  {
   "cell_type": "code",
   "execution_count": null,
   "metadata": {},
   "outputs": [],
   "source": [
    "sdf['centers'] = sdf.SHAPE.geom.centroid\n",
    "sdf['centers'].head()"
   ]
  },
  {
   "cell_type": "markdown",
   "metadata": {},
   "source": [
    "#### Example Calculating Areas"
   ]
  },
  {
   "cell_type": "code",
   "execution_count": null,
   "metadata": {
    "scrolled": true
   },
   "outputs": [],
   "source": [
    "sdf.SHAPE.geom.get_area(\"PLANAR\",\"ACRES\").sum()"
   ]
  },
  {
   "cell_type": "markdown",
   "metadata": {},
   "source": [
    "## Working with the DataFrame Namespace"
   ]
  },
  {
   "cell_type": "markdown",
   "metadata": {},
   "source": [
    "- The `spatial` name space provides:\n",
    "    + Dataset level operations\n",
    "    + Dataset information\n",
    "    + I/O operations exist here"
   ]
  },
  {
   "cell_type": "markdown",
   "metadata": {},
   "source": [
    "### `Spatial` Operation Examples"
   ]
  },
  {
   "cell_type": "markdown",
   "metadata": {},
   "source": [
    "#### Visualize Bounding Box"
   ]
  },
  {
   "cell_type": "code",
   "execution_count": null,
   "metadata": {},
   "outputs": [],
   "source": [
    "\n",
    "sdf = pd.DataFrame.spatial.from_featureclass(data)\n",
    "sdf.spatial.bbox"
   ]
  },
  {
   "cell_type": "markdown",
   "metadata": {},
   "source": [
    "#### Full Extent"
   ]
  },
  {
   "cell_type": "code",
   "execution_count": null,
   "metadata": {},
   "outputs": [],
   "source": [
    "sdf.spatial.full_extent"
   ]
  },
  {
   "cell_type": "markdown",
   "metadata": {},
   "source": [
    "#### Reprojecting"
   ]
  },
  {
   "cell_type": "code",
   "execution_count": null,
   "metadata": {},
   "outputs": [],
   "source": [
    "sdf.spatial.sr"
   ]
  },
  {
   "cell_type": "code",
   "execution_count": null,
   "metadata": {},
   "outputs": [],
   "source": [
    "sdf.spatial.project(3857)\n",
    "sdf.spatial.sr"
   ]
  },
  {
   "cell_type": "markdown",
   "metadata": {},
   "source": [
    "## Visualization"
   ]
  },
  {
   "cell_type": "markdown",
   "metadata": {},
   "source": [
    "- Provides a rich visualization of data\n",
    "- Data does not have to exist on an Enterprise\n",
    "- Map both local and service data"
   ]
  },
  {
   "cell_type": "markdown",
   "metadata": {},
   "source": [
    "### The `plot()` Method"
   ]
  },
  {
   "cell_type": "markdown",
   "metadata": {},
   "source": [
    "- Mimics syntax and symbology similar to [`matplotlib`](https://matplotlib.org) for visualizing\n",
    "\n",
    "Some unique characteristics of working with the visualization capabalities on the SDF:\n",
    "- Uses Pythonic syntax\n",
    "- Uses the same syntax as visualizing charts on Pandas DataFrames\n",
    "- Works on features and attributes simultaneously, eliminating to a great extent the need to iterate over all features (rows)\n",
    "- Handles reading and writing to multiple formats aiding data conversion"
   ]
  },
  {
   "cell_type": "markdown",
   "metadata": {},
   "source": [
    "### Understanding Renderers"
   ]
  },
  {
   "cell_type": "markdown",
   "metadata": {},
   "source": [
    "- Renderers define how to visually represent spatial data by defining symbols to represent individual features\n",
    "- A `SeDF` provides you with functionality to control the way features appear by choosing the symbol the renderer uses\n",
    "\n",
    "### Supported renderers  \n",
    "\n",
    "Supports the following renderers:\n",
    "\n",
    "| Renderer     \t| Syntax \t| Explanation                                                                                 \t|\n",
    "|--------------\t|--------\t|---------------------------------------------------------------------------------------------\t|\n",
    "| Simple       \t| 's'    \t| renders using one symbol only            \t|\n",
    "| Unique       \t| 'u'    \t| renders each unique value with a different symbol. Suitable for categorical columns         \t|\n",
    "| Unique       \t| 'u-a'    \t| renders each unique value with a different symbol using arcade expressions. Suitable for categorical columns         \t|\n",
    "| Class breaks \t| 'c'    \t| renders each group of values with a different color or size. Suitable for numerical columns \t|\n",
    "| Heatmap      \t| 'h'    \t| renders density of point data as raster of varying colors                                   \t|"
   ]
  },
  {
   "cell_type": "markdown",
   "metadata": {},
   "source": [
    "### Visualization Helper Methods"
   ]
  },
  {
   "cell_type": "markdown",
   "metadata": {},
   "source": [
    "- Because of the rich visualization possibilities, there are helper methods to assist in the design process"
   ]
  },
  {
   "cell_type": "code",
   "execution_count": null,
   "metadata": {},
   "outputs": [],
   "source": [
    "from arcgis.mapping import show_styles, display_colormaps"
   ]
  },
  {
   "cell_type": "code",
   "execution_count": null,
   "metadata": {},
   "outputs": [],
   "source": [
    "show_styles(geometry_type=\"POINT\")"
   ]
  },
  {
   "cell_type": "code",
   "execution_count": null,
   "metadata": {},
   "outputs": [],
   "source": [
    "%matplotlib inline\n",
    "display_colormaps()"
   ]
  },
  {
   "cell_type": "markdown",
   "metadata": {},
   "source": [
    "### Simple Rendering of Data"
   ]
  },
  {
   "cell_type": "markdown",
   "metadata": {},
   "source": [
    "- Simple renders can be circles, squares, solid colors, etc...\n",
    "- Single color only"
   ]
  },
  {
   "cell_type": "code",
   "execution_count": null,
   "metadata": {},
   "outputs": [],
   "source": [
    "from arcgis.gis import GIS\n",
    "gis = GIS(profile='your_online_profile')"
   ]
  },
  {
   "cell_type": "code",
   "execution_count": null,
   "metadata": {
    "scrolled": false
   },
   "outputs": [],
   "source": [
    "first_map = gis.map('New York, NY')\n",
    "first_map.basemap = 'dark-gray-vector'\n",
    "first_map"
   ]
  },
  {
   "cell_type": "code",
   "execution_count": null,
   "metadata": {},
   "outputs": [],
   "source": [
    "item = gis.content.get(\"85d0ca4ea1ca4b9abf0c51b9bd34de2e\")"
   ]
  },
  {
   "cell_type": "code",
   "execution_count": null,
   "metadata": {},
   "outputs": [],
   "source": [
    "item"
   ]
  },
  {
   "cell_type": "code",
   "execution_count": null,
   "metadata": {},
   "outputs": [],
   "source": [
    "flayer = item.layers[0]"
   ]
  },
  {
   "cell_type": "code",
   "execution_count": null,
   "metadata": {},
   "outputs": [],
   "source": [
    "df = flayer.query(where=\"AGE_45_54 < 1500\", as_df=True)"
   ]
  },
  {
   "cell_type": "code",
   "execution_count": null,
   "metadata": {
    "scrolled": true
   },
   "outputs": [],
   "source": [
    "df.head()"
   ]
  },
  {
   "cell_type": "code",
   "execution_count": null,
   "metadata": {},
   "outputs": [],
   "source": [
    "df.spatial.plot(map_widget=first_map)"
   ]
  },
  {
   "cell_type": "markdown",
   "metadata": {},
   "source": [
    "### Advanced Simple Rendering\n"
   ]
  },
  {
   "cell_type": "code",
   "execution_count": null,
   "metadata": {},
   "outputs": [],
   "source": [
    "m2 = gis.map('New York, NY')\n",
    "m2.basemap = 'dark-gray-vector'\n",
    "m2"
   ]
  },
  {
   "cell_type": "code",
   "execution_count": null,
   "metadata": {},
   "outputs": [],
   "source": [
    "import time\n",
    "for i in range(10):\n",
    "    m2.remove_layers()\n",
    "    df.spatial.plot(map_widget=m2,\n",
    "                symbol_type='simple',\n",
    "                renderer_type='s',\n",
    "                symbol_style='s', # s - for square\n",
    "                colors='Reds_r',\n",
    "                cstep=i,\n",
    "                outline_color='YlOrBr',\n",
    "                marker_size=10)\n",
    "    time.sleep(2)"
   ]
  },
  {
   "cell_type": "markdown",
   "metadata": {},
   "source": [
    "### Class Break Renderer"
   ]
  },
  {
   "cell_type": "code",
   "execution_count": null,
   "metadata": {},
   "outputs": [],
   "source": [
    "m3 = gis.map('Reno, NV', zoomlevel=4)\n",
    "m3.center = [39,-98]\n",
    "m3"
   ]
  },
  {
   "cell_type": "code",
   "execution_count": null,
   "metadata": {},
   "outputs": [],
   "source": [
    "df.spatial.plot(map_widget = m3,\n",
    "                renderer_type='u', # specify the unique value renderer using its notation 'u'\n",
    "                col='ST'  # column to get unique values from\n",
    "               )"
   ]
  },
  {
   "cell_type": "markdown",
   "metadata": {},
   "source": [
    "### Class Break Renderer\n"
   ]
  },
  {
   "cell_type": "code",
   "execution_count": null,
   "metadata": {},
   "outputs": [],
   "source": [
    "m4 = gis.map('Reno, NV', zoomlevel=4)\n",
    "m4.center = [39,-98]\n",
    "m4"
   ]
  },
  {
   "cell_type": "code",
   "execution_count": null,
   "metadata": {},
   "outputs": [],
   "source": [
    "df.spatial.plot(map_widget=m4,\n",
    "               renderer_type='c',  # for class breaks renderer\n",
    "               method='esriClassifyNaturalBreaks',  # classification algorithm\n",
    "               class_count=20,  # choose the number of classes\n",
    "               col='POPULATION',  # numeric column to classify\n",
    "               cmap='gnuplot2_r',  # color map to pick colors from for each class\n",
    "               alpha=0.7  # specify opacity\n",
    "               )"
   ]
  },
  {
   "cell_type": "code",
   "execution_count": null,
   "metadata": {},
   "outputs": [],
   "source": [
    "m4.legend = True"
   ]
  },
  {
   "cell_type": "markdown",
   "metadata": {},
   "source": [
    "### Rendering Polygon Example\n"
   ]
  },
  {
   "cell_type": "code",
   "execution_count": null,
   "metadata": {},
   "outputs": [],
   "source": [
    "from arcgis.features import FeatureLayer\n",
    "fl = FeatureLayer(\"https://sampleserver6.arcgisonline.com/arcgis/rest/services/Census/MapServer/2\")\n",
    "county_sdf = fl.query(\"STATE_NAME='Washington'\", out_sr=4326, as_df=True)\n",
    "county_sdf.head()"
   ]
  },
  {
   "cell_type": "code",
   "execution_count": null,
   "metadata": {},
   "outputs": [],
   "source": [
    "m5 = gis.map('Seattle, WA', zoomlevel=6)\n",
    "m5.basemap = 'dark-gray-vector'\n",
    "m5"
   ]
  },
  {
   "cell_type": "code",
   "execution_count": null,
   "metadata": {},
   "outputs": [],
   "source": [
    "county_sdf.spatial.plot(map_widget=m5,\n",
    "                        renderer_type='c',  \n",
    "                        method='esriClassifyNaturalBreaks',  \n",
    "                        class_count=7,  \n",
    "                        col='AGE_18_21', \n",
    "                        cmap='RdPu',  \n",
    "                        alpha=0.8,\n",
    "                        line_width=.25)"
   ]
  },
  {
   "cell_type": "markdown",
   "metadata": {},
   "source": [
    "## Spatial Index"
   ]
  },
  {
   "cell_type": "markdown",
   "metadata": {},
   "source": [
    "- Quickly find spatial locations \n",
    "    + generalized locations\n",
    "- Based on Minimum bounding rectangles"
   ]
  },
  {
   "cell_type": "markdown",
   "metadata": {},
   "source": [
    "### Spatial Index Example"
   ]
  },
  {
   "cell_type": "code",
   "execution_count": null,
   "metadata": {},
   "outputs": [],
   "source": [
    "item = gis.content.get(\"85d0ca4ea1ca4b9abf0c51b9bd34de2e\")\n",
    "item"
   ]
  },
  {
   "cell_type": "code",
   "execution_count": null,
   "metadata": {},
   "outputs": [],
   "source": [
    "sdf = item.layers[0].query(as_df=True, out_sr=4326) # Major US Cities"
   ]
  },
  {
   "cell_type": "code",
   "execution_count": null,
   "metadata": {},
   "outputs": [],
   "source": [
    "len(sdf)"
   ]
  },
  {
   "cell_type": "code",
   "execution_count": null,
   "metadata": {},
   "outputs": [],
   "source": [
    "index = sdf.spatial.sindex(stype='quadtree')"
   ]
  },
  {
   "cell_type": "code",
   "execution_count": null,
   "metadata": {},
   "outputs": [],
   "source": [
    "nj_cities = index.intersect((-75.55956796790353, 38.928522146813044, \n",
    "                             -73.9024505439044, 41.35763612214295))"
   ]
  },
  {
   "cell_type": "code",
   "execution_count": null,
   "metadata": {
    "scrolled": false
   },
   "outputs": [],
   "source": [
    "m6 = gis.map(\"New Jersey\")\n",
    "m6"
   ]
  },
  {
   "cell_type": "code",
   "execution_count": null,
   "metadata": {},
   "outputs": [],
   "source": [
    "sdf.iloc[nj_cities].spatial.plot(m6)"
   ]
  },
  {
   "cell_type": "markdown",
   "metadata": {},
   "source": [
    "#### Notice the Following"
   ]
  },
  {
   "cell_type": "markdown",
   "metadata": {},
   "source": [
    "- The bounding box returns locations outside of New Jersey\n",
    "    + This means the the selction by location is **generalized**\n",
    "    "
   ]
  },
  {
   "cell_type": "markdown",
   "metadata": {},
   "source": [
    "### Limiting to NJ"
   ]
  },
  {
   "cell_type": "code",
   "execution_count": null,
   "metadata": {},
   "outputs": [],
   "source": [
    "nj_boundary = gis.content.get(\"e4bb3aeab5e14422be1727ccbe0c1fb9\")\n",
    "nj_bounds = nj_boundary.layers[0].query(out_sr=4326, as_df=True)\n",
    "geom = nj_bounds.iloc[0].SHAPE\n",
    "geom"
   ]
  },
  {
   "cell_type": "code",
   "execution_count": null,
   "metadata": {},
   "outputs": [],
   "source": [
    "extent_cities = sdf.iloc[nj_cities].reset_index()\n",
    "extent_cities.ST.unique()"
   ]
  },
  {
   "cell_type": "code",
   "execution_count": null,
   "metadata": {},
   "outputs": [],
   "source": [
    "m6.remove_layers()\n",
    "g_query = extent_cities.SHAPE.geom.disjoint(geom) == False\n",
    "extent_cities[g_query].spatial.plot(m6)"
   ]
  },
  {
   "cell_type": "markdown",
   "metadata": {},
   "source": [
    "## Spatial Analysis"
   ]
  },
  {
   "cell_type": "markdown",
   "metadata": {},
   "source": [
    "- We have data, but how to we gain insights into the data?\n",
    "- Python API provides a wealth of vector based analytics"
   ]
  },
  {
   "cell_type": "markdown",
   "metadata": {},
   "source": [
    "### Using Geoprocessing Tools"
   ]
  },
  {
   "cell_type": "markdown",
   "metadata": {},
   "source": [
    "- The work horse of analysis\n",
    "- Service provide tools not available in the standard libary"
   ]
  },
  {
   "cell_type": "code",
   "execution_count": null,
   "metadata": {},
   "outputs": [],
   "source": [
    "from arcgis import create_viewshed\n",
    "sub_sdf = sdf.iloc[[2981, 2982, 2983, 2984]].copy()"
   ]
  },
  {
   "cell_type": "code",
   "execution_count": null,
   "metadata": {},
   "outputs": [],
   "source": [
    "sub_sdf"
   ]
  },
  {
   "cell_type": "code",
   "execution_count": null,
   "metadata": {},
   "outputs": [],
   "source": [
    "vs = create_viewshed(input_layer=sub_sdf, \n",
    "                     maximum_distance=20, \n",
    "                     max_distance_units=\"Miles\")\n",
    "vs"
   ]
  },
  {
   "cell_type": "code",
   "execution_count": null,
   "metadata": {},
   "outputs": [],
   "source": [
    "m7 = sub_sdf.spatial.plot(\n",
    "                    symbol_type='simple',\n",
    "                    symbol_style='d', # d - for diamonds\n",
    "                    colors='Reds_r',\n",
    "                    cstep=20,\n",
    "                    outline_color='Blues',\n",
    "                    marker_size=20)\n",
    "m7.basemap = 'dark-gray-vector' \n",
    "m7"
   ]
  },
  {
   "cell_type": "code",
   "execution_count": null,
   "metadata": {},
   "outputs": [],
   "source": [
    "m7.add_layer(vs)"
   ]
  },
  {
   "cell_type": "code",
   "execution_count": null,
   "metadata": {},
   "outputs": [],
   "source": [
    "from arcgis.features import FeatureSet\n",
    "fs = FeatureSet.from_dict(vs.layer['featureSet'])\n",
    "fs.sdf.spatial.plot(m7)"
   ]
  }
 ],
 "metadata": {
  "kernelspec": {
   "display_name": "Python 3",
   "language": "python",
   "name": "python3"
  },
  "language_info": {
   "codemirror_mode": {
    "name": "ipython",
    "version": 3
   },
   "file_extension": ".py",
   "mimetype": "text/x-python",
   "name": "python",
   "nbconvert_exporter": "python",
   "pygments_lexer": "ipython3",
   "version": "3.9.11"
  }
 },
 "nbformat": 4,
 "nbformat_minor": 2
}
