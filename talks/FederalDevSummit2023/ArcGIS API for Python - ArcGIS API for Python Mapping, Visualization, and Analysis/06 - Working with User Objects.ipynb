{
 "cells": [
  {
   "cell_type": "markdown",
   "metadata": {},
   "source": [
    "## Working with Users"
   ]
  },
  {
   "cell_type": "code",
   "execution_count": null,
   "metadata": {},
   "outputs": [],
   "source": [
    "import os\n",
    "import tempfile\n",
    "import requests\n",
    "from arcgis.gis import GIS"
   ]
  },
  {
   "cell_type": "markdown",
   "metadata": {},
   "source": [
    "## The `UserManager`"
   ]
  },
  {
   "cell_type": "markdown",
   "metadata": {},
   "source": [
    "The manager allows for controlling of users\n",
    "\n",
    "- Items\n",
    "- Profile\n",
    "- Groups\n",
    "- Folders\n"
   ]
  },
  {
   "cell_type": "markdown",
   "metadata": {},
   "source": [
    "### Working with Yourself!"
   ]
  },
  {
   "cell_type": "markdown",
   "metadata": {},
   "source": [
    "- the easiest way to gain access to yourself is to access the `me` property\n",
    "- this requires an authenticated `GIS` user"
   ]
  },
  {
   "cell_type": "code",
   "execution_count": null,
   "metadata": {},
   "outputs": [],
   "source": [
    "gis = GIS(profile='your_online_profile')"
   ]
  },
  {
   "cell_type": "code",
   "execution_count": null,
   "metadata": {},
   "outputs": [],
   "source": [
    "me = gis.users.me\n",
    "me"
   ]
  },
  {
   "cell_type": "markdown",
   "metadata": {},
   "source": [
    "#### `me` is a `User` Class"
   ]
  },
  {
   "cell_type": "markdown",
   "metadata": {},
   "source": [
    "- The `User` object provides all the information you need to know about the account\n",
    "    + access to license type\n",
    "    + roles\n",
    "    + content\n",
    "    + folder\n",
    "    + groups owned by you\n",
    "    + items owned by you"
   ]
  },
  {
   "cell_type": "markdown",
   "metadata": {},
   "source": [
    "#### Create a Folder"
   ]
  },
  {
   "cell_type": "markdown",
   "metadata": {},
   "source": [
    "Much like an operating system, `ArcGIS Online and Enterprise` can store content in folders"
   ]
  },
  {
   "cell_type": "code",
   "execution_count": null,
   "metadata": {},
   "outputs": [],
   "source": [
    "me.folders"
   ]
  },
  {
   "cell_type": "code",
   "execution_count": null,
   "metadata": {},
   "outputs": [],
   "source": [
    "folder = gis.content.create_folder('museums')\n",
    "folder"
   ]
  },
  {
   "cell_type": "markdown",
   "metadata": {},
   "source": [
    "#### Add Content to the User's Folder"
   ]
  },
  {
   "cell_type": "code",
   "execution_count": null,
   "metadata": {},
   "outputs": [],
   "source": [
    "url = \"https://data.cityofnewyork.us/api/views/fn6f-htvy/rows.csv?accessType=DOWNLOAD\"\n",
    "with tempfile.TemporaryDirectory() as tmpdir:\n",
    "    fp = os.path.join(tmpdir, 'nyc_musaemt2.csv')\n",
    "    with requests.get(url, stream=True, verify=False) as r:\n",
    "        r.raise_for_status()\n",
    "        with open(fp, 'wb') as f:\n",
    "            for chunk in r.iter_content(chunk_size=8192): \n",
    "                if chunk: # filter out keep-alive new chunks\n",
    "                    f.write(chunk)\n",
    "    ## Add the content!\n",
    "    item = gis.content.add(item_properties={\n",
    "            'title' : \"NYC Museums Data\",\n",
    "            'type' : \"CSV\",\n",
    "            'tags' : \"Open Data, CSV, Museum, NYC, New York, New York City\",\n",
    "            'description' : \"Locations of New York City Museums\"\n",
    "        }, \n",
    "        data=fp,\n",
    "        folder='museums')"
   ]
  },
  {
   "cell_type": "code",
   "execution_count": null,
   "metadata": {},
   "outputs": [],
   "source": [
    "item"
   ]
  },
  {
   "cell_type": "markdown",
   "metadata": {},
   "source": [
    "#### Publish The `Museums`"
   ]
  },
  {
   "cell_type": "code",
   "execution_count": null,
   "metadata": {},
   "outputs": [],
   "source": [
    "pitem = item.publish(publish_parameters={'name' : \"NYC_Museums\"}, address_fields={\n",
    "    \"Address\": \"ADRESS1\",\n",
    "    \"Address2\": \"ADDRESS2\",\n",
    "    \"City\": \"CITY\",\n",
    "    \"Postal\": \"ZIP\"\n",
    "  })\n",
    "pitem"
   ]
  },
  {
   "cell_type": "markdown",
   "metadata": {},
   "source": [
    "#### Track User Item's Create and Modified Time"
   ]
  },
  {
   "cell_type": "code",
   "execution_count": null,
   "metadata": {},
   "outputs": [],
   "source": [
    "import datetime\n",
    "items = {}\n",
    "folders = [fld['title'] for fld in me.folders] + [None]\n",
    "for folder in folders:\n",
    "    for item in me.items(folder):\n",
    "        created_date = datetime.datetime.fromtimestamp(item.created/1000)\n",
    "        mod_date = datetime.datetime.fromtimestamp(item.modified/1000)\n",
    "        items[item.title] = {'item' : item, 'created' : created_date, 'modified' : mod_date}\n",
    "        \n",
    "items"
   ]
  },
  {
   "cell_type": "markdown",
   "metadata": {},
   "source": [
    "#### Update User Profile"
   ]
  },
  {
   "cell_type": "code",
   "execution_count": null,
   "metadata": {},
   "outputs": [],
   "source": [
    "with tempfile.TemporaryDirectory() as tmpdir:\n",
    "    url = \"https://img.favpng.com/13/0/13/cat-computer-icons-user-profile-avatar-png-favpng-0aXfSAjB7FwDVpeuUDXvWRLzd.jpg\"\n",
    "    r = requests.get(url)\n",
    "    with open(\"./cat_profile.jpg\", 'wb') as writer:\n",
    "        writer.write(r.content)\n",
    "    me.update(thumbnail=\"./cat_profile.jpg\")\n",
    "me"
   ]
  }
 ],
 "metadata": {
  "kernelspec": {
   "display_name": "Python 3",
   "language": "python",
   "name": "python3"
  },
  "language_info": {
   "codemirror_mode": {
    "name": "ipython",
    "version": 3
   },
   "file_extension": ".py",
   "mimetype": "text/x-python",
   "name": "python",
   "nbconvert_exporter": "python",
   "pygments_lexer": "ipython3",
   "version": "3.9.11"
  }
 },
 "nbformat": 4,
 "nbformat_minor": 4
}
