{
 "cells": [
  {
   "cell_type": "markdown",
   "metadata": {},
   "source": [
    "## Problem statement\n",
    "\n",
    "Centering at how to find routes among multiple points, we can assume the user story is like this:\n",
    "\n",
    "Jim is planning his Summer trip along the west of the States, and he has decided to start from Miami, end at San Francisco, and also make stops in eight other cities: San Jose, Los Angeles, San Diego, Phoenix, El Paso, Houston, New Orleans, Orlando. What will be the best route for Jim to travel between these ten cities without making extra stops? And what will be the estimated travel distance and time? Lastly, can Jim be provided with directions and maps for routing?\n",
    "\n",
    "Now that Jim's objectives are defined, we can go onto breaking down the problem:\n",
    " - Data: where to access the input dataset\n",
    " - Methods: what tools can be used to build the network model and perform routing analysis\n",
    " - Tables and maps: deliverables in which directions and routes are visualized.\n",
    " \n",
    "Let's first access and/or explore the input dataset (in this case, the stops feature class).\n",
    "\n",
    "## Data\n",
    "\n",
    "### Access the Stops Feature Class"
   ]
  },
  {
   "cell_type": "markdown",
   "metadata": {},
   "source": [
    "The `find_routes` tool requires a `stops feature class` as the input parameter, which should be of a FeatureSet type specifying two or more stops to route between. The upper limit is for the `stops` feature class to have 10,000 stops or up to 150 stops assigned to a single route.\n",
    "\n",
    "In this example, we will extract the `stops` feature class from an existing Feature Service. First of all, we need to import all required modules, and establish a GIS connection object to the target organization."
   ]
  },
  {
   "cell_type": "code",
   "execution_count": null,
   "metadata": {},
   "outputs": [],
   "source": [
    "from copy import deepcopy\n",
    "import datetime as dt\n",
    "from IPython.display import HTML\n",
    "import json\n",
    "import pandas as pd\n",
    "from arcgis.gis import GIS\n",
    "import arcgis.network as network\n",
    "import arcgis.geocoding as geocoding\n",
    "from arcgis.features import FeatureLayer, FeatureSet, FeatureCollection\n",
    "import arcgis.features.use_proximity as use_proximity"
   ]
  },
  {
   "cell_type": "markdown",
   "metadata": {},
   "source": [
    "If you have already set up a profile to connect to your ArcGIS Online organization, execute the cell below to load the profile and create the GIS class object. If not, use a traditional username/password log-in e.g. `my_gis = GIS('https://www.arcgis.com', 'username', 'password', verify_cert=False, set_active=True)`"
   ]
  },
  {
   "cell_type": "code",
   "execution_count": null,
   "metadata": {},
   "outputs": [],
   "source": [
    "my_gis = GIS(profile='your_online_profile')"
   ]
  },
  {
   "cell_type": "markdown",
   "metadata": {},
   "source": [
    "The existing Feature Layer to be used is titled \"USA Major Cities\", and can be accessed through a `search` call."
   ]
  },
  {
   "cell_type": "code",
   "execution_count": null,
   "metadata": {
    "scrolled": true
   },
   "outputs": [],
   "source": [
    "sample_cities = my_gis.content.search('title:\"USA Major Cities\" type:Feature Service owner:esri*', \n",
    "                                      outside_org=True)[0]\n",
    "sample_cities"
   ]
  },
  {
   "cell_type": "markdown",
   "metadata": {},
   "source": [
    "Place the cities to be visited in a list, and provide a formatter that will later be used to format the list into a string."
   ]
  },
  {
   "cell_type": "code",
   "execution_count": null,
   "metadata": {},
   "outputs": [],
   "source": [
    "stops_cities = ['San Francisco', 'San Jose', 'Los Angeles', 'San Diego',\n",
    "                'Phoenix', 'El Paso', \n",
    "                'Houston', 'New Orleans', 'Orlando', 'Miami']\n",
    "values = \"'\" + \"', '\".join(stops_cities) + \"'\""
   ]
  },
  {
   "cell_type": "code",
   "execution_count": null,
   "metadata": {},
   "outputs": [],
   "source": [
    "stops_cities_fl = FeatureLayer(sample_cities.url + \"/0\")\n",
    "type(stops_cities_fl)"
   ]
  },
  {
   "cell_type": "markdown",
   "metadata": {},
   "source": [
    "With the `FeatureLayer` class object defined, make `query` calls to get back the cities as FeatureSet."
   ]
  },
  {
   "cell_type": "code",
   "execution_count": null,
   "metadata": {},
   "outputs": [],
   "source": [
    "stops_cities_fset = stops_cities_fl.query(where=\"ST in ('CA', 'NV', 'TX', 'AZ', 'LA', 'FL')  AND NAME IN ({0})\".format(values), as_df=False)\n",
    "stops_cities_fset"
   ]
  },
  {
   "cell_type": "code",
   "execution_count": null,
   "metadata": {},
   "outputs": [],
   "source": [
    "start_cities_fset = stops_cities_fl.query(where=\"ST='FL' AND NAME = 'Miami'\", as_df=False)\n",
    "start_cities_fset"
   ]
  },
  {
   "cell_type": "markdown",
   "metadata": {},
   "source": [
    "### Re-arrange the order of stops\n",
    "\n",
    "Sometimes features in the returned resulting FeatureSet from `FeatureLayer.query()` are not in the same sequential order of the search string. For example, the starting city in `stops_cities` is \"San Francisico\", but in the returned FeatureSet `stops_cities_fset`, \"Los Angeles\" appears to be the start. "
   ]
  },
  {
   "cell_type": "code",
   "execution_count": null,
   "metadata": {
    "scrolled": true
   },
   "outputs": [],
   "source": [
    "print(list(map(lambda x: x.attributes['NAME'], stops_cities_fset)))"
   ]
  },
  {
   "cell_type": "markdown",
   "metadata": {},
   "source": [
    "The method `re_order_stop_cities` can be used to re-order the stops in the FeatureSet to match the original starting/ending sequence."
   ]
  },
  {
   "cell_type": "code",
   "execution_count": null,
   "metadata": {},
   "outputs": [],
   "source": [
    "\"\"\" Used to re-order the stops to the desired order\n",
    "\"\"\"\n",
    "def re_order_stop_cities(fset=stops_cities_fset, start_city = \"Miami\", end_city = \"San Francisco\"):\n",
    "    \n",
    "    stops_cities_flist = []\n",
    "    last_city = None\n",
    "\n",
    "    for ea in fset:\n",
    "        if ea.attributes['NAME'] == start_city:\n",
    "            stops_cities_flist.insert(0, ea)\n",
    "        elif ea.attributes['NAME'] == end_city:\n",
    "            last_city = ea\n",
    "        else:\n",
    "            stops_cities_flist.append(ea)\n",
    "    stops_cities_flist.append(last_city)\n",
    " \n",
    "    return FeatureSet(stops_cities_flist)"
   ]
  },
  {
   "cell_type": "code",
   "execution_count": null,
   "metadata": {},
   "outputs": [],
   "source": [
    "re_ordered_stops_cities_fset = re_order_stop_cities()\n",
    "re_ordered_stops_cities_fset"
   ]
  },
  {
   "cell_type": "markdown",
   "metadata": {},
   "source": [
    "Also we need to assign `spatialReference` to the newly sorted FeatureSet, or else, an error would be thrown at the solver as `Invalid value for parameter Stops - Details : Invalid JSON for GPFeatureRecordSetLayer or GPRecordSet datatype Failed.`"
   ]
  },
  {
   "cell_type": "code",
   "execution_count": null,
   "metadata": {},
   "outputs": [],
   "source": [
    "re_ordered_stops_cities_fset.spatial_reference = stops_cities_fset.spatial_reference"
   ]
  },
  {
   "cell_type": "code",
   "execution_count": null,
   "metadata": {},
   "outputs": [],
   "source": [
    "re_ordered_stops_cities = list(map(lambda x: x.attributes['NAME'], re_ordered_stops_cities_fset))\n",
    "print(re_ordered_stops_cities)"
   ]
  },
  {
   "cell_type": "markdown",
   "metadata": {},
   "source": [
    "## Methods\n",
    "\n",
    "The ArcGIS API for Python provides three ways to solve a routing problem, which are namely, **RouteLayer.solve**, **find_routes**, and **plan_routes**.\n",
    "\n",
    "| Operation       |  network.analysis       | features.use_proximity |\n",
    "|-----------------|-------------------------|------------------------|\n",
    "| Route           |  **find_routes**        | **plan_routes**        |\n",
    "| ServiceArea     |  generate_service_areas | create_drive_time_areas|\n",
    "| ClosestFacility |  find_closest_facilities| find_nearest |\n",
    "\n",
    "These three methods are defined in different modules of the arcgis package, and will make distinct REST calls in the back end. A key distinction between **RouteLayer.solve** and **network.analysis.find_routes**, **features.use_proximity.plan_routes** is, the former is meant for custom or advanced routing workflows where you need to publish your own Network Analysis layers. The latter tools work against routing services hosted on ArcGIS Online or available on your Enterprise via proxy services and will cost you credits.\n",
    "\n",
    "In this part of guide, we will walk through the workflows of using `network.analysis.find_routes()` and `features.use_proximity.plan_routes()` in solving the same problem - designing the quickest route to travel amongst the ten cities defined in `stops_cities`, and further explore the differences in the process."
   ]
  },
  {
   "cell_type": "markdown",
   "metadata": {},
   "source": [
    "### Method 1 - Using arcgis.network.analysis.find_routes\n",
    "\n",
    "Finding a route analysis can mean determining the quickest or shortest way to travel between locations. You might want to use the `find_routes` tool in `arcgis.network.analysis` module to generate driving directions to visit multiple stops or to measure the distance or travel time between locations. The tool is capable of finding routes for one or more vehicles each time it runs, so you can determine the best routes for several drivers to visit pre-assigned stops. Parameters for `find_routes` include:\n",
    " - `stops`: Required parameter. Specify two or more stops to route between;\n",
    " - `preserve_terminal_stops`: Preserve Terminal Stops (string). Optional parameter. When Reorder Stops to Find Optimal Routes is checked (or True), you have options to preserve the starting or ending stops and the tool can reorder the rest.\n",
    " - `time_of_day`: Time of Day (datetime). Optional parameter. Specifies the time and date at which the routes should begin;\n",
    " - `time_zone_for_time_of_day`: Time Zone for Time of Day (str). Optional parameter. Specifies the time zone of the Time of Day parameter.\n",
    " - set `save_output_na_layer` to True, if you want to save the output route into a new layer file."
   ]
  },
  {
   "cell_type": "code",
   "execution_count": null,
   "metadata": {
    "scrolled": false
   },
   "outputs": [],
   "source": [
    "%%time\n",
    "\n",
    "start_time = int(dt.datetime.now().timestamp() * 1000)\n",
    "\n",
    "result = network.analysis.find_routes(re_ordered_stops_cities_fset, time_of_day=start_time, \n",
    "                                      time_zone_for_time_of_day=\"UTC\",\n",
    "                                      preserve_terminal_stops=\"Preserve None\",\n",
    "                                      reorder_stops_to_find_optimal_routes=True,\n",
    "                                      save_output_na_layer=True)"
   ]
  },
  {
   "cell_type": "markdown",
   "metadata": {},
   "source": [
    "Then, let's check if the tool has been successfully run, what are the types of each output element, and the network analysis layer URL of the output route."
   ]
  },
  {
   "cell_type": "code",
   "execution_count": null,
   "metadata": {},
   "outputs": [],
   "source": [
    "print(\"Is the tool executed successfully?\", result.solve_succeeded)"
   ]
  },
  {
   "cell_type": "markdown",
   "metadata": {},
   "source": [
    "The result we get from the previous operation is a tool output that contains three components - output_routes, output_stops, and output_directions."
   ]
  },
  {
   "cell_type": "code",
   "execution_count": null,
   "metadata": {},
   "outputs": [],
   "source": [
    "type(result)"
   ]
  },
  {
   "cell_type": "code",
   "execution_count": null,
   "metadata": {},
   "outputs": [],
   "source": [
    "result.output_routes, result.output_stops, result.output_directions"
   ]
  },
  {
   "cell_type": "code",
   "execution_count": null,
   "metadata": {},
   "outputs": [],
   "source": [
    "result.output_network_analysis_layer.url"
   ]
  },
  {
   "cell_type": "markdown",
   "metadata": {},
   "source": [
    "#### Tabularizing the response from find_routes\n",
    "\n",
    "The `output_directions` component of the result can be read as a pandas data frame (which lists all the directions on the route)."
   ]
  },
  {
   "cell_type": "code",
   "execution_count": null,
   "metadata": {
    "scrolled": true
   },
   "outputs": [],
   "source": [
    "\"\"\" Access the output directions\n",
    "\"\"\"\n",
    "df = result.output_directions.sdf\n",
    "df = df[[\"RouteName\", \"ArriveTime\", \"DriveDistance\", \"ElapsedTime\", \"Text\"]].loc[df[\"RouteName\"] == \"Miami - San Francisco\"]\n",
    "df.head()"
   ]
  },
  {
   "cell_type": "code",
   "execution_count": null,
   "metadata": {},
   "outputs": [],
   "source": [
    "df.tail()"
   ]
  },
  {
   "cell_type": "markdown",
   "metadata": {},
   "source": [
    "Also, from the `output_routes` component of the returned object, we can then form a summary table of the entire trip."
   ]
  },
  {
   "cell_type": "code",
   "execution_count": null,
   "metadata": {},
   "outputs": [],
   "source": [
    "\"\"\" Access output routes\n",
    "\"\"\"\n",
    "df = result.output_routes.sdf\n",
    "start_times = pd.to_datetime(df[\"StartTime\"], unit=\"ms\")\n",
    "end_times = pd.to_datetime(df[\"EndTime\"], unit=\"ms\")\n",
    "df[\"StartTime\"] = start_times.apply(lambda x: x.strftime(\"%H:%M:%S\"))\n",
    "df[\"EndTime\"] = end_times.apply(lambda x: x.strftime(\"%H:%M:%S\"))\n",
    "df[[\"Name\", \"StartTime\", \"EndTime\", \"StopCount\", \"Total_Kilometers\", \"Total_Minutes\"]]"
   ]
  },
  {
   "cell_type": "markdown",
   "metadata": {},
   "source": [
    "Based on the results shown above, the estimated travel distance from Miami to San Francisco is 5279.728 KM, and the estimated travel time is 3105.915 minutes (around 50.825 hours), which means that, if you start from Miami at 23:30:30 PM (EST) on Monday, for instance, you can expect to arrive at San Francisco at 00:16:25 PM (PST) of the same Wednesday.\n",
    "\n",
    "#### Visualizing the response from find_routes\n",
    "\n",
    "Now that we have fully mastered the itineraries of the trip, it is time to visualize the route on the map widget so target users can have a better grasp of the geographical relations between stops.\n",
    "\n",
    "The following cell defines the styles and symbologies for the stops, and routes. In order to emphasize on the starting and ending stops, we will assign balloon icons as their symbols."
   ]
  },
  {
   "cell_type": "code",
   "execution_count": null,
   "metadata": {},
   "outputs": [],
   "source": [
    "\"\"\" draw the route and stops with customized styles, symbologies, and popups\n",
    "\"\"\"\n",
    "styles = [    \n",
    "    dict(selector=\"td\", props=[(\"padding\", \"2px\")]),\n",
    "    dict(selector='.row_heading, .blank', props=[('display', 'none;')]),\n",
    "    dict(selector='.col_heading, .blank', props=[('display', 'none;')])]\n",
    "\n",
    "route_symbol = {\n",
    "                    \"type\": \"esriSLS\",\n",
    "                    \"style\": \"esriSLSSolid\",\n",
    "                    \"color\": [128,0,128,90],\n",
    "                    \"width\": 4\n",
    "                }\n",
    "\n",
    "stops_symbol = {\"angle\":0,\"xoffset\":2,\"yoffset\":8,\"type\":\"esriPMS\",\n",
    "                \"url\":\"http://static.arcgis.com/images/Symbols/Basic/ShinyPin.png\",\n",
    "                \"contentType\":\"image/png\",\"width\":24,\"height\":24}\n",
    "\n",
    "start_symbol = {\"angle\":0,\"xoffset\":0,\"yoffset\":8.15625,\"type\":\"esriPMS\",\n",
    "                \"url\":\"http://static.arcgis.com/images/Symbols/AtoZ/redA.png\",\n",
    "                \"contentType\":\"image/png\",\"width\":15.75,\"height\":21.75}\n",
    "\n",
    "end_symbol = {\"angle\":0,\"xoffset\":0,\"yoffset\":8.15625,\"type\":\"esriPMS\",\n",
    "              \"url\":\"http://static.arcgis.com/images/Symbols/AtoZ/greenB.png\",\n",
    "              \"contentType\":\"image/png\",\"width\":15.75,\"height\":21.75}\n",
    "\n",
    "popup_route = {\"title\": \"Route\", \n",
    "               \"content\": df.style.set_table_styles(styles).render()}\n",
    "popup_stop = {\"title\": \"Stop {}\", \n",
    "              \"content\": df.style.set_table_styles(styles).render()}"
   ]
  },
  {
   "cell_type": "markdown",
   "metadata": {},
   "source": [
    "Here, we will use the function `check_curb_approach2` to determine if the stop is the start (the departing point), a by-passing point, or the end (the arriving point) of the route."
   ]
  },
  {
   "cell_type": "code",
   "execution_count": null,
   "metadata": {},
   "outputs": [],
   "source": [
    "def check_curb_approach2(result):\n",
    "    attributes = result.attributes\n",
    "    return (attributes['ArriveCurbApproach'], attributes['DepartCurbApproach'])"
   ]
  },
  {
   "cell_type": "code",
   "execution_count": null,
   "metadata": {},
   "outputs": [],
   "source": [
    "map1 = my_gis.map('Texas, USA', zoomlevel=4)\n",
    "map1"
   ]
  },
  {
   "cell_type": "code",
   "execution_count": null,
   "metadata": {},
   "outputs": [],
   "source": [
    "\"\"\" draw the route and stops with customized styles, symbologies, and popups\n",
    "\"\"\"\n",
    "for route in result.output_routes:\n",
    "    map1.draw(route.geometry, popup_route, route_symbol)\n",
    "\n",
    "sequence = 1\n",
    "for stop in result.output_stops:\n",
    "    \n",
    "    stop_bool_tuple = check_curb_approach2(stop)\n",
    "    if stop_bool_tuple[0] is None:\n",
    "        # starting point\n",
    "        symbol = start_symbol\n",
    "    elif stop_bool_tuple[1] is None:\n",
    "        # ending point\n",
    "        symbol = end_symbol\n",
    "    else:\n",
    "        # by-passing point\n",
    "        symbol = stops_symbol\n",
    "        \n",
    "    address = geocoding.reverse_geocode(stop.geometry)['address']['Match_addr']\n",
    "    map1.draw(stop.geometry, \n",
    "              {\"title\": \"Stop {}\".format(sequence), \n",
    "               \"content\": address},\n",
    "              symbol)\n",
    "    sequence+=1"
   ]
  },
  {
   "cell_type": "code",
   "execution_count": null,
   "metadata": {},
   "outputs": [],
   "source": [
    "#save into a web map\n",
    "item_properties = {\n",
    "    \"title\": \"Miami - San Francisco (2)\",\n",
    "    \"tags\" : \"Routing\",\n",
    "    \"snippet\": \" Route from Miami to San Francisco\",\n",
    "    \"description\": \"a web map of Route from Miami to San Francisco using network.RouteLayer.solve\"\n",
    "}\n",
    "\n",
    "item = map1.save(item_properties)"
   ]
  },
  {
   "cell_type": "code",
   "execution_count": null,
   "metadata": {
    "scrolled": true
   },
   "outputs": [],
   "source": [
    "item"
   ]
  },
  {
   "cell_type": "markdown",
   "metadata": {},
   "source": [
    "We have been using the find_routes tool in the `network.analysis` module up to this point. From now on, let's use a different method - plan_routes - defined in the `features.use_proximity` module, to achieve a workflow driven, Feature Service to Feature Service user experience."
   ]
  },
  {
   "cell_type": "markdown",
   "metadata": {},
   "source": [
    "### Method 2 - Using arcgis.features.use_proximity.plan_routes\n",
    "\n",
    "The plan_routes method determines how to efficiently divide tasks among a mobile workforce.\n",
    "\n",
    "You provide the input, which includes a set of stops and the number of vehicles available to visit the stops, and the tool assigns the stops to vehicles and returns routes showing how each vehicle can reach their assigned stops in the least amount of time.\n",
    "\n",
    "With plan_routes, mobile workforces reach more job sites in less time, which increases productivity and improves customer service. Organizations often use plan_routes to:\n",
    "\n",
    " - Inspect homes, restaurants, and construction sites\n",
    " - Provide repair, installation, and technical services\n",
    " - Deliver items and small packages\n",
    " - Make sales calls\n",
    " - Provide van transportation from spectators’ homes to events\n",
    " \n",
    "For more information, please refer to the <a href=\"https://esri.github.io/arcgis-python-api/apidoc/html/arcgis.features.use_proximity.html?highlight=plan_routes#arcgis.features.use_proximity.plan_routes\">API help doc</a>."
   ]
  },
  {
   "cell_type": "markdown",
   "metadata": {
    "heading_collapsed": true
   },
   "source": [
    "#### Prepare the input parameters\n",
    "\n",
    "Because the `stops_layer` is required to be of a Feature Layer, we need to prepare the input data in a different format."
   ]
  },
  {
   "cell_type": "code",
   "execution_count": null,
   "metadata": {
    "hidden": true
   },
   "outputs": [],
   "source": [
    "re_ordered_values = \"'\" + \"', '\".join(re_ordered_stops_cities) + \"'\"\n",
    "re_ordered_values"
   ]
  },
  {
   "cell_type": "code",
   "execution_count": null,
   "metadata": {
    "hidden": true
   },
   "outputs": [],
   "source": [
    "stops_layer = {'url': sample_cities.layers[0].url, \n",
    "               'filter': \"ST in ('CA', 'NV', 'TX', 'AZ', 'LA', 'FL')  AND NAME IN ({0})\".format(re_ordered_values)}\n",
    "start_layer = {'url': sample_cities.layers[0].url, \n",
    "               'filter': \"ST = 'FL' AND NAME = 'Miami'\"}\n",
    "end_layer = {'url': sample_cities.layers[0].url, \n",
    "             'filter': \"NAME = 'San Francisco'\"}"
   ]
  },
  {
   "cell_type": "markdown",
   "metadata": {},
   "source": [
    "#### With output_name specified\n",
    "\n",
    "A reference to the output Feature Layer Collection is returned when `output_name` is specified. And the returned Feature Layer includes a layer of routes showing the shortest paths to visit the stops; a layer of the stops assigned to routes, as well as any stops that couldn’t be reached due to the given parameter settings; and a layer of directions containing the travel itinerary for each route."
   ]
  },
  {
   "cell_type": "code",
   "execution_count": null,
   "metadata": {
    "scrolled": true
   },
   "outputs": [],
   "source": [
    "%%time\n",
    "\n",
    "\"\"\" using https://analysis7.arcgis.com/arcgis/rest/services/tasks/GPServer/PlanRoutes/submitJob\n",
    "\"\"\"\n",
    "result1 = use_proximity.plan_routes(stops_layer=stops_layer, route_count=1, \n",
    "                                    max_stops_per_route=10, route_start_time=start_time,\n",
    "                                    start_layer_route_id_field = \"FID\",\n",
    "                                    start_layer=start_layer, \n",
    "                                    end_layer=end_layer,\n",
    "                                    return_to_start=False,\n",
    "                                    context={'outSR': {\"wkid\": 4326}},\n",
    "                                    output_name=\"Plan Route from Miami to San Francisco 2a\",\n",
    "                                    gis=my_gis)"
   ]
  },
  {
   "cell_type": "code",
   "execution_count": null,
   "metadata": {},
   "outputs": [],
   "source": [
    "result1"
   ]
  },
  {
   "cell_type": "code",
   "execution_count": null,
   "metadata": {},
   "outputs": [],
   "source": [
    "route_sublayer = FeatureLayer.fromitem(result1, layer_id=1)\n",
    "route_sublayer.url"
   ]
  },
  {
   "cell_type": "code",
   "execution_count": null,
   "metadata": {
    "scrolled": true
   },
   "outputs": [],
   "source": [
    "route_sublayer.query(where='1=1', as_df=True)"
   ]
  },
  {
   "cell_type": "markdown",
   "metadata": {},
   "source": [
    "From this summary table, we can tell the estimated travel distance from Miami to San Francisco is 5282.739 KM, and the estimated travel time is 3079.901 minutes (around 51.332 hours)."
   ]
  },
  {
   "cell_type": "code",
   "execution_count": null,
   "metadata": {},
   "outputs": [],
   "source": [
    "map2a = my_gis.map('Texas, USA', zoomlevel=4)\n",
    "map2a"
   ]
  },
  {
   "cell_type": "code",
   "execution_count": null,
   "metadata": {},
   "outputs": [],
   "source": [
    "result1"
   ]
  },
  {
   "cell_type": "code",
   "execution_count": null,
   "metadata": {},
   "outputs": [],
   "source": [
    "map2a.add_layer(result1['routes_layer'])\n",
    "map2a.add_layer(result1['assigned_stops_layer'])"
   ]
  },
  {
   "cell_type": "markdown",
   "metadata": {},
   "source": [
    "We have seen how a Feature Service (input) to Feature Service (output) workflow is like from previous operation, now let's look at a different approach - when the output name is not specified in the arguments."
   ]
  },
  {
   "cell_type": "markdown",
   "metadata": {},
   "source": [
    "#### Without output_name specified\n",
    "\n",
    "A dict object is returned without `output_name` being specified:"
   ]
  },
  {
   "cell_type": "code",
   "execution_count": null,
   "metadata": {},
   "outputs": [],
   "source": [
    "%%time\n",
    "\n",
    "\"\"\" using https://analysis7.arcgis.com/arcgis/rest/services/tasks/GPServer/PlanRoutes/submitJob\n",
    "\"\"\"\n",
    "result1 = use_proximity.plan_routes(stops_layer=stops_layer, route_count=1, \n",
    "                                   max_stops_per_route=10, route_start_time=start_time,\n",
    "                                   start_layer_route_id_field = \"FID\",\n",
    "                                   start_layer=start_layer, \n",
    "                                   end_layer=end_layer,\n",
    "                                   return_to_start=False,\n",
    "                                   context={'outSR': {\"wkid\": 4326}},\n",
    "                                   gis=my_gis)"
   ]
  },
  {
   "cell_type": "markdown",
   "metadata": {},
   "source": [
    "The returned dictionary contains two components - `routes_layer` and `assigned_stops_layer`."
   ]
  },
  {
   "cell_type": "code",
   "execution_count": null,
   "metadata": {},
   "outputs": [],
   "source": [
    "result1.keys()"
   ]
  },
  {
   "cell_type": "code",
   "execution_count": null,
   "metadata": {},
   "outputs": [],
   "source": [
    "type(result1['routes_layer']), type(result1['assigned_stops_layer'])"
   ]
  },
  {
   "cell_type": "markdown",
   "metadata": {},
   "source": [
    "We can create a pandas data frame out of the `routes_layer` component to summarize the records. In the cell below, we can see for the route \"Miami to San Francisco\", 10 stops are made, with the total time and distance specified."
   ]
  },
  {
   "cell_type": "code",
   "execution_count": null,
   "metadata": {},
   "outputs": [],
   "source": [
    "df = result1['routes_layer'].query().sdf\n",
    "df[['RouteName', 'StopCount', 'TotalTime', 'Total_Kilometers']]"
   ]
  },
  {
   "cell_type": "markdown",
   "metadata": {},
   "source": [
    "For the stops to be made on the route, we take advantage of the `assigned_stops_layer`, and convert it to a pandas dataframe object."
   ]
  },
  {
   "cell_type": "code",
   "execution_count": null,
   "metadata": {},
   "outputs": [],
   "source": [
    "df2 = result1['assigned_stops_layer'].query().sdf\n",
    "df2[['OBJECTID', 'NAME', 'ST', 'PLACEFIPS', 'RouteName', 'StopType', 'Sequence', \\\n",
    "     'ArriveTime', 'DepartTime', 'FromPrevDistanceKilometers']]\n"
   ]
  },
  {
   "cell_type": "markdown",
   "metadata": {},
   "source": [
    "In order to show the arrival time and better organize the columns, try the cell below to do a little parsing:"
   ]
  },
  {
   "cell_type": "code",
   "execution_count": null,
   "metadata": {
    "scrolled": true
   },
   "outputs": [],
   "source": [
    "my_df = df2[['OBJECTID', 'NAME', 'ST', 'PLACEFIPS', 'RouteName', 'StopType', 'Sequence', \\\n",
    "             'ArriveTimeUTC', 'DepartTimeUTC', 'FromPrevDistanceKilometers']].copy()\n",
    "end_times = pd.to_datetime(df2['ArriveTimeUTC'])\n",
    "my_df[\"ArriveTimeUTC\"] = end_times.apply(lambda x: x.strftime(\"%m-%d %H:%M:%S\"))\n",
    "start_times = pd.to_datetime(df2['DepartTimeUTC'])\n",
    "my_df[\"DepartTimeUTC\"] = start_times.apply(lambda x: x.strftime(\"%m-%d %H:%M:%S\"))\n",
    "my_df['Sequence'] = df2['Sequence'].apply(lambda x: int(x))\n",
    "my_df.sort_values('Sequence', inplace=True, ascending=True)"
   ]
  },
  {
   "cell_type": "code",
   "execution_count": null,
   "metadata": {},
   "outputs": [],
   "source": [
    "my_df"
   ]
  },
  {
   "cell_type": "markdown",
   "metadata": {},
   "source": [
    "From the tables above, we can tell if leaving Miami at `03:30:30 AM` (EST), which is `07:30:30 AM` (UTC) of Monday, the expected arrival time in San Francisco would be `03:50:24 AM` (PST), a.k.a. `10:50:24 AM` (UTC)."
   ]
  },
  {
   "cell_type": "code",
   "execution_count": null,
   "metadata": {},
   "outputs": [],
   "source": [
    "map2 = my_gis.map('Texas, USA', zoomlevel=4)\n",
    "map2"
   ]
  },
  {
   "cell_type": "code",
   "execution_count": null,
   "metadata": {},
   "outputs": [],
   "source": [
    "\"\"\" draw the route and stops with customized styles, symbologies, and popups\n",
    "\"\"\"\n",
    "for route in result1['routes_layer'].query():\n",
    "    map2.draw(route.geometry, popup_route, route_symbol)\n",
    "\n",
    "sequence = 1\n",
    "for stop in result1['assigned_stops_layer'].query():\n",
    "    if stop.attributes['StopType']==\"Route start\":\n",
    "        # starting point\n",
    "        symbol = start_symbol\n",
    "    elif stop.attributes['StopType']==\"Route end\":\n",
    "        # ending point\n",
    "        symbol = end_symbol\n",
    "    else:\n",
    "        # by-passing point\n",
    "        symbol = stops_symbol\n",
    "        \n",
    "    address = geocoding.reverse_geocode(stop.geometry)['address']['Match_addr']\n",
    "    print(address)\n",
    "    map2.draw(stop.geometry, \n",
    "              {\"title\": \"Stop {}\".format(sequence), \n",
    "               \"content\": address},\n",
    "              symbol)\n",
    "    sequence+=1"
   ]
  },
  {
   "cell_type": "markdown",
   "metadata": {},
   "source": [
    "From the cell output above, we can see that though we are routing from cities to cities, the real logic under the solver is to pick a specific address in the city before the route is computed."
   ]
  },
  {
   "cell_type": "code",
   "execution_count": null,
   "metadata": {},
   "outputs": [],
   "source": [
    "item_properties[\"title\"] = \"Miami - San Francisco (3)\"\n",
    "\n",
    "item = map2.save(item_properties)"
   ]
  },
  {
   "cell_type": "code",
   "execution_count": null,
   "metadata": {
    "scrolled": true
   },
   "outputs": [],
   "source": [
    "item"
   ]
  },
  {
   "cell_type": "code",
   "execution_count": null,
   "metadata": {},
   "outputs": [],
   "source": [
    "item.delete()"
   ]
  }
 ],
 "metadata": {
  "kernelspec": {
   "display_name": "Python 3",
   "language": "python",
   "name": "python3"
  },
  "language_info": {
   "codemirror_mode": {
    "name": "ipython",
    "version": 3
   },
   "file_extension": ".py",
   "mimetype": "text/x-python",
   "name": "python",
   "nbconvert_exporter": "python",
   "pygments_lexer": "ipython3",
   "version": "3.9.11"
  },
  "toc": {
   "base_numbering": 1,
   "nav_menu": {},
   "number_sections": false,
   "sideBar": true,
   "skip_h1_title": true,
   "title_cell": "Table of Contents",
   "title_sidebar": "Contents",
   "toc_cell": true,
   "toc_position": {},
   "toc_section_display": true,
   "toc_window_display": false
  },
  "varInspector": {
   "cols": {
    "lenName": 16,
    "lenType": 16,
    "lenVar": 40
   },
   "kernels_config": {
    "python": {
     "delete_cmd_postfix": "",
     "delete_cmd_prefix": "del ",
     "library": "var_list.py",
     "varRefreshCmd": "print(var_dic_list())"
    },
    "r": {
     "delete_cmd_postfix": ") ",
     "delete_cmd_prefix": "rm(",
     "library": "var_list.r",
     "varRefreshCmd": "cat(var_dic_list()) "
    }
   },
   "types_to_exclude": [
    "module",
    "function",
    "builtin_function_or_method",
    "instance",
    "_Feature"
   ],
   "window_display": false
  }
 },
 "nbformat": 4,
 "nbformat_minor": 2
}
