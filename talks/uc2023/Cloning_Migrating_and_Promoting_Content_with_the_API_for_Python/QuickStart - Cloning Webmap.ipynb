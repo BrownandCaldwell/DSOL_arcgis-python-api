{
 "cells": [
  {
   "cell_type": "markdown",
   "metadata": {},
   "source": [
    "#### *Demonstration purposes only. Change organization connections, variables, and item searches to match your criteria.*"
   ]
  },
  {
   "cell_type": "markdown",
   "metadata": {},
   "source": [
    "## Import libraries"
   ]
  },
  {
   "cell_type": "code",
   "execution_count": null,
   "metadata": {},
   "outputs": [],
   "source": [
    "from arcgis.gis import GIS\n",
    "from arcgis.mapping import WebMap"
   ]
  },
  {
   "cell_type": "markdown",
   "metadata": {},
   "source": [
    "## Connect to _source_ and _target_ organizations"
   ]
  },
  {
   "cell_type": "code",
   "execution_count": null,
   "metadata": {},
   "outputs": [],
   "source": [
    "source = GIS(profile=\"source_org_profile\", verify_cert=False)\n",
    "target = GIS(profile=\"target_org_profile\", verify_cert=False)"
   ]
  },
  {
   "cell_type": "markdown",
   "metadata": {},
   "source": [
    "## Clone Webmap"
   ]
  },
  {
   "cell_type": "markdown",
   "metadata": {},
   "source": [
    "### Get a Webmap item from _source_"
   ]
  },
  {
   "cell_type": "code",
   "execution_count": null,
   "metadata": {},
   "outputs": [],
   "source": [
    "ar_health_item = source.content.get(\"<item_id>\")\n",
    "ar_health_item"
   ]
  },
  {
   "cell_type": "markdown",
   "metadata": {},
   "source": [
    "#### Initialize `WebMap` object to inspect layers"
   ]
  },
  {
   "cell_type": "code",
   "execution_count": null,
   "metadata": {},
   "outputs": [],
   "source": [
    "ar_health_wm = WebMap(ar_health_item)"
   ]
  },
  {
   "cell_type": "markdown",
   "metadata": {},
   "source": [
    "#### Print information about `Webmap` layers"
   ]
  },
  {
   "cell_type": "code",
   "execution_count": null,
   "metadata": {},
   "outputs": [],
   "source": [
    "for wm_lyr in ar_health_wm.layers:\n",
    "    print(f\"{' '*2}{wm_lyr['title']:40}{wm_lyr['itemId']}\")\n",
    "    print(f\"{' '*4}{wm_lyr['url']}\")"
   ]
  },
  {
   "cell_type": "markdown",
   "metadata": {},
   "source": [
    "#### Search _target_ for layer from _source_ `Webmap` "
   ]
  },
  {
   "cell_type": "code",
   "execution_count": null,
   "metadata": {},
   "outputs": [],
   "source": [
    "for wm_layer in ar_health_wm.layers:\n",
    "    res = target.content.search(wm_layer[\"title\"], item_type=\"Feature Layer\")\n",
    "    if bool(res):\n",
    "        print(f\"{wm_layer['title']} layer already exists in target organization\")\n",
    "    else:\n",
    "        print(f\"{wm_layer['title']} layer not present in target organization\")"
   ]
  },
  {
   "cell_type": "markdown",
   "metadata": {},
   "source": [
    "_Target_ does not contain the layers in this `Webmap`."
   ]
  },
  {
   "cell_type": "markdown",
   "metadata": {},
   "source": [
    "### Clone Webmap"
   ]
  },
  {
   "cell_type": "code",
   "execution_count": null,
   "metadata": {},
   "outputs": [],
   "source": [
    "wm_clone = target.content.clone_items(items=[ar_health_item],\n",
    "                                      folder=\"Arkansas_Data\")\n",
    "wm_clone"
   ]
  },
  {
   "cell_type": "markdown",
   "metadata": {},
   "source": [
    "#### Get `Webmap item` from resulting list"
   ]
  },
  {
   "cell_type": "code",
   "execution_count": null,
   "metadata": {},
   "outputs": [],
   "source": [
    "target_ar_item = wm_clone[2]\n",
    "target_ar_item"
   ]
  },
  {
   "cell_type": "markdown",
   "metadata": {},
   "source": [
    "#### Initialize `Webmap` object to inspect layers"
   ]
  },
  {
   "cell_type": "code",
   "execution_count": null,
   "metadata": {},
   "outputs": [],
   "source": [
    "target_ar_wm = WebMap(target_ar_item)"
   ]
  },
  {
   "cell_type": "markdown",
   "metadata": {},
   "source": [
    "#### Print information about `Webmap` layers"
   ]
  },
  {
   "cell_type": "code",
   "execution_count": null,
   "metadata": {},
   "outputs": [],
   "source": [
    "for ar_map_lyr in target_ar_wm.layers:\n",
    "    print(f\"{' '*2}{ar_map_lyr['title']:40}{ar_map_lyr['itemId']}\")\n",
    "    print(f\"{' '*4}{ar_map_lyr['url']}\")"
   ]
  },
  {
   "cell_type": "markdown",
   "metadata": {},
   "source": [
    "#### Search the _target_ again for the layer from the _source_ `Webmap`"
   ]
  },
  {
   "cell_type": "code",
   "execution_count": null,
   "metadata": {},
   "outputs": [],
   "source": [
    "for ar_lyr in target_ar_wm.layers:\n",
    "    res = target.content.search(ar_lyr[\"title\"], item_type=\"Feature Layer\")\n",
    "    if bool(res):\n",
    "        print(f\"{ar_lyr['title']} layer now exists in target organization\")\n",
    "    else:\n",
    "        print(f\"{ar_lyr['title']} layer not present in target organization\")"
   ]
  },
  {
   "cell_type": "markdown",
   "metadata": {},
   "source": [
    "_Target_ now contains the layers cloned along with the `Webmap`"
   ]
  }
 ],
 "metadata": {
  "kernelspec": {
   "display_name": "Python 3 (ipykernel)",
   "language": "python",
   "name": "python3"
  },
  "language_info": {
   "codemirror_mode": {
    "name": "ipython",
    "version": 3
   },
   "file_extension": ".py",
   "mimetype": "text/x-python",
   "name": "python",
   "nbconvert_exporter": "python",
   "pygments_lexer": "ipython3",
   "version": "3.9.13"
  }
 },
 "nbformat": 4,
 "nbformat_minor": 4
}
