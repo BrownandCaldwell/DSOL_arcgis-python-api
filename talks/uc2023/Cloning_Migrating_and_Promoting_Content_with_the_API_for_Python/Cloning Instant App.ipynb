{
 "cells": [
  {
   "cell_type": "markdown",
   "id": "f53beeca",
   "metadata": {},
   "source": [
    "#### *Demonstration purposes only. Change organization connections, variables, and item searches to match your criteria.*"
   ]
  },
  {
   "cell_type": "markdown",
   "id": "dc90d21f",
   "metadata": {},
   "source": [
    "### Import Libraries"
   ]
  },
  {
   "cell_type": "code",
   "execution_count": null,
   "id": "fed28b02",
   "metadata": {},
   "outputs": [],
   "source": [
    "from arcgis.gis import GIS"
   ]
  },
  {
   "cell_type": "markdown",
   "id": "fab67254",
   "metadata": {},
   "source": [
    "### Connect to organizations"
   ]
  },
  {
   "cell_type": "code",
   "execution_count": null,
   "id": "256c2f7e",
   "metadata": {},
   "outputs": [],
   "source": [
    "source = GIS(profile=\"<source_org_profile>\")\n",
    "target = GIS(profile=\"target_org_profile\")"
   ]
  },
  {
   "cell_type": "markdown",
   "id": "ca9eb2d4",
   "metadata": {},
   "source": [
    "### Get application item"
   ]
  },
  {
   "cell_type": "code",
   "execution_count": null,
   "id": "8210b323",
   "metadata": {},
   "outputs": [],
   "source": [
    "instant_app = source.content.get(\"<item_id>\")\n",
    "instant_app"
   ]
  },
  {
   "cell_type": "markdown",
   "id": "b0315e8a",
   "metadata": {},
   "source": [
    "### Inspect item properties"
   ]
  },
  {
   "cell_type": "code",
   "execution_count": null,
   "id": "98a51dba",
   "metadata": {},
   "outputs": [],
   "source": [
    "instant_app.type"
   ]
  },
  {
   "cell_type": "code",
   "execution_count": null,
   "id": "63c7472e",
   "metadata": {},
   "outputs": [],
   "source": [
    "app_definition = instant_app.get_data()\n",
    "app_definition"
   ]
  },
  {
   "cell_type": "code",
   "execution_count": null,
   "id": "4570b35d",
   "metadata": {},
   "outputs": [],
   "source": [
    "source.content.get(app_definition['values']['webmap'])"
   ]
  },
  {
   "cell_type": "markdown",
   "id": "2be6edf8",
   "metadata": {},
   "source": [
    "### Clone application"
   ]
  },
  {
   "cell_type": "code",
   "execution_count": null,
   "id": "14fca693",
   "metadata": {},
   "outputs": [],
   "source": [
    "clone_result = target.content.clone_items(items=[instant_app],\n",
    "                                          folder=\"instant_clone\")\n",
    "clone_result"
   ]
  },
  {
   "cell_type": "code",
   "execution_count": null,
   "id": "7a243dfd",
   "metadata": {},
   "outputs": [],
   "source": [
    "cloned_app = clone_result[2]"
   ]
  },
  {
   "cell_type": "markdown",
   "id": "c8c0390e",
   "metadata": {},
   "source": [
    "### Compare results"
   ]
  },
  {
   "cell_type": "code",
   "execution_count": null,
   "id": "c19cd4ba",
   "metadata": {},
   "outputs": [],
   "source": [
    "clone_app_definition = cloned_app.get_data()\n",
    "clone_app_definition"
   ]
  },
  {
   "cell_type": "code",
   "execution_count": null,
   "id": "e7823338",
   "metadata": {},
   "outputs": [],
   "source": [
    "target.content.get(clone_app_definition['values']['webmap'])"
   ]
  }
 ],
 "metadata": {
  "kernelspec": {
   "display_name": "Python 3 (ipykernel)",
   "language": "python",
   "name": "python3"
  },
  "language_info": {
   "codemirror_mode": {
    "name": "ipython",
    "version": 3
   },
   "file_extension": ".py",
   "mimetype": "text/x-python",
   "name": "python",
   "nbconvert_exporter": "python",
   "pygments_lexer": "ipython3",
   "version": "3.9.13"
  }
 },
 "nbformat": 4,
 "nbformat_minor": 5
}
