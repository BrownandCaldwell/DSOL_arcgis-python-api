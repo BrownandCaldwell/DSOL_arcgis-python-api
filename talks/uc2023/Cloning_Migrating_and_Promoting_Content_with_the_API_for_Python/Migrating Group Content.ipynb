{
 "cells": [
  {
   "cell_type": "markdown",
   "id": "a8105dea",
   "metadata": {},
   "source": [
    "#### *Demonstration purposes only. Change organization connections, variables, and item searches to match your criteria.* Code will only run on ArcGIS Enterprise deployments."
   ]
  },
  {
   "cell_type": "markdown",
   "id": "694f70a2",
   "metadata": {},
   "source": [
    "### Import Libraries"
   ]
  },
  {
   "cell_type": "code",
   "execution_count": null,
   "id": "2bc69e1c",
   "metadata": {},
   "outputs": [],
   "source": [
    "from arcgis.gis import GIS, GroupMigrationManager"
   ]
  },
  {
   "cell_type": "markdown",
   "id": "d977981a",
   "metadata": {},
   "source": [
    "### Connect to Web GIS organizations"
   ]
  },
  {
   "cell_type": "code",
   "execution_count": null,
   "id": "1615188d",
   "metadata": {},
   "outputs": [],
   "source": [
    "source = GIS(profile=\"<source_enterprise_profile>\", verify_cert=False)\n",
    "target = GIS(profile=\"<target_enterprise_profile\", verify_cert=False)"
   ]
  },
  {
   "cell_type": "markdown",
   "id": "0ab5bf0c",
   "metadata": {},
   "source": [
    "### Search for source org Group from which to export content"
   ]
  },
  {
   "cell_type": "code",
   "execution_count": null,
   "id": "27f0b989",
   "metadata": {},
   "outputs": [],
   "source": [
    "ita_group = source.groups.search(\"Italy Environment Data\")[0]\n",
    "ita_group"
   ]
  },
  {
   "cell_type": "code",
   "execution_count": null,
   "id": "6a8eb7e5",
   "metadata": {},
   "outputs": [],
   "source": [
    "ita_group.content()"
   ]
  },
  {
   "cell_type": "markdown",
   "id": "dfbe8f99",
   "metadata": {},
   "source": [
    "### Initialize Source GroupMigratonManager "
   ]
  },
  {
   "cell_type": "code",
   "execution_count": null,
   "id": "85837a75",
   "metadata": {},
   "outputs": [],
   "source": [
    "grp_mgr = GroupMigrationManager(ita_group)"
   ]
  },
  {
   "cell_type": "markdown",
   "id": "9f588597",
   "metadata": {},
   "source": [
    "### Create Export Package Job"
   ]
  },
  {
   "cell_type": "code",
   "execution_count": null,
   "id": "cc0423ef",
   "metadata": {},
   "outputs": [],
   "source": [
    "ita_job = grp_mgr.create()"
   ]
  },
  {
   "cell_type": "code",
   "execution_count": null,
   "id": "bf9c386c",
   "metadata": {},
   "outputs": [],
   "source": [
    "import time\n",
    "\n",
    "while ita_job.status != \"completed\":\n",
    "    job_status = ita_job.status\n",
    "    if job_status == \"failed\":\n",
    "        break\n",
    "    else:\n",
    "        print(job_status)\n",
    "        time.sleep(5)\n",
    "print(f\"Job Status: {ita_job.status}\")"
   ]
  },
  {
   "cell_type": "markdown",
   "id": "2d623526",
   "metadata": {},
   "source": [
    "### Inspect Job Results"
   ]
  },
  {
   "cell_type": "code",
   "execution_count": null,
   "id": "cd8f0fec",
   "metadata": {},
   "outputs": [],
   "source": [
    "ita_epk_item = ita_job.result()\n",
    "ita_epk_item"
   ]
  },
  {
   "cell_type": "code",
   "execution_count": null,
   "id": "83233be8",
   "metadata": {},
   "outputs": [],
   "source": [
    "grp_mgr.inspect(ita_epk_item)"
   ]
  },
  {
   "cell_type": "markdown",
   "id": "02e824d5",
   "metadata": {},
   "source": [
    "### Download the Export Package"
   ]
  },
  {
   "cell_type": "code",
   "execution_count": null,
   "id": "48a7d5cd",
   "metadata": {},
   "outputs": [],
   "source": [
    "down_res = ita_epk_item.download(save_path=r\"</file/path/on/system\",\n",
    "                                 file_name=r\"ita_download.epk\")\n",
    "down_res"
   ]
  },
  {
   "cell_type": "markdown",
   "id": "8086daf1",
   "metadata": {},
   "source": [
    "### Add Export Package to Target organization"
   ]
  },
  {
   "cell_type": "code",
   "execution_count": null,
   "id": "4af578ac",
   "metadata": {},
   "outputs": [],
   "source": [
    "target_epk_item = target.content.add(item_properties={\"title\" : \"ita_data_exp_pkg\",\n",
    "                                                      \"tags\" : \"ITA, environment, hydrology\",\n",
    "                                                      \"snippet\": \"Natural resource data for Italy.\",\n",
    "                                                      \"type\": \"Export Package\"},\n",
    "                                     data=down_res)\n",
    "target_epk_item"
   ]
  },
  {
   "cell_type": "markdown",
   "id": "ff280f58",
   "metadata": {},
   "source": [
    "### Search for target org Group for which to import content"
   ]
  },
  {
   "cell_type": "code",
   "execution_count": null,
   "id": "faf5a835",
   "metadata": {},
   "outputs": [],
   "source": [
    "target.users.me"
   ]
  },
  {
   "cell_type": "code",
   "execution_count": null,
   "id": "bc180b4c",
   "metadata": {},
   "outputs": [],
   "source": [
    "target_grp = target.groups.search(\"Italy Natural Environment\")[0]\n",
    "target_grp"
   ]
  },
  {
   "cell_type": "code",
   "execution_count": null,
   "id": "7ca9c9d5",
   "metadata": {},
   "outputs": [],
   "source": [
    "target_grp.id"
   ]
  },
  {
   "cell_type": "markdown",
   "id": "0284f38d",
   "metadata": {},
   "source": [
    "### Initialize Target GroupMigrationManager"
   ]
  },
  {
   "cell_type": "code",
   "execution_count": null,
   "id": "897561b0",
   "metadata": {},
   "outputs": [],
   "source": [
    "target_grp_mgr = GroupMigrationManager(target_grp)"
   ]
  },
  {
   "cell_type": "markdown",
   "id": "72376548",
   "metadata": {},
   "source": [
    "### Load the Group content into the Target"
   ]
  },
  {
   "cell_type": "code",
   "execution_count": null,
   "id": "6ad8836b",
   "metadata": {},
   "outputs": [],
   "source": [
    "target_epk_job = target_grp_mgr.load(epk_item=target_epk_item)"
   ]
  },
  {
   "cell_type": "code",
   "execution_count": null,
   "id": "66cd9599",
   "metadata": {},
   "outputs": [],
   "source": [
    "import time\n",
    "\n",
    "while target_epk_job.status != \"completed\":\n",
    "    job_status = target_epk_job.status\n",
    "    if job_status == \"failed\":\n",
    "        break\n",
    "    else:\n",
    "        print(job_status)\n",
    "        time.sleep(5)\n",
    "print(f\"Job Status: {target_epk_job.status}\")"
   ]
  },
  {
   "cell_type": "code",
   "execution_count": null,
   "id": "336d83fc",
   "metadata": {},
   "outputs": [],
   "source": [
    "target_epk_job.messages"
   ]
  },
  {
   "cell_type": "code",
   "execution_count": null,
   "id": "b2a4de3f",
   "metadata": {},
   "outputs": [],
   "source": [
    "target_epk_job.result()"
   ]
  }
 ],
 "metadata": {
  "kernelspec": {
   "display_name": "Python 3 (ipykernel)",
   "language": "python",
   "name": "python3"
  },
  "language_info": {
   "codemirror_mode": {
    "name": "ipython",
    "version": 3
   },
   "file_extension": ".py",
   "mimetype": "text/x-python",
   "name": "python",
   "nbconvert_exporter": "python",
   "pygments_lexer": "ipython3",
   "version": "3.9.13"
  }
 },
 "nbformat": 4,
 "nbformat_minor": 5
}
