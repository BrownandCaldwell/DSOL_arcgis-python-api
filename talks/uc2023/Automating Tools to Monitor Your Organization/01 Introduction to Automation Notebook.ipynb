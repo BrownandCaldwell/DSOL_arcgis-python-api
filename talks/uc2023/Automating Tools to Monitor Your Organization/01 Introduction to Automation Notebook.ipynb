{
 "cells": [
  {
   "cell_type": "markdown",
   "id": "735ab32a",
   "metadata": {
    "heading_collapsed": true
   },
   "source": [
    "# Agenda"
   ]
  },
  {
   "cell_type": "markdown",
   "id": "226ac077",
   "metadata": {
    "hidden": true
   },
   "source": [
    "- What is Automation?\n",
    "- Automation Benefits \n",
    "- Automation Methods with ArcGIS\n",
    "    + Windows Scheduler\n",
    "    + Enterprise/AGO Tasks\n",
    "    + CI/CD Automation\n",
    "- Demo: Copying UX Settings using the API\n",
    "- Questions"
   ]
  },
  {
   "cell_type": "markdown",
   "id": "f786eb6d",
   "metadata": {
    "heading_collapsed": true
   },
   "source": [
    "# What is Automation?"
   ]
  },
  {
   "cell_type": "markdown",
   "id": "78306f18",
   "metadata": {
    "hidden": true
   },
   "source": [
    "<img src=\"./imgs/automation-everywhere.jpg\"/>"
   ]
  },
  {
   "cell_type": "markdown",
   "id": "4a3a8a5c",
   "metadata": {
    "hidden": true
   },
   "source": [
    "- Automation refers to the use of technology and systems to perform tasks or processes with minimal or no human intervention. \n",
    "- It involves the application of various tools, software, or machinery to replace or streamline manual or repetitive tasks, reducing the need for human involvement and increasing efficiency.\n",
    "\n",
    "- Automation can be applied in various industries and sectors, including manufacturing, logistics, transportation, healthcare, finance, and more. \n",
    "- It aims to improve productivity, accuracy, speed, and cost-effectiveness by automating routine or mundane tasks that can be performed by machines or software."
   ]
  },
  {
   "cell_type": "markdown",
   "id": "6cecdba0",
   "metadata": {
    "heading_collapsed": true
   },
   "source": [
    "# Aspects of Software Automation"
   ]
  },
  {
   "cell_type": "markdown",
   "id": "a360bf6a",
   "metadata": {
    "hidden": true
   },
   "source": [
    "<img src=\"https://website-static.testsigma.com/assets/guides/automated-testing/automated-testing.svg\"/>"
   ]
  },
  {
   "cell_type": "markdown",
   "id": "3b0d1c0c",
   "metadata": {
    "hidden": true
   },
   "source": [
    "1. Build Automation: Build automation involves automating the process of compiling source code, packaging binaries, and creating software builds. \n",
    "    + Tools like Apache Maven, Gradle, or Jenkins can be used to define build scripts that automatically compile, test, and package the software.\n",
    "\n",
    "2. Test Automation: Test automation focuses on automating the execution of software tests. \n",
    "    + It involves writing scripts or using testing frameworks to automatically perform functional, regression, performance, or security tests. Tools like Selenium, Appium, JUnit, or Cypress are commonly used for test automation.\n",
    "\n",
    "3. Deployment Automation: Deployment automation automates the process of deploying software to various environments, such as development, testing, staging, and production. \n",
    "    + It involves creating deployment scripts or using tools like Docker, Kubernetes, or Ansible to automate the provisioning and configuration of infrastructure and software components.\n",
    "\n",
    "4. Continuous Integration and Continuous Deployment (CI/CD): CI/CD is a software development practice that combines automation with version control, build automation, testing, and deployment automation. \n",
    "    + It involves automatically building, testing, and deploying software changes whenever code is committed, ensuring frequent and reliable software releases.\n",
    "\n",
    "5. Configuration Management: Configuration management automation involves managing and automating the configuration of software systems and infrastructure. \n",
    "    + Tools like Puppet, Chef, or Ansible can be used to define and enforce the desired state of servers, networks, and other resources, ensuring consistency and reducing manual configuration tasks.\n",
    "\n",
    "6. Monitoring and Alerting Automation: Automation can also be applied to monitoring and alerting systems. \n",
    "    + Automated monitoring tools can collect data on system performance, log files, or application metrics, and generate alerts or take predefined actions in response to anomalies or failures."
   ]
  },
  {
   "cell_type": "markdown",
   "id": "ca399adb",
   "metadata": {
    "heading_collapsed": true
   },
   "source": [
    "# Why Automate Processes? "
   ]
  },
  {
   "cell_type": "markdown",
   "id": "0feb4ce2",
   "metadata": {
    "hidden": true
   },
   "source": [
    "\n",
    "<img src=\"https://www.businessworldit.com/wp-content/uploads/2018/04/Why-Business-Process-Automation-Is-Important.jpg\" />"
   ]
  },
  {
   "cell_type": "markdown",
   "id": "6fe2da0e",
   "metadata": {
    "hidden": true
   },
   "source": [
    "1. **Efficiency and Time Savings:** Automation eliminates the need for manual and repetitive tasks\n",
    "\n",
    "2. **Increased Accuracy and Consistency:** Automation minimizes human error\n",
    "\n",
    "3. **Cost Reduction:** Automating software processes can result in cost savings by eliminating some manual efforts\n",
    "\n",
    "4. **Scalability:** Automation facilitates scalability by allowing processes to be easily replicated and repeated"
   ]
  }
 ],
 "metadata": {
  "kernelspec": {
   "display_name": "Python 3 (ipykernel)",
   "language": "python",
   "name": "python3"
  },
  "language_info": {
   "codemirror_mode": {
    "name": "ipython",
    "version": 3
   },
   "file_extension": ".py",
   "mimetype": "text/x-python",
   "name": "python",
   "nbconvert_exporter": "python",
   "pygments_lexer": "ipython3",
   "version": "3.9.16"
  }
 },
 "nbformat": 4,
 "nbformat_minor": 5
}
