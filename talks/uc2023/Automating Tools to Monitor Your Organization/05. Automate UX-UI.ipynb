{
 "cells": [
  {
   "cell_type": "markdown",
   "id": "4f5a81d7",
   "metadata": {},
   "source": [
    "# Cloning the UX Settings"
   ]
  },
  {
   "cell_type": "markdown",
   "id": "88ad6a93",
   "metadata": {},
   "source": [
    "#### Setup the imports"
   ]
  },
  {
   "cell_type": "code",
   "execution_count": null,
   "id": "ee7abcab",
   "metadata": {},
   "outputs": [],
   "source": [
    "\n",
    "from arcgis.gis import GIS"
   ]
  },
  {
   "cell_type": "code",
   "execution_count": null,
   "id": "2d084194",
   "metadata": {},
   "outputs": [],
   "source": [
    "gis = GIS(profile='your_developer_online_profile')"
   ]
  },
  {
   "cell_type": "markdown",
   "id": "1246eebb",
   "metadata": {},
   "source": [
    "## Setup up the Organization"
   ]
  },
  {
   "cell_type": "code",
   "execution_count": null,
   "id": "92f8eb8c",
   "metadata": {},
   "outputs": [],
   "source": [
    "gis = GIS(profile='your_developer_online_profile')\n",
    "gis"
   ]
  },
  {
   "cell_type": "code",
   "execution_count": null,
   "id": "89fe4c26",
   "metadata": {},
   "outputs": [],
   "source": [
    "ux = gis.admin.ux\n",
    "ux"
   ]
  },
  {
   "cell_type": "code",
   "execution_count": null,
   "id": "5bc13f9f",
   "metadata": {},
   "outputs": [],
   "source": [
    "ux.homepage_settings.set_background(r\"./ux_imgs/background.jpg\")"
   ]
  },
  {
   "cell_type": "code",
   "execution_count": null,
   "id": "c5fcfb92",
   "metadata": {},
   "outputs": [],
   "source": [
    "ux.homepage_settings.get_title()"
   ]
  },
  {
   "cell_type": "markdown",
   "id": "c6cd156e",
   "metadata": {},
   "source": [
    "## Storing UX Locally"
   ]
  },
  {
   "cell_type": "markdown",
   "id": "4b31be28",
   "metadata": {},
   "source": [
    "- **2.2.0 ONLY**, UX and Role cloning was introduced\n",
    "- UX settings can be cloned locally and moved to a new org."
   ]
  },
  {
   "cell_type": "code",
   "execution_count": null,
   "id": "2d233995",
   "metadata": {},
   "outputs": [],
   "source": [
    "jobs = gis.admin.ux.clone(targets=None)\n",
    "jobs"
   ]
  },
  {
   "cell_type": "markdown",
   "id": "67378a25",
   "metadata": {},
   "source": [
    "#### Creates a Future Object"
   ]
  },
  {
   "cell_type": "code",
   "execution_count": null,
   "id": "d7f0364f",
   "metadata": {},
   "outputs": [],
   "source": [
    "print(jobs[0].result())"
   ]
  },
  {
   "cell_type": "markdown",
   "id": "48e898ca",
   "metadata": {},
   "source": [
    "#### Loading an Offline File"
   ]
  },
  {
   "cell_type": "markdown",
   "id": "c2a83a47",
   "metadata": {},
   "source": [
    "- The `uxpk` file can be moved between AGO and Enterprise Sites\n",
    "- Warning messages appear when the `target` GIS doesn't support a feature\n"
   ]
  },
  {
   "cell_type": "code",
   "execution_count": null,
   "id": "726d8359",
   "metadata": {},
   "outputs": [],
   "source": [
    "gis_dest = GIS(profile='your_uc2023_profile')\n",
    "gis_dest"
   ]
  },
  {
   "cell_type": "code",
   "execution_count": null,
   "id": "25c29b7d",
   "metadata": {},
   "outputs": [],
   "source": [
    "ux = gis_dest.admin.ux\n",
    "job = ux.load_offline_configuration(jobs[0].result())\n",
    "job"
   ]
  },
  {
   "cell_type": "markdown",
   "id": "47504eb2",
   "metadata": {},
   "source": [
    "#### Results"
   ]
  },
  {
   "cell_type": "markdown",
   "id": "24f93b2e",
   "metadata": {},
   "source": [
    "<img src=\"./ux_imgs/FinalImport.PNG\"/>"
   ]
  },
  {
   "cell_type": "markdown",
   "id": "faabafa0",
   "metadata": {},
   "source": [
    "## Cloning UX Directly"
   ]
  },
  {
   "cell_type": "markdown",
   "id": "e70265ed",
   "metadata": {},
   "source": [
    "- UX settings and policies can be directly set when possible\n",
    "- UX cloner will move all settings and images from site A to site B using `future` objects\n",
    "- An array of target GIS objects can be given to setup multiple sites from a single source"
   ]
  },
  {
   "cell_type": "code",
   "execution_count": null,
   "id": "e4ea916d",
   "metadata": {},
   "outputs": [],
   "source": [
    "gis_dest = GIS(profile='your_dev_enterprise_profile', set_active=False)\n",
    "gis_dest"
   ]
  },
  {
   "cell_type": "markdown",
   "id": "ae0072ea",
   "metadata": {},
   "source": [
    "<img src=\"./ux_imgs/EnterpriseSiteBefore.PNG\"/>"
   ]
  },
  {
   "cell_type": "markdown",
   "id": "db3f5658",
   "metadata": {},
   "source": [
    "##### Save a Local Copy and Setup a New Enterprise"
   ]
  },
  {
   "cell_type": "code",
   "execution_count": null,
   "id": "8f2cd9e8",
   "metadata": {},
   "outputs": [],
   "source": [
    "jobs = gis.admin.ux.clone(targets=[gis_dest])\n",
    "jobs"
   ]
  },
  {
   "cell_type": "code",
   "execution_count": null,
   "id": "0671a18e",
   "metadata": {},
   "outputs": [],
   "source": [
    "jobs[0].result()"
   ]
  },
  {
   "cell_type": "markdown",
   "id": "b3a4dc78",
   "metadata": {},
   "source": [
    "#### Result"
   ]
  },
  {
   "cell_type": "markdown",
   "id": "cd14e737",
   "metadata": {},
   "source": [
    "<img src=\"./ux_imgs/FinalImport_ENT.PNG\"/>"
   ]
  }
 ],
 "metadata": {
  "kernelspec": {
   "display_name": "Python 3 (ipykernel)",
   "language": "python",
   "name": "python3"
  },
  "language_info": {
   "codemirror_mode": {
    "name": "ipython",
    "version": 3
   },
   "file_extension": ".py",
   "mimetype": "text/x-python",
   "name": "python",
   "nbconvert_exporter": "python",
   "pygments_lexer": "ipython3",
   "version": "3.9.16"
  }
 },
 "nbformat": 4,
 "nbformat_minor": 5
}
