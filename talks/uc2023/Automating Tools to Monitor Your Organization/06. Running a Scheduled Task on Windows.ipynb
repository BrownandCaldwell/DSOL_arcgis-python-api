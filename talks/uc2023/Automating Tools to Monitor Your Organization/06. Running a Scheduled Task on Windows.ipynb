{
 "cells": [
  {
   "cell_type": "markdown",
   "id": "c1dd4054",
   "metadata": {},
   "source": [
    "# Scheduled Scripts on Local Machines\n",
    "\n",
    "<img src=\"https://media.makeameme.org/created/want-to-schedule.jpg\" />"
   ]
  },
  {
   "cell_type": "markdown",
   "id": "1dac85aa",
   "metadata": {},
   "source": [
    "## Windows and Linux Options"
   ]
  },
  {
   "cell_type": "markdown",
   "id": "8c0f4377",
   "metadata": {},
   "source": [
    "- all major operating systems provide some form of scheduled tasks\n",
    "- on Linux, `crontab` is commonly used\n",
    "- on Windows, `Windows Scheduler` is commonly used"
   ]
  },
  {
   "cell_type": "markdown",
   "id": "e691960e",
   "metadata": {},
   "source": [
    "#### Examples of Scheduled Tasks\n",
    "\n",
    "- When a specific system event occurs.\n",
    "- At a specific time.\n",
    "- At a specific time on a daily schedule.\n",
    "- At a specific time on a weekly schedule.\n",
    "- At a specific time on a monthly schedule.\n",
    "- At a specific time on a monthly day-of-week schedule.\n",
    "- When the computer enters an idle state.\n",
    "- When the task is registered.\n",
    "- When the system is booted.\n",
    "- When a user logs on.\n",
    "- When a Terminal Server session changes state."
   ]
  },
  {
   "cell_type": "markdown",
   "id": "991440eb",
   "metadata": {},
   "source": [
    "## Demo: Windows Scheduler\n",
    "\n",
    "    + The Task Scheduler enables you to automatically perform routine tasks on a chosen computer. \n",
    "    + The Task Scheduler does so by monitoring whatever criteria you choose (referred to as triggers) and then executing the tasks when those criteria are met."
   ]
  },
  {
   "cell_type": "markdown",
   "id": "bfcf9649",
   "metadata": {},
   "source": [
    "#### Open the Task Scheduler\n",
    "\n",
    "<img src=\"./imgs/windows-scheduler-1.png\" />"
   ]
  },
  {
   "cell_type": "markdown",
   "id": "88978867",
   "metadata": {},
   "source": [
    "#### Create a Basic Task"
   ]
  },
  {
   "cell_type": "markdown",
   "id": "92cbddc8",
   "metadata": {},
   "source": [
    "<img src=\"imgs\\ws2.jpg\" width=500 height=900/>"
   ]
  },
  {
   "cell_type": "markdown",
   "id": "7a0c6305",
   "metadata": {},
   "source": [
    "#### Setup the Task"
   ]
  },
  {
   "cell_type": "markdown",
   "id": "e18d8ae2",
   "metadata": {},
   "source": [
    "1. Provide a `Name`\n",
    "2. Set a schedule\n",
    "3. Provide the Script \n",
    "4. Provide the arguements"
   ]
  }
 ],
 "metadata": {
  "kernelspec": {
   "display_name": "Python 3 (ipykernel)",
   "language": "python",
   "name": "python3"
  },
  "language_info": {
   "codemirror_mode": {
    "name": "ipython",
    "version": 3
   },
   "file_extension": ".py",
   "mimetype": "text/x-python",
   "name": "python",
   "nbconvert_exporter": "python",
   "pygments_lexer": "ipython3",
   "version": "3.9.16"
  }
 },
 "nbformat": 4,
 "nbformat_minor": 5
}
