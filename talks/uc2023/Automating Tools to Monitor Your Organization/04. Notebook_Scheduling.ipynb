{
 "cells": [
  {
   "cell_type": "markdown",
   "id": "ed849849",
   "metadata": {},
   "source": [
    "# What are Scheduled Tasks?\n",
    "  \n",
    "Automated processes that can be set up to run at specified intervals or times."
   ]
  },
  {
   "cell_type": "markdown",
   "id": "885dfb1a",
   "metadata": {},
   "source": [
    "![automation_meme](https://media.makeameme.org/created/i-was-told-1ba2690468.jpg)"
   ]
  },
  {
   "cell_type": "markdown",
   "id": "1c491be3",
   "metadata": {},
   "source": [
    "# Use cases:"
   ]
  },
  {
   "cell_type": "markdown",
   "id": "e25d6251",
   "metadata": {},
   "source": [
    "> **Data Management**: Scheduled tasks enable you to automate data management processes within your organization. You can schedule tasks to regularly update, synchronize, or clean up data, ensuring that your datasets are accurate, up to date, and consistent.\n",
    "\n",
    "> **Workload Automation**: Scheduled tasks help streamline administrative workflows by automating routine tasks. This saves time and effort by eliminating the need for manual intervention in repetitive processes. For example, you can schedule tasks to automatically generate and deliver reports, update data sources, or perform data validation checks.\n",
    "\n",
    "> **Timely Updates**: Some workflows require regular updates or synchronization with external systems or data sources. Scheduled tasks ensure that these updates occur at specified intervals, guaranteeing that your organization's data is always current and aligned with the latest information.\n",
    "\n",
    "> **Resource Optimization**: By scheduling tasks during off-peak hours or non-business hours, you can optimize resource utilization within your ArcGIS Online organization. For example, you can schedule resource-intensive geoprocessing tasks to run overnight when server loads are lower, minimizing impact on performance during peak usage periods.\n",
    "\n",
    "> **Proactive Maintenance**: Scheduled tasks can be used for proactive maintenance and monitoring of your ArcGIS Online environment. You can schedule tasks to periodically check for system health, monitor usage patterns, or perform backup operations to ensure the stability and reliability of your organization's resources.\n",
    "\n",
    "> **Service Level Agreements (SLAs)**: If your organization has SLAs or specific service commitments, scheduled tasks can help ensure compliance by automating processes and tasks that need to be performed within certain timeframes."
   ]
  },
  {
   "cell_type": "markdown",
   "id": "a1c7a8c8",
   "metadata": {},
   "source": [
    "# Demo: Create a Task"
   ]
  },
  {
   "cell_type": "markdown",
   "id": "e8b726ce",
   "metadata": {
    "heading_collapsed": true
   },
   "source": [
    "#### Import"
   ]
  },
  {
   "cell_type": "code",
   "execution_count": null,
   "id": "265291c8",
   "metadata": {
    "hidden": true
   },
   "outputs": [],
   "source": [
    "import sys\n",
    "sys.path.insert(0, r\"C:\\SVN\\geosaurus_master\\src\")"
   ]
  },
  {
   "cell_type": "markdown",
   "id": "74bfd245",
   "metadata": {},
   "source": [
    "#### Establish a Connection"
   ]
  },
  {
   "cell_type": "code",
   "execution_count": null,
   "id": "5f144a07",
   "metadata": {},
   "outputs": [],
   "source": [
    "from arcgis.gis import GIS\n",
    "\n",
    "gis = GIS(profile=\"your_uc2023_profile\")"
   ]
  },
  {
   "cell_type": "markdown",
   "id": "0f0342a9",
   "metadata": {},
   "source": [
    "## Get Task Management Class"
   ]
  },
  {
   "cell_type": "code",
   "execution_count": null,
   "id": "5a24e74e",
   "metadata": {},
   "outputs": [],
   "source": [
    "# The task manager can be called from a property on the user object\n",
    "task_manager = gis.users.me.tasks\n",
    "task_manager"
   ]
  },
  {
   "cell_type": "markdown",
   "id": "17aa6e63",
   "metadata": {},
   "source": [
    "### See current tasks"
   ]
  },
  {
   "cell_type": "code",
   "execution_count": null,
   "id": "1d4b1c90",
   "metadata": {},
   "outputs": [],
   "source": [
    "# get all tasks\n",
    "tasks = task_manager.all\n",
    "\n",
    "# print out task names\n",
    "for task in tasks:\n",
    "    print(task.properties[\"title\"])"
   ]
  },
  {
   "cell_type": "markdown",
   "id": "9da47928",
   "metadata": {},
   "source": [
    "### Create a Task for a Notebook"
   ]
  },
  {
   "cell_type": "code",
   "execution_count": null,
   "id": "54df7037",
   "metadata": {},
   "outputs": [],
   "source": [
    "# Get a notebook\n",
    "notebook_item = gis.content.search(\n",
    "                \"User_Storage_Notebook\", item_type=\"Notebook\"\n",
    "            )[0]\n",
    "notebook_item"
   ]
  },
  {
   "cell_type": "code",
   "execution_count": null,
   "id": "a7ee5504",
   "metadata": {},
   "outputs": [],
   "source": [
    "# Create a task for the notebook\n",
    "task = task_manager.create(\n",
    "    title=\"Task_test\",\n",
    "    task_type=\"ExecuteNotebook\",\n",
    "    item=notebook_item,\n",
    "    cron=\"2 2 2 2 ?\",\n",
    ")"
   ]
  },
  {
   "cell_type": "code",
   "execution_count": null,
   "id": "9e51db49",
   "metadata": {},
   "outputs": [],
   "source": [
    "task"
   ]
  },
  {
   "cell_type": "code",
   "execution_count": null,
   "id": "a55d34df",
   "metadata": {},
   "outputs": [],
   "source": [
    "task.properties"
   ]
  },
  {
   "cell_type": "markdown",
   "id": "46d1ac42",
   "metadata": {},
   "source": [
    "## Update the Task"
   ]
  },
  {
   "cell_type": "code",
   "execution_count": null,
   "id": "8cbae81a",
   "metadata": {},
   "outputs": [],
   "source": [
    "task.update(title=\"My_UC2023_Task\", cron=\"4 4 4 4 ?\")"
   ]
  },
  {
   "cell_type": "code",
   "execution_count": null,
   "id": "18bcabb3",
   "metadata": {},
   "outputs": [],
   "source": [
    "print(task.properties[\"title\"])\n",
    "print(task.properties[\"cronSchedule\"])"
   ]
  },
  {
   "cell_type": "markdown",
   "id": "52bb733c",
   "metadata": {},
   "source": [
    "### Clean up"
   ]
  },
  {
   "cell_type": "code",
   "execution_count": null,
   "id": "4a09389f",
   "metadata": {},
   "outputs": [],
   "source": [
    "task.delete()"
   ]
  },
  {
   "cell_type": "markdown",
   "id": "73bd5272",
   "metadata": {},
   "source": [
    "# Look at the Doc!\n",
    "https://developers.arcgis.com/python/api-reference/arcgis.gis.tasks.html#taskmanager"
   ]
  }
 ],
 "metadata": {
  "kernelspec": {
   "display_name": "Python 3 (ipykernel)",
   "language": "python",
   "name": "python3"
  },
  "language_info": {
   "codemirror_mode": {
    "name": "ipython",
    "version": 3
   },
   "file_extension": ".py",
   "mimetype": "text/x-python",
   "name": "python",
   "nbconvert_exporter": "python",
   "pygments_lexer": "ipython3",
   "version": "3.9.16"
  }
 },
 "nbformat": 4,
 "nbformat_minor": 5
}
