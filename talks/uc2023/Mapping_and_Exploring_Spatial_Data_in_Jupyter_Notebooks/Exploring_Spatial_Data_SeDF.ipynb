{
 "cells": [
  {
   "cell_type": "markdown",
   "metadata": {},
   "source": [
    "## Spatial Exploration using the Spatially Enabled DataFrame"
   ]
  },
  {
   "cell_type": "markdown",
   "metadata": {},
   "source": [
    "#### Run this cell to connect to your GIS and get started:"
   ]
  },
  {
   "cell_type": "code",
   "execution_count": 1,
   "metadata": {},
   "outputs": [
    {
     "name": "stderr",
     "output_type": "stream",
     "text": [
      "/opt/conda/lib/python3.9/site-packages/arcgis/gis/__init__.py:597: UserWarning: You are logged on as MMajumdar_geosaurus with an administrator role, proceed with caution.\n",
      "  warnings.warn(\n"
     ]
    }
   ],
   "source": [
    "from arcgis.gis import GIS\n",
    "gis = GIS(\"home\")"
   ]
  },
  {
   "cell_type": "code",
   "execution_count": 2,
   "metadata": {},
   "outputs": [],
   "source": [
    "from arcgis.features import FeatureLayer\n",
    "import pandas as pd"
   ]
  },
  {
   "cell_type": "markdown",
   "metadata": {},
   "source": [
    "### Reading in data for libraries in Washington, DC from its FeatureLayer"
   ]
  },
  {
   "cell_type": "code",
   "execution_count": 3,
   "metadata": {},
   "outputs": [
    {
     "data": {
      "text/plain": [
       "(27, 22)"
      ]
     },
     "execution_count": 3,
     "metadata": {},
     "output_type": "execute_result"
    }
   ],
   "source": [
    "libraries_layer = FeatureLayer('https://maps2.dcgis.dc.gov/dcgis/rest/services/DCGIS_DATA/Cultural_and_Society_WebMercator/MapServer/4')\n",
    "libraries = pd.DataFrame.spatial.from_layer(libraries_layer)\n",
    "libraries.shape"
   ]
  },
  {
   "cell_type": "markdown",
   "metadata": {},
   "source": [
    "Accessing Pandas dataframe and Spatially enabled Dataframe"
   ]
  },
  {
   "cell_type": "code",
   "execution_count": 4,
   "metadata": {},
   "outputs": [
    {
     "data": {
      "text/plain": [
       "pandas.core.frame.DataFrame"
      ]
     },
     "execution_count": 4,
     "metadata": {},
     "output_type": "execute_result"
    }
   ],
   "source": [
    "type(libraries)"
   ]
  },
  {
   "cell_type": "code",
   "execution_count": 5,
   "metadata": {},
   "outputs": [
    {
     "data": {
      "text/plain": [
       "arcgis.features.geo._accessor.GeoAccessor"
      ]
     },
     "execution_count": 5,
     "metadata": {},
     "output_type": "execute_result"
    }
   ],
   "source": [
    "type(libraries.spatial)"
   ]
  },
  {
   "cell_type": "code",
   "execution_count": 6,
   "metadata": {},
   "outputs": [
    {
     "data": {
      "text/html": [
       "<div>\n",
       "<style scoped>\n",
       "    .dataframe tbody tr th:only-of-type {\n",
       "        vertical-align: middle;\n",
       "    }\n",
       "\n",
       "    .dataframe tbody tr th {\n",
       "        vertical-align: top;\n",
       "    }\n",
       "\n",
       "    .dataframe thead th {\n",
       "        text-align: right;\n",
       "    }\n",
       "</style>\n",
       "<table border=\"1\" class=\"dataframe\">\n",
       "  <thead>\n",
       "    <tr style=\"text-align: right;\">\n",
       "      <th></th>\n",
       "      <th>OBJECTID</th>\n",
       "      <th>GIS_ID</th>\n",
       "      <th>NAME</th>\n",
       "      <th>ADDRESS</th>\n",
       "      <th>PHONE</th>\n",
       "      <th>STATUS</th>\n",
       "      <th>SSL</th>\n",
       "      <th>WEB_URL</th>\n",
       "      <th>TYPE</th>\n",
       "      <th>LATITUDE</th>\n",
       "      <th>...</th>\n",
       "      <th>PSA</th>\n",
       "      <th>MAR_ID</th>\n",
       "      <th>XCOORD</th>\n",
       "      <th>YCOORD</th>\n",
       "      <th>GLOBALID</th>\n",
       "      <th>CREATOR</th>\n",
       "      <th>CREATED</th>\n",
       "      <th>EDITOR</th>\n",
       "      <th>EDITED</th>\n",
       "      <th>SHAPE</th>\n",
       "    </tr>\n",
       "  </thead>\n",
       "  <tbody>\n",
       "    <tr>\n",
       "      <th>0</th>\n",
       "      <td>641</td>\n",
       "      <td>LibraryPt_19</td>\n",
       "      <td>Parklands-Turner Neighborhood Library</td>\n",
       "      <td>1547 ALABAMA AVENUE SE</td>\n",
       "      <td>(202) 645-4532</td>\n",
       "      <td>Open</td>\n",
       "      <td>5912    0820</td>\n",
       "      <td>https://www.dclibrary.org/plan-visit/parklands...</td>\n",
       "      <td>Other Libraries</td>\n",
       "      <td>38.846187</td>\n",
       "      <td>...</td>\n",
       "      <td>Police Service Area 704</td>\n",
       "      <td>304504.0</td>\n",
       "      <td>401627.56</td>\n",
       "      <td>130931.77</td>\n",
       "      <td>{85BF25C3-9FBB-4EBC-9BD2-AF7A38C77AE5}</td>\n",
       "      <td>JLAY</td>\n",
       "      <td>2022-08-04 18:52:55</td>\n",
       "      <td>GHATCHARD</td>\n",
       "      <td>2023-06-16 14:14:49</td>\n",
       "      <td>{\"x\": -8569513.950526088, \"y\": 4699664.1117256...</td>\n",
       "    </tr>\n",
       "    <tr>\n",
       "      <th>1</th>\n",
       "      <td>642</td>\n",
       "      <td>LibraryPt_20</td>\n",
       "      <td>Bellevue / William O. Lockridge Neighborhood L...</td>\n",
       "      <td>115 ATLANTIC STREET SW</td>\n",
       "      <td>(202) 243-1184</td>\n",
       "      <td>Open</td>\n",
       "      <td>6172W   0813</td>\n",
       "      <td>https://www.dclibrary.org/plan-visit/bellevue-...</td>\n",
       "      <td>Other Libraries</td>\n",
       "      <td>38.831251</td>\n",
       "      <td>...</td>\n",
       "      <td>Police Service Area 708</td>\n",
       "      <td>302935.0</td>\n",
       "      <td>399182.19</td>\n",
       "      <td>129273.71</td>\n",
       "      <td>{08B0449E-D8CC-4223-B621-E46BBE2377D0}</td>\n",
       "      <td>JLAY</td>\n",
       "      <td>2022-08-04 18:52:55</td>\n",
       "      <td>GHATCHARD</td>\n",
       "      <td>2023-06-16 14:14:49</td>\n",
       "      <td>{\"x\": -8572642.377416227, \"y\": 4697540.9534466...</td>\n",
       "    </tr>\n",
       "    <tr>\n",
       "      <th>2</th>\n",
       "      <td>643</td>\n",
       "      <td>LibraryPt_21</td>\n",
       "      <td>West End Neighborhood Library</td>\n",
       "      <td>2301 L STREET NW</td>\n",
       "      <td>(202) 724-8707</td>\n",
       "      <td>Open</td>\n",
       "      <td>0037    0836</td>\n",
       "      <td>https://www.dclibrary.org/plan-visit/west-end-...</td>\n",
       "      <td>Other Libraries</td>\n",
       "      <td>38.903966</td>\n",
       "      <td>...</td>\n",
       "      <td>Police Service Area 207</td>\n",
       "      <td>242337.0</td>\n",
       "      <td>395608.43</td>\n",
       "      <td>137346.76</td>\n",
       "      <td>{F9AEFAC8-9122-4A43-A2CA-6D91A2454062}</td>\n",
       "      <td>JLAY</td>\n",
       "      <td>2022-08-04 18:52:55</td>\n",
       "      <td>GHATCHARD</td>\n",
       "      <td>2023-06-16 14:14:49</td>\n",
       "      <td>{\"x\": -8577218.930757513, \"y\": 4707923.5774202...</td>\n",
       "    </tr>\n",
       "    <tr>\n",
       "      <th>3</th>\n",
       "      <td>644</td>\n",
       "      <td>LibraryPt_22</td>\n",
       "      <td>Woodridge Neighborhood Library</td>\n",
       "      <td>1801 HAMLIN STREET NE</td>\n",
       "      <td>(202) 541-6226</td>\n",
       "      <td>Open</td>\n",
       "      <td>4210    0825</td>\n",
       "      <td>https://www.dclibrary.org/plan-visit/woodridge...</td>\n",
       "      <td>Other Libraries</td>\n",
       "      <td>38.927414</td>\n",
       "      <td>...</td>\n",
       "      <td>Police Service Area 505</td>\n",
       "      <td>286483.0</td>\n",
       "      <td>401852.53</td>\n",
       "      <td>139948.67</td>\n",
       "      <td>{9C0FC0DB-F083-459D-A65B-97D78309B437}</td>\n",
       "      <td>JLAY</td>\n",
       "      <td>2022-08-04 18:52:55</td>\n",
       "      <td>GHATCHARD</td>\n",
       "      <td>2023-06-16 14:14:49</td>\n",
       "      <td>{\"x\": -8569221.662316144, \"y\": 4711284.4702185...</td>\n",
       "    </tr>\n",
       "    <tr>\n",
       "      <th>4</th>\n",
       "      <td>645</td>\n",
       "      <td>LibraryPt_23</td>\n",
       "      <td>Northwest One Neighborhood Library</td>\n",
       "      <td>155 L STREET NW</td>\n",
       "      <td>(202) 939-5946</td>\n",
       "      <td>Open</td>\n",
       "      <td>0557    0171</td>\n",
       "      <td>https://www.dclibrary.org/plan-visit/northwest...</td>\n",
       "      <td>Other Libraries</td>\n",
       "      <td>38.904003</td>\n",
       "      <td>...</td>\n",
       "      <td>Police Service Area 102</td>\n",
       "      <td>307736.0</td>\n",
       "      <td>398818.89</td>\n",
       "      <td>137349.69</td>\n",
       "      <td>{CF837960-7A6A-48E6-ABC9-B803AAFF0811}</td>\n",
       "      <td>JLAY</td>\n",
       "      <td>2022-08-04 18:52:55</td>\n",
       "      <td>GHATCHARD</td>\n",
       "      <td>2023-06-16 14:14:49</td>\n",
       "      <td>{\"x\": -8573117.129785148, \"y\": 4707931.1210097...</td>\n",
       "    </tr>\n",
       "  </tbody>\n",
       "</table>\n",
       "<p>5 rows × 22 columns</p>\n",
       "</div>"
      ],
      "text/plain": [
       "   OBJECTID        GIS_ID                                               NAME  \\\n",
       "0       641  LibraryPt_19              Parklands-Turner Neighborhood Library   \n",
       "1       642  LibraryPt_20  Bellevue / William O. Lockridge Neighborhood L...   \n",
       "2       643  LibraryPt_21                      West End Neighborhood Library   \n",
       "3       644  LibraryPt_22                     Woodridge Neighborhood Library   \n",
       "4       645  LibraryPt_23                 Northwest One Neighborhood Library   \n",
       "\n",
       "                  ADDRESS           PHONE STATUS           SSL  \\\n",
       "0  1547 ALABAMA AVENUE SE  (202) 645-4532   Open  5912    0820   \n",
       "1  115 ATLANTIC STREET SW  (202) 243-1184   Open  6172W   0813   \n",
       "2        2301 L STREET NW  (202) 724-8707   Open  0037    0836   \n",
       "3   1801 HAMLIN STREET NE  (202) 541-6226   Open  4210    0825   \n",
       "4         155 L STREET NW  (202) 939-5946   Open  0557    0171   \n",
       "\n",
       "                                             WEB_URL             TYPE  \\\n",
       "0  https://www.dclibrary.org/plan-visit/parklands...  Other Libraries   \n",
       "1  https://www.dclibrary.org/plan-visit/bellevue-...  Other Libraries   \n",
       "2  https://www.dclibrary.org/plan-visit/west-end-...  Other Libraries   \n",
       "3  https://www.dclibrary.org/plan-visit/woodridge...  Other Libraries   \n",
       "4  https://www.dclibrary.org/plan-visit/northwest...  Other Libraries   \n",
       "\n",
       "    LATITUDE  ...                      PSA    MAR_ID     XCOORD     YCOORD  \\\n",
       "0  38.846187  ...  Police Service Area 704  304504.0  401627.56  130931.77   \n",
       "1  38.831251  ...  Police Service Area 708  302935.0  399182.19  129273.71   \n",
       "2  38.903966  ...  Police Service Area 207  242337.0  395608.43  137346.76   \n",
       "3  38.927414  ...  Police Service Area 505  286483.0  401852.53  139948.67   \n",
       "4  38.904003  ...  Police Service Area 102  307736.0  398818.89  137349.69   \n",
       "\n",
       "                                 GLOBALID  CREATOR             CREATED  \\\n",
       "0  {85BF25C3-9FBB-4EBC-9BD2-AF7A38C77AE5}     JLAY 2022-08-04 18:52:55   \n",
       "1  {08B0449E-D8CC-4223-B621-E46BBE2377D0}     JLAY 2022-08-04 18:52:55   \n",
       "2  {F9AEFAC8-9122-4A43-A2CA-6D91A2454062}     JLAY 2022-08-04 18:52:55   \n",
       "3  {9C0FC0DB-F083-459D-A65B-97D78309B437}     JLAY 2022-08-04 18:52:55   \n",
       "4  {CF837960-7A6A-48E6-ABC9-B803AAFF0811}     JLAY 2022-08-04 18:52:55   \n",
       "\n",
       "      EDITOR              EDITED  \\\n",
       "0  GHATCHARD 2023-06-16 14:14:49   \n",
       "1  GHATCHARD 2023-06-16 14:14:49   \n",
       "2  GHATCHARD 2023-06-16 14:14:49   \n",
       "3  GHATCHARD 2023-06-16 14:14:49   \n",
       "4  GHATCHARD 2023-06-16 14:14:49   \n",
       "\n",
       "                                               SHAPE  \n",
       "0  {\"x\": -8569513.950526088, \"y\": 4699664.1117256...  \n",
       "1  {\"x\": -8572642.377416227, \"y\": 4697540.9534466...  \n",
       "2  {\"x\": -8577218.930757513, \"y\": 4707923.5774202...  \n",
       "3  {\"x\": -8569221.662316144, \"y\": 4711284.4702185...  \n",
       "4  {\"x\": -8573117.129785148, \"y\": 4707931.1210097...  \n",
       "\n",
       "[5 rows x 22 columns]"
      ]
     },
     "execution_count": 6,
     "metadata": {},
     "output_type": "execute_result"
    }
   ],
   "source": [
    "libraries.head()"
   ]
  },
  {
   "cell_type": "markdown",
   "metadata": {},
   "source": [
    "### Plotting on a map"
   ]
  },
  {
   "cell_type": "code",
   "execution_count": 7,
   "metadata": {},
   "outputs": [
    {
     "data": {
      "application/vnd.jupyter.widget-view+json": {
       "model_id": "aecb7136295d4f4da7e0e30291460ca1",
       "version_major": 2,
       "version_minor": 0
      },
      "text/plain": [
       "MapView(layout=Layout(height='400px', width='100%'))"
      ]
     },
     "metadata": {},
     "output_type": "display_data"
    },
    {
     "data": {
      "text/html": [
       "<div class=\"map-static-img-preview-e0a13a9b-aef5-49dc-a115-84b13f7b2891\"><img src=\"\"></img></div>"
      ],
      "text/plain": [
       "<IPython.core.display.HTML object>"
      ]
     },
     "metadata": {},
     "output_type": "display_data"
    },
    {
     "data": {
      "text/html": [
       "<div class=\"map-html-embed-preview-e0a13a9b-aef5-49dc-a115-84b13f7b2891\"></div>"
      ],
      "text/plain": [
       "<IPython.core.display.HTML object>"
      ]
     },
     "metadata": {},
     "output_type": "display_data"
    }
   ],
   "source": [
    "map1 = gis.map(\"Washington, DC, USA\")\n",
    "map1"
   ]
  },
  {
   "attachments": {},
   "cell_type": "markdown",
   "metadata": {},
   "source": [
    "![image](https://github.com/ManushiM/Esri_Tutorials/assets/13968196/4af7c9e8-e083-454d-a3a9-8d77ff51ad15)"
   ]
  },
  {
   "cell_type": "code",
   "execution_count": 8,
   "metadata": {},
   "outputs": [
    {
     "data": {
      "text/plain": [
       "True"
      ]
     },
     "execution_count": 8,
     "metadata": {},
     "output_type": "execute_result"
    }
   ],
   "source": [
    "libraries.spatial.plot(\n",
    "    map_widget=map1, # target our map widget\n",
    "    renderer_type=\"s\", # stands for simple renderer\n",
    ")"
   ]
  },
  {
   "cell_type": "markdown",
   "metadata": {},
   "source": [
    "### Exploring this dataset spatially\n",
    "\n",
    "We know how a Pandas dataframe lets you access properties such as `shape`(dimensionality), `values` (Numpy representation), `columns` (column labels) of a Pandas dataframe.\n",
    "\n",
    "But with a __Spatially Enabled Dataframe__, you have access to all of those properties and the more spatially inclined ones. Let's take a look at a few.\n",
    "\n",
    "\n",
    "#### Centroid\n",
    "\n",
    "A centroid is the geometric center of a figure. It can be thought of as the arithmetic mean of all the points in the surface of the figure."
   ]
  },
  {
   "cell_type": "code",
   "execution_count": 9,
   "metadata": {},
   "outputs": [
    {
     "data": {
      "text/plain": [
       "(-8572727.80446831, 4708664.253107596)"
      ]
     },
     "execution_count": 9,
     "metadata": {},
     "output_type": "execute_result"
    }
   ],
   "source": [
    "libraries.spatial.centroid"
   ]
  },
  {
   "cell_type": "markdown",
   "metadata": {},
   "source": [
    "#### sr\n",
    "\n",
    "Returns the spatial reference of the dataframe"
   ]
  },
  {
   "cell_type": "code",
   "execution_count": 10,
   "metadata": {},
   "outputs": [
    {
     "data": {
      "text/plain": [
       "{'wkid': 102100, 'latestWkid': 3857}"
      ]
     },
     "execution_count": 10,
     "metadata": {},
     "output_type": "execute_result"
    }
   ],
   "source": [
    "libraries.spatial.sr"
   ]
  },
  {
   "cell_type": "markdown",
   "metadata": {},
   "source": [
    "### Data for neighborhoods in DC"
   ]
  },
  {
   "cell_type": "code",
   "execution_count": 11,
   "metadata": {},
   "outputs": [
    {
     "data": {
      "text/plain": [
       "(46, 13)"
      ]
     },
     "execution_count": 11,
     "metadata": {},
     "output_type": "execute_result"
    }
   ],
   "source": [
    "neighborhoods_layer = FeatureLayer('https://maps2.dcgis.dc.gov/dcgis/rest/services/DCGIS_DATA/Administrative_Other_Boundaries_WebMercator/MapServer/17')\n",
    "neighborhoods = pd.DataFrame.spatial.from_layer(neighborhoods_layer)\n",
    "neighborhoods.shape"
   ]
  },
  {
   "cell_type": "code",
   "execution_count": 12,
   "metadata": {},
   "outputs": [
    {
     "data": {
      "text/html": [
       "<div>\n",
       "<style scoped>\n",
       "    .dataframe tbody tr th:only-of-type {\n",
       "        vertical-align: middle;\n",
       "    }\n",
       "\n",
       "    .dataframe tbody tr th {\n",
       "        vertical-align: top;\n",
       "    }\n",
       "\n",
       "    .dataframe thead th {\n",
       "        text-align: right;\n",
       "    }\n",
       "</style>\n",
       "<table border=\"1\" class=\"dataframe\">\n",
       "  <thead>\n",
       "    <tr style=\"text-align: right;\">\n",
       "      <th></th>\n",
       "      <th>OBJECTID</th>\n",
       "      <th>WEB_URL</th>\n",
       "      <th>NAME</th>\n",
       "      <th>NBH_NAMES</th>\n",
       "      <th>TYPE</th>\n",
       "      <th>GLOBALID</th>\n",
       "      <th>CREATOR</th>\n",
       "      <th>CREATED</th>\n",
       "      <th>EDITOR</th>\n",
       "      <th>EDITED</th>\n",
       "      <th>SHAPE.AREA</th>\n",
       "      <th>SHAPE.LEN</th>\n",
       "      <th>SHAPE</th>\n",
       "    </tr>\n",
       "  </thead>\n",
       "  <tbody>\n",
       "    <tr>\n",
       "      <th>0</th>\n",
       "      <td>1</td>\n",
       "      <td>http://planning.dc.gov/</td>\n",
       "      <td>Cluster 16</td>\n",
       "      <td>Colonial Village, Shepherd Park, North Portal ...</td>\n",
       "      <td>Original</td>\n",
       "      <td>{8D235E97-D58C-4891-943E-307143103BD9}</td>\n",
       "      <td>None</td>\n",
       "      <td>NaT</td>\n",
       "      <td>None</td>\n",
       "      <td>NaT</td>\n",
       "      <td>0.0</td>\n",
       "      <td>0.0</td>\n",
       "      <td>{\"rings\": [[[-8574749.706027592, 4719677.35010...</td>\n",
       "    </tr>\n",
       "    <tr>\n",
       "      <th>1</th>\n",
       "      <td>2</td>\n",
       "      <td>None</td>\n",
       "      <td>Cluster 41</td>\n",
       "      <td>Rock Creek Park</td>\n",
       "      <td>Additional</td>\n",
       "      <td>{939C23A8-8EE2-4B4F-85EE-88281BCCC9A0}</td>\n",
       "      <td>None</td>\n",
       "      <td>NaT</td>\n",
       "      <td>None</td>\n",
       "      <td>NaT</td>\n",
       "      <td>0.0</td>\n",
       "      <td>0.0</td>\n",
       "      <td>{\"rings\": [[[-8576489.194073, 4719425.79052275...</td>\n",
       "    </tr>\n",
       "    <tr>\n",
       "      <th>2</th>\n",
       "      <td>3</td>\n",
       "      <td>http://planning.dc.gov/</td>\n",
       "      <td>Cluster 10</td>\n",
       "      <td>Hawthorne, Barnaby Woods, Chevy Chase</td>\n",
       "      <td>Original</td>\n",
       "      <td>{8EADC8B8-3DAD-4E5D-AAF8-BF63D8316317}</td>\n",
       "      <td>None</td>\n",
       "      <td>NaT</td>\n",
       "      <td>None</td>\n",
       "      <td>NaT</td>\n",
       "      <td>0.0</td>\n",
       "      <td>0.0</td>\n",
       "      <td>{\"rings\": [[[-8577756.329388095, 4715800.98615...</td>\n",
       "    </tr>\n",
       "    <tr>\n",
       "      <th>3</th>\n",
       "      <td>4</td>\n",
       "      <td>http://planning.dc.gov/</td>\n",
       "      <td>Cluster 17</td>\n",
       "      <td>Takoma, Brightwood, Manor Park</td>\n",
       "      <td>Original</td>\n",
       "      <td>{5BF4BCEC-5022-4B96-9577-C0246154197C}</td>\n",
       "      <td>None</td>\n",
       "      <td>NaT</td>\n",
       "      <td>None</td>\n",
       "      <td>NaT</td>\n",
       "      <td>0.0</td>\n",
       "      <td>0.0</td>\n",
       "      <td>{\"rings\": [[[-8573179.697755544, 4717715.30026...</td>\n",
       "    </tr>\n",
       "    <tr>\n",
       "      <th>4</th>\n",
       "      <td>5</td>\n",
       "      <td>None</td>\n",
       "      <td>Cluster 40</td>\n",
       "      <td>Walter Reed</td>\n",
       "      <td>Additional</td>\n",
       "      <td>{C6705A7B-212E-419A-93CB-DA60707D0C37}</td>\n",
       "      <td>None</td>\n",
       "      <td>NaT</td>\n",
       "      <td>None</td>\n",
       "      <td>NaT</td>\n",
       "      <td>0.0</td>\n",
       "      <td>0.0</td>\n",
       "      <td>{\"rings\": [[[-8575258.392574232, 4718520.22738...</td>\n",
       "    </tr>\n",
       "  </tbody>\n",
       "</table>\n",
       "</div>"
      ],
      "text/plain": [
       "   OBJECTID                  WEB_URL        NAME  \\\n",
       "0         1  http://planning.dc.gov/  Cluster 16   \n",
       "1         2                     None  Cluster 41   \n",
       "2         3  http://planning.dc.gov/  Cluster 10   \n",
       "3         4  http://planning.dc.gov/  Cluster 17   \n",
       "4         5                     None  Cluster 40   \n",
       "\n",
       "                                           NBH_NAMES        TYPE  \\\n",
       "0  Colonial Village, Shepherd Park, North Portal ...    Original   \n",
       "1                                    Rock Creek Park  Additional   \n",
       "2              Hawthorne, Barnaby Woods, Chevy Chase    Original   \n",
       "3                     Takoma, Brightwood, Manor Park    Original   \n",
       "4                                        Walter Reed  Additional   \n",
       "\n",
       "                                 GLOBALID CREATOR CREATED EDITOR EDITED  \\\n",
       "0  {8D235E97-D58C-4891-943E-307143103BD9}    None     NaT   None    NaT   \n",
       "1  {939C23A8-8EE2-4B4F-85EE-88281BCCC9A0}    None     NaT   None    NaT   \n",
       "2  {8EADC8B8-3DAD-4E5D-AAF8-BF63D8316317}    None     NaT   None    NaT   \n",
       "3  {5BF4BCEC-5022-4B96-9577-C0246154197C}    None     NaT   None    NaT   \n",
       "4  {C6705A7B-212E-419A-93CB-DA60707D0C37}    None     NaT   None    NaT   \n",
       "\n",
       "   SHAPE.AREA  SHAPE.LEN                                              SHAPE  \n",
       "0         0.0        0.0  {\"rings\": [[[-8574749.706027592, 4719677.35010...  \n",
       "1         0.0        0.0  {\"rings\": [[[-8576489.194073, 4719425.79052275...  \n",
       "2         0.0        0.0  {\"rings\": [[[-8577756.329388095, 4715800.98615...  \n",
       "3         0.0        0.0  {\"rings\": [[[-8573179.697755544, 4717715.30026...  \n",
       "4         0.0        0.0  {\"rings\": [[[-8575258.392574232, 4718520.22738...  "
      ]
     },
     "execution_count": 12,
     "metadata": {},
     "output_type": "execute_result"
    }
   ],
   "source": [
    "neighborhoods.head()"
   ]
  },
  {
   "cell_type": "markdown",
   "metadata": {},
   "source": [
    "Now we will spatially explore this dataframe with different spatial properties.\n",
    "\n",
    "#### area\n",
    "\n",
    "Returns the total area of the dataframe."
   ]
  },
  {
   "cell_type": "code",
   "execution_count": 13,
   "metadata": {},
   "outputs": [
    {
     "data": {
      "text/plain": [
       "293472467.715986"
      ]
     },
     "execution_count": 13,
     "metadata": {},
     "output_type": "execute_result"
    }
   ],
   "source": [
    "neighborhoods.spatial.area"
   ]
  },
  {
   "cell_type": "markdown",
   "metadata": {},
   "source": [
    "#### length\n",
    "\n",
    "Fetches the total length of the dataframe"
   ]
  },
  {
   "cell_type": "code",
   "execution_count": 14,
   "metadata": {},
   "outputs": [
    {
     "data": {
      "text/plain": [
       "618606.717657918"
      ]
     },
     "execution_count": 14,
     "metadata": {},
     "output_type": "execute_result"
    }
   ],
   "source": [
    "neighborhoods.spatial.length"
   ]
  },
  {
   "cell_type": "markdown",
   "metadata": {},
   "source": [
    "#### geometry type\n",
    "\n",
    "Retrieves a list of Geometry Types for the DataFrame"
   ]
  },
  {
   "cell_type": "code",
   "execution_count": 15,
   "metadata": {},
   "outputs": [
    {
     "data": {
      "text/plain": [
       "['polygon']"
      ]
     },
     "execution_count": 15,
     "metadata": {},
     "output_type": "execute_result"
    }
   ],
   "source": [
    "neighborhoods.spatial.geometry_type"
   ]
  },
  {
   "cell_type": "markdown",
   "metadata": {},
   "source": [
    "### Spatially joining the two dataframes"
   ]
  },
  {
   "cell_type": "code",
   "execution_count": 16,
   "metadata": {},
   "outputs": [
    {
     "data": {
      "text/plain": [
       "(27, 35)"
      ]
     },
     "execution_count": 16,
     "metadata": {},
     "output_type": "execute_result"
    }
   ],
   "source": [
    "joined = libraries.spatial.join(neighborhoods, how='left', op='within')\n",
    "joined.shape"
   ]
  },
  {
   "cell_type": "code",
   "execution_count": 27,
   "metadata": {
    "scrolled": false
   },
   "outputs": [
    {
     "data": {
      "application/vnd.jupyter.widget-view+json": {
       "model_id": "937315fb978d443c8fe926091f3a6e44",
       "version_major": 2,
       "version_minor": 0
      },
      "text/plain": [
       "MapView(layout=Layout(height='400px', width='100%'))"
      ]
     },
     "metadata": {},
     "output_type": "display_data"
    },
    {
     "data": {
      "text/html": [
       "<div class=\"map-static-img-preview-a0d77619-6d29-4ec1-8cae-c15eb3a04b72\"><img src=\"\"></img></div>"
      ],
      "text/plain": [
       "<IPython.core.display.HTML object>"
      ]
     },
     "metadata": {},
     "output_type": "display_data"
    },
    {
     "data": {
      "text/html": [
       "<div class=\"map-html-embed-preview-a0d77619-6d29-4ec1-8cae-c15eb3a04b72\"></div>"
      ],
      "text/plain": [
       "<IPython.core.display.HTML object>"
      ]
     },
     "metadata": {},
     "output_type": "display_data"
    }
   ],
   "source": [
    "map2 = gis.map(\"Washington, DC, USA\")\n",
    "map2.add_layer(neighborhoods_layer)\n",
    "map2"
   ]
  },
  {
   "cell_type": "markdown",
   "metadata": {},
   "source": [
    "![image](https://github.com/ManushiM/Esri_Tutorials/assets/13968196/ab61f366-6f62-4e8c-8bc2-da189f8c09c1)"
   ]
  },
  {
   "cell_type": "code",
   "execution_count": 28,
   "metadata": {},
   "outputs": [
    {
     "data": {
      "text/plain": [
       "True"
      ]
     },
     "execution_count": 28,
     "metadata": {},
     "output_type": "execute_result"
    }
   ],
   "source": [
    "joined.spatial.plot(\n",
    "    map_widget=map2, # target our map widget\n",
    "    renderer_type=\"s\", # stands for simple renderer\n",
    ")"
   ]
  },
  {
   "cell_type": "markdown",
   "metadata": {},
   "source": [
    "Similarly you can also perform spatial queries on the SeDFs."
   ]
  },
  {
   "cell_type": "markdown",
   "metadata": {},
   "source": [
    "### GeoSeriesAccessor - The geom column\n",
    "\n"
   ]
  },
  {
   "cell_type": "code",
   "execution_count": 19,
   "metadata": {},
   "outputs": [
    {
     "data": {
      "text/plain": [
       "<arcgis.features.geo._accessor.GeoSeriesAccessor at 0x7f05e2762b80>"
      ]
     },
     "execution_count": 19,
     "metadata": {},
     "output_type": "execute_result"
    }
   ],
   "source": [
    "libraries['SHAPE'].geom"
   ]
  },
  {
   "cell_type": "markdown",
   "metadata": {},
   "source": [
    "#### extent\n",
    "\n",
    "Returns the extent, or a tuple (xmin,ymin,xmax,ymax) in series"
   ]
  },
  {
   "cell_type": "code",
   "execution_count": 20,
   "metadata": {},
   "outputs": [
    {
     "data": {
      "text/plain": [
       "0     (-8569513.950526088, 4699664.111725627, -85695...\n",
       "1     (-8572642.377416227, 4697540.953446666, -85726...\n",
       "2     (-8577218.930757513, 4707923.577420201, -85772...\n",
       "3     (-8569221.662316144, 4711284.470218504, -85692...\n",
       "4     (-8573117.129785148, 4707931.121009731, -85731...\n",
       "5     (-8569212.376787322, 4702494.510102145, -85692...\n",
       "6     (-8569278.81537265, 4707045.741758872, -856927...\n",
       "7     (-8578948.947338741, 4709280.4573537465, -8578...\n",
       "8     (-8574510.651365466, 4713396.69696414, -857451...\n",
       "9     (-8575736.054694237, 4711717.536534111, -85757...\n",
       "10    (-8574073.728293749, 4709140.747382667, -85740...\n",
       "11    (-8564048.403827427, 4708567.350232454, -85640...\n",
       "12    (-8565790.13226989, 4706519.927823471, -856579...\n",
       "13    (-8563761.612674689, 4705778.830190122, -85637...\n",
       "14    (-8579997.80679536, 4716742.91028868, -8579997...\n",
       "15    (-8578045.220884454, 4712191.352309784, -85780...\n",
       "16    (-8566502.394361416, 4702335.079269421, -85665...\n",
       "17    (-8574358.012953645, 4707171.460270113, -85743...\n",
       "18    (-8571195.72851405, 4706558.597022306, -857119...\n",
       "19    (-8580500.854531985, 4714170.598788565, -85805...\n",
       "20    (-8582418.479997177, 4709988.265980804, -85824...\n",
       "21    (-8571213.146432996, 4705082.306221108, -85712...\n",
       "22    (-8573363.430246172, 4704312.024764421, -85733...\n",
       "23    (-8574610.617878674, 4718848.441611253, -85746...\n",
       "24    (-8573844.897368997, 4718011.586212848, -85738...\n",
       "25    (-8571553.799912963, 4715247.335163912, -85715...\n",
       "26    (-8568971.557341224, 4704988.84383943, -856897...\n",
       "Name: extent, dtype: object"
      ]
     },
     "execution_count": 20,
     "metadata": {},
     "output_type": "execute_result"
    }
   ],
   "source": [
    "libraries['SHAPE'].geom.extent"
   ]
  },
  {
   "cell_type": "markdown",
   "metadata": {},
   "source": [
    "#### area\n",
    "\n",
    "Returns the area for each row/feature in the spatial dataframe"
   ]
  },
  {
   "cell_type": "code",
   "execution_count": 21,
   "metadata": {},
   "outputs": [
    {
     "data": {
      "text/plain": [
       "0      3722186.553958\n",
       "1     10913985.853358\n",
       "2      8190707.961953\n",
       "3      7421173.267664\n",
       "4       795264.150984\n",
       "5       5971192.55546\n",
       "6      6936640.150489\n",
       "7     10757861.337008\n",
       "8      5328568.478167\n",
       "9      3149424.899354\n",
       "10     1849049.855808\n",
       "11     2568904.642946\n",
       "12     3909790.667124\n",
       "13     8065452.025785\n",
       "14     6585870.974848\n",
       "15    15030362.658462\n",
       "16     9979527.601378\n",
       "17     4869554.777211\n",
       "18     6592880.145552\n",
       "19     6147430.714517\n",
       "20     7966191.309845\n",
       "21     5627136.797539\n",
       "22    34980854.751531\n",
       "23     3077501.526338\n",
       "24     3134266.423764\n",
       "25      516339.640179\n",
       "26       3781599.8143\n",
       "27     9971668.506912\n",
       "28     5593236.752356\n",
       "29     2641564.735192\n",
       "30     5815794.359538\n",
       "31     2421228.545842\n",
       "32     5507861.304534\n",
       "33     4175243.765213\n",
       "34       2246692.6484\n",
       "35     6861986.948377\n",
       "36     4857367.336938\n",
       "37     7084694.070309\n",
       "38     5731846.250279\n",
       "39     7443960.523782\n",
       "40     5812557.566787\n",
       "41     8140406.135077\n",
       "42      2675677.16338\n",
       "43     3390221.235247\n",
       "44     2211925.615661\n",
       "45    13018814.716645\n",
       "Name: area, dtype: object"
      ]
     },
     "execution_count": 21,
     "metadata": {},
     "output_type": "execute_result"
    }
   ],
   "source": [
    "neighborhoods['SHAPE'].geom.area"
   ]
  },
  {
   "cell_type": "markdown",
   "metadata": {},
   "source": [
    "### WKB\n",
    "\n",
    "WKB stands for Well-Known Binary, a format for representing geographical and geometrical data. It is used to transfer and store the same information on databases, e.g., PostGIS."
   ]
  },
  {
   "cell_type": "code",
   "execution_count": 22,
   "metadata": {},
   "outputs": [
    {
     "data": {
      "text/plain": [
       "0     b'\\x01\\x01\\x00\\x00\\x00\\xb0\\xb5j>UX`\\xc1?\\x83&\\...\n",
       "1     b'\\x01\\x01\\x00\\x00\\x002\\xcb\\x13L\\xdcY`\\xc1*E\\x...\n",
       "2     b'\\x01\\x01\\x00\\x00\\x00\\xfb\\xc3\\xc8]\\x18\\\\`\\xc1...\n",
       "3     b'\\x01\\x01\\x00\\x00\\x00\\xa0\\xb11\\xb50X`\\xc1Z\\x0...\n",
       "4     b\"\\x01\\x01\\x00\\x00\\x00/3'\\xa4\\x17Z`\\xc1\\x99\\x9...\n",
       "5     b'\\x01\\x01\\x00\\x00\\x00I\\xa4\\x0e\\x8c/X`\\xc1x\\x8...\n",
       "6     b'\\x01\\x01\\x00\\x00\\x00b\\x88\\x17\\xda7X`\\xc14\\xf...\n",
       "7     b'\\x01\\x01\\x00\\x00\\x00V\\x99P\\x9e\\xf0\\\\`\\xc1\\xa...\n",
       "8     b'\\x01\\x01\\x00\\x00\\x00d\\xfc\\xd7\\xd4\\xc5Z`\\xc1{...\n",
       "9     b'\\x01\\x01\\x00\\x00\\x00!\\x0e\\xc0\\x01_[`\\xc1+\\x9...\n",
       "10    b'\\x01\\x01\\x00\\x00\\x00\\xb1.N7\\x8fZ`\\xc1\\x1c\\x1...\n",
       "11    b\"\\x01\\x01\\x00\\x00\\x00\\x7f'\\xec\\x0c\\xaaU`\\xc1b...\n",
       "12    b'\\x01\\x01\\x00\\x00\\x00\\x10\\x8e;\\xc4\\x83V`\\xc1\\...\n",
       "13    b'\\x01\\x01\\x00\\x00\\x00\\xf3\\x07\\x9b3\\x86U`\\xc1\\...\n",
       "14    b'\\x01\\x01\\x00\\x00\\x00\\x81D\\xd1\\xb9s]`\\xc1t+B\\...\n",
       "15    b'\\x01\\x01\\x00\\x00\\x00F|\\x11\\xa7\\x7f\\\\`\\xc1V>\\...\n",
       "16    b'\\x01\\x01\\x00\\x00\\x00\\xd5\\x9b\\x9e\\xcc\\xdcV`\\x...\n",
       "17    b'\\x01\\x01\\x00\\x00\\x00\\xc3\\x1dj\\xc0\\xb2Z`\\xc1\\...\n",
       "18    b\"\\x01\\x01\\x00\\x00\\x00\\xb2\\xfcOw'Y`\\xc1\\x0c\\x9...\n",
       "19    b'\\x01\\x01\\x00\\x00\\x00vSX\\x9b\\xb2]`\\xc1F\\x8dR\\...\n",
       "20    b'\\x01\\x01\\x00\\x00\\x00\\n#\\\\O\\xa2^`\\xc1Z\\xd4\\x0...\n",
       "21    b'\\x01\\x01\\x00\\x00\\x00@\\x94\\xaf\\xa4)Y`\\xc1k \\x...\n",
       "22    b'\\x01\\x01\\x00\\x00\\x00\\x9f\\x93\\xc4m6Z`\\xc1\\x83...\n",
       "23    b'\\x01\\x01\\x00\\x00\\x00\\x7f\\xa9\\xc5S\\xd2Z`\\xc1\\...\n",
       "24    b'\\x01\\x01\\x00\\x00\\x000?\\xb7\\x9crZ`\\xc1\\xe5\\x8...\n",
       "25    b'\\x01\\x01\\x00\\x00\\x00\\x12\\xe3\\x989TY`\\xc1VSs\\...\n",
       "26    b'\\x01\\x01\\x00\\x00\\x00C\\xbd\\xd5q\\x11X`\\xc1\\x19...\n",
       "Name: WKB, dtype: object"
      ]
     },
     "execution_count": 22,
     "metadata": {},
     "output_type": "execute_result"
    }
   ],
   "source": [
    "libraries['SHAPE'].geom.WKB"
   ]
  },
  {
   "cell_type": "code",
   "execution_count": 23,
   "metadata": {},
   "outputs": [
    {
     "data": {
      "text/plain": [
       "OBJECTID                                                   650\n",
       "GIS_ID                                            LibraryPt_31\n",
       "NAME                         Mt. Pleasant Neighborhood Library\n",
       "ADDRESS                                    3160 16TH STREET NW\n",
       "PHONE             (202) 671-3122\\n202-671-3121\\n(202) 671-3121\n",
       "STATUS                                                    Open\n",
       "SSL                                               2595    0830\n",
       "WEB_URL      https://www.dclibrary.org/plan-visit/mt-pleasa...\n",
       "TYPE                                           Other Libraries\n",
       "LATITUDE                                             38.930468\n",
       "LONGITUDE                                           -77.037145\n",
       "WARD                                                    Ward 1\n",
       "PSA                                    Police Service Area 302\n",
       "MAR_ID                                                295138.0\n",
       "XCOORD                                               396779.31\n",
       "YCOORD                                               140288.09\n",
       "GLOBALID                {0CA4E7C3-EA8A-48BC-8FB4-BC0A5273D916}\n",
       "CREATOR                                                   JLAY\n",
       "CREATED                                    2022-08-04 18:52:55\n",
       "EDITOR                                               GHATCHARD\n",
       "EDITED                                     2023-06-16 14:14:49\n",
       "SHAPE        {'x': -8575736.054694237, 'y': 4711717.5365341...\n",
       "Name: 9, dtype: object"
      ]
     },
     "execution_count": 23,
     "metadata": {},
     "output_type": "execute_result"
    }
   ],
   "source": [
    "libraries.loc[9]"
   ]
  },
  {
   "cell_type": "code",
   "execution_count": 31,
   "metadata": {},
   "outputs": [
    {
     "data": {
      "text/plain": [
       "0     False\n",
       "1     False\n",
       "2     False\n",
       "3     False\n",
       "4     False\n",
       "5     False\n",
       "6     False\n",
       "7     False\n",
       "8     False\n",
       "9     False\n",
       "10    False\n",
       "11    False\n",
       "12    False\n",
       "13    False\n",
       "14    False\n",
       "15    False\n",
       "16    False\n",
       "17    False\n",
       "18    False\n",
       "19    False\n",
       "20    False\n",
       "21     True\n",
       "22    False\n",
       "23    False\n",
       "24    False\n",
       "25    False\n",
       "26    False\n",
       "27    False\n",
       "28    False\n",
       "29    False\n",
       "30    False\n",
       "31    False\n",
       "32    False\n",
       "33    False\n",
       "34    False\n",
       "35    False\n",
       "36    False\n",
       "37    False\n",
       "38    False\n",
       "39    False\n",
       "40    False\n",
       "41    False\n",
       "42    False\n",
       "43    False\n",
       "44    False\n",
       "45    False\n",
       "Name: contains, dtype: bool"
      ]
     },
     "execution_count": 31,
     "metadata": {},
     "output_type": "execute_result"
    }
   ],
   "source": [
    "neighborhoods['SHAPE'].geom.contains(libraries['SHAPE'].geom.first_point[9])"
   ]
  },
  {
   "cell_type": "code",
   "execution_count": 32,
   "metadata": {},
   "outputs": [
    {
     "data": {
      "text/plain": [
       "OBJECTID                                                     22\n",
       "WEB_URL                                 http://planning.dc.gov/\n",
       "NAME                                                  Cluster 2\n",
       "NBH_NAMES     Columbia Heights, Mt. Pleasant, Pleasant Plain...\n",
       "TYPE                                                   Original\n",
       "GLOBALID                 {9480F5AC-3A19-47C0-8FC2-A551E249C49A}\n",
       "CREATOR                                                    None\n",
       "CREATED                                                     NaT\n",
       "EDITOR                                                     None\n",
       "EDITED                                                      NaT\n",
       "SHAPE.AREA                                                  0.0\n",
       "SHAPE.LEN                                                   0.0\n",
       "SHAPE         {'rings': [[[-8575522.892887553, 4712713.56053...\n",
       "Name: 21, dtype: object"
      ]
     },
     "execution_count": 32,
     "metadata": {},
     "output_type": "execute_result"
    }
   ],
   "source": [
    "neighborhoods.loc[21]"
   ]
  },
  {
   "cell_type": "markdown",
   "metadata": {},
   "source": [
    "Similarly you can also use operations such as `overlaps`, `within`, `touches`"
   ]
  },
  {
   "cell_type": "markdown",
   "metadata": {},
   "source": [
    "### Generating buffers around the libraries"
   ]
  },
  {
   "cell_type": "code",
   "execution_count": 24,
   "metadata": {},
   "outputs": [],
   "source": [
    "libraries['buffers'] = libraries['SHAPE'].geom.buffer(2000)"
   ]
  },
  {
   "cell_type": "code",
   "execution_count": 25,
   "metadata": {},
   "outputs": [
    {
     "data": {
      "text/plain": [
       "Index(['OBJECTID', 'GIS_ID', 'NAME', 'ADDRESS', 'PHONE', 'STATUS', 'SSL',\n",
       "       'WEB_URL', 'TYPE', 'LATITUDE', 'LONGITUDE', 'WARD', 'PSA', 'MAR_ID',\n",
       "       'XCOORD', 'YCOORD', 'GLOBALID', 'CREATOR', 'CREATED', 'EDITOR',\n",
       "       'EDITED', 'SHAPE', 'buffers'],\n",
       "      dtype='object')"
      ]
     },
     "execution_count": 25,
     "metadata": {},
     "output_type": "execute_result"
    }
   ],
   "source": [
    "libraries.columns"
   ]
  },
  {
   "cell_type": "code",
   "execution_count": 26,
   "metadata": {},
   "outputs": [
    {
     "data": {
      "application/vnd.jupyter.widget-view+json": {
       "model_id": "c4b165e9c136442ea8588faf96044e79",
       "version_major": 2,
       "version_minor": 0
      },
      "text/plain": [
       "MapView(layout=Layout(height='400px', width='100%'))"
      ]
     },
     "metadata": {},
     "output_type": "display_data"
    },
    {
     "data": {
      "text/html": [
       "<div class=\"map-static-img-preview-c4718683-a20d-4742-b632-d1e85e12bdd4\"><img src=\"\"></img></div>"
      ],
      "text/plain": [
       "<IPython.core.display.HTML object>"
      ]
     },
     "metadata": {},
     "output_type": "display_data"
    },
    {
     "data": {
      "text/html": [
       "<div class=\"map-html-embed-preview-c4718683-a20d-4742-b632-d1e85e12bdd4\"></div>"
      ],
      "text/plain": [
       "<IPython.core.display.HTML object>"
      ]
     },
     "metadata": {},
     "output_type": "display_data"
    }
   ],
   "source": [
    "map3 = gis.map(\"Washington, DC, USA\")\n",
    "libraries.spatial.plot(map_widget=map3, col=\"buffers\")\n",
    "map3"
   ]
  },
  {
   "attachments": {},
   "cell_type": "markdown",
   "metadata": {},
   "source": [
    "![image](https://github.com/ManushiM/Esri_Tutorials/assets/13968196/83995ead-7ddf-4c34-913b-17ea00b10cfd)\n"
   ]
  },
  {
   "cell_type": "markdown",
   "metadata": {},
   "source": [
    "### Publishing a Spatially Enabled DataFrame as a FeatureLayer"
   ]
  },
  {
   "cell_type": "code",
   "execution_count": 43,
   "metadata": {},
   "outputs": [
    {
     "data": {
      "text/html": [
       "<div class=\"item_container\" style=\"height: auto; overflow: hidden; border: 1px solid #cfcfcf; border-radius: 2px; background: #f6fafa; line-height: 1.21429em; padding: 10px;\">\n",
       "                    <div class=\"item_left\" style=\"width: 210px; float: left;\">\n",
       "                       <a href='https://www.arcgis.com/home/item.html?id=9d3cfb33606a479db951db7f97f0e910' target='_blank'>\n",
       "                        <img src='http://static.arcgis.com/images/desktopapp.png' class=\"itemThumbnail\">\n",
       "                       </a>\n",
       "                    </div>\n",
       "\n",
       "                    <div class=\"item_right\"     style=\"float: none; width: auto; overflow: hidden;\">\n",
       "                        <a href='https://www.arcgis.com/home/item.html?id=9d3cfb33606a479db951db7f97f0e910' target='_blank'><b>Libraries in DC NEighborhoods</b>\n",
       "                        </a>\n",
       "                        <br/><img src='https://www.arcgis.com/home/js/jsapi/esri/css/images/item_type_icons/featureshosted16.png' style=\"vertical-align:middle;\">Feature Layer Collection by MMajumdar_geosaurus\n",
       "                        <br/>Last Modified: July 12, 2023\n",
       "                        <br/>0 comments, 0 views\n",
       "                    </div>\n",
       "                </div>\n",
       "                "
      ],
      "text/plain": [
       "<Item title:\"Libraries in DC NEighborhoods\" type:Feature Layer Collection owner:MMajumdar_geosaurus>"
      ]
     },
     "execution_count": 43,
     "metadata": {},
     "output_type": "execute_result"
    }
   ],
   "source": [
    "joined.spatial.to_featurelayer(title='Libraries in DC Neighborhoods')"
   ]
  },
  {
   "cell_type": "markdown",
   "metadata": {},
   "source": [
    "Other spatial analysis techniques allow you to `densify` (create added geometries) and generalize (create a new simplified geometry based on a specified maximum offset tolerance)."
   ]
  },
  {
   "cell_type": "markdown",
   "metadata": {},
   "source": [
    "### [API Reference](https://developers.arcgis.com/python/api-reference/arcgis.features.toc.html#geoaccessor)"
   ]
  },
  {
   "cell_type": "code",
   "execution_count": null,
   "metadata": {},
   "outputs": [],
   "source": []
  }
 ],
 "metadata": {
  "esriNotebookRuntime": {
   "notebookRuntimeName": "ArcGIS Notebook Python 3 Standard",
   "notebookRuntimeVersion": "7.0"
  },
  "kernelspec": {
   "display_name": "Python 3 (ipykernel)",
   "language": "python",
   "name": "python3"
  },
  "language_info": {
   "codemirror_mode": {
    "name": "ipython",
    "version": 3
   },
   "file_extension": ".py",
   "mimetype": "text/x-python",
   "name": "python",
   "nbconvert_exporter": "python",
   "pygments_lexer": "ipython3",
   "version": "3.9.11"
  }
 },
 "nbformat": 4,
 "nbformat_minor": 2
}
