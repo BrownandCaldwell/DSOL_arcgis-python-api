{
 "cells": [
  {
   "cell_type": "markdown",
   "id": "a5fe7648",
   "metadata": {},
   "source": [
    "#### Setup Environment"
   ]
  },
  {
   "cell_type": "code",
   "execution_count": null,
   "id": "212348b1",
   "metadata": {},
   "outputs": [],
   "source": [
    "from IPython.display import display, HTML\n",
    "display(HTML(\"<style>.container { width:90% !important; }</style>\"))"
   ]
  },
  {
   "cell_type": "markdown",
   "id": "f17c944f",
   "metadata": {},
   "source": [
    "# Administering Your GIS Organizations Using ArcGIS API for Python"
   ]
  },
  {
   "cell_type": "markdown",
   "id": "8e9d04ba",
   "metadata": {},
   "source": [
    "## Overview"
   ]
  },
  {
   "cell_type": "markdown",
   "id": "91cc79b4",
   "metadata": {},
   "source": [
    "<img src=\"./img/gettingstarted.jpg\" width=700/>\n",
    "\n",
    "- The ArcGIS ecosystem is vast\n",
    "- Organizations can have multiple versions of any product or multiple products to manage\n",
    "- How do you manage this?"
   ]
  },
  {
   "cell_type": "markdown",
   "id": "fea199c0",
   "metadata": {},
   "source": [
    "## The Way of the Python"
   ]
  },
  {
   "cell_type": "markdown",
   "id": "5b9b5afd",
   "metadata": {},
   "source": [
    "<img src=\"./img/waysofscience.jpg\" width=700/>"
   ]
  },
  {
   "cell_type": "markdown",
   "id": "5451a992",
   "metadata": {},
   "source": [
    "- The Python API allows administrators to manage, update and control what happens on your server\n",
    "- Script from your favorite IDE or Notebook environment\n",
    "- Cross platform support"
   ]
  },
  {
   "cell_type": "markdown",
   "id": "48d8aae6",
   "metadata": {},
   "source": [
    "## What Can We Manage?"
   ]
  },
  {
   "cell_type": "markdown",
   "id": "1794a071",
   "metadata": {},
   "source": [
    "<table  style='font-family:\"Courier New\", Courier, monospace; font-size:200%' width=50%>\n",
    "  \n",
    "  <tr>\n",
    "    <td>Users</td>\n",
    "    <td><img src=\"./img/users.png\", width=50/></td>\n",
    "  </tr>\n",
    "  <tr>\n",
    "    <td>Content</td>\n",
    "    <td><img src=\"./img/content.png\", width=50/></td>\n",
    "  </tr>\n",
    "  <tr>\n",
    "    <td>Organization Policies/Licensing</td>\n",
    "    <td><img src=\"./img/infrastructure.png\", width=50/></td>\n",
    "  </tr>\n",
    "  <tr>\n",
    "    <td>Groups</td>\n",
    "    <td><img src=\"./img/groups.png\" width=50/></td>\n",
    "  </tr>\n",
    " \n",
    "</table>"
   ]
  },
  {
   "cell_type": "markdown",
   "id": "43f95b98",
   "metadata": {},
   "source": [
    "## Getting Started"
   ]
  },
  {
   "cell_type": "markdown",
   "id": "251a08e7",
   "metadata": {},
   "source": [
    "### Understand the `GIS` Object"
   ]
  },
  {
   "cell_type": "markdown",
   "id": "6021c223",
   "metadata": {},
   "source": [
    "The `GIS` object is the way users connect to ArcGIS Online and/or Enterprise\n",
    "\n",
    "- It doesn't matter if you are an administrator of a user, we must start here."
   ]
  },
  {
   "cell_type": "markdown",
   "id": "7eed83e2",
   "metadata": {},
   "source": [
    "#### Connecting to you `GIS` "
   ]
  },
  {
   "cell_type": "markdown",
   "id": "80f12f97",
   "metadata": {},
   "source": [
    "The ArcGIS API for Python support multiple ways of connecting to the `GIS`, which is ArcGIS Online or ArcGIS Enterprise"
   ]
  },
  {
   "cell_type": "markdown",
   "id": "51c71f7f",
   "metadata": {},
   "source": [
    "##### Anonymously"
   ]
  },
  {
   "cell_type": "code",
   "execution_count": null,
   "id": "4019d7fd",
   "metadata": {},
   "outputs": [],
   "source": [
    "import pandas as pd\n",
    "from arcgis.gis import GIS\n",
    "gis = GIS() #anonymous connection"
   ]
  },
  {
   "cell_type": "code",
   "execution_count": null,
   "id": "74e0bdce",
   "metadata": {},
   "outputs": [],
   "source": [
    "gis.content.search(\"rivers\")"
   ]
  },
  {
   "cell_type": "markdown",
   "id": "480039f1",
   "metadata": {},
   "source": [
    "##### Built-In"
   ]
  },
  {
   "cell_type": "markdown",
   "id": "31aa6b4c",
   "metadata": {},
   "source": [
    "- username/password login method\n",
    "- usersname are case sensitive "
   ]
  },
  {
   "cell_type": "markdown",
   "id": "1232e767",
   "metadata": {},
   "source": [
    "```python\n",
    "gis = GIS(username='fakeaccount', password='fakepassword')\n",
    "gis = GIS(url=\"https://www.mysite.com/portal\", username='fakeaccount', password='fakepassword')\n",
    "```"
   ]
  },
  {
   "cell_type": "markdown",
   "id": "c954509d",
   "metadata": {},
   "source": [
    "**Protecting Built-In Credentials**\n",
    "\n",
    "- using `profiles` will help protect username and passwords.  \n",
    "- prevents accidental sharing"
   ]
  },
  {
   "cell_type": "markdown",
   "id": "3a669195",
   "metadata": {},
   "source": [
    "1. Create a `GIS` object with the extra `profile` parameter\n",
    "\n",
    "```python\n",
    "gis = GIS(url=\"https://www.mysite.com/portal\", \n",
    "          username='fakeaccount', \n",
    "          password='fakepassword', \n",
    "          profile='portal_profile')\n",
    "```\n",
    "\n",
    "2. Now connect using the `profile`\n",
    "\n",
    "```python\n",
    "gis = GIS(profile='portal_profile')\n",
    "```\n",
    "\n",
    "**What Happened?**\n",
    "\n",
    "Instead of keeping your password in plain text, now we leverage the operating system's credential store for the logged in user.  The credentials never get passed on when you use profiles."
   ]
  },
  {
   "cell_type": "markdown",
   "id": "08bb16f3",
   "metadata": {},
   "source": [
    "##### Other Login Methods"
   ]
  },
  {
   "cell_type": "markdown",
   "id": "230589a3",
   "metadata": {},
   "source": [
    "- LDAP\n",
    "- IWA\n",
    "- PKI\n",
    "- OAuth 2.0.\n",
    "- API Key"
   ]
  },
  {
   "cell_type": "markdown",
   "id": "806e596b",
   "metadata": {},
   "source": [
    "## User Management"
   ]
  },
  {
   "cell_type": "markdown",
   "id": "1f733ba7",
   "metadata": {},
   "source": [
    "<img src=\"./img/usermanagement.jpg\"/>\n",
    "\n",
    "\n",
    "Users fuel your system. As an administrator your job is to ensure they can put up there content and know the site is reliable and safe.  The Python API is a tool to do just that!"
   ]
  },
  {
   "cell_type": "code",
   "execution_count": null,
   "id": "e4837823",
   "metadata": {},
   "outputs": [],
   "source": [
    "from arcgis.gis import GIS, UserManager"
   ]
  },
  {
   "cell_type": "code",
   "execution_count": null,
   "id": "b6770455",
   "metadata": {},
   "outputs": [],
   "source": [
    "gis = GIS(profile='your_online_profile', verify_cert=False)"
   ]
  },
  {
   "cell_type": "markdown",
   "id": "9cc1a242",
   "metadata": {},
   "source": [
    "# Working with Existing Users"
   ]
  },
  {
   "cell_type": "code",
   "execution_count": null,
   "id": "4f4aeb9c",
   "metadata": {},
   "outputs": [],
   "source": [
    "um:UserManager = gis.users\n",
    "um"
   ]
  },
  {
   "cell_type": "markdown",
   "id": "5700e78a",
   "metadata": {},
   "source": [
    "#### Search for Users"
   ]
  },
  {
   "cell_type": "code",
   "execution_count": null,
   "id": "2a3e2a89",
   "metadata": {},
   "outputs": [],
   "source": [
    "users = um.search(\"and*\")\n",
    "users"
   ]
  },
  {
   "cell_type": "markdown",
   "id": "5a91191f",
   "metadata": {},
   "source": [
    "#### List User's Groups"
   ]
  },
  {
   "cell_type": "code",
   "execution_count": null,
   "id": "922c5b31",
   "metadata": {},
   "outputs": [],
   "source": [
    "um.user_groups(um.search(\"and*\"))"
   ]
  },
  {
   "cell_type": "markdown",
   "id": "158724ab",
   "metadata": {},
   "source": [
    "#### Access a User's Items"
   ]
  },
  {
   "cell_type": "code",
   "execution_count": null,
   "id": "ee69a9da",
   "metadata": {},
   "outputs": [],
   "source": [
    "users[1].items()"
   ]
  },
  {
   "cell_type": "code",
   "execution_count": null,
   "id": "b8b94cc0",
   "metadata": {},
   "outputs": [],
   "source": [
    "user = um.search(\"geosaurus\")[0]\n",
    "user.update(\n",
    "    thumbnail=r\"./img/dino.png\"\n",
    ")\n",
    "user"
   ]
  },
  {
   "cell_type": "markdown",
   "id": "c553db63",
   "metadata": {},
   "source": [
    "### Creating New Users"
   ]
  },
  {
   "cell_type": "code",
   "execution_count": null,
   "id": "aa26a938",
   "metadata": {},
   "outputs": [],
   "source": [
    "# Check the user types available\n",
    "um.counts('user_type')"
   ]
  },
  {
   "cell_type": "code",
   "execution_count": null,
   "id": "37d0ca21",
   "metadata": {},
   "outputs": [],
   "source": [
    "import uuid\n",
    "username = f\"RUser{uuid.uuid4().hex[:4]}\"\n",
    "password = f\"!{uuid.uuid4().hex[:8]}A\""
   ]
  },
  {
   "cell_type": "code",
   "execution_count": null,
   "id": "431a75ba",
   "metadata": {},
   "outputs": [],
   "source": [
    "new_user = um.create(username=username, password=password, \n",
    "                     firstname=\"Danny\", lastname=\"Human\", \n",
    "                     email='testsadf@esri.com')\n",
    "new_user"
   ]
  },
  {
   "cell_type": "code",
   "execution_count": null,
   "id": "5b7d7a3e",
   "metadata": {},
   "outputs": [],
   "source": [
    "um.counts('user_type')"
   ]
  },
  {
   "cell_type": "markdown",
   "id": "03b45fb3",
   "metadata": {},
   "source": [
    "### Handling Security and Password Resets\n",
    "\n",
    "<img src=\"./imgs/password-reset.jpg\"/>"
   ]
  },
  {
   "cell_type": "code",
   "execution_count": null,
   "id": "5e4b024f",
   "metadata": {},
   "outputs": [],
   "source": [
    "new_password = f\"!{uuid.uuid4().hex[:8]}A\""
   ]
  },
  {
   "cell_type": "code",
   "execution_count": null,
   "id": "f79fe9d8",
   "metadata": {},
   "outputs": [],
   "source": [
    "new_user.reset(\n",
    "    password=password,\n",
    "    new_password=new_password,\n",
    "    new_security_question=1,\n",
    "    new_security_answer=uuid.uuid4().hex[:10],\n",
    "    reset_by_email=False,\n",
    ")"
   ]
  },
  {
   "cell_type": "code",
   "execution_count": null,
   "id": "cddab4ff",
   "metadata": {},
   "outputs": [],
   "source": [
    "GIS(username=username, \n",
    "    password=new_password, \n",
    "    verify_cert=False).users.me"
   ]
  },
  {
   "cell_type": "markdown",
   "id": "6e5b648e",
   "metadata": {},
   "source": [
    "### Deleting the User\n",
    "\n",
    "- user must not own items\n",
    "- user must not have licenses checked out"
   ]
  },
  {
   "cell_type": "code",
   "execution_count": null,
   "id": "6fa834f1",
   "metadata": {},
   "outputs": [],
   "source": [
    "new_user.delete()"
   ]
  },
  {
   "cell_type": "markdown",
   "id": "c3dd4b62",
   "metadata": {},
   "source": [
    "### Working with Roles and User Types"
   ]
  },
  {
   "cell_type": "markdown",
   "id": "34e1c85c",
   "metadata": {},
   "source": [
    "<img src=\"./img/know_your_role.jpg\" width=500/>"
   ]
  },
  {
   "cell_type": "markdown",
   "id": "e684559c",
   "metadata": {},
   "source": [
    "#### User types"
   ]
  },
  {
   "cell_type": "markdown",
   "id": "2a2c77a7",
   "metadata": {},
   "source": [
    "- User type determines the privileges that can be granted to the member through a default or custom role\n",
    "- Common Roles:\n",
    "  + viewer, creator and administrator"
   ]
  },
  {
   "cell_type": "code",
   "execution_count": null,
   "id": "80c1972d",
   "metadata": {},
   "outputs": [],
   "source": [
    "gis = GIS(profile='your_online_profile')"
   ]
  },
  {
   "cell_type": "code",
   "execution_count": null,
   "id": "e0f10515",
   "metadata": {},
   "outputs": [],
   "source": [
    "user = gis.users.search(\"uc2023*\")[0]"
   ]
  },
  {
   "cell_type": "code",
   "execution_count": null,
   "id": "9a5f0bf1",
   "metadata": {},
   "outputs": [],
   "source": [
    "user.user_types()['id']"
   ]
  },
  {
   "cell_type": "code",
   "execution_count": null,
   "id": "082fb454",
   "metadata": {},
   "outputs": [],
   "source": [
    "user.update_license_type(\"GISProfessionalAdvUT\")\n",
    "user.user_types()['id']"
   ]
  },
  {
   "cell_type": "code",
   "execution_count": null,
   "id": "b4aecdb3",
   "metadata": {},
   "outputs": [],
   "source": [
    "user.update_license_type(\"creatorUT\")"
   ]
  },
  {
   "cell_type": "code",
   "execution_count": null,
   "id": "2868ebbc",
   "metadata": {},
   "outputs": [],
   "source": [
    "user.user_types()['id']"
   ]
  },
  {
   "cell_type": "markdown",
   "id": "2ceb755a",
   "metadata": {},
   "source": [
    "#### Working with Roles"
   ]
  },
  {
   "cell_type": "markdown",
   "id": "2dc6bcfe",
   "metadata": {},
   "source": [
    "- A role defines the set of privileges assigned to a member"
   ]
  },
  {
   "cell_type": "markdown",
   "id": "c56371e1",
   "metadata": {},
   "source": [
    "**Accessing Role Manager**"
   ]
  },
  {
   "cell_type": "code",
   "execution_count": null,
   "id": "ec629e62",
   "metadata": {},
   "outputs": [],
   "source": [
    "rm = gis.users.roles\n",
    "rm"
   ]
  },
  {
   "cell_type": "markdown",
   "id": "0ab6a5e0",
   "metadata": {},
   "source": [
    "**Listing Roles**\n",
    "\n",
    "- notice that roles can have the same name!\n"
   ]
  },
  {
   "cell_type": "code",
   "execution_count": null,
   "id": "f01334fa",
   "metadata": {},
   "outputs": [],
   "source": [
    "rm.all()"
   ]
  },
  {
   "cell_type": "markdown",
   "id": "0194244b",
   "metadata": {},
   "source": [
    "**Check for Existence of a Role**"
   ]
  },
  {
   "cell_type": "code",
   "execution_count": null,
   "id": "be88e97f",
   "metadata": {},
   "outputs": [],
   "source": [
    "rm.exists('DataEditorRole')"
   ]
  },
  {
   "cell_type": "code",
   "execution_count": null,
   "id": "9b04b4ae",
   "metadata": {},
   "outputs": [],
   "source": [
    "role = rm.create(name=\"DataEditorRole\", \n",
    "                 description=\"Allow to modify service data\", \n",
    "                 privileges=[\n",
    "                        \"features:user:edit\",\n",
    "                        \"features:user:fullEdit\",\n",
    "                        \"opendata:user:designateGroup\",\n",
    "                        \"portal:admin:viewUsers\",\n",
    "                        \"portal:user:createGroup\"]\n",
    "                )\n",
    "role"
   ]
  },
  {
   "cell_type": "code",
   "execution_count": null,
   "id": "481d8174",
   "metadata": {},
   "outputs": [],
   "source": [
    "username = f\"RUser{uuid.uuid4().hex[:4]}\"\n",
    "password = f\"!{uuid.uuid4().hex[:8]}A\"\n",
    "new_user = um.create(username=username, password=password, \n",
    "                     firstname=\"Danny\", lastname=\"Human\", \n",
    "                     email='testsadf@esri.com')\n",
    "new_user"
   ]
  },
  {
   "cell_type": "code",
   "execution_count": null,
   "id": "edb82223",
   "metadata": {},
   "outputs": [],
   "source": [
    "new_user.update_role(role)"
   ]
  },
  {
   "cell_type": "code",
   "execution_count": null,
   "id": "d770f099",
   "metadata": {},
   "outputs": [],
   "source": [
    "new_user.role, role.role_id"
   ]
  },
  {
   "cell_type": "markdown",
   "id": "e3a52c71",
   "metadata": {},
   "source": [
    "**Removing the Role**"
   ]
  },
  {
   "cell_type": "code",
   "execution_count": null,
   "id": "1f276e2c",
   "metadata": {},
   "outputs": [],
   "source": [
    "new_user.delete()\n",
    "role.delete()"
   ]
  }
 ],
 "metadata": {
  "kernelspec": {
   "display_name": "Python 3 (ipykernel)",
   "language": "python",
   "name": "python3"
  },
  "language_info": {
   "codemirror_mode": {
    "name": "ipython",
    "version": 3
   },
   "file_extension": ".py",
   "mimetype": "text/x-python",
   "name": "python",
   "nbconvert_exporter": "python",
   "pygments_lexer": "ipython3",
   "version": "3.9.16"
  }
 },
 "nbformat": 4,
 "nbformat_minor": 5
}
