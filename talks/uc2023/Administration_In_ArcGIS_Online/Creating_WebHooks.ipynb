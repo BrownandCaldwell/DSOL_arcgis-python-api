{
 "cells": [
  {
   "cell_type": "markdown",
   "id": "8e9e8df9",
   "metadata": {},
   "source": [
    "## What's a WebHook?\n",
    "A webhook is a way for an application or service to provide real-time notifications to another application or service by sending HTTPS requests to a specific URL (known as the webhook endpoint) when a specific event or trigger occurs."
   ]
  },
  {
   "cell_type": "markdown",
   "id": "f46fcd14",
   "metadata": {},
   "source": [
    "For Example: we want to keep track of a delete protected service and if something occurs where it gets accidentally deleted, we can trigger a script to be run to reinstate the service."
   ]
  },
  {
   "cell_type": "markdown",
   "id": "c85a22c3",
   "metadata": {},
   "source": [
    "![webhookvsapi](https://images.ctfassets.net/lzny33ho1g45/5UrIAftDqQqfdEteoHgVQI/4ada8fc34fbcf012e730d0953dc8917f/webhook-vs-apis-differences.png?w=700)"
   ]
  },
  {
   "cell_type": "markdown",
   "id": "0605d341",
   "metadata": {},
   "source": [
    "# How is it useful to admins?\n",
    "  \n",
    "  By leveraging webhooks, an ArcGIS Online admin can streamline workflows, automate processes, and enhance integration with external systems. The specific use cases and implementations will depend on the requirements and objectives of your organization."
   ]
  },
  {
   "cell_type": "markdown",
   "id": "c5f8fb8e",
   "metadata": {},
   "source": [
    "> ## WebHookServiceManager\n",
    "> This manager is used for working with feature service-specific events in the ArcGIS API for Python. It allows owners and administrators to wire feature service events to a FeatureLayerCollection object. It is primarily focused on managing webhooks related to feature service events, such as when features are added, updated, or deleted. \n",
    "  \n",
    "    \n",
    "> ## WebHookManager\n",
    "> This manager enables you to receive notifications for events associated with items, groups, and users within your ArcGIS Organization environment. It allows you to configure webhooks for various events, including item creation, deletion, modification, user authentication events, and more."
   ]
  },
  {
   "cell_type": "markdown",
   "id": "f2ffbc90",
   "metadata": {},
   "source": [
    "#### Establish a connection"
   ]
  },
  {
   "cell_type": "code",
   "execution_count": 15,
   "id": "3e002f3b",
   "metadata": {},
   "outputs": [],
   "source": [
    "from arcgis.gis import GIS\n",
    "from arcgis.features.managers import WebHookEvents\n",
    "\n",
    "gis = GIS(profile=\"your_online_profile\")"
   ]
  },
  {
   "cell_type": "markdown",
   "id": "dd70382f",
   "metadata": {},
   "source": [
    "## Create a Feature Layer Collection from a File Geodatabase"
   ]
  },
  {
   "cell_type": "code",
   "execution_count": 3,
   "id": "000c9c83",
   "metadata": {},
   "outputs": [
    {
     "data": {
      "text/plain": [
       "<FeatureLayerCollection url:\"https://services7.arcgis.com/JEwYeAy2cc8qOe3o/arcgis/rest/services/UC_WebHook_Demo/FeatureServer\">"
      ]
     },
     "execution_count": 3,
     "metadata": {},
     "output_type": "execute_result"
    }
   ],
   "source": [
    "# Create a feature layer collection\n",
    "fp = \"C:\\ipython_workfolder\\Data\\FileGeoDataBase\\webhook_data.zip\"\n",
    "item = gis.content.add(\n",
    "            {\"type\": \"File Geodatabase\", \"tags\": \"UC2023\", \"title\": \"UC_WebHook_Demo\"},\n",
    "            data=fp,\n",
    "        )\n",
    "pitem = item.publish()\n",
    "\n",
    "flc = pitem.layers[0].container\n",
    "flc"
   ]
  },
  {
   "cell_type": "markdown",
   "id": "73d6b512",
   "metadata": {},
   "source": [
    "## Update properties of the service"
   ]
  },
  {
   "cell_type": "code",
   "execution_count": 4,
   "id": "a52bcd0a",
   "metadata": {},
   "outputs": [
    {
     "data": {
      "text/plain": [
       "{'success': True}"
      ]
     },
     "execution_count": 4,
     "metadata": {},
     "output_type": "execute_result"
    }
   ],
   "source": [
    "# Configure behavior and permissions related to data access, editing, and tracking\n",
    "properties_dict = {\n",
    "            \"hasStaticData\": False,\n",
    "            \"capabilities\": \"Query,Editing,Create,Update,Delete,ChangeTracking\",\n",
    "            \"editorTrackingInfo\": {\n",
    "                \"allowAnonymousToDelete\": True,\n",
    "                \"allowAnonymousToUpdate\": True,\n",
    "                \"allowOthersToDelete\": True,\n",
    "                \"allowOthersToQuery\": True,\n",
    "                \"allowOthersToUpdate\": True,\n",
    "                \"enableEditorTracking\": False,\n",
    "                \"enableOwnershipAccessControl\": False,\n",
    "            },\n",
    "        }\n",
    "flc.manager.update_definition(properties_dict)"
   ]
  },
  {
   "cell_type": "markdown",
   "id": "d1ec21cf",
   "metadata": {},
   "source": [
    "## Get the WebHook Manager instance"
   ]
  },
  {
   "cell_type": "code",
   "execution_count": 5,
   "id": "abac3ef0",
   "metadata": {},
   "outputs": [
    {
     "data": {
      "text/plain": [
       "< WebHookServiceManager @ https://services7.arcgis.com/JEwYeAy2cc8qOe3o/arcgis/rest/admin/services/UC_WebHook_Demo/FeatureServer/WebHooks >"
      ]
     },
     "execution_count": 5,
     "metadata": {},
     "output_type": "execute_result"
    }
   ],
   "source": [
    "# Get the WebHookServiceManager off of the feature layer collection manager\n",
    "webhook_manager = flc.manager.webhook_manager\n",
    "webhook_manager"
   ]
  },
  {
   "cell_type": "markdown",
   "id": "1a64af94",
   "metadata": {},
   "source": [
    "## Create a WebHook"
   ]
  },
  {
   "cell_type": "code",
   "execution_count": 6,
   "id": "b388400d",
   "metadata": {},
   "outputs": [],
   "source": [
    "# Define where the webhook notification will be sent (MUST BE https)\n",
    "hook_end_point_url = \"https://webhook.site/fae5e5b9-b3a5-4dcf-bf26-25c78acbd11b\""
   ]
  },
  {
   "cell_type": "code",
   "execution_count": 7,
   "id": "3f5a21b5",
   "metadata": {},
   "outputs": [
    {
     "data": {
      "text/plain": [
       "{\n",
       "  \"name\": \"UC2023_webhook\",\n",
       "  \"owner\": \"naubry_geosaurus\",\n",
       "  \"id\": 139,\n",
       "  \"globalId\": \"f1e47061-5840-4311-96eb-db0100b64bed\",\n",
       "  \"tenantId\": 25830,\n",
       "  \"serviceId\": 26841,\n",
       "  \"active\": true,\n",
       "  \"hookUrl\": \"https://webhook.site/fae5e5b9-b3a5-4dcf-bf26-25c78acbd11b\",\n",
       "  \"serviceUrl\": \"https://services7.arcgis.com/JEwYeAy2cc8qOe3o/arcgis/rest/services/UC_WebHook_Demo/FeatureServer\",\n",
       "  \"signatureKey\": \"\",\n",
       "  \"format\": \"json\",\n",
       "  \"serverGen\": 968777,\n",
       "  \"contentType\": \"application/x-www-form-urlencoded\",\n",
       "  \"createdTime\": 1689112203282,\n",
       "  \"lastUpdatedTime\": 1689112203282,\n",
       "  \"changeTypes\": [\n",
       "    \"*\"\n",
       "  ],\n",
       "  \"scheduleInfo\": {\n",
       "    \"name\": \"\",\n",
       "    \"state\": \"enabled\",\n",
       "    \"recurrenceInfo\": {\n",
       "      \"frequency\": \"second\",\n",
       "      \"interval\": 30\n",
       "    }\n",
       "  }\n",
       "}"
      ]
     },
     "execution_count": 7,
     "metadata": {},
     "output_type": "execute_result"
    }
   ],
   "source": [
    "# Create a webhook. Pass in a name, the target url, and set active\n",
    "webhook = webhook_manager.create(\"UC2023_webhook\", hook_end_point_url, active=True)\n",
    "\n",
    "# Webhook properties from new webhook\n",
    "webhook.properties"
   ]
  },
  {
   "cell_type": "markdown",
   "id": "65213734",
   "metadata": {},
   "source": [
    "### Update a feature to see the webhook"
   ]
  },
  {
   "cell_type": "code",
   "execution_count": 8,
   "id": "8617042b",
   "metadata": {},
   "outputs": [],
   "source": [
    "cities = pitem.layers[0]"
   ]
  },
  {
   "cell_type": "code",
   "execution_count": 9,
   "id": "3464d1d6",
   "metadata": {},
   "outputs": [
    {
     "data": {
      "text/html": [
       "<div>\n",
       "<style scoped>\n",
       "    .dataframe tbody tr th:only-of-type {\n",
       "        vertical-align: middle;\n",
       "    }\n",
       "\n",
       "    .dataframe tbody tr th {\n",
       "        vertical-align: top;\n",
       "    }\n",
       "\n",
       "    .dataframe thead th {\n",
       "        text-align: right;\n",
       "    }\n",
       "</style>\n",
       "<table border=\"1\" class=\"dataframe\">\n",
       "  <thead>\n",
       "    <tr style=\"text-align: right;\">\n",
       "      <th></th>\n",
       "      <th>OBJECTID_1</th>\n",
       "      <th>Id</th>\n",
       "      <th>ADMIN_NAME</th>\n",
       "      <th>CITY_NAME</th>\n",
       "      <th>CNTRY_NAME</th>\n",
       "      <th>FIPS_CNTRY</th>\n",
       "      <th>GMI_ADMIN</th>\n",
       "      <th>LABEL_FLAG</th>\n",
       "      <th>ObjectID</th>\n",
       "      <th>POP</th>\n",
       "      <th>POP_CLASS</th>\n",
       "      <th>POP_RANK</th>\n",
       "      <th>PORT_ID</th>\n",
       "      <th>STATUS</th>\n",
       "      <th>GlobalID</th>\n",
       "      <th>SHAPE</th>\n",
       "    </tr>\n",
       "  </thead>\n",
       "  <tbody>\n",
       "    <tr>\n",
       "      <th>0</th>\n",
       "      <td>1</td>\n",
       "      <td>0</td>\n",
       "      <td>Mato Grosso</td>\n",
       "      <td>Cuiaba</td>\n",
       "      <td>Brazil</td>\n",
       "      <td>BR</td>\n",
       "      <td>BRA-MGR</td>\n",
       "      <td>0</td>\n",
       "      <td>0</td>\n",
       "      <td>521934</td>\n",
       "      <td>500,000 to 999,999</td>\n",
       "      <td>3</td>\n",
       "      <td>0</td>\n",
       "      <td>Provincial capital</td>\n",
       "      <td>9ce8080d-0391-4349-a201-a0496c27cb67</td>\n",
       "      <td>{\"x\": -6244244.6062, \"y\": -1760180.1805000007,...</td>\n",
       "    </tr>\n",
       "    <tr>\n",
       "      <th>1</th>\n",
       "      <td>2</td>\n",
       "      <td>0</td>\n",
       "      <td>Kentucky</td>\n",
       "      <td>Frankfort</td>\n",
       "      <td>United States</td>\n",
       "      <td>US</td>\n",
       "      <td>USA-KEN</td>\n",
       "      <td>0</td>\n",
       "      <td>500</td>\n",
       "      <td>16315</td>\n",
       "      <td>Less than 50,000</td>\n",
       "      <td>7</td>\n",
       "      <td>0</td>\n",
       "      <td>Provincial capital</td>\n",
       "      <td>68460c29-1db8-4bee-b6cc-495f560810a5</td>\n",
       "      <td>{\"x\": -9444234.6816, \"y\": 4607859.9877, \"spati...</td>\n",
       "    </tr>\n",
       "    <tr>\n",
       "      <th>2</th>\n",
       "      <td>3</td>\n",
       "      <td>0</td>\n",
       "      <td>Tennessee</td>\n",
       "      <td>Nashville</td>\n",
       "      <td>United States</td>\n",
       "      <td>US</td>\n",
       "      <td>USA-TNN</td>\n",
       "      <td>0</td>\n",
       "      <td>501</td>\n",
       "      <td>530852</td>\n",
       "      <td>500,000 to 999,999</td>\n",
       "      <td>3</td>\n",
       "      <td>0</td>\n",
       "      <td>Provincial capital</td>\n",
       "      <td>48045d62-dfd8-48d2-a152-543c4de039a1</td>\n",
       "      <td>{\"x\": -9664535.075, \"y\": 4320178.250500001, \"s...</td>\n",
       "    </tr>\n",
       "    <tr>\n",
       "      <th>3</th>\n",
       "      <td>4</td>\n",
       "      <td>0</td>\n",
       "      <td>Distrito Federal</td>\n",
       "      <td>Brasilia</td>\n",
       "      <td>Brazil</td>\n",
       "      <td>BR</td>\n",
       "      <td>BRA-DFD</td>\n",
       "      <td>0</td>\n",
       "      <td>1</td>\n",
       "      <td>2207718</td>\n",
       "      <td>1,000,000 to 4,999,999</td>\n",
       "      <td>2</td>\n",
       "      <td>0</td>\n",
       "      <td>National and provincial capital</td>\n",
       "      <td>d9d102a1-775a-41d2-ae77-fc3d52899dbb</td>\n",
       "      <td>{\"x\": -5331952.8794, \"y\": -1780660.5108999982,...</td>\n",
       "    </tr>\n",
       "    <tr>\n",
       "      <th>4</th>\n",
       "      <td>5</td>\n",
       "      <td>0</td>\n",
       "      <td>Goias</td>\n",
       "      <td>Goiania</td>\n",
       "      <td>Brazil</td>\n",
       "      <td>BR</td>\n",
       "      <td>BRA-GOI</td>\n",
       "      <td>0</td>\n",
       "      <td>2</td>\n",
       "      <td>1171195</td>\n",
       "      <td>1,000,000 to 4,999,999</td>\n",
       "      <td>2</td>\n",
       "      <td>0</td>\n",
       "      <td>Provincial capital</td>\n",
       "      <td>84fe805d-dad1-40d4-be66-d7640eeda9b9</td>\n",
       "      <td>{\"x\": -5483041.6975, \"y\": -1889069.6970999986,...</td>\n",
       "    </tr>\n",
       "  </tbody>\n",
       "</table>\n",
       "</div>"
      ],
      "text/plain": [
       "   OBJECTID_1  Id        ADMIN_NAME  CITY_NAME     CNTRY_NAME FIPS_CNTRY  \\\n",
       "0           1   0       Mato Grosso     Cuiaba         Brazil         BR   \n",
       "1           2   0          Kentucky  Frankfort  United States         US   \n",
       "2           3   0         Tennessee  Nashville  United States         US   \n",
       "3           4   0  Distrito Federal   Brasilia         Brazil         BR   \n",
       "4           5   0             Goias    Goiania         Brazil         BR   \n",
       "\n",
       "  GMI_ADMIN  LABEL_FLAG  ObjectID      POP               POP_CLASS  POP_RANK  \\\n",
       "0   BRA-MGR           0         0   521934      500,000 to 999,999         3   \n",
       "1   USA-KEN           0       500    16315        Less than 50,000         7   \n",
       "2   USA-TNN           0       501   530852      500,000 to 999,999         3   \n",
       "3   BRA-DFD           0         1  2207718  1,000,000 to 4,999,999         2   \n",
       "4   BRA-GOI           0         2  1171195  1,000,000 to 4,999,999         2   \n",
       "\n",
       "   PORT_ID                           STATUS  \\\n",
       "0        0               Provincial capital   \n",
       "1        0               Provincial capital   \n",
       "2        0               Provincial capital   \n",
       "3        0  National and provincial capital   \n",
       "4        0               Provincial capital   \n",
       "\n",
       "                               GlobalID  \\\n",
       "0  9ce8080d-0391-4349-a201-a0496c27cb67   \n",
       "1  68460c29-1db8-4bee-b6cc-495f560810a5   \n",
       "2  48045d62-dfd8-48d2-a152-543c4de039a1   \n",
       "3  d9d102a1-775a-41d2-ae77-fc3d52899dbb   \n",
       "4  84fe805d-dad1-40d4-be66-d7640eeda9b9   \n",
       "\n",
       "                                               SHAPE  \n",
       "0  {\"x\": -6244244.6062, \"y\": -1760180.1805000007,...  \n",
       "1  {\"x\": -9444234.6816, \"y\": 4607859.9877, \"spati...  \n",
       "2  {\"x\": -9664535.075, \"y\": 4320178.250500001, \"s...  \n",
       "3  {\"x\": -5331952.8794, \"y\": -1780660.5108999982,...  \n",
       "4  {\"x\": -5483041.6975, \"y\": -1889069.6970999986,...  "
      ]
     },
     "execution_count": 9,
     "metadata": {},
     "output_type": "execute_result"
    }
   ],
   "source": [
    "cities_fset = cities.query()\n",
    "cities_fset.sdf.head()"
   ]
  },
  {
   "cell_type": "code",
   "execution_count": 10,
   "id": "cd989e09",
   "metadata": {},
   "outputs": [
    {
     "data": {
      "text/plain": [
       "{\"geometry\": {\"x\": -9444234.6816, \"y\": 4607859.9877, \"spatialReference\": {\"wkid\": 102100, \"latestWkid\": 3857}}, \"attributes\": {\"OBJECTID_1\": 2, \"Id\": 0, \"ADMIN_NAME\": \"Kentucky\", \"CITY_NAME\": \"Frankfort\", \"CNTRY_NAME\": \"United States\", \"FIPS_CNTRY\": \"US\", \"GMI_ADMIN\": \"USA-KEN\", \"LABEL_FLAG\": 0, \"ObjectID\": 500, \"POP\": 16315, \"POP_CLASS\": \"Less than 50,000\", \"POP_RANK\": 7, \"PORT_ID\": 0, \"STATUS\": \"Provincial capital\", \"GlobalID\": \"68460c29-1db8-4bee-b6cc-495f560810a5\", \"SHAPE\": {\"x\": -9444234.6816, \"y\": 4607859.9877, \"spatialReference\": {\"wkid\": 102100, \"latestWkid\": 3857}}}}"
      ]
     },
     "execution_count": 10,
     "metadata": {},
     "output_type": "execute_result"
    }
   ],
   "source": [
    "cities_features = cities_fset.features\n",
    "\n",
    "# select United States features\n",
    "us_features = [f for f in cities_features if f.attributes['CNTRY_NAME']=='United States']\n",
    "us_features[0]"
   ]
  },
  {
   "cell_type": "code",
   "execution_count": 11,
   "id": "e7edb3e5",
   "metadata": {},
   "outputs": [
    {
     "data": {
      "text/plain": [
       "{\"geometry\": {\"x\": -9444234.6816, \"y\": 4607859.9877, \"spatialReference\": {\"wkid\": 102100, \"latestWkid\": 3857}}, \"attributes\": {\"OBJECTID_1\": 2, \"Id\": 0, \"ADMIN_NAME\": \"Kentucky\", \"CITY_NAME\": \"Frankfort\", \"CNTRY_NAME\": \"United States\", \"FIPS_CNTRY\": \"USA\", \"GMI_ADMIN\": \"USA-KEN\", \"LABEL_FLAG\": 0, \"ObjectID\": 500, \"POP\": 16315, \"POP_CLASS\": \"Less than 50,000\", \"POP_RANK\": 7, \"PORT_ID\": 0, \"STATUS\": \"Provincial capital\", \"GlobalID\": \"68460c29-1db8-4bee-b6cc-495f560810a5\", \"SHAPE\": {\"x\": -9444234.6816, \"y\": 4607859.9877, \"spatialReference\": {\"wkid\": 102100, \"latestWkid\": 3857}}}}"
      ]
     },
     "execution_count": 11,
     "metadata": {},
     "output_type": "execute_result"
    }
   ],
   "source": [
    "fs_edits = []\n",
    "\n",
    "for feature in us_features:\n",
    "    us_edit = feature\n",
    "    us_edit.attributes['FIPS_CNTRY'] = 'USA'\n",
    "    fs_edits.append(us_edit)\n",
    "    \n",
    "fs_edits[0]"
   ]
  },
  {
   "cell_type": "code",
   "execution_count": 14,
   "id": "bad4fb35",
   "metadata": {
    "scrolled": true
   },
   "outputs": [
    {
     "data": {
      "text/plain": [
       "{'addResults': [],\n",
       " 'updateResults': [{'objectId': 2,\n",
       "   'uniqueId': 2,\n",
       "   'globalId': '68460c29-1db8-4bee-b6cc-495f560810a5',\n",
       "   'success': True},\n",
       "  {'objectId': 3,\n",
       "   'uniqueId': 3,\n",
       "   'globalId': '48045d62-dfd8-48d2-a152-543c4de039a1',\n",
       "   'success': True},\n",
       "  {'objectId': 6,\n",
       "   'uniqueId': 6,\n",
       "   'globalId': '88e56670-43f3-42a7-96df-f1ee41df3440',\n",
       "   'success': True},\n",
       "  {'objectId': 8,\n",
       "   'uniqueId': 8,\n",
       "   'globalId': '60a42435-c45b-4a3d-a478-ac077cdba7b1',\n",
       "   'success': True},\n",
       "  {'objectId': 10,\n",
       "   'uniqueId': 10,\n",
       "   'globalId': '4220e910-3faf-46c8-bad4-5d4d850654d8',\n",
       "   'success': True},\n",
       "  {'objectId': 12,\n",
       "   'uniqueId': 12,\n",
       "   'globalId': '479f45e0-674c-43ab-9394-252495e822a0',\n",
       "   'success': True},\n",
       "  {'objectId': 14,\n",
       "   'uniqueId': 14,\n",
       "   'globalId': 'f06ab2f0-ca91-4dd5-8867-bacef45c5762',\n",
       "   'success': True},\n",
       "  {'objectId': 16,\n",
       "   'uniqueId': 16,\n",
       "   'globalId': '4bdbf081-0b25-44ed-9a3c-906e0521b251',\n",
       "   'success': True},\n",
       "  {'objectId': 17,\n",
       "   'uniqueId': 17,\n",
       "   'globalId': '5bc6c970-e9c8-4fff-9088-bbdc7219fad0',\n",
       "   'success': True},\n",
       "  {'objectId': 19,\n",
       "   'uniqueId': 19,\n",
       "   'globalId': '86be53e8-cdcf-4503-9373-0c0c8654c884',\n",
       "   'success': True},\n",
       "  {'objectId': 21,\n",
       "   'uniqueId': 21,\n",
       "   'globalId': '00635278-652e-428f-ba52-2a24f77fbc7f',\n",
       "   'success': True},\n",
       "  {'objectId': 23,\n",
       "   'uniqueId': 23,\n",
       "   'globalId': 'fb40165e-c375-40cf-a0b1-83fa16ae911a',\n",
       "   'success': True},\n",
       "  {'objectId': 25,\n",
       "   'uniqueId': 25,\n",
       "   'globalId': '47f0ebe1-bc56-43f7-9568-b74023a0f0fa',\n",
       "   'success': True},\n",
       "  {'objectId': 27,\n",
       "   'uniqueId': 27,\n",
       "   'globalId': 'a49138db-83f6-4a59-ab41-24b36740697a',\n",
       "   'success': True},\n",
       "  {'objectId': 29,\n",
       "   'uniqueId': 29,\n",
       "   'globalId': '334285ed-a023-4eac-850e-a6bdf4ee5498',\n",
       "   'success': True},\n",
       "  {'objectId': 30,\n",
       "   'uniqueId': 30,\n",
       "   'globalId': 'ca840b61-b19f-48d1-8e66-cc82430a03ee',\n",
       "   'success': True},\n",
       "  {'objectId': 32,\n",
       "   'uniqueId': 32,\n",
       "   'globalId': '15df17b0-9e5c-42e9-990d-0f169a9ed3d0',\n",
       "   'success': True},\n",
       "  {'objectId': 34,\n",
       "   'uniqueId': 34,\n",
       "   'globalId': '5188c7a4-79d7-47b3-8de0-b9ba8515d608',\n",
       "   'success': True},\n",
       "  {'objectId': 36,\n",
       "   'uniqueId': 36,\n",
       "   'globalId': 'df50e4fb-97ef-462f-ac58-041f07a9a9dd',\n",
       "   'success': True},\n",
       "  {'objectId': 37,\n",
       "   'uniqueId': 37,\n",
       "   'globalId': '6c25d6a7-cd54-4b29-bb56-dfa294d4dad5',\n",
       "   'success': True},\n",
       "  {'objectId': 39,\n",
       "   'uniqueId': 39,\n",
       "   'globalId': 'a7d431d1-ade7-41ab-b162-a2e5b0d41985',\n",
       "   'success': True},\n",
       "  {'objectId': 41,\n",
       "   'uniqueId': 41,\n",
       "   'globalId': '32a66b18-6fb5-46a1-8294-a6675f9d9cd9',\n",
       "   'success': True},\n",
       "  {'objectId': 43,\n",
       "   'uniqueId': 43,\n",
       "   'globalId': '0dab3a42-f461-412a-b673-ff72e8224ccf',\n",
       "   'success': True},\n",
       "  {'objectId': 45,\n",
       "   'uniqueId': 45,\n",
       "   'globalId': '22bba657-3ae8-4b4d-b630-c9e7d9747ca6',\n",
       "   'success': True},\n",
       "  {'objectId': 47,\n",
       "   'uniqueId': 47,\n",
       "   'globalId': 'e2d162d3-aa5f-4e93-8738-fbda07cc54b6',\n",
       "   'success': True},\n",
       "  {'objectId': 49,\n",
       "   'uniqueId': 49,\n",
       "   'globalId': 'cb5692cb-4013-4d35-a179-1f5839f103c3',\n",
       "   'success': True},\n",
       "  {'objectId': 52,\n",
       "   'uniqueId': 52,\n",
       "   'globalId': '09441d39-a2b9-4614-a56d-194f9c6a0ae8',\n",
       "   'success': True},\n",
       "  {'objectId': 55,\n",
       "   'uniqueId': 55,\n",
       "   'globalId': '25672a4c-0856-40eb-8a98-6d429c72ff78',\n",
       "   'success': True},\n",
       "  {'objectId': 270,\n",
       "   'uniqueId': 270,\n",
       "   'globalId': '6af3a56d-6e43-4191-80df-50fe931f5237',\n",
       "   'success': True},\n",
       "  {'objectId': 278,\n",
       "   'uniqueId': 278,\n",
       "   'globalId': 'e6dedf91-9018-4b51-8cec-ac683921246e',\n",
       "   'success': True},\n",
       "  {'objectId': 282,\n",
       "   'uniqueId': 282,\n",
       "   'globalId': 'fc0d809f-4d12-4253-96d1-e28209f4b886',\n",
       "   'success': True},\n",
       "  {'objectId': 286,\n",
       "   'uniqueId': 286,\n",
       "   'globalId': '93918dc5-5e46-43e7-a64a-6fc843398716',\n",
       "   'success': True},\n",
       "  {'objectId': 290,\n",
       "   'uniqueId': 290,\n",
       "   'globalId': '849a5dc6-4da5-4c99-929e-c06652e51b97',\n",
       "   'success': True},\n",
       "  {'objectId': 294,\n",
       "   'uniqueId': 294,\n",
       "   'globalId': '0c9c8571-7bc9-4a15-be7d-e69763b6134a',\n",
       "   'success': True},\n",
       "  {'objectId': 303,\n",
       "   'uniqueId': 303,\n",
       "   'globalId': 'a7836a0f-d54f-40be-a20f-d5b578ffd931',\n",
       "   'success': True},\n",
       "  {'objectId': 307,\n",
       "   'uniqueId': 307,\n",
       "   'globalId': 'f8e7ad6a-6540-4338-9b08-a0ecd073a49d',\n",
       "   'success': True},\n",
       "  {'objectId': 310,\n",
       "   'uniqueId': 310,\n",
       "   'globalId': 'f0c41fda-6184-43cf-9126-24d96f399ce0',\n",
       "   'success': True},\n",
       "  {'objectId': 312,\n",
       "   'uniqueId': 312,\n",
       "   'globalId': '4f673f08-31be-43a1-a9b1-c6ec7b36e9d9',\n",
       "   'success': True},\n",
       "  {'objectId': 313,\n",
       "   'uniqueId': 313,\n",
       "   'globalId': '77d570cb-4e36-4efa-b6d1-50c606722f67',\n",
       "   'success': True},\n",
       "  {'objectId': 314,\n",
       "   'uniqueId': 314,\n",
       "   'globalId': '79ba262d-84ce-47f8-aba0-2a0cb3f76ac9',\n",
       "   'success': True},\n",
       "  {'objectId': 316,\n",
       "   'uniqueId': 316,\n",
       "   'globalId': '82179987-47cc-46e4-832b-748d310f240f',\n",
       "   'success': True},\n",
       "  {'objectId': 317,\n",
       "   'uniqueId': 317,\n",
       "   'globalId': '0e165261-18dd-48db-a8f3-68747a77acf1',\n",
       "   'success': True},\n",
       "  {'objectId': 318,\n",
       "   'uniqueId': 318,\n",
       "   'globalId': '03acf7f6-e31d-4aad-8295-417a543c76fd',\n",
       "   'success': True},\n",
       "  {'objectId': 321,\n",
       "   'uniqueId': 321,\n",
       "   'globalId': 'd403a94d-1e25-414f-a8c1-c94840d5b719',\n",
       "   'success': True},\n",
       "  {'objectId': 322,\n",
       "   'uniqueId': 322,\n",
       "   'globalId': 'be630a68-e5f8-476c-8029-aaaffaebb0ec',\n",
       "   'success': True},\n",
       "  {'objectId': 326,\n",
       "   'uniqueId': 326,\n",
       "   'globalId': 'b981dcf9-f528-4975-9e6a-7ef6420124c8',\n",
       "   'success': True},\n",
       "  {'objectId': 332,\n",
       "   'uniqueId': 332,\n",
       "   'globalId': '8ef17d34-1248-4bff-bc73-abbd8de510da',\n",
       "   'success': True},\n",
       "  {'objectId': 340,\n",
       "   'uniqueId': 340,\n",
       "   'globalId': '670fa601-1426-4691-b5b3-d82854f7ca7f',\n",
       "   'success': True},\n",
       "  {'objectId': 343,\n",
       "   'uniqueId': 343,\n",
       "   'globalId': 'f5b54586-dc1d-46a4-a216-ff9aceeec25c',\n",
       "   'success': True},\n",
       "  {'objectId': 346,\n",
       "   'uniqueId': 346,\n",
       "   'globalId': '97ff28e6-10e5-4024-bb87-ecc4984a920b',\n",
       "   'success': True},\n",
       "  {'objectId': 349,\n",
       "   'uniqueId': 349,\n",
       "   'globalId': '697fa46f-ba26-43a3-b116-9621f7afecb1',\n",
       "   'success': True},\n",
       "  {'objectId': 350,\n",
       "   'uniqueId': 350,\n",
       "   'globalId': '9547fedf-842a-44e6-9c0d-444ae2e04fbc',\n",
       "   'success': True},\n",
       "  {'objectId': 351,\n",
       "   'uniqueId': 351,\n",
       "   'globalId': '7b5b3450-d7c2-4f14-b9dc-c49ee04ede4b',\n",
       "   'success': True},\n",
       "  {'objectId': 355,\n",
       "   'uniqueId': 355,\n",
       "   'globalId': '2bd28bf0-5f06-4a0d-b714-6f9d512096a5',\n",
       "   'success': True},\n",
       "  {'objectId': 359,\n",
       "   'uniqueId': 359,\n",
       "   'globalId': 'b3a99cb7-07e5-4c2a-ab3f-c7b54d67e33c',\n",
       "   'success': True},\n",
       "  {'objectId': 360,\n",
       "   'uniqueId': 360,\n",
       "   'globalId': '84725744-e071-496a-aef6-1d690f7927d0',\n",
       "   'success': True},\n",
       "  {'objectId': 365,\n",
       "   'uniqueId': 365,\n",
       "   'globalId': 'ea90a795-7652-44eb-9676-cae9dc64ba82',\n",
       "   'success': True},\n",
       "  {'objectId': 370,\n",
       "   'uniqueId': 370,\n",
       "   'globalId': 'c005c49b-7999-47d7-b8e9-16b20ff33269',\n",
       "   'success': True},\n",
       "  {'objectId': 375,\n",
       "   'uniqueId': 375,\n",
       "   'globalId': '47122760-6d7f-4ea5-9cc4-4d25c7cfd791',\n",
       "   'success': True},\n",
       "  {'objectId': 378,\n",
       "   'uniqueId': 378,\n",
       "   'globalId': 'ac764887-c9dc-4170-be86-b12be2bf3f3a',\n",
       "   'success': True},\n",
       "  {'objectId': 380,\n",
       "   'uniqueId': 380,\n",
       "   'globalId': 'a08b3fc7-8235-4f14-b80a-c6cb351108e8',\n",
       "   'success': True},\n",
       "  {'objectId': 382,\n",
       "   'uniqueId': 382,\n",
       "   'globalId': 'f8edae30-d501-417e-92a4-bd284c1a4b5f',\n",
       "   'success': True},\n",
       "  {'objectId': 388,\n",
       "   'uniqueId': 388,\n",
       "   'globalId': '26d1447d-a2e4-4528-b60c-936a1b9d9c86',\n",
       "   'success': True},\n",
       "  {'objectId': 392,\n",
       "   'uniqueId': 392,\n",
       "   'globalId': '2ca14877-7739-4676-a93d-38a80a4e4bd1',\n",
       "   'success': True},\n",
       "  {'objectId': 396,\n",
       "   'uniqueId': 396,\n",
       "   'globalId': 'd41e953b-4b02-46d1-b69d-9349cc16abfa',\n",
       "   'success': True},\n",
       "  {'objectId': 398,\n",
       "   'uniqueId': 398,\n",
       "   'globalId': '4191a85a-7790-41f0-816d-d2d0422da7a6',\n",
       "   'success': True},\n",
       "  {'objectId': 402,\n",
       "   'uniqueId': 402,\n",
       "   'globalId': 'b64e889e-30b5-4538-bc9c-bff141b39722',\n",
       "   'success': True},\n",
       "  {'objectId': 406,\n",
       "   'uniqueId': 406,\n",
       "   'globalId': '0fa6c8ba-0254-4150-a6d0-a901604c3cb3',\n",
       "   'success': True},\n",
       "  {'objectId': 410,\n",
       "   'uniqueId': 410,\n",
       "   'globalId': 'b2b7b61a-f690-44df-97ce-a9d76f48e2d2',\n",
       "   'success': True},\n",
       "  {'objectId': 413,\n",
       "   'uniqueId': 413,\n",
       "   'globalId': '1dd13ff1-c922-4eca-994a-1bd68ce29fb9',\n",
       "   'success': True},\n",
       "  {'objectId': 418,\n",
       "   'uniqueId': 418,\n",
       "   'globalId': '7363e880-ed87-4685-a3f6-389b0d775604',\n",
       "   'success': True},\n",
       "  {'objectId': 425,\n",
       "   'uniqueId': 425,\n",
       "   'globalId': '78b1b533-0ece-4732-9337-ccd476358587',\n",
       "   'success': True},\n",
       "  {'objectId': 462,\n",
       "   'uniqueId': 462,\n",
       "   'globalId': '2a3b6bc9-841a-46b2-96ec-89c8f95593e2',\n",
       "   'success': True},\n",
       "  {'objectId': 468,\n",
       "   'uniqueId': 468,\n",
       "   'globalId': '004161ba-9eda-4d43-9a6e-234131ab70ea',\n",
       "   'success': True},\n",
       "  {'objectId': 474,\n",
       "   'uniqueId': 474,\n",
       "   'globalId': '17a07156-c5a4-4b30-86c8-1c904500cc0a',\n",
       "   'success': True},\n",
       "  {'objectId': 769,\n",
       "   'uniqueId': 769,\n",
       "   'globalId': 'dd5f3b19-8d6f-4f88-8d7f-351f3855d58e',\n",
       "   'success': True},\n",
       "  {'objectId': 775,\n",
       "   'uniqueId': 775,\n",
       "   'globalId': 'f7a92217-0e99-44c1-ac1d-320cfe42724b',\n",
       "   'success': True},\n",
       "  {'objectId': 778,\n",
       "   'uniqueId': 778,\n",
       "   'globalId': '4c858e5f-687a-4340-bad6-6cce7fcc71d1',\n",
       "   'success': True},\n",
       "  {'objectId': 784,\n",
       "   'uniqueId': 784,\n",
       "   'globalId': '06619531-2aec-497c-9159-2a8a6ad33be8',\n",
       "   'success': True},\n",
       "  {'objectId': 788,\n",
       "   'uniqueId': 788,\n",
       "   'globalId': 'ac1429a3-604f-4fb4-9544-8f321a9168f2',\n",
       "   'success': True},\n",
       "  {'objectId': 798,\n",
       "   'uniqueId': 798,\n",
       "   'globalId': 'b774c11e-28b5-4254-bd93-6b9c282903b2',\n",
       "   'success': True},\n",
       "  {'objectId': 803,\n",
       "   'uniqueId': 803,\n",
       "   'globalId': '722c2403-3117-4fe8-b920-d61679b20925',\n",
       "   'success': True},\n",
       "  {'objectId': 809,\n",
       "   'uniqueId': 809,\n",
       "   'globalId': '15841493-1c32-425a-9077-29406e7feaf9',\n",
       "   'success': True},\n",
       "  {'objectId': 814,\n",
       "   'uniqueId': 814,\n",
       "   'globalId': 'db672b55-8f20-4a4d-8250-2d6d01575110',\n",
       "   'success': True},\n",
       "  {'objectId': 817,\n",
       "   'uniqueId': 817,\n",
       "   'globalId': 'e9bd045f-c3c9-4305-9bf6-9d03e6ac1baa',\n",
       "   'success': True},\n",
       "  {'objectId': 822,\n",
       "   'uniqueId': 822,\n",
       "   'globalId': '3c3b0e07-31a5-45eb-86fb-59e96c7f712e',\n",
       "   'success': True},\n",
       "  {'objectId': 836,\n",
       "   'uniqueId': 836,\n",
       "   'globalId': '87969af5-e007-4bb2-b6f6-521102f7cf92',\n",
       "   'success': True},\n",
       "  {'objectId': 841,\n",
       "   'uniqueId': 841,\n",
       "   'globalId': 'be8a0704-4a3e-4ce7-af56-08f7e179e57f',\n",
       "   'success': True},\n",
       "  {'objectId': 843,\n",
       "   'uniqueId': 843,\n",
       "   'globalId': 'd6c463ce-7f3a-4565-ae44-dc5d98837e8e',\n",
       "   'success': True},\n",
       "  {'objectId': 847,\n",
       "   'uniqueId': 847,\n",
       "   'globalId': '1fbb8b72-f1f3-426d-b73b-2b27a85f0710',\n",
       "   'success': True},\n",
       "  {'objectId': 856,\n",
       "   'uniqueId': 856,\n",
       "   'globalId': '326e9ff4-521b-40de-b919-747efa922a37',\n",
       "   'success': True},\n",
       "  {'objectId': 861,\n",
       "   'uniqueId': 861,\n",
       "   'globalId': 'd72eb153-d473-4c8c-a092-79b0444ac6a1',\n",
       "   'success': True},\n",
       "  {'objectId': 866,\n",
       "   'uniqueId': 866,\n",
       "   'globalId': '16b6861b-dc58-43eb-8d4b-1dfaab8da39d',\n",
       "   'success': True}],\n",
       " 'deleteResults': []}"
      ]
     },
     "execution_count": 14,
     "metadata": {},
     "output_type": "execute_result"
    }
   ],
   "source": [
    "update_result = cities.edit_features(updates=fs_edits)\n",
    "update_result"
   ]
  },
  {
   "cell_type": "markdown",
   "id": "600a2ce6",
   "metadata": {},
   "source": [
    "### Edit the WebHook"
   ]
  },
  {
   "cell_type": "code",
   "execution_count": 13,
   "id": "6bb0552d",
   "metadata": {},
   "outputs": [
    {
     "data": {
      "text/plain": [
       "{\n",
       "  \"name\": \"UC2023_webhook\",\n",
       "  \"owner\": \"naubry_geosaurus\",\n",
       "  \"id\": 139,\n",
       "  \"globalId\": \"f1e47061-5840-4311-96eb-db0100b64bed\",\n",
       "  \"tenantId\": 25830,\n",
       "  \"serviceId\": 26841,\n",
       "  \"active\": true,\n",
       "  \"hookUrl\": \"https://webhook.site/fae5e5b9-b3a5-4dcf-bf26-25c78acbd11b\",\n",
       "  \"serviceUrl\": \"https://services7.arcgis.com/JEwYeAy2cc8qOe3o/arcgis/rest/services/UC_WebHook_Demo/FeatureServer\",\n",
       "  \"signatureKey\": \"\",\n",
       "  \"format\": \"json\",\n",
       "  \"serverGen\": 968872,\n",
       "  \"contentType\": \"application/x-www-form-urlencoded\",\n",
       "  \"createdTime\": 1689112203282,\n",
       "  \"lastUpdatedTime\": 1689112232842,\n",
       "  \"changeTypes\": [\n",
       "    \"FeaturesEdited\",\n",
       "    \"FeaturesUpdated\"\n",
       "  ],\n",
       "  \"scheduleInfo\": {\n",
       "    \"name\": \"\",\n",
       "    \"state\": \"enabled\",\n",
       "    \"recurrenceInfo\": {\n",
       "      \"frequency\": \"second\",\n",
       "      \"interval\": 30\n",
       "    }\n",
       "  }\n",
       "}"
      ]
     },
     "execution_count": 13,
     "metadata": {},
     "output_type": "execute_result"
    }
   ],
   "source": [
    "# Edit the WebHook, only define the parameters you want to edit\n",
    "# change_types being updated to a list of specific even types. This means the webhook will now be triggered when\n",
    "# features are edited or updated\n",
    "webhook.edit(\n",
    "    name=None,\n",
    "    change_types=[WebHookEvents.FEATURESEDITED, WebHookEvents.FEATURESUPDATED],\n",
    "    hook_url=None,\n",
    "    signature_key=None,\n",
    "    active=None,\n",
    "    schedule_info=None,\n",
    "    payload_format=None,\n",
    ")\n",
    "webhook.properties"
   ]
  },
  {
   "cell_type": "markdown",
   "id": "9c77b99d",
   "metadata": {},
   "source": [
    "#### Enable and Disable hooks"
   ]
  },
  {
   "cell_type": "code",
   "execution_count": null,
   "id": "478c002f",
   "metadata": {},
   "outputs": [],
   "source": [
    "webhook_manager.disable_hooks()"
   ]
  },
  {
   "cell_type": "code",
   "execution_count": null,
   "id": "aad89e74",
   "metadata": {},
   "outputs": [],
   "source": [
    "webhook_manager.enable_hooks()"
   ]
  },
  {
   "cell_type": "markdown",
   "id": "1508e4b2",
   "metadata": {},
   "source": [
    "#### Clean up"
   ]
  },
  {
   "cell_type": "code",
   "execution_count": null,
   "id": "8c665c1a",
   "metadata": {},
   "outputs": [],
   "source": [
    "# Delete all WebHooks in the WebHook service\n",
    "webhook_manager.delete_all_hooks()"
   ]
  },
  {
   "cell_type": "markdown",
   "id": "adba9f36",
   "metadata": {},
   "source": [
    "### By utilizing a webhook, you can automate the process of receiving notifications about changes in your ArcGIS Online organization's services. This can help you keep track of activity and perform necessary actions in response."
   ]
  },
  {
   "cell_type": "markdown",
   "id": "c586ffe6",
   "metadata": {},
   "source": [
    "More Information: https://developers.arcgis.com/python/api-reference/arcgis.features.managers.html#webhookservicemanager"
   ]
  }
 ],
 "metadata": {
  "kernelspec": {
   "display_name": "Python 3",
   "language": "python",
   "name": "python3"
  },
  "language_info": {
   "codemirror_mode": {
    "name": "ipython",
    "version": 3
   },
   "file_extension": ".py",
   "mimetype": "text/x-python",
   "name": "python",
   "nbconvert_exporter": "python",
   "pygments_lexer": "ipython3",
   "version": "3.9.11"
  }
 },
 "nbformat": 4,
 "nbformat_minor": 5
}
