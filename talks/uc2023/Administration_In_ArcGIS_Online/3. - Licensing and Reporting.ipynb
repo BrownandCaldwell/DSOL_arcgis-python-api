{
 "cells": [
  {
   "cell_type": "markdown",
   "id": "9b45648d",
   "metadata": {},
   "source": [
    "     "
   ]
  },
  {
   "cell_type": "code",
   "execution_count": null,
   "id": "85dd8de4",
   "metadata": {},
   "outputs": [],
   "source": [
    "from IPython.display import display, HTML\n",
    "display(HTML(\"<style>.container { width:90% !important; }</style>\"))"
   ]
  },
  {
   "cell_type": "markdown",
   "id": "fa2bc9c0",
   "metadata": {},
   "source": [
    "<img src=\"./imgs/licensing.webp\"/>"
   ]
  },
  {
   "cell_type": "markdown",
   "id": "1e36b4b1",
   "metadata": {},
   "source": [
    "#### setup the environment "
   ]
  },
  {
   "cell_type": "code",
   "execution_count": null,
   "id": "2dcf0bae",
   "metadata": {},
   "outputs": [],
   "source": [
    "from arcgis.gis import GIS\n",
    "gis = GIS(profile=\"your_online_profile\")\n",
    "um = gis.users"
   ]
  },
  {
   "cell_type": "markdown",
   "id": "6bec9cbb",
   "metadata": {},
   "source": [
    "### Managing Named User Licenses and Entitlements"
   ]
  },
  {
   "cell_type": "markdown",
   "id": "40038862",
   "metadata": {},
   "source": [
    "#### list all licenses in the organization"
   ]
  },
  {
   "cell_type": "code",
   "execution_count": null,
   "id": "496f726c",
   "metadata": {},
   "outputs": [],
   "source": [
    "license_list = gis.admin.license.all()\n",
    "license_list"
   ]
  },
  {
   "cell_type": "markdown",
   "id": "d7812879",
   "metadata": {},
   "source": [
    "#### Working with a Single License"
   ]
  },
  {
   "cell_type": "code",
   "execution_count": null,
   "id": "fc211589",
   "metadata": {},
   "outputs": [],
   "source": [
    "pro_license = gis.admin.license.get('ArcGIS Pro')\n",
    "pro_license"
   ]
  },
  {
   "cell_type": "markdown",
   "id": "120e7802",
   "metadata": {},
   "source": [
    "##### See Who Has Licenses"
   ]
  },
  {
   "cell_type": "code",
   "execution_count": null,
   "id": "9540c604",
   "metadata": {},
   "outputs": [],
   "source": [
    "pro_license.all()[-1]"
   ]
  },
  {
   "cell_type": "code",
   "execution_count": null,
   "id": "5b6c64b3",
   "metadata": {},
   "outputs": [],
   "source": [
    "[l['username'] for l in pro_license.all()]"
   ]
  },
  {
   "cell_type": "markdown",
   "id": "1dae739a",
   "metadata": {},
   "source": [
    "### Revoke the License"
   ]
  },
  {
   "cell_type": "code",
   "execution_count": null,
   "id": "b450a8fd",
   "metadata": {},
   "outputs": [],
   "source": [
    "pro_license.revoke(username=pro_license.all()[-1]['username'], \n",
    "                   entitlements='imageAnalystN')\n",
    "pro_license.all()[-1]"
   ]
  },
  {
   "cell_type": "markdown",
   "id": "e259de62",
   "metadata": {},
   "source": [
    "##### Assigning Licenses to a User"
   ]
  },
  {
   "cell_type": "code",
   "execution_count": null,
   "id": "3e995c1d",
   "metadata": {},
   "outputs": [],
   "source": [
    "pro_license.assign(\n",
    "        username=pro_license.all()[-1]['username'],\n",
    "        entitlements=[\n",
    "            '3DAnalystN',\n",
    "            'airportsN',\n",
    "            'aviationN',\n",
    "            'bathymetryN',\n",
    "            'businessStdN',\n",
    "            'dataInteropN',\n",
    "            'dataReviewerN',\n",
    "            'defenseN',\n",
    "            'desktopAdvN',\n",
    "            'geostatAnalystN',\n",
    "            'imageAnalystN',\n",
    "            'indoorsN',\n",
    "            'locateXTN',\n",
    "            'LocRefDesktopN',\n",
    "            'maritimeN',\n",
    "            'networkAnalystN',\n",
    "            'productionMapN',\n",
    "            'publisherN',\n",
    "            'smpAsiaPacificN',\n",
    "            'smpEuropeN',\n",
    "            'smpLAmericaN',\n",
    "            'smpMidEAfricaN',\n",
    "            'smpNAmericaN',\n",
    "            'spatialAnalystN',\n",
    "            'workflowMgrN',\n",
    "        ],\n",
    "    )\n",
    "pro_license.all()[-1]"
   ]
  },
  {
   "cell_type": "markdown",
   "id": "e901a831",
   "metadata": {},
   "source": [
    "### Plotting Remaining Licenses"
   ]
  },
  {
   "cell_type": "code",
   "execution_count": null,
   "id": "86fedb78",
   "metadata": {},
   "outputs": [],
   "source": [
    "import matplotlib\n",
    "matplotlib.__version__\n",
    "#%matplotlib inline\n",
    "#pro_license.report\n",
    "pro_license.plot()"
   ]
  },
  {
   "cell_type": "markdown",
   "id": "09161d4f",
   "metadata": {},
   "source": [
    "#### Removing Licenses for Stagent Users"
   ]
  },
  {
   "cell_type": "code",
   "execution_count": null,
   "id": "29d27fd5",
   "metadata": {},
   "outputs": [],
   "source": [
    "import datetime as _dt\n",
    "days_back:int = 365 *2\n",
    "older_than:_dt.datetime = _dt.datetime.now() - _dt.timedelta(days=days_back)"
   ]
  },
  {
   "cell_type": "code",
   "execution_count": null,
   "id": "86d9e029",
   "metadata": {},
   "outputs": [],
   "source": [
    "pro_license.report"
   ]
  },
  {
   "cell_type": "code",
   "execution_count": null,
   "id": "e6e20953",
   "metadata": {},
   "outputs": [],
   "source": [
    "users = pro_license.report.iloc[8][\"Users\"]"
   ]
  },
  {
   "cell_type": "code",
   "execution_count": null,
   "id": "4b39d437",
   "metadata": {},
   "outputs": [],
   "source": [
    "stale_users = []\n",
    "for user in users:\n",
    "    if user['lastUsed'] and (older_than > _dt.datetime.strptime(user['lastUsed'], \"%B %d, %Y\") ):\n",
    "        stale_users.append(user['user'])\n",
    "        print([older_than, _dt.datetime.strptime(user['lastUsed'], \"%B %d, %Y\")])\n",
    "    elif user['lastUsed'] is None:\n",
    "        stale_users.append(user['user'])"
   ]
  },
  {
   "cell_type": "code",
   "execution_count": null,
   "id": "86ab8d28",
   "metadata": {},
   "outputs": [],
   "source": [
    "stale_users"
   ]
  },
  {
   "cell_type": "markdown",
   "id": "4b73a5a3",
   "metadata": {},
   "source": [
    "### Querying and Assigning Named Licenses"
   ]
  },
  {
   "cell_type": "code",
   "execution_count": null,
   "id": "029a3edf",
   "metadata": {},
   "outputs": [],
   "source": [
    "pro_license.user_entitlement('arcgis_python')"
   ]
  },
  {
   "cell_type": "markdown",
   "id": "50b5db5e",
   "metadata": {},
   "source": [
    "      "
   ]
  },
  {
   "cell_type": "markdown",
   "id": "99a7ff0c",
   "metadata": {},
   "source": [
    "To revoke an app's license from a user, call the revoke() method from the corresponding License object."
   ]
  },
  {
   "cell_type": "code",
   "execution_count": null,
   "id": "07a43e88",
   "metadata": {},
   "outputs": [],
   "source": [
    "pro_license.revoke(username='arcgis_python', entitlements=\"*\")"
   ]
  },
  {
   "cell_type": "code",
   "execution_count": null,
   "id": "3a3762bf",
   "metadata": {},
   "outputs": [],
   "source": [
    "pro_license.user_entitlement('arcgis_python')"
   ]
  },
  {
   "cell_type": "markdown",
   "id": "cd1fd0b9",
   "metadata": {},
   "source": [
    "You can assign licenses to an application and its extensions using the assign() method."
   ]
  },
  {
   "cell_type": "code",
   "execution_count": null,
   "id": "f407713f",
   "metadata": {},
   "outputs": [],
   "source": [
    "pro_license.assign(username='arcgis_python', entitlements=['3DAnalystN',\n",
    "  'bathymetryN',\n",
    "  'businessStdN',\n",
    "  'dataInteropN',\n",
    "  'dataReviewerN',\n",
    "  'desktopAdvN',\n",
    "  'geostatAnalystN',\n",
    "  'imageAnalystN',\n",
    "  'networkAnalystN',\n",
    "  'publisherN',\n",
    "  'spatialAnalystN'])"
   ]
  },
  {
   "cell_type": "code",
   "execution_count": null,
   "id": "e48ce89a",
   "metadata": {},
   "outputs": [],
   "source": [
    "pro_license.user_entitlement('arcgis_python')"
   ]
  },
  {
   "cell_type": "markdown",
   "id": "da6f7056",
   "metadata": {},
   "source": [
    "    "
   ]
  },
  {
   "cell_type": "markdown",
   "id": "bbcf7481",
   "metadata": {},
   "source": [
    "    "
   ]
  },
  {
   "cell_type": "markdown",
   "id": "bf324a86",
   "metadata": {},
   "source": [
    "# Generating Reports for Organization\n",
    "Generate the reports of the overall usage of the organizations.  \n",
    "Reports define organization usage metrics in one place for the day, week, or month.  \n",
    "Administrators can monitor who is using which services, consuming how much credits and storage within certain time period.\n",
    "\n"
   ]
  },
  {
   "cell_type": "code",
   "execution_count": null,
   "id": "3b1c1d4d",
   "metadata": {},
   "outputs": [],
   "source": [
    "import datetime as _dt\n",
    "import pandas as pd"
   ]
  },
  {
   "cell_type": "code",
   "execution_count": null,
   "id": "741df8d3",
   "metadata": {},
   "outputs": [],
   "source": [
    "date_time_str = '06/06/22'\n",
    "then = _dt.datetime.strptime(date_time_str, '%d/%m/%y')\n",
    "val = int(then.timestamp() * 1000)"
   ]
  },
  {
   "cell_type": "code",
   "execution_count": null,
   "id": "53f0f159",
   "metadata": {},
   "outputs": [],
   "source": [
    "# Create the report, this will create an item in your organization\n",
    "final_item = gis.users.me.report(\n",
    "            report_type='content', duration=\"weekly\", start_time=val\n",
    "        )\n",
    "final_item"
   ]
  },
  {
   "cell_type": "code",
   "execution_count": null,
   "id": "ec7b1baf",
   "metadata": {},
   "outputs": [],
   "source": [
    "# Read the item data into a temporary CSV file\n",
    "csv_file = final_item.get_data()\n",
    "\n",
    "# Read the CSV as a DataFrame\n",
    "df = pd.read_csv(csv_file)"
   ]
  },
  {
   "cell_type": "markdown",
   "id": "a95f3ff2",
   "metadata": {},
   "source": [
    "#### See the Most Viewed Items"
   ]
  },
  {
   "cell_type": "code",
   "execution_count": null,
   "id": "28e823e4",
   "metadata": {},
   "outputs": [],
   "source": [
    "df.sort_values(by=['View Counts'], ascending=False).head()"
   ]
  },
  {
   "cell_type": "markdown",
   "id": "9ff0ffef",
   "metadata": {},
   "source": [
    "#### See the Largest Sized Items"
   ]
  },
  {
   "cell_type": "code",
   "execution_count": null,
   "id": "ee6e90e3",
   "metadata": {},
   "outputs": [],
   "source": [
    "df.sort_values(by=['File Storage Size'], ascending=False).head()[['Title','Item Type', 'File Storage Size']]"
   ]
  },
  {
   "cell_type": "markdown",
   "id": "b454bb47",
   "metadata": {},
   "source": [
    "#### Understand Storage by User"
   ]
  },
  {
   "cell_type": "code",
   "execution_count": null,
   "id": "cd61c719",
   "metadata": {},
   "outputs": [],
   "source": [
    "gb = df.groupby(\"Owner\")['File Storage Size'].sum()\n",
    "gb.nlargest(4).plot(kind='barh')"
   ]
  },
  {
   "cell_type": "code",
   "execution_count": null,
   "id": "4c5bb770",
   "metadata": {},
   "outputs": [],
   "source": [
    "gb"
   ]
  },
  {
   "cell_type": "markdown",
   "id": "178319f6",
   "metadata": {},
   "source": [
    "## Examine Login Activity"
   ]
  },
  {
   "cell_type": "code",
   "execution_count": null,
   "id": "9e8ad89a",
   "metadata": {},
   "outputs": [],
   "source": [
    "date_time_str = '05/06/23'\n",
    "then = _dt.datetime.strptime(date_time_str, '%d/%m/%y')\n",
    "val = int(then.timestamp() * 1000)\n",
    "activitiy_item = gis.users.me.report(\n",
    "            report_type='activity', duration=\"weekly\", start_time=val\n",
    "        )"
   ]
  },
  {
   "cell_type": "code",
   "execution_count": null,
   "id": "8d21a7b0",
   "metadata": {},
   "outputs": [],
   "source": [
    "activitiy_item"
   ]
  },
  {
   "cell_type": "code",
   "execution_count": null,
   "id": "8a247669",
   "metadata": {},
   "outputs": [],
   "source": [
    "# Read the item data into a temporary CSV file\n",
    "csv_activity_file = activitiy_item.get_data()\n",
    "\n",
    "# Read the CSV as a DataFrame\n",
    "df = pd.read_csv(csv_activity_file)"
   ]
  },
  {
   "cell_type": "code",
   "execution_count": null,
   "id": "26acf4fb",
   "metadata": {},
   "outputs": [],
   "source": [
    "df.head()"
   ]
  },
  {
   "cell_type": "code",
   "execution_count": null,
   "id": "464d87b3",
   "metadata": {},
   "outputs": [],
   "source": [
    "df.actor.value_counts()"
   ]
  },
  {
   "cell_type": "markdown",
   "id": "854d24f5",
   "metadata": {},
   "source": [
    "### Find Failed Logins"
   ]
  },
  {
   "cell_type": "code",
   "execution_count": null,
   "id": "e2a4663d",
   "metadata": {},
   "outputs": [],
   "source": [
    "q = df.action == 'failedlogin'\n",
    "df[q].id.value_counts()"
   ]
  },
  {
   "cell_type": "markdown",
   "id": "98968e50",
   "metadata": {},
   "source": [
    "## Credit Reporting"
   ]
  },
  {
   "cell_type": "markdown",
   "id": "096c3196",
   "metadata": {},
   "source": [
    "- provides a report on how the organization spent credits"
   ]
  },
  {
   "cell_type": "code",
   "execution_count": null,
   "id": "9698ee51",
   "metadata": {},
   "outputs": [],
   "source": [
    "#credits\n",
    "date_time_str = '28/5/23'\n",
    "then = _dt.datetime.strptime(date_time_str, '%d/%m/%y')\n",
    "val = int(then.timestamp() * 1000)\n",
    "monthly_item = gis.users.me.report(\n",
    "            report_type='credits', duration=\"weekly\", start_time=val\n",
    "        )"
   ]
  },
  {
   "cell_type": "code",
   "execution_count": null,
   "id": "c15a9128",
   "metadata": {},
   "outputs": [],
   "source": [
    "monthly_item"
   ]
  },
  {
   "cell_type": "code",
   "execution_count": null,
   "id": "653aee0e",
   "metadata": {},
   "outputs": [],
   "source": [
    "# Read the item data into a temporary CSV file\n",
    "csv_credits_file = monthly_item.get_data()\n",
    "\n",
    "# Read the CSV as a DataFrame\n",
    "df = pd.read_csv(csv_credits_file, skiprows=3)\n",
    "df"
   ]
  },
  {
   "cell_type": "code",
   "execution_count": null,
   "id": "f14553cb",
   "metadata": {},
   "outputs": [],
   "source": [
    "q = df['Spatial Analysis'] > 0\n",
    "df[q]"
   ]
  },
  {
   "cell_type": "markdown",
   "id": "8244a899",
   "metadata": {},
   "source": [
    "## Using Search Operations to Monitor Sites"
   ]
  },
  {
   "cell_type": "markdown",
   "id": "4cfb5a13",
   "metadata": {},
   "source": [
    "- The `search` and `advanced_search` operations allows administrators to query GIS systems easily to find out information about the system\n",
    "- The information can easily be parsed using other 3rd party libraries like pandas\n",
    "- This information can be done multiple time a day or hour"
   ]
  },
  {
   "cell_type": "markdown",
   "id": "5c4a765d",
   "metadata": {},
   "source": [
    "### Monitoring Content Using Searches"
   ]
  },
  {
   "cell_type": "markdown",
   "id": "b4ad765d",
   "metadata": {},
   "source": [
    "#### Content Searches\n",
    "\n",
    "Example: Finding Content Types Generated Using Searches\n",
    "\n",
    "Whole document on advanced searching: https://doc.arcgis.com/en/arcgis-online/reference/advanced-search.htm"
   ]
  },
  {
   "cell_type": "code",
   "execution_count": null,
   "id": "81ec0c0e",
   "metadata": {},
   "outputs": [],
   "source": [
    "cm = gis.content"
   ]
  },
  {
   "cell_type": "code",
   "execution_count": null,
   "id": "f74634b5",
   "metadata": {},
   "outputs": [],
   "source": [
    "import datetime as _dt\n",
    "now = _dt.datetime.now()\n",
    "then = now - _dt.timedelta(days=7)\n",
    "search = cm.advanced_search(\n",
    "            f\"orgid: {gis.properties.id} AND created: [{int(then.timestamp()* 1000)} TO {int(now.timestamp()* 1000)}] AND accountid:{gis.properties.id}\", \n",
    "            max_items=-1, as_dict=True)\n",
    "pd.DataFrame(search['results']).type.value_counts()"
   ]
  },
  {
   "cell_type": "markdown",
   "id": "567520eb",
   "metadata": {},
   "source": [
    "#### User Searches - Find Users who Never Logged in"
   ]
  },
  {
   "cell_type": "code",
   "execution_count": null,
   "id": "8d75a266",
   "metadata": {},
   "outputs": [],
   "source": [
    "import string\n",
    "last_login = set()\n",
    "users = gis.users.advanced_search(f\"accountid:{gis.properties.id}\", max_users=-1)\n",
    "[user for user in users['results'] if user['lastLogin'] == -1]"
   ]
  },
  {
   "cell_type": "markdown",
   "id": "ae10510a",
   "metadata": {},
   "source": [
    "**Find Users Haven't Logged in for 90+ Days**"
   ]
  },
  {
   "cell_type": "code",
   "execution_count": null,
   "id": "38f51482",
   "metadata": {},
   "outputs": [],
   "source": [
    "now = _dt.datetime.now(_dt.timezone.utc)\n",
    "greater_than90days = [user for user in users['results'] if user['lastLogin'] > -1 and \\\n",
    " (now - _dt.datetime.fromtimestamp(user['lastLogin']/1000, _dt.timezone.utc)).days >= 90]\n",
    "greater_than90days"
   ]
  }
 ],
 "metadata": {
  "kernelspec": {
   "display_name": "Python 3 (ipykernel)",
   "language": "python",
   "name": "python3"
  },
  "language_info": {
   "codemirror_mode": {
    "name": "ipython",
    "version": 3
   },
   "file_extension": ".py",
   "mimetype": "text/x-python",
   "name": "python",
   "nbconvert_exporter": "python",
   "pygments_lexer": "ipython3",
   "version": "3.9.16"
  }
 },
 "nbformat": 4,
 "nbformat_minor": 5
}
