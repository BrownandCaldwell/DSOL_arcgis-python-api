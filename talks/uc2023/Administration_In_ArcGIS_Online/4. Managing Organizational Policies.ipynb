{
 "cells": [
  {
   "cell_type": "markdown",
   "id": "e40f34c8",
   "metadata": {},
   "source": [
    "# Metadata"
   ]
  },
  {
   "cell_type": "markdown",
   "id": "3fcad62c",
   "metadata": {},
   "source": [
    "<img src=\"./imgs/metadata.jpg\" />\n",
    "\n",
    "- administrators can enable/disable metadata on items"
   ]
  },
  {
   "cell_type": "code",
   "execution_count": null,
   "id": "4729b439",
   "metadata": {},
   "outputs": [],
   "source": [
    "gis = GIS(profile='your_online_profile')"
   ]
  },
  {
   "cell_type": "code",
   "execution_count": null,
   "id": "2335f59b",
   "metadata": {},
   "outputs": [],
   "source": [
    "am = gis.admin"
   ]
  },
  {
   "cell_type": "code",
   "execution_count": null,
   "id": "682734b7",
   "metadata": {},
   "outputs": [],
   "source": [
    "metamgr = am.metadata"
   ]
  },
  {
   "cell_type": "markdown",
   "id": "23299c01",
   "metadata": {},
   "source": [
    "##### Enable Metadata Support"
   ]
  },
  {
   "cell_type": "code",
   "execution_count": null,
   "id": "549a2a00",
   "metadata": {},
   "outputs": [],
   "source": [
    "metamgr.enable()"
   ]
  },
  {
   "cell_type": "code",
   "execution_count": null,
   "id": "889a1df3",
   "metadata": {},
   "outputs": [],
   "source": [
    "metamgr.is_enabled"
   ]
  },
  {
   "cell_type": "markdown",
   "id": "055dbbf8",
   "metadata": {},
   "source": [
    "##### Set the Metadata Format\n",
    "\n",
    "- Supported formats: inspire,iso19139-3.2,fgdc,iso19139,arcgis, or iso19115\n"
   ]
  },
  {
   "cell_type": "code",
   "execution_count": null,
   "id": "fc4ee1cc",
   "metadata": {},
   "outputs": [],
   "source": [
    "metamgr.update(\"arcgis\")"
   ]
  },
  {
   "cell_type": "markdown",
   "id": "18d6c65a",
   "metadata": {},
   "source": [
    "# Login Policies\n",
    "\n",
    "<img src=\"./imgs/password-policy.jpg\"/>"
   ]
  },
  {
   "cell_type": "code",
   "execution_count": null,
   "id": "853ec6b7",
   "metadata": {},
   "outputs": [],
   "source": [
    "password_policy = gis.admin.password_policy\n",
    "password_policy"
   ]
  },
  {
   "cell_type": "markdown",
   "id": "9490ae7b",
   "metadata": {},
   "source": [
    "#### Password Policy"
   ]
  },
  {
   "cell_type": "markdown",
   "id": "3f1ec241",
   "metadata": {},
   "source": [
    "- Allows for administrators to set the minimum strength requirements for a password"
   ]
  },
  {
   "cell_type": "code",
   "execution_count": null,
   "id": "b1df21f7",
   "metadata": {},
   "outputs": [],
   "source": [
    "password_policy.policy"
   ]
  },
  {
   "cell_type": "code",
   "execution_count": null,
   "id": "ec0f8086",
   "metadata": {},
   "outputs": [],
   "source": [
    "password_policy.policy =    {\n",
    "    \"minLength\": 10,\n",
    "    \"minLetter\": 1,\n",
    "    \"minUpper\": 1,\n",
    "    #\"minLower\": 1, # Adds a lower case character requirement\n",
    "    #\"minDigit\": 1, # Adds a numeric character requirement\n",
    "    #\"minOther\": 1, # Adds a special character requirement\n",
    "    #\"expirationInDays\": 90, # Adds a password expiration policy\n",
    "    #\"historySize\": 2 # Adds a password history requirement\n",
    "    \n",
    "   }"
   ]
  },
  {
   "cell_type": "code",
   "execution_count": null,
   "id": "7df99e5c",
   "metadata": {},
   "outputs": [],
   "source": [
    "password_policy.policy"
   ]
  },
  {
   "cell_type": "markdown",
   "id": "43cac180",
   "metadata": {},
   "source": [
    "#### Reset the Password Policy to ArcGIS Default"
   ]
  },
  {
   "cell_type": "code",
   "execution_count": null,
   "id": "fbc5620a",
   "metadata": {},
   "outputs": [],
   "source": [
    "password_policy.reset()"
   ]
  },
  {
   "cell_type": "code",
   "execution_count": null,
   "id": "0d959547",
   "metadata": {},
   "outputs": [],
   "source": [
    "password_policy.policy"
   ]
  },
  {
   "cell_type": "markdown",
   "id": "c43ebf70",
   "metadata": {},
   "source": [
    "#### Lockout Policy\n",
    "\n",
    "- when a user enters a wrong password, when does it lock the account?"
   ]
  },
  {
   "cell_type": "code",
   "execution_count": null,
   "id": "d66e799f",
   "metadata": {},
   "outputs": [],
   "source": [
    "password_policy.lockout_policy"
   ]
  },
  {
   "cell_type": "code",
   "execution_count": null,
   "id": "df11739f",
   "metadata": {},
   "outputs": [],
   "source": [
    "password_policy.lockout_policy = {\n",
    "         'maxInvalidAttempt': 2,\n",
    "         'lockoutPeriodInSeconds': 900\n",
    "}"
   ]
  },
  {
   "cell_type": "code",
   "execution_count": null,
   "id": "0f90f046",
   "metadata": {},
   "outputs": [],
   "source": [
    "password_policy.lockout_policy"
   ]
  },
  {
   "cell_type": "markdown",
   "id": "3772ea25",
   "metadata": {},
   "source": [
    "## Credit Management"
   ]
  },
  {
   "cell_type": "markdown",
   "id": "425c6914",
   "metadata": {},
   "source": [
    "<img src=\"./imgs/broke-wallet.gif\">\n",
    "\n",
    "- don't let users consume all your credits\n",
    "- enable credit management to ensure you limit "
   ]
  },
  {
   "cell_type": "code",
   "execution_count": null,
   "id": "be52916c",
   "metadata": {},
   "outputs": [],
   "source": [
    "credit_mgr = am.credits\n",
    "credit_mgr"
   ]
  },
  {
   "cell_type": "markdown",
   "id": "1e7cfd2e",
   "metadata": {},
   "source": [
    "#### Check if Enabled"
   ]
  },
  {
   "cell_type": "code",
   "execution_count": null,
   "id": "81663413",
   "metadata": {},
   "outputs": [],
   "source": [
    "credit_mgr.is_enabled"
   ]
  },
  {
   "cell_type": "markdown",
   "id": "bc508b66",
   "metadata": {},
   "source": [
    "### Check Available Credits\n",
    "\n",
    "<img src=\"./imgs/scrooge_mcduck.jpg\"/>"
   ]
  },
  {
   "cell_type": "code",
   "execution_count": null,
   "id": "7e23458d",
   "metadata": {},
   "outputs": [],
   "source": [
    "credit_mgr.credits"
   ]
  },
  {
   "cell_type": "markdown",
   "id": "6ab6de7b",
   "metadata": {},
   "source": [
    "### Credit Usage \n",
    "\n",
    "- allows administrators to view credit consumption over time."
   ]
  },
  {
   "cell_type": "code",
   "execution_count": null,
   "id": "a79bc01d",
   "metadata": {},
   "outputs": [],
   "source": [
    "credit_mgr.credit_usage(time_frame= \"6months\")"
   ]
  },
  {
   "cell_type": "markdown",
   "id": "2926f244",
   "metadata": {},
   "source": [
    "### Allocating Credits"
   ]
  },
  {
   "cell_type": "code",
   "execution_count": null,
   "id": "63b04576",
   "metadata": {},
   "outputs": [],
   "source": [
    "user = gis.users.get(\"uc2023sharing\")\n",
    "user"
   ]
  },
  {
   "cell_type": "markdown",
   "id": "725c0bc6",
   "metadata": {},
   "source": [
    "#### Check a User's Credits"
   ]
  },
  {
   "cell_type": "code",
   "execution_count": null,
   "id": "8da1d8d0",
   "metadata": {},
   "outputs": [],
   "source": [
    "user.assignedCredits"
   ]
  },
  {
   "cell_type": "markdown",
   "id": "ad8c3763",
   "metadata": {},
   "source": [
    "#### Setting and Managing Credit Limits"
   ]
  },
  {
   "cell_type": "markdown",
   "id": "72864d92",
   "metadata": {},
   "source": [
    "- setting credit limits ensures a given user won't consume all credits"
   ]
  },
  {
   "cell_type": "code",
   "execution_count": null,
   "id": "d73ace9b",
   "metadata": {},
   "outputs": [],
   "source": [
    "credit_mgr.allocate(user, 500)"
   ]
  },
  {
   "cell_type": "code",
   "execution_count": null,
   "id": "4efcce6f",
   "metadata": {},
   "outputs": [],
   "source": [
    "gis.users.get(\"uc2023sharing\").assignedCredits"
   ]
  },
  {
   "cell_type": "markdown",
   "id": "05297c5c",
   "metadata": {},
   "source": [
    "#### Setting a Default Credit Limit"
   ]
  },
  {
   "cell_type": "code",
   "execution_count": null,
   "id": "b83d21bf",
   "metadata": {},
   "outputs": [],
   "source": [
    "credit_mgr.default_limit = 500\n",
    "credit_mgr.default_limit"
   ]
  }
 ],
 "metadata": {
  "kernelspec": {
   "display_name": "Python 3 (ipykernel)",
   "language": "python",
   "name": "python3"
  },
  "language_info": {
   "codemirror_mode": {
    "name": "ipython",
    "version": 3
   },
   "file_extension": ".py",
   "mimetype": "text/x-python",
   "name": "python",
   "nbconvert_exporter": "python",
   "pygments_lexer": "ipython3",
   "version": "3.9.16"
  }
 },
 "nbformat": 4,
 "nbformat_minor": 5
}
