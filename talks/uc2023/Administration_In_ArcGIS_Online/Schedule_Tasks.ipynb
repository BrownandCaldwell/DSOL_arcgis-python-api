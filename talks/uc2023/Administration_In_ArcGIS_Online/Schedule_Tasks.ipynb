{
 "cells": [
  {
   "cell_type": "markdown",
   "id": "912406ef",
   "metadata": {},
   "source": [
    "![taskmanagement](https://assets-global.website-files.com/6058ba87eec5713e5f80752a/6282f519081a58feae9b1fc4_Task-management-vs-project-management.jpeg)"
   ]
  },
  {
   "cell_type": "markdown",
   "id": "5c244c19",
   "metadata": {},
   "source": [
    "# What are Scheduled Tasks?\n",
    "  \n",
    "Automated processes that can be set up to run at specified intervals or times."
   ]
  },
  {
   "cell_type": "markdown",
   "id": "f70cfa3a",
   "metadata": {},
   "source": [
    "![automation_meme](https://media.makeameme.org/created/i-was-told-1ba2690468.jpg)"
   ]
  },
  {
   "cell_type": "markdown",
   "id": "65f59992",
   "metadata": {},
   "source": [
    "# Use cases:"
   ]
  },
  {
   "cell_type": "markdown",
   "id": "3c9e3bd5",
   "metadata": {},
   "source": [
    "> **Data Management**: Scheduled tasks enable you to automate data management processes within your organization. You can schedule tasks to regularly update, synchronize, or clean up data, ensuring that your datasets are accurate, up to date, and consistent.\n",
    "\n",
    "> **Workload Automation**: Scheduled tasks help streamline administrative workflows by automating routine tasks. This saves time and effort by eliminating the need for manual intervention in repetitive processes. For example, you can schedule tasks to automatically generate and deliver reports, update data sources, or perform data validation checks.\n",
    "\n",
    "> **Timely Updates**: Some workflows require regular updates or synchronization with external systems or data sources. Scheduled tasks ensure that these updates occur at specified intervals, guaranteeing that your organization's data is always current and aligned with the latest information.\n",
    "\n",
    "> **Resource Optimization**: By scheduling tasks during off-peak hours or non-business hours, you can optimize resource utilization within your ArcGIS Online organization. For example, you can schedule resource-intensive geoprocessing tasks to run overnight when server loads are lower, minimizing impact on performance during peak usage periods.\n",
    "\n",
    "> **Proactive Maintenance**: Scheduled tasks can be used for proactive maintenance and monitoring of your ArcGIS Online environment. You can schedule tasks to periodically check for system health, monitor usage patterns, or perform backup operations to ensure the stability and reliability of your organization's resources."
   ]
  },
  {
   "cell_type": "markdown",
   "id": "e0e59357",
   "metadata": {},
   "source": [
    "# Demo: Create a Task"
   ]
  },
  {
   "cell_type": "markdown",
   "id": "bc634b86",
   "metadata": {},
   "source": [
    "#### Establish a Connection"
   ]
  },
  {
   "cell_type": "code",
   "execution_count": 2,
   "id": "45e2fc51",
   "metadata": {},
   "outputs": [],
   "source": [
    "from arcgis.gis import GIS\n",
    "\n",
    "gis = GIS(profile=\"your_online_profile\")"
   ]
  },
  {
   "cell_type": "markdown",
   "id": "bebf75b3",
   "metadata": {},
   "source": [
    "## Get Task Management Class"
   ]
  },
  {
   "cell_type": "code",
   "execution_count": 3,
   "id": "ec0f8118",
   "metadata": {},
   "outputs": [
    {
     "data": {
      "text/plain": [
       "<User naubry_geosaurus Tasks>"
      ]
     },
     "execution_count": 3,
     "metadata": {},
     "output_type": "execute_result"
    }
   ],
   "source": [
    "# The task manager can be called from a property on the user object\n",
    "task_manager = gis.users.me.tasks\n",
    "task_manager"
   ]
  },
  {
   "cell_type": "markdown",
   "id": "1ea8b73b",
   "metadata": {},
   "source": [
    "### See current tasks"
   ]
  },
  {
   "cell_type": "code",
   "execution_count": 4,
   "id": "5a46f47b",
   "metadata": {},
   "outputs": [
    {
     "name": "stdout",
     "output_type": "stream",
     "text": [
      "Generate_Analysis_Reports\n",
      "My_UC_Task\n"
     ]
    }
   ],
   "source": [
    "# get all tasks\n",
    "tasks = task_manager.all\n",
    "\n",
    "# print out task names\n",
    "for task in tasks:\n",
    "    print(task.properties[\"title\"])"
   ]
  },
  {
   "cell_type": "markdown",
   "id": "a31351ae",
   "metadata": {},
   "source": [
    "### Create a Task for a Notebook"
   ]
  },
  {
   "cell_type": "code",
   "execution_count": 5,
   "id": "928b0ec5",
   "metadata": {},
   "outputs": [
    {
     "data": {
      "text/html": [
       "<div class=\"item_container\" style=\"height: auto; overflow: hidden; border: 1px solid #cfcfcf; border-radius: 2px; background: #f6fafa; line-height: 1.21429em; padding: 10px;\">\n",
       "                    <div class=\"item_left\" style=\"width: 210px; float: left;\">\n",
       "                       <a href='https://geosaurus.maps.arcgis.com/home/item.html?id=8b8af7d438dd4463845c6b229dc7d072' target='_blank'>\n",
       "                        <img src='data:image/png;base64,iVBORw0KGgoAAAANSUhEUgAAAMgAAACFCAYAAAAenrcsAAAAGXRFWHRTb2Z0d2FyZQBBZG9iZSBJbWFnZVJlYWR5ccllPAAABPJJREFUeNrs3V+IFHUAwPHf7un987w7T7M/SGmpaJm9GGoqGD0UGUIlWqH9Owgi6qUICimNohd7KhAiQ9IwyoeKShIjQ0sziEQyeygzNTPFUu+f92/bnfXS9WbPM05xnc8HdJy7YWB/znd2ZnZ3NpXJZJYEIFYqG0jGMEC8tCEAgYBAQCAgEBAICAQEAgIBgQACAYGAQEAgIBAQCAgEBAICAYEAAoFzN8gQxNvX1G0QskbVJHsf6rY/RUx//1g07UxoJ4NOdrFlfq1nEHobVpGKptfUJnMPuueYZ1CB9MPyW4ck8nHf+dFx//kCOWV3kT3m7oTtScfUum4jkBj3r2uKph3d+VOyhsr8hjLv08I96eB0qmC5S0XP49q6oNbGIJDeGirzG8h1dWcOSVnB3C9Hu4osV9p6HhcC6dPrs6v7dWx+tuWcc1waHHCCQEAgIBAQCAgELn4u8xax/XBXyL0ycuWQVLisyn5EIBRY9HlTKC8LYc7o8tB4Q0W4eqhIBJJA3//VGTs/99rycKi1O3y1vyM0d2TCslnVthaBJM9D65uj6YiqVMH8joV1YeeRrvDMppbww+FOW4pAkumeseWxP//uYGfY39Qdcu9JrC93eCWQhFo6rSr255NWHw25LnIfmJpXJCIEkhhb/8wfRk27Ij8k88eVh9w7wMfVp8OC8QIRSMI9tbElmm67L/95iBemVhkUBNKj5yQdTufsEwQCAgGBgEDgIuEq1nm2cvOufi338MwJF8V6EcgF9ciyT/L/aGrre0PesPjc1rtkbd8L1FQKRCAlYFj+1qWNc6cM6GobH5jZ5+9XbPrJ2AukdLz16OwLuj6BOEkHgYBAQCAgEBAICAQQCAgEBAIDz1tNiljzc3tIpUIYXZv+704nCISTln7bGt2b98bhZaFrcmWYcZWhEkgCrdp1Inb+xalV4UBzd1i3pyMs39GWDaTG1iKQ5HllW/5zGvUVqYL5XQ/WhYMtmbBhb0f4IxsKAkmkl6bH3yBu5c4TUSDt2TZG1biWIZCEyt1iNM6Ed45G5yA3jSgLT0yutKUIJNlW/Jg/98h9WU50qHVLVXQVK/fFOVNGGiaBJNzbZwRyrzu6I5BT6ircm5fenH2CQEAgIBAQCAgEBAICAYFAAnkl/QJZ9OYXff5+1WO3Dej6EEhpONIUTVZ/sHVAAznb+kK195IJpAS89/zd52e9Ly8wuAIpfQumji2p9eIkHQQCAgGBgEBAIFBqXOYtYvGW1pBOhTC+Ph0WTqgwIALhdB//2h4GZ59fdwzN/pVJhYUTvTItkAR67uuW2PlVt9eEvce7wxvb28KH2VgEIpBE+uy3jmhaUZYqmH91RnV0iJX780+7e/MKJKHevSP+ru3Pbm4JR9oyobUzE26+3JGoQBJq0vCy2J+v/70jujfvXWPKQ+P1TtIFknBPb8qfe7w2qzqarsk+s+TuzTuyKh0aKt11USAJt/1QV8H8xIYyg4JAepTrgRheSQfPIPTXkxtbDIJAKOabA/nXgQanXZgQCL2snTPUIAiEYsbUOi0VSB8e/7J5QJdDIJeEv09koumhg119D9jJHezZliu5DcETR6xUJsswhLCvyRsSc3wnvECg3+wuQCAgEBAICAQEAgIBgYBAQCCAQEAgIBAQCAgEBAICAYGAQEAggEDgfxiUyWSWGgaI968AAwDtOR96K//xXwAAAABJRU5ErkJggg==' width='200' height='133' class=\"itemThumbnail\">\n",
       "                       </a>\n",
       "                    </div>\n",
       "\n",
       "                    <div class=\"item_right\"     style=\"float: none; width: auto; overflow: hidden;\">\n",
       "                        <a href='https://geosaurus.maps.arcgis.com/home/item.html?id=8b8af7d438dd4463845c6b229dc7d072' target='_blank'><b>User_Storage_Notebook</b>\n",
       "                        </a>\n",
       "                        <br/>Notebook that looks at user storage and updates an item every time it is scheduled to do so<img src='https://geosaurus.maps.arcgis.com/home/js/arcgisonline/img/item-types/notebook16.svg' style=\"vertical-align:middle;\" width=16 height=16>Notebook by naubry_geosaurus\n",
       "                        <br/>Last Modified: June 09, 2023\n",
       "                        <br/>0 comments, 33 views\n",
       "                    </div>\n",
       "                </div>\n",
       "                "
      ],
      "text/plain": [
       "<Item title:\"User_Storage_Notebook\" type:Notebook owner:naubry_geosaurus>"
      ]
     },
     "execution_count": 5,
     "metadata": {},
     "output_type": "execute_result"
    }
   ],
   "source": [
    "# Get a notebook\n",
    "notebook_item = gis.content.search(\n",
    "                \"User_Storage_Notebook\", item_type=\"Notebook\"\n",
    "            )[0]\n",
    "notebook_item"
   ]
  },
  {
   "cell_type": "code",
   "execution_count": 6,
   "id": "36839775",
   "metadata": {},
   "outputs": [],
   "source": [
    "# Create a task for the notebook\n",
    "task = task_manager.create(\n",
    "    title=\"Task_test\",\n",
    "    task_type=\"ExecuteNotebook\",\n",
    "    item=notebook_item,\n",
    "    cron=\"2 2 2 2 ?\",\n",
    ")"
   ]
  },
  {
   "cell_type": "code",
   "execution_count": 7,
   "id": "e95097df",
   "metadata": {},
   "outputs": [
    {
     "data": {
      "text/plain": [
       "<Task @ f71bd1fbba6c4221965bbc61669c7565>"
      ]
     },
     "execution_count": 7,
     "metadata": {},
     "output_type": "execute_result"
    }
   ],
   "source": [
    "task"
   ]
  },
  {
   "cell_type": "code",
   "execution_count": 8,
   "id": "ec03098a",
   "metadata": {},
   "outputs": [
    {
     "data": {
      "text/plain": [
       "{'id': 'f71bd1fbba6c4221965bbc61669c7565', 'itemId': '8b8af7d438dd4463845c6b229dc7d072', 'type': 'ExecuteNotebook', 'title': 'Task_test', 'userId': 'naubry_geosaurus', 'cronSchedule': {'minute': '2', 'hour': '2', 'dayOfMonth': '2', 'month': '2', 'dayOfWeek': '?'}, 'runIntervalSeconds': 0, 'maxOccurrences': 10, 'created': 1689112736000, 'updated': 1689112736000, 'active': True, 'taskState': 'active'}"
      ]
     },
     "execution_count": 8,
     "metadata": {},
     "output_type": "execute_result"
    }
   ],
   "source": [
    "task.properties"
   ]
  },
  {
   "cell_type": "markdown",
   "id": "b8d07460",
   "metadata": {},
   "source": [
    "## Update the Task"
   ]
  },
  {
   "cell_type": "code",
   "execution_count": 9,
   "id": "5d4b2490",
   "metadata": {},
   "outputs": [
    {
     "data": {
      "text/plain": [
       "True"
      ]
     },
     "execution_count": 9,
     "metadata": {},
     "output_type": "execute_result"
    }
   ],
   "source": [
    "task.update(title=\"My_UC2023_Task\", cron=\"4 4 4 4 ?\")"
   ]
  },
  {
   "cell_type": "code",
   "execution_count": 10,
   "id": "b531e075",
   "metadata": {},
   "outputs": [
    {
     "name": "stdout",
     "output_type": "stream",
     "text": [
      "My_UC2023_Task\n",
      "{'minute': '4', 'hour': '4', 'dayOfMonth': '4', 'month': '4', 'dayOfWeek': '?'}\n"
     ]
    }
   ],
   "source": [
    "print(task.properties[\"title\"])\n",
    "print(task.properties[\"cronSchedule\"])"
   ]
  },
  {
   "cell_type": "markdown",
   "id": "9cf85f1b",
   "metadata": {},
   "source": [
    "### Clean up"
   ]
  },
  {
   "cell_type": "code",
   "execution_count": 11,
   "id": "916f9c6a",
   "metadata": {},
   "outputs": [
    {
     "data": {
      "text/plain": [
       "True"
      ]
     },
     "execution_count": 11,
     "metadata": {},
     "output_type": "execute_result"
    }
   ],
   "source": [
    "task.delete()"
   ]
  },
  {
   "cell_type": "markdown",
   "id": "22e1b4d5",
   "metadata": {},
   "source": [
    "# Look at the Doc!\n",
    "https://developers.arcgis.com/python/api-reference/arcgis.gis.tasks.html#taskmanager"
   ]
  }
 ],
 "metadata": {
  "kernelspec": {
   "display_name": "Python 3",
   "language": "python",
   "name": "python3"
  },
  "language_info": {
   "codemirror_mode": {
    "name": "ipython",
    "version": 3
   },
   "file_extension": ".py",
   "mimetype": "text/x-python",
   "name": "python",
   "nbconvert_exporter": "python",
   "pygments_lexer": "ipython3",
   "version": "3.9.11"
  }
 },
 "nbformat": 4,
 "nbformat_minor": 5
}
