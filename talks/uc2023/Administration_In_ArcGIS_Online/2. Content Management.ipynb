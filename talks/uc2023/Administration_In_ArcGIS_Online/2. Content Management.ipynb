{
 "cells": [
  {
   "cell_type": "markdown",
   "id": "6e3ff838",
   "metadata": {},
   "source": [
    "#### Setup"
   ]
  },
  {
   "cell_type": "code",
   "execution_count": null,
   "id": "e570e740",
   "metadata": {},
   "outputs": [],
   "source": [
    "from IPython.display import display, HTML\n",
    "display(HTML(\"<style>.container { width:90% !important; }</style>\"))"
   ]
  },
  {
   "cell_type": "markdown",
   "id": "78cd23c4",
   "metadata": {},
   "source": [
    "# Content Management "
   ]
  },
  {
   "cell_type": "markdown",
   "id": "215b3ed1",
   "metadata": {},
   "source": [
    "![Automation!](./imgs/automation.jpg)\n",
    "\n",
    "- Users can host a wide variety of content\n",
    "- Managing content is essential to a well run system\n",
    "- There are multiple [item type](https://developers.arcgis.com/rest/users-groups-and-items/items-and-item-types.htm) that Enterprise/ArcGIS Online can host\n",
    "- Items have a complex [relationship](https://developers.arcgis.com/rest/users-groups-and-items/relationship-types.htm) that is often not visible to the regular user"
   ]
  },
  {
   "cell_type": "markdown",
   "id": "eba937a8",
   "metadata": {},
   "source": [
    "## Why Automate Conent Management?\n",
    "\n",
    "- time saving\n",
    "- increated productivity\n",
    "- consistency and accuracy\n",
    "- version control and tracking\n",
    "- scalability\n"
   ]
  },
  {
   "cell_type": "markdown",
   "id": "ff849e3e",
   "metadata": {},
   "source": [
    "## Understanding your Site"
   ]
  },
  {
   "cell_type": "code",
   "execution_count": null,
   "id": "5ccf82a9",
   "metadata": {},
   "outputs": [],
   "source": [
    "from arcgis.gis import GIS, ContentManager\n",
    "from arcgis.gis import ItemTypeEnum, ItemProperties\n",
    "from arcgis.gis import Item\n",
    "import pandas as pd"
   ]
  },
  {
   "cell_type": "code",
   "execution_count": null,
   "id": "44ff1fde",
   "metadata": {},
   "outputs": [],
   "source": [
    "gis:GIS = GIS(profile='your_online_profile')\n",
    "content_manager:ContentManager = gis.content"
   ]
  },
  {
   "cell_type": "markdown",
   "id": "849aed7b",
   "metadata": {},
   "source": [
    "### Searching and Exploring\n",
    "![Exploring!](./imgs/exploring.jpg)\n",
    "\n",
    "- If you don't know what you have, how can you move forward?\n",
    "- The `search` and `advanced_search` methods allow you to explore, understand and find content\n",
    "- Built-in reports provide insights"
   ]
  },
  {
   "cell_type": "markdown",
   "id": "65816d6e",
   "metadata": {},
   "source": [
    "#### Basic Search\n",
    "\n",
    "- Gives a general insight into Items located on your site\n",
    "- Need to specify the number of items returned\n",
    "- Always searches within your organization first"
   ]
  },
  {
   "cell_type": "code",
   "execution_count": null,
   "id": "d416d71d",
   "metadata": {},
   "outputs": [],
   "source": [
    "items = content_manager.search(\"Roads\")\n",
    "items"
   ]
  },
  {
   "cell_type": "markdown",
   "id": "0a3fd6fd",
   "metadata": {},
   "source": [
    "##### Filtering by Type\n",
    "\n",
    "- When you want a specific type of data, use `item_type`"
   ]
  },
  {
   "cell_type": "code",
   "execution_count": null,
   "id": "ca91cfe2",
   "metadata": {},
   "outputs": [],
   "source": [
    "#Getting Help in Jupyter Notebooks:\n",
    "content_manager.search?"
   ]
  },
  {
   "cell_type": "code",
   "execution_count": null,
   "id": "0a7f2a7f",
   "metadata": {},
   "outputs": [],
   "source": [
    "items = content_manager.search(query=\"Roads\",\n",
    "                               item_type=\"Web Map\", \n",
    "                               outside_org=True,\n",
    "                               max_items=100)\n",
    "items"
   ]
  },
  {
   "cell_type": "markdown",
   "id": "e5b18f9b",
   "metadata": {},
   "source": [
    "##### Filtering by a User"
   ]
  },
  {
   "cell_type": "code",
   "execution_count": null,
   "id": "297e75cc",
   "metadata": {},
   "outputs": [],
   "source": [
    "items = content_manager.search(query=f\"Roads owner:{gis.users.me.username}\",\n",
    "                               item_type=\"Web Map\", \n",
    "                               enrich=True)\n",
    "items"
   ]
  },
  {
   "cell_type": "markdown",
   "id": "669f8265",
   "metadata": {},
   "source": [
    "#### Advanced Search\n",
    "\n",
    "- fully customize the search experience"
   ]
  },
  {
   "cell_type": "code",
   "execution_count": null,
   "id": "f946da62",
   "metadata": {},
   "outputs": [],
   "source": [
    "items = content_manager.advanced_search(query=\"Roads type:'Web Map'\", as_dict=True)\n",
    "items['results'][0]"
   ]
  },
  {
   "cell_type": "markdown",
   "id": "b2a98dbf",
   "metadata": {},
   "source": [
    "##### Gathering Statistics\n",
    "\n",
    "- How do we know what is on our organization as a glance?\n",
    "- Advanced statistics gives insight into what is on our site"
   ]
  },
  {
   "cell_type": "code",
   "execution_count": null,
   "id": "66fc1167",
   "metadata": {},
   "outputs": [],
   "source": [
    "counts = content_manager.advanced_search(query=f\"accountid:{gis.properties.id}\", \n",
    "                                count_fields=\"type, access\", \n",
    "                                count_size=200)"
   ]
  },
  {
   "cell_type": "code",
   "execution_count": null,
   "id": "9fc43dc8",
   "metadata": {},
   "outputs": [],
   "source": [
    "counts"
   ]
  },
  {
   "cell_type": "markdown",
   "id": "4535d029",
   "metadata": {},
   "source": [
    "###### Exploring the Access Types of Items"
   ]
  },
  {
   "cell_type": "code",
   "execution_count": null,
   "id": "6b066a22",
   "metadata": {},
   "outputs": [],
   "source": [
    "data = counts['counts'][0]['fieldValues']\n",
    "df = pd.DataFrame(data, )\n",
    "df.columns=['access', 'count']\n",
    "df.plot.bar(x='access', y='count', rot=0)"
   ]
  },
  {
   "cell_type": "markdown",
   "id": "f1c98a89",
   "metadata": {},
   "source": [
    "##### Exploring the Top 5 Content Types"
   ]
  },
  {
   "cell_type": "code",
   "execution_count": null,
   "id": "0a853278",
   "metadata": {},
   "outputs": [],
   "source": [
    "df = pd.DataFrame(counts['counts'][1]['fieldValues']).head()\n",
    "df.columns=['type', 'count']\n",
    "df.plot.bar(x='type', \n",
    "            y='count', \n",
    "            rot=45, \n",
    "            color=['C0', 'C1', 'C2', 'C4', 'C5'], \n",
    "            legend=False)"
   ]
  },
  {
   "cell_type": "markdown",
   "id": "6b6968d1",
   "metadata": {},
   "source": [
    "### Looking at a Specific User's Content\n",
    "\n",
    "![User Exploration!](./imgs/magnifying-glass.avif)\n",
    "\n",
    "- Users hold content, that means examining user content is very important\n",
    "- As an administrator, you can stage, modify and delete user content"
   ]
  },
  {
   "cell_type": "code",
   "execution_count": null,
   "id": "5685cc2d",
   "metadata": {},
   "outputs": [],
   "source": [
    "user = gis.users.get(\"uc2023sharing\")"
   ]
  },
  {
   "cell_type": "code",
   "execution_count": null,
   "id": "c716b7bb",
   "metadata": {},
   "outputs": [],
   "source": [
    "items = user.items(max_items=10000)\n",
    "print(f\"This users: {user.username} has {len(items)} items!\")"
   ]
  },
  {
   "cell_type": "markdown",
   "id": "83a7ab10",
   "metadata": {},
   "source": [
    "#### Look at the Sharing and Types"
   ]
  },
  {
   "cell_type": "code",
   "execution_count": null,
   "id": "085b7893",
   "metadata": {},
   "outputs": [],
   "source": [
    "counts = content_manager.advanced_search(\n",
    "    query=f\"owner:{user.username} accountid:{gis.properties.id}\", \n",
    "    count_fields=\"type, access\", \n",
    "    count_size=200)"
   ]
  },
  {
   "cell_type": "markdown",
   "id": "13852e79",
   "metadata": {},
   "source": [
    "**Sharing Break Down**"
   ]
  },
  {
   "cell_type": "code",
   "execution_count": null,
   "id": "1fafe30b",
   "metadata": {},
   "outputs": [],
   "source": [
    "data = counts['counts'][0]['fieldValues']\n",
    "df = pd.DataFrame(data, )\n",
    "df.columns=['access', 'count']\n",
    "df.plot.bar(x='access', y='count', rot=0)"
   ]
  },
  {
   "cell_type": "markdown",
   "id": "8d0a0175",
   "metadata": {},
   "source": [
    "**Item Type Breakdown**"
   ]
  },
  {
   "cell_type": "code",
   "execution_count": null,
   "id": "32754d51",
   "metadata": {},
   "outputs": [],
   "source": [
    "df = pd.DataFrame(counts['counts'][1]['fieldValues']).head(10)\n",
    "df.columns=['type', 'count']\n",
    "df.plot.bar(x='type', \n",
    "            y='count', \n",
    "            rot=45, \n",
    "            color=['C0', 'C1', 'C2', 'C4', 'C5'], \n",
    "            legend=False)"
   ]
  },
  {
   "cell_type": "markdown",
   "id": "ceac0107",
   "metadata": {},
   "source": [
    "**Find Private Items with Relationships**"
   ]
  },
  {
   "cell_type": "code",
   "execution_count": null,
   "id": "38824a1e",
   "metadata": {},
   "outputs": [],
   "source": [
    "query=f'owner:{user.username}  access:private accountid:{gis.properties.id}  type:(\"Feature Collection\" OR \"Feature Service\")'\n",
    "target_items = content_manager.advanced_search(\n",
    "    query=query, \n",
    "    max_items=-1)['results']"
   ]
  },
  {
   "cell_type": "code",
   "execution_count": null,
   "id": "1f071508",
   "metadata": {},
   "outputs": [],
   "source": [
    "directions = ['forward', 'reverse']\n",
    "relationships = ['Service2Data','Solution2Item']"
   ]
  },
  {
   "cell_type": "code",
   "execution_count": null,
   "id": "58ae0cac",
   "metadata": {},
   "outputs": [],
   "source": [
    "removable_items = []\n",
    "dependant_items = {}\n",
    "for item in target_items[:20]:\n",
    "    related_items = []\n",
    "    for direction in directions:\n",
    "        for rel in relationships:\n",
    "            try:\n",
    "                related_items.extend(item.related_items(rel_type=rel, \n",
    "                                                        direction=direction))\n",
    "            except:\n",
    "                ...\n",
    "    \n",
    "    if len(related_items) == 0:\n",
    "        removable_items.append(item) \n",
    "    else:\n",
    "        if item.id in dependant_items:\n",
    "            dependant_items[item.id]['rels'].extend(related_items)\n",
    "        else:\n",
    "            dependant_items[item.id] = {}\n",
    "            dependant_items[item.id] = {'source' : item}\n",
    "            dependant_items[item.id]['rels'] = related_items"
   ]
  },
  {
   "cell_type": "code",
   "execution_count": null,
   "id": "360a9b20",
   "metadata": {},
   "outputs": [],
   "source": [
    "dependant_items[list(dependant_items.keys())[0]]"
   ]
  },
  {
   "cell_type": "markdown",
   "id": "de5eabc7",
   "metadata": {},
   "source": [
    "- when deleting items, you must clean up the children!"
   ]
  },
  {
   "cell_type": "markdown",
   "id": "aac8a98f",
   "metadata": {},
   "source": [
    "### Adding and Publishing Content\n",
    "\n",
    "![Add and Publish Content!](./imgs/automation_zoolander.jpg)\n",
    "\n",
    "- So far, we have looked at other people's content \n",
    "- Users with creator+ permissions can add and publish new content\n",
    "- The Python API removes those clicks, and no one likes clicks"
   ]
  },
  {
   "cell_type": "code",
   "execution_count": null,
   "id": "383ed8c2",
   "metadata": {},
   "outputs": [],
   "source": [
    "import uuid\n",
    "username = \"a\" + uuid.uuid4().hex[:5] + \"z\"\n",
    "old_pw = \"m3g4S3CUR3!2\"\n",
    "um = gis.users\n",
    "user = um.create(username=username,\n",
    "                 password=old_pw,\n",
    "                 firstname=\"Rando\",\n",
    "                 lastname=\"Account\",\n",
    "                 email=\"python@esri.com\")\n",
    "user"
   ]
  },
  {
   "cell_type": "markdown",
   "id": "d70fc79c",
   "metadata": {},
   "source": [
    "##### Setting a User's Security Question"
   ]
  },
  {
   "cell_type": "code",
   "execution_count": null,
   "id": "86008e8d",
   "metadata": {},
   "outputs": [],
   "source": [
    "pw = uuid.uuid4().hex[:5]+ \"!aA\"\n",
    "user.update(security_question=1,\n",
    "            security_answer=uuid.uuid4().hex)"
   ]
  },
  {
   "cell_type": "markdown",
   "id": "fd815f03",
   "metadata": {},
   "source": [
    "##### Reset a User's Password"
   ]
  },
  {
   "cell_type": "code",
   "execution_count": null,
   "id": "ed15953b",
   "metadata": {},
   "outputs": [],
   "source": [
    "user.reset(password=old_pw,\n",
    "           new_password=pw)"
   ]
  },
  {
   "cell_type": "code",
   "execution_count": null,
   "id": "3ae7ef31",
   "metadata": {},
   "outputs": [],
   "source": [
    "GIS(username=user.username, password=pw, set_active=False).users.me"
   ]
  },
  {
   "cell_type": "markdown",
   "id": "84641bb5",
   "metadata": {},
   "source": [
    "##### Add Content to New User"
   ]
  },
  {
   "cell_type": "markdown",
   "id": "8483c8eb",
   "metadata": {},
   "source": [
    "- `ItemProperties` is a defined data class to assist you with adding new content\n",
    "- `ItemTypeEnum` is an enumeration with common item types"
   ]
  },
  {
   "cell_type": "code",
   "execution_count": null,
   "id": "bc9758fa",
   "metadata": {},
   "outputs": [],
   "source": [
    "item = gis.content.add(\n",
    "                        item_properties= ItemProperties(\n",
    "                            title=\"Madison Urban Areas\", \n",
    "                            item_type=ItemTypeEnum.SHAPEFILE),\n",
    "                        data=\"C:\\GIS\\Madison_Urban_Area_Boundary.zip\",\n",
    "                        owner=user)\n",
    "item"
   ]
  },
  {
   "cell_type": "markdown",
   "id": "c979752e",
   "metadata": {},
   "source": [
    "##### Publishing Content"
   ]
  },
  {
   "cell_type": "code",
   "execution_count": null,
   "id": "7120520c",
   "metadata": {},
   "outputs": [],
   "source": [
    "pitem = item.publish({\"name\" : \"madison_uab\"})\n",
    "pitem"
   ]
  },
  {
   "cell_type": "markdown",
   "id": "65f54c05",
   "metadata": {},
   "source": [
    "##### Adding/Publishing Tabular Content"
   ]
  },
  {
   "cell_type": "code",
   "execution_count": null,
   "id": "865dd2f6",
   "metadata": {},
   "outputs": [],
   "source": [
    "import io, uuid\n",
    "import pandas as pd"
   ]
  },
  {
   "cell_type": "code",
   "execution_count": null,
   "id": "8998609e",
   "metadata": {},
   "outputs": [],
   "source": [
    "buffer = io.StringIO()\n",
    "df = pd.read_csv(\"./data/banklist.csv\")\n",
    "df.to_csv(buffer)"
   ]
  },
  {
   "cell_type": "code",
   "execution_count": null,
   "id": "f81dc2eb",
   "metadata": {},
   "outputs": [],
   "source": [
    "item_failed_banks = gis.content.add(\n",
    "        item_properties={\n",
    "            \"type\": \"CSV\",\n",
    "            \"title\": \"Failed Banks\",\n",
    "            \"fileName\": f\"failedbanks{uuid.uuid4().hex[:5]}.csv\",\n",
    "        },\n",
    "        data=buffer,\n",
    ")"
   ]
  },
  {
   "cell_type": "code",
   "execution_count": null,
   "id": "1da905c9",
   "metadata": {},
   "outputs": [],
   "source": [
    "item_failed_banks"
   ]
  },
  {
   "cell_type": "code",
   "execution_count": null,
   "id": "867ed48b",
   "metadata": {},
   "outputs": [],
   "source": [
    "analyzed = gis.content.analyze(item=item_failed_banks)\n",
    "analyzed.keys()"
   ]
  },
  {
   "cell_type": "code",
   "execution_count": null,
   "id": "3d67fba4",
   "metadata": {},
   "outputs": [],
   "source": [
    "publish_parameters = analyzed['publishParameters']\n",
    "publish_parameters[\n",
    "        'name'\n",
    "    ] = f\"Failed_Banks_{uuid.uuid4().hex[:2]}\"  # this needs to be updated\n",
    "publish_parameters['locationType'] = \"none\"  # this makes it a hosted table"
   ]
  },
  {
   "cell_type": "code",
   "execution_count": null,
   "id": "192e3d8a",
   "metadata": {},
   "outputs": [],
   "source": [
    "published_item = item_failed_banks.publish(publish_parameters)\n",
    "published_item"
   ]
  },
  {
   "cell_type": "markdown",
   "id": "f30b961b",
   "metadata": {},
   "source": [
    "##### Reassigning Items"
   ]
  },
  {
   "cell_type": "code",
   "execution_count": null,
   "id": "b9f93c85",
   "metadata": {},
   "outputs": [],
   "source": [
    "published_item.reassign_to(target_owner=user.username)"
   ]
  },
  {
   "cell_type": "markdown",
   "id": "f1d75a29",
   "metadata": {},
   "source": []
  },
  {
   "cell_type": "markdown",
   "id": "fbf1814f",
   "metadata": {},
   "source": [
    "##### Updating Items\n",
    "\n",
    "- Items once published can be modified\n"
   ]
  },
  {
   "cell_type": "code",
   "execution_count": null,
   "id": "57c58c8f",
   "metadata": {},
   "outputs": [],
   "source": [
    "pitem.update(thumbnail=r\"./imgs/dino_icon.png\")\n",
    "pitem"
   ]
  },
  {
   "cell_type": "markdown",
   "id": "f4bce903",
   "metadata": {},
   "source": [
    "##### Sharing is Caring\n",
    "\n",
    "- items can be shared out to the world organization, or groups"
   ]
  },
  {
   "cell_type": "code",
   "execution_count": null,
   "id": "3e245285",
   "metadata": {},
   "outputs": [],
   "source": [
    "pitem.shared_with"
   ]
  },
  {
   "cell_type": "code",
   "execution_count": null,
   "id": "1ac45ef0",
   "metadata": {},
   "outputs": [],
   "source": [
    "pitem.share(everyone= False,\n",
    "            org=True,\n",
    "            groups=None)"
   ]
  },
  {
   "cell_type": "code",
   "execution_count": null,
   "id": "6fa354d1",
   "metadata": {},
   "outputs": [],
   "source": [
    "pitem.shared_with"
   ]
  },
  {
   "cell_type": "code",
   "execution_count": null,
   "id": "6e6cbacb",
   "metadata": {},
   "outputs": [],
   "source": [
    "pitem.share(everyone=True, org=True, groups=None)\n",
    "pitem.shared_with"
   ]
  },
  {
   "cell_type": "code",
   "execution_count": null,
   "id": "e99aeef7",
   "metadata": {},
   "outputs": [],
   "source": [
    "grp = gis.groups.create(title='groupdemoshare', tags='tags')\n",
    "pitem.share(everyone=False, org=False, groups=[grp])\n",
    "pitem.shared_with"
   ]
  },
  {
   "cell_type": "code",
   "execution_count": null,
   "id": "99b533d3",
   "metadata": {},
   "outputs": [],
   "source": [
    "grp.delete()\n",
    "pitem.shared_with"
   ]
  },
  {
   "cell_type": "code",
   "execution_count": null,
   "id": "78ccffe9",
   "metadata": {},
   "outputs": [],
   "source": [
    "pitem.delete()\n",
    "item.delete()"
   ]
  },
  {
   "cell_type": "markdown",
   "id": "ad43400e",
   "metadata": {},
   "source": [
    "#### Reporting on Content\n",
    "\n",
    "- as administrators, you have the ability to report on user's information"
   ]
  },
  {
   "cell_type": "code",
   "execution_count": null,
   "id": "63940fad",
   "metadata": {},
   "outputs": [],
   "source": [
    "import datetime\n",
    "admin = gis.users.me\n",
    "report_item = admin.report(\"content\", \n",
    "                           datetime.datetime.now() - datetime.timedelta(days=10))\n",
    "report_item"
   ]
  },
  {
   "cell_type": "code",
   "execution_count": null,
   "id": "7e0a4bdd",
   "metadata": {},
   "outputs": [],
   "source": [
    "fp = report_item.get_data()\n",
    "df = pd.read_csv(fp)\n",
    "q = df['View Counts'] < 1\n",
    "df[q]['Item Type'].value_counts()"
   ]
  },
  {
   "cell_type": "markdown",
   "id": "ddc31b37",
   "metadata": {},
   "source": [
    "#### Removing Content"
   ]
  },
  {
   "cell_type": "code",
   "execution_count": null,
   "id": "e57e1782",
   "metadata": {},
   "outputs": [],
   "source": [
    "cm:ContentManager = gis.content\n",
    "cm"
   ]
  },
  {
   "cell_type": "markdown",
   "id": "6dba5054",
   "metadata": {},
   "source": [
    "##### Delete on an Item Itself"
   ]
  },
  {
   "cell_type": "code",
   "execution_count": null,
   "id": "c4eca4c8",
   "metadata": {},
   "outputs": [],
   "source": [
    "item = gis.users.get(\"uc2023sharing\").items()[1]\n",
    "item"
   ]
  },
  {
   "cell_type": "code",
   "execution_count": null,
   "id": "836c42eb",
   "metadata": {},
   "outputs": [],
   "source": [
    "item_id = item.id\n",
    "item_id"
   ]
  },
  {
   "cell_type": "code",
   "execution_count": null,
   "id": "ae626676",
   "metadata": {},
   "outputs": [],
   "source": [
    "item.delete()"
   ]
  },
  {
   "cell_type": "markdown",
   "id": "0bc2a301",
   "metadata": {},
   "source": [
    "##### Demo Removing All Hosted Services"
   ]
  },
  {
   "cell_type": "markdown",
   "id": "a9dd31a3",
   "metadata": {},
   "source": [
    "- examine the staging script \n",
    "- understand the removal process"
   ]
  },
  {
   "cell_type": "code",
   "execution_count": null,
   "id": "ecccb498",
   "metadata": {},
   "outputs": [],
   "source": [
    "import concurrent.futures"
   ]
  },
  {
   "cell_type": "code",
   "execution_count": null,
   "id": "fd63f586",
   "metadata": {},
   "outputs": [],
   "source": [
    "services = gis.content.search(\"owner:uc2023sharing type:'Feature Service'\", max_items=100)\n",
    "fn = lambda item:item.delete()\n",
    "with concurrent.futures.ThreadPoolExecutor(10) as tp:\n",
    "    jobs = {}\n",
    "    for service in services:\n",
    "        future = tp.submit(fn, **{'item' : service})\n",
    "        jobs[future] = service\n",
    "        del service\n",
    "    for job in concurrent.futures.as_completed(jobs):\n",
    "        itemid = jobs[job].id\n",
    "        print(f\"Removing item: {itemid} resulted as: {job.result()}\")\n",
    "print('completed')"
   ]
  },
  {
   "cell_type": "code",
   "execution_count": null,
   "id": "f71bd4d7",
   "metadata": {},
   "outputs": [],
   "source": [
    "[item.delete() for item in user.items()]\n",
    "user.delete()"
   ]
  }
 ],
 "metadata": {
  "kernelspec": {
   "display_name": "Python 3 (ipykernel)",
   "language": "python",
   "name": "python3"
  },
  "language_info": {
   "codemirror_mode": {
    "name": "ipython",
    "version": 3
   },
   "file_extension": ".py",
   "mimetype": "text/x-python",
   "name": "python",
   "nbconvert_exporter": "python",
   "pygments_lexer": "ipython3",
   "version": "3.9.16"
  }
 },
 "nbformat": 4,
 "nbformat_minor": 5
}
