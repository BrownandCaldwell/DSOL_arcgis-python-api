{
 "cells": [
  {
   "cell_type": "markdown",
   "id": "cea880e1",
   "metadata": {},
   "source": [
    "# Homepage, General, Map Settings, and More!"
   ]
  },
  {
   "cell_type": "markdown",
   "id": "c07a110e",
   "metadata": {},
   "source": [
    "![homepage](https://media.istockphoto.com/id/687884700/vector/line-web-browser-window-mockup-website-page-template.jpg?s=612x612&w=0&k=20&c=qyjV3B5tdsv6tTjtBAfXbfGkYei5zjcMh9z0Smms2-E=)"
   ]
  },
  {
   "cell_type": "markdown",
   "id": "0dfd9956",
   "metadata": {},
   "source": [
    "# Where do settings come from?\n",
    "  \n",
    "  The admin module has a UX class which holds all the properties and methods needed to make edits to you organization's settings."
   ]
  },
  {
   "cell_type": "markdown",
   "id": "18a7e388",
   "metadata": {},
   "source": [
    "> **UX Class** is a helper class for modifying org settings. From this class we can call properties that will create instances of other classes used to modify settings such as HomePageSettings, Map Settings, SecuritySettings, and other classes "
   ]
  },
  {
   "cell_type": "markdown",
   "id": "2d125f05",
   "metadata": {
    "heading_collapsed": true
   },
   "source": [
    "#### Import Necessary Libraries"
   ]
  },
  {
   "cell_type": "code",
   "execution_count": 13,
   "id": "f70c1e2b",
   "metadata": {
    "hidden": true
   },
   "outputs": [],
   "source": [
    "import sys\n",
    "sys.path.insert(0, r\"C:\\ipython_workfolder\\geosaurus\\src\")"
   ]
  },
  {
   "cell_type": "markdown",
   "id": "0740654f",
   "metadata": {},
   "source": [
    "#### GIS class"
   ]
  },
  {
   "cell_type": "code",
   "execution_count": 14,
   "id": "71680769",
   "metadata": {},
   "outputs": [],
   "source": [
    "from arcgis.gis import GIS"
   ]
  },
  {
   "cell_type": "markdown",
   "id": "cb4759e2",
   "metadata": {},
   "source": [
    "## Login to Enterprise Org"
   ]
  },
  {
   "cell_type": "code",
   "execution_count": 15,
   "id": "8cf60f50",
   "metadata": {},
   "outputs": [
    {
     "data": {
      "text/html": [
       "GIS @ <a href=\"https://rextapilnx02eb.esri.com/portal\">https://rextapilnx02eb.esri.com/portal</a>"
      ],
      "text/plain": [
       "GIS @ https://rextapilnx02eb.esri.com/portal version:10.3"
      ]
     },
     "execution_count": 15,
     "metadata": {},
     "output_type": "execute_result"
    }
   ],
   "source": [
    "ent = GIS(profile=\"your_enterprise_profile\")\n",
    "ent"
   ]
  },
  {
   "cell_type": "code",
   "execution_count": 16,
   "id": "6f616e1a",
   "metadata": {},
   "outputs": [
    {
     "data": {
      "text/plain": [
       "< PortalAdminManager @ https://rextapilnx02eb.esri.com/portal/portaladmin >"
      ]
     },
     "execution_count": 16,
     "metadata": {},
     "output_type": "execute_result"
    }
   ],
   "source": [
    "# access admin class\n",
    "admin = ent.admin\n",
    "admin"
   ]
  },
  {
   "cell_type": "markdown",
   "id": "80a35545",
   "metadata": {},
   "source": [
    "## HomePage Settings"
   ]
  },
  {
   "cell_type": "code",
   "execution_count": 17,
   "id": "625f1944",
   "metadata": {},
   "outputs": [
    {
     "data": {
      "text/plain": [
       "<arcgis.gis.admin._ux.HomePageSettings at 0x20eb01fdd30>"
      ]
     },
     "execution_count": 17,
     "metadata": {},
     "output_type": "execute_result"
    }
   ],
   "source": [
    "# get homepage settings class\n",
    "hps = admin.ux.homepage_settings\n",
    "hps"
   ]
  },
  {
   "cell_type": "markdown",
   "id": "4ea5e2d3",
   "metadata": {},
   "source": [
    "##### Get the settings and assign to variables we can use later"
   ]
  },
  {
   "cell_type": "code",
   "execution_count": 18,
   "id": "e413b33e",
   "metadata": {},
   "outputs": [
    {
     "data": {
      "text/plain": [
       "'GEOLOGYAMBER'"
      ]
     },
     "execution_count": 18,
     "metadata": {},
     "output_type": "execute_result"
    }
   ],
   "source": [
    "bkgrnd = hps.get_background()\n",
    "bkgrnd"
   ]
  },
  {
   "cell_type": "code",
   "execution_count": 19,
   "id": "a52b20db",
   "metadata": {},
   "outputs": [
    {
     "data": {
      "text/plain": [
       "'C:\\\\ipython_workfolder\\\\Content\\\\home.logo1604539657244.png'"
      ]
     },
     "execution_count": 19,
     "metadata": {},
     "output_type": "execute_result"
    }
   ],
   "source": [
    "logo = hps.get_logo(r\"C:\\ipython_workfolder\\Content\")\n",
    "logo"
   ]
  },
  {
   "cell_type": "code",
   "execution_count": 20,
   "id": "5a9ff27d",
   "metadata": {},
   "outputs": [
    {
     "data": {
      "text/plain": [
       "{'title': 'ArcGIS API for Python Organization',\n",
       " 'show_title': True,\n",
       " 'color': '#000000',\n",
       " 'position': 'middle',\n",
       " 'alignment': 'center'}"
      ]
     },
     "execution_count": 20,
     "metadata": {},
     "output_type": "execute_result"
    }
   ],
   "source": [
    "title = hps.get_title()\n",
    "title"
   ]
  },
  {
   "cell_type": "code",
   "execution_count": 21,
   "id": "01500ef3",
   "metadata": {},
   "outputs": [
    {
     "data": {
      "text/plain": [
       "{'email': 'support@esri.com', 'show_email': True}"
      ]
     },
     "execution_count": 21,
     "metadata": {},
     "output_type": "execute_result"
    }
   ],
   "source": [
    "contact_email = hps.get_contact_email()\n",
    "contact_email"
   ]
  },
  {
   "cell_type": "code",
   "execution_count": 22,
   "id": "f4251009",
   "metadata": {},
   "outputs": [
    {
     "data": {
      "text/plain": [
       "{'contact': {'email': 'support@esri.com', 'show_email': True},\n",
       " 'text': '',\n",
       " 'show_text': False,\n",
       " 'color': 'medium-ramp',\n",
       " 'custom_color': ''}"
      ]
     },
     "execution_count": 22,
     "metadata": {},
     "output_type": "execute_result"
    }
   ],
   "source": [
    "footer = hps.get_footer()\n",
    "footer"
   ]
  },
  {
   "cell_type": "code",
   "execution_count": 23,
   "id": "f6fdb60f",
   "metadata": {},
   "outputs": [
    {
     "data": {
      "text/plain": [
       "['Avenir Next', 'Avenir Next']"
      ]
     },
     "execution_count": 23,
     "metadata": {},
     "output_type": "execute_result"
    }
   ],
   "source": [
    "font = hps.get_typography()\n",
    "font"
   ]
  },
  {
   "cell_type": "code",
   "execution_count": 24,
   "id": "c78ea70a",
   "metadata": {},
   "outputs": [
    {
     "data": {
      "text/plain": [
       "'gs'"
      ]
     },
     "execution_count": 24,
     "metadata": {},
     "output_type": "execute_result"
    }
   ],
   "source": [
    "color = hps.get_base_color()\n",
    "color"
   ]
  },
  {
   "cell_type": "markdown",
   "id": "d5230bef",
   "metadata": {},
   "source": [
    "## Login to Online Organization"
   ]
  },
  {
   "cell_type": "code",
   "execution_count": 25,
   "id": "2d4f5cea",
   "metadata": {},
   "outputs": [
    {
     "data": {
      "text/plain": [
       "< AGOLAdminManager @ https://devgeosaurus.mapsdevext.arcgis.com/sharing/rest/ >"
      ]
     },
     "execution_count": 25,
     "metadata": {},
     "output_type": "execute_result"
    }
   ],
   "source": [
    "online = GIS(profile=\"your_online_profile\")\n",
    "online.admin"
   ]
  },
  {
   "cell_type": "markdown",
   "id": "76c28fc7",
   "metadata": {},
   "source": [
    "##### Get homepage settings class so we can set the properties"
   ]
  },
  {
   "cell_type": "code",
   "execution_count": 26,
   "id": "bc675024",
   "metadata": {},
   "outputs": [
    {
     "data": {
      "text/plain": [
       "<arcgis.gis.admin._ux.HomePageSettings at 0x20eaa31cdc0>"
      ]
     },
     "execution_count": 26,
     "metadata": {},
     "output_type": "execute_result"
    }
   ],
   "source": [
    "hps_online = online.admin.ux.homepage_settings\n",
    "hps_online"
   ]
  },
  {
   "cell_type": "markdown",
   "id": "4b1da7bc",
   "metadata": {},
   "source": [
    "##### Set the: background, logo, title, contact, and footer to match our other org"
   ]
  },
  {
   "cell_type": "code",
   "execution_count": 27,
   "id": "0a4184ca",
   "metadata": {},
   "outputs": [
    {
     "data": {
      "text/plain": [
       "True"
      ]
     },
     "execution_count": 27,
     "metadata": {},
     "output_type": "execute_result"
    }
   ],
   "source": [
    "#background\n",
    "hps_online.set_background(stock_image=bkgrnd, layout=\"Full-height\", opacity = 0)\n",
    "\n",
    "#logo\n",
    "hps_online.set_logo(logo, show_logo=True)\n",
    "\n",
    "#title\n",
    "hps_online.set_title(**title)\n",
    "\n",
    "#email\n",
    "hps_online.set_contact_email(**contact_email)\n",
    "\n",
    "#footer\n",
    "hps_online.set_footer(footer[\"text\"], footer[\"show_text\"])\n",
    "\n",
    "#typography\n",
    "hps_online.set_typography(font)\n",
    "\n",
    "#color\n",
    "hps_online.set_base_color(color)"
   ]
  },
  {
   "cell_type": "markdown",
   "id": "d3cbe41d",
   "metadata": {},
   "source": [
    "# We did it!\n",
    "\n",
    "![celebrate](https://focusu.com/wp-content/uploads/2017/03/team-celebration-clipart.jpg)"
   ]
  },
  {
   "cell_type": "markdown",
   "id": "8c304fbb",
   "metadata": {},
   "source": [
    "# But wait, there's more!"
   ]
  },
  {
   "cell_type": "markdown",
   "id": "e89085c7",
   "metadata": {},
   "source": [
    "The UX module allows you to access different org settings through various classes that depict the main setting categories. Through methods and properties in these classes you can customize all of your orgs' settings through python code."
   ]
  },
  {
   "cell_type": "markdown",
   "id": "fba338f2",
   "metadata": {},
   "source": [
    "### Map Settings"
   ]
  },
  {
   "cell_type": "code",
   "execution_count": 28,
   "id": "3401ecea",
   "metadata": {},
   "outputs": [
    {
     "data": {
      "text/plain": [
       "<arcgis.gis.admin._ux.MapSettings at 0x20eaa31cb50>"
      ]
     },
     "execution_count": 28,
     "metadata": {},
     "output_type": "execute_result"
    }
   ],
   "source": [
    "map_settings = online.admin.ux.map_settings\n",
    "map_settings"
   ]
  },
  {
   "cell_type": "code",
   "execution_count": 29,
   "id": "9aa8c156",
   "metadata": {},
   "outputs": [
    {
     "data": {
      "text/plain": [
       "{'xmin': -13458971.714868814,\n",
       " 'ymin': 3612376.4460924515,\n",
       " 'xmax': -12305256.512287421,\n",
       " 'ymax': 4354833.18527226,\n",
       " 'spatialReference': {'wkid': 102100}}"
      ]
     },
     "execution_count": 29,
     "metadata": {},
     "output_type": "execute_result"
    }
   ],
   "source": [
    "# Get/Set the default extent\n",
    "map_settings.default_extent"
   ]
  },
  {
   "cell_type": "code",
   "execution_count": 30,
   "id": "f21283d8",
   "metadata": {},
   "outputs": [
    {
     "data": {
      "text/plain": [
       "'classic'"
      ]
     },
     "execution_count": 30,
     "metadata": {},
     "output_type": "execute_result"
    }
   ],
   "source": [
    "# Get/Set if using modern or classic mapviewer\n",
    "map_settings.default_mapviewer"
   ]
  },
  {
   "cell_type": "code",
   "execution_count": 31,
   "id": "362ce649",
   "metadata": {},
   "outputs": [],
   "source": [
    "map_settings.default_mapviewer = \"modern\""
   ]
  },
  {
   "cell_type": "markdown",
   "id": "4d3e7c5e",
   "metadata": {},
   "source": [
    "### Item Settings"
   ]
  },
  {
   "cell_type": "code",
   "execution_count": 32,
   "id": "52ebfaea",
   "metadata": {},
   "outputs": [
    {
     "data": {
      "text/plain": [
       "<arcgis.gis.admin._ux.ItemSettings at 0x20eaa31c610>"
      ]
     },
     "execution_count": 32,
     "metadata": {},
     "output_type": "execute_result"
    }
   ],
   "source": [
    "item_settings = online.admin.ux.item_settings\n",
    "item_settings"
   ]
  },
  {
   "cell_type": "code",
   "execution_count": 33,
   "id": "5f95746c",
   "metadata": {},
   "outputs": [
    {
     "data": {
      "text/plain": [
       "False"
      ]
     },
     "execution_count": 33,
     "metadata": {},
     "output_type": "execute_result"
    }
   ],
   "source": [
    "item_settings.enable_comments"
   ]
  },
  {
   "cell_type": "code",
   "execution_count": 34,
   "id": "e622e3c3",
   "metadata": {},
   "outputs": [],
   "source": [
    "item_settings.enable_comments = True"
   ]
  },
  {
   "cell_type": "markdown",
   "id": "6b1b2d60",
   "metadata": {},
   "source": [
    "### Security Settings"
   ]
  },
  {
   "cell_type": "code",
   "execution_count": 35,
   "id": "f4104c4c",
   "metadata": {},
   "outputs": [
    {
     "data": {
      "text/plain": [
       "<arcgis.gis.admin._ux.SecuritySettings at 0x20eaa31c0a0>"
      ]
     },
     "execution_count": 35,
     "metadata": {},
     "output_type": "execute_result"
    }
   ],
   "source": [
    "security_settings = online.admin.ux.security_settings\n",
    "security_settings"
   ]
  },
  {
   "cell_type": "code",
   "execution_count": 36,
   "id": "1f5494c8",
   "metadata": {},
   "outputs": [
    {
     "data": {
      "text/plain": [
       "{'text': 'Test For Python API',\n",
       " 'bgColor': 'white',\n",
       " 'fontColor': 'black',\n",
       " 'enabled': False}"
      ]
     },
     "execution_count": 36,
     "metadata": {},
     "output_type": "execute_result"
    }
   ],
   "source": [
    "security_settings.get_informational_banner()"
   ]
  },
  {
   "cell_type": "code",
   "execution_count": 37,
   "id": "447b8bda",
   "metadata": {},
   "outputs": [
    {
     "data": {
      "text/plain": [
       "True"
      ]
     },
     "execution_count": 37,
     "metadata": {},
     "output_type": "execute_result"
    }
   ],
   "source": [
    "# Turn on when needed\n",
    "security_settings.set_informational_banner(enabled=True)"
   ]
  },
  {
   "cell_type": "code",
   "execution_count": 38,
   "id": "01f6c27b",
   "metadata": {},
   "outputs": [
    {
     "data": {
      "text/plain": [
       "True"
      ]
     },
     "execution_count": 38,
     "metadata": {},
     "output_type": "execute_result"
    }
   ],
   "source": [
    "security_settings.set_informational_banner(enabled=False)"
   ]
  },
  {
   "cell_type": "code",
   "execution_count": 39,
   "id": "7af4be5c",
   "metadata": {},
   "outputs": [
    {
     "data": {
      "text/plain": [
       "'public'"
      ]
     },
     "execution_count": 39,
     "metadata": {},
     "output_type": "execute_result"
    }
   ],
   "source": [
    "security_settings.anonymous_access"
   ]
  },
  {
   "cell_type": "markdown",
   "id": "613e28dd",
   "metadata": {},
   "source": [
    "##### We can set org access notice and anonymous access notice"
   ]
  },
  {
   "cell_type": "code",
   "execution_count": 40,
   "id": "6bc875ab",
   "metadata": {},
   "outputs": [
    {
     "data": {
      "text/plain": [
       "True"
      ]
     },
     "execution_count": 40,
     "metadata": {},
     "output_type": "execute_result"
    }
   ],
   "source": [
    "#org\n",
    "security_settings.set_org_access_notice(title= \"UC Access Test\", text= \"This org is for testing and development purposes for the ArcGIS API for Python Team.\", button_type=\"okOnly\")"
   ]
  },
  {
   "cell_type": "code",
   "execution_count": 41,
   "id": "ea3d20ca",
   "metadata": {},
   "outputs": [
    {
     "data": {
      "text/plain": [
       "{'title': 'UC Access Test',\n",
       " 'text': 'This org is for testing and development purposes for the ArcGIS API for Python Team.',\n",
       " 'buttons': 'okOnly',\n",
       " 'enabled': True}"
      ]
     },
     "execution_count": 41,
     "metadata": {},
     "output_type": "execute_result"
    }
   ],
   "source": [
    "#org\n",
    "security_settings.get_org_access_notice()"
   ]
  },
  {
   "cell_type": "code",
   "execution_count": 42,
   "id": "275ddceb",
   "metadata": {},
   "outputs": [
    {
     "data": {
      "text/plain": [
       "{'title': None, 'text': None, 'buttons': 'acceptAndDecline', 'enabled': False}"
      ]
     },
     "execution_count": 42,
     "metadata": {},
     "output_type": "execute_result"
    }
   ],
   "source": [
    "#all users\n",
    "security_settings.get_anonymous_access_notice()"
   ]
  },
  {
   "cell_type": "markdown",
   "id": "3e05d816",
   "metadata": {},
   "source": [
    "### General Settings"
   ]
  },
  {
   "cell_type": "code",
   "execution_count": 43,
   "id": "cde8afb9",
   "metadata": {},
   "outputs": [
    {
     "data": {
      "text/plain": [
       "<arcgis.gis.admin._ux.UX at 0x20eaa31cc70>"
      ]
     },
     "execution_count": 43,
     "metadata": {},
     "output_type": "execute_result"
    }
   ],
   "source": [
    "ux = online.admin.ux\n",
    "ux"
   ]
  },
  {
   "cell_type": "code",
   "execution_count": 44,
   "id": "84e4d195",
   "metadata": {},
   "outputs": [],
   "source": [
    "ux.summary"
   ]
  },
  {
   "cell_type": "code",
   "execution_count": 45,
   "id": "7ae20c81",
   "metadata": {},
   "outputs": [],
   "source": [
    "ux.summary = \"An online organization for the ArcGIS API for Python team\""
   ]
  },
  {
   "cell_type": "code",
   "execution_count": 46,
   "id": "e3fd1237",
   "metadata": {},
   "outputs": [
    {
     "data": {
      "text/plain": [
       "[{'title': 'Esri Maps and Data', 'owner': 'esri'},\n",
       " {'title': 'Living Atlas Curator Favorites', 'owner': 'dkensok'},\n",
       " {'title': 'Web Application Templates', 'owner': 'esri_en'},\n",
       " {'title': 'ArcGIS for Local Government', 'owner': 'ArcGISTeamLocalGov'}]"
      ]
     },
     "execution_count": 46,
     "metadata": {},
     "output_type": "execute_result"
    }
   ],
   "source": [
    "ux.featured_content"
   ]
  },
  {
   "cell_type": "markdown",
   "id": "ec59296c",
   "metadata": {},
   "source": [
    "## See it all here:\n",
    "  \n",
    "  https://developers.arcgis.com/python/api-reference/arcgis.gis.admin.html#ux"
   ]
  }
 ],
 "metadata": {
  "kernelspec": {
   "display_name": "Python 3",
   "language": "python",
   "name": "python3"
  },
  "language_info": {
   "codemirror_mode": {
    "name": "ipython",
    "version": 3
   },
   "file_extension": ".py",
   "mimetype": "text/x-python",
   "name": "python",
   "nbconvert_exporter": "python",
   "pygments_lexer": "ipython3",
   "version": "3.9.11"
  }
 },
 "nbformat": 4,
 "nbformat_minor": 5
}
