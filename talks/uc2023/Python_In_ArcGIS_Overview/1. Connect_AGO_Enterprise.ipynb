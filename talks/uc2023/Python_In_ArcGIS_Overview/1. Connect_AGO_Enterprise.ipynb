{
 "cells": [
  {
   "cell_type": "markdown",
   "metadata": {},
   "source": [
    "# Introduction to using the ArcGIS API for Python"
   ]
  },
  {
   "cell_type": "markdown",
   "metadata": {},
   "source": [
    "![api_modules](https://developers.arcgis.com/python/guide/images/guide_api_modules_overview.png)"
   ]
  },
  {
   "cell_type": "markdown",
   "metadata": {},
   "source": [
    "### Setting up the Environment\n",
    "\n",
    "This will import the modules and libraries we will use for this tutorial."
   ]
  },
  {
   "cell_type": "markdown",
   "metadata": {},
   "source": [
    "#### Import arcgis"
   ]
  },
  {
   "cell_type": "code",
   "execution_count": 3,
   "metadata": {},
   "outputs": [
    {
     "data": {
      "text/plain": [
       "'2.2.0'"
      ]
     },
     "execution_count": 3,
     "metadata": {},
     "output_type": "execute_result"
    }
   ],
   "source": [
    "# the entire package\n",
    "import arcgis\n",
    "arcgis.__version__"
   ]
  },
  {
   "cell_type": "markdown",
   "metadata": {},
   "source": [
    "## Logging in with the `GIS` Class"
   ]
  },
  {
   "cell_type": "markdown",
   "metadata": {},
   "source": [
    "The `GIS` object exists in the `gis` module of the ArcGIS API for Python.  This object is the way you connect to your ArcGIS Enterprise or ArcGIS Online.  You can connect to the sites as an anonymous user or by providing credentials.  "
   ]
  },
  {
   "cell_type": "code",
   "execution_count": 4,
   "metadata": {},
   "outputs": [],
   "source": [
    "from arcgis.gis import GIS"
   ]
  },
  {
   "cell_type": "markdown",
   "metadata": {},
   "source": [
    "### Anonymous Users"
   ]
  },
  {
   "cell_type": "markdown",
   "metadata": {},
   "source": [
    "These are users who do not provide any credentials.  The functionality of the `GIS` object is reduced because anonymous users do not have the same abilities as authenticated users.\n",
    "\n",
    "**Anonymous Users Cannot**\n",
    "\n",
    "1. Save/publish items\n",
    "2. Persist web maps\n",
    "3. Access private information within your organization"
   ]
  },
  {
   "cell_type": "markdown",
   "metadata": {},
   "source": [
    "##### Connecting to ArcGIS Online"
   ]
  },
  {
   "cell_type": "markdown",
   "metadata": {},
   "source": [
    "ArcGIS Online support anonymous logins.  With the ArcGIS API for Python, you can access a large amount of information without ever creating an account.  "
   ]
  },
  {
   "cell_type": "code",
   "execution_count": 5,
   "metadata": {},
   "outputs": [
    {
     "data": {
      "text/html": [
       "GIS @ <a href=\"https://www.arcgis.com\">https://www.arcgis.com</a>"
      ],
      "text/plain": [
       "GIS @ https://www.arcgis.com version:2023.2"
      ]
     },
     "execution_count": 5,
     "metadata": {},
     "output_type": "execute_result"
    }
   ],
   "source": [
    "gis_agol = GIS()\n",
    "gis_agol"
   ]
  },
  {
   "cell_type": "markdown",
   "metadata": {},
   "source": [
    "##### Connecting to Enterprise\n",
    "\n",
    "Not all enterprise sites support anonymous access, but if your organization does support anonymous access, you can connect by doing the following:"
   ]
  },
  {
   "cell_type": "code",
   "execution_count": null,
   "metadata": {},
   "outputs": [],
   "source": [
    "gis_enterprise = GIS(url='https://rextapilnx02eb.esri.com/portal')\n",
    "gis_enterprise"
   ]
  },
  {
   "cell_type": "markdown",
   "metadata": {},
   "source": [
    "### Built-In User"
   ]
  },
  {
   "cell_type": "code",
   "execution_count": 7,
   "metadata": {},
   "outputs": [
    {
     "name": "stdout",
     "output_type": "stream",
     "text": [
      "Enter password: ········\n"
     ]
    },
    {
     "data": {
      "text/html": [
       "GIS @ <a href=\"https://geosaurus.maps.arcgis.com\">https://geosaurus.maps.arcgis.com</a>"
      ],
      "text/plain": [
       "GIS @ https://geosaurus.maps.arcgis.com version:2023.2"
      ]
     },
     "execution_count": 7,
     "metadata": {},
     "output_type": "execute_result"
    }
   ],
   "source": [
    "gis = GIS(url=\"https://geosaurus.maps.arcgis.com/\", username=\"your_username\")\n",
    "gis"
   ]
  },
  {
   "cell_type": "code",
   "execution_count": 8,
   "metadata": {},
   "outputs": [
    {
     "data": {
      "text/html": [
       "<div class=\"9item_container\" style=\"height: auto; overflow: hidden; border: 1px solid #cfcfcf; border-radius: 2px; background: #f6fafa; line-height: 1.21429em; padding: 10px;\">\n",
       "                    <div class=\"item_left\" style=\"width: 210px; float: left;\">\n",
       "                       <a href='https://geosaurus.maps.arcgis.com/home/user.html?user=naubry_geosaurus' target='_blank'>\n",
       "                        <img src='https://geosaurus.maps.arcgis.com/home/js/arcgisonline/css/images/no-user-thumb.jpg' class=\"itemThumbnail\">\n",
       "                       </a>\n",
       "                    </div>\n",
       "\n",
       "                    <div class=\"item_right\" style=\"float: none; width: auto; overflow: hidden;\">\n",
       "                        <a href='https://geosaurus.maps.arcgis.com/home/user.html?user=naubry_geosaurus' target='_blank'><b>Nanae Aubry</b>\n",
       "                        </a>\n",
       "                        <br/><br/><b>Bio</b>: None\n",
       "                        <br/><b>First Name</b>: Nanae\n",
       "                        <br/><b>Last Name</b>: Aubry\n",
       "                        <br/><b>Username</b>: naubry_geosaurus\n",
       "                        <br/><b>Joined</b>: June 23, 2021\n",
       "\n",
       "                    </div>\n",
       "                </div>\n",
       "                "
      ],
      "text/plain": [
       "<User username:naubry_geosaurus>"
      ]
     },
     "execution_count": 8,
     "metadata": {},
     "output_type": "execute_result"
    }
   ],
   "source": [
    "gis.users.me"
   ]
  },
  {
   "cell_type": "markdown",
   "metadata": {},
   "source": [
    "### Creating a Profile\n",
    "1. Simplified Authentication: reference the profile to save time and effort.\n",
    "2. Share code: easily share code without risking sharing private credentials.\n",
    "3. Enhance security: Stored on your system."
   ]
  },
  {
   "cell_type": "code",
   "execution_count": null,
   "metadata": {},
   "outputs": [],
   "source": [
    "# gis = GIS(url=\"https://geosaurus.maps.arcgis.com/\", username=\"your_username\", password=\"my_secret_password\", profile=\"your_online_profile\")"
   ]
  },
  {
   "cell_type": "code",
   "execution_count": 9,
   "metadata": {},
   "outputs": [
    {
     "data": {
      "text/html": [
       "GIS @ <a href=\"https://geosaurus.maps.arcgis.com\">https://geosaurus.maps.arcgis.com</a>"
      ],
      "text/plain": [
       "GIS @ https://geosaurus.maps.arcgis.com version:2023.2"
      ]
     },
     "execution_count": 9,
     "metadata": {},
     "output_type": "execute_result"
    }
   ],
   "source": [
    "gis = GIS(profile=\"your_online_profile\")\n",
    "gis"
   ]
  },
  {
   "cell_type": "markdown",
   "metadata": {},
   "source": [
    "# Common Uses:"
   ]
  },
  {
   "cell_type": "markdown",
   "metadata": {},
   "source": [
    "## Content Management"
   ]
  },
  {
   "cell_type": "code",
   "execution_count": 10,
   "metadata": {},
   "outputs": [
    {
     "data": {
      "text/plain": [
       "<arcgis.gis.ContentManager at 0x24b9e618430>"
      ]
     },
     "execution_count": 10,
     "metadata": {},
     "output_type": "execute_result"
    }
   ],
   "source": [
    "# Content manager\n",
    "gis.content"
   ]
  },
  {
   "cell_type": "markdown",
   "metadata": {},
   "source": [
    "The content manager class helps you navigate common content workflows such as searching and adding content."
   ]
  },
  {
   "cell_type": "code",
   "execution_count": 11,
   "metadata": {},
   "outputs": [
    {
     "data": {
      "text/plain": [
       "[<Item title:\"Madison Fields to US Capitol\" type:Feature Layer Collection owner:arcgis_python>,\n",
       " <Item title:\"GroupLayersMap\" type:Web Map owner:naubry_geosaurus>,\n",
       " <Item title:\"USA_Parks\" type:Web Map owner:naubry_geosaurus>,\n",
       " <Item title:\"USA_Parks\" type:Feature Layer Collection owner:naubry_geosaurus>,\n",
       " <Item title:\"Madison Fields to US Capitol\" type:Feature Layer Collection owner:api_data_owner>]"
      ]
     },
     "execution_count": 11,
     "metadata": {},
     "output_type": "execute_result"
    }
   ],
   "source": [
    "# access content\n",
    "gis.content.search(\"USA_Parks\")"
   ]
  },
  {
   "cell_type": "code",
   "execution_count": 12,
   "metadata": {},
   "outputs": [
    {
     "data": {
      "text/html": [
       "<div class=\"item_container\" style=\"height: auto; overflow: hidden; border: 1px solid #cfcfcf; border-radius: 2px; background: #f6fafa; line-height: 1.21429em; padding: 10px;\">\n",
       "                    <div class=\"item_left\" style=\"width: 210px; float: left;\">\n",
       "                       <a href='https://geosaurus.maps.arcgis.com/home/item.html?id=37b3fc90ad764150b1eba6f2aafc87e2' target='_blank'>\n",
       "                        <img src='http://static.arcgis.com/images/desktopapp.png' class=\"itemThumbnail\">\n",
       "                       </a>\n",
       "                    </div>\n",
       "\n",
       "                    <div class=\"item_right\"     style=\"float: none; width: auto; overflow: hidden;\">\n",
       "                        <a href='https://geosaurus.maps.arcgis.com/home/item.html?id=37b3fc90ad764150b1eba6f2aafc87e2' target='_blank'><b>New York City Museums</b>\n",
       "                        </a>\n",
       "                        <br/><img src='https://geosaurus.maps.arcgis.com/home/js/arcgisonline/img/item-types/datafiles16.svg' style=\"vertical-align:middle;\" width=16 height=16>CSV by naubry_geosaurus\n",
       "                        <br/>Last Modified: July 13, 2023\n",
       "                        <br/>0 comments, 0 views\n",
       "                    </div>\n",
       "                </div>\n",
       "                "
      ],
      "text/plain": [
       "<Item title:\"New York City Museums\" type:CSV owner:naubry_geosaurus>"
      ]
     },
     "execution_count": 12,
     "metadata": {},
     "output_type": "execute_result"
    }
   ],
   "source": [
    "# create content\n",
    "data_path = (r\"C:\\ipython_workfolder\\Data\\CSV\\nyc_museums.csv\")\n",
    "\n",
    "csv_properties={'title':'New York City Museums',\n",
    "                'description':'Museums that are found within New York City',\n",
    "                'tags':'arcgis, python, museums, locations, city'}\n",
    "\n",
    "museum_csv_item = gis.content.add(item_properties=csv_properties, data=data_path)\n",
    "museum_csv_item"
   ]
  },
  {
   "cell_type": "code",
   "execution_count": 13,
   "metadata": {
    "scrolled": true
   },
   "outputs": [
    {
     "data": {
      "text/html": [
       "<div class=\"item_container\" style=\"height: auto; overflow: hidden; border: 1px solid #cfcfcf; border-radius: 2px; background: #f6fafa; line-height: 1.21429em; padding: 10px;\">\n",
       "                    <div class=\"item_left\" style=\"width: 210px; float: left;\">\n",
       "                       <a href='https://geosaurus.maps.arcgis.com/home/item.html?id=8881641cac534abb8bf00967d3ce5dc6' target='_blank'>\n",
       "                        <img src='http://static.arcgis.com/images/desktopapp.png' class=\"itemThumbnail\">\n",
       "                       </a>\n",
       "                    </div>\n",
       "\n",
       "                    <div class=\"item_right\"     style=\"float: none; width: auto; overflow: hidden;\">\n",
       "                        <a href='https://geosaurus.maps.arcgis.com/home/item.html?id=8881641cac534abb8bf00967d3ce5dc6' target='_blank'><b>New York City Museums</b>\n",
       "                        </a>\n",
       "                        <br/><img src='https://geosaurus.maps.arcgis.com/home/js/jsapi/esri/css/images/item_type_icons/featureshosted16.png' style=\"vertical-align:middle;\" width=16 height=16>Feature Layer Collection by naubry_geosaurus\n",
       "                        <br/>Last Modified: July 13, 2023\n",
       "                        <br/>0 comments, 0 views\n",
       "                    </div>\n",
       "                </div>\n",
       "                "
      ],
      "text/plain": [
       "<Item title:\"New York City Museums\" type:Feature Layer Collection owner:naubry_geosaurus>"
      ]
     },
     "execution_count": 13,
     "metadata": {},
     "output_type": "execute_result"
    }
   ],
   "source": [
    "museum_feature_layer_item = museum_csv_item.publish()\n",
    "museum_feature_layer_item"
   ]
  },
  {
   "cell_type": "markdown",
   "metadata": {},
   "source": [
    "## Spatially Enabled DataFrame\n",
    "Combine functionality of pandas DataFrame with spatial analysis capabilities."
   ]
  },
  {
   "cell_type": "code",
   "execution_count": 14,
   "metadata": {},
   "outputs": [],
   "source": [
    "import pandas as pd\n",
    "from arcgis.features import GeoAccessor"
   ]
  },
  {
   "cell_type": "code",
   "execution_count": 15,
   "metadata": {},
   "outputs": [
    {
     "data": {
      "text/plain": [
       "<FeatureLayer url:\"https://services7.arcgis.com/JEwYeAy2cc8qOe3o/arcgis/rest/services/New_York_City_Museums/FeatureServer/0\">"
      ]
     },
     "execution_count": 15,
     "metadata": {},
     "output_type": "execute_result"
    }
   ],
   "source": [
    "layer = museum_feature_layer_item.layers[0]\n",
    "layer"
   ]
  },
  {
   "cell_type": "code",
   "execution_count": 16,
   "metadata": {},
   "outputs": [
    {
     "data": {
      "text/html": [
       "<div>\n",
       "<style scoped>\n",
       "    .dataframe tbody tr th:only-of-type {\n",
       "        vertical-align: middle;\n",
       "    }\n",
       "\n",
       "    .dataframe tbody tr th {\n",
       "        vertical-align: top;\n",
       "    }\n",
       "\n",
       "    .dataframe thead th {\n",
       "        text-align: right;\n",
       "    }\n",
       "</style>\n",
       "<table border=\"1\" class=\"dataframe\">\n",
       "  <thead>\n",
       "    <tr style=\"text-align: right;\">\n",
       "      <th></th>\n",
       "      <th>the_geom</th>\n",
       "      <th>NAME</th>\n",
       "      <th>TEL</th>\n",
       "      <th>URL</th>\n",
       "      <th>ADRESS1</th>\n",
       "      <th>ADDRESS2</th>\n",
       "      <th>CITY</th>\n",
       "      <th>ZIP</th>\n",
       "      <th>ObjectId</th>\n",
       "      <th>SHAPE</th>\n",
       "    </tr>\n",
       "  </thead>\n",
       "  <tbody>\n",
       "    <tr>\n",
       "      <th>0</th>\n",
       "      <td>POINT (-73.92822391104288 40.74634173827231)</td>\n",
       "      <td>Museum for African Art</td>\n",
       "      <td>(718) 784-7700</td>\n",
       "      <td>http://www.africanart.org/</td>\n",
       "      <td>36-01 43rd Avenue</td>\n",
       "      <td>3rd Floor</td>\n",
       "      <td>Queens</td>\n",
       "      <td>11101</td>\n",
       "      <td>1</td>\n",
       "      <td>{\"x\": -8231874.2993, \"y\": 4974895.707000002, \"...</td>\n",
       "    </tr>\n",
       "    <tr>\n",
       "      <th>1</th>\n",
       "      <td>POINT (-74.01375579519738 40.703816216918035)</td>\n",
       "      <td>Alexander Hamilton U.S. Custom House</td>\n",
       "      <td>(212) 514-3700</td>\n",
       "      <td>http://www.oldnycustomhouse.gov/</td>\n",
       "      <td>1 Bowling Grn</td>\n",
       "      <td>&lt;NA&gt;</td>\n",
       "      <td>New York</td>\n",
       "      <td>10004</td>\n",
       "      <td>2</td>\n",
       "      <td>{\"x\": -8239000.973099999, \"y\": 4968783.3052000...</td>\n",
       "    </tr>\n",
       "    <tr>\n",
       "      <th>2</th>\n",
       "      <td>POINT (-74.00912160394257 40.706484588627994)</td>\n",
       "      <td>Museum of American Finance</td>\n",
       "      <td>(212) 908-4110</td>\n",
       "      <td>http://www.moaf.org/index</td>\n",
       "      <td>48 Wall Street</td>\n",
       "      <td>&lt;NA&gt;</td>\n",
       "      <td>New York</td>\n",
       "      <td>10005</td>\n",
       "      <td>3</td>\n",
       "      <td>{\"x\": -8238528.978399999, \"y\": 4968998.8134, \"...</td>\n",
       "    </tr>\n",
       "    <tr>\n",
       "      <th>3</th>\n",
       "      <td>POINT (-74.06303178855111 40.615120837755356)</td>\n",
       "      <td>Alice Austen House Museum</td>\n",
       "      <td>(718) 816-4506</td>\n",
       "      <td>http://www.aliceausten.org/</td>\n",
       "      <td>2 Hylan Blvd</td>\n",
       "      <td>&lt;NA&gt;</td>\n",
       "      <td>Staten Island</td>\n",
       "      <td>10305</td>\n",
       "      <td>4</td>\n",
       "      <td>{\"x\": -8245403.513599999, \"y\": 4955179.3932000...</td>\n",
       "    </tr>\n",
       "    <tr>\n",
       "      <th>4</th>\n",
       "      <td>POINT (-73.96690030997947 40.76471562244387)</td>\n",
       "      <td>Museum of American Illustration</td>\n",
       "      <td>(212) 838-2560</td>\n",
       "      <td>http://societyillustrators.org/museum/index.cms</td>\n",
       "      <td>128 E. 63d St.</td>\n",
       "      <td>&lt;NA&gt;</td>\n",
       "      <td>New York</td>\n",
       "      <td>10021</td>\n",
       "      <td>5</td>\n",
       "      <td>{\"x\": -8233360.4145, \"y\": 4978627.813299999, \"...</td>\n",
       "    </tr>\n",
       "  </tbody>\n",
       "</table>\n",
       "</div>"
      ],
      "text/plain": [
       "                                        the_geom  \\\n",
       "0   POINT (-73.92822391104288 40.74634173827231)   \n",
       "1  POINT (-74.01375579519738 40.703816216918035)   \n",
       "2  POINT (-74.00912160394257 40.706484588627994)   \n",
       "3  POINT (-74.06303178855111 40.615120837755356)   \n",
       "4   POINT (-73.96690030997947 40.76471562244387)   \n",
       "\n",
       "                                   NAME             TEL  \\\n",
       "0                Museum for African Art  (718) 784-7700   \n",
       "1  Alexander Hamilton U.S. Custom House  (212) 514-3700   \n",
       "2            Museum of American Finance  (212) 908-4110   \n",
       "3             Alice Austen House Museum  (718) 816-4506   \n",
       "4       Museum of American Illustration  (212) 838-2560   \n",
       "\n",
       "                                               URL            ADRESS1  \\\n",
       "0                       http://www.africanart.org/  36-01 43rd Avenue   \n",
       "1                 http://www.oldnycustomhouse.gov/      1 Bowling Grn   \n",
       "2                        http://www.moaf.org/index     48 Wall Street   \n",
       "3                      http://www.aliceausten.org/       2 Hylan Blvd   \n",
       "4  http://societyillustrators.org/museum/index.cms     128 E. 63d St.   \n",
       "\n",
       "    ADDRESS2           CITY    ZIP  ObjectId  \\\n",
       "0  3rd Floor         Queens  11101         1   \n",
       "1       <NA>       New York  10004         2   \n",
       "2       <NA>       New York  10005         3   \n",
       "3       <NA>  Staten Island  10305         4   \n",
       "4       <NA>       New York  10021         5   \n",
       "\n",
       "                                               SHAPE  \n",
       "0  {\"x\": -8231874.2993, \"y\": 4974895.707000002, \"...  \n",
       "1  {\"x\": -8239000.973099999, \"y\": 4968783.3052000...  \n",
       "2  {\"x\": -8238528.978399999, \"y\": 4968998.8134, \"...  \n",
       "3  {\"x\": -8245403.513599999, \"y\": 4955179.3932000...  \n",
       "4  {\"x\": -8233360.4145, \"y\": 4978627.813299999, \"...  "
      ]
     },
     "execution_count": 16,
     "metadata": {},
     "output_type": "execute_result"
    }
   ],
   "source": [
    "# Create a spatially enabled dataframe\n",
    "museum_sedf = pd.DataFrame.spatial.from_layer(layer)\n",
    "museum_sedf.head()"
   ]
  },
  {
   "cell_type": "code",
   "execution_count": 17,
   "metadata": {
    "scrolled": true
   },
   "outputs": [
    {
     "data": {
      "text/html": [
       "<div>\n",
       "<style scoped>\n",
       "    .dataframe tbody tr th:only-of-type {\n",
       "        vertical-align: middle;\n",
       "    }\n",
       "\n",
       "    .dataframe tbody tr th {\n",
       "        vertical-align: top;\n",
       "    }\n",
       "\n",
       "    .dataframe thead th {\n",
       "        text-align: right;\n",
       "    }\n",
       "</style>\n",
       "<table border=\"1\" class=\"dataframe\">\n",
       "  <thead>\n",
       "    <tr style=\"text-align: right;\">\n",
       "      <th></th>\n",
       "      <th>the_geom</th>\n",
       "      <th>NAME</th>\n",
       "      <th>TEL</th>\n",
       "      <th>URL</th>\n",
       "      <th>ADRESS1</th>\n",
       "      <th>ADDRESS2</th>\n",
       "      <th>CITY</th>\n",
       "      <th>ZIP</th>\n",
       "      <th>ObjectId</th>\n",
       "      <th>SHAPE</th>\n",
       "    </tr>\n",
       "  </thead>\n",
       "  <tbody>\n",
       "    <tr>\n",
       "      <th>1</th>\n",
       "      <td>POINT (-74.01375579519738 40.703816216918035)</td>\n",
       "      <td>Alexander Hamilton U.S. Custom House</td>\n",
       "      <td>(212) 514-3700</td>\n",
       "      <td>http://www.oldnycustomhouse.gov/</td>\n",
       "      <td>1 Bowling Grn</td>\n",
       "      <td>&lt;NA&gt;</td>\n",
       "      <td>New York</td>\n",
       "      <td>10004</td>\n",
       "      <td>2</td>\n",
       "      <td>{\"x\": -8239000.973099999, \"y\": 4968783.3052000...</td>\n",
       "    </tr>\n",
       "    <tr>\n",
       "      <th>2</th>\n",
       "      <td>POINT (-74.00912160394257 40.706484588627994)</td>\n",
       "      <td>Museum of American Finance</td>\n",
       "      <td>(212) 908-4110</td>\n",
       "      <td>http://www.moaf.org/index</td>\n",
       "      <td>48 Wall Street</td>\n",
       "      <td>&lt;NA&gt;</td>\n",
       "      <td>New York</td>\n",
       "      <td>10005</td>\n",
       "      <td>3</td>\n",
       "      <td>{\"x\": -8238528.978399999, \"y\": 4968998.8134, \"...</td>\n",
       "    </tr>\n",
       "    <tr>\n",
       "      <th>4</th>\n",
       "      <td>POINT (-73.96690030997947 40.76471562244387)</td>\n",
       "      <td>Museum of American Illustration</td>\n",
       "      <td>(212) 838-2560</td>\n",
       "      <td>http://societyillustrators.org/museum/index.cms</td>\n",
       "      <td>128 E. 63d St.</td>\n",
       "      <td>&lt;NA&gt;</td>\n",
       "      <td>New York</td>\n",
       "      <td>10021</td>\n",
       "      <td>5</td>\n",
       "      <td>{\"x\": -8233360.4145, \"y\": 4978627.813299999, \"...</td>\n",
       "    </tr>\n",
       "    <tr>\n",
       "      <th>5</th>\n",
       "      <td>POINT (-73.98200725142944 40.76740607395742)</td>\n",
       "      <td>Museum of Arts &amp; Design (MAD)</td>\n",
       "      <td>(212) 299-7777</td>\n",
       "      <td>http://www.madmuseum.org/</td>\n",
       "      <td>2 Columbus Circle</td>\n",
       "      <td>&lt;NA&gt;</td>\n",
       "      <td>New York</td>\n",
       "      <td>10019</td>\n",
       "      <td>6</td>\n",
       "      <td>{\"x\": -8236408.3421, \"y\": 4977998.715000004, \"...</td>\n",
       "    </tr>\n",
       "    <tr>\n",
       "      <th>6</th>\n",
       "      <td>POINT (-73.98272584235525 40.77025240986238)</td>\n",
       "      <td>Museum of Biblical Art</td>\n",
       "      <td>(212) 408-1200</td>\n",
       "      <td>http://www.mobia.org/</td>\n",
       "      <td>1865 Broadway</td>\n",
       "      <td>&lt;NA&gt;</td>\n",
       "      <td>New York</td>\n",
       "      <td>10023</td>\n",
       "      <td>7</td>\n",
       "      <td>{\"x\": -8235708.699100001, \"y\": 4979310.6072999...</td>\n",
       "    </tr>\n",
       "    <tr>\n",
       "      <th>...</th>\n",
       "      <td>...</td>\n",
       "      <td>...</td>\n",
       "      <td>...</td>\n",
       "      <td>...</td>\n",
       "      <td>...</td>\n",
       "      <td>...</td>\n",
       "      <td>...</td>\n",
       "      <td>...</td>\n",
       "      <td>...</td>\n",
       "      <td>...</td>\n",
       "    </tr>\n",
       "    <tr>\n",
       "      <th>125</th>\n",
       "      <td>POINT (-73.99388579658319 40.73807723317813)</td>\n",
       "      <td>American Sephardi Federation / Sephardic House</td>\n",
       "      <td>(212) 294-8350</td>\n",
       "      <td>http://www.americansephardifederation.org/</td>\n",
       "      <td>15 W. 16th St.</td>\n",
       "      <td>&lt;NA&gt;</td>\n",
       "      <td>New York</td>\n",
       "      <td>10011</td>\n",
       "      <td>126</td>\n",
       "      <td>{\"x\": -8237800.948999999, \"y\": 4974253.6256999...</td>\n",
       "    </tr>\n",
       "    <tr>\n",
       "      <th>126</th>\n",
       "      <td>POINT (-73.99379427245329 40.73795994708654)</td>\n",
       "      <td>YIVO Institute for Jewish Research</td>\n",
       "      <td>(212) 246-6860</td>\n",
       "      <td>http://www.yivoinstitute.org/</td>\n",
       "      <td>15 W. 16th St.</td>\n",
       "      <td>&lt;NA&gt;</td>\n",
       "      <td>New York</td>\n",
       "      <td>10011</td>\n",
       "      <td>127</td>\n",
       "      <td>{\"x\": -8237800.948999999, \"y\": 4974253.6256999...</td>\n",
       "    </tr>\n",
       "    <tr>\n",
       "      <th>127</th>\n",
       "      <td>POINT (-73.99392890421056 40.738015384101416)</td>\n",
       "      <td>American Jewish Historical Society</td>\n",
       "      <td>(212) 294-6160</td>\n",
       "      <td>http://www.ajhs.org/</td>\n",
       "      <td>15 W. 16th St.</td>\n",
       "      <td>&lt;NA&gt;</td>\n",
       "      <td>New York</td>\n",
       "      <td>10011</td>\n",
       "      <td>128</td>\n",
       "      <td>{\"x\": -8237800.948999999, \"y\": 4974253.6256999...</td>\n",
       "    </tr>\n",
       "    <tr>\n",
       "      <th>128</th>\n",
       "      <td>POINT (-73.99381737049632 40.738045683847)</td>\n",
       "      <td>Yeshiva University Museum</td>\n",
       "      <td>(212) 294-8330</td>\n",
       "      <td>http://www.yumuseum.org/</td>\n",
       "      <td>15 W. 16th St.</td>\n",
       "      <td>&lt;NA&gt;</td>\n",
       "      <td>New York</td>\n",
       "      <td>10011</td>\n",
       "      <td>129</td>\n",
       "      <td>{\"x\": -8237800.948999999, \"y\": 4974253.6256999...</td>\n",
       "    </tr>\n",
       "    <tr>\n",
       "      <th>129</th>\n",
       "      <td>POINT (-73.99386877223978 40.737986764588406)</td>\n",
       "      <td>Center For Jewish History</td>\n",
       "      <td>(212) 294-8301</td>\n",
       "      <td>http://www.cjh.org</td>\n",
       "      <td>15 W. 16th St.</td>\n",
       "      <td>&lt;NA&gt;</td>\n",
       "      <td>New York</td>\n",
       "      <td>10011</td>\n",
       "      <td>130</td>\n",
       "      <td>{\"x\": -8237800.948999999, \"y\": 4974253.6256999...</td>\n",
       "    </tr>\n",
       "  </tbody>\n",
       "</table>\n",
       "<p>89 rows × 10 columns</p>\n",
       "</div>"
      ],
      "text/plain": [
       "                                          the_geom  \\\n",
       "1    POINT (-74.01375579519738 40.703816216918035)   \n",
       "2    POINT (-74.00912160394257 40.706484588627994)   \n",
       "4     POINT (-73.96690030997947 40.76471562244387)   \n",
       "5     POINT (-73.98200725142944 40.76740607395742)   \n",
       "6     POINT (-73.98272584235525 40.77025240986238)   \n",
       "..                                             ...   \n",
       "125   POINT (-73.99388579658319 40.73807723317813)   \n",
       "126   POINT (-73.99379427245329 40.73795994708654)   \n",
       "127  POINT (-73.99392890421056 40.738015384101416)   \n",
       "128     POINT (-73.99381737049632 40.738045683847)   \n",
       "129  POINT (-73.99386877223978 40.737986764588406)   \n",
       "\n",
       "                                               NAME             TEL  \\\n",
       "1              Alexander Hamilton U.S. Custom House  (212) 514-3700   \n",
       "2                        Museum of American Finance  (212) 908-4110   \n",
       "4                   Museum of American Illustration  (212) 838-2560   \n",
       "5                     Museum of Arts & Design (MAD)  (212) 299-7777   \n",
       "6                            Museum of Biblical Art  (212) 408-1200   \n",
       "..                                              ...             ...   \n",
       "125  American Sephardi Federation / Sephardic House  (212) 294-8350   \n",
       "126              YIVO Institute for Jewish Research  (212) 246-6860   \n",
       "127              American Jewish Historical Society  (212) 294-6160   \n",
       "128                       Yeshiva University Museum  (212) 294-8330   \n",
       "129                       Center For Jewish History  (212) 294-8301   \n",
       "\n",
       "                                                 URL            ADRESS1  \\\n",
       "1                   http://www.oldnycustomhouse.gov/      1 Bowling Grn   \n",
       "2                          http://www.moaf.org/index     48 Wall Street   \n",
       "4    http://societyillustrators.org/museum/index.cms     128 E. 63d St.   \n",
       "5                          http://www.madmuseum.org/  2 Columbus Circle   \n",
       "6                              http://www.mobia.org/      1865 Broadway   \n",
       "..                                               ...                ...   \n",
       "125       http://www.americansephardifederation.org/     15 W. 16th St.   \n",
       "126                    http://www.yivoinstitute.org/     15 W. 16th St.   \n",
       "127                             http://www.ajhs.org/     15 W. 16th St.   \n",
       "128                         http://www.yumuseum.org/     15 W. 16th St.   \n",
       "129                               http://www.cjh.org     15 W. 16th St.   \n",
       "\n",
       "    ADDRESS2      CITY    ZIP  ObjectId  \\\n",
       "1       <NA>  New York  10004         2   \n",
       "2       <NA>  New York  10005         3   \n",
       "4       <NA>  New York  10021         5   \n",
       "5       <NA>  New York  10019         6   \n",
       "6       <NA>  New York  10023         7   \n",
       "..       ...       ...    ...       ...   \n",
       "125     <NA>  New York  10011       126   \n",
       "126     <NA>  New York  10011       127   \n",
       "127     <NA>  New York  10011       128   \n",
       "128     <NA>  New York  10011       129   \n",
       "129     <NA>  New York  10011       130   \n",
       "\n",
       "                                                 SHAPE  \n",
       "1    {\"x\": -8239000.973099999, \"y\": 4968783.3052000...  \n",
       "2    {\"x\": -8238528.978399999, \"y\": 4968998.8134, \"...  \n",
       "4    {\"x\": -8233360.4145, \"y\": 4978627.813299999, \"...  \n",
       "5    {\"x\": -8236408.3421, \"y\": 4977998.715000004, \"...  \n",
       "6    {\"x\": -8235708.699100001, \"y\": 4979310.6072999...  \n",
       "..                                                 ...  \n",
       "125  {\"x\": -8237800.948999999, \"y\": 4974253.6256999...  \n",
       "126  {\"x\": -8237800.948999999, \"y\": 4974253.6256999...  \n",
       "127  {\"x\": -8237800.948999999, \"y\": 4974253.6256999...  \n",
       "128  {\"x\": -8237800.948999999, \"y\": 4974253.6256999...  \n",
       "129  {\"x\": -8237800.948999999, \"y\": 4974253.6256999...  \n",
       "\n",
       "[89 rows x 10 columns]"
      ]
     },
     "execution_count": 17,
     "metadata": {},
     "output_type": "execute_result"
    }
   ],
   "source": [
    "sedf_subset = museum_sedf[museum_sedf['CITY'] == 'New York']  # Filter the DataFrame based on attribute values\n",
    "sedf_subset"
   ]
  },
  {
   "cell_type": "code",
   "execution_count": 18,
   "metadata": {},
   "outputs": [
    {
     "data": {
      "text/plain": [
       "['point']"
      ]
     },
     "execution_count": 18,
     "metadata": {},
     "output_type": "execute_result"
    }
   ],
   "source": [
    "museum_sedf.spatial.geometry_type"
   ]
  },
  {
   "cell_type": "markdown",
   "metadata": {},
   "source": [
    "### `geom` namespace for spatial operations"
   ]
  },
  {
   "cell_type": "code",
   "execution_count": 19,
   "metadata": {},
   "outputs": [],
   "source": [
    "museum_sedf[\"buffer_d2\"] = museum_sedf.SHAPE.geom.buffer(distance=2)"
   ]
  },
  {
   "cell_type": "code",
   "execution_count": 20,
   "metadata": {},
   "outputs": [
    {
     "data": {
      "text/html": [
       "<div>\n",
       "<style scoped>\n",
       "    .dataframe tbody tr th:only-of-type {\n",
       "        vertical-align: middle;\n",
       "    }\n",
       "\n",
       "    .dataframe tbody tr th {\n",
       "        vertical-align: top;\n",
       "    }\n",
       "\n",
       "    .dataframe thead th {\n",
       "        text-align: right;\n",
       "    }\n",
       "</style>\n",
       "<table border=\"1\" class=\"dataframe\">\n",
       "  <thead>\n",
       "    <tr style=\"text-align: right;\">\n",
       "      <th></th>\n",
       "      <th>the_geom</th>\n",
       "      <th>NAME</th>\n",
       "      <th>TEL</th>\n",
       "      <th>URL</th>\n",
       "      <th>ADRESS1</th>\n",
       "      <th>ADDRESS2</th>\n",
       "      <th>CITY</th>\n",
       "      <th>ZIP</th>\n",
       "      <th>ObjectId</th>\n",
       "      <th>SHAPE</th>\n",
       "      <th>buffer_d2</th>\n",
       "    </tr>\n",
       "  </thead>\n",
       "  <tbody>\n",
       "    <tr>\n",
       "      <th>0</th>\n",
       "      <td>POINT (-73.92822391104288 40.74634173827231)</td>\n",
       "      <td>Museum for African Art</td>\n",
       "      <td>(718) 784-7700</td>\n",
       "      <td>http://www.africanart.org/</td>\n",
       "      <td>36-01 43rd Avenue</td>\n",
       "      <td>3rd Floor</td>\n",
       "      <td>Queens</td>\n",
       "      <td>11101</td>\n",
       "      <td>1</td>\n",
       "      <td>{\"x\": -8231874.2993, \"y\": 4974895.707000002, \"...</td>\n",
       "      <td>{\"curveRings\": [[[-8231874.2993, 4974897.70700...</td>\n",
       "    </tr>\n",
       "    <tr>\n",
       "      <th>1</th>\n",
       "      <td>POINT (-74.01375579519738 40.703816216918035)</td>\n",
       "      <td>Alexander Hamilton U.S. Custom House</td>\n",
       "      <td>(212) 514-3700</td>\n",
       "      <td>http://www.oldnycustomhouse.gov/</td>\n",
       "      <td>1 Bowling Grn</td>\n",
       "      <td>&lt;NA&gt;</td>\n",
       "      <td>New York</td>\n",
       "      <td>10004</td>\n",
       "      <td>2</td>\n",
       "      <td>{\"x\": -8239000.973099999, \"y\": 4968783.3052000...</td>\n",
       "      <td>{\"curveRings\": [[[-8239000.973099999, 4968785....</td>\n",
       "    </tr>\n",
       "    <tr>\n",
       "      <th>2</th>\n",
       "      <td>POINT (-74.00912160394257 40.706484588627994)</td>\n",
       "      <td>Museum of American Finance</td>\n",
       "      <td>(212) 908-4110</td>\n",
       "      <td>http://www.moaf.org/index</td>\n",
       "      <td>48 Wall Street</td>\n",
       "      <td>&lt;NA&gt;</td>\n",
       "      <td>New York</td>\n",
       "      <td>10005</td>\n",
       "      <td>3</td>\n",
       "      <td>{\"x\": -8238528.978399999, \"y\": 4968998.8134, \"...</td>\n",
       "      <td>{\"curveRings\": [[[-8238528.978399999, 4969000....</td>\n",
       "    </tr>\n",
       "    <tr>\n",
       "      <th>3</th>\n",
       "      <td>POINT (-74.06303178855111 40.615120837755356)</td>\n",
       "      <td>Alice Austen House Museum</td>\n",
       "      <td>(718) 816-4506</td>\n",
       "      <td>http://www.aliceausten.org/</td>\n",
       "      <td>2 Hylan Blvd</td>\n",
       "      <td>&lt;NA&gt;</td>\n",
       "      <td>Staten Island</td>\n",
       "      <td>10305</td>\n",
       "      <td>4</td>\n",
       "      <td>{\"x\": -8245403.513599999, \"y\": 4955179.3932000...</td>\n",
       "      <td>{\"curveRings\": [[[-8245403.513599999, 4955181....</td>\n",
       "    </tr>\n",
       "    <tr>\n",
       "      <th>4</th>\n",
       "      <td>POINT (-73.96690030997947 40.76471562244387)</td>\n",
       "      <td>Museum of American Illustration</td>\n",
       "      <td>(212) 838-2560</td>\n",
       "      <td>http://societyillustrators.org/museum/index.cms</td>\n",
       "      <td>128 E. 63d St.</td>\n",
       "      <td>&lt;NA&gt;</td>\n",
       "      <td>New York</td>\n",
       "      <td>10021</td>\n",
       "      <td>5</td>\n",
       "      <td>{\"x\": -8233360.4145, \"y\": 4978627.813299999, \"...</td>\n",
       "      <td>{\"curveRings\": [[[-8233360.4145, 4978629.81329...</td>\n",
       "    </tr>\n",
       "  </tbody>\n",
       "</table>\n",
       "</div>"
      ],
      "text/plain": [
       "                                        the_geom  \\\n",
       "0   POINT (-73.92822391104288 40.74634173827231)   \n",
       "1  POINT (-74.01375579519738 40.703816216918035)   \n",
       "2  POINT (-74.00912160394257 40.706484588627994)   \n",
       "3  POINT (-74.06303178855111 40.615120837755356)   \n",
       "4   POINT (-73.96690030997947 40.76471562244387)   \n",
       "\n",
       "                                   NAME             TEL  \\\n",
       "0                Museum for African Art  (718) 784-7700   \n",
       "1  Alexander Hamilton U.S. Custom House  (212) 514-3700   \n",
       "2            Museum of American Finance  (212) 908-4110   \n",
       "3             Alice Austen House Museum  (718) 816-4506   \n",
       "4       Museum of American Illustration  (212) 838-2560   \n",
       "\n",
       "                                               URL            ADRESS1  \\\n",
       "0                       http://www.africanart.org/  36-01 43rd Avenue   \n",
       "1                 http://www.oldnycustomhouse.gov/      1 Bowling Grn   \n",
       "2                        http://www.moaf.org/index     48 Wall Street   \n",
       "3                      http://www.aliceausten.org/       2 Hylan Blvd   \n",
       "4  http://societyillustrators.org/museum/index.cms     128 E. 63d St.   \n",
       "\n",
       "    ADDRESS2           CITY    ZIP  ObjectId  \\\n",
       "0  3rd Floor         Queens  11101         1   \n",
       "1       <NA>       New York  10004         2   \n",
       "2       <NA>       New York  10005         3   \n",
       "3       <NA>  Staten Island  10305         4   \n",
       "4       <NA>       New York  10021         5   \n",
       "\n",
       "                                               SHAPE  \\\n",
       "0  {\"x\": -8231874.2993, \"y\": 4974895.707000002, \"...   \n",
       "1  {\"x\": -8239000.973099999, \"y\": 4968783.3052000...   \n",
       "2  {\"x\": -8238528.978399999, \"y\": 4968998.8134, \"...   \n",
       "3  {\"x\": -8245403.513599999, \"y\": 4955179.3932000...   \n",
       "4  {\"x\": -8233360.4145, \"y\": 4978627.813299999, \"...   \n",
       "\n",
       "                                           buffer_d2  \n",
       "0  {\"curveRings\": [[[-8231874.2993, 4974897.70700...  \n",
       "1  {\"curveRings\": [[[-8239000.973099999, 4968785....  \n",
       "2  {\"curveRings\": [[[-8238528.978399999, 4969000....  \n",
       "3  {\"curveRings\": [[[-8245403.513599999, 4955181....  \n",
       "4  {\"curveRings\": [[[-8233360.4145, 4978629.81329...  "
      ]
     },
     "execution_count": 20,
     "metadata": {},
     "output_type": "execute_result"
    }
   ],
   "source": [
    "museum_sedf.head()"
   ]
  },
  {
   "cell_type": "code",
   "execution_count": 21,
   "metadata": {},
   "outputs": [
    {
     "data": {
      "text/plain": [
       "0            0.0\n",
       "1    9388.872947\n",
       "2     8891.46265\n",
       "3    23911.76843\n",
       "4    4017.107893\n",
       "Name: distance_to, dtype: object"
      ]
     },
     "execution_count": 21,
     "metadata": {},
     "output_type": "execute_result"
    }
   ],
   "source": [
    "# Calculate distance to the first museum\n",
    "museum_sedf.SHAPE.geom.distance_to(museum_sedf.SHAPE[0]).head()"
   ]
  },
  {
   "cell_type": "markdown",
   "metadata": {},
   "source": [
    "### Plot on a map"
   ]
  },
  {
   "cell_type": "code",
   "execution_count": 22,
   "metadata": {},
   "outputs": [
    {
     "data": {
      "application/vnd.jupyter.widget-view+json": {
       "model_id": "f1db923afd94428c9ce4bd5fc23aaf5d",
       "version_major": 2,
       "version_minor": 0
      },
      "text/plain": [
       "MapView(layout=Layout(height='400px', width='100%'))"
      ]
     },
     "metadata": {},
     "output_type": "display_data"
    },
    {
     "data": {
      "text/html": [
       "<div class=\"map-static-img-preview-44459a87-8169-47c9-827c-3b541b8abc1d\"><img src=\"\"></img></div>"
      ],
      "text/plain": [
       "<IPython.core.display.HTML object>"
      ]
     },
     "metadata": {},
     "output_type": "display_data"
    },
    {
     "data": {
      "text/html": [
       "<div class=\"map-html-embed-preview-44459a87-8169-47c9-827c-3b541b8abc1d\"></div>"
      ],
      "text/plain": [
       "<IPython.core.display.HTML object>"
      ]
     },
     "metadata": {},
     "output_type": "display_data"
    }
   ],
   "source": [
    "museum_map = gis.map(\"New York\")\n",
    "museum_map"
   ]
  },
  {
   "cell_type": "code",
   "execution_count": 23,
   "metadata": {},
   "outputs": [
    {
     "data": {
      "text/plain": [
       "True"
      ]
     },
     "execution_count": 23,
     "metadata": {},
     "output_type": "execute_result"
    }
   ],
   "source": [
    "museum_sedf.spatial.plot(museum_map)"
   ]
  }
 ],
 "metadata": {
  "kernelspec": {
   "display_name": "Python 3",
   "language": "python",
   "name": "python3"
  },
  "language_info": {
   "codemirror_mode": {
    "name": "ipython",
    "version": 3
   },
   "file_extension": ".py",
   "mimetype": "text/x-python",
   "name": "python",
   "nbconvert_exporter": "python",
   "pygments_lexer": "ipython3",
   "version": "3.9.11"
  }
 },
 "nbformat": 4,
 "nbformat_minor": 4
}
