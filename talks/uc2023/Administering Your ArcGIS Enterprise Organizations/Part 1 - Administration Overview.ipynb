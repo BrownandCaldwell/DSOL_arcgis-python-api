{
 "cells": [
  {
   "cell_type": "code",
   "execution_count": null,
   "id": "212348b1",
   "metadata": {},
   "outputs": [],
   "source": [
    "from IPython.display import display, HTML\n",
    "display(HTML(\"<style>.container { width:90% !important; }</style>\"))"
   ]
  },
  {
   "cell_type": "markdown",
   "id": "f17c944f",
   "metadata": {},
   "source": [
    "# Administering Your GIS Organizations Using ArcGIS API for Python"
   ]
  },
  {
   "cell_type": "markdown",
   "id": "8e9d04ba",
   "metadata": {},
   "source": [
    "## Overview"
   ]
  },
  {
   "cell_type": "markdown",
   "id": "91cc79b4",
   "metadata": {},
   "source": [
    "- The ArcGIS ecosystem is vast\n",
    "- Organizations can have multiple versions of any product or multiple products to manage\n",
    "- How do you manage this?"
   ]
  },
  {
   "cell_type": "markdown",
   "id": "fea199c0",
   "metadata": {},
   "source": [
    "## The Way of the Python"
   ]
  },
  {
   "cell_type": "markdown",
   "id": "5b9b5afd",
   "metadata": {},
   "source": [
    "<img src=\"./img/waysofscience.jpg\" width=700/>"
   ]
  },
  {
   "cell_type": "markdown",
   "id": "5451a992",
   "metadata": {},
   "source": [
    "- The Python API allows administrators to manage, update and control what happens on your server\n",
    "- Script from your favorite IDE or Notebook environment\n",
    "- Cross platform support"
   ]
  },
  {
   "cell_type": "markdown",
   "id": "48d8aae6",
   "metadata": {},
   "source": [
    "## What Can We Manage?"
   ]
  },
  {
   "cell_type": "markdown",
   "id": "1794a071",
   "metadata": {},
   "source": [
    "<table  style='font-family:\"Courier New\", Courier, monospace; font-size:200%' width=50%>\n",
    "  \n",
    "  <tr>\n",
    "    <td>Users</td>\n",
    "    <td><img src=\"./img/users.png\", width=50/></td>\n",
    "  </tr>\n",
    "  <tr>\n",
    "    <td>Content</td>\n",
    "    <td><img src=\"./img/content.png\", width=50/></td>\n",
    "  </tr>\n",
    "  <tr>\n",
    "    <td>Infrastructure</td>\n",
    "    <td><img src=\"./img/infrastructure.png\", width=50/></td>\n",
    "  </tr>\n",
    "  <tr>\n",
    "    <td>Groups</td>\n",
    "    <td><img src=\"./img/groups.png\" width=50/></td>\n",
    "  </tr>\n",
    " \n",
    "</table>"
   ]
  },
  {
   "cell_type": "markdown",
   "id": "43f95b98",
   "metadata": {},
   "source": [
    "## Getting Started"
   ]
  },
  {
   "cell_type": "markdown",
   "id": "251a08e7",
   "metadata": {},
   "source": [
    "### Understand the `GIS` Object"
   ]
  },
  {
   "cell_type": "markdown",
   "id": "6021c223",
   "metadata": {},
   "source": [
    "The `GIS` object is the way users connect to ArcGIS Online and/or Enterprise\n",
    "\n",
    "- It doesn't matter if you are an administrator of a user, we must start here."
   ]
  },
  {
   "cell_type": "markdown",
   "id": "7eed83e2",
   "metadata": {},
   "source": [
    "#### Connecting to you `GIS` "
   ]
  },
  {
   "cell_type": "markdown",
   "id": "80f12f97",
   "metadata": {},
   "source": [
    "The ArcGIS API for Python support multiple ways of connecting to the `GIS`, which is ArcGIS Online or ArcGIS Enterprise"
   ]
  },
  {
   "cell_type": "markdown",
   "id": "8d8f1a33",
   "metadata": {
    "heading_collapsed": true
   },
   "source": [
    "###### Setup the environment"
   ]
  },
  {
   "cell_type": "code",
   "execution_count": null,
   "id": "cc47a47f",
   "metadata": {
    "hidden": true
   },
   "outputs": [],
   "source": [
    "import sys\n",
    "sys.path.insert(0,\"C:\\SVN\\geosaurus_master\\src\")\n",
    "import pandas as pd\n",
    "from arcgis.gis import GIS\n",
    "import arcgis\n",
    "arcgis.__file__"
   ]
  },
  {
   "cell_type": "markdown",
   "id": "51c71f7f",
   "metadata": {},
   "source": [
    "##### Anonymously"
   ]
  },
  {
   "cell_type": "code",
   "execution_count": null,
   "id": "6d7aa894",
   "metadata": {},
   "outputs": [],
   "source": [
    "from arcgis.gis import GIS\n",
    "gis = GIS() #anonymous connection"
   ]
  },
  {
   "cell_type": "markdown",
   "id": "480039f1",
   "metadata": {},
   "source": [
    "##### Built-In"
   ]
  },
  {
   "cell_type": "markdown",
   "id": "31aa6b4c",
   "metadata": {},
   "source": [
    "- username/password login method\n",
    "- usersname are case sensitive "
   ]
  },
  {
   "cell_type": "markdown",
   "id": "1232e767",
   "metadata": {},
   "source": [
    "```python\n",
    "gis = GIS(username='fakeaccount', password='fakepassword')\n",
    "gis = GIS(url=\"https://www.mysite.com/portal\", username='fakeaccount', password='fakepassword')\n",
    "```"
   ]
  },
  {
   "cell_type": "markdown",
   "id": "c954509d",
   "metadata": {},
   "source": [
    "**Protecting Built-In Credentials**\n",
    "\n",
    "- using `profiles` will help protect username and passwords.  \n",
    "- prevents accidental sharing"
   ]
  },
  {
   "cell_type": "markdown",
   "id": "3a669195",
   "metadata": {},
   "source": [
    "1. Create a `GIS` object with the extra `profile` parameter\n",
    "\n",
    "```python\n",
    "gis = GIS(url=\"https://www.mysite.com/portal\", \n",
    "          username='fakeaccount', \n",
    "          password='fakepassword', \n",
    "          profile='portal_profile')\n",
    "```\n",
    "\n",
    "2. Now connect using the `profile`\n",
    "\n",
    "```python\n",
    "gis = GIS(profile='portal_profile')\n",
    "```\n",
    "\n",
    "**What Happened?**\n",
    "\n",
    "Instead of keeping your password in plain text, now we leverage the operating system's credential store for the logged in user.  The credentials never get passed on when you use profiles."
   ]
  },
  {
   "cell_type": "markdown",
   "id": "08bb16f3",
   "metadata": {},
   "source": [
    "##### Other Login Methods"
   ]
  },
  {
   "cell_type": "markdown",
   "id": "230589a3",
   "metadata": {},
   "source": [
    "- LDAP\n",
    "- IWA\n",
    "- PKI\n",
    "- OAuth 2.0.\n",
    "- API Key"
   ]
  },
  {
   "cell_type": "markdown",
   "id": "806e596b",
   "metadata": {},
   "source": [
    "## User Management"
   ]
  },
  {
   "cell_type": "markdown",
   "id": "1f733ba7",
   "metadata": {},
   "source": [
    "<img src=\"./img/usermanagement.jpg\"/>\n",
    "\n",
    "\n",
    "Users fuel your system. As an administrator your job is to ensure they can put up there content and know the site is reliable and safe.  The Python API is a tool to do just that!"
   ]
  },
  {
   "cell_type": "code",
   "execution_count": null,
   "id": "b6770455",
   "metadata": {},
   "outputs": [],
   "source": [
    "from arcgis.gis import GIS\n",
    "gis = GIS(profile='your_enterprise_profile')"
   ]
  },
  {
   "cell_type": "markdown",
   "id": "9cc1a242",
   "metadata": {},
   "source": [
    "### Working with Existing Users"
   ]
  },
  {
   "cell_type": "code",
   "execution_count": null,
   "id": "4f4aeb9c",
   "metadata": {},
   "outputs": [],
   "source": [
    "um = gis.users\n",
    "um"
   ]
  },
  {
   "cell_type": "markdown",
   "id": "5700e78a",
   "metadata": {},
   "source": [
    "#### Search for Users"
   ]
  },
  {
   "cell_type": "code",
   "execution_count": null,
   "id": "2a3e2a89",
   "metadata": {},
   "outputs": [],
   "source": [
    "users = um.search(\"*\")\n",
    "users[:5]"
   ]
  },
  {
   "cell_type": "markdown",
   "id": "5a91191f",
   "metadata": {},
   "source": [
    "#### List User's Groups"
   ]
  },
  {
   "cell_type": "code",
   "execution_count": null,
   "id": "922c5b31",
   "metadata": {},
   "outputs": [],
   "source": [
    "um.user_groups(users[:3])"
   ]
  },
  {
   "cell_type": "markdown",
   "id": "158724ab",
   "metadata": {},
   "source": [
    "#### Access a User's Items"
   ]
  },
  {
   "cell_type": "code",
   "execution_count": null,
   "id": "ee69a9da",
   "metadata": {},
   "outputs": [],
   "source": [
    "users[0].items(max_items=5)"
   ]
  },
  {
   "cell_type": "code",
   "execution_count": null,
   "id": "b8b94cc0",
   "metadata": {},
   "outputs": [],
   "source": [
    "user = um.search(\"apulver\")[0]\n",
    "user.update(\n",
    "    thumbnail=r\"./img/dino.png\"\n",
    ")\n",
    "user"
   ]
  },
  {
   "cell_type": "markdown",
   "id": "c553db63",
   "metadata": {},
   "source": [
    "### Creating New Users"
   ]
  },
  {
   "cell_type": "code",
   "execution_count": null,
   "id": "aa26a938",
   "metadata": {},
   "outputs": [],
   "source": [
    "# Check the user types available\n",
    "um.counts('user_type')"
   ]
  },
  {
   "cell_type": "markdown",
   "id": "d5e19970",
   "metadata": {},
   "source": [
    "##### Password Policies\n",
    "\n",
    "- must meet password policy standards!"
   ]
  },
  {
   "cell_type": "code",
   "execution_count": null,
   "id": "b2ece3a3",
   "metadata": {},
   "outputs": [],
   "source": [
    "gis.admin.password_policy.policy"
   ]
  },
  {
   "cell_type": "code",
   "execution_count": null,
   "id": "431a75ba",
   "metadata": {},
   "outputs": [],
   "source": [
    "import uuid\n",
    "username = f\"RUser{uuid.uuid4().hex[:4]}\"\n",
    "password = f\"!{uuid.uuid4().hex[:8]}A\"\n",
    "new_user = um.create(username=username, password=password, \n",
    "                     firstname=\"Dan\", lastname=\"Human\", \n",
    "                     email='testsadf@esri.com')\n",
    "new_user"
   ]
  },
  {
   "cell_type": "code",
   "execution_count": null,
   "id": "5e4b024f",
   "metadata": {},
   "outputs": [],
   "source": [
    "new_password = f\"!{uuid.uuid4().hex[:8]}A\""
   ]
  },
  {
   "cell_type": "markdown",
   "id": "03b45fb3",
   "metadata": {},
   "source": [
    "#### Reset the Password"
   ]
  },
  {
   "cell_type": "code",
   "execution_count": null,
   "id": "f79fe9d8",
   "metadata": {},
   "outputs": [],
   "source": [
    "new_user.reset(\n",
    "    password=password,\n",
    "    new_password=new_password,\n",
    "    new_security_question=1,\n",
    "    new_security_answer=\"hamburgers are good\",\n",
    "    reset_by_email=False,\n",
    ")"
   ]
  },
  {
   "cell_type": "code",
   "execution_count": null,
   "id": "cddab4ff",
   "metadata": {},
   "outputs": [],
   "source": [
    "GIS(url=gis.url,\n",
    "    username=new_user.username, \n",
    "    password=new_password, \n",
    "    set_active=False,\n",
    "    verify_cert=False).users.me"
   ]
  },
  {
   "cell_type": "markdown",
   "id": "6e5b648e",
   "metadata": {},
   "source": [
    "#### Deleting the User"
   ]
  },
  {
   "cell_type": "code",
   "execution_count": null,
   "id": "6fa834f1",
   "metadata": {},
   "outputs": [],
   "source": [
    "new_user.delete()"
   ]
  },
  {
   "cell_type": "markdown",
   "id": "c3dd4b62",
   "metadata": {},
   "source": [
    "### Working with Roles and User Types"
   ]
  },
  {
   "cell_type": "markdown",
   "id": "34e1c85c",
   "metadata": {},
   "source": [
    "<img src=\"./img/know_your_role.jpg\" width=500/>"
   ]
  },
  {
   "cell_type": "markdown",
   "id": "e684559c",
   "metadata": {},
   "source": [
    "#### User types"
   ]
  },
  {
   "cell_type": "markdown",
   "id": "2a2c77a7",
   "metadata": {},
   "source": [
    "- User type determines the privileges that can be granted to the member through a default or custom role\n",
    "- Common Roles:\n",
    "  + viewer, creator and administrator"
   ]
  },
  {
   "cell_type": "code",
   "execution_count": null,
   "id": "8ea5d849",
   "metadata": {},
   "outputs": [],
   "source": [
    "from arcgis.gis import GIS\n",
    "gis = GIS(profile='your_enterprise_profile')"
   ]
  },
  {
   "cell_type": "code",
   "execution_count": null,
   "id": "edd67d64",
   "metadata": {},
   "outputs": [],
   "source": [
    "user = gis.users.me\n",
    "um = gis.users"
   ]
  },
  {
   "cell_type": "markdown",
   "id": "7faf3653",
   "metadata": {},
   "source": [
    "##### Seeing What an User Types Gives the User"
   ]
  },
  {
   "cell_type": "code",
   "execution_count": null,
   "id": "958de9f5",
   "metadata": {},
   "outputs": [],
   "source": [
    "user.user_types()['id']"
   ]
  },
  {
   "cell_type": "code",
   "execution_count": null,
   "id": "13b9779b",
   "metadata": {},
   "outputs": [],
   "source": [
    "[entitlements['title'] for entitlements in user.user_types()['apps']]"
   ]
  },
  {
   "cell_type": "code",
   "execution_count": null,
   "id": "9a5f0bf1",
   "metadata": {},
   "outputs": [],
   "source": [
    "um.counts('user_type')"
   ]
  },
  {
   "cell_type": "code",
   "execution_count": null,
   "id": "a1a1b80e",
   "metadata": {},
   "outputs": [],
   "source": [
    "user.update_license_type(\"GISProfessionalAdvUT\")\n",
    "user.user_types()['id']"
   ]
  },
  {
   "cell_type": "code",
   "execution_count": null,
   "id": "082fb454",
   "metadata": {},
   "outputs": [],
   "source": [
    "um.counts('user_type')"
   ]
  },
  {
   "cell_type": "code",
   "execution_count": null,
   "id": "3e4f038c",
   "metadata": {},
   "outputs": [],
   "source": [
    "[app['entitlements'] for app in user.user_types()['apps'] if 'entitlements' in app]"
   ]
  },
  {
   "cell_type": "code",
   "execution_count": null,
   "id": "b4aecdb3",
   "metadata": {},
   "outputs": [],
   "source": [
    "user.update_license_type(\"creatorUT\")\n",
    "[app['entitlements'] for app in user.user_types()['apps'] if 'entitlements' in app]"
   ]
  },
  {
   "cell_type": "code",
   "execution_count": null,
   "id": "2868ebbc",
   "metadata": {},
   "outputs": [],
   "source": [
    "um.counts('user_type')"
   ]
  },
  {
   "cell_type": "markdown",
   "id": "2ceb755a",
   "metadata": {},
   "source": [
    "#### Working with Roles"
   ]
  },
  {
   "cell_type": "markdown",
   "id": "2dc6bcfe",
   "metadata": {},
   "source": [
    "- A role defines the set of privileges assigned to a member"
   ]
  },
  {
   "cell_type": "markdown",
   "id": "c56371e1",
   "metadata": {},
   "source": [
    "**Accessing Role Manager**"
   ]
  },
  {
   "cell_type": "code",
   "execution_count": null,
   "id": "ec629e62",
   "metadata": {},
   "outputs": [],
   "source": [
    "rm = gis.users.roles\n",
    "rm"
   ]
  },
  {
   "cell_type": "markdown",
   "id": "0ab6a5e0",
   "metadata": {},
   "source": [
    "**Listing Roles**"
   ]
  },
  {
   "cell_type": "code",
   "execution_count": null,
   "id": "f01334fa",
   "metadata": {},
   "outputs": [],
   "source": [
    "rm.all()"
   ]
  },
  {
   "cell_type": "markdown",
   "id": "0194244b",
   "metadata": {},
   "source": [
    "**Check for Existence of a Role**"
   ]
  },
  {
   "cell_type": "code",
   "execution_count": null,
   "id": "be88e97f",
   "metadata": {},
   "outputs": [],
   "source": [
    "rm.exists('DataEditorRole')"
   ]
  },
  {
   "cell_type": "code",
   "execution_count": null,
   "id": "481d8174",
   "metadata": {},
   "outputs": [],
   "source": [
    "role = rm.create(name=\"DataEditorRole\", \n",
    "                 description=\"Allow to modify service data\", \n",
    "                 privileges=[\n",
    "                        \"features:user:edit\",\n",
    "                        \"features:user:fullEdit\",\n",
    "                        \"opendata:user:designateGroup\",\n",
    "                        \"portal:admin:viewUsers\",\n",
    "                        \"portal:user:createGroup\"]\n",
    "                )\n",
    "role"
   ]
  },
  {
   "cell_type": "markdown",
   "id": "e3a52c71",
   "metadata": {},
   "source": [
    "**Removing the Role**"
   ]
  },
  {
   "cell_type": "code",
   "execution_count": null,
   "id": "1f276e2c",
   "metadata": {},
   "outputs": [],
   "source": [
    "role.delete()"
   ]
  },
  {
   "cell_type": "markdown",
   "id": "f874948c",
   "metadata": {},
   "source": [
    "#### Check if a Role is Used"
   ]
  },
  {
   "cell_type": "code",
   "execution_count": null,
   "id": "ef68eb83",
   "metadata": {},
   "outputs": [],
   "source": [
    "um.counts('role')"
   ]
  },
  {
   "cell_type": "markdown",
   "id": "574c8df8",
   "metadata": {},
   "source": [
    "#### Cloning Roles"
   ]
  },
  {
   "cell_type": "markdown",
   "id": "3f37520a",
   "metadata": {},
   "source": [
    "- New at the **2.2.0** release!\n",
    "- copy roles from one organization to another with a single command."
   ]
  },
  {
   "cell_type": "code",
   "execution_count": null,
   "id": "c781ae94",
   "metadata": {},
   "outputs": [],
   "source": [
    "gis_dest = GIS(profile='your_dev_online_profile', set_active=False)"
   ]
  },
  {
   "cell_type": "code",
   "execution_count": null,
   "id": "0312d89e",
   "metadata": {},
   "outputs": [],
   "source": [
    "clone_role = rm.create(name=\"ClonedDataEditorRole\", \n",
    "                 description=\"Allow to modify service data\", \n",
    "                 privileges=[\n",
    "                        \"features:user:edit\",\n",
    "                        \"features:user:fullEdit\",\n",
    "                        \"opendata:user:designateGroup\",\n",
    "                        \"portal:admin:viewUsers\",\n",
    "                        \"portal:user:createGroup\"]\n",
    "                )\n",
    "clone_role"
   ]
  },
  {
   "cell_type": "code",
   "execution_count": null,
   "id": "dd80be5f",
   "metadata": {},
   "outputs": [],
   "source": [
    "rm_dest = gis_dest.users.roles\n",
    "rm_dest.exists(\"ClonedDataEditorRole\")"
   ]
  },
  {
   "cell_type": "code",
   "execution_count": null,
   "id": "187df95e",
   "metadata": {},
   "outputs": [],
   "source": [
    "results = rm_dest.clone([clone_role])\n",
    "results"
   ]
  },
  {
   "cell_type": "code",
   "execution_count": null,
   "id": "33ad1180",
   "metadata": {},
   "outputs": [],
   "source": [
    "results[0].result()"
   ]
  },
  {
   "cell_type": "code",
   "execution_count": null,
   "id": "155f27bb",
   "metadata": {},
   "outputs": [],
   "source": [
    "rm_dest.exists(\"ClonedDataEditorRole\")"
   ]
  },
  {
   "cell_type": "code",
   "execution_count": null,
   "id": "eabef769",
   "metadata": {},
   "outputs": [],
   "source": [
    "results[0].result().delete()\n",
    "clone_role.delete()"
   ]
  },
  {
   "cell_type": "markdown",
   "id": "f0c29c73",
   "metadata": {},
   "source": [
    "## Managing Content"
   ]
  },
  {
   "cell_type": "code",
   "execution_count": null,
   "id": "6ee381c1",
   "metadata": {},
   "outputs": [],
   "source": [
    "from arcgis.gis import GIS\n",
    "from arcgis.auth.tools._util import detect_proxy\n",
    "gis = GIS(profile='your_dev_enterprise_profile', \n",
    "          verify_cert=False)"
   ]
  },
  {
   "cell_type": "code",
   "execution_count": null,
   "id": "c482eb11",
   "metadata": {},
   "outputs": [],
   "source": [
    "gis"
   ]
  },
  {
   "cell_type": "code",
   "execution_count": null,
   "id": "d30d4d4a",
   "metadata": {},
   "outputs": [],
   "source": [
    "cm = gis.content\n",
    "cm"
   ]
  },
  {
   "cell_type": "markdown",
   "id": "e5e79fba",
   "metadata": {},
   "source": [
    "### Working with Content"
   ]
  },
  {
   "cell_type": "markdown",
   "id": "52196fcd",
   "metadata": {},
   "source": [
    "<img src=\"./img/content-manager.jpg\"/>\n",
    "\n",
    "**The content manager allows users and administrators to work with, find and manage content**"
   ]
  },
  {
   "cell_type": "markdown",
   "id": "c0772b6e",
   "metadata": {},
   "source": [
    "#### Searching"
   ]
  },
  {
   "cell_type": "markdown",
   "id": "16938915",
   "metadata": {},
   "source": [
    "##### `search` Example"
   ]
  },
  {
   "cell_type": "markdown",
   "id": "3ab71ec4",
   "metadata": {},
   "source": [
    "- provides a simple search method\n",
    "- max items is 10,000\n",
    "- do not have full control over searches"
   ]
  },
  {
   "cell_type": "code",
   "execution_count": null,
   "id": "07b90966",
   "metadata": {},
   "outputs": [],
   "source": [
    "cm.search(query=\"title: NaturalEngland\", item_type=\"Feature Layer\", outside_org=False)"
   ]
  },
  {
   "cell_type": "markdown",
   "id": "0ba4c6b1",
   "metadata": {},
   "source": [
    "##### `advanced_search` Example"
   ]
  },
  {
   "cell_type": "markdown",
   "id": "12249a8e",
   "metadata": {},
   "source": [
    "- full control searching option\n",
    "- removed limitations of `search`\n",
    "- returns items as dictionary, which speeds up searches\n",
    "- leverage system for simple statistics about content"
   ]
  },
  {
   "cell_type": "markdown",
   "id": "d1e6cbf9",
   "metadata": {},
   "source": [
    "**How Many Item to Examine?**"
   ]
  },
  {
   "cell_type": "code",
   "execution_count": null,
   "id": "71a664f6",
   "metadata": {},
   "outputs": [],
   "source": [
    "count = cm.advanced_search('title: NaturalEngland AND  (type:\"feature service\")', return_count=True)\n",
    "count"
   ]
  },
  {
   "cell_type": "code",
   "execution_count": null,
   "id": "ebeadc13",
   "metadata": {},
   "outputs": [],
   "source": [
    "items = cm.advanced_search('title: NaturalEngland AND  (type:\"feature service\")', max_items=count, \n",
    "                           sort_field='avgRating', sort_order='desc')['results']\n",
    "items"
   ]
  },
  {
   "cell_type": "markdown",
   "id": "c8fd258b",
   "metadata": {},
   "source": [
    "**Gathering Information from Searches**\n",
    "\n",
    "- In this demo we will see how much new content was added to the organization in the last 5 days."
   ]
  },
  {
   "cell_type": "code",
   "execution_count": null,
   "id": "cc7c6e40",
   "metadata": {},
   "outputs": [],
   "source": [
    "import datetime as _dt\n",
    "\n",
    "now =_dt.datetime.now(_dt.timezone.utc)\n",
    "then = now - _dt.timedelta(days=20)\n"
   ]
  },
  {
   "cell_type": "code",
   "execution_count": null,
   "id": "0f0a3030",
   "metadata": {},
   "outputs": [],
   "source": [
    "cm.advanced_search(\n",
    "    f\"created: [{int(then.timestamp()* 1000)} TO {int(now.timestamp()* 1000)}] AND accountid:{gis.properties.id}\", \n",
    "    return_count=True)"
   ]
  },
  {
   "cell_type": "markdown",
   "id": "f7379206",
   "metadata": {},
   "source": [
    "#### Adding and Publishing Content"
   ]
  },
  {
   "cell_type": "code",
   "execution_count": null,
   "id": "fe42e68f",
   "metadata": {},
   "outputs": [],
   "source": [
    "import uuid\n",
    "username = f\"UCUser{uuid.uuid4().hex[:3]}\"\n",
    "password = f\"!{uuid.uuid4().hex[:6]}A\"\n",
    "user = gis.users.create(username=username,\n",
    "        password=password,\n",
    "        firstname=uuid.uuid4().hex[:6],\n",
    "        lastname=uuid.uuid4().hex[:6],\n",
    "        email=uuid.uuid4().hex[:6] + \"@esri.com\")\n",
    "user"
   ]
  },
  {
   "cell_type": "code",
   "execution_count": null,
   "id": "2654c0dc",
   "metadata": {},
   "outputs": [],
   "source": [
    "user.items()"
   ]
  },
  {
   "cell_type": "markdown",
   "id": "42a80ead",
   "metadata": {},
   "source": [
    "##### Publishing a Table"
   ]
  },
  {
   "cell_type": "code",
   "execution_count": null,
   "id": "91cdc70b",
   "metadata": {},
   "outputs": [],
   "source": [
    "import io, uuid\n",
    "import pandas as pd"
   ]
  },
  {
   "cell_type": "code",
   "execution_count": null,
   "id": "1030f154",
   "metadata": {},
   "outputs": [],
   "source": [
    "buffer = io.StringIO()\n",
    "df = pd.read_csv(\"./data/banklist.csv\")\n",
    "df.to_csv(buffer)"
   ]
  },
  {
   "cell_type": "code",
   "execution_count": null,
   "id": "9da5d486",
   "metadata": {},
   "outputs": [],
   "source": [
    "item_failed_banks = gis.content.add(\n",
    "        item_properties={\n",
    "            \"type\": \"CSV\",\n",
    "            \"title\": \"Failed Banks\",\n",
    "            \"fileName\": f\"failedbanks{uuid.uuid4().hex[:5]}.csv\",\n",
    "        },\n",
    "        data=buffer,\n",
    ")"
   ]
  },
  {
   "cell_type": "code",
   "execution_count": null,
   "id": "11a8afa2",
   "metadata": {},
   "outputs": [],
   "source": [
    "item_failed_banks"
   ]
  },
  {
   "cell_type": "code",
   "execution_count": null,
   "id": "033e7b25",
   "metadata": {},
   "outputs": [],
   "source": [
    "analyzed = gis.content.analyze(item=item_failed_banks, file_type=\"CSV\")\n",
    "publish_parameters = analyzed['publishParameters']\n",
    "publish_parameters[\n",
    "        'name'\n",
    "    ] = f\"Failed_Banks_{uuid.uuid4().hex[:2]}\"  # this needs to be updated\n",
    "publish_parameters['locationType'] = \"none\"  # this makes it a hosted table\n",
    "published_item = item_failed_banks.publish(publish_parameters)"
   ]
  },
  {
   "cell_type": "code",
   "execution_count": null,
   "id": "9beb8cba",
   "metadata": {},
   "outputs": [],
   "source": [
    "published_item"
   ]
  },
  {
   "cell_type": "markdown",
   "id": "dcc4e412",
   "metadata": {},
   "source": [
    "##### Adding/Publishing Content to a User"
   ]
  },
  {
   "cell_type": "code",
   "execution_count": null,
   "id": "b8eff458",
   "metadata": {},
   "outputs": [],
   "source": [
    "user_item = gis.content.add(\n",
    "    item_properties= {'title' : 'World Cities', \n",
    "                      'tags' : \"cities, world coverage, population\", \n",
    "                      'type' : \"Shapefile\" },\n",
    "    data=r\"C:\\GIS\\cities.zip\",\n",
    "    owner=user,\n",
    ")\n",
    "user_item"
   ]
  },
  {
   "cell_type": "code",
   "execution_count": null,
   "id": "5e75f786",
   "metadata": {},
   "outputs": [],
   "source": [
    "pitem = user_item.publish({'name' : f'world{uuid.uuid4().hex[:4]}cities'})\n",
    "pitem"
   ]
  },
  {
   "cell_type": "markdown",
   "id": "43242139",
   "metadata": {},
   "source": [
    "##### Reassigning Content "
   ]
  },
  {
   "cell_type": "code",
   "execution_count": null,
   "id": "2adeee01",
   "metadata": {},
   "outputs": [],
   "source": [
    "user.items()"
   ]
  },
  {
   "cell_type": "code",
   "execution_count": null,
   "id": "a000a202",
   "metadata": {},
   "outputs": [],
   "source": [
    "folder = gis.content.create_folder(\"uc_demo_migration_folder\")\n",
    "folder"
   ]
  },
  {
   "cell_type": "code",
   "execution_count": null,
   "id": "6ee07933",
   "metadata": {},
   "outputs": [],
   "source": [
    "item = user.items()[-1]\n",
    "item.reassign_to(target_owner=gis.users.me.username,\n",
    "    target_folder= 'uc_demo_migration_folder')"
   ]
  },
  {
   "cell_type": "code",
   "execution_count": null,
   "id": "b84e9875",
   "metadata": {},
   "outputs": [],
   "source": [
    "gis.users.me.items(\"uc_demo_migration_folder\")"
   ]
  },
  {
   "cell_type": "markdown",
   "id": "59e83358",
   "metadata": {},
   "source": [
    "##### Erase the User"
   ]
  },
  {
   "cell_type": "code",
   "execution_count": null,
   "id": "65f2385b",
   "metadata": {},
   "outputs": [],
   "source": [
    "user.delete()"
   ]
  },
  {
   "cell_type": "markdown",
   "id": "3118beda",
   "metadata": {},
   "source": [
    "## Metadata "
   ]
  },
  {
   "cell_type": "markdown",
   "id": "8aa54e84",
   "metadata": {},
   "source": [
    "- Administrators can enable metadata for the organization"
   ]
  },
  {
   "cell_type": "code",
   "execution_count": null,
   "id": "ea21069b",
   "metadata": {},
   "outputs": [],
   "source": [
    "mm = gis.admin.metadata\n",
    "mm"
   ]
  },
  {
   "cell_type": "code",
   "execution_count": null,
   "id": "a9a33320",
   "metadata": {},
   "outputs": [],
   "source": [
    "mm.enable()"
   ]
  },
  {
   "cell_type": "code",
   "execution_count": null,
   "id": "abc417a2",
   "metadata": {},
   "outputs": [],
   "source": [
    "mm.is_enabled"
   ]
  },
  {
   "cell_type": "markdown",
   "id": "0632b3ab",
   "metadata": {},
   "source": [
    "# Content Migration/ Monitoring"
   ]
  },
  {
   "cell_type": "markdown",
   "id": "a7b0ba00",
   "metadata": {},
   "source": [
    "## Transfering Content"
   ]
  },
  {
   "cell_type": "markdown",
   "id": "dd14425e",
   "metadata": {},
   "source": [
    "- new at version **2.2.0**\n",
    "- allows an asynchronous way to migrate content from a user to a new user"
   ]
  },
  {
   "cell_type": "code",
   "execution_count": null,
   "id": "6b0dd111",
   "metadata": {},
   "outputs": [],
   "source": [
    "import uuid\n",
    "from arcgis.gis import GIS\n",
    "gis = GIS(profile='your_dev_enterprise_profile')"
   ]
  },
  {
   "cell_type": "code",
   "execution_count": null,
   "id": "927210fe",
   "metadata": {},
   "outputs": [],
   "source": [
    "fp = r\".\\data\\transfer_content.csv\"\n",
    "username = f\"ARealHuman{uuid.uuid4().hex[:2]}\"\n",
    "password = f\"b!{uuid.uuid4().hex[:8]}A\"\n",
    "um= gis.users\n",
    "user = um.create(\n",
    "            username=username,\n",
    "            password=password,\n",
    "            firstname=\"Danny\",\n",
    "            lastname=\"Human\",\n",
    "            email='testsadf@esri.com',\n",
    "        )\n",
    "item = gis.content.add(\n",
    "            item_properties={\n",
    "                \"type\": \"CSV\",\n",
    "                \"title\": \"transfer_content_CSV\",\n",
    "            },\n",
    "            data=fp,\n",
    "            owner=user,\n",
    "        )"
   ]
  },
  {
   "cell_type": "code",
   "execution_count": null,
   "id": "afbde327",
   "metadata": {},
   "outputs": [],
   "source": [
    "user.items()"
   ]
  },
  {
   "cell_type": "code",
   "execution_count": null,
   "id": "d57c8e32",
   "metadata": {},
   "outputs": [],
   "source": [
    "itemid = item.itemid\n",
    "result = user.transfer_content(\n",
    "        gis.users.me, \n",
    "        folder=f\"{user.username}_content\")\n",
    "result"
   ]
  },
  {
   "cell_type": "code",
   "execution_count": null,
   "id": "bc26b1b9",
   "metadata": {},
   "outputs": [],
   "source": [
    "result.result()"
   ]
  },
  {
   "cell_type": "code",
   "execution_count": null,
   "id": "2482485d",
   "metadata": {},
   "outputs": [],
   "source": [
    "user.items()"
   ]
  },
  {
   "cell_type": "code",
   "execution_count": null,
   "id": "97ef85f8",
   "metadata": {},
   "outputs": [],
   "source": [
    "gis.content.get(item.id)"
   ]
  },
  {
   "cell_type": "code",
   "execution_count": null,
   "id": "6a2da9b8",
   "metadata": {},
   "outputs": [],
   "source": [
    "user.delete()\n",
    "gis.content.get(item.id).delete()\n",
    "gis.content.delete_folder(f\"{user.username}_content\")"
   ]
  },
  {
   "cell_type": "markdown",
   "id": "d6f4aff1",
   "metadata": {},
   "source": [
    "### Cloning Items"
   ]
  },
  {
   "cell_type": "markdown",
   "id": "b68c8cf6",
   "metadata": {},
   "source": [
    "**`clone_items` provides the ability to copy content from one site to another**"
   ]
  },
  {
   "cell_type": "code",
   "execution_count": null,
   "id": "d4d77c1a",
   "metadata": {},
   "outputs": [],
   "source": [
    "gis_source = GIS(profile='your_online_profile', set_active=False)\n",
    "gis_destination = GIS(profile='your_dev_enterprise_profile')"
   ]
  },
  {
   "cell_type": "code",
   "execution_count": null,
   "id": "e4934d4a",
   "metadata": {},
   "outputs": [],
   "source": [
    "items = gis_source.users.me.items(max_items=2)\n",
    "items"
   ]
  },
  {
   "cell_type": "code",
   "execution_count": null,
   "id": "1cce4bfb",
   "metadata": {},
   "outputs": [],
   "source": [
    "results = gis_destination.content.clone_items(items=items, copy_data=True)"
   ]
  },
  {
   "cell_type": "code",
   "execution_count": null,
   "id": "b80fc414",
   "metadata": {},
   "outputs": [],
   "source": [
    "results"
   ]
  },
  {
   "cell_type": "code",
   "execution_count": null,
   "id": "e0959cdd",
   "metadata": {},
   "outputs": [],
   "source": [
    "[result.delete() for result in results]"
   ]
  },
  {
   "cell_type": "markdown",
   "id": "c6578d81",
   "metadata": {},
   "source": [
    "## Continue onto Reporting and Monitoring "
   ]
  }
 ],
 "metadata": {
  "kernelspec": {
   "display_name": "Python 3 (ipykernel)",
   "language": "python",
   "name": "python3"
  },
  "language_info": {
   "codemirror_mode": {
    "name": "ipython",
    "version": 3
   },
   "file_extension": ".py",
   "mimetype": "text/x-python",
   "name": "python",
   "nbconvert_exporter": "python",
   "pygments_lexer": "ipython3",
   "version": "3.9.16"
  }
 },
 "nbformat": 4,
 "nbformat_minor": 5
}
