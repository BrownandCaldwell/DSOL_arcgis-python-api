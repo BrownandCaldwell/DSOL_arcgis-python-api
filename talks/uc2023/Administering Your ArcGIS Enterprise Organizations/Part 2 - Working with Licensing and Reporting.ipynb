{
 "cells": [
  {
   "cell_type": "markdown",
   "id": "9b45648d",
   "metadata": {},
   "source": [
    "     "
   ]
  },
  {
   "cell_type": "code",
   "execution_count": null,
   "id": "85dd8de4",
   "metadata": {},
   "outputs": [],
   "source": [
    "from IPython.display import display, HTML\n",
    "display(HTML(\"<style>.container { width:90% !important; }</style>\"))"
   ]
  },
  {
   "cell_type": "markdown",
   "id": "fa2bc9c0",
   "metadata": {},
   "source": [
    "<img src=\"./img/monitoring.jpg\"/>"
   ]
  },
  {
   "cell_type": "markdown",
   "id": "1e36b4b1",
   "metadata": {},
   "source": [
    "#### setup the environment "
   ]
  },
  {
   "cell_type": "code",
   "execution_count": null,
   "id": "830e6507",
   "metadata": {},
   "outputs": [],
   "source": [
    "import pandas as pd\n",
    "from arcgis.gis import GIS\n",
    "import arcgis"
   ]
  },
  {
   "cell_type": "markdown",
   "id": "6174b44a",
   "metadata": {},
   "source": [
    "#### Create the GIS Connection"
   ]
  },
  {
   "cell_type": "code",
   "execution_count": null,
   "id": "c95a6b05",
   "metadata": {},
   "outputs": [],
   "source": []
  },
  {
   "cell_type": "code",
   "execution_count": null,
   "id": "2dcf0bae",
   "metadata": {},
   "outputs": [],
   "source": [
    "gis = GIS(profile=\"your_dev_enterprise_profile\")\n",
    "user = gis.users.me\n",
    "um = gis.users"
   ]
  },
  {
   "cell_type": "markdown",
   "id": "6bec9cbb",
   "metadata": {},
   "source": [
    "### Managing Named User Licenses and Entitlements"
   ]
  },
  {
   "cell_type": "code",
   "execution_count": null,
   "id": "aeff6017",
   "metadata": {},
   "outputs": [],
   "source": [
    "# list all licenses in the organization\n",
    "license_list = gis.admin.license.all()"
   ]
  },
  {
   "cell_type": "code",
   "execution_count": null,
   "id": "3762d5e3",
   "metadata": {},
   "outputs": [],
   "source": [
    "license_list"
   ]
  },
  {
   "cell_type": "code",
   "execution_count": null,
   "id": "dbc94015",
   "metadata": {},
   "outputs": [],
   "source": [
    "user = gis.users.search(\"creator\")[0]\n",
    "user"
   ]
  },
  {
   "cell_type": "code",
   "execution_count": null,
   "id": "169b6579",
   "metadata": {},
   "outputs": [],
   "source": [
    "l = license_list[1]\n",
    "l.check(user.username)"
   ]
  },
  {
   "cell_type": "code",
   "execution_count": null,
   "id": "dc839339",
   "metadata": {},
   "outputs": [],
   "source": [
    "l.assign(user.username, ['runtimeanalysis'])"
   ]
  },
  {
   "cell_type": "code",
   "execution_count": null,
   "id": "496f726c",
   "metadata": {},
   "outputs": [],
   "source": [
    "l.plot()"
   ]
  },
  {
   "cell_type": "code",
   "execution_count": null,
   "id": "fc211589",
   "metadata": {},
   "outputs": [],
   "source": [
    "pro_license = gis.admin.license.get('ArcGIS Pro')\n",
    "pro_license"
   ]
  },
  {
   "cell_type": "code",
   "execution_count": null,
   "id": "3e995c1d",
   "metadata": {},
   "outputs": [],
   "source": [
    "#get all users licensed for ArcGIS Pro\n",
    "[prov['username'] for prov in pro_license.all()]"
   ]
  },
  {
   "cell_type": "code",
   "execution_count": null,
   "id": "57b21f66",
   "metadata": {},
   "outputs": [],
   "source": [
    "pro_license.assign(user, ['desktopBasicN'])"
   ]
  },
  {
   "cell_type": "code",
   "execution_count": null,
   "id": "86fedb78",
   "metadata": {},
   "outputs": [],
   "source": [
    "%matplotlib inline\n",
    "pro_license.plot()"
   ]
  },
  {
   "cell_type": "code",
   "execution_count": null,
   "id": "5712e462",
   "metadata": {},
   "outputs": [],
   "source": [
    "# Get license object's report property\n",
    "pro_license.report"
   ]
  },
  {
   "cell_type": "code",
   "execution_count": null,
   "id": "e6e20953",
   "metadata": {},
   "outputs": [],
   "source": [
    "pro_license.report.iloc[8][\"Users\"]"
   ]
  },
  {
   "cell_type": "markdown",
   "id": "4b73a5a3",
   "metadata": {},
   "source": [
    "### Querying and Assigning Named Licenses"
   ]
  },
  {
   "cell_type": "code",
   "execution_count": null,
   "id": "029a3edf",
   "metadata": {},
   "outputs": [],
   "source": [
    "pro_license.user_entitlement('creator2')"
   ]
  },
  {
   "cell_type": "markdown",
   "id": "50b5db5e",
   "metadata": {},
   "source": [
    "      "
   ]
  },
  {
   "cell_type": "markdown",
   "id": "99a7ff0c",
   "metadata": {},
   "source": [
    "To revoke an app's license from a user, call the revoke() method from the corresponding License object."
   ]
  },
  {
   "cell_type": "code",
   "execution_count": null,
   "id": "07a43e88",
   "metadata": {},
   "outputs": [],
   "source": [
    "pro_license.revoke(username='creator1', entitlements=\"*\")"
   ]
  },
  {
   "cell_type": "code",
   "execution_count": null,
   "id": "3a3762bf",
   "metadata": {},
   "outputs": [],
   "source": [
    "pro_license.user_entitlement('creator1')"
   ]
  },
  {
   "cell_type": "markdown",
   "id": "cd1fd0b9",
   "metadata": {},
   "source": [
    "You can assign licenses to an application and its extensions using the assign() method."
   ]
  },
  {
   "cell_type": "code",
   "execution_count": null,
   "id": "f407713f",
   "metadata": {},
   "outputs": [],
   "source": [
    "pro_license.assign(username='creator1', entitlements=['3DAnalystN',\n",
    "  'bathymetryN',\n",
    "  'businessStdN',\n",
    "  'dataInteropN',\n",
    "  'dataReviewerN',\n",
    "  'desktopAdvN',\n",
    "  'geostatAnalystN',\n",
    "  'imageAnalystN',\n",
    "  'networkAnalystN',\n",
    "  'publisherN',\n",
    "  'spatialAnalystN'])"
   ]
  },
  {
   "cell_type": "code",
   "execution_count": null,
   "id": "e48ce89a",
   "metadata": {},
   "outputs": [],
   "source": [
    "pro_license.user_entitlement('creator1')"
   ]
  },
  {
   "cell_type": "code",
   "execution_count": null,
   "id": "95eee3b7",
   "metadata": {},
   "outputs": [],
   "source": [
    "pro_license.revoke(username='creator1', entitlements=\"*\")"
   ]
  },
  {
   "cell_type": "markdown",
   "id": "da6f7056",
   "metadata": {},
   "source": [
    "    "
   ]
  },
  {
   "cell_type": "markdown",
   "id": "bbcf7481",
   "metadata": {},
   "source": [
    "    "
   ]
  },
  {
   "cell_type": "markdown",
   "id": "bf324a86",
   "metadata": {},
   "source": [
    "# Generating Reports for Organization\n",
    "Generate the reports of the overall usage of the organizations.  \n",
    "Reports define organization usage metrics in one place for the day, week, or month.  \n",
    "Administrators can monitor who is using which services, consuming how much credits and storage within certain time period.\n",
    "\n"
   ]
  },
  {
   "cell_type": "code",
   "execution_count": null,
   "id": "3b1c1d4d",
   "metadata": {},
   "outputs": [],
   "source": [
    "import datetime as _dt\n",
    "import pandas as pd"
   ]
  },
  {
   "cell_type": "code",
   "execution_count": null,
   "id": "2954a7e9",
   "metadata": {},
   "outputs": [],
   "source": [
    "date_time_str = '06/18/23'\n",
    "then = _dt.datetime.strptime(date_time_str, '%m/%d/%y')\n",
    "val = int(then.timestamp() * 1000)"
   ]
  },
  {
   "cell_type": "code",
   "execution_count": null,
   "id": "741df8d3",
   "metadata": {},
   "outputs": [],
   "source": [
    "gis.users.me.report?"
   ]
  },
  {
   "cell_type": "code",
   "execution_count": null,
   "id": "53f0f159",
   "metadata": {},
   "outputs": [],
   "source": [
    "# Create the report, this will create an item in your organization\n",
    "final_item = gis.users.me.report(\n",
    "            report_type='content', \n",
    "    duration=\"weekly\", start_time=val\n",
    "        )\n",
    "final_item"
   ]
  },
  {
   "cell_type": "code",
   "execution_count": null,
   "id": "ec7b1baf",
   "metadata": {},
   "outputs": [],
   "source": [
    "# Read the item data into a temporary CSV file\n",
    "csv_file = final_item.get_data()\n",
    "\n",
    "# Read the CSV as a DataFrame\n",
    "df = pd.read_csv(csv_file)"
   ]
  },
  {
   "cell_type": "code",
   "execution_count": null,
   "id": "ab162bf5",
   "metadata": {},
   "outputs": [],
   "source": [
    "df.head()"
   ]
  },
  {
   "cell_type": "markdown",
   "id": "a95f3ff2",
   "metadata": {},
   "source": [
    "#### See the Most Viewed Items"
   ]
  },
  {
   "cell_type": "code",
   "execution_count": null,
   "id": "28e823e4",
   "metadata": {},
   "outputs": [],
   "source": [
    "df.sort_values(by=['View Counts'], ascending=False).head()"
   ]
  },
  {
   "cell_type": "markdown",
   "id": "9ff0ffef",
   "metadata": {},
   "source": [
    "#### See the Largest Sized Items"
   ]
  },
  {
   "cell_type": "code",
   "execution_count": null,
   "id": "ee6e90e3",
   "metadata": {},
   "outputs": [],
   "source": [
    "df.sort_values(by=['File Storage Size'], ascending=False).head()[['Title','Item Type', 'File Storage Size']]"
   ]
  },
  {
   "cell_type": "markdown",
   "id": "b454bb47",
   "metadata": {},
   "source": [
    "#### Understand Storage by User"
   ]
  },
  {
   "cell_type": "code",
   "execution_count": null,
   "id": "cd61c719",
   "metadata": {},
   "outputs": [],
   "source": [
    "gb = df.groupby(\"Owner\")['File Storage Size'].sum()\n",
    "gb.nlargest(4).plot(kind='barh')"
   ]
  },
  {
   "cell_type": "code",
   "execution_count": null,
   "id": "4c5bb770",
   "metadata": {},
   "outputs": [],
   "source": [
    "gb"
   ]
  },
  {
   "cell_type": "markdown",
   "id": "178319f6",
   "metadata": {},
   "source": [
    "## Examine Login Activity"
   ]
  },
  {
   "cell_type": "code",
   "execution_count": null,
   "id": "9e8ad89a",
   "metadata": {},
   "outputs": [],
   "source": [
    "date_time_str = '18/06/23'\n",
    "then = _dt.datetime.strptime(date_time_str, '%d/%m/%y')\n",
    "val = int(then.timestamp() * 1000)\n",
    "user_report_item = gis.users.me.report(\n",
    "            report_type='users', duration=\"weekly\", start_time=val\n",
    "        )\n",
    "user_report_item"
   ]
  },
  {
   "cell_type": "code",
   "execution_count": null,
   "id": "26acf4fb",
   "metadata": {},
   "outputs": [],
   "source": [
    "# Read the item data into a temporary CSV file\n",
    "csv_activity_file = user_report_item.get_data()\n",
    "\n",
    "# Read the CSV as a DataFrame\n",
    "df = pd.read_csv(csv_activity_file)"
   ]
  },
  {
   "cell_type": "code",
   "execution_count": null,
   "id": "464d87b3",
   "metadata": {},
   "outputs": [],
   "source": [
    "q = df[\"# of Items Owned\"] > 0\n",
    "df[q]"
   ]
  },
  {
   "cell_type": "markdown",
   "id": "8244a899",
   "metadata": {},
   "source": [
    "## Using Search Operations to Monitor Sites"
   ]
  },
  {
   "cell_type": "markdown",
   "id": "4cfb5a13",
   "metadata": {},
   "source": [
    "- The `search` and `advanced_search` operations allows administrators to query GIS systems easily to find out information about the system\n",
    "- The information can easily be parsed using other 3rd party libraries like pandas\n",
    "- This information can be done multiple time a day or hour"
   ]
  },
  {
   "cell_type": "markdown",
   "id": "5c4a765d",
   "metadata": {},
   "source": [
    "### Monitoring Content Using Searches"
   ]
  },
  {
   "cell_type": "markdown",
   "id": "b4ad765d",
   "metadata": {},
   "source": [
    "#### Content Searches\n",
    "\n",
    "Example: Finding Content Types Generated Using Searches\n",
    "\n",
    "Whole document on advanced searching: https://doc.arcgis.com/en/arcgis-online/reference/advanced-search.htm"
   ]
  },
  {
   "cell_type": "code",
   "execution_count": null,
   "id": "81ec0c0e",
   "metadata": {},
   "outputs": [],
   "source": [
    "cm = gis.content"
   ]
  },
  {
   "cell_type": "code",
   "execution_count": null,
   "id": "f74634b5",
   "metadata": {},
   "outputs": [],
   "source": [
    "import datetime as _dt\n",
    "now = _dt.datetime.now()\n",
    "then = now - _dt.timedelta(days=7)\n",
    "search = cm.advanced_search(\n",
    "            f\"orgid: {gis.properties.id} AND created: [{int(then.timestamp()* 1000)} TO {int(now.timestamp()* 1000)}] AND accountid:{gis.properties.id}\", \n",
    "            max_items=-1, as_dict=True)\n",
    "pd.DataFrame(search['results']).type.value_counts()"
   ]
  },
  {
   "cell_type": "markdown",
   "id": "567520eb",
   "metadata": {},
   "source": [
    "#### User Searches"
   ]
  },
  {
   "cell_type": "code",
   "execution_count": null,
   "id": "8d75a266",
   "metadata": {},
   "outputs": [],
   "source": [
    "import string\n",
    "last_login = set()\n",
    "users = gis.users.advanced_search(f\"accountid:{gis.properties.id}\", max_users=-1)\n",
    "[user for user in users['results'] if user['lastLogin'] == -1]"
   ]
  },
  {
   "cell_type": "markdown",
   "id": "ae10510a",
   "metadata": {},
   "source": [
    "**Find Users Haven't Logged in for 90+ Days**"
   ]
  },
  {
   "cell_type": "code",
   "execution_count": null,
   "id": "38f51482",
   "metadata": {},
   "outputs": [],
   "source": [
    "now = _dt.datetime.now(_dt.timezone.utc)\n",
    "greater_than90days = [user for user in users['results'] if user['lastLogin'] > -1 and \\\n",
    " (now - _dt.datetime.fromtimestamp(user['lastLogin']/1000, _dt.timezone.utc)).days >= 90]\n",
    "greater_than90days"
   ]
  },
  {
   "cell_type": "markdown",
   "id": "191ff0a1",
   "metadata": {},
   "source": [
    "# Part 3 - Working with Backend Systems"
   ]
  }
 ],
 "metadata": {
  "kernelspec": {
   "display_name": "Python 3 (ipykernel)",
   "language": "python",
   "name": "python3"
  },
  "language_info": {
   "codemirror_mode": {
    "name": "ipython",
    "version": 3
   },
   "file_extension": ".py",
   "mimetype": "text/x-python",
   "name": "python",
   "nbconvert_exporter": "python",
   "pygments_lexer": "ipython3",
   "version": "3.9.16"
  }
 },
 "nbformat": 4,
 "nbformat_minor": 5
}
