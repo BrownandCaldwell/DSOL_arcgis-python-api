{
 "cells": [
  {
   "cell_type": "markdown",
   "id": "fef0fb58",
   "metadata": {},
   "source": [
    "## Demo: Log Automation"
   ]
  },
  {
   "cell_type": "code",
   "execution_count": null,
   "id": "df67eefa",
   "metadata": {},
   "outputs": [],
   "source": [
    "import concurrent.futures\n",
    "from arcgis.gis import GIS\n",
    "from arcgis.gis.admin import PortalAdminManager\n",
    "import datetime as _dt\n",
    "from typing import Any"
   ]
  },
  {
   "cell_type": "code",
   "execution_count": null,
   "id": "1d936ce6",
   "metadata": {},
   "outputs": [],
   "source": [
    "gis:GIS = GIS(profile='your_dev_enterprise_profile')\n",
    "admin:PortalAdminManager = gis.admin"
   ]
  },
  {
   "cell_type": "markdown",
   "id": "3cd1a02d",
   "metadata": {},
   "source": [
    "#### Gather Portal Logs for Auditing "
   ]
  },
  {
   "cell_type": "code",
   "execution_count": null,
   "id": "914df78d",
   "metadata": {},
   "outputs": [],
   "source": [
    "days_back:int\n",
    "servers:dict[str, list[str,Any]] = {admin.url: []}\n",
    "ref:dict[str, Any] = {admin.url: admin.logs}\n",
    "start:_dt.datetime = _dt.datetime.now()"
   ]
  },
  {
   "cell_type": "code",
   "execution_count": null,
   "id": "ab8086d8",
   "metadata": {},
   "outputs": [],
   "source": [
    "jobs = {}\n",
    "with concurrent.futures.ThreadPoolExecutor(max_workers=10) as tp:\n",
    "    # gather the portal logs\n",
    "    #\n",
    "    days_back = admin.logs.settings.get(\"maxLogFileAge\", 90)\n",
    "    for d in range(days_back):\n",
    "        future = tp.submit(admin.logs.query, \n",
    "                           **{\"start_time\" : start - _dt.timedelta(days=d), \n",
    "                              \"end_time\" : start - _dt.timedelta(days=d + 1)}\n",
    "                          )\n",
    "        jobs[future] = {\n",
    "                        \"server\" : admin.url, \n",
    "                        'start_time' : start - _dt.timedelta(days=d), \n",
    "                        'end_time' : start - _dt.timedelta(days=d + 1)\n",
    "                       }   \n",
    "    # gather the server logs\n",
    "    #\n",
    "    for server in admin.servers.list():\n",
    "        servers[server.url] = []\n",
    "        ref[server.url] = server\n",
    "        days_back = server.logs.settings.get(\"maxLogFileAge\", 90)\n",
    "        for d in range(days_back):\n",
    "            future = tp.submit(server.logs.query, \n",
    "                               **{\"start_time\" : start - _dt.timedelta(days=d), \n",
    "                                  \"end_time\" : start - _dt.timedelta(days=d + 1)}\n",
    "                              )\n",
    "            jobs[future] = {\n",
    "                            \"server\" : server.url, \n",
    "                            'start_time' : start - _dt.timedelta(days=d), \n",
    "                            'end_time' : start - _dt.timedelta(days=d + 1)\n",
    "                           }   \n",
    "    #  Push the log entries into the servers. \n",
    "    #\n",
    "    for job in concurrent.futures.as_completed(jobs):\n",
    "        try:\n",
    "            records = job.result()\n",
    "            servers[jobs[job]['server']].extend(records.get(\"logMessages\", []))\n",
    "        except:\n",
    "            # retry the operation on 504 timeout\n",
    "            params = jobs[job]\n",
    "            server_url = params.pop('server')\n",
    "            servers[server_url].extend(ref[server_url].logs.query(**params))"
   ]
  },
  {
   "cell_type": "code",
   "execution_count": null,
   "id": "ca375944",
   "metadata": {},
   "outputs": [],
   "source": [
    "for key in servers.keys():\n",
    "    print(f\"{key} : has {len(servers[key])} log records.\")"
   ]
  },
  {
   "cell_type": "code",
   "execution_count": null,
   "id": "b2685b02",
   "metadata": {},
   "outputs": [],
   "source": []
  }
 ],
 "metadata": {
  "kernelspec": {
   "display_name": "Python 3 (ipykernel)",
   "language": "python",
   "name": "python3"
  },
  "language_info": {
   "codemirror_mode": {
    "name": "ipython",
    "version": 3
   },
   "file_extension": ".py",
   "mimetype": "text/x-python",
   "name": "python",
   "nbconvert_exporter": "python",
   "pygments_lexer": "ipython3",
   "version": "3.9.16"
  }
 },
 "nbformat": 4,
 "nbformat_minor": 5
}
