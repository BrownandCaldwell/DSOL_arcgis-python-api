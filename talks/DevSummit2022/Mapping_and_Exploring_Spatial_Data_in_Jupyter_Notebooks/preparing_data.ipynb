{
 "cells": [
  {
   "cell_type": "markdown",
   "id": "8737dd6d",
   "metadata": {},
   "source": [
    "### Import Libraries"
   ]
  },
  {
   "cell_type": "markdown",
   "id": "cb3002e6",
   "metadata": {},
   "source": [
    "### Set up data paths and read in files"
   ]
  },
  {
   "cell_type": "code",
   "execution_count": 27,
   "id": "759fb5b6",
   "metadata": {},
   "outputs": [],
   "source": [
    "import pandas as pd\n",
    "from pathlib import Path\n",
    "from IPython.display import display\n",
    "import requests\n",
    "\n",
    "from arcgis.features import GeoAccessor, GeoSeriesAccessor\n",
    "from arcgis.gis import GIS"
   ]
  },
  {
   "cell_type": "code",
   "execution_count": 28,
   "id": "f2ea9b11",
   "metadata": {},
   "outputs": [],
   "source": [
    "data_dir = Path(r\"your_path/to/data\")\n",
    "code_filename = \"airport-codes_csv.csv\"\n",
    "\n",
    "airport_file = data_dir / code_filename"
   ]
  },
  {
   "cell_type": "markdown",
   "id": "3d1d8360",
   "metadata": {},
   "source": [
    "### Inspect airport code data"
   ]
  },
  {
   "cell_type": "code",
   "execution_count": 29,
   "id": "18bdcceb",
   "metadata": {},
   "outputs": [],
   "source": [
    "airport_df = pd.read_csv(airport_file)"
   ]
  },
  {
   "cell_type": "code",
   "execution_count": 30,
   "id": "742d0413",
   "metadata": {},
   "outputs": [
    {
     "data": {
      "text/html": [
       "<div>\n",
       "<style scoped>\n",
       "    .dataframe tbody tr th:only-of-type {\n",
       "        vertical-align: middle;\n",
       "    }\n",
       "\n",
       "    .dataframe tbody tr th {\n",
       "        vertical-align: top;\n",
       "    }\n",
       "\n",
       "    .dataframe thead th {\n",
       "        text-align: right;\n",
       "    }\n",
       "</style>\n",
       "<table border=\"1\" class=\"dataframe\">\n",
       "  <thead>\n",
       "    <tr style=\"text-align: right;\">\n",
       "      <th></th>\n",
       "      <th>ident</th>\n",
       "      <th>type</th>\n",
       "      <th>name</th>\n",
       "      <th>elevation_ft</th>\n",
       "      <th>continent</th>\n",
       "      <th>iso_country</th>\n",
       "      <th>iso_region</th>\n",
       "      <th>municipality</th>\n",
       "      <th>gps_code</th>\n",
       "      <th>iata_code</th>\n",
       "      <th>local_code</th>\n",
       "      <th>coordinates</th>\n",
       "    </tr>\n",
       "  </thead>\n",
       "  <tbody>\n",
       "    <tr>\n",
       "      <th>0</th>\n",
       "      <td>00A</td>\n",
       "      <td>heliport</td>\n",
       "      <td>Total Rf Heliport</td>\n",
       "      <td>11.0</td>\n",
       "      <td>NaN</td>\n",
       "      <td>US</td>\n",
       "      <td>US-PA</td>\n",
       "      <td>Bensalem</td>\n",
       "      <td>00A</td>\n",
       "      <td>NaN</td>\n",
       "      <td>00A</td>\n",
       "      <td>-74.93360137939453, 40.07080078125</td>\n",
       "    </tr>\n",
       "    <tr>\n",
       "      <th>1</th>\n",
       "      <td>00AA</td>\n",
       "      <td>small_airport</td>\n",
       "      <td>Aero B Ranch Airport</td>\n",
       "      <td>3435.0</td>\n",
       "      <td>NaN</td>\n",
       "      <td>US</td>\n",
       "      <td>US-KS</td>\n",
       "      <td>Leoti</td>\n",
       "      <td>00AA</td>\n",
       "      <td>NaN</td>\n",
       "      <td>00AA</td>\n",
       "      <td>-101.473911, 38.704022</td>\n",
       "    </tr>\n",
       "    <tr>\n",
       "      <th>2</th>\n",
       "      <td>00AK</td>\n",
       "      <td>small_airport</td>\n",
       "      <td>Lowell Field</td>\n",
       "      <td>450.0</td>\n",
       "      <td>NaN</td>\n",
       "      <td>US</td>\n",
       "      <td>US-AK</td>\n",
       "      <td>Anchor Point</td>\n",
       "      <td>00AK</td>\n",
       "      <td>NaN</td>\n",
       "      <td>00AK</td>\n",
       "      <td>-151.695999146, 59.94919968</td>\n",
       "    </tr>\n",
       "    <tr>\n",
       "      <th>3</th>\n",
       "      <td>00AL</td>\n",
       "      <td>small_airport</td>\n",
       "      <td>Epps Airpark</td>\n",
       "      <td>820.0</td>\n",
       "      <td>NaN</td>\n",
       "      <td>US</td>\n",
       "      <td>US-AL</td>\n",
       "      <td>Harvest</td>\n",
       "      <td>00AL</td>\n",
       "      <td>NaN</td>\n",
       "      <td>00AL</td>\n",
       "      <td>-86.77030181884766, 34.86479949951172</td>\n",
       "    </tr>\n",
       "    <tr>\n",
       "      <th>4</th>\n",
       "      <td>00AR</td>\n",
       "      <td>closed</td>\n",
       "      <td>Newport Hospital &amp; Clinic Heliport</td>\n",
       "      <td>237.0</td>\n",
       "      <td>NaN</td>\n",
       "      <td>US</td>\n",
       "      <td>US-AR</td>\n",
       "      <td>Newport</td>\n",
       "      <td>NaN</td>\n",
       "      <td>NaN</td>\n",
       "      <td>NaN</td>\n",
       "      <td>-91.254898, 35.6087</td>\n",
       "    </tr>\n",
       "  </tbody>\n",
       "</table>\n",
       "</div>"
      ],
      "text/plain": [
       "  ident           type                                name  elevation_ft  \\\n",
       "0   00A       heliport                   Total Rf Heliport          11.0   \n",
       "1  00AA  small_airport                Aero B Ranch Airport        3435.0   \n",
       "2  00AK  small_airport                        Lowell Field         450.0   \n",
       "3  00AL  small_airport                        Epps Airpark         820.0   \n",
       "4  00AR         closed  Newport Hospital & Clinic Heliport         237.0   \n",
       "\n",
       "  continent iso_country iso_region  municipality gps_code iata_code  \\\n",
       "0       NaN          US      US-PA      Bensalem      00A       NaN   \n",
       "1       NaN          US      US-KS         Leoti     00AA       NaN   \n",
       "2       NaN          US      US-AK  Anchor Point     00AK       NaN   \n",
       "3       NaN          US      US-AL       Harvest     00AL       NaN   \n",
       "4       NaN          US      US-AR       Newport      NaN       NaN   \n",
       "\n",
       "  local_code                            coordinates  \n",
       "0        00A     -74.93360137939453, 40.07080078125  \n",
       "1       00AA                 -101.473911, 38.704022  \n",
       "2       00AK            -151.695999146, 59.94919968  \n",
       "3       00AL  -86.77030181884766, 34.86479949951172  \n",
       "4        NaN                    -91.254898, 35.6087  "
      ]
     },
     "execution_count": 30,
     "metadata": {},
     "output_type": "execute_result"
    }
   ],
   "source": [
    "airport_df.head()"
   ]
  },
  {
   "cell_type": "markdown",
   "id": "485d2c94",
   "metadata": {},
   "source": [
    "### Get information about the DataFrame"
   ]
  },
  {
   "cell_type": "code",
   "execution_count": 32,
   "id": "a55756d9",
   "metadata": {},
   "outputs": [
    {
     "data": {
      "text/plain": [
       "pandas.core.frame.DataFrame"
      ]
     },
     "execution_count": 32,
     "metadata": {},
     "output_type": "execute_result"
    }
   ],
   "source": [
    "type(airport_df)"
   ]
  },
  {
   "cell_type": "code",
   "execution_count": 31,
   "id": "46ac9cd0",
   "metadata": {},
   "outputs": [
    {
     "name": "stdout",
     "output_type": "stream",
     "text": [
      "<class 'pandas.core.frame.DataFrame'>\n",
      "RangeIndex: 57421 entries, 0 to 57420\n",
      "Data columns (total 12 columns):\n",
      " #   Column        Non-Null Count  Dtype  \n",
      "---  ------        --------------  -----  \n",
      " 0   ident         57421 non-null  object \n",
      " 1   type          57421 non-null  object \n",
      " 2   name          57421 non-null  object \n",
      " 3   elevation_ft  49608 non-null  float64\n",
      " 4   continent     28978 non-null  object \n",
      " 5   iso_country   57175 non-null  object \n",
      " 6   iso_region    57421 non-null  object \n",
      " 7   municipality  51527 non-null  object \n",
      " 8   gps_code      41561 non-null  object \n",
      " 9   iata_code     9225 non-null   object \n",
      " 10  local_code    30030 non-null  object \n",
      " 11  coordinates   57421 non-null  object \n",
      "dtypes: float64(1), object(11)\n",
      "memory usage: 5.3+ MB\n"
     ]
    }
   ],
   "source": [
    "airport_df.info()"
   ]
  },
  {
   "cell_type": "markdown",
   "id": "945f8a9b",
   "metadata": {},
   "source": [
    "### Transform the coordinates string to the necessary latitude and longitude decimal degree columns"
   ]
  },
  {
   "cell_type": "code",
   "execution_count": 33,
   "id": "97617505",
   "metadata": {},
   "outputs": [
    {
     "data": {
      "text/plain": [
       "Index(['ident', 'type', 'name', 'elevation_ft', 'continent', 'iso_country',\n",
       "       'iso_region', 'municipality', 'gps_code', 'iata_code', 'local_code',\n",
       "       'coordinates'],\n",
       "      dtype='object')"
      ]
     },
     "execution_count": 33,
     "metadata": {},
     "output_type": "execute_result"
    }
   ],
   "source": [
    "airport_df.columns"
   ]
  },
  {
   "cell_type": "code",
   "execution_count": 34,
   "id": "24d92b5d",
   "metadata": {},
   "outputs": [
    {
     "data": {
      "text/plain": [
       "0             -74.93360137939453, 40.07080078125\n",
       "1                         -101.473911, 38.704022\n",
       "2                    -151.695999146, 59.94919968\n",
       "3          -86.77030181884766, 34.86479949951172\n",
       "4                            -91.254898, 35.6087\n",
       "                          ...                   \n",
       "57416                        122.3586, 40.542524\n",
       "57417     123.49600219726562, 41.784400939941406\n",
       "57418                          1.4825, 51.894444\n",
       "57419    47.296388888900005, -11.584277777799999\n",
       "57420                      130.270556, 30.784722\n",
       "Name: coordinates, Length: 57421, dtype: object"
      ]
     },
     "execution_count": 34,
     "metadata": {},
     "output_type": "execute_result"
    }
   ],
   "source": [
    "airport_df.coordinates"
   ]
  },
  {
   "cell_type": "code",
   "execution_count": 35,
   "id": "a8005eee",
   "metadata": {},
   "outputs": [
    {
     "data": {
      "text/plain": [
       "pandas.core.series.Series"
      ]
     },
     "execution_count": 35,
     "metadata": {},
     "output_type": "execute_result"
    }
   ],
   "source": [
    "type(airport_df.coordinates)"
   ]
  },
  {
   "cell_type": "code",
   "execution_count": 36,
   "id": "ce2e807c",
   "metadata": {},
   "outputs": [
    {
     "data": {
      "text/plain": [
       "'-86.41670227050781, 43.94940185546875'"
      ]
     },
     "execution_count": 36,
     "metadata": {},
     "output_type": "execute_result"
    }
   ],
   "source": [
    "airport_df.coordinates[29]"
   ]
  },
  {
   "cell_type": "code",
   "execution_count": 37,
   "id": "9439f358",
   "metadata": {},
   "outputs": [
    {
     "data": {
      "text/plain": [
       "str"
      ]
     },
     "execution_count": 37,
     "metadata": {},
     "output_type": "execute_result"
    }
   ],
   "source": [
    "type(airport_df.coordinates[29])"
   ]
  },
  {
   "cell_type": "code",
   "execution_count": null,
   "id": "d03b2114",
   "metadata": {},
   "outputs": [],
   "source": [
    "airport_df.coordinates.to_list()"
   ]
  },
  {
   "cell_type": "code",
   "execution_count": 39,
   "id": "671bd2ff",
   "metadata": {},
   "outputs": [
    {
     "name": "stdout",
     "output_type": "stream",
     "text": [
      "-74.93360137939453             40.07080078125\n",
      "-101.473911                    38.704022\n",
      "-151.695999146                 59.94919968\n",
      "-86.77030181884766             34.86479949951172\n",
      "-91.254898                     35.6087\n"
     ]
    }
   ],
   "source": [
    "for c in airport_df.coordinates.to_list()[:5]:\n",
    "    print(f\"{c.split(',')[0]:20}{' '*10}{c.split(',')[1]}\")"
   ]
  },
  {
   "cell_type": "markdown",
   "id": "f501e204",
   "metadata": {},
   "source": [
    "### Split coordinates column into new columns of float values for lat,long"
   ]
  },
  {
   "cell_type": "code",
   "execution_count": 40,
   "id": "b9fa58dd",
   "metadata": {},
   "outputs": [],
   "source": [
    "long_vals = [float(coords.split(\",\")[0]) for coords in airport_df.coordinates.to_list()]\n",
    "lat_vals = [float(coords.split(\",\")[1]) for coords in airport_df.coordinates.to_list()]"
   ]
  },
  {
   "cell_type": "code",
   "execution_count": 41,
   "id": "871111e8",
   "metadata": {},
   "outputs": [],
   "source": [
    "airport_df[\"longitude\"] = long_vals\n",
    "airport_df[\"latitude\"] = lat_vals"
   ]
  },
  {
   "cell_type": "code",
   "execution_count": 42,
   "id": "6e2f4bf8",
   "metadata": {},
   "outputs": [],
   "source": [
    "airport_df.drop(columns=\"coordinates\", inplace=True)"
   ]
  },
  {
   "cell_type": "code",
   "execution_count": 43,
   "id": "e1f6b099",
   "metadata": {},
   "outputs": [
    {
     "data": {
      "text/html": [
       "<div>\n",
       "<style scoped>\n",
       "    .dataframe tbody tr th:only-of-type {\n",
       "        vertical-align: middle;\n",
       "    }\n",
       "\n",
       "    .dataframe tbody tr th {\n",
       "        vertical-align: top;\n",
       "    }\n",
       "\n",
       "    .dataframe thead th {\n",
       "        text-align: right;\n",
       "    }\n",
       "</style>\n",
       "<table border=\"1\" class=\"dataframe\">\n",
       "  <thead>\n",
       "    <tr style=\"text-align: right;\">\n",
       "      <th></th>\n",
       "      <th>ident</th>\n",
       "      <th>type</th>\n",
       "      <th>name</th>\n",
       "      <th>elevation_ft</th>\n",
       "      <th>continent</th>\n",
       "      <th>iso_country</th>\n",
       "      <th>iso_region</th>\n",
       "      <th>municipality</th>\n",
       "      <th>gps_code</th>\n",
       "      <th>iata_code</th>\n",
       "      <th>local_code</th>\n",
       "      <th>longitude</th>\n",
       "      <th>latitude</th>\n",
       "    </tr>\n",
       "  </thead>\n",
       "  <tbody>\n",
       "    <tr>\n",
       "      <th>0</th>\n",
       "      <td>00A</td>\n",
       "      <td>heliport</td>\n",
       "      <td>Total Rf Heliport</td>\n",
       "      <td>11.0</td>\n",
       "      <td>NaN</td>\n",
       "      <td>US</td>\n",
       "      <td>US-PA</td>\n",
       "      <td>Bensalem</td>\n",
       "      <td>00A</td>\n",
       "      <td>NaN</td>\n",
       "      <td>00A</td>\n",
       "      <td>-74.933601</td>\n",
       "      <td>40.070801</td>\n",
       "    </tr>\n",
       "    <tr>\n",
       "      <th>1</th>\n",
       "      <td>00AA</td>\n",
       "      <td>small_airport</td>\n",
       "      <td>Aero B Ranch Airport</td>\n",
       "      <td>3435.0</td>\n",
       "      <td>NaN</td>\n",
       "      <td>US</td>\n",
       "      <td>US-KS</td>\n",
       "      <td>Leoti</td>\n",
       "      <td>00AA</td>\n",
       "      <td>NaN</td>\n",
       "      <td>00AA</td>\n",
       "      <td>-101.473911</td>\n",
       "      <td>38.704022</td>\n",
       "    </tr>\n",
       "    <tr>\n",
       "      <th>2</th>\n",
       "      <td>00AK</td>\n",
       "      <td>small_airport</td>\n",
       "      <td>Lowell Field</td>\n",
       "      <td>450.0</td>\n",
       "      <td>NaN</td>\n",
       "      <td>US</td>\n",
       "      <td>US-AK</td>\n",
       "      <td>Anchor Point</td>\n",
       "      <td>00AK</td>\n",
       "      <td>NaN</td>\n",
       "      <td>00AK</td>\n",
       "      <td>-151.695999</td>\n",
       "      <td>59.949200</td>\n",
       "    </tr>\n",
       "    <tr>\n",
       "      <th>3</th>\n",
       "      <td>00AL</td>\n",
       "      <td>small_airport</td>\n",
       "      <td>Epps Airpark</td>\n",
       "      <td>820.0</td>\n",
       "      <td>NaN</td>\n",
       "      <td>US</td>\n",
       "      <td>US-AL</td>\n",
       "      <td>Harvest</td>\n",
       "      <td>00AL</td>\n",
       "      <td>NaN</td>\n",
       "      <td>00AL</td>\n",
       "      <td>-86.770302</td>\n",
       "      <td>34.864799</td>\n",
       "    </tr>\n",
       "    <tr>\n",
       "      <th>4</th>\n",
       "      <td>00AR</td>\n",
       "      <td>closed</td>\n",
       "      <td>Newport Hospital &amp; Clinic Heliport</td>\n",
       "      <td>237.0</td>\n",
       "      <td>NaN</td>\n",
       "      <td>US</td>\n",
       "      <td>US-AR</td>\n",
       "      <td>Newport</td>\n",
       "      <td>NaN</td>\n",
       "      <td>NaN</td>\n",
       "      <td>NaN</td>\n",
       "      <td>-91.254898</td>\n",
       "      <td>35.608700</td>\n",
       "    </tr>\n",
       "  </tbody>\n",
       "</table>\n",
       "</div>"
      ],
      "text/plain": [
       "  ident           type                                name  elevation_ft  \\\n",
       "0   00A       heliport                   Total Rf Heliport          11.0   \n",
       "1  00AA  small_airport                Aero B Ranch Airport        3435.0   \n",
       "2  00AK  small_airport                        Lowell Field         450.0   \n",
       "3  00AL  small_airport                        Epps Airpark         820.0   \n",
       "4  00AR         closed  Newport Hospital & Clinic Heliport         237.0   \n",
       "\n",
       "  continent iso_country iso_region  municipality gps_code iata_code  \\\n",
       "0       NaN          US      US-PA      Bensalem      00A       NaN   \n",
       "1       NaN          US      US-KS         Leoti     00AA       NaN   \n",
       "2       NaN          US      US-AK  Anchor Point     00AK       NaN   \n",
       "3       NaN          US      US-AL       Harvest     00AL       NaN   \n",
       "4       NaN          US      US-AR       Newport      NaN       NaN   \n",
       "\n",
       "  local_code   longitude   latitude  \n",
       "0        00A  -74.933601  40.070801  \n",
       "1       00AA -101.473911  38.704022  \n",
       "2       00AK -151.695999  59.949200  \n",
       "3       00AL  -86.770302  34.864799  \n",
       "4        NaN  -91.254898  35.608700  "
      ]
     },
     "execution_count": 43,
     "metadata": {},
     "output_type": "execute_result"
    }
   ],
   "source": [
    "airport_df.head()"
   ]
  },
  {
   "cell_type": "markdown",
   "id": "3ece374f",
   "metadata": {},
   "source": [
    "### Write out data to a new file"
   ]
  },
  {
   "cell_type": "code",
   "execution_count": 44,
   "id": "b87e4c9e",
   "metadata": {},
   "outputs": [],
   "source": [
    "airport_df.to_csv(path_or_buf=data_dir / \"airport_codes_ed.csv\",\n",
    "                  index=False,\n",
    "                  index_label=False)"
   ]
  },
  {
   "cell_type": "markdown",
   "id": "fb7f8d37",
   "metadata": {},
   "source": [
    "### Read into a DataFrame"
   ]
  },
  {
   "cell_type": "code",
   "execution_count": 45,
   "id": "f56130ba",
   "metadata": {},
   "outputs": [
    {
     "data": {
      "text/html": [
       "<div>\n",
       "<style scoped>\n",
       "    .dataframe tbody tr th:only-of-type {\n",
       "        vertical-align: middle;\n",
       "    }\n",
       "\n",
       "    .dataframe tbody tr th {\n",
       "        vertical-align: top;\n",
       "    }\n",
       "\n",
       "    .dataframe thead th {\n",
       "        text-align: right;\n",
       "    }\n",
       "</style>\n",
       "<table border=\"1\" class=\"dataframe\">\n",
       "  <thead>\n",
       "    <tr style=\"text-align: right;\">\n",
       "      <th></th>\n",
       "      <th>ident</th>\n",
       "      <th>type</th>\n",
       "      <th>name</th>\n",
       "      <th>elevation_ft</th>\n",
       "      <th>continent</th>\n",
       "      <th>iso_country</th>\n",
       "      <th>iso_region</th>\n",
       "      <th>municipality</th>\n",
       "      <th>gps_code</th>\n",
       "      <th>iata_code</th>\n",
       "      <th>local_code</th>\n",
       "      <th>longitude</th>\n",
       "      <th>latitude</th>\n",
       "    </tr>\n",
       "  </thead>\n",
       "  <tbody>\n",
       "    <tr>\n",
       "      <th>0</th>\n",
       "      <td>00A</td>\n",
       "      <td>heliport</td>\n",
       "      <td>Total Rf Heliport</td>\n",
       "      <td>11.0</td>\n",
       "      <td>NaN</td>\n",
       "      <td>US</td>\n",
       "      <td>US-PA</td>\n",
       "      <td>Bensalem</td>\n",
       "      <td>00A</td>\n",
       "      <td>NaN</td>\n",
       "      <td>00A</td>\n",
       "      <td>-74.933601</td>\n",
       "      <td>40.070801</td>\n",
       "    </tr>\n",
       "    <tr>\n",
       "      <th>1</th>\n",
       "      <td>00AA</td>\n",
       "      <td>small_airport</td>\n",
       "      <td>Aero B Ranch Airport</td>\n",
       "      <td>3435.0</td>\n",
       "      <td>NaN</td>\n",
       "      <td>US</td>\n",
       "      <td>US-KS</td>\n",
       "      <td>Leoti</td>\n",
       "      <td>00AA</td>\n",
       "      <td>NaN</td>\n",
       "      <td>00AA</td>\n",
       "      <td>-101.473911</td>\n",
       "      <td>38.704022</td>\n",
       "    </tr>\n",
       "    <tr>\n",
       "      <th>2</th>\n",
       "      <td>00AK</td>\n",
       "      <td>small_airport</td>\n",
       "      <td>Lowell Field</td>\n",
       "      <td>450.0</td>\n",
       "      <td>NaN</td>\n",
       "      <td>US</td>\n",
       "      <td>US-AK</td>\n",
       "      <td>Anchor Point</td>\n",
       "      <td>00AK</td>\n",
       "      <td>NaN</td>\n",
       "      <td>00AK</td>\n",
       "      <td>-151.695999</td>\n",
       "      <td>59.949200</td>\n",
       "    </tr>\n",
       "    <tr>\n",
       "      <th>3</th>\n",
       "      <td>00AL</td>\n",
       "      <td>small_airport</td>\n",
       "      <td>Epps Airpark</td>\n",
       "      <td>820.0</td>\n",
       "      <td>NaN</td>\n",
       "      <td>US</td>\n",
       "      <td>US-AL</td>\n",
       "      <td>Harvest</td>\n",
       "      <td>00AL</td>\n",
       "      <td>NaN</td>\n",
       "      <td>00AL</td>\n",
       "      <td>-86.770302</td>\n",
       "      <td>34.864799</td>\n",
       "    </tr>\n",
       "    <tr>\n",
       "      <th>4</th>\n",
       "      <td>00AR</td>\n",
       "      <td>closed</td>\n",
       "      <td>Newport Hospital &amp; Clinic Heliport</td>\n",
       "      <td>237.0</td>\n",
       "      <td>NaN</td>\n",
       "      <td>US</td>\n",
       "      <td>US-AR</td>\n",
       "      <td>Newport</td>\n",
       "      <td>NaN</td>\n",
       "      <td>NaN</td>\n",
       "      <td>NaN</td>\n",
       "      <td>-91.254898</td>\n",
       "      <td>35.608700</td>\n",
       "    </tr>\n",
       "  </tbody>\n",
       "</table>\n",
       "</div>"
      ],
      "text/plain": [
       "  ident           type                                name  elevation_ft  \\\n",
       "0   00A       heliport                   Total Rf Heliport          11.0   \n",
       "1  00AA  small_airport                Aero B Ranch Airport        3435.0   \n",
       "2  00AK  small_airport                        Lowell Field         450.0   \n",
       "3  00AL  small_airport                        Epps Airpark         820.0   \n",
       "4  00AR         closed  Newport Hospital & Clinic Heliport         237.0   \n",
       "\n",
       "  continent iso_country iso_region  municipality gps_code iata_code  \\\n",
       "0       NaN          US      US-PA      Bensalem      00A       NaN   \n",
       "1       NaN          US      US-KS         Leoti     00AA       NaN   \n",
       "2       NaN          US      US-AK  Anchor Point     00AK       NaN   \n",
       "3       NaN          US      US-AL       Harvest     00AL       NaN   \n",
       "4       NaN          US      US-AR       Newport      NaN       NaN   \n",
       "\n",
       "  local_code   longitude   latitude  \n",
       "0        00A  -74.933601  40.070801  \n",
       "1       00AA -101.473911  38.704022  \n",
       "2       00AK -151.695999  59.949200  \n",
       "3       00AL  -86.770302  34.864799  \n",
       "4        NaN  -91.254898  35.608700  "
      ]
     },
     "execution_count": 45,
     "metadata": {},
     "output_type": "execute_result"
    }
   ],
   "source": [
    "airport_ed = pd.read_csv(data_dir / \"airport_codes_ed.csv\")\n",
    "airport_ed.head()"
   ]
  },
  {
   "cell_type": "code",
   "execution_count": 46,
   "id": "c9f57aeb",
   "metadata": {},
   "outputs": [
    {
     "name": "stdout",
     "output_type": "stream",
     "text": [
      "<class 'pandas.core.frame.DataFrame'>\n",
      "RangeIndex: 57421 entries, 0 to 57420\n",
      "Data columns (total 13 columns):\n",
      " #   Column        Non-Null Count  Dtype  \n",
      "---  ------        --------------  -----  \n",
      " 0   ident         57421 non-null  object \n",
      " 1   type          57421 non-null  object \n",
      " 2   name          57421 non-null  object \n",
      " 3   elevation_ft  49608 non-null  float64\n",
      " 4   continent     28978 non-null  object \n",
      " 5   iso_country   57175 non-null  object \n",
      " 6   iso_region    57421 non-null  object \n",
      " 7   municipality  51527 non-null  object \n",
      " 8   gps_code      41561 non-null  object \n",
      " 9   iata_code     9225 non-null   object \n",
      " 10  local_code    30030 non-null  object \n",
      " 11  longitude     57421 non-null  float64\n",
      " 12  latitude      57421 non-null  float64\n",
      "dtypes: float64(3), object(10)\n",
      "memory usage: 5.7+ MB\n"
     ]
    }
   ],
   "source": [
    "airport_ed.info()"
   ]
  },
  {
   "cell_type": "code",
   "execution_count": 47,
   "id": "936c51ac",
   "metadata": {},
   "outputs": [
    {
     "data": {
      "text/plain": [
       "small_airport     34808\n",
       "heliport          12028\n",
       "medium_airport     4537\n",
       "closed             4378\n",
       "seaplane_base      1030\n",
       "large_airport       616\n",
       "balloonport          24\n",
       "Name: type, dtype: int64"
      ]
     },
     "execution_count": 47,
     "metadata": {},
     "output_type": "execute_result"
    }
   ],
   "source": [
    "airport_ed.type.value_counts()"
   ]
  },
  {
   "cell_type": "code",
   "execution_count": 48,
   "id": "426fe0e6",
   "metadata": {},
   "outputs": [
    {
     "data": {
      "text/plain": [
       "<AxesSubplot:>"
      ]
     },
     "execution_count": 48,
     "metadata": {},
     "output_type": "execute_result"
    },
    {
     "data": {
      "image/png": "[encoded data removed]",
      "text/plain": [
       "<Figure size 432x288 with 1 Axes>"
      ]
     },
     "metadata": {
      "needs_background": "light"
     },
     "output_type": "display_data"
    }
   ],
   "source": [
    "airport_ed.type.value_counts().plot(kind=\"bar\")"
   ]
  },
  {
   "cell_type": "markdown",
   "id": "91ead3cb",
   "metadata": {},
   "source": [
    "### Explore the DataFrame"
   ]
  },
  {
   "cell_type": "code",
   "execution_count": 49,
   "id": "7a9c4581",
   "metadata": {},
   "outputs": [
    {
     "data": {
      "text/plain": [
       "pandas.core.frame.DataFrame"
      ]
     },
     "execution_count": 49,
     "metadata": {},
     "output_type": "execute_result"
    }
   ],
   "source": [
    "type(airport_ed)"
   ]
  },
  {
   "cell_type": "code",
   "execution_count": 50,
   "id": "92444294",
   "metadata": {},
   "outputs": [
    {
     "data": {
      "text/plain": [
       "arcgis.features.geo._accessor.GeoAccessor"
      ]
     },
     "execution_count": 50,
     "metadata": {},
     "output_type": "execute_result"
    }
   ],
   "source": [
    "type(airport_ed.spatial)"
   ]
  },
  {
   "cell_type": "code",
   "execution_count": 51,
   "id": "82adc9fb",
   "metadata": {},
   "outputs": [
    {
     "data": {
      "text/plain": [
       "(57421, 13)"
      ]
     },
     "execution_count": 51,
     "metadata": {},
     "output_type": "execute_result"
    }
   ],
   "source": [
    "airport_ed.shape"
   ]
  },
  {
   "cell_type": "code",
   "execution_count": 52,
   "id": "9391dc4d",
   "metadata": {},
   "outputs": [
    {
     "data": {
      "text/html": [
       "<div>\n",
       "<style scoped>\n",
       "    .dataframe tbody tr th:only-of-type {\n",
       "        vertical-align: middle;\n",
       "    }\n",
       "\n",
       "    .dataframe tbody tr th {\n",
       "        vertical-align: top;\n",
       "    }\n",
       "\n",
       "    .dataframe thead th {\n",
       "        text-align: right;\n",
       "    }\n",
       "</style>\n",
       "<table border=\"1\" class=\"dataframe\">\n",
       "  <thead>\n",
       "    <tr style=\"text-align: right;\">\n",
       "      <th></th>\n",
       "      <th>ident</th>\n",
       "      <th>type</th>\n",
       "      <th>name</th>\n",
       "      <th>elevation_ft</th>\n",
       "      <th>continent</th>\n",
       "      <th>iso_country</th>\n",
       "      <th>iso_region</th>\n",
       "      <th>municipality</th>\n",
       "      <th>gps_code</th>\n",
       "      <th>iata_code</th>\n",
       "      <th>local_code</th>\n",
       "      <th>longitude</th>\n",
       "      <th>latitude</th>\n",
       "    </tr>\n",
       "  </thead>\n",
       "  <tbody>\n",
       "    <tr>\n",
       "      <th>223</th>\n",
       "      <td>03N</td>\n",
       "      <td>small_airport</td>\n",
       "      <td>Utirik Airport</td>\n",
       "      <td>4.0</td>\n",
       "      <td>OC</td>\n",
       "      <td>MH</td>\n",
       "      <td>MH-UTI</td>\n",
       "      <td>Utirik Island</td>\n",
       "      <td>K03N</td>\n",
       "      <td>UTK</td>\n",
       "      <td>03N</td>\n",
       "      <td>169.852005</td>\n",
       "      <td>11.222000</td>\n",
       "    </tr>\n",
       "    <tr>\n",
       "      <th>441</th>\n",
       "      <td>07FA</td>\n",
       "      <td>small_airport</td>\n",
       "      <td>Ocean Reef Club Airport</td>\n",
       "      <td>8.0</td>\n",
       "      <td>NaN</td>\n",
       "      <td>US</td>\n",
       "      <td>US-FL</td>\n",
       "      <td>Key Largo</td>\n",
       "      <td>07FA</td>\n",
       "      <td>OCA</td>\n",
       "      <td>07FA</td>\n",
       "      <td>-80.274803</td>\n",
       "      <td>25.325399</td>\n",
       "    </tr>\n",
       "    <tr>\n",
       "      <th>598</th>\n",
       "      <td>0AK</td>\n",
       "      <td>small_airport</td>\n",
       "      <td>Pilot Station Airport</td>\n",
       "      <td>305.0</td>\n",
       "      <td>NaN</td>\n",
       "      <td>US</td>\n",
       "      <td>US-AK</td>\n",
       "      <td>Pilot Station</td>\n",
       "      <td>NaN</td>\n",
       "      <td>PQS</td>\n",
       "      <td>0AK</td>\n",
       "      <td>-162.899994</td>\n",
       "      <td>61.934601</td>\n",
       "    </tr>\n",
       "    <tr>\n",
       "      <th>677</th>\n",
       "      <td>0CO2</td>\n",
       "      <td>small_airport</td>\n",
       "      <td>Crested Butte Airpark</td>\n",
       "      <td>8980.0</td>\n",
       "      <td>NaN</td>\n",
       "      <td>US</td>\n",
       "      <td>US-CO</td>\n",
       "      <td>Crested Butte</td>\n",
       "      <td>0CO2</td>\n",
       "      <td>CSE</td>\n",
       "      <td>0CO2</td>\n",
       "      <td>-106.928341</td>\n",
       "      <td>38.851918</td>\n",
       "    </tr>\n",
       "    <tr>\n",
       "      <th>1094</th>\n",
       "      <td>0TE7</td>\n",
       "      <td>small_airport</td>\n",
       "      <td>LBJ Ranch Airport</td>\n",
       "      <td>1515.0</td>\n",
       "      <td>NaN</td>\n",
       "      <td>US</td>\n",
       "      <td>US-TX</td>\n",
       "      <td>Johnson City</td>\n",
       "      <td>0TE7</td>\n",
       "      <td>JCY</td>\n",
       "      <td>0TE7</td>\n",
       "      <td>-98.622498</td>\n",
       "      <td>30.251801</td>\n",
       "    </tr>\n",
       "  </tbody>\n",
       "</table>\n",
       "</div>"
      ],
      "text/plain": [
       "     ident           type                     name  elevation_ft continent  \\\n",
       "223    03N  small_airport           Utirik Airport           4.0        OC   \n",
       "441   07FA  small_airport  Ocean Reef Club Airport           8.0       NaN   \n",
       "598    0AK  small_airport    Pilot Station Airport         305.0       NaN   \n",
       "677   0CO2  small_airport    Crested Butte Airpark        8980.0       NaN   \n",
       "1094  0TE7  small_airport        LBJ Ranch Airport        1515.0       NaN   \n",
       "\n",
       "     iso_country iso_region   municipality gps_code iata_code local_code  \\\n",
       "223           MH     MH-UTI  Utirik Island     K03N       UTK        03N   \n",
       "441           US      US-FL      Key Largo     07FA       OCA       07FA   \n",
       "598           US      US-AK  Pilot Station      NaN       PQS        0AK   \n",
       "677           US      US-CO  Crested Butte     0CO2       CSE       0CO2   \n",
       "1094          US      US-TX   Johnson City     0TE7       JCY       0TE7   \n",
       "\n",
       "       longitude   latitude  \n",
       "223   169.852005  11.222000  \n",
       "441   -80.274803  25.325399  \n",
       "598  -162.899994  61.934601  \n",
       "677  -106.928341  38.851918  \n",
       "1094  -98.622498  30.251801  "
      ]
     },
     "execution_count": 52,
     "metadata": {},
     "output_type": "execute_result"
    }
   ],
   "source": [
    "iata_df = airport_ed[airport_ed.iata_code.notnull()]\n",
    "iata_df.head()"
   ]
  },
  {
   "cell_type": "code",
   "execution_count": 62,
   "id": "c2bc5803",
   "metadata": {},
   "outputs": [
    {
     "data": {
      "image/png": "[encoded data removed]",
      "text/plain": [
       "<Figure size 432x288 with 1 Axes>"
      ]
     },
     "metadata": {
      "needs_background": "light"
     },
     "output_type": "display_data"
    }
   ],
   "source": [
    "iata_df.type.value_counts().plot(kind=\"bar\");"
   ]
  },
  {
   "cell_type": "markdown",
   "id": "b37bc023",
   "metadata": {},
   "source": [
    "### Reset the row index"
   ]
  },
  {
   "cell_type": "code",
   "execution_count": 54,
   "id": "c38900d1",
   "metadata": {},
   "outputs": [],
   "source": [
    "iata_df.reset_index(inplace=True)"
   ]
  },
  {
   "cell_type": "markdown",
   "id": "4827e1b2",
   "metadata": {},
   "source": [
    "### Create the spatially enabled dataframe from the csv"
   ]
  },
  {
   "cell_type": "code",
   "execution_count": 55,
   "id": "9c7228e1",
   "metadata": {},
   "outputs": [
    {
     "name": "stderr",
     "output_type": "stream",
     "text": [
      "C:\\Users\\username\\path\\on\\your_system\\conda\\envs\\arcgispro-py3-clone\\lib\\site-packages\\arcgis\\features\\geo\\_io\\fileops.py:139: SettingWithCopyWarning: \n",
      "A value is trying to be set on a copy of a slice from a DataFrame.\n",
      "Try using .loc[row_indexer,col_indexer] = value instead\n",
      "\n",
      "See the caveats in the documentation: https://pandas.pydata.org/pandas-docs/stable/user_guide/indexing.html#returning-a-view-versus-a-copy\n",
      "  df[\"SHAPE\"] = GeoArray(ags_geom)\n"
     ]
    }
   ],
   "source": [
    "iata_sedf = pd.DataFrame.spatial.from_xy(df=iata_df,\n",
    "                                         x_column=\"longitude\",\n",
    "                                         y_column=\"latitude\",\n",
    "                                         sr=4326)"
   ]
  },
  {
   "cell_type": "code",
   "execution_count": 56,
   "id": "81242057",
   "metadata": {},
   "outputs": [
    {
     "data": {
      "text/html": [
       "<div>\n",
       "<style scoped>\n",
       "    .dataframe tbody tr th:only-of-type {\n",
       "        vertical-align: middle;\n",
       "    }\n",
       "\n",
       "    .dataframe tbody tr th {\n",
       "        vertical-align: top;\n",
       "    }\n",
       "\n",
       "    .dataframe thead th {\n",
       "        text-align: right;\n",
       "    }\n",
       "</style>\n",
       "<table border=\"1\" class=\"dataframe\">\n",
       "  <thead>\n",
       "    <tr style=\"text-align: right;\">\n",
       "      <th></th>\n",
       "      <th>index</th>\n",
       "      <th>ident</th>\n",
       "      <th>type</th>\n",
       "      <th>name</th>\n",
       "      <th>elevation_ft</th>\n",
       "      <th>continent</th>\n",
       "      <th>iso_country</th>\n",
       "      <th>iso_region</th>\n",
       "      <th>municipality</th>\n",
       "      <th>gps_code</th>\n",
       "      <th>iata_code</th>\n",
       "      <th>local_code</th>\n",
       "      <th>longitude</th>\n",
       "      <th>latitude</th>\n",
       "      <th>SHAPE</th>\n",
       "    </tr>\n",
       "  </thead>\n",
       "  <tbody>\n",
       "    <tr>\n",
       "      <th>0</th>\n",
       "      <td>223</td>\n",
       "      <td>03N</td>\n",
       "      <td>small_airport</td>\n",
       "      <td>Utirik Airport</td>\n",
       "      <td>4.0</td>\n",
       "      <td>OC</td>\n",
       "      <td>MH</td>\n",
       "      <td>MH-UTI</td>\n",
       "      <td>Utirik Island</td>\n",
       "      <td>K03N</td>\n",
       "      <td>UTK</td>\n",
       "      <td>03N</td>\n",
       "      <td>169.852005</td>\n",
       "      <td>11.222000</td>\n",
       "      <td>{\"spatialReference\": {\"wkid\": 4326}, \"x\": 169....</td>\n",
       "    </tr>\n",
       "    <tr>\n",
       "      <th>1</th>\n",
       "      <td>441</td>\n",
       "      <td>07FA</td>\n",
       "      <td>small_airport</td>\n",
       "      <td>Ocean Reef Club Airport</td>\n",
       "      <td>8.0</td>\n",
       "      <td>NaN</td>\n",
       "      <td>US</td>\n",
       "      <td>US-FL</td>\n",
       "      <td>Key Largo</td>\n",
       "      <td>07FA</td>\n",
       "      <td>OCA</td>\n",
       "      <td>07FA</td>\n",
       "      <td>-80.274803</td>\n",
       "      <td>25.325399</td>\n",
       "      <td>{\"spatialReference\": {\"wkid\": 4326}, \"x\": -80....</td>\n",
       "    </tr>\n",
       "    <tr>\n",
       "      <th>2</th>\n",
       "      <td>598</td>\n",
       "      <td>0AK</td>\n",
       "      <td>small_airport</td>\n",
       "      <td>Pilot Station Airport</td>\n",
       "      <td>305.0</td>\n",
       "      <td>NaN</td>\n",
       "      <td>US</td>\n",
       "      <td>US-AK</td>\n",
       "      <td>Pilot Station</td>\n",
       "      <td>NaN</td>\n",
       "      <td>PQS</td>\n",
       "      <td>0AK</td>\n",
       "      <td>-162.899994</td>\n",
       "      <td>61.934601</td>\n",
       "      <td>{\"spatialReference\": {\"wkid\": 4326}, \"x\": -162...</td>\n",
       "    </tr>\n",
       "    <tr>\n",
       "      <th>3</th>\n",
       "      <td>677</td>\n",
       "      <td>0CO2</td>\n",
       "      <td>small_airport</td>\n",
       "      <td>Crested Butte Airpark</td>\n",
       "      <td>8980.0</td>\n",
       "      <td>NaN</td>\n",
       "      <td>US</td>\n",
       "      <td>US-CO</td>\n",
       "      <td>Crested Butte</td>\n",
       "      <td>0CO2</td>\n",
       "      <td>CSE</td>\n",
       "      <td>0CO2</td>\n",
       "      <td>-106.928341</td>\n",
       "      <td>38.851918</td>\n",
       "      <td>{\"spatialReference\": {\"wkid\": 4326}, \"x\": -106...</td>\n",
       "    </tr>\n",
       "    <tr>\n",
       "      <th>4</th>\n",
       "      <td>1094</td>\n",
       "      <td>0TE7</td>\n",
       "      <td>small_airport</td>\n",
       "      <td>LBJ Ranch Airport</td>\n",
       "      <td>1515.0</td>\n",
       "      <td>NaN</td>\n",
       "      <td>US</td>\n",
       "      <td>US-TX</td>\n",
       "      <td>Johnson City</td>\n",
       "      <td>0TE7</td>\n",
       "      <td>JCY</td>\n",
       "      <td>0TE7</td>\n",
       "      <td>-98.622498</td>\n",
       "      <td>30.251801</td>\n",
       "      <td>{\"spatialReference\": {\"wkid\": 4326}, \"x\": -98....</td>\n",
       "    </tr>\n",
       "  </tbody>\n",
       "</table>\n",
       "</div>"
      ],
      "text/plain": [
       "   index ident           type                     name  elevation_ft  \\\n",
       "0    223   03N  small_airport           Utirik Airport           4.0   \n",
       "1    441  07FA  small_airport  Ocean Reef Club Airport           8.0   \n",
       "2    598   0AK  small_airport    Pilot Station Airport         305.0   \n",
       "3    677  0CO2  small_airport    Crested Butte Airpark        8980.0   \n",
       "4   1094  0TE7  small_airport        LBJ Ranch Airport        1515.0   \n",
       "\n",
       "  continent iso_country iso_region   municipality gps_code iata_code  \\\n",
       "0        OC          MH     MH-UTI  Utirik Island     K03N       UTK   \n",
       "1       NaN          US      US-FL      Key Largo     07FA       OCA   \n",
       "2       NaN          US      US-AK  Pilot Station      NaN       PQS   \n",
       "3       NaN          US      US-CO  Crested Butte     0CO2       CSE   \n",
       "4       NaN          US      US-TX   Johnson City     0TE7       JCY   \n",
       "\n",
       "  local_code   longitude   latitude  \\\n",
       "0        03N  169.852005  11.222000   \n",
       "1       07FA  -80.274803  25.325399   \n",
       "2        0AK -162.899994  61.934601   \n",
       "3       0CO2 -106.928341  38.851918   \n",
       "4       0TE7  -98.622498  30.251801   \n",
       "\n",
       "                                               SHAPE  \n",
       "0  {\"spatialReference\": {\"wkid\": 4326}, \"x\": 169....  \n",
       "1  {\"spatialReference\": {\"wkid\": 4326}, \"x\": -80....  \n",
       "2  {\"spatialReference\": {\"wkid\": 4326}, \"x\": -162...  \n",
       "3  {\"spatialReference\": {\"wkid\": 4326}, \"x\": -106...  \n",
       "4  {\"spatialReference\": {\"wkid\": 4326}, \"x\": -98....  "
      ]
     },
     "execution_count": 56,
     "metadata": {},
     "output_type": "execute_result"
    }
   ],
   "source": [
    "iata_sedf.head()"
   ]
  },
  {
   "cell_type": "code",
   "execution_count": 57,
   "id": "e0b5a0a7",
   "metadata": {},
   "outputs": [],
   "source": [
    "gis = GIS(profile=\"your_profile\")"
   ]
  },
  {
   "cell_type": "code",
   "execution_count": 58,
   "id": "e9ee605f",
   "metadata": {},
   "outputs": [
    {
     "data": {
      "application/vnd.jupyter.widget-view+json": {
       "model_id": "39d8be4787bd4b64a4b8c0c6365a1e20",
       "version_major": 2,
       "version_minor": 0
      },
      "text/plain": [
       "MapView(layout=Layout(height='400px', width='100%'))"
      ]
     },
     "metadata": {},
     "output_type": "display_data"
    },
    {
     "data": {
      "text/html": [
       "<div class=\"map-static-img-preview-776b21ae-e3e9-4a3c-8470-46a7e5bbbaef\"><img src=\"\"></img></div>"
      ],
      "text/plain": [
       "<IPython.core.display.HTML object>"
      ]
     },
     "metadata": {},
     "output_type": "display_data"
    },
    {
     "data": {
      "text/html": [
       "<div class=\"map-html-embed-preview-776b21ae-e3e9-4a3c-8470-46a7e5bbbaef\"></div>"
      ],
      "text/plain": [
       "<IPython.core.display.HTML object>"
      ]
     },
     "metadata": {},
     "output_type": "display_data"
    }
   ],
   "source": [
    "m1 = gis.map(\"United States\")\n",
    "m1"
   ]
  },
  {
   "cell_type": "code",
   "execution_count": 59,
   "id": "dbf46fcf",
   "metadata": {},
   "outputs": [],
   "source": [
    "m1.zoom = 4"
   ]
  },
  {
   "cell_type": "code",
   "execution_count": 60,
   "id": "6627233e",
   "metadata": {},
   "outputs": [],
   "source": [
    "m1.center = [39, -98]"
   ]
  },
  {
   "cell_type": "code",
   "execution_count": 61,
   "id": "bd0ab304",
   "metadata": {},
   "outputs": [
    {
     "data": {
      "text/plain": [
       "True"
      ]
     },
     "execution_count": 61,
     "metadata": {},
     "output_type": "execute_result"
    }
   ],
   "source": [
    "iata_sedf.spatial.plot(m1)"
   ]
  }
 ],
 "metadata": {
  "kernelspec": {
   "display_name": "Python 3 (ipykernel)",
   "language": "python",
   "name": "python3"
  },
  "language_info": {
   "codemirror_mode": {
    "name": "ipython",
    "version": 3
   },
   "file_extension": ".py",
   "mimetype": "text/x-python",
   "name": "python",
   "nbconvert_exporter": "python",
   "pygments_lexer": "ipython3",
   "version": "3.7.10"
  }
 },
 "nbformat": 4,
 "nbformat_minor": 5
}
