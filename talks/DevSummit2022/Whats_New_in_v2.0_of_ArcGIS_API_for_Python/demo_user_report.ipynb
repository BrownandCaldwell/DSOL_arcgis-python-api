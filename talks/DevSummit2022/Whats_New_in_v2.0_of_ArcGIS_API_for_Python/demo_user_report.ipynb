{
 "cells": [
  {
   "cell_type": "markdown",
   "id": "a68bc792",
   "metadata": {},
   "source": [
    "# Demo: user.report()"
   ]
  },
  {
   "cell_type": "markdown",
   "id": "c73eae97",
   "metadata": {},
   "source": [
    "Generate the reports of the overall usage of the organizations.   \n",
    "Reports define organization usage metrics in one place for the day, week, or month.  \n",
    "Administrators can monitor who is using which services, consuming how much credits and storage within certain time period.  "
   ]
  },
  {
   "cell_type": "markdown",
   "id": "43d34a16",
   "metadata": {},
   "source": [
    "### Setup the Environment"
   ]
  },
  {
   "cell_type": "code",
   "execution_count": 1,
   "id": "b78abab7",
   "metadata": {},
   "outputs": [],
   "source": [
    "from arcgis.gis import GIS\n",
    "import datetime as _dt\n",
    "import pandas as pd"
   ]
  },
  {
   "cell_type": "code",
   "execution_count": 2,
   "id": "73fca9d8",
   "metadata": {},
   "outputs": [],
   "source": [
    "gis = GIS(profile='your_online_profile')"
   ]
  },
  {
   "cell_type": "code",
   "execution_count": 3,
   "id": "bdf10d4b",
   "metadata": {},
   "outputs": [],
   "source": [
    "date_time_str = '16/02/22'\n",
    "then = _dt.datetime.strptime(date_time_str, '%d/%m/%y')\n",
    "val = int(then.timestamp() * 1000)"
   ]
  },
  {
   "cell_type": "markdown",
   "id": "26a92796",
   "metadata": {},
   "source": [
    "## Create an Organization Report\n",
    "#### Three arguments: \n",
    "1. report_type: Type of organizational report to generate (credits, content, users, activity).\n",
    "2. start_time: The day on which the report is generated.  \n",
    "3. duration: The time frame on which the reports are ran."
   ]
  },
  {
   "cell_type": "code",
   "execution_count": 4,
   "id": "60f8f8e6",
   "metadata": {},
   "outputs": [
    {
     "data": {
      "text/html": [
       "<div class=\"item_container\" style=\"height: auto; overflow: hidden; border: 1px solid #cfcfcf; border-radius: 2px; background: #f6fafa; line-height: 1.21429em; padding: 10px;\">\n",
       "                    <div class=\"item_left\" style=\"width: 210px; float: left;\">\n",
       "                       <a href='https://geosaurus.maps.arcgis.com/home/item.html?id=acb58e704a5d4f3eb7c6e89e04b0eccc' target='_blank'>\n",
       "                        <img src='http://static.arcgis.com/images/desktopapp.png' class=\"itemThumbnail\">\n",
       "                       </a>\n",
       "                    </div>\n",
       "\n",
       "                    <div class=\"item_right\"     style=\"float: none; width: auto; overflow: hidden;\">\n",
       "                        <a href='https://geosaurus.maps.arcgis.com/home/item.html?id=acb58e704a5d4f3eb7c6e89e04b0eccc' target='_blank'><b>OrganizationItems_2022-03-14</b>\n",
       "                        </a>\n",
       "                        <br/><img src='https://geosaurus.maps.arcgis.com/home/js/jsapi/esri/css/images/item_type_icons/layers16.png' style=\"vertical-align:middle;\">Administrative Report by UserName2_orgname\n",
       "                        <br/>Last Modified: March 14, 2022\n",
       "                        <br/>0 comments, 0 views\n",
       "                    </div>\n",
       "                </div>\n",
       "                "
      ],
      "text/plain": [
       "<Item title:\"OrganizationItems_2022-03-14\" type:Administrative Report owner:UserName2_orgname>"
      ]
     },
     "execution_count": 4,
     "metadata": {},
     "output_type": "execute_result"
    }
   ],
   "source": [
    "user = gis.users.me\n",
    "final_item = user.report(\n",
    "            report_type='content', duration=\"weekly\", start_time=val\n",
    "        )\n",
    "final_item"
   ]
  },
  {
   "cell_type": "code",
   "execution_count": 7,
   "id": "f83d06b1",
   "metadata": {},
   "outputs": [],
   "source": [
    "final_item = gis.content.get(\"acb58e704a5d4f3eb7c6e89e04b0eccc\")"
   ]
  },
  {
   "cell_type": "markdown",
   "id": "a83cf8a0",
   "metadata": {},
   "source": [
    "### Returns an item: Useful for record keeping and finding it in your org"
   ]
  },
  {
   "cell_type": "code",
   "execution_count": 8,
   "id": "f77652d3",
   "metadata": {},
   "outputs": [],
   "source": [
    "csv_file = final_item.get_data()"
   ]
  },
  {
   "cell_type": "code",
   "execution_count": 9,
   "id": "1abe1b86",
   "metadata": {},
   "outputs": [],
   "source": [
    "df = pd.read_csv(csv_file)"
   ]
  },
  {
   "cell_type": "markdown",
   "id": "6a7d953c",
   "metadata": {},
   "source": [
    "### View The Most Viewed Items"
   ]
  },
  {
   "cell_type": "code",
   "execution_count": 10,
   "id": "b4ac72b8",
   "metadata": {},
   "outputs": [
    {
     "data": {
      "text/html": [
       "<div>\n",
       "<style scoped>\n",
       "    .dataframe tbody tr th:only-of-type {\n",
       "        vertical-align: middle;\n",
       "    }\n",
       "\n",
       "    .dataframe tbody tr th {\n",
       "        vertical-align: top;\n",
       "    }\n",
       "\n",
       "    .dataframe thead th {\n",
       "        text-align: right;\n",
       "    }\n",
       "</style>\n",
       "<table border=\"1\" class=\"dataframe\">\n",
       "  <thead>\n",
       "    <tr style=\"text-align: right;\">\n",
       "      <th></th>\n",
       "      <th>Title</th>\n",
       "      <th>Item ID</th>\n",
       "      <th>Item Url</th>\n",
       "      <th>Item Type</th>\n",
       "      <th>Date Created</th>\n",
       "      <th>Date Modified</th>\n",
       "      <th>Content Category</th>\n",
       "      <th>View Counts</th>\n",
       "      <th>Owner</th>\n",
       "      <th>File Storage Size</th>\n",
       "      <th>Feature Storage Size</th>\n",
       "      <th>Share Level</th>\n",
       "      <th># of Groups shared with</th>\n",
       "      <th>Tags</th>\n",
       "      <th>Number of Comments</th>\n",
       "      <th>Is Hosted Service</th>\n",
       "    </tr>\n",
       "  </thead>\n",
       "  <tbody>\n",
       "    <tr>\n",
       "      <th>7263</th>\n",
       "      <td>yolov3_coco_weights</td>\n",
       "      <td>8b4600eb9a29407bbfe51491ad5bf62c</td>\n",
       "      <td>NaN</td>\n",
       "      <td>Deep Learning Package</td>\n",
       "      <td>Wed May 06 10:53:16 UTC 2020</td>\n",
       "      <td>Wed May 06 10:53:24 UTC 2020</td>\n",
       "      <td>NaN</td>\n",
       "      <td>20624</td>\n",
       "      <td>api_data_owner</td>\n",
       "      <td>230470267</td>\n",
       "      <td>0</td>\n",
       "      <td>public</td>\n",
       "      <td>0</td>\n",
       "      <td>[yolov3, weights, coco]</td>\n",
       "      <td>0</td>\n",
       "      <td>False</td>\n",
       "    </tr>\n",
       "    <tr>\n",
       "      <th>599</th>\n",
       "      <td>calgary_no_southland_solar</td>\n",
       "      <td>adaead8cb3174ac6a89f0c14ae70aadd</td>\n",
       "      <td>https://services7.arcgis.com/JEwYeAy2cc8qOe3o/...</td>\n",
       "      <td>Feature Service</td>\n",
       "      <td>Tue Jul 07 08:36:20 UTC 2020</td>\n",
       "      <td>Thu Oct 22 18:40:39 UTC 2020</td>\n",
       "      <td>NaN</td>\n",
       "      <td>5763</td>\n",
       "      <td>api_data_owner</td>\n",
       "      <td>0</td>\n",
       "      <td>2768896</td>\n",
       "      <td>public</td>\n",
       "      <td>0</td>\n",
       "      <td>[calgary, solar power prediction]</td>\n",
       "      <td>0</td>\n",
       "      <td>True</td>\n",
       "    </tr>\n",
       "    <tr>\n",
       "      <th>3561</th>\n",
       "      <td>oma-test-map</td>\n",
       "      <td>2051a50d9370428297dc08a87db4a43f</td>\n",
       "      <td>NaN</td>\n",
       "      <td>Web Map</td>\n",
       "      <td>Mon Nov 18 18:52:38 UTC 2019</td>\n",
       "      <td>Mon Nov 18 19:11:49 UTC 2019</td>\n",
       "      <td>NaN</td>\n",
       "      <td>5457</td>\n",
       "      <td>api_data_owner</td>\n",
       "      <td>17596</td>\n",
       "      <td>0</td>\n",
       "      <td>org</td>\n",
       "      <td>1</td>\n",
       "      <td>[Offline, checkout, disconnected]</td>\n",
       "      <td>0</td>\n",
       "      <td>False</td>\n",
       "    </tr>\n",
       "    <tr>\n",
       "      <th>2038</th>\n",
       "      <td>CrimeAnalysisData</td>\n",
       "      <td>99d6d5b710a845839d38f5a5eef66626</td>\n",
       "      <td>https://services7.arcgis.com/JEwYeAy2cc8qOe3o/...</td>\n",
       "      <td>Feature Service</td>\n",
       "      <td>Wed May 29 04:25:27 UTC 2019</td>\n",
       "      <td>Mon Aug 03 07:13:43 UTC 2020</td>\n",
       "      <td>NaN</td>\n",
       "      <td>4359</td>\n",
       "      <td>api_data_owner</td>\n",
       "      <td>0</td>\n",
       "      <td>5341184</td>\n",
       "      <td>public</td>\n",
       "      <td>3</td>\n",
       "      <td>[Data, Analysis, ArcGIS, Service Definition, .sd]</td>\n",
       "      <td>0</td>\n",
       "      <td>True</td>\n",
       "    </tr>\n",
       "    <tr>\n",
       "      <th>3562</th>\n",
       "      <td>oma-test-map-updates</td>\n",
       "      <td>7cb38a3325564607a81c0da5733bfbfc</td>\n",
       "      <td>NaN</td>\n",
       "      <td>Web Map</td>\n",
       "      <td>Mon Nov 18 19:19:17 UTC 2019</td>\n",
       "      <td>Mon Nov 18 19:20:56 UTC 2019</td>\n",
       "      <td>NaN</td>\n",
       "      <td>2998</td>\n",
       "      <td>api_data_owner</td>\n",
       "      <td>17596</td>\n",
       "      <td>0</td>\n",
       "      <td>private</td>\n",
       "      <td>0</td>\n",
       "      <td>[Offline, checkout, disconnected]</td>\n",
       "      <td>0</td>\n",
       "      <td>False</td>\n",
       "    </tr>\n",
       "  </tbody>\n",
       "</table>\n",
       "</div>"
      ],
      "text/plain": [
       "                           Title                           Item ID  \\\n",
       "7263         yolov3_coco_weights  8b4600eb9a29407bbfe51491ad5bf62c   \n",
       "599   calgary_no_southland_solar  adaead8cb3174ac6a89f0c14ae70aadd   \n",
       "3561                oma-test-map  2051a50d9370428297dc08a87db4a43f   \n",
       "2038           CrimeAnalysisData  99d6d5b710a845839d38f5a5eef66626   \n",
       "3562        oma-test-map-updates  7cb38a3325564607a81c0da5733bfbfc   \n",
       "\n",
       "                                               Item Url  \\\n",
       "7263                                                NaN   \n",
       "599   https://services7.arcgis.com/JEwYeAy2cc8qOe3o/...   \n",
       "3561                                                NaN   \n",
       "2038  https://services7.arcgis.com/JEwYeAy2cc8qOe3o/...   \n",
       "3562                                                NaN   \n",
       "\n",
       "                  Item Type                  Date Created  \\\n",
       "7263  Deep Learning Package  Wed May 06 10:53:16 UTC 2020   \n",
       "599         Feature Service  Tue Jul 07 08:36:20 UTC 2020   \n",
       "3561                Web Map  Mon Nov 18 18:52:38 UTC 2019   \n",
       "2038        Feature Service  Wed May 29 04:25:27 UTC 2019   \n",
       "3562                Web Map  Mon Nov 18 19:19:17 UTC 2019   \n",
       "\n",
       "                     Date Modified Content Category  View Counts  \\\n",
       "7263  Wed May 06 10:53:24 UTC 2020              NaN        20624   \n",
       "599   Thu Oct 22 18:40:39 UTC 2020              NaN         5763   \n",
       "3561  Mon Nov 18 19:11:49 UTC 2019              NaN         5457   \n",
       "2038  Mon Aug 03 07:13:43 UTC 2020              NaN         4359   \n",
       "3562  Mon Nov 18 19:20:56 UTC 2019              NaN         2998   \n",
       "\n",
       "               Owner  File Storage Size  Feature Storage Size Share Level  \\\n",
       "7263  api_data_owner          230470267                     0      public   \n",
       "599   api_data_owner                  0               2768896      public   \n",
       "3561  api_data_owner              17596                     0         org   \n",
       "2038  api_data_owner                  0               5341184      public   \n",
       "3562  api_data_owner              17596                     0     private   \n",
       "\n",
       "      # of Groups shared with  \\\n",
       "7263                        0   \n",
       "599                         0   \n",
       "3561                        1   \n",
       "2038                        3   \n",
       "3562                        0   \n",
       "\n",
       "                                                   Tags  Number of Comments  \\\n",
       "7263                            [yolov3, weights, coco]                   0   \n",
       "599                   [calgary, solar power prediction]                   0   \n",
       "3561                  [Offline, checkout, disconnected]                   0   \n",
       "2038  [Data, Analysis, ArcGIS, Service Definition, .sd]                   0   \n",
       "3562                  [Offline, checkout, disconnected]                   0   \n",
       "\n",
       "      Is Hosted Service  \n",
       "7263              False  \n",
       "599                True  \n",
       "3561              False  \n",
       "2038               True  \n",
       "3562              False  "
      ]
     },
     "execution_count": 10,
     "metadata": {},
     "output_type": "execute_result"
    }
   ],
   "source": [
    "df.sort_values(by=['View Counts'], ascending=False).head()"
   ]
  },
  {
   "cell_type": "markdown",
   "id": "2d1506e5",
   "metadata": {},
   "source": [
    "### Largest Sized Item"
   ]
  },
  {
   "cell_type": "code",
   "execution_count": 11,
   "id": "37017aef",
   "metadata": {},
   "outputs": [
    {
     "data": {
      "text/html": [
       "<div>\n",
       "<style scoped>\n",
       "    .dataframe tbody tr th:only-of-type {\n",
       "        vertical-align: middle;\n",
       "    }\n",
       "\n",
       "    .dataframe tbody tr th {\n",
       "        vertical-align: top;\n",
       "    }\n",
       "\n",
       "    .dataframe thead th {\n",
       "        text-align: right;\n",
       "    }\n",
       "</style>\n",
       "<table border=\"1\" class=\"dataframe\">\n",
       "  <thead>\n",
       "    <tr style=\"text-align: right;\">\n",
       "      <th></th>\n",
       "      <th>Title</th>\n",
       "      <th>Item ID</th>\n",
       "      <th>Item Url</th>\n",
       "      <th>Item Type</th>\n",
       "      <th>Date Created</th>\n",
       "      <th>Date Modified</th>\n",
       "      <th>Content Category</th>\n",
       "      <th>View Counts</th>\n",
       "      <th>Owner</th>\n",
       "      <th>File Storage Size</th>\n",
       "      <th>Feature Storage Size</th>\n",
       "      <th>Share Level</th>\n",
       "      <th># of Groups shared with</th>\n",
       "      <th>Tags</th>\n",
       "      <th>Number of Comments</th>\n",
       "      <th>Is Hosted Service</th>\n",
       "    </tr>\n",
       "  </thead>\n",
       "  <tbody>\n",
       "    <tr>\n",
       "      <th>2210</th>\n",
       "      <td>detection_of_electric_utility_features_and_veg...</td>\n",
       "      <td>01ca39eab00e4780b0517af11d971b31</td>\n",
       "      <td>NaN</td>\n",
       "      <td>Image Collection</td>\n",
       "      <td>Wed May 26 09:33:05 UTC 2021</td>\n",
       "      <td>Wed May 26 09:33:19 UTC 2021</td>\n",
       "      <td>NaN</td>\n",
       "      <td>97</td>\n",
       "      <td>api_data_owner</td>\n",
       "      <td>7644076970</td>\n",
       "      <td>0</td>\n",
       "      <td>public</td>\n",
       "      <td>0</td>\n",
       "      <td>Deep Learning</td>\n",
       "      <td>0</td>\n",
       "      <td>False</td>\n",
       "    </tr>\n",
       "    <tr>\n",
       "      <th>2929</th>\n",
       "      <td>glacial_terminus_point_segmentation</td>\n",
       "      <td>cc750295180a487aa7af67a67cadff78</td>\n",
       "      <td>NaN</td>\n",
       "      <td>Image Collection</td>\n",
       "      <td>Fri Aug 06 06:29:32 UTC 2021</td>\n",
       "      <td>Tue Aug 10 12:13:04 UTC 2021</td>\n",
       "      <td>NaN</td>\n",
       "      <td>17</td>\n",
       "      <td>api_data_owner</td>\n",
       "      <td>6754807494</td>\n",
       "      <td>0</td>\n",
       "      <td>public</td>\n",
       "      <td>0</td>\n",
       "      <td>sample data</td>\n",
       "      <td>0</td>\n",
       "      <td>False</td>\n",
       "    </tr>\n",
       "    <tr>\n",
       "      <th>300</th>\n",
       "      <td>arcgis_dl_backbones</td>\n",
       "      <td>d404fd50d05d475f8d92eedb78e1c961</td>\n",
       "      <td>NaN</td>\n",
       "      <td>Code Sample</td>\n",
       "      <td>Wed Jan 27 07:27:44 UTC 2021</td>\n",
       "      <td>Mon Feb 15 03:29:55 UTC 2021</td>\n",
       "      <td>[/Themes/Region/World]</td>\n",
       "      <td>827</td>\n",
       "      <td>api_data_owner</td>\n",
       "      <td>5773974473</td>\n",
       "      <td>0</td>\n",
       "      <td>public</td>\n",
       "      <td>0</td>\n",
       "      <td>[metapackage, arcgis_dl_backbones, conda, cond...</td>\n",
       "      <td>0</td>\n",
       "      <td>False</td>\n",
       "    </tr>\n",
       "    <tr>\n",
       "      <th>6905</th>\n",
       "      <td>train_a_tensorflow-lite_model_for_identifying_...</td>\n",
       "      <td>81932a51f77b4d2d964218a7c5a4af17</td>\n",
       "      <td>NaN</td>\n",
       "      <td>Image Collection</td>\n",
       "      <td>Mon Aug 31 04:49:43 UTC 2020</td>\n",
       "      <td>Sun Dec 13 16:46:15 UTC 2020</td>\n",
       "      <td>NaN</td>\n",
       "      <td>398</td>\n",
       "      <td>api_data_owner</td>\n",
       "      <td>4489297344</td>\n",
       "      <td>0</td>\n",
       "      <td>public</td>\n",
       "      <td>2</td>\n",
       "      <td>[sample data, Deep Learning]</td>\n",
       "      <td>0</td>\n",
       "      <td>False</td>\n",
       "    </tr>\n",
       "    <tr>\n",
       "      <th>726</th>\n",
       "      <td>classification_of_raw_point_clouds_using_deep_...</td>\n",
       "      <td>a138ca788ea148b282c70a83d609994a</td>\n",
       "      <td>NaN</td>\n",
       "      <td>Image Collection</td>\n",
       "      <td>Mon Sep 14 06:05:49 UTC 2020</td>\n",
       "      <td>Fri Jul 30 11:20:01 UTC 2021</td>\n",
       "      <td>NaN</td>\n",
       "      <td>210</td>\n",
       "      <td>api_data_owner</td>\n",
       "      <td>4183005924</td>\n",
       "      <td>0</td>\n",
       "      <td>public</td>\n",
       "      <td>0</td>\n",
       "      <td>[sample data, Deep Learning, PointCNN]</td>\n",
       "      <td>0</td>\n",
       "      <td>False</td>\n",
       "    </tr>\n",
       "  </tbody>\n",
       "</table>\n",
       "</div>"
      ],
      "text/plain": [
       "                                                  Title  \\\n",
       "2210  detection_of_electric_utility_features_and_veg...   \n",
       "2929                glacial_terminus_point_segmentation   \n",
       "300                                 arcgis_dl_backbones   \n",
       "6905  train_a_tensorflow-lite_model_for_identifying_...   \n",
       "726   classification_of_raw_point_clouds_using_deep_...   \n",
       "\n",
       "                               Item ID Item Url         Item Type  \\\n",
       "2210  01ca39eab00e4780b0517af11d971b31      NaN  Image Collection   \n",
       "2929  cc750295180a487aa7af67a67cadff78      NaN  Image Collection   \n",
       "300   d404fd50d05d475f8d92eedb78e1c961      NaN       Code Sample   \n",
       "6905  81932a51f77b4d2d964218a7c5a4af17      NaN  Image Collection   \n",
       "726   a138ca788ea148b282c70a83d609994a      NaN  Image Collection   \n",
       "\n",
       "                      Date Created                 Date Modified  \\\n",
       "2210  Wed May 26 09:33:05 UTC 2021  Wed May 26 09:33:19 UTC 2021   \n",
       "2929  Fri Aug 06 06:29:32 UTC 2021  Tue Aug 10 12:13:04 UTC 2021   \n",
       "300   Wed Jan 27 07:27:44 UTC 2021  Mon Feb 15 03:29:55 UTC 2021   \n",
       "6905  Mon Aug 31 04:49:43 UTC 2020  Sun Dec 13 16:46:15 UTC 2020   \n",
       "726   Mon Sep 14 06:05:49 UTC 2020  Fri Jul 30 11:20:01 UTC 2021   \n",
       "\n",
       "            Content Category  View Counts           Owner  File Storage Size  \\\n",
       "2210                     NaN           97  api_data_owner         7644076970   \n",
       "2929                     NaN           17  api_data_owner         6754807494   \n",
       "300   [/Themes/Region/World]          827  api_data_owner         5773974473   \n",
       "6905                     NaN          398  api_data_owner         4489297344   \n",
       "726                      NaN          210  api_data_owner         4183005924   \n",
       "\n",
       "      Feature Storage Size Share Level  # of Groups shared with  \\\n",
       "2210                     0      public                        0   \n",
       "2929                     0      public                        0   \n",
       "300                      0      public                        0   \n",
       "6905                     0      public                        2   \n",
       "726                      0      public                        0   \n",
       "\n",
       "                                                   Tags  Number of Comments  \\\n",
       "2210                                      Deep Learning                   0   \n",
       "2929                                        sample data                   0   \n",
       "300   [metapackage, arcgis_dl_backbones, conda, cond...                   0   \n",
       "6905                       [sample data, Deep Learning]                   0   \n",
       "726              [sample data, Deep Learning, PointCNN]                   0   \n",
       "\n",
       "      Is Hosted Service  \n",
       "2210              False  \n",
       "2929              False  \n",
       "300               False  \n",
       "6905              False  \n",
       "726               False  "
      ]
     },
     "execution_count": 11,
     "metadata": {},
     "output_type": "execute_result"
    }
   ],
   "source": [
    "df.sort_values(by=['File Storage Size'], ascending=False).head()"
   ]
  },
  {
   "cell_type": "markdown",
   "id": "29a06c2a",
   "metadata": {},
   "source": [
    "### Storage By User"
   ]
  },
  {
   "cell_type": "code",
   "execution_count": 12,
   "id": "0b3fd608",
   "metadata": {},
   "outputs": [],
   "source": [
    "import math\n",
    "def convert_size(size_bytes):\n",
    "    if size_bytes == 0:\n",
    "        return \"0B\"\n",
    "    size_name = (\"B\", \"KB\", \"MB\", \"GB\", \"TB\", \"PB\", \"EB\", \"ZB\", \"YB\")\n",
    "    i = int(math.floor(math.log(size_bytes, 1024)))\n",
    "    p = math.pow(1024, i)\n",
    "    s = round(size_bytes / p, 2)\n",
    "    return \"%s %s\" % (s, size_name[i])"
   ]
  },
  {
   "cell_type": "code",
   "execution_count": 13,
   "id": "c28e2bdd",
   "metadata": {},
   "outputs": [
    {
     "data": {
      "text/plain": [
       "<AxesSubplot:ylabel='Owner'>"
      ]
     },
     "execution_count": 13,
     "metadata": {},
     "output_type": "execute_result"
    },
    {
     "data": {
      "image/png": "[encoded data removed]",
      "text/plain": [
       "<Figure size 432x288 with 1 Axes>"
      ]
     },
     "metadata": {
      "needs_background": "light"
     },
     "output_type": "display_data"
    }
   ],
   "source": [
    "gb = df.groupby(\"Owner\")['File Storage Size'].sum()\n",
    "gb.nlargest(4).plot(kind='barh')\n"
   ]
  },
  {
   "cell_type": "code",
   "execution_count": 14,
   "id": "aa3fcbbb",
   "metadata": {},
   "outputs": [
    {
     "data": {
      "text/plain": [
       "Owner\n",
       "OrgUser1           847.39 MB\n",
       "OrgUser2              40.87 MB\n",
       "UserName2_orgname         66.34 KB\n",
       "UserName3_orgname       34.05 KB\n",
       "UserName7_orgname         156.08 KB\n",
       "UserName1              0B\n",
       "UserName8_orgname    932.97 MB\n",
       "UserName9_orgname          442.46 MB\n",
       "jason_smith21                  994.4 MB\n",
       "api_data_owner            85.75 GB\n",
       "arcgis_python              8.46 GB\n",
       "UserName4_orgname          75.07 KB\n",
       "UserName5_orgname                  0B\n",
       "guest_interview            3.25 KB\n",
       "UserName6_orgname          883.0 B\n",
       "UserName10_orgname         975.81 MB\n",
       "UserName11_orgname      447.37 MB\n",
       "UserName12_orgname         658.17 MB\n",
       "pythondemo                26.66 KB\n",
       "rohitgeo                   4.85 KB\n",
       "UserName13_orgname         284.41 MB\n",
       "UserName14_orgname        2.01 MB\n",
       "UserName15_orgname           6.57 MB\n",
       "Name: File Storage Size, dtype: object"
      ]
     },
     "execution_count": 14,
     "metadata": {},
     "output_type": "execute_result"
    }
   ],
   "source": [
    "gb.apply(convert_size)"
   ]
  }
 ],
 "metadata": {
  "celltoolbar": "Attachments",
  "kernelspec": {
   "display_name": "Python 3",
   "language": "python",
   "name": "python3"
  },
  "language_info": {
   "codemirror_mode": {
    "name": "ipython",
    "version": 3
   },
   "file_extension": ".py",
   "mimetype": "text/x-python",
   "name": "python",
   "nbconvert_exporter": "python",
   "pygments_lexer": "ipython3",
   "version": "3.7.11"
  }
 },
 "nbformat": 4,
 "nbformat_minor": 5
}
