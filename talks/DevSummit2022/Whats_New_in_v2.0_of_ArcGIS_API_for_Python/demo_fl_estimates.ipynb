{
 "cells": [
  {
   "cell_type": "markdown",
   "id": "3ad4b97d",
   "metadata": {},
   "source": [
    "## Estimates Property on Feature Layer Class"
   ]
  },
  {
   "cell_type": "markdown",
   "id": "30f60fde",
   "metadata": {},
   "source": [
    "### Set up environment"
   ]
  },
  {
   "cell_type": "code",
   "execution_count": 1,
   "id": "3a2a1b1f",
   "metadata": {},
   "outputs": [],
   "source": [
    "from arcgis.gis import GIS\n",
    "from arcgis.features import FeatureLayer\n",
    "import pandas as pd\n",
    "\n",
    "gis = GIS(profile=\"your_online_profile\")"
   ]
  },
  {
   "cell_type": "markdown",
   "id": "4139b5fc",
   "metadata": {},
   "source": [
    "### Querying the bounding box or row count on a feature layer is an expensive operation. This provides an easy, straightforward way to get these properties."
   ]
  },
  {
   "cell_type": "code",
   "execution_count": 2,
   "id": "94f3e24b",
   "metadata": {},
   "outputs": [],
   "source": [
    "fl_item = gis.content.get(\"b8f4033069f141729ffb298b7418b653\")"
   ]
  },
  {
   "cell_type": "code",
   "execution_count": 3,
   "id": "b65895ad",
   "metadata": {},
   "outputs": [
    {
     "data": {
      "text/plain": [
       "<FeatureLayer url:\"https://services9.arcgis.com/RHVPKKiFTONKtxq3/arcgis/rest/services/MODIS_Thermal_v1/FeatureServer/0\">"
      ]
     },
     "execution_count": 3,
     "metadata": {},
     "output_type": "execute_result"
    }
   ],
   "source": [
    "fl = FeatureLayer.fromitem(fl_item)\n",
    "fl"
   ]
  },
  {
   "cell_type": "markdown",
   "id": "d8a9c76d",
   "metadata": {},
   "source": [
    "### Returns up-to-date approximations of layer information, such as row count and extent.\n",
    "#### Layers that uphold this method will have 'infoInEstimates' as a property."
   ]
  },
  {
   "cell_type": "code",
   "execution_count": 4,
   "id": "f3fd3b79",
   "metadata": {},
   "outputs": [
    {
     "data": {
      "text/plain": [
       "['extent', 'count']"
      ]
     },
     "execution_count": 4,
     "metadata": {},
     "output_type": "execute_result"
    }
   ],
   "source": [
    "fl.properties.infoInEstimates"
   ]
  },
  {
   "cell_type": "code",
   "execution_count": 5,
   "id": "0a1d441a",
   "metadata": {},
   "outputs": [
    {
     "name": "stdout",
     "output_type": "stream",
     "text": [
      "Wall time: 198 ms\n"
     ]
    },
    {
     "data": {
      "text/plain": [
       "{'count': 21798,\n",
       " 'extent': {'xmin': -19488146.6557,\n",
       "  'ymin': -6242176.5564,\n",
       "  'xmax': 19515642.5699,\n",
       "  'ymax': 7365554.4992,\n",
       "  'spatialReference': {'wkid': 102100, 'latestWkid': 3857}}}"
      ]
     },
     "execution_count": 5,
     "metadata": {},
     "output_type": "execute_result"
    }
   ],
   "source": [
    "%%time\n",
    "fl.estimates"
   ]
  },
  {
   "cell_type": "code",
   "execution_count": 6,
   "id": "aa2daaf3",
   "metadata": {},
   "outputs": [
    {
     "name": "stdout",
     "output_type": "stream",
     "text": [
      "Wall time: 439 ms\n"
     ]
    },
    {
     "data": {
      "text/plain": [
       "21798"
      ]
     },
     "execution_count": 6,
     "metadata": {},
     "output_type": "execute_result"
    }
   ],
   "source": [
    "%%time\n",
    "fl.query(return_count_only=True)"
   ]
  },
  {
   "cell_type": "code",
   "execution_count": 7,
   "id": "e08e2c04",
   "metadata": {},
   "outputs": [
    {
     "name": "stdout",
     "output_type": "stream",
     "text": [
      "Wall time: 7.88 s\n"
     ]
    },
    {
     "data": {
      "text/plain": [
       "{'rings': [[[-19181836.6052, -7471987.398600001],\n",
       "   [-19181836.6052, 8024446.002899997],\n",
       "   [19863975.7281, 8024446.002899997],\n",
       "   [19863975.7281, -7471987.398600001],\n",
       "   [-19181836.6052, -7471987.398600001]]],\n",
       " 'spatialReference': {'wkid': 102100, 'latestWkid': 3857}}"
      ]
     },
     "execution_count": 7,
     "metadata": {},
     "output_type": "execute_result"
    }
   ],
   "source": [
    "%%time\n",
    "sedf = pd.DataFrame.spatial.from_layer(fl)\n",
    "sedf_bbox = sedf.spatial.bbox\n",
    "dict(sedf_bbox)"
   ]
  }
 ],
 "metadata": {
  "kernelspec": {
   "display_name": "Python 3",
   "language": "python",
   "name": "python3"
  },
  "language_info": {
   "codemirror_mode": {
    "name": "ipython",
    "version": 3
   },
   "file_extension": ".py",
   "mimetype": "text/x-python",
   "name": "python",
   "nbconvert_exporter": "python",
   "pygments_lexer": "ipython3",
   "version": "3.7.11"
  }
 },
 "nbformat": 4,
 "nbformat_minor": 5
}
