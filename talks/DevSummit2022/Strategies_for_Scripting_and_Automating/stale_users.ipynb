{
 "cells": [
  {
   "cell_type": "markdown",
   "metadata": {},
   "source": [
    "### Demo - Identify Stagnant/Unused Users"
   ]
  },
  {
   "cell_type": "code",
   "execution_count": 2,
   "metadata": {},
   "outputs": [
    {
     "name": "stdout",
     "output_type": "stream",
     "text": [
      "Examining Users for: Python API Playground 10.8.1 organization\n"
     ]
    }
   ],
   "source": [
    "from datetime import datetime as dt\n",
    "from arcgis.gis import GIS\n",
    "gis = GIS(profile='your_ent_admin_profile')\n",
    "print(f\"Examining Users for: {gis.properties.name} organization\")"
   ]
  },
  {
   "cell_type": "markdown",
   "metadata": {},
   "source": [
    "#### Collect the Organization's Users"
   ]
  },
  {
   "cell_type": "code",
   "execution_count": 4,
   "metadata": {},
   "outputs": [],
   "source": [
    "wm_items = gis.content.search(\"*\", item_type=\"Web Map\")"
   ]
  },
  {
   "cell_type": "code",
   "execution_count": 5,
   "metadata": {},
   "outputs": [
    {
     "data": {
      "text/html": [
       "<div class=\"item_container\" style=\"height: auto; overflow: hidden; border: 1px solid #cfcfcf; border-radius: 2px; background: #f6fafa; line-height: 1.21429em; padding: 10px;\">\n",
       "                    <div class=\"item_left\" style=\"width: 210px; float: left;\">\n",
       "                       <a href='https://pythonapi.playground.esri.com/portal/home/item.html?id=c493527103ba4d7d85240011aed37923' target='_blank'>\n",
       "                        <img src='https://pythonapi.playground.esri.com/portal/portalimages/desktopapp.png' class=\"itemThumbnail\">\n",
       "                       </a>\n",
       "                    </div>\n",
       "\n",
       "                    <div class=\"item_right\"     style=\"float: none; width: auto; overflow: hidden;\">\n",
       "                        <a href='https://pythonapi.playground.esri.com/portal/home/item.html?id=c493527103ba4d7d85240011aed37923' target='_blank'><b>afdasdfa</b>\n",
       "                        </a>\n",
       "                        <br/>asdfasdf<img src='https://pythonapi.playground.esri.com/portal/home/js/jsapi/esri/css/images/item_type_icons/maps16.png' style=\"vertical-align:middle;\">Web Map by andrew\n",
       "                        <br/>Last Modified: February 23, 2022\n",
       "                        <br/>0 comments, 0 views\n",
       "                    </div>\n",
       "                </div>\n",
       "                "
      ],
      "text/plain": [
       "<Item title:\"afdasdfa\" type:Web Map owner:andrew>"
      ]
     },
     "execution_count": 5,
     "metadata": {},
     "output_type": "execute_result"
    }
   ],
   "source": [
    "wm0 = wm_items[0]\n",
    "wm0"
   ]
  },
  {
   "cell_type": "code",
   "execution_count": 7,
   "metadata": {},
   "outputs": [
    {
     "data": {
      "text/plain": [
       "1645645893577"
      ]
     },
     "execution_count": 7,
     "metadata": {},
     "output_type": "execute_result"
    }
   ],
   "source": [
    "wm0.modified"
   ]
  },
  {
   "cell_type": "code",
   "execution_count": 2,
   "metadata": {},
   "outputs": [],
   "source": [
    "users = gis.users.search(\"* AND NOT username:esri*\", max_users=1000)"
   ]
  },
  {
   "cell_type": "code",
   "execution_count": 3,
   "metadata": {},
   "outputs": [],
   "source": [
    "users_to_contact = []\n",
    "never_logged_in = []"
   ]
  },
  {
   "cell_type": "markdown",
   "metadata": {},
   "source": [
    "#### Calculate Last Login/Creation Date"
   ]
  },
  {
   "cell_type": "code",
   "execution_count": 4,
   "metadata": {},
   "outputs": [],
   "source": [
    "for user in users:\n",
    "    # weed out the users who have never logged in\n",
    "    if user.lastLogin > 0:\n",
    "        last_login = user.lastLogin\n",
    "        last_login_dif = dt.now() - dt.fromtimestamp(last_login/1000)\n",
    "        if last_login_dif.days >= 90:\n",
    "            users_to_contact.append([user,last_login_dif.days])\n",
    "    elif user.created > 0 and user.lastLogin <= 0:\n",
    "        last_login = user.created\n",
    "        last_login_dif = dt.now() - dt.fromtimestamp(last_login/1000)\n",
    "        if last_login_dif.days >= 90:\n",
    "            never_logged_in.append([user,last_login_dif.days])"
   ]
  },
  {
   "cell_type": "markdown",
   "metadata": {},
   "source": [
    "#### Identified Idle Accounts"
   ]
  },
  {
   "cell_type": "code",
   "execution_count": 5,
   "metadata": {},
   "outputs": [
    {
     "data": {
      "text/plain": [
       "[[<User username:your_username3>, 1041],\n",
       " [<User username:deletemeaftertesting>, 111],\n",
       " [<User username:your_username2>, 90],\n",
       " [<User username:username_org>, 235],\n",
       " [<User username:publisher1>, 376],\n",
       " [<User username:publisher2>, 314],\n",
       " [<User username:your_username>, 447],\n",
       " [<User username:usernameY>, 707],\n",
       " [<User username:temp_execution>, 619],\n",
       " [<User username:user_1>, 203],\n",
       " [<User username:user_2>, 203],\n",
       " [<User username:your.username.api>, 284],\n",
       " [<User username:User_Name>, 1197]]"
      ]
     },
     "execution_count": 5,
     "metadata": {},
     "output_type": "execute_result"
    }
   ],
   "source": [
    "users_to_contact"
   ]
  },
  {
   "cell_type": "markdown",
   "metadata": {},
   "source": [
    "#### Identified Unused Accounts"
   ]
  },
  {
   "cell_type": "code",
   "execution_count": 6,
   "metadata": {},
   "outputs": [
    {
     "data": {
      "text/plain": [
       "[[<User username:arcgis_python_api>, 390],\n",
       " [<User username:eraseme938>, 196],\n",
       " [<User username:john_doe>, 175],\n",
       " [<User username:jdoe>, 302]]"
      ]
     },
     "execution_count": 6,
     "metadata": {},
     "output_type": "execute_result"
    }
   ],
   "source": [
    "never_logged_in"
   ]
  }
 ],
 "metadata": {
  "kernelspec": {
   "display_name": "Python 3",
   "language": "python",
   "name": "python3"
  },
  "language_info": {
   "codemirror_mode": {
    "name": "ipython",
    "version": 3
   },
   "file_extension": ".py",
   "mimetype": "text/x-python",
   "name": "python",
   "nbconvert_exporter": "python",
   "pygments_lexer": "ipython3",
   "version": "3.7.11"
  }
 },
 "nbformat": 4,
 "nbformat_minor": 4
}
