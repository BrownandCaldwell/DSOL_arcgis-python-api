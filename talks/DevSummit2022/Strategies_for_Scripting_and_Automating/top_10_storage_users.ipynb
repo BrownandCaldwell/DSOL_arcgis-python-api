{
 "cells": [
  {
   "cell_type": "markdown",
   "metadata": {},
   "source": [
    "# DEMO - Identify Top 10 Storage Users"
   ]
  },
  {
   "cell_type": "code",
   "execution_count": 1,
   "metadata": {},
   "outputs": [],
   "source": [
    "from arcgis.gis import GIS"
   ]
  },
  {
   "cell_type": "code",
   "execution_count": 2,
   "metadata": {},
   "outputs": [],
   "source": [
    "usageList = {}\n",
    "totalUsed = 0"
   ]
  },
  {
   "cell_type": "code",
   "execution_count": 3,
   "metadata": {},
   "outputs": [],
   "source": [
    "gis = GIS(profile='your_online_admin_profile')"
   ]
  },
  {
   "cell_type": "markdown",
   "metadata": {},
   "source": [
    "#### Collect the Users"
   ]
  },
  {
   "cell_type": "code",
   "execution_count": 4,
   "metadata": {},
   "outputs": [
    {
     "name": "stdout",
     "output_type": "stream",
     "text": [
      "Total users found: 42\n"
     ]
    }
   ],
   "source": [
    "users = gis.users.search(max_users=10000)\n",
    "print(\"Total users found: {}\".format(len(users)))"
   ]
  },
  {
   "cell_type": "markdown",
   "metadata": {},
   "source": [
    "#### Calculate the Storage for ALl Users"
   ]
  },
  {
   "cell_type": "code",
   "execution_count": 5,
   "metadata": {},
   "outputs": [
    {
     "name": "stdout",
     "output_type": "stream",
     "text": [
      "42 accounts use 124734 MB of storage \n",
      "\n"
     ]
    }
   ],
   "source": [
    "for user in users:\n",
    "    usageList[user.fullName] = round(user.storageUsage/1000000)\n",
    "    totalUsed += user.storageUsage\n",
    "print(\"{} accounts use {} MB of storage \\n\".format(len(users),round(totalUsed/1000000),2))"
   ]
  },
  {
   "cell_type": "markdown",
   "metadata": {},
   "source": [
    "#### Sort and Display the Top 10 Storage Users"
   ]
  },
  {
   "cell_type": "code",
   "execution_count": 6,
   "metadata": {},
   "outputs": [
    {
     "name": "stdout",
     "output_type": "stream",
     "text": [
      "api_data owner     |   101827 MB\n",
      "ArcGIS Python      |   11077 MB\n",
      "Org User1     |   4116 MB\n",
      "Org User2         |   4015 MB\n",
      "Org User3        |   1346 MB\n",
      "Org Admin    |   890 MB\n",
      "Org User4          |   587 MB\n",
      "Org User5        |   425 MB\n",
      "Org User6        |   298 MB\n",
      "John Doe       |   99 MB\n"
     ]
    }
   ],
   "source": [
    "topTen = 0\n",
    "for user in sorted(usageList,key=usageList.get,reverse=True):\n",
    "    if usageList[user] > 0 and topTen < 10:\n",
    "        print(f\"{user:18} |{' '*3}{str(usageList[user])} MB\")\n",
    "        topTen +=1"
   ]
  }
 ],
 "metadata": {
  "kernelspec": {
   "display_name": "Python 3",
   "language": "python",
   "name": "python3"
  },
  "language_info": {
   "codemirror_mode": {
    "name": "ipython",
    "version": 3
   },
   "file_extension": ".py",
   "mimetype": "text/x-python",
   "name": "python",
   "nbconvert_exporter": "python",
   "pygments_lexer": "ipython3",
   "version": "3.7.11"
  }
 },
 "nbformat": 4,
 "nbformat_minor": 4
}
