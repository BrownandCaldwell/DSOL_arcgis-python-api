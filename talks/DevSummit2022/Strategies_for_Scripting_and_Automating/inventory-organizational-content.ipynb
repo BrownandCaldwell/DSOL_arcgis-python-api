{
 "cells": [
  {
   "cell_type": "markdown",
   "id": "b5b8fa78",
   "metadata": {},
   "source": [
    "# Inventory Organizational Content"
   ]
  },
  {
   "cell_type": "markdown",
   "id": "ae7c5ee3",
   "metadata": {},
   "source": [
    "Being able to retrieve, display, analyze, and export the content within an organization Portal are important tasks for any admin. Here we will leverage the [ContentManager](https://developers.arcgis.com/python/api-reference/arcgis.gis.toc.html#contentmanager) and [UserManager](https://developers.arcgis.com/python/api-reference/arcgis.gis.toc.html#usermanager) classes of the GIS module, as well as some functionality from the [Pandas](https://pandas.pydata.org/docs/index.html) library, to accomplish those tasks.\n",
    "\n",
    "In this page we are going to observe how the following can be accomplished:\n",
    "- [Import Libraries](#Import-Libraries)\n",
    "- [Connect to ArcGIS Online](#Connect-to-ArcGIS-Online)\n",
    "- [Querying Content](#Querying-Content)\n",
    "    - [Searching for Content](#Searching-for-Content)\n",
    "    - [Displaying Content](#Displaying-Content)\n",
    "    - [Sorting Content](#Sorting-Content)\n",
    "- [Querying Organization Content](#Querying-Organization-Content)\n",
    "    - [Searching for Organization Members](#Searching-for-Organization-Members)\n",
    "    - [Getting Member Content](#Getting-Member-Content)\n",
    "    - [Compiling Organization Content](#Compiling-Organization-Content)\n",
    "- [Analyzing Organization Content with Pandas](#Analyzing-Organization-Content-with-Pandas)\n",
    "    - [Filtering the Dataset](#Filtering-the-Dataset)\n",
    "    - [Accessing Content by ID](#Accessing-Content-by-ID)\n",
    "- [Exporting Data](#Exporting-Data)"
   ]
  },
  {
   "cell_type": "markdown",
   "id": "f6114d57",
   "metadata": {},
   "source": [
    "## Import Libraries"
   ]
  },
  {
   "cell_type": "code",
   "execution_count": 1,
   "id": "914502a2",
   "metadata": {},
   "outputs": [],
   "source": [
    "import pandas as pd\n",
    "from IPython.display import display\n",
    "\n",
    "import arcgis\n",
    "from arcgis.gis import GIS"
   ]
  },
  {
   "cell_type": "markdown",
   "id": "858cb003",
   "metadata": {},
   "source": [
    "## Connect to ArcGIS Online"
   ]
  },
  {
   "cell_type": "code",
   "execution_count": 2,
   "id": "0058c60b",
   "metadata": {},
   "outputs": [
    {
     "data": {
      "text/html": [
       "<div class=\"9item_container\" style=\"height: auto; overflow: hidden; border: 1px solid #cfcfcf; border-radius: 2px; background: #f6fafa; line-height: 1.21429em; padding: 10px;\">\n",
       "                    <div class=\"item_left\" style=\"width: 210px; float: left;\">\n",
       "                       <a href='https://your_org.maps.arcgis.com/home/user.html?user=your_username' target='_blank'>\n",
       "                        <img src='data:image/png;base64,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' width='200' height='133' class=\"itemThumbnail\">\n",
       "                       </a>\n",
       "                    </div>\n",
       "\n",
       "                    <div class=\"item_right\" style=\"float: none; width: auto; overflow: hidden;\">\n",
       "                        <a href='https://your_org.maps.arcgis.com/home/user.html?user=your_username' target='_blank'><b>John Yaist</b>\n",
       "                        </a>\n",
       "                        <br/><br/><b>Bio</b>: \n",
       "                        <br/><b>First Name</b>: John\n",
       "                        <br/><b>Last Name</b>: Yaist\n",
       "                        <br/><b>Username</b>: your_username\n",
       "                        <br/><b>Joined</b>: April 26, 2019\n",
       "\n",
       "                    </div>\n",
       "                </div>\n",
       "                "
      ],
      "text/plain": [
       "<User username:your_username>"
      ]
     },
     "execution_count": 2,
     "metadata": {},
     "output_type": "execute_result"
    }
   ],
   "source": [
    "profile_name = \"your_profile_name\"\n",
    "\n",
    "gis = GIS(profile=profile_name)\n",
    "gis.users.me"
   ]
  },
  {
   "cell_type": "markdown",
   "id": "a8e7b91d",
   "metadata": {},
   "source": [
    "## Querying Content"
   ]
  },
  {
   "cell_type": "markdown",
   "id": "43113609",
   "metadata": {},
   "source": [
    "To search for content within our organization, we can access the [ContentManager](https://developers.arcgis.com/python/api-reference/arcgis.gis.toc.html#arcgis.gis.ContentManager) class via `gis.content()`. \n",
    "\n",
    "Using the [`advanced_search()`](https://developers.arcgis.com/python/api-reference/arcgis.gis.toc.html#arcgis.gis.ContentManager.advanced_search) method, we can query content belonging to a user by providing the string `\"owner: < username >\"`. By setting the `return_count` parameter of `advanced_search()` to `True`, we can simply return a single integer representing the number of items which that user owns.\n",
    "\n",
    "Let's return the number of items that belong to the user currently logged in:"
   ]
  },
  {
   "cell_type": "code",
   "execution_count": 3,
   "id": "c49be69a",
   "metadata": {},
   "outputs": [
    {
     "name": "stdout",
     "output_type": "stream",
     "text": [
      "265 items found for current user\n"
     ]
    }
   ],
   "source": [
    "qe = f\"owner: {gis.users.me.username}\"\n",
    "my_content_count = gis.content.advanced_search(query=qe,return_count=True)\n",
    "print(my_content_count, 'items found for current user')"
   ]
  },
  {
   "cell_type": "markdown",
   "id": "acea3c61",
   "metadata": {},
   "source": [
    "### Searching for Content"
   ]
  },
  {
   "cell_type": "markdown",
   "id": "7e0afab0",
   "metadata": {},
   "source": [
    "If we leave the `return_count` parameter as its default value `False`, then we will receive a response dictionary containing metadata about the query as well as a list of returned items in the `results` field.\n",
    "\n",
    "By setting the `max_items` parameter, we can limit the number of items that are returned in the `results` field."
   ]
  },
  {
   "cell_type": "code",
   "execution_count": 4,
   "id": "2788396b",
   "metadata": {},
   "outputs": [
    {
     "data": {
      "text/plain": [
       "{'query': 'owner: your_username',\n",
       " 'total': 265,\n",
       " 'start': 1,\n",
       " 'num': 3,\n",
       " 'nextStart': 4,\n",
       " 'results': [<Item title:\"9ed755d0f0b14b9bb6910fba189051d1\" type:Shapefile owner:your_username>,\n",
       "  <Item title:\"Airborne\" type:WMTS owner:your_username>,\n",
       "  <Item title:\"ArchiveDataScript\" type:Notebook owner:your_username>]}"
      ]
     },
     "execution_count": 4,
     "metadata": {},
     "output_type": "execute_result"
    }
   ],
   "source": [
    "max_items = 3\n",
    "user_content = gis.content.advanced_search(query=qe, max_items=max_items)\n",
    "user_content"
   ]
  },
  {
   "cell_type": "markdown",
   "id": "4db64ca7",
   "metadata": {},
   "source": [
    "### Displaying Content"
   ]
  },
  {
   "cell_type": "code",
   "execution_count": 5,
   "id": "f00a4217",
   "metadata": {},
   "outputs": [
    {
     "data": {
      "text/html": [
       "<div class=\"item_container\" style=\"height: auto; overflow: hidden; border: 1px solid #cfcfcf; border-radius: 2px; background: #f6fafa; line-height: 1.21429em; padding: 10px;\">\n",
       "                    <div class=\"item_left\" style=\"width: 210px; float: left;\">\n",
       "                       <a href='https://your_org.maps.arcgis.com/home/item.html?id=c1f7fec006eb4971a07b6d12ee967134' target='_blank'>\n",
       "                        <img src='http://static.arcgis.com/images/desktopapp.png' class=\"itemThumbnail\">\n",
       "                       </a>\n",
       "                    </div>\n",
       "\n",
       "                    <div class=\"item_right\"     style=\"float: none; width: auto; overflow: hidden;\">\n",
       "                        <a href='https://your_org.maps.arcgis.com/home/item.html?id=c1f7fec006eb4971a07b6d12ee967134' target='_blank'><b>9ed755d0f0b14b9bb6910fba189051d1</b>\n",
       "                        </a>\n",
       "                        <br/><img src='https://your_org.maps.arcgis.com/home/js/jsapi/esri/css/images/item_type_icons/datafiles16.png' style=\"vertical-align:middle;\">Shapefile by your_username\n",
       "                        <br/>Last Modified: March 08, 2022\n",
       "                        <br/>0 comments, 1 views\n",
       "                    </div>\n",
       "                </div>\n",
       "                "
      ],
      "text/plain": [
       "<Item title:\"9ed755d0f0b14b9bb6910fba189051d1\" type:Shapefile owner:your_username>"
      ]
     },
     "metadata": {},
     "output_type": "display_data"
    },
    {
     "data": {
      "text/html": [
       "<div class=\"item_container\" style=\"height: auto; overflow: hidden; border: 1px solid #cfcfcf; border-radius: 2px; background: #f6fafa; line-height: 1.21429em; padding: 10px;\">\n",
       "                    <div class=\"item_left\" style=\"width: 210px; float: left;\">\n",
       "                       <a href='https://your_org.maps.arcgis.com/home/item.html?id=d3a71dec10d946438e37aa01be12969b' target='_blank'>\n",
       "                        <img src='data:image/png;base64,iVBORw0KGgoAAAANSUhEUgAAAMgAAACFCAYAAAAenrcsAAAACXBIWXMAAA7EAAAOxAGVKw4bAAADB0lEQVR4Xu3X/WtWZRzH8fOnTzFl6zadt3uUwjQsw3REottauSXmtEXYcj0wa5OGzKcslVhs36YY2hl8/oHzesH55bo+v745XM2n50/X1ORbtX/gYA1f+LbGrj+r3uX12ty4W9B1zYHeYB05tK/eP7Kv3h4eqrGt76u39nltrm+0t9A5zaHBA9U7O169T07U0PyHdWruZO2ffq8e33/Y3kLnNKcvTlZ/bbaGb39Wx9amq39vrg7+MlX3fvu9vYXOaQYvXaiRR/N19OeL1R/p17kzH9fd1bX2DjqpGT8/VSMPrlR/84v6cW21nj9/1t5AZzWHT35UJ55er/6DL2v9voc5vKnpr89U78qZGn1ytd69dbm+W1xqb6CzmolaquMbc7sP9Jma3FmqocWzNTA1UX8+ftLeQufsBvJNTe5GMvrH1Rp5OF9jf12rF9GcWpmrf7a22nvolJeBtL/xvxdrZnGhvYXO+V8gL/4kxx/N1/LqT+0ddNIbgSy9fIdcm/+qvYHOevUGuVXv3DhXyz8st++h05qJp1/X4ekPau7STPsOOq85Ntqvmzduts+BXc3s7Gz7DHil2dlpHwH/adoHwGsCgUAgEAgEAoFAIBAIBAKBQCAQCAQCgUAgEAgEAoFAIBAIBAKBQCAQCAQCgUAgEAgEAoFAIBAI9gSysLBQvYGBur2y0r6CztkTyPb2dt2582vrFLppTyDAawKBQCAQCAQCgUAgEAgEAoFAIBAIBAKBQCAQCAQCgUAgEAgEAoFAIBAIBAKBQCAQCAQCgUAgEAgEAoFAIBAIBAKBQCAQCAQCgUAgEAgEAoFAIBAIBAKBQCAQCAQCgUAgEAgEAoFAIBAIBAKBQCAQCAQCgUAgEAgEAoFAIBAIBAKBQCAQCAQCgUAgEAgEAoFAIBAIBAKBQCAQCAQCgUAgEAgEAoFAIBAIBAKBQCAQCAQCgUAgEAgEAoFAIBAIBAKBQCAQCAQCgUAgEAgEAoFAIBAIBAKBQCAQCAQCgUAgEAgEAoFAIBAIBAKBQCAQ/AvF889V/Zm3HwAAAABJRU5ErkJggg==' width='200' height='133' class=\"itemThumbnail\">\n",
       "                       </a>\n",
       "                    </div>\n",
       "\n",
       "                    <div class=\"item_right\"     style=\"float: none; width: auto; overflow: hidden;\">\n",
       "                        <a href='https://your_org.maps.arcgis.com/home/item.html?id=d3a71dec10d946438e37aa01be12969b' target='_blank'><b>Airborne</b>\n",
       "                        </a>\n",
       "                        <br/><img src='https://your_org.maps.arcgis.com/home/js/jsapi/esri/css/images/item_type_icons/layers16.png' style=\"vertical-align:middle;\">WMTS by your_username\n",
       "                        <br/>Last Modified: November 12, 2020\n",
       "                        <br/>0 comments, 3 views\n",
       "                    </div>\n",
       "                </div>\n",
       "                "
      ],
      "text/plain": [
       "<Item title:\"Airborne\" type:WMTS owner:your_username>"
      ]
     },
     "metadata": {},
     "output_type": "display_data"
    },
    {
     "data": {
      "text/html": [
       "<div class=\"item_container\" style=\"height: auto; overflow: hidden; border: 1px solid #cfcfcf; border-radius: 2px; background: #f6fafa; line-height: 1.21429em; padding: 10px;\">\n",
       "                    <div class=\"item_left\" style=\"width: 210px; float: left;\">\n",
       "                       <a href='https://your_org.maps.arcgis.com/home/item.html?id=4374ae540bb742908d0e5b94921d3127' target='_blank'>\n",
       "                        <img src='data:image/png;base64,iVBORw0KGgoAAAANSUhEUgAAAMgAAACFCAYAAAAenrcsAAAAGXRFWHRTb2Z0d2FyZQBBZG9iZSBJbWFnZVJlYWR5ccllPAAABPJJREFUeNrs3V+IFHUAwPHf7un987w7T7M/SGmpaJm9GGoqGD0UGUIlWqH9Owgi6qUICimNohd7KhAiQ9IwyoeKShIjQ0sziEQyeygzNTPFUu+f92/bnfXS9WbPM05xnc8HdJy7YWB/znd2ZnZ3NpXJZJYEIFYqG0jGMEC8tCEAgYBAQCAgEBAICAQEAgIBgQACAYGAQEAgIBAQCAgEBAICAYEAAoFzN8gQxNvX1G0QskbVJHsf6rY/RUx//1g07UxoJ4NOdrFlfq1nEHobVpGKptfUJnMPuueYZ1CB9MPyW4ck8nHf+dFx//kCOWV3kT3m7oTtScfUum4jkBj3r2uKph3d+VOyhsr8hjLv08I96eB0qmC5S0XP49q6oNbGIJDeGirzG8h1dWcOSVnB3C9Hu4osV9p6HhcC6dPrs6v7dWx+tuWcc1waHHCCQEAgIBAQCAgELn4u8xax/XBXyL0ycuWQVLisyn5EIBRY9HlTKC8LYc7o8tB4Q0W4eqhIBJJA3//VGTs/99rycKi1O3y1vyM0d2TCslnVthaBJM9D65uj6YiqVMH8joV1YeeRrvDMppbww+FOW4pAkumeseWxP//uYGfY39Qdcu9JrC93eCWQhFo6rSr255NWHw25LnIfmJpXJCIEkhhb/8wfRk27Ij8k88eVh9w7wMfVp8OC8QIRSMI9tbElmm67L/95iBemVhkUBNKj5yQdTufsEwQCAgGBgEDgIuEq1nm2cvOufi338MwJF8V6EcgF9ciyT/L/aGrre0PesPjc1rtkbd8L1FQKRCAlYFj+1qWNc6cM6GobH5jZ5+9XbPrJ2AukdLz16OwLuj6BOEkHgYBAQCAgEBAICAQQCAgEBAIDz1tNiljzc3tIpUIYXZv+704nCISTln7bGt2b98bhZaFrcmWYcZWhEkgCrdp1Inb+xalV4UBzd1i3pyMs39GWDaTG1iKQ5HllW/5zGvUVqYL5XQ/WhYMtmbBhb0f4IxsKAkmkl6bH3yBu5c4TUSDt2TZG1biWIZCEyt1iNM6Ed45G5yA3jSgLT0yutKUIJNlW/Jg/98h9WU50qHVLVXQVK/fFOVNGGiaBJNzbZwRyrzu6I5BT6ircm5fenH2CQEAgIBAQCAgEBAICAYFAAnkl/QJZ9OYXff5+1WO3Dej6EEhpONIUTVZ/sHVAAznb+kK195IJpAS89/zd52e9Ly8wuAIpfQumji2p9eIkHQQCAgGBgEBAIFBqXOYtYvGW1pBOhTC+Ph0WTqgwIALhdB//2h4GZ59fdwzN/pVJhYUTvTItkAR67uuW2PlVt9eEvce7wxvb28KH2VgEIpBE+uy3jmhaUZYqmH91RnV0iJX780+7e/MKJKHevSP+ru3Pbm4JR9oyobUzE26+3JGoQBJq0vCy2J+v/70jujfvXWPKQ+P1TtIFknBPb8qfe7w2qzqarsk+s+TuzTuyKh0aKt11USAJt/1QV8H8xIYyg4JAepTrgRheSQfPIPTXkxtbDIJAKOabA/nXgQanXZgQCL2snTPUIAiEYsbUOi0VSB8e/7J5QJdDIJeEv09koumhg119D9jJHezZliu5DcETR6xUJsswhLCvyRsSc3wnvECg3+wuQCAgEBAICAQEAgIBgYBAQCCAQEAgIBAQCAgEBAICAYGAQEAggEDgfxiUyWSWGgaI968AAwDtOR96K//xXwAAAABJRU5ErkJggg==' width='200' height='133' class=\"itemThumbnail\">\n",
       "                       </a>\n",
       "                    </div>\n",
       "\n",
       "                    <div class=\"item_right\"     style=\"float: none; width: auto; overflow: hidden;\">\n",
       "                        <a href='https://your_org.maps.arcgis.com/home/item.html?id=4374ae540bb742908d0e5b94921d3127' target='_blank'><b>ArchiveDataScript</b>\n",
       "                        </a>\n",
       "                        <br/><img src='https://your_org.maps.arcgis.com/home/js/jsapi/esri/css/images/item_type_icons/layers16.png' style=\"vertical-align:middle;\">Notebook by your_username\n",
       "                        <br/>Last Modified: October 07, 2021\n",
       "                        <br/>0 comments, 6 views\n",
       "                    </div>\n",
       "                </div>\n",
       "                "
      ],
      "text/plain": [
       "<Item title:\"ArchiveDataScript\" type:Notebook owner:your_username>"
      ]
     },
     "metadata": {},
     "output_type": "display_data"
    }
   ],
   "source": [
    "# Displaying the result items through IPython.display.display()\n",
    "\n",
    "for item in user_content['results']:\n",
    "    display(item)"
   ]
  },
  {
   "cell_type": "markdown",
   "id": "d11931f2",
   "metadata": {},
   "source": [
    "It is also possible to have these items returned as dictionary objects by setting the `as_dict` parameter:"
   ]
  },
  {
   "cell_type": "code",
   "execution_count": 6,
   "id": "2c264ac8",
   "metadata": {},
   "outputs": [
    {
     "data": {
      "text/plain": [
       "[{'id': 'c1f7fec006eb4971a07b6d12ee967134',\n",
       "  'owner': 'your_username',\n",
       "  'created': 1646757719000,\n",
       "  'isOrgItem': True,\n",
       "  'modified': 1646757719000,\n",
       "  'guid': None,\n",
       "  'name': 'af3ba6.zip',\n",
       "  'title': '9ed755d0f0b14b9bb6910fba189051d1',\n",
       "  'type': 'Shapefile',\n",
       "  'typeKeywords': ['ArcGIS Desktop', 'Data', 'Layer', 'Shapefile', 'Template'],\n",
       "  'description': None,\n",
       "  'tags': ['FGDB'],\n",
       "  'snippet': None,\n",
       "  'thumbnail': None,\n",
       "  'documentation': None,\n",
       "  'extent': [],\n",
       "  'categories': [],\n",
       "  'spatialReference': None,\n",
       "  'accessInformation': None,\n",
       "  'licenseInfo': None,\n",
       "  'culture': 'english (united states)',\n",
       "  'properties': None,\n",
       "  'advancedSettings': None,\n",
       "  'url': None,\n",
       "  'proxyFilter': None,\n",
       "  'access': 'private',\n",
       "  'size': -1,\n",
       "  'subInfo': 0,\n",
       "  'appCategories': [],\n",
       "  'industries': [],\n",
       "  'languages': [],\n",
       "  'largeThumbnail': None,\n",
       "  'banner': None,\n",
       "  'screenshots': [],\n",
       "  'listed': False,\n",
       "  'ownerFolder': None,\n",
       "  'protected': False,\n",
       "  'numComments': 0,\n",
       "  'numRatings': 0,\n",
       "  'avgRating': 0,\n",
       "  'numViews': 1,\n",
       "  'scoreCompleteness': 16,\n",
       "  'groupDesignations': None,\n",
       "  'contentOrigin': 'self'},\n",
       " {'id': 'd3a71dec10d946438e37aa01be12969b',\n",
       "  'owner': 'your_username',\n",
       "  'created': 1605229299000,\n",
       "  'isOrgItem': True,\n",
       "  'modified': 1605229370000,\n",
       "  'guid': None,\n",
       "  'name': None,\n",
       "  'title': 'Airborne',\n",
       "  'type': 'WMTS',\n",
       "  'typeKeywords': ['Data', 'OGC', 'Service', 'Web Map Tile Service'],\n",
       "  'description': None,\n",
       "  'tags': ['mineral_resources', 'usgs_mrdata'],\n",
       "  'snippet': None,\n",
       "  'thumbnail': 'thumbnail/ago_downloaded.png',\n",
       "  'documentation': None,\n",
       "  'extent': [[-180, -90], [180, 90]],\n",
       "  'categories': [],\n",
       "  'spatialReference': None,\n",
       "  'accessInformation': None,\n",
       "  'licenseInfo': None,\n",
       "  'culture': 'en-us',\n",
       "  'properties': None,\n",
       "  'advancedSettings': None,\n",
       "  'url': 'https://mrdata.usgs.gov/mapcache/wmts',\n",
       "  'proxyFilter': None,\n",
       "  'access': 'private',\n",
       "  'size': -1,\n",
       "  'subInfo': 0,\n",
       "  'appCategories': [],\n",
       "  'industries': [],\n",
       "  'languages': [],\n",
       "  'largeThumbnail': None,\n",
       "  'banner': None,\n",
       "  'screenshots': [],\n",
       "  'listed': False,\n",
       "  'ownerFolder': None,\n",
       "  'protected': False,\n",
       "  'numComments': 0,\n",
       "  'numRatings': 0,\n",
       "  'avgRating': 0,\n",
       "  'numViews': 3,\n",
       "  'scoreCompleteness': 25,\n",
       "  'groupDesignations': None,\n",
       "  'contentOrigin': 'self'},\n",
       " {'id': '4374ae540bb742908d0e5b94921d3127',\n",
       "  'owner': 'your_username',\n",
       "  'created': 1633627309000,\n",
       "  'isOrgItem': True,\n",
       "  'modified': 1633627317000,\n",
       "  'guid': None,\n",
       "  'name': 'ArchiveDataScript.ipynb',\n",
       "  'title': 'ArchiveDataScript',\n",
       "  'type': 'Notebook',\n",
       "  'typeKeywords': ['ipynb', 'Notebook', 'Python'],\n",
       "  'description': None,\n",
       "  'tags': ['test_notebook', 'triage_bug'],\n",
       "  'snippet': None,\n",
       "  'thumbnail': 'thumbnail/ago_downloaded.png',\n",
       "  'documentation': None,\n",
       "  'extent': [],\n",
       "  'categories': [],\n",
       "  'spatialReference': None,\n",
       "  'accessInformation': None,\n",
       "  'licenseInfo': None,\n",
       "  'culture': 'en-us',\n",
       "  'properties': {'notebookRuntimeName': 'ArcGIS Notebook Python 3 Standard',\n",
       "   'notebookRuntimeVersion': '5.0'},\n",
       "  'advancedSettings': None,\n",
       "  'url': None,\n",
       "  'proxyFilter': None,\n",
       "  'access': 'private',\n",
       "  'size': -1,\n",
       "  'subInfo': 0,\n",
       "  'appCategories': [],\n",
       "  'industries': [],\n",
       "  'languages': [],\n",
       "  'largeThumbnail': None,\n",
       "  'banner': None,\n",
       "  'screenshots': [],\n",
       "  'listed': False,\n",
       "  'ownerFolder': 'c6989dbd4a1349caa069cbeb4647b172',\n",
       "  'protected': False,\n",
       "  'numComments': 0,\n",
       "  'numRatings': 0,\n",
       "  'avgRating': 0,\n",
       "  'numViews': 6,\n",
       "  'scoreCompleteness': 41,\n",
       "  'groupDesignations': None,\n",
       "  'contentOrigin': 'self'}]"
      ]
     },
     "execution_count": 6,
     "metadata": {},
     "output_type": "execute_result"
    }
   ],
   "source": [
    "# return items as a dictionary with as_dict=True\n",
    "\n",
    "user_content_as_dict = gis.content.advanced_search(\n",
    "    query=qe, max_items=max_items,as_dict=True)\n",
    "user_content_as_dict['results']"
   ]
  },
  {
   "cell_type": "markdown",
   "id": "f361364a",
   "metadata": {},
   "source": [
    "### Sorting Content"
   ]
  },
  {
   "cell_type": "markdown",
   "id": "7146f8f0",
   "metadata": {},
   "source": [
    "The `sort_field` and `sort_order` parameters of the [`advanced_search()`](https://developers.arcgis.com/python/api-reference/arcgis.gis.toc.html#arcgis.gis.ContentManager.advanced_search) method can be used to sort the returned content server side.\n",
    "\n",
    "Possible values for `sort_order` are `\"asc\"` for ascending or increasing order and `\"desc\"` for descending or decreasing order. Default values for the `sort_field` and `sort_order` parameters are `\"title\"` and `\"asc\"`, respectively.\n",
    "\n",
    "In this next example we'll search for the last 3 items that the current user modified by setting `sort_field=\"modified\"` and `sort_order=\"desc\"`:"
   ]
  },
  {
   "cell_type": "code",
   "execution_count": 7,
   "id": "a661240c",
   "metadata": {},
   "outputs": [
    {
     "data": {
      "text/html": [
       "<div class=\"item_container\" style=\"height: auto; overflow: hidden; border: 1px solid #cfcfcf; border-radius: 2px; background: #f6fafa; line-height: 1.21429em; padding: 10px;\">\n",
       "                    <div class=\"item_left\" style=\"width: 210px; float: left;\">\n",
       "                       <a href='https://your_org.maps.arcgis.com/home/item.html?id=05e60b1c36e54522b9947032d1708efd' target='_blank'>\n",
       "                        <img src='http://static.arcgis.com/images/desktopapp.png' class=\"itemThumbnail\">\n",
       "                       </a>\n",
       "                    </div>\n",
       "\n",
       "                    <div class=\"item_right\"     style=\"float: none; width: auto; overflow: hidden;\">\n",
       "                        <a href='https://your_org.maps.arcgis.com/home/item.html?id=05e60b1c36e54522b9947032d1708efd' target='_blank'><b>USA states from Pro</b>\n",
       "                        </a>\n",
       "                        <br/>Map created using Python API from API<img src='https://your_org.maps.arcgis.com/home/js/jsapi/esri/css/images/item_type_icons/maps16.png' style=\"vertical-align:middle;\">Web Map by your_username\n",
       "                        <br/>Last Modified: March 08, 2022\n",
       "                        <br/>0 comments, 0 views\n",
       "                    </div>\n",
       "                </div>\n",
       "                "
      ],
      "text/plain": [
       "<Item title:\"USA states from Pro\" type:Web Map owner:your_username>"
      ]
     },
     "metadata": {},
     "output_type": "display_data"
    },
    {
     "data": {
      "text/html": [
       "<div class=\"item_container\" style=\"height: auto; overflow: hidden; border: 1px solid #cfcfcf; border-radius: 2px; background: #f6fafa; line-height: 1.21429em; padding: 10px;\">\n",
       "                    <div class=\"item_left\" style=\"width: 210px; float: left;\">\n",
       "                       <a href='https://your_org.maps.arcgis.com/home/item.html?id=c1f7fec006eb4971a07b6d12ee967134' target='_blank'>\n",
       "                        <img src='http://static.arcgis.com/images/desktopapp.png' class=\"itemThumbnail\">\n",
       "                       </a>\n",
       "                    </div>\n",
       "\n",
       "                    <div class=\"item_right\"     style=\"float: none; width: auto; overflow: hidden;\">\n",
       "                        <a href='https://your_org.maps.arcgis.com/home/item.html?id=c1f7fec006eb4971a07b6d12ee967134' target='_blank'><b>9ed755d0f0b14b9bb6910fba189051d1</b>\n",
       "                        </a>\n",
       "                        <br/><img src='https://your_org.maps.arcgis.com/home/js/jsapi/esri/css/images/item_type_icons/datafiles16.png' style=\"vertical-align:middle;\">Shapefile by your_username\n",
       "                        <br/>Last Modified: March 08, 2022\n",
       "                        <br/>0 comments, 1 views\n",
       "                    </div>\n",
       "                </div>\n",
       "                "
      ],
      "text/plain": [
       "<Item title:\"9ed755d0f0b14b9bb6910fba189051d1\" type:Shapefile owner:your_username>"
      ]
     },
     "metadata": {},
     "output_type": "display_data"
    },
    {
     "data": {
      "text/html": [
       "<div class=\"item_container\" style=\"height: auto; overflow: hidden; border: 1px solid #cfcfcf; border-radius: 2px; background: #f6fafa; line-height: 1.21429em; padding: 10px;\">\n",
       "                    <div class=\"item_left\" style=\"width: 210px; float: left;\">\n",
       "                       <a href='https://your_org.maps.arcgis.com/home/item.html?id=36a076590323471e908d3a0f05b319e8' target='_blank'>\n",
       "                        <img src='http://static.arcgis.com/images/desktopapp.png' class=\"itemThumbnail\">\n",
       "                       </a>\n",
       "                    </div>\n",
       "\n",
       "                    <div class=\"item_right\"     style=\"float: none; width: auto; overflow: hidden;\">\n",
       "                        <a href='https://your_org.maps.arcgis.com/home/item.html?id=36a076590323471e908d3a0f05b319e8' target='_blank'><b>MN_wind_turbines</b>\n",
       "                        </a>\n",
       "                        <br/>Wind turbines from the USWTB database in MN<img src='https://your_org.maps.arcgis.com/home/js/jsapi/esri/css/images/item_type_icons/maps16.png' style=\"vertical-align:middle;\">Web Map by your_username\n",
       "                        <br/>Last Modified: March 07, 2022\n",
       "                        <br/>0 comments, 2 views\n",
       "                    </div>\n",
       "                </div>\n",
       "                "
      ],
      "text/plain": [
       "<Item title:\"MN_wind_turbines\" type:Web Map owner:your_username>"
      ]
     },
     "metadata": {},
     "output_type": "display_data"
    }
   ],
   "source": [
    "content_last_modified = gis.content.advanced_search(\n",
    "    query=qe, max_items=max_items, sort_field=\"modified\", sort_order=\"desc\")\n",
    "\n",
    "for item in content_last_modified['results']:\n",
    "    display(item)"
   ]
  },
  {
   "cell_type": "markdown",
   "id": "052a6dcd",
   "metadata": {},
   "source": [
    "Here we return the first 3 items that the user created by setting `sort_field=\"created\"` and `sort_order=\"asc\"`:"
   ]
  },
  {
   "cell_type": "code",
   "execution_count": 8,
   "id": "929ffbef",
   "metadata": {},
   "outputs": [
    {
     "data": {
      "text/html": [
       "<div class=\"item_container\" style=\"height: auto; overflow: hidden; border: 1px solid #cfcfcf; border-radius: 2px; background: #f6fafa; line-height: 1.21429em; padding: 10px;\">\n",
       "                    <div class=\"item_left\" style=\"width: 210px; float: left;\">\n",
       "                       <a href='https://your_org.maps.arcgis.com/home/item.html?id=af70757db303458494c5d72914010db8' target='_blank'>\n",
       "                        <img src='http://static.arcgis.com/images/desktopapp.png' class=\"itemThumbnail\">\n",
       "                       </a>\n",
       "                    </div>\n",
       "\n",
       "                    <div class=\"item_right\"     style=\"float: none; width: auto; overflow: hidden;\">\n",
       "                        <a href='https://your_org.maps.arcgis.com/home/item.html?id=af70757db303458494c5d72914010db8' target='_blank'><b>SubDiv_PB11_PG48_Parcels</b>\n",
       "                        </a>\n",
       "                        <br/>temporary gdb item to use to append data<img src='https://your_org.maps.arcgis.com/home/js/jsapi/esri/css/images/item_type_icons/layers16.png' style=\"vertical-align:middle;\">File Geodatabase by your_username\n",
       "                        <br/>Last Modified: May 15, 2019\n",
       "                        <br/>0 comments, 2 views\n",
       "                    </div>\n",
       "                </div>\n",
       "                "
      ],
      "text/plain": [
       "<Item title:\"SubDiv_PB11_PG48_Parcels\" type:File Geodatabase owner:your_username>"
      ]
     },
     "metadata": {},
     "output_type": "display_data"
    },
    {
     "data": {
      "text/html": [
       "<div class=\"item_container\" style=\"height: auto; overflow: hidden; border: 1px solid #cfcfcf; border-radius: 2px; background: #f6fafa; line-height: 1.21429em; padding: 10px;\">\n",
       "                    <div class=\"item_left\" style=\"width: 210px; float: left;\">\n",
       "                       <a href='https://your_org.maps.arcgis.com/home/item.html?id=cc7f8792383b4b3c9b22ca4f2c42f966' target='_blank'>\n",
       "                        <img src='data:image/png;base64,iVBORw0KGgoAAAANSUhEUgAAAMgAAACFCAYAAAAenrcsAAAAGXRFWHRTb2Z0d2FyZQBBZG9iZSBJbWFnZVJlYWR5ccllPAAABPJJREFUeNrs3V+IFHUAwPHf7un987w7T7M/SGmpaJm9GGoqGD0UGUIlWqH9Owgi6qUICimNohd7KhAiQ9IwyoeKShIjQ0sziEQyeygzNTPFUu+f92/bnfXS9WbPM05xnc8HdJy7YWB/znd2ZnZ3NpXJZJYEIFYqG0jGMEC8tCEAgYBAQCAgEBAICAQEAgIBgQACAYGAQEAgIBAQCAgEBAICAYEAAoFzN8gQxNvX1G0QskbVJHsf6rY/RUx//1g07UxoJ4NOdrFlfq1nEHobVpGKptfUJnMPuueYZ1CB9MPyW4ck8nHf+dFx//kCOWV3kT3m7oTtScfUum4jkBj3r2uKph3d+VOyhsr8hjLv08I96eB0qmC5S0XP49q6oNbGIJDeGirzG8h1dWcOSVnB3C9Hu4osV9p6HhcC6dPrs6v7dWx+tuWcc1waHHCCQEAgIBAQCAgELn4u8xax/XBXyL0ycuWQVLisyn5EIBRY9HlTKC8LYc7o8tB4Q0W4eqhIBJJA3//VGTs/99rycKi1O3y1vyM0d2TCslnVthaBJM9D65uj6YiqVMH8joV1YeeRrvDMppbww+FOW4pAkumeseWxP//uYGfY39Qdcu9JrC93eCWQhFo6rSr255NWHw25LnIfmJpXJCIEkhhb/8wfRk27Ij8k88eVh9w7wMfVp8OC8QIRSMI9tbElmm67L/95iBemVhkUBNKj5yQdTufsEwQCAgGBgEDgIuEq1nm2cvOufi338MwJF8V6EcgF9ciyT/L/aGrre0PesPjc1rtkbd8L1FQKRCAlYFj+1qWNc6cM6GobH5jZ5+9XbPrJ2AukdLz16OwLuj6BOEkHgYBAQCAgEBAICAQQCAgEBAIDz1tNiljzc3tIpUIYXZv+704nCISTln7bGt2b98bhZaFrcmWYcZWhEkgCrdp1Inb+xalV4UBzd1i3pyMs39GWDaTG1iKQ5HllW/5zGvUVqYL5XQ/WhYMtmbBhb0f4IxsKAkmkl6bH3yBu5c4TUSDt2TZG1biWIZCEyt1iNM6Ed45G5yA3jSgLT0yutKUIJNlW/Jg/98h9WU50qHVLVXQVK/fFOVNGGiaBJNzbZwRyrzu6I5BT6ircm5fenH2CQEAgIBAQCAgEBAICAYFAAnkl/QJZ9OYXff5+1WO3Dej6EEhpONIUTVZ/sHVAAznb+kK195IJpAS89/zd52e9Ly8wuAIpfQumji2p9eIkHQQCAgGBgEBAIFBqXOYtYvGW1pBOhTC+Ph0WTqgwIALhdB//2h4GZ59fdwzN/pVJhYUTvTItkAR67uuW2PlVt9eEvce7wxvb28KH2VgEIpBE+uy3jmhaUZYqmH91RnV0iJX780+7e/MKJKHevSP+ru3Pbm4JR9oyobUzE26+3JGoQBJq0vCy2J+v/70jujfvXWPKQ+P1TtIFknBPb8qfe7w2qzqarsk+s+TuzTuyKh0aKt11USAJt/1QV8H8xIYyg4JAepTrgRheSQfPIPTXkxtbDIJAKOabA/nXgQanXZgQCL2snTPUIAiEYsbUOi0VSB8e/7J5QJdDIJeEv09koumhg119D9jJHezZliu5DcETR6xUJsswhLCvyRsSc3wnvECg3+wuQCAgEBAICAQEAgIBgYBAQCCAQEAgIBAQCAgEBAICAYGAQEAggEDgfxiUyWSWGgaI968AAwDtOR96K//xXwAAAABJRU5ErkJggg==' width='200' height='133' class=\"itemThumbnail\">\n",
       "                       </a>\n",
       "                    </div>\n",
       "\n",
       "                    <div class=\"item_right\"     style=\"float: none; width: auto; overflow: hidden;\">\n",
       "                        <a href='https://your_org.maps.arcgis.com/home/item.html?id=cc7f8792383b4b3c9b22ca4f2c42f966' target='_blank'><b>Manage_and_Allocate_Credits</b>\n",
       "                        </a>\n",
       "                        <br/><img src='https://your_org.maps.arcgis.com/home/js/jsapi/esri/css/images/item_type_icons/layers16.png' style=\"vertical-align:middle;\">Notebook by your_username\n",
       "                        <br/>Last Modified: June 10, 2019\n",
       "                        <br/>0 comments, 0 views\n",
       "                    </div>\n",
       "                </div>\n",
       "                "
      ],
      "text/plain": [
       "<Item title:\"Manage_and_Allocate_Credits\" type:Notebook owner:your_username>"
      ]
     },
     "metadata": {},
     "output_type": "display_data"
    },
    {
     "data": {
      "text/html": [
       "<div class=\"item_container\" style=\"height: auto; overflow: hidden; border: 1px solid #cfcfcf; border-radius: 2px; background: #f6fafa; line-height: 1.21429em; padding: 10px;\">\n",
       "                    <div class=\"item_left\" style=\"width: 210px; float: left;\">\n",
       "                       <a href='https://your_org.maps.arcgis.com/home/item.html?id=a828ca41150b4e79a1436c7301373c14' target='_blank'>\n",
       "                        <img src='data:image/png;base64,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' width='200' height='133' class=\"itemThumbnail\">\n",
       "                       </a>\n",
       "                    </div>\n",
       "\n",
       "                    <div class=\"item_right\"     style=\"float: none; width: auto; overflow: hidden;\">\n",
       "                        <a href='https://your_org.maps.arcgis.com/home/item.html?id=a828ca41150b4e79a1436c7301373c14' target='_blank'><b>guinea_power_plants_southern_gdb</b>\n",
       "                        </a>\n",
       "                        <br/><img src='https://your_org.maps.arcgis.com/home/js/jsapi/esri/css/images/item_type_icons/layers16.png' style=\"vertical-align:middle;\">File Geodatabase by your_username\n",
       "                        <br/>Last Modified: September 25, 2019\n",
       "                        <br/>0 comments, 1 views\n",
       "                    </div>\n",
       "                </div>\n",
       "                "
      ],
      "text/plain": [
       "<Item title:\"guinea_power_plants_southern_gdb\" type:File Geodatabase owner:your_username>"
      ]
     },
     "metadata": {},
     "output_type": "display_data"
    }
   ],
   "source": [
    "content_first_created = gis.content.advanced_search(query=qe, max_items=max_items, sort_field=\"created\", sort_order=\"asc\")\n",
    "\n",
    "for item in content_first_created['results']:\n",
    "    display(item)"
   ]
  },
  {
   "cell_type": "markdown",
   "id": "3b7ef5be",
   "metadata": {},
   "source": [
    "## Querying Organization Content"
   ]
  },
  {
   "cell_type": "markdown",
   "id": "e3872a39",
   "metadata": {},
   "source": [
    "### Searching for Organization Members"
   ]
  },
  {
   "cell_type": "markdown",
   "id": "47e2e018",
   "metadata": {},
   "source": [
    "We can search for a list of the members within the organization by using the [UserManager](https://developers.arcgis.com/python/api-reference/arcgis.gis.server.html#arcgis.gis.server.UserManager) class within the GIS module. Here we access the UserManager by calling `gis.users`, and use the [`search()`](https://developers.arcgis.com/python/api-reference/arcgis.gis.toc.html#arcgis.gis.UserManager.search) method to return a list of organization members. The `search()` method will return all users in the organization if no parameters are provided:"
   ]
  },
  {
   "cell_type": "code",
   "execution_count": 9,
   "id": "a61cd2ea",
   "metadata": {},
   "outputs": [
    {
     "data": {
      "text/plain": [
       "<UserManager @ https://your_org.maps.arcgis.com>"
      ]
     },
     "execution_count": 9,
     "metadata": {},
     "output_type": "execute_result"
    }
   ],
   "source": [
    "# View UserManager object\n",
    "gis.users"
   ]
  },
  {
   "cell_type": "code",
   "execution_count": 10,
   "id": "1124317c",
   "metadata": {},
   "outputs": [
    {
     "name": "stdout",
     "output_type": "stream",
     "text": [
      "42 users found\n"
     ]
    },
    {
     "data": {
      "text/plain": [
       "[<User username:your_username2>,\n",
       " <User username:your_username3>,\n",
       " <User username:your_username4>]"
      ]
     },
     "execution_count": 10,
     "metadata": {},
     "output_type": "execute_result"
    }
   ],
   "source": [
    "org_users = gis.users.search()\n",
    "print(f'{len(org_users)} users found')\n",
    "org_users[:3]"
   ]
  },
  {
   "cell_type": "code",
   "execution_count": 11,
   "id": "e7926c45",
   "metadata": {},
   "outputs": [
    {
     "data": {
      "text/html": [
       "<div class=\"9item_container\" style=\"height: auto; overflow: hidden; border: 1px solid #cfcfcf; border-radius: 2px; background: #f6fafa; line-height: 1.21429em; padding: 10px;\">\n",
       "                    <div class=\"item_left\" style=\"width: 210px; float: left;\">\n",
       "                       <a href='https://your_org.maps.arcgis.com/home/user.html?user=your_username3' target='_blank'>\n",
       "                        <img src='data:image/png;base64,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' width='200' height='133' class=\"itemThumbnail\">\n",
       "                       </a>\n",
       "                    </div>\n",
       "\n",
       "                    <div class=\"item_right\" style=\"float: none; width: auto; overflow: hidden;\">\n",
       "                        <a href='https://your_org.maps.arcgis.com/home/user.html?user=your_username3' target='_blank'><b>Atma Mani</b>\n",
       "                        </a>\n",
       "                        <br/><br/><b>Bio</b>: Product Engineering lead for the ArcGIS Python API development team\n",
       "                        <br/><b>First Name</b>: Atma\n",
       "                        <br/><b>Last Name</b>: Mani\n",
       "                        <br/><b>Username</b>: your_username3\n",
       "                        <br/><b>Joined</b>: December 21, 2016\n",
       "\n",
       "                    </div>\n",
       "                </div>\n",
       "                "
      ],
      "text/plain": [
       "<User username:your_username3>"
      ]
     },
     "execution_count": 11,
     "metadata": {},
     "output_type": "execute_result"
    }
   ],
   "source": [
    "# Display a misc member\n",
    "org_member = org_users[1]\n",
    "org_member"
   ]
  },
  {
   "cell_type": "markdown",
   "id": "652b08af",
   "metadata": {},
   "source": [
    "### Getting Member Content"
   ]
  },
  {
   "cell_type": "markdown",
   "id": "ae5fc2e2",
   "metadata": {},
   "source": [
    "Similarly to above, we can set `return_count=True` and see how many items this user has:"
   ]
  },
  {
   "cell_type": "code",
   "execution_count": 12,
   "id": "b6e71d0a",
   "metadata": {},
   "outputs": [
    {
     "name": "stdout",
     "output_type": "stream",
     "text": [
      "Org member has 83 items\n"
     ]
    }
   ],
   "source": [
    "# See the number of member items\n",
    "qe = \"owner: \" + org_member.username\n",
    "member_content_count = gis.content.advanced_search(\n",
    "    query=qe, max_items=-1, return_count=True)\n",
    "print(f\"Org member has {member_content_count} items\")"
   ]
  },
  {
   "cell_type": "code",
   "execution_count": 13,
   "id": "4c72a221",
   "metadata": {},
   "outputs": [
    {
     "data": {
      "text/plain": [
       "[<Item title:\"advanced search\" type:Notebook owner:your_username3>,\n",
       " <Item title:\"Analyzing historic earthquake data\" type:Notebook owner:your_username3>,\n",
       " <Item title:\"atma-ge\" type:Notebook owner:your_username3>]"
      ]
     },
     "execution_count": 13,
     "metadata": {},
     "output_type": "execute_result"
    }
   ],
   "source": [
    "# Return <max_items> items from member\n",
    "max_items = 3\n",
    "\n",
    "member_content = gis.content.advanced_search(query=qe, max_items=max_items)\n",
    "member_content['results']"
   ]
  },
  {
   "cell_type": "markdown",
   "id": "bc3a5e2c",
   "metadata": {},
   "source": [
    "### Compiling Organization Content"
   ]
  },
  {
   "cell_type": "markdown",
   "id": "167ebc24",
   "metadata": {},
   "source": [
    "If we return all items for each user in the organization, we can compile those items into a single list representing all of the organizations content.\n",
    "\n",
    "We can remove the item limit for each query by setting `max_items=-1` in the `advanced_search()` function:"
   ]
  },
  {
   "cell_type": "code",
   "execution_count": 14,
   "id": "ad7ff830",
   "metadata": {},
   "outputs": [
    {
     "name": "stdout",
     "output_type": "stream",
     "text": [
      "5592 items found in org\n"
     ]
    }
   ],
   "source": [
    "# return content for each user in org, compile into a single list\n",
    "\n",
    "org_content = []\n",
    "\n",
    "for user in org_users:\n",
    "    qe = f\"owner: {user.username}\"\n",
    "    user_content = gis.content.advanced_search(query=qe, max_items=-1)['results']\n",
    "    org_content += user_content\n",
    "    \n",
    "print(f\"{len(org_content)} items found in org\")"
   ]
  },
  {
   "cell_type": "markdown",
   "id": "fad0a465",
   "metadata": {},
   "source": [
    "## Analyzing Organization Content with Pandas"
   ]
  },
  {
   "cell_type": "markdown",
   "id": "b35984a2",
   "metadata": {},
   "source": [
    "Let's put our compiled list into a pandas [DataFrame](https://pandas.pydata.org/docs/reference/api/pandas.DataFrame.html) to easily view and filter our data"
   ]
  },
  {
   "cell_type": "code",
   "execution_count": 15,
   "id": "c059b9f4",
   "metadata": {},
   "outputs": [
    {
     "data": {
      "text/html": [
       "<div>\n",
       "<style scoped>\n",
       "    .dataframe tbody tr th:only-of-type {\n",
       "        vertical-align: middle;\n",
       "    }\n",
       "\n",
       "    .dataframe tbody tr th {\n",
       "        vertical-align: top;\n",
       "    }\n",
       "\n",
       "    .dataframe thead th {\n",
       "        text-align: right;\n",
       "    }\n",
       "</style>\n",
       "<table border=\"1\" class=\"dataframe\">\n",
       "  <thead>\n",
       "    <tr style=\"text-align: right;\">\n",
       "      <th></th>\n",
       "      <th>id</th>\n",
       "      <th>owner</th>\n",
       "      <th>created</th>\n",
       "      <th>isOrgItem</th>\n",
       "      <th>modified</th>\n",
       "      <th>guid</th>\n",
       "      <th>name</th>\n",
       "      <th>title</th>\n",
       "      <th>type</th>\n",
       "      <th>typeKeywords</th>\n",
       "      <th>...</th>\n",
       "      <th>contentOrigin</th>\n",
       "      <th>layers</th>\n",
       "      <th>tables</th>\n",
       "      <th>size</th>\n",
       "      <th>commentsEnabled</th>\n",
       "      <th>itemControl</th>\n",
       "      <th>appProxies</th>\n",
       "      <th>serviceProxyParams</th>\n",
       "      <th>contentStatus</th>\n",
       "      <th>sourceUrl</th>\n",
       "    </tr>\n",
       "  </thead>\n",
       "  <tbody>\n",
       "    <tr>\n",
       "      <th>0</th>\n",
       "      <td>a3d68f38dcc74c7b8b08aa887080252a</td>\n",
       "      <td>your_username2</td>\n",
       "      <td>1616734025000</td>\n",
       "      <td>True</td>\n",
       "      <td>1616734026000</td>\n",
       "      <td>None</td>\n",
       "      <td>None</td>\n",
       "      <td>BeaverCreek_Flowlines</td>\n",
       "      <td>Feature Service</td>\n",
       "      <td>[ArcGIS Server, Data, Feature Access, Feature ...</td>\n",
       "      <td>...</td>\n",
       "      <td>self</td>\n",
       "      <td>[&lt;FeatureLayer url:\"https://pythonapi.playgrou...</td>\n",
       "      <td>[]</td>\n",
       "      <td>101.0</td>\n",
       "      <td>True</td>\n",
       "      <td>admin</td>\n",
       "      <td>NaN</td>\n",
       "      <td>NaN</td>\n",
       "      <td>NaN</td>\n",
       "      <td>NaN</td>\n",
       "    </tr>\n",
       "    <tr>\n",
       "      <th>1</th>\n",
       "      <td>1693efe3f7ed4f619425d357b85a0ba5</td>\n",
       "      <td>your_username2</td>\n",
       "      <td>1617343861000</td>\n",
       "      <td>True</td>\n",
       "      <td>1617350206000</td>\n",
       "      <td>None</td>\n",
       "      <td>building.dlpk</td>\n",
       "      <td>building</td>\n",
       "      <td>Deep Learning Package</td>\n",
       "      <td>[Deep Learning Package, dlpk, Raster]</td>\n",
       "      <td>...</td>\n",
       "      <td>self</td>\n",
       "      <td>NaN</td>\n",
       "      <td>NaN</td>\n",
       "      <td>NaN</td>\n",
       "      <td>NaN</td>\n",
       "      <td>NaN</td>\n",
       "      <td>NaN</td>\n",
       "      <td>NaN</td>\n",
       "      <td>NaN</td>\n",
       "      <td>NaN</td>\n",
       "    </tr>\n",
       "    <tr>\n",
       "      <th>2</th>\n",
       "      <td>2c8abe7656cc48ca9410f3d95969c5fa</td>\n",
       "      <td>your_username2</td>\n",
       "      <td>1616731025000</td>\n",
       "      <td>True</td>\n",
       "      <td>1616731025000</td>\n",
       "      <td>None</td>\n",
       "      <td>composite_3bands_6BC_8BC_8bitunsigned.tif</td>\n",
       "      <td>composite_3bands_6BC_8BC_8bitunsigned</td>\n",
       "      <td>Image</td>\n",
       "      <td>[Data, Image, tif]</td>\n",
       "      <td>...</td>\n",
       "      <td>self</td>\n",
       "      <td>NaN</td>\n",
       "      <td>NaN</td>\n",
       "      <td>NaN</td>\n",
       "      <td>NaN</td>\n",
       "      <td>NaN</td>\n",
       "      <td>NaN</td>\n",
       "      <td>NaN</td>\n",
       "      <td>NaN</td>\n",
       "      <td>NaN</td>\n",
       "    </tr>\n",
       "    <tr>\n",
       "      <th>3</th>\n",
       "      <td>3d3e1366cc2a46e7be58899dd4b9eb32</td>\n",
       "      <td>your_username2</td>\n",
       "      <td>1616173554000</td>\n",
       "      <td>True</td>\n",
       "      <td>1616210931000</td>\n",
       "      <td>None</td>\n",
       "      <td>3d3e1366cc2a46e7be58899dd4b9eb32.ipynb</td>\n",
       "      <td>Extracting Building Footprints From Drone Data</td>\n",
       "      <td>Notebook</td>\n",
       "      <td>[Notebook, Python]</td>\n",
       "      <td>...</td>\n",
       "      <td>self</td>\n",
       "      <td>NaN</td>\n",
       "      <td>NaN</td>\n",
       "      <td>NaN</td>\n",
       "      <td>NaN</td>\n",
       "      <td>NaN</td>\n",
       "      <td>NaN</td>\n",
       "      <td>NaN</td>\n",
       "      <td>NaN</td>\n",
       "      <td>NaN</td>\n",
       "    </tr>\n",
       "    <tr>\n",
       "      <th>4</th>\n",
       "      <td>e782b8d6f10a4154ae05c5f4e8518461</td>\n",
       "      <td>your_username2</td>\n",
       "      <td>1616052680000</td>\n",
       "      <td>True</td>\n",
       "      <td>1616052740000</td>\n",
       "      <td>None</td>\n",
       "      <td>None</td>\n",
       "      <td>Google Maps</td>\n",
       "      <td>Web Map</td>\n",
       "      <td>[ArcGIS Online, Explorer Web Map, Map, Online ...</td>\n",
       "      <td>...</td>\n",
       "      <td>self</td>\n",
       "      <td>NaN</td>\n",
       "      <td>NaN</td>\n",
       "      <td>NaN</td>\n",
       "      <td>NaN</td>\n",
       "      <td>NaN</td>\n",
       "      <td>NaN</td>\n",
       "      <td>NaN</td>\n",
       "      <td>NaN</td>\n",
       "      <td>NaN</td>\n",
       "    </tr>\n",
       "  </tbody>\n",
       "</table>\n",
       "<p>5 rows × 52 columns</p>\n",
       "</div>"
      ],
      "text/plain": [
       "                                 id                  owner        created  \\\n",
       "0  a3d68f38dcc74c7b8b08aa887080252a  your_username2  1616734025000   \n",
       "1  1693efe3f7ed4f619425d357b85a0ba5  your_username2  1617343861000   \n",
       "2  2c8abe7656cc48ca9410f3d95969c5fa  your_username2  1616731025000   \n",
       "3  3d3e1366cc2a46e7be58899dd4b9eb32  your_username2  1616173554000   \n",
       "4  e782b8d6f10a4154ae05c5f4e8518461  your_username2  1616052680000   \n",
       "\n",
       "   isOrgItem       modified  guid                                       name  \\\n",
       "0       True  1616734026000  None                                       None   \n",
       "1       True  1617350206000  None                              building.dlpk   \n",
       "2       True  1616731025000  None  composite_3bands_6BC_8BC_8bitunsigned.tif   \n",
       "3       True  1616210931000  None     3d3e1366cc2a46e7be58899dd4b9eb32.ipynb   \n",
       "4       True  1616052740000  None                                       None   \n",
       "\n",
       "                                            title                   type  \\\n",
       "0                           BeaverCreek_Flowlines        Feature Service   \n",
       "1                                        building  Deep Learning Package   \n",
       "2           composite_3bands_6BC_8BC_8bitunsigned                  Image   \n",
       "3  Extracting Building Footprints From Drone Data               Notebook   \n",
       "4                                     Google Maps                Web Map   \n",
       "\n",
       "                                        typeKeywords  ... contentOrigin  \\\n",
       "0  [ArcGIS Server, Data, Feature Access, Feature ...  ...          self   \n",
       "1              [Deep Learning Package, dlpk, Raster]  ...          self   \n",
       "2                                 [Data, Image, tif]  ...          self   \n",
       "3                                 [Notebook, Python]  ...          self   \n",
       "4  [ArcGIS Online, Explorer Web Map, Map, Online ...  ...          self   \n",
       "\n",
       "                                              layers tables   size  \\\n",
       "0  [<FeatureLayer url:\"https://pythonapi.playgrou...     []  101.0   \n",
       "1                                                NaN    NaN    NaN   \n",
       "2                                                NaN    NaN    NaN   \n",
       "3                                                NaN    NaN    NaN   \n",
       "4                                                NaN    NaN    NaN   \n",
       "\n",
       "  commentsEnabled itemControl appProxies serviceProxyParams contentStatus  \\\n",
       "0            True       admin        NaN                NaN           NaN   \n",
       "1             NaN         NaN        NaN                NaN           NaN   \n",
       "2             NaN         NaN        NaN                NaN           NaN   \n",
       "3             NaN         NaN        NaN                NaN           NaN   \n",
       "4             NaN         NaN        NaN                NaN           NaN   \n",
       "\n",
       "  sourceUrl  \n",
       "0       NaN  \n",
       "1       NaN  \n",
       "2       NaN  \n",
       "3       NaN  \n",
       "4       NaN  \n",
       "\n",
       "[5 rows x 52 columns]"
      ]
     },
     "execution_count": 15,
     "metadata": {},
     "output_type": "execute_result"
    }
   ],
   "source": [
    "# Create DataFrame\n",
    "\n",
    "content_df = pd.DataFrame(org_content)\n",
    "content_df.head()"
   ]
  },
  {
   "cell_type": "markdown",
   "id": "19b01c20",
   "metadata": {},
   "source": [
    "We can use the pandas function [`value_counts()`](https://pandas.pydata.org/docs/reference/api/pandas.Series.value_counts.html#pandas.Series.value_counts) to see how many occurrences there are of each value for a particular column. Here we return the top 10 most frequently occurring item types and the number of instances they have:"
   ]
  },
  {
   "cell_type": "code",
   "execution_count": 16,
   "id": "3d886c0d",
   "metadata": {},
   "outputs": [
    {
     "data": {
      "text/plain": [
       "Feature Service       1245\n",
       "CSV                   1117\n",
       "Feature Collection     602\n",
       "Notebook               552\n",
       "File Geodatabase       373\n",
       "Web Map                356\n",
       "Shapefile              204\n",
       "PDF                    165\n",
       "StoryMap               136\n",
       "Service Definition     129\n",
       "Name: type, dtype: int64"
      ]
     },
     "execution_count": 16,
     "metadata": {},
     "output_type": "execute_result"
    }
   ],
   "source": [
    "# use value_counts() to see how many items you have with a particular key:value pair\n",
    "content_df.type.value_counts().head(10)"
   ]
  },
  {
   "cell_type": "markdown",
   "id": "e964f35e",
   "metadata": {},
   "source": [
    "Another [`value_counts()`](https://pandas.pydata.org/docs/reference/api/pandas.Series.value_counts.html#pandas.Series.value_counts) example where we see the distribution of access levels for each of the items in the organization:"
   ]
  },
  {
   "cell_type": "code",
   "execution_count": 17,
   "id": "dc312cc0",
   "metadata": {},
   "outputs": [
    {
     "data": {
      "text/plain": [
       "private    4126\n",
       "public      715\n",
       "org         609\n",
       "shared      142\n",
       "Name: access, dtype: int64"
      ]
     },
     "execution_count": 17,
     "metadata": {},
     "output_type": "execute_result"
    }
   ],
   "source": [
    "content_df.access.value_counts()"
   ]
  },
  {
   "cell_type": "markdown",
   "id": "d28d7a74",
   "metadata": {},
   "source": [
    "Using the [`value_counts()`](https://pandas.pydata.org/docs/reference/api/pandas.Series.value_counts.html#pandas.Series.value_counts) function in conjunction with the [`groupby()`](https://pandas.pydata.org/docs/reference/api/pandas.DataFrame.groupby.html) operation allows for an additional level of analysis. Here we see the breakdown of item types that each user has created:"
   ]
  },
  {
   "cell_type": "code",
   "execution_count": 18,
   "id": "e69bc7db",
   "metadata": {},
   "outputs": [
    {
     "data": {
      "text/plain": [
       "owner           type              \n",
       "ArcGISPyAPIBot  CSV                   729\n",
       "                Notebook               31\n",
       "                Feature Service        12\n",
       "                File Geodatabase        4\n",
       "                Web Map                 4\n",
       "                Scene Package           2\n",
       "                Scene Service           1\n",
       "                Service Definition      1\n",
       "                Shapefile               1\n",
       "                StoryMap                1\n",
       "Name: type, dtype: int64"
      ]
     },
     "execution_count": 18,
     "metadata": {},
     "output_type": "execute_result"
    }
   ],
   "source": [
    "content_df.groupby('owner').type.value_counts().head(10)"
   ]
  },
  {
   "cell_type": "code",
   "execution_count": 19,
   "id": "3fe5c701",
   "metadata": {},
   "outputs": [
    {
     "data": {
      "text/plain": [
       "type                   access \n",
       "API Key                private      11\n",
       "Administrative Report  private       2\n",
       "Application            private       8\n",
       "                       public        1\n",
       "CSV                    private    1106\n",
       "                       public        9\n",
       "                       shared        2\n",
       "CSV Collection         private      10\n",
       "                       public        1\n",
       "Code Attachment        private       6\n",
       "Name: access, dtype: int64"
      ]
     },
     "execution_count": 19,
     "metadata": {},
     "output_type": "execute_result"
    }
   ],
   "source": [
    "# Viewing the number item types per access level within the org\n",
    "content_df.groupby('type').access.value_counts().head(10)"
   ]
  },
  {
   "cell_type": "markdown",
   "id": "d6e9bcd8",
   "metadata": {},
   "source": [
    "### Filtering the Dataset"
   ]
  },
  {
   "cell_type": "markdown",
   "id": "843208b4",
   "metadata": {},
   "source": [
    "We can choose which columns we'd like to view, and the order we'd like to view them in, by providing the DataFrame with a list of strings matching column names:"
   ]
  },
  {
   "cell_type": "code",
   "execution_count": 20,
   "id": "07369854",
   "metadata": {},
   "outputs": [
    {
     "data": {
      "text/html": [
       "<div>\n",
       "<style scoped>\n",
       "    .dataframe tbody tr th:only-of-type {\n",
       "        vertical-align: middle;\n",
       "    }\n",
       "\n",
       "    .dataframe tbody tr th {\n",
       "        vertical-align: top;\n",
       "    }\n",
       "\n",
       "    .dataframe thead th {\n",
       "        text-align: right;\n",
       "    }\n",
       "</style>\n",
       "<table border=\"1\" class=\"dataframe\">\n",
       "  <thead>\n",
       "    <tr style=\"text-align: right;\">\n",
       "      <th></th>\n",
       "      <th>id</th>\n",
       "      <th>title</th>\n",
       "      <th>owner</th>\n",
       "      <th>type</th>\n",
       "      <th>access</th>\n",
       "    </tr>\n",
       "  </thead>\n",
       "  <tbody>\n",
       "    <tr>\n",
       "      <th>0</th>\n",
       "      <td>a3d68f38dcc74c7b8b08aa887080252a</td>\n",
       "      <td>BeaverCreek_Flowlines</td>\n",
       "      <td>your_username2</td>\n",
       "      <td>Feature Service</td>\n",
       "      <td>private</td>\n",
       "    </tr>\n",
       "    <tr>\n",
       "      <th>1</th>\n",
       "      <td>1693efe3f7ed4f619425d357b85a0ba5</td>\n",
       "      <td>building</td>\n",
       "      <td>your_username2</td>\n",
       "      <td>Deep Learning Package</td>\n",
       "      <td>private</td>\n",
       "    </tr>\n",
       "    <tr>\n",
       "      <th>2</th>\n",
       "      <td>2c8abe7656cc48ca9410f3d95969c5fa</td>\n",
       "      <td>composite_3bands_6BC_8BC_8bitunsigned</td>\n",
       "      <td>your_username2</td>\n",
       "      <td>Image</td>\n",
       "      <td>private</td>\n",
       "    </tr>\n",
       "    <tr>\n",
       "      <th>3</th>\n",
       "      <td>3d3e1366cc2a46e7be58899dd4b9eb32</td>\n",
       "      <td>Extracting Building Footprints From Drone Data</td>\n",
       "      <td>your_username2</td>\n",
       "      <td>Notebook</td>\n",
       "      <td>private</td>\n",
       "    </tr>\n",
       "    <tr>\n",
       "      <th>4</th>\n",
       "      <td>e782b8d6f10a4154ae05c5f4e8518461</td>\n",
       "      <td>Google Maps</td>\n",
       "      <td>your_username2</td>\n",
       "      <td>Web Map</td>\n",
       "      <td>private</td>\n",
       "    </tr>\n",
       "  </tbody>\n",
       "</table>\n",
       "</div>"
      ],
      "text/plain": [
       "                                 id  \\\n",
       "0  a3d68f38dcc74c7b8b08aa887080252a   \n",
       "1  1693efe3f7ed4f619425d357b85a0ba5   \n",
       "2  2c8abe7656cc48ca9410f3d95969c5fa   \n",
       "3  3d3e1366cc2a46e7be58899dd4b9eb32   \n",
       "4  e782b8d6f10a4154ae05c5f4e8518461   \n",
       "\n",
       "                                            title                  owner  \\\n",
       "0                           BeaverCreek_Flowlines  your_username2   \n",
       "1                                        building  your_username2   \n",
       "2           composite_3bands_6BC_8BC_8bitunsigned  your_username2   \n",
       "3  Extracting Building Footprints From Drone Data  your_username2   \n",
       "4                                     Google Maps  your_username2   \n",
       "\n",
       "                    type   access  \n",
       "0        Feature Service  private  \n",
       "1  Deep Learning Package  private  \n",
       "2                  Image  private  \n",
       "3               Notebook  private  \n",
       "4                Web Map  private  "
      ]
     },
     "execution_count": 20,
     "metadata": {},
     "output_type": "execute_result"
    }
   ],
   "source": [
    "view_columns = ['id','title','owner','type','access']\n",
    "content_df[view_columns].head()"
   ]
  },
  {
   "cell_type": "markdown",
   "id": "6049d3fc",
   "metadata": {},
   "source": [
    "Creating and applying Boolean masks is a very efficient way to the filter the rows of a DataFrame. By using standard operators such as `<`, `>`, `==` and `!=` on pandas Series objects (e.g. the columns of our DataFrame), we can create a new Series of `True` and `False` values, called a mask. When this mask is applied to the original DataFrame, a new DataFrame will be returned with only the rows corresponding to where the mask had a `True` value.\n",
    "\n",
    "Let's create a mask to represent all items with public level access:"
   ]
  },
  {
   "cell_type": "code",
   "execution_count": 21,
   "id": "35346380",
   "metadata": {},
   "outputs": [
    {
     "data": {
      "text/plain": [
       "0    False\n",
       "1    False\n",
       "2    False\n",
       "3    False\n",
       "4    False\n",
       "Name: access, dtype: bool"
      ]
     },
     "execution_count": 21,
     "metadata": {},
     "output_type": "execute_result"
    }
   ],
   "source": [
    "filter_value = 'public'\n",
    "filter_column = 'access'\n",
    "row_filter = content_df[filter_column]==filter_value\n",
    "row_filter.head()"
   ]
  },
  {
   "cell_type": "markdown",
   "id": "34692d3b",
   "metadata": {},
   "source": [
    "Applying this mask to our DataFrame, we return all fields for objects which have `access=='public'`:"
   ]
  },
  {
   "cell_type": "code",
   "execution_count": 22,
   "id": "6f379225",
   "metadata": {},
   "outputs": [
    {
     "name": "stdout",
     "output_type": "stream",
     "text": [
      "715 objects in filtered DataFrame\n"
     ]
    },
    {
     "data": {
      "text/html": [
       "<div>\n",
       "<style scoped>\n",
       "    .dataframe tbody tr th:only-of-type {\n",
       "        vertical-align: middle;\n",
       "    }\n",
       "\n",
       "    .dataframe tbody tr th {\n",
       "        vertical-align: top;\n",
       "    }\n",
       "\n",
       "    .dataframe thead th {\n",
       "        text-align: right;\n",
       "    }\n",
       "</style>\n",
       "<table border=\"1\" class=\"dataframe\">\n",
       "  <thead>\n",
       "    <tr style=\"text-align: right;\">\n",
       "      <th></th>\n",
       "      <th>id</th>\n",
       "      <th>owner</th>\n",
       "      <th>created</th>\n",
       "      <th>isOrgItem</th>\n",
       "      <th>modified</th>\n",
       "      <th>guid</th>\n",
       "      <th>name</th>\n",
       "      <th>title</th>\n",
       "      <th>type</th>\n",
       "      <th>typeKeywords</th>\n",
       "      <th>...</th>\n",
       "      <th>contentOrigin</th>\n",
       "      <th>layers</th>\n",
       "      <th>tables</th>\n",
       "      <th>size</th>\n",
       "      <th>commentsEnabled</th>\n",
       "      <th>itemControl</th>\n",
       "      <th>appProxies</th>\n",
       "      <th>serviceProxyParams</th>\n",
       "      <th>contentStatus</th>\n",
       "      <th>sourceUrl</th>\n",
       "    </tr>\n",
       "  </thead>\n",
       "  <tbody>\n",
       "    <tr>\n",
       "      <th>52</th>\n",
       "      <td>6fd3252f1ad044869dd4f949ea4b20cc</td>\n",
       "      <td>your_username3</td>\n",
       "      <td>1555049137000</td>\n",
       "      <td>True</td>\n",
       "      <td>1555049257000</td>\n",
       "      <td>None</td>\n",
       "      <td>None</td>\n",
       "      <td>hu_indy_18p</td>\n",
       "      <td>Feature Service</td>\n",
       "      <td>[ArcGIS Server, Data, Feature Access, Feature ...</td>\n",
       "      <td>...</td>\n",
       "      <td>self</td>\n",
       "      <td>None</td>\n",
       "      <td>None</td>\n",
       "      <td>NaN</td>\n",
       "      <td>NaN</td>\n",
       "      <td>NaN</td>\n",
       "      <td>NaN</td>\n",
       "      <td>NaN</td>\n",
       "      <td>NaN</td>\n",
       "      <td>NaN</td>\n",
       "    </tr>\n",
       "    <tr>\n",
       "      <th>62</th>\n",
       "      <td>1d3614ec5cc24382878533f8454c24a3</td>\n",
       "      <td>your_username3</td>\n",
       "      <td>1630112960000</td>\n",
       "      <td>True</td>\n",
       "      <td>1630112990000</td>\n",
       "      <td>None</td>\n",
       "      <td>1d3614ec5cc24382878533f8454c24a3.ipynb</td>\n",
       "      <td>intro to notebooks</td>\n",
       "      <td>Notebook</td>\n",
       "      <td>[Notebook, Python]</td>\n",
       "      <td>...</td>\n",
       "      <td>self</td>\n",
       "      <td>NaN</td>\n",
       "      <td>NaN</td>\n",
       "      <td>NaN</td>\n",
       "      <td>NaN</td>\n",
       "      <td>NaN</td>\n",
       "      <td>NaN</td>\n",
       "      <td>NaN</td>\n",
       "      <td>NaN</td>\n",
       "      <td>NaN</td>\n",
       "    </tr>\n",
       "    <tr>\n",
       "      <th>65</th>\n",
       "      <td>67ec03dba0d44bb1924cd8b3aebf2db4</td>\n",
       "      <td>your_username3</td>\n",
       "      <td>1613548980000</td>\n",
       "      <td>True</td>\n",
       "      <td>1613548981000</td>\n",
       "      <td>None</td>\n",
       "      <td>KMZ_ContentType_Region_UnitedNations-3.zip</td>\n",
       "      <td>KMZ_ContentType_Region_UnitedNations-3</td>\n",
       "      <td>KML Collection</td>\n",
       "      <td>[KML Collection]</td>\n",
       "      <td>...</td>\n",
       "      <td>self</td>\n",
       "      <td>NaN</td>\n",
       "      <td>NaN</td>\n",
       "      <td>NaN</td>\n",
       "      <td>NaN</td>\n",
       "      <td>NaN</td>\n",
       "      <td>NaN</td>\n",
       "      <td>NaN</td>\n",
       "      <td>NaN</td>\n",
       "      <td>NaN</td>\n",
       "    </tr>\n",
       "    <tr>\n",
       "      <th>67</th>\n",
       "      <td>8df836df4d544067b715c296608beea4</td>\n",
       "      <td>your_username3</td>\n",
       "      <td>1591834702000</td>\n",
       "      <td>True</td>\n",
       "      <td>1591860089000</td>\n",
       "      <td>None</td>\n",
       "      <td>None</td>\n",
       "      <td>Lambda requests on a map</td>\n",
       "      <td>Web Map</td>\n",
       "      <td>[ArcGIS Online, Explorer Web Map, Map, Online ...</td>\n",
       "      <td>...</td>\n",
       "      <td>self</td>\n",
       "      <td>NaN</td>\n",
       "      <td>NaN</td>\n",
       "      <td>NaN</td>\n",
       "      <td>NaN</td>\n",
       "      <td>NaN</td>\n",
       "      <td>NaN</td>\n",
       "      <td>NaN</td>\n",
       "      <td>NaN</td>\n",
       "      <td>NaN</td>\n",
       "    </tr>\n",
       "    <tr>\n",
       "      <th>68</th>\n",
       "      <td>8443e3c2473549f0b464a6a3f295acf9</td>\n",
       "      <td>your_username3</td>\n",
       "      <td>1591655624000</td>\n",
       "      <td>True</td>\n",
       "      <td>1591655626000</td>\n",
       "      <td>None</td>\n",
       "      <td>None</td>\n",
       "      <td>lambda-credit-counter</td>\n",
       "      <td>Application</td>\n",
       "      <td>[Application, Registered App]</td>\n",
       "      <td>...</td>\n",
       "      <td>self</td>\n",
       "      <td>NaN</td>\n",
       "      <td>NaN</td>\n",
       "      <td>NaN</td>\n",
       "      <td>NaN</td>\n",
       "      <td>NaN</td>\n",
       "      <td>NaN</td>\n",
       "      <td>NaN</td>\n",
       "      <td>NaN</td>\n",
       "      <td>NaN</td>\n",
       "    </tr>\n",
       "  </tbody>\n",
       "</table>\n",
       "<p>5 rows × 52 columns</p>\n",
       "</div>"
      ],
      "text/plain": [
       "                                  id            owner        created  \\\n",
       "52  6fd3252f1ad044869dd4f949ea4b20cc  your_username3  1555049137000   \n",
       "62  1d3614ec5cc24382878533f8454c24a3  your_username3  1630112960000   \n",
       "65  67ec03dba0d44bb1924cd8b3aebf2db4  your_username3  1613548980000   \n",
       "67  8df836df4d544067b715c296608beea4  your_username3  1591834702000   \n",
       "68  8443e3c2473549f0b464a6a3f295acf9  your_username3  1591655624000   \n",
       "\n",
       "    isOrgItem       modified  guid  \\\n",
       "52       True  1555049257000  None   \n",
       "62       True  1630112990000  None   \n",
       "65       True  1613548981000  None   \n",
       "67       True  1591860089000  None   \n",
       "68       True  1591655626000  None   \n",
       "\n",
       "                                          name  \\\n",
       "52                                        None   \n",
       "62      1d3614ec5cc24382878533f8454c24a3.ipynb   \n",
       "65  KMZ_ContentType_Region_UnitedNations-3.zip   \n",
       "67                                        None   \n",
       "68                                        None   \n",
       "\n",
       "                                     title             type  \\\n",
       "52                             hu_indy_18p  Feature Service   \n",
       "62                      intro to notebooks         Notebook   \n",
       "65  KMZ_ContentType_Region_UnitedNations-3   KML Collection   \n",
       "67                Lambda requests on a map          Web Map   \n",
       "68                   lambda-credit-counter      Application   \n",
       "\n",
       "                                         typeKeywords  ... contentOrigin  \\\n",
       "52  [ArcGIS Server, Data, Feature Access, Feature ...  ...          self   \n",
       "62                                 [Notebook, Python]  ...          self   \n",
       "65                                   [KML Collection]  ...          self   \n",
       "67  [ArcGIS Online, Explorer Web Map, Map, Online ...  ...          self   \n",
       "68                      [Application, Registered App]  ...          self   \n",
       "\n",
       "   layers tables size commentsEnabled itemControl appProxies  \\\n",
       "52   None   None  NaN             NaN         NaN        NaN   \n",
       "62    NaN    NaN  NaN             NaN         NaN        NaN   \n",
       "65    NaN    NaN  NaN             NaN         NaN        NaN   \n",
       "67    NaN    NaN  NaN             NaN         NaN        NaN   \n",
       "68    NaN    NaN  NaN             NaN         NaN        NaN   \n",
       "\n",
       "   serviceProxyParams contentStatus sourceUrl  \n",
       "52                NaN           NaN       NaN  \n",
       "62                NaN           NaN       NaN  \n",
       "65                NaN           NaN       NaN  \n",
       "67                NaN           NaN       NaN  \n",
       "68                NaN           NaN       NaN  \n",
       "\n",
       "[5 rows x 52 columns]"
      ]
     },
     "execution_count": 22,
     "metadata": {},
     "output_type": "execute_result"
    }
   ],
   "source": [
    "print(len(content_df[row_filter]), 'objects in filtered DataFrame')\n",
    "content_df[row_filter].head()"
   ]
  },
  {
   "cell_type": "markdown",
   "id": "617d43a0",
   "metadata": {},
   "source": [
    "We can apply both the column filter and Boolean mask at the same time to reduce the amount of information displayed:"
   ]
  },
  {
   "cell_type": "code",
   "execution_count": 23,
   "id": "2adce609",
   "metadata": {},
   "outputs": [
    {
     "data": {
      "text/html": [
       "<div>\n",
       "<style scoped>\n",
       "    .dataframe tbody tr th:only-of-type {\n",
       "        vertical-align: middle;\n",
       "    }\n",
       "\n",
       "    .dataframe tbody tr th {\n",
       "        vertical-align: top;\n",
       "    }\n",
       "\n",
       "    .dataframe thead th {\n",
       "        text-align: right;\n",
       "    }\n",
       "</style>\n",
       "<table border=\"1\" class=\"dataframe\">\n",
       "  <thead>\n",
       "    <tr style=\"text-align: right;\">\n",
       "      <th></th>\n",
       "      <th>id</th>\n",
       "      <th>title</th>\n",
       "      <th>owner</th>\n",
       "      <th>type</th>\n",
       "      <th>access</th>\n",
       "    </tr>\n",
       "  </thead>\n",
       "  <tbody>\n",
       "    <tr>\n",
       "      <th>52</th>\n",
       "      <td>6fd3252f1ad044869dd4f949ea4b20cc</td>\n",
       "      <td>hu_indy_18p</td>\n",
       "      <td>your_username3</td>\n",
       "      <td>Feature Service</td>\n",
       "      <td>public</td>\n",
       "    </tr>\n",
       "    <tr>\n",
       "      <th>62</th>\n",
       "      <td>1d3614ec5cc24382878533f8454c24a3</td>\n",
       "      <td>intro to notebooks</td>\n",
       "      <td>your_username3</td>\n",
       "      <td>Notebook</td>\n",
       "      <td>public</td>\n",
       "    </tr>\n",
       "    <tr>\n",
       "      <th>65</th>\n",
       "      <td>67ec03dba0d44bb1924cd8b3aebf2db4</td>\n",
       "      <td>KMZ_ContentType_Region_UnitedNations-3</td>\n",
       "      <td>your_username3</td>\n",
       "      <td>KML Collection</td>\n",
       "      <td>public</td>\n",
       "    </tr>\n",
       "    <tr>\n",
       "      <th>67</th>\n",
       "      <td>8df836df4d544067b715c296608beea4</td>\n",
       "      <td>Lambda requests on a map</td>\n",
       "      <td>your_username3</td>\n",
       "      <td>Web Map</td>\n",
       "      <td>public</td>\n",
       "    </tr>\n",
       "    <tr>\n",
       "      <th>68</th>\n",
       "      <td>8443e3c2473549f0b464a6a3f295acf9</td>\n",
       "      <td>lambda-credit-counter</td>\n",
       "      <td>your_username3</td>\n",
       "      <td>Application</td>\n",
       "      <td>public</td>\n",
       "    </tr>\n",
       "  </tbody>\n",
       "</table>\n",
       "</div>"
      ],
      "text/plain": [
       "                                  id                                   title  \\\n",
       "52  6fd3252f1ad044869dd4f949ea4b20cc                             hu_indy_18p   \n",
       "62  1d3614ec5cc24382878533f8454c24a3                      intro to notebooks   \n",
       "65  67ec03dba0d44bb1924cd8b3aebf2db4  KMZ_ContentType_Region_UnitedNations-3   \n",
       "67  8df836df4d544067b715c296608beea4                Lambda requests on a map   \n",
       "68  8443e3c2473549f0b464a6a3f295acf9                   lambda-credit-counter   \n",
       "\n",
       "              owner             type  access  \n",
       "52  your_username3  Feature Service  public  \n",
       "62  your_username3         Notebook  public  \n",
       "65  your_username3   KML Collection  public  \n",
       "67  your_username3          Web Map  public  \n",
       "68  your_username3      Application  public  "
      ]
     },
     "execution_count": 23,
     "metadata": {},
     "output_type": "execute_result"
    }
   ],
   "source": [
    "content_df[row_filter][view_columns].head()"
   ]
  },
  {
   "cell_type": "markdown",
   "id": "ddb7e37a",
   "metadata": {},
   "source": [
    "Another example where we create a Boolean mask for all objects of type `\"Web Map\"`:"
   ]
  },
  {
   "cell_type": "code",
   "execution_count": 24,
   "id": "23bab230",
   "metadata": {},
   "outputs": [
    {
     "data": {
      "text/html": [
       "<div>\n",
       "<style scoped>\n",
       "    .dataframe tbody tr th:only-of-type {\n",
       "        vertical-align: middle;\n",
       "    }\n",
       "\n",
       "    .dataframe tbody tr th {\n",
       "        vertical-align: top;\n",
       "    }\n",
       "\n",
       "    .dataframe thead th {\n",
       "        text-align: right;\n",
       "    }\n",
       "</style>\n",
       "<table border=\"1\" class=\"dataframe\">\n",
       "  <thead>\n",
       "    <tr style=\"text-align: right;\">\n",
       "      <th></th>\n",
       "      <th>id</th>\n",
       "      <th>title</th>\n",
       "      <th>owner</th>\n",
       "      <th>type</th>\n",
       "      <th>access</th>\n",
       "    </tr>\n",
       "  </thead>\n",
       "  <tbody>\n",
       "    <tr>\n",
       "      <th>4</th>\n",
       "      <td>e782b8d6f10a4154ae05c5f4e8518461</td>\n",
       "      <td>Google Maps</td>\n",
       "      <td>your_username2</td>\n",
       "      <td>Web Map</td>\n",
       "      <td>private</td>\n",
       "    </tr>\n",
       "    <tr>\n",
       "      <th>54</th>\n",
       "      <td>e43a6ca6678d4288b5947bea032d5460</td>\n",
       "      <td>indy FOSS4G talk</td>\n",
       "      <td>your_username3</td>\n",
       "      <td>Web Map</td>\n",
       "      <td>private</td>\n",
       "    </tr>\n",
       "    <tr>\n",
       "      <th>67</th>\n",
       "      <td>8df836df4d544067b715c296608beea4</td>\n",
       "      <td>Lambda requests on a map</td>\n",
       "      <td>your_username3</td>\n",
       "      <td>Web Map</td>\n",
       "      <td>public</td>\n",
       "    </tr>\n",
       "    <tr>\n",
       "      <th>86</th>\n",
       "      <td>51e797954cca40d983195259c1af4cfd</td>\n",
       "      <td>python api team locations</td>\n",
       "      <td>your_username3</td>\n",
       "      <td>Web Map</td>\n",
       "      <td>private</td>\n",
       "    </tr>\n",
       "    <tr>\n",
       "      <th>100</th>\n",
       "      <td>67d4979397054a5bb33606349e15b050</td>\n",
       "      <td>US_States_geojson</td>\n",
       "      <td>your_username3</td>\n",
       "      <td>Web Map</td>\n",
       "      <td>private</td>\n",
       "    </tr>\n",
       "    <tr>\n",
       "      <th>...</th>\n",
       "      <td>...</td>\n",
       "      <td>...</td>\n",
       "      <td>...</td>\n",
       "      <td>...</td>\n",
       "      <td>...</td>\n",
       "    </tr>\n",
       "    <tr>\n",
       "      <th>5280</th>\n",
       "      <td>a7e2ec74648b40a3b901b16cfd17416c</td>\n",
       "      <td>New York Enriched Top Areas of Interest</td>\n",
       "      <td>your_username4</td>\n",
       "      <td>Web Map</td>\n",
       "      <td>private</td>\n",
       "    </tr>\n",
       "    <tr>\n",
       "      <th>5281</th>\n",
       "      <td>c84a82cb6d4346c1bdb3770194f611ad</td>\n",
       "      <td>New York Flooding Grids of Interest</td>\n",
       "      <td>your_username4</td>\n",
       "      <td>Web Map</td>\n",
       "      <td>private</td>\n",
       "    </tr>\n",
       "    <tr>\n",
       "      <th>5326</th>\n",
       "      <td>158b192643ca459695f978d500c016bd</td>\n",
       "      <td>test</td>\n",
       "      <td>pythondemo</td>\n",
       "      <td>Web Map</td>\n",
       "      <td>private</td>\n",
       "    </tr>\n",
       "    <tr>\n",
       "      <th>5329</th>\n",
       "      <td>6daf908e54e5417eb9e7929d06ecbe19</td>\n",
       "      <td>Swimming Pools</td>\n",
       "      <td>rohitgeo</td>\n",
       "      <td>Web Map</td>\n",
       "      <td>private</td>\n",
       "    </tr>\n",
       "    <tr>\n",
       "      <th>5331</th>\n",
       "      <td>ce3d58cace8a49219190c94cf0908f65</td>\n",
       "      <td>VexcelFloridaHurricane</td>\n",
       "      <td>rohitgeo</td>\n",
       "      <td>Web Map</td>\n",
       "      <td>private</td>\n",
       "    </tr>\n",
       "  </tbody>\n",
       "</table>\n",
       "<p>356 rows × 5 columns</p>\n",
       "</div>"
      ],
      "text/plain": [
       "                                    id  \\\n",
       "4     e782b8d6f10a4154ae05c5f4e8518461   \n",
       "54    e43a6ca6678d4288b5947bea032d5460   \n",
       "67    8df836df4d544067b715c296608beea4   \n",
       "86    51e797954cca40d983195259c1af4cfd   \n",
       "100   67d4979397054a5bb33606349e15b050   \n",
       "...                                ...   \n",
       "5280  a7e2ec74648b40a3b901b16cfd17416c   \n",
       "5281  c84a82cb6d4346c1bdb3770194f611ad   \n",
       "5326  158b192643ca459695f978d500c016bd   \n",
       "5329  6daf908e54e5417eb9e7929d06ecbe19   \n",
       "5331  ce3d58cace8a49219190c94cf0908f65   \n",
       "\n",
       "                                        title                  owner     type  \\\n",
       "4                                 Google Maps  your_username2  Web Map   \n",
       "54                           indy FOSS4G talk        your_username3  Web Map   \n",
       "67                   Lambda requests on a map        your_username3  Web Map   \n",
       "86                  python api team locations        your_username3  Web Map   \n",
       "100                         US_States_geojson        your_username3  Web Map   \n",
       "...                                       ...                    ...      ...   \n",
       "5280  New York Enriched Top Areas of Interest       your_username4  Web Map   \n",
       "5281      New York Flooding Grids of Interest       your_username4  Web Map   \n",
       "5326                                     test             pythondemo  Web Map   \n",
       "5329                           Swimming Pools               rohitgeo  Web Map   \n",
       "5331                   VexcelFloridaHurricane               rohitgeo  Web Map   \n",
       "\n",
       "       access  \n",
       "4     private  \n",
       "54    private  \n",
       "67     public  \n",
       "86    private  \n",
       "100   private  \n",
       "...       ...  \n",
       "5280  private  \n",
       "5281  private  \n",
       "5326  private  \n",
       "5329  private  \n",
       "5331  private  \n",
       "\n",
       "[356 rows x 5 columns]"
      ]
     },
     "execution_count": 24,
     "metadata": {},
     "output_type": "execute_result"
    }
   ],
   "source": [
    "filter_value = 'Web Map'\n",
    "filter_column = 'type'\n",
    "row_filter = content_df[filter_column]==filter_value\n",
    "content_df[row_filter][view_columns]"
   ]
  },
  {
   "cell_type": "markdown",
   "id": "9c24fea5",
   "metadata": {},
   "source": [
    "Boolean masks can also be combined to represent multiple filters. Here we combine the Web Map and Public masks to return all items in our organization which are public web maps:"
   ]
  },
  {
   "cell_type": "code",
   "execution_count": 25,
   "id": "fa23c699",
   "metadata": {},
   "outputs": [
    {
     "data": {
      "text/html": [
       "<div>\n",
       "<style scoped>\n",
       "    .dataframe tbody tr th:only-of-type {\n",
       "        vertical-align: middle;\n",
       "    }\n",
       "\n",
       "    .dataframe tbody tr th {\n",
       "        vertical-align: top;\n",
       "    }\n",
       "\n",
       "    .dataframe thead th {\n",
       "        text-align: right;\n",
       "    }\n",
       "</style>\n",
       "<table border=\"1\" class=\"dataframe\">\n",
       "  <thead>\n",
       "    <tr style=\"text-align: right;\">\n",
       "      <th></th>\n",
       "      <th>id</th>\n",
       "      <th>title</th>\n",
       "      <th>owner</th>\n",
       "      <th>type</th>\n",
       "      <th>access</th>\n",
       "    </tr>\n",
       "  </thead>\n",
       "  <tbody>\n",
       "    <tr>\n",
       "      <th>67</th>\n",
       "      <td>8df836df4d544067b715c296608beea4</td>\n",
       "      <td>Lambda requests on a map</td>\n",
       "      <td>your_username3</td>\n",
       "      <td>Web Map</td>\n",
       "      <td>public</td>\n",
       "    </tr>\n",
       "    <tr>\n",
       "      <th>102</th>\n",
       "      <td>5776d859b5a84b1b96d5c5bbfcc0d3d3</td>\n",
       "      <td>WebMap for Landfall Spotlight Article</td>\n",
       "      <td>your_username3</td>\n",
       "      <td>Web Map</td>\n",
       "      <td>public</td>\n",
       "    </tr>\n",
       "    <tr>\n",
       "      <th>260</th>\n",
       "      <td>ac02f94f0b8d42e59c74fdf9fb249a06</td>\n",
       "      <td>VectorTileFromOtherSiteLayerandBasemap</td>\n",
       "      <td>your_username4</td>\n",
       "      <td>Web Map</td>\n",
       "      <td>public</td>\n",
       "    </tr>\n",
       "    <tr>\n",
       "      <th>274</th>\n",
       "      <td>81ef30218b3f41e89019160faa4de099</td>\n",
       "      <td>Headless WebMap about Parks</td>\n",
       "      <td>your_username4</td>\n",
       "      <td>Web Map</td>\n",
       "      <td>public</td>\n",
       "    </tr>\n",
       "    <tr>\n",
       "      <th>304</th>\n",
       "      <td>54fd67f260fe413da84ed4f2d9e1dac2</td>\n",
       "      <td>National Levee Database Map</td>\n",
       "      <td>your_username4</td>\n",
       "      <td>Web Map</td>\n",
       "      <td>public</td>\n",
       "    </tr>\n",
       "    <tr>\n",
       "      <th>653</th>\n",
       "      <td>6527ca7eea2a4cad826e11f298d09500</td>\n",
       "      <td>Coastline_India</td>\n",
       "      <td>api_data_owner</td>\n",
       "      <td>Web Map</td>\n",
       "      <td>public</td>\n",
       "    </tr>\n",
       "    <tr>\n",
       "      <th>654</th>\n",
       "      <td>a3e8eda445c34e95bdef7aa75bdd8a77</td>\n",
       "      <td>Coastline_India_l8</td>\n",
       "      <td>api_data_owner</td>\n",
       "      <td>Web Map</td>\n",
       "      <td>public</td>\n",
       "    </tr>\n",
       "    <tr>\n",
       "      <th>735</th>\n",
       "      <td>7d76c6397380497f9879df74f80f0214</td>\n",
       "      <td>Brick Kilns around Jaipur 2019</td>\n",
       "      <td>api_data_owner</td>\n",
       "      <td>Web Map</td>\n",
       "      <td>public</td>\n",
       "    </tr>\n",
       "    <tr>\n",
       "      <th>736</th>\n",
       "      <td>e91b9226ef224e7da4f32cb034c8b94d</td>\n",
       "      <td>Brick Klinks around Delhi 2014</td>\n",
       "      <td>api_data_owner</td>\n",
       "      <td>Web Map</td>\n",
       "      <td>public</td>\n",
       "    </tr>\n",
       "    <tr>\n",
       "      <th>737</th>\n",
       "      <td>711b1725f6334aeca2151734b37d3c50</td>\n",
       "      <td>Brick Klinks around Delhi 2019</td>\n",
       "      <td>api_data_owner</td>\n",
       "      <td>Web Map</td>\n",
       "      <td>public</td>\n",
       "    </tr>\n",
       "    <tr>\n",
       "      <th>912</th>\n",
       "      <td>5d6fbf36108540078e6c2ad82e0e6b9e</td>\n",
       "      <td>St_peters_flood</td>\n",
       "      <td>api_data_owner</td>\n",
       "      <td>Web Map</td>\n",
       "      <td>public</td>\n",
       "    </tr>\n",
       "    <tr>\n",
       "      <th>913</th>\n",
       "      <td>cbf0546508aa4813b72f565710adb44d</td>\n",
       "      <td>St_peters_sar</td>\n",
       "      <td>api_data_owner</td>\n",
       "      <td>Web Map</td>\n",
       "      <td>public</td>\n",
       "    </tr>\n",
       "    <tr>\n",
       "      <th>928</th>\n",
       "      <td>2fecd25df8624a41b15dfc97ed4c8f98</td>\n",
       "      <td>Superresolution Inferenced Map</td>\n",
       "      <td>api_data_owner</td>\n",
       "      <td>Web Map</td>\n",
       "      <td>public</td>\n",
       "    </tr>\n",
       "    <tr>\n",
       "      <th>1017</th>\n",
       "      <td>2303b34ac97b4689bd5ff851d5982a96</td>\n",
       "      <td>USA_coastline</td>\n",
       "      <td>api_data_owner</td>\n",
       "      <td>Web Map</td>\n",
       "      <td>public</td>\n",
       "    </tr>\n",
       "    <tr>\n",
       "      <th>1345</th>\n",
       "      <td>bdd99ab49b624036a8b3fe2f0c8e58d3</td>\n",
       "      <td>omaha_flood</td>\n",
       "      <td>api_data_owner</td>\n",
       "      <td>Web Map</td>\n",
       "      <td>public</td>\n",
       "    </tr>\n",
       "    <tr>\n",
       "      <th>1346</th>\n",
       "      <td>7990fb30efd445e88c25a5af6a8618ce</td>\n",
       "      <td>omaha_sar</td>\n",
       "      <td>api_data_owner</td>\n",
       "      <td>Web Map</td>\n",
       "      <td>public</td>\n",
       "    </tr>\n",
       "    <tr>\n",
       "      <th>1450</th>\n",
       "      <td>7fe016b30663401baf415f4dd1078d36</td>\n",
       "      <td>Extracted land parcels</td>\n",
       "      <td>api_data_owner</td>\n",
       "      <td>Web Map</td>\n",
       "      <td>public</td>\n",
       "    </tr>\n",
       "    <tr>\n",
       "      <th>1573</th>\n",
       "      <td>7d4f5249de15493a9916c03e509b831c</td>\n",
       "      <td>slums_2004</td>\n",
       "      <td>api_data_owner</td>\n",
       "      <td>Web Map</td>\n",
       "      <td>public</td>\n",
       "    </tr>\n",
       "    <tr>\n",
       "      <th>1574</th>\n",
       "      <td>f3f7d8c728e74230baeed747a5322ba5</td>\n",
       "      <td>slums_2014</td>\n",
       "      <td>api_data_owner</td>\n",
       "      <td>Web Map</td>\n",
       "      <td>public</td>\n",
       "    </tr>\n",
       "    <tr>\n",
       "      <th>1736</th>\n",
       "      <td>1a76ed548cfc4e159d860ae253e5ecc3</td>\n",
       "      <td>lunar_craters_Area1</td>\n",
       "      <td>api_data_owner</td>\n",
       "      <td>Web Map</td>\n",
       "      <td>public</td>\n",
       "    </tr>\n",
       "    <tr>\n",
       "      <th>1737</th>\n",
       "      <td>2ce5ad91fab649c7982dde750cce3390</td>\n",
       "      <td>lunar_craters_Area2</td>\n",
       "      <td>api_data_owner</td>\n",
       "      <td>Web Map</td>\n",
       "      <td>public</td>\n",
       "    </tr>\n",
       "    <tr>\n",
       "      <th>2706</th>\n",
       "      <td>ebc72a274dff4315b703e5de0a894831</td>\n",
       "      <td>Location Allocation example of Pizza Stores in...</td>\n",
       "      <td>arcgis_python</td>\n",
       "      <td>Web Map</td>\n",
       "      <td>public</td>\n",
       "    </tr>\n",
       "    <tr>\n",
       "      <th>2769</th>\n",
       "      <td>e66622a75ac14fffaf2e8223025479a0</td>\n",
       "      <td>Mobiliario Madrid</td>\n",
       "      <td>arcgis_python</td>\n",
       "      <td>Web Map</td>\n",
       "      <td>public</td>\n",
       "    </tr>\n",
       "    <tr>\n",
       "      <th>3043</th>\n",
       "      <td>2e8d8f814b8240b5b02d5af479a512b4</td>\n",
       "      <td>api downloads across globe (1 month)</td>\n",
       "      <td>arcgis_python</td>\n",
       "      <td>Web Map</td>\n",
       "      <td>public</td>\n",
       "    </tr>\n",
       "    <tr>\n",
       "      <th>3477</th>\n",
       "      <td>468d38cdf620468f9ecd691d8a1c1c08</td>\n",
       "      <td>mysain</td>\n",
       "      <td>arcgis_python</td>\n",
       "      <td>Web Map</td>\n",
       "      <td>public</td>\n",
       "    </tr>\n",
       "    <tr>\n",
       "      <th>4430</th>\n",
       "      <td>c0da3fa83cd34379b49c56a33247910b</td>\n",
       "      <td>wMap5_withCharts</td>\n",
       "      <td>arcgis_python</td>\n",
       "      <td>Web Map</td>\n",
       "      <td>public</td>\n",
       "    </tr>\n",
       "    <tr>\n",
       "      <th>4510</th>\n",
       "      <td>393e05923b7c4d289d305273b30a1ea3</td>\n",
       "      <td>testing</td>\n",
       "      <td>your_username5</td>\n",
       "      <td>Web Map</td>\n",
       "      <td>public</td>\n",
       "    </tr>\n",
       "  </tbody>\n",
       "</table>\n",
       "</div>"
      ],
      "text/plain": [
       "                                    id  \\\n",
       "67    8df836df4d544067b715c296608beea4   \n",
       "102   5776d859b5a84b1b96d5c5bbfcc0d3d3   \n",
       "260   ac02f94f0b8d42e59c74fdf9fb249a06   \n",
       "274   81ef30218b3f41e89019160faa4de099   \n",
       "304   54fd67f260fe413da84ed4f2d9e1dac2   \n",
       "653   6527ca7eea2a4cad826e11f298d09500   \n",
       "654   a3e8eda445c34e95bdef7aa75bdd8a77   \n",
       "735   7d76c6397380497f9879df74f80f0214   \n",
       "736   e91b9226ef224e7da4f32cb034c8b94d   \n",
       "737   711b1725f6334aeca2151734b37d3c50   \n",
       "912   5d6fbf36108540078e6c2ad82e0e6b9e   \n",
       "913   cbf0546508aa4813b72f565710adb44d   \n",
       "928   2fecd25df8624a41b15dfc97ed4c8f98   \n",
       "1017  2303b34ac97b4689bd5ff851d5982a96   \n",
       "1345  bdd99ab49b624036a8b3fe2f0c8e58d3   \n",
       "1346  7990fb30efd445e88c25a5af6a8618ce   \n",
       "1450  7fe016b30663401baf415f4dd1078d36   \n",
       "1573  7d4f5249de15493a9916c03e509b831c   \n",
       "1574  f3f7d8c728e74230baeed747a5322ba5   \n",
       "1736  1a76ed548cfc4e159d860ae253e5ecc3   \n",
       "1737  2ce5ad91fab649c7982dde750cce3390   \n",
       "2706  ebc72a274dff4315b703e5de0a894831   \n",
       "2769  e66622a75ac14fffaf2e8223025479a0   \n",
       "3043  2e8d8f814b8240b5b02d5af479a512b4   \n",
       "3477  468d38cdf620468f9ecd691d8a1c1c08   \n",
       "4430  c0da3fa83cd34379b49c56a33247910b   \n",
       "4510  393e05923b7c4d289d305273b30a1ea3   \n",
       "\n",
       "                                                  title            owner  \\\n",
       "67                             Lambda requests on a map  your_username3   \n",
       "102               WebMap for Landfall Spotlight Article  your_username3   \n",
       "260              VectorTileFromOtherSiteLayerandBasemap         your_username4   \n",
       "274                         Headless WebMap about Parks         your_username4   \n",
       "304                         National Levee Database Map         your_username4   \n",
       "653                                     Coastline_India   api_data_owner   \n",
       "654                                  Coastline_India_l8   api_data_owner   \n",
       "735                      Brick Kilns around Jaipur 2019   api_data_owner   \n",
       "736                      Brick Klinks around Delhi 2014   api_data_owner   \n",
       "737                      Brick Klinks around Delhi 2019   api_data_owner   \n",
       "912                                     St_peters_flood   api_data_owner   \n",
       "913                                       St_peters_sar   api_data_owner   \n",
       "928                      Superresolution Inferenced Map   api_data_owner   \n",
       "1017                                      USA_coastline   api_data_owner   \n",
       "1345                                        omaha_flood   api_data_owner   \n",
       "1346                                          omaha_sar   api_data_owner   \n",
       "1450                             Extracted land parcels   api_data_owner   \n",
       "1573                                         slums_2004   api_data_owner   \n",
       "1574                                         slums_2014   api_data_owner   \n",
       "1736                                lunar_craters_Area1   api_data_owner   \n",
       "1737                                lunar_craters_Area2   api_data_owner   \n",
       "2706  Location Allocation example of Pizza Stores in...    arcgis_python   \n",
       "2769                                  Mobiliario Madrid    arcgis_python   \n",
       "3043               api downloads across globe (1 month)    arcgis_python   \n",
       "3477                                             mysain    arcgis_python   \n",
       "4430                                   wMap5_withCharts    arcgis_python   \n",
       "4510                                            testing     your_username5   \n",
       "\n",
       "         type  access  \n",
       "67    Web Map  public  \n",
       "102   Web Map  public  \n",
       "260   Web Map  public  \n",
       "274   Web Map  public  \n",
       "304   Web Map  public  \n",
       "653   Web Map  public  \n",
       "654   Web Map  public  \n",
       "735   Web Map  public  \n",
       "736   Web Map  public  \n",
       "737   Web Map  public  \n",
       "912   Web Map  public  \n",
       "913   Web Map  public  \n",
       "928   Web Map  public  \n",
       "1017  Web Map  public  \n",
       "1345  Web Map  public  \n",
       "1346  Web Map  public  \n",
       "1450  Web Map  public  \n",
       "1573  Web Map  public  \n",
       "1574  Web Map  public  \n",
       "1736  Web Map  public  \n",
       "1737  Web Map  public  \n",
       "2706  Web Map  public  \n",
       "2769  Web Map  public  \n",
       "3043  Web Map  public  \n",
       "3477  Web Map  public  \n",
       "4430  Web Map  public  \n",
       "4510  Web Map  public  "
      ]
     },
     "execution_count": 25,
     "metadata": {},
     "output_type": "execute_result"
    }
   ],
   "source": [
    "# Combining masks\n",
    "web_map_filter = content_df.type=='Web Map'\n",
    "public_filter = content_df.access=='public'\n",
    "combined_mask = web_map_filter & public_filter\n",
    "\n",
    "content_df[combined_mask][view_columns]"
   ]
  },
  {
   "cell_type": "markdown",
   "id": "5308fa14",
   "metadata": {},
   "source": [
    "The [`apply()`](https://pandas.pydata.org/docs/reference/api/pandas.Series.apply.html) method can also be used to generate masks that can't be created using the standard comparison operators. As long as the function called within the apply method has a Boolean output, then the result can be used as a mask to filter rows. Here we use a [lambda](https://www.w3schools.com/python/python_lambda.asp) function to return all items which have a type that ends with the word \"Service\"."
   ]
  },
  {
   "cell_type": "code",
   "execution_count": null,
   "id": "5629dfcc",
   "metadata": {},
   "outputs": [],
   "source": [
    "# Creating masks with .apply and lambda functions\n",
    "\n",
    "service_filter = content_df.type.apply(lambda x: x.endswith('Service'))\n",
    "content_df[service_filter][view_columns]"
   ]
  },
  {
   "cell_type": "markdown",
   "id": "f33e550b",
   "metadata": {},
   "source": [
    "### Accessing Content by ID"
   ]
  },
  {
   "cell_type": "markdown",
   "id": "913739e0",
   "metadata": {},
   "source": [
    "Once we've identified an item of interest in our DataFrame, we can return the content of that item by providing its ID to the [ContentManager](https://pandas.pydata.org/docs/reference/api/pandas.Series.apply.html) `get()` method. If we know the index of the object in the DataFrame (i.e. the leftmost value), then we can access that row's information using the `loc()` method. From there we can get the id of the item and provide it to the get method."
   ]
  },
  {
   "cell_type": "code",
   "execution_count": null,
   "id": "21e4937b",
   "metadata": {},
   "outputs": [],
   "source": [
    "# Return the index of the last item in the previous output\n",
    "# In this example the index column is labelled 'name'\n",
    "\n",
    "target_index = content_df[service_filter].iloc[-1].name\n",
    "print(\"Target index:\", target_index)"
   ]
  },
  {
   "cell_type": "code",
   "execution_count": null,
   "id": "83a64c87",
   "metadata": {},
   "outputs": [],
   "source": [
    "# Accessing items with content.get()\n",
    "target_data = content_df.loc[target_index]\n",
    "print(target_data.id)\n",
    "target_content = gis.content.get(target_data.id)\n",
    "target_content"
   ]
  },
  {
   "cell_type": "markdown",
   "id": "92be40bf",
   "metadata": {},
   "source": [
    "For more information on using item ids, see this [community post](https://community.esri.com/t5/arcgis-online-blog/where-can-i-find-the-item-id-for-an-arcgis-online/ba-p/890284)."
   ]
  },
  {
   "cell_type": "markdown",
   "id": "f22915ca",
   "metadata": {},
   "source": [
    "## Exporting Data"
   ]
  },
  {
   "cell_type": "markdown",
   "id": "b6c06029",
   "metadata": {},
   "source": [
    "Pandas provides a convenient [`to_csv()`](https://pandas.pydata.org/docs/reference/api/pandas.DataFrame.to_csv.html) method which can be used to generate zipped and unzipped csv outputs. Simply provide your target path with the appropriate file extension and call the method on the DataFrame object you would like to export."
   ]
  },
  {
   "cell_type": "code",
   "execution_count": null,
   "id": "d5fe6252",
   "metadata": {},
   "outputs": [],
   "source": [
    "# Exporting data to a csv\n",
    "target_path = \"org_content.csv\"\n",
    "content_df.to_csv(target_path)"
   ]
  },
  {
   "cell_type": "code",
   "execution_count": null,
   "id": "97730916",
   "metadata": {},
   "outputs": [],
   "source": [
    "# Exporting data to gzipped csv file\n",
    "target_path_gzip = \"org_content.csv.gz\"\n",
    "content_df.to_csv(target_path_gzip)"
   ]
  },
  {
   "cell_type": "code",
   "execution_count": null,
   "id": "81632d60",
   "metadata": {},
   "outputs": [],
   "source": [
    "# Exporting data to zipped csv file\n",
    "target_path_zip = \"org_content.csv.zip\"\n",
    "content_df.to_csv(target_path_zip)"
   ]
  },
  {
   "cell_type": "markdown",
   "id": "42468751",
   "metadata": {},
   "source": [
    "Pandas also provides additional methods for exporting the data as different file formats (e.g. [`to_json()`](https://pandas.pydata.org/docs/reference/api/pandas.DataFrame.to_json.html), [`to_pickle()`](https://pandas.pydata.org/docs/reference/api/pandas.DataFrame.to_pickle.html), [`to_excel()`](https://pandas.pydata.org/docs/reference/api/pandas.DataFrame.to_excel.html)) which behave similarly."
   ]
  }
 ],
 "metadata": {
  "kernelspec": {
   "display_name": "Python 3 (ipykernel)",
   "language": "python",
   "name": "python3"
  },
  "language_info": {
   "codemirror_mode": {
    "name": "ipython",
    "version": 3
   },
   "file_extension": ".py",
   "mimetype": "text/x-python",
   "name": "python",
   "nbconvert_exporter": "python",
   "pygments_lexer": "ipython3",
   "version": "3.7.10"
  }
 },
 "nbformat": 4,
 "nbformat_minor": 5
}
