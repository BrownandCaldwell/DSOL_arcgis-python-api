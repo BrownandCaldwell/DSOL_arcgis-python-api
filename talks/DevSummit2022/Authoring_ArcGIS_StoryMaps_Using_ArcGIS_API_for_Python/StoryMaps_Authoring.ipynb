{
 "cells": [
  {
   "cell_type": "markdown",
   "id": "5a832055",
   "metadata": {},
   "source": [
    "# Authoring a StoryMap with the Python API"
   ]
  },
  {
   "cell_type": "markdown",
   "id": "f6e9717b",
   "metadata": {},
   "source": [
    "## Import Libraries and Connect to your GIS"
   ]
  },
  {
   "cell_type": "code",
   "execution_count": 37,
   "id": "08594244",
   "metadata": {},
   "outputs": [
    {
     "data": {
      "text/html": [
       "GIS @ <a href=\"https://geosaurus.maps.arcgis.com\">https://geosaurus.maps.arcgis.com</a>"
      ],
      "text/plain": [
       "GIS @ https://geosaurus.maps.arcgis.com version:9.4"
      ]
     },
     "execution_count": 37,
     "metadata": {},
     "output_type": "execute_result"
    }
   ],
   "source": [
    "from arcgis.gis import GIS\n",
    "from arcgis.apps.storymap import StoryMap, Image, Text, Button, Map, Themes\n",
    "\n",
    "gis = GIS(profile=\"your_online_profile\")\n",
    "gis"
   ]
  },
  {
   "cell_type": "markdown",
   "id": "899a0f3a",
   "metadata": {},
   "source": [
    "##### The content folder that holds the media we will be using"
   ]
  },
  {
   "cell_type": "code",
   "execution_count": 38,
   "id": "732a3266",
   "metadata": {},
   "outputs": [],
   "source": [
    "content = \"C:\\ipython_workfolder\\Content\""
   ]
  },
  {
   "cell_type": "markdown",
   "id": "02c44225",
   "metadata": {},
   "source": [
    "## Create a New Story Map"
   ]
  },
  {
   "cell_type": "code",
   "execution_count": 39,
   "id": "d1041fdd",
   "metadata": {},
   "outputs": [
    {
     "data": {
      "text/html": [
       "<div class=\"item_container\" style=\"height: auto; overflow: hidden; border: 1px solid #cfcfcf; border-radius: 2px; background: #f6fafa; line-height: 1.21429em; padding: 10px;\">\n",
       "                    <div class=\"item_left\" style=\"width: 210px; float: left;\">\n",
       "                       <a href='https://geosaurus.maps.arcgis.com/home/item.html?id=934f20fef99a45609c9871ae5026c3b7' target='_blank'>\n",
       "                        <img src='http://static.arcgis.com/images/desktopapp.png' class=\"itemThumbnail\">\n",
       "                       </a>\n",
       "                    </div>\n",
       "\n",
       "                    <div class=\"item_right\"     style=\"float: none; width: auto; overflow: hidden;\">\n",
       "                        <a href='https://geosaurus.maps.arcgis.com/home/item.html?id=934f20fef99a45609c9871ae5026c3b7' target='_blank'><b>StoryMap via Python b17f30e4a4</b>\n",
       "                        </a>\n",
       "                        <br/><img src='https://geosaurus.maps.arcgis.com/home/js/jsapi/esri/css/images/item_type_icons/layers16.png' style=\"vertical-align:middle;\">StoryMap by naubry_geosaurus\n",
       "                        <br/>Last Modified: March 11, 2022\n",
       "                        <br/>0 comments, 0 views\n",
       "                    </div>\n",
       "                </div>\n",
       "                "
      ],
      "text/plain": [
       "{\"root\": \"n-852b4b\", \"nodes\": {\"n-aTn8ak\": {\"type\": \"storycover\", \"data\": {\"type\": \"minimal\", \"title\": \"\", \"summary\": \"\", \"byline\": \"naubry_geosaurus\", \"titlePanelPosition\": \"start\"}}, \"n-1AItUD\": {\"type\": \"navigation\", \"data\": {\"links\": []}, \"config\": {\"isHidden\": true}}, \"n-cOeTah\": {\"type\": \"credits\"}, \"n-852b4b\": {\"type\": \"story\", \"data\": {\"storyTheme\": \"r-vlc4Kp\"}, \"config\": {\"coverDate\": \"first-published\", \"storyLocale\": \"en-US\"}, \"children\": [\"n-aTn8ak\", \"n-1AItUD\", \"n-cOeTah\"]}}, \"resources\": {\"r-vlc4Kp\": {\"type\": \"story-theme\", \"data\": {\"themeId\": \"summit\", \"themeBaseVariableOverrides\": {}}}}}"
      ]
     },
     "execution_count": 39,
     "metadata": {},
     "output_type": "execute_result"
    }
   ],
   "source": [
    "story = StoryMap()\n",
    "story"
   ]
  },
  {
   "cell_type": "markdown",
   "id": "cf3e451c",
   "metadata": {},
   "source": [
    "## Understanding Nodes\n",
    "\n",
    "Every story is comprised of nodes. These nodes depict the elements in the story and it is by accessing these nodes that we will edit our story.  \n",
    "When you create new content, a unique node_id is assigned to the content.\n",
    "  \n",
    "  \n",
    "When a new story is created in the Python API there will always be three nodes: Storycover, navigation, and credits."
   ]
  },
  {
   "cell_type": "code",
   "execution_count": 40,
   "id": "3bb4bfc9",
   "metadata": {},
   "outputs": [
    {
     "data": {
      "text/plain": [
       "[{'n-aTn8ak': 'storycover'},\n",
       " {'n-1AItUD': 'navigation'},\n",
       " {'n-cOeTah': 'credits'}]"
      ]
     },
     "execution_count": 40,
     "metadata": {},
     "output_type": "execute_result"
    }
   ],
   "source": [
    "story.nodes"
   ]
  },
  {
   "cell_type": "markdown",
   "id": "6b03dfcb",
   "metadata": {},
   "source": [
    "## Editing Storycover"
   ]
  },
  {
   "cell_type": "code",
   "execution_count": 41,
   "id": "ce8bd5f0",
   "metadata": {},
   "outputs": [],
   "source": [
    "story_cover=Image(content+\"\\hike.jpg\")"
   ]
  },
  {
   "cell_type": "code",
   "execution_count": 42,
   "id": "5a61423e",
   "metadata": {},
   "outputs": [
    {
     "data": {
      "text/plain": [
       "{'type': 'storycover',\n",
       " 'data': {'type': 'minimal',\n",
       "  'title': 'My DevSummit Story',\n",
       "  'summary': 'This storymap is created to show basic functionalities at DevSummit 2022',\n",
       "  'byline': 'Python API Team',\n",
       "  'titlePanelPosition': 'start'},\n",
       " 'children': ['n-fc4e11']}"
      ]
     },
     "execution_count": 42,
     "metadata": {},
     "output_type": "execute_result"
    }
   ],
   "source": [
    "story.cover(title=\"My DevSummit Story\", summary=\"This storymap is created to show basic functionalities at DevSummit 2022\", by_line=\"Python API Team\", image=story_cover)"
   ]
  },
  {
   "cell_type": "markdown",
   "id": "cd6ee069",
   "metadata": {},
   "source": [
    "## Setting a Theme\n",
    "\n",
    "My story has great content, but a theme will make everything more appealing. \n",
    "\n",
    "Themes can be found in the Themes Class or you can use a custom theme."
   ]
  },
  {
   "cell_type": "code",
   "execution_count": 44,
   "id": "6240e850",
   "metadata": {},
   "outputs": [
    {
     "data": {
      "text/plain": [
       "['summit', 'obsidian', 'ridgeline', 'mesa', 'tidal', 'slate']"
      ]
     },
     "execution_count": 44,
     "metadata": {},
     "output_type": "execute_result"
    }
   ],
   "source": [
    "[theme.value for theme in Themes]"
   ]
  },
  {
   "cell_type": "code",
   "execution_count": 45,
   "id": "77fb0baa",
   "metadata": {},
   "outputs": [
    {
     "data": {
      "text/html": [
       "<div class=\"item_container\" style=\"height: auto; overflow: hidden; border: 1px solid #cfcfcf; border-radius: 2px; background: #f6fafa; line-height: 1.21429em; padding: 10px;\">\n",
       "                    <div class=\"item_left\" style=\"width: 210px; float: left;\">\n",
       "                       <a href='https://geosaurus.maps.arcgis.com/home/item.html?id=f127470d6eee4d668adf5361a570f532' target='_blank'>\n",
       "                        <img src='data:image/png;base64,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' width='200' height='133' class=\"itemThumbnail\">\n",
       "                       </a>\n",
       "                    </div>\n",
       "\n",
       "                    <div class=\"item_right\"     style=\"float: none; width: auto; overflow: hidden;\">\n",
       "                        <a href='https://geosaurus.maps.arcgis.com/home/item.html?id=f127470d6eee4d668adf5361a570f532' target='_blank'><b>DevSummit Theme</b>\n",
       "                        </a>\n",
       "                        <br/><img src='https://geosaurus.maps.arcgis.com/home/js/jsapi/esri/css/images/item_type_icons/layers16.png' style=\"vertical-align:middle;\">StoryMap Theme by naubry_geosaurus\n",
       "                        <br/>Last Modified: February 04, 2022\n",
       "                        <br/>0 comments, 2 views\n",
       "                    </div>\n",
       "                </div>\n",
       "                "
      ],
      "text/plain": [
       "<Item title:\"DevSummit Theme\" type:StoryMap Theme owner:naubry_geosaurus>"
      ]
     },
     "execution_count": 45,
     "metadata": {},
     "output_type": "execute_result"
    }
   ],
   "source": [
    "my_theme = gis.content.search(\"DevSummit Theme\")[0]\n",
    "my_theme"
   ]
  },
  {
   "cell_type": "code",
   "execution_count": 46,
   "id": "dbfb11bf",
   "metadata": {},
   "outputs": [],
   "source": [
    "story.theme(theme=my_theme.id)"
   ]
  },
  {
   "cell_type": "code",
   "execution_count": 47,
   "id": "9fee0814",
   "metadata": {},
   "outputs": [
    {
     "data": {
      "text/html": [
       "<div class=\"item_container\" style=\"height: auto; overflow: hidden; border: 1px solid #cfcfcf; border-radius: 2px; background: #f6fafa; line-height: 1.21429em; padding: 10px;\">\n",
       "                    <div class=\"item_left\" style=\"width: 210px; float: left;\">\n",
       "                       <a href='https://geosaurus.maps.arcgis.com/home/item.html?id=934f20fef99a45609c9871ae5026c3b7' target='_blank'>\n",
       "                        <img src='http://static.arcgis.com/images/desktopapp.png' class=\"itemThumbnail\">\n",
       "                       </a>\n",
       "                    </div>\n",
       "\n",
       "                    <div class=\"item_right\"     style=\"float: none; width: auto; overflow: hidden;\">\n",
       "                        <a href='https://geosaurus.maps.arcgis.com/home/item.html?id=934f20fef99a45609c9871ae5026c3b7' target='_blank'><b>My DevSummit Story</b>\n",
       "                        </a>\n",
       "                        <br/><img src='https://geosaurus.maps.arcgis.com/home/js/jsapi/esri/css/images/item_type_icons/layers16.png' style=\"vertical-align:middle;\">StoryMap by naubry_geosaurus\n",
       "                        <br/>Last Modified: March 11, 2022\n",
       "                        <br/>0 comments, 0 views\n",
       "                    </div>\n",
       "                </div>\n",
       "                "
      ],
      "text/plain": [
       "<Item title:\"My DevSummit Story\" type:StoryMap owner:naubry_geosaurus>"
      ]
     },
     "execution_count": 47,
     "metadata": {},
     "output_type": "execute_result"
    }
   ],
   "source": [
    "story.save(\"My DevSummit Story\")"
   ]
  },
  {
   "cell_type": "markdown",
   "id": "0a9de63a",
   "metadata": {},
   "source": [
    "## Adding Content"
   ]
  },
  {
   "cell_type": "markdown",
   "id": "7cc580a5",
   "metadata": {},
   "source": [
    "A storymap holds different types of content, the ones supported by the Python API are:\n",
    "* Image\n",
    "* Video\n",
    "* Audio\n",
    "* Embed\n",
    "* WebMap\n",
    "* Text\n",
    "* Button\n",
    "* Gallery\n",
    "* Timeline\n",
    "* Swipe\n",
    "* Sidecar"
   ]
  },
  {
   "cell_type": "markdown",
   "id": "c8a8beae",
   "metadata": {},
   "source": [
    "### Adding an Image and looking at the properties\n",
    "\n",
    "To add an image to a story we first start by creating an instance of the Image class with either the image path or a url.  \n",
    "When we add the image to the story, what is returned is the image's node_id for the story."
   ]
  },
  {
   "cell_type": "code",
   "execution_count": 48,
   "id": "5578eeae",
   "metadata": {},
   "outputs": [],
   "source": [
    "img = Image(content+\"\\water.jpg\")"
   ]
  },
  {
   "cell_type": "code",
   "execution_count": 49,
   "id": "8c9ff89a",
   "metadata": {},
   "outputs": [],
   "source": [
    "# Nothing is returned because it does not yet belong to a story\n",
    "img.properties"
   ]
  },
  {
   "cell_type": "code",
   "execution_count": 50,
   "id": "28f9dccc",
   "metadata": {},
   "outputs": [
    {
     "data": {
      "text/plain": [
       "'n-03b53e'"
      ]
     },
     "execution_count": 50,
     "metadata": {},
     "output_type": "execute_result"
    }
   ],
   "source": [
    "img_node = story.add(img, caption=\"My first image\")\n",
    "img_node"
   ]
  },
  {
   "cell_type": "code",
   "execution_count": 51,
   "id": "7b1f0238",
   "metadata": {},
   "outputs": [
    {
     "data": {
      "text/plain": [
       "[{'n-aTn8ak': 'storycover'},\n",
       " {'n-1AItUD': 'navigation'},\n",
       " {'n-03b53e': <arcgis.apps.storymap.story_content.Image at 0x1da3e6cccc8>},\n",
       " {'n-cOeTah': 'credits'}]"
      ]
     },
     "execution_count": 51,
     "metadata": {},
     "output_type": "execute_result"
    }
   ],
   "source": [
    "story.nodes"
   ]
  },
  {
   "cell_type": "markdown",
   "id": "6f9befce",
   "metadata": {},
   "source": [
    "### The get method\n",
    "\n",
    "We can manipulate the `img` now and continue working with it OR if you need to grab it again then use the get method with the node_id"
   ]
  },
  {
   "cell_type": "code",
   "execution_count": 52,
   "id": "f9ff1718",
   "metadata": {},
   "outputs": [
    {
     "data": {
      "text/plain": [
       "<arcgis.apps.storymap.story_content.Image at 0x1da3e6cce08>"
      ]
     },
     "execution_count": 52,
     "metadata": {},
     "output_type": "execute_result"
    }
   ],
   "source": [
    "my_image = story.get(img_node)\n",
    "my_image"
   ]
  },
  {
   "cell_type": "code",
   "execution_count": 59,
   "id": "7e1bc2ef",
   "metadata": {},
   "outputs": [
    {
     "data": {
      "text/plain": [
       "{'node_dict': {'type': 'image',\n",
       "  'data': {'image': 'r-820659',\n",
       "   'caption': 'A dog with beautiful eyes',\n",
       "   'alt': ''},\n",
       "  'config': {'size': ''}},\n",
       " 'resource_dict': {'type': 'image',\n",
       "  'data': {'resourceId': 'pup.jpg',\n",
       "   'provider': 'item-resource',\n",
       "   'height': 2400,\n",
       "   'width': 3604}}}"
      ]
     },
     "execution_count": 59,
     "metadata": {},
     "output_type": "execute_result"
    }
   ],
   "source": [
    "my_image.properties"
   ]
  },
  {
   "cell_type": "markdown",
   "id": "27255092",
   "metadata": {},
   "source": [
    "### Edit an existing image\n",
    "\n",
    "Now that the image exists in this story, we can edit using some properties."
   ]
  },
  {
   "cell_type": "code",
   "execution_count": 54,
   "id": "446ad538",
   "metadata": {},
   "outputs": [
    {
     "data": {
      "text/plain": [
       "'water.jpg'"
      ]
     },
     "execution_count": 54,
     "metadata": {},
     "output_type": "execute_result"
    }
   ],
   "source": [
    "my_image.image"
   ]
  },
  {
   "cell_type": "code",
   "execution_count": 55,
   "id": "3d0dd214",
   "metadata": {},
   "outputs": [],
   "source": [
    "my_image.image = content+\"\\pup.jpg\""
   ]
  },
  {
   "cell_type": "code",
   "execution_count": 56,
   "id": "1614e094",
   "metadata": {},
   "outputs": [
    {
     "data": {
      "text/plain": [
       "'pup.jpg'"
      ]
     },
     "execution_count": 56,
     "metadata": {},
     "output_type": "execute_result"
    }
   ],
   "source": [
    "my_image.image"
   ]
  },
  {
   "cell_type": "code",
   "execution_count": 58,
   "id": "06956e29",
   "metadata": {},
   "outputs": [],
   "source": [
    "my_image.caption = \"A dog with beautiful eyes\""
   ]
  },
  {
   "cell_type": "markdown",
   "id": "b0860f88",
   "metadata": {},
   "source": [
    "### Adding a Map\n",
    "\n",
    "Begin by creating an instance of the Map class that is found inside Story Content.  \n",
    "This Map instance can be created from a WebMap item or by simply taking the WebMap item id."
   ]
  },
  {
   "cell_type": "code",
   "execution_count": 60,
   "id": "3e91e9e6",
   "metadata": {},
   "outputs": [],
   "source": [
    "infomap = Map(\"01fa55f171eb48a7ac9c460c0339e6c1\")"
   ]
  },
  {
   "cell_type": "code",
   "execution_count": 61,
   "id": "2be9859e",
   "metadata": {},
   "outputs": [
    {
     "data": {
      "text/plain": [
       "'n-3b4ecb'"
      ]
     },
     "execution_count": 61,
     "metadata": {},
     "output_type": "execute_result"
    }
   ],
   "source": [
    "story.add(infomap)"
   ]
  },
  {
   "cell_type": "markdown",
   "id": "8f66548b",
   "metadata": {},
   "source": [
    "### View the properties"
   ]
  },
  {
   "cell_type": "code",
   "execution_count": 62,
   "id": "5454ea16",
   "metadata": {
    "scrolled": true
   },
   "outputs": [
    {
     "data": {
      "text/plain": [
       "{'node_dict': {'type': 'webmap',\n",
       "  'data': {'map': 'r-01fa55f171eb48a7ac9c460c0339e6c1',\n",
       "   'caption': '',\n",
       "   'alt': '',\n",
       "   'extent': {'xmin': -180, 'ymin': -82.5861, 'xmax': 180, 'ymax': 88.0753},\n",
       "   'center': {},\n",
       "   'zoom': 2,\n",
       "   'viewpoint': {}},\n",
       "  'config': {'size': None}},\n",
       " 'resource_dict': {'type': 'webmap',\n",
       "  'data': {'extent': {'xmin': -180,\n",
       "    'ymin': -82.5861,\n",
       "    'xmax': 180,\n",
       "    'ymax': 88.0753},\n",
       "   'center': {},\n",
       "   'zoom': 2,\n",
       "   'mapLayers': [{'id': 'GLDAS_Precipitation_3165',\n",
       "     'title': 'GLDAS Precipitation 2000 - Present',\n",
       "     'visible': True}],\n",
       "   'viewpoint': {},\n",
       "   'itemId': '01fa55f171eb48a7ac9c460c0339e6c1',\n",
       "   'itemType': 'Web Map',\n",
       "   'type': 'default'}}}"
      ]
     },
     "execution_count": 62,
     "metadata": {},
     "output_type": "execute_result"
    }
   ],
   "source": [
    "infomap.properties"
   ]
  },
  {
   "cell_type": "code",
   "execution_count": 63,
   "id": "961967b4",
   "metadata": {},
   "outputs": [
    {
     "data": {
      "text/html": [
       "<div class=\"item_container\" style=\"height: auto; overflow: hidden; border: 1px solid #cfcfcf; border-radius: 2px; background: #f6fafa; line-height: 1.21429em; padding: 10px;\">\n",
       "                    <div class=\"item_left\" style=\"width: 210px; float: left;\">\n",
       "                       <a href='https://geosaurus.maps.arcgis.com/home/item.html?id=01fa55f171eb48a7ac9c460c0339e6c1' target='_blank'>\n",
       "                        <img src='data:image/png;base64,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' width='200' height='133' class=\"itemThumbnail\">\n",
       "                       </a>\n",
       "                    </div>\n",
       "\n",
       "                    <div class=\"item_right\"     style=\"float: none; width: auto; overflow: hidden;\">\n",
       "                        <a href='https://geosaurus.maps.arcgis.com/home/item.html?id=01fa55f171eb48a7ac9c460c0339e6c1' target='_blank'><b>Monthly Precipitation</b>\n",
       "                        </a>\n",
       "                        <br/>Total monthly precipitation modeled globally by NASA<img src='https://geosaurus.maps.arcgis.com/home/js/jsapi/esri/css/images/item_type_icons/maps16.png' style=\"vertical-align:middle;\">Web Map by esri_observations\n",
       "                        <br/>Last Modified: November 20, 2019\n",
       "                        <br/>0 comments, 11606 views\n",
       "                    </div>\n",
       "                </div>\n",
       "                "
      ],
      "text/plain": [
       "<Item title:\"Monthly Precipitation\" type:Web Map owner:esri_observations>"
      ]
     },
     "execution_count": 63,
     "metadata": {},
     "output_type": "execute_result"
    }
   ],
   "source": [
    "infomap.map"
   ]
  },
  {
   "cell_type": "code",
   "execution_count": 64,
   "id": "41b6525b",
   "metadata": {},
   "outputs": [
    {
     "data": {
      "text/html": [
       "<div class=\"item_container\" style=\"height: auto; overflow: hidden; border: 1px solid #cfcfcf; border-radius: 2px; background: #f6fafa; line-height: 1.21429em; padding: 10px;\">\n",
       "                    <div class=\"item_left\" style=\"width: 210px; float: left;\">\n",
       "                       <a href='https://geosaurus.maps.arcgis.com/home/item.html?id=934f20fef99a45609c9871ae5026c3b7' target='_blank'>\n",
       "                        <img src='http://static.arcgis.com/images/desktopapp.png' class=\"itemThumbnail\">\n",
       "                       </a>\n",
       "                    </div>\n",
       "\n",
       "                    <div class=\"item_right\"     style=\"float: none; width: auto; overflow: hidden;\">\n",
       "                        <a href='https://geosaurus.maps.arcgis.com/home/item.html?id=934f20fef99a45609c9871ae5026c3b7' target='_blank'><b>My DevSummit Story</b>\n",
       "                        </a>\n",
       "                        <br/><img src='https://geosaurus.maps.arcgis.com/home/js/jsapi/esri/css/images/item_type_icons/layers16.png' style=\"vertical-align:middle;\">StoryMap by naubry_geosaurus\n",
       "                        <br/>Last Modified: March 11, 2022\n",
       "                        <br/>0 comments, 0 views\n",
       "                    </div>\n",
       "                </div>\n",
       "                "
      ],
      "text/plain": [
       "<Item title:\"My DevSummit Story\" type:StoryMap owner:naubry_geosaurus>"
      ]
     },
     "execution_count": 64,
     "metadata": {},
     "output_type": "execute_result"
    }
   ],
   "source": [
    "story.save()"
   ]
  },
  {
   "cell_type": "markdown",
   "id": "7c0f2b67",
   "metadata": {},
   "source": [
    "  "
   ]
  },
  {
   "cell_type": "markdown",
   "id": "efa65eeb",
   "metadata": {},
   "source": [
    "  "
   ]
  }
 ],
 "metadata": {
  "kernelspec": {
   "display_name": "Python 3",
   "language": "python",
   "name": "python3"
  },
  "language_info": {
   "codemirror_mode": {
    "name": "ipython",
    "version": 3
   },
   "file_extension": ".py",
   "mimetype": "text/x-python",
   "name": "python",
   "nbconvert_exporter": "python",
   "pygments_lexer": "ipython3",
   "version": "3.7.11"
  }
 },
 "nbformat": 4,
 "nbformat_minor": 5
}
