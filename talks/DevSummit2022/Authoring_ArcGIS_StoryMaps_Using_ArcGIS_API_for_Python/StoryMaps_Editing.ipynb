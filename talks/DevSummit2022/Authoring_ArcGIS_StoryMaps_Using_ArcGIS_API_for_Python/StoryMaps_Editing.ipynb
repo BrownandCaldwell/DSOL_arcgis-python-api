{
 "cells": [
  {
   "cell_type": "markdown",
   "id": "53c51efa",
   "metadata": {},
   "source": [
    "# Editing an Existing StoryMap"
   ]
  },
  {
   "cell_type": "markdown",
   "id": "9e3deef1",
   "metadata": {},
   "source": [
    "## Import libraries and connect to your GIS"
   ]
  },
  {
   "cell_type": "code",
   "execution_count": 1,
   "id": "4a9658ee",
   "metadata": {},
   "outputs": [
    {
     "data": {
      "text/html": [
       "GIS @ <a href=\"https://UrbanObservatory.maps.arcgis.com\">https://UrbanObservatory.maps.arcgis.com</a>"
      ],
      "text/plain": [
       "GIS @ https://UrbanObservatory.maps.arcgis.com version:9.4"
      ]
     },
     "execution_count": 1,
     "metadata": {},
     "output_type": "execute_result"
    }
   ],
   "source": [
    "from arcgis.gis import GIS\n",
    "from arcgis.apps.storymap import Image, StoryMap\n",
    "from arcgis.mapping import WebMap\n",
    "import pandas as pd\n",
    "\n",
    "gis = GIS(profile=\"your_uo_profile\")\n",
    "gis"
   ]
  },
  {
   "cell_type": "markdown",
   "id": "06935896",
   "metadata": {},
   "source": [
    "## Create StoryMap Object from existing StoryMap Item"
   ]
  },
  {
   "cell_type": "code",
   "execution_count": 4,
   "id": "2e2755c2",
   "metadata": {},
   "outputs": [
    {
     "data": {
      "text/html": [
       "<div class=\"item_container\" style=\"height: auto; overflow: hidden; border: 1px solid #cfcfcf; border-radius: 2px; background: #f6fafa; line-height: 1.21429em; padding: 10px;\">\n",
       "                    <div class=\"item_left\" style=\"width: 210px; float: left;\">\n",
       "                       <a href='https://UrbanObservatory.maps.arcgis.com/home/item.html?id=9931e103ad89402293946f7afa64976f' target='_blank'>\n",
       "                        <img src='data:image/png;base64,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' width='200' height='133' class=\"itemThumbnail\">\n",
       "                       </a>\n",
       "                    </div>\n",
       "\n",
       "                    <div class=\"item_right\"     style=\"float: none; width: auto; overflow: hidden;\">\n",
       "                        <a href='https://UrbanObservatory.maps.arcgis.com/home/item.html?id=9931e103ad89402293946f7afa64976f' target='_blank'><b>(Copy) Policy Story Map Demo</b>\n",
       "                        </a>\n",
       "                        <br/>New and Notable Maps and Apps in Living Atlas<img src='https://UrbanObservatory.maps.arcgis.com/home/js/jsapi/esri/css/images/item_type_icons/layers16.png' style=\"vertical-align:middle;\">StoryMap by naubry_UO\n",
       "                        <br/>Last Modified: February 23, 2022\n",
       "                        <br/>0 comments, 0 views\n",
       "                    </div>\n",
       "                </div>\n",
       "                "
      ],
      "text/plain": [
       "{\"root\": \"n-ukw2YV\", \"nodes\": {\"n-N2NYIy\": {\"type\": \"image\", \"data\": {\"image\": \"r-UqLUFW\"}}, \"n-2wKoaq\": {\"type\": \"storycover\", \"data\": {\"type\": \"full\", \"title\": \"(Copy) Policy Story Map Demo\", \"summary\": \"New and Notable Maps and Apps in Living Atlas\", \"byline\": \"\", \"titlePanelPosition\": \"start\"}, \"children\": [\"n-N2NYIy\"]}, \"n-5OHUDB\": {\"type\": \"navigation\", \"data\": {\"links\": [{\"nodeId\": \"n-q9F82g\", \"linkType\": \"story-heading\"}, {\"nodeId\": \"n-lHhChn\", \"linkType\": \"story-heading\"}, {\"nodeId\": \"n-YugmDY\", \"isHidden\": true, \"linkType\": \"sidecar-heading\"}, {\"nodeId\": \"n-T6yjDH\", \"isHidden\": true, \"linkType\": \"sidecar-heading\"}, {\"nodeId\": \"n-Tlrye1\", \"isHidden\": true, \"linkType\": \"sidecar-heading\"}, {\"nodeId\": \"n-9SKCjp\", \"isHidden\": true, \"linkType\": \"sidecar-heading\"}, {\"nodeId\": \"n-terTYR\", \"isHidden\": true, \"linkType\": \"sidecar-heading\"}, {\"nodeId\": \"n-io0FOt\", \"linkType\": \"story-heading\"}, {\"nodeId\": \"n-ioeO3W\", \"linkType\": \"story-heading\"}, {\"nodeId\": \"n-BvbbFW\", \"linkType\": \"story-heading\"}]}, \"config\": {\"isHidden\": false}}, \"n-rxhTuC\": {\"type\": \"text\", \"data\": {\"text\": \"Policy Maps clearly show where there are opportunities to intervene. They answer questions and encourage better questions to be asked about current and proposed policies. Every Esri user has free access to thousands of policy maps to jump start their thinking and accelerate their projects. \", \"type\": \"paragraph\"}}, \"n-QWGklK\": {\"type\": \"text\", \"data\": {\"text\": \"As part of ArcGIS Living Atlas, the Policy Mapping team <strong>creates</strong> information products that help inform policy making and <strong><span>delivers</span></strong> them to ArcGIS Living Atlas. We <strong><span>document</span></strong> our methods in blogs and story maps and <strong><span>demonstrate</span></strong> these methods to policy makers and GIS users. We are successful when policy makers <strong><span>begin to expect a geographic approach</span></strong> from their GIS teams, and GIS people <strong><span>adopt these methods</span></strong> in their thinking and work. We <strong><span>work with users </span></strong>to bring their layers, maps and apps into Living Atlas.\", \"type\": \"paragraph\"}}, \"n-V8j1tx\": {\"type\": \"separator\"}, \"n-q9F82g\": {\"type\": \"text\", \"data\": {\"type\": \"h2\", \"text\": \"Maps\"}}, \"n-GfNL3o\": {\"type\": \"text\", \"data\": {\"type\": \"paragraph\", \"text\": \"These new maps in Living Atlas are available to all ArcGIS users and are suitable for use in apps,  dashboards and stories about the communities included.\"}}, \"n-V2YCtD\": {\"type\": \"text\", \"data\": {\"type\": \"large-paragraph\", \"text\": \"Predominant Median Earnings for All Occupations\"}, \"config\": {\"size\": \"wide\"}}, \"n-qz3GoV\": {\"type\": \"text\", \"data\": {\"type\": \"paragraph\", \"text\": \"This map shows the predominant median earnings for five major occupation groups: Management, Business, Science, and Arts Occupations, Service Occupations, Sales and Office Occupations, Natural Resources, Construction, and Maintenance Occupations, Production, Transportation, and Material Moving Occupations. Data is available from state, county, and tract.\"}, \"config\": {\"size\": \"wide\"}}, \"n-W4jLTa\": {\"type\": \"embed\", \"data\": {\"url\": \"https://www.arcgis.com/home/item.html?id=ebdeafdd92bf4c06bd9eb0d2c41dac0b\", \"embedType\": \"link\", \"title\": \"Predominant Median Earnings for All Occupations\", \"description\": \"This map shows the predominant median earnings for five major occupation groups: Management, Business, Science, and Arts Occupations, Service Occupations, Sales and Office Occupations, Natural Resources, Construction, and Maintenance Occupations, Production, Transportation, and Material Moving Occupations. Data is available from state, county, and tract.\", \"thumbnailUrl\": \"https://www.arcgis.com/sharing/rest/content/items/ebdeafdd92bf4c06bd9eb0d2c41dac0b/info/thumbnail/thumbnail1637793682806.png/\", \"providerUrl\": \"https://www.arcgis.com\", \"caption\": \"Predominant Median Earnings for All Occupations\", \"display\": \"card\", \"embedSrc\": \"https://www.arcgis.com/home/item.html?id=ebdeafdd92bf4c06bd9eb0d2c41dac0b\"}, \"config\": {\"size\": \"wide\"}}, \"n-PP4K7P\": {\"type\": \"immersive-narrative-panel\", \"data\": {\"position\": \"start\", \"size\": \"small\", \"panelStyle\": \"themed\"}, \"children\": [\"n-V2YCtD\", \"n-qz3GoV\", \"n-W4jLTa\"]}, \"n-MpwP1C\": {\"type\": \"webmap\", \"data\": {\"caption\": \"Predominant Median Earnings for All Occupations\", \"map\": \"r-ebdeafdd92bf4c06bd9eb0d2c41dac0b\", \"isShowingLegend\": true, \"legendPinned\": true, \"search\": true}}, \"n-EFvbnA\": {\"type\": \"immersive-slide\", \"data\": {\"transition\": \"fade\"}, \"children\": [\"n-PP4K7P\", \"n-MpwP1C\"]}, \"n-lH38xi\": {\"type\": \"text\", \"data\": {\"text\": \"Predominant Median Earnings of All Service Occupations\", \"type\": \"large-paragraph\"}, \"config\": {\"size\": \"wide\"}}, \"n-cP8uOF\": {\"type\": \"text\", \"data\": {\"text\": \"This map shows the predominant median earnings for all service occupations: healthcare support, protective service, food preparation/serving, building/grounds/maintenance occupation, and personal care services. Data is available from state, county and tract.\", \"type\": \"paragraph\"}, \"config\": {\"size\": \"wide\"}}, \"n-KNQ4Jl\": {\"type\": \"embed\", \"data\": {\"url\": \"https://www.arcgis.com/home/item.html?id=54be92c07907428d93275a4004f3c463\", \"embedType\": \"link\", \"title\": \"Predominant Median Earnings of All Service Occupations\", \"description\": \"This map shows the predominant median earnings for all service occupations: healthcare support, protective service, food preparation/serving, building/grounds/maintenance occupation, and personal care services. Data is available from state, county and tract.\", \"thumbnailUrl\": \"https://www.arcgis.com/sharing/rest/content/items/54be92c07907428d93275a4004f3c463/info/thumbnail/thumbnail1637784285790.png/\", \"providerUrl\": \"https://www.arcgis.com\", \"caption\": \"Predominant Median Earnings of All Service Occupations\", \"display\": \"card\", \"embedSrc\": \"https://www.arcgis.com/home/item.html?id=54be92c07907428d93275a4004f3c463\"}, \"config\": {\"size\": \"wide\"}}, \"n-7K2KZf\": {\"type\": \"immersive-narrative-panel\", \"data\": {\"position\": \"start\", \"size\": \"small\", \"panelStyle\": \"themed\"}, \"children\": [\"n-lH38xi\", \"n-cP8uOF\", \"n-KNQ4Jl\"]}, \"n-xtPUTU\": {\"type\": \"webmap\", \"data\": {\"caption\": \"Predominant Median Earnings of All Service Occupations\", \"map\": \"r-54be92c07907428d93275a4004f3c463\", \"isShowingLegend\": true, \"legendPinned\": true, \"search\": true}}, \"n-QvtHN4\": {\"type\": \"immersive-slide\", \"data\": {\"transition\": \"fade\"}, \"children\": [\"n-7K2KZf\", \"n-xtPUTU\"]}, \"n-pDITpC\": {\"type\": \"text\", \"data\": {\"text\": \"Predominant Median Earnings of All Management, Business, Science, and Arts Occupations\", \"type\": \"large-paragraph\"}, \"config\": {\"size\": \"wide\"}}, \"n-AojPJT\": {\"type\": \"text\", \"data\": {\"text\": \"This map shows the predominant median earnings for all management, business, science, and arts occupations. Data is available from state, county and tract.\", \"type\": \"paragraph\"}, \"config\": {\"size\": \"wide\"}}, \"n-jhVcDP\": {\"type\": \"embed\", \"data\": {\"url\": \"https://www.arcgis.com/home/item.html?id=c36992b6ac4c4844b692ae6381173c01\", \"embedType\": \"link\", \"title\": \"Predominant Median Earnings of All Management, Business, Science, and Arts Occupations\", \"description\": \"This map shows the predominant median earnings for all management, business, science, and arts occupations. Data is available from state, county and tract.\", \"thumbnailUrl\": \"https://www.arcgis.com/sharing/rest/content/items/c36992b6ac4c4844b692ae6381173c01/info/thumbnail/thumbnail1637784548247.png/\", \"providerUrl\": \"https://www.arcgis.com\", \"caption\": \"Predominant Median Earnings of All Management, Business, Science, and Arts Occupations\", \"display\": \"card\", \"embedSrc\": \"https://www.arcgis.com/home/item.html?id=c36992b6ac4c4844b692ae6381173c01\"}, \"config\": {\"size\": \"wide\"}}, \"n-W332jc\": {\"type\": \"immersive-narrative-panel\", \"data\": {\"panelStyle\": \"themed\"}, \"children\": [\"n-pDITpC\", \"n-AojPJT\", \"n-jhVcDP\"]}, \"n-SMhcoF\": {\"type\": \"webmap\", \"data\": {\"map\": \"r-c36992b6ac4c4844b692ae6381173c01\", \"caption\": \"Predominant Median Earnings of All Management, Business, Science, and Arts Occupations\", \"isShowingLegend\": true, \"legendPinned\": true, \"search\": true}}, \"n-LdmMH5\": {\"type\": \"immersive-slide\", \"data\": {\"transition\": \"fade\"}, \"children\": [\"n-W332jc\", \"n-SMhcoF\"]}, \"n-HxfWCv\": {\"type\": \"text\", \"data\": {\"text\": \"Housing Availability Rates\", \"type\": \"large-paragraph\"}, \"config\": {\"size\": \"wide\"}}, \"n-g96ryY\": {\"type\": \"text\", \"data\": {\"text\": \"This multi-scale map shows the housing availability rate depicted by the color, and the count of available housing units (those for sale or for rent) depicted by size. Data available for states, counties, and tracts from U.S. Census Bureau's American Community Survey.\", \"type\": \"paragraph\"}, \"config\": {\"size\": \"wide\"}}, \"n-b2xrzH\": {\"type\": \"embed\", \"data\": {\"url\": \"https://www.arcgis.com/home/item.html?id=ee9bc2ca453646fd934e047348c6ae8a\", \"embedType\": \"link\", \"title\": \"Housing Availability Rates\", \"description\": \"This multi-scale map shows the housing availability rate depicted by the color, and the count of available housing units (those for sale or for rent) depicted by size. Data available for states, counties, and tracts from U.S. Census Bureau's American Community Survey.\", \"thumbnailUrl\": \"https://www.arcgis.com/sharing/rest/content/items/ee9bc2ca453646fd934e047348c6ae8a/info/thumbnail/thumbnail1640717898517.png/\", \"providerUrl\": \"https://www.arcgis.com\", \"caption\": \"Housing Availability Rates\", \"display\": \"card\", \"embedSrc\": \"https://www.arcgis.com/home/item.html?id=ee9bc2ca453646fd934e047348c6ae8a\"}, \"config\": {\"size\": \"wide\"}}, \"n-Q58ovi\": {\"type\": \"immersive-narrative-panel\", \"data\": {\"panelStyle\": \"themed\"}, \"children\": [\"n-HxfWCv\", \"n-g96ryY\", \"n-b2xrzH\"]}, \"n-bTApoE\": {\"type\": \"webmap\", \"data\": {\"caption\": \"Housing Availability Rates\", \"map\": \"r-ee9bc2ca453646fd934e047348c6ae8a\", \"isShowingLegend\": true, \"legendPinned\": true, \"search\": true, \"extent\": {\"spatialReference\": {\"latestWkid\": 3857, \"wkid\": 102100}, \"xmin\": -9446452.076376477, \"ymin\": 3970775.573792855, \"xmax\": -9369709.299978131, \"ymax\": 4013962.4947739956}, \"center\": {\"spatialReference\": {\"latestWkid\": 3857, \"wkid\": 102100}, \"x\": -9408080.688177304, \"y\": 3992369.034283425}, \"zoom\": 10, \"viewpoint\": {\"rotation\": 0, \"scale\": 288895.2771445, \"targetGeometry\": {\"spatialReference\": {\"latestWkid\": 3857, \"wkid\": 102100}, \"x\": -9408080.688177304, \"y\": 3992369.034283425}}}}, \"n-wXg7qr\": {\"type\": \"immersive-slide\", \"data\": {\"transition\": \"fade\"}, \"children\": [\"n-Q58ovi\", \"n-bTApoE\"]}, \"n-89bKQz\": {\"type\": \"immersive\", \"data\": {\"type\": \"sidecar\", \"subtype\": \"docked-panel\", \"narrativePanelPosition\": \"start\", \"narrativePanelSize\": \"small\"}, \"children\": [\"n-EFvbnA\", \"n-QvtHN4\", \"n-LdmMH5\", \"n-wXg7qr\"]}, \"n-w4Et2r\": {\"type\": \"image\", \"data\": {\"image\": \"r-HxE4Vt\", \"caption\": \"<p>People appreciate having the latest available ACS data at hand, ready to use in a map.</p>\"}}, \"n-IATW7e\": {\"type\": \"separator\"}, \"n-lHhChn\": {\"type\": \"text\", \"data\": {\"type\": \"h2\", \"text\": \"Basemaps To Choose From\"}}, \"n-YugmDY\": {\"type\": \"text\", \"data\": {\"text\": \"Dark Human Geography\", \"type\": \"h2\"}, \"config\": {\"size\": \"wide\"}}, \"n-cemIc7\": {\"type\": \"immersive-narrative-panel\", \"data\": {\"position\": \"start\", \"size\": \"small\", \"panelStyle\": \"themed\"}, \"children\": [\"n-YugmDY\"]}, \"n-neeL3c\": {\"type\": \"image\", \"data\": {\"image\": \"r-Psfjbn\", \"isExpandable\": true}, \"config\": {\"placement\": {\"type\": \"fit\", \"fill\": {\"x\": 0.5, \"y\": 0.5}, \"fit\": {\"color\": \"backgroundColor\"}}}}, \"n-7TuPBL\": {\"type\": \"immersive-slide\", \"data\": {\"transition\": \"fade\"}, \"children\": [\"n-cemIc7\", \"n-neeL3c\"]}, \"n-T6yjDH\": {\"type\": \"text\", \"data\": {\"text\": \"Firefly Terrain\", \"type\": \"h2\"}, \"config\": {\"size\": \"wide\"}}, \"n-futXNl\": {\"type\": \"immersive-narrative-panel\", \"data\": {\"position\": \"start\", \"size\": \"small\", \"panelStyle\": \"themed\"}, \"children\": [\"n-T6yjDH\"]}, \"n-C7iFM5\": {\"type\": \"image\", \"data\": {\"image\": \"r-pH85Vr\", \"isExpandable\": true}, \"config\": {\"placement\": {\"type\": \"fit\", \"fill\": {\"x\": 0.5, \"y\": 0.5}, \"fit\": {\"color\": \"backgroundColor\"}}}}, \"n-zukKWl\": {\"type\": \"immersive-slide\", \"data\": {\"transition\": \"fade\"}, \"children\": [\"n-futXNl\", \"n-C7iFM5\"]}, \"n-Tlrye1\": {\"type\": \"text\", \"data\": {\"text\": \"Nova\", \"type\": \"h2\"}, \"config\": {\"size\": \"wide\"}}, \"n-AYKk1I\": {\"type\": \"immersive-narrative-panel\", \"data\": {\"position\": \"start\", \"size\": \"small\", \"panelStyle\": \"themed\"}, \"children\": [\"n-Tlrye1\"]}, \"n-RUmGti\": {\"type\": \"image\", \"data\": {\"image\": \"r-aIeFtW\", \"isExpandable\": true}, \"config\": {\"placement\": {\"type\": \"fit\", \"fill\": {\"x\": 0.5, \"y\": 0.5}, \"fit\": {\"color\": \"backgroundColor\"}}}}, \"n-5Wej6o\": {\"type\": \"immersive-slide\", \"data\": {\"transition\": \"fade\"}, \"children\": [\"n-AYKk1I\", \"n-RUmGti\"]}, \"n-9SKCjp\": {\"type\": \"text\", \"data\": {\"text\": \"Modern Antique\", \"type\": \"h2\"}, \"config\": {\"size\": \"wide\"}}, \"n-gb3Qvq\": {\"type\": \"immersive-narrative-panel\", \"data\": {\"position\": \"start\", \"size\": \"small\", \"panelStyle\": \"themed\"}, \"children\": [\"n-9SKCjp\"]}, \"n-BBINfA\": {\"type\": \"image\", \"data\": {\"image\": \"r-6hNSG1\", \"isExpandable\": true}, \"config\": {\"placement\": {\"type\": \"fit\", \"fill\": {\"x\": 0.5, \"y\": 0.5}, \"fit\": {\"color\": \"backgroundColor\"}}}}, \"n-5V3ROg\": {\"type\": \"immersive-slide\", \"data\": {\"transition\": \"fade\"}, \"children\": [\"n-gb3Qvq\", \"n-BBINfA\"]}, \"n-terTYR\": {\"type\": \"text\", \"data\": {\"text\": \"Terrain with Labels\", \"type\": \"h2\"}, \"config\": {\"size\": \"wide\"}}, \"n-9JBz0L\": {\"type\": \"immersive-narrative-panel\", \"data\": {\"position\": \"start\", \"size\": \"small\", \"panelStyle\": \"themed\"}, \"children\": [\"n-terTYR\"]}, \"n-0yQw5H\": {\"type\": \"image\", \"data\": {\"image\": \"r-JeMKgI\", \"isExpandable\": true}, \"config\": {\"placement\": {\"type\": \"fit\", \"fill\": {\"x\": 0.5, \"y\": 0.5}, \"fit\": {\"color\": \"backgroundColor\"}}}}, \"n-b9OjdT\": {\"type\": \"immersive-slide\", \"data\": {\"transition\": \"fade\"}, \"children\": [\"n-9JBz0L\", \"n-0yQw5H\"]}, \"n-ndVykm\": {\"type\": \"immersive\", \"data\": {\"type\": \"sidecar\", \"subtype\": \"docked-panel\", \"narrativePanelPosition\": \"start\", \"narrativePanelSize\": \"small\"}, \"children\": [\"n-7TuPBL\", \"n-zukKWl\", \"n-5Wej6o\", \"n-5V3ROg\", \"n-b9OjdT\"]}, \"n-h8tyCO\": {\"type\": \"separator\"}, \"n-WY3W6Q\": {\"type\": \"image\", \"data\": {\"image\": \"r-9tqnws\", \"caption\": \"<p>When mapping statistical data stored in polygon layers, incorporate building footprints to humanize the subject. People live and work in buildings, not polygons.</p>\"}, \"config\": {\"size\": \"full\"}}, \"n-YQDT9d\": {\"type\": \"separator\"}, \"n-io0FOt\": {\"type\": \"text\", \"data\": {\"type\": \"h2\", \"text\": \"Apps &amp; Dashboards\"}}, \"n-Xh3IWA\": {\"type\": \"text\", \"data\": {\"type\": \"paragraph\", \"text\": \"We are releasing apps and dashboards on a flow basis for two projects.\"}}, \"n-55STVb\": {\"type\": \"text\", \"data\": {\"type\": \"h3\", \"text\": \"Know My City/Community\"}}, \"n-9lQlDC\": {\"type\": \"text\", \"data\": {\"type\": \"paragraph\", \"text\": \"Nationwide data is a wonderful resource to have, and Living Atlas makes these resources available in maps, apps and dashboards for GIS to put to work in their projects. The \\\"Know My City/Community\\\" project provides free apps and dashboards which you can use to focus on your city or community, in just a few clicks or via a URL parameter.\"}}, \"n-GmZCLV\": {\"type\": \"text\", \"data\": {\"text\": \"This first example lets you pick your state and county to find a list of places on the right hand side containing cities listed in the U.S. Census Bureau's American Community Survey data. The statistics shown reflect those data summarized by the city you pick.\", \"type\": \"paragraph\"}}, \"n-P4Iaao\": {\"type\": \"embed\", \"data\": {\"url\": \"https://www.arcgis.com/apps/dashboards/c84ac085f1604d2b989961bd46a4cb71\", \"embedType\": \"link\", \"title\": \"Know my City - Transportation (Ver.1)\", \"description\": \"This dashboard provides a summary of the transportation in your city based on the most current American Community Survey (ACS) data from the U.S. Census Bureau. Search for your city and select the feature to see the dashboard update.\", \"thumbnailUrl\": \"https://www.arcgis.com/sharing/rest/content/items/c84ac085f1604d2b989961bd46a4cb71/info/thumbnail/thumbnail1639692366688.png/\", \"providerUrl\": \"https://www.arcgis.com\", \"caption\": \"Know my City - Transportation (Ver.1)\", \"display\": \"inline\", \"embedSrc\": \"https://www.arcgis.com/apps/dashboards/c84ac085f1604d2b989961bd46a4cb71\"}, \"config\": {\"size\": \"full\"}}, \"n-NGRCvp\": {\"type\": \"embed\", \"data\": {\"url\": \"https://www.arcgis.com/home/item.html?id=c84ac085f1604d2b989961bd46a4cb71\", \"embedType\": \"link\", \"title\": \"Know my City - Transportation (Pick List)\", \"description\": \"This dashboard provides a summary of the transportation in your city based on the most current American Community Survey (ACS) data from the U.S. Census Bureau. Search for your city and select the feature to see the dashboard update.\", \"thumbnailUrl\": \"https://www.arcgis.com/sharing/rest/content/items/c84ac085f1604d2b989961bd46a4cb71/info/thumbnail/thumbnail1642127265453.png/\", \"providerUrl\": \"https://www.arcgis.com\", \"caption\": \"Know my City - Transportation (Pick List)\", \"display\": \"card\", \"embedSrc\": \"https://www.arcgis.com/home/item.html?id=c84ac085f1604d2b989961bd46a4cb71\"}}, \"n-hOTTwm\": {\"type\": \"text\", \"data\": {\"type\": \"paragraph\", \"text\": \"In this version of the dashboard below, use the search tool on the map to zoom to your city first, then click the Select tool (top left in the map) and click on a city to select it.\"}}, \"n-srLVBf\": {\"type\": \"text\", \"data\": {\"text\": \"Which version do you find easier to use?\", \"type\": \"paragraph\"}}, \"n-KiK9Ba\": {\"type\": \"embed\", \"data\": {\"url\": \"https://www.arcgis.com/apps/dashboards/5ff895feaf22471b966cd2f72688a87a\", \"embedType\": \"link\", \"title\": \"Know my City - Transportation\", \"description\": \"This dashboard provides a summary of the transportation in your city based on the most current American Community Survey (ACS) data from the U.S. Census Bureau. Search for your city and select the feature to see the dashboard update.\", \"thumbnailUrl\": \"https://www.arcgis.com/sharing/rest/content/items/5ff895feaf22471b966cd2f72688a87a/info/thumbnail/thumbnail1642120157024.png/?d=1642122272000\", \"providerUrl\": \"https://www.arcgis.com\", \"caption\": \"Know my City - Transportation\", \"display\": \"inline\", \"embedSrc\": \"https://www.arcgis.com/apps/dashboards/5ff895feaf22471b966cd2f72688a87a\"}, \"config\": {\"size\": \"full\"}}, \"n-E67f2k\": {\"type\": \"embed\", \"data\": {\"url\": \"https://www.arcgis.com/home/item.html?id=5ff895feaf22471b966cd2f72688a87a\", \"embedType\": \"link\", \"title\": \"Know my City - Transportation (Map Select)\", \"description\": \"This dashboard provides a summary of the transportation in your city based on the most current American Community Survey (ACS) data from the U.S. Census Bureau. Search for your city and select the feature to see the dashboard update.\", \"thumbnailUrl\": \"https://www.arcgis.com/sharing/rest/content/items/5ff895feaf22471b966cd2f72688a87a/info/thumbnail/thumbnail1642127339920.png/\", \"providerUrl\": \"https://www.arcgis.com\", \"caption\": \"Know my City - Transportation (Map Select)\", \"display\": \"card\", \"embedSrc\": \"https://www.arcgis.com/home/item.html?id=5ff895feaf22471b966cd2f72688a87a\"}, \"config\": {\"size\": \"standard\"}}, \"n-LPyo5w\": {\"type\": \"text\", \"data\": {\"type\": \"paragraph\", \"text\": \"This next dashboard focuses on housing characteristics in the American Community Survey.\"}}, \"n-haVXeG\": {\"type\": \"embed\", \"data\": {\"url\": \"https://www.arcgis.com/apps/dashboards/37821e5dadc14ec783cd4fc183b2a746\", \"embedType\": \"link\", \"title\": \"Know my City: Housing\", \"description\": \"This dashboard provides a summary of the housing in your city based on the most current American Community Survey (ACS) data from the U.S. Census Bureau. Search for your city and select the feature to see the dashboard update. \", \"thumbnailUrl\": \"https://www.arcgis.com/sharing/rest/content/items/37821e5dadc14ec783cd4fc183b2a746/info/thumbnail/thumbnail1639610143866.png/\", \"providerUrl\": \"https://www.arcgis.com\", \"caption\": \"Know my City: Housing\", \"display\": \"inline\", \"embedSrc\": \"https://www.arcgis.com/apps/dashboards/37821e5dadc14ec783cd4fc183b2a746\"}, \"config\": {\"size\": \"full\"}}, \"n-iQPHk2\": {\"type\": \"embed\", \"data\": {\"url\": \"https://www.arcgis.com/home/item.html?id=37821e5dadc14ec783cd4fc183b2a746\", \"embedType\": \"link\", \"title\": \"Know my City: Housing\", \"description\": \"This dashboard provides a summary of the housing in your city based on the most current American Community Survey (ACS) data from the U.S. Census Bureau. Search for your city and select the feature to see the dashboard update. \", \"thumbnailUrl\": \"https://www.arcgis.com/sharing/rest/content/items/37821e5dadc14ec783cd4fc183b2a746/info/thumbnail/thumbnail1639610143866.png/\", \"providerUrl\": \"https://www.arcgis.com\", \"caption\": \"Know my City: Housing\", \"display\": \"card\", \"embedSrc\": \"https://www.arcgis.com/home/item.html?id=37821e5dadc14ec783cd4fc183b2a746\"}}, \"n-huMejB\": {\"type\": \"text\", \"data\": {\"type\": \"paragraph\", \"text\": \"This next dashboard provides a variety of key demographics from ACS for a city you select on the map.\"}}, \"n-o96vgR\": {\"type\": \"embed\", \"data\": {\"url\": \"https://www.arcgis.com/apps/dashboards/466cf3092371424dbca3630fb429d0f3\", \"embedType\": \"link\", \"title\": \"Know My Community\", \"description\": \"This dashboard provides a summary of the general indicators for your city based on the most current American Community Survey (ACS) data from the U.S. Census Bureau. \\n\", \"thumbnailUrl\": \"https://www.arcgis.com/sharing/rest/content/items/466cf3092371424dbca3630fb429d0f3/info/thumbnail/thumbnail1640044617798.png/\", \"providerUrl\": \"https://www.arcgis.com\", \"caption\": \"Know My Community\", \"display\": \"inline\", \"embedSrc\": \"https://www.arcgis.com/apps/dashboards/466cf3092371424dbca3630fb429d0f3\"}, \"config\": {\"size\": \"full\"}}, \"n-hXityY\": {\"type\": \"embed\", \"data\": {\"url\": \"https://www.arcgis.com/home/item.html?id=466cf3092371424dbca3630fb429d0f3\", \"embedType\": \"link\", \"title\": \"Know My Community\", \"description\": \"This dashboard provides a summary of the general indicators for your city based on the most current American Community Survey (ACS) data from the U.S. Census Bureau. \\n\", \"thumbnailUrl\": \"https://www.arcgis.com/sharing/rest/content/items/466cf3092371424dbca3630fb429d0f3/info/thumbnail/thumbnail1640044617798.png/\", \"providerUrl\": \"https://www.arcgis.com\", \"caption\": \"Know My Community\", \"display\": \"card\", \"embedSrc\": \"https://www.arcgis.com/home/item.html?id=466cf3092371424dbca3630fb429d0f3\"}, \"config\": {\"size\": \"standard\"}}, \"n-DNDv61\": {\"type\": \"text\", \"data\": {\"type\": \"paragraph\", \"text\": \"View this portfolio of seven maps showing different demographic characteristics about the veterans population.&nbsp;\"}}, \"n-0aJWuD\": {\"type\": \"embed\", \"data\": {\"url\": \"https://www.arcgis.com/apps/instant/portfolio/index.html?appid=3a6a9e972eda48adae229efd37095fa7\", \"embedType\": \"link\", \"title\": \"Know My Community: Veterans\", \"description\": \"Atlas of 7 maps showing different demographic characteristics of veterans. App opens in Newport News, VA, but has nation-wide coverage. Data from American Community Survey.\", \"thumbnailUrl\": \"https://www.arcgis.com/sharing/rest/content/items/3a6a9e972eda48adae229efd37095fa7/info/thumbnail/thumbnail1639435209951.png/\", \"providerUrl\": \"https://www.arcgis.com\", \"caption\": \"Know My Community: Veterans\", \"display\": \"inline\", \"embedSrc\": \"https://www.arcgis.com/apps/instant/portfolio/index.html?appid=3a6a9e972eda48adae229efd37095fa7\"}, \"config\": {\"size\": \"full\"}}, \"n-HHh9Mq\": {\"type\": \"embed\", \"data\": {\"url\": \"https://www.arcgis.com/home/item.html?id=3a6a9e972eda48adae229efd37095fa7\", \"embedType\": \"link\", \"title\": \"Know My Community: Veterans\", \"description\": \"Atlas of 7 maps showing different demographic characteristics of veterans. App opens in Newport News, VA, but has nation-wide coverage. Data from American Community Survey.\", \"thumbnailUrl\": \"https://www.arcgis.com/sharing/rest/content/items/3a6a9e972eda48adae229efd37095fa7/info/thumbnail/thumbnail1639435209951.png/\", \"providerUrl\": \"https://www.arcgis.com\", \"caption\": \"Know My Community: Veterans\", \"display\": \"card\", \"embedSrc\": \"https://www.arcgis.com/home/item.html?id=3a6a9e972eda48adae229efd37095fa7\"}}, \"n-qT0B5U\": {\"type\": \"separator\"}, \"n-Z9pEz6\": {\"type\": \"text\", \"data\": {\"type\": \"h3\", \"text\": \"FEMA National Risk Index Dashboards and Apps\"}}, \"n-eqwYqT\": {\"type\": \"text\", \"data\": {\"type\": \"paragraph\", \"text\": \"Eighteen specific risks are identified in the National Risk Index (NRI). Which one(s) are a concern where you live?\"}}, \"n-PvbxPl\": {\"type\": \"embed\", \"data\": {\"url\": \"https://www.arcgis.com/apps/dashboards/d1b1f83b93aa401690e715a9d718fb35\", \"embedType\": \"link\", \"title\": \"FEMA National Risk Index by Expected Annual Loss\", \"description\": \"This dashboard summarizes the National Risk Index (NRI) created by the Federal Emergency Management Agency (FEMA) by the annual expected loss caused by various natural hazards. The dashboard highlights the top 50 counties by their expected loss and predominant hazard type. \", \"thumbnailUrl\": \"https://www.arcgis.com/sharing/rest/content/items/d1b1f83b93aa401690e715a9d718fb35/info/thumbnail/thumbnail1640825024909.png/\", \"providerUrl\": \"https://www.arcgis.com\", \"caption\": \"FEMA National Risk Index by Expected Annual Loss\", \"display\": \"inline\", \"embedSrc\": \"https://www.arcgis.com/apps/dashboards/d1b1f83b93aa401690e715a9d718fb35\"}, \"config\": {\"size\": \"full\"}}, \"n-6VcrVV\": {\"type\": \"embed\", \"data\": {\"url\": \"https://www.arcgis.com/home/item.html?id=d1b1f83b93aa401690e715a9d718fb35\", \"embedType\": \"link\", \"title\": \"FEMA National Risk Index by Expected Annual Loss\", \"description\": \"This dashboard summarizes the National Risk Index (NRI) created by the Federal Emergency Management Agency (FEMA) by the annual expected loss caused by various natural hazards. The dashboard highlights the top 50 counties by their expected loss and predominant hazard type. \", \"thumbnailUrl\": \"https://www.arcgis.com/sharing/rest/content/items/d1b1f83b93aa401690e715a9d718fb35/info/thumbnail/thumbnail1640825024909.png/\", \"providerUrl\": \"https://www.arcgis.com\", \"caption\": \"FEMA National Risk Index by Expected Annual Loss\", \"display\": \"card\", \"embedSrc\": \"https://www.arcgis.com/home/item.html?id=d1b1f83b93aa401690e715a9d718fb35\"}}, \"n-nJz2Xn\": {\"type\": \"embed\", \"data\": {\"url\": \"https://www.arcgis.com/apps/dashboards/89bac35d1d6749098cc3b728f03f2d50\", \"embedType\": \"link\", \"title\": \"FEMA's National Risk Index and the Population Impact\", \"description\": \"This dashboard showcases the Federal Emergency Management Agency (FEMA) National Risk Index (NRI) and how it impacts the population. This is shown by count of people impacted by the different index scores: very low, relatively low, relatively moderate, relatively high, and very high.\", \"thumbnailUrl\": \"https://www.arcgis.com/sharing/rest/content/items/89bac35d1d6749098cc3b728f03f2d50/info/thumbnail/thumbnail1615420154619.png/\", \"providerUrl\": \"https://www.arcgis.com\", \"caption\": \"FEMA's National Risk Index and the Population Impact\", \"display\": \"inline\", \"embedSrc\": \"https://www.arcgis.com/apps/dashboards/89bac35d1d6749098cc3b728f03f2d50\"}, \"config\": {\"size\": \"full\"}}, \"n-YTcraS\": {\"type\": \"embed\", \"data\": {\"url\": \"https://www.arcgis.com/home/item.html?id=89bac35d1d6749098cc3b728f03f2d50\", \"embedType\": \"link\", \"title\": \"FEMA's National Risk Index and the Population Impact\", \"description\": \"This dashboard showcases the Federal Emergency Management Agency (FEMA) National Risk Index (NRI) and how it impacts the population. This is shown by count of people impacted by the different index scores: very low, relatively low, relatively moderate, relatively high, and very high.\", \"thumbnailUrl\": \"https://www.arcgis.com/sharing/rest/content/items/89bac35d1d6749098cc3b728f03f2d50/info/thumbnail/thumbnail1615420154619.png/\", \"providerUrl\": \"https://www.arcgis.com\", \"caption\": \"FEMA's National Risk Index and the Population Impact\", \"display\": \"card\", \"embedSrc\": \"https://www.arcgis.com/home/item.html?id=89bac35d1d6749098cc3b728f03f2d50\"}}, \"n-qM9uea\": {\"type\": \"text\", \"data\": {\"type\": \"paragraph\", \"text\": \"The dashboard's source web map is below:\"}}, \"n-fXVRys\": {\"type\": \"embed\", \"data\": {\"url\": \"https://www.arcgis.com/home/item.html?id=d4cc35408fa841bf82ebc6ff6f29cde4\", \"embedType\": \"link\", \"title\": \"FEMA National Risk Index - Population Impact\", \"description\": \"This map shows the Federal Emergency Management Agency (FEMA) National Risk Index (NRI) and how it impacts the population. This is shown by the different index scores: very low, relatively low, relatively moderate, relatively high, and very high.\", \"thumbnailUrl\": \"https://www.arcgis.com/sharing/rest/content/items/d4cc35408fa841bf82ebc6ff6f29cde4/info/thumbnail/thumbnail1639683782950.png/\", \"providerUrl\": \"https://www.arcgis.com\", \"caption\": \"FEMA National Risk Index - Population Impact\", \"display\": \"card\", \"embedSrc\": \"https://www.arcgis.com/home/item.html?id=d4cc35408fa841bf82ebc6ff6f29cde4\"}}, \"n-VWfzeu\": {\"type\": \"separator\"}, \"n-o1emNg\": {\"type\": \"text\", \"data\": {\"type\": \"h3\", \"text\": \"COVID-19 Weekly Update continues\"}}, \"n-nSlyim\": {\"type\": \"text\", \"data\": {\"text\": \"This dashboard is updated weekly on Mondays, summing up the previous week's COVID case numbers to show you where things are getting worse, or better. Choose a state from the picklist to focus the lists on just that state. Add a state abbreviation parameter to the dashboard's URL to provide a state-specific version easily:\", \"type\": \"paragraph\"}}, \"n-SJ9zSj\": {\"type\": \"text\", \"data\": {\"text\": \"<a href target rel=\\\"nofollow ugc\\\">https://www.arcgis.com/apps/dashboards/ba90844566844001a3454350ce4ca1e1</a><a href target rel=\\\"nofollow ugc\\\"><strong>#state=AR</strong></a>\", \"type\": \"paragraph\"}}, \"n-bExO24\": {\"type\": \"embed\", \"data\": {\"url\": \"https://www.arcgis.com/apps/dashboards/ba90844566844001a3454350ce4ca1e1\", \"embedType\": \"link\", \"title\": \"Up and Down COVID-19 Trends Dashboard\", \"description\": \"This dashboard shows recent COVID-19 Trends based on weekly new case counts for U.S. counties. Includes Puerto Rico, Guam, Northern Marianas, U.S. Virgin Islands.\", \"thumbnailUrl\": \"https://www.arcgis.com/sharing/rest/content/items/ba90844566844001a3454350ce4ca1e1/info/thumbnail/thumbnail1632676090182.png/\", \"providerUrl\": \"https://www.arcgis.com\", \"caption\": \"Up and Down COVID-19 Trends Dashboard\", \"display\": \"inline\", \"embedSrc\": \"https://www.arcgis.com/apps/dashboards/ba90844566844001a3454350ce4ca1e1\"}, \"config\": {\"size\": \"full\"}}, \"n-AT09Hw\": {\"type\": \"embed\", \"data\": {\"url\": \"https://www.arcgis.com/home/item.html?id=ba90844566844001a3454350ce4ca1e1\", \"embedType\": \"link\", \"title\": \"Up and Down COVID-19 Trends Dashboard\", \"description\": \"This dashboard shows recent COVID-19 Trends based on weekly new case counts for U.S. counties. Includes Puerto Rico, Guam, Northern Marianas, U.S. Virgin Islands.\", \"thumbnailUrl\": \"https://www.arcgis.com/sharing/rest/content/items/ba90844566844001a3454350ce4ca1e1/info/thumbnail/thumbnail1632676090182.png/\", \"providerUrl\": \"https://www.arcgis.com\", \"caption\": \"Up and Down COVID-19 Trends Dashboard\", \"display\": \"card\", \"embedSrc\": \"https://www.arcgis.com/home/item.html?id=ba90844566844001a3454350ce4ca1e1\"}}, \"n-cq10xx\": {\"type\": \"text\", \"data\": {\"type\": \"paragraph\", \"text\": \"This chart app provides details about LGBTQIA plus adults in metro areas in the U.S. \"}}, \"n-g9zY61\": {\"type\": \"embed\", \"data\": {\"url\": \"https://www.arcgis.com/apps/instant/charts/index.html?appid=3052f293a9994b808c7969ea1b01b082\", \"embedType\": \"link\", \"title\": \"In which metros do LGBTQIA plus adults live?\", \"description\": \"This interactive chart app shows Household Pulse Survey data on gender identity and sexual orientation by the 15 most populous metropolitan areas.\", \"thumbnailUrl\": \"https://www.arcgis.com/sharing/rest/content/items/3052f293a9994b808c7969ea1b01b082/info/thumbnail/thumbnail1639438966962.png/\", \"providerUrl\": \"https://www.arcgis.com\", \"caption\": \"In which metros do LGBTQIA plus adults live?\", \"display\": \"inline\", \"embedSrc\": \"https://www.arcgis.com/apps/instant/charts/index.html?appid=3052f293a9994b808c7969ea1b01b082\", \"alt\": \"\", \"hasEmbedOpenButton\": true, \"isInteractiveByDefault\": false}, \"config\": {\"size\": \"full\"}}, \"n-MIpxwZ\": {\"type\": \"embed\", \"data\": {\"url\": \"https://www.arcgis.com/home/item.html?id=3052f293a9994b808c7969ea1b01b082#\", \"embedType\": \"link\", \"title\": \"In which metros do LGBTQIA plus adults live?\", \"description\": \"This interactive chart app shows Household Pulse Survey data on gender identity and sexual orientation by the 15 most populous metropolitan areas.\", \"thumbnailUrl\": \"https://www.arcgis.com/sharing/rest/content/items/3052f293a9994b808c7969ea1b01b082/info/thumbnail/thumbnail1639438966962.png/\", \"providerUrl\": \"https://www.arcgis.com\", \"caption\": \"In which metros do LGBTQIA plus adults live?\", \"display\": \"card\", \"embedSrc\": \"https://www.arcgis.com/home/item.html?id=3052f293a9994b808c7969ea1b01b082#\"}}, \"n-djW7QR\": {\"type\": \"separator\"}, \"n-ioeO3W\": {\"type\": \"text\", \"data\": {\"text\": \"Blogs &amp; Stories\", \"type\": \"h2\"}}, \"n-uQxmzD\": {\"type\": \"embed\", \"data\": {\"url\": \"https://www.esri.com/arcgis-blog/products/arcgis-online/data-management/five-ways-arcade-enhances-maps-american-community-survey-example/\", \"embedType\": \"link\", \"title\": \"Five ways Arcade enhances maps: American Community Survey example\", \"description\": \"Five ways Arcade enhances maps: American Community Survey example\", \"thumbnailUrl\": \"https://www.esri.com/arcgis-blog/wp-content/uploads/2021/12/ACS_Arcade_Card.png\", \"providerUrl\": \"https://www.esri.com\", \"caption\": \"Five ways Arcade enhances maps: American Community Survey example\", \"display\": \"card\"}}, \"n-zHgWCU\": {\"type\": \"embed\", \"data\": {\"url\": \"https://www.esri.com/arcgis-blog/products/arcgis-living-atlas/health/cdc-places/\", \"embedType\": \"link\", \"title\": \"Use the newly-updated CDC PLACES Living Atlas items to improve health in your community\", \"description\": \"The past two years have caused governments, community organizations, businesses, and even individuals to focus a lot more on health. Increasingly, people are seeking health data at a very local level. Effective public health planning requires high-quality health estimates for small geographic areas.\", \"thumbnailUrl\": \"https://www.esri.com/arcgis-blog/wp-content/uploads/2022/01/PLACES_blog_card-1.jpg\", \"providerUrl\": \"https://www.esri.com\", \"caption\": \"Use the newly-updated CDC PLACES Living Atlas items to improve health in your community\", \"display\": \"card\"}}, \"n-8eJVAw\": {\"type\": \"embed\", \"data\": {\"url\": \"https://www.esri.com/arcgis-blog/products/instant-apps/announcements/countdown/\", \"embedType\": \"link\", \"title\": \"Three, Two, One: Countdown is the newest Instant App\", \"description\": \"Announcing a new ArcGIS Instant App: Countdown! Show a specified number of top or bottom features in your map as sorted by a particular attribute. This enables data journalists, decision support analysts, and others to create an app that delivers an interactive, data-driven tour of features.\", \"thumbnailUrl\": \"https://www.esri.com/arcgis-blog/wp-content/uploads/2021/06/Countdown_card.png\", \"providerUrl\": \"https://www.esri.com\", \"caption\": \"Three, Two, One: Countdown is the newest Instant App\", \"display\": \"card\"}}, \"n-N7LeME\": {\"type\": \"embed\", \"data\": {\"url\": \"https://www.esri.com/arcgis-blog/products/arcgis-living-atlas/announcements/gender-identity-sexual-orientation/\", \"embedType\": \"link\", \"title\": \"Gender identity and sexual orientation data is now in Living Atlas\", \"description\": \"Data on gender identity and sexual orientation has been long awaited. Now, the wait is over! ArcGIS Living Atlas now contains a feature layer that shows Household Pulse Survey data on gender identity and sexual orientation for the nation, states, and the 15 largest metro areas.\", \"thumbnailUrl\": \"https://www.esri.com/arcgis-blog/wp-content/uploads/2021/12/MicrosoftTeams-image-2.jpg\", \"providerUrl\": \"https://www.esri.com\", \"caption\": \"Gender identity and sexual orientation data is now in Living Atlas\", \"display\": \"card\"}}, \"n-rsgZUF\": {\"type\": \"embed\", \"data\": {\"url\": \"https://www.esri.com/arcgis-blog/products/arcgis-online/mapping/three-things-to-try-in-the-new-arcgis-online-map-viewer/\", \"embedType\": \"link\", \"title\": \"Three things to try in the new ArcGIS Online Map Viewer\", \"description\": \"From the beginning, the new Map Viewer has had powerful capabilities not available before, but the list of exciting features continues to expand. With the December 2021 release, there are three notable features that are worth calling out. All three have been requested by the user community, and the development team has been listening to those requests carefully.\", \"thumbnailUrl\": \"https://www.esri.com/arcgis-blog/wp-content/uploads/2021/11/Card-3.jpg\", \"providerUrl\": \"https://www.esri.com\", \"caption\": \"Three things to try in the new ArcGIS Online Map Viewer\", \"display\": \"card\"}}, \"n-JVuxHh\": {\"type\": \"embed\", \"data\": {\"url\": \"https://www.esri.com/arcgis-blog/products/arcgis-pro/data-management/bulk-assign-field-aliases/\", \"embedType\": \"link\", \"title\": \"Update attribute field aliases from a lookup table in ArcGIS Pro\", \"description\": \"Data dictionaries. Lookup tables. Codebooks. While the name for a dataset's documentation might vary across professions and data sources, the need for data documentation is universal! A common way to store this type of metadata is in a lookup table or data dictionary.\", \"thumbnailUrl\": \"https://www.esri.com/arcgis-blog/wp-content/uploads/2021/03/Bulk-Apply-Aliases.jpg\", \"providerUrl\": \"https://www.esri.com\", \"caption\": \"Update attribute field aliases from a lookup table in ArcGIS Pro\", \"display\": \"card\"}}, \"n-p44fRY\": {\"type\": \"image\", \"data\": {\"image\": \"r-YLRRyz\"}}, \"n-7bccGQ\": {\"type\": \"separator\"}, \"n-BvbbFW\": {\"type\": \"text\", \"data\": {\"type\": \"h2\", \"text\": \"Resources\"}}, \"n-D0HAiH\": {\"type\": \"text\", \"data\": {\"type\": \"h3\", \"text\": \"Build Back Better Policy Resources\"}}, \"n-xhp1Uj\": {\"type\": \"embed\", \"data\": {\"url\": \"https://www.arcgis.com/home/group.html?id=769f00c12d3f414aa6d28671ff74d627#overview\", \"embedType\": \"link\", \"providerUrl\": \"https://www.arcgis.com\", \"display\": \"inline\", \"embedSrc\": \"https://www.arcgis.com/home/group.html?id=769f00c12d3f414aa6d28671ff74d627#overview\"}, \"config\": {\"size\": \"wide\"}}, \"n-AI0jC5\": {\"type\": \"text\", \"data\": {\"type\": \"h3\", \"text\": \"New Learn Path Available\"}}, \"n-3yQx1V\": {\"type\": \"embed\", \"data\": {\"url\": \"https://learn.arcgis.com/en/paths/census-acs-living-atlas/\", \"embedType\": \"link\", \"title\": \"Learn about your community using Census ACS layers in Living Atlas\", \"description\": \"Map valuable demographic information such as housing, population, income, and more with Census American Community Survey (ACS) content from Living Atlas.\", \"thumbnailUrl\": \"https://learn.arcgis.com/cdn/card-catalog/uploads/playlists/1-Path%20Card.jpg\", \"providerUrl\": \"https://learn.arcgis.com\", \"caption\": \"Learn about your community using Census ACS layers in Living Atlas\", \"display\": \"card\", \"embedSrc\": \"https://learn.arcgis.com/en/paths/census-acs-living-atlas/\"}, \"config\": {\"size\": \"standard\"}}, \"n-hIfRfP\": {\"type\": \"embed\", \"data\": {\"url\": \"https://livingatlas.arcgis.com/policy/overview/\", \"embedType\": \"link\", \"title\": \"Esri Maps for Public Policy\", \"description\": \"Esri Maps for Public Policy offers maps, layers, training, and other resources to help policymakers make data-driven decisions.\", \"thumbnailUrl\": \"https://livingatlas.arcgis.com/media/apps-page/screenshots/policy_thumbnail.png\", \"providerUrl\": \"https://livingatlas.arcgis.com\", \"caption\": \"Esri Maps for Public Policy\", \"display\": \"card\", \"embedSrc\": \"https://livingatlas.arcgis.com/policy/overview/\"}, \"config\": {\"size\": \"standard\"}}, \"n-I7goTZ\": {\"type\": \"separator\"}, \"n-wUBCH1\": {\"type\": \"text\", \"data\": {\"text\": \"&nbsp;\", \"type\": \"paragraph\"}}, \"n-N8NSZj\": {\"type\": \"text\", \"data\": {\"text\": \"\", \"type\": \"h4\"}}, \"n-yeIcFE\": {\"type\": \"text\", \"data\": {\"text\": \"\", \"type\": \"paragraph\"}}, \"n-WLSgQe\": {\"type\": \"attribution\", \"data\": {\"content\": \"\", \"attribution\": \"\"}}, \"n-hvFlu6\": {\"type\": \"credits\", \"children\": [\"n-N8NSZj\", \"n-yeIcFE\", \"n-WLSgQe\"]}, \"n-ukw2YV\": {\"type\": \"story\", \"data\": {\"storyTheme\": \"r-2XdkYS\"}, \"config\": {\"coverDate\": \"last-published\", \"gaid\": \"\", \"gaConsentMessage\": \"\", \"isSocialIconsHidden\": false, \"storyLocale\": \"en-us\"}, \"children\": [\"n-2wKoaq\", \"n-5OHUDB\", \"n-rxhTuC\", \"n-QWGklK\", \"n-V8j1tx\", \"n-q9F82g\", \"n-GfNL3o\", \"n-89bKQz\", \"n-w4Et2r\", \"n-IATW7e\", \"n-lHhChn\", \"n-ndVykm\", \"n-h8tyCO\", \"n-WY3W6Q\", \"n-YQDT9d\", \"n-io0FOt\", \"n-Xh3IWA\", \"n-55STVb\", \"n-9lQlDC\", \"n-GmZCLV\", \"n-P4Iaao\", \"n-NGRCvp\", \"n-hOTTwm\", \"n-srLVBf\", \"n-KiK9Ba\", \"n-E67f2k\", \"n-LPyo5w\", \"n-haVXeG\", \"n-iQPHk2\", \"n-huMejB\", \"n-o96vgR\", \"n-hXityY\", \"n-DNDv61\", \"n-0aJWuD\", \"n-HHh9Mq\", \"n-qT0B5U\", \"n-Z9pEz6\", \"n-eqwYqT\", \"n-PvbxPl\", \"n-6VcrVV\", \"n-nJz2Xn\", \"n-YTcraS\", \"n-qM9uea\", \"n-fXVRys\", \"n-VWfzeu\", \"n-o1emNg\", \"n-nSlyim\", \"n-SJ9zSj\", \"n-bExO24\", \"n-AT09Hw\", \"n-cq10xx\", \"n-g9zY61\", \"n-MIpxwZ\", \"n-djW7QR\", \"n-ioeO3W\", \"n-uQxmzD\", \"n-zHgWCU\", \"n-8eJVAw\", \"n-N7LeME\", \"n-rsgZUF\", \"n-JVuxHh\", \"n-p44fRY\", \"n-7bccGQ\", \"n-BvbbFW\", \"n-D0HAiH\", \"n-xhp1Uj\", \"n-AI0jC5\", \"n-3yQx1V\", \"n-hIfRfP\", \"n-I7goTZ\", \"n-wUBCH1\", \"n-hvFlu6\"]}}, \"resources\": {\"r-UqLUFW\": {\"type\": \"image\", \"data\": {\"resourceId\": \"HEbN2YYo2jaUhbzZwUeLY.jpeg\", \"provider\": \"item-resource\", \"height\": 571, \"width\": 2560}}, \"r-ebdeafdd92bf4c06bd9eb0d2c41dac0b\": {\"type\": \"webmap\", \"data\": {\"extent\": {\"spatialReference\": {\"latestWkid\": 3857, \"wkid\": 102100}, \"xmin\": -10121714.774003778, \"ymin\": 3478594.0438423655, \"xmax\": -9990395.959409907, \"ymax\": 3552432.21316581}, \"center\": {\"spatialReference\": {\"latestWkid\": 3857, \"wkid\": 102100}, \"x\": -10056055.366706843, \"y\": 3515513.1285040877}, \"zoom\": 9, \"viewpoint\": {\"rotation\": 0, \"scale\": 577790.5542885, \"targetGeometry\": {\"spatialReference\": {\"latestWkid\": 3857, \"wkid\": 102100}, \"x\": -10056055.366706843, \"y\": 3515513.1285040877}}, \"mapLayers\": [{\"id\": \"17d33ef4a33-layer-6\", \"title\": \"State\", \"visible\": true}, {\"id\": \"17d33ef4a33-layer-5\", \"title\": \"County\", \"visible\": true}, {\"id\": \"17d33ef4a31-layer-4\", \"title\": \"Tract\", \"visible\": true}], \"itemId\": \"ebdeafdd92bf4c06bd9eb0d2c41dac0b\", \"itemType\": \"Web Map\", \"type\": \"default\"}}, \"r-54be92c07907428d93275a4004f3c463\": {\"type\": \"webmap\", \"data\": {\"extent\": {\"spatialReference\": {\"latestWkid\": 3857, \"wkid\": 102100}, \"xmin\": -8277588.182021916, \"ymin\": 4944859.914507039, \"xmax\": -8177149.926855156, \"ymax\": 5001346.878409807}, \"center\": {\"spatialReference\": {\"latestWkid\": 3857, \"wkid\": 102100}, \"x\": -8227369.054438536, \"y\": 4973103.396458423}, \"zoom\": 10, \"viewpoint\": {\"rotation\": 0, \"scale\": 288895.2771445, \"targetGeometry\": {\"spatialReference\": {\"latestWkid\": 3857, \"wkid\": 102100}, \"x\": -8227369.054438536, \"y\": 4973103.396458423}}, \"mapLayers\": [{\"id\": \"17d33ef4a33-layer-6\", \"title\": \"State\", \"visible\": true}, {\"id\": \"17d33ef4a33-layer-5\", \"title\": \"County\", \"visible\": true}, {\"id\": \"17d33ef4a31-layer-4\", \"title\": \"Tract\", \"visible\": true}], \"itemId\": \"54be92c07907428d93275a4004f3c463\", \"itemType\": \"Web Map\", \"type\": \"default\"}}, \"r-c36992b6ac4c4844b692ae6381173c01\": {\"type\": \"webmap\", \"data\": {\"extent\": {\"spatialReference\": {\"latestWkid\": 3857, \"wkid\": 102100}, \"xmin\": -13220992.867361154, \"ymin\": 3971184.8605550784, \"xmax\": -13048550.93154988, \"ymax\": 4068107.012420635}, \"center\": {\"spatialReference\": {\"latestWkid\": 3857, \"wkid\": 102100}, \"x\": -13134771.899455518, \"y\": 4019645.936487857}, \"zoom\": 9, \"viewpoint\": {\"rotation\": 0, \"scale\": 577790.5542885, \"targetGeometry\": {\"spatialReference\": {\"latestWkid\": 3857, \"wkid\": 102100}, \"x\": -13134771.899455518, \"y\": 4019645.936487857}}, \"mapLayers\": [{\"id\": \"17d33ef4a33-layer-6\", \"title\": \"State\", \"visible\": true}, {\"id\": \"17d33ef4a33-layer-5\", \"title\": \"County\", \"visible\": true}, {\"id\": \"17d33ef4a31-layer-4\", \"title\": \"Tract\", \"visible\": true}], \"itemId\": \"c36992b6ac4c4844b692ae6381173c01\", \"itemType\": \"Web Map\", \"type\": \"default\"}}, \"r-ee9bc2ca453646fd934e047348c6ae8a\": {\"type\": \"webmap\", \"data\": {\"extent\": {\"spatialReference\": {\"latestWkid\": 3857, \"wkid\": 102100}, \"xmin\": -16827607.494164534, \"ymin\": 825212.2487044041, \"xmax\": -4754226.002467584, \"ymax\": 7615266.345331376}, \"center\": {\"spatialReference\": {\"latestWkid\": 3857, \"wkid\": 102100}, \"x\": -10790916.748316059, \"y\": 4220239.29701789}, \"zoom\": 3, \"viewpoint\": {\"rotation\": 0, \"scale\": 36978595.474472, \"targetGeometry\": {\"spatialReference\": {\"latestWkid\": 3857, \"wkid\": 102100}, \"x\": -10790916.748316059, \"y\": 4220239.29701789}}, \"mapLayers\": [{\"id\": \"17db676ef72-layer-13\", \"title\": \"ACS Housing Units Vacancy Status Variables - Centroids - State\", \"visible\": true}, {\"id\": \"17db676ef71-layer-12\", \"title\": \"ACS Housing Units Vacancy Status Variables - Centroids - County\", \"visible\": true}, {\"id\": \"17db676ef71-layer-11\", \"title\": \"ACS Housing Units Vacancy Status Variables - Centroids - Tract\", \"visible\": true}, {\"id\": \"17db676d6fa-layer-9\", \"title\": \"ACS Housing Units Vacancy Status Variables - Boundaries - State\", \"visible\": true}, {\"id\": \"17db676d6f8-layer-8\", \"title\": \"ACS Housing Units Vacancy Status Variables - Boundaries - County\", \"visible\": true}, {\"id\": \"17db676d6f4-layer-7\", \"title\": \"ACS Housing Units Vacancy Status Variables - Boundaries - Tract\", \"visible\": true}], \"itemId\": \"ee9bc2ca453646fd934e047348c6ae8a\", \"itemType\": \"Web Map\", \"type\": \"default\"}}, \"r-HxE4Vt\": {\"type\": \"image\", \"data\": {\"resourceId\": \"DQrt9PRnDuEXS7IVzgUQN.jpeg\", \"provider\": \"item-resource\", \"height\": 337, \"width\": 824}}, \"r-Psfjbn\": {\"type\": \"image\", \"data\": {\"resourceId\": \"1sxuM3ZyfIa2z8OGagfQr.png\", \"provider\": \"item-resource\", \"height\": 575, \"width\": 946}}, \"r-pH85Vr\": {\"type\": \"image\", \"data\": {\"resourceId\": \"1aFfOF_5r2flTbZSEtc6x.png\", \"provider\": \"item-resource\", \"height\": 575, \"width\": 946}}, \"r-aIeFtW\": {\"type\": \"image\", \"data\": {\"resourceId\": \"oJ5aZZewW-jJk0zSIAYdk.png\", \"provider\": \"item-resource\", \"height\": 575, \"width\": 946}}, \"r-6hNSG1\": {\"type\": \"image\", \"data\": {\"resourceId\": \"f-uyU0c5XI1JWhxVcKUXb.png\", \"provider\": \"item-resource\", \"height\": 575, \"width\": 946}}, \"r-JeMKgI\": {\"type\": \"image\", \"data\": {\"resourceId\": \"KL1lr_BIHfAOmrU3wG7U8.png\", \"provider\": \"item-resource\", \"height\": 575, \"width\": 946}}, \"r-9tqnws\": {\"type\": \"image\", \"data\": {\"resourceId\": \"vsae6fPZ3lC977FFk_mnq.png\", \"provider\": \"item-resource\", \"height\": 390, \"width\": 3122}}, \"r-YLRRyz\": {\"type\": \"image\", \"data\": {\"resourceId\": \"yrV8erCgifwrPc67ep3b2.jpeg\", \"provider\": \"item-resource\", \"height\": 141, \"width\": 762}}, \"r-2XdkYS\": {\"type\": \"story-theme\", \"data\": {\"themeId\": \"summit\", \"themeBaseVariableOverrides\": {}, \"themeItemId\": \"27352253f2104374a13f506fedd6820b\"}}}}"
      ]
     },
     "execution_count": 4,
     "metadata": {},
     "output_type": "execute_result"
    }
   ],
   "source": [
    "exst_stry = StoryMap(\"9931e103ad89402293946f7afa64976f\")\n",
    "exst_stry"
   ]
  },
  {
   "cell_type": "code",
   "execution_count": 5,
   "id": "4b0fe523",
   "metadata": {
    "scrolled": true
   },
   "outputs": [
    {
     "data": {
      "text/plain": [
       "[{'n-2wKoaq': 'storycover'},\n",
       " {'n-5OHUDB': 'navigation'},\n",
       " {'n-rxhTuC': <arcgis.apps.storymap.story_content.Text at 0x259fd4aa588>},\n",
       " {'n-QWGklK': <arcgis.apps.storymap.story_content.Text at 0x259fd4aae88>},\n",
       " {'n-V8j1tx': 'separator'},\n",
       " {'n-q9F82g': <arcgis.apps.storymap.story_content.Text at 0x259fd4aacc8>},\n",
       " {'n-GfNL3o': <arcgis.apps.storymap.story_content.Text at 0x259fd4aa348>},\n",
       " {'n-89bKQz': <arcgis.apps.storymap.story_content.Sidecar at 0x259fd4aaa08>},\n",
       " {'n-w4Et2r': <arcgis.apps.storymap.story_content.Image at 0x259fd4aa808>},\n",
       " {'n-IATW7e': 'separator'},\n",
       " {'n-lHhChn': <arcgis.apps.storymap.story_content.Text at 0x259fd4aa408>},\n",
       " {'n-ndVykm': <arcgis.apps.storymap.story_content.Sidecar at 0x259fd4aa5c8>},\n",
       " {'n-h8tyCO': 'separator'},\n",
       " {'n-WY3W6Q': <arcgis.apps.storymap.story_content.Image at 0x259fd4aa688>},\n",
       " {'n-YQDT9d': 'separator'},\n",
       " {'n-io0FOt': <arcgis.apps.storymap.story_content.Text at 0x259fd4aae48>},\n",
       " {'n-Xh3IWA': <arcgis.apps.storymap.story_content.Text at 0x259fd41c7c8>},\n",
       " {'n-55STVb': <arcgis.apps.storymap.story_content.Text at 0x259fd4de788>},\n",
       " {'n-9lQlDC': <arcgis.apps.storymap.story_content.Text at 0x259fd4de7c8>},\n",
       " {'n-GmZCLV': <arcgis.apps.storymap.story_content.Text at 0x259fd4de0c8>},\n",
       " {'n-P4Iaao': <arcgis.apps.storymap.story_content.Embed at 0x259fd4de848>},\n",
       " {'n-NGRCvp': <arcgis.apps.storymap.story_content.Embed at 0x259fd4de248>},\n",
       " {'n-hOTTwm': <arcgis.apps.storymap.story_content.Text at 0x259fd4de208>},\n",
       " {'n-srLVBf': <arcgis.apps.storymap.story_content.Text at 0x259fd4de348>},\n",
       " {'n-KiK9Ba': <arcgis.apps.storymap.story_content.Embed at 0x259fd4de288>},\n",
       " {'n-E67f2k': <arcgis.apps.storymap.story_content.Embed at 0x259fd4de308>},\n",
       " {'n-LPyo5w': <arcgis.apps.storymap.story_content.Text at 0x259fd4de2c8>},\n",
       " {'n-haVXeG': <arcgis.apps.storymap.story_content.Embed at 0x259fd4de448>},\n",
       " {'n-iQPHk2': <arcgis.apps.storymap.story_content.Embed at 0x259fd4de388>},\n",
       " {'n-huMejB': <arcgis.apps.storymap.story_content.Text at 0x259fd4de3c8>},\n",
       " {'n-o96vgR': <arcgis.apps.storymap.story_content.Embed at 0x259fd4de408>},\n",
       " {'n-hXityY': <arcgis.apps.storymap.story_content.Embed at 0x259fd4de488>},\n",
       " {'n-DNDv61': <arcgis.apps.storymap.story_content.Text at 0x259fd4de4c8>},\n",
       " {'n-0aJWuD': <arcgis.apps.storymap.story_content.Embed at 0x259fd4de508>},\n",
       " {'n-HHh9Mq': <arcgis.apps.storymap.story_content.Embed at 0x259fd4de548>},\n",
       " {'n-qT0B5U': 'separator'},\n",
       " {'n-Z9pEz6': <arcgis.apps.storymap.story_content.Text at 0x259fd4de588>},\n",
       " {'n-eqwYqT': <arcgis.apps.storymap.story_content.Text at 0x259fd4de5c8>},\n",
       " {'n-PvbxPl': <arcgis.apps.storymap.story_content.Embed at 0x259fd4de608>},\n",
       " {'n-6VcrVV': <arcgis.apps.storymap.story_content.Embed at 0x259fd4de648>},\n",
       " {'n-nJz2Xn': <arcgis.apps.storymap.story_content.Embed at 0x259fd4de688>},\n",
       " {'n-YTcraS': <arcgis.apps.storymap.story_content.Embed at 0x259fd4de6c8>},\n",
       " {'n-qM9uea': <arcgis.apps.storymap.story_content.Text at 0x259fd4de708>},\n",
       " {'n-fXVRys': <arcgis.apps.storymap.story_content.Embed at 0x259fd4de748>},\n",
       " {'n-VWfzeu': 'separator'},\n",
       " {'n-o1emNg': <arcgis.apps.storymap.story_content.Text at 0x259fd4de888>},\n",
       " {'n-nSlyim': <arcgis.apps.storymap.story_content.Text at 0x259fd4ded08>},\n",
       " {'n-SJ9zSj': <arcgis.apps.storymap.story_content.Text at 0x259fd4de808>},\n",
       " {'n-bExO24': <arcgis.apps.storymap.story_content.Embed at 0x259fd4deac8>},\n",
       " {'n-AT09Hw': <arcgis.apps.storymap.story_content.Embed at 0x259fd4deb08>},\n",
       " {'n-cq10xx': <arcgis.apps.storymap.story_content.Text at 0x259fd4deb88>},\n",
       " {'n-g9zY61': <arcgis.apps.storymap.story_content.Embed at 0x259fd4debc8>},\n",
       " {'n-MIpxwZ': <arcgis.apps.storymap.story_content.Embed at 0x259fd4dec88>},\n",
       " {'n-djW7QR': 'separator'},\n",
       " {'n-ioeO3W': <arcgis.apps.storymap.story_content.Text at 0x259fd4decc8>},\n",
       " {'n-uQxmzD': <arcgis.apps.storymap.story_content.Embed at 0x259fd4ded48>},\n",
       " {'n-zHgWCU': <arcgis.apps.storymap.story_content.Embed at 0x259fd4deb48>},\n",
       " {'n-8eJVAw': <arcgis.apps.storymap.story_content.Embed at 0x259fd4ded88>},\n",
       " {'n-N7LeME': <arcgis.apps.storymap.story_content.Embed at 0x259fd4dedc8>},\n",
       " {'n-rsgZUF': <arcgis.apps.storymap.story_content.Embed at 0x259fd4dee08>},\n",
       " {'n-JVuxHh': <arcgis.apps.storymap.story_content.Embed at 0x259fd4dee88>},\n",
       " {'n-p44fRY': <arcgis.apps.storymap.story_content.Image at 0x259fd4deec8>},\n",
       " {'n-7bccGQ': 'separator'},\n",
       " {'n-BvbbFW': <arcgis.apps.storymap.story_content.Text at 0x259fd4def08>},\n",
       " {'n-D0HAiH': <arcgis.apps.storymap.story_content.Text at 0x259fd4dec48>},\n",
       " {'n-xhp1Uj': <arcgis.apps.storymap.story_content.Embed at 0x259fd4def48>},\n",
       " {'n-AI0jC5': <arcgis.apps.storymap.story_content.Text at 0x259fd4def88>},\n",
       " {'n-3yQx1V': <arcgis.apps.storymap.story_content.Embed at 0x259f8394488>},\n",
       " {'n-hIfRfP': <arcgis.apps.storymap.story_content.Embed at 0x259fd462448>},\n",
       " {'n-I7goTZ': 'separator'},\n",
       " {'n-wUBCH1': <arcgis.apps.storymap.story_content.Text at 0x259fd4d9c08>},\n",
       " {'n-hvFlu6': 'credits'}]"
      ]
     },
     "execution_count": 5,
     "metadata": {},
     "output_type": "execute_result"
    }
   ],
   "source": [
    "exst_stry.nodes"
   ]
  },
  {
   "cell_type": "markdown",
   "id": "b3cbe0ee",
   "metadata": {},
   "source": [
    "## Get the sidecar node to edit"
   ]
  },
  {
   "cell_type": "code",
   "execution_count": 6,
   "id": "0e81b33d",
   "metadata": {},
   "outputs": [],
   "source": [
    "sd_cr = exst_stry.get('n-89bKQz')"
   ]
  },
  {
   "cell_type": "code",
   "execution_count": 7,
   "id": "539622ca",
   "metadata": {},
   "outputs": [
    {
     "data": {
      "text/plain": [
       "['n-89bKQz',\n",
       " {'n-EFvbnA': {'narrative_panel': {'panel': 'n-PP4K7P',\n",
       "    'children': {'text': 'n-qz3GoV', 'embed': 'n-W4jLTa'}},\n",
       "   'media': {'webmap': 'n-MpwP1C'}}},\n",
       " {'n-QvtHN4': {'narrative_panel': {'panel': 'n-7K2KZf',\n",
       "    'children': {'text': 'n-cP8uOF', 'embed': 'n-KNQ4Jl'}},\n",
       "   'media': {'webmap': 'n-xtPUTU'}}},\n",
       " {'n-LdmMH5': {'narrative_panel': {'panel': 'n-W332jc',\n",
       "    'children': {'text': 'n-AojPJT', 'embed': 'n-jhVcDP'}},\n",
       "   'media': {'webmap': 'n-SMhcoF'}}},\n",
       " {'n-wXg7qr': {'narrative_panel': {'panel': 'n-Q58ovi',\n",
       "    'children': {'text': 'n-g96ryY', 'embed': 'n-b2xrzH'}},\n",
       "   'media': {'webmap': 'n-bTApoE'}}}]"
      ]
     },
     "execution_count": 7,
     "metadata": {},
     "output_type": "execute_result"
    }
   ],
   "source": [
    "sd_cr.properties"
   ]
  },
  {
   "cell_type": "markdown",
   "id": "c0e10866",
   "metadata": {},
   "source": [
    "## Perform edit on each slide"
   ]
  },
  {
   "cell_type": "markdown",
   "id": "123cd70e",
   "metadata": {},
   "source": [
    "### What we know in order to build this loop:\n",
    "#### 1. All the media in the sidecar are webmaps, so we will be extracting webmaps.\n",
    "#### 2. We want to replace each map with a screenshot at a certain extent.\n",
    "#### 3. The map resource node is always the same format: \"r-<webmap_id>\" so we can slice the string."
   ]
  },
  {
   "cell_type": "code",
   "execution_count": 8,
   "id": "6bca30ee",
   "metadata": {},
   "outputs": [],
   "source": [
    "slide_number = 1\n",
    "# position 0 is the sidecar node_id and not slide. Start at 1.\n",
    "for slide_dict in sd_cr.properties[1:]:\n",
    "    for slide in slide_dict:\n",
    "        # Getting the map content and extent\n",
    "        node_id = slide_dict[slide][\"media\"][\"webmap\"]\n",
    "        map_node = sd_cr.get(node_id)\n",
    "        # extent of LA for visual purposes\n",
    "        extent = {\n",
    "            'spatialReference': {\n",
    "                'latestWkid': 3857, 'wkid': 102100\n",
    "            },\n",
    "            'xmin':-13193259.77,\n",
    "            'ymin': 3955858.11,\n",
    "            'xmax': -13109488.74,\n",
    "            'ymax': 4056952.22\n",
    "        }\n",
    "\n",
    "        # Getting the webmap and creating an image\n",
    "        wm_item = gis.content.get(map_node.resource_node[2:])\n",
    "        wm = WebMap(wm_item)\n",
    "        jpg_img = wm.print(file_format=\"JPG\", extent=extent)\n",
    "    \n",
    "        # Create image content and replace the map in the slide\n",
    "        img = Image(jpg_img)\n",
    "        sd_cr.edit(img, slide_number)\n",
    "        # Increase for next iteration\n",
    "        slide_number += 1\n",
    "    "
   ]
  },
  {
   "cell_type": "code",
   "execution_count": 10,
   "id": "17397cf3",
   "metadata": {},
   "outputs": [
    {
     "data": {
      "text/plain": [
       "['n-89bKQz',\n",
       " {'n-EFvbnA': {'narrative_panel': {'panel': 'n-PP4K7P',\n",
       "    'children': {'text': 'n-qz3GoV', 'embed': 'n-W4jLTa'}},\n",
       "   'media': {'image': 'n-6d43ff'}}},\n",
       " {'n-QvtHN4': {'narrative_panel': {'panel': 'n-7K2KZf',\n",
       "    'children': {'text': 'n-cP8uOF', 'embed': 'n-KNQ4Jl'}},\n",
       "   'media': {'image': 'n-e56c8a'}}},\n",
       " {'n-LdmMH5': {'narrative_panel': {'panel': 'n-W332jc',\n",
       "    'children': {'text': 'n-AojPJT', 'embed': 'n-jhVcDP'}},\n",
       "   'media': {'image': 'n-43678a'}}},\n",
       " {'n-wXg7qr': {'narrative_panel': {'panel': 'n-Q58ovi',\n",
       "    'children': {'text': 'n-g96ryY', 'embed': 'n-b2xrzH'}},\n",
       "   'media': {'image': 'n-87ca03'}}}]"
      ]
     },
     "execution_count": 10,
     "metadata": {},
     "output_type": "execute_result"
    }
   ],
   "source": [
    "sd_cr.properties"
   ]
  },
  {
   "cell_type": "markdown",
   "id": "ffdf6c22",
   "metadata": {},
   "source": [
    "## Automating Changes"
   ]
  },
  {
   "cell_type": "markdown",
   "id": "4992fd13",
   "metadata": {},
   "source": [
    "### List of items we will use"
   ]
  },
  {
   "cell_type": "code",
   "execution_count": 9,
   "id": "638de190",
   "metadata": {},
   "outputs": [],
   "source": [
    "folder = \"C:\\ipython_workfolder\\Content\\Basemaps\"\n",
    "\n",
    "# Only need to update images here\n",
    "new_images = [\n",
    "    \"\\\\nat_geo.png\", \n",
    "    \"\\\\mid_cntry.png\", \n",
    "    \"\\\\colored_pencil.png\", \n",
    "    \"\\\\nav.png\", \n",
    "    \"\\\\hum_geo.png\"\n",
    "]\n",
    "# Only need to update the text here\n",
    "new_texts = [\n",
    "    \"National Geographic\",\n",
    "    \"Mid Century\",\n",
    "    \"Colored Pencil\",\n",
    "    \"Navigation\",\n",
    "    \"Human Geography-Light\"\n",
    "]"
   ]
  },
  {
   "cell_type": "markdown",
   "id": "8c8dd008",
   "metadata": {},
   "source": [
    "### Get the second sidecar node, use loop to change images and text"
   ]
  },
  {
   "cell_type": "code",
   "execution_count": 11,
   "id": "006e0ffa",
   "metadata": {},
   "outputs": [
    {
     "data": {
      "text/plain": [
       "['n-ndVykm',\n",
       " {'n-7TuPBL': {'narrative_panel': {'panel': 'n-cemIc7',\n",
       "    'children': {'text': 'n-YugmDY'}},\n",
       "   'media': {'image': 'n-neeL3c'}}},\n",
       " {'n-zukKWl': {'narrative_panel': {'panel': 'n-futXNl',\n",
       "    'children': {'text': 'n-T6yjDH'}},\n",
       "   'media': {'image': 'n-C7iFM5'}}},\n",
       " {'n-5Wej6o': {'narrative_panel': {'panel': 'n-AYKk1I',\n",
       "    'children': {'text': 'n-Tlrye1'}},\n",
       "   'media': {'image': 'n-RUmGti'}}},\n",
       " {'n-5V3ROg': {'narrative_panel': {'panel': 'n-gb3Qvq',\n",
       "    'children': {'text': 'n-9SKCjp'}},\n",
       "   'media': {'image': 'n-BBINfA'}}},\n",
       " {'n-b9OjdT': {'narrative_panel': {'panel': 'n-9JBz0L',\n",
       "    'children': {'text': 'n-terTYR'}},\n",
       "   'media': {'image': 'n-0yQw5H'}}}]"
      ]
     },
     "execution_count": 11,
     "metadata": {},
     "output_type": "execute_result"
    }
   ],
   "source": [
    "image_car = exst_stry.get(\"n-ndVykm\")\n",
    "image_car.properties"
   ]
  },
  {
   "cell_type": "code",
   "execution_count": 12,
   "id": "36f24457",
   "metadata": {},
   "outputs": [],
   "source": [
    "# this loop never changes, only the image and text list above\n",
    "idx = 0 \n",
    "for slide_dict in image_car.properties[1:]:\n",
    "    for slide in slide_dict:\n",
    "        # Getting the image content and text\n",
    "        im_id = slide_dict[slide][\"media\"][\"image\"]\n",
    "        image_node = image_car.get(im_id)\n",
    "        \n",
    "        txt_id = slide_dict[slide][\"narrative_panel\"][\"children\"][\"text\"]\n",
    "        txt_node = image_car.get(txt_id)\n",
    "        \n",
    "        # Change the image\n",
    "        image_node.image = folder+new_images[idx]\n",
    "        \n",
    "        # Change the text\n",
    "        txt_node.text = new_texts[idx]\n",
    "        idx += 1"
   ]
  },
  {
   "cell_type": "markdown",
   "id": "3f54429a",
   "metadata": {},
   "source": [
    "### Save all changes, view story"
   ]
  },
  {
   "cell_type": "code",
   "execution_count": 13,
   "id": "094f7ca8",
   "metadata": {
    "scrolled": true
   },
   "outputs": [
    {
     "data": {
      "text/html": [
       "<div class=\"item_container\" style=\"height: auto; overflow: hidden; border: 1px solid #cfcfcf; border-radius: 2px; background: #f6fafa; line-height: 1.21429em; padding: 10px;\">\n",
       "                    <div class=\"item_left\" style=\"width: 210px; float: left;\">\n",
       "                       <a href='https://UrbanObservatory.maps.arcgis.com/home/item.html?id=9931e103ad89402293946f7afa64976f' target='_blank'>\n",
       "                        <img src='data:image/png;base64,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' width='200' height='133' class=\"itemThumbnail\">\n",
       "                       </a>\n",
       "                    </div>\n",
       "\n",
       "                    <div class=\"item_right\"     style=\"float: none; width: auto; overflow: hidden;\">\n",
       "                        <a href='https://UrbanObservatory.maps.arcgis.com/home/item.html?id=9931e103ad89402293946f7afa64976f' target='_blank'><b>(Copy) Policy Story Map Demo</b>\n",
       "                        </a>\n",
       "                        <br/>New and Notable Maps and Apps in Living Atlas<img src='https://UrbanObservatory.maps.arcgis.com/home/js/jsapi/esri/css/images/item_type_icons/layers16.png' style=\"vertical-align:middle;\">StoryMap by naubry_UO\n",
       "                        <br/>Last Modified: March 11, 2022\n",
       "                        <br/>0 comments, 0 views\n",
       "                    </div>\n",
       "                </div>\n",
       "                "
      ],
      "text/plain": [
       "<Item title:\"(Copy) Policy Story Map Demo\" type:StoryMap owner:naubry_UO>"
      ]
     },
     "execution_count": 13,
     "metadata": {},
     "output_type": "execute_result"
    }
   ],
   "source": [
    "exst_stry.save()"
   ]
  },
  {
   "cell_type": "code",
   "execution_count": null,
   "id": "7f7546d0",
   "metadata": {},
   "outputs": [],
   "source": []
  }
 ],
 "metadata": {
  "kernelspec": {
   "display_name": "Python 3",
   "language": "python",
   "name": "python3"
  },
  "language_info": {
   "codemirror_mode": {
    "name": "ipython",
    "version": 3
   },
   "file_extension": ".py",
   "mimetype": "text/x-python",
   "name": "python",
   "nbconvert_exporter": "python",
   "pygments_lexer": "ipython3",
   "version": "3.7.11"
  }
 },
 "nbformat": 4,
 "nbformat_minor": 5
}
