{
 "cells": [
  {
   "cell_type": "markdown",
   "metadata": {},
   "source": [
    "## Summary:\n",
    "Generate a list of feature layers in an organizations. Generate a list of Web Maps in an organizations. Then print a readout of all the Web Maps that consume a specific feature layer."
   ]
  },
  {
   "cell_type": "markdown",
   "metadata": {},
   "source": [
    "### Import the libraries"
   ]
  },
  {
   "cell_type": "code",
   "execution_count": 3,
   "metadata": {},
   "outputs": [],
   "source": [
    "import sys\n",
    "\n",
    "from arcgis.gis import GIS\n",
    "from arcgis.env import active_gis\n",
    "from arcgis.features import FeatureLayerCollection\n",
    "from arcgis.mapping import WebMap"
   ]
  },
  {
   "cell_type": "markdown",
   "metadata": {},
   "source": [
    "### Connect to the organization"
   ]
  },
  {
   "cell_type": "code",
   "execution_count": 4,
   "metadata": {},
   "outputs": [],
   "source": [
    "g = GIS(profile=\"your_profile\")"
   ]
  },
  {
   "cell_type": "markdown",
   "metadata": {},
   "source": [
    "### Assign processing environment variable to the current GIS object"
   ]
  },
  {
   "cell_type": "code",
   "execution_count": 5,
   "metadata": {},
   "outputs": [],
   "source": [
    "active_gis = g"
   ]
  },
  {
   "cell_type": "markdown",
   "metadata": {},
   "source": [
    "### Customize the PYTHONPATH\n",
    "Add a path to a local directory containing a number of functions\n",
    "to assist in various operations."
   ]
  },
  {
   "cell_type": "code",
   "execution_count": 6,
   "metadata": {},
   "outputs": [],
   "source": [
    "import sys\n",
    "\n",
    "sys.path.insert(0, \"your_file_pathway/helper_functions/\")"
   ]
  },
  {
   "cell_type": "code",
   "execution_count": 7,
   "metadata": {},
   "outputs": [],
   "source": [
    "import helpers as hpx"
   ]
  },
  {
   "cell_type": "markdown",
   "metadata": {},
   "source": [
    "### Generate a list of users in the organization"
   ]
  },
  {
   "cell_type": "code",
   "execution_count": 8,
   "metadata": {},
   "outputs": [
    {
     "name": "stdout",
     "output_type": "stream",
     "text": [
      "your_username           NBAdvanced1              portaladmin              \n"
     ]
    }
   ],
   "source": [
    "user_list = g.users.search(\"* AND NOT username:esri*\")\n",
    "\n",
    "for a,b,c in zip(user_list[::3], user_list[1::3], user_list[2::3]):\n",
    "    print(f\"{a.username[:24]:25}{b.username[:24]:25}{c.username[:24]:25}\")"
   ]
  },
  {
   "cell_type": "markdown",
   "metadata": {},
   "source": [
    "### Get a user object"
   ]
  },
  {
   "cell_type": "code",
   "execution_count": 9,
   "metadata": {},
   "outputs": [],
   "source": [
    "target_user = g.users.get(\"your_username_of_interest\")"
   ]
  },
  {
   "cell_type": "markdown",
   "metadata": {},
   "source": [
    "### Get item inventory"
   ]
  },
  {
   "cell_type": "code",
   "execution_count": 10,
   "metadata": {},
   "outputs": [],
   "source": [
    "hpx.get_user_items?"
   ]
  },
  {
   "cell_type": "code",
   "execution_count": 11,
   "metadata": {
    "scrolled": true
   },
   "outputs": [],
   "source": [
    "target_username, user_item_inv = hpx.get_user_items(target_user, g)"
   ]
  },
  {
   "cell_type": "code",
   "execution_count": 12,
   "metadata": {},
   "outputs": [
    {
     "data": {
      "text/plain": [
       "'your_username'"
      ]
     },
     "execution_count": 12,
     "metadata": {},
     "output_type": "execute_result"
    }
   ],
   "source": [
    "target_username"
   ]
  },
  {
   "cell_type": "code",
   "execution_count": 13,
   "metadata": {},
   "outputs": [
    {
     "data": {
      "text/plain": [
       "['Web Map',\n",
       " 'GeoJson',\n",
       " 'OGCFeatureServer',\n",
       " 'WMS',\n",
       " 'Map Service',\n",
       " 'Geoprocessing Service',\n",
       " 'Symbol Service',\n",
       " 'Geometry Service',\n",
       " 'Shapefile',\n",
       " 'Feature Service',\n",
       " 'CSV',\n",
       " 'File Geodatabase',\n",
       " 'Service Definition',\n",
       " 'Notebook']"
      ]
     },
     "execution_count": 13,
     "metadata": {},
     "output_type": "execute_result"
    }
   ],
   "source": [
    "list(user_item_inv.keys())"
   ]
  },
  {
   "cell_type": "code",
   "execution_count": null,
   "metadata": {},
   "outputs": [],
   "source": [
    "hpx.print_user_inventory?"
   ]
  },
  {
   "cell_type": "code",
   "execution_count": 14,
   "metadata": {},
   "outputs": [
    {
     "name": "stdout",
     "output_type": "stream",
     "text": [
      "Web Map\n",
      "--------------------------------------------------\n",
      "   Uganda Towns                                      \n",
      "   Middle Little Missouri SubBasin Wetlands Inventory Map\n",
      "   Uganda Power Generation Sites 2016                \n",
      "   Sierra Leone Finance and Agriculture              \n",
      "   New Mexico County and Land Resource Division Tracts\n",
      "   New Mexico Land Resources Division Unit Map       \n",
      "\n",
      "\n",
      "GeoJson\n",
      "--------------------------------------------------\n",
      "   Generation_Sites_2016_MEMD                        \n",
      "\n",
      "\n",
      "OGCFeatureServer\n",
      "--------------------------------------------------\n",
      "   SampleWorldCities                                 \n",
      "\n",
      "\n",
      "WMS\n",
      "--------------------------------------------------\n",
      "   SampleWorldCities                                 \n",
      "\n",
      "\n",
      "Map Service\n",
      "--------------------------------------------------\n",
      "   SampleWorldCities                                 \n",
      "   MLM_Subbasin_and_Wetlands_Inventory               \n",
      "\n",
      "\n",
      "Geoprocessing Service\n",
      "--------------------------------------------------\n",
      "   RasterUtilities                                   \n",
      "   GeocodingTools                                    \n",
      "   PrintingTools                                     \n",
      "   OfflinePackaging                                  \n",
      "\n",
      "\n",
      "Symbol Service\n",
      "--------------------------------------------------\n",
      "   Symbols                                           \n",
      "\n",
      "\n",
      "Geometry Service\n",
      "--------------------------------------------------\n",
      "   Geometry                                          \n",
      "\n",
      "\n",
      "Shapefile\n",
      "--------------------------------------------------\n",
      "   Generation_Sites_2018_MEMD                        \n",
      "   dataset_388338                                    \n",
      "   dataset_496620                                    \n",
      "   dataset_662375                                    \n",
      "   dataset_567711                                    \n",
      "   dataset_568304                                    \n",
      "   dataset_416556                                    \n",
      "   dataset_570767                                    \n",
      "   dataset_697478                                    \n",
      "   dataset_390904                                    \n",
      "   dataset_209531                                    \n",
      "   dataset_426882                                    \n",
      "   dataset_746952                                    \n",
      "   dataset_223325                                    \n",
      "   dataset_335874                                    \n",
      "   dataset_192803                                    \n",
      "   dataset_76683                                     \n",
      "   dataset_528922                                    \n",
      "   dataset_573053                                    \n",
      "   dataset_899733                                    \n",
      "   dataset_979118                                    \n",
      "   dataset_40621                                     \n",
      "   dataset_113362                                    \n",
      "   dataset_276406                                    \n",
      "   dataset_788827                                    \n",
      "   dataset_492063                                    \n",
      "   dataset_557957                                    \n",
      "   dataset_965952                                    \n",
      "   dataset_817666                                    \n",
      "   dataset_953933                                    \n",
      "   dataset_845095                                    \n",
      "   dataset_943399                                    \n",
      "   dataset_867327                                    \n",
      "   dataset_512928                                    \n",
      "   dataset_224938                                    \n",
      "   dataset_247654                                    \n",
      "   dataset_397643                                    \n",
      "   dataset_180526                                    \n",
      "   dataset_277116                                    \n",
      "   dataset_143393                                    \n",
      "   dataset_65795                                     \n",
      "   dataset_998723                                    \n",
      "   dataset_127765                                    \n",
      "   dataset_42004                                     \n",
      "   dataset_132978                                    \n",
      "   dataset_146773                                    \n",
      "   dataset_262087                                    \n",
      "   dataset_762488                                    \n",
      "   dataset_897255                                    \n",
      "\n",
      "\n",
      "Feature Service\n",
      "--------------------------------------------------\n",
      "   Generation_Sites_2018_MEMD                        \n",
      "   ImpassibleRoads_Output                            \n",
      "   ND_NBD_Government_Units                           \n",
      "   Alternative_Fuel_Stations_ND                      \n",
      "   Generation_Sites_2016_MEMD                        \n",
      "   Sierra Leone Finance and Agriculture_WFL1         \n",
      "   thisisatest8bb44                                  \n",
      "   thisisatest2aa84                                  \n",
      "   ArterialStreets906449                             \n",
      "   test_895565                                       \n",
      "   dataset_388338                                    \n",
      "   dataset_496620                                    \n",
      "   summarizeNearby147192                             \n",
      "   thisisatestaeaf7                                  \n",
      "   ArterialStreets995098                             \n",
      "   test_228127                                       \n",
      "   dataset_567711                                    \n",
      "   dataset_662375                                    \n",
      "   summarizeNearby847943                             \n",
      "   thisisatest5cd9e                                  \n",
      "   ArterialStreets407729                             \n",
      "   test_707843                                       \n",
      "   dataset_416556                                    \n",
      "   dataset_568304                                    \n",
      "   summarizeNearby39197                              \n",
      "   thisisateste3a2f                                  \n",
      "   ArterialStreets659551                             \n",
      "   test_663998                                       \n",
      "   dataset_570767                                    \n",
      "   dataset_697478                                    \n",
      "   summarizeNearby642168                             \n",
      "   ArterialStreets912209                             \n",
      "   test_632531                                       \n",
      "   dataset_390904                                    \n",
      "   dataset_209531                                    \n",
      "   summarizeNearby403581                             \n",
      "   NM_NPS_LRD_Boundary_Data                          \n",
      "   thisisatest440bc                                  \n",
      "   Alternative_Fueling_Stations_US                   \n",
      "   thisisatest101bb                                  \n",
      "   ArterialStreets108585                             \n",
      "   test_569640                                       \n",
      "   dataset_426882                                    \n",
      "   dataset_746952                                    \n",
      "   summarizeNearby48969                              \n",
      "   thisisatestb7bcc                                  \n",
      "   thisisatest51d42                                  \n",
      "   ArterialStreets821975                             \n",
      "   test_183784                                       \n",
      "   dataset_335874                                    \n",
      "   dataset_223325                                    \n",
      "   summarizeNearby465990                             \n",
      "   ArterialStreets242257                             \n",
      "   test_126857                                       \n",
      "   dataset_76683                                     \n",
      "   dataset_192803                                    \n",
      "   summarizeNearby812022                             \n",
      "   thisisatest98e1d                                  \n",
      "   thisisatestdb383                                  \n",
      "   ArterialStreets681193                             \n",
      "   test_5008                                         \n",
      "   dataset_573053                                    \n",
      "   dataset_528922                                    \n",
      "   summarizeNearby616377                             \n",
      "   thisisatest682ba                                  \n",
      "   ArterialStreets470661                             \n",
      "   test_737129                                       \n",
      "   dataset_762488                                    \n",
      "   summarizeNearby257495                             \n",
      "   thisisatest03d86                                  \n",
      "   ArterialStreets14614                              \n",
      "   test_6945                                         \n",
      "   dataset_40621                                     \n",
      "   dataset_979118                                    \n",
      "   summarizeNearby297742                             \n",
      "   thisisatest9cd6c                                  \n",
      "   ArterialStreets875997                             \n",
      "   test_153214                                       \n",
      "   dataset_113362                                    \n",
      "   dataset_276406                                    \n",
      "   summarizeNearby914093                             \n",
      "   MLM_Subbasin_and_Wetlands_Inventory               \n",
      "   dataset_788827                                    \n",
      "   dataset_899733                                    \n",
      "   summarizeNearby374736                             \n",
      "   thisisatestded4e                                  \n",
      "   ArterialStreets690123                             \n",
      "   test_904720                                       \n",
      "   dataset_492063                                    \n",
      "   dataset_557957                                    \n",
      "   summarizeNearby248446                             \n",
      "   thisisatest7415d                                  \n",
      "   ArterialStreets237072                             \n",
      "   test_685424                                       \n",
      "   dataset_817666                                    \n",
      "   dataset_965952                                    \n",
      "   summarizeNearby463189                             \n",
      "   thisisatest8ccce                                  \n",
      "   ArterialStreets529097                             \n",
      "   test_13054                                        \n",
      "   dataset_845095                                    \n",
      "   dataset_953933                                    \n",
      "   summarizeNearby80535                              \n",
      "   thisisatest5598b                                  \n",
      "   ArterialStreets316513                             \n",
      "   test_616330                                       \n",
      "   dataset_867327                                    \n",
      "   dataset_943399                                    \n",
      "   summarizeNearby503485                             \n",
      "   ArterialStreets104261                             \n",
      "   test_773750                                       \n",
      "   dataset_224938                                    \n",
      "   dataset_512928                                    \n",
      "   summarizeNearby202842                             \n",
      "   thisisatest11919                                  \n",
      "   thisisatestd6de8                                  \n",
      "   thisisatest88987                                  \n",
      "   thisisatest29d04                                  \n",
      "   thisisatest691e2                                  \n",
      "   test_646738                                       \n",
      "   dataset_247654                                    \n",
      "   dataset_397643                                    \n",
      "   summarizeNearby378719                             \n",
      "   ArterialStreets166163                             \n",
      "   test_185566                                       \n",
      "   dataset_180526                                    \n",
      "   dataset_277116                                    \n",
      "   summarizeNearby847135                             \n",
      "   ArterialStreets153722                             \n",
      "   test_545409                                       \n",
      "   dataset_143393                                    \n",
      "   dataset_65795                                     \n",
      "   summarizeNearby343259                             \n",
      "   ArterialStreets40772                              \n",
      "   test_903516                                       \n",
      "   dataset_127765                                    \n",
      "   dataset_998723                                    \n",
      "   summarizeNearby198214                             \n",
      "   ArterialStreets436997                             \n",
      "   test_732597                                       \n",
      "   dataset_42004                                     \n",
      "   dataset_132978                                    \n",
      "   summarizeNearby384098                             \n",
      "   thisisatesta9d4e                                  \n",
      "   ArterialStreets584741                             \n",
      "   test_125034                                       \n",
      "   dataset_262087                                    \n",
      "   dataset_146773                                    \n",
      "   summarizeNearby395788                             \n",
      "   thisisatest75d57                                  \n",
      "   ArterialStreets579614                             \n",
      "   test_181594                                       \n",
      "   dataset_897255                                    \n",
      "\n",
      "\n",
      "CSV\n",
      "--------------------------------------------------\n",
      "   Alternative_Fueling_Stations_US                   \n",
      "\n",
      "\n",
      "File Geodatabase\n",
      "--------------------------------------------------\n",
      "   ImpassibleRoads_Output                            \n",
      "\n",
      "\n",
      "Service Definition\n",
      "--------------------------------------------------\n",
      "   MLM_Subbasin_sd                                   \n",
      "\n",
      "\n",
      "Notebook\n",
      "--------------------------------------------------\n",
      "   tracedownstreamfinal                              \n",
      "\n",
      "\n"
     ]
    }
   ],
   "source": [
    "hpx.print_user_inventory(user_item_inv)"
   ]
  },
  {
   "cell_type": "markdown",
   "metadata": {},
   "source": [
    "### Remove subset of items from the item inventory for demonstration"
   ]
  },
  {
   "cell_type": "code",
   "execution_count": 15,
   "metadata": {},
   "outputs": [],
   "source": [
    "for k,v in dict(user_item_inv).items():\n",
    "    v = [z \n",
    "         for z in v \n",
    "         if z.owner in [\"<username_of_interest\"]]\n",
    "    user_item_inv.update({k:v})"
   ]
  },
  {
   "cell_type": "markdown",
   "metadata": {},
   "source": [
    "### Get list of `Feature Layer Collections` and `Web Maps`"
   ]
  },
  {
   "cell_type": "code",
   "execution_count": 16,
   "metadata": {},
   "outputs": [],
   "source": [
    "wmaps = [wm \n",
    "         for wm in user_item_inv[\"Web Map\"]]\n",
    "         \n",
    "flyr_colls = user_item_inv[\"Feature Service\"]"
   ]
  },
  {
   "cell_type": "code",
   "execution_count": 17,
   "metadata": {},
   "outputs": [
    {
     "data": {
      "text/plain": [
       "[<Item title:\"Middle Little Missouri SubBasin Wetlands Inventory Map\" type:Web Map owner:your_username>,\n",
       " <Item title:\"Uganda Power Generation Sites 2016\" type:Web Map owner:your_username>,\n",
       " <Item title:\"Sierra Leone Finance and Agriculture\" type:Web Map owner:your_username>,\n",
       " <Item title:\"New Mexico County and Land Resource Division Tracts\" type:Web Map owner:your_username>,\n",
       " <Item title:\"New Mexico Land Resources Division Unit Map\" type:Web Map owner:your_username>]"
      ]
     },
     "execution_count": 17,
     "metadata": {},
     "output_type": "execute_result"
    }
   ],
   "source": [
    "wmaps"
   ]
  },
  {
   "cell_type": "code",
   "execution_count": 18,
   "metadata": {},
   "outputs": [
    {
     "data": {
      "text/plain": [
       "[<Item title:\"Generation_Sites_2018_MEMD\" type:Feature Layer Collection owner:your_username>,\n",
       " <Item title:\"ImpassibleRoads_Output\" type:Feature Layer Collection owner:your_username>,\n",
       " <Item title:\"ND_NBD_Government_Units\" type:Feature Layer Collection owner:your_username>,\n",
       " <Item title:\"Alternative_Fuel_Stations_ND\" type:Feature Layer Collection owner:your_username>,\n",
       " <Item title:\"Generation_Sites_2016_MEMD\" type:Feature Layer Collection owner:your_username>,\n",
       " <Item title:\"Sierra Leone Finance and Agriculture_WFL1\" type:Feature Layer Collection owner:your_username>,\n",
       " <Item title:\"NM_NPS_LRD_Boundary_Data\" type:Feature Layer Collection owner:your_username>,\n",
       " <Item title:\"Alternative_Fueling_Stations_US\" type:Feature Layer Collection owner:your_username>,\n",
       " <Item title:\"MLM_Subbasin_and_Wetlands_Inventory\" type:Feature Layer Collection owner:your_username>]"
      ]
     },
     "execution_count": 18,
     "metadata": {},
     "output_type": "execute_result"
    }
   ],
   "source": [
    "flyr_colls"
   ]
  },
  {
   "cell_type": "markdown",
   "metadata": {},
   "source": [
    "### Define anonymous function and print whether Items are hosted"
   ]
  },
  {
   "cell_type": "code",
   "execution_count": 19,
   "metadata": {},
   "outputs": [],
   "source": [
    "is_hosted = lambda x, fli: x in fli.typeKeywords\n",
    "flyr_dict = {f.title:[f.id, is_hosted(\"Hosted Service\", f)] for f in flyr_colls}"
   ]
  },
  {
   "cell_type": "code",
   "execution_count": 20,
   "metadata": {},
   "outputs": [
    {
     "name": "stdout",
     "output_type": "stream",
     "text": [
      "No.  Feature Layer Collection                  ItemId                             Hosted\n",
      "---  ----------------------------------------  --------------------------------   ------\n",
      "0    Generation_Sites_2018_MEMD                28d0924b80754fa1b640464fd245548e   True\n",
      "1    ImpassibleRoads_Output                    9884da13003e415489ae183acca5a21e   True\n",
      "2    ND_NBD_Government_Units                   307bbe3e174546cabad3812cbd502216   True\n",
      "3    Alternative_Fuel_Stations_ND              a6fb2452b2804f81bf60eae00b8c9416   True\n",
      "4    Generation_Sites_2016_MEMD                dd90d800f1d948d5a6a79d69217c5dd9   True\n",
      "5    Sierra Leone Finance and Agriculture_WFL  840e680f1ed64968960a6e2150b4c6f1   True\n",
      "6    NM_NPS_LRD_Boundary_Data                  22cdfac538744cd28364f62d4892fd0b   True\n",
      "7    Alternative_Fueling_Stations_US           2f47fdf64cd941d7aec6e803c78dbbe2   True\n",
      "8    MLM_Subbasin_and_Wetlands_Inventory       67f6ea4409d84334a48ef2c76966b52e   False\n"
     ]
    }
   ],
   "source": [
    "print(f\"{'No.':5}{'Feature Layer Collection':42}{'ItemId':35}{'Hosted'}\")\n",
    "print(f\"{'-'*3:5}{'-'*40:42}{'-'*32:35}{'-'*6}\")\n",
    "for idx,result in enumerate(flyr_dict.items()):\n",
    "        print(f\"{idx:<5}{result[0][:40]:42}{result[1][0]:35}{result[1][1]}\")"
   ]
  },
  {
   "cell_type": "markdown",
   "metadata": {},
   "source": [
    "### Get a `Feature Layer` and list of `Web Maps` that consume it"
   ]
  },
  {
   "cell_type": "code",
   "execution_count": 21,
   "metadata": {},
   "outputs": [],
   "source": [
    "hpx.list_webmaps?"
   ]
  },
  {
   "cell_type": "code",
   "execution_count": 22,
   "metadata": {},
   "outputs": [
    {
     "data": {
      "text/plain": [
       "{'NM_NPS_LRD_Boundary_Data': [<Item title:\"New Mexico County and Land Resource Division Tracts\" type:Web Map owner:your_username>,\n",
       "  <Item title:\"New Mexico Land Resources Division Unit Map\" type:Web Map owner:your_username>]}"
      ]
     },
     "execution_count": 22,
     "metadata": {},
     "output_type": "execute_result"
    }
   ],
   "source": [
    "flyr_webmaps = hpx.list_webmaps(flyr_colls[6], wmaps)\n",
    "flyr_webmaps"
   ]
  },
  {
   "cell_type": "code",
   "execution_count": 23,
   "metadata": {
    "scrolled": true
   },
   "outputs": [
    {
     "name": "stdout",
     "output_type": "stream",
     "text": [
      "Generation_Sites_2016_MEMD Feature Layer Collection consumed in these Web Maps:\n",
      "-----------------------------------------------------------------------------------------------\n",
      "  Uganda Power Generation Sites 2016                          347866bdd8b94ee18ac0bd867ea625f9\n",
      "\n",
      "\n",
      "Sierra Leone Finance and Agriculture_WFL1 Feature Layer Collection consumed in these Web Maps:\n",
      "-----------------------------------------------------------------------------------------------\n",
      "  Sierra Leone Finance and Agriculture                        5e4d714aa77349578545fd206f591326\n",
      "\n",
      "\n",
      "NM_NPS_LRD_Boundary_Data Feature Layer Collection consumed in these Web Maps:\n",
      "-----------------------------------------------------------------------------------------------\n",
      "  New Mexico County and Land Resource Division Tracts         a321866dca624f759ef32f6d7ad13973\n",
      "  New Mexico Land Resources Division Unit Map                 35b3713b643247788651235d67fd2dcb\n",
      "\n",
      "\n",
      "MLM_Subbasin_and_Wetlands_Inventory Feature Layer Collection consumed in these Web Maps:\n",
      "-----------------------------------------------------------------------------------------------\n",
      "  Middle Little Missouri SubBasin Wetlands Inventory Map      af0e87ab00d34d3ca1dcb86665b687ea\n",
      "\n",
      "\n"
     ]
    }
   ],
   "source": [
    "for f in flyr_colls:\n",
    "    flyr_webmaps = hpx.list_webmaps(f, wmaps)\n",
    "    if not bool(flyr_webmaps[f.title]):\n",
    "        # print(f\"{f.title} Feature Layer Collection consumed in these Web Maps:\\n{'-'*80}\")\n",
    "        # print(f\"{' '*2}...Zilch!\")\n",
    "        continue\n",
    "    else:\n",
    "        print(f\"{f.title} Feature Layer Collection consumed in these Web Maps:\\n{'-'*95}\")\n",
    "        for flyr,wm in flyr_webmaps.items():\n",
    "            for wmi in wm:\n",
    "                print(f\"{' '*2}{wmi.title[:55]:60}{wmi.id}\")\n",
    "    print(\"\\n\")"
   ]
  },
  {
   "cell_type": "markdown",
   "metadata": {},
   "source": [
    "### Summary"
   ]
  },
  {
   "cell_type": "markdown",
   "metadata": {},
   "source": [
    "Notebook demonstrates how to loop through lists of feature layers and web maps to find out what web maps consume what layers."
   ]
  }
 ],
 "metadata": {
  "kernelspec": {
   "display_name": "Python 3 (ipykernel)",
   "language": "python",
   "name": "python3"
  },
  "language_info": {
   "codemirror_mode": {
    "name": "ipython",
    "version": 3
   },
   "file_extension": ".py",
   "mimetype": "text/x-python",
   "name": "python",
   "nbconvert_exporter": "python",
   "pygments_lexer": "ipython3",
   "version": "3.7.10"
  }
 },
 "nbformat": 4,
 "nbformat_minor": 2
}
