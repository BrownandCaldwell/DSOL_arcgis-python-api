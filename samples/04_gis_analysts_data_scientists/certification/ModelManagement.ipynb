{
 "cells": [
  {
   "cell_type": "code",
   "execution_count": 1,
   "id": "6396e945-7730-4de5-ae8b-9cda52d74af3",
   "metadata": {},
   "outputs": [],
   "source": [
    "import arcgis as ag\n",
    "import arcpy\n",
    "import os\n",
    "from arcgis.features import GeoAccessor, GeoSeriesAccessor\n",
    "from arcgis.gis import GIS\n",
    "from arcgis.learn import export_training_data, SingleShotDetector, prepare_data, Model, list_models, detect_objects"
   ]
  },
  {
   "cell_type": "code",
   "execution_count": 2,
   "id": "a6600dc6-14dc-43d8-ac6b-1bd9635cea53",
   "metadata": {},
   "outputs": [
    {
     "data": {
      "text/plain": [
       "'2.4.1'"
      ]
     },
     "execution_count": 2,
     "metadata": {},
     "output_type": "execute_result"
    }
   ],
   "source": [
    "ag.__version__"
   ]
  },
  {
   "cell_type": "code",
   "execution_count": 43,
   "id": "bc4bf242-aff9-45a7-b2e1-c71033139fa1",
   "metadata": {},
   "outputs": [
    {
     "data": {
      "text/plain": [
       "'3.5'"
      ]
     },
     "execution_count": 43,
     "metadata": {},
     "output_type": "execute_result"
    }
   ],
   "source": [
    "arcpy.__version__"
   ]
  },
  {
   "cell_type": "code",
   "execution_count": 3,
   "id": "0310b422-77c8-47b4-99cc-9d65bbe7d4d3",
   "metadata": {
    "scrolled": true
   },
   "outputs": [],
   "source": [
    "gis = GIS('https://rqawinsaml04pt.ags.esri.com/gis/home/index.html', 'NBAdvanced', 'NBAdvanced.1')"
   ]
  },
  {
   "cell_type": "markdown",
   "id": "d0c0b03f-fa12-4530-888e-0c152ae09da0",
   "metadata": {},
   "source": [
    "## Model()"
   ]
  },
  {
   "cell_type": "code",
   "execution_count": 77,
   "id": "5559ce90-b30c-4060-b502-bfe7f1539c94",
   "metadata": {},
   "outputs": [],
   "source": [
    "# Loading model using well known link\n",
    "model_url = ag.learn.Model()\n",
    "model_url.from_model_path(\"https://www.arcgis.com/sharing/rest/content/items/a6857359a1cd44839781a4f113cd5934\")"
   ]
  },
  {
   "cell_type": "code",
   "execution_count": 45,
   "id": "faffe45b-e9d4-47cc-a4da-7e843ccd5825",
   "metadata": {},
   "outputs": [
    {
     "data": {
      "text/plain": [
       "<Model:{\"url\": \"https://www.arcgis.com/sharing/rest/content/items/a6857359a1cd44839781a4f113cd5934\"}>"
      ]
     },
     "execution_count": 45,
     "metadata": {},
     "output_type": "execute_result"
    }
   ],
   "source": [
    "model_url"
   ]
  },
  {
   "cell_type": "code",
   "execution_count": 46,
   "id": "6b79a90e-ecc1-4b76-b9e5-d24ce43cb7c3",
   "metadata": {
    "scrolled": true
   },
   "outputs": [
    {
     "data": {
      "text/plain": [
       "{'modelInfo': {'Framework': 'arcgis.learn.models._inferencing',\n",
       "  'ModelType': 'InstanceDetection',\n",
       "  'ParameterInfo': [{'name': 'raster',\n",
       "    'dataType': 'raster',\n",
       "    'required': '1',\n",
       "    'displayName': 'Raster',\n",
       "    'description': 'Input Raster'},\n",
       "   {'name': 'model',\n",
       "    'dataType': 'string',\n",
       "    'required': '1',\n",
       "    'displayName': 'Input Model Definition (EMD) File',\n",
       "    'description': 'Input model definition (EMD) JSON file'},\n",
       "   {'name': 'device',\n",
       "    'dataType': 'numeric',\n",
       "    'required': '0',\n",
       "    'displayName': 'Device ID',\n",
       "    'description': 'Device ID'},\n",
       "   {'name': 'padding',\n",
       "    'dataType': 'numeric',\n",
       "    'value': '128',\n",
       "    'required': '0',\n",
       "    'displayName': 'Padding',\n",
       "    'description': 'Padding'},\n",
       "   {'name': 'batch_size',\n",
       "    'dataType': 'numeric',\n",
       "    'required': '0',\n",
       "    'value': '4',\n",
       "    'displayName': 'Batch Size',\n",
       "    'description': 'Batch Size'},\n",
       "   {'name': 'threshold',\n",
       "    'dataType': 'numeric',\n",
       "    'required': '0',\n",
       "    'value': '0.9',\n",
       "    'displayName': 'Threshold',\n",
       "    'description': 'Threshold'},\n",
       "   {'name': 'return_bboxes',\n",
       "    'dataType': 'string',\n",
       "    'required': '0',\n",
       "    'value': 'False',\n",
       "    'displayName': 'return_bboxes',\n",
       "    'description': 'return_bboxes'},\n",
       "   {'name': 'tile_size',\n",
       "    'dataType': 'numeric',\n",
       "    'value': '512',\n",
       "    'required': '0',\n",
       "    'displayName': 'Tile Size',\n",
       "    'description': 'Tile size used for inferencing'}]}}"
      ]
     },
     "execution_count": 46,
     "metadata": {},
     "output_type": "execute_result"
    }
   ],
   "source": [
    "model_url.query_info()"
   ]
  },
  {
   "cell_type": "code",
   "execution_count": 51,
   "id": "b0f732c3-d6c7-4f69-98e2-2b355dce50f4",
   "metadata": {},
   "outputs": [
    {
     "data": {
      "text/plain": [
       "'[resources]models\\\\raster\\\\a6857359a1cd44839781a4f113cd5934\\\\usa_building_footprints.emd'"
      ]
     },
     "execution_count": 51,
     "metadata": {},
     "output_type": "execute_result"
    }
   ],
   "source": [
    "model_url.install()"
   ]
  },
  {
   "cell_type": "markdown",
   "id": "3eee8111-1592-437d-84ba-1a2da85bd01f",
   "metadata": {},
   "source": [
    "#### Issue created for loading model using emd - https://github.com/ArcGIS/geosaurus/issues/12939"
   ]
  },
  {
   "cell_type": "code",
   "execution_count": 79,
   "id": "a2f7b229-02d7-4b5f-b54d-07d5fe807ca6",
   "metadata": {},
   "outputs": [
    {
     "data": {
      "text/plain": [
       "<Model:{\"uri\": \"[resources]models\\\\raster\\\\a6857359a1cd44839781a4f113cd5934\\\\usa_building_footprints.emd\"}>"
      ]
     },
     "execution_count": 79,
     "metadata": {},
     "output_type": "execute_result"
    }
   ],
   "source": [
    "# using emd\n",
    "model_emd = ag.learn.Model()\n",
    "model_emd.from_model_path('[resources]models\\\\raster\\\\a6857359a1cd44839781a4f113cd5934\\\\usa_building_footprints.emd')\n",
    "model_emd"
   ]
  },
  {
   "cell_type": "code",
   "execution_count": 80,
   "id": "55d38381-0d0f-447a-a186-27667c37ad7d",
   "metadata": {
    "scrolled": true
   },
   "outputs": [
    {
     "name": "stderr",
     "output_type": "stream",
     "text": [
      "'[resources]models\\raster\\a6857359a1cd44839781a4f113cd5934\\usa_building_footprints.emd' is not a valid model definition.\n",
      "Unable to read deep learning model definition.\n",
      "Failed to execute (QueryDeepLearningModelInfo).\n",
      "Failed.\n"
     ]
    },
    {
     "ename": "Exception",
     "evalue": "Job failed.",
     "output_type": "error",
     "traceback": [
      "\u001b[1;31m---------------------------------------------------------------------------\u001b[0m",
      "\u001b[1;31mException\u001b[0m                                 Traceback (most recent call last)",
      "Cell \u001b[1;32mIn[80], line 1\u001b[0m\n\u001b[1;32m----> 1\u001b[0m model_emd\u001b[38;5;241m.\u001b[39mquery_info()\n",
      "File \u001b[1;32m~\\AppData\\Local\\ESRI\\conda\\envs\\new\\Lib\\site-packages\\arcgis\\learn\\__init__.py:1807\u001b[0m, in \u001b[0;36mModel.query_info\u001b[1;34m(self, gis, future, **kwargs)\u001b[0m\n\u001b[0;32m   1804\u001b[0m \u001b[38;5;28;01mif\u001b[39;00m \u001b[38;5;28mself\u001b[39m\u001b[38;5;241m.\u001b[39m_model \u001b[38;5;129;01mis\u001b[39;00m \u001b[38;5;28;01mNone\u001b[39;00m:\n\u001b[0;32m   1805\u001b[0m     \u001b[38;5;28;01mraise\u001b[39;00m \u001b[38;5;167;01mRuntimeError\u001b[39;00m(\u001b[38;5;124m\"\u001b[39m\u001b[38;5;124mmodel cannot be None\u001b[39m\u001b[38;5;124m\"\u001b[39m)\n\u001b[1;32m-> 1807\u001b[0m \u001b[38;5;28;01mreturn\u001b[39;00m gis\u001b[38;5;241m.\u001b[39m_tools\u001b[38;5;241m.\u001b[39mrasteranalysis\u001b[38;5;241m.\u001b[39mquery_deep_learning_model_info(\n\u001b[0;32m   1808\u001b[0m     model\u001b[38;5;241m=\u001b[39m\u001b[38;5;28mself\u001b[39m\u001b[38;5;241m.\u001b[39m_model, future\u001b[38;5;241m=\u001b[39mfuture, \u001b[38;5;241m*\u001b[39m\u001b[38;5;241m*\u001b[39mkwargs\n\u001b[0;32m   1809\u001b[0m )\n\u001b[0;32m   1811\u001b[0m \u001b[38;5;250m\u001b[39m\u001b[38;5;124;03m\"\"\"\u001b[39;00m\n\u001b[0;32m   1812\u001b[0m \u001b[38;5;124;03murl = gis.properties.helperServices.rasterAnalytics.url\u001b[39;00m\n\u001b[0;32m   1813\u001b[0m \u001b[38;5;124;03mgptool = _arcgis.gis._GISResource(url, gis)\u001b[39;00m\n\u001b[1;32m   (...)\u001b[0m\n\u001b[0;32m   1840\u001b[0m \u001b[38;5;124;03m    return output\u001b[39;00m\n\u001b[0;32m   1841\u001b[0m \u001b[38;5;124;03m\"\"\"\u001b[39;00m\n",
      "File \u001b[1;32m~\\AppData\\Local\\ESRI\\conda\\envs\\new\\Lib\\site-packages\\arcgis\\_impl\\tools.py:13722\u001b[0m, in \u001b[0;36m_RasterAnalysisTools.query_deep_learning_model_info\u001b[1;34m(self, model, future, **kwargs)\u001b[0m\n\u001b[0;32m  13720\u001b[0m \u001b[38;5;28;01mif\u001b[39;00m future:\n\u001b[0;32m  13721\u001b[0m     \u001b[38;5;28;01mreturn\u001b[39;00m RAJob(gpjob)\n\u001b[1;32m> 13722\u001b[0m \u001b[38;5;28;01mreturn\u001b[39;00m RAJob(gpjob)\u001b[38;5;241m.\u001b[39mresult()\n",
      "File \u001b[1;32m~\\AppData\\Local\\ESRI\\conda\\envs\\new\\Lib\\site-packages\\arcgis\\geoprocessing\\_job.py:893\u001b[0m, in \u001b[0;36mRAJob.result\u001b[1;34m(self)\u001b[0m\n\u001b[0;32m    891\u001b[0m \u001b[38;5;28;01melif\u001b[39;00m \u001b[38;5;28misinstance\u001b[39m(\u001b[38;5;28mself\u001b[39m\u001b[38;5;241m.\u001b[39m_item, (\u001b[38;5;28mtuple\u001b[39m, \u001b[38;5;28mlist\u001b[39m)):\n\u001b[0;32m    892\u001b[0m     [i\u001b[38;5;241m.\u001b[39mdelete() \u001b[38;5;28;01mfor\u001b[39;00m i \u001b[38;5;129;01min\u001b[39;00m \u001b[38;5;28mself\u001b[39m\u001b[38;5;241m.\u001b[39m_item \u001b[38;5;28;01mif\u001b[39;00m \u001b[38;5;28misinstance\u001b[39m(i, Item)]\n\u001b[1;32m--> 893\u001b[0m \u001b[38;5;28;01mraise\u001b[39;00m e\n",
      "File \u001b[1;32m~\\AppData\\Local\\ESRI\\conda\\envs\\new\\Lib\\site-packages\\arcgis\\geoprocessing\\_job.py:885\u001b[0m, in \u001b[0;36mRAJob.result\u001b[1;34m(self)\u001b[0m\n\u001b[0;32m    878\u001b[0m \u001b[38;5;250m\u001b[39m\u001b[38;5;124;03m\"\"\"\u001b[39;00m\n\u001b[0;32m    879\u001b[0m \u001b[38;5;124;03mReturn the value returned by the call. If the call hasn't yet completed\u001b[39;00m\n\u001b[0;32m    880\u001b[0m \u001b[38;5;124;03mthen this method will wait.\u001b[39;00m\n\u001b[0;32m    881\u001b[0m \n\u001b[0;32m    882\u001b[0m \u001b[38;5;124;03m:return: object\u001b[39;00m\n\u001b[0;32m    883\u001b[0m \u001b[38;5;124;03m\"\"\"\u001b[39;00m\n\u001b[0;32m    884\u001b[0m \u001b[38;5;28;01mtry\u001b[39;00m:\n\u001b[1;32m--> 885\u001b[0m     \u001b[38;5;28;01mreturn\u001b[39;00m \u001b[38;5;28mself\u001b[39m\u001b[38;5;241m.\u001b[39m_gpjob\u001b[38;5;241m.\u001b[39mresult()\n\u001b[0;32m    886\u001b[0m \u001b[38;5;28;01mexcept\u001b[39;00m \u001b[38;5;167;01mException\u001b[39;00m \u001b[38;5;28;01mas\u001b[39;00m e:\n\u001b[0;32m    887\u001b[0m     \u001b[38;5;28;01mfrom\u001b[39;00m \u001b[38;5;21;01marcgis\u001b[39;00m\u001b[38;5;21;01m.\u001b[39;00m\u001b[38;5;21;01mgis\u001b[39;00m \u001b[38;5;28;01mimport\u001b[39;00m Item\n",
      "File \u001b[1;32m~\\AppData\\Local\\ESRI\\conda\\envs\\new\\Lib\\site-packages\\arcgis\\geoprocessing\\_job.py:236\u001b[0m, in \u001b[0;36mGPJob.result\u001b[1;34m(self)\u001b[0m\n\u001b[0;32m    234\u001b[0m     \u001b[38;5;28;01mreturn\u001b[39;00m \u001b[38;5;28mself\u001b[39m\u001b[38;5;241m.\u001b[39m_process_fa(\u001b[38;5;28mself\u001b[39m\u001b[38;5;241m.\u001b[39m_future\u001b[38;5;241m.\u001b[39mresult())\n\u001b[0;32m    235\u001b[0m \u001b[38;5;28;01melif\u001b[39;00m \u001b[38;5;28mself\u001b[39m\u001b[38;5;241m.\u001b[39m_is_ra:\n\u001b[1;32m--> 236\u001b[0m     \u001b[38;5;28;01mreturn\u001b[39;00m \u001b[38;5;28mself\u001b[39m\u001b[38;5;241m.\u001b[39m_process_ra(\u001b[38;5;28mself\u001b[39m\u001b[38;5;241m.\u001b[39m_future\u001b[38;5;241m.\u001b[39mresult())\n\u001b[0;32m    237\u001b[0m \u001b[38;5;28;01melif\u001b[39;00m \u001b[38;5;28mself\u001b[39m\u001b[38;5;241m.\u001b[39m_is_ortho:\n\u001b[0;32m    238\u001b[0m     \u001b[38;5;28;01mreturn\u001b[39;00m \u001b[38;5;28mself\u001b[39m\u001b[38;5;241m.\u001b[39m_process_ortho(\u001b[38;5;28mself\u001b[39m\u001b[38;5;241m.\u001b[39m_future\u001b[38;5;241m.\u001b[39mresult())\n",
      "File \u001b[1;32m~\\AppData\\Local\\ESRI\\conda\\envs\\new\\Lib\\concurrent\\futures\\_base.py:456\u001b[0m, in \u001b[0;36mFuture.result\u001b[1;34m(self, timeout)\u001b[0m\n\u001b[0;32m    454\u001b[0m     \u001b[38;5;28;01mraise\u001b[39;00m CancelledError()\n\u001b[0;32m    455\u001b[0m \u001b[38;5;28;01melif\u001b[39;00m \u001b[38;5;28mself\u001b[39m\u001b[38;5;241m.\u001b[39m_state \u001b[38;5;241m==\u001b[39m FINISHED:\n\u001b[1;32m--> 456\u001b[0m     \u001b[38;5;28;01mreturn\u001b[39;00m \u001b[38;5;28mself\u001b[39m\u001b[38;5;241m.\u001b[39m__get_result()\n\u001b[0;32m    457\u001b[0m \u001b[38;5;28;01melse\u001b[39;00m:\n\u001b[0;32m    458\u001b[0m     \u001b[38;5;28;01mraise\u001b[39;00m \u001b[38;5;167;01mTimeoutError\u001b[39;00m()\n",
      "File \u001b[1;32m~\\AppData\\Local\\ESRI\\conda\\envs\\new\\Lib\\concurrent\\futures\\_base.py:401\u001b[0m, in \u001b[0;36mFuture.__get_result\u001b[1;34m(self)\u001b[0m\n\u001b[0;32m    399\u001b[0m \u001b[38;5;28;01mif\u001b[39;00m \u001b[38;5;28mself\u001b[39m\u001b[38;5;241m.\u001b[39m_exception:\n\u001b[0;32m    400\u001b[0m     \u001b[38;5;28;01mtry\u001b[39;00m:\n\u001b[1;32m--> 401\u001b[0m         \u001b[38;5;28;01mraise\u001b[39;00m \u001b[38;5;28mself\u001b[39m\u001b[38;5;241m.\u001b[39m_exception\n\u001b[0;32m    402\u001b[0m     \u001b[38;5;28;01mfinally\u001b[39;00m:\n\u001b[0;32m    403\u001b[0m         \u001b[38;5;66;03m# Break a reference cycle with the exception in self._exception\u001b[39;00m\n\u001b[0;32m    404\u001b[0m         \u001b[38;5;28mself\u001b[39m \u001b[38;5;241m=\u001b[39m \u001b[38;5;28;01mNone\u001b[39;00m\n",
      "File \u001b[1;32m~\\AppData\\Local\\ESRI\\conda\\envs\\new\\Lib\\concurrent\\futures\\thread.py:58\u001b[0m, in \u001b[0;36m_WorkItem.run\u001b[1;34m(self)\u001b[0m\n\u001b[0;32m     55\u001b[0m     \u001b[38;5;28;01mreturn\u001b[39;00m\n\u001b[0;32m     57\u001b[0m \u001b[38;5;28;01mtry\u001b[39;00m:\n\u001b[1;32m---> 58\u001b[0m     result \u001b[38;5;241m=\u001b[39m \u001b[38;5;28mself\u001b[39m\u001b[38;5;241m.\u001b[39mfn(\u001b[38;5;241m*\u001b[39m\u001b[38;5;28mself\u001b[39m\u001b[38;5;241m.\u001b[39margs, \u001b[38;5;241m*\u001b[39m\u001b[38;5;241m*\u001b[39m\u001b[38;5;28mself\u001b[39m\u001b[38;5;241m.\u001b[39mkwargs)\n\u001b[0;32m     59\u001b[0m \u001b[38;5;28;01mexcept\u001b[39;00m \u001b[38;5;167;01mBaseException\u001b[39;00m \u001b[38;5;28;01mas\u001b[39;00m exc:\n\u001b[0;32m     60\u001b[0m     \u001b[38;5;28mself\u001b[39m\u001b[38;5;241m.\u001b[39mfuture\u001b[38;5;241m.\u001b[39mset_exception(exc)\n",
      "File \u001b[1;32m~\\AppData\\Local\\ESRI\\conda\\envs\\new\\Lib\\site-packages\\arcgis\\geoprocessing\\_support.py:328\u001b[0m, in \u001b[0;36m_future_op\u001b[1;34m(gptool, task_url, job_info, job_id, param_db, return_values, return_messages)\u001b[0m\n\u001b[0;32m    319\u001b[0m \u001b[38;5;28;01mdef\u001b[39;00m \u001b[38;5;21m_future_op\u001b[39m(\n\u001b[0;32m    320\u001b[0m     gptool,\n\u001b[0;32m    321\u001b[0m     task_url,\n\u001b[1;32m   (...)\u001b[0m\n\u001b[0;32m    326\u001b[0m     return_messages,\n\u001b[0;32m    327\u001b[0m ):\n\u001b[1;32m--> 328\u001b[0m     job_info \u001b[38;5;241m=\u001b[39m _analysis_job_status(gptool, task_url, job_info)\n\u001b[0;32m    329\u001b[0m     resp \u001b[38;5;241m=\u001b[39m _analysis_job_results(gptool, task_url, job_info, job_id)\n\u001b[0;32m    331\u001b[0m     \u001b[38;5;66;03m# ---------------------async-out---------------------#\u001b[39;00m\n",
      "File \u001b[1;32m~\\AppData\\Local\\ESRI\\conda\\envs\\new\\Lib\\site-packages\\arcgis\\geoprocessing\\_support.py:246\u001b[0m, in \u001b[0;36m_analysis_job_status\u001b[1;34m(gptool, task_url, job_info)\u001b[0m\n\u001b[0;32m    243\u001b[0m     num_messages \u001b[38;5;241m=\u001b[39m num\n\u001b[0;32m    245\u001b[0m \u001b[38;5;28;01mif\u001b[39;00m job_response\u001b[38;5;241m.\u001b[39mget(\u001b[38;5;124m\"\u001b[39m\u001b[38;5;124mjobStatus\u001b[39m\u001b[38;5;124m\"\u001b[39m) \u001b[38;5;241m==\u001b[39m \u001b[38;5;124m\"\u001b[39m\u001b[38;5;124mesriJobFailed\u001b[39m\u001b[38;5;124m\"\u001b[39m:\n\u001b[1;32m--> 246\u001b[0m     \u001b[38;5;28;01mraise\u001b[39;00m \u001b[38;5;167;01mException\u001b[39;00m(\u001b[38;5;124m\"\u001b[39m\u001b[38;5;124mJob failed.\u001b[39m\u001b[38;5;124m\"\u001b[39m)\n\u001b[0;32m    247\u001b[0m \u001b[38;5;28;01melif\u001b[39;00m job_response\u001b[38;5;241m.\u001b[39mget(\u001b[38;5;124m\"\u001b[39m\u001b[38;5;124mjobStatus\u001b[39m\u001b[38;5;124m\"\u001b[39m) \u001b[38;5;241m==\u001b[39m \u001b[38;5;124m\"\u001b[39m\u001b[38;5;124mesriJobCancelled\u001b[39m\u001b[38;5;124m\"\u001b[39m:\n\u001b[0;32m    248\u001b[0m     \u001b[38;5;28;01mraise\u001b[39;00m \u001b[38;5;167;01mException\u001b[39;00m(\u001b[38;5;124m\"\u001b[39m\u001b[38;5;124mJob cancelled.\u001b[39m\u001b[38;5;124m\"\u001b[39m)\n",
      "\u001b[1;31mException\u001b[0m: Job failed."
     ]
    }
   ],
   "source": [
    "model_emd.query_info()"
   ]
  },
  {
   "cell_type": "code",
   "execution_count": 12,
   "id": "ae6fdd4a-f702-493b-bfb7-ab22d3b3977f",
   "metadata": {},
   "outputs": [
    {
     "data": {
      "text/plain": [
       "'https://www.arcgis.com/sharing/rest/content/items/a6857359a1cd44839781a4f113cd5934'"
      ]
     },
     "execution_count": 12,
     "metadata": {},
     "output_type": "execute_result"
    }
   ],
   "source": [
    "model_url.uninstall()"
   ]
  },
  {
   "cell_type": "markdown",
   "id": "31dfc528-e891-4554-9cb6-8bed8919b19f",
   "metadata": {},
   "source": [
    "#### issue created - https://github.com/ArcGIS/geosaurus/issues/12942"
   ]
  },
  {
   "cell_type": "code",
   "execution_count": 87,
   "id": "64ffe9d3-169c-4dd4-b60a-baaa460a3d45",
   "metadata": {
    "scrolled": true
   },
   "outputs": [
    {
     "name": "stderr",
     "output_type": "stream",
     "text": [
      "'{\"Framework\": \"ag.learn.models._inferencing\", \"ModelConfiguration\": \"ag.learn.models._inferencing._maskrcnn_inferencing.py.\", \"InferenceFunction\": \"``/arcgis/home/model_trial/ArcGISInstanceDetector.py``\", \"ModelFile\": \"``/arcgis/home/model_trial/usa_building_footprints.pth``\", \"ExtractBands\": [0, 1, 2], \"ImageWidth\": 512, \"ImageHeight\": 512, \"Classes\": [{\"Value\": 1, \"Name\": \"1\", \"Color\": [187, 194, 137]}]}' is not a valid model definition.\n",
      "Unable to read deep learning model definition.\n",
      "Failed to execute (QueryDeepLearningModelInfo).\n",
      "Failed.\n"
     ]
    },
    {
     "ename": "Exception",
     "evalue": "Job failed.",
     "output_type": "error",
     "traceback": [
      "\u001b[1;31m---------------------------------------------------------------------------\u001b[0m",
      "\u001b[1;31mException\u001b[0m                                 Traceback (most recent call last)",
      "Cell \u001b[1;32mIn[87], line 21\u001b[0m\n\u001b[0;32m      3\u001b[0m model_json \u001b[38;5;241m=\u001b[39m ag\u001b[38;5;241m.\u001b[39mlearn\u001b[38;5;241m.\u001b[39mModel()\n\u001b[0;32m      4\u001b[0m model_json\u001b[38;5;241m.\u001b[39mfrom_json({\u001b[38;5;124m\"\u001b[39m\u001b[38;5;124mFramework\u001b[39m\u001b[38;5;124m\"\u001b[39m :\u001b[38;5;124m\"\u001b[39m\u001b[38;5;124mag.learn.models._inferencing\u001b[39m\u001b[38;5;124m\"\u001b[39m,\n\u001b[0;32m      5\u001b[0m                      \u001b[38;5;124m\"\u001b[39m\u001b[38;5;124mModelConfiguration\u001b[39m\u001b[38;5;124m\"\u001b[39m:\u001b[38;5;124m\"\u001b[39m\u001b[38;5;124mag.learn.models._inferencing._maskrcnn_inferencing.py.\u001b[39m\u001b[38;5;124m\"\u001b[39m,\n\u001b[0;32m      6\u001b[0m                      \u001b[38;5;124m\"\u001b[39m\u001b[38;5;124mInferenceFunction\u001b[39m\u001b[38;5;124m\"\u001b[39m:\u001b[38;5;124mr\u001b[39m\u001b[38;5;124m\"\u001b[39m\u001b[38;5;124m``/arcgis/home/model_trial/ArcGISInstanceDetector.py``\u001b[39m\u001b[38;5;124m\"\u001b[39m,\n\u001b[1;32m   (...)\u001b[0m\n\u001b[0;32m     19\u001b[0m                                 }]\n\u001b[0;32m     20\u001b[0m                      })\n\u001b[1;32m---> 21\u001b[0m model_json\u001b[38;5;241m.\u001b[39mquery_info()\n",
      "File \u001b[1;32m~\\AppData\\Local\\ESRI\\conda\\envs\\new\\Lib\\site-packages\\arcgis\\learn\\__init__.py:1807\u001b[0m, in \u001b[0;36mModel.query_info\u001b[1;34m(self, gis, future, **kwargs)\u001b[0m\n\u001b[0;32m   1804\u001b[0m \u001b[38;5;28;01mif\u001b[39;00m \u001b[38;5;28mself\u001b[39m\u001b[38;5;241m.\u001b[39m_model \u001b[38;5;129;01mis\u001b[39;00m \u001b[38;5;28;01mNone\u001b[39;00m:\n\u001b[0;32m   1805\u001b[0m     \u001b[38;5;28;01mraise\u001b[39;00m \u001b[38;5;167;01mRuntimeError\u001b[39;00m(\u001b[38;5;124m\"\u001b[39m\u001b[38;5;124mmodel cannot be None\u001b[39m\u001b[38;5;124m\"\u001b[39m)\n\u001b[1;32m-> 1807\u001b[0m \u001b[38;5;28;01mreturn\u001b[39;00m gis\u001b[38;5;241m.\u001b[39m_tools\u001b[38;5;241m.\u001b[39mrasteranalysis\u001b[38;5;241m.\u001b[39mquery_deep_learning_model_info(\n\u001b[0;32m   1808\u001b[0m     model\u001b[38;5;241m=\u001b[39m\u001b[38;5;28mself\u001b[39m\u001b[38;5;241m.\u001b[39m_model, future\u001b[38;5;241m=\u001b[39mfuture, \u001b[38;5;241m*\u001b[39m\u001b[38;5;241m*\u001b[39mkwargs\n\u001b[0;32m   1809\u001b[0m )\n\u001b[0;32m   1811\u001b[0m \u001b[38;5;250m\u001b[39m\u001b[38;5;124;03m\"\"\"\u001b[39;00m\n\u001b[0;32m   1812\u001b[0m \u001b[38;5;124;03murl = gis.properties.helperServices.rasterAnalytics.url\u001b[39;00m\n\u001b[0;32m   1813\u001b[0m \u001b[38;5;124;03mgptool = _arcgis.gis._GISResource(url, gis)\u001b[39;00m\n\u001b[1;32m   (...)\u001b[0m\n\u001b[0;32m   1840\u001b[0m \u001b[38;5;124;03m    return output\u001b[39;00m\n\u001b[0;32m   1841\u001b[0m \u001b[38;5;124;03m\"\"\"\u001b[39;00m\n",
      "File \u001b[1;32m~\\AppData\\Local\\ESRI\\conda\\envs\\new\\Lib\\site-packages\\arcgis\\_impl\\tools.py:13722\u001b[0m, in \u001b[0;36m_RasterAnalysisTools.query_deep_learning_model_info\u001b[1;34m(self, model, future, **kwargs)\u001b[0m\n\u001b[0;32m  13720\u001b[0m \u001b[38;5;28;01mif\u001b[39;00m future:\n\u001b[0;32m  13721\u001b[0m     \u001b[38;5;28;01mreturn\u001b[39;00m RAJob(gpjob)\n\u001b[1;32m> 13722\u001b[0m \u001b[38;5;28;01mreturn\u001b[39;00m RAJob(gpjob)\u001b[38;5;241m.\u001b[39mresult()\n",
      "File \u001b[1;32m~\\AppData\\Local\\ESRI\\conda\\envs\\new\\Lib\\site-packages\\arcgis\\geoprocessing\\_job.py:893\u001b[0m, in \u001b[0;36mRAJob.result\u001b[1;34m(self)\u001b[0m\n\u001b[0;32m    891\u001b[0m \u001b[38;5;28;01melif\u001b[39;00m \u001b[38;5;28misinstance\u001b[39m(\u001b[38;5;28mself\u001b[39m\u001b[38;5;241m.\u001b[39m_item, (\u001b[38;5;28mtuple\u001b[39m, \u001b[38;5;28mlist\u001b[39m)):\n\u001b[0;32m    892\u001b[0m     [i\u001b[38;5;241m.\u001b[39mdelete() \u001b[38;5;28;01mfor\u001b[39;00m i \u001b[38;5;129;01min\u001b[39;00m \u001b[38;5;28mself\u001b[39m\u001b[38;5;241m.\u001b[39m_item \u001b[38;5;28;01mif\u001b[39;00m \u001b[38;5;28misinstance\u001b[39m(i, Item)]\n\u001b[1;32m--> 893\u001b[0m \u001b[38;5;28;01mraise\u001b[39;00m e\n",
      "File \u001b[1;32m~\\AppData\\Local\\ESRI\\conda\\envs\\new\\Lib\\site-packages\\arcgis\\geoprocessing\\_job.py:885\u001b[0m, in \u001b[0;36mRAJob.result\u001b[1;34m(self)\u001b[0m\n\u001b[0;32m    878\u001b[0m \u001b[38;5;250m\u001b[39m\u001b[38;5;124;03m\"\"\"\u001b[39;00m\n\u001b[0;32m    879\u001b[0m \u001b[38;5;124;03mReturn the value returned by the call. If the call hasn't yet completed\u001b[39;00m\n\u001b[0;32m    880\u001b[0m \u001b[38;5;124;03mthen this method will wait.\u001b[39;00m\n\u001b[0;32m    881\u001b[0m \n\u001b[0;32m    882\u001b[0m \u001b[38;5;124;03m:return: object\u001b[39;00m\n\u001b[0;32m    883\u001b[0m \u001b[38;5;124;03m\"\"\"\u001b[39;00m\n\u001b[0;32m    884\u001b[0m \u001b[38;5;28;01mtry\u001b[39;00m:\n\u001b[1;32m--> 885\u001b[0m     \u001b[38;5;28;01mreturn\u001b[39;00m \u001b[38;5;28mself\u001b[39m\u001b[38;5;241m.\u001b[39m_gpjob\u001b[38;5;241m.\u001b[39mresult()\n\u001b[0;32m    886\u001b[0m \u001b[38;5;28;01mexcept\u001b[39;00m \u001b[38;5;167;01mException\u001b[39;00m \u001b[38;5;28;01mas\u001b[39;00m e:\n\u001b[0;32m    887\u001b[0m     \u001b[38;5;28;01mfrom\u001b[39;00m \u001b[38;5;21;01marcgis\u001b[39;00m\u001b[38;5;21;01m.\u001b[39;00m\u001b[38;5;21;01mgis\u001b[39;00m \u001b[38;5;28;01mimport\u001b[39;00m Item\n",
      "File \u001b[1;32m~\\AppData\\Local\\ESRI\\conda\\envs\\new\\Lib\\site-packages\\arcgis\\geoprocessing\\_job.py:236\u001b[0m, in \u001b[0;36mGPJob.result\u001b[1;34m(self)\u001b[0m\n\u001b[0;32m    234\u001b[0m     \u001b[38;5;28;01mreturn\u001b[39;00m \u001b[38;5;28mself\u001b[39m\u001b[38;5;241m.\u001b[39m_process_fa(\u001b[38;5;28mself\u001b[39m\u001b[38;5;241m.\u001b[39m_future\u001b[38;5;241m.\u001b[39mresult())\n\u001b[0;32m    235\u001b[0m \u001b[38;5;28;01melif\u001b[39;00m \u001b[38;5;28mself\u001b[39m\u001b[38;5;241m.\u001b[39m_is_ra:\n\u001b[1;32m--> 236\u001b[0m     \u001b[38;5;28;01mreturn\u001b[39;00m \u001b[38;5;28mself\u001b[39m\u001b[38;5;241m.\u001b[39m_process_ra(\u001b[38;5;28mself\u001b[39m\u001b[38;5;241m.\u001b[39m_future\u001b[38;5;241m.\u001b[39mresult())\n\u001b[0;32m    237\u001b[0m \u001b[38;5;28;01melif\u001b[39;00m \u001b[38;5;28mself\u001b[39m\u001b[38;5;241m.\u001b[39m_is_ortho:\n\u001b[0;32m    238\u001b[0m     \u001b[38;5;28;01mreturn\u001b[39;00m \u001b[38;5;28mself\u001b[39m\u001b[38;5;241m.\u001b[39m_process_ortho(\u001b[38;5;28mself\u001b[39m\u001b[38;5;241m.\u001b[39m_future\u001b[38;5;241m.\u001b[39mresult())\n",
      "File \u001b[1;32m~\\AppData\\Local\\ESRI\\conda\\envs\\new\\Lib\\concurrent\\futures\\_base.py:456\u001b[0m, in \u001b[0;36mFuture.result\u001b[1;34m(self, timeout)\u001b[0m\n\u001b[0;32m    454\u001b[0m     \u001b[38;5;28;01mraise\u001b[39;00m CancelledError()\n\u001b[0;32m    455\u001b[0m \u001b[38;5;28;01melif\u001b[39;00m \u001b[38;5;28mself\u001b[39m\u001b[38;5;241m.\u001b[39m_state \u001b[38;5;241m==\u001b[39m FINISHED:\n\u001b[1;32m--> 456\u001b[0m     \u001b[38;5;28;01mreturn\u001b[39;00m \u001b[38;5;28mself\u001b[39m\u001b[38;5;241m.\u001b[39m__get_result()\n\u001b[0;32m    457\u001b[0m \u001b[38;5;28;01melse\u001b[39;00m:\n\u001b[0;32m    458\u001b[0m     \u001b[38;5;28;01mraise\u001b[39;00m \u001b[38;5;167;01mTimeoutError\u001b[39;00m()\n",
      "File \u001b[1;32m~\\AppData\\Local\\ESRI\\conda\\envs\\new\\Lib\\concurrent\\futures\\_base.py:401\u001b[0m, in \u001b[0;36mFuture.__get_result\u001b[1;34m(self)\u001b[0m\n\u001b[0;32m    399\u001b[0m \u001b[38;5;28;01mif\u001b[39;00m \u001b[38;5;28mself\u001b[39m\u001b[38;5;241m.\u001b[39m_exception:\n\u001b[0;32m    400\u001b[0m     \u001b[38;5;28;01mtry\u001b[39;00m:\n\u001b[1;32m--> 401\u001b[0m         \u001b[38;5;28;01mraise\u001b[39;00m \u001b[38;5;28mself\u001b[39m\u001b[38;5;241m.\u001b[39m_exception\n\u001b[0;32m    402\u001b[0m     \u001b[38;5;28;01mfinally\u001b[39;00m:\n\u001b[0;32m    403\u001b[0m         \u001b[38;5;66;03m# Break a reference cycle with the exception in self._exception\u001b[39;00m\n\u001b[0;32m    404\u001b[0m         \u001b[38;5;28mself\u001b[39m \u001b[38;5;241m=\u001b[39m \u001b[38;5;28;01mNone\u001b[39;00m\n",
      "File \u001b[1;32m~\\AppData\\Local\\ESRI\\conda\\envs\\new\\Lib\\concurrent\\futures\\thread.py:58\u001b[0m, in \u001b[0;36m_WorkItem.run\u001b[1;34m(self)\u001b[0m\n\u001b[0;32m     55\u001b[0m     \u001b[38;5;28;01mreturn\u001b[39;00m\n\u001b[0;32m     57\u001b[0m \u001b[38;5;28;01mtry\u001b[39;00m:\n\u001b[1;32m---> 58\u001b[0m     result \u001b[38;5;241m=\u001b[39m \u001b[38;5;28mself\u001b[39m\u001b[38;5;241m.\u001b[39mfn(\u001b[38;5;241m*\u001b[39m\u001b[38;5;28mself\u001b[39m\u001b[38;5;241m.\u001b[39margs, \u001b[38;5;241m*\u001b[39m\u001b[38;5;241m*\u001b[39m\u001b[38;5;28mself\u001b[39m\u001b[38;5;241m.\u001b[39mkwargs)\n\u001b[0;32m     59\u001b[0m \u001b[38;5;28;01mexcept\u001b[39;00m \u001b[38;5;167;01mBaseException\u001b[39;00m \u001b[38;5;28;01mas\u001b[39;00m exc:\n\u001b[0;32m     60\u001b[0m     \u001b[38;5;28mself\u001b[39m\u001b[38;5;241m.\u001b[39mfuture\u001b[38;5;241m.\u001b[39mset_exception(exc)\n",
      "File \u001b[1;32m~\\AppData\\Local\\ESRI\\conda\\envs\\new\\Lib\\site-packages\\arcgis\\geoprocessing\\_support.py:328\u001b[0m, in \u001b[0;36m_future_op\u001b[1;34m(gptool, task_url, job_info, job_id, param_db, return_values, return_messages)\u001b[0m\n\u001b[0;32m    319\u001b[0m \u001b[38;5;28;01mdef\u001b[39;00m \u001b[38;5;21m_future_op\u001b[39m(\n\u001b[0;32m    320\u001b[0m     gptool,\n\u001b[0;32m    321\u001b[0m     task_url,\n\u001b[1;32m   (...)\u001b[0m\n\u001b[0;32m    326\u001b[0m     return_messages,\n\u001b[0;32m    327\u001b[0m ):\n\u001b[1;32m--> 328\u001b[0m     job_info \u001b[38;5;241m=\u001b[39m _analysis_job_status(gptool, task_url, job_info)\n\u001b[0;32m    329\u001b[0m     resp \u001b[38;5;241m=\u001b[39m _analysis_job_results(gptool, task_url, job_info, job_id)\n\u001b[0;32m    331\u001b[0m     \u001b[38;5;66;03m# ---------------------async-out---------------------#\u001b[39;00m\n",
      "File \u001b[1;32m~\\AppData\\Local\\ESRI\\conda\\envs\\new\\Lib\\site-packages\\arcgis\\geoprocessing\\_support.py:246\u001b[0m, in \u001b[0;36m_analysis_job_status\u001b[1;34m(gptool, task_url, job_info)\u001b[0m\n\u001b[0;32m    243\u001b[0m     num_messages \u001b[38;5;241m=\u001b[39m num\n\u001b[0;32m    245\u001b[0m \u001b[38;5;28;01mif\u001b[39;00m job_response\u001b[38;5;241m.\u001b[39mget(\u001b[38;5;124m\"\u001b[39m\u001b[38;5;124mjobStatus\u001b[39m\u001b[38;5;124m\"\u001b[39m) \u001b[38;5;241m==\u001b[39m \u001b[38;5;124m\"\u001b[39m\u001b[38;5;124mesriJobFailed\u001b[39m\u001b[38;5;124m\"\u001b[39m:\n\u001b[1;32m--> 246\u001b[0m     \u001b[38;5;28;01mraise\u001b[39;00m \u001b[38;5;167;01mException\u001b[39;00m(\u001b[38;5;124m\"\u001b[39m\u001b[38;5;124mJob failed.\u001b[39m\u001b[38;5;124m\"\u001b[39m)\n\u001b[0;32m    247\u001b[0m \u001b[38;5;28;01melif\u001b[39;00m job_response\u001b[38;5;241m.\u001b[39mget(\u001b[38;5;124m\"\u001b[39m\u001b[38;5;124mjobStatus\u001b[39m\u001b[38;5;124m\"\u001b[39m) \u001b[38;5;241m==\u001b[39m \u001b[38;5;124m\"\u001b[39m\u001b[38;5;124mesriJobCancelled\u001b[39m\u001b[38;5;124m\"\u001b[39m:\n\u001b[0;32m    248\u001b[0m     \u001b[38;5;28;01mraise\u001b[39;00m \u001b[38;5;167;01mException\u001b[39;00m(\u001b[38;5;124m\"\u001b[39m\u001b[38;5;124mJob cancelled.\u001b[39m\u001b[38;5;124m\"\u001b[39m)\n",
      "\u001b[1;31mException\u001b[0m: Job failed."
     ]
    }
   ],
   "source": [
    "#using json\n",
    "\n",
    "model_json = ag.learn.Model()\n",
    "model_json.from_json({\"Framework\" :\"ag.learn.models._inferencing\",\n",
    "                     \"ModelConfiguration\":\"ag.learn.models._inferencing._maskrcnn_inferencing.py.\",\n",
    "                     \"InferenceFunction\":r\"``/arcgis/home/model_trial/ArcGISInstanceDetector.py``\",\n",
    "                     \"ModelFile\": r\"``/arcgis/home/model_trial/usa_building_footprints.pth``\",\n",
    "                     \"ExtractBands\":[0,1,2],\n",
    "                     \"ImageWidth\":512,\n",
    "                     \"ImageHeight\":512,\n",
    "                     \"Classes\": [{\n",
    "                                    \"Value\": 1,\n",
    "                                    \"Name\": \"1\",\n",
    "                                    \"Color\": [\n",
    "                                        187,\n",
    "                                        194,\n",
    "                                        137\n",
    "                                    ]\n",
    "                                }]\n",
    "                     })\n",
    "model_json.query_info()"
   ]
  },
  {
   "cell_type": "markdown",
   "id": "b31d4175-7f6a-48a6-8e8b-e1f01f301d24",
   "metadata": {},
   "source": [
    "## list_models()\n",
    "\n",
    "It shows the list of models that are installed on the server by running `model.install()` or by running any tool on the enterprise portal."
   ]
  },
  {
   "cell_type": "code",
   "execution_count": 67,
   "id": "89f45328-b17d-4fa4-bb2f-9d3f08fc9f6e",
   "metadata": {
    "scrolled": true
   },
   "outputs": [
    {
     "data": {
      "text/plain": [
       "[<Model Title:HF Zero-Shot Classification owner:esri_livingatlas>,\n",
       " <Model Title:Map Simplification owner:esri_livingatlas>,\n",
       " <Model Title:HF Object Detection owner:esri_livingatlas>,\n",
       " <Model Title:Human Detection (Drone Imagery) owner:esri_livingatlas>,\n",
       " <Model Title:HF Visual Question Answering  owner:esri_livingatlas>,\n",
       " <Model Title:Tree Detection owner:esri_livingatlas>,\n",
       " <Model Title:Edge Detection owner:esri_livingatlas>,\n",
       " <Model Title:Vision Language Context-Based Classification owner:esri_livingatlas>,\n",
       " <Model Title:Image Interrogation owner:esri_livingatlas>,\n",
       " <Model Title:Text SAM owner:esri_livingatlas>,\n",
       " <Model Title:Palm Tree Detection owner:esri_livingatlas>,\n",
       " <Model Title:Building Footprint Extraction - USA owner:esri_livingatlas>,\n",
       " <Model Title:Building Change Detection owner:esri_livingatlas>,\n",
       " <Model Title:damage_classifier_15exyz owner:NBAdvanced>,\n",
       " <Model Title:Pavement Crack Detection owner:esri_livingatlas>,\n",
       " <Model Title:Road Extraction - Global owner:esri_livingatlas>,\n",
       " <Model Title:Pedestrian Infrastructure Classification owner:esri_livingatlas>,\n",
       " <Model Title:Prompt Based Segmentation owner:esri_livingatlas>]"
      ]
     },
     "execution_count": 67,
     "metadata": {},
     "output_type": "execute_result"
    }
   ],
   "source": [
    "ag.learn.list_models()"
   ]
  },
  {
   "cell_type": "markdown",
   "id": "801fe601-96aa-401e-9db3-09f2bd53032e",
   "metadata": {},
   "source": [
    "## train_model\n",
    "\n",
    "Input data should be on RA server"
   ]
  },
  {
   "cell_type": "markdown",
   "id": "c6ce07e6-faf5-46fd-bff9-bb7975a4fed6",
   "metadata": {},
   "source": [
    "#### issue created - https://github.com/ArcGIS/geosaurus/issues/12941"
   ]
  },
  {
   "cell_type": "code",
   "execution_count": null,
   "id": "a4d01c24-6558-4673-8fd6-c92ae322aed1",
   "metadata": {},
   "outputs": [],
   "source": []
  }
 ],
 "metadata": {
  "kernelspec": {
   "display_name": "Python [conda env:conda-new] *",
   "language": "python",
   "name": "conda-env-conda-new-py"
  },
  "language_info": {
   "codemirror_mode": {
    "name": "ipython",
    "version": 3
   },
   "file_extension": ".py",
   "mimetype": "text/x-python",
   "name": "python",
   "nbconvert_exporter": "python",
   "pygments_lexer": "ipython3",
   "version": "3.11.11"
  }
 },
 "nbformat": 4,
 "nbformat_minor": 5
}
