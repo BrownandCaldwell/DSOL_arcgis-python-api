{
 "cells": [
  {
   "cell_type": "code",
   "execution_count": 40,
   "id": "6396e945-7730-4de5-ae8b-9cda52d74af3",
   "metadata": {},
   "outputs": [],
   "source": [
    "import arcgis as ag\n",
    "import arcpy\n",
    "import os\n",
    "from arcgis.features import GeoAccessor, GeoSeriesAccessor\n",
    "from arcgis.gis import GIS"
   ]
  },
  {
   "cell_type": "code",
   "execution_count": 5,
   "id": "a6600dc6-14dc-43d8-ac6b-1bd9635cea53",
   "metadata": {},
   "outputs": [
    {
     "data": {
      "text/plain": [
       "'2.4.1'"
      ]
     },
     "execution_count": 5,
     "metadata": {},
     "output_type": "execute_result"
    }
   ],
   "source": [
    "ag.__version__"
   ]
  },
  {
   "cell_type": "code",
   "execution_count": 60,
   "id": "0310b422-77c8-47b4-99cc-9d65bbe7d4d3",
   "metadata": {
    "scrolled": true
   },
   "outputs": [],
   "source": [
    "gis = GIS('http://www.arcgis.com/home/', 'arcgis_python', 'amazing_arcgis_123')"
   ]
  },
  {
   "cell_type": "markdown",
   "id": "d0c0b03f-fa12-4530-888e-0c152ae09da0",
   "metadata": {},
   "source": [
    "## Model"
   ]
  },
  {
   "cell_type": "code",
   "execution_count": null,
   "id": "5559ce90-b30c-4060-b502-bfe7f1539c94",
   "metadata": {},
   "outputs": [],
   "source": [
    "# Usage Example #1:\n",
    "\n",
    "model_url = ag.learn.Model()\n",
    "model_url.from_model_path(\"https://www.arcgis.com/home/item.html?id=a6857359a1cd44839781a4f113cd5934\")\n",
    "\n",
    "# Usage Example #2:\n",
    "\n",
    "model_emd = ag.learn.Model()\n",
    "model_emd.from_model_path(r\"\\\\ndhfs2\\Swap\\NehaSharma\\usa_building_footprints\\usa_building_footprints.emd\")"
   ]
  },
  {
   "cell_type": "code",
   "execution_count": null,
   "id": "faffe45b-e9d4-47cc-a4da-7e843ccd5825",
   "metadata": {},
   "outputs": [],
   "source": [
    "model_url"
   ]
  },
  {
   "cell_type": "code",
   "execution_count": null,
   "id": "453fee63-0729-4e70-a3b9-cef5633eebdd",
   "metadata": {},
   "outputs": [],
   "source": [
    "model_emd"
   ]
  },
  {
   "cell_type": "code",
   "execution_count": null,
   "id": "e2bc9d9c-1dbf-4866-9592-1f9840d0b4b0",
   "metadata": {},
   "outputs": [],
   "source": [
    "model_emd.query_info()"
   ]
  },
  {
   "cell_type": "code",
   "execution_count": 53,
   "id": "6b79a90e-ecc1-4b76-b9e5-d24ce43cb7c3",
   "metadata": {
    "scrolled": true
   },
   "outputs": [
    {
     "name": "stderr",
     "output_type": "stream",
     "text": [
      "'https://www.arcgis.com/home/item.html?id=a6857359a1cd44839781a4f113cd5934' is not a valid model definition.\n",
      "Unable to read deep learning model definition.\n",
      "Failed to execute (QueryDeepLearningModelInfo).\n",
      "Failed.\n"
     ]
    },
    {
     "ename": "Exception",
     "evalue": "Job failed.",
     "output_type": "error",
     "traceback": [
      "\u001b[1;31m---------------------------------------------------------------------------\u001b[0m",
      "\u001b[1;31mException\u001b[0m                                 Traceback (most recent call last)",
      "Cell \u001b[1;32mIn[53], line 1\u001b[0m\n\u001b[1;32m----> 1\u001b[0m model_url\u001b[38;5;241m.\u001b[39mquery_info()\n",
      "File \u001b[1;32m~\\AppData\\Local\\ESRI\\conda\\envs\\dlenv\\Lib\\site-packages\\arcgis\\learn\\__init__.py:1807\u001b[0m, in \u001b[0;36mModel.query_info\u001b[1;34m(self, gis, future, **kwargs)\u001b[0m\n\u001b[0;32m   1804\u001b[0m \u001b[38;5;28;01mif\u001b[39;00m \u001b[38;5;28mself\u001b[39m\u001b[38;5;241m.\u001b[39m_model \u001b[38;5;129;01mis\u001b[39;00m \u001b[38;5;28;01mNone\u001b[39;00m:\n\u001b[0;32m   1805\u001b[0m     \u001b[38;5;28;01mraise\u001b[39;00m \u001b[38;5;167;01mRuntimeError\u001b[39;00m(\u001b[38;5;124m\"\u001b[39m\u001b[38;5;124mmodel cannot be None\u001b[39m\u001b[38;5;124m\"\u001b[39m)\n\u001b[1;32m-> 1807\u001b[0m \u001b[38;5;28;01mreturn\u001b[39;00m gis\u001b[38;5;241m.\u001b[39m_tools\u001b[38;5;241m.\u001b[39mrasteranalysis\u001b[38;5;241m.\u001b[39mquery_deep_learning_model_info(\n\u001b[0;32m   1808\u001b[0m     model\u001b[38;5;241m=\u001b[39m\u001b[38;5;28mself\u001b[39m\u001b[38;5;241m.\u001b[39m_model, future\u001b[38;5;241m=\u001b[39mfuture, \u001b[38;5;241m*\u001b[39m\u001b[38;5;241m*\u001b[39mkwargs\n\u001b[0;32m   1809\u001b[0m )\n\u001b[0;32m   1811\u001b[0m \u001b[38;5;250m\u001b[39m\u001b[38;5;124;03m\"\"\"\u001b[39;00m\n\u001b[0;32m   1812\u001b[0m \u001b[38;5;124;03murl = gis.properties.helperServices.rasterAnalytics.url\u001b[39;00m\n\u001b[0;32m   1813\u001b[0m \u001b[38;5;124;03mgptool = _arcgis.gis._GISResource(url, gis)\u001b[39;00m\n\u001b[1;32m   (...)\u001b[0m\n\u001b[0;32m   1840\u001b[0m \u001b[38;5;124;03m    return output\u001b[39;00m\n\u001b[0;32m   1841\u001b[0m \u001b[38;5;124;03m\"\"\"\u001b[39;00m\n",
      "File \u001b[1;32m~\\AppData\\Local\\ESRI\\conda\\envs\\dlenv\\Lib\\site-packages\\arcgis\\_impl\\tools.py:13722\u001b[0m, in \u001b[0;36m_RasterAnalysisTools.query_deep_learning_model_info\u001b[1;34m(self, model, future, **kwargs)\u001b[0m\n\u001b[0;32m  13720\u001b[0m \u001b[38;5;28;01mif\u001b[39;00m future:\n\u001b[0;32m  13721\u001b[0m     \u001b[38;5;28;01mreturn\u001b[39;00m RAJob(gpjob)\n\u001b[1;32m> 13722\u001b[0m \u001b[38;5;28;01mreturn\u001b[39;00m RAJob(gpjob)\u001b[38;5;241m.\u001b[39mresult()\n",
      "File \u001b[1;32m~\\AppData\\Local\\ESRI\\conda\\envs\\dlenv\\Lib\\site-packages\\arcgis\\geoprocessing\\_job.py:893\u001b[0m, in \u001b[0;36mRAJob.result\u001b[1;34m(self)\u001b[0m\n\u001b[0;32m    891\u001b[0m \u001b[38;5;28;01melif\u001b[39;00m \u001b[38;5;28misinstance\u001b[39m(\u001b[38;5;28mself\u001b[39m\u001b[38;5;241m.\u001b[39m_item, (\u001b[38;5;28mtuple\u001b[39m, \u001b[38;5;28mlist\u001b[39m)):\n\u001b[0;32m    892\u001b[0m     [i\u001b[38;5;241m.\u001b[39mdelete() \u001b[38;5;28;01mfor\u001b[39;00m i \u001b[38;5;129;01min\u001b[39;00m \u001b[38;5;28mself\u001b[39m\u001b[38;5;241m.\u001b[39m_item \u001b[38;5;28;01mif\u001b[39;00m \u001b[38;5;28misinstance\u001b[39m(i, Item)]\n\u001b[1;32m--> 893\u001b[0m \u001b[38;5;28;01mraise\u001b[39;00m e\n",
      "File \u001b[1;32m~\\AppData\\Local\\ESRI\\conda\\envs\\dlenv\\Lib\\site-packages\\arcgis\\geoprocessing\\_job.py:885\u001b[0m, in \u001b[0;36mRAJob.result\u001b[1;34m(self)\u001b[0m\n\u001b[0;32m    878\u001b[0m \u001b[38;5;250m\u001b[39m\u001b[38;5;124;03m\"\"\"\u001b[39;00m\n\u001b[0;32m    879\u001b[0m \u001b[38;5;124;03mReturn the value returned by the call. If the call hasn't yet completed\u001b[39;00m\n\u001b[0;32m    880\u001b[0m \u001b[38;5;124;03mthen this method will wait.\u001b[39;00m\n\u001b[0;32m    881\u001b[0m \n\u001b[0;32m    882\u001b[0m \u001b[38;5;124;03m:return: object\u001b[39;00m\n\u001b[0;32m    883\u001b[0m \u001b[38;5;124;03m\"\"\"\u001b[39;00m\n\u001b[0;32m    884\u001b[0m \u001b[38;5;28;01mtry\u001b[39;00m:\n\u001b[1;32m--> 885\u001b[0m     \u001b[38;5;28;01mreturn\u001b[39;00m \u001b[38;5;28mself\u001b[39m\u001b[38;5;241m.\u001b[39m_gpjob\u001b[38;5;241m.\u001b[39mresult()\n\u001b[0;32m    886\u001b[0m \u001b[38;5;28;01mexcept\u001b[39;00m \u001b[38;5;167;01mException\u001b[39;00m \u001b[38;5;28;01mas\u001b[39;00m e:\n\u001b[0;32m    887\u001b[0m     \u001b[38;5;28;01mfrom\u001b[39;00m \u001b[38;5;21;01marcgis\u001b[39;00m\u001b[38;5;21;01m.\u001b[39;00m\u001b[38;5;21;01mgis\u001b[39;00m \u001b[38;5;28;01mimport\u001b[39;00m Item\n",
      "File \u001b[1;32m~\\AppData\\Local\\ESRI\\conda\\envs\\dlenv\\Lib\\site-packages\\arcgis\\geoprocessing\\_job.py:236\u001b[0m, in \u001b[0;36mGPJob.result\u001b[1;34m(self)\u001b[0m\n\u001b[0;32m    234\u001b[0m     \u001b[38;5;28;01mreturn\u001b[39;00m \u001b[38;5;28mself\u001b[39m\u001b[38;5;241m.\u001b[39m_process_fa(\u001b[38;5;28mself\u001b[39m\u001b[38;5;241m.\u001b[39m_future\u001b[38;5;241m.\u001b[39mresult())\n\u001b[0;32m    235\u001b[0m \u001b[38;5;28;01melif\u001b[39;00m \u001b[38;5;28mself\u001b[39m\u001b[38;5;241m.\u001b[39m_is_ra:\n\u001b[1;32m--> 236\u001b[0m     \u001b[38;5;28;01mreturn\u001b[39;00m \u001b[38;5;28mself\u001b[39m\u001b[38;5;241m.\u001b[39m_process_ra(\u001b[38;5;28mself\u001b[39m\u001b[38;5;241m.\u001b[39m_future\u001b[38;5;241m.\u001b[39mresult())\n\u001b[0;32m    237\u001b[0m \u001b[38;5;28;01melif\u001b[39;00m \u001b[38;5;28mself\u001b[39m\u001b[38;5;241m.\u001b[39m_is_ortho:\n\u001b[0;32m    238\u001b[0m     \u001b[38;5;28;01mreturn\u001b[39;00m \u001b[38;5;28mself\u001b[39m\u001b[38;5;241m.\u001b[39m_process_ortho(\u001b[38;5;28mself\u001b[39m\u001b[38;5;241m.\u001b[39m_future\u001b[38;5;241m.\u001b[39mresult())\n",
      "File \u001b[1;32m~\\AppData\\Local\\ESRI\\conda\\envs\\dlenv\\Lib\\concurrent\\futures\\_base.py:456\u001b[0m, in \u001b[0;36mFuture.result\u001b[1;34m(self, timeout)\u001b[0m\n\u001b[0;32m    454\u001b[0m     \u001b[38;5;28;01mraise\u001b[39;00m CancelledError()\n\u001b[0;32m    455\u001b[0m \u001b[38;5;28;01melif\u001b[39;00m \u001b[38;5;28mself\u001b[39m\u001b[38;5;241m.\u001b[39m_state \u001b[38;5;241m==\u001b[39m FINISHED:\n\u001b[1;32m--> 456\u001b[0m     \u001b[38;5;28;01mreturn\u001b[39;00m \u001b[38;5;28mself\u001b[39m\u001b[38;5;241m.\u001b[39m__get_result()\n\u001b[0;32m    457\u001b[0m \u001b[38;5;28;01melse\u001b[39;00m:\n\u001b[0;32m    458\u001b[0m     \u001b[38;5;28;01mraise\u001b[39;00m \u001b[38;5;167;01mTimeoutError\u001b[39;00m()\n",
      "File \u001b[1;32m~\\AppData\\Local\\ESRI\\conda\\envs\\dlenv\\Lib\\concurrent\\futures\\_base.py:401\u001b[0m, in \u001b[0;36mFuture.__get_result\u001b[1;34m(self)\u001b[0m\n\u001b[0;32m    399\u001b[0m \u001b[38;5;28;01mif\u001b[39;00m \u001b[38;5;28mself\u001b[39m\u001b[38;5;241m.\u001b[39m_exception:\n\u001b[0;32m    400\u001b[0m     \u001b[38;5;28;01mtry\u001b[39;00m:\n\u001b[1;32m--> 401\u001b[0m         \u001b[38;5;28;01mraise\u001b[39;00m \u001b[38;5;28mself\u001b[39m\u001b[38;5;241m.\u001b[39m_exception\n\u001b[0;32m    402\u001b[0m     \u001b[38;5;28;01mfinally\u001b[39;00m:\n\u001b[0;32m    403\u001b[0m         \u001b[38;5;66;03m# Break a reference cycle with the exception in self._exception\u001b[39;00m\n\u001b[0;32m    404\u001b[0m         \u001b[38;5;28mself\u001b[39m \u001b[38;5;241m=\u001b[39m \u001b[38;5;28;01mNone\u001b[39;00m\n",
      "File \u001b[1;32m~\\AppData\\Local\\ESRI\\conda\\envs\\dlenv\\Lib\\concurrent\\futures\\thread.py:58\u001b[0m, in \u001b[0;36m_WorkItem.run\u001b[1;34m(self)\u001b[0m\n\u001b[0;32m     55\u001b[0m     \u001b[38;5;28;01mreturn\u001b[39;00m\n\u001b[0;32m     57\u001b[0m \u001b[38;5;28;01mtry\u001b[39;00m:\n\u001b[1;32m---> 58\u001b[0m     result \u001b[38;5;241m=\u001b[39m \u001b[38;5;28mself\u001b[39m\u001b[38;5;241m.\u001b[39mfn(\u001b[38;5;241m*\u001b[39m\u001b[38;5;28mself\u001b[39m\u001b[38;5;241m.\u001b[39margs, \u001b[38;5;241m*\u001b[39m\u001b[38;5;241m*\u001b[39m\u001b[38;5;28mself\u001b[39m\u001b[38;5;241m.\u001b[39mkwargs)\n\u001b[0;32m     59\u001b[0m \u001b[38;5;28;01mexcept\u001b[39;00m \u001b[38;5;167;01mBaseException\u001b[39;00m \u001b[38;5;28;01mas\u001b[39;00m exc:\n\u001b[0;32m     60\u001b[0m     \u001b[38;5;28mself\u001b[39m\u001b[38;5;241m.\u001b[39mfuture\u001b[38;5;241m.\u001b[39mset_exception(exc)\n",
      "File \u001b[1;32m~\\AppData\\Local\\ESRI\\conda\\envs\\dlenv\\Lib\\site-packages\\arcgis\\geoprocessing\\_support.py:328\u001b[0m, in \u001b[0;36m_future_op\u001b[1;34m(gptool, task_url, job_info, job_id, param_db, return_values, return_messages)\u001b[0m\n\u001b[0;32m    319\u001b[0m \u001b[38;5;28;01mdef\u001b[39;00m \u001b[38;5;21m_future_op\u001b[39m(\n\u001b[0;32m    320\u001b[0m     gptool,\n\u001b[0;32m    321\u001b[0m     task_url,\n\u001b[1;32m   (...)\u001b[0m\n\u001b[0;32m    326\u001b[0m     return_messages,\n\u001b[0;32m    327\u001b[0m ):\n\u001b[1;32m--> 328\u001b[0m     job_info \u001b[38;5;241m=\u001b[39m _analysis_job_status(gptool, task_url, job_info)\n\u001b[0;32m    329\u001b[0m     resp \u001b[38;5;241m=\u001b[39m _analysis_job_results(gptool, task_url, job_info, job_id)\n\u001b[0;32m    331\u001b[0m     \u001b[38;5;66;03m# ---------------------async-out---------------------#\u001b[39;00m\n",
      "File \u001b[1;32m~\\AppData\\Local\\ESRI\\conda\\envs\\dlenv\\Lib\\site-packages\\arcgis\\geoprocessing\\_support.py:246\u001b[0m, in \u001b[0;36m_analysis_job_status\u001b[1;34m(gptool, task_url, job_info)\u001b[0m\n\u001b[0;32m    243\u001b[0m     num_messages \u001b[38;5;241m=\u001b[39m num\n\u001b[0;32m    245\u001b[0m \u001b[38;5;28;01mif\u001b[39;00m job_response\u001b[38;5;241m.\u001b[39mget(\u001b[38;5;124m\"\u001b[39m\u001b[38;5;124mjobStatus\u001b[39m\u001b[38;5;124m\"\u001b[39m) \u001b[38;5;241m==\u001b[39m \u001b[38;5;124m\"\u001b[39m\u001b[38;5;124mesriJobFailed\u001b[39m\u001b[38;5;124m\"\u001b[39m:\n\u001b[1;32m--> 246\u001b[0m     \u001b[38;5;28;01mraise\u001b[39;00m \u001b[38;5;167;01mException\u001b[39;00m(\u001b[38;5;124m\"\u001b[39m\u001b[38;5;124mJob failed.\u001b[39m\u001b[38;5;124m\"\u001b[39m)\n\u001b[0;32m    247\u001b[0m \u001b[38;5;28;01melif\u001b[39;00m job_response\u001b[38;5;241m.\u001b[39mget(\u001b[38;5;124m\"\u001b[39m\u001b[38;5;124mjobStatus\u001b[39m\u001b[38;5;124m\"\u001b[39m) \u001b[38;5;241m==\u001b[39m \u001b[38;5;124m\"\u001b[39m\u001b[38;5;124mesriJobCancelled\u001b[39m\u001b[38;5;124m\"\u001b[39m:\n\u001b[0;32m    248\u001b[0m     \u001b[38;5;28;01mraise\u001b[39;00m \u001b[38;5;167;01mException\u001b[39;00m(\u001b[38;5;124m\"\u001b[39m\u001b[38;5;124mJob cancelled.\u001b[39m\u001b[38;5;124m\"\u001b[39m)\n",
      "\u001b[1;31mException\u001b[0m: Job failed."
     ]
    }
   ],
   "source": [
    "model_url.query_info()"
   ]
  },
  {
   "cell_type": "code",
   "execution_count": 59,
   "id": "89f45328-b17d-4fa4-bb2f-9d3f08fc9f6e",
   "metadata": {},
   "outputs": [
    {
     "ename": "RuntimeError",
     "evalue": "ArcGIS Online does not support list_models function.",
     "output_type": "error",
     "traceback": [
      "\u001b[1;31m---------------------------------------------------------------------------\u001b[0m",
      "\u001b[1;31mRuntimeError\u001b[0m                              Traceback (most recent call last)",
      "Cell \u001b[1;32mIn[59], line 1\u001b[0m\n\u001b[1;32m----> 1\u001b[0m arcgis\u001b[38;5;241m.\u001b[39mlearn\u001b[38;5;241m.\u001b[39mlist_models()\n",
      "File \u001b[1;32m~\\AppData\\Local\\ESRI\\conda\\envs\\dlenv\\Lib\\site-packages\\arcgis\\learn\\__init__.py:982\u001b[0m, in \u001b[0;36mlist_models\u001b[1;34m(gis, future, **kwargs)\u001b[0m\n\u001b[0;32m    980\u001b[0m gis \u001b[38;5;241m=\u001b[39m _arcgis\u001b[38;5;241m.\u001b[39menv\u001b[38;5;241m.\u001b[39mactive_gis \u001b[38;5;28;01mif\u001b[39;00m gis \u001b[38;5;129;01mis\u001b[39;00m \u001b[38;5;28;01mNone\u001b[39;00m \u001b[38;5;28;01melse\u001b[39;00m gis\n\u001b[0;32m    981\u001b[0m \u001b[38;5;28;01mif\u001b[39;00m gis\u001b[38;5;241m.\u001b[39m_con\u001b[38;5;241m.\u001b[39m_product \u001b[38;5;241m==\u001b[39m \u001b[38;5;124m\"\u001b[39m\u001b[38;5;124mAGOL\u001b[39m\u001b[38;5;124m\"\u001b[39m:\n\u001b[1;32m--> 982\u001b[0m     \u001b[38;5;28;01mraise\u001b[39;00m \u001b[38;5;167;01mRuntimeError\u001b[39;00m(\u001b[38;5;124m\"\u001b[39m\u001b[38;5;124mArcGIS Online does not support list_models function.\u001b[39m\u001b[38;5;124m\"\u001b[39m)\n\u001b[0;32m    983\u001b[0m \u001b[38;5;28;01mreturn\u001b[39;00m gis\u001b[38;5;241m.\u001b[39m_tools\u001b[38;5;241m.\u001b[39mrasteranalysis\u001b[38;5;241m.\u001b[39mlist_deep_learning_models(future\u001b[38;5;241m=\u001b[39mfuture, \u001b[38;5;241m*\u001b[39m\u001b[38;5;241m*\u001b[39mkwargs)\n\u001b[0;32m    984\u001b[0m \u001b[38;5;250m\u001b[39m\u001b[38;5;124;03m\"\"\"\u001b[39;00m\n\u001b[0;32m    985\u001b[0m \u001b[38;5;124;03murl = gis.properties.helperServices.rasterAnalytics.url\u001b[39;00m\n\u001b[0;32m    986\u001b[0m \u001b[38;5;124;03mgptool = _arcgis.gis._GISResource(url, gis)\u001b[39;00m\n\u001b[1;32m   (...)\u001b[0m\n\u001b[0;32m   1008\u001b[0m \u001b[38;5;124;03mreturn output_model_list\u001b[39;00m\n\u001b[0;32m   1009\u001b[0m \u001b[38;5;124;03m\"\"\"\u001b[39;00m\n",
      "\u001b[1;31mRuntimeError\u001b[0m: ArcGIS Online does not support list_models function."
     ]
    }
   ],
   "source": [
    "arcgis.learn.list_models()"
   ]
  },
  {
   "cell_type": "code",
   "execution_count": null,
   "id": "628ab5c9-806f-495d-b0ed-5dc52726f1f0",
   "metadata": {},
   "outputs": [],
   "source": []
  }
 ],
 "metadata": {
  "kernelspec": {
   "display_name": "Python [conda env:conda-dlenv] *",
   "language": "python",
   "name": "conda-env-conda-dlenv-py"
  },
  "language_info": {
   "codemirror_mode": {
    "name": "ipython",
    "version": 3
   },
   "file_extension": ".py",
   "mimetype": "text/x-python",
   "name": "python",
   "nbconvert_exporter": "python",
   "pygments_lexer": "ipython3",
   "version": "3.11.11"
  }
 },
 "nbformat": 4,
 "nbformat_minor": 5
}
