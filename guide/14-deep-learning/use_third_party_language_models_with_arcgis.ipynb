{
 "cells": [
  {
   "cell_type": "markdown",
   "id": "168721af",
   "metadata": {},
   "source": [
    "# Use third party language models with ArcGIS"
   ]
  },
  {
   "cell_type": "markdown",
   "id": "371479f3",
   "metadata": {},
   "source": [
    "## Introduction"
   ]
  },
  {
   "cell_type": "markdown",
   "id": "9efc4d60",
   "metadata": {},
   "source": [
    "The Text Analysis toolset in the GeoAI toolbox provides a set of tools for text processing tasks, such as text classification, entity extraction, and text translation. The natural language processing (NLP) models that are created using these tools are built on language models such as BERT, RoBERTa, and T5, and large language models (LLMs), such as Mistral, to ensure high-performance text analysis.\n",
    "\n",
    "While these prebuilt models are robust, you may need a custom NLP workflow, such as when using an LLM for standardizing addresses, performing sentiment analysis, or extracting custom entities or relationships not currently supported by the Text Analysis toolset. \n",
    "\n",
    "To meet these needs, you can integrate ArcGIS with external third-party language models. This includes open source LLMs as well as cloud-hosted, commercial LLMs accessed using a web API. Keep in mind that if you are using a web hosted LLM, the data that you are processing will be sent to the LLM provider for processing. Python developers can author a custom NLP function to integrate with external models and package their model as an Esri deep learning package (.dlpk file) for use with the following tools:\n",
    "\n",
    "1. [Classify Text Using Deep Learning](https://pro.arcgis.com/en/pro-app/latest/tool-reference/geoai/classify-text-using-deep-learning.htm)\n",
    "2. [Extract Entities Using Deep Learning](https://pro.arcgis.com/en/pro-app/latest/tool-reference/geoai/extract-entities-using-deep-learning.htm)\n",
    "3. [Transform Text Using Deep Learning](https://pro.arcgis.com/en/pro-app/latest/tool-reference/geoai/transform-text-using-deep-learning.htm)\n",
    "\n",
    "\n",
    "By following the steps outlined in this documentation, you will be able to create and use custom .dlpk files effectively, enhancing your text analysis tasks with models tailored to your needs."
   ]
  },
  {
   "cell_type": "markdown",
   "id": "4941d9fb",
   "metadata": {},
   "source": [
    "## Custom Python NLP Function"
   ]
  },
  {
   "cell_type": "markdown",
   "id": "6bf800ce",
   "metadata": {},
   "source": [
    "You can create an NLP function in Python to integrate third-party language models into a text processing pipeline. NLP functions handle text data and perform various text processing tasks."
   ]
  },
  {
   "cell_type": "markdown",
   "id": "6973c6c7",
   "metadata": {},
   "source": [
    "### Anatomy of a Python NLP Function"
   ]
  },
  {
   "cell_type": "markdown",
   "id": "eb0c423a",
   "metadata": {},
   "source": [
    "#### `__init__`\n",
    "\n",
    "The `__init__` method initialize instance variables such as name, description, and other attributes essential for the NLP function.\n",
    "\n",
    "#### `initialize`\n",
    "\n",
    "The `initialize` method is used to load the NLP model and set up any initial configurations. Use this method at the start of the Python NLP function.\n",
    "\n",
    "#### `getParameterInfo`\n",
    "\n",
    "The `getParameterInfo` method specifies the parameters that the NLP function accepts. This includes any configuration settings required to load or connect to the model as well as parameters needed for text processing.\n",
    "\n",
    "#### `getConfiguration`\n",
    "\n",
    "The `getConfiguration` method describe how the function will perform input processing and generate outputs. It includes details for any preprocessing or postprocessing steps necessary for the function.\n",
    "\n",
    "#### `predict`\n",
    "\n",
    "The `predict` method responsible for converting input text to the desired output. It uses defined parameters and processing logic to produce the final result.\n"
   ]
  },
  {
   "cell_type": "markdown",
   "id": "014a6dc9",
   "metadata": {},
   "source": [
    "### In-Depth Method Overview\n"
   ]
  },
  {
   "cell_type": "markdown",
   "id": "17735a1e",
   "metadata": {},
   "source": [
    "#### `__init__`"
   ]
  },
  {
   "cell_type": "markdown",
   "id": "e30241ac",
   "metadata": {},
   "source": [
    "The `__init__` method is the constructor of the custom NLP function and initializes instance variables such as the name, description, and other essential attributes. This method sets the properties that will define the behavior and characteristics of the NLP function.\n",
    "\n",
    "The constructor creates an instance of a custom NLP class with all the attributes required for processing and analysis. When creating an instance of an NLP class, this method ensures that it has the required settings and default values. For example, if the NLP function needs specific settings such as paths to models, or special tokens, they can be set up in this method."
   ]
  },
  {
   "cell_type": "markdown",
   "id": "80b4742c",
   "metadata": {},
   "source": [
    "\n",
    "```python\n",
    "class MyTextClassifier:\n",
    "    def __init__(self, **kwargs):\n",
    "        \"\"\"\n",
    "        It sets up the initial state of an object by defining its attributes,\n",
    "        such as name, description, and other properties.\n",
    "\n",
    "        \"\"\"\n",
    "        self.name = \"Text classifier\"\n",
    "        self.description = '''The `MyTextClassifier` class is designed to perform text classification tasks\n",
    "                            such as categorizing text data into predefined categories.'''\n",
    "        # Additional initialization code here\n",
    "        ...\n"
   ]
  },
  {
   "cell_type": "markdown",
   "id": "a9958400",
   "metadata": {},
   "source": [
    "#### `initialize`"
   ]
  },
  {
   "cell_type": "markdown",
   "id": "ba02b6f9",
   "metadata": {},
   "source": [
    "The initialize method is called at the start of the custom Python NLP function and to this method, the kwargs['model'] is passed. The kwargs['model'] argument is the path to the Esri model definition file (.emd). The method should be used to load the model weights to set up the NLP model, ensuring a reference to it for subsequent operations."
   ]
  },
  {
   "cell_type": "markdown",
   "id": "8095c1f5",
   "metadata": {},
   "source": [
    "```python\n",
    "def initialize(self, **kwargs):\n",
    "    \"\"\"\n",
    "    Initialize model parameters, such as loading pretrained model weights.\n",
    "    \"\"\"\n",
    "    json_file = kwargs['model']\n",
    "    with open(json_file, 'r') as f:\n",
    "        self.json_info = json.load(f)\n",
    "    \n",
    "    # access the model path in the model definition file\n",
    "    model_path = json_info['ModelFile']\n",
    "    # load your model and keep an instance for the model\n",
    "    self.model = load_your_model(model_path)\n",
    "    \n",
    "    # Additional initialization code here\n",
    "    ...\n",
    "```"
   ]
  },
  {
   "cell_type": "markdown",
   "id": "11e3da28",
   "metadata": {},
   "source": [
    "#### `getParameterInfo`"
   ]
  },
  {
   "cell_type": "markdown",
   "id": "23337791",
   "metadata": {},
   "source": [
    "The getParameterInfo method is called by the Text Analysis tools after the initialize method and is where the parameters needed by the model are defined. This method returns a list of input parameters expected by the custom NLP function. Each parameter is described using a dictionary containing the name, data type, display name, and description of the parameter, and a Boolean parameter indicating whether the parameter is required, as shown below."
   ]
  },
  {
   "cell_type": "markdown",
   "id": "8a0b943a",
   "metadata": {},
   "source": [
    "```python\n",
    "def getParameterInfo(self):\n",
    "    return [\n",
    "        {\n",
    "            \"name\": \"class_names\",\n",
    "            \"dataType\": \"string\",\n",
    "            \"required\": True,\n",
    "            \"displayName\": \"class_names\",\n",
    "            \"description\": \"Comma-separated list of class names used for classification.\",\n",
    "            \"value\": \"positive,negative\"\n",
    "        },\n",
    "        {\n",
    "            \"name\": \"prompt\",\n",
    "            \"dataType\": \"string\",\n",
    "            \"required\": False,\n",
    "            \"displayName\": \"prompt\",\n",
    "            \"description\": \"The number of samples processed in one forward pass through the model.\",\n",
    "            \"value\": \"Classify the following text into the defined classes.\"\n",
    "        },\n",
    "        # Additional code here\n",
    "        ...\n",
    "    ]\n",
    "    \n",
    "```"
   ]
  },
  {
   "cell_type": "markdown",
   "id": "0e5ff87a",
   "metadata": {},
   "source": [
    "**Returns**: The method returns a list of dictionaries, each describing a parameter.\n",
    "\n",
    "Key attributes of the dictionary are as follows:\n",
    "\n",
    "- **`name`**: A string identifier for the parameter\n",
    "- **`dataType`**: The type of data the parameter accepts, such as a `string`, `Boolean`, or `list`\n",
    "- **`value`**: The default value for the parameter\n",
    "- **`required`**: A Boolean indicating whether the parameter is required\n",
    "- **`displayName`**: A user-friendly name for the parameter\n",
    "- **`domain`**: A set of allowed values, if applicable\n",
    "- **`description`**: A detailed description of the parameter\n",
    "\n",
    "The list of parameters is displayed to the user through the custom model's model arguments in the Text Analysis tools. Users of the model can set these values interactively using the tool user interface or programmatically pass them into the getConfiguration method as keyword arguments."
   ]
  },
  {
   "cell_type": "markdown",
   "id": "b6d674aa",
   "metadata": {},
   "source": [
    "#### `getConfiguration`"
   ]
  },
  {
   "cell_type": "markdown",
   "id": "19ddcbdc",
   "metadata": {},
   "source": [
    "The `getConfiguration` method sets up and manages the parameters for the NLP function. It is passed keyword arguments containing the parameters updated by users of the model through the tool or provided programmatically. The method also controls how the function processes and outputs data based on the updated parameters. This method is invoked after the getParameterInfo method but before the predict method. The return value of the function is a dictionary containing value of the `batch_size` indicating how many strings the model can process at a time. The return value of the method informs the tool how the input data needs to be split for processing by the model one batch at a time.\n"
   ]
  },
  {
   "cell_type": "markdown",
   "id": "87e5433e",
   "metadata": {},
   "source": [
    "```python\n",
    "def getConfiguration(self, **kwargs):\n",
    "    \"\"\"\n",
    "    This method configures the supported NLP function parameters and\n",
    "    controls further processing based on them.\n",
    "    \"\"\"\n",
    "    # Set the class names from the provided arguments\n",
    "    self.class_names = kwargs.get(\"class_names\", \"\")\n",
    "    self.prompt = kwargs.get(\"prompt\", \"\")\n",
    "    # Set the batch size, limiting it to a maximum of 4\n",
    "    if kwargs.get(\"batch_size\", 0) > 4:\n",
    "        kwargs[\"batch_size\"] = 4\n",
    "       \n",
    "    # Additional code here\n",
    "    ...\n",
    "    \n",
    "    # Return the updated parameter values\n",
    "    return kwargs\n",
    "```"
   ]
  },
  {
   "cell_type": "markdown",
   "id": "30cd88e7",
   "metadata": {},
   "source": [
    "In the example above, the custom NLP function is configured by doing the following:\n",
    "\n",
    "- Setting the `class_names` parameter from the provided arguments.\n",
    "- Setting the `prompt` parameter from the provided arguments.\n",
    "- Limiting the `batch_size` parameter to a maximum of 4 if a larger value is provided.\n",
    "- Returning the updated parameter values."
   ]
  },
  {
   "cell_type": "markdown",
   "id": "e6798934",
   "metadata": {},
   "source": [
    "#### `predict`"
   ]
  },
  {
   "cell_type": "markdown",
   "id": "a46a855b",
   "metadata": {},
   "source": [
    "The `predict` method performs inference, that is, it generates predictions with the NLP model. This method is passed a FeatureSet containing the input features (or rows in the case of a table) and kwargs containing the field name which contains the input strings. This method returns the results in the form of a FeatureSet object. The following is a typical workflow:\n",
    "\n",
    "- Extract the input text to be processed from the provided FeatureSet and preprocess it to match the model’s requirements.\n",
    "- Apply the NLP model to the preprocessed text to generate predictions.\n",
    "- Refine or format the model’s predictions as needed.\n",
    "- Package the processed predictions into a FeatureSet object and return it.\n"
   ]
  },
  {
   "cell_type": "markdown",
   "id": "820b2c3e",
   "metadata": {},
   "source": [
    "```python\n",
    "def predict(self, feature_set: FeatureSet, **kwargs):\n",
    "    \"\"\"\n",
    "    Predicts the classification of text data from the input FeatureSet and returns a new FeatureSet with the predictions.\n",
    "    \"\"\"\n",
    "    # read the text from the input Featureset, when calling this function from ArcGIS Pro tools, be sure to use the name of the column that contains the text data instead of `input_str`.\n",
    "    field = kwargs[\"input_field\"]\n",
    "    input_text = feature_set.df[field].to_list() \n",
    "    # Preprocessing input code here\n",
    "    # \n",
    "    ... \n",
    "    \n",
    "    # Make Predictions\n",
    "    results = self.model.predict(input_text, self.class_names, self.prompt)\n",
    "    \n",
    "    # Additional code here\n",
    "    ... \n",
    "    \n",
    "    # Create featureset\n",
    "    feature_dict = {\n",
    "        \"fields\": [\n",
    "            {\"name\": \"input_str\", \"type\": \"esriFieldTypeString\"},\n",
    "            {\"name\": \"class\", \"type\": \"esriFieldTypeString\"}\n",
    "        ],\n",
    "        'geometryType': \"\",\n",
    "        'features': [{'attributes': {'input_str': inputs, \"class\": result}}]\n",
    "    }\n",
    "    \n",
    "    # Return the featureset\n",
    "    return FeatureSet.from_dict(feature_dict)\n",
    "```"
   ]
  },
  {
   "cell_type": "markdown",
   "id": "62a2a40b",
   "metadata": {},
   "source": [
    "## Esri Model Definition (.emd) File"
   ]
  },
  {
   "cell_type": "markdown",
   "id": "b68e249e",
   "metadata": {},
   "source": [
    "After creating a custom Python NLP function, include a reference to the function in the `.emd` file by specifying it next to the InferenceFunction parameter. This ensures that the `.emd` file correctly links to the function, enabling it to be used in an NLP processing pipeline."
   ]
  },
  {
   "cell_type": "markdown",
   "id": "81615ba8",
   "metadata": {},
   "source": [
    "```json\n",
    "{\n",
    "    \"InferenceFunction\": \"MyTextClassifier.py\",\n",
    "    \"ModelType\": \"TextClassifier\",\n",
    "    \"OutputField\": \"ClassLabel\",\n",
    "    \"Labels\": [\n",
    "        \"positive\",\n",
    "        \"negative\"\n",
    "    ],\n",
    "\n",
    "\n",
    "    # additional keys here\n",
    "    ...\n",
    "}\n",
    "```\n",
    "\n",
    "Note:\n",
    "The .emd file must include the following keys:\n",
    "\n",
    "- InferenceFunction — Specify the name of the file containing the custom NLP function.\n",
    "- ModelType — Indicate the type of model based on its task. Supported values are TextClassifier, SequenceToSequence, and EntityRecognizer.\n",
    "- OutputField — Provide the name of the output field that will store the results for TextClassifier or SequenceToSequence models."
   ]
  },
  {
   "cell_type": "markdown",
   "id": "a5490415",
   "metadata": {},
   "source": [
    "## Custom Deep Learning Package (.dlpk) Model File\n",
    "\n",
    "To complete a custom NLP setup, create a .dlpk model file. The .dlpk file allows you to use a model with the with the `arcgis.learn` Python API and the inference tools in the Text Analysis toolset.\n",
    "\n",
    "Organize the files as follows:\n",
    "\n",
    "1. **Create a Folder:** Create a folder and include the custom NLP function file (for example, MyTextClassifier.py) and the Esri .emd file (for example, TextClassifier.emd). The name of the folder must match the name of the .emd file.\n",
    "   Example folder structure:"
   ]
  },
  {
   "cell_type": "markdown",
   "id": "ed5e4a77",
   "metadata": {},
   "source": [
    "```\n",
    "TextClassifier/\n",
    "├── MyTextClassifier.py\n",
    "└── TextClassifier.emd\n",
    "```"
   ]
  },
  {
   "cell_type": "markdown",
   "id": "de30fb69",
   "metadata": {},
   "source": [
    "Include any additional files or folders as necessary for the NLP function.\n",
    "\n",
    "2. **Zip the Folder:** Compress the folder into a ZIP archive. Rename the .zip file to match the name of the .emd file but with the .dlpk extension. Example final file name:"
   ]
  },
  {
   "cell_type": "markdown",
   "id": "c9dba74d",
   "metadata": {},
   "source": [
    "```\n",
    "TextClassifier.dlpk\n",
    "```"
   ]
  },
  {
   "cell_type": "markdown",
   "id": "24501dd6",
   "metadata": {},
   "source": [
    "\n",
    "This `.dlpk` file is now ready for use with the `arcgis.learn` Python API and can be incorporated into the text analysis tools inside `ArcGIS Pro`.\n"
   ]
  },
  {
   "cell_type": "markdown",
   "id": "2e89402c",
   "metadata": {},
   "source": [
    "## Using the Custom .dlpk with the arcgis.learn API"
   ]
  },
  {
   "cell_type": "markdown",
   "id": "da397fa7",
   "metadata": {},
   "source": [
    "The `arcgis.learn` Python API supports for third party custom models through various classes, including `TextClassifier`, `EntityRecognizer`, and `SequenceToSequence`. To utilize your custom `.dlpk` file for inference with these classes, follow the steps below. The example provided demonstrates how to use the `TextClassifier` class, but you can apply similar steps for the other supported classes."
   ]
  },
  {
   "cell_type": "markdown",
   "id": "53afac4d",
   "metadata": {},
   "source": [
    "### Example with TextClassifier"
   ]
  },
  {
   "cell_type": "markdown",
   "id": "26a42451",
   "metadata": {},
   "source": [
    "```python\n",
    "from arcgis.learn.text import TextClassifier\n",
    "\n",
    "model = TextClassifier.from_model(\n",
    "\"path_to_your_custom_dlpk_file\"\n",
    ")\n",
    "\n",
    "results = model.predict(\"Input String or list\")\n",
    "\n",
    "results_df = results.df\n",
    "```"
   ]
  },
  {
   "cell_type": "markdown",
   "id": "4b57d9cf",
   "metadata": {},
   "source": [
    "\n",
    "1. **Import the TextClassifier Class:**\n",
    "   Begin by importing the `TextClassifier` class from the `arcgis.learn.text` module.\n",
    "   \n",
    "   \n",
    "\n",
    "2. **Load the Custom Model:**\n",
    "   Use the `from_model` method to load your custom `.dlpk` file. Replace `\"path_to_your_custom_dlpk_file\"` with the actual path to your `.dlpk` file. You can also define additional keyword arguments as needed.\n",
    "\n",
    "\n",
    "\n",
    "\n",
    "3. **Perform Inference:**\n",
    "Use the predict method of the TextClassifier class to make predictions. You can pass a single input string or a list of strings.\n",
    "\n",
    "4. **Extract Results:**\n",
    "Convert the results to a DataFrame and extract the information as needed.\n"
   ]
  },
  {
   "cell_type": "markdown",
   "id": "c05c73fc",
   "metadata": {},
   "source": [
    "## Utilizing Custom Models with the Text Analysis Toolset in ArcGIS Pro\n",
    "\n",
    "The Text Analysis Toolset, part of the GeoAI toolbox in ArcGIS Pro, supports model extensibility through a variety of advanced tools. These tools include:\n",
    "\n",
    "- **Classify Text Using Deep Learning**: For categorizing text into predefined classes.\n",
    "- **Extract Entities Using Deep Learning**: For identifying and extracting specific entities from text.\n",
    "- **Transform Text Using Deep Learning**: For applying deep learning models to transform text data.\n",
    "\n",
    "To leverage your custom `.dlpk` file for inference with these tools, follow the steps outlined below. Although the example provided focuses on using the **Classify Text Using Deep Learning** tool, the process is similar for other supported tools such as **Extract Entities Using Deep Learning** and **Transform Text Using Deep Learning**."
   ]
  },
  {
   "cell_type": "markdown",
   "id": "67b0d230",
   "metadata": {},
   "source": [
    "### Example: Using Custom `.dlpk` File with the Classify Text Using Deep Learning Tool"
   ]
  },
  {
   "cell_type": "markdown",
   "id": "0b6218c8",
   "metadata": {},
   "source": [
    "To utilize the **Classify Text Using Deep Learning** tool effectively, follow these steps:\n",
    "\n",
    "1. **Locate the Tool**: \n",
    "   Find the **Classify Text Using Deep Learning** tool within the **GeoAI Toolbox**. This tool is located under the **Text Analysis Toolset**. \n"
   ]
  },
  {
   "cell_type": "markdown",
   "id": "85c44539",
   "metadata": {},
   "source": [
    "![GeoAI Toolbox Navigation](data:image/png;base64,iVBORw0KGgoAAAANSUhEUgAAAiwAAAMRCAIAAABAhnp5AAAAAXNSR0IArs4c6QAAAARnQU1BAACxjwv8YQUAAAAJcEhZcwAADsMAAA7DAcdvqGQAAKfdSURBVHhe7f0LXBznfS/+zwijq21J6GJJC4KVZNe1pciOrbAhUdjkJE2qvhrBAuaUTXpO2vh/dNyCALc/aI5zaW5nOW5XCFonbXLOaY6zUijSgpI6jt0mhVzwYFmNfJGtOJGX9YJQJFuWrDuSmP/3mefZYXZ3dvYGGkCf92teyszzzB3n+ezzzLDIp06dkgAAAOwwR/wvAADADYcQAgAA2yCEAADANgghAACwDUIIAABsY/J23Ipdr4k5AACAyXaq6XfFXLIQ+sVn7ylZMlcsAwAATIahM2Mf+ParqUNo5C/uK1iIEAIAgMl0+uKY428OG0MIz4QAAMA2CCEAALANQggAAGyDEAIAANsghAAAwDYIIQAAsA1CCAAAbIMQAgAA2yCEAADANgghAACwDUIIAABsgxCacr/pe3HBl59/5IgqlgEApoG//tKXHqqpMU7d//zPoi6VI0eOiDkzR48evX79ulhIJacQ4s1rzPTXr/9IRWsLADADuN3uL37pSzSJ5fQcOnSIAuyf/umfxHKsQUWh2j179ojlVLIMIfXI6xQ5m15b+vLnt1z6wvv4dPHz97StPP39V8U6wG1wb6ab88S9slgGAJgeVqxYca9GLKfnvvvuK3W5fvjUU4k5RAnU3t6+atWqP/zDPxRFqWQTQpRAC/ef+UzVlkv/fe0GeaJtleVbG/67C60tAMCUMh0Nu3z58hvHjomFqZSXl9fY2JiYQ3oCUddqyZIlojSVjENI/e2bW/edlu4tQdgAANx4pqNhlEBf/9rXvvSlL505c0YUTaXEHMougUjGf9TuN30vbuqX2na8p+GOtELoR/uVyiMi6h740D0/d9/K5zneqRIL5N6SS1Urxbyhy/X30q8nVlOX9Hzhzk9Ee2BsnX2X6Hzu+vkgO9CKVS/vKOL9M+udc3HrGM/Q4szZTfjpFbFgOKJpuX4VPLb1GyhOmKjzEu+n8ehsVx+6vMmwEwC4aV2/fp2ae2r0t/3BH/zX//pfqYQn0NGjR2mRCvlqKVGS3XPPPTUPPUTzD9XU0L81RFtMk34mDzzwwOHDh9NJoFz/qJ2qnv/ha5eklUu3xTfmJlT15CN/rVSeXMOfG138b6uk/lc+2Hc+Wnu+4xsKy4//Jp4qXfx8yWdeeSPx1YaXfvrSwqNLJtaRTld++ddx6/xzcPD7d5eydbQRwnR2brLOf1v1HlFldeYUDyxFolv1RG9msnIT8pWWfzgoTpjW3Hip5Zsvdfw25sQqX1mg7+rl332HEojXAsBNLq4Xkl0CTQp+JnfffTd1zubNn59pH4jLLIQk6eLRk5K0cr7xUVAyzwTf+L9SQU+0lyDfsfafyhcc6j/OY+BY/7GWkwuMPQBZXvn3O9Y8IJ3+av8FXsIdkpa+7FnB5/V1KoOGDpx85dDKdcYuQjo7N1nnjrVPaN0dizOnfPr+K5K0cbW+1SfcPPbMy/l8Iupa6Sf88Q/SiV3659eSntgG9+aee8f5PACAMYca6uuzSKDuf/7nU6dOvfrqqzSjv5lNi319fXw+TS8cPPjrX/86Pz//4oULvb29ojQTmYaQCfW3b37wrxX9LW3eY4g2ykv0cTOyfsUCST7z/VfZh33zHtXKgodWSodeO/0bQ0fnMx8SYcBRJDy2UZJOXo5Z526RUiSdnSddJ9WZS9LCu2mTV87EdcWSl5tR5z30u4vEPFk5n3pgh96+SLPJTuzjdxeIOQAAQw6dOXMmiz4Q5c2KFazZfP7gwe7ubv0duaGhIa0+LfpzoI7OzsT3FNKUVQjFBgClws+/6LqkDVs9oEY/sJ+8/BL9e2RIDyeaDE9fzHtUsnzrXdT40v5FQXLGddR5dy8Xs5p0ds7WeeB3C0w6K5ZnTjup/1ABBVLlVw4u+Mab+n1IVp65DPqaAHAz4znU0tqaxSjcF7VfD6KJP1WKW0yH8U2EZcuWGUcIxRrpySyEZHnlJ3kvRBSk8MCH7uFPNYzTtHi0zpMmOYszl++9i+bZ+NipE5socvZTaDDJygEApgjl0AMPPCAWbqDEd+GMI4QZ5VDGPSE2LiSfiXtsY8IwxGRGG7yK7VERVT3/Ou8HiAITaayTxs4tTi/FmQufqGKdPxY5r4zq7xSQZOUAALPDSy+9FJdAnDGH0v8GoIxDiD7vUwt7qP+YdQsr+kxJnpHI8q3bfneBdPKdH8b1Fk6e/ueEUbL/ezT2JfJXj7ecmmM+kqZJZ+fR0zPJCeszj6NF8pWjb4lFXbLylExPjOKz86enxQIAwORZuXJljfZ+dvruuuuurVu3xiUQx3Po937v98o+8AFRlEo2z4Towz57q/gfDupvLQtvXT4kT+xQe+kr5nVq9gpDdJBqffn6tpVxryaf/LNvHj+0cs0/lRse2pMjQxMvdvNflV2xKn6dWOns/OOedZ+RYtc58jo/kMWZ034eMYyzPXP0tKQu+eQ9ScuzED2xiaM/E3yFcpfPAwBMohUrVmT0u0Fk/vz5j/zZnyV7G5ty6LMPP+xwOMRyKhn/sqqONetffuP/GlKHMfzmJolfJ/b3TEnMb3cm/E6o/muenzwa/b1OkvgLrdovq+ovNOusd87F/E6o4ZdGk515fLn+G6lJymk22S+r6icstt24Tr8u1vX55kTw0Jn/bMVx404AAGaixF9WzT6EboC45vtmhlsBALNArt+YAHY5dupS1uN7AADTFkJoBlDVk/7+S3G/PwsAMAsghKYd9cjrxt8xEk+MpIKe6HcXAQDMGgih6eeeJey7VvUva/jKEHtn4Yt3oRsEALPPtH4xAQAAZhO8mAAAANMIQggAAGyDEAIAANuYPxN6veE9a5cuEMsAAACT4dLV60u//sKR/3bnyoW38BLzntBt8/JkCihMmDBhwoRp8qaF+XkUMScvXOdZQzAcBwAAtkEIAQCAbRBCAABgG/MXE0b/8v4b9suq3/72t8UcAADY57Of/ayYm0rz/nrw3z+1buOKeXxxWoTQI488IhYAAMAOTzzxhC0hhOE4AADIwNWrV994443/+I//eP75548cOTI6OioqsjJpITQ+Pv7uu+++9dZbJ0+ePH369MWLF0UFAADMCkNDQ//wD//wP/7H/+js7HzqqaeeeeaZvXv3/q//9b++9KUv7d+//9KlS2K9TEzCcNy5c+cikQglEOXQ/PnzqeT69esUlXPnzi0oKFi7du0tt4hfSjKF4TgAANtZD8dR8/7DH/7w3//939/3vvdtvu++DRs2zJkj+jAXLlx49dVXf/rTn144f76uru6uu+7i5clM5nCcqqrhcPiVV16ZN2/e3Xff7XK57tc8SLZsofihfDp8+PCZM2fEBgAAMNOMjo76/f4XXnhhx3//7zUPPUQxoycQWbRo0ZYtW5qamt5XWkr9JOoSUWKJujRkH0IXL1586aWXqCN1zz33rFu3bvHixbLhD97k33LLihUrNm3atHLlytdee+2NN96gxBJ1AAAwQ1y5cuXb3/72suXL/7//7/9bv369KNUcPXr0rbfe4vMUS5/4xCf+vL7+xRdf/Jd/+RdemI4sQ+j69et0+Pnz599333233367KE1AsVRUVHTvxo2nT5+mPpMoTc/Q0JCYAwAAm/zgBz+45ZZb6urq5i+I+ULRUCj0rX/8R5rEsqa4uPjTf/zH/f391PEQRalkGUKUKBQwGzZsyMtjXwTEUd8oMjyc+KbEbbfeeuedd1L5u+++K4pSGRkZefnll8VCVOLjKwCAWeaXv/zl3/zN3zQ3Nzc2Nv7P//k//+3f/i2j0a3JdeTIkeeee+7Tn/50fn6+KIrifSC9J6Sj3tKHyssDgQB1oUSRpWxCiLo1v/3tbylXjMOC1Df61a9+NRyJzJsnHjcZUW9p9erVv/nNb2g1UZQcJRAFKV08rX/16lVeSD+G7u5uPg8AMCvt2bPn29/+NnUyqAWn1m94eLinp8fv96fZoE+6YDD40Y99bI3DIZbT84lPfII6T//+7/8uli1lE0JDQ0OOwsJFixaJZQ11vi5fvrx6zZqCggJRFKuoqIg6T8ePHxfLSVDwPP/887S3M2fO0Az1h3gO/frXv6aQy6gzpCodDxnU1HQoKpXV1PzF/uG0H1Cp6vD+v2BbimUNFYmdGmS0Wx07oaw2BIBZhvpAv/jFL2jmAx/4wF/8xV/81V/9VVVVFXVBKJMOHDjA17mRRkdHqctRVlYmltNG57xly5ZXX31VLFvKOIQuXrxIYbPqjjvEsoY6RtQpu/XWW4vXrhVFCajbtGLFinfeeUcsJ7Fhw4bKykq69e95z3vq6ure+9738m7giy++uGDBgsQxOgsjI2+qH2z+56ju7gaXLLsaurv/pqrQ8A5FCiODz4WLHYViiSus+hu+z+YPqvohMttt1ODzP5PWOrLYEABmmR/+8If0b3l5OTV9TqezsLDwIx/5yH/5L/+FCvv7+9MZRppcR48eLSwquu2228RyJn73nnsikcj58+fFcnIZhxB1UChsjOODFy5coL4Rdb7uuusu4wtyiZYuXUrnpI+wWVi3bl3cy+ZHjhyhcMoohIZHEtIjC2wv7y8164xSJ2nkTSmXQ/A9bH1fqVgGgJvVlStX+EDRhz/8YV7C3X///dTk0gx9+ucl6RgfHw/s2fPSS/EN5smTJ7/5D/947tw5sWzp7Nmz1HMQC1pTTx0j3YVowIjlKN7CL1++nP6lPWirWMk4hMbGxvhvpHIUzq+//jpdsKqq1Pmi7mSic9Fz5RvSHviihXnz5m3evJlm3n333Z/85Cc+n++OO+6g/h1d4a5du6jHmvJXc1VV0foYMekRHVpjY1/RefY/bDBNGxQTq2mDdnyQrdb/8+Q9FZOA0vYntjUO4iUpnwhK40HpVLRaALhZ6G0ajxyjJUuW0L8Z9YRob8ePj8blEE+g4eHI6VQjUhylzry54lsLFEX50he/+LWvflWffvCDH/AqYyGfKOR4RyWd4Mw4hCjljG/EUXTzw9ANohlTavTVDv4iQ/q3kjqnX/ziF3/0ox/RR4NHHnmENqfFu+++e9++fZ///Od/+tOfivVMjZj1UoydIzYvPf+X7VLjP3d1+f9zcfh7wUEqprT4y4f+VnqUjbBRee1aNWlfhx0iJubYU6im596/S9u2+YM/+9u/5MGWrFzfA3WJgn/5t2/+Z7YGHfP9GT4GBICZjpKGx8+RI0d4CXfmzBneQzJ95yuZRYsW7fhv/z/qjug5xBNobOzKn/7Jn1o8NzGiboM+cHVO+04cPm+N2nzaiq88N5phFjIOIUog46msWrWKH+aWW26hMzYlR1+i47+vanynzgIdaNu2bX/xF3/xgQ98gNJoz549VLh79+5Dhw594hOf+NznPvehD32Ir2lueORN+c2u5lret6A+D5XxNp93a9h8+E1H4+PsSY5c6NB+KCwM2r8n/eddDS7e9aGkiu9OTTBGGttW6fzbn219lO2QLZd6KNieGxxJVk6zcc+b+IHkwqoqcXQAuIncf//99G9PT8/wsBgLOX/+/P/5P/+Hmtw77rgjoxAit912m55D/f39egI5nSVijVQoF/U3sD/2e7/36KOPPvJnf6ZPH/lP/4lXGQtp+h+PPVZQUMA35H04axmHEN0ICjqxoL0FsWHDBmrFKVo2btqkfWtPvNuivUu+YTrZSEH6yiuv0IzD4di+fTt1gF577bWXXnqJfhiPPfbYxz/+8WTv4OkoY2LeSmhwUWFcR0jaWs2DYeLpDouFrdWeaOqwpEr6yCb+nQK2bLZysnJ+Pu8vZSEoF5a+v/jn/tq41/AA4ObBmzXq+rS1tfn9/m9+85tf+tKXjh07Rq3rpz/9ab5ORvQc+penfphpApH169dHIpHL0XHCNQ4HlehWrlzJy8VyFH+R4fXXX6cV0nmpIeMQuv322ymcjUNqixcvdhQWjo2N/ebXvxZFSZw9e3bBggXphFA4HD569KhY0DpP99577/79+zdu3CiKUontpTDUI9GfEiW8EcDjwBG3mdmbccJEbhnFLLOYE70os3K+B72bVVj1N13NH6QcwgMhgJvQT37yE/4eNrWx9Gmbsufll1++dOnSsmXLGhoanE4nXy1TPIcKCwszTSBSUlKycOHC559/Xiynjc7/4MGD1GiLZUsZhxBd0i233HLy5EmxrCl0OKjbRQE+MsJGmUypqnrq1KmlS5eK5SRoD319fT/4wQ/oB/D000/rv6+6adMm2v99993HV7NmzJsJMd2auLQxxoFAOwl+j8VF+m8lxEjZMUqIONnVQDkU/l6QvzoBADcJSiD6kE0z999//9e+9rWWlpaqqqrt27fX19d//vOfv/POO/lq2aFGe2dDfaYJxP3hH/7hj370o9OnT4vl9Py0v/+dd975yEc+IpYtZRxCpLi4mPpoxt/glbWv8KEuDpUne/lvdHSUNnHEtfQJqENKFi1aRFHH5/lbFnfddRdte0fs7yclxUIlvpei9UCi+FCafi56JBU6os9rpMHOv/25LCfsJSoxt9i2/OUG7e0G9hyo3kUBlqxc9IhYudIh3tkzPXEAmMWMCfQnf/Inc+bMWbt2LbXgv/d7v3f33Xcbfx/mxnvf+95Hbe93n3zS+CqAteMjI0899VTtQw8lvuZnKpsQWrly5eLFi3/9618bvxib7tRdv/M7jsLCi2YvT1+4cOHNN99cv359yhu6YMGC97znPXT36d/S0lIKIV5OG3q9Xj6fmmkvpfR9W6Wf/e1D7M003iliSaDhgaK9oFBVvTXMX2d4/n27ateq8f0jnZ5bUbTt449u/blfexVCexeOv92QrNxwPsMjb/7MX8tWaPre2kcf9yTpewHAbPPiiy/GJRAvnz6oXXrr7bd/8IMfxOUQf94T99SH+kxPPvnkAw8+uGnTJlGUSpZ/1O7q1auHDx9evmJF8dq11HSL0iSoA/Taa6/RuVJvSRQZmP5RO7paCrnf+Z3fEcsAALPRwYMHqRFetWoVhVDKtnRKWfxRu2PHjlG0LLr11k9/+tP6+whkYGDA4XAUFxfzRUVRvn/gALXztJrFu3yT80ftqF9CCfH2W2/xR2ei1MxvT57k37iT0YM1+jiABAKAWW/Lli3btm1773vfa28CWVu/fn1LS8uqO+7w/+3f/uuzz+rvbZeVlVEC8dco/s///t+UQNu3b6cky+ht8pz+vPe1a9feeOMN6n9RGC5fvny+4ZsUVFU9d+7c6Ojo2bNnS0pKLJ7l4M97AwDYzvrPe3PUo/jhD3948uTJxYsX82/0uXzlCvVGKAvuuusuj8ejP0CxENcTyimEuLfffvvNN9+k/tDcuXOpx0Ml/NsTKB6XLFlCCWQMp0QIIQAA26UTQhx1PKj7QR2Mq1ev3nrrrUuXLt2wYUP6vZ/JGY4zWrZs2f3330/dSeqXUercfvvtK1eupHOibubdd99tnUAAADCzUHfnwQcf/E//6T994hOf+OAHP3jvvfdm+m0ORpP2JgaFDfXOHA5HUVHRqlWr6CyNXzEHAACQaNq9DggAADcPhBAAANhmEl5MyNG3v/1tMQcAAPZJ88WEHE3+23EAAABpmvy34wAAALKDEAIAANsghAAAwDYIIQAAsA1CCAAAbIMQAgAA2yCEAADANgghAACwDUIIAABsgxACAADbIIQAAMA2CCEAALANQggAAGyDEAIAANsghAAAwDYIIQAAsA1CCAAAbIMQAgAA2yCEAADANgghAACwDUIIAABsM5NCSGmvqGjqjqiqWJ45VDXS3VRRUdGuaCfPLkS7El4LAHDTyj6EqFmtjEVNrKib4SgkxCXFohARawAAwGTIqSekltR1BIM9UY0uWVRMDVdjb++umiKZHYX1LKasV0QH4lfUUVdCi+Ut4hp7G118BQAAmBR4JgQAALaZ5BDizz7E4JXxEUjsQJbx6Y5xWM+4mujrKO2sXNsV3w9/vtKwZ0ge2tPg8STux/i4JeZ8JqPnZNwhiRuBtK6NN7Jv4txi70+y/fBr1FeOW4y5WO1OWZcDANhukkNoWBkp6+RjVz2t7j7f7kEqLHW5pT5lok1UFaVPctdWF8ky5Up9oLhFG9MLBju8YZ+xOaaYqVdcVNXb2+jSRuFYoVxUs6u3o66EDwbyATq2n4EyMTbYWhyo302HowPtpr23sjJWXMZ3kD1qzD0NeySvuEI6h/42D0VbOrVxZHko4Bup1dYMtpTL/W3GaEm2n8LqZrpuqa+Lxamq7A+E6CZ07iylKopo2opfbDDYQnfcV6ndhEh3c30g5BZ3odPr0A4CADAt5BRCvC9i/IhdVNNImcBrJ7KntMrr7OvaN8zLpUGlz+mtKmWf0LsojVp38oChdKluZitO9GPU8lathbWm7cfpbWapxpa1wykUf8ORsOR0RFtdV414npQdvdFvri7kJTwSQoH9PPAsanlJHP3C6YS1aGH3yno/4hZJtDQ4vI9unrhqFre+PrW8hT+Wk2UX3QJZ7mc3YWRkSJb1u1BUU6PHOQCA7SbtxQS9s0If5Hksedr6+WrUdLrKnKEBhY+GsQwqc7E8GBkJSW6XMWUKi4ql0MiIWDIkiCXWzrI8FMelHsGQHI4MU5ep1h2i8kkZiNMiTZKKi/Qko+ui05UkOlSq2gSUr/qFZ7QfuiiKIeo50UVSBInI17aiQn4HCNWyclLqKldVujtUmKxbBgBgl8kcjqPP4+0VE8NiwZZyUUHhwlNomPda3LXRj/mThdp0Pqan21VTROX8PbfW4gB7ehT73GX2oXvAr13HPhfI7KXCIBu+ZFGEZ0IAMK1M6jMh6uNI7la/GBbjn+k53imhFBpWBkJulxgRcjickjZupmPbpNn9MUjcTyxqhqkVNg70ZYP10liHRO9UqWpEdFsoUq1rTUz0kDLaD6W4PxCivGkpV0MBv7iihK3iaM/RetnDJ7l/YlwUAMBukxpChjDgbaVWKpS6KIX27x+Q2OMgjZZMUp+PPT+nRWpt99E27lr9qZIF47hd4n6627Un99r/aquwIbuYs8mceNAytMcfbcSH9/n3DMn80Y51LS8xYi8m+PfxzOBrOr1VKfcjbhF7nFTKnnxJFENsJ/pW9dqbIIT1SrVBSPpf/eW66FDfJHdDAQCyJp86dUrMRq3Y9droX95fsHCuWE4i0t1UP1DWGe33cFTIn0awt7ZqR+p9UmuPaIVZA9pcH5C8yTYhJXUdfBiNJO5faa+g/fHfGOV7o9aZHUhbh2rb+sWafD8UQnTAIXH0EjpwOvFmxM+tvCWo/x4uewkt+qwrcZ/JasW1s3fU2N1gF9Ln9HqL9+wRKxsvnCTbD79GfWV+etQr4vfEeCeJuAmGXRHjtQAA3Hjz/nrw3z+1buOKeXwx+xACAADIVFwITepwHAAAQCYQQgAAYBuEEAAA2AYhBAAAtkEIAQCAbfB2nImfhs+JuVnqQ8W3iTkAgBsLr2inRvdIzM1SV76Y+mthAQCmAl7RBgCA6QI9IRMYjgMAmCIYjgMAANtgOA4AAKYLhBAAANgGIQQAALZBCAEAgG2ShpBs+JM/Fl7R8HlVVV944YVLly7xxWROPNM1dvqkWIhSxy6PnzujT7QoKqJoE9pQLOiGle99T0n2h0LffVV59d3o7DP6imz+mWf0Km0nz0wsGVeNW2JH09ccVrq6upLtM8mh2R5oq+g+jFXafHTvEweKOTe2jn5mcdgmhrqYo8YuWVRNHI0VRw88/Kp+BgAA7+ZG7CUqaQhRooi5BMaqlzU0Mz4+vmfPnpUrVy5YsIBXJUNZ8upXdxxu9hin49//p9+8dqTly1+jiWZoMW4F2iQxhFTe9CY51dvvcd1zu5j93cUnvtf1HPtLo+rZIz/63o/edUSrtJ386MhZ8VdZlf/zuR/lfaA0+sdHb//de/IGffsUtqGyzzeYd8/viu0KXcWje3nznbhP00PTAh1q72jxx0Ud3/nfan8Ale2B9s5rHI68wW88+yoVO6QT3/jWM9rf8FYjz3zrGyckh/nFGkPI+iqSVdECvxM0o53Oa+/eph2rUJwVAMCky2Y4jjpJ1JiJBQ0l0N69e7du3bp27VpRlLnVK5Y9XFNBE82IopxFupsqNca/LkqS/onrQaUvrpL9IfFwhJp39sexY6rYXzM3iNtnskM7HQ4xR9jOJ8TugR1Ull3sr6Jr6TKsDITcLtM/Fh7P4iosqowKXWXOvjaPR//T4AAAUyHLZ0LGHJqUBLoYOfbuob5Fb75ME83QoqiwxnIgoQHV0Ef+9oqK+oGyjmCwp6cn2FIuKrI2MhIScylM7qFLtRSKqBEtg27Q1+3IclHNrt5gR13YV1lRQUmEKAKAKZH9iwl6Dh05ciTHBCIXIsdODTyrT7QoKqyxD+yhwH6zr3pjHRd3q7+6SOs6sKV0JKaa3gFKqEqaSpaHDo2MiDmS2C9JxFNoMJMMyuQqJqoSUBL5ezq9zr6ufWY5DwCQs+xDiFAOrV69eseOHTkmUNboA3u1v9Xd56toYg9WeCH1Q6KDSKK1VSPd/oBlNyaaDNTs1rpDgfrd/LO/qkb2+QOSt4oNgvHA8+/jB6KjtPVbjIwlPbTc38ZPjzpMu319Tr7z5MSIXFfaY3GWV2F1gQaGe8ikykkAgCzlFELE7XbblUActdE76dO6FGjwePgzmMouR1Upa4ibvdKeBq3QLzW3usUGiUqr6MN+m8dT0a7Qkquxt9MbpkXazuNpGCjr3FVTROVa4BkOpLg66kq07eNZH7qkrsXRxWo8nrY+dyvfuTU6QSlESZHBWFyyq7CumuBwhH38JNkKja60wg8AIFM2fHfc4WaPmMvcff6gmJsGlPaKLodZC55cFpsQ6pdQsnZGx/cAAGyU+Jq10bVr12655RaxYIYixuYvMDX5dZ+0rfp4rZizGwsGn9TaszPNITIuixBiI2bN9eb9FQCAG84ihIaGhv7f//t/f/zHf1xSYj5QROwPoZmLIkR/DqSq5ZkmEMk0hPgR1fKW3kaXKAIAsFWyEKIE+va3v71s2bK33377s5/9bLIcQggBAED2TEOIJ9D73ve+T37yk9///veff/75ZDkUF0K5vpgAAAA3OWMC0SL9S/NUQuV8BQsIIQAAyMnIyIieQBzPISoXy8khhAAAICcf+MAHjAnEUQmVi4XkEEIAAGAbhBAAANgGIQQAALZBCAEAgG0QQgAAYBuEEAAA2AYhBAAAtkEIAQCAbRBCAABgG4QQAADYBiEEAAC2mRZ/yuHgwYPvvPOOWIhaunTpli1bxAIAAEwP1n9ZNaVJ/lMO58+fF3M5OHTo0AsvvPCGAS1SoagGAIBZKqcQkmX56aef7unpEcs5ePDBB3cY0KKoAACA2Sv74ThKIFVV9+7dSx2XjRs3bt++XVSkcrjZI+Yyd58/KOZiRbqbGvaIv56U3R/engpKe4Wvz537yRj/rLgu67/5nemfGAcAMJrc4bgsQ4gnEM1QCNG/99xzz9DQUJo5ZBpCSzZuWXLvxBOgM0cOnnnloFgwSAwhVY3sa64PhCbaelVp3y3tbHTZH0KTjqWa1Jpd9ugQQgCQC/ufCekJpNu8eXNJScmBAwfEcubyb186tnilMnyaJpqhRVGRyvA+f0Dydhp6G7KrcVYmEADA7JNxCCUmEJdRDi1wOG9df69xmluw8vKVK6GR4zTRDC3GrUCbiI0NVFXZT52g2uqiJONdke6myqiKdoUXUuepu4mW2L+svKKpO8KuiLoI+jqEVbMaVqXvR185uhO2EduMborSHrcO1dEc25dG3wlJeTJpMt0nZ1GlSzxnAIAbKeMQMk0gbtOmTaOjo6dPnxbLya3Z/pn1j3zZOBVs+fDqFcs/W72dJpqhxbgVaBOxsdGg0ie5XaViKQ61wvWB4pZgsKenJxjs8IZ9xra4z+eXmqmmp9UdCvj3UdiUutxSOMJTh7JBGRDxxvYzUNah7aentThQv5sih+8k3KU4Ont6extLh/c1+8J1HXydMl5rlOnJiApLFvu0PhxH8Wd9zgAAUy2b4TjTHBofH9+7d++2bdsKCgpEUXLHnvjCi49WGacTz3SFho9/btcTNNEMLcatQJuIjdOjdZIkb6cYppPloupmr7NP0fPD6W2uKWJVpVVeZ2hkhM253KEBZVirHmYZRPEm9tMc7WyxtfuUQW0dUlbFd6IpLipk/yO7agyFTDYnk4rFPlMeziDpOQMA3ACT80yIJ9DWrVvXrl0rijK3esWyh2sqaKIZUZQL1kkSLaxQWFRMPR2eMXrrK7ByWXbpKcQziDXig0q/PLSnwcOHrTyehj1DE431xE4KXWXOvjaPp10xSegsTiY1i32mOpxgfc4AAFMvmxAixhyalAS6GDn27qG+RW++TBPN0KKosOZwONNsstPD+0IRPhYXHeZT1XI+rqVLfPGBehs1u3qDHXVhXyV/RCQqprGZeM4AMMtkGUJEz6EjR47kmEDkQuTYqYFn9YkWRYU19lk+FNivj44ZJObTcCQc1z9IxFNo0JBBmeQcter+nk6vs69rX+wG2Z2MNYt9ZnK4pOcMADD1sg8hQjm0evXqHTt25JhAWWNPO/yt7j6f9m6X+CCvKu30qZ7a1lp3SH+JgP06EXuXu4o/JklGjMh1DehrJu6nu33iWDp+ULEQP7xmspN0TsaaxT7TPJz1OQMA3AA5hRBxu912JRBHsbGTPshLgQaPeGxT2eWo0joxrsbeTm+4TSv3eBoGytL6DU3WFwpJZa6JFpn2Q0E3sR+Hy+SNcIcj7GMH5wdKHK/L7mSsWewzrcOlOmcAgKlmw7doT8XX9gAAwI0xLb62JxcnnukSc5lb9fFaMQcAAHaY8SEEAAAz1/T6e0IAAABZQwgBAIBtEEIAAGAbhBAAANgGIQQAALZBCAEAgG0QQgAAYBuEEAAA2AYhBAAAtkEIAQCAbRBCAABgG4QQAADYBiEEAAC2QQgBAIBtEEIAAGCbafH3hA4ePPjOO++IhailS5du2bJFLAAAwPQwvf6e0Pnz58VcDg4dOvTCCy+8YUCLVCiqAQBglsophGRZfvrpp3t6esRyDh588MEdBrQoKgAAYPbKfjiOEkhV1b1791LHZePGjdu3bxcVqRxu9oi5zN3nD4q5WJHupoY9Q3xeVctbe3a6ZJkv6pT2Cl+f27Qqd6oa2ddcH5C8nf7qohz2TyfZ5ejcVVMkltMwpddlRDe5fqS2t9Ellg3oHNr6xdHV8hbTdYz4zyvZTyoLxhPQpXMmprL4KQDcPKbFcBxPID6/bt26kpKSAwcO8MXsLNm4paT2EX2iRVGRCrX+3U0V9YHilmCQ+mRMq6QMilojV2NvL7VJU9RSDysDktMZGlCGRcENM7XXlQq//z6pVdx8uv2OSCT634Yp2sIfkOo6gtanrVIUNHVb70pHN4EfvaWcoq2Fz2eXQABwI2UTQsYE4jZv3pxjDuXfvnRs8Upl+DRNNEOLoiKV4X3UoHk7DR+oZVcjtW18/oYZ3B+Qyppr3aHAfrMAnMUofUNOb1WpWKQ8qKlJoy9YXFQo5gDgZpZxCCUmEJdRDi1wOG9df69xmluw8vKVK6GR4zTRDC3GrUCbiI0NVFXZHwi5a01GwPgn9HaFPk6TdoVW1T5Y81ptXqEVKjWsmq3OFvnKfDVCxXydCu1juSiNRftW+pxlrsLSKq+zT9E3j54D+zduD/rhWLnZ53123u2KWNBOg69GlyG2iu7NeF2JtUamB7U4SUI719cfEWWxCouKpdCIWZ3p4ajM07BnSO5v83j0C6RCsVr06HRcT1u/PLSnQVst2d0Qy5b0nRPjTohFlc76lgJAjjIOIdME4jZt2jQ6Onr69GmxnNya7Z9Z/8iXjVPBlg+vXrH8s9XbaaIZWoxbgTYRGxsNKn2S2zXxKTxeuEtxdPaYDvuEAl1SMxu06agroRax0s+WgsEOihHfbtGboUaqfqCsgw/0tRYH6ncb82kCnQbLIGqRXWWUQrF9oT6ftmvaAfWT/Pt40zmsjJR1skJ2RIl2HN9/KnW5pbAY16KcoO4GZW3h8L5mX7iug59PGV9TR42+RS2xOKjpSVLT7wt7xeXXjrRFn7oZybKLkpduILXQoijK9HBFNbuCdMfV8pZgkA+Xmd5kV2NvsKVcLaGrYauZ3o10nr2xnUeHatlphH3G5EtWpUt5SwEgR9kMx5nm0Pj4+N69e7dt21ZQUCCKkjv2xBdefLTKOJ14pis0fPxzu56giWZoMW4F2kRsnJGyqpqiJE2Vu5ZXFVbXlqsqb9Rkuai6VrR3WjdL8jZHGzvezYkPC4ZnEN88MYWc3mZ+ILaDaJ+hqKaRFxqPqNVEUburP2FiQ1561oqBLFkb9tJKjKxqLQ6aeJK8e6dfvuxqpFDQ1o3Hc4VShroLxihKfY3aUdK6yUnvhhWx804xVMtOo1l0VS2qtE2NrG84AORkcp4J8QTaunXr2rVrRVHmVq9Y9nBNBU00I4pyZvHkwelwiDkmdokbVPh4EB+N8WijSKLKgD4sd4l+EKP1hbqM4zax5xCORN9c0MeCPG39osiAehh6u8tbXdZcantv83jaFbM8sK7VJDuoyUkOR8KxxQ6zEVFOpiDqZX0Xul9x42amh5uQ3k02vxspsY5y7JWxwUPt6iyqjNK4pQCQi2xCiBhzaFIS6GLk2LuH+ha9+TJNNEOLosIaaxcTGo7Jw1604sNEUYmvPFCbOGRsRlkrOmT9khx9DG+vqNDHoKjtFhWx+Kf/CB990j750wd2auyp2xH2VcY9uyLWtWkedMLISEjMpYt6S3R0nsHpHy6dm0wS78YNYH1LASB3WYYQ0XPoyJEjOSYQuRA5dmrgWX2iRVFhjX1QnbIX0tJIOP58oqSuQzSfmo66Eq25TN5gsU6GuzX6G0VsyRRvdwfjW11qGP09nV5q7PeZnFzS2jQPqku4/LRSSX9PIc3Dpf8xIsndsJK4c3YeWgfIoiqB9Q0HgFxkH0KEcmj16tU7duzIMYGyxoby/a3uPp/xXSn6CD4pgyfU9LBXrqMvI7C3yNoT3shiY0MTY3FceskoWkDaqz9g3riLMaiuidGnuEuLazKtazWpD6oTlx99SYF2nvjboIR21WQYfxve12V4VSSNa7S+yYbX7hLvRkqJO9fe56+izS2qtE2FNG4pAOQkpxAibrfbrgTiqG3aSZ9SpUCDRwyIVXY5DL+1khNXYy9FXJu2Z4+nYcDB3j4QdZrB/YGEDOIpJJm/w6ChFrDZK4kRPL/U3OoWFQlKq7xSiNrG6PU4HGEf24idTFln/LCVZW36B9WV7jTcWMVFPTxRYURdnz7tqJr6QDH/EoT0D5f0JmsvKVC5/pAp/m6kgXbe6Q1P7Lxs4nsQLKomWN9wAMiZDd+iPRVf2zNb0SdxytQcvwpo1sDdAJgOJvdre2wIoRPPdIm5zK36eK2YuwmwMaLmevNP6Dcf3A2AaWLGhxCkQ2ln38iZ9VdwzjK4GwDTB0IIAABsM73+qB0AAEDWEEIAAGAbhBAAANgGIQQAALZBCAEAgG0QQgAAYBuEEAAA2AYhBAAAtkEIAQCAbRBCAABgG4QQAADYBiEEAAC2QQgBAIBtEEIAAGCbafGnHA4ePPjOO++IhailS5du2bJFLAAAwPQwvf6Uw/nz58VcDg4dOvTCCy+8YUCLVCiqAQBglsophGRZfvrpp3t6esRyDh588MEdBrQoKgAAYPbKfjiOEkhV1b1791LHZePGjdu3bxcVqRxu9oi5zN3nD4q5qEh3U8OeIbGgKanr2FVTJBYmldJe4ZNaZ81fmKbL6XJ0mt4rdqV97taenS5ZNq5mLOdrpok2bOuP3yTrP9dtceYAMNWmxXAcTyA+v27dupKSkgMHDvDF7CzZuKWk9hF9okVRkQZqy6g3xgWDLcWB+oqKdiV6esmo1JI1dUdSrZapKdrtDeZq7O2lfEhIGmN5RldKG/IfUEu5qv+8Zk2cA0DWsgkhYwJxmzdvzjGH8m9fOrZ4pTJ8miaaoUVRkSFZdu3s6fQ6+3y7B0URAABMVxmHUGICcRnl0AKH89b19xqnuQUrL1+5Eho5ThPN0GLcCrSJ2DgVWS6qrnVLfQrvDKmR7qaKikqN/smdPsR72vrloT0NHg/1mpKtloyqrd2usH/Z+toGVJ64W0Irid1GV4tuTqsT0WnTVyP6toT3NyZ2Entu6ezc+tJM98wPyueN9HKaMV4pO5jhnNkBEw6UjH4CxLgTYlGlow6ZWEE7pCgFgBki4xAyTSBu06ZNo6Ojp0+fFsvJrdn+mfWPfNk4FWz58OoVyz9bvZ0mmqHFuBVoE7FxOhwUWeHIMJsdVkbKOtngTzDY4ZUC9VoPydXYG2wpV0vqOoJBPihkupq1Pp9famabtLpDAf8+anMTd0vNaP1AGS1q6xXTfvVxwnCX4ujs4aNbbLVAcYu2GjuBsM/Y5lJTz48Ud25p7tzi0pLtOaW4Ky11uel+89Sh0FMGQu7a6qI0nhtZXLj1PeEoX5t9YToJdnmtZaIUAGaObIbjTHNofHx8796927ZtKygoEEXJHXviCy8+WmWcTjzTFRo+/rldT9BEM7QYtwJtIjZOR2FRsZiTimoaa4pYayh6SNG2Mk6aqxk5vc18k9IqrzM0MsJLDVRV2R+QvM3R5pit16fo7XxZFd9crNYpnvazE2hmK+qJopa38Ifw0aou1stIb+fE4tJM98yrMkMpFBpQtNSnPKcMcpVq85YsLjzlPTEoLipk/yO7avRLBoAbjP5Pe/LkyV//+teHDx/+1a9+RR0S06RINDnPhHgCbd26de3ataIoc6tXLHu4poImmhFFWRuOhMUcQ5+p+YiNp61fFJlJczWdaPwE0fGKMajwESuxW0/DnqGJVnJi80GlL25nLEQnduh0OMQc0fM1zZ1rkl2a+Z4zJ8suPYV4BvHwSMHiwlPdE6HQVebsa/N42pWsshMAJsPVq1dff/31oaGhd955Z2xs7OzZs5FI5NVXX6V5sUZy2YQQMebQpCTQxcixdw/1LXrzZZpohhZFRXZGRkLOMlch+6zdXlGhj1kFW8rFCrHSXC0L7FUwPlwW1eiatE/r6ex86i4tDu8LRfhYXDr9oMlAPaSaXb3BjrqwrzKdVyIBYCpQ/FDwiIWoCxcuUMcoZX8oyxAieg4dOXIkxwQiFyLHTg08q0+0KCoyR83ubl+feCbBukTuVr8Ys4rtIBmkuVqmDI+mrCSuxs5goh8QM9SndxHS3LnlpZnvOTs8hQYzySCLC091T4woifzaK5Fd+1LeDgCYZBQ/id+7xlEOJf4qapzsQ4hQDq1evXrHjh05JtAkYk+qK9nvUxr6BKItoyp/IKSVRMW0wclXy1R0t9Q41rpD+vsC7DW1dpN3xhJX2+cPSN4qfURL7m/jw008X51aVZo71yS9NNM986q0GG6gGJHrSnsszvLCU94Tjrp5xoG4HCIUALJk/TJasnzS5RRCxO12255A1JLyBx5M/Uit4bcgqS1r9kriwYlfam5183JGe5Lfpr1hbLVapgy7pSVXY2+rmy3Sjj2ehgGHS7xHEItW6/SGJ1Yri/k6gJK6FkcXOzWPp43yVa9KZ+fWl5Zsz2mJvVJeIIUoKTIYi7O4cOt7IjgcYR8/f7bCJA51AkCaLl68KObMUGdIzCVhw7doT+7X9sx6ysz5ihr2Kzt0rtGhPwCYleK+tufgwYPWD37e9773iTlN3Nf22BBCJ57pEnOZW/XxWjF305gpIcRGzJrrzfsrADCLxIXQ888/L+aSmHYhBBmZESFEJ9nWL6vZfiEpAMwgkxtCuT4Tgqnmauyd/n0LOskefCEpAGQOIQQAALZBCAEAgG0QQgAAYBuEEAAA2AYhBAAAtkEIAQCAbRBCAABgG4QQAADYBiEEAAC2QQgBAIBtEEIAAGAbhBAAANgGIQQAALZBCAEAgG2mRQgdPHjw2QRUKKoBAGCWyjWEzp8/L+ZycOjQoRdeeOENA1qkQlENAACzVE4hJMvy008/3dPTI5Zz8OCDD+4woEVRAQAAs1f2f96bEkhV1b1791LHZePGjdu3bxcVqRxu9oi5zN3nD4q5qEh3U8OeIbGgKanrmKI/Raq0V/j6nN5Of02RLIo0qqrsrvT1uVtvtj8tyv+qt1iIyvqPfM+IP2QOANPiz3vzBOLz69atKykpOXDgAF/MzpKNW0pqH9EnWhQVaaBWj3pjXDDYUhyor6hoV6Knl4xKbV5TdyTVanFkeWhAGRYLUcP7usJOp1iYjZLdK/5XvUlLuar/FPBHvgEgfdmEkDGBuM2bN+eYQ/m3Lx1bvFIZPk0TzdCiqMiQLLt29nR6nX2+3YOiaFLRZYYC+40Jp6oRZSAkFgAAIBMZh1BiAnEZ5dACh/PW9fcap7kFKy9fuRIaOU4TzdBi3Aq0idg4FVkuqq51S30Kjwo10t1UUVGp0T/O0yd7T1u/PLSnweOhXlOy1UyU1VLCKcaAG9wfkLy1ZWKJmO6KsopK2xX2LyvXKizW5+g89XJF215UaOOQosqwK63HwlbkVaw/GN15XO8wcfNkZ5h4r9Kh75/EbWVRpaO+l1jBcHUAMPtkHEKmCcRt2rRpdHT09OnTYjm5Nds/s/6RLxungi0fXr1i+Wert9NEM7QYtwJtIjZOh4MiKxzRhs2GlZGyTjZMFAx2eKVAvdZDcjX2BlvK1ZK6jmCQDx+ZrmbG4Spz9nXt06NiUOlzlrkcfEFjsas+n19qZlWt7lDAL3aSbH1q/X1hL50hq6sdaTM8+qJ2vH6gTFS1FtM2esCEAl38EB11Jf1tnkrtgGzPht6hxeaJZ5h4r1Ji+w8Ut2j7Z4cO+/SwsajSURo2+8J0PO08DPEOALNONsNxpjk0Pj6+d+/ebdu2FRQUiKLkjj3xhRcfrTJOJ57pCg0f/9yuJ2iiGVqMW4E2ERuno7CoWMxJRTWN/D0C0UMKR4xdDV2aq5FCqg6JB0PUXHb1uWurC7UawWJXTm8zryqt8jpDIyNaoen6qqpQunmbq4tkrcrVSEGgrU73X2Gdr2iVti9D58xdy/dG51muqnRytFrcni02Nz3DjIj9d+508TOnQzezI1DOWVRpmxoVF2k3VXbV8PMBgFlpcp4J8QTaunXr2rVrRVHmVq9Y9nBNBU00I4qyNhwJizlGH//xtPWLIjNpribLLlc0hYaVgZDbxZtUo2S7Ei2rIPpqxGR9dgkxq7PeHTeo8NExsYmnYc/QxAk4HcZeWewSZ7l5sjPMAPUN43bDPhNou7KoMipkvc02j6ddMf8cAACzRjYhRIw5NCkJdDFy7N1DfYvefJkmmqFFUZGdkZGQs8xVyD6Vt1dU6ENPwZZysUKsNFfTUS9BYq8nRJQByVtVKko1me4q6fp0CWLOBHsXTVtf1+jKoLuQ4+ZTjXpINbt6gx11YV/8oywAmGWyDCGi59CRI0dyTCByIXLs1MCz+kSLoiJz1Kzv9rExMjbcxPoT7la/GHqK7SAZpLmaTvuoruzeH5BY1MXIdFfJ1jc81uImUimhKjM5bp5S4v7ZVWkdIIuqBJREfu1Fx659U3euAGCz7EOIUA6tXr16x44dOSbQJGLPtLXfGzV8tBetHlX5A7G9i5hnHslXS8AfsfT391N3i4dHrAx2pTFbn+XcxMsL1F/Sfy2UWudad0h/m4C91dYe806dtSw3T/v5UOL+9/kD1GF0sSdTSau0TQW6WONAnHlGAcCskFMIEbfbbXsCyf1t/PEGUz9Sa/h9SWr1mr2SeP7hl5pb3byc0R7It2mvHVutlkypq1wtj3slgWS6q2Trs5zzd3qlQINHq1JcHXUlvIq4Gntb3ezkqcbjaRhwmGZhUhlvbrhXosQS7b/TG57Yf9nE9yBYVE1wOMI+qhcrTKuhQgCYXNl/bU/WJvdre24eCr7VBgCmgcn92h4bQujEM11iLnOrPl4r5m4yqtJe6ZNae8TLzQAAdpnxIQRpoq6P/hxIVcuRQAAwHSCEAADANtPiW7QBAAByhxACAADbIIQAAMA2CCEAALANQggAAGyDEAIAANsghAAAwDYIIQAAsA1CCAAAbIMQAgAA2yCEAADANgghAACwDUIIAABsgxACAADbTIsQOnjw4LMJqFBUAwDALJVrCJ0/f17M5eDQoUMvvPDCGwa0SIWiGgAAZqmcQkiW5aeffrqnp0cs5+DBBx/cYUCLogIAAGav7P+yKiWQqqp79+6ljsvGjRu3b98uKlI53OwRc5m7zx8Uc1GR7qaGPUNiQVNS17GrpkgsTCrj39smanlLb6NLLGSC9uPrc9/gP9cdd/JcLpfQ5eicovsMANPZtPjLqjyB+Py6detKSkoOHDjAF7OzZOOWktpH9IkWRUUaqCWl3hgXDLYUB+orKtqV6Oklo1I72tQdSbVaHP1YdCB3n492ICoy4Wrs7aW2/wYmEKGD8jNvKVf1q8gugQAAJks2IWRMIG7z5s055lD+7UvHFq9Uhk/TRDO0KCoyJMuunT2dXmefb/egKJoadKAqrzM0oGQaYwAAoMs4hBITiMsohxY4nLeuv9c4zS1YefnKldDIcZpohhbjVqBNxMapyHJRda1b6lN4Z0iNdDdVVFRq9K4P9YI8bf3y0J4Gj4d6TclWS624qCjaoaEdiM217amEjsJ3zrEjaHvmfTBRmmpDbXXWs+OLbCfRqsQNVe0y2hW2STrdQU7fD9F3zllU6egExQrR0wAASFPGIWSaQNymTZtGR0dPnz4tlpNbs/0z6x/5snEq2PLh1SuWf7Z6O000Q4txK9AmYuN0OCiywpFhNjusjJR1sqGnYLDDKwXqtR6Sq7E32FKultR1BIN8SMp0NQvU2vsDkreqlC9SY10/UEZ7Y7toLabtKQBKXW46C55nFA/KQMhdW62HFpdyQ2lQ6ZflPkWcz8hIyO1iBzXdkK8T7lIcnT1pjvix/QSKW7T9sGsP+4whl6xKR/eh2Rem+6idRpkoBQBITzbDcaY5ND4+vnfv3m3bthUUFIii5I498YUXH60yTiee6QoNH//cridoohlajFuBNhEbp6OwqFjMSUU1jTVFrC0WPSS9cY+V5mpyfxv/1F/pl5p7/HwT6qzsp0BqjgZMaZXXqaUGhUloQNGykFKOMkiLjwlJN6QQjW44qPSV19U5tfOh9ZU+p8ORfEOurIqfWEpiP53iFQl27c1sT5RnFlXapkbFRYXsf2RXTZrHBQDgJueZEE+grVu3rl27VhRlbvWKZQ/XVNBEM6Ioa8ORsJhj6BM9Dw5PW78oMpPOavyRPnsrIRTYrzf6rLPChvbE5p6GPUO84XbpKcQzKL5rkmRDqdBV5gyNjLCQUPrcruqiYr4bSiRnmYta/GQbakQmpIN2GLc6y2+tE2lRZcROta/N49EHDAEA0pdNCBFjDk1KAl2MHHv3UN+iN1+miWZoUVRkZ2QkpDXW1Ii3V1Tow1bBlnKxQqw0V9Ox1x9a3X2+iREw9sIZHxmLanSxVOB9oQgfi4vrB2lMN6RuB2vaqWtDacp6Pmw3lElsqczFez/JjniD0anW7OoNdtSFfZXpP4UCAOCyDCGi59CRI0dyTCByIXLs1MCz+kSLoiJzlCi7fX3i6QvrErlb/WLYKraDZJDmakbaCFjXPq1fYHgEFY+n0GCSDEq+IetghCO0naSlDu2mT9lHexF9E4sjZiRxP+zitYNYVCWgJPJrLyWKGwIAkJ7sQ4hQDq1evXrHjh05JtAkYs/JK9lvghq6BaIl1V4lCGklUax3oUu+mhn+6CgU8HdHVGqC2Wz01QD2ilo7ewtOW00bkesakLxVia8JWGzIxr5CAV+AMiiaOuEBPcmsNsxE4n72aa9baJ2xpFXapgL1IY0DceYZBQCQRE4hRNxut+0JNPGyAKkfqTX8Dia1pM1eSTw78UvNrW5ezmhdmTbtFW2r1SywPVAM7aPW39XY2+pme6MdeDwNAw4xaMbWohQKRbMkQbINtfSSJP4EiFDPSAoZnypZHDEjtJ9Ob3hiP2UT34NgUTXB4Qj7qF6sYMuQIADMXNl/bU/WJvdrewAA4Eaa3K/tsSGETjzTJeYyt+rjtWIOAADsMONDCAAAZq5p8QWmAAAAuUMIAQCAbRBCAABgG4QQAADYBiEEAAC2QQgBAIBtEEIAAGAbhBAAANgGIQQAALZBCAEAgG0QQgAAYBuEEAAA2AYhBAAAtkEIAQCAbRBCAABgm2kRQgcPHnw2ARWKagAAmKVyDaHz58+LuRwcOnTohRdeeMOAFqlQVAMAwCyVUwjJsvz000/39PSI5Rw8+OCDOwxoUVQAAMDslf2f96YEUlV179691HHZuHHj9u3bRUUqh5s9Yi5z9/mDYi4q0t3UsGdILGhK6jp21RSJBUt8W1Utb+3Z6ZJlUTpllPaKtv74o6jlLb2NLrGQCdpbl6MzzSsFAJgs0+LPe/ME4vPr1q0rKSk5cOAAX8zOko1bSmof0SdaFBVpoHacemNcMNhSHKivqGhXoqeXjBrp9gekuo5gL4XA1CcQcTX28pNsKafgE+ecXQIBAMwO2YSQMYG4zZs355hD+bcvHVu8Uhk+TRPN0KKoyJAsu3b2dHqdfb7dg6LISnFRoZgDAIAbL+MQSkwgLqMcWuBw3rr+XuM0t2Dl5StXQiPHaaIZWoxbgTYRG6ciy0XVtW6pT9E7Q5HupkpNRUVTd4QVUomnYc+Q3N/m8VCvKdlqKnWXmqie/WssZ1VKe9zKJHEPadI3JPr5cBZVOtOTAQCY/jIOIdME4jZt2jQ6Onr69GmxnNya7Z9Z/8iXjVPBlg+vXrH8s9XbaaIZWoxbgTYRG6fDQZEVjgyzWWrE6wfKOoJBNvjVWhyo303hVFSzK9hRV6KWtwSDfEDMdDW2vST1+fxSs1bsDgX8+yJ0CyLdzb5wXQdfuYyvZrEHa2zDQDGdCW0XDHZ4wz5jLiar0pmeDADAjJDNcJxpDo2Pj+/du3fbtm0FBQWiKLljT3zhxUerjNOJZ7pCw8c/t+sJmmiGFuNWoE3ExukoLCrW/ldVlf0BydtcXcSf+pRWeZ19SsJAnfVqTm9zTRErZ8WhkRFeGh3Kk101VJvmgRKJDTvFmxGsG9fMNqUAs6jSNjWKORmtBABgBpicZ0I8gbZu3bp27VpRlLnVK5Y9XFNBE82IoqwNR8J8ZlDpl4f2NHj4aJVHG4PjNTEsV4t9cKR1sApdZc6+No+nXYnehzQPlGhQ6Ys7AktQ7SgWVUaJJwMAMENkE0LEmEOTkkAXI8fePdS36M2XaaIZWhQV2RkZCTnLXFrzzV5E40NkUY0uk3hIczWOOiU1u3qDHXVhX6X+Jl5Ge5hEpicDADAjZBlCRM+hI0eO5JhA5ELk2KmBZ/WJFkVF5lRV2e3rc9dqI2OGh0NW0lwtFjX+fu1NvK59w9ntgUnckHXjtA6QRVWCmJMBAJghsg8hQjm0evXqHTt25JhAk4g9pa+kCGrlvRBqmmvdIf0dAfZGQXt3JKGvkOZqOlVpN459USxkugdd4ob7/AHJW+Wim5u8SttUSDwZMQcAMO3lFELE7XbbnkByfxt/EsPUj9TG/gaoq7G31c0emVClx9Mw4HCJdwdipbma4HCEfexobM2yTh54me3BgDbs9IYnNiyb+B4Ei6oJZicDADAjZP+1PVmb3K/tAQCAG2lyv7bHhhA68UyXmMvcqo/XijkAALDDjA8hAACYuabFF5gCAADkDiEEAAC2QQgBAIBtEEIAAGAbhBAAANgGIQQAALZBCAEAgG0QQgAAYBuEEAAA2AYhBAAAtkEIAQCAbRBCAABgG4QQAADYBiEEAAC2QQgBAIBtpkUIHTx48NkEVCiqAQBglso1hM6fPy/mcnDo0KEXXnjhDQNapEJRDQAAs1ROISTL8tNPP93T0yOWc/Dggw/uMKBFUQEAALNX9n/emxJIVdW9e/dSx2Xjxo3bt28XFakcbvaIuczd5w+KuahId1PDniGxIEmqWuLt9NcUyWI5ilarH6ntbXTRvNJe4etzt/bsdMnxq1lUZYT209Yfvwe1vIWfQKZob12Ozl01RWIZAMA+0+LPe/ME4vPr1q0rKSk5cOAAX8zOko1bSmof0SdaFBVpoMademNcby+11Snyw9XY20tpoMWMSg18U3ckei3GqlzQfvj5tJSr+ulll0AAALNYNiFkTCBu8+bNOeZQ/u1LxxavVIZP00QztCgqAABg9so4hBITiMsohxY4nLeuv9c4zS1YefnKldDIcZpohhbjVqBNxMZpo05OpYb6OiOijOGdHz7jaeuXh/Y0eDwV7YqxSlUj3U1Uxv5le9C6S2xjjXHPiraeqEgD7ZFvS+I2tKjSUddNrBB7SgAAM1HGIWSaQNymTZtGR0dPnz4tlpNbs/0z6x/5snEq2PLh1SuWf7Z6O000Q4txK9AmYuP0UE74wt6OYJANhNWOtBmeG+lcjb3BlnK1pI5WMx0r6/P5pWa2g1Z3KODfx0ft0tlzMuzRVKC4Rds2GOzwhn162FhU6SgZm31hOl126NYyUQoAMGNlMxxnmkPj4+N79+7dtm1bQUGBKEru2BNfePHRKuN04pmu0PDxz+16giaaocW4FWgTsXECub+Ndw6I1j0gitLn9DZXF2lPd2RXI2UNXzkjtAv+hKm0yusMjVB3Kpc907b7A5K3U7z1IMtF1c1eZ5+iaCecrErb1Ki4qJD9j+yqSfn0CwBgmpucZ0I8gbZu3bp27VpRlLnVK5Y9XFNBE82IovTEvJjA3kuQpeFIONpYc47MR/NIzC6kcGRYymnPg0pf3C4Li4r5bi2qjApdZc6+No+nXckmUwEApptsQogYc2hSEuhi5Ni7h/oWvfkyTTRDi6IiOyMjITE32aZuz2mgHlLNrt5gR13YV1lRQUmEKAKAmS3LECJ6Dh05ciTHBCIXIsdODTyrT7QoKrLDuicx3YhJy45c9pyw7US/yqIqASWRv6fT6+zr2hfXUQIAmGGyDyFCObR69eodO3bkmECTjprpWsOrBKrSnviroxO0hz3pYgNiae85ljir+t28B6OqkX3+gOStctF9TF6lbSrQ4YwDceYZBQAwc+QUQsTtdtueQMYXEwhvpkt3dnqlQIPHw4oUV0ddCV85HnvlgD1lSfZKdBz2yoA/vT2bcTX2dnrDdDja1ONpGCib+B4Ei6oJDkfYxw7LV2h04cUEAJjZsv/anqxN7tf22E7Bd+oAwM1kcr+2x4YQOvFMl5jL3KqP14q56YH96qhPyv275gAAZooZH0IzHXV99OdAqlqOBAKAmwpCCAAAbDMtvkUbAAAgdwghAACwTcbDcefW3yvmAKbMbceOiDkAmGZsfiZEIYQGAqYU/hsDmM7wTAgAAGYJhBAAANgGIQQAALZBCAEAgG0QQgAAYBuEEAAA2AYhBAAAtkEIAQBA9uTcvsEZIQQAANlbsGCBmDNzyy23iLkkEEIAAJC9hQsXijkz1hFFpkUIHTx48NkEVCiqAQBgulq8eLGYM2NdS6ZFCB06dOiFF154w4AWqVBUAwDAdLVs2bLbbrtNLMSaP3/+6tWrxUIS02U47sEHH9xhQIuiAgAApjen05k4KDd37twNGzakfG1h0r5F++TJkz/4wQ/+9E//VCwnd7jZI+Yyd58/KOZiqUq7p61fLNBieUtvo0ssZEVVI/ua6wOSt9NfXWS4iUp7hU9qjdu58Q9+67I+B9pbl6NzV02RWL754Fu0AaazuG/R5q5fvz46OnrmzJmLFy8uWLBg8eLFa9asMX0rYUq+RZsSaPfu3ZcuXRLLmVuycUtJ7SP6RIuiIhVKi+6mikqf1BIM9miCwRZ3OBJRVbFGdoaVAUr30IAyLAosuBp7+aFbylXKHj6fYwoCAMwgeXl5hYWFGzdufN/73rdp06a1a9emfC+Om4QQ4gl0+fJlOglRlLn825eOLV6pDJ+miWZoUVSkMrzPz/orPTtd0f6KLLsaqR+R26vrg/sDUllzrTsU2D8oigAAYLLlGkJ6Ao2Pj6f/K0sLHM5b199rnOYWrLx85Upo5DhNNEOLcSvQJmJjA1VV9gdC7tqYEbM41FGq1FRUNHVHJrpHejmpaFdEqYZ2q/Q5y1yFpVVeZ5+i5NCpsjiKRZVOVdrFCrEnDwAwO+QUQsYEEkXpWbP9M+sf+bJxKtjy4dUrln+2ejtNNEOLcSvQJmJjo0GlT3K7SsVSImro6wfKOvhIXWtxoH43TxRWHijmI3jBYIc37IuJAdotyyBJKnSVUQpl2xeyOEqKE9Coke5mX7iug598mSgFAJhFsg+hk9kmEDn2xBdefLTKOJ14pis0fPxzu56giWZoMW4F2kRsnJzet6igFl0l1E+SvM3RfhLv1wzy/pPk7RQjeLJcVN0c0+PhGURbUVXWKWRxlJQnYFBcRFlI67hqaoqS9vYAAGaoLEMolwRKZvWKZQ/XVNBEM6IoQ0U1u1jHoqNOjNwNKv3y0J4GD08mj6dhz5DWjrP+k2jchcKiYikc0d5BoP5Hl+gHMVpfqCuboTCLo1iewATt2G0eDyWqKAEAmF2yCaGrV69SAl28eDEugXIJpIuRY+8e6lv05ss00QwtigprDoczse02YC+rRd+a4xpdKfoTw8rAkDG6WHINpfWS3GSjHlLNrl7K1LBP9O1EBQDAbJFNCOXn53/ta1/bleCRRx4Ra2TuQuTYqYFn9YkWRYUlaqWtXmBLFlGJ5cORsNY1UdWIMhAqqesQkaXpqCsJDSgZv/Od/ChWVQnoGv09nV7qju2zIQgBAKZUTi8mTAelO1vdfT7t3bH4kBARFX0Zgf1GUTtbLbFce827ij2hoX5QaGIsjmOjYpm/qm1xFKsTMFCVduNAnHlGAQDMZDM+hNhvBfX2thYHGjwTA2jFreKZP9VRRrVpVR5Pw4CDvW7Ayzu94YnyMvENBYP7AwkZxFNIyuL1hGRHsa6a4HCEfVQvVkg5kAgAMONM2tf2pG8qvrYHZhN8bQ/AdGb6tT3pi/vaHhtC6MQzXWIuc6s+XivmYPZCCAFMZzM+hACs4b8xgOlsckNoxj8TAgCAmQshBAAAtkEIAQCAbRBCAABgG4QQAADYBiEEAAC2QQgBAIBtEEIAAGAbhBAAANgGIQQAALbJ5mt7xBzAlMHX9gBMWzZ/dxwAANzM8N1xAAAwS8yqEDp79uxzzz33bBTNHz9+XNQBAMD0M0tCiOLnySef/OpXvxoMBn/84x+fOXNmw4YNd95554oVK8QaAAAw/cyGEKLuzuOPP/7SSy/R/OLFi5uamh566KF169YtX748Pz+frwMAANPQdAmh8+fPi7nMDQwMXLlyhc+PjY2tXLmSzwMAwDQ3LUJIluWnn366p6dHLKctEom88sorhw8fFsuSdOnSpcHBQbEAAADTm/0hRAmkquq1a9deffXVAwcOiNI0BAKBjo6O73znO9QNWrRo0eLFi6lwuYavkBGlvaLSoF1RRcWsEOluqmhXxEJU3CVziatxtHJTd0QspCeLTRKpKjt3tiM1p59IdudfQbcjt+MCgDWbQ4gnEJ9ft25dSUlJ+jl09uxZPlNcXPzoo48+9thjj2g2bFj/Tvjw2IUzvDZ9JXUd1BvjGl2yKM2Eypu6GdJsuRp7+cW2lKtqeQuf7210ieppYlgZkJzO0IAyLApuGLo/vXQ75Gz+SwCANNkZQsYE4jZv3px+DlVXV9+m+fSnP03/UonT6aSZU7/6xanXnzv+4o+uj13ia8LMNbg/IJU117pDgf0YZQWYhWwLocQE4tLPoYXnTj1S84d//tAn894aPn/sCJ8uDP1q/tyleXlzxy68ExnsuRj5zaWR0IU3XtNX4JPYRRoi3U1inErr4/BCPkQkyqNdH+oFedr65aE9DR6PNoojukWGTVgpH19qV7TBnuhoj+lRjEyPGN0V+zdxWzqAvv6IKEvN9EC6ifOcOAfzy+SLOsvzj7kVRrRzpc9Z5iosrfI6+xR9BYsLtz5/wg5mGHJkq2ur0XWIraJ74xfGV0usBYBJYVsImSYQt2nTptHR0dOnT4vlJH7z958f/tZX3vzHL9OMPh37xhfnLlqy+v5tsjxn7PLZt0+8PHel4+q5M8Z1aBK7SIVaqPqBso5gkA1UtRYH6nfzdnBYGSnrZGXBYIdXomL2Id3V2BtsKVdL6mj9lINa4S7F0dnDR3uSHcXI9Ihcn88vNWubUnfBv483u9SA+sJesc/akbY9Q3zllCwORPHKj5RYlZLFbo23QhTpBnkGSVKhq4xSKPaAphducSCu1OWWwhE9BZWBkLu2unB4X7MvTD85bXdlfE0dBZtFLQDkws7hONMcGh8f37t377Zt2woKCkRRchv+7Cv3+YPG6T1t35t/R+HCpatX3lNOK1w6c2L0xR/efu+D+gq0Cd82ETWy0U+7vMui7A9I3ubqIt448k/jWptWVNNYU8QKZbmounaiUctAWRXfg8VRjCyO6PQ28yq2aWiEOj28A6HvU3Y1Ujhq66ZmcSC1vGVXTZGoaqbT7Eq/T2B1x6K3IhHPILoK2ioxhRIvnKT+0VAK6U+YhlkGuUq1eam4iNKO3a4as/OxrgWALE2vZ0I8gbZu3bp27VpRlK3Fa+5eWnwfzVx8Z/T44afGr13l5Rb0FxPEp/JBhQ+u8WTyeBr2DE20PtR9EeVt/aIoE6JJI5ZHMUp2xIldMeEINa/DkXBsscPhFHNpSHYgp8Mh5khhUbGYS1d65z+B+h9doh/EaH2hmNgzuXCN9Y9Gll16CvEMYj9rbe9tHg99+uCrxbCuBYAc2BlCxJhDWSTQL57+QfAbu0ynp/7pH06dVdW8hbQa5dBvfrb31ed/8cv+H9MmfNt0sJfG+IhWFKUTe3pQUaEPoAVbWJcrF6ZHEXWajI84MhISc5mZ9EvjststJcSQMZ5ZOg9ZvySX5oF4XyjCx+K0fhB1m2p29QY76sI+0Q/ma3LWtQCQC5tDiOg5dOTIkUz7QMNDbyTz2pFXxq6NO99fmZevfWH4tQu3ySc3f7B8qfNObdM0sO7DxOfrCayf4W71i8EutpSOZMGQ7ChGmR4xYZ/pppLlgaIjXppBpc+0D2N6pEzPn8UJSwjjS/Oko65EC4/kGZDmgXgKDRrH4hjKGn9PJxtn3Gfy87CuBYDs2B9ChHJo9erVO3bsyHQU7oHxtz56fSTZNKf3766ffvuOez7CV7505sRvj/xkyzbPkvd+iJdYo0aHvRkcfU2AvZHVzl6j0ipFE09l/kBsqzvRVFMUiBeL6RP6bl8fL41jeRSj5EdMIPYZfVZP3YO2ftYopyfpgeT+Nj4exS/H6a3SXiVI6zIzOn+GjZRNjMVxbFQs9avaqQ8kRuS6omNxtLLSbhxqi0tX61oAyMW0CCHidrtzfw4UZ/zq2NB3Hp9/+x3L1j3AS8799thbrw+s/aM/54spuRp7W93sYQAbDvI0DDi0h+RFNc1eSQwT+aXmVrdYm2ivFdD6Fe0KezDup619bLVKxUWfocVK8UyPIuo0VkdMonRnp1cKNGj7pINTH0JUWLI+UEldi6OL1Xg8bX3u1omXFFJdZhbnP7g/kJBBPIUkk9c2otI/EP2gpJDkrYr2gxyOsHYF7P6XdcYNh6aoBYAczOC/rHq42SPmLN129/3OP/2r0ZefvXBKDM4UrNuyfP2DfB5uTtS5qexydEYH7gAgffjz3sKJZ7rEXCrzVhbmLbr1rdGXro2x7+rOy5u3/iN/wqvgJqSqkX3N9dSn4Z05AMgIQihLVy+fG37hgDznljWbPzF30RJRCjcZpb2irV9Wy1tS/kIxAJhCCAEAgG0mN4Smy4sJAABwE0IIAQCAbRBCAABgG4QQAADYBiEEAAC2QQgBAIBtEEIAAGAbhBAAANgGIQQAALZBCAEAgG0QQgAAYBuEEAAA2GZWhdDZs2efe+65Z6No/vjx46IOAACmn1kSQhQ/Tz755Fe/+tVgMPjjH//4zJkzGzZsuPPOO1esWCHWAACA6Wc2hBB1dx5//PGXXnqJ5hcvXtzU1PTQQw+tW7du+fLl+fn5fB0AAJiGpksInT/P/uZpdgYGBq5cucLnx8bGVq5cyecBAGCamxYhJMvy008/3dPTI5bTFolEXnnllcOHD4tlSbp06dLg4KBYAACA6c3+EKIEUlX12rVrr7766oEDB0RpGgKBQEdHx3e+8x3qBi1atGjx4sVUuFzDV8iI0l5R0a6IhRlCVSPdTRUVTd0RVRVFmpl4LQBwc7I5hHgC8fl169aVlJSkn0Nnz57lM8XFxY8++uhjjz32iGbDhvXvhA+PXTjDa2ezYWVAcjpDA8qwKAAAmFnsDCFjAnGbN29OP4eqq6tv03z605+mf6nE6XTSzKlf/eLU688df/FH18cu8TVnq8H9AamsudYdCuzHCCQAzEi2hVBiAnHp59DCc6ceqfnDP3/ok3lvDZ8/doRPF4Z+NX/u0ry8uWMX3okM9lyM/ObSSOjCG6/pK/BJ7CIJpb2iqVvpbqqo1LQrYtyL5tk4V/S09UJWHjsmRnvQy9mODINjtJGo0rahEr73doWNotH+22MH01hdwoAbUVVF6XOWuQpLq7zOPkU/KwCAGcS2EDJNIG7Tpk2jo6OnT58Wy0n85u8/P/ytr7z5j1+mGX069o0vzl20ZPX922R5ztjls2+feHnuSsfVc2eM69AkdpFcKNAlNfeQjrqS/jZPpZ8tBYMd1N77dotux7AyUtbJ1mHlUqA+Wk5h4gt7O4JBVlc70rZniJcTSpT6gTJR1VpM2+jhEe5SHJ09vb2NO11uKRzhqUP5pAyE3LXVRbLMV5swyDNIkgpdZZRC6AsBwAxk53CcaQ6Nj4/v3bt327ZtBQUFoii5DX/2lfv8QeP0nrbvzb+jcOHS1SvvKacVLp05MfriD2+/90F9BdqEb5uCu7amiLX7hdW15arKY0CWi6prJxKiqKaRr2Ms5x0Ub7OIDdnV2FIuLpOq9gckvUriXRg9PMqq+N6kUpdbf8wzzDLIVarNx+IZxM8KKQQAM9T0eibEE2jr1q1r164VRdlavObupcX30czFd0aPH35q/NpVXp4mp8Mh5pjYJQN9bM3T1i+KhiNhqbiIOihRDodTzA0q/fLQngaP2MTTsGdISx2Nvo0su/QU4hnkSugGqZHuLtEPYrS+UBcf3AMAmEHsDCFizKEsEugXT/8g+I1dptNT//QPp86qat5CWo1y6Dc/2/vq87/4Zf+PaRO+bY6oW9NeUaGPrQVbWMeLGRkJiTkTqlrewsfiohpd8QFDeF8owsfizPpBFE5DxjxjcTaEl+QAYMaxOYSInkNHjhzJtA80PPRGMq8deWXs2rjz/ZV5+fPYqtcu3Caf3PzB8qXOO7VNc8Z6PO5WvxhbY0sc6/iEI4Y4mEilhKqkeAoNmmcQf1BUUtchckzTUVei5RY6QwAwk9gfQoRyaPXq1Tt27Mh0FO6B8bc+en0k2TSn9++un377jns+wle+dObEb4/8ZMs2z5L3foiX5Ewkihrp9geiScOGxkIB/z7xZoHS3tYv+jpyUQ17nTr6MgJ7Ka7d5LU3IkbkuszH4rRBuomxOI4fFq9qA8DMMi1CiLjd7tyfA8UZvzo29J3H599+x7J1D/CSc7899tbrA2v/6M/5Yi4oUZq9khgQ80vNrW5RLhdV+zu9UqDBo1UpLuqj8Criauxtdfe1aVUeT8OAg71ZIOpilVZ5pZDkrTIZixvcH0jIIJ5CEl5PAICZRT516pSYjVqx67XRv7y/YOFcsTxdHW72iDlLt919v/NP/2r05WcvnBIjZgXrtixf/yCfvwGU9oouR+eumiKxnB7qQlXSZtHhPgCAaeLdd98Vc1mhiPn3T63buEJ7UDKjQ+jEM11iLpV5KwvzFt361uhL18bYd3Xn5c1b/5E/4VVTjWWJT2rt2Wkyqpacqkb2NdcPlGUcXQAAUw0hlKWrl88Nv3BAnnPLms2fmLtoiSidAtT10Z8DqWp5pgnEN1fLW3obXaIIAGDaQAgBAIBtJjeEpsuLCQAAcBNCCAEAgG0QQgAAYBuEEAAA2AYhBAAAtsn+7bhz6+8VcwAAs9Rtqf4G5k1ouryiTSGEHw8AzGJo5UzhFW0AAJglEEIAAGAbhBAAANgGIQQAALZBCAEAgG1mVQidPXv2ueeeezaK5o8fPy7qAABg+pklIUTx8+STT371q18NBoM//vGPz5w5s2HDhjvvvHPFihViDQAAmH5mQwhRd+fxxx9/6aWXaH7x4sVNTU0PPfTQunXrli9fnp+fz9cBAIBpaDaE0MDAwJUrV/j82NjYypUr+TwAAExzMzuEIpHIK6+8cvjwYbEsSZcuXRocHBQLAAAwvU27EDp58uT//t//WyxYCgQCHR0d3/nOd6gbtGjRosWLF1Phcg1fIX1Ke0Vlgop2RVRPElWNdDdVVDR1R1RVFGWFzpb2IRbSQ5tU0PXkdlwAgEk3vUKIEmj37t3UmxHLls6ePctniouLH3300ccee+wRzYYN698JHx67cIbXpsPV2NujaSlX1fIWPt/b6BLV6VF5OFg09MPKgOR0hgaUYVFww9AF9tL1yLJYBgCYHqZRCPEEunz5cl5eniiyVF1dfZvm05/+NP1LJU6nk2ZO/eoXp15/7viLP7o+llaY3TCD+wNSWXOtOxTYjwFDAABmuoSQnkDj4+Nyeh/YF5479UjNH/75Q5/Me2v4/LEjfLow9Kv5c5fm5c0du/BOZLDnYuQ3l0ZCF954TV+BT2IXaYh0N4nROa2bw0v0oS0xwtauUC/I09YvD+1p8HhMx/FUVVH6nGWuwtIqr7NP0UfG+B7aFfav8SisStu3OLpZH4sNshmOxVbXVqM+mdgqujfjCF5iLQCAXaZFCBkTSBSl4Td///nhb33lzX/8Ms3o07FvfHHuoiWr798my3PGLp99+8TLc1c6rp47Y1yHJrGLVKhZrx8o6wgG2fBca3GgfjeFR2F1M8VI1z42pja8zx+QvJ07S12NvcGWcrWkjlY2H8cb5BkkSYWuMkqh2L5Qn88vNWsHoX6Sfx/Pm2FlpKyTFQaDHV6JDh7ffyp1uaVwhK9MYaYMhNy11YXD+5p9YToPbXdlfE0dBZtFLQDADWZ/CGWXQNyGP/vKff6gcXpP2/fm31G4cOnqlfeU0wqXzpwYffGHt9/7oL4CbcK3TYk6FPspYZqri3jPjHdhBiVZLqIYkgL7lbgVLPEMojVp88QUcnqba4rYTthBQiMjWmFRTSMvZEesncibCZRC+hOmYZZBrlJtXiouorSjDV01fA+xrGsBAG4cm0MolwSytnjN3UuL76OZi++MHj/81Pi1q7w8A4MKH1/jg1ceT8OeIdFky0U1te6+Nk9bn7s2nXac+h9doh/EaH2hLuNQmIgFIRyJvrlAXTFx9LZ+UWQgyy49hXgGsVcPtL23eTztitlQm3UtAMCNZWcIXb16lRLo4sWLcQmUfiD94ukfBL+xy3R66p/+4dRZVc1bSKtRDv3mZ3tfff4Xv+z/MW3Ct00He1WOj8VFNbpE5DgcTvrX6XDwRWuUEEPGPGNxNmT9khx7sFNRoQ8GBltYxy4R7wtF+Fic1g+iblPNrt5gR13YV5n4WrZ1LQDADWZnCOXn53/ta1/bleCRRx4Ra6QyPPRGMq8deWXs2rjz/ZV5+dofkb124Tb55OYPli913qltmgaWMxOdEiPq2fgDxS0ddVLAn/LZPn9aU1LXwWOM66gr0cIj+bbDkbDkbvWLsT62ZIqn0KBxLI6hrPH3dOrPruJY1wIA3DDT4sWErD0w/tZHr48km+b0/t3102/fcc9H+MqXzpz47ZGfbNnmWfLeD/ESa9qYW4i/jECL7DW2du3dMzWivY5Q5SqqYc+Gou8RMNHHOTHYSNnEWBzHRsVSv6otIlDLvJBWEk+MyHVFx+JoZaXdONQWO9CXohYA4Aab2SFkbfzq2NB3Hp9/+x3L1j3AS8799thbrw+s/aM/54spuRp7W9mzHzaM5vE0DDjYmwWDu+u11xFY811YzXLKz/sT2psLtHLcK9qD+wMJGcRTSIp/Sc6AIpASTozg+aXmVreoSECHlUKUidF+kMMR9mmDfnTCZZ36+KFgXQsAcGPJp06dErNRK3a9NvqX9xcsnCuWkzi3/t7bMvmFm0l3uNkj5izddvf9zj/9q9GXn71wSoxoFazbsnz9g3x+FmC/99Pl6IwO3AHAZLG9lZue3n33XTGXFYqYf//Uuo0rtAclMzqETjzTJeZSmbeyMG/RrW+NvnRt7Dwt5uXNW/+RP+FVMx0bG2yupz7NrpoiUQQAkwQhZAohlKWrl88Nv3BAnnPLms2fmLtoiSidyZT2irZ+WS1vyfRr7gAgHQghU5MbQrP5mVCc/Pm3OT/4qZKy/zw7Eojw711FAgHAzHUThRAAAEw3CCEAALANQggAAGyDEAIAANsghAAAwDYIIQAAsA1CCAAAbIMQAgAA2yCEAADANgghAACwDUIIAABsgxCSZPwFBAAAm9xE36KdjnNXrn/vlTM/D5+z+LvbZN4tsrvktqp7l8y/BSkOMGvhW7RN4U85TKGv//TEwvy8P3pPQX6eKIlz4LWz/3H84gOOBQcjF+9bs/DhB5aJCgCYdRBCpvCnHKbKWxevHT11+SMbFuflzRmXzKfhs2N3L5+3oWD+/WsWDoTZn8gDAICsIYQmvH3xGv07Nz//12+OHnk9FDdR4ekr8rHTV5YvyqfVFubPuW49ZgcAAKkghCbwSJkjy8q/fv9fnvxG3ESFVDuuqnNk9fq4dPTUpeIlKUYsAQDAGp4JTTj61uWv95947KMlYtnMV/9tiM8snpe38/0rNiybzxfjRLqbGvaINVW1vLVnp4uyrb2iy9G5q6aIl2eN9uPrc/N90iI/ln4Uvo4p/ufAxULUZP11cFWN7GuuH6ntaXRNHEJV2ivpmv3VRWYnFnchuTDecK6kriP3W50SuwSp9cb8cdtJvF2QJjwTMoUXE6aKHkLU6Xn7t8dFadSyO9a4PvZJCqFP3VdQvHjuuqXz8vNM2gLeFgdCE40FNcS7pZ3UNFMjMikhZKRGupvrB8o6/TVFGTRMuTSdyXIlixCaRBRCdGz9ilRV2V3p65OmvMm+kSEENx5CyBReTJhyBStXr1q7Lm6iQl67dvHc31k+3zSByPA+f0DydhraPtnVaGyXp0BxUaGYA06WXTt7Or3OPt/uQVEEANMSQsjEslWONcUb4iYqFNXJ0Qfw/dQJqk39wZ96ME0VFZWaiqbuSPQdB9Z14IVaqWkJffqmOZqhfXga9gzJ/W0eT0W7QuX0L9uLhh3BsGdrtHLcUbQTbFe0zamXw5foEJ62fnloT4N2RG3TdFlcCN9/u8L+Na7A0Wpiw6ZuRVtPVFiS5aLqWrfUp/BLIInXyJmW83ObqGI1E5ukZLpP0x969NrZT0+74XyR/Ru3+ZTeLgC7IIRMWLyYkMKg0ie5XaViycKwMlLW2UOCwQ6vFKjXPrBT29LsC9d1BFlFa5lpiVFRza5gR12JWt4SDPY2ukpdbikc0Zs2ZSCtOCTUmNUPlHUE+VGK6Wyo4S6sbqaeRNe+YVpBdO92lroae4Mt5WoJnRE7It88HdYXwvX5/FKzVu8OBfz7+IVQk+oLe8W51Y60xT74ScHhcNIdYVdgfo0W5YSilp+Q8WeUjmT7NP2hc+EuxdHZ09vbyP/bMb0VcSb/dgHYASFk4g8+tePhxx6Pm6hQVE+GoppG/hRHfGCPhoc+tia7aqKPeRJLkqAUCg0oWptLDR5lUDpxqPXeJG9zNK5Kqyh7lEHtxJqpqdyvxK2QvRQX4vQ283J2CqGREe3clD4qFoeWXY2UgNq66SksKtb+N9k1JivnKNz5Azx+KyiRjR2OZCz2mfyHLkllVcZ7kngrEk3+7QKwA0LIBHV6nvruN+OmtHpCmaDPy3zYxNPWL4oKXWXOvjaPp12Jth2JJcnJsktPIZ5BaT2TH1T4+Jo4GW2Aj9fIRTW1bjp6W5+71thEZiONC4l9tKX1YIYj4dhi1rdJH9tck+wak187cToMA7DRPEvNcp8mP3RN7LWb3YoEk3+7AOyAEDJh/WKCFcP4jwX6xNpeUaGP2ARbynk5fUCu2dUb7KgL+yr585jEEr5mMrwvFOFjcen0gzSqNqDHBnCi9DcpeCsW0xxbSnbxmV6IMDISEnNZoc2dZS6tUU52jRbXnjXTfSb7oU+mHG8XgB0QQsLouatvnh2jmfA7l+et3bR804fiJiocuz7OV06Kfd4PBfanenjAPrG6W6MvLuuf1zlqrv3am138eYxpSVI8hQYzyaDkwalGuv2B4paOOingTzkSRTHDLj526Ig9IysuEgNTGV0Il3Bu6Tez1Ojv9lEXTrvJya7R8kNDzLXwK4npriSRbJ+WP/TJkcPtArALQkg6P3b96z890fLsyHcPn6bFJw+dMJ3OX7k+Ny/F7WJj/f5Wd59Pf/eJ0CdgszEo0VhoDb1oKeLWpDYvsUTMJSFG5LrSHovTgqHWHdIfnrM3r9rZydOM9jpClauohj0bMj4eT/KUQhty8+knTCfv63N6q1gYZnohAg/16KFpJ4m/bGuKvQdRyX6zk3drkl1jsnK2C9qqv42fM88zupJ0bqnlPk1+6JMp29sFYKNbxP/exH7yxvn8OXnf2l48N8k3Zx8avfyPL5y6d9UisWyJ/4aKo7m+wbOHl6gldZ1+PitQO9XsHWjQ1mC1re76Lq3C4QjXV1ZqLR0V73LJaiS+RFvPSmmVt6t+wNuc7lgccTX2tkoVbR7xlKKkrqOGfb9DPUVQZzVLi8LqWnfA59/nYg/q2XPwelpZTfiqBbouf6fUHD1hVS3x6r9Fm3BprDAVLdTZHvnNpCN21oXrTQOQVu5vq4w+Z9G+P6LHmBmm12hRrs23OLoqK9vYoupu7U3yW8Yxx2U/62rzfSb7oU+ejG4XwDSBb0yQOpWTa5cufK/jVrEca81Cqee1s0dOXfr9u5bQ4t89d+Jz5avuXm7+bT3TAX3+vTFfUmALZQq+dcLUDTvQlJodV2EjfGOCKXxjwiSbI8uXr42/dXHMdBobH799/pzr4+rYtetXUz4TshsbQ+vqc5a5ZmUCaeN77lqtcwYp4XbBjIAQkjYsm/vLkfNnLl07d9lkGj1//bqqjp4bG5fko6cuL56Xt36pCPDphj72ejwNgeLW2fTJly6Kv9PM+CR8fac13C6YcTAcJ42r0uETl4bPjqX4+0CqtGRB3v2rFy6Zn+TZEQDMLhiOM4Vv0QYAuBHQypnCMyEAAJglEEIAAGAbhBAAANgGIQQAALZBCAEAgG0QQgAAYBuEEAAA2AYhBAAAtsnpl1XFHADALIVfVk00Xb4xAQAAbkL4xoRJJuMbHgEAbIKeUIxzV65/75UzPw+fs/4u03m3yO6S26ruXTL/FqQ4ANxcMBw3hb7+0xML8/P+6D0F+Um+KfvAa2f/4/jFBxwLDkYu3rdm4cMPLBMVAAA3BwzHTZW3Ll47euryRzYszsubMy6ZT8Nnx+5ePm9Dwfz71ywcCJ8XWwIAQFYQQhPevniN/p2bn//rN0ePvB6Km6jw9BX52Okryxfl02oL8+ek+PtDAACQCkJoAo+UObKs/Ov3/+XJb8RNVEi146o6R1avj0tHT10qXoIXCAEAcoJnQhOOvnX56/0nHvtoiVg289V/G+Izi+fl7Xz/ig3L5vNFXaS7qWGPWIeoaom3019TZOcLeDmektJe4etzm/6haIuqdKhqZF9z/UhtT6NrYnNVaa/scnT6q4vM9pnjEY3ibgspqeu4AX8ZnV2C1Nrb6BLLU2kSbxeADi8mTBU9hKjT8/Zvj4vSqGV3rHF97JMUQp+6r6B48dx1S+fl55n8H5uaNmpW02xirBvcjFjsKqNTIha7msQTJlmE0CSKuy2qquyu9PVJU95k38gQApgKeDFhyhWsXL1q7bq4iQp57drFc39n+XzTBIKZS5ZdO3s6vc4+3+5BUQQAUw8hZGLZKsea4g1xExWK6szRh+6KinZFe5GBPv7zJfpE7Gnrl4f2NHg8WiUr14oJW+YrVmoqmrojhvcgqIaXE1o1bldiJUvRw7F/aScV2gGoPHFXVEJ11lWcflb63gjr2SQUpilxW/2Iyc6fo9XEhk3diraeqLAky0XVtW6pT+E/KWJ6RcS0nJ/bRBWrmdgkJdN9mv43kPCfCl9k/8ZtPqW3C2BSIIRMWLyYkJ3C6mb6iN21b5jmh/f5A5K3c2epq7E32FKultR1BIP64Ey4S3F09vTSsiwPKyNlnT0kGOzwSoH66Cd0akjqA8UtwSCr6qijbDTdVTr6fH6pmR2i1R0K+PdRG2exK+ujsLMaKKMqbXfFdLo8R5t9YdpAKywTq6YnnW0Tz58KqUn1hb3iTGpH2mIf/KTgcDilcIT9oMyvyKKcUEDzE4r7kaWUbJ/J/hsg+n8qpdqi6a2IM/m3CyBnCCETf/CpHQ8/9njcRIWiOhW5v41/riT80yv7iN1Mbch+6rTspwhqTv7Ao6xKf2WgqKaRz4tP6OEI7Uplewi5W8VzC7mopsbwQCWZxFPi5U5vMz9EaZXXGRoZ4aWZ087KcF1sd32KaDCLiwrZ/8iumsxf0EixbeL505kofVQszkR2NVJuauump7CoWPvfZFdkeaWSWt7CX23gP3H64GHscCRjsU/T/wZYBTH8p0LS+VFO/u0CyBlCyAR1ep767jfjpvR7QtQSsQ+Vml5qk/j/vYtqat19bZ62Pnetse2IIxrdKPqAzJPD09YvigaVPsnt4p9+02Z6SiT2cKIHkI1BhY/TibP1NOwZ0g5R6Cpz0lV72pXMm7Y0tjU5/+FIOLaY9W3SxzbXJLuiZOUap8MwZhvNs9Qs92ny34Am7j+VdH6Uk3+7AHKGEDJh/WJC1vj/vWPaqeToI2p7RYU+RBNsKRcV05VKQceHdKLYkCJl767eYEdd2FepPxWLkyz60tnWxMhISMxlhTZ3lrm0Rtn0iizKc2G6zxvx30COtwsgZwghYfTc1TfPjtFM+J3L89ZuWr7pQ3ETFY5dH+crZ0GNdPsDxS0ddVLAn84QjfYR1d0afVNZ/4BufGgxjVieFaWJX3vxjD8V01HMUGcnbuiI9fSKi/S+WrJtk0o4k/SbWWr0d/uop6rd82RXZHmlMdfCrySmu5JEsn0m+29gEuVwuwAmBUJIOj92/es/PdHy7Mh3D5+mxScPnTCdzl+5Pjcvy9ulqhHtdYQqV1ENezZkfG6cZPheI1oHLcBE06AN64X0B9dU1a2PVlntKkMWuzKrij8rOq129uSJPsobB9MSm2RtyM2nr0Pr+/qc3io22phyW3NsjxNP3Wknbf1pdVPYexCV7Dc7ebcm2RUlK2e7oK362/g58zyjK0nnV44s92ny38BkyvZ2AUyWW8T/3sR+8sb5/Dl539pePDfJN2cfGr38jy+cunfVIrGcCnsLwDB6X94SdCn1FEGd1awZLayudQd8/n0u9gSbPSCub/P0s2c2O2OG6ahhavYONDR49lDTUFLX2equ7xJVrsbeVqmCtqJ57esPqlmpYVeJr64lntJOi6dKFrtKXmU8K1JS11Ejy6rDEa6vrNQaYrqIXQnDVnSZ/k6pObpOzLc5pNrWFHuAr+1Ru3PsYVhnXbg+SaIab4uqlrf29Bgzw/SKLMq1+RZHV2VlG1tU3a29Sb5/Iea4dG3+avN9Jv9vYLJkdLsApgK+MUHqVE6uXbrwvY5bxXKsNQulntfOHjl16ffvWkKLf/fcic+Vr7p7efy39cC0pbRXdDk6b8z38dyYA02p2XEVMKXwjQmTbI4sX742/tbFMdNpbHz89vlzro+rY9euX83hmRDYQhvfc9dqfVBICbcLbjyEkLRh2dxfjpw/c+naucsm0+j569dVdfTc2LgkHz11efG8vPVLRYDD9ESf5fk7zYxPwtd3WsPtAnthOE4aV6XDJy4Nnx1L8feBVGnJgrz7Vy9cMj/JsyMAgJsAvkUbAABsg2dCAAAwSyCEAADANgghAACwDUIIAABsgxACAADbIIQAAMA2CCEAALANQggAAGyDEAIAANsghAAAwDYIIUnG1zUCANgE3x0X49yV69975czPw+esv8t03i2yu+S2qnuXzL8FKQ4ANxd8gekU+vpPTyzMz/uj9xTkJ/mm7AOvnf2P4xcfcCw4GLl435qFDz+wTFQAANwc8AWmU+Wti9eOnrr8kQ2L8/LmjEvm0/DZsbuXz9tQMP/+NQsHwufFlgAAkBWE0IS3L16jf+fm5//6zdEjr4fiJio8fUU+dvrK8kX5tNrC/Dkp/v4QAACkghCawCNljiwr//r9f3nyG3ETFVLtuKrOkdXr49LRU5eKl+BPLgEA5ATPhCYcfevy1/tPPPbRErFs5qv/NsRnFs/L2/n+FRuWzeeLnNJe0dYf/66dWt7S2+gSC5Zoc1+fO/2/rxzpbmrYI86HqGqJt9NfU5Tuy36ZHs4o7krTv8YpZXFFuVxsHG1XzsRbrarK7kp2kExvBf0c60dqrbeig3Y5OnfVFIllAPvgxYSpoocQdXre/u1xURq17I41ro99kkLoU/cVFC+eu27pvPy8pM0Za6ekjBujTKXTeBmpSnsltWT+6qKEhtiiypTxAnnjG/ZOryYy0ytKH107BXBJXUfc9dKPwz8ghYoz+IlwCCGYWfBiwpQrWLl61dp1cRMV8tq1i+f+zvL5Fgl0s5FlV5XXGRpQIjfNQ7KSkpJQYL9iuF5VjSgDIbEAAGlDCJlYtsqxpnhD3ESFojpD1Dx1N1W0K/RZlrRTy6UVVFRqKpq69bab1qAlwybsX7aOthJfJ6Vk29LOPfQBfmhPg8dD1byEHy6uip2otgLHdmQ4yaSKi/Q+B22iXVz8mevlhG5EYqHxuITORJQ3dSvaVVGhxc1JdkXGKs70oBnc9rJar7NPGRRLzOD+gOStLRNLnOlROOOljYgyQd8qo587wAyFEDJh8WJC1sJdiqOzp7e30SXLw8pIWWcPCQY7vFKgfrexMZvQ5/NLzWy1Vnco4N+XUT8jcVtXY2+wpVwtqesIBuNGfuKqSl1uKRzhh6N2mT7gu2utBrWo6fZTA1xVyhepDa0fKKNdaYcvpsvjPQZWHihu0cqDHXU80mMK6W6EfXpjTc20L+wV+6kdaTM8/SLWN8fiYonFQUl6t93hKnP2dU3UDip9zjKX8XNKdpeW7O4BzFYIIRN/8KkdDz/2eNxEhaI6O2VV+nPsoppGPi/LRdW1Ey1+HKe3ma9Wyka7RuI+L3Nyfxv/1Ey0z81iP+lsmxSlUGhAGdbmh1kGuUS+xJg4NGu0xVN6VVVYj6A5Glrs8KzHoJWH3K3ivQC5qKbGJYuVO6OFdDea2eqss6gq1Krr+5FdjZQpbIdRWV+gxUH5CmnuuZB+ctG7RDHc1UdJXajVMNldmtgq4e4BzGIIIRPU6Xnqu9+Mm3LsCRUXTbRQhD7w8gbc09YvihLEbhKO8FSIpZa3sI/Mmt5d1HhqjVd62yYjyy49hXgG8ZY0Dj90MNhCHYb9ekM5qPBRMHF1noY9Q9q21FOQEsKMFcaeaWFRMT/b4Ug4tsrhcIo5TfYXaHFQTZp7TnGXsru0ZHcPYPZCCJmwfjEhR/Rpt72iQh9yCbaUi4rphPeFInwszrQfFEVt8c5Wd59vYtRIpXTio0lRja7MW9KRken/lJ86KhJ7PYHu0sRoZGqWlzY5dw9g5kAICaPnrr55doxmwu9cnrd20/JNH4qbqHDs+jhfOSfsg7C7NfrqMFuahngKDabMII02atS1T+sysE/1Zr0H0/LEQr2XkFA1aalkcdBMFbIHQ8ru/QGpzBW3eXaXlrgVwGyHEJLOj13/+k9PtDw78t3Dp2nxyUMnTKfzV67PzZus2yUaGu2R/o39xG/x+MRQJcaaupKOxRnxJ1uhgL87ospFNWw2+jidvW/Wzp5UxZdHursVk5X3aW84sCOy9n3ivQDqPRp/NzZdZhdrddAM8Qvv7+93lrn0gVDO4iiiyuzSErfid4/XAsxKCCHpJ2+cz5+T963txd/xmE8N779jfv6ce1ctEhvkhhqaZq8kxv39UnOrW1RkxfhiAtHfezandVnaom8tx0ioYmNNobRHmdjmomF1Nfa2utmu6Hw8noYBh2igjeWV9QOS9iYZFXZ6wxMrl4nfx2Ttu7/TKwUa+PqKq6PO6pssTCS/2GQHzUapq1wtN76SoLM4SunOpJeW7O4BzFb4xgSpUzm5dunC9zpuFcux1iyUel47e+TUpd+/awkt/t1zJz5Xvuru5THf1jMrTd03DmRHwVcGAEwP+MaESTZHli9fG3/r4pjpNDY+fvv8OdfH1bFr169OyjOhmYANH3WxX3yZJglEieiLfQcaAGYHhJC0YdncX46cP3Pp2rnLJtPo+evXVXX03Ni4JB89dXnxvLz1S0WAz1bU5/B4GgLFrfZ2O+g02GgV55Mm5btHAWC6wXCcNK5Kh09cGj47luLvA6nSkgV5969euGR+kr+6CgBwE8C3aAMAgG3wTAgAAGYJhBAAANgGIQQAALZBCAEAgG0QQgAAYBuEEAAA2AYhBAAAtkEIAQCAbRBCAABgG4QQAADYBiEkyfhaTAAAm+C742Kcu3L9e6+c+Xn4nPV3mc67RXaX3FZ175L5tyDFAeDmgi8wnUJf/+mJhfl5f/Segvwk35R94LWz/3H84gOOBQcjF+9bs/DhB5aJCgCAmwO+wHSqvHXx2tFTlz+yYXFe3pxxyXwaPjt29/J5Gwrm379m4UD4vNgSAACyghCa8PbFa/Tv3Pz8X785euT1UNxEhaevyMdOX1m+KJ9WW5g/J8XfHwIAgFQQQhN4pMyRZeVfv/8vT34jbqJCqh1X1Tmyen1cOnrqUvES/MklAICc4JnQhKNvXf56/4nHPloils189d+G+MzieXk7379iw7L5fJFT2iva+uPftVPLW3obXWLBEm3u63On+XesczxWmiLdTQ17xCWrajk/Nzp0l6Mz9z/+HXe9/Fj8KNLuyvRvhYWMbqk1bVdOb6e/pihmV6qq8JPN9M7T9daP1FpvNVm3GmAS4cWEqaKHEHV63v7tcVEateyONa6PfZJC6FP3FRQvnrtu6bz8vKTtGmuwpIxbpezkcixVaa+kRs5fXZTQRqtqZF9zfSA00YLTyrulnY2uSQshIzXS3Vw/UJbQxGfK4opyRFdNqV9S1xF34ZQl/gEpVJwiThIhhGCGwosJU65g5epVa9fFTVTIa9cunvs7y+dbJNDsMLzPH5C8nYY+hOxqpATi81OjuKhQzE1PJSUlocB+xfAskKJaGQiJBQDIHELIxLJVjjXFG+ImKhTVGaJ2qrupol2hD7WknZowraCiUlPR1B2JNmq0Bi0ZNmH/snW0lfg66aDNxM6jG2oHZIemeXF47YQ89Nl+aE+Dx0OL2qaCqir7qRNUm7o/kexaWI+EF0bPIbFEv17ah6dhz5Dc3xY9E72K06+I0GVQielxE6/IYj/6JWdwt8tqvc4+ZVAsMYP7Kapry8QSZ3oUjs5HlDd1j4gyQd8q0x83wIyGEDJh8WJC1sJdiqOzp7eX+hLysDJS1tlDgsEOrxSo321s1Sb0+fxSM1ut1R0K+Pfp7bs1asvqB8o6gkFty2LaO2VPYXUztZ5d+4ZpBdHF2VnqauwNtpSrJXW0cvyg0KDSJ7ldpWLJgum1UKve7AvTfrVzYC10YolRUc2uYEddiVrekngm/IoCxVTFjtJRxz8LmB7X6ori9kNbhX3GhEjvbjtcZew+6rV0n5xlLuPHE4ujUAL5wl7xo6kdaYs+bCOmPzVRBzCrIYRM/MGndjz82ONxExWK6uyUVelPO4pqGvm8LBdV17qlcMS0yXN6m/lqpVVeZ2gk7oOzKa0HI3mboz0YtiX75M4O1Ext9X4lboWcJb8WMbYmu2qiF55Ykprok7WKUUG5qKZGGxJM8x7qxJ3pjO5HuyF0b/S2Ps27XUgHCw0oLM1Zsnb1UXdxYgzR4ihURYGl33nZ1UhxqW2U9KcGcDNACJmgTs9T3/1m3JRjTyjucQd98uVjL562flGUIHaTcERr+FIYVPholNi5NsjFa6j5rnX3tXnaqNlMPwPSYXIthazD0Obx8KEz85I0Je+TpXMPJ7D9xN7RwqJiw11N827LsssVTaFhZSDkdunPzBiLowxHwrFVDodTzCX/qQHMegghE9YvJuSIPva2V1ToYy/BlnJRMUlUbVCLjepE6W8T8FbP6Ujj4RZbNXXsJbsW6gHU7OoNdtSFfZX8WVRiCV8zO1N9D61RR0XrU0aUAclblcaQJTcyYvECg8VPDWB2QwgJo+euvnl2jGbC71yet3bT8k0fipuocOz6OF85J+wTsbs1+g4xW5pEycNDjXT7A8UtHXVSwJ/6uTfruIQC+1MNCVleC+WOv6dTfxZlWpKa6RVlcQ8T98M2i+21pEnr1Sm79wekMlfc5hZHSaiaSKXkPzWAWQ8hJJ0fu/71n55oeXbku4dP0+KTh06YTuevXJ+bN1m3S7Q4WjBM5gu+2phbSH+szd77amdvjtGM9jpClauohj0bMj54N3v+wR5m+FvdfT79xTNC3Q+zwTSTa4lbk9rgxBIxl0r8FUW6u8V+kt9D0ytKuDPihhgH09LDbk6tu7+/31nmEk9xoiyOIqqid55uiP67xsl+arwWYHZDCEk/eeN8/py8b20v/o7HfGp4/x3z8+fcu2qR2CA31OJQDIgHAH6pudUtKiaJq7GX0qPNw/bv8TQMOFhDObi7XnvyzZp+7dE6NYZaE649A9dfjDaSZddO6rVIgQZtV0yXI27wKem1OBxhHytjJ1DWyUaWEkvSZryiyvoByWF5D5NfEe2n0xueuDNlOfwSaKmrXC03vpKgszhK6U7D/VRcHXUT381h+lMTdQCzGr4xQepUTq5duvC9jlvFcqw1C6We184eOXXp9+9aQot/99yJz5Wvunt5zLf1AADcPPCNCZNsjixfvjb+1sUx02lsfPz2+XOuj6tj165fnZRnQgAAEIUQkjYsm/vLkfNnLl07d9lkGj1//bqqjp4bG5fko6cuL56Xt36pCHAAAMgRQkj62PrFD21aeu7S1bcvjCVOL45euHx1fNtdi98+P7Zuaf5XPrpm1n9rHADADYNnQgAAkAE8EwIAgFkCIQQAALZBCAEAgG0QQgAAYBuEEAAA2AYhBAAAtkEIAQCAbRBCAABgG4QQAADYBiEEAAC2QQhJMv5wCwCATfDdcTHOXbn+vVfO/Dx8zvrPWs67RXaX3FZ175L5tyDFAeDmMrnfHYcQivH1n55YmJ/3R+8pyM8TJXEOvHb2P45ffMCx4GDk4n1rFj78wDJRAQBwc8AXmE6Vty5eO3rq8kc2LM7LmzMumU/DZ8fuXj5vQ8H8+9csHAifF1sCAEBWEEIT3r54jf6dm5//6zdHj7weipuo8PQV+djpK8sX5dNqC/PnXLceswMAgFQQQhN4pMyRZeVfv/8vT34jbqJCqh1X1Tmyen1cOnrqUvES/MklAICc4JnQhKNvXf56/4nHPloils189d+G+MzieXk7379iw7L5fJFT2iva+uPftVPLW3obXWLBEm3u63O39ux0pfHCXo7HsjalO48T6W5q2DOkquVpXvhUyOjOW9N25fR2+muKYnalqsruSnaQTO8h3Z/6kVrrreigXY7OXTVFYhlgKuHFhKmihxB1et7+7XFRGrXsjjWuj32SQuhT9xUUL567buk8i7/zzVoiKePmJju5HEtV2iup9fJXFyVpfKf6QtRId3P9QFlCkz3VUl541uiOUX6X1HXERQJliX9AChWniJNECCGYbvBiwpQrWLl61dp1cRMV8tq1i+f+zvL5FgkEGSouKhRzs0NJSUkosF8xPDJU1YgyEBILAGCAEDKxbJVjTfGGuIkKRXWGqAHqbqpoV+jTKmmntkkrqKjUVDR1R6KtFa1BS4ZN2L9sHW0lvk46aDOx8+iG2gHZoWleHF47IQ99aB/a0+Dx0KK2qZU0L8Ti5Fn/g6+sFdIanoY9Q3J/m+EEqJCvQ/TCxENr90rhhyCsiK3CjyiulG0YLWTl0TNMvHBtb+zOc5bnwP5l5YbrildW63X2KYNiiRncH5C8tWViiTM9CkfnI8qbukdEmaBvlel/FQDTE0LIhMWLCVkLdymOzp7e3kaXLA8rI2WdPSQY7PBKgfrdxuZqQp/PLzWz1VrdoYB/n55V1qiRqh8o6wgGtS2Lae/UIhdWN1Oz2LVvmFYY3uenBrFzZ6mrsTfYUq6W1NHK6Y8RpXkhiSdPbXizL0wH00pZe1xUsyvYUVeilrdET4CdfKCYFsU+wz5j62w8NC2GAl38ELQPyrFK7YBsK2efL3ompmdofeHW55DeD8XhKmO3W68dVPqcZS7jpxiLo1AC+cJe8ROsHWnbIx5DEtMfrqgDmJkQQib+4FM7Hn7s8biJCkV1dsqq9MceRTWNfF6Wi6pr3VI4YtqWOb3NfLXSKq8zNBL3idgU9RDYR+7m6KMOtiX7SM4O1EyN8H4lboUspHchSU5ejLzJrhp9Jzpx8p3i7QB+znT6E+2s4dCMu5YvFlbXlququ5ZdVNyZpHmrdSnPIc0fCp2SOzSgsNBnvbGuPjq7iTFHi6NQFQWW/gOSXY0Ul9pGSX+4ADMaQsgEdXqe+u4346Yce0Jxzz3oIy0fVPG09YuiBLGbhCNai5bCoMKHmcTOtdEuXiMX1dS6+9o8bdQeJgZA+tK8EJOTL2TdgzaPp11JEgPUX4jbrrCo2HDhcYd2Ooxdi9glg3Ru9YTMziHpD0WWXa5oCg0rAyG3i+eNYHGU4Ug4tsrhcIq55D9cgJkLIWTC+sWEHNHn2faKCn1QJdhSLiomiaqNbrHhmqhGl2iqeHOWtLXOUKYXQp/3a3b1Bjvqwr6YxzZTZ6pvtTXqqGhdz4gyIHmrSkVpSiMjFi8wWPxwAWYohJAweu7qm2fHaCb8zuV5azct3/ShuIkKx66P85Vzwj7qulujLwezpUnEcsb847ka6fYHils66qSAf3IeaGd1IZRE/p5Ob/QBVYzEk0/oFmQmizOcxHPQen7K7v0BqcwVt7nFURKqJlIp+Q8XYOZCCEnnx65//acnWp4d+e7h07T45KETptP5K9fn5k3W7RJNiRYMk/nmrjbmFtKfV7OXAdrZK2E0o72OUOUqqmHPhoxP1NN72pREBhdC3RLjQFxiu5548uKcjQNZGUt+hmYXPonnwJ9C9ff3O8tc4ilOlMVRRFX0B0Q3Tf+t4WQ/XF4LMEMhhKSfvHE+f07et7YXf8djPjW8/475+XPuXbVIbJAbakooBsTIvl9qbnWLikniauxtZc9+2P49noYBB2sBB3fXa4+0WbuvPTOnVk5rm7WH28Y3pNOX8YU4HGEfW5edVVmn6TgSnXynNzxx8mU5/QKm1Rkmv/DJPIdSV7labnwlQWdxlNKdnfQ5oUGrqlRcHXUTX+Fh+sMVdQAzE74xQepUTq5duvC9jlvFcqw1C6We184eOXXp9+9aQot/99yJz5Wvunt5zLf1AADcPPCNCZNsjixfvjb+1sUx02lsfPz2+XOuj6tj165fnZRnQgAAEIUQkjYsm/vLkfNnLl07d9lkGj1//bqqjp4bG5fko6cuL56Xt36pCHAAAMgRQkj62PrFD21aeu7S1bcvjCVOL45euHx1fNtdi98+P7Zuaf5XProG3xoHADBZ8EwIAAAygGdCAAAwSyCEAADANgghAACwDUIIAABsgxACAADbIIQAAMA2CCEAALANQggAAGyDEAIAANsghAAAwDYIIUnGX2QBALAJvjsuxrkr17/3ypmfh89Z/73KebfI7pLbqu5dMv8WpDgA3Fwm97vjEEIxvv7TEwvz8/7oPQX5eaIkzoHXzv7H8YsPOBYcjFy8b83Chx9YJioAAG4O+ALTqfLWxWtHT13+yIbFeXlzxiXzafjs2N3L520omH//moUD4fNiSwAAyApCaMLbF6/Rv3Pz83/95uiR10NxExWeviIfO31l+aJ8Wm1h/pzr1mN2AACQCkJoAo+UObKs/Ov3/+XJb8RNVEi146o6R1avj0tHT10qXoI/uQQAkBM8E5pw9K3LX+8/8dhHS8Syma/+2xCfWTwvb+f7V2xYNp8vckp7RVt//Lt2anlLb6NLLEyeSHdTw54hVS1v7dnpmrIX/Kb0ilQ1sq+5fqS2p9E1cQhVaa/scnT6q4vMLorOx9fnnpRL5jdQLGhK6jp21RSJhSnDLkFqnYr/JBJN4u0C0OHFhKmihxB1et7+7XFRGrXsjjWuj32SQuhT9xUUL567buk8i7/zPdUNjRrpbq4fKOv01xTdoMYllytKlitZhNAkohCiY+tXpKrK7kpfnzTlTfaNDCGAqYAXE6ZcwcrVq9aui5uokNeuXTz3d5bPt0igG6W4qFDMQe5k2bWzp9Pr7PPtHhRFADD1EEImlq1yrCneEDdRoajOEH3e726qaFfoEzBpV1ReUFGpqWjqjmgvOERXY/+ycq1C7IE6B3xlrZDW8DTsGZL72zwe2oCvQ4V8HaIXJh6a5pq6FX4IworYKvyIbIlvmA79iPqpansSOxH71Y7taeuXh/Y0GM42TXEXTiXa+UdYVfLbRWg1sSG/2vSOK8tF1bVuqU/R70PiNXKm5fzcJqpYzcQmKZnuU//psPLoDhN+rHyR/Ru3+ZTeLoBJgRAyYfFiQtbCXYqjs6e3t9Ely8PKSFlnDwkGO7xSoN7w0bvP55eaWVWrOxTw76NGh1qPZl+4riOolZbROkU1u4IddSVqeUswyEd1qGmpDxTTothn2GdsR4yHpsVQoIsfgvZBOVapHZBtlUkngB1xoKxDO2JPazFdAzXchdXNtJOufcO0wvA+f0Dydu4sdTX2BlvK1RK6AnG2aUq88ESJt4sKqUn1hb3i3GpH2mIf/KTgcDilcIRdgfk1WpQTilp+Qok/WWvJ9mnxn4r+Yy3VFk1vRZzJv10AOUMImfiDT+14+LHH4yYqFNXZKavSn98U1TTyefHROxzRmwynt5lXlVZ5naGREV4aHXmTXTWJD4Goe7Nfa+95xrB9siyY+DhvPDTjruWLhdW15arqrmVPXxLPxII4YnP0sQ071z5lUBxaCuxX4lbIntWFk8TbReem9FGxOLTsaqQE1NZNT2FRsfa/ya4xWTlHHwz4qw3Rn0KXscORjMU+Lf5TifuxJvkvJ8bk3y6AnCGETFCn56nvfjNuyrEnFPcAhz758gEQT1u/KNLErqZ9JC90lTn72jyediVJ6zCo9MVtx1pS8XGexB3a6TCOK8YupWlQ4eNr4hK0wUFeIxfV1LrpbNv6olGXvZQXbnq7hiPh2GLWt0kf21yT7BqTXzuJuZvRPEvNcp/p/adidisSTP7tAsgZQsiE9YsJOaLPnu0VFfrYS7ClXFQkQR+Ba3b1Bjvqwr7KTB/bTB1VGwxkAzhR+htuvBVLP9zM28usL3xkJCTmskKbO8tcWqOc7Botrj1rpvvM9D+VbOR4uwByhhASRs9dffPsGM2E37k8b+2m5Zs+FDdR4dj1cb5yTthnT3dr9BVk/ZO3NWqQ/dq7W/yJSwzDYwwh4ePtJEs8YpQa6fYHils66qSAP+VIFMUMdXbiho54v04MTFlfuKmEc0u/maVGf7ePunDajybZNSa/dhJzLYk91GSS7TOr/1Qyk8PtApgUCCHp/Nj1r//0RMuzI989fJoWnzx0wnQ6f+X63LzJul3i//Zak53i//P0adg4HpXYqmkjYCH9UbaqRrR3Aqqm7pddEo/Y3c5e3Jo4dFENezZkfDye5CmFNuTm0y+QLtbX5/RWsWftKS/cHNvjxFN32kniL9uaYu9BVLLf7OTdmmTXmKyc7YK26m/j58zzjK4knZ+C5T4z+E8lG9neLoDJghCSfvLG+fw5ed/aXvwdj/nU8P475ufPuXfVIrFBbqjFoQZaPADwS82tblGRjMMR9mmPBDwNA2WdpiM/rsbeTm+4zcP2yVeb6t/8pyO2smc/0SM6XPRpfXB3vfZ8naVFYTVrV/28+6I9aTe+UK6ju+GnU9cukPGFvfpv4KZx4YnYA3zaoxRo0M6tUnF11CX9CgzKDLYOx35rtsf4/p7pNVqUk5K6FkcX25mHPRVrTfZTMB6Xv3htus+M/1PJXEa3C2Aq4BsTpE7l5NqlC9/ruFUsx1qzUOp57eyRU5d+/64ltPh3z534XPmqu5fHfFsPTGdKe0WXY8pTmdywA02p2XEVMKXwjQmTbI4sX742/tbFMdNpbHz89vlzro+rY9euX52UZ0JwA2nje+5arXMGKeF2wY2HEJI2LJv7y5HzZy5dO3fZZBo9f/26qo6eGxuX5KOnLi+el7d+qQhwmJ7oszwbWeJ8Er6+0xpuF9gLw3HSuCodPnFp+OxYir8PpEpLFuTdv3rhkvlJ/uoqAMBNAN+iDQAAtsEzIQAAmCUQQgAAYBuEEAAA2AYhBAAAtkEIAQCAbRBCAABgG4QQAADYBiEEAAC2QQgBAIBtEEIAAGAbhBAAANhmVoXQ2bNnn3vuuWejaP748eOiDgAApp9ZEkIUP08++eRXv/rVYDD44x//+MyZMxs2bLjzzjtXrFgh1gAAgOlnNoQQdXcef/zxl156ieYXL17c1NT00EMPrVu3bvny5fn5+XwdAACYhqZLCJ0/f17MZW5gYODKlSt8fmxsbOXKlXweAACmuWkRQrIsP/300z09PWI5bZFI5JVXXjl8+LBYlqRLly4NDg6KBQAAmN7sDyFKIFVVr1279uqrrx44cECUpiEQCHR0dHznO9+hbtCiRYsWL15Mhcs1fIX0xfyF46iKdoVXVdCc9R9dzYrxoPxY6Zuss1LVSHdTRUVTdyR2V2z/GZ4SAEAWbP7LqjyBaGbv3r307z333DM0NLR9+3atMoUnnngiFArRTHFx8X/5L//ltttuo0VKoFtvXXTmzZcWLS+Zu2gJXzN91Pj6pNbeRpdYnhrU9O9rrg8UTxxI6e52VFcX3fC/7U8Z1OwfkEJSWae/pmji6DfmPgDATDR7/rKqnkC6zZs3l5SUpNkfqq6upuAhn/70p+lfKnE6nTRz6le/OPX6c8df/NH1sUt8zWlnWBkIOb1VpWJRklw1FAE3OoHI4P6AVNZc6w4F9mMMEwBsYFsIJSYQl34OLTx36pGaP/zzhz6Z99bw+WNH+HRh6Ffz5y7Ny5s7duGdyGDPxchvLo2ELrzxmr4Cn8Qu0kB9gqbuiGFe6W4Sw2hsOEwbzWLjabGDY1TM1+FDXaJUV1hULIVGRsRSnMRt+WHaFTZIxg9kPCtiejhaKbHQiHaj9DnLXIWlVV5nnzIVQ44AANZsCyHTBOI2bdo0Ojp6+vRpsZzEb/7+88Pf+sqb//hlmtGnY9/44txFS1bfv02W54xdPvv2iZfnrnRcPXfGuA5NYheZCwW6pOYe0lFX0t/mqfSzpWCwg1px327RmaBIqB8o6wgG2XqtxYH63XHtuyy7qNmnzY1BwllsG+5SHJ09vb2Nrtg+k+kmbJzNF67r4IVlYtU4gzyDKBRdZZRC6AsBwA1n53CcaQ6Nj4/v3bt327ZtBQUFoii5DX/2lfv8QeP0nrbvzb+jcOHS1SvvKacVLp05MfriD2+/90F9BdqEb5sldy1/dlJYXVuuqu5a9iBHlouqa91SOBKhS1KV/QHJ2xx9wMN7GQnte1HNrmBHnRSop56KHkUpti2rMj624Sw3KS6igKHM0wb7tJIYPIP4+SOFAMAW0+uZEE+grVu3rl27VhRla/Gau5cW30czF98ZPX74qfFrV3l5jpwOh5hjYpe4QaVfHtrT4OFDYR5Pw54hkwAgMgVRb2+wpZzWFq+iWW4rIiVOsk20zk2bx9OumPc4qavUJfpBjLZ6l+moHQDA1LEzhIgxh7JIoF88/YPgN3aZTk/90z+cOquqeQtpNcqh3/xs76vP/+KX/T+mTfi2U0dVy1v44FhUo8s8h4jsaqQukR4AGW3LmW5CnRuKONpz2Bf/vIobVgaGjOnFwmtoQBkW1QAAN4TNIUT0HDpy5EimfaDhoTeSee3IK2PXxp3vr8zL114EvHbhNvnk5g+WL3XeqW06ZRwOpxSOZNSY6+8pZLGt5SaURP6eTi9F3L6YNVQ1ogyESuo6RGppOupKQgNK3C8MAQBMKftDiFAOrV69eseOHZmOwj0w/tZHr48km+b0/t3102/fcc9H+MqXzpz47ZGfbNnmWfLeD/GSqUDtPnvjOfpCAXtDoJ06OTEtO3vZzfCroMP7uvokt6s0rW3jJNtEVdqNA3HxQ3naO+L6WBzHRuTwqjYA3FjTIoSI2+3O/TlQnPGrY0PfeXz+7XcsW/cALzn322NvvT6w9o/+nC9OEVdjb6ubPY/hD2kGHOzhv6jjqOvT5+PjYIT92mrPTv7OW+ptE5hv4nCEtSOwkrLOuDG9wf2BhAziKSTh9QQAuJFs/saEXBxu9og5S7fdfb/zT/9q9OVnL5wK85KCdVuWr3+QzwMAQEYm9xsTZnAInXimS8ylMm9lYd6iW98afenaGPuu7ry8ees/8ie8CgAAMoIQytLVy+eGXzggz7llzeZPZPG1cgAAQGbPd8fdYPnzb3N+8FMlZf8ZCQQAME3cRCEEAADTDUIIAABsgxACAADbIIQAAMA2CCEAALANQggAAGyDEAIAANsghAAAwDYIIQAAsA1CCAAAbIMQAgAA2yCEAADANgghAACwDUIIAABsMy3+ntDBgwffeecdsRC1dOnSLVu2iAUAAJgeptffEzp/nv2t0hwdOnTohRdeeMOAFqlQVAMAwCyVUwjJsvz000/39PSI5Rw8+OCDOwxoUVQAAMDslf1wHCWQqqp79+6ljsvGjRu3b98uKlI53OwRc5m7zx8Uc7FUpd3T1i8WaLG8pbfRJRayoqqRfc31Acnb6a8ukmVRmjmlvaLL0bmrpkgsp0Lr+/rcrT07XVkdNNLd1LBnSCxoSuo60j+6jl/+SG1Poyv7a0+JLratP37/Wf/sMr3VAJCdaTEcxxOIz69bt66kpOTAgQN8MTtLNm4pqX1En2hRVKRCzWV3U0WlT2oJBqlPRoLBFnc4EomeXpaGlQHJ6QwNKMOiYIpQfFY0detn62rs7aU2OIfYo0ac3wdCt6I4UF9R0a7keDei4s42R3Sx/DxbylX9tHP89AAAM0s2IWRMIG7z5s055lD+7UvHFq9Uhk/TRDO0KCpSGd7nZ/0VQ9dBll2N9Hk4h3acDO4PSGXNte5QYP+gKJqB6Fbs7On0Ovt8u2fwVQDALJZxCCUmEJdRDi1wOG9df69xmluw8vKVK6GR4zTRDC3GrUCbiI0NVFXZHwi5a61GzKijVKmp0D7Di1JDOaGugijV0G6VPmeZq7C0ihpwRe9G8F5Xu6L1vWJ3qNWwQlZu1legLoTxKGz1pu7u9gpPW788tKfB4+G1vKfB1yHGk6TuDJVQX4Qvxl1OMrJcVF3rlgxXoe8z5vyT75ZfNZ19e8LZEuMZGi+QX8jEsdheU5+tLtluiUWVLtO7BAB2yTiETBOI27Rp0+jo6OnTp8Vycmu2f2b9I182TgVbPrx6xfLPVm+niWZoMW4F2kRsbDSo9EluV6lYSkQNVv1AWQcfqWstDtTv5m0xKw8U8xG8YLDDG/bFNGe0W5ZBklToKqMUiu1F9Pn8UrO2P+on+ffxtnVYGSnrZIVsbxIdJ77nUepyS9FBQmrWlQGWnTWNvcGWcrWkjs4wcRgq5iQ76hy0YaS72RemtbXDl4n1UnJQgIcj2rii6Q2x3u3gbu3ZWM/OxoSztb6NlFb8TiW7J8lY7DbFD06T5V0CADtkMxxnmkPj4+N79+7dtm1bQUGBKEru2BNfePHRKuN04pmu0PDxz+16giaaocW4FWgTsXFy1EJFP/+ypyBaP0nyNkf7SbxfM0jnr5V3ihE81ldojunx8AyiragqMYWc3uaaIrYh219oZEQrLKpp5IWi55H4UIpSSH/CNMwyyCI7iejktUZPsqimRrwjUFxE6Uglrhp+xNQKi4q1/012QzTmu6UOjS9s/nZGytuolrfw1wSiVV3pdEosdpvyiAaZ3yUAsMPkPBPiCbR169a1a9eKosytXrHs4ZoKmmhGFGWoqGYX+4DcUSdG7gYVPnjEk8njadgzpLVHrP8kGimBNdOir0Cfo7tEP4jR+kIxrWfslmIrokeg8T09nSy79BTiGcRb0qRMO3na2bR5PHxoLl3DkTCfSXZDkuw23NXMXtVL9n6g5W0kTgd13qKiQZiaxW5THVHI7i4BgB2yCSFizKFJSaCLkWPvHupb9ObLNNEMLYoKa4aBJlPspSs+9BSV8p1jSoghY0vNGuoh65fk6BN6e0WFPswVbCkXFbF4XyjCx+Ks+0FJ0Gf/ml29lLJhn+jtiQprIyOhaKqa3hDL3Vrd3ukpy7sEAHbIMoSInkNHjhzJMYHIhcixUwPP6hMtigpL1NpYvcCWLKISy1lfgX3E5k9rSuo6RAut6agr0cIjeVvGNp/oMegdj3g8hQbTy6Dk+UpX7dfeeevalzofKCB3U3eGv7thmdmJuy2u9XeyhznN5sNoyW8jFx2q1CR2YpKx2G2qIxpldJcAwC7ZhxChHFq9evWOHTtyTKBclO5sdff5TF++EhEVfRmBPX9vZ6sllmuveVex8TE2UjYxFsex0Z3Ur2qLxpEO4g+EtJJ4YkSuK2EsLqa1FuJPMtLdTXNKu3GIKWWjzh7RV7IRNd7/S3ZDLHZLfQoth8QmTPRsrW4jX6G/je+WB6HTUGXBYrcpj8hlepcAwEY2fIHpVHxjgtIe87v35S1BfdjNWGX8+oCI4csF9HLT5/CssWuuDxS39ux0GL9HgDXx9QNlnf6aIlnfm1pS11k7Ut/l4DuhHRp/jd+4iSjRdr5nSFa1bwqIW18/eVUtYaclsRMZ0s7NeC0640URVS1P/PKFxBuinVXMbvlZ6VfKN6G7urN02Hi2VGV6G4l2Ia1lAz7+2Elf3xSt7JNajSsk2y2xPCK7dYmXw1cAgEkxud+YMEtCaKZgv78SzSdRNEvpkSCWAWC2mPEhdOKZLjGXuVUfrxVzMxDvXlA/6GZomhFCALPVjA+hmxM1ym39E6NYsx5CCGC2QggBAIBtpsW3aAMAAOQOIQQAALZBCAEAgG0QQgAAYBuEEAAA2AYhBAAAtkEIAQCAbRBCAABgG4QQAADYBiEEAAC2QQgBAIBtEEIAAGAbhBAAANgGIQQAALaZFn/K4eDBg++8845YiFq6dOmWLVvEAgAATA/T6085nD9/Xszl4NChQy+88MIbBrRIhaIaAABmqZxCSJblp59+uqenRyzn4MEHH9xhQIuiAgAAZq/sh+MogVRV3bt3L3VcNm7cuH37dlGRyuFmj5jL3H3+oJiLpSrtnrZ+sUCL9v0V7Uh3U/1ILT+60l7h63O39ux0yTKvzQ7/0+BiISrra8Qf3gaAXEyL4TieQHx+3bp1JSUlBw4c4IvZWbJxS0ntI/pEi6IiFVWlZr+i0ie1BIPUJyPBYIs7HIlET89GrsbeXgqK3BKI0H74pbWUq5Q9fN6ulAUAmETZhJAxgbjNmzfnmEP5ty8dW7xSGT5NE83QoqhIZXifPyB5Ow29DVl2NdLn/JybfgAAmGoZh1BiAnEZ5dACh/PW9fcap7kFKy9fuRIaOU4TzdBi3Aq0idjYQFWV/YGQu7baInKoo1Spqaho6o5MnLleTiraFVGqMVa1K2ITi/WV9gpR3tQ9IsoYKqdD0gzvrrUr7F+2WuyZGDdXtPVERRrSvIpk+1SVdrFC7CkBANwYGYeQaQJxmzZtGh0dPX36tFhObs32z6x/5MvGqWDLh1evWP7Z6u000Qwtxq1Am4iNjQaVPsntKhVLiaghrh8o6+Ajda3Fgfrdinb+rDxQzEfwgsEOb9inN9MxVR11jsTC2PUpQnxhrzhE7UjbniFenqjP55ea2Vqt7lDAv48PGKa/eaJ0ryK2SkfJ2OwL13Voh24tE6UAADdQNsNxpjk0Pj6+d+/ebdu2FRQUiKLkjj3xhRcfrTJOJ57pCg0f/9yuJ2iiGVqMW4E2ERsnRy1v9HM9dWAI9ZMkb3O0n1Ra5XX2KYO8/yR5O8UIniwXVTezmugmIXdrtKqopsZFPT+r9ZU+p34I2dXYUp40pGm9miK2GjuR0Aj1mTLaPE6qqzCv0jY1Ki4qZP8ju2r4uQEA3EiT80yIJ9DWrVvXrl0rijK3esWyh2sqaKIZUZShoppd7IN/R50YuRtU+uWhPQ0enkweT8OeIa2dZf0n0fgKhUXFUjgynKRrZbH+cCQcW+UwGzbkYneR8ebxUlxFkiqjQleZs6/N49GHHAEAbrBsQogYc2hSEuhi5Ni7h/oWvfkyTTRDi6LCGmuzE9pWA/YyGR/pimp0Tern/ZGRkJjLSo6b54Z6SDW7eimzwz7RdxQVAACZGBoaevnll8VCFJVQuVhILssQInoOHTlyJMcEIhcix04NPKtPtCgqLFErWusOBfYPiuU4ySIqsVzvkZhuksn6mcVKLptndBUJXS4d3UN/T6fX2de1z7gBAEC6RkZGAoGAMYdonkqoXCwnl30IEcqh1atX79ixI8cEykXpzlZ3n097tyv+g7yIqOjLCOwVtXa2WmK59pp3lYuuJ64q0t2tpLF+9C0DVWlP/K1SK2xALMvNM7gKQ5W2qUCHMw7EmWcUAEAqH/jAB/7gD/5AzyGeQFRC5XwFCzZ8gelUfGOCEvudAuUtQX3YzVhVUtehf1NApLupIfoqmrGc6Juoaom308+f2CdbnzXxzfX8aZNa3tLp6DJ+YwL/bgK+zkitGAxkr6XVD5Rpe7bYPBF7lU5qNdZaXEWyqomzYqcRGNKSKW5bAIBkkn1jws9+9rOnnnqqrKxsYGCAEmjr1q2iIlbcNybMkhCaNfSEEMsAANOMxdf2UA59//vf/+QnP5ksgYj9IXTimS4xl7lVH68Vc7MR+9VR6unk/F1zAABTx/q7444fP75mzRqxYMb+EAIjfeiPqGo5EggAprnJ/QJThBAAAGRgWnyLNgAAQO4QQgAAYBuEEAAA2CZpCMl4PA4AAFPM7MWE9qNVv7tk1aJ8sQwQ6+q4StMfbVoulmGa2fvyW/lzZJrEMsCkmn9LTv9p/a1ycs/2wo85b+WLJiG0vTu8acX82+dhpA7MHb8wHjl37Zk/vlsswzTz8f93tOi2W9Yswv+FYTr6xfBF34dX/e5y7e04Sfr/AyoNI2JUYj0bAAAAAElFTkSuQmCC)"
   ]
  },
  {
   "cell_type": "markdown",
   "id": "289bd145",
   "metadata": {},
   "source": [
    "2. **Load Your Custom Model**:\n",
    "   In the tool's interface, locate the **Input Model Definition File** parameter and load your custom `.dlpk` model file. For example, if your model file is named `MyTextClassifier.dlpk`, select it. \n",
    "\n",
    "\n",
    "Complete the other mandatory parameters as needed. For further details, refer to the [official documentation](https://pro.arcgis.com/en/pro-app/latest/tool-reference/geoai/classify-text-using-deep-learning.htm).\n"
   ]
  },
  {
   "cell_type": "markdown",
   "id": "92aab24a",
   "metadata": {},
   "source": [
    "![Input Model parameter File](data:image/png;base64,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)"
   ]
  },
  {
   "cell_type": "markdown",
   "id": "bf3a9b33",
   "metadata": {},
   "source": [
    "3. **Configure Model Arguments**:\n",
    "   **Model Arguments** will have the parameters you have defined in the `getParameterInfo()` method of your model. Update these parameters as needed for your model to function correctly. In the example I have given `class_names` and `prompt` parameters.\n"
   ]
  },
  {
   "cell_type": "markdown",
   "id": "b79099fc",
   "metadata": {},
   "source": [
    "![Model Arguments](data:image/png;base64,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)"
   ]
  },
  {
   "cell_type": "markdown",
   "id": "468ae0f9",
   "metadata": {},
   "source": [
    "4. **Execute the Tool**:\n",
    "   After filling in all required parameters, click the **Run** button. This will process the input data and add a new column with the predictions to your input table.\n"
   ]
  },
  {
   "cell_type": "markdown",
   "id": "35286ae8",
   "metadata": {},
   "source": [
    "By following these steps, you can effectively use the **Classify Text Using Deep Learning** tool with your custom model in ArcGIS Pro."
   ]
  },
  {
   "cell_type": "markdown",
   "id": "65ffb41a",
   "metadata": {},
   "source": [
    "## Conclusion\n",
    "arcgis.learn API and ArcGIS Pro's Text Analysis Toolset, part of the GeoAI Toolbox, enables model extensibility, allowing users to use custom Natural Language Processing (NLP) models into its text analysis workflows. This documentation provides a comprehensive guide on how to create, use custom .dlpk files with these tools and API."
   ]
  }
 ],
 "metadata": {
  "kernelspec": {
   "display_name": "Python 3 (ipykernel)",
   "language": "python",
   "name": "python3"
  },
  "language_info": {
   "codemirror_mode": {
    "name": "ipython",
    "version": 3
   },
   "file_extension": ".py",
   "mimetype": "text/x-python",
   "name": "python",
   "nbconvert_exporter": "python",
   "pygments_lexer": "ipython3",
   "version": "3.11.9"
  }
 },
 "nbformat": 4,
 "nbformat_minor": 5
}
