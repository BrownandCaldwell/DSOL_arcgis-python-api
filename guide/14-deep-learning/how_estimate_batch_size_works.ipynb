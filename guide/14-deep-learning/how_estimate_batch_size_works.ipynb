{
 "cells": [
  {
   "cell_type": "markdown",
   "metadata": {},
   "source": [
    "# How Estimate Batchsize Works"
   ]
  },
  {
   "cell_type": "markdown",
   "metadata": {},
   "source": [
    "## Table of Contents\n",
    "- [Introduction](#Introduction)\n",
    "- [Implementation in arcgis.learn](#Implementation)\n",
    "    - [Imports](#imports)\n",
    "    - [](#prepare)\n",
    "- [Estimate Batchsize using estimate_batch_size](#estimate_batch_size)\n",
    "- [Supported modes in estimate_batch_size](#modes_estimate_batch_size)\n",
    "    - [Train Mode](#train_mode)\n",
    "    - [Eval Mode](#eval_mode)\n",
    "- [Estimate Batch Size while using prepare_data](#estimate_batch_size_prepare_data)\n",
    "- [Conclusion](#conclusion)"
   ]
  },
  {
   "cell_type": "markdown",
   "metadata": {},
   "source": [
    "## Introduction\n",
    "<a id='Introduction'></a> "
   ]
  },
  {
   "cell_type": "markdown",
   "metadata": {},
   "source": [
    "<p>This guide explains the steps for calculating the <b>recommended_batchsize</b> and <b>max_batchsize</b> of multiple network architectures supported by the <code>arcgis.learn</code> API. The <code>estimate_batch_size</code> function is designed to determine the optimal batch size for a deep learning model. Batch size is a critical hyperparameter in training deep learning models, and finding the right value can significantly impact the model's performance. The function takes in <code>arcgis.learn</code> imagery model instance for which batch size should be estimated and returns batch size  based on GPU capacity, size of model and data. By using the <code>estimate_batch_size</code> function, deep learning practitioners can prevent out of memory errors that can occur during training when the batch size is set too high. By finding the optimal batch size for the given model and system resources, the function can help ensure that the model fits within the available memory capacity and prevent errors that can interrupt the training process. This can save time and resources by avoiding the need to manually adjust the batch size or troubleshoot memory-related issues.<br>\n",
    "Currently only arcgis.learn imagery model are supported by the function."
   ]
  },
  {
   "cell_type": "markdown",
   "metadata": {},
   "source": [
    "## Implementation in `arcgis.learn`\n",
    "<a id='Implementation'></a> "
   ]
  },
  {
   "cell_type": "markdown",
   "metadata": {},
   "source": [
    "Let's see how `estimate_batch_size` function works with `arcgis.learn`"
   ]
  },
  {
   "cell_type": "markdown",
   "metadata": {},
   "source": [
    "### Imports\n",
    "<a id='imports'></a>"
   ]
  },
  {
   "cell_type": "code",
   "execution_count": null,
   "metadata": {},
   "outputs": [],
   "source": [
    "from arcgis.learn import prepare_data, SingleShotDetector, estimate_batch_size"
   ]
  },
  {
   "cell_type": "markdown",
   "metadata": {},
   "source": [
    "### Prepare data\n",
    "<a id='prepare'></a>"
   ]
  },
  {
   "cell_type": "markdown",
   "metadata": {},
   "source": [
    "Prepare data for `SingleShotDetector` class using `prepare_data()` in `arcgis.learn`"
   ]
  },
  {
   "cell_type": "code",
   "execution_count": null,
   "metadata": {},
   "outputs": [],
   "source": [
    "data = prepare_data(\"path_to_data_folder\")"
   ]
  },
  {
   "cell_type": "markdown",
   "metadata": {},
   "source": [
    "## Estimate Batch Size using estimate_batch_size\n",
    "<a id='estimate_batch_size'></a>"
   ]
  },
  {
   "cell_type": "markdown",
   "metadata": {},
   "source": [
    "`estimate_batch_size` class accepts the following paramters:\n",
    "\n",
    "- `model` (Required Parameter): Required `arcgis.learn` imagery model. Model instance for which batch size should be estimated. Not supported for text, tabular, timeseries or tracking models such as FullyConnectedNetwork, MLModel, TimeSeriesModel, SiamMask, PSETAE and EfficientDet models.\n",
    "\n",
    "\n",
    "- `mode` (Optional Parameter): Optional string. Default train. The mode for which batch size is estimated. Supported `train` and `eval` mode for calculating batch size in training mode and evaluation mode respectively. Note: max_batchsize is capped at 1024 for train and eval mode and recommended_batchsize is capped at 64 for train mode.\n",
    "\n",
    "    - train : To to be used when the user wants to estimate batch size for training a model.\n",
    "    - eval : To be used when the user also wants to estimate batch size for inferencing on a trained model."
   ]
  },
  {
   "cell_type": "markdown",
   "metadata": {},
   "source": [
    "### Supported modes in estimate_batch_size\n",
    "<a id='modes_estimate_batch_size'></a>"
   ]
  },
  {
   "cell_type": "markdown",
   "metadata": {},
   "source": [
    "#### Train Mode\n",
    "<a id='train_mode'></a>"
   ]
  },
  {
   "cell_type": "code",
   "execution_count": null,
   "metadata": {},
   "outputs": [],
   "source": [
    "model = SingleShotDetector(data)\n",
    "estimated_batchsize = estimate_batch_size(model,\"train\")\n",
    "recommended_batchsize,max_batchsize = estimated_batchsize"
   ]
  },
  {
   "cell_type": "markdown",
   "metadata": {},
   "source": [
    "The output of this function will be `recommended_batchsize` and `max_batchsize` for training a `SingleShotDetector` model."
   ]
  },
  {
   "cell_type": "markdown",
   "metadata": {},
   "source": [
    "#### Eval Mode\n",
    "<a id='eval_mode'></a>"
   ]
  },
  {
   "cell_type": "code",
   "execution_count": null,
   "metadata": {},
   "outputs": [],
   "source": [
    "model = SingleShotDetector(data)\n",
    "estimated_batchsize = estimate_batch_size(model,\"eval\")\n",
    "recommended_batchsize,max_batchsize = estimated_batchsize"
   ]
  },
  {
   "cell_type": "markdown",
   "metadata": {},
   "source": [
    "The output of this function will be `recommended_batchsize` and `max_batchsize` for inferencing on a trained `SingleShotDetector` model."
   ]
  },
  {
   "cell_type": "markdown",
   "metadata": {},
   "source": [
    "## Estimate Batch Size while using prepare_data\n",
    "<a id='estimate_batch_size_prepare_data'></a>"
   ]
  },
  {
   "cell_type": "markdown",
   "metadata": {},
   "source": [
    "It is possible to use `estimate_batch_size` function to determine the `recommended_batchsize` during the data preparation stage  while using `prepare_data` function. The prepare_data function typically prepares the data for model training by performing tasks such as data cleaning, preprocessing, and splitting the data into training, validation, and test sets. To use `estimate_batch_size` from `prepare_data` function, while creating the data object using `prepare_data` we need to pass `batch_size` as `None`. This will call the `estimate_batch_size` function within the `prepare_data` function, passing in the relevant data and model parameters as arguments and setting the `recommended_batchsize` as the `batch_size` for the data object. This would help ensure that the model is trained using the best possible batch size, improving its performance and reducing the likelihood of memory errors."
   ]
  },
  {
   "cell_type": "code",
   "execution_count": null,
   "metadata": {},
   "outputs": [],
   "source": [
    "data = prepare_data(\"path_to_data_folder\",batch_size=None)\n",
    "model = SingleShotDetector(data)"
   ]
  },
  {
   "cell_type": "markdown",
   "metadata": {},
   "source": [
    "## Conclusion \n",
    "<a id='conclusion'></a>"
   ]
  },
  {
   "cell_type": "markdown",
   "metadata": {},
   "source": [
    "This guide has explained how the `estimate_batch_size` function can be used to determine the optimal batch size for `arcgis.learn` deep learning models. By using this function, you can save time and resources by avoiding the need for manual batch size tuning or troubleshooting memory errors. With this powerful tool in your toolkit, you can train your deep learning models more efficiently and achieve better results in less time.\n"
   ]
  },
  {
   "cell_type": "markdown",
   "metadata": {},
   "source": [
    "For more information about the API, refer to the <a href=\"https://developers.arcgis.com/python/api-reference/arcgis.learn.toc.html#autodl\">API reference</a>"
   ]
  }
 ],
 "metadata": {
  "kernelspec": {
   "display_name": "Python 3",
   "language": "python",
   "name": "python3"
  },
  "language_info": {
   "codemirror_mode": {
    "name": "ipython",
    "version": 3
   },
   "file_extension": ".py",
   "mimetype": "text/x-python",
   "name": "python",
   "nbconvert_exporter": "python",
   "pygments_lexer": "ipython3",
   "version": "3.9.11"
  }
 },
 "nbformat": 4,
 "nbformat_minor": 4
}
