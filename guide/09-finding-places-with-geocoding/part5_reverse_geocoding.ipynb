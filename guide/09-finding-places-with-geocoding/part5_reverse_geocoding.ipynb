{
 "cells": [
  {
   "cell_type": "markdown",
   "metadata": {},
   "source": [
    "# Part 5 - Reverse Geocoding"
   ]
  },
  {
   "cell_type": "markdown",
   "metadata": {
    "toc": true
   },
   "source": [
    "<h1>Table of Contents<span class=\"tocSkip\"></span></h1>\n",
    "<div class=\"toc\"><ul class=\"toc-item\"><li><span><a href=\"#Introduction\" data-toc-modified-id=\"Introduction-1\">Introduction</a></span></li><li><span><a href=\"#The-required-location-parameter\" data-toc-modified-id=\"The-required-location-parameter-2\">The required <code>location</code> parameter</a></span></li><li><span><a href=\"#The-simple-reverse-geocode-examples\" data-toc-modified-id=\"The-simple-reverse-geocode-examples-3\">The simple reverse geocode examples</a></span><ul class=\"toc-item\"><li><span><a href=\"#Example-1---location-input-as-list\" data-toc-modified-id=\"Example-1---location-input-as-list-3.1\">Example 1 - location input as list</a></span></li><li><span><a href=\"#Example-2---location-input-as-dict\" data-toc-modified-id=\"Example-2---location-input-as-dict-3.2\">Example 2 - location input as dict</a></span></li><li><span><a href=\"#Example-3---location-input-as-dict-with-sr\" data-toc-modified-id=\"Example-3---location-input-as-dict-with-sr-3.3\">Example 3 - location input as dict with sr</a></span></li><li><span><a href=\"#Example-4---location-input-as-Point-Geometry-object\" data-toc-modified-id=\"Example-4---location-input-as-Point-Geometry-object-3.4\">Example 4 - location input as Point Geometry object</a></span></li></ul></li><li><span><a href=\"#Reverse-geocode-a-location-clicked-on-the-map\" data-toc-modified-id=\"Reverse-geocode-a-location-clicked-on-the-map-4\">Reverse geocode a location clicked on the map</a></span></li><li><span><a href=\"#Get-result-as-intersection-instead-of-address-(return_intersection-param)\" data-toc-modified-id=\"Get-result-as-intersection-instead-of-address-(return_intersection-param)-5\">Get result as intersection instead of address (<code>return_intersection</code> param)</a></span></li><li><span><a href=\"#Get-results-in-desired-SR\" data-toc-modified-id=\"Get-results-in-desired-SR-6\">Get results in desired SR</a></span></li><li><span><a href=\"#Get-results-in-desired-language-(lang_code-param)\" data-toc-modified-id=\"Get-results-in-desired-language-(lang_code-param)-7\">Get results in desired language (<code>lang_code</code> param)</a></span></li><li><span><a href=\"#Customize-the-address-type-of-searches-(feature_types-param)\" data-toc-modified-id=\"Customize-the-address-type-of-searches-(feature_types-param)-8\">Customize the address type of searches (<code>feature_types</code> param)</a></span></li><li><span><a href=\"#Limit-searches-by-distance-param\" data-toc-modified-id=\"Limit-searches-by-distance-param-9\">Limit searches by <code>distance</code> param</a></span></li><li><span><a href=\"#Conclusions\" data-toc-modified-id=\"Conclusions-10\">Conclusions</a></span></li></ul></div>"
   ]
  },
  {
   "cell_type": "markdown",
   "metadata": {},
   "source": [
    "## Introduction\n",
    "\n",
    "The `reverse_geocode()` function in the `arcgis.geocoding` module determines the address at a particular `x/y` location. You can pass the coordinates of a point location to the `geocoder` and get returned the address that is closest (or nearest) to the location.\n",
    "\n",
    "<img src=\"https://developers.arcgis.com/rest/geocode/api-reference/GUID-3A7A77E6-2E26-44E2-A7BA-362DA4EFC0E4-web.png\" />"
   ]
  },
  {
   "cell_type": "code",
   "execution_count": 1,
   "metadata": {},
   "outputs": [
    {
     "name": "stdout",
     "output_type": "stream",
     "text": [
      "Help on function reverse_geocode in module arcgis.geocoding._functions:\n",
      "\n",
      "reverse_geocode(location, distance=None, out_sr=None, lang_code=None, return_intersection=False, for_storage=False, geocoder=None, feature_types=None, roof_top='street')\n",
      "    The reverse_geocode operation determines the address at a particular\n",
      "    x/y location. You pass the coordinates of a point location to the\n",
      "    geocoding service, and the service returns the address that is\n",
      "    closest to the location.\n",
      "    \n",
      "    =================== ====================================================\n",
      "    **Argument**        **Description**\n",
      "    ------------------- ----------------------------------------------------\n",
      "    location            required list/Point Geometry\n",
      "    ------------------- ----------------------------------------------------\n",
      "    distance            optional float, radial distance in meteres to\n",
      "                        search for an address.  The default is 100 meters.\n",
      "    ------------------- ----------------------------------------------------\n",
      "    out_sr              optional integer, spatial reference of the x/y\n",
      "                        coordinate returned.\n",
      "    ------------------- ----------------------------------------------------\n",
      "    lang_code           optional string. Sets the language in which geocode\n",
      "                        results are returned. This is useful for ensuring\n",
      "                        that results are returned in the expected language.\n",
      "                        If the lang_code parameter isn't included in a\n",
      "                        request, or if it is included but there are no\n",
      "                        matching features with the input language code, the\n",
      "                        resultant match is returned in the language code of\n",
      "                        the primary matched components from the input search\n",
      "                        string.\n",
      "    ------------------- ----------------------------------------------------\n",
      "    return_intersection optional Boolean, which specifies whether the\n",
      "                        service should return the nearest street\n",
      "                        intersection or the nearest address to the input\n",
      "                        location\n",
      "    ------------------- ----------------------------------------------------\n",
      "    for_storage         optional boolean, specifies whether the results of\n",
      "                        the operation will be persisted\n",
      "    ------------------- ----------------------------------------------------\n",
      "    geocoder            optional geocoder, the geocoder to be used. If not\n",
      "                        specified, the active GIS's first geocoder is used.\n",
      "    ------------------- ----------------------------------------------------\n",
      "    feature_types       Optional String. Limits the possible match types\n",
      "                        performed by the `reverse_geocode` method. If a\n",
      "                        single value is included, the search tolerance for\n",
      "                        the input feature type is 500 meters. If multiple\n",
      "                        values (separated by a comma, with no spaces) are\n",
      "                        included, the default search distances specified in\n",
      "                        the feature type hierarchy table are applied.\n",
      "    \n",
      "                        Values: StreetInt, DistanceMarker, StreetAddress,\n",
      "                                StreetName, POI, PointAddress, Postal, and\n",
      "                                Locality\n",
      "    ------------------- ----------------------------------------------------\n",
      "    location_type       Optional string. Specifies whether the rooftop point\n",
      "                        or street entrance is used as the output geometry of\n",
      "                        point address matches. By default, street is used,\n",
      "                        which is useful in routing scenarios, as the rooftop\n",
      "                        location of some addresses may be offset from a\n",
      "                        street by a large distance. However, for map display\n",
      "                        purposes, you may want to use rooftop instead,\n",
      "                        especially when large buildings or landmarks are\n",
      "                        geocoded. The location_type parameter only affects\n",
      "                        the location object in the JSON response and does\n",
      "                        not change the x,y or DisplayX/DisplayY attribute\n",
      "                        values.\n",
      "    \n",
      "                        Values: street, rooftop\n",
      "    =================== ====================================================\n",
      "    \n",
      "    :returns:\n",
      "       dictionary\n",
      "\n"
     ]
    }
   ],
   "source": [
    "from arcgis.geocoding import reverse_geocode\n",
    "\n",
    "help(reverse_geocode)"
   ]
  },
  {
   "cell_type": "markdown",
   "metadata": {},
   "source": [
    "## The required `location` parameter\n",
    "\n",
    "As shown in the help output above, the only required input parameter of `reverse_geocode()` is the `location` parameter, which is the point from which to search for the closest address. The point can be represented as a simple `list` of coordinates ([x, y] or [longitude, latitude]), a `dict` object (with or without spatial reference) or JSON point object, or a Point `Geometry` object.\n",
    "\n",
    "The spatial reference of the list of coordinates is always `WGS84` (in decimal degress), the same coordinate system as the World Geocoding Service.\n",
    "\n",
    "Use JSON formatting to specify any other coordinate system for the input location. Specifically, set the spatial reference using its `well-known ID (WKID)` value. For a list of valid WKID values, see <a href=\"http://resources.arcgis.com/EN/HELP/REST/APIREF/GCS.HTML\">Projected Coordinate Systems and Geographic Coordinate Systems</a>.\n",
    "\n",
    "Example using simple syntax and the default `WGS84` spatial reference:\n",
    "```\n",
    "location=[103.8767227,1.3330736]\n",
    "```\n",
    "Example using JSON and the default `WGS84` spatial reference:\n",
    "```\n",
    "location={\"x\": 103.876722, \"y\": 1.3330736}\n",
    "```\n",
    "Example using JSON and specifying a spatial reference (`WGS84 Web Mercator Auxiliary Sphere`): \n",
    "```\n",
    "location= { \"x\": 11563503, \"y\": 148410, \"spatialReference\": { \"wkid\": 3857 } }\n",
    "```"
   ]
  },
  {
   "cell_type": "markdown",
   "metadata": {},
   "source": [
    "## The simple reverse geocode examples\n",
    "\n",
    "Next, we will look at different kinds of input for the `location` parameter - (1) list, (2) dict, (3) dict with sr, and (4) Point object. Note that, when composing a list containing x/y coordinates, the order is X,Y and not Y,X as in lat, long."
   ]
  },
  {
   "cell_type": "code",
   "execution_count": 2,
   "metadata": {},
   "outputs": [],
   "source": [
    "from arcgis.gis import GIS\n",
    "from arcgis.geocoding import reverse_geocode\n",
    "\n",
    "gis = GIS(profile=\"your_online_profile\")"
   ]
  },
  {
   "cell_type": "markdown",
   "metadata": {},
   "source": [
    "### Example 1 - location input as list"
   ]
  },
  {
   "cell_type": "code",
   "execution_count": null,
   "metadata": {},
   "outputs": [],
   "source": [
    "results = reverse_geocode([2.2945, 48.8583])"
   ]
  },
  {
   "cell_type": "code",
   "execution_count": 6,
   "metadata": {},
   "outputs": [
    {
     "data": {
      "text/plain": [
       "dict"
      ]
     },
     "execution_count": 6,
     "metadata": {},
     "output_type": "execute_result"
    }
   ],
   "source": [
    "type(results)"
   ]
  },
  {
   "cell_type": "code",
   "execution_count": 5,
   "metadata": {},
   "outputs": [
    {
     "data": {
      "text/plain": [
       "{'address': {'Match_addr': 'Salle Gustave Eiffel',\n",
       "  'LongLabel': 'Salle Gustave Eiffel, Avenue Gustave Eiffel, 75007, 7e Arrondissement, Paris, Île-de-France, FRA',\n",
       "  'ShortLabel': 'Salle Gustave Eiffel',\n",
       "  'Addr_type': 'POI',\n",
       "  'Type': 'Convention Center',\n",
       "  'PlaceName': 'Salle Gustave Eiffel',\n",
       "  'AddNum': '',\n",
       "  'Address': 'Avenue Gustave Eiffel',\n",
       "  'Block': '',\n",
       "  'Sector': '',\n",
       "  'Neighborhood': 'Gros Caillou',\n",
       "  'District': '7e Arrondissement',\n",
       "  'City': 'Paris',\n",
       "  'MetroArea': '',\n",
       "  'Subregion': 'Paris',\n",
       "  'Region': 'Île-de-France',\n",
       "  'Territory': '',\n",
       "  'Postal': '75007',\n",
       "  'PostalExt': '',\n",
       "  'CountryCode': 'FRA'},\n",
       " 'location': {'x': 2.2951599583073303,\n",
       "  'y': 48.85784000836726,\n",
       "  'spatialReference': {'wkid': 4326, 'latestWkid': 4326}}}"
      ]
     },
     "execution_count": 5,
     "metadata": {},
     "output_type": "execute_result"
    }
   ],
   "source": [
    "results"
   ]
  },
  {
   "cell_type": "markdown",
   "metadata": {},
   "source": [
    "### Example 2 - location input as dict"
   ]
  },
  {
   "cell_type": "code",
   "execution_count": 11,
   "metadata": {},
   "outputs": [
    {
     "data": {
      "text/plain": [
       "{'address': {'Match_addr': 'Sennett Estate, 40 Lichi Avenue, 348814, Singapore',\n",
       "  'LongLabel': 'Sennett Estate, 40 Lichi Avenue, 348814, Singapore, SGP',\n",
       "  'ShortLabel': 'Sennett Estate, 40 Lichi Avenue',\n",
       "  'Addr_type': 'PointAddress',\n",
       "  'Type': '',\n",
       "  'PlaceName': '',\n",
       "  'AddNum': '40',\n",
       "  'Address': 'Sennett Estate, 40 Lichi Avenue',\n",
       "  'Block': '',\n",
       "  'Sector': '',\n",
       "  'Neighborhood': '',\n",
       "  'District': '',\n",
       "  'City': 'Singapore',\n",
       "  'MetroArea': '',\n",
       "  'Subregion': '',\n",
       "  'Region': 'Singapore',\n",
       "  'Territory': '',\n",
       "  'Postal': '348814',\n",
       "  'PostalExt': '',\n",
       "  'CountryCode': 'SGP'},\n",
       " 'location': {'x': 103.87671885261159,\n",
       "  'y': 1.333058719212687,\n",
       "  'spatialReference': {'wkid': 4326, 'latestWkid': 4326}}}"
      ]
     },
     "execution_count": 11,
     "metadata": {},
     "output_type": "execute_result"
    }
   ],
   "source": [
    "results = reverse_geocode(location={\"x\": 103.876722, \"y\": 1.3330736})\n",
    "results"
   ]
  },
  {
   "cell_type": "markdown",
   "metadata": {},
   "source": [
    "### Example 3 - location input as dict with sr"
   ]
  },
  {
   "cell_type": "code",
   "execution_count": 12,
   "metadata": {},
   "outputs": [
    {
     "data": {
      "text/plain": [
       "{'address': {'Match_addr': 'Sennett Estate, 40 Lichi Avenue, 348814, Singapore',\n",
       "  'LongLabel': 'Sennett Estate, 40 Lichi Avenue, 348814, Singapore, SGP',\n",
       "  'ShortLabel': 'Sennett Estate, 40 Lichi Avenue',\n",
       "  'Addr_type': 'PointAddress',\n",
       "  'Type': '',\n",
       "  'PlaceName': '',\n",
       "  'AddNum': '40',\n",
       "  'Address': 'Sennett Estate, 40 Lichi Avenue',\n",
       "  'Block': '',\n",
       "  'Sector': '',\n",
       "  'Neighborhood': '',\n",
       "  'District': '',\n",
       "  'City': 'Singapore',\n",
       "  'MetroArea': '',\n",
       "  'Subregion': '',\n",
       "  'Region': 'Singapore',\n",
       "  'Territory': '',\n",
       "  'Postal': '348814',\n",
       "  'PostalExt': '',\n",
       "  'CountryCode': 'SGP'},\n",
       " 'location': {'x': 103.87671885261159,\n",
       "  'y': 1.333058719212687,\n",
       "  'spatialReference': {'wkid': 4326, 'latestWkid': 4326}}}"
      ]
     },
     "execution_count": 12,
     "metadata": {},
     "output_type": "execute_result"
    }
   ],
   "source": [
    "results = reverse_geocode(location= { \"x\": 11563503, \"y\": 148410, \"spatialReference\": { \"wkid\": 3857 } })\n",
    "results"
   ]
  },
  {
   "cell_type": "markdown",
   "metadata": {},
   "source": [
    "### Example 4 - location input as Point Geometry object"
   ]
  },
  {
   "cell_type": "code",
   "execution_count": 7,
   "metadata": {},
   "outputs": [],
   "source": [
    "from arcgis.geometry import Geometry\n",
    "\n",
    "pt = Geometry({\n",
    "    \"x\": 11563503,\n",
    "    \"y\": 148410,\n",
    "    \"spatialReference\": {\n",
    "        \"wkid\": 3857\n",
    "    }\n",
    "})"
   ]
  },
  {
   "cell_type": "code",
   "execution_count": 8,
   "metadata": {},
   "outputs": [
    {
     "data": {
      "text/plain": [
       "dict"
      ]
     },
     "execution_count": 8,
     "metadata": {},
     "output_type": "execute_result"
    }
   ],
   "source": [
    "results = reverse_geocode(pt)\n",
    "type(results)"
   ]
  },
  {
   "cell_type": "code",
   "execution_count": 9,
   "metadata": {},
   "outputs": [
    {
     "data": {
      "text/plain": [
       "{'address': {'Match_addr': 'Sennett Estate, 40 Lichi Avenue, 348814, Singapore',\n",
       "  'LongLabel': 'Sennett Estate, 40 Lichi Avenue, 348814, Singapore, SGP',\n",
       "  'ShortLabel': 'Sennett Estate, 40 Lichi Avenue',\n",
       "  'Addr_type': 'PointAddress',\n",
       "  'Type': '',\n",
       "  'PlaceName': '',\n",
       "  'AddNum': '40',\n",
       "  'Address': 'Sennett Estate, 40 Lichi Avenue',\n",
       "  'Block': '',\n",
       "  'Sector': '',\n",
       "  'Neighborhood': '',\n",
       "  'District': '',\n",
       "  'City': 'Singapore',\n",
       "  'MetroArea': '',\n",
       "  'Subregion': '',\n",
       "  'Region': 'Singapore',\n",
       "  'Territory': '',\n",
       "  'Postal': '348814',\n",
       "  'PostalExt': '',\n",
       "  'CountryCode': 'SGP'},\n",
       " 'location': {'x': 103.87671885261159,\n",
       "  'y': 1.333058719212687,\n",
       "  'spatialReference': {'wkid': 4326, 'latestWkid': 4326}}}"
      ]
     },
     "execution_count": 9,
     "metadata": {},
     "output_type": "execute_result"
    }
   ],
   "source": [
    "results"
   ]
  },
  {
   "cell_type": "markdown",
   "metadata": {},
   "source": [
    "## Get result as intersection instead of address (`return_intersection` param)\n",
    "\n",
    "Facts about the `return_intersection` parameter:\n",
    "   - A Boolean which specifies whether the service should return the nearest street intersection or the nearest address to the input location. \n",
    "   - If True, then the closest intersection to the input location is returned; \n",
    "   - if False, then the closest address to the input location is returned. \n",
    "   - The default value is False."
   ]
  },
  {
   "cell_type": "code",
   "execution_count": 30,
   "metadata": {},
   "outputs": [
    {
     "data": {
      "text/html": [
       "<img src=\"data:image/jpeg;base64,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\"/>"
      ],
      "text/plain": [
       "<IPython.core.display.Image object>"
      ]
     },
     "execution_count": 30,
     "metadata": {},
     "output_type": "execute_result"
    }
   ],
   "source": [
    "# Let's take a look at the intersection of W. Vine St & S 4th St in the city of Redlands, CA"
   ]
  },
  {
   "cell_type": "code",
   "execution_count": 25,
   "metadata": {},
   "outputs": [
    {
     "name": "stdout",
     "output_type": "stream",
     "text": [
      "{'x': -117.18361987601203, 'y': 34.0546600260095}\n"
     ]
    }
   ],
   "source": [
    "from arcgis.geocoding import geocode\n",
    "intersect_loc = geocode(\"S 4th St & W Vine, Redlands, CA\")[0]['location']\n",
    "print(intersect_loc)"
   ]
  },
  {
   "cell_type": "markdown",
   "metadata": {},
   "source": [
    "When the `return_intersection` parameter is not specified, or set to False, then the closest address to the input location is returned. We can see below that the returned address is a `StreetAddress`, instead of intersection, and that the matched addresses are of `Street number 130 to 134 on the S 4th St`."
   ]
  },
  {
   "cell_type": "code",
   "execution_count": 26,
   "metadata": {},
   "outputs": [
    {
     "data": {
      "text/plain": [
       "{'address': {'Match_addr': '130-134 S 4th St, Redlands, California, 92373',\n",
       "  'LongLabel': '130-134 S 4th St, Redlands, CA, 92373, USA',\n",
       "  'ShortLabel': '130-134 S 4th St',\n",
       "  'Addr_type': 'StreetAddress',\n",
       "  'Type': '',\n",
       "  'PlaceName': '',\n",
       "  'AddNum': '130',\n",
       "  'Address': '130 S 4th St',\n",
       "  'Block': '',\n",
       "  'Sector': '',\n",
       "  'Neighborhood': 'South Redlands',\n",
       "  'District': '',\n",
       "  'City': 'Redlands',\n",
       "  'MetroArea': 'Inland Empire',\n",
       "  'Subregion': 'San Bernardino County',\n",
       "  'Region': 'California',\n",
       "  'Territory': '',\n",
       "  'Postal': '92373',\n",
       "  'PostalExt': '',\n",
       "  'CountryCode': 'USA'},\n",
       " 'location': {'x': -117.18367019351942,\n",
       "  'y': 34.054620721017486,\n",
       "  'spatialReference': {'wkid': 4326, 'latestWkid': 4326}}}"
      ]
     },
     "execution_count": 26,
     "metadata": {},
     "output_type": "execute_result"
    }
   ],
   "source": [
    "reverse_geocode(intersect_loc)"
   ]
  },
  {
   "cell_type": "markdown",
   "metadata": {},
   "source": [
    "On the other hand, when set to `True`, then the closest intersection to the input location is returned. We can see this in the `Match_addr` and `Addr_Type` output fields shown below:"
   ]
  },
  {
   "cell_type": "code",
   "execution_count": 27,
   "metadata": {},
   "outputs": [
    {
     "data": {
      "text/plain": [
       "{'address': {'Match_addr': 'S 4th St & W Vine St, Redlands, California, 92373',\n",
       "  'LongLabel': 'S 4th St & W Vine St, Redlands, CA, 92373, USA',\n",
       "  'ShortLabel': 'S 4th St & W Vine St',\n",
       "  'Addr_type': 'StreetInt',\n",
       "  'Type': '',\n",
       "  'PlaceName': '',\n",
       "  'AddNum': '',\n",
       "  'Address': 'S 4th St & W Vine St',\n",
       "  'Block': '',\n",
       "  'Sector': '',\n",
       "  'Neighborhood': 'South Redlands',\n",
       "  'District': '',\n",
       "  'City': 'Redlands',\n",
       "  'MetroArea': 'Inland Empire',\n",
       "  'Subregion': 'San Bernardino County',\n",
       "  'Region': 'California',\n",
       "  'Territory': '',\n",
       "  'Postal': '92373',\n",
       "  'PostalExt': '',\n",
       "  'CountryCode': 'USA'},\n",
       " 'location': {'x': -117.18361987601203,\n",
       "  'y': 34.05466002600951,\n",
       "  'spatialReference': {'wkid': 4326, 'latestWkid': 4326}}}"
      ]
     },
     "execution_count": 27,
     "metadata": {},
     "output_type": "execute_result"
    }
   ],
   "source": [
    "reverse_geocode(intersect_loc,\n",
    "                return_intersection = True)"
   ]
  },
  {
   "cell_type": "markdown",
   "metadata": {},
   "source": [
    "## Get results in desired SR\n",
    "\n",
    "Facts about the `out_sr` parameter:\n",
    "\n",
    "   - The spatial reference of the x/y coordinates returned by a geocode request. This is useful for applications using a map with a spatial reference different than that of the geocode service.\n",
    "   - The spatial reference can be specified as either a `well-known ID (WKID)` or as `a JSON spatial reference object`. If `out_sr` is not specified, the spatial reference of the output locations is the same as that of the service. The World Geocoding Service spatial reference is `WGS84 (WKID = 4326)`.\n",
    "\n",
    "Example (`102100` is the `WKID` for the Web Mercator projection):\n",
    "```\n",
    "out_sr=102100\n",
    "```\n",
    "\n",
    "The first example below shows a varied version of <a href=\"part5_reverse_geocode.ipynb#Example-4---location-input-as-Point-Geometry-object\">Example 4</a>, when `our_sr` is specified different than WGS84:"
   ]
  },
  {
   "cell_type": "code",
   "execution_count": 31,
   "metadata": {},
   "outputs": [
    {
     "data": {
      "text/plain": [
       "{'address': {'Match_addr': 'Sennett Estate, 40 Lichi Avenue, 348814, Singapore',\n",
       "  'LongLabel': 'Sennett Estate, 40 Lichi Avenue, 348814, Singapore, SGP',\n",
       "  'ShortLabel': 'Sennett Estate, 40 Lichi Avenue',\n",
       "  'Addr_type': 'PointAddress',\n",
       "  'Type': '',\n",
       "  'PlaceName': '',\n",
       "  'AddNum': '40',\n",
       "  'Address': 'Sennett Estate, 40 Lichi Avenue',\n",
       "  'Block': '',\n",
       "  'Sector': '',\n",
       "  'Neighborhood': '',\n",
       "  'District': '',\n",
       "  'City': 'Singapore',\n",
       "  'MetroArea': '',\n",
       "  'Subregion': '',\n",
       "  'Region': 'Singapore',\n",
       "  'Territory': '',\n",
       "  'Postal': '348814',\n",
       "  'PostalExt': '',\n",
       "  'CountryCode': 'SGP'},\n",
       " 'location': {'x': 11563503.447948763,\n",
       "  'y': 148408.80784300127,\n",
       "  'spatialReference': {'wkid': 102100, 'latestWkid': 3857}}}"
      ]
     },
     "execution_count": 31,
     "metadata": {},
     "output_type": "execute_result"
    }
   ],
   "source": [
    "reverse_geocode(location = {  'x': 103.87671885261159,\n",
    "                              'y': 1.333058719212687,\n",
    "                              'spatialReference': {'wkid': 4326, 'latestWkid': 4326}},\n",
    "                out_sr = 3857)"
   ]
  },
  {
   "cell_type": "markdown",
   "metadata": {},
   "source": [
    "## Get results in desired language (`lang_code` param)\n",
    "\n",
    "Facts about the `lang_code` parameter:\n",
    "\n",
    "   - Sets the language in which reverse-geocoded addresses are returned. Addresses in many countries are available in more than one language. In these cases, the `lang_code` parameter can be used to specify which language should be used for addresses returned by the `reverse_geocode()` method. This is useful for ensuring that addresses are returned in the expected language by reverse geocoding functionality in an application. For example, a web application could be designed to get the browser language and then pass it as the `lang_code` parameter value in a `reverse_geocode` request.\n",
    "   - See the <a href=\"https://developers.arcgis.com/rest/geocode/api-reference/geocode-coverage.htm#GUID-D61FB53E-32DF-4E0E-A1CC-473BA38A23C0\">table</a> of supported countries for valid language code values in each country. \n",
    "   \n",
    "Now let's look at an example of `reverse_geocode()` using the `land_code` parameter applied to the starting point of `Great Wall` in China, and the `Taj Marble` in India:"
   ]
  },
  {
   "cell_type": "code",
   "execution_count": 44,
   "metadata": {},
   "outputs": [
    {
     "data": {
      "text/plain": [
       "{'address': {'Match_addr': '河北省秦皇岛市山海关区',\n",
       "  'LongLabel': '河北省秦皇岛市山海关区',\n",
       "  'ShortLabel': '河北省秦皇岛市山海关区',\n",
       "  'CountryCode': 'CHN',\n",
       "  'City': '秦皇岛市',\n",
       "  'Neighborhood': '山海关区',\n",
       "  'Region': '河北省',\n",
       "  'Address': '河北省秦皇岛市山海关区',\n",
       "  'Addr_type': 'Locality',\n",
       "  'Type': '',\n",
       "  'PlaceName': '',\n",
       "  'AddNum': '',\n",
       "  'Block': '',\n",
       "  'Sector': '',\n",
       "  'District': '',\n",
       "  'MetroArea': '',\n",
       "  'Subregion': '',\n",
       "  'Territory': '',\n",
       "  'Postal': '',\n",
       "  'PostalExt': ''},\n",
       " 'location': {'x': 119.744545,\n",
       "  'y': 40.018464,\n",
       "  'spatialReference': {'wkid': 4326, 'latestWkid': 4326}}}"
      ]
     },
     "execution_count": 44,
     "metadata": {},
     "output_type": "execute_result"
    }
   ],
   "source": [
    "# returning Simplified Chinese\n",
    "reverse_geocode(location = {'x': 119.79533000000004, 'y': 39.96675000000005}, \n",
    "                lang_code = \"ZH\")"
   ]
  },
  {
   "cell_type": "code",
   "execution_count": 46,
   "metadata": {},
   "outputs": [
    {
     "data": {
      "text/plain": [
       "{'address': {'Match_addr': 'एनएच-1ए, नातिपुरा, श्रीनगर, जम्मू और कश्मीर, 190015',\n",
       "  'LongLabel': 'एनएच-1ए, नातिपुरा, श्रीनगर, जम्मू और कश्मीर, 190015, IND',\n",
       "  'ShortLabel': 'एनएच-1ए',\n",
       "  'Addr_type': 'StreetName',\n",
       "  'Type': '',\n",
       "  'PlaceName': '',\n",
       "  'AddNum': '',\n",
       "  'Address': 'एनएच-1ए',\n",
       "  'Block': '',\n",
       "  'Sector': '',\n",
       "  'Neighborhood': '',\n",
       "  'District': 'नातिपुरा',\n",
       "  'City': 'श्रीनगर',\n",
       "  'MetroArea': '',\n",
       "  'Subregion': 'श्रीनगर',\n",
       "  'Region': 'जम्मू और कश्मीर',\n",
       "  'Territory': '',\n",
       "  'Postal': '190015',\n",
       "  'PostalExt': '',\n",
       "  'CountryCode': 'IND'},\n",
       " 'location': {'x': 74.81476450480069,\n",
       "  'y': 34.024511515995734,\n",
       "  'spatialReference': {'wkid': 4326, 'latestWkid': 4326}}}"
      ]
     },
     "execution_count": 46,
     "metadata": {},
     "output_type": "execute_result"
    }
   ],
   "source": [
    "# returns in Hindi\n",
    "reverse_geocode({'x': 74.81476000000004, 'y': 34.02453000000003},\n",
    "                lang_code=\"HIN\")"
   ]
  },
  {
   "cell_type": "markdown",
   "metadata": {},
   "source": [
    "## Customize the address type of searches (`feature_types` param)\n",
    "\n",
    "`feature_types` parameter:\n",
    " - Limits the possible match types performed by the `reverse_geocode` method. \n",
    " - If a single value is included, the search tolerance for the input feature type is `500` meters. \n",
    " - If multiple values (separated by a comma, with no spaces) are included, the default search distances specified in the feature type <a href=\"https://developers.arcgis.com/rest/geocode/api-reference/geocoding-reverse-geocode.htm#GUID-FC97069F-310B-44A8-9DD1-8EC188170831\">hierarchy table</a> are applied.\n",
    " - The list below includes the valid values for the `feature_types` parameter:\n",
    "   - <b>StreetInt, DistanceMarker, StreetAddress, StreetName, POI, PointAddress, Postal, and Locality</b>\n",
    "   \n",
    "Let's see an example of reverse geocoding for `the Yosemite National Park` (at `{'x':-119.59032605870676 , 'y':37.746595069113496 }`) and how changing the `feature_types` from `POI` to `StreetAddress`, or other types in getting navigable address for GPS, will be different. Note that there will be different output of the X,Y coordinates in the returned dict:"
   ]
  },
  {
   "cell_type": "code",
   "execution_count": 17,
   "metadata": {},
   "outputs": [
    {
     "data": {
      "text/html": [
       "<img src=data:image/png;base64,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></img>"
      ],
      "text/plain": [
       "<IPython.core.display.HTML object>"
      ]
     },
     "metadata": {},
     "output_type": "display_data"
    }
   ],
   "source": [
    "map3 = gis.map(\"Yosemite National Park\")\n",
    "map3"
   ]
  },
  {
   "cell_type": "code",
   "execution_count": null,
   "metadata": {},
   "outputs": [],
   "source": [
    "map3.center = [37.840548, -119.516588]"
   ]
  },
  {
   "cell_type": "code",
   "execution_count": null,
   "metadata": {},
   "outputs": [],
   "source": [
    "map3.zoom = 19"
   ]
  },
  {
   "cell_type": "code",
   "execution_count": 4,
   "metadata": {},
   "outputs": [],
   "source": [
    "park_xy = {'x':-119.59032605870676 , 'y':37.746595069113496 }\n",
    "map3.content.draw(park_xy)"
   ]
  },
  {
   "cell_type": "code",
   "execution_count": 6,
   "metadata": {},
   "outputs": [
    {
     "data": {
      "text/plain": [
       "{'address': {'Match_addr': 'Northside Dr, Yosemite National Park, California, 95389',\n",
       "  'LongLabel': 'Northside Dr, Yosemite National Park, CA, 95389, USA',\n",
       "  'ShortLabel': 'Northside Dr',\n",
       "  'Addr_type': 'StreetName',\n",
       "  'Type': '',\n",
       "  'PlaceName': '',\n",
       "  'AddNum': '',\n",
       "  'Address': 'Northside Dr',\n",
       "  'Block': '',\n",
       "  'Sector': '',\n",
       "  'Neighborhood': '',\n",
       "  'District': '',\n",
       "  'City': 'Yosemite National Park',\n",
       "  'MetroArea': '',\n",
       "  'Subregion': 'Mariposa County',\n",
       "  'Region': 'California',\n",
       "  'Territory': '',\n",
       "  'Postal': '95389',\n",
       "  'PostalExt': '',\n",
       "  'CountryCode': 'USA'},\n",
       " 'location': {'x': -119.59032552840779,\n",
       "  'y': 37.74658950402821,\n",
       "  'spatialReference': {'wkid': 4326, 'latestWkid': 4326},\n",
       "  'type': 'point'}}"
      ]
     },
     "metadata": {},
     "output_type": "display_data"
    }
   ],
   "source": [
    "from arcgis.map.symbols import PictureMarkerSymbolEsriPMS\n",
    "\n",
    "# without specifying the `feature_types`\n",
    "park_a = reverse_geocode(park_xy)\n",
    "map3.content.draw(park_a[\"location\"], \n",
    "          symbol = PictureMarkerSymbolEsriPMS(**{\"angle\":0,\"xoffset\":0,\"yoffset\":8.15625,\"type\":\"esriPMS\",\n",
    "                    \"url\":\"http://static.arcgis.com/images/Symbols/AtoZ/blueA.png\",\n",
    "                    \"contentType\":\"image/png\",\"width\":15.75,\"height\":21.75}))\n",
    "display(park_a)"
   ]
  },
  {
   "cell_type": "code",
   "execution_count": 7,
   "metadata": {},
   "outputs": [
    {
     "data": {
      "text/plain": [
       "{'address': {'Match_addr': 'Lower Yosemite Fall',\n",
       "  'LongLabel': 'Lower Yosemite Fall, Northside Dr, Yosemite National Park, CA, 95389, USA',\n",
       "  'ShortLabel': 'Lower Yosemite Fall',\n",
       "  'Addr_type': 'POI',\n",
       "  'Type': 'Tourist Attraction',\n",
       "  'PlaceName': 'Lower Yosemite Fall',\n",
       "  'AddNum': '',\n",
       "  'Address': 'Northside Dr',\n",
       "  'Block': '',\n",
       "  'Sector': '',\n",
       "  'Neighborhood': '',\n",
       "  'District': '',\n",
       "  'City': 'Yosemite National Park',\n",
       "  'MetroArea': '',\n",
       "  'Subregion': 'Mariposa County',\n",
       "  'Region': 'California',\n",
       "  'Territory': '',\n",
       "  'Postal': '95389',\n",
       "  'PostalExt': '',\n",
       "  'CountryCode': 'USA'},\n",
       " 'location': {'x': -119.59128999999996,\n",
       "  'y': 37.746380000000045,\n",
       "  'spatialReference': {'wkid': 4326, 'latestWkid': 4326},\n",
       "  'type': 'point'}}"
      ]
     },
     "metadata": {},
     "output_type": "display_data"
    }
   ],
   "source": [
    "# search tolerance = 25 meters\n",
    "park_b = reverse_geocode(park_xy, feature_types = \"POI\")\n",
    "map3.content.draw(park_b[\"location\"], \n",
    "          symbol = PictureMarkerSymbolEsriPMS(**{\"angle\":0,\"xoffset\":0,\"yoffset\":8.15625,\"type\":\"esriPMS\",\n",
    "                    \"url\":\"http://static.arcgis.com/images/Symbols/AtoZ/blueB.png\",\n",
    "                    \"contentType\":\"image/png\",\"width\":15.75,\"height\":21.75}))\n",
    "display(park_b)"
   ]
  },
  {
   "cell_type": "code",
   "execution_count": 8,
   "metadata": {},
   "outputs": [
    {
     "data": {
      "text/plain": [
       "{'address': {'Match_addr': 'Northside Dr & Village Dr, Yosemite National Park, California, 95389',\n",
       "  'LongLabel': 'Northside Dr & Village Dr, Yosemite National Park, CA, 95389, USA',\n",
       "  'ShortLabel': 'Northside Dr & Village Dr',\n",
       "  'Addr_type': 'StreetInt',\n",
       "  'Type': '',\n",
       "  'PlaceName': '',\n",
       "  'AddNum': '',\n",
       "  'Address': 'Northside Dr & Village Dr',\n",
       "  'Block': '',\n",
       "  'Sector': '',\n",
       "  'Neighborhood': '',\n",
       "  'District': '',\n",
       "  'City': 'Yosemite National Park',\n",
       "  'MetroArea': '',\n",
       "  'Subregion': 'Mariposa County',\n",
       "  'Region': 'California',\n",
       "  'Territory': '',\n",
       "  'Postal': '95389',\n",
       "  'PostalExt': '',\n",
       "  'CountryCode': 'USA'},\n",
       " 'location': {'x': -119.59052989240291,\n",
       "  'y': 37.7465700301093,\n",
       "  'spatialReference': {'wkid': 4326, 'latestWkid': 4326},\n",
       "  'type': 'point'}}"
      ]
     },
     "metadata": {},
     "output_type": "display_data"
    }
   ],
   "source": [
    "# search_tolerance = 10 meters\n",
    "park_c = reverse_geocode(park_xy, feature_types = \"StreetInt\")\n",
    "map3.content.draw(park_c[\"location\"], \n",
    "          symbol = PictureMarkerSymbolEsriPMS(**{\"angle\":0,\"xoffset\":0,\"yoffset\":8.15625,\"type\":\"esriPMS\",\n",
    "                    \"url\":\"http://static.arcgis.com/images/Symbols/AtoZ/blueC.png\",\n",
    "                    \"contentType\":\"image/png\",\"width\":15.75,\"height\":21.75}))\n",
    "display(park_c)"
   ]
  },
  {
   "cell_type": "code",
   "execution_count": 10,
   "metadata": {},
   "outputs": [
    {
     "data": {
      "text/plain": [
       "{'address': {'Match_addr': 'Northside Dr, Yosemite National Park, California, 95389',\n",
       "  'LongLabel': 'Northside Dr, Yosemite National Park, CA, 95389, USA',\n",
       "  'ShortLabel': 'Northside Dr',\n",
       "  'Addr_type': 'StreetName',\n",
       "  'Type': '',\n",
       "  'PlaceName': '',\n",
       "  'AddNum': '',\n",
       "  'Address': 'Northside Dr',\n",
       "  'Block': '',\n",
       "  'Sector': '',\n",
       "  'Neighborhood': '',\n",
       "  'District': '',\n",
       "  'City': 'Yosemite National Park',\n",
       "  'MetroArea': '',\n",
       "  'Subregion': 'Mariposa County',\n",
       "  'Region': 'California',\n",
       "  'Territory': '',\n",
       "  'Postal': '95389',\n",
       "  'PostalExt': '',\n",
       "  'CountryCode': 'USA'},\n",
       " 'location': {'x': -119.59032552840779,\n",
       "  'y': 37.74658950402821,\n",
       "  'spatialReference': {'wkid': 4326, 'latestWkid': 4326},\n",
       "  'type': 'point'}}"
      ]
     },
     "metadata": {},
     "output_type": "display_data"
    }
   ],
   "source": [
    "# search_tolerance = 3 meters\n",
    "park_d = reverse_geocode(park_xy, feature_types = \"StreetAddress,DistanceMarker,StreetName\")\n",
    "map3.content.draw(park_d[\"location\"], \n",
    "          symbol = PictureMarkerSymbolEsriPMS(**{\"angle\":0,\"xoffset\":0,\"yoffset\":8.15625,\"type\":\"esriPMS\",\n",
    "                    \"url\":\"http://static.arcgis.com/images/Symbols/AtoZ/blueD.png\",\n",
    "                    \"contentType\":\"image/png\",\"width\":15.75,\"height\":21.75}))\n",
    "display(park_d)"
   ]
  },
  {
   "cell_type": "code",
   "execution_count": 12,
   "metadata": {},
   "outputs": [
    {
     "data": {
      "text/plain": [
       "{'address': {'Match_addr': '95389, Yosemite National Park, California',\n",
       "  'LongLabel': '95389, Yosemite National Park, CA, USA',\n",
       "  'ShortLabel': '95389',\n",
       "  'Addr_type': 'Postal',\n",
       "  'Type': '',\n",
       "  'PlaceName': '95389',\n",
       "  'AddNum': '',\n",
       "  'Address': '',\n",
       "  'Block': '',\n",
       "  'Sector': '',\n",
       "  'Neighborhood': '',\n",
       "  'District': '',\n",
       "  'City': 'Yosemite National Park',\n",
       "  'MetroArea': '',\n",
       "  'Subregion': 'Mariposa County',\n",
       "  'Region': 'California',\n",
       "  'Territory': '',\n",
       "  'Postal': '95389',\n",
       "  'PostalExt': '',\n",
       "  'CountryCode': 'USA'},\n",
       " 'location': {'x': -119.59032605870676,\n",
       "  'y': 37.746595069113496,\n",
       "  'spatialReference': {'wkid': 4326, 'latestWkid': 4326},\n",
       "  'type': 'point'}}"
      ]
     },
     "metadata": {},
     "output_type": "display_data"
    }
   ],
   "source": [
    "# search_tolerance = within boundaries\n",
    "# If the input location intersects multiple boundaries, the feature with the smallest area is returned.\n",
    "park_e = reverse_geocode(park_xy, feature_types = \"Locality,Postal\")\n",
    "map3.content.draw(park_e[\"location\"], \n",
    "          symbol = PictureMarkerSymbolEsriPMS(**{\"angle\":0,\"xoffset\":0,\"yoffset\":8.15625,\"type\":\"esriPMS\",\n",
    "                    \"url\":\"http://static.arcgis.com/images/Symbols/AtoZ/blueE.png\",\n",
    "                    \"contentType\":\"image/png\",\"width\":15.75,\"height\":21.75}))\n",
    "display(park_e)"
   ]
  },
  {
   "cell_type": "code",
   "execution_count": 13,
   "metadata": {},
   "outputs": [
    {
     "data": {
      "text/plain": [
       "{'address': {'Match_addr': 'Yosemite National Park',\n",
       "  'LongLabel': 'Yosemite National Park, Village Dr, Yosemite National Park, CA, 95389, USA',\n",
       "  'ShortLabel': 'Yosemite National Park',\n",
       "  'Addr_type': 'POI',\n",
       "  'Type': 'Park',\n",
       "  'PlaceName': 'Yosemite National Park',\n",
       "  'AddNum': '',\n",
       "  'Address': 'Village Dr',\n",
       "  'Block': '',\n",
       "  'Sector': '',\n",
       "  'Neighborhood': '',\n",
       "  'District': '',\n",
       "  'City': 'Yosemite National Park',\n",
       "  'MetroArea': '',\n",
       "  'Subregion': 'Mariposa County',\n",
       "  'Region': 'California',\n",
       "  'Territory': '',\n",
       "  'Postal': '95389',\n",
       "  'PostalExt': '',\n",
       "  'CountryCode': 'USA'},\n",
       " 'location': {'x': -119.59032605870676,\n",
       "  'y': 37.746595069113496,\n",
       "  'spatialReference': {'wkid': 4326, 'latestWkid': 4326},\n",
       "  'type': 'point'}}"
      ]
     },
     "metadata": {},
     "output_type": "display_data"
    }
   ],
   "source": [
    "park_f = reverse_geocode(park_xy, feature_types = \"POI area\")\n",
    "map3.content.draw(park_f[\"location\"], \n",
    "          symbol = PictureMarkerSymbolEsriPMS(**{\"angle\":0,\"xoffset\":0,\"yoffset\":8.15625,\"type\":\"esriPMS\",\n",
    "                    \"url\":\"http://static.arcgis.com/images/Symbols/AtoZ/blueF.png\",\n",
    "                    \"contentType\":\"image/png\",\"width\":15.75,\"height\":21.75}))\n",
    "display(park_f)"
   ]
  },
  {
   "cell_type": "markdown",
   "metadata": {},
   "source": [
    "As we can see from the map above, `park_a`, `park_d`, `park_e` and `park_f` all point to the same location (the centroid of Yosemite National Park), while `park_b` and `park_c` are slightly offset from the centroid."
   ]
  },
  {
   "cell_type": "markdown",
   "metadata": {},
   "source": [
    "## Limit searches by `distance` param\n",
    "Here, note that default distance varies by feature_types and more can be learnt from here\n",
    "\n",
    "`distance` parameter\n",
    " - The optional distance parameter allows you to specify a radial distance in meters to search for an address from the specified location. If no distance value is specified, then the value is assumed to be 100 meters.\n",
    "\n",
    "Example:\n",
    "```\n",
    "distance=50\n",
    "```"
   ]
  },
  {
   "cell_type": "code",
   "execution_count": 128,
   "metadata": {},
   "outputs": [
    {
     "data": {
      "text/plain": [
       "{'address': {'Match_addr': 'The Bean',\n",
       "  'LongLabel': 'The Bean, Chicago, IL, 60603, USA',\n",
       "  'ShortLabel': 'The Bean',\n",
       "  'Addr_type': 'POI',\n",
       "  'Type': 'Tourist Attraction',\n",
       "  'PlaceName': 'The Bean',\n",
       "  'AddNum': '',\n",
       "  'Address': '',\n",
       "  'Block': '',\n",
       "  'Sector': '',\n",
       "  'Neighborhood': 'Loop',\n",
       "  'District': '',\n",
       "  'City': 'Chicago',\n",
       "  'MetroArea': 'Chicagoland',\n",
       "  'Subregion': 'Cook County',\n",
       "  'Region': 'Illinois',\n",
       "  'Territory': '',\n",
       "  'Postal': '60603',\n",
       "  'PostalExt': '',\n",
       "  'CountryCode': 'USA'},\n",
       " 'location': {'x': -87.62351981667449,\n",
       "  'y': 41.88258590496559,\n",
       "  'spatialReference': {'wkid': 4326, 'latestWkid': 4326}}}"
      ]
     },
     "execution_count": 128,
     "metadata": {},
     "output_type": "execute_result"
    }
   ],
   "source": [
    "# search_tolerance = 10 meters\n",
    "reverse_geocode({'x': -87.62330985,'y':41.88270585},\n",
    "                feature_types = \"POI\",\n",
    "                distance=10)"
   ]
  },
  {
   "cell_type": "code",
   "execution_count": 135,
   "metadata": {},
   "outputs": [
    {
     "data": {
      "text/plain": [
       "{'address': {'Match_addr': 'Park Cafe',\n",
       "  'LongLabel': 'Park Cafe, 11 N Michigan Ave, Chicago, IL, 60602, USA',\n",
       "  'ShortLabel': 'Park Cafe',\n",
       "  'Addr_type': 'POI',\n",
       "  'Type': 'Restaurant',\n",
       "  'PlaceName': 'Park Cafe',\n",
       "  'AddNum': '11',\n",
       "  'Address': '11 N Michigan Ave',\n",
       "  'Block': '',\n",
       "  'Sector': '',\n",
       "  'Neighborhood': '',\n",
       "  'District': '',\n",
       "  'City': 'Chicago',\n",
       "  'MetroArea': '',\n",
       "  'Subregion': 'Cook County',\n",
       "  'Region': 'Illinois',\n",
       "  'Territory': '',\n",
       "  'Postal': '60602',\n",
       "  'PostalExt': '',\n",
       "  'CountryCode': 'USA'},\n",
       " 'location': {'x': -87.62330499999996,\n",
       "  'y': 41.88267500000006,\n",
       "  'spatialReference': {'wkid': 4326, 'latestWkid': 4326}}}"
      ]
     },
     "execution_count": 135,
     "metadata": {},
     "output_type": "execute_result"
    }
   ],
   "source": [
    "# search_tolerance = 500 meters\n",
    "reverse_geocode({'x': -87.62330995,'y':41.88270595},\n",
    "                distance=500)"
   ]
  },
  {
   "cell_type": "markdown",
   "metadata": {},
   "source": [
    "## Conclusions\n",
    "\n",
    "In Part 5 of the Series, we have explored how to perform `reverse_geocode()` with different input (e.g. JSON, `List` object, or Point `Geometry` object) and optional parameters to limit the search results. The optional parameters used included `lang_code`, `distance`, `feature_types`, etc. In the next notebook, we will discuss how to work with a customized `geocoder`."
   ]
  }
 ],
 "metadata": {
  "kernelspec": {
   "display_name": "Python 3 (ipykernel)",
   "language": "python",
   "name": "python3"
  },
  "language_info": {
   "codemirror_mode": {
    "name": "ipython",
    "version": 3
   },
   "file_extension": ".py",
   "mimetype": "text/x-python",
   "name": "python",
   "nbconvert_exporter": "python",
   "pygments_lexer": "ipython3",
   "version": "3.11.8"
  },
  "toc": {
   "base_numbering": 1,
   "nav_menu": {},
   "number_sections": false,
   "sideBar": true,
   "skip_h1_title": true,
   "title_cell": "Table of Contents",
   "title_sidebar": "Contents",
   "toc_cell": true,
   "toc_position": {},
   "toc_section_display": true,
   "toc_window_display": false
  },
  "varInspector": {
   "cols": {
    "lenName": 16,
    "lenType": 16,
    "lenVar": 40
   },
   "kernels_config": {
    "python": {
     "delete_cmd_postfix": "",
     "delete_cmd_prefix": "del ",
     "library": "var_list.py",
     "varRefreshCmd": "print(var_dic_list())"
    },
    "r": {
     "delete_cmd_postfix": ") ",
     "delete_cmd_prefix": "rm(",
     "library": "var_list.r",
     "varRefreshCmd": "cat(var_dic_list()) "
    }
   },
   "types_to_exclude": [
    "module",
    "function",
    "builtin_function_or_method",
    "instance",
    "_Feature"
   ],
   "window_display": false
  }
 },
 "nbformat": 4,
 "nbformat_minor": 4
}
