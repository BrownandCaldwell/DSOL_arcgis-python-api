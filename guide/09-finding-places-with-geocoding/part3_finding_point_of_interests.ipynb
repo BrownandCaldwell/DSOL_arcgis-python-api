{
 "cells": [
  {
   "cell_type": "markdown",
   "metadata": {},
   "source": [
    "# Part 3 - Finding Point of Interests"
   ]
  },
  {
   "cell_type": "markdown",
   "metadata": {
    "toc": true
   },
   "source": [
    "<h1>Table of Contents<span class=\"tocSkip\"></span></h1>\n",
    "<div class=\"toc\"><ul class=\"toc-item\"><li><span><a href=\"#Getting-started\" data-toc-modified-id=\"Getting-started-1\">Getting started</a></span><ul class=\"toc-item\"><li><span><a href=\"#Search-for-administrative-place-names\" data-toc-modified-id=\"Search-for-administrative-place-names-1.1\">Search for administrative place names</a></span></li><li><span><a href=\"#Example-of-finding-landmarks\" data-toc-modified-id=\"Example-of-finding-landmarks-1.2\">Example of finding landmarks</a></span></li><li><span><a href=\"#Search-for-postal-codes\" data-toc-modified-id=\"Search-for-postal-codes-1.3\">Search for postal codes</a></span></li><li><span><a href=\"#Example-of-finding-multiple-categories\" data-toc-modified-id=\"Example-of-finding-multiple-categories-1.4\">Example of finding multiple categories</a></span></li><li><span><a href=\"#Example-of-finding-restaurants-within-a-polygon-drawn-on-map\" data-toc-modified-id=\"Example-of-finding-restaurants-within-a-polygon-drawn-on-map-1.5\">Example of finding restaurants within a polygon drawn on map</a></span></li><li><span><a href=\"#Example-of-finding-hospitals-within-10-mile-buffer-around-Esri-HQ-and-distance-to-each\" data-toc-modified-id=\"Example-of-finding-hospitals-within-10-mile-buffer-around-Esri-HQ-and-distance-to-each-1.6\">Example of finding hospitals within 10 mile buffer around Esri HQ and distance to each</a></span><ul class=\"toc-item\"><li><span><a href=\"#Step-1.-Create-a-Point-object-for-Esri-HQ,-and-build-a-buffer\" data-toc-modified-id=\"Step-1.-Create-a-Point-object-for-Esri-HQ,-and-build-a-buffer-1.6.1\">Step 1. Create a Point object for Esri HQ, and build a buffer</a></span></li><li><span><a href=\"#Step-2.-Geocode-and-compute-distance\" data-toc-modified-id=\"Step-2.-Geocode-and-compute-distance-1.6.2\">Step 2. Geocode and compute distance</a></span></li><li><span><a href=\"#Step-3.-Present-results-in-tables-and-bar-charts\" data-toc-modified-id=\"Step-3.-Present-results-in-tables-and-bar-charts-1.6.3\">Step 3. Present results in tables and bar charts</a></span></li></ul></li></ul></li><li><span><a href=\"#Finding-POIs-using-category-filtering\" data-toc-modified-id=\"Finding-POIs-using-category-filtering-2\">Finding POIs using category filtering</a></span><ul class=\"toc-item\"><li><span><a href=\"#Get-a-list-of-available-categories-and-sub-categories-with-the-current-geocoder\" data-toc-modified-id=\"Get-a-list-of-available-categories-and-sub-categories-with-the-current-geocoder-2.1\">Get a list of available categories and sub-categories with the current geocoder</a></span></li><li><span><a href=\"#An-example-of-finding-restaurants-around-a-given-location\" data-toc-modified-id=\"An-example-of-finding-restaurants-around-a-given-location-2.2\">An example of finding restaurants around a given location</a></span></li><li><span><a href=\"#How-to-refine-the-results-by-sub-category\" data-toc-modified-id=\"How-to-refine-the-results-by-sub-category-2.3\">How to refine the results by sub-category</a></span></li><li><span><a href=\"#Example-of-finding-gas-stations,-bars,-and-other-facilities-near-a-given-location\" data-toc-modified-id=\"Example-of-finding-gas-stations,-bars,-and-other-facilities-near-a-given-location-2.4\">Example of finding gas stations, bars, and other facilities near a given location</a></span><ul class=\"toc-item\"><li><span><a href=\"#Step-1.-Create-symbols-for-facilities\" data-toc-modified-id=\"Step-1.-Create-symbols-for-facilities-2.4.1\">Step 1. Create symbols for facilities</a></span></li><li><span><a href=\"#Step-2.-Define-your-own-geocode-function\" data-toc-modified-id=\"Step-2.-Define-your-own-geocode-function-2.4.2\">Step 2. Define your own geocode function</a></span></li><li><span><a href=\"#Step-3.-Tabularize-the-results\" data-toc-modified-id=\"Step-3.-Tabularize-the-results-2.4.3\">Step 3. Tabularize the results</a></span></li></ul></li></ul></li><li><span><a href=\"#Conclusions\" data-toc-modified-id=\"Conclusions-3\">Conclusions</a></span></li></ul></div>"
   ]
  },
  {
   "cell_type": "markdown",
   "metadata": {},
   "source": [
    "In addition to geocoding addresses, the geocoding service can also be used to find points of interest (POI) of several different kinds. In Part 3, we will explain briefly about `category` parameter of `geocode()` function and its applications."
   ]
  },
  {
   "cell_type": "markdown",
   "metadata": {},
   "source": [
    "<div class=\"alert alert-info\">\n",
    "    <b>Note:</b> The World Geocoding Service gets updated constantly to add new data sources and to improve the geocoding quality. With these updates, the results returned from geocoding operations may vary.\n",
    "</div>"
   ]
  },
  {
   "cell_type": "markdown",
   "metadata": {},
   "source": [
    "## Getting started\n",
    "\n",
    "First, Let's look at some Quickstart examples, which show how the `category` attributes change based on the search string."
   ]
  },
  {
   "cell_type": "markdown",
   "metadata": {},
   "source": [
    "### Search for administrative place names\n",
    "\n",
    "The `geocode()` method supports single field and multi-field searches for administrative place names. This includes searches for neighborhoods, cities, counties, states, provinces, or countries. If a search for a city name results in multiple matches with the same name, the World Geocoding Service will sort the candidates in order of their relative importance to each other (as indicated by the value of the Rank output field), with priority generally based on population and capital status. \n",
    "\n",
    "For example, there are many cities in the world named `Liverpool`, so a search for \"Liverpool\" results in several equivalent matches; `Liverpool, UK` will always be the top candidate since it has the greatest population."
   ]
  },
  {
   "cell_type": "code",
   "execution_count": 1,
   "metadata": {},
   "outputs": [],
   "source": [
    "from arcgis.geocoding import geocode\n",
    "from arcgis.gis import GIS"
   ]
  },
  {
   "cell_type": "code",
   "execution_count": 2,
   "metadata": {},
   "outputs": [],
   "source": [
    "gis = GIS(\"home\")"
   ]
  },
  {
   "cell_type": "code",
   "execution_count": 3,
   "metadata": {},
   "outputs": [],
   "source": [
    "address = \"Liverpool\""
   ]
  },
  {
   "cell_type": "code",
   "execution_count": 4,
   "metadata": {},
   "outputs": [
    {
     "data": {
      "application/vnd.jupyter.widget-view+json": {
       "model_id": "9d623590065b4d8786fe9196b3f5ab28",
       "version_major": 2,
       "version_minor": 0
      },
      "text/plain": [
       "MapView(layout=Layout(height='400px', width='100%'))"
      ]
     },
     "metadata": {},
     "output_type": "display_data"
    },
    {
     "data": {
      "text/html": [
       "<div class=\"map-static-img-preview-74bad76c-fd4d-4c7e-885a-0be67948894d\"><img src=\"\"></img></div>"
      ],
      "text/plain": [
       "<IPython.core.display.HTML object>"
      ]
     },
     "metadata": {},
     "output_type": "display_data"
    },
    {
     "data": {
      "text/html": [
       "<div class=\"map-html-embed-preview-74bad76c-fd4d-4c7e-885a-0be67948894d\"></div>"
      ],
      "text/plain": [
       "<IPython.core.display.HTML object>"
      ]
     },
     "metadata": {},
     "output_type": "display_data"
    }
   ],
   "source": [
    "map1 = gis.map(\"United Kingdom\")\n",
    "map1"
   ]
  },
  {
   "cell_type": "code",
   "execution_count": null,
   "metadata": {},
   "outputs": [],
   "source": [
    "map1.zoom = 6"
   ]
  },
  {
   "cell_type": "markdown",
   "metadata": {},
   "source": [
    "![image](https://github.com/ManushiM/Esri_Tutorials/assets/13968196/80dd6b9c-e889-4600-bce7-87cda80ad67e)"
   ]
  },
  {
   "cell_type": "code",
   "execution_count": 5,
   "metadata": {},
   "outputs": [],
   "source": [
    "liverpool = geocode(address)[0]"
   ]
  },
  {
   "cell_type": "code",
   "execution_count": 6,
   "metadata": {},
   "outputs": [],
   "source": [
    "map1.content.draw(liverpool['location'])"
   ]
  },
  {
   "cell_type": "markdown",
   "metadata": {},
   "source": [
    "However, rank alone is not always enough to distinguish between administrative places. Also, you may not necessarily want to find the highest-ranked feature for a particular search. It may be necessary to remove ambiguity by refining searches with additional information. For example, a search for `Liverpool` returns `Liverpool, UK` as the top candidate based on rank. If you instead want to find the town of Liverpool, New York, it is necessary to add the state information to the search."
   ]
  },
  {
   "cell_type": "code",
   "execution_count": 7,
   "metadata": {},
   "outputs": [],
   "source": [
    "address = {\n",
    "    \"Address\" : \"Liverpool\",\n",
    "    \"Region\" : \"NY\"\n",
    "}"
   ]
  },
  {
   "cell_type": "code",
   "execution_count": 8,
   "metadata": {},
   "outputs": [
    {
     "data": {
      "application/vnd.jupyter.widget-view+json": {
       "model_id": "e97368f5ea344973858cfcb0e6967034",
       "version_major": 2,
       "version_minor": 0
      },
      "text/plain": [
       "MapView(layout=Layout(height='400px', width='100%'))"
      ]
     },
     "metadata": {},
     "output_type": "display_data"
    },
    {
     "data": {
      "text/html": [
       "<div class=\"map-static-img-preview-9310a0f8-4c26-4a62-80c2-01f267d54e55\"><img src=\"\"></img></div>"
      ],
      "text/plain": [
       "<IPython.core.display.HTML object>"
      ]
     },
     "metadata": {},
     "output_type": "display_data"
    },
    {
     "data": {
      "text/html": [
       "<div class=\"map-html-embed-preview-9310a0f8-4c26-4a62-80c2-01f267d54e55\"></div>"
      ],
      "text/plain": [
       "<IPython.core.display.HTML object>"
      ]
     },
     "metadata": {},
     "output_type": "display_data"
    }
   ],
   "source": [
    "map2 = gis.map(\"Onondaga County, New York, United States\")\n",
    "map2"
   ]
  },
  {
   "cell_type": "markdown",
   "metadata": {},
   "source": [
    "![image](https://github.com/ManushiM/Esri_Tutorials/assets/13968196/7a78dd08-f53b-405f-84c3-945d7c4191f0)\n"
   ]
  },
  {
   "cell_type": "code",
   "execution_count": 9,
   "metadata": {},
   "outputs": [],
   "source": [
    "liverpool = geocode(address)[0]\n",
    "map2.content.draw(liverpool['location'])"
   ]
  },
  {
   "cell_type": "markdown",
   "metadata": {},
   "source": [
    "### Example of finding landmarks\n",
    "\n",
    "The `geocode()` method can be used to find famous landmarks. The example below geocodes and maps Mt. Everest in Asia, Eiffel Tower in Europe, and the Statue of Liberty in North America:"
   ]
  },
  {
   "cell_type": "code",
   "execution_count": 10,
   "metadata": {},
   "outputs": [],
   "source": [
    "landmarks = [\"Mt. Everest\", \"Eiffel Tower\", \"Statue of Liberty\"]"
   ]
  },
  {
   "cell_type": "code",
   "execution_count": 11,
   "metadata": {},
   "outputs": [
    {
     "data": {
      "application/vnd.jupyter.widget-view+json": {
       "model_id": "aaa9fae194dd44c69c1d165ca2a7529a",
       "version_major": 2,
       "version_minor": 0
      },
      "text/plain": [
       "MapView(layout=Layout(height='400px', width='100%'))"
      ]
     },
     "metadata": {},
     "output_type": "display_data"
    },
    {
     "data": {
      "text/html": [
       "<div class=\"map-static-img-preview-f3ce0a69-f7b1-4253-aa99-ba1becb8207e\"><img src=\"\"></img></div>"
      ],
      "text/plain": [
       "<IPython.core.display.HTML object>"
      ]
     },
     "metadata": {},
     "output_type": "display_data"
    },
    {
     "data": {
      "text/html": [
       "<div class=\"map-html-embed-preview-f3ce0a69-f7b1-4253-aa99-ba1becb8207e\"></div>"
      ],
      "text/plain": [
       "<IPython.core.display.HTML object>"
      ]
     },
     "metadata": {},
     "output_type": "display_data"
    }
   ],
   "source": [
    "map4 = gis.map()\n",
    "map4"
   ]
  },
  {
   "cell_type": "markdown",
   "metadata": {},
   "source": [
    "\n",
    "![image](https://github.com/ManushiM/Esri_Tutorials/assets/13968196/7d6efc6f-83e9-411a-b5f9-c3d3fc8349bb)"
   ]
  },
  {
   "cell_type": "code",
   "execution_count": 12,
   "metadata": {},
   "outputs": [],
   "source": [
    "for lm in landmarks:\n",
    "    lm_res = geocode(lm)[0]\n",
    "    map4.content.draw(lm_res['location'])"
   ]
  },
  {
   "cell_type": "markdown",
   "metadata": {},
   "source": [
    "### Search for postal codes\n",
    "\n",
    "The `geocode()` method supports searches for postal codes and postal code extensions. When searching for postal codes, it is important to note that the same code can be valid in more than one country. For the best results, it may be necessary to include additional information with the postal code, such as city or country."
   ]
  },
  {
   "cell_type": "code",
   "execution_count": 13,
   "metadata": {},
   "outputs": [],
   "source": [
    "address = {\n",
    "    \"Postal\" : 110001,\n",
    "    \"CountryCode\" : \"India\"\n",
    "}"
   ]
  },
  {
   "cell_type": "code",
   "execution_count": 14,
   "metadata": {},
   "outputs": [
    {
     "data": {
      "application/vnd.jupyter.widget-view+json": {
       "model_id": "bbe6ddcdd33c412da0e731f83d1b5d49",
       "version_major": 2,
       "version_minor": 0
      },
      "text/plain": [
       "MapView(layout=Layout(height='400px', width='100%'))"
      ]
     },
     "metadata": {},
     "output_type": "display_data"
    },
    {
     "data": {
      "text/html": [
       "<div class=\"map-static-img-preview-34cbf419-4c41-4afd-a83a-e37c96a05b52\"><img src=\"\"></img></div>"
      ],
      "text/plain": [
       "<IPython.core.display.HTML object>"
      ]
     },
     "metadata": {},
     "output_type": "display_data"
    },
    {
     "data": {
      "text/html": [
       "<div class=\"map-html-embed-preview-34cbf419-4c41-4afd-a83a-e37c96a05b52\"></div>"
      ],
      "text/plain": [
       "<IPython.core.display.HTML object>"
      ]
     },
     "metadata": {},
     "output_type": "display_data"
    }
   ],
   "source": [
    "map3 = gis.map(\"New Delhi, India\")\n",
    "map3"
   ]
  },
  {
   "cell_type": "code",
   "execution_count": 15,
   "metadata": {},
   "outputs": [],
   "source": [
    "pincode = geocode(address)[0]\n",
    "map3.content.draw(pincode['location'])"
   ]
  },
  {
   "cell_type": "markdown",
   "metadata": {},
   "source": [
    "![image](https://github.com/ManushiM/Esri_Tutorials/assets/13968196/55e95c0a-874f-4195-9632-6ed5e33f002e)\n"
   ]
  },
  {
   "cell_type": "markdown",
   "metadata": {},
   "source": [
    "The matched address contains several attributes that provide values for the various output fields supported by the geocoder, as listed below:"
   ]
  },
  {
   "cell_type": "code",
   "execution_count": 16,
   "metadata": {},
   "outputs": [
    {
     "data": {
      "text/plain": [
       "{'Loc_name': 'World',\n",
       " 'Status': 'M',\n",
       " 'Score': 100,\n",
       " 'Match_addr': '110001',\n",
       " 'LongLabel': '110001, New Delhi, Delhi, IND',\n",
       " 'ShortLabel': '110001',\n",
       " 'Addr_type': 'Postal',\n",
       " 'Type': '',\n",
       " 'PlaceName': '110001',\n",
       " 'Place_addr': 'New Delhi, Delhi, 110001',\n",
       " 'Phone': '',\n",
       " 'URL': '',\n",
       " 'Rank': 5,\n",
       " 'AddBldg': '',\n",
       " 'AddNum': '',\n",
       " 'AddNumFrom': '',\n",
       " 'AddNumTo': '',\n",
       " 'AddRange': '',\n",
       " 'Side': '',\n",
       " 'StPreDir': '',\n",
       " 'StPreType': '',\n",
       " 'StName': '',\n",
       " 'StType': '',\n",
       " 'StDir': '',\n",
       " 'BldgType': '',\n",
       " 'BldgName': '',\n",
       " 'LevelType': '',\n",
       " 'LevelName': '',\n",
       " 'UnitType': '',\n",
       " 'UnitName': '',\n",
       " 'SubAddr': '',\n",
       " 'StAddr': '',\n",
       " 'Block': '',\n",
       " 'Sector': '',\n",
       " 'Nbrhd': '',\n",
       " 'District': '',\n",
       " 'City': 'New Delhi',\n",
       " 'MetroArea': '',\n",
       " 'Subregion': 'New Delhi',\n",
       " 'Region': 'Delhi',\n",
       " 'RegionAbbr': 'DL',\n",
       " 'Territory': '',\n",
       " 'Zone': '',\n",
       " 'Postal': '110001',\n",
       " 'PostalExt': '',\n",
       " 'Country': 'IND',\n",
       " 'CntryName': 'India',\n",
       " 'LangCode': 'ENG',\n",
       " 'Distance': 0,\n",
       " 'X': 77.21866000000006,\n",
       " 'Y': 28.623395000000073,\n",
       " 'DisplayX': 77.21866000000006,\n",
       " 'DisplayY': 28.623395000000073,\n",
       " 'Xmin': 77.18466000000005,\n",
       " 'Xmax': 77.25266000000006,\n",
       " 'Ymin': 28.589395000000074,\n",
       " 'Ymax': 28.657395000000072,\n",
       " 'ExInfo': ''}"
      ]
     },
     "execution_count": 16,
     "metadata": {},
     "output_type": "execute_result"
    }
   ],
   "source": [
    "pincode['attributes']"
   ]
  },
  {
   "cell_type": "markdown",
   "metadata": {},
   "source": [
    "<div class=\"inner_cell\">\n",
    "    <div class=\"text_cell_render border-box-sizing rendered_html\">\n",
    "        <blockquote>\n",
    "            <p>Note that if users want to get exact administrative boundaries, they can do so by using geoenrichment as shown <a href=\"https://developers.arcgis.com/python/guide/part3-where-to-enrich-named-stat-areas/#Geographic-level:-Zip-Code\">here</a>.</p>\n",
    "        </blockquote>\n",
    "    </div>\n",
    "</div>"
   ]
  },
  {
   "cell_type": "markdown",
   "metadata": {},
   "source": [
    "### Example of finding multiple categories \n",
    "\n",
    "In the example below, we search for Indian and Thai Food in Los Angeles, and plot their locations using different symbols based on the `Type` attribute:"
   ]
  },
  {
   "cell_type": "code",
   "execution_count": 17,
   "metadata": {},
   "outputs": [],
   "source": [
    "categories = \"Indian Food, Thai Food\""
   ]
  },
  {
   "cell_type": "code",
   "execution_count": 18,
   "metadata": {},
   "outputs": [
    {
     "data": {
      "application/vnd.jupyter.widget-view+json": {
       "model_id": "8ad38b7cec844bf39440d392c485d187",
       "version_major": 2,
       "version_minor": 0
      },
      "text/plain": [
       "MapView(layout=Layout(height='400px', width='100%'))"
      ]
     },
     "metadata": {},
     "output_type": "display_data"
    },
    {
     "data": {
      "text/html": [
       "<div class=\"map-static-img-preview-4b081fe8-cf98-4b74-a033-5ea1c1935e3e\"><img src=\"\"></img></div>"
      ],
      "text/plain": [
       "<IPython.core.display.HTML object>"
      ]
     },
     "metadata": {},
     "output_type": "display_data"
    },
    {
     "data": {
      "text/html": [
       "<div class=\"map-html-embed-preview-4b081fe8-cf98-4b74-a033-5ea1c1935e3e\"></div>"
      ],
      "text/plain": [
       "<IPython.core.display.HTML object>"
      ]
     },
     "metadata": {},
     "output_type": "display_data"
    }
   ],
   "source": [
    "dtla = geocode(\"Downtown, Los Angeles, CA\")[0]\n",
    "\n",
    "map5 = gis.map(dtla)\n",
    "map5"
   ]
  },
  {
   "cell_type": "markdown",
   "metadata": {},
   "source": [
    "![image](https://github.com/ManushiM/Esri_Tutorials/assets/13968196/67496d6d-c0c0-44fc-ba34-89c7d01699e9)\n"
   ]
  },
  {
   "cell_type": "code",
   "execution_count": 19,
   "metadata": {},
   "outputs": [],
   "source": [
    "# find and plot up to 100 Indian and Thai restaurants in DTLA\n",
    "restaurants = geocode(None, dtla['extent'], category=categories, max_locations=100)"
   ]
  },
  {
   "cell_type": "code",
   "execution_count": 20,
   "metadata": {},
   "outputs": [],
   "source": [
    "from arcgis.map.symbols import SimpleMarkerSymbolEsriSMS, SimpleMarkerSymbolStyle, SimpleLineSymbolEsriSLS\n",
    "from arcgis.map.popups import PopupInfo\n",
    "\n",
    "thai_symbol = SimpleMarkerSymbolEsriSMS(\n",
    "    style=SimpleMarkerSymbolStyle.esri_sms_square,\n",
    "    color=[76,115,0,255],\n",
    "    size=8,\n",
    "    angle=0,\n",
    "    xoffset=0,\n",
    "    yoffset=0,\n",
    "    outline=SimpleLineSymbolEsriSLS(\n",
    "        color=[152,230,0,255],\n",
    "        width=1\n",
    "    )\n",
    ")\n",
    "\n",
    "indian_symbol = SimpleMarkerSymbolEsriSMS(\n",
    "    style=SimpleMarkerSymbolStyle.esri_sms_circle,\n",
    "    color=[115,0,76,255],\n",
    "    size=8,\n",
    "    angle=0,\n",
    "    xoffset=0,\n",
    "    yoffset=0,\n",
    "    outline=SimpleLineSymbolEsriSLS(\n",
    "        color=[152,230,0,255],\n",
    "        width=1\n",
    "    )\n",
    ")\n",
    "\n",
    "for restaurant in restaurants:\n",
    "    popup = PopupInfo(**{ \n",
    "    \"title\" : restaurant['address'], \n",
    "    \"description\" : \"Phone: \" + restaurant['attributes']['Phone']\n",
    "        })\n",
    "    if restaurant['attributes']['Type'] == 'Thai Food':\n",
    "        map5.content.draw(restaurant['location'], popup, thai_symbol) # use a green square symbol for Thai food\n",
    "    else:\n",
    "        map5.content.draw(restaurant['location'], popup, indian_symbol)"
   ]
  },
  {
   "cell_type": "markdown",
   "metadata": {},
   "source": [
    "### Example of finding restaurants within a polygon drawn on map\n",
    "\n",
    "In the example above, we have learned to search for restaurants in downtown LA. Next we will design a call-back method that could get the geometry of the drawn sketch entered by user and use it as the customized `search_extent` for the `geocode()` method."
   ]
  },
  {
   "cell_type": "code",
   "execution_count": 21,
   "metadata": {},
   "outputs": [
    {
     "data": {
      "application/vnd.jupyter.widget-view+json": {
       "model_id": "2f4fffa538fc4cb18a68e2b352e6ba37",
       "version_major": 2,
       "version_minor": 0
      },
      "text/plain": [
       "MapView(layout=Layout(height='400px', width='100%'))"
      ]
     },
     "metadata": {},
     "output_type": "display_data"
    },
    {
     "data": {
      "text/html": [
       "<div class=\"map-static-img-preview-28e947ff-5946-4329-8850-f970f1e639fa\"><img src=\"\"></img></div>"
      ],
      "text/plain": [
       "<IPython.core.display.HTML object>"
      ]
     },
     "metadata": {},
     "output_type": "display_data"
    },
    {
     "data": {
      "text/html": [
       "<div class=\"map-html-embed-preview-28e947ff-5946-4329-8850-f970f1e639fa\"></div>"
      ],
      "text/plain": [
       "<IPython.core.display.HTML object>"
      ]
     },
     "metadata": {},
     "output_type": "display_data"
    }
   ],
   "source": [
    "map6 = gis.map()\n",
    "map6.extent = {  'spatialReference': {'latestWkid': 3857, 'wkid': 102100},\n",
    "                 'xmin': -8235706.664189668,\n",
    "                 'ymin': 4977993.551288029,\n",
    "                 'xmax': -8233351.448255569,\n",
    "                 'ymax': 4978949.014141619}\n",
    "map6"
   ]
  },
  {
   "cell_type": "markdown",
   "metadata": {},
   "source": [
    "![image](https://github.com/ManushiM/Esri_Tutorials/assets/13968196/5aeb9545-5b58-4129-ae82-3d3868228547)"
   ]
  },
  {
   "cell_type": "markdown",
   "metadata": {},
   "source": [
    "```\n",
    "Searching within the area of drawn polygon...\n",
    "{'xmin': -8237203.157884028, 'ymin': 4975541.833547482, 'xmax': -8234069.23972434, 'ymax': 4977544.483455284, 'spatialReference': {'latestWkid': 3857, 'wkid': 102100}}\n",
    "Paris Baguette\n",
    "Melt Bakery\n",
    "Farmstand\n",
    "Liquiteria\n",
    "Sushi Express\n",
    "Playa Bowls\n",
    "Ovenly\n",
    "Starbucks\n",
    "Toby's Estate Coffee\n",
    "Sushi On Jones\n",
    "```"
   ]
  },
  {
   "cell_type": "code",
   "execution_count": 22,
   "metadata": {},
   "outputs": [],
   "source": [
    "from arcgis.geometry import Polygon, project, Geometry"
   ]
  },
  {
   "cell_type": "code",
   "execution_count": 23,
   "metadata": {},
   "outputs": [],
   "source": [
    "# Define the callback function that search within the area.\n",
    "drawn_polygon = None\n",
    "\n",
    "def find_restaurants(map1, g):\n",
    "    global drawn_polygon\n",
    "    drawn_polygon = g\n",
    "    \n",
    "    print(\"Searching within the area of drawn polygon...\")\n",
    "    search_area = Polygon(g)\n",
    "    search_area_extent = { 'xmin': search_area.extent[0],\n",
    "                           'ymin': search_area.extent[1],\n",
    "                           'xmax': search_area.extent[2],\n",
    "                           'ymax': search_area.extent[3],\n",
    "                           'spatialReference': {'latestWkid': 3857, 'wkid': 102100}}\n",
    "    print(search_area_extent)\n",
    "    \n",
    "    restaurants = geocode(None, search_extent=search_area_extent, category=\"Food\", max_locations=10)\n",
    "    print(restaurants)\n",
    "    for restaurant in restaurants:\n",
    "        popup = PopupInfo(**{ \n",
    "                    \"title\" : restaurant['address'], \n",
    "                    \"description\" : \"Phone: \" + restaurant['attributes']['Phone']\n",
    "                })\n",
    "        map1.content.draw(restaurant['location'], popup)\n",
    "        print(restaurant['address'])\n",
    "\n",
    "# Set as the callback function to be invoked when a polygon is drawn on the map\n",
    "map6.on_draw_end(find_restaurants)"
   ]
  },
  {
   "cell_type": "code",
   "execution_count": 24,
   "metadata": {},
   "outputs": [],
   "source": [
    "# Either use the geometry defined below\n",
    "\n",
    "search_area_dict = {'type': 'Polygon', 'coordinates': [[[-73.95949251594702, 40.763214654993785], \n",
    "                                                    [-73.97567231593547, 40.74551709428493], \n",
    "                                                    [-74.00064117977167, 40.76103030464491],\n",
    "                                                    [-73.95949251594702, 40.763214654993785]]]}\n",
    "\n",
    "search_area = Geometry(search_area_dict)\n",
    "map6.content.draw(search_area)\n",
    "\n",
    "# Or draw your own polygon\n",
    "#map6.content.draw(\"polygon\")"
   ]
  },
  {
   "cell_type": "markdown",
   "metadata": {},
   "source": [
    "### Example of finding hospitals within 10 mile buffer around Esri HQ and distance to each\n",
    "\n",
    "Next, let's walk through the example of finding hospitals within a 10-mile buffer around Esri Headquarter (HQ) and computing distances from Esri to each hospital. The steps of implementation in this section would include:\n",
    "\n",
    " - Creating a Point object for Esri HQ, use the `geometry` module to build a `buffer`, and then applying it as `search_extent` parameter.\n",
    " - Getting `geocode()` results as a `FeatureSet`, iterating through each feature within, and using `distance()` to compute the distance from the original `Point` to the feature.\n",
    " - Presenting results as a `DataFrame` showing different columns along with distance, and plotting the distance as a bar chart.\n",
    " - Plotting the `FeatureSet` on the map with appropriate symbols (using the <a href=\"\">Python symbol picker</a> for this, or programmatically create these symbols).\n",
    " \n",
    "#### Step 1. Create a Point object for Esri HQ, and build a buffer"
   ]
  },
  {
   "cell_type": "code",
   "execution_count": 25,
   "metadata": {},
   "outputs": [
    {
     "data": {
      "text/plain": [
       "<FeatureSet> 20 features"
      ]
     },
     "execution_count": 25,
     "metadata": {},
     "output_type": "execute_result"
    }
   ],
   "source": [
    "esrihq_fset = geocode(\"Esri\", as_featureset=True)\n",
    "esrihq_fset"
   ]
  },
  {
   "cell_type": "code",
   "execution_count": 26,
   "metadata": {},
   "outputs": [
    {
     "data": {
      "text/plain": [
       "'{\"x\": -117.19569523299998, \"y\": 34.05608640000003, \"spatialReference\": {\"wkid\": 4326, \"latestWkid\": 4326}}'"
      ]
     },
     "execution_count": 26,
     "metadata": {},
     "output_type": "execute_result"
    }
   ],
   "source": [
    "esri_geom = esrihq_fset.features[0]\n",
    "esri_geom.geometry.JSON"
   ]
  },
  {
   "cell_type": "code",
   "execution_count": 27,
   "metadata": {},
   "outputs": [],
   "source": [
    "from arcgis.features import Feature, FeatureSet\n",
    "from arcgis.geometry import buffer"
   ]
  },
  {
   "cell_type": "code",
   "execution_count": 28,
   "metadata": {},
   "outputs": [
    {
     "data": {
      "text/plain": [
       "<FeatureSet> 1 features"
      ]
     },
     "execution_count": 28,
     "metadata": {},
     "output_type": "execute_result"
    }
   ],
   "source": [
    "esri_buffer = buffer([esri_geom.geometry], \n",
    "                     in_sr = 102100, buffer_sr=102100,\n",
    "                     distances=0.1, unit=9001)[0]\n",
    "\n",
    "esri_buffer_f = Feature(geometry=esri_buffer)\n",
    "esri_buffer_fset = FeatureSet([esri_buffer_f])\n",
    "esri_buffer_fset"
   ]
  },
  {
   "cell_type": "code",
   "execution_count": 29,
   "metadata": {},
   "outputs": [],
   "source": [
    "# need to change the `type` from `MultiPolygon` to `Polygon`\n",
    "esri_buffer_f_geom_dict = {\"type\": \"Polygon\", \n",
    "                           \"coordinates\":  esri_buffer_f.geometry.coordinates().tolist()}"
   ]
  },
  {
   "cell_type": "markdown",
   "metadata": {},
   "source": [
    "#### Step 2. Geocode and compute distance"
   ]
  },
  {
   "cell_type": "code",
   "execution_count": 30,
   "metadata": {},
   "outputs": [
    {
     "data": {
      "application/vnd.jupyter.widget-view+json": {
       "model_id": "99742983427847acb2cd1007d8efa71b",
       "version_major": 2,
       "version_minor": 0
      },
      "text/plain": [
       "MapView(layout=Layout(height='400px', width='100%'))"
      ]
     },
     "metadata": {},
     "output_type": "display_data"
    },
    {
     "data": {
      "text/html": [
       "<div class=\"map-static-img-preview-61e569ed-9fab-4fba-9ef2-b067d223ac53\"><img src=\"\"></img></div>"
      ],
      "text/plain": [
       "<IPython.core.display.HTML object>"
      ]
     },
     "metadata": {},
     "output_type": "display_data"
    },
    {
     "data": {
      "text/html": [
       "<div class=\"map-html-embed-preview-61e569ed-9fab-4fba-9ef2-b067d223ac53\"></div>"
      ],
      "text/plain": [
       "<IPython.core.display.HTML object>"
      ]
     },
     "metadata": {},
     "output_type": "display_data"
    }
   ],
   "source": [
    "map7 = gis.map(\"Redlands, CA\")\n",
    "map7"
   ]
  },
  {
   "cell_type": "markdown",
   "metadata": {},
   "source": [
    "![image](https://github.com/ManushiM/Esri_Tutorials/assets/13968196/491ad60c-28e3-4816-828c-599c9898402e)"
   ]
  },
  {
   "cell_type": "code",
   "execution_count": 31,
   "metadata": {},
   "outputs": [
    {
     "data": {
      "text/plain": [
       "(-117.29569523299998,\n",
       " 33.956086400000025,\n",
       " -117.09569523299999,\n",
       " 34.15608640000003)"
      ]
     },
     "execution_count": 31,
     "metadata": {},
     "output_type": "execute_result"
    }
   ],
   "source": [
    "esri_buffer_geom = Geometry(esri_buffer_f_geom_dict)\n",
    "esri_buffer_geom.extent"
   ]
  },
  {
   "cell_type": "code",
   "execution_count": 32,
   "metadata": {},
   "outputs": [],
   "source": [
    "from arcgis.map.symbols import SimpleFillSymbolEsriSFS, SimpleLineSymbolEsriSLS, SimpleFillSymbolStyle, PictureMarkerSymbolEsriPMS\n",
    "from arcgis.map.popups import PopupInfo\n",
    "\n",
    "fill_symbol = SimpleFillSymbolEsriSFS(\n",
    "    color=[255,0,0,100],\n",
    "    style=SimpleFillSymbolStyle.esri_sfs_null,\n",
    "    outline=SimpleLineSymbolEsriSLS(\n",
    "        color=[0,0,0,255],\n",
    "        width=1\n",
    "    ))\n",
    "\n",
    "map7.content.draw(esri_buffer_geom, symbol=fill_symbol)"
   ]
  },
  {
   "cell_type": "code",
   "execution_count": 33,
   "metadata": {},
   "outputs": [],
   "source": [
    "house_symbol = PictureMarkerSymbolEsriPMS(\n",
    "    angle=0,\n",
    "    xoffset=0,\n",
    "    yoffset=0,\n",
    "    url=\"http://static.arcgis.com/images/Symbols/Shapes/RedStarLargeB.png\",\n",
    "    contentType=\"image/png\",\n",
    "    width=24,\n",
    "    height=24\n",
    ")\n",
    "\n",
    "map7.content.draw(esri_geom.geometry, symbol=house_symbol)"
   ]
  },
  {
   "cell_type": "code",
   "execution_count": 34,
   "metadata": {},
   "outputs": [
    {
     "data": {
      "text/plain": [
       "6"
      ]
     },
     "execution_count": 34,
     "metadata": {},
     "output_type": "execute_result"
    }
   ],
   "source": [
    "search_area_extent = { 'xmin': esri_buffer_geom.extent[0],\n",
    "                       'ymin': esri_buffer_geom.extent[1],\n",
    "                       'xmax': esri_buffer_geom.extent[2],\n",
    "                       'ymax': esri_buffer_geom.extent[3],\n",
    "                       'spatialReference': {'latestWkid': 4326, 'wkid': 102100}}\n",
    "\n",
    "hospitals = geocode('hospital', search_extent=search_area_extent, max_locations=50)\n",
    "len(hospitals)"
   ]
  },
  {
   "cell_type": "code",
   "execution_count": 35,
   "metadata": {},
   "outputs": [],
   "source": [
    "hospital_symbol = PictureMarkerSymbolEsriPMS(\n",
    "    angle=0,\n",
    "    xoffset=0,\n",
    "    yoffset=0,\n",
    "    url=\"http://static.arcgis.com/images/Symbols/SafetyHealth/Hospital.png\",\n",
    "    contentType=\"image/png\",\n",
    "    width=24,\n",
    "    height=24\n",
    ")"
   ]
  },
  {
   "cell_type": "code",
   "execution_count": 36,
   "metadata": {},
   "outputs": [],
   "source": [
    "neighborhood_data_dict = {}\n",
    "neighborhood_data_dict['hospitals'] = []\n",
    "\n",
    "for place in hospitals:\n",
    "    popup=PopupInfo(**{\"title\" : place['attributes']['PlaceName'], \n",
    "    \"description\" : place['attributes']['Place_addr']})\n",
    "    map7.content.draw(place['location'], symbol=hospital_symbol, popup=popup)\n",
    "    neighborhood_data_dict['hospitals'].append(place['attributes']['PlaceName'])"
   ]
  },
  {
   "cell_type": "code",
   "execution_count": 37,
   "metadata": {},
   "outputs": [
    {
     "name": "stdout",
     "output_type": "stream",
     "text": [
      "{'x': -117.27639999999997, 'y': 34.13462000000004, 'type': 'point', 'spatialReference': {'wkid': 4326}}\n",
      "{'x': -117.27727999999996, 'y': 34.13429000000008, 'type': 'point', 'spatialReference': {'wkid': 4326}}\n",
      "{'x': -117.20486999999997, 'y': 34.03696000000008, 'type': 'point', 'spatialReference': {'wkid': 4326}}\n",
      "{'x': -117.20439999999996, 'y': 34.03624000000008, 'type': 'point', 'spatialReference': {'wkid': 4326}}\n",
      "{'x': -117.26324001673439, 'y': 34.0497600366438, 'type': 'point', 'spatialReference': {'wkid': 4326}}\n",
      "{'x': -117.26249999999999, 'y': 34.048730000000035, 'type': 'point', 'spatialReference': {'wkid': 4326}}\n"
     ]
    }
   ],
   "source": [
    "for place in hospitals:\n",
    "    print(place[\"location\"])"
   ]
  },
  {
   "cell_type": "code",
   "execution_count": 38,
   "metadata": {},
   "outputs": [],
   "source": [
    "from arcgis.geometry import Point, distance\n",
    "\n",
    "neighborhood_data_dict['distance'] = []\n",
    "\n",
    "for place in hospitals:\n",
    "    dis = distance(      spatial_ref=4326, \n",
    "                         geometry1=Point(place[\"location\"]), \n",
    "                         geometry2=esri_geom.geometry, \n",
    "                         geodesic=False, \n",
    "                         gis=gis)\n",
    "    neighborhood_data_dict['distance'].append(dis['distance'])"
   ]
  },
  {
   "cell_type": "markdown",
   "metadata": {},
   "source": [
    "#### Step 3. Present results in tables and bar charts\n",
    "\n",
    "Note: The distance column is to displayed in units of 100 miles."
   ]
  },
  {
   "cell_type": "code",
   "execution_count": 39,
   "metadata": {},
   "outputs": [
    {
     "data": {
      "text/html": [
       "<div>\n",
       "<style scoped>\n",
       "    .dataframe tbody tr th:only-of-type {\n",
       "        vertical-align: middle;\n",
       "    }\n",
       "\n",
       "    .dataframe tbody tr th {\n",
       "        vertical-align: top;\n",
       "    }\n",
       "\n",
       "    .dataframe thead th {\n",
       "        text-align: right;\n",
       "    }\n",
       "</style>\n",
       "<table border=\"1\" class=\"dataframe\">\n",
       "  <thead>\n",
       "    <tr style=\"text-align: right;\">\n",
       "      <th></th>\n",
       "      <th>hospitals</th>\n",
       "      <th>distance</th>\n",
       "    </tr>\n",
       "  </thead>\n",
       "  <tbody>\n",
       "    <tr>\n",
       "      <th>0</th>\n",
       "      <td>St Bernardine Medical Center</td>\n",
       "      <td>0.112609</td>\n",
       "    </tr>\n",
       "    <tr>\n",
       "      <th>1</th>\n",
       "      <td>St Bernardine Medical Center-ER</td>\n",
       "      <td>0.113013</td>\n",
       "    </tr>\n",
       "    <tr>\n",
       "      <th>2</th>\n",
       "      <td>Redlands Community Hospital</td>\n",
       "      <td>0.021213</td>\n",
       "    </tr>\n",
       "    <tr>\n",
       "      <th>3</th>\n",
       "      <td>Redlands Community Hospital-ER</td>\n",
       "      <td>0.021671</td>\n",
       "    </tr>\n",
       "    <tr>\n",
       "      <th>4</th>\n",
       "      <td>Loma Linda University Medical Center</td>\n",
       "      <td>0.06784</td>\n",
       "    </tr>\n",
       "    <tr>\n",
       "      <th>5</th>\n",
       "      <td>Loma Linda University Medical Center-ER</td>\n",
       "      <td>0.067209</td>\n",
       "    </tr>\n",
       "  </tbody>\n",
       "</table>\n",
       "</div>"
      ],
      "text/plain": [
       "                                 hospitals  distance\n",
       "0             St Bernardine Medical Center  0.112609\n",
       "1          St Bernardine Medical Center-ER  0.113013\n",
       "2              Redlands Community Hospital  0.021213\n",
       "3           Redlands Community Hospital-ER  0.021671\n",
       "4     Loma Linda University Medical Center   0.06784\n",
       "5  Loma Linda University Medical Center-ER  0.067209"
      ]
     },
     "execution_count": 39,
     "metadata": {},
     "output_type": "execute_result"
    }
   ],
   "source": [
    "import pandas as pd\n",
    "neighborhood_df = pd.DataFrame.from_dict(neighborhood_data_dict, orient='index')\n",
    "neighborhood_df = neighborhood_df.transpose()\n",
    "neighborhood_df"
   ]
  },
  {
   "cell_type": "markdown",
   "metadata": {},
   "source": [
    "The bar plot below displays the real address on the x-axis for each entry of hospitals on the x-axis."
   ]
  },
  {
   "cell_type": "code",
   "execution_count": 40,
   "metadata": {},
   "outputs": [
    {
     "data": {
      "image/png": "[encoded data removed]",
      "text/plain": [
       "<Figure size 640x480 with 1 Axes>"
      ]
     },
     "metadata": {},
     "output_type": "display_data"
    }
   ],
   "source": [
    "import matplotlib.pyplot as plt \n",
    "fig = plt.figure()\n",
    "ax = fig.add_axes([0,0,1,1])\n",
    "addrs = neighborhood_data_dict[\"hospitals\"]\n",
    "scores = neighborhood_data_dict[\"distance\"]\n",
    "ax.bar(addrs,scores)\n",
    "plt.xticks(rotation=90)\n",
    "plt.show()"
   ]
  },
  {
   "cell_type": "markdown",
   "metadata": {},
   "source": [
    "## Finding POIs using category filtering\n",
    "\n",
    "We have seen selective examples with the `category` parameter being used in the `geocode()` function above. The steps below show the users how to get the list of all categories the geocoder knows and some usage examples:"
   ]
  },
  {
   "cell_type": "markdown",
   "metadata": {},
   "source": [
    "### Get a list of available categories and sub-categories with the current geocoder"
   ]
  },
  {
   "cell_type": "code",
   "execution_count": 42,
   "metadata": {},
   "outputs": [],
   "source": [
    "from arcgis.geocoding import get_geocoders\n",
    "geocoder = get_geocoders(gis)[0]"
   ]
  },
  {
   "cell_type": "code",
   "execution_count": 43,
   "metadata": {},
   "outputs": [
    {
     "name": "stdout",
     "output_type": "stream",
     "text": [
      "Address\n",
      "\tSubaddress\n",
      "\tPoint Address\n",
      "\tStreet Address\n",
      "\tDistance Marker\n",
      "\tIntersection\n",
      "\tStreet Midblock\n",
      "\tStreet Name\n",
      "Postal\n",
      "\tPrimary Postal\n",
      "\tPostal Locality\n",
      "\tPostal Extension\n",
      "Coordinate System\n",
      "\tLatLong\n",
      "\tXY\n",
      "\tYX\n",
      "\tMGRS\n",
      "\tUSNG\n",
      "Populated Place\n",
      "\tBlock\n",
      "\tSector\n",
      "\tNeighborhood\n",
      "\tDistrict\n",
      "\tCity\n",
      "\tMetro Area\n",
      "\tSubregion\n",
      "\tRegion\n",
      "\tTerritory\n",
      "\tCountry\n",
      "\tZone\n",
      "POI\n",
      "\tArts and Entertainment\n",
      "\t\tAmusement Park\n",
      "\t\tAquarium\n",
      "\t\tArt Gallery\n",
      "\t\tArt Museum\n",
      "\t\tBilliards\n",
      "\t\tBowling Alley\n",
      "\t\tCasino\n",
      "\t\tCinema\n",
      "\t\tHistorical Monument\n",
      "\t\tHistory Museum\n",
      "\t\tIndoor Sports\n",
      "\t\tJazz Club\n",
      "\t\tLandmark\n",
      "\t\tLive Music\n",
      "\t\tMuseum\n",
      "\t\tOther Arts and Entertainment\n",
      "\t\tPerforming Arts\n",
      "\t\tRuin\n",
      "\t\tScience Museum\n",
      "\t\tTourist Attraction\n",
      "\t\tWild Animal Park\n",
      "\t\tZoo\n",
      "\tEducation\n",
      "\t\tCollege\n",
      "\t\tFine Arts School\n",
      "\t\tOther Education\n",
      "\t\tSchool\n",
      "\t\tVocational School\n",
      "\tFood\n",
      "\t\tAfrican Food\n",
      "\t\tAmerican Food\n",
      "\t\tArgentinean Food\n",
      "\t\tAustralian Food\n",
      "\t\tAustrian Food\n",
      "\t\tBakery\n",
      "\t\tBalkan Food\n",
      "\t\tBBQ and Southern Food\n",
      "\t\tBelgian Food\n",
      "\t\tBistro\n",
      "\t\tBrazilian Food\n",
      "\t\tBreakfast\n",
      "\t\tBrewpub\n",
      "\t\tBritish Isles Food\n",
      "\t\tBurgers\n",
      "\t\tCajun and Creole Food\n",
      "\t\tCalifornian Food\n",
      "\t\tCaribbean Food\n",
      "\t\tChicken Restaurant\n",
      "\t\tChilean Food\n",
      "\t\tChinese Food\n",
      "\t\tCoffee Shop\n",
      "\t\tContinental Food\n",
      "\t\tCreperie\n",
      "\t\tEast European Food\n",
      "\t\tFast Food\n",
      "\t\tFilipino Food\n",
      "\t\tFondue\n",
      "\t\tFrench Food\n",
      "\t\tFusion Food\n",
      "\t\tGerman Food\n",
      "\t\tGreek Food\n",
      "\t\tGrill\n",
      "\t\tHawaiian Food\n",
      "\t\tIce Cream Shop\n",
      "\t\tIndian Food\n",
      "\t\tIndonesian Food\n",
      "\t\tInternational Food\n",
      "\t\tIrish Food\n",
      "\t\tItalian Food\n",
      "\t\tJapanese Food\n",
      "\t\tKorean Food\n",
      "\t\tKosher Food\n",
      "\t\tLatin American Food\n",
      "\t\tMalaysian Food\n",
      "\t\tMexican Food\n",
      "\t\tMiddle Eastern Food\n",
      "\t\tMoroccan Food\n",
      "\t\tOther Restaurant\n",
      "\t\tPastries\n",
      "\t\tPizza\n",
      "\t\tPolish Food\n",
      "\t\tPortuguese Food\n",
      "\t\tRestaurant\n",
      "\t\tRussian Food\n",
      "\t\tSandwich Shop\n",
      "\t\tScandinavian Food\n",
      "\t\tSeafood\n",
      "\t\tSnacks\n",
      "\t\tSouth American Food\n",
      "\t\tSoutheast Asian Food\n",
      "\t\tSouthwestern Food\n",
      "\t\tSpanish Food\n",
      "\t\tSteak House\n",
      "\t\tSushi\n",
      "\t\tSwiss Food\n",
      "\t\tTapas\n",
      "\t\tThai Food\n",
      "\t\tTurkish Food\n",
      "\t\tVegetarian Food\n",
      "\t\tVietnamese Food\n",
      "\t\tWinery\n",
      "\tLand Features\n",
      "\t\tAtoll\n",
      "\t\tBasin\n",
      "\t\tButte\n",
      "\t\tCanyon\n",
      "\t\tCape\n",
      "\t\tCave\n",
      "\t\tCliff\n",
      "\t\tContinent\n",
      "\t\tDesert\n",
      "\t\tDune\n",
      "\t\tFlat\n",
      "\t\tForest\n",
      "\t\tGlacier\n",
      "\t\tGrassland\n",
      "\t\tHill\n",
      "\t\tIsland\n",
      "\t\tIsthmus\n",
      "\t\tLava\n",
      "\t\tMarsh\n",
      "\t\tMeadow\n",
      "\t\tMesa\n",
      "\t\tMountain\n",
      "\t\tMountain Range\n",
      "\t\tOasis\n",
      "\t\tOther Land Feature\n",
      "\t\tPeninsula\n",
      "\t\tPlain\n",
      "\t\tPlateau\n",
      "\t\tPoint\n",
      "\t\tRavine\n",
      "\t\tRidge\n",
      "\t\tRock\n",
      "\t\tScrubland\n",
      "\t\tSwamp\n",
      "\t\tValley\n",
      "\t\tVolcano\n",
      "\t\tWetland\n",
      "\tNightlife Spot\n",
      "\t\tBar or Pub\n",
      "\t\tDancing\n",
      "\t\tKaraoke\n",
      "\t\tNight Club\n",
      "\t\tNightlife\n",
      "\tParks and Outdoors\n",
      "\t\tBasketball\n",
      "\t\tBeach\n",
      "\t\tCampground\n",
      "\t\tDiving Center\n",
      "\t\tFishing\n",
      "\t\tGarden\n",
      "\t\tGolf Course\n",
      "\t\tGolf Driving Range\n",
      "\t\tHarbor\n",
      "\t\tHockey\n",
      "\t\tIce Skating Rink\n",
      "\t\tNature Reserve\n",
      "\t\tOther Parks and Outdoors\n",
      "\t\tPark\n",
      "\t\tRacetrack\n",
      "\t\tScenic Overlook\n",
      "\t\tShooting Range\n",
      "\t\tSki Lift\n",
      "\t\tSki Resort\n",
      "\t\tSoccer\n",
      "\t\tSports Center\n",
      "\t\tSports Field\n",
      "\t\tSwimming Pool\n",
      "\t\tTennis Court\n",
      "\t\tTrail\n",
      "\t\tWildlife Reserve\n",
      "\tProfessional and Other Places\n",
      "\t\tAshram\n",
      "\t\tBanquet Hall\n",
      "\t\tBorder Crossing\n",
      "\t\tBuilding\n",
      "\t\tBusiness Facility\n",
      "\t\tCemetery\n",
      "\t\tChurch\n",
      "\t\tCity Hall\n",
      "\t\tCivic Center\n",
      "\t\tConvention Center\n",
      "\t\tCourt House\n",
      "\t\tDentist\n",
      "\t\tDoctor\n",
      "\t\tEmbassy\n",
      "\t\tFactory\n",
      "\t\tFarm\n",
      "\t\tFire Station\n",
      "\t\tGovernment Office\n",
      "\t\tGurdwara\n",
      "\t\tHospital\n",
      "\t\tIndustrial Zone\n",
      "\t\tLibrary\n",
      "\t\tLivestock\n",
      "\t\tMedical Clinic\n",
      "\t\tMilitary Base\n",
      "\t\tMine\n",
      "\t\tMosque\n",
      "\t\tObservatory\n",
      "\t\tOil Facility\n",
      "\t\tOrchard\n",
      "\t\tOther Professional Place\n",
      "\t\tOther Religious Place\n",
      "\t\tPlace of Worship\n",
      "\t\tPlantation\n",
      "\t\tPolice Station\n",
      "\t\tPost Office\n",
      "\t\tPower Station\n",
      "\t\tPrison\n",
      "\t\tPublic Restroom\n",
      "\t\tRadio Station\n",
      "\t\tRanch\n",
      "\t\tRecreation Facility\n",
      "\t\tReligious Center\n",
      "\t\tScientific Research\n",
      "\t\tShrine\n",
      "\t\tStorage\n",
      "\t\tSynagogue\n",
      "\t\tTelecom\n",
      "\t\tTemple\n",
      "\t\tTower\n",
      "\t\tVeterinarian\n",
      "\t\tVineyard\n",
      "\t\tWarehouse\n",
      "\t\tWater Tank\n",
      "\t\tWater Treatment\n",
      "\tResidence\n",
      "\t\tEstate\n",
      "\t\tHouse\n",
      "\t\tNursing Home\n",
      "\t\tResidential Area\n",
      "\tShops and Service\n",
      "\t\tATM\n",
      "\t\tAuto Dealership\n",
      "\t\tAuto Maintenance\n",
      "\t\tAuto Parts\n",
      "\t\tBank\n",
      "\t\tBeauty Salon\n",
      "\t\tBookstore\n",
      "\t\tButcher\n",
      "\t\tCandy Store\n",
      "\t\tCar Wash\n",
      "\t\tChildrens Apparel\n",
      "\t\tClothing Store\n",
      "\t\tConsumer Electronics Store\n",
      "\t\tConvenience Store\n",
      "\t\tDelivery Service\n",
      "\t\tDepartment Store\n",
      "\t\tElectrical\n",
      "\t\tFitness Center\n",
      "\t\tFlea Market\n",
      "\t\tFood and Beverage Shop\n",
      "\t\tFootwear\n",
      "\t\tFurniture Store\n",
      "\t\tGas Station\n",
      "\t\tGrocery\n",
      "\t\tJewelry\n",
      "\t\tLaundry\n",
      "\t\tHome Improvement Store\n",
      "\t\tMarket\n",
      "\t\tMens Apparel\n",
      "\t\tMobile Phone Shop\n",
      "\t\tMotorcycle Shop\n",
      "\t\tOffice Supplies Store\n",
      "\t\tOptical\n",
      "\t\tOther Shops and Service\n",
      "\t\tPet Store\n",
      "\t\tPharmacy\n",
      "\t\tPlumbing\n",
      "\t\tRepair Services\n",
      "\t\tShopping Center\n",
      "\t\tSpa\n",
      "\t\tSpecialty Store\n",
      "\t\tSporting Goods Store\n",
      "\t\tTire Store\n",
      "\t\tToy Store\n",
      "\t\tUsed Car Dealership\n",
      "\t\tWholesale Warehouse\n",
      "\t\tWine and Liquor\n",
      "\t\tWomens Apparel\n",
      "\tTravel and Transport\n",
      "\t\tAirport\n",
      "\t\tBed and Breakfast\n",
      "\t\tBridge\n",
      "\t\tBus Station\n",
      "\t\tCargo Center\n",
      "\t\tDock\n",
      "\t\tFerry\n",
      "\t\tHeliport\n",
      "\t\tHighway Exit\n",
      "\t\tHostel\n",
      "\t\tHotel\n",
      "\t\tMarina\n",
      "\t\tMetro Station\n",
      "\t\tMotel\n",
      "\t\tOther Travel\n",
      "\t\tParking\n",
      "\t\tPier\n",
      "\t\tPort\n",
      "\t\tRental Cars\n",
      "\t\tRailyard\n",
      "\t\tResort\n",
      "\t\tRest Area\n",
      "\t\tTaxi\n",
      "\t\tTollbooth\n",
      "\t\tTourist Information\n",
      "\t\tTrain Station\n",
      "\t\tTransportation Service\n",
      "\t\tTravel Agency\n",
      "\t\tTruck Stop\n",
      "\t\tTunnel\n",
      "\t\tWeigh Station\n",
      "\tWater Features\n",
      "\t\tAbyssal Plain\n",
      "\t\tBay\n",
      "\t\tCanal\n",
      "\t\tChannel\n",
      "\t\tContinental Rise\n",
      "\t\tContinental Shelf\n",
      "\t\tContinental Slope\n",
      "\t\tCove\n",
      "\t\tDam\n",
      "\t\tDelta\n",
      "\t\tEstuary\n",
      "\t\tFjord\n",
      "\t\tFracture Zone\n",
      "\t\tGulf\n",
      "\t\tHot Spring\n",
      "\t\tIrrigation\n",
      "\t\tJetty\n",
      "\t\tLagoon\n",
      "\t\tLake\n",
      "\t\tOcean\n",
      "\t\tOcean Bank\n",
      "\t\tOceanic Basin\n",
      "\t\tOceanic Plateau\n",
      "\t\tOceanic Ridge\n",
      "\t\tOther Water Feature\n",
      "\t\tReef\n",
      "\t\tReservoir\n",
      "\t\tSea\n",
      "\t\tSeamount\n",
      "\t\tShoal\n",
      "\t\tSound\n",
      "\t\tSpring\n",
      "\t\tStrait\n",
      "\t\tStream\n",
      "\t\tSubmarine Canyon\n",
      "\t\tSubmarine Cliff\n",
      "\t\tSubmarine Fan\n",
      "\t\tSubmarine Hill\n",
      "\t\tSubmarine Terrace\n",
      "\t\tSubmarine Valley\n",
      "\t\tTrench\n",
      "\t\tUndersea Feature\n",
      "\t\tWaterfall\n",
      "\t\tWell\n",
      "\t\tWharf\n"
     ]
    }
   ],
   "source": [
    "def list_categories(obj, depth = 0):\n",
    "    for category in obj['categories']:\n",
    "        print('\\t'*depth  + category['name'])\n",
    "        if 'categories' in category:\n",
    "            list_categories(category, depth + 1)\n",
    "            \n",
    "list_categories(geocoder.properties)"
   ]
  },
  {
   "cell_type": "markdown",
   "metadata": {},
   "source": [
    "###  An example of finding restaurants around a given location\n",
    "\n",
    "Now let us find restaurants near Time Square (with a maximum of returned results set to 100, since there are way too many restaurants in the specified location)."
   ]
  },
  {
   "cell_type": "code",
   "execution_count": 44,
   "metadata": {},
   "outputs": [
    {
     "data": {
      "application/vnd.jupyter.widget-view+json": {
       "model_id": "5bc75baf8dbf47ccbece98b7d2663fed",
       "version_major": 2,
       "version_minor": 0
      },
      "text/plain": [
       "MapView(layout=Layout(height='400px', width='100%'))"
      ]
     },
     "metadata": {},
     "output_type": "display_data"
    },
    {
     "data": {
      "text/html": [
       "<div class=\"map-static-img-preview-e1e39b2d-dca5-4299-8711-f4b11cd38b0d\"><img src=\"\"></img></div>"
      ],
      "text/plain": [
       "<IPython.core.display.HTML object>"
      ]
     },
     "metadata": {},
     "output_type": "display_data"
    },
    {
     "data": {
      "text/html": [
       "<div class=\"map-html-embed-preview-e1e39b2d-dca5-4299-8711-f4b11cd38b0d\"></div>"
      ],
      "text/plain": [
       "<IPython.core.display.HTML object>"
      ]
     },
     "metadata": {},
     "output_type": "display_data"
    }
   ],
   "source": [
    "time_square = geocode(\"Time Square, NYC\")[0]\n",
    "\n",
    "map8 = gis.map(time_square)\n",
    "map8"
   ]
  },
  {
   "cell_type": "markdown",
   "metadata": {},
   "source": [
    "\n",
    "![image](https://github.com/ManushiM/Esri_Tutorials/assets/13968196/feacd58b-3cab-4bdd-8b0c-12087c8ee0b6)"
   ]
  },
  {
   "cell_type": "code",
   "execution_count": 45,
   "metadata": {},
   "outputs": [],
   "source": [
    "restaurants = geocode(None, time_square['extent'], category=\"Food\", max_locations=100)\n",
    "for restaurant in restaurants:\n",
    "    popup = PopupInfo(**{ \n",
    "                \"title\" : restaurant['address'], \n",
    "                \"description\" : \"Phone: \" + restaurant['attributes']['Phone']\n",
    "            })\n",
    "    map8.content.draw(restaurant['location'], popup)"
   ]
  },
  {
   "cell_type": "markdown",
   "metadata": {},
   "source": [
    "### How to refine the results by sub-category \n",
    "\n",
    "Still using the last request to search for restaurants near Time Square, we will further refine the search by sub-categories, e.g. Indian, Chinese, Burgers, Thai.. etc.\n",
    "\n",
    "The `category` parameter is used to specify a place or address type which can be used to filter results. The parameter supports input of `single category values` or `multiple comma-separated values`. Its usage (shown below) is applicable for all other categories that have sub-categories, besides food. For instance, `Education` would include `College`, `Fine Arts School`, `Other Education`, `School` and `Vocational School`. For more categories and sub-categories, please refer to <a href=\"https://developers.arcgis.com/rest/geocode/api-reference/geocoding-category-filtering.htm#GUID-20D9858C-C27C-4C9C-BE4C-1EDB36E04D62\">API Reference</a>."
   ]
  },
  {
   "cell_type": "code",
   "execution_count": 46,
   "metadata": {},
   "outputs": [
    {
     "data": {
      "application/vnd.jupyter.widget-view+json": {
       "model_id": "91e5c2c6e4834fbe9e0b7f64c4bbde9e",
       "version_major": 2,
       "version_minor": 0
      },
      "text/plain": [
       "MapView(layout=Layout(height='400px', width='100%'))"
      ]
     },
     "metadata": {},
     "output_type": "display_data"
    },
    {
     "data": {
      "text/html": [
       "<div class=\"map-static-img-preview-391f868d-e1a3-435c-81d8-ff2451178fcd\"><img src=\"\"></img></div>"
      ],
      "text/plain": [
       "<IPython.core.display.HTML object>"
      ]
     },
     "metadata": {},
     "output_type": "display_data"
    },
    {
     "data": {
      "text/html": [
       "<div class=\"map-html-embed-preview-391f868d-e1a3-435c-81d8-ff2451178fcd\"></div>"
      ],
      "text/plain": [
       "<IPython.core.display.HTML object>"
      ]
     },
     "metadata": {},
     "output_type": "display_data"
    }
   ],
   "source": [
    "map9 = gis.map(time_square)\n",
    "map9"
   ]
  },
  {
   "cell_type": "markdown",
   "metadata": {},
   "source": [
    "![image](https://github.com/ManushiM/Esri_Tutorials/assets/13968196/d18efeb7-d299-486f-8625-c3e01b3ed582)\n",
    "\n"
   ]
  },
  {
   "cell_type": "code",
   "execution_count": 47,
   "metadata": {},
   "outputs": [],
   "source": [
    "categories = \"Indian Food, Chinese Food, Burgers, Thai Food\""
   ]
  },
  {
   "cell_type": "code",
   "execution_count": 48,
   "metadata": {},
   "outputs": [],
   "source": [
    "chinese_symbol = SimpleMarkerSymbolEsriSMS(\n",
    "    style=SimpleMarkerSymbolStyle.esri_sms_square,\n",
    "    color=[115,100,76,55],\n",
    "    size=8,\n",
    "    angle=0,\n",
    "    xoffset=0,\n",
    "    yoffset=0,\n",
    "    outline=SimpleLineSymbolEsriSLS(\n",
    "        color=[152,230,0,255],\n",
    "        width=1\n",
    "    ))\n",
    "\n",
    "burgers_symbol = SimpleMarkerSymbolEsriSMS(\n",
    "    style=SimpleMarkerSymbolStyle.esri_sms_circle,\n",
    "    color=[15,0,176,255],\n",
    "    size=8,\n",
    "    angle=0,\n",
    "    xoffset=0,\n",
    "    yoffset=0,\n",
    "    outline=SimpleLineSymbolEsriSLS(\n",
    "        color=[152,230,0,255],\n",
    "        width=1\n",
    "    ))"
   ]
  },
  {
   "cell_type": "code",
   "execution_count": 49,
   "metadata": {},
   "outputs": [],
   "source": [
    "restaurants = geocode(None, time_square['extent'], category=categories, max_locations=100)\n",
    "\n",
    "for restaurant in restaurants:\n",
    "    popup = PopupInfo(**{ \n",
    "                \"title\" : restaurant['address'], \n",
    "                \"content\" : \"Phone: \" + restaurant['attributes']['Phone']\n",
    "            })\n",
    "    if restaurant['attributes']['Type'] == 'Thai Food':\n",
    "        map9.content.draw(restaurant['location'], popup, thai_symbol) # green square\n",
    "    elif restaurant['attributes']['Type'] == 'Indian Food':\n",
    "        map9.content.draw(restaurant['location'], popup, indian_symbol) # dark red circle\n",
    "    elif restaurant['attributes']['Type'] == 'Chinese Food':\n",
    "        map9.content.draw(restaurant['location'], popup, chinese_symbol) # mint square\n",
    "    else:\n",
    "        map9.content.draw(restaurant['location'], popup, burgers_symbol) # blue circle"
   ]
  },
  {
   "cell_type": "markdown",
   "metadata": {},
   "source": [
    "### Example of finding gas stations, bars, and other facilities near a given location\n",
    "\n",
    "The example below showcases how to find gas stations, bars, libraries, schools, parks, and grocery stores around a given location, based on the previous sample in which we look for hospitals near Esri Headquarter.\n",
    "\n",
    "#### Step 1. Create symbols for facilities\n",
    "\n",
    "(You can get your symbols using this online <a href=\"\">tool</a>.)"
   ]
  },
  {
   "cell_type": "code",
   "execution_count": 50,
   "metadata": {},
   "outputs": [],
   "source": [
    "symbols = {\"groceries\": PictureMarkerSymbolEsriPMS(**{\"angle\":0,\"xoffset\":0,\"yoffset\":0,\"type\":\"esriPMS\",\n",
    "                         \"url\":\"http://static.arcgis.com/images/Symbols/PeoplePlaces/Shopping.png\",\n",
    "                         \"contentType\":\"image/png\",\"width\":12,\"height\":12}),\n",
    "          \"coffee\": PictureMarkerSymbolEsriPMS(**{\"angle\":0,\"xoffset\":0,\"yoffset\":0,\"type\":\"esriPMS\",\n",
    "                     \"url\":\"http://static.arcgis.com/images/Symbols/PeoplePlaces/Coffee.png\",\n",
    "                     \"contentType\":\"image/png\",\"width\":12,\"height\":12}),\n",
    "          \"restaurant\": PictureMarkerSymbolEsriPMS(**{\"angle\":0,\"xoffset\":0,\"yoffset\":0,\"type\":\"esriPMS\",\n",
    "                         \"url\":\"http://static.arcgis.com/images/Symbols/PeoplePlaces/Dining.png\",\n",
    "                         \"contentType\":\"image/png\",\"width\":12,\"height\":12}),\n",
    "          \"bar\": PictureMarkerSymbolEsriPMS(**{\"angle\":0,\"xoffset\":0,\"yoffset\":0,\"type\":\"esriPMS\",\n",
    "                  \"url\":\"http://static.arcgis.com/images/Symbols/PeoplePlaces/Bar.png\",\n",
    "                  \"contentType\":\"image/png\",\"width\":12,\"height\":12}),\n",
    "          \"gas\": PictureMarkerSymbolEsriPMS(**{\"angle\":0,\"xoffset\":0,\"yoffset\":0,\"type\":\"esriPMS\",\n",
    "                  \"url\":\"http://static.arcgis.com/images/Symbols/Transportation/esriBusinessMarker_72.png\",\n",
    "                  \"contentType\":\"image/png\",\"width\":12,\"height\":12}),\n",
    "          \"park\": PictureMarkerSymbolEsriPMS(**{\"angle\":0,\"xoffset\":0,\"yoffset\":0,\"type\":\"esriPMS\",\n",
    "                      \"url\":\"http://static.arcgis.com/images/Symbols/OutdoorRecreation/RestArea.png\",\n",
    "                      \"contentType\":\"image/png\",\"width\":10,\"height\":10}),\n",
    "          \"school\": PictureMarkerSymbolEsriPMS(**{\"angle\":0,\"xoffset\":0,\"yoffset\":0,\"type\":\"esriPMS\",\n",
    "                     \"url\":\"http://static.arcgis.com/images/Symbols/PeoplePlaces/Note.png\",\n",
    "                     \"contentType\":\"image/png\",\"width\":10,\"height\":10}),\n",
    "          \"library\": PictureMarkerSymbolEsriPMS(**{\"angle\":0,\"xoffset\":0,\"yoffset\":0,\"type\":\"esriPMS\",\n",
    "                      \"url\":\"http://static.arcgis.com/images/Symbols/PeoplePlaces/LiveShow.png\",\n",
    "                      \"contentType\":\"image/png\",\"width\":12,\"height\":12})}"
   ]
  },
  {
   "cell_type": "code",
   "execution_count": 51,
   "metadata": {},
   "outputs": [
    {
     "data": {
      "text/plain": [
       "['groceries',\n",
       " 'coffee',\n",
       " 'restaurant',\n",
       " 'bar',\n",
       " 'gas',\n",
       " 'park',\n",
       " 'school',\n",
       " 'library']"
      ]
     },
     "execution_count": 51,
     "metadata": {},
     "output_type": "execute_result"
    }
   ],
   "source": [
    "list(symbols.keys()) "
   ]
  },
  {
   "cell_type": "markdown",
   "metadata": {},
   "source": [
    "#### Step 2. Define your own geocode function\n",
    "\n",
    "Next, let's define a function to use the ArcGIS Geocoding service in search of facilities around the Esri Headquarter, based on the kind of facilities (e.g. groceries) you are looking for:"
   ]
  },
  {
   "cell_type": "code",
   "execution_count": 52,
   "metadata": {},
   "outputs": [],
   "source": [
    "def search_and_map(in_map, kind=\"groceries\"):\n",
    "    per_kind = geocode(kind, search_extent=search_area_extent, \n",
    "                       max_locations=20, as_featureset=True)\n",
    "    neighborhood_data_dict[kind] = []\n",
    "\n",
    "    for place in per_kind:\n",
    "        popup=PopupInfo(**{\"title\" : place.attributes['PlaceName'], \n",
    "               \"description\" : place.attributes['Place_addr']})\n",
    "        in_map.content.draw(place.geometry, symbol=symbols[kind], popup=popup)\n",
    "        neighborhood_data_dict[kind].append(place.attributes['PlaceName'])"
   ]
  },
  {
   "cell_type": "markdown",
   "metadata": {},
   "source": [
    "Now, we are ready to loop through the list of facility types and perform geocoding for each kind, then map the results with the customized symbols:"
   ]
  },
  {
   "cell_type": "code",
   "execution_count": 53,
   "metadata": {},
   "outputs": [
    {
     "data": {
      "application/vnd.jupyter.widget-view+json": {
       "model_id": "c2634b4c1ee94acebd2fad7346b26841",
       "version_major": 2,
       "version_minor": 0
      },
      "text/plain": [
       "MapView(jupyter_target='notebook', layout=Layout(height='400px', width='100%'), ready=True)"
      ]
     },
     "metadata": {},
     "output_type": "display_data"
    },
    {
     "data": {
      "text/html": [
       "<div class=\"map-static-img-preview-cd60c093-3fae-4314-89b8-0afee0e229a5\"><img src=\"\"></img></div>"
      ],
      "text/plain": [
       "<IPython.core.display.HTML object>"
      ]
     },
     "metadata": {},
     "output_type": "display_data"
    },
    {
     "data": {
      "text/html": [
       "<div class=\"map-html-embed-preview-cd60c093-3fae-4314-89b8-0afee0e229a5\"></div>"
      ],
      "text/plain": [
       "<IPython.core.display.HTML object>"
      ]
     },
     "metadata": {},
     "output_type": "display_data"
    }
   ],
   "source": [
    "map7"
   ]
  },
  {
   "attachments": {},
   "cell_type": "markdown",
   "metadata": {},
   "source": [
    "![image](https://github.com/ManushiM/Esri_Tutorials/assets/13968196/fa1ed13a-30f8-4261-a816-4ba9c9f36120)\n"
   ]
  },
  {
   "cell_type": "code",
   "execution_count": null,
   "metadata": {},
   "outputs": [],
   "source": [
    "map7.zoom = 13"
   ]
  },
  {
   "cell_type": "code",
   "execution_count": 54,
   "metadata": {},
   "outputs": [],
   "source": [
    "for kind in list(symbols.keys()) :\n",
    "    search_and_map(map7, kind)"
   ]
  },
  {
   "cell_type": "markdown",
   "metadata": {},
   "source": [
    "#### Step 3. Tabularize the results\n",
    "\n",
    "Last but not least, let's present the results in a table:"
   ]
  },
  {
   "cell_type": "code",
   "execution_count": 55,
   "metadata": {},
   "outputs": [
    {
     "data": {
      "text/html": [
       "<div>\n",
       "<style scoped>\n",
       "    .dataframe tbody tr th:only-of-type {\n",
       "        vertical-align: middle;\n",
       "    }\n",
       "\n",
       "    .dataframe tbody tr th {\n",
       "        vertical-align: top;\n",
       "    }\n",
       "\n",
       "    .dataframe thead th {\n",
       "        text-align: right;\n",
       "    }\n",
       "</style>\n",
       "<table border=\"1\" class=\"dataframe\">\n",
       "  <thead>\n",
       "    <tr style=\"text-align: right;\">\n",
       "      <th></th>\n",
       "      <th>hospitals</th>\n",
       "      <th>distance</th>\n",
       "      <th>groceries</th>\n",
       "      <th>coffee</th>\n",
       "      <th>restaurant</th>\n",
       "      <th>bar</th>\n",
       "      <th>gas</th>\n",
       "      <th>park</th>\n",
       "      <th>school</th>\n",
       "      <th>library</th>\n",
       "    </tr>\n",
       "  </thead>\n",
       "  <tbody>\n",
       "    <tr>\n",
       "      <th>0</th>\n",
       "      <td>St Bernardine Medical Center</td>\n",
       "      <td>0.112609</td>\n",
       "      <td>E D M Supermarket</td>\n",
       "      <td>Starbucks</td>\n",
       "      <td>SJL tacos</td>\n",
       "      <td>The Brandin' Iron Country Nightclub</td>\n",
       "      <td>Mobil</td>\n",
       "      <td>Meadowbrook Fields</td>\n",
       "      <td>Public Safety Academy</td>\n",
       "      <td>Howard Rowe Public Library</td>\n",
       "    </tr>\n",
       "    <tr>\n",
       "      <th>1</th>\n",
       "      <td>St Bernardine Medical Center-ER</td>\n",
       "      <td>0.113013</td>\n",
       "      <td>Food 4 Less</td>\n",
       "      <td>Starbucks</td>\n",
       "      <td>Ala Eh Ihaw Ihaw</td>\n",
       "      <td>Arrowhead Country Club</td>\n",
       "      <td>Golden Petroleum</td>\n",
       "      <td>Meadowbrook Park</td>\n",
       "      <td>Victoria Elementary School</td>\n",
       "      <td>San Bernardino County Library</td>\n",
       "    </tr>\n",
       "    <tr>\n",
       "      <th>2</th>\n",
       "      <td>Redlands Community Hospital</td>\n",
       "      <td>0.021213</td>\n",
       "      <td>S M Seafood &amp; Asian Market</td>\n",
       "      <td>Starbucks</td>\n",
       "      <td>Mu</td>\n",
       "      <td>Dingers Sports Bar and Grill</td>\n",
       "      <td>Chevron</td>\n",
       "      <td>Seccombe Lake</td>\n",
       "      <td>La Petite Academy</td>\n",
       "      <td>Country Law Library</td>\n",
       "    </tr>\n",
       "    <tr>\n",
       "      <th>3</th>\n",
       "      <td>Redlands Community Hospital-ER</td>\n",
       "      <td>0.021671</td>\n",
       "      <td>Shop Rite No 3 Market</td>\n",
       "      <td>Starbucks</td>\n",
       "      <td>Breakfast Shack</td>\n",
       "      <td>Sportspage</td>\n",
       "      <td>Chevron Extra Mile</td>\n",
       "      <td>Palm Park</td>\n",
       "      <td>Crafton Elementary School</td>\n",
       "      <td>Coddington Library</td>\n",
       "    </tr>\n",
       "    <tr>\n",
       "      <th>4</th>\n",
       "      <td>Loma Linda University Medical Center</td>\n",
       "      <td>0.06784</td>\n",
       "      <td>Stater Bros. Markets</td>\n",
       "      <td>Starbucks</td>\n",
       "      <td>The Royal Falconer Pub &amp; Restaurant</td>\n",
       "      <td>Trenia's Bed</td>\n",
       "      <td>ARCO</td>\n",
       "      <td>Perris Hill Park</td>\n",
       "      <td>Hope Christian Elementary School</td>\n",
       "      <td>Norman Feldheym Central Library</td>\n",
       "    </tr>\n",
       "    <tr>\n",
       "      <th>5</th>\n",
       "      <td>Loma Linda University Medical Center-ER</td>\n",
       "      <td>0.067209</td>\n",
       "      <td>Rocky Market</td>\n",
       "      <td>Starbucks</td>\n",
       "      <td>Caprice Cafe</td>\n",
       "      <td>Gold Ball Billiards</td>\n",
       "      <td>ARCO</td>\n",
       "      <td>Mill Park</td>\n",
       "      <td>Franklin Elementary School</td>\n",
       "      <td>San Bernardino Public Library</td>\n",
       "    </tr>\n",
       "    <tr>\n",
       "      <th>6</th>\n",
       "      <td>None</td>\n",
       "      <td>None</td>\n",
       "      <td>Mother's Nutritional Centers</td>\n",
       "      <td>Starbucks</td>\n",
       "      <td>Don Orange Tacos</td>\n",
       "      <td>Pool Club</td>\n",
       "      <td>California Tool &amp; Welding Supply</td>\n",
       "      <td>Redlands Sports Park</td>\n",
       "      <td>Tender Care for Kids</td>\n",
       "      <td>AK Smiley Public Library</td>\n",
       "    </tr>\n",
       "    <tr>\n",
       "      <th>7</th>\n",
       "      <td>None</td>\n",
       "      <td>None</td>\n",
       "      <td>Ninety Nine Njr Outlet</td>\n",
       "      <td>Starbucks</td>\n",
       "      <td>The Gourmet Pizza Shoppe</td>\n",
       "      <td>South Side Saloon</td>\n",
       "      <td>Shell Oil</td>\n",
       "      <td>Sylvan Park</td>\n",
       "      <td>Target Community Schools</td>\n",
       "      <td>Highland Branch Library</td>\n",
       "    </tr>\n",
       "    <tr>\n",
       "      <th>8</th>\n",
       "      <td>None</td>\n",
       "      <td>None</td>\n",
       "      <td>Cardenas Markets</td>\n",
       "      <td>Starbucks</td>\n",
       "      <td>The State</td>\n",
       "      <td>Taker Over Tuesdays</td>\n",
       "      <td>ARCO</td>\n",
       "      <td>Community Park</td>\n",
       "      <td>Lugonia Elementary School</td>\n",
       "      <td>Loma Linda Branch Library</td>\n",
       "    </tr>\n",
       "    <tr>\n",
       "      <th>9</th>\n",
       "      <td>None</td>\n",
       "      <td>None</td>\n",
       "      <td>Gate City Beverage Bear Trucking</td>\n",
       "      <td>The Coffee Bean &amp; Tea Leaf</td>\n",
       "      <td>Darby's American Cantina</td>\n",
       "      <td>La Luna</td>\n",
       "      <td>Valero Energy</td>\n",
       "      <td>Israel Beal Park</td>\n",
       "      <td>Judson &amp; Brown Elementary School</td>\n",
       "      <td>A K Smiley Public Library</td>\n",
       "    </tr>\n",
       "    <tr>\n",
       "      <th>10</th>\n",
       "      <td>None</td>\n",
       "      <td>None</td>\n",
       "      <td>La Surtidora Cash &amp; Carry</td>\n",
       "      <td>Starbucks</td>\n",
       "      <td>Downtown Redlands</td>\n",
       "      <td>The Blue Swing</td>\n",
       "      <td>Chevron</td>\n",
       "      <td>Crafton Park</td>\n",
       "      <td>Clement Middle School</td>\n",
       "      <td>Armacost Library</td>\n",
       "    </tr>\n",
       "    <tr>\n",
       "      <th>11</th>\n",
       "      <td>None</td>\n",
       "      <td>None</td>\n",
       "      <td>Design Checkstands</td>\n",
       "      <td>Starbucks</td>\n",
       "      <td>Redlands Oyster Cult</td>\n",
       "      <td>Ahalena Hookah Lounge</td>\n",
       "      <td>Food'n Fuel</td>\n",
       "      <td>Redlands Dog Park</td>\n",
       "      <td>Ahrens Child Care Center</td>\n",
       "      <td>Division Two Library California State Court of...</td>\n",
       "    </tr>\n",
       "    <tr>\n",
       "      <th>12</th>\n",
       "      <td>None</td>\n",
       "      <td>None</td>\n",
       "      <td>Cott Beverages USA</td>\n",
       "      <td>Starbucks</td>\n",
       "      <td>McDuff's</td>\n",
       "      <td>Gotham</td>\n",
       "      <td>Costco Gasoline</td>\n",
       "      <td>Ford Park</td>\n",
       "      <td>Target Community School</td>\n",
       "      <td>Rowe Branch San Bernardino Public Library</td>\n",
       "    </tr>\n",
       "    <tr>\n",
       "      <th>13</th>\n",
       "      <td>None</td>\n",
       "      <td>None</td>\n",
       "      <td>Interstate Brands</td>\n",
       "      <td>Starbucks</td>\n",
       "      <td>Ilegal 1895</td>\n",
       "      <td>Y Lounge</td>\n",
       "      <td>ARCO</td>\n",
       "      <td>Prospect Park</td>\n",
       "      <td>Redlands Christian School</td>\n",
       "      <td>San Bernardino County Library</td>\n",
       "    </tr>\n",
       "    <tr>\n",
       "      <th>14</th>\n",
       "      <td>None</td>\n",
       "      <td>None</td>\n",
       "      <td>ALDI</td>\n",
       "      <td>Starbucks</td>\n",
       "      <td>Tokyo Restaurant</td>\n",
       "      <td>The Finish Line Bar</td>\n",
       "      <td>7-Eleven Fuel</td>\n",
       "      <td>Smiley Park</td>\n",
       "      <td>Redlands High School</td>\n",
       "      <td>San Bernardino Public Library</td>\n",
       "    </tr>\n",
       "    <tr>\n",
       "      <th>15</th>\n",
       "      <td>None</td>\n",
       "      <td>None</td>\n",
       "      <td>Rudolph Foods West</td>\n",
       "      <td>Starbucks</td>\n",
       "      <td>Burgertown USA</td>\n",
       "      <td>Kluddes Kitchen Bar</td>\n",
       "      <td>Sam's Club Fuel Center</td>\n",
       "      <td>Caroline Park</td>\n",
       "      <td>Kids Land Academy</td>\n",
       "      <td>San Bernardino Sun Library</td>\n",
       "    </tr>\n",
       "    <tr>\n",
       "      <th>16</th>\n",
       "      <td>None</td>\n",
       "      <td>None</td>\n",
       "      <td>Summit Cash &amp; Carry</td>\n",
       "      <td>Starbucks</td>\n",
       "      <td>Twin Dragon</td>\n",
       "      <td>Redlands Country Club</td>\n",
       "      <td>Orange Show Food &amp; Fuel</td>\n",
       "      <td>Brookside Park</td>\n",
       "      <td>Moore Middle School</td>\n",
       "      <td>San Bernardino County Law Library</td>\n",
       "    </tr>\n",
       "    <tr>\n",
       "      <th>17</th>\n",
       "      <td>None</td>\n",
       "      <td>None</td>\n",
       "      <td>A K Food Store</td>\n",
       "      <td>Boba Tea House</td>\n",
       "      <td>Carolyn's Cafe</td>\n",
       "      <td>Vault Martini Bar &amp; Grill</td>\n",
       "      <td>World</td>\n",
       "      <td>Jennie Davis Park</td>\n",
       "      <td>Kingsbury Elementary School</td>\n",
       "      <td>Del E Webb Memorial Library</td>\n",
       "    </tr>\n",
       "    <tr>\n",
       "      <th>18</th>\n",
       "      <td>None</td>\n",
       "      <td>None</td>\n",
       "      <td>Todd's Market</td>\n",
       "      <td>Starbucks</td>\n",
       "      <td>Brew N Chew</td>\n",
       "      <td>Tartan of Redlands</td>\n",
       "      <td>Orange Show Food Mart</td>\n",
       "      <td>Texonia Park</td>\n",
       "      <td>Cope Middle School</td>\n",
       "      <td>Loma Linda Branch San Bernardino County Library</td>\n",
       "    </tr>\n",
       "    <tr>\n",
       "      <th>19</th>\n",
       "      <td>None</td>\n",
       "      <td>None</td>\n",
       "      <td>Inland Empire Cash &amp; Carry</td>\n",
       "      <td>Starbucks</td>\n",
       "      <td>The District</td>\n",
       "      <td>Copehouse Bar &amp; Bistro</td>\n",
       "      <td>Orange Oil</td>\n",
       "      <td>East Highlands Ranch Community Park</td>\n",
       "      <td>Smiley Elementary School</td>\n",
       "      <td>Highland Branch San Bernardino County Library</td>\n",
       "    </tr>\n",
       "  </tbody>\n",
       "</table>\n",
       "</div>"
      ],
      "text/plain": [
       "                                  hospitals  distance  \\\n",
       "0              St Bernardine Medical Center  0.112609   \n",
       "1           St Bernardine Medical Center-ER  0.113013   \n",
       "2               Redlands Community Hospital  0.021213   \n",
       "3            Redlands Community Hospital-ER  0.021671   \n",
       "4      Loma Linda University Medical Center   0.06784   \n",
       "5   Loma Linda University Medical Center-ER  0.067209   \n",
       "6                                      None      None   \n",
       "7                                      None      None   \n",
       "8                                      None      None   \n",
       "9                                      None      None   \n",
       "10                                     None      None   \n",
       "11                                     None      None   \n",
       "12                                     None      None   \n",
       "13                                     None      None   \n",
       "14                                     None      None   \n",
       "15                                     None      None   \n",
       "16                                     None      None   \n",
       "17                                     None      None   \n",
       "18                                     None      None   \n",
       "19                                     None      None   \n",
       "\n",
       "                           groceries                      coffee  \\\n",
       "0                  E D M Supermarket                   Starbucks   \n",
       "1                        Food 4 Less                   Starbucks   \n",
       "2         S M Seafood & Asian Market                   Starbucks   \n",
       "3              Shop Rite No 3 Market                   Starbucks   \n",
       "4               Stater Bros. Markets                   Starbucks   \n",
       "5                       Rocky Market                   Starbucks   \n",
       "6       Mother's Nutritional Centers                   Starbucks   \n",
       "7             Ninety Nine Njr Outlet                   Starbucks   \n",
       "8                   Cardenas Markets                   Starbucks   \n",
       "9   Gate City Beverage Bear Trucking  The Coffee Bean & Tea Leaf   \n",
       "10         La Surtidora Cash & Carry                   Starbucks   \n",
       "11                Design Checkstands                   Starbucks   \n",
       "12                Cott Beverages USA                   Starbucks   \n",
       "13                 Interstate Brands                   Starbucks   \n",
       "14                              ALDI                   Starbucks   \n",
       "15                Rudolph Foods West                   Starbucks   \n",
       "16               Summit Cash & Carry                   Starbucks   \n",
       "17                    A K Food Store              Boba Tea House   \n",
       "18                     Todd's Market                   Starbucks   \n",
       "19        Inland Empire Cash & Carry                   Starbucks   \n",
       "\n",
       "                             restaurant                                  bar  \\\n",
       "0                             SJL tacos  The Brandin' Iron Country Nightclub   \n",
       "1                      Ala Eh Ihaw Ihaw               Arrowhead Country Club   \n",
       "2                                    Mu         Dingers Sports Bar and Grill   \n",
       "3                       Breakfast Shack                           Sportspage   \n",
       "4   The Royal Falconer Pub & Restaurant                         Trenia's Bed   \n",
       "5                          Caprice Cafe                  Gold Ball Billiards   \n",
       "6                      Don Orange Tacos                            Pool Club   \n",
       "7              The Gourmet Pizza Shoppe                    South Side Saloon   \n",
       "8                             The State                  Taker Over Tuesdays   \n",
       "9              Darby's American Cantina                              La Luna   \n",
       "10                    Downtown Redlands                       The Blue Swing   \n",
       "11                 Redlands Oyster Cult                Ahalena Hookah Lounge   \n",
       "12                             McDuff's                               Gotham   \n",
       "13                          Ilegal 1895                             Y Lounge   \n",
       "14                     Tokyo Restaurant                  The Finish Line Bar   \n",
       "15                       Burgertown USA                  Kluddes Kitchen Bar   \n",
       "16                          Twin Dragon                Redlands Country Club   \n",
       "17                       Carolyn's Cafe            Vault Martini Bar & Grill   \n",
       "18                          Brew N Chew                   Tartan of Redlands   \n",
       "19                         The District               Copehouse Bar & Bistro   \n",
       "\n",
       "                                 gas                                 park  \\\n",
       "0                              Mobil                   Meadowbrook Fields   \n",
       "1                   Golden Petroleum                     Meadowbrook Park   \n",
       "2                            Chevron                        Seccombe Lake   \n",
       "3                 Chevron Extra Mile                            Palm Park   \n",
       "4                               ARCO                     Perris Hill Park   \n",
       "5                               ARCO                            Mill Park   \n",
       "6   California Tool & Welding Supply                 Redlands Sports Park   \n",
       "7                          Shell Oil                          Sylvan Park   \n",
       "8                               ARCO                       Community Park   \n",
       "9                      Valero Energy                     Israel Beal Park   \n",
       "10                           Chevron                         Crafton Park   \n",
       "11                       Food'n Fuel                    Redlands Dog Park   \n",
       "12                   Costco Gasoline                            Ford Park   \n",
       "13                              ARCO                        Prospect Park   \n",
       "14                     7-Eleven Fuel                          Smiley Park   \n",
       "15            Sam's Club Fuel Center                        Caroline Park   \n",
       "16           Orange Show Food & Fuel                       Brookside Park   \n",
       "17                             World                    Jennie Davis Park   \n",
       "18             Orange Show Food Mart                         Texonia Park   \n",
       "19                        Orange Oil  East Highlands Ranch Community Park   \n",
       "\n",
       "                              school  \\\n",
       "0              Public Safety Academy   \n",
       "1         Victoria Elementary School   \n",
       "2                  La Petite Academy   \n",
       "3          Crafton Elementary School   \n",
       "4   Hope Christian Elementary School   \n",
       "5         Franklin Elementary School   \n",
       "6               Tender Care for Kids   \n",
       "7           Target Community Schools   \n",
       "8          Lugonia Elementary School   \n",
       "9   Judson & Brown Elementary School   \n",
       "10             Clement Middle School   \n",
       "11          Ahrens Child Care Center   \n",
       "12           Target Community School   \n",
       "13         Redlands Christian School   \n",
       "14              Redlands High School   \n",
       "15                 Kids Land Academy   \n",
       "16               Moore Middle School   \n",
       "17       Kingsbury Elementary School   \n",
       "18                Cope Middle School   \n",
       "19          Smiley Elementary School   \n",
       "\n",
       "                                              library  \n",
       "0                          Howard Rowe Public Library  \n",
       "1                       San Bernardino County Library  \n",
       "2                                 Country Law Library  \n",
       "3                                  Coddington Library  \n",
       "4                     Norman Feldheym Central Library  \n",
       "5                       San Bernardino Public Library  \n",
       "6                            AK Smiley Public Library  \n",
       "7                             Highland Branch Library  \n",
       "8                           Loma Linda Branch Library  \n",
       "9                           A K Smiley Public Library  \n",
       "10                                   Armacost Library  \n",
       "11  Division Two Library California State Court of...  \n",
       "12          Rowe Branch San Bernardino Public Library  \n",
       "13                      San Bernardino County Library  \n",
       "14                      San Bernardino Public Library  \n",
       "15                         San Bernardino Sun Library  \n",
       "16                  San Bernardino County Law Library  \n",
       "17                        Del E Webb Memorial Library  \n",
       "18    Loma Linda Branch San Bernardino County Library  \n",
       "19      Highland Branch San Bernardino County Library  "
      ]
     },
     "execution_count": 55,
     "metadata": {},
     "output_type": "execute_result"
    }
   ],
   "source": [
    "neighborhood_df = pd.DataFrame.from_dict(neighborhood_data_dict, orient='index')\n",
    "neighborhood_df = neighborhood_df.transpose()\n",
    "neighborhood_df"
   ]
  },
  {
   "cell_type": "code",
   "execution_count": 56,
   "metadata": {},
   "outputs": [
    {
     "data": {
      "text/plain": [
       "Text(0.5, 1.0, 'Facilities within 10 miles of Esri')"
      ]
     },
     "execution_count": 56,
     "metadata": {},
     "output_type": "execute_result"
    },
    {
     "data": {
      "image/png": "[encoded data removed]",
      "text/plain": [
       "<Figure size 640x480 with 1 Axes>"
      ]
     },
     "metadata": {},
     "output_type": "display_data"
    }
   ],
   "source": [
    "neighborhood_df.count().plot(kind='bar')\n",
    "plt.title('Facilities within 10 miles of Esri')"
   ]
  },
  {
   "cell_type": "markdown",
   "metadata": {},
   "source": [
    "## Conclusions"
   ]
  },
  {
   "cell_type": "markdown",
   "metadata": {},
   "source": [
    "In Part 3, we have walked through different user scenarios using the `category` parameter within the `geocode()` function to search and filter geocoded results. In the last scenario, because home buyers often look for access to facilities, such as groceries, restaurants, schools, emergency, and health care, near prospective neighborhoods when shortlisting properties, we used the `geocoding` module to search for these facilities, build a table for each property, and map the deliverables."
   ]
  }
 ],
 "metadata": {
  "kernelspec": {
   "display_name": "Python 3 (ipykernel)",
   "language": "python",
   "name": "python3"
  },
  "language_info": {
   "codemirror_mode": {
    "name": "ipython",
    "version": 3
   },
   "file_extension": ".py",
   "mimetype": "text/x-python",
   "name": "python",
   "nbconvert_exporter": "python",
   "pygments_lexer": "ipython3",
   "version": "3.9.11"
  },
  "toc": {
   "base_numbering": 1,
   "nav_menu": {},
   "number_sections": false,
   "sideBar": true,
   "skip_h1_title": true,
   "title_cell": "Table of Contents",
   "title_sidebar": "Contents",
   "toc_cell": true,
   "toc_position": {},
   "toc_section_display": true,
   "toc_window_display": false
  },
  "varInspector": {
   "cols": {
    "lenName": 16,
    "lenType": 16,
    "lenVar": 40
   },
   "kernels_config": {
    "python": {
     "delete_cmd_postfix": "",
     "delete_cmd_prefix": "del ",
     "library": "var_list.py",
     "varRefreshCmd": "print(var_dic_list())"
    },
    "r": {
     "delete_cmd_postfix": ") ",
     "delete_cmd_prefix": "rm(",
     "library": "var_list.r",
     "varRefreshCmd": "cat(var_dic_list()) "
    }
   },
   "types_to_exclude": [
    "module",
    "function",
    "builtin_function_or_method",
    "instance",
    "_Feature"
   ],
   "window_display": false
  }
 },
 "nbformat": 4,
 "nbformat_minor": 2
}
